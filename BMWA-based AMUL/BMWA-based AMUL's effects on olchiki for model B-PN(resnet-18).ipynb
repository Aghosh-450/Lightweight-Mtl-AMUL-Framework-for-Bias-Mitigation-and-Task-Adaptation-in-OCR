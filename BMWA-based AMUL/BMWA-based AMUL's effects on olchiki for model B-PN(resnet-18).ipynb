{
 "cells": [
  {
   "cell_type": "code",
   "execution_count": 2,
   "metadata": {},
   "outputs": [],
   "source": [
    "import torch\n",
    "import torch.nn as nn\n",
    "# !pip install easyfsl\n",
    "import torch\n",
    "from torch import nn, optim\n",
    "from torch.utils.data import DataLoader\n",
    "from torchvision import transforms\n",
    "from torchvision.datasets import Omniglot\n",
    "from torchvision.models import resnet18\n",
    "from tqdm import tqdm\n",
    "\n",
    "from easyfsl.samplers import TaskSampler\n",
    "from easyfsl.utils import plot_images, sliding_average\n",
    "\n",
    "class PrototypicalNetworks_dynamic_query(nn.Module):\n",
    "    def __init__(self, backbone: nn.Module):\n",
    "        super(PrototypicalNetworks_dynamic_query, self).__init__()\n",
    "        self.backbone = backbone\n",
    "\n",
    "    def forward(\n",
    "        self,\n",
    "        support_images,\n",
    "        support_labels,\n",
    "        query_images: torch.Tensor,\n",
    "    ) -> torch.Tensor:\n",
    "        \"\"\"\n",
    "        Predict query labels using labeled support images.\n",
    "        \"\"\"\n",
    "        num_classes=len(list(support_labels))\n",
    "        prototypes = []\n",
    "        for class_label in range(num_classes):\n",
    "            # print(type(support_images[class_label]),torch.cat(support_images[class_label].shape)\n",
    "            support_images_eachclass=(support_images[class_label])\n",
    "            # print(\"kk\", support_images_eachclass.shape)\n",
    "            class_features = self.backbone(support_images_eachclass.to(device))  # Select features for the current class\n",
    "            class_prototype = class_features.mean(dim=0)  # Compute the mean along the batch dimension\n",
    "            prototypes.append(class_prototype)\n",
    "        prototypes = torch.stack(prototypes)\n",
    "\n",
    "\n",
    "        distances=[]\n",
    "        for each_query_class in query_images:\n",
    "\n",
    "          query_features = self.backbone(each_query_class)\n",
    "\n",
    "          # Compute the distance between query features and prototypes\n",
    "          distance = torch.cdist(query_features, prototypes)\n",
    "          distances.append(-distance)\n",
    "\n",
    "        # print(distances.shape)\n",
    "\n",
    "        return distances\n"
   ]
  },
  {
   "cell_type": "code",
   "execution_count": 1,
   "metadata": {},
   "outputs": [],
   "source": [
    "root_path = '/home/asufian/Desktop/output_olchiki/olchiki'"
   ]
  },
  {
   "cell_type": "code",
   "execution_count": 3,
   "metadata": {},
   "outputs": [],
   "source": [
    "import os\n",
    "import random\n",
    "from collections import defaultdict\n",
    "from PIL import Image, ImageOps\n",
    "import torch\n",
    "from torch.utils.data import Dataset, DataLoader\n",
    "from torchvision import transforms\n",
    "\n",
    "class PrototypicalOmniglotDataset(Dataset):\n",
    "    def __init__(self, root, num_classes=1623, n_shot=5, n_query=10, transform=None):\n",
    "        self.root = root\n",
    "        self.num_classes = num_classes\n",
    "        self.n_shot = n_shot\n",
    "        self.n_query = n_query\n",
    "        self.transform = transform\n",
    "        self.samples_by_label = defaultdict(list)\n",
    "        self.all_imgs = {}\n",
    "        self.classes = []\n",
    "\n",
    "        # Common image file extensions\n",
    "        image_extensions = ['.jpg', '.jpeg', '.png', '.bmp', '.gif', '.tiff', '.webp']\n",
    "\n",
    "        # Organize data into classes and image paths\n",
    "        for alphabet in os.listdir(self.root):\n",
    "            alphabet_path = os.path.join(self.root, alphabet)\n",
    "            if not os.path.isdir(alphabet_path):\n",
    "                continue\n",
    "\n",
    "            for char_class in os.listdir(alphabet_path):\n",
    "                char_class_path = os.path.join(alphabet_path, char_class)\n",
    "\n",
    "                # Skip if the entry is not a directory\n",
    "                if not os.path.isdir(char_class_path):\n",
    "                    continue\n",
    "\n",
    "                all_images = []\n",
    "                for img_name in sorted(os.listdir(char_class_path)):\n",
    "                    img_path = os.path.join(char_class_path, img_name)\n",
    "\n",
    "                    # Check if it's a file with a recognized image extension\n",
    "                    if os.path.isfile(img_path) and any(img_name.lower().endswith(ext) for ext in image_extensions):\n",
    "                        all_images.append(img_path)\n",
    "\n",
    "                if all_images:\n",
    "                    char_class_name = f\"{alphabet}_{char_class}\"\n",
    "                    self.samples_by_label[char_class_name] = list(range(len(all_images)))\n",
    "                    self.all_imgs[char_class_name] = all_images\n",
    "                    self.classes.append(char_class_name)\n",
    "                    # print(char_class_name)\n",
    "\n",
    "    def transform_image(self, raw_img):\n",
    "        img = raw_img#ImageOps.invert(raw_img)\n",
    "        if self.transform is not None:\n",
    "            # print(self.transform)\n",
    "            img = self.transform(img)\n",
    "        # print(img.shape)\n",
    "        return img\n",
    "\n",
    "    def __getitem__(self, selected_classes,selected_supports):#\n",
    "        # selected_classes = random.sample(self.classes, self.num_classes)\n",
    "        class_indices = [self.samples_by_label[each_cls] for each_cls in selected_classes]\n",
    "        # print(\"selected_classes: \",selected_classes)\n",
    "        support_set = []\n",
    "        query_set = []\n",
    "        label_id = 0\n",
    "        qs=[]\n",
    "        ko=0\n",
    "        ghj=[]\n",
    "        for idx_set in class_indices:\n",
    "            # Creating support set\n",
    "            selected_support =selected_supports[ko]# random.sample(idx_set, self.n_shot)\n",
    "            ko=ko+1\n",
    "            ghj.append(selected_support)\n",
    "            # print(\"selected_support images: \", ghj)\n",
    "            support_images = [self.transform_image(Image.open(self.all_imgs[selected_classes[label_id]][each]).convert('L')) for each in selected_support]\n",
    "\n",
    "            # Creating query set\n",
    "            selected_query = [item for item in idx_set if item not in selected_support]\n",
    "            query_images = [self.transform_image(Image.open(self.all_imgs[selected_classes[label_id]][each]).convert('L')) for each in selected_query]\n",
    "            support_set.append((support_images, [label_id for _ in range(self.n_shot)]))\n",
    "            # print(\"aaaaaaaaaa\",label_id)\n",
    "            query_set.append((query_images,  [label_id for _ in range(len(selected_query))]))\n",
    "\n",
    "            label_id += 1\n",
    "            # qs= [item for item in a for _ in range(self.n_query)]\n",
    "        return support_set, query_set\n",
    "\n",
    "    def __len__(self):\n",
    "        return 10\n",
    "\n",
    "# Set up the transformations\n",
    "transform = transforms.Compose([\n",
    "    transforms.Grayscale(num_output_channels=1),  # Convert to grayscale\n",
    "    transforms.ToTensor(),\n",
    "])\n",
    "\n",
    "# Set up the SiameseOmniglotDataset\n",
    "# Training == evaluation\n",
    "# root_path = './assamese'\n",
    "num_classes = 5  # Set the desired number of classes per episode\n",
    "n_shot = 5\n",
    "n_query = 10\n",
    "\n",
    "PrototypicalOmniglotDatasetLoader = PrototypicalOmniglotDataset(root=root_path, num_classes=num_classes, n_shot=n_shot, n_query=n_query, transform=transform)\n"
   ]
  },
  {
   "cell_type": "code",
   "execution_count": 4,
   "metadata": {},
   "outputs": [],
   "source": [
    "import torch\n",
    "import torch.nn as nn\n",
    "\n",
    "class PrototypicalNetworks_dynamic_query(nn.Module):\n",
    "    def __init__(self, backbone: nn.Module):\n",
    "        super(PrototypicalNetworks_dynamic_query, self).__init__()\n",
    "        self.backbone = backbone\n",
    "\n",
    "    def forward(\n",
    "        self,\n",
    "        support_images,\n",
    "        support_labels,\n",
    "        query_images: torch.Tensor,\n",
    "    ) -> torch.Tensor:\n",
    "        \"\"\"\n",
    "        Predict query labels using labeled support images.\n",
    "        \"\"\"\n",
    "        num_classes=len(list(support_labels))\n",
    "        prototypes = []\n",
    "        for class_label in range(num_classes):\n",
    "            # print(type(support_images[class_label]),torch.cat(support_images[class_label].shape)\n",
    "            support_images_eachclass=(support_images[class_label])\n",
    "            # print(\"kk\", support_images_eachclass.shape)\n",
    "            class_features = self.backbone(support_images_eachclass.to(device))  # Select features for the current class\n",
    "            class_prototype = class_features.mean(dim=0)  # Compute the mean along the batch dimension\n",
    "            prototypes.append(class_prototype)\n",
    "        prototypes = torch.stack(prototypes)\n",
    "\n",
    "\n",
    "        distances=[]\n",
    "        for each_query_class in query_images:\n",
    "\n",
    "          query_features = self.backbone(each_query_class)\n",
    "\n",
    "          # Compute the distance between query features and prototypes\n",
    "          distance = torch.cdist(query_features, prototypes)\n",
    "          distances.append(-distance)\n",
    "\n",
    "        # print(distances.shape)\n",
    "\n",
    "        return distances\n"
   ]
  },
  {
   "cell_type": "code",
   "execution_count": 5,
   "metadata": {},
   "outputs": [],
   "source": [
    "class PrototypicalNetworks33(nn.Module):\n",
    "    def __init__(self, backbone: nn.Module):\n",
    "        super(PrototypicalNetworks33, self).__init__()\n",
    "        self.backbone = backbone\n",
    "\n",
    "    def forward(\n",
    "        self,\n",
    "        support_images,\n",
    "        support_labels,\n",
    "        query_images: torch.Tensor,\n",
    "    ) -> torch.Tensor:\n",
    "        num_classes = len(support_labels)\n",
    "        prototypes = []\n",
    "        for class_label in range(num_classes):\n",
    "            support_images_eachclass = support_images[class_label]\n",
    "            class_features = torch.stack([self.backbone(each.unsqueeze(0)) for each in support_images_eachclass])\n",
    "            prototype_bymean = class_features.mean(dim=0)\n",
    "            # print(prototype_bymean.shape)\n",
    "            prototypes.append(prototype_bymean)\n",
    "\n",
    "        query_features = torch.stack([self.backbone(each.unsqueeze(0)) for each in query_images])\n",
    "        # print(query_features.shape,query_features[0].shape,torch.stack(prototypes).shape,torch.stack(prototypes)[0].shape)\n",
    "        # distances = -torch.cdist(query_features, torch.stack(prototypes))\n",
    "        distances = []  # Initialize list to store distances\n",
    "        prototypes=torch.stack(prototypes)\n",
    "        for each_query_feature in query_features:\n",
    "            d = torch.cdist(prototypes, each_query_feature)  # Compute distances\n",
    "            distances.append(d.squeeze())  # Remove singleton dimension and store\n",
    "            # print(d.shape)  # Output: [5, 1], shape of each distance matrix\n",
    "\n",
    "        distances = torch.stack(distances)\n",
    "\n",
    "        return -distances\n"
   ]
  },
  {
   "cell_type": "code",
   "execution_count": 6,
   "metadata": {},
   "outputs": [],
   "source": []
  },
  {
   "cell_type": "code",
   "execution_count": 45,
   "metadata": {},
   "outputs": [],
   "source": [
    "import pandas as pd\n",
    "import os\n",
    "import csv\n",
    "def save_in_csv(cls,flnm,conf_matrix, acciuracy,precision_overall, recall_overall, f_betas):\n",
    "  with open(flnm, 'w', newline='') as csvfile:\n",
    "      writer = csv.writer(csvfile)\n",
    "      headers=['Accuracy', 'Precision', 'Recall']\n",
    "      beta=-5\n",
    "      values=[]\n",
    "      values.append(acciuracy)\n",
    "      values.append(precision_overall)\n",
    "      values.append(recall_overall)\n",
    "      for each in f_betas:\n",
    "              headers.append('F-betas (' +str(beta)+' )')\n",
    "              beta=beta+1\n",
    "              values.append(each)\n",
    "\n",
    "    # Write confusion matrix\n",
    "      writer.writerow(['used Class:'])\n",
    "      writer.writerows([cls])\n",
    "      writer.writerow([])\n",
    "      writer.writerow([])\n",
    "      writer.writerow(['Confusion Matrix'])\n",
    "      writer.writerows(conf_matrix)\n",
    "      writer.writerow([])\n",
    "      writer.writerow([])  # Add an empty row for separation\n",
    "\n",
    "      # Write metrics\n",
    "\n",
    "      writer.writerow(headers)\n",
    "      writer.writerow(values)\n",
    "\n",
    "\n",
    "  # print(\"Metrics have been written to 'metrics.csv' file.\")\n",
    "def save_in_text_file(msg,cls, flnm, conf_matrix, accuracy, precision_overall, recall_overall, f_betas):\n",
    "    with open(flnm, 'a') as textfile:\n",
    "        textfile.write(str(\"\\n\\n\\n                                 \"+msg))\n",
    "        textfile.write(\"\\n\\n\\n\")\n",
    "        textfile.write(\"used Class:\\n\")\n",
    "        textfile.write(str(cls) + \"\\n\\n\")\n",
    "\n",
    "        textfile.write(\"Confusion Matrix:\\n\")\n",
    "        for row in conf_matrix:\n",
    "            textfile.write(' '.join([str(elem) for elem in row]) + \"\\n\")\n",
    "        textfile.write(\"\\n\")\n",
    "\n",
    "        textfile.write(\"Metrics:\\n\")\n",
    "        textfile.write(\"Accuracy: {}\\n\".format(accuracy))\n",
    "        textfile.write(\"Precision: {}\\n\".format(precision_overall))\n",
    "        textfile.write(\"Recall: {}\\n\".format(recall_overall))\n",
    "\n",
    "        beta = -5\n",
    "        for f_beta in f_betas:\n",
    "            textfile.write(\"F-betas ({}): {}\\n\".format(beta, f_beta))\n",
    "            beta += 1\n",
    "\n",
    "    # print(\"Metrics have been written to '{}' file.\".format(flnm))\n",
    "\n",
    "def save_in_excel_final(msg, cls, flnm, conf_matrix, accuracy, precision_overall, recall_overall):\n",
    "    data = {\n",
    "        \"Used Class\": [cls],\n",
    "        \"Used support images idx\": [msg],\n",
    "        \"Confusion Matrix\": [conf_matrix],\n",
    "        \"Accuracy\": [accuracy],\n",
    "        \"Precision\": [precision_overall],\n",
    "        \"Recall\": [recall_overall]\n",
    "    }\n",
    "    # for i, f_beta in enumerate(f_betas):\n",
    "    #     data[f\"F-beta ({i - 5})\"] = [f_beta]\n",
    "\n",
    "    df_new = pd.DataFrame(data)\n",
    "    df_new = df_new.transpose()  # Transpose the DataFrame\n",
    "\n",
    "    if os.path.exists(flnm):\n",
    "        df_existing = pd.read_excel(flnm, index_col=0)  # Read existing file\n",
    "        df_combined = pd.concat([df_existing, df_new], axis=1)  # Concatenate along columns\n",
    "        df_combined.to_excel(flnm)  # Write to Excel\n",
    "    else:\n",
    "        df_new.to_excel(flnm)  # Write new DataFrame to Excel\n",
    "\n",
    "    # print(\"Metrics have been written to '{}' file.\".format(flnm))\n"
   ]
  },
  {
   "cell_type": "code",
   "execution_count": 8,
   "metadata": {},
   "outputs": [],
   "source": [
    "import torch\n",
    "import torch.nn as nn\n",
    "import torchvision.models as models\n",
    "import torch\n",
    "import torch.nn as nn\n",
    "import torch.hub\n",
    "\n",
    "# Define a modified version of DenseNet169 with dropout after each convolutional layer\n",
    "class DenseNet169WithDropout(nn.Module):\n",
    "    def __init__(self,modell, pretrained=False, dr=0.4):\n",
    "        super(DenseNet169WithDropout, self).__init__()\n",
    "        self.densenet169 = torch.hub.load('pytorch/vision:v0.10.0', modell, pretrained=pretrained)\n",
    "        self.dropout = nn.Dropout(p=dr)  # Dropout with probability 0.5\n",
    "\n",
    "        # Modify each dense block to include dropout after each convolutional layer\n",
    "        for name, module in self.densenet169.features.named_children():\n",
    "            if isinstance(module, nn.Sequential):\n",
    "                for sub_name, sub_module in module.named_children():\n",
    "                    if isinstance(sub_module, nn.Conv2d):\n",
    "                        setattr(module, sub_name, nn.Sequential(sub_module, self.dropout))\n",
    "\n",
    "    def forward(self, x):\n",
    "        return self.densenet169(x)\n",
    "\n",
    "# Instantiate the modified DenseNet169 model with dropout\n",
    "# convolutional_network_with_dropout = DenseNet169WithDropout(modell='resnet18',pretrained=False,dr=0.4)\n",
    "\n",
    "# Example usage:\n",
    "# output = convolutional_network_with_dropout(input_tensor)\n",
    "\n",
    "class ResNet18WithDropout(nn.Module):\n",
    "    def __init__(self, pretrained=False, dr=0.4):\n",
    "        super(ResNet18WithDropout, self).__init__()\n",
    "        self.resnet18 = models.resnet18(pretrained=pretrained)\n",
    "        self.dropout = nn.Dropout(p=dr)\n",
    "\n",
    "        # Modify each residual block to include dropout after each convolutional layer\n",
    "        for name, module in self.resnet18.named_children():\n",
    "            if isinstance(module, nn.Sequential):\n",
    "                for sub_name, sub_module in module.named_children():\n",
    "                    if isinstance(sub_module, nn.Conv2d):\n",
    "                        setattr(module, sub_name, nn.Sequential(sub_module, self.dropout))\n",
    "\n",
    "    def forward(self, x):\n",
    "        return self.resnet18(x)\n",
    "\n",
    "# Instantiate the modified ResNet18 model with dropout\n",
    "# convolutional_network_with_dropout = ResNet18WithDropout(pretrained=False, dr=0.4)\n"
   ]
  },
  {
   "cell_type": "code",
   "execution_count": 102,
   "metadata": {},
   "outputs": [],
   "source": [
    "clss_5=[\n",
    "  ['Olchiki_2_80_c28', 'Olchiki_2_80_c1', 'Olchiki_2_80_c25', 'Olchiki_2_80_c17', 'Olchiki_2_80_c21'],\n",
    "    ['Olchiki_2_80_c17', 'Olchiki_2_80_c5', 'Olchiki_2_80_c20', 'Olchiki_2_80_c16', 'Olchiki_2_80_c6'],\n",
    "    ['Olchiki_2_80_c7', 'Olchiki_2_80_c30', 'Olchiki_2_80_c17', 'Olchiki_2_80_c15', 'Olchiki_2_80_c21'],\n",
    "    ['Olchiki_2_80_c11', 'Olchiki_2_80_c26', 'Olchiki_2_80_c7', 'Olchiki_2_80_c25', 'Olchiki_2_80_c4'],\n",
    "    ['Olchiki_2_80_c26', 'Olchiki_2_80_c9', 'Olchiki_2_80_c18', 'Olchiki_2_80_c1', 'Olchiki_2_80_c22'],\n",
    "    ['Olchiki_2_80_c30', 'Olchiki_2_80_c29', 'Olchiki_2_80_c11', 'Olchiki_2_80_c6', 'Olchiki_2_80_c19'],\n",
    "    ['Olchiki_2_80_c26', 'Olchiki_2_80_c3', 'Olchiki_2_80_c15', 'Olchiki_2_80_c5', 'Olchiki_2_80_c7'],\n",
    "    ['Olchiki_2_80_c10', 'Olchiki_2_80_c26', 'Olchiki_2_80_c28', 'Olchiki_2_80_c29', 'Olchiki_2_80_c25'],\n",
    "    ['Olchiki_2_80_c18', 'Olchiki_2_80_c11', 'Olchiki_2_80_c1', 'Olchiki_2_80_c24', 'Olchiki_2_80_c29'],\n",
    "    ['Olchiki_2_80_c13', 'Olchiki_2_80_c14', 'Olchiki_2_80_c16', 'Olchiki_2_80_c24', 'Olchiki_2_80_c12'],\n",
    "     ['Olchiki_2_80_c16', 'Olchiki_2_80_c22', 'Olchiki_2_80_c20', 'Olchiki_2_80_c26', 'Olchiki_2_80_c12'],\n",
    "    ['Olchiki_2_80_c3', 'Olchiki_2_80_c22', 'Olchiki_2_80_c18', 'Olchiki_2_80_c26', 'Olchiki_2_80_c19']\n",
    "\n",
    "     ]\n",
    "\n",
    "clss_support_imagesss_1_shot=[\n",
    " [[24], [37], [78], [65], [37]],\n",
    "    [[15], [4], [39], [60], [23]],\n",
    "    [[1], [48], [29], [76], [27]],\n",
    "    [[71], [58], [35], [24], [3]],\n",
    "    [[23], [40], [58], [35], [56]],\n",
    "    [[66], [63], [23], [72], [64]],\n",
    "    [[21], [45], [37], [8], [63]],\n",
    "     [[9], [19], [67], [51], [20]],\n",
    "    [[55], [34], [7], [10], [9]],\n",
    "    [[47], [25], [48], [10], [54]],\n",
    "    [[13], [33], [72], [51], [20]],\n",
    "    [[59], [5], [52], [70], [1]]\n",
    "\n",
    "\n",
    "\n",
    "\n",
    "\n",
    "\n",
    "\n",
    "]\n",
    "\n",
    "clss_support_imagesss_5_shot=[\n",
    "    [[24, 17, 73, 60, 18], [37, 38, 24, 4, 19], [78, 45, 50, 6, 14], [65, 62, 41, 33, 55], [37, 27, 61, 65, 10]],\n",
    "    [[15, 30, 21, 54, 33], [4, 62, 38, 57, 34], [39, 8, 75, 37, 10], [60, 67, 14, 10, 53], [23, 42, 44, 1, 5]],\n",
    "    [[1, 63, 32, 67, 5], [48, 63, 25, 13, 22], [29, 17, 12, 30, 75], [76, 49, 24, 18, 30], [27, 56, 4, 41, 66]],\n",
    "    [[71, 78, 55, 22, 61], [58, 70, 0, 54, 17], [35, 31, 26, 16, 30], [24, 35, 49, 32, 30], [3, 50, 39, 18, 22]],\n",
    "    [[23, 2, 59, 68, 74], [40, 14, 4, 3, 45], [58, 51, 31, 45, 75], [35, 46, 61, 55, 79], [56, 15, 64, 33, 14]],\n",
    "    [[66, 61, 29, 8, 39], [63, 77, 69, 36, 72], [23, 56, 28, 52, 31], [72, 20, 41, 73, 49], [64, 48, 53, 13, 8]],\n",
    "    [[21, 17, 74, 56, 30], [45, 37, 63, 30, 8], [37, 42, 5, 52, 50], [8, 46, 52, 36, 20], [63, 26, 43, 8, 17]],\n",
    "    [[9, 47, 25, 35, 46], [19, 27, 35, 34, 40], [67, 4, 16, 61, 60], [51, 53, 4, 32, 20], [20, 40, 25, 29, 39]],\n",
    "    [[55, 44, 15, 8, 62], [34, 9, 3, 16, 46], [7, 76, 52, 3, 16], [10, 11, 34, 37, 77], [9, 41, 67, 6, 36]],\n",
    "     [[47, 49, 72, 36, 9], [25, 41, 71, 40, 57], [48, 24, 27, 41, 52], [10, 34, 11, 59, 7], [54, 55, 11, 64, 16]],\n",
    "    [[13, 35, 18, 11, 42], [33, 50, 28, 27, 53], [72, 58, 64, 33, 73], [51, 13, 31, 66, 58], [20, 54, 45, 27, 0]],\n",
    "     [[59, 73, 74, 0, 47], [5, 20, 27, 3, 71], [52, 0, 2, 38, 60], [70, 1, 30, 64, 6], [1, 34, 8, 56, 49]],\n",
    "]\n",
    "\n",
    "clss_support_imagesss_10_shot=[\n",
    "    [[24, 17, 73, 60, 18, 68, 23, 39, 41, 20], [37, 38, 24, 4, 19, 3, 17, 35, 66, 56], [78, 45, 50, 6, 14, 54, 32, 25, 13, 55], [65, 62, 41, 33, 55, 25, 51, 74, 48, 35], [37, 27, 61, 65, 10, 63, 70, 24, 57, 8]],\n",
    "    [[15, 30, 21, 54, 33, 28, 48, 36, 9, 37], [4, 62, 38, 57, 34, 59, 32, 9, 3, 68], [39, 8, 75, 37, 10, 27, 79, 26, 13, 6], [60, 67, 14, 10, 53, 71, 33, 42, 1, 0], [23, 42, 44, 1, 5, 32, 46, 36, 13, 34]],\n",
    "    [[1, 63, 32, 67, 5, 74, 43, 51, 68, 8], [48, 63, 25, 13, 22, 4, 1, 68, 62, 38], [29, 17, 12, 30, 75, 31, 67, 11, 68, 37], [76, 49, 24, 18, 30, 6, 38, 26, 15, 7], [27, 56, 4, 41, 66, 28, 73, 50, 29, 26]],\n",
    "     [[71, 78, 55, 22, 61, 69, 79, 33, 24, 13], [58, 70, 0, 54, 17, 62, 47, 7, 60, 78], [35, 31, 26, 16, 30, 2, 44, 14, 10, 12], [24, 35, 49, 32, 30, 48, 14, 72, 29, 68], [3, 50, 39, 18, 22, 63, 25, 77, 47, 26]],\n",
    "     [[23, 2, 59, 68, 74, 36, 41, 45, 72, 27], [40, 14, 4, 3, 45, 53, 21, 77, 13, 12], [58, 51, 31, 45, 75, 9, 44, 40, 61, 19], [35, 46, 61, 55, 79, 12, 76, 0, 47, 33], [56, 15, 64, 33, 14, 2, 26, 25, 8, 20]],\n",
    "    [[66, 61, 29, 8, 39, 53, 59, 10, 25, 24], [63, 77, 69, 36, 72, 15, 60, 58, 16, 49], [23, 56, 28, 52, 31, 2, 6, 21, 7, 68], [72, 20, 41, 73, 49, 35, 21, 34, 29, 50], [64, 48, 53, 13, 8, 54, 11, 9, 29, 65]],\n",
    "    [[21, 17, 74, 56, 30, 23, 64, 38, 67, 1], [45, 37, 63, 30, 8, 12, 70, 4, 1, 75], [37, 42, 5, 52, 50, 76, 43, 46, 22, 61], [8, 46, 52, 36, 20, 5, 1, 31, 45, 67], [63, 26, 43, 8, 17, 22, 16, 54, 70, 32]],\n",
    "     [[9, 47, 25, 35, 46, 7, 2, 27, 49, 69], [19, 27, 35, 34, 40, 53, 16, 7, 64, 45], [67, 4, 16, 61, 60, 79, 12, 70, 63, 42], [51, 53, 4, 32, 20, 1, 68, 15, 55, 10], [20, 40, 25, 29, 39, 43, 3, 23, 38, 0]],\n",
    "    [[55, 44, 15, 8, 62, 77, 58, 71, 69, 30], [34, 9, 3, 16, 46, 2, 8, 76, 23, 32], [7, 76, 52, 3, 16, 28, 19, 18, 41, 26], [10, 11, 34, 37, 77, 48, 9, 23, 4, 71], [9, 41, 67, 6, 36, 56, 49, 10, 53, 45]],\n",
    "    [[47, 49, 72, 36, 9, 61, 56, 40, 30, 68], [25, 41, 71, 40, 57, 44, 37, 45, 56, 3], [48, 24, 27, 41, 52, 58, 32, 74, 9, 12], [10, 34, 11, 59, 7, 30, 24, 68, 69, 20], [54, 55, 11, 64, 16, 51, 33, 22, 39, 35]],\n",
    "     [[13, 35, 18, 11, 42, 77, 59, 66, 71, 74], [33, 50, 28, 27, 53, 70, 0, 22, 2, 52], [72, 58, 64, 33, 73, 54, 78, 53, 49, 22], [51, 13, 31, 66, 58, 4, 18, 44, 32, 52], [20, 54, 45, 27, 0, 39, 77, 9, 67, 29]],\n",
    "    [[59, 73, 74, 0, 47, 42, 39, 19, 48, 75], [5, 20, 27, 3, 71, 10, 19, 22, 11, 25], [52, 0, 2, 38, 60, 6, 25, 37, 46, 18], [70, 1, 30, 64, 6, 29, 50, 8, 34, 38], [1, 34, 8, 56, 49, 53, 36, 5, 15, 32]],\n",
    "\n",
    "]\n",
    "\n"
   ]
  },
  {
   "cell_type": "code",
   "execution_count": 49,
   "metadata": {},
   "outputs": [],
   "source": [
    "device = torch.device(\"cuda\" if torch.cuda.is_available() else \"cpu\")\n",
    "\n",
    "\n",
    "\n",
    "\n",
    "convolutional_network_with_dropout = ResNet18WithDropout(pretrained=False, dr=0.0)\n",
    "convolutional_network_with_dropout.fc = nn.Flatten()\n",
    "model_own = PrototypicalNetworks_dynamic_query(convolutional_network_with_dropout).to(device)\n",
    "model_own.load_state_dict(torch.load('/home/asufian/Desktop/output_olchiki/code/modelr_res18.pth',map_location=torch.device('cpu')))\n",
    "\n",
    "\n",
    "convolutional_network_with_dropout = ResNet18WithDropout(pretrained=False, dr=0.0)\n",
    "convolutional_network_with_dropout.fc = nn.Flatten()\n",
    "model_own_1_shot = PrototypicalNetworks_dynamic_query(convolutional_network_with_dropout).to(device)\n",
    "model_own_1_shot.load_state_dict(torch.load('/home/asufian/Desktop/output_olchiki/code/olchiki/ressecondary/model_1/model_B_olchiki_1-shot_res.pth',map_location=torch.device('cpu')))\n",
    "\n",
    "torch.save(model_own_1_shot.state_dict(), 'model_mu_path.pt')\n",
    "torch.save(model_own.state_dict(), 'model_own_path.pt')"
   ]
  },
  {
   "cell_type": "code",
   "execution_count": 25,
   "metadata": {},
   "outputs": [],
   "source": [
    "# !ls '/home/asufian/Desktop/output_olchiki/'"
   ]
  },
  {
   "cell_type": "code",
   "execution_count": 50,
   "metadata": {},
   "outputs": [],
   "source": [
    "criterion = nn.CrossEntropyLoss()"
   ]
  },
  {
   "cell_type": "code",
   "execution_count": 51,
   "metadata": {},
   "outputs": [
    {
     "name": "stdout",
     "output_type": "stream",
     "text": [
      "Generated random values - num_classes: 5, n_shot: 1, n_query: 14\n"
     ]
    }
   ],
   "source": [
    "import torch\n",
    "import torchvision.transforms as transforms\n",
    "from torch.utils.data import DataLoader\n",
    "from sklearn.metrics import confusion_matrix\n",
    "import numpy as np\n",
    "import numpy as np\n",
    "import pandas as pd\n",
    "# root_path = '/content/assamese'\n",
    "num_classes = 5\n",
    "n_shot = 1\n",
    "n_query = 14\n",
    "device = torch.device(\"cuda\" if torch.cuda.is_available() else \"cpu\")\n",
    "transformt_ugh = transforms.Compose([\n",
    "    transforms.Resize((64, 64)),\n",
    "    # transforms.RandomResizedCrop(64),  # Randomly crop the image and resize to 224x224\n",
    "    # transforms.RandomHorizontalFlip(),  # Randomly flip the image horizontally\n",
    "    # transforms.ColorJitter(brightness=0.4, contrast=0.4, saturation=0.4, hue=0.1),  # Randomly adjust brightness, contrast, saturation, and hue\n",
    "    # transforms.RandomAffine(degrees=0, translate=(0, 0), scale=(0.9, 1.1), shear=0),  # Random zoom (scaling)\n",
    "    transforms.Grayscale(num_output_channels=3),\n",
    "    transforms.ToTensor(),  # Convert PIL Image to PyTorch Tensor\n",
    "    transforms.Normalize([0.485, 0.456, 0.406], [0.229, 0.224, 0.225])  # Normalize the image with ImageNet statistics\n",
    "])\n",
    "\n",
    "print(f\"Generated random values - num_classes: {num_classes}, n_shot: {n_shot}, n_query: {n_query}\")\n",
    "\n",
    "test_loader = PrototypicalOmniglotDataset(root=root_path, num_classes=num_classes, n_shot=n_shot, n_query=20, transform=transformt_ugh)\n",
    "\n",
    "def evaluate2(fname,data_loader, model, criterion=nn.CrossEntropyLoss()):\n",
    "    total_predictions = 0\n",
    "    correct_predictions = 0\n",
    "    total_loss = 0.0\n",
    "    accuracy = 0\n",
    "    datta = \"\"\n",
    "    model.eval()\n",
    "    tlv_cls=0\n",
    "    ttla=0\n",
    "    ttlac=0\n",
    "    precision=0\n",
    "    recall=0\n",
    "    \n",
    "    with torch.no_grad():\n",
    "        for episode in range(len(clss_5)):\n",
    "            support_set, query_set = data_loader.__getitem__(clss_5[tlv_cls] , clss_support_imagesss_1_shot[tlv_cls])\n",
    "\n",
    "            # msg=\"\\n\\n       Way: \"+str(len(clss_5[tlv_cls]))+\"  Shot: \"+str(len(clss_support_imagesss_1_shot[tlv_cls][0]))    +\" \\n\\n\"\n",
    "            # msg=str(clss_5[tlv_cls])\n",
    "            clssa=str(clss_5[tlv_cls])\n",
    "            clss=str(clssa).replace(',',' ').replace('\\'',' ').replace('\\'',' ')\n",
    "            msg=str(clss_support_imagesss_1_shot[tlv_cls])\n",
    "            str(clss_5[tlv_cls])\n",
    "\n",
    "            tlv_cls+=1\n",
    "            # print(len(support_set),len(query_set))\n",
    "            support_set = [(torch.stack(images).to(device), label[0]) for images, label in support_set]\n",
    "            query_set = [(torch.stack(images).to(device), label) for images, label in query_set]\n",
    "\n",
    "            support_images, support_labels = zip(*support_set)\n",
    "\n",
    "            query_images, query_labels = zip(*query_set)\n",
    "\n",
    "            classification_scores = model(support_images, support_labels, query_images)\n",
    "            cortt = 0\n",
    "            totl = 0\n",
    "            confusion_mat=None\n",
    "            all_predicted_labels = []\n",
    "            all_actual_labels = []\n",
    "            # print(len(classification_scores),len(query_labels))\n",
    "            for ei in range(len(classification_scores)):\n",
    "                classification_scores_each_class = classification_scores[ei]\n",
    "                # print(classification_scores_each_class)\n",
    "                predicted_labels_eachclas = torch.argmax(classification_scores_each_class, dim=1)\n",
    "                pp = predicted_labels_eachclas.tolist()\n",
    "                act = query_labels[ei]\n",
    "                all_predicted_labels.extend(pp)\n",
    "                all_actual_labels.extend(act)\n",
    "                for iiii in range(len(pp)):\n",
    "                    if pp[iiii] == act[iiii]:\n",
    "                        cortt = cortt + 1\n",
    "                totl = totl + len(pp)\n",
    "                # print(len(act))\n",
    "            accuracy = cortt / totl\n",
    "            ttla+=1\n",
    "            ttlac+=accuracy\n",
    "            # print(cortt , totl,\"Validation Accuracy:              \", cortt / totl)\n",
    "            confusion_mat = confusion_matrix(all_actual_labels, all_predicted_labels)\n",
    "            # print(\"Confusion Matrix:\")\n",
    "            # print(confusion_mat)\n",
    "\n",
    "            # fname='./own35_mapi_5_way_1_shot'\n",
    "\n",
    "            precision_overall, recall_overall, f1ss= calculate_metrics_get_per(msg,confusion_mat,acciuracy=cortt / totl,cls=clss,flnm=fname)\n",
    "            precision=precision+precision_overall\n",
    "            recall=recall+recall_overall\n",
    "    print(\"---------------------->\",ttlac/ttla,precision/ttla ,recall/ttla)\n",
    "# %%%%%%%%%%%%%%%%%%%\n",
    "\n",
    "\n",
    "pp='/home/asufian/Desktop/output_olchiki/faltu'\n",
    "\n",
    "\n",
    "\n",
    "\n"
   ]
  },
  {
   "cell_type": "code",
   "execution_count": 52,
   "metadata": {},
   "outputs": [],
   "source": [
    "import numpy as np\n",
    "\n",
    "conf_matrix = np.array([[100, 0, 0, 0, 0],\n",
    "                        [0, 100, 0, 0, 0],\n",
    "                        [0, 0, 100, 0, 0],\n",
    "                        [0, 0, 0, 100, 0],\n",
    "                        [0, 0, 0, 0, 100]])\n",
    "\n",
    "def calculate_metrics_get_per(msg, conf_matrix,acciuracy, cls, flnm):\n",
    "    if conf_matrix.size == 0:\n",
    "        raise ValueError(\"Confusion matrix is empty!\")\n",
    "\n",
    "    metrics = []\n",
    "    for i in range(conf_matrix.shape[0]):\n",
    "        tp = conf_matrix[i, i]\n",
    "        fp = np.sum(conf_matrix[:, i]) - tp\n",
    "        fn = np.sum(conf_matrix[i, :]) - tp\n",
    "\n",
    "        precision = tp / (tp + fp) if (tp + fp) > 0 else 0\n",
    "        recall = tp / (tp + fn) if (tp + fn) > 0 else 0\n",
    "        f1 = 2 * (precision * recall) / (precision + recall) if (precision + recall) > 0 else 0\n",
    "\n",
    "        metrics.append((precision, recall, f1))\n",
    "\n",
    "    # Compute overall scores\n",
    "    precision_overall = np.mean([m[0] for m in metrics])\n",
    "    recall_overall = np.mean([m[1] for m in metrics])\n",
    "    f1_overall = np.mean([m[2] for m in metrics])\n",
    "\n",
    "    # Compute overall accuracy\n",
    "    total_samples = np.sum(conf_matrix)\n",
    "    correct_predictions = np.sum(np.diag(conf_matrix))\n",
    "    accuracy_overall = correct_predictions / total_samples if total_samples > 0 else 0\n",
    "    # print(accuracy_overall)\n",
    "\n",
    "    # Save results (Assuming these functions exist)\n",
    "    save_in_excel_final(msg, cls, flnm + \".xlsx\", conf_matrix, accuracy_overall, precision_overall, recall_overall)\n",
    "    # save_in_text_file(msg, cls, flnm + \".txt\", conf_matrix, accuracy_overall, precision_overall, recall_overall, f_betas)\n",
    "\n",
    "    return precision_overall, recall_overall, f1_overall\n",
    "\n",
    "\n",
    "# precision, recall, f_beta = calculate_metrics(conf_matrix)\n",
    "# print(f'Overall Metrics for beta={beta}:')\n",
    "# print(f'Overall Precision: {precision:.4f}')\n",
    "# print(f'Overall Recall: {recall:.4f}')\n",
    "# print(f'Overall F-beta ({f_beta}): ')\n",
    "# print()\n"
   ]
  },
  {
   "cell_type": "code",
   "execution_count": null,
   "metadata": {},
   "outputs": [],
   "source": [
    "\n"
   ]
  },
  {
   "cell_type": "code",
   "execution_count": 53,
   "metadata": {},
   "outputs": [],
   "source": [
    "\n",
    "\n",
    "def evaluate2(fname,data_loader, model, criterion=nn.CrossEntropyLoss()):\n",
    "    total_predictions = 0\n",
    "    correct_predictions = 0\n",
    "    total_loss = 0.0\n",
    "    accuracy = 0\n",
    "    datta = \"\"\n",
    "    model.eval()\n",
    "    tlv_cls=0\n",
    "    ttla=0\n",
    "    ttlal=[]\n",
    "    ttlac=0\n",
    "    precision=[]\n",
    "    recall=[]\n",
    "    \n",
    "    with torch.no_grad():\n",
    "        for episode in range(len(clss_5)):\n",
    "            support_set, query_set = data_loader.__getitem__(clss_5[tlv_cls] , clss_support_imagesss_1_shot[tlv_cls])\n",
    "\n",
    "           \n",
    "            clssa=str(clss_5[tlv_cls])\n",
    "            clss=str(clssa).replace(',',' ').replace('\\'',' ').replace('\\'',' ')\n",
    "            msg=str(clss_support_imagesss_1_shot[tlv_cls])\n",
    "            str(clss_5[tlv_cls])\n",
    "\n",
    "            tlv_cls+=1\n",
    "            # print(len(support_set),len(query_set))\n",
    "            support_set = [(torch.stack(images).to(device), label[0]) for images, label in support_set]\n",
    "            query_set = [(torch.stack(images).to(device), label) for images, label in query_set]\n",
    "\n",
    "            support_images, support_labels = zip(*support_set)\n",
    "\n",
    "            query_images, query_labels = zip(*query_set)\n",
    "\n",
    "            classification_scores = model(support_images, support_labels, query_images)\n",
    "            cortt = 0\n",
    "            totl = 0\n",
    "            confusion_mat=None\n",
    "            all_predicted_labels = []\n",
    "            all_actual_labels = []\n",
    "            # print(len(classification_scores),len(query_labels))\n",
    "            for ei in range(len(classification_scores)):\n",
    "                classification_scores_each_class = classification_scores[ei]\n",
    "                # print(classification_scores_each_class)\n",
    "                predicted_labels_eachclas = torch.argmax(classification_scores_each_class, dim=1)\n",
    "                pp = predicted_labels_eachclas.tolist()\n",
    "                act = query_labels[ei]\n",
    "                all_predicted_labels.extend(pp)\n",
    "                all_actual_labels.extend(act)\n",
    "                for iiii in range(len(pp)):\n",
    "                    if pp[iiii] == act[iiii]:\n",
    "                        cortt = cortt + 1\n",
    "                totl = totl + len(pp)\n",
    "                # print(len(act))\n",
    "            accuracy = cortt / totl\n",
    "            ttla+=1\n",
    "            ttlac+=accuracy\n",
    "            ttlal.append(accuracy)\n",
    "            # print(cortt , totl,\"Validation Accuracy:              \", cortt / totl)\n",
    "            confusion_mat = confusion_matrix(all_actual_labels, all_predicted_labels)\n",
    "            # print(\"Confusion Matrix:\")\n",
    "            # print(confusion_mat)\n",
    "\n",
    "            # fname='./own35_mapi_5_way_1_shot'\n",
    "\n",
    "            precision_overall, recall_overall, f1ss= calculate_metrics_get_per(msg,confusion_mat,acciuracy=cortt / totl,cls=clss,flnm=fname)\n",
    "            precision.append(precision_overall)\n",
    "            recall.append(recall_overall)\n",
    "    print(f\"---Accu-----pre----rec---------> {np.mean(ttlal):.4f} ± {np.std(ttlal, ddof=1):.4f}  \"\n",
    "      f\"{np.mean(precision):.4f} ± {np.std(precision, ddof=1):.4f}  \"\n",
    "      f\"{np.mean(recall):.4f} ± {np.std(recall, ddof=1):.4f}\")\n",
    "\n",
    "    # print(\"---Accu-----pre----rec---------->\",np.mean(ttlal),'±',np.std(ttlal, ddof=1), np.mean(precision),'±',np.std(precision, ddof=1),np.mean(precision),'±',np.std(precision, ddof=1),)\n",
    "# %%%%%%\n",
    "\n",
    "def evaluate3(fname,data_loader, model, criterion=nn.CrossEntropyLoss()):\n",
    "    total_predictions = 0\n",
    "    correct_predictions = 0\n",
    "    total_loss = 0.0\n",
    "    accuracy = 0\n",
    "    datta = \"\"\n",
    "    model.eval()\n",
    "    tlv_cls=0\n",
    "    ttla=0\n",
    "    ttlac=0\n",
    "    with torch.no_grad():\n",
    "        for episode in range(len(clss_5)):\n",
    "            support_set, query_set = data_loader.__getitem__(clss_5[tlv_cls] , clss_support_imagesss_1_shot[tlv_cls])\n",
    "\n",
    "            \n",
    "            clssa=str(clss_5[tlv_cls])\n",
    "            clss=str(clssa).replace(',',' ').replace('\\'',' ').replace('\\'',' ')\n",
    "            msg=str(clss_support_imagesss_1_shot[tlv_cls])\n",
    "            str(clss_5[tlv_cls])\n",
    "\n",
    "            tlv_cls+=1\n",
    "            # print(len(support_set),len(query_set))\n",
    "            support_set = [(torch.stack(images).to(device), label[0]) for images, label in support_set]\n",
    "            query_set = [(torch.stack(images).to(device), label) for images, label in query_set]\n",
    "\n",
    "            support_images, support_labels = zip(*support_set)\n",
    "\n",
    "            query_images, query_labels = zip(*query_set)\n",
    "\n",
    "            classification_scores = model(support_images, support_labels, query_images)\n",
    "            cortt = 0\n",
    "            totl = 0\n",
    "            confusion_mat=None\n",
    "            all_predicted_labels = []\n",
    "            all_actual_labels = []\n",
    "            # print(len(classification_scores),len(query_labels))\n",
    "            for ei in range(len(classification_scores)):\n",
    "                classification_scores_each_class = classification_scores[ei]\n",
    "                # print(classification_scores_each_class)\n",
    "                predicted_labels_eachclas = torch.argmax(classification_scores_each_class, dim=1)\n",
    "                pp = predicted_labels_eachclas.tolist()\n",
    "                act = query_labels[ei]\n",
    "                all_predicted_labels.extend(pp)\n",
    "                all_actual_labels.extend(act)\n",
    "                for iiii in range(len(pp)):\n",
    "                    if pp[iiii] == act[iiii]:\n",
    "                        cortt = cortt + 1\n",
    "                totl = totl + len(pp)\n",
    "                # print(len(act))\n",
    "            accuracy = cortt / totl\n",
    "            ttla+=1\n",
    "            ttlac+=accuracy\n",
    "            # print(cortt , totl,\"Validation Accuracy:              \", cortt / totl)\n",
    "            # confusion_mat = confusion_matrix(all_actual_labels, all_predicted_labels)\n",
    "            # print(\"Confusion Matrix:\")\n",
    "            # print(confusion_mat)\n",
    "\n",
    "            # fname='./own35_mapi_5_way_1_shot'\n",
    "\n",
    "            # calculate_metrics_get_per(msg,confusion_mat,acciuracy=cortt / totl,cls=clss,flnm=fname)\n",
    "\n",
    "    print(\"---------------------->\",ttlac/ttla)\n",
    "    return ttlac/ttla"
   ]
  },
  {
   "cell_type": "code",
   "execution_count": 54,
   "metadata": {},
   "outputs": [],
   "source": [
    "def update_model_weights2(model_a, model_b, conv_ratio=0.8, fc_ratio=0.8, bias_ratio=0.8):\n",
    "    \"\"\"Updates model_a's weights using a weighted combination of model_a and model_b.\"\"\"\n",
    "    for name, param in model_a.named_parameters():\n",
    "        if name in model_b.state_dict():\n",
    "            weight_b = model_b.state_dict()[name]\n",
    "            \n",
    "            if 'weight' in name:\n",
    "                # Separate conditions for convolutional and fully connected layers\n",
    "                if 'conv' in name:  # Convolutional layer weights\n",
    "                    # print('conv')\n",
    "                    param.data = conv_ratio * weight_b + (1 - conv_ratio) * param.data\n",
    "                elif 'fc' in name or 'linear' in name:  # Fully connected layer weights\n",
    "                    # print('fc')\n",
    "                    param.data = fc_ratio * weight_b + (1 - fc_ratio) * param.data\n",
    "            \n",
    "            elif 'bias' in name:\n",
    "                param.data = bias_ratio * weight_b + (1 - bias_ratio) * param.data"
   ]
  },
  {
   "cell_type": "code",
   "execution_count": 55,
   "metadata": {},
   "outputs": [],
   "source": [
    "import numpy as np\n",
    "import torch\n",
    "import matplotlib.pyplot as plt\n",
    "from skopt import gp_minimize\n",
    "from skopt.space import Real\n",
    "from skopt.utils import use_named_args\n",
    "from skopt.plots import plot_convergence\n",
    "\n",
    "# Device setup\n",
    "device = torch.device(\"cuda\" if torch.cuda.is_available() else \"cpu\")\n",
    "\n",
    "# Function to get model accuracy\n",
    "def get_model_accuracy(b_a_r, c_a_r, f_a_r):\n",
    "    try:\n",
    "        print(f\"Testing b_a_r = {b_a_r:.4f}, c_a_r = {c_a_r:.4f}, f_a_r = {f_a_r:.4f}\")  # Debugging Output\n",
    "\n",
    "        convolutional_network_with_dropout = ResNet18WithDropout(pretrained=False, dr=0.0)\n",
    "        convolutional_network_with_dropout.fc = nn.Flatten()\n",
    "        xyz = convolutional_network_with_dropout\n",
    "        M3 = PrototypicalNetworks_dynamic_query(xyz).to(device)\n",
    "        M3.load_state_dict(torch.load('model_own_path.pt'))\n",
    "\n",
    "        # Load Model M2 (Reference)\n",
    "        convolutional_network_with_dropout = ResNet18WithDropout(pretrained=False, dr=0.0)\n",
    "        convolutional_network_with_dropout.fc = nn.Flatten()\n",
    "        xyz2 = convolutional_network_with_dropout\n",
    "        M2 = PrototypicalNetworks_dynamic_query(xyz2).to(device)\n",
    "        M2.load_state_dict(torch.load('model_mu_path.pt'))\n",
    "\n",
    "        # Apply bias adaptation to M3 using M2\n",
    "        update_model_weights2(M3, M2, conv_ratio=c_a_r, fc_ratio=f_a_r, bias_ratio=b_a_r)\n",
    "        \n",
    "        # Evaluate accuracy\n",
    "        accuracy = evaluate3(pp+'/_olchiki_5-wau-1-shot_matchine_unlearning_own', test_loader, M3, criterion)\n",
    "        \n",
    "        if accuracy is None:\n",
    "            raise ValueError(\"Accuracy computation failed. Returning worst case.\")\n",
    "\n",
    "        return accuracy  # Ensure accuracy is valid\n",
    "    except Exception as e:\n",
    "        print(f\"Error encountered: {e}. Assigning worst-case accuracy of 0.\")\n",
    "        return 0.0  # Assign lowest accuracy to prevent optimization failures\n"
   ]
  },
  {
   "cell_type": "code",
   "execution_count": 31,
   "metadata": {
    "scrolled": true
   },
   "outputs": [
    {
     "name": "stdout",
     "output_type": "stream",
     "text": [
      "Testing b_a_r = 0.7965, c_a_r = 0.1834, f_a_r = 0.7797\n"
     ]
    },
    {
     "name": "stderr",
     "output_type": "stream",
     "text": [
      "/home/asufian/.local/share/pipx/venvs/notebook/lib/python3.12/site-packages/torchvision/models/_utils.py:208: UserWarning: The parameter 'pretrained' is deprecated since 0.13 and may be removed in the future, please use 'weights' instead.\n",
      "  warnings.warn(\n",
      "/home/asufian/.local/share/pipx/venvs/notebook/lib/python3.12/site-packages/torchvision/models/_utils.py:223: UserWarning: Arguments other than a weight enum or `None` for 'weights' are deprecated since 0.13 and may be removed in the future. The current behavior is equivalent to passing `weights=None`.\n",
      "  warnings.warn(msg)\n"
     ]
    },
    {
     "name": "stdout",
     "output_type": "stream",
     "text": [
      "----------------------> 0.709282700421941\n",
      "Evaluated Accuracy: 0.7093\n",
      "Testing b_a_r = 0.5969, c_a_r = 0.4458, f_a_r = 0.1000\n",
      "----------------------> 0.6369198312236287\n",
      "Evaluated Accuracy: 0.6369\n",
      "Testing b_a_r = 0.4592, c_a_r = 0.3337, f_a_r = 0.1429\n",
      "----------------------> 0.6913502109704642\n",
      "Evaluated Accuracy: 0.6914\n",
      "Testing b_a_r = 0.6509, c_a_r = 0.0564, f_a_r = 0.7220\n",
      "----------------------> 0.7493670886075949\n",
      "Evaluated Accuracy: 0.7494\n",
      "Testing b_a_r = 0.9386, c_a_r = 0.0008, f_a_r = 0.9922\n",
      "----------------------> 0.7261603375527427\n",
      "Evaluated Accuracy: 0.7262\n",
      "Testing b_a_r = 0.2729, c_a_r = 0.0992, f_a_r = 0.0805\n"
     ]
    },
    {
     "name": "stderr",
     "output_type": "stream",
     "text": [
      "/home/asufian/.local/share/pipx/venvs/notebook/lib/python3.12/site-packages/torchvision/models/_utils.py:208: UserWarning: The parameter 'pretrained' is deprecated since 0.13 and may be removed in the future, please use 'weights' instead.\n",
      "  warnings.warn(\n",
      "/home/asufian/.local/share/pipx/venvs/notebook/lib/python3.12/site-packages/torchvision/models/_utils.py:223: UserWarning: Arguments other than a weight enum or `None` for 'weights' are deprecated since 0.13 and may be removed in the future. The current behavior is equivalent to passing `weights=None`.\n",
      "  warnings.warn(msg)\n"
     ]
    },
    {
     "name": "stdout",
     "output_type": "stream",
     "text": [
      "----------------------> 0.7147679324894515\n",
      "Evaluated Accuracy: 0.7148\n",
      "Testing b_a_r = 0.2213, c_a_r = 1.0000, f_a_r = 0.9428\n"
     ]
    },
    {
     "name": "stderr",
     "output_type": "stream",
     "text": [
      "/home/asufian/.local/share/pipx/venvs/notebook/lib/python3.12/site-packages/torchvision/models/_utils.py:208: UserWarning: The parameter 'pretrained' is deprecated since 0.13 and may be removed in the future, please use 'weights' instead.\n",
      "  warnings.warn(\n",
      "/home/asufian/.local/share/pipx/venvs/notebook/lib/python3.12/site-packages/torchvision/models/_utils.py:223: UserWarning: Arguments other than a weight enum or `None` for 'weights' are deprecated since 0.13 and may be removed in the future. The current behavior is equivalent to passing `weights=None`.\n",
      "  warnings.warn(msg)\n"
     ]
    },
    {
     "name": "stdout",
     "output_type": "stream",
     "text": [
      "----------------------> 0.4316455696202531\n",
      "Evaluated Accuracy: 0.4316\n",
      "Testing b_a_r = 0.0000, c_a_r = 0.0000, f_a_r = 0.0000\n"
     ]
    },
    {
     "name": "stderr",
     "output_type": "stream",
     "text": [
      "/home/asufian/.local/share/pipx/venvs/notebook/lib/python3.12/site-packages/torchvision/models/_utils.py:208: UserWarning: The parameter 'pretrained' is deprecated since 0.13 and may be removed in the future, please use 'weights' instead.\n",
      "  warnings.warn(\n",
      "/home/asufian/.local/share/pipx/venvs/notebook/lib/python3.12/site-packages/torchvision/models/_utils.py:223: UserWarning: Arguments other than a weight enum or `None` for 'weights' are deprecated since 0.13 and may be removed in the future. The current behavior is equivalent to passing `weights=None`.\n",
      "  warnings.warn(msg)\n"
     ]
    },
    {
     "name": "stdout",
     "output_type": "stream",
     "text": [
      "----------------------> 0.6845991561181436\n",
      "Evaluated Accuracy: 0.6846\n",
      "Testing b_a_r = 0.5807, c_a_r = 0.0000, f_a_r = 0.0000\n"
     ]
    },
    {
     "name": "stderr",
     "output_type": "stream",
     "text": [
      "/home/asufian/.local/share/pipx/venvs/notebook/lib/python3.12/site-packages/torchvision/models/_utils.py:208: UserWarning: The parameter 'pretrained' is deprecated since 0.13 and may be removed in the future, please use 'weights' instead.\n",
      "  warnings.warn(\n",
      "/home/asufian/.local/share/pipx/venvs/notebook/lib/python3.12/site-packages/torchvision/models/_utils.py:223: UserWarning: Arguments other than a weight enum or `None` for 'weights' are deprecated since 0.13 and may be removed in the future. The current behavior is equivalent to passing `weights=None`.\n",
      "  warnings.warn(msg)\n"
     ]
    },
    {
     "name": "stdout",
     "output_type": "stream",
     "text": [
      "----------------------> 0.6837552742616034\n",
      "Evaluated Accuracy: 0.6838\n",
      "Testing b_a_r = 0.0000, c_a_r = 0.0000, f_a_r = 0.5379\n"
     ]
    },
    {
     "name": "stderr",
     "output_type": "stream",
     "text": [
      "/home/asufian/.local/share/pipx/venvs/notebook/lib/python3.12/site-packages/torchvision/models/_utils.py:208: UserWarning: The parameter 'pretrained' is deprecated since 0.13 and may be removed in the future, please use 'weights' instead.\n",
      "  warnings.warn(\n",
      "/home/asufian/.local/share/pipx/venvs/notebook/lib/python3.12/site-packages/torchvision/models/_utils.py:223: UserWarning: Arguments other than a weight enum or `None` for 'weights' are deprecated since 0.13 and may be removed in the future. The current behavior is equivalent to passing `weights=None`.\n",
      "  warnings.warn(msg)\n"
     ]
    },
    {
     "name": "stdout",
     "output_type": "stream",
     "text": [
      "----------------------> 0.7158227848101264\n",
      "Evaluated Accuracy: 0.7158\n",
      "Testing b_a_r = 0.0000, c_a_r = 0.0834, f_a_r = 1.0000\n"
     ]
    },
    {
     "name": "stderr",
     "output_type": "stream",
     "text": [
      "/home/asufian/.local/share/pipx/venvs/notebook/lib/python3.12/site-packages/torchvision/models/_utils.py:208: UserWarning: The parameter 'pretrained' is deprecated since 0.13 and may be removed in the future, please use 'weights' instead.\n",
      "  warnings.warn(\n",
      "/home/asufian/.local/share/pipx/venvs/notebook/lib/python3.12/site-packages/torchvision/models/_utils.py:223: UserWarning: Arguments other than a weight enum or `None` for 'weights' are deprecated since 0.13 and may be removed in the future. The current behavior is equivalent to passing `weights=None`.\n",
      "  warnings.warn(msg)\n"
     ]
    },
    {
     "name": "stdout",
     "output_type": "stream",
     "text": [
      "----------------------> 0.75\n",
      "Evaluated Accuracy: 0.7500\n",
      "Testing b_a_r = 0.0376, c_a_r = 0.3473, f_a_r = 1.0000\n"
     ]
    },
    {
     "name": "stderr",
     "output_type": "stream",
     "text": [
      "/home/asufian/.local/share/pipx/venvs/notebook/lib/python3.12/site-packages/torchvision/models/_utils.py:208: UserWarning: The parameter 'pretrained' is deprecated since 0.13 and may be removed in the future, please use 'weights' instead.\n",
      "  warnings.warn(\n",
      "/home/asufian/.local/share/pipx/venvs/notebook/lib/python3.12/site-packages/torchvision/models/_utils.py:223: UserWarning: Arguments other than a weight enum or `None` for 'weights' are deprecated since 0.13 and may be removed in the future. The current behavior is equivalent to passing `weights=None`.\n",
      "  warnings.warn(msg)\n"
     ]
    },
    {
     "name": "stdout",
     "output_type": "stream",
     "text": [
      "----------------------> 0.6390295358649789\n",
      "Evaluated Accuracy: 0.6390\n",
      "Testing b_a_r = 0.0263, c_a_r = 0.7089, f_a_r = 0.0000\n"
     ]
    },
    {
     "name": "stderr",
     "output_type": "stream",
     "text": [
      "/home/asufian/.local/share/pipx/venvs/notebook/lib/python3.12/site-packages/torchvision/models/_utils.py:208: UserWarning: The parameter 'pretrained' is deprecated since 0.13 and may be removed in the future, please use 'weights' instead.\n",
      "  warnings.warn(\n",
      "/home/asufian/.local/share/pipx/venvs/notebook/lib/python3.12/site-packages/torchvision/models/_utils.py:223: UserWarning: Arguments other than a weight enum or `None` for 'weights' are deprecated since 0.13 and may be removed in the future. The current behavior is equivalent to passing `weights=None`.\n",
      "  warnings.warn(msg)\n"
     ]
    },
    {
     "name": "stdout",
     "output_type": "stream",
     "text": [
      "----------------------> 0.4525316455696202\n",
      "Evaluated Accuracy: 0.4525\n",
      "Testing b_a_r = 0.9104, c_a_r = 0.2182, f_a_r = 0.0014\n"
     ]
    },
    {
     "name": "stderr",
     "output_type": "stream",
     "text": [
      "/home/asufian/.local/share/pipx/venvs/notebook/lib/python3.12/site-packages/torchvision/models/_utils.py:208: UserWarning: The parameter 'pretrained' is deprecated since 0.13 and may be removed in the future, please use 'weights' instead.\n",
      "  warnings.warn(\n",
      "/home/asufian/.local/share/pipx/venvs/notebook/lib/python3.12/site-packages/torchvision/models/_utils.py:223: UserWarning: Arguments other than a weight enum or `None` for 'weights' are deprecated since 0.13 and may be removed in the future. The current behavior is equivalent to passing `weights=None`.\n",
      "  warnings.warn(msg)\n"
     ]
    },
    {
     "name": "stdout",
     "output_type": "stream",
     "text": [
      "----------------------> 0.7248945147679325\n",
      "Evaluated Accuracy: 0.7249\n",
      "Testing b_a_r = 0.0740, c_a_r = 0.0958, f_a_r = 0.7043\n"
     ]
    },
    {
     "name": "stderr",
     "output_type": "stream",
     "text": [
      "/home/asufian/.local/share/pipx/venvs/notebook/lib/python3.12/site-packages/torchvision/models/_utils.py:208: UserWarning: The parameter 'pretrained' is deprecated since 0.13 and may be removed in the future, please use 'weights' instead.\n",
      "  warnings.warn(\n",
      "/home/asufian/.local/share/pipx/venvs/notebook/lib/python3.12/site-packages/torchvision/models/_utils.py:223: UserWarning: Arguments other than a weight enum or `None` for 'weights' are deprecated since 0.13 and may be removed in the future. The current behavior is equivalent to passing `weights=None`.\n",
      "  warnings.warn(msg)\n"
     ]
    },
    {
     "name": "stdout",
     "output_type": "stream",
     "text": [
      "----------------------> 0.7533755274261603\n",
      "Evaluated Accuracy: 0.7534\n",
      "Testing b_a_r = 0.4247, c_a_r = 0.5644, f_a_r = 0.9947\n"
     ]
    },
    {
     "name": "stderr",
     "output_type": "stream",
     "text": [
      "/home/asufian/.local/share/pipx/venvs/notebook/lib/python3.12/site-packages/torchvision/models/_utils.py:208: UserWarning: The parameter 'pretrained' is deprecated since 0.13 and may be removed in the future, please use 'weights' instead.\n",
      "  warnings.warn(\n",
      "/home/asufian/.local/share/pipx/venvs/notebook/lib/python3.12/site-packages/torchvision/models/_utils.py:223: UserWarning: Arguments other than a weight enum or `None` for 'weights' are deprecated since 0.13 and may be removed in the future. The current behavior is equivalent to passing `weights=None`.\n",
      "  warnings.warn(msg)\n"
     ]
    },
    {
     "name": "stdout",
     "output_type": "stream",
     "text": [
      "----------------------> 0.49978902953586496\n",
      "Evaluated Accuracy: 0.4998\n",
      "Testing b_a_r = 0.4329, c_a_r = 0.9905, f_a_r = 0.0003\n"
     ]
    },
    {
     "name": "stderr",
     "output_type": "stream",
     "text": [
      "/home/asufian/.local/share/pipx/venvs/notebook/lib/python3.12/site-packages/torchvision/models/_utils.py:208: UserWarning: The parameter 'pretrained' is deprecated since 0.13 and may be removed in the future, please use 'weights' instead.\n",
      "  warnings.warn(\n",
      "/home/asufian/.local/share/pipx/venvs/notebook/lib/python3.12/site-packages/torchvision/models/_utils.py:223: UserWarning: Arguments other than a weight enum or `None` for 'weights' are deprecated since 0.13 and may be removed in the future. The current behavior is equivalent to passing `weights=None`.\n",
      "  warnings.warn(msg)\n"
     ]
    },
    {
     "name": "stdout",
     "output_type": "stream",
     "text": [
      "----------------------> 0.4088607594936709\n",
      "Evaluated Accuracy: 0.4089\n",
      "Testing b_a_r = 0.0018, c_a_r = 0.1504, f_a_r = 0.3743\n"
     ]
    },
    {
     "name": "stderr",
     "output_type": "stream",
     "text": [
      "/home/asufian/.local/share/pipx/venvs/notebook/lib/python3.12/site-packages/torchvision/models/_utils.py:208: UserWarning: The parameter 'pretrained' is deprecated since 0.13 and may be removed in the future, please use 'weights' instead.\n",
      "  warnings.warn(\n",
      "/home/asufian/.local/share/pipx/venvs/notebook/lib/python3.12/site-packages/torchvision/models/_utils.py:223: UserWarning: Arguments other than a weight enum or `None` for 'weights' are deprecated since 0.13 and may be removed in the future. The current behavior is equivalent to passing `weights=None`.\n",
      "  warnings.warn(msg)\n"
     ]
    },
    {
     "name": "stdout",
     "output_type": "stream",
     "text": [
      "----------------------> 0.7512658227848101\n",
      "Evaluated Accuracy: 0.7513\n",
      "Testing b_a_r = 0.0000, c_a_r = 0.0800, f_a_r = 1.0000\n"
     ]
    },
    {
     "name": "stderr",
     "output_type": "stream",
     "text": [
      "/home/asufian/.local/share/pipx/venvs/notebook/lib/python3.12/site-packages/torchvision/models/_utils.py:208: UserWarning: The parameter 'pretrained' is deprecated since 0.13 and may be removed in the future, please use 'weights' instead.\n",
      "  warnings.warn(\n",
      "/home/asufian/.local/share/pipx/venvs/notebook/lib/python3.12/site-packages/torchvision/models/_utils.py:223: UserWarning: Arguments other than a weight enum or `None` for 'weights' are deprecated since 0.13 and may be removed in the future. The current behavior is equivalent to passing `weights=None`.\n",
      "  warnings.warn(msg)\n"
     ]
    },
    {
     "name": "stdout",
     "output_type": "stream",
     "text": [
      "----------------------> 0.7487341772151899\n",
      "Evaluated Accuracy: 0.7487\n",
      "Testing b_a_r = 0.6865, c_a_r = 0.0993, f_a_r = 0.4827\n"
     ]
    },
    {
     "name": "stderr",
     "output_type": "stream",
     "text": [
      "/home/asufian/.local/share/pipx/venvs/notebook/lib/python3.12/site-packages/torchvision/models/_utils.py:208: UserWarning: The parameter 'pretrained' is deprecated since 0.13 and may be removed in the future, please use 'weights' instead.\n",
      "  warnings.warn(\n",
      "/home/asufian/.local/share/pipx/venvs/notebook/lib/python3.12/site-packages/torchvision/models/_utils.py:223: UserWarning: Arguments other than a weight enum or `None` for 'weights' are deprecated since 0.13 and may be removed in the future. The current behavior is equivalent to passing `weights=None`.\n",
      "  warnings.warn(msg)\n"
     ]
    },
    {
     "name": "stdout",
     "output_type": "stream",
     "text": [
      "----------------------> 0.7527426160337553\n",
      "Evaluated Accuracy: 0.7527\n",
      "Testing b_a_r = 0.0058, c_a_r = 0.2149, f_a_r = 0.3343\n"
     ]
    },
    {
     "name": "stderr",
     "output_type": "stream",
     "text": [
      "/home/asufian/.local/share/pipx/venvs/notebook/lib/python3.12/site-packages/torchvision/models/_utils.py:208: UserWarning: The parameter 'pretrained' is deprecated since 0.13 and may be removed in the future, please use 'weights' instead.\n",
      "  warnings.warn(\n",
      "/home/asufian/.local/share/pipx/venvs/notebook/lib/python3.12/site-packages/torchvision/models/_utils.py:223: UserWarning: Arguments other than a weight enum or `None` for 'weights' are deprecated since 0.13 and may be removed in the future. The current behavior is equivalent to passing `weights=None`.\n",
      "  warnings.warn(msg)\n"
     ]
    },
    {
     "name": "stdout",
     "output_type": "stream",
     "text": [
      "----------------------> 0.7445147679324894\n",
      "Evaluated Accuracy: 0.7445\n",
      "Testing b_a_r = 0.7525, c_a_r = 0.1733, f_a_r = 0.2161\n"
     ]
    },
    {
     "name": "stderr",
     "output_type": "stream",
     "text": [
      "/home/asufian/.local/share/pipx/venvs/notebook/lib/python3.12/site-packages/torchvision/models/_utils.py:208: UserWarning: The parameter 'pretrained' is deprecated since 0.13 and may be removed in the future, please use 'weights' instead.\n",
      "  warnings.warn(\n",
      "/home/asufian/.local/share/pipx/venvs/notebook/lib/python3.12/site-packages/torchvision/models/_utils.py:223: UserWarning: Arguments other than a weight enum or `None` for 'weights' are deprecated since 0.13 and may be removed in the future. The current behavior is equivalent to passing `weights=None`.\n",
      "  warnings.warn(msg)\n"
     ]
    },
    {
     "name": "stdout",
     "output_type": "stream",
     "text": [
      "----------------------> 0.7341772151898733\n",
      "Evaluated Accuracy: 0.7342\n",
      "Testing b_a_r = 1.0000, c_a_r = 0.0685, f_a_r = 0.5174\n"
     ]
    },
    {
     "name": "stderr",
     "output_type": "stream",
     "text": [
      "/home/asufian/.local/share/pipx/venvs/notebook/lib/python3.12/site-packages/torchvision/models/_utils.py:208: UserWarning: The parameter 'pretrained' is deprecated since 0.13 and may be removed in the future, please use 'weights' instead.\n",
      "  warnings.warn(\n",
      "/home/asufian/.local/share/pipx/venvs/notebook/lib/python3.12/site-packages/torchvision/models/_utils.py:223: UserWarning: Arguments other than a weight enum or `None` for 'weights' are deprecated since 0.13 and may be removed in the future. The current behavior is equivalent to passing `weights=None`.\n",
      "  warnings.warn(msg)\n"
     ]
    },
    {
     "name": "stdout",
     "output_type": "stream",
     "text": [
      "----------------------> 0.7409282700421941\n",
      "Evaluated Accuracy: 0.7409\n",
      "Testing b_a_r = 0.0000, c_a_r = 0.1029, f_a_r = 0.5818\n"
     ]
    },
    {
     "name": "stderr",
     "output_type": "stream",
     "text": [
      "/home/asufian/.local/share/pipx/venvs/notebook/lib/python3.12/site-packages/torchvision/models/_utils.py:208: UserWarning: The parameter 'pretrained' is deprecated since 0.13 and may be removed in the future, please use 'weights' instead.\n",
      "  warnings.warn(\n",
      "/home/asufian/.local/share/pipx/venvs/notebook/lib/python3.12/site-packages/torchvision/models/_utils.py:223: UserWarning: Arguments other than a weight enum or `None` for 'weights' are deprecated since 0.13 and may be removed in the future. The current behavior is equivalent to passing `weights=None`.\n",
      "  warnings.warn(msg)\n"
     ]
    },
    {
     "name": "stdout",
     "output_type": "stream",
     "text": [
      "----------------------> 0.7571729957805907\n",
      "Evaluated Accuracy: 0.7572\n",
      "Testing b_a_r = 0.0112, c_a_r = 0.0567, f_a_r = 0.8664\n"
     ]
    },
    {
     "name": "stderr",
     "output_type": "stream",
     "text": [
      "/home/asufian/.local/share/pipx/venvs/notebook/lib/python3.12/site-packages/torchvision/models/_utils.py:208: UserWarning: The parameter 'pretrained' is deprecated since 0.13 and may be removed in the future, please use 'weights' instead.\n",
      "  warnings.warn(\n",
      "/home/asufian/.local/share/pipx/venvs/notebook/lib/python3.12/site-packages/torchvision/models/_utils.py:223: UserWarning: Arguments other than a weight enum or `None` for 'weights' are deprecated since 0.13 and may be removed in the future. The current behavior is equivalent to passing `weights=None`.\n",
      "  warnings.warn(msg)\n"
     ]
    },
    {
     "name": "stdout",
     "output_type": "stream",
     "text": [
      "----------------------> 0.7550632911392405\n",
      "Evaluated Accuracy: 0.7551\n",
      "Testing b_a_r = 0.9689, c_a_r = 0.0750, f_a_r = 0.8703\n"
     ]
    },
    {
     "name": "stderr",
     "output_type": "stream",
     "text": [
      "/home/asufian/.local/share/pipx/venvs/notebook/lib/python3.12/site-packages/torchvision/models/_utils.py:208: UserWarning: The parameter 'pretrained' is deprecated since 0.13 and may be removed in the future, please use 'weights' instead.\n",
      "  warnings.warn(\n",
      "/home/asufian/.local/share/pipx/venvs/notebook/lib/python3.12/site-packages/torchvision/models/_utils.py:223: UserWarning: Arguments other than a weight enum or `None` for 'weights' are deprecated since 0.13 and may be removed in the future. The current behavior is equivalent to passing `weights=None`.\n",
      "  warnings.warn(msg)\n"
     ]
    },
    {
     "name": "stdout",
     "output_type": "stream",
     "text": [
      "----------------------> 0.7611814345991562\n",
      "Evaluated Accuracy: 0.7612\n",
      "Testing b_a_r = 0.9827, c_a_r = 0.1054, f_a_r = 0.7541\n"
     ]
    },
    {
     "name": "stderr",
     "output_type": "stream",
     "text": [
      "/home/asufian/.local/share/pipx/venvs/notebook/lib/python3.12/site-packages/torchvision/models/_utils.py:208: UserWarning: The parameter 'pretrained' is deprecated since 0.13 and may be removed in the future, please use 'weights' instead.\n",
      "  warnings.warn(\n",
      "/home/asufian/.local/share/pipx/venvs/notebook/lib/python3.12/site-packages/torchvision/models/_utils.py:223: UserWarning: Arguments other than a weight enum or `None` for 'weights' are deprecated since 0.13 and may be removed in the future. The current behavior is equivalent to passing `weights=None`.\n",
      "  warnings.warn(msg)\n"
     ]
    },
    {
     "name": "stdout",
     "output_type": "stream",
     "text": [
      "----------------------> 0.7611814345991562\n",
      "Evaluated Accuracy: 0.7612\n",
      "Testing b_a_r = 0.9169, c_a_r = 0.1354, f_a_r = 0.5615\n"
     ]
    },
    {
     "name": "stderr",
     "output_type": "stream",
     "text": [
      "/home/asufian/.local/share/pipx/venvs/notebook/lib/python3.12/site-packages/torchvision/models/_utils.py:208: UserWarning: The parameter 'pretrained' is deprecated since 0.13 and may be removed in the future, please use 'weights' instead.\n",
      "  warnings.warn(\n",
      "/home/asufian/.local/share/pipx/venvs/notebook/lib/python3.12/site-packages/torchvision/models/_utils.py:223: UserWarning: Arguments other than a weight enum or `None` for 'weights' are deprecated since 0.13 and may be removed in the future. The current behavior is equivalent to passing `weights=None`.\n",
      "  warnings.warn(msg)\n"
     ]
    },
    {
     "name": "stdout",
     "output_type": "stream",
     "text": [
      "----------------------> 0.7626582278481013\n",
      "Evaluated Accuracy: 0.7627\n",
      "Testing b_a_r = 0.9780, c_a_r = 0.3268, f_a_r = 0.5227\n"
     ]
    },
    {
     "name": "stderr",
     "output_type": "stream",
     "text": [
      "/home/asufian/.local/share/pipx/venvs/notebook/lib/python3.12/site-packages/torchvision/models/_utils.py:208: UserWarning: The parameter 'pretrained' is deprecated since 0.13 and may be removed in the future, please use 'weights' instead.\n",
      "  warnings.warn(\n",
      "/home/asufian/.local/share/pipx/venvs/notebook/lib/python3.12/site-packages/torchvision/models/_utils.py:223: UserWarning: Arguments other than a weight enum or `None` for 'weights' are deprecated since 0.13 and may be removed in the future. The current behavior is equivalent to passing `weights=None`.\n",
      "  warnings.warn(msg)\n"
     ]
    },
    {
     "name": "stdout",
     "output_type": "stream",
     "text": [
      "----------------------> 0.6523206751054853\n",
      "Evaluated Accuracy: 0.6523\n",
      "Testing b_a_r = 0.9296, c_a_r = 0.1780, f_a_r = 0.4858\n"
     ]
    },
    {
     "name": "stderr",
     "output_type": "stream",
     "text": [
      "/home/asufian/.local/share/pipx/venvs/notebook/lib/python3.12/site-packages/torchvision/models/_utils.py:208: UserWarning: The parameter 'pretrained' is deprecated since 0.13 and may be removed in the future, please use 'weights' instead.\n",
      "  warnings.warn(\n",
      "/home/asufian/.local/share/pipx/venvs/notebook/lib/python3.12/site-packages/torchvision/models/_utils.py:223: UserWarning: Arguments other than a weight enum or `None` for 'weights' are deprecated since 0.13 and may be removed in the future. The current behavior is equivalent to passing `weights=None`.\n",
      "  warnings.warn(msg)\n"
     ]
    },
    {
     "name": "stdout",
     "output_type": "stream",
     "text": [
      "----------------------> 0.740506329113924\n",
      "Evaluated Accuracy: 0.7405\n",
      "Testing b_a_r = 0.0092, c_a_r = 0.0971, f_a_r = 0.7504\n"
     ]
    },
    {
     "name": "stderr",
     "output_type": "stream",
     "text": [
      "/home/asufian/.local/share/pipx/venvs/notebook/lib/python3.12/site-packages/torchvision/models/_utils.py:208: UserWarning: The parameter 'pretrained' is deprecated since 0.13 and may be removed in the future, please use 'weights' instead.\n",
      "  warnings.warn(\n",
      "/home/asufian/.local/share/pipx/venvs/notebook/lib/python3.12/site-packages/torchvision/models/_utils.py:223: UserWarning: Arguments other than a weight enum or `None` for 'weights' are deprecated since 0.13 and may be removed in the future. The current behavior is equivalent to passing `weights=None`.\n",
      "  warnings.warn(msg)\n"
     ]
    },
    {
     "name": "stdout",
     "output_type": "stream",
     "text": [
      "----------------------> 0.7533755274261603\n",
      "Evaluated Accuracy: 0.7534\n",
      "Testing b_a_r = 0.1064, c_a_r = 0.7952, f_a_r = 0.9940\n"
     ]
    },
    {
     "name": "stderr",
     "output_type": "stream",
     "text": [
      "/home/asufian/.local/share/pipx/venvs/notebook/lib/python3.12/site-packages/torchvision/models/_utils.py:208: UserWarning: The parameter 'pretrained' is deprecated since 0.13 and may be removed in the future, please use 'weights' instead.\n",
      "  warnings.warn(\n",
      "/home/asufian/.local/share/pipx/venvs/notebook/lib/python3.12/site-packages/torchvision/models/_utils.py:223: UserWarning: Arguments other than a weight enum or `None` for 'weights' are deprecated since 0.13 and may be removed in the future. The current behavior is equivalent to passing `weights=None`.\n",
      "  warnings.warn(msg)\n"
     ]
    },
    {
     "name": "stdout",
     "output_type": "stream",
     "text": [
      "----------------------> 0.4432489451476793\n",
      "Evaluated Accuracy: 0.4432\n",
      "Testing b_a_r = 0.0018, c_a_r = 0.2523, f_a_r = 0.0065\n"
     ]
    },
    {
     "name": "stderr",
     "output_type": "stream",
     "text": [
      "/home/asufian/.local/share/pipx/venvs/notebook/lib/python3.12/site-packages/torchvision/models/_utils.py:208: UserWarning: The parameter 'pretrained' is deprecated since 0.13 and may be removed in the future, please use 'weights' instead.\n",
      "  warnings.warn(\n",
      "/home/asufian/.local/share/pipx/venvs/notebook/lib/python3.12/site-packages/torchvision/models/_utils.py:223: UserWarning: Arguments other than a weight enum or `None` for 'weights' are deprecated since 0.13 and may be removed in the future. The current behavior is equivalent to passing `weights=None`.\n",
      "  warnings.warn(msg)\n"
     ]
    },
    {
     "name": "stdout",
     "output_type": "stream",
     "text": [
      "----------------------> 0.6795358649789028\n",
      "Evaluated Accuracy: 0.6795\n",
      "Testing b_a_r = 0.7420, c_a_r = 0.1205, f_a_r = 0.9966\n"
     ]
    },
    {
     "name": "stderr",
     "output_type": "stream",
     "text": [
      "/home/asufian/.local/share/pipx/venvs/notebook/lib/python3.12/site-packages/torchvision/models/_utils.py:208: UserWarning: The parameter 'pretrained' is deprecated since 0.13 and may be removed in the future, please use 'weights' instead.\n",
      "  warnings.warn(\n",
      "/home/asufian/.local/share/pipx/venvs/notebook/lib/python3.12/site-packages/torchvision/models/_utils.py:223: UserWarning: Arguments other than a weight enum or `None` for 'weights' are deprecated since 0.13 and may be removed in the future. The current behavior is equivalent to passing `weights=None`.\n",
      "  warnings.warn(msg)\n"
     ]
    },
    {
     "name": "stdout",
     "output_type": "stream",
     "text": [
      "----------------------> 0.7453586497890295\n",
      "Evaluated Accuracy: 0.7454\n",
      "Testing b_a_r = 0.9813, c_a_r = 0.3830, f_a_r = 0.0000\n"
     ]
    },
    {
     "name": "stderr",
     "output_type": "stream",
     "text": [
      "/home/asufian/.local/share/pipx/venvs/notebook/lib/python3.12/site-packages/torchvision/models/_utils.py:208: UserWarning: The parameter 'pretrained' is deprecated since 0.13 and may be removed in the future, please use 'weights' instead.\n",
      "  warnings.warn(\n",
      "/home/asufian/.local/share/pipx/venvs/notebook/lib/python3.12/site-packages/torchvision/models/_utils.py:223: UserWarning: Arguments other than a weight enum or `None` for 'weights' are deprecated since 0.13 and may be removed in the future. The current behavior is equivalent to passing `weights=None`.\n",
      "  warnings.warn(msg)\n"
     ]
    },
    {
     "name": "stdout",
     "output_type": "stream",
     "text": [
      "----------------------> 0.6959915611814348\n",
      "Evaluated Accuracy: 0.6960\n",
      "Testing b_a_r = 0.0000, c_a_r = 0.0000, f_a_r = 1.0000\n"
     ]
    },
    {
     "name": "stderr",
     "output_type": "stream",
     "text": [
      "/home/asufian/.local/share/pipx/venvs/notebook/lib/python3.12/site-packages/torchvision/models/_utils.py:208: UserWarning: The parameter 'pretrained' is deprecated since 0.13 and may be removed in the future, please use 'weights' instead.\n",
      "  warnings.warn(\n",
      "/home/asufian/.local/share/pipx/venvs/notebook/lib/python3.12/site-packages/torchvision/models/_utils.py:223: UserWarning: Arguments other than a weight enum or `None` for 'weights' are deprecated since 0.13 and may be removed in the future. The current behavior is equivalent to passing `weights=None`.\n",
      "  warnings.warn(msg)\n"
     ]
    },
    {
     "name": "stdout",
     "output_type": "stream",
     "text": [
      "----------------------> 0.7238396624472573\n",
      "Evaluated Accuracy: 0.7238\n",
      "Testing b_a_r = 0.0000, c_a_r = 0.1642, f_a_r = 0.5552\n"
     ]
    },
    {
     "name": "stderr",
     "output_type": "stream",
     "text": [
      "/home/asufian/.local/share/pipx/venvs/notebook/lib/python3.12/site-packages/torchvision/models/_utils.py:208: UserWarning: The parameter 'pretrained' is deprecated since 0.13 and may be removed in the future, please use 'weights' instead.\n",
      "  warnings.warn(\n",
      "/home/asufian/.local/share/pipx/venvs/notebook/lib/python3.12/site-packages/torchvision/models/_utils.py:223: UserWarning: Arguments other than a weight enum or `None` for 'weights' are deprecated since 0.13 and may be removed in the future. The current behavior is equivalent to passing `weights=None`.\n",
      "  warnings.warn(msg)\n"
     ]
    },
    {
     "name": "stdout",
     "output_type": "stream",
     "text": [
      "----------------------> 0.7470464135021097\n",
      "Evaluated Accuracy: 0.7470\n",
      "Testing b_a_r = 0.7511, c_a_r = 0.0621, f_a_r = 0.9957\n"
     ]
    },
    {
     "name": "stderr",
     "output_type": "stream",
     "text": [
      "/home/asufian/.local/share/pipx/venvs/notebook/lib/python3.12/site-packages/torchvision/models/_utils.py:208: UserWarning: The parameter 'pretrained' is deprecated since 0.13 and may be removed in the future, please use 'weights' instead.\n",
      "  warnings.warn(\n",
      "/home/asufian/.local/share/pipx/venvs/notebook/lib/python3.12/site-packages/torchvision/models/_utils.py:223: UserWarning: Arguments other than a weight enum or `None` for 'weights' are deprecated since 0.13 and may be removed in the future. The current behavior is equivalent to passing `weights=None`.\n",
      "  warnings.warn(msg)\n"
     ]
    },
    {
     "name": "stdout",
     "output_type": "stream",
     "text": [
      "----------------------> 0.7556962025316456\n",
      "Evaluated Accuracy: 0.7557\n",
      "Testing b_a_r = 0.9643, c_a_r = 0.1087, f_a_r = 0.6230\n"
     ]
    },
    {
     "name": "stderr",
     "output_type": "stream",
     "text": [
      "/home/asufian/.local/share/pipx/venvs/notebook/lib/python3.12/site-packages/torchvision/models/_utils.py:208: UserWarning: The parameter 'pretrained' is deprecated since 0.13 and may be removed in the future, please use 'weights' instead.\n",
      "  warnings.warn(\n",
      "/home/asufian/.local/share/pipx/venvs/notebook/lib/python3.12/site-packages/torchvision/models/_utils.py:223: UserWarning: Arguments other than a weight enum or `None` for 'weights' are deprecated since 0.13 and may be removed in the future. The current behavior is equivalent to passing `weights=None`.\n",
      "  warnings.warn(msg)\n"
     ]
    },
    {
     "name": "stdout",
     "output_type": "stream",
     "text": [
      "----------------------> 0.759493670886076\n",
      "Evaluated Accuracy: 0.7595\n",
      "Testing b_a_r = 0.1151, c_a_r = 0.4326, f_a_r = 1.0000\n"
     ]
    },
    {
     "name": "stderr",
     "output_type": "stream",
     "text": [
      "/home/asufian/.local/share/pipx/venvs/notebook/lib/python3.12/site-packages/torchvision/models/_utils.py:208: UserWarning: The parameter 'pretrained' is deprecated since 0.13 and may be removed in the future, please use 'weights' instead.\n",
      "  warnings.warn(\n",
      "/home/asufian/.local/share/pipx/venvs/notebook/lib/python3.12/site-packages/torchvision/models/_utils.py:223: UserWarning: Arguments other than a weight enum or `None` for 'weights' are deprecated since 0.13 and may be removed in the future. The current behavior is equivalent to passing `weights=None`.\n",
      "  warnings.warn(msg)\n"
     ]
    },
    {
     "name": "stdout",
     "output_type": "stream",
     "text": [
      "----------------------> 0.6388185654008439\n",
      "Evaluated Accuracy: 0.6388\n",
      "Testing b_a_r = 0.5576, c_a_r = 0.5575, f_a_r = 0.0002\n"
     ]
    },
    {
     "name": "stderr",
     "output_type": "stream",
     "text": [
      "/home/asufian/.local/share/pipx/venvs/notebook/lib/python3.12/site-packages/torchvision/models/_utils.py:208: UserWarning: The parameter 'pretrained' is deprecated since 0.13 and may be removed in the future, please use 'weights' instead.\n",
      "  warnings.warn(\n",
      "/home/asufian/.local/share/pipx/venvs/notebook/lib/python3.12/site-packages/torchvision/models/_utils.py:223: UserWarning: Arguments other than a weight enum or `None` for 'weights' are deprecated since 0.13 and may be removed in the future. The current behavior is equivalent to passing `weights=None`.\n",
      "  warnings.warn(msg)\n"
     ]
    },
    {
     "name": "stdout",
     "output_type": "stream",
     "text": [
      "----------------------> 0.5050632911392404\n",
      "Evaluated Accuracy: 0.5051\n",
      "Testing b_a_r = 0.8976, c_a_r = 0.8592, f_a_r = 0.0014\n"
     ]
    },
    {
     "name": "stderr",
     "output_type": "stream",
     "text": [
      "/home/asufian/.local/share/pipx/venvs/notebook/lib/python3.12/site-packages/torchvision/models/_utils.py:208: UserWarning: The parameter 'pretrained' is deprecated since 0.13 and may be removed in the future, please use 'weights' instead.\n",
      "  warnings.warn(\n",
      "/home/asufian/.local/share/pipx/venvs/notebook/lib/python3.12/site-packages/torchvision/models/_utils.py:223: UserWarning: Arguments other than a weight enum or `None` for 'weights' are deprecated since 0.13 and may be removed in the future. The current behavior is equivalent to passing `weights=None`.\n",
      "  warnings.warn(msg)\n"
     ]
    },
    {
     "name": "stdout",
     "output_type": "stream",
     "text": [
      "----------------------> 0.43797468354430374\n",
      "Evaluated Accuracy: 0.4380\n",
      "Testing b_a_r = 0.1330, c_a_r = 0.2536, f_a_r = 0.9830\n"
     ]
    },
    {
     "name": "stderr",
     "output_type": "stream",
     "text": [
      "/home/asufian/.local/share/pipx/venvs/notebook/lib/python3.12/site-packages/torchvision/models/_utils.py:208: UserWarning: The parameter 'pretrained' is deprecated since 0.13 and may be removed in the future, please use 'weights' instead.\n",
      "  warnings.warn(\n",
      "/home/asufian/.local/share/pipx/venvs/notebook/lib/python3.12/site-packages/torchvision/models/_utils.py:223: UserWarning: Arguments other than a weight enum or `None` for 'weights' are deprecated since 0.13 and may be removed in the future. The current behavior is equivalent to passing `weights=None`.\n",
      "  warnings.warn(msg)\n"
     ]
    },
    {
     "name": "stdout",
     "output_type": "stream",
     "text": [
      "----------------------> 0.6200421940928269\n",
      "Evaluated Accuracy: 0.6200\n",
      "Testing b_a_r = 0.9848, c_a_r = 0.0300, f_a_r = 0.9727\n"
     ]
    },
    {
     "name": "stderr",
     "output_type": "stream",
     "text": [
      "/home/asufian/.local/share/pipx/venvs/notebook/lib/python3.12/site-packages/torchvision/models/_utils.py:208: UserWarning: The parameter 'pretrained' is deprecated since 0.13 and may be removed in the future, please use 'weights' instead.\n",
      "  warnings.warn(\n",
      "/home/asufian/.local/share/pipx/venvs/notebook/lib/python3.12/site-packages/torchvision/models/_utils.py:223: UserWarning: Arguments other than a weight enum or `None` for 'weights' are deprecated since 0.13 and may be removed in the future. The current behavior is equivalent to passing `weights=None`.\n",
      "  warnings.warn(msg)\n"
     ]
    },
    {
     "name": "stdout",
     "output_type": "stream",
     "text": [
      "----------------------> 0.7474683544303797\n",
      "Evaluated Accuracy: 0.7475\n",
      "Testing b_a_r = 0.0143, c_a_r = 0.1279, f_a_r = 0.7010\n"
     ]
    },
    {
     "name": "stderr",
     "output_type": "stream",
     "text": [
      "/home/asufian/.local/share/pipx/venvs/notebook/lib/python3.12/site-packages/torchvision/models/_utils.py:208: UserWarning: The parameter 'pretrained' is deprecated since 0.13 and may be removed in the future, please use 'weights' instead.\n",
      "  warnings.warn(\n",
      "/home/asufian/.local/share/pipx/venvs/notebook/lib/python3.12/site-packages/torchvision/models/_utils.py:223: UserWarning: Arguments other than a weight enum or `None` for 'weights' are deprecated since 0.13 and may be removed in the future. The current behavior is equivalent to passing `weights=None`.\n",
      "  warnings.warn(msg)\n"
     ]
    },
    {
     "name": "stdout",
     "output_type": "stream",
     "text": [
      "----------------------> 0.7546413502109705\n",
      "Evaluated Accuracy: 0.7546\n",
      "Testing b_a_r = 0.0745, c_a_r = 0.6770, f_a_r = 0.9955\n"
     ]
    },
    {
     "name": "stderr",
     "output_type": "stream",
     "text": [
      "/home/asufian/.local/share/pipx/venvs/notebook/lib/python3.12/site-packages/torchvision/models/_utils.py:208: UserWarning: The parameter 'pretrained' is deprecated since 0.13 and may be removed in the future, please use 'weights' instead.\n",
      "  warnings.warn(\n",
      "/home/asufian/.local/share/pipx/venvs/notebook/lib/python3.12/site-packages/torchvision/models/_utils.py:223: UserWarning: Arguments other than a weight enum or `None` for 'weights' are deprecated since 0.13 and may be removed in the future. The current behavior is equivalent to passing `weights=None`.\n",
      "  warnings.warn(msg)\n"
     ]
    },
    {
     "name": "stdout",
     "output_type": "stream",
     "text": [
      "----------------------> 0.45105485232067505\n",
      "Evaluated Accuracy: 0.4511\n",
      "Testing b_a_r = 0.0572, c_a_r = 0.3867, f_a_r = 0.5196\n"
     ]
    },
    {
     "name": "stderr",
     "output_type": "stream",
     "text": [
      "/home/asufian/.local/share/pipx/venvs/notebook/lib/python3.12/site-packages/torchvision/models/_utils.py:208: UserWarning: The parameter 'pretrained' is deprecated since 0.13 and may be removed in the future, please use 'weights' instead.\n",
      "  warnings.warn(\n",
      "/home/asufian/.local/share/pipx/venvs/notebook/lib/python3.12/site-packages/torchvision/models/_utils.py:223: UserWarning: Arguments other than a weight enum or `None` for 'weights' are deprecated since 0.13 and may be removed in the future. The current behavior is equivalent to passing `weights=None`.\n",
      "  warnings.warn(msg)\n"
     ]
    },
    {
     "name": "stdout",
     "output_type": "stream",
     "text": [
      "----------------------> 0.7067510548523207\n",
      "Evaluated Accuracy: 0.7068\n",
      "Testing b_a_r = 0.9587, c_a_r = 0.1266, f_a_r = 0.3702\n"
     ]
    },
    {
     "name": "stderr",
     "output_type": "stream",
     "text": [
      "/home/asufian/.local/share/pipx/venvs/notebook/lib/python3.12/site-packages/torchvision/models/_utils.py:208: UserWarning: The parameter 'pretrained' is deprecated since 0.13 and may be removed in the future, please use 'weights' instead.\n",
      "  warnings.warn(\n",
      "/home/asufian/.local/share/pipx/venvs/notebook/lib/python3.12/site-packages/torchvision/models/_utils.py:223: UserWarning: Arguments other than a weight enum or `None` for 'weights' are deprecated since 0.13 and may be removed in the future. The current behavior is equivalent to passing `weights=None`.\n",
      "  warnings.warn(msg)\n"
     ]
    },
    {
     "name": "stdout",
     "output_type": "stream",
     "text": [
      "----------------------> 0.7506329113924051\n",
      "Evaluated Accuracy: 0.7506\n",
      "Testing b_a_r = 0.0916, c_a_r = 0.0444, f_a_r = 0.0036\n"
     ]
    },
    {
     "name": "stderr",
     "output_type": "stream",
     "text": [
      "/home/asufian/.local/share/pipx/venvs/notebook/lib/python3.12/site-packages/torchvision/models/_utils.py:208: UserWarning: The parameter 'pretrained' is deprecated since 0.13 and may be removed in the future, please use 'weights' instead.\n",
      "  warnings.warn(\n",
      "/home/asufian/.local/share/pipx/venvs/notebook/lib/python3.12/site-packages/torchvision/models/_utils.py:223: UserWarning: Arguments other than a weight enum or `None` for 'weights' are deprecated since 0.13 and may be removed in the future. The current behavior is equivalent to passing `weights=None`.\n",
      "  warnings.warn(msg)\n"
     ]
    },
    {
     "name": "stdout",
     "output_type": "stream",
     "text": [
      "----------------------> 0.6991561181434599\n",
      "Evaluated Accuracy: 0.6992\n",
      "Testing b_a_r = 0.1036, c_a_r = 0.9006, f_a_r = 0.9947\n"
     ]
    },
    {
     "name": "stderr",
     "output_type": "stream",
     "text": [
      "/home/asufian/.local/share/pipx/venvs/notebook/lib/python3.12/site-packages/torchvision/models/_utils.py:208: UserWarning: The parameter 'pretrained' is deprecated since 0.13 and may be removed in the future, please use 'weights' instead.\n",
      "  warnings.warn(\n",
      "/home/asufian/.local/share/pipx/venvs/notebook/lib/python3.12/site-packages/torchvision/models/_utils.py:223: UserWarning: Arguments other than a weight enum or `None` for 'weights' are deprecated since 0.13 and may be removed in the future. The current behavior is equivalent to passing `weights=None`.\n",
      "  warnings.warn(msg)\n"
     ]
    },
    {
     "name": "stdout",
     "output_type": "stream",
     "text": [
      "----------------------> 0.4198312236286921\n",
      "Evaluated Accuracy: 0.4198\n",
      "\n",
      "✅ Optimal Values:\n",
      "   - b_a_r: 0.9169\n",
      "   - c_a_r: 0.1354\n",
      "   - f_a_r: 0.5615\n",
      "📈 Highest Accuracy Achieved: 0.7627\n"
     ]
    }
   ],
   "source": [
    "\n",
    "# Define the search space for b_a_r, c_a_r, and f_a_r\n",
    "search_space = [\n",
    "    Real(0.0, 1.0, name=\"b_a_r\"),\n",
    "    Real(0.0, 1.0, name=\"c_a_r\"),\n",
    "    Real(0.0, 1.0, name=\"f_a_r\")\n",
    "]\n",
    "\n",
    "# Define the objective function for Bayesian Optimization\n",
    "@use_named_args(search_space)\n",
    "def objective(b_a_r, c_a_r, f_a_r):\n",
    "    \"\"\"\n",
    "    Objective function to optimize the adaptation ratios.\n",
    "    It applies adaptation, evaluates the model, and returns the negative accuracy.\n",
    "    \"\"\"\n",
    "    accuracy = get_model_accuracy(b_a_r, c_a_r, f_a_r)\n",
    "    print(f\"Evaluated Accuracy: {accuracy:.4f}\")  # Debugging Output\n",
    "    \n",
    "    return -accuracy  # We minimize, so return negative accuracy\n",
    "\n",
    "# Perform Bayesian Optimization with additional settings\n",
    "search_iteration=50\n",
    "res = gp_minimize(\n",
    "    func=objective,\n",
    "    dimensions=search_space,\n",
    "    n_calls=search_iteration,               # Number of evaluations\n",
    "    n_initial_points=5,       # Initial random explorations before GP starts\n",
    "    acq_func=\"EI\",            # Acquisition function: Expected Improvement\n",
    "    random_state=42,          # Ensure reproducibility\n",
    "    n_jobs=-1,                # Parallel execution for faster optimization\n",
    ")\n",
    "\n",
    "# Extract optimal results\n",
    "optimal_b_a_r, optimal_c_a_r, optimal_f_a_r = res.x\n",
    "best_accuracy = -res.fun\n",
    "\n",
    "print(f\"\\n✅ Optimal Values:\")\n",
    "print(f\"   - b_a_r: {optimal_b_a_r:.4f}\")\n",
    "print(f\"   - c_a_r: {optimal_c_a_r:.4f}\")\n",
    "print(f\"   - f_a_r: {optimal_f_a_r:.4f}\")\n",
    "print(f\"📈 Highest Accuracy Achieved: {best_accuracy:.4f}\")\n",
    "\n",
    "\n"
   ]
  },
  {
   "cell_type": "code",
   "execution_count": null,
   "metadata": {},
   "outputs": [],
   "source": []
  },
  {
   "cell_type": "code",
   "execution_count": 56,
   "metadata": {
    "scrolled": true
   },
   "outputs": [
    {
     "name": "stdout",
     "output_type": "stream",
     "text": [
      "---Accu-----pre----rec---------> 0.6846 ± 0.0834  0.7269 ± 0.0951  0.6846 ± 0.0834\n"
     ]
    },
    {
     "name": "stderr",
     "output_type": "stream",
     "text": [
      "/home/asufian/.local/share/pipx/venvs/notebook/lib/python3.12/site-packages/torchvision/models/_utils.py:208: UserWarning: The parameter 'pretrained' is deprecated since 0.13 and may be removed in the future, please use 'weights' instead.\n",
      "  warnings.warn(\n",
      "/home/asufian/.local/share/pipx/venvs/notebook/lib/python3.12/site-packages/torchvision/models/_utils.py:223: UserWarning: Arguments other than a weight enum or `None` for 'weights' are deprecated since 0.13 and may be removed in the future. The current behavior is equivalent to passing `weights=None`.\n",
      "  warnings.warn(msg)\n"
     ]
    },
    {
     "name": "stdout",
     "output_type": "stream",
     "text": [
      "---Accu-----pre----rec---------> 0.4696 ± 0.0886  0.5225 ± 0.0912  0.4696 ± 0.0886\n",
      "---Accu-----pre----rec---------> 0.7627 ± 0.0978  0.8044 ± 0.0788  0.7627 ± 0.0978\n"
     ]
    }
   ],
   "source": [
    "convolutional_network_with_dropout = ResNet18WithDropout(pretrained=False, dr=0.0)\n",
    "convolutional_network_with_dropout.fc = nn.Flatten()\n",
    "xyz = convolutional_network_with_dropout\n",
    "M3 = PrototypicalNetworks_dynamic_query(xyz).to(device)\n",
    "M3.load_state_dict(torch.load('model_own_path.pt'))\n",
    "evaluate2('/home/asufian/Desktop/output_olchiki/resnet_resluts/base/5_w_1_s_f', test_loader, M3, criterion)\n",
    "# Load Model M2\n",
    "convolutional_network_with_dropout = ResNet18WithDropout(pretrained=False, dr=0.0)\n",
    "convolutional_network_with_dropout.fc = nn.Flatten()\n",
    "xyz2 = convolutional_network_with_dropout\n",
    "M2 = PrototypicalNetworks_dynamic_query(xyz2).to(device)\n",
    "M2.load_state_dict(torch.load('model_mu_path.pt'))\n",
    "evaluate2(\"/home/asufian/Desktop/output_olchiki/resnet_resluts/secondary/5_w_1_s_f\", test_loader, M2, criterion)\n",
    "# Update Model M3's weights using a weighted combination of Model M3 and Model M2\n",
    "update_model_weights2(M3, M2, conv_ratio= optimal_c_a_r , fc_ratio=optimal_f_a_r , bias_ratio=optimal_b_a_r)\n",
    "\n",
    "# Assuming you have the evaluate2 function defined\n",
    "# Evaluate the updated model (M3) using evaluate2 function with some arguments\n",
    "evaluate2(\"/home/asufian/Desktop/output_olchiki/resnet_resluts/amul/5_w_1_s_f\", test_loader, M3, criterion)\n",
    "\n",
    "\n",
    "# Assuming you have the evaluate2 function defined\n",
    "# Evaluate the updated model (M3) using evaluate2 function with some arguments\n",
    "# evaluate3(pp+'/_olchiki_5-wau-1-shot_matchine_unlearning_own', test_loader, M3, criterion)"
   ]
  },
  {
   "cell_type": "code",
   "execution_count": 35,
   "metadata": {},
   "outputs": [],
   "source": [
    "!mkdir '/home/asufian/Desktop/output_olchiki/resnet_resluts/base'"
   ]
  },
  {
   "cell_type": "code",
   "execution_count": 21,
   "metadata": {},
   "outputs": [
    {
     "name": "stdout",
     "output_type": "stream",
     "text": [
      "model_B_olchiki_1-shot_20.pth  model_B_olchiki_1-shot_80.pth\n",
      "model_B_olchiki_1-shot_30.pth  model_B_olchiki_1-shot_90.pth\n",
      "model_B_olchiki_1-shot_50.pth\n"
     ]
    }
   ],
   "source": [
    "!ls /home/asufian/Desktop/output_olchiki/code/olchiki/model_5/model_B_olchiki_1-shot_30.pth"
   ]
  },
  {
   "cell_type": "code",
   "execution_count": null,
   "metadata": {},
   "outputs": [],
   "source": [
    "########################  5   way    5  shot    #########################"
   ]
  },
  {
   "cell_type": "code",
   "execution_count": 23,
   "metadata": {},
   "outputs": [],
   "source": [
    "\n"
   ]
  },
  {
   "cell_type": "code",
   "execution_count": 103,
   "metadata": {},
   "outputs": [
    {
     "name": "stderr",
     "output_type": "stream",
     "text": [
      "/home/asufian/.local/share/pipx/venvs/notebook/lib/python3.12/site-packages/torchvision/models/_utils.py:208: UserWarning: The parameter 'pretrained' is deprecated since 0.13 and may be removed in the future, please use 'weights' instead.\n",
      "  warnings.warn(\n",
      "/home/asufian/.local/share/pipx/venvs/notebook/lib/python3.12/site-packages/torchvision/models/_utils.py:223: UserWarning: Arguments other than a weight enum or `None` for 'weights' are deprecated since 0.13 and may be removed in the future. The current behavior is equivalent to passing `weights=None`.\n",
      "  warnings.warn(msg)\n"
     ]
    }
   ],
   "source": [
    "device = torch.device(\"cuda\" if torch.cuda.is_available() else \"cpu\")\n",
    "\n",
    "\n",
    "\n",
    "!rm model_mu_path.pt\n",
    "!rm model_own_path.pt\n",
    "\n",
    "convolutional_network_with_dropout = ResNet18WithDropout(pretrained=False, dr=0.0)\n",
    "convolutional_network_with_dropout.fc = nn.Flatten()\n",
    "model_own = PrototypicalNetworks_dynamic_query(convolutional_network_with_dropout).to(device)\n",
    "model_own.load_state_dict(torch.load('/home/asufian/Desktop/output_olchiki/code/modelr_res18.pth',map_location=torch.device('cpu')))\n",
    "\n",
    "\n",
    "convolutional_network_with_dropout = ResNet18WithDropout(pretrained=False, dr=0.0)\n",
    "convolutional_network_with_dropout.fc = nn.Flatten()\n",
    "model_own_1_shot = PrototypicalNetworks_dynamic_query(convolutional_network_with_dropout).to(device)\n",
    "model_own_1_shot.load_state_dict(torch.load('/home/asufian/Desktop/output_olchiki/code/olchiki/ressecondary/model_5/model_B_olchiki_5-shot_res.pth',map_location=torch.device('cpu')))\n",
    "\n",
    "torch.save(model_own_1_shot.state_dict(), 'model_mu_path.pt')\n",
    "torch.save(model_own.state_dict(), 'model_own_path.pt')"
   ]
  },
  {
   "cell_type": "code",
   "execution_count": 104,
   "metadata": {},
   "outputs": [],
   "source": [
    "\n",
    "\n",
    "def evaluate2(fname,data_loader, model, criterion=nn.CrossEntropyLoss()):\n",
    "    total_predictions = 0\n",
    "    correct_predictions = 0\n",
    "    total_loss = 0.0\n",
    "    accuracy = 0\n",
    "    datta = \"\"\n",
    "    model.eval()\n",
    "    tlv_cls=0\n",
    "    ttla=0\n",
    "    ttlal=[]\n",
    "    ttlac=0\n",
    "    precision=[]\n",
    "    recall=[]\n",
    "    \n",
    "    with torch.no_grad():\n",
    "        for episode in range(len(clss_5)):\n",
    "            support_set, query_set = data_loader.__getitem__(clss_5[tlv_cls] , clss_support_imagesss_5_shot[tlv_cls])\n",
    "\n",
    "           \n",
    "            clssa=str(clss_5[tlv_cls])\n",
    "            clss=str(clssa).replace(',',' ').replace('\\'',' ').replace('\\'',' ')\n",
    "            msg=str(clss_support_imagesss_5_shot[tlv_cls])\n",
    "            str(clss_5[tlv_cls])\n",
    "\n",
    "            tlv_cls+=1\n",
    "            # print(len(support_set),len(query_set))\n",
    "            support_set = [(torch.stack(images).to(device), label[0]) for images, label in support_set]\n",
    "            query_set = [(torch.stack(images).to(device), label) for images, label in query_set]\n",
    "\n",
    "            support_images, support_labels = zip(*support_set)\n",
    "\n",
    "            query_images, query_labels = zip(*query_set)\n",
    "\n",
    "            classification_scores = model(support_images, support_labels, query_images)\n",
    "            cortt = 0\n",
    "            totl = 0\n",
    "            confusion_mat=None\n",
    "            all_predicted_labels = []\n",
    "            all_actual_labels = []\n",
    "            # print(len(classification_scores),len(query_labels))\n",
    "            for ei in range(len(classification_scores)):\n",
    "                classification_scores_each_class = classification_scores[ei]\n",
    "                # print(classification_scores_each_class)\n",
    "                predicted_labels_eachclas = torch.argmax(classification_scores_each_class, dim=1)\n",
    "                pp = predicted_labels_eachclas.tolist()\n",
    "                act = query_labels[ei]\n",
    "                all_predicted_labels.extend(pp)\n",
    "                all_actual_labels.extend(act)\n",
    "                for iiii in range(len(pp)):\n",
    "                    if pp[iiii] == act[iiii]:\n",
    "                        cortt = cortt + 1\n",
    "                totl = totl + len(pp)\n",
    "                # print(len(act))\n",
    "            accuracy = cortt / totl\n",
    "            ttla+=1\n",
    "            ttlac+=accuracy\n",
    "            ttlal.append(accuracy)\n",
    "            # print(cortt , totl,\"Validation Accuracy:              \", cortt / totl)\n",
    "            confusion_mat = confusion_matrix(all_actual_labels, all_predicted_labels)\n",
    "            # print(\"Confusion Matrix:\")\n",
    "            # print(confusion_mat)\n",
    "\n",
    "            # fname='./own35_mapi_5_way_1_shot'\n",
    "\n",
    "            precision_overall, recall_overall, f1ss= calculate_metrics_get_per(msg,confusion_mat,acciuracy=cortt / totl,cls=clss,flnm=fname)\n",
    "            precision.append(precision_overall)\n",
    "            recall.append(recall_overall)\n",
    "    print(f\"---Accu-----pre----rec---------> {np.mean(ttlal):.4f} ± {np.std(ttlal, ddof=1):.4f}  \"\n",
    "      f\"{np.mean(precision):.4f} ± {np.std(precision, ddof=1):.4f}  \"\n",
    "      f\"{np.mean(recall):.4f} ± {np.std(recall, ddof=1):.4f}\")\n",
    "\n",
    "    # print(\"---Accu-----pre----rec---------->\",np.mean(ttlal),'±',np.std(ttlal, ddof=1), np.mean(precision),'±',np.std(precision, ddof=1),np.mean(precision),'±',np.std(precision, ddof=1),)\n",
    "# %%%%%%\n",
    "\n",
    "def evaluate3(fname,data_loader, model, criterion=nn.CrossEntropyLoss()):\n",
    "    total_predictions = 0\n",
    "    correct_predictions = 0\n",
    "    total_loss = 0.0\n",
    "    accuracy = 0\n",
    "    datta = \"\"\n",
    "    model.eval()\n",
    "    tlv_cls=0\n",
    "    ttla=0\n",
    "    ttlac=0\n",
    "    with torch.no_grad():\n",
    "        for episode in range(len(clss_5)):\n",
    "            support_set, query_set = data_loader.__getitem__(clss_5[tlv_cls] , clss_support_imagesss_5_shot[tlv_cls])\n",
    "\n",
    "            \n",
    "            clssa=str(clss_5[tlv_cls])\n",
    "            clss=str(clssa).replace(',',' ').replace('\\'',' ').replace('\\'',' ')\n",
    "            msg=str(clss_support_imagesss_5_shot[tlv_cls])\n",
    "            str(clss_5[tlv_cls])\n",
    "\n",
    "            tlv_cls+=1\n",
    "            # print(len(support_set),len(query_set))\n",
    "            support_set = [(torch.stack(images).to(device), label[0]) for images, label in support_set]\n",
    "            query_set = [(torch.stack(images).to(device), label) for images, label in query_set]\n",
    "\n",
    "            support_images, support_labels = zip(*support_set)\n",
    "\n",
    "            query_images, query_labels = zip(*query_set)\n",
    "\n",
    "            classification_scores = model(support_images, support_labels, query_images)\n",
    "            cortt = 0\n",
    "            totl = 0\n",
    "            confusion_mat=None\n",
    "            all_predicted_labels = []\n",
    "            all_actual_labels = []\n",
    "            # print(len(classification_scores),len(query_labels))\n",
    "            for ei in range(len(classification_scores)):\n",
    "                classification_scores_each_class = classification_scores[ei]\n",
    "                # print(classification_scores_each_class)\n",
    "                predicted_labels_eachclas = torch.argmax(classification_scores_each_class, dim=1)\n",
    "                pp = predicted_labels_eachclas.tolist()\n",
    "                act = query_labels[ei]\n",
    "                all_predicted_labels.extend(pp)\n",
    "                all_actual_labels.extend(act)\n",
    "                for iiii in range(len(pp)):\n",
    "                    if pp[iiii] == act[iiii]:\n",
    "                        cortt = cortt + 1\n",
    "                totl = totl + len(pp)\n",
    "                # print(len(act))\n",
    "            accuracy = cortt / totl\n",
    "            ttla+=1\n",
    "            ttlac+=accuracy\n",
    "            # print(cortt , totl,\"Validation Accuracy:              \", cortt / totl)\n",
    "            # confusion_mat = confusion_matrix(all_actual_labels, all_predicted_labels)\n",
    "            # print(\"Confusion Matrix:\")\n",
    "            # print(confusion_mat)\n",
    "\n",
    "            # fname='./own35_mapi_5_way_1_shot'\n",
    "\n",
    "            # calculate_metrics_get_per(msg,confusion_mat,acciuracy=cortt / totl,cls=clss,flnm=fname)\n",
    "\n",
    "    print(\"---------------------->\",ttlac/ttla)\n",
    "    return ttlac/ttla"
   ]
  },
  {
   "cell_type": "code",
   "execution_count": 105,
   "metadata": {
    "scrolled": true
   },
   "outputs": [
    {
     "name": "stdout",
     "output_type": "stream",
     "text": [
      "Testing b_a_r = 0.7965, c_a_r = 0.1834, f_a_r = 0.7797\n"
     ]
    },
    {
     "name": "stderr",
     "output_type": "stream",
     "text": [
      "/home/asufian/.local/share/pipx/venvs/notebook/lib/python3.12/site-packages/torchvision/models/_utils.py:208: UserWarning: The parameter 'pretrained' is deprecated since 0.13 and may be removed in the future, please use 'weights' instead.\n",
      "  warnings.warn(\n",
      "/home/asufian/.local/share/pipx/venvs/notebook/lib/python3.12/site-packages/torchvision/models/_utils.py:223: UserWarning: Arguments other than a weight enum or `None` for 'weights' are deprecated since 0.13 and may be removed in the future. The current behavior is equivalent to passing `weights=None`.\n",
      "  warnings.warn(msg)\n"
     ]
    },
    {
     "name": "stdout",
     "output_type": "stream",
     "text": [
      "----------------------> 0.8915555555555555\n",
      "Evaluated Accuracy: 0.8916\n",
      "Testing b_a_r = 0.5969, c_a_r = 0.4458, f_a_r = 0.1000\n",
      "----------------------> 0.6746666666666666\n",
      "Evaluated Accuracy: 0.6747\n",
      "Testing b_a_r = 0.4592, c_a_r = 0.3337, f_a_r = 0.1429\n",
      "----------------------> 0.7553333333333333\n",
      "Evaluated Accuracy: 0.7553\n",
      "Testing b_a_r = 0.6509, c_a_r = 0.0564, f_a_r = 0.7220\n",
      "----------------------> 0.8220000000000001\n",
      "Evaluated Accuracy: 0.8220\n",
      "Testing b_a_r = 0.9386, c_a_r = 0.0008, f_a_r = 0.9922\n",
      "----------------------> 0.7737777777777778\n",
      "Evaluated Accuracy: 0.7738\n",
      "Testing b_a_r = 0.2849, c_a_r = 0.9362, f_a_r = 0.8249\n"
     ]
    },
    {
     "name": "stderr",
     "output_type": "stream",
     "text": [
      "/home/asufian/.local/share/pipx/venvs/notebook/lib/python3.12/site-packages/torchvision/models/_utils.py:208: UserWarning: The parameter 'pretrained' is deprecated since 0.13 and may be removed in the future, please use 'weights' instead.\n",
      "  warnings.warn(\n",
      "/home/asufian/.local/share/pipx/venvs/notebook/lib/python3.12/site-packages/torchvision/models/_utils.py:223: UserWarning: Arguments other than a weight enum or `None` for 'weights' are deprecated since 0.13 and may be removed in the future. The current behavior is equivalent to passing `weights=None`.\n",
      "  warnings.warn(msg)\n"
     ]
    },
    {
     "name": "stdout",
     "output_type": "stream",
     "text": [
      "----------------------> 0.39888888888888885\n",
      "Evaluated Accuracy: 0.3989\n",
      "Testing b_a_r = 0.0000, c_a_r = 0.1520, f_a_r = 0.0000\n"
     ]
    },
    {
     "name": "stderr",
     "output_type": "stream",
     "text": [
      "/home/asufian/.local/share/pipx/venvs/notebook/lib/python3.12/site-packages/torchvision/models/_utils.py:208: UserWarning: The parameter 'pretrained' is deprecated since 0.13 and may be removed in the future, please use 'weights' instead.\n",
      "  warnings.warn(\n",
      "/home/asufian/.local/share/pipx/venvs/notebook/lib/python3.12/site-packages/torchvision/models/_utils.py:223: UserWarning: Arguments other than a weight enum or `None` for 'weights' are deprecated since 0.13 and may be removed in the future. The current behavior is equivalent to passing `weights=None`.\n",
      "  warnings.warn(msg)\n"
     ]
    },
    {
     "name": "stdout",
     "output_type": "stream",
     "text": [
      "----------------------> 0.8295555555555554\n",
      "Evaluated Accuracy: 0.8296\n",
      "Testing b_a_r = 0.0000, c_a_r = 0.1871, f_a_r = 1.0000\n"
     ]
    },
    {
     "name": "stderr",
     "output_type": "stream",
     "text": [
      "/home/asufian/.local/share/pipx/venvs/notebook/lib/python3.12/site-packages/torchvision/models/_utils.py:208: UserWarning: The parameter 'pretrained' is deprecated since 0.13 and may be removed in the future, please use 'weights' instead.\n",
      "  warnings.warn(\n",
      "/home/asufian/.local/share/pipx/venvs/notebook/lib/python3.12/site-packages/torchvision/models/_utils.py:223: UserWarning: Arguments other than a weight enum or `None` for 'weights' are deprecated since 0.13 and may be removed in the future. The current behavior is equivalent to passing `weights=None`.\n",
      "  warnings.warn(msg)\n"
     ]
    },
    {
     "name": "stdout",
     "output_type": "stream",
     "text": [
      "----------------------> 0.8804444444444445\n",
      "Evaluated Accuracy: 0.8804\n",
      "Testing b_a_r = 1.0000, c_a_r = 0.1743, f_a_r = 1.0000\n"
     ]
    },
    {
     "name": "stderr",
     "output_type": "stream",
     "text": [
      "/home/asufian/.local/share/pipx/venvs/notebook/lib/python3.12/site-packages/torchvision/models/_utils.py:208: UserWarning: The parameter 'pretrained' is deprecated since 0.13 and may be removed in the future, please use 'weights' instead.\n",
      "  warnings.warn(\n",
      "/home/asufian/.local/share/pipx/venvs/notebook/lib/python3.12/site-packages/torchvision/models/_utils.py:223: UserWarning: Arguments other than a weight enum or `None` for 'weights' are deprecated since 0.13 and may be removed in the future. The current behavior is equivalent to passing `weights=None`.\n",
      "  warnings.warn(msg)\n"
     ]
    },
    {
     "name": "stdout",
     "output_type": "stream",
     "text": [
      "----------------------> 0.8857777777777777\n",
      "Evaluated Accuracy: 0.8858\n",
      "Testing b_a_r = 1.0000, c_a_r = 0.2652, f_a_r = 1.0000\n"
     ]
    },
    {
     "name": "stderr",
     "output_type": "stream",
     "text": [
      "/home/asufian/.local/share/pipx/venvs/notebook/lib/python3.12/site-packages/torchvision/models/_utils.py:208: UserWarning: The parameter 'pretrained' is deprecated since 0.13 and may be removed in the future, please use 'weights' instead.\n",
      "  warnings.warn(\n",
      "/home/asufian/.local/share/pipx/venvs/notebook/lib/python3.12/site-packages/torchvision/models/_utils.py:223: UserWarning: Arguments other than a weight enum or `None` for 'weights' are deprecated since 0.13 and may be removed in the future. The current behavior is equivalent to passing `weights=None`.\n",
      "  warnings.warn(msg)\n"
     ]
    },
    {
     "name": "stdout",
     "output_type": "stream",
     "text": [
      "----------------------> 0.7804444444444445\n",
      "Evaluated Accuracy: 0.7804\n",
      "Testing b_a_r = 0.0000, c_a_r = 0.1521, f_a_r = 0.7508\n"
     ]
    },
    {
     "name": "stderr",
     "output_type": "stream",
     "text": [
      "/home/asufian/.local/share/pipx/venvs/notebook/lib/python3.12/site-packages/torchvision/models/_utils.py:208: UserWarning: The parameter 'pretrained' is deprecated since 0.13 and may be removed in the future, please use 'weights' instead.\n",
      "  warnings.warn(\n",
      "/home/asufian/.local/share/pipx/venvs/notebook/lib/python3.12/site-packages/torchvision/models/_utils.py:223: UserWarning: Arguments other than a weight enum or `None` for 'weights' are deprecated since 0.13 and may be removed in the future. The current behavior is equivalent to passing `weights=None`.\n",
      "  warnings.warn(msg)\n"
     ]
    },
    {
     "name": "stdout",
     "output_type": "stream",
     "text": [
      "----------------------> 0.9024444444444445\n",
      "Evaluated Accuracy: 0.9024\n",
      "Testing b_a_r = 0.0391, c_a_r = 0.6947, f_a_r = 0.0000\n"
     ]
    },
    {
     "name": "stderr",
     "output_type": "stream",
     "text": [
      "/home/asufian/.local/share/pipx/venvs/notebook/lib/python3.12/site-packages/torchvision/models/_utils.py:208: UserWarning: The parameter 'pretrained' is deprecated since 0.13 and may be removed in the future, please use 'weights' instead.\n",
      "  warnings.warn(\n",
      "/home/asufian/.local/share/pipx/venvs/notebook/lib/python3.12/site-packages/torchvision/models/_utils.py:223: UserWarning: Arguments other than a weight enum or `None` for 'weights' are deprecated since 0.13 and may be removed in the future. The current behavior is equivalent to passing `weights=None`.\n",
      "  warnings.warn(msg)\n"
     ]
    },
    {
     "name": "stdout",
     "output_type": "stream",
     "text": [
      "----------------------> 0.5213333333333333\n",
      "Evaluated Accuracy: 0.5213\n",
      "Testing b_a_r = 0.0949, c_a_r = 0.0000, f_a_r = 0.0000\n"
     ]
    },
    {
     "name": "stderr",
     "output_type": "stream",
     "text": [
      "/home/asufian/.local/share/pipx/venvs/notebook/lib/python3.12/site-packages/torchvision/models/_utils.py:208: UserWarning: The parameter 'pretrained' is deprecated since 0.13 and may be removed in the future, please use 'weights' instead.\n",
      "  warnings.warn(\n",
      "/home/asufian/.local/share/pipx/venvs/notebook/lib/python3.12/site-packages/torchvision/models/_utils.py:223: UserWarning: Arguments other than a weight enum or `None` for 'weights' are deprecated since 0.13 and may be removed in the future. The current behavior is equivalent to passing `weights=None`.\n",
      "  warnings.warn(msg)\n"
     ]
    },
    {
     "name": "stdout",
     "output_type": "stream",
     "text": [
      "----------------------> 0.7597777777777778\n",
      "Evaluated Accuracy: 0.7598\n",
      "Testing b_a_r = 0.5598, c_a_r = 0.5713, f_a_r = 0.9978\n"
     ]
    },
    {
     "name": "stderr",
     "output_type": "stream",
     "text": [
      "/home/asufian/.local/share/pipx/venvs/notebook/lib/python3.12/site-packages/torchvision/models/_utils.py:208: UserWarning: The parameter 'pretrained' is deprecated since 0.13 and may be removed in the future, please use 'weights' instead.\n",
      "  warnings.warn(\n",
      "/home/asufian/.local/share/pipx/venvs/notebook/lib/python3.12/site-packages/torchvision/models/_utils.py:223: UserWarning: Arguments other than a weight enum or `None` for 'weights' are deprecated since 0.13 and may be removed in the future. The current behavior is equivalent to passing `weights=None`.\n",
      "  warnings.warn(msg)\n"
     ]
    },
    {
     "name": "stdout",
     "output_type": "stream",
     "text": [
      "----------------------> 0.48266666666666663\n",
      "Evaluated Accuracy: 0.4827\n",
      "Testing b_a_r = 0.0682, c_a_r = 0.1295, f_a_r = 0.9830\n"
     ]
    },
    {
     "name": "stderr",
     "output_type": "stream",
     "text": [
      "/home/asufian/.local/share/pipx/venvs/notebook/lib/python3.12/site-packages/torchvision/models/_utils.py:208: UserWarning: The parameter 'pretrained' is deprecated since 0.13 and may be removed in the future, please use 'weights' instead.\n",
      "  warnings.warn(\n",
      "/home/asufian/.local/share/pipx/venvs/notebook/lib/python3.12/site-packages/torchvision/models/_utils.py:223: UserWarning: Arguments other than a weight enum or `None` for 'weights' are deprecated since 0.13 and may be removed in the future. The current behavior is equivalent to passing `weights=None`.\n",
      "  warnings.warn(msg)\n"
     ]
    },
    {
     "name": "stdout",
     "output_type": "stream",
     "text": [
      "----------------------> 0.8877777777777777\n",
      "Evaluated Accuracy: 0.8878\n",
      "Testing b_a_r = 0.0707, c_a_r = 0.1666, f_a_r = 0.4830\n"
     ]
    },
    {
     "name": "stderr",
     "output_type": "stream",
     "text": [
      "/home/asufian/.local/share/pipx/venvs/notebook/lib/python3.12/site-packages/torchvision/models/_utils.py:208: UserWarning: The parameter 'pretrained' is deprecated since 0.13 and may be removed in the future, please use 'weights' instead.\n",
      "  warnings.warn(\n",
      "/home/asufian/.local/share/pipx/venvs/notebook/lib/python3.12/site-packages/torchvision/models/_utils.py:223: UserWarning: Arguments other than a weight enum or `None` for 'weights' are deprecated since 0.13 and may be removed in the future. The current behavior is equivalent to passing `weights=None`.\n",
      "  warnings.warn(msg)\n"
     ]
    },
    {
     "name": "stdout",
     "output_type": "stream",
     "text": [
      "----------------------> 0.8817777777777779\n",
      "Evaluated Accuracy: 0.8818\n",
      "Testing b_a_r = 0.4329, c_a_r = 0.9905, f_a_r = 0.0003\n"
     ]
    },
    {
     "name": "stderr",
     "output_type": "stream",
     "text": [
      "/home/asufian/.local/share/pipx/venvs/notebook/lib/python3.12/site-packages/torchvision/models/_utils.py:208: UserWarning: The parameter 'pretrained' is deprecated since 0.13 and may be removed in the future, please use 'weights' instead.\n",
      "  warnings.warn(\n",
      "/home/asufian/.local/share/pipx/venvs/notebook/lib/python3.12/site-packages/torchvision/models/_utils.py:223: UserWarning: Arguments other than a weight enum or `None` for 'weights' are deprecated since 0.13 and may be removed in the future. The current behavior is equivalent to passing `weights=None`.\n",
      "  warnings.warn(msg)\n"
     ]
    },
    {
     "name": "stdout",
     "output_type": "stream",
     "text": [
      "----------------------> 0.42333333333333334\n",
      "Evaluated Accuracy: 0.4233\n",
      "Testing b_a_r = 0.0669, c_a_r = 0.2332, f_a_r = 0.0068\n"
     ]
    },
    {
     "name": "stderr",
     "output_type": "stream",
     "text": [
      "/home/asufian/.local/share/pipx/venvs/notebook/lib/python3.12/site-packages/torchvision/models/_utils.py:208: UserWarning: The parameter 'pretrained' is deprecated since 0.13 and may be removed in the future, please use 'weights' instead.\n",
      "  warnings.warn(\n",
      "/home/asufian/.local/share/pipx/venvs/notebook/lib/python3.12/site-packages/torchvision/models/_utils.py:223: UserWarning: Arguments other than a weight enum or `None` for 'weights' are deprecated since 0.13 and may be removed in the future. The current behavior is equivalent to passing `weights=None`.\n",
      "  warnings.warn(msg)\n"
     ]
    },
    {
     "name": "stdout",
     "output_type": "stream",
     "text": [
      "----------------------> 0.8011111111111111\n",
      "Evaluated Accuracy: 0.8011\n",
      "Testing b_a_r = 0.9704, c_a_r = 0.1249, f_a_r = 0.5790\n"
     ]
    },
    {
     "name": "stderr",
     "output_type": "stream",
     "text": [
      "/home/asufian/.local/share/pipx/venvs/notebook/lib/python3.12/site-packages/torchvision/models/_utils.py:208: UserWarning: The parameter 'pretrained' is deprecated since 0.13 and may be removed in the future, please use 'weights' instead.\n",
      "  warnings.warn(\n",
      "/home/asufian/.local/share/pipx/venvs/notebook/lib/python3.12/site-packages/torchvision/models/_utils.py:223: UserWarning: Arguments other than a weight enum or `None` for 'weights' are deprecated since 0.13 and may be removed in the future. The current behavior is equivalent to passing `weights=None`.\n",
      "  warnings.warn(msg)\n"
     ]
    },
    {
     "name": "stdout",
     "output_type": "stream",
     "text": [
      "----------------------> 0.8702222222222221\n",
      "Evaluated Accuracy: 0.8702\n",
      "Testing b_a_r = 0.0380, c_a_r = 0.1504, f_a_r = 0.8636\n"
     ]
    },
    {
     "name": "stderr",
     "output_type": "stream",
     "text": [
      "/home/asufian/.local/share/pipx/venvs/notebook/lib/python3.12/site-packages/torchvision/models/_utils.py:208: UserWarning: The parameter 'pretrained' is deprecated since 0.13 and may be removed in the future, please use 'weights' instead.\n",
      "  warnings.warn(\n",
      "/home/asufian/.local/share/pipx/venvs/notebook/lib/python3.12/site-packages/torchvision/models/_utils.py:223: UserWarning: Arguments other than a weight enum or `None` for 'weights' are deprecated since 0.13 and may be removed in the future. The current behavior is equivalent to passing `weights=None`.\n",
      "  warnings.warn(msg)\n"
     ]
    },
    {
     "name": "stdout",
     "output_type": "stream",
     "text": [
      "----------------------> 0.8993333333333333\n",
      "Evaluated Accuracy: 0.8993\n",
      "Testing b_a_r = 0.0576, c_a_r = 0.2224, f_a_r = 0.5273\n"
     ]
    },
    {
     "name": "stderr",
     "output_type": "stream",
     "text": [
      "/home/asufian/.local/share/pipx/venvs/notebook/lib/python3.12/site-packages/torchvision/models/_utils.py:208: UserWarning: The parameter 'pretrained' is deprecated since 0.13 and may be removed in the future, please use 'weights' instead.\n",
      "  warnings.warn(\n",
      "/home/asufian/.local/share/pipx/venvs/notebook/lib/python3.12/site-packages/torchvision/models/_utils.py:223: UserWarning: Arguments other than a weight enum or `None` for 'weights' are deprecated since 0.13 and may be removed in the future. The current behavior is equivalent to passing `weights=None`.\n",
      "  warnings.warn(msg)\n"
     ]
    },
    {
     "name": "stdout",
     "output_type": "stream",
     "text": [
      "----------------------> 0.8611111111111112\n",
      "Evaluated Accuracy: 0.8611\n",
      "Testing b_a_r = 0.0316, c_a_r = 0.1690, f_a_r = 0.7041\n"
     ]
    },
    {
     "name": "stderr",
     "output_type": "stream",
     "text": [
      "/home/asufian/.local/share/pipx/venvs/notebook/lib/python3.12/site-packages/torchvision/models/_utils.py:208: UserWarning: The parameter 'pretrained' is deprecated since 0.13 and may be removed in the future, please use 'weights' instead.\n",
      "  warnings.warn(\n",
      "/home/asufian/.local/share/pipx/venvs/notebook/lib/python3.12/site-packages/torchvision/models/_utils.py:223: UserWarning: Arguments other than a weight enum or `None` for 'weights' are deprecated since 0.13 and may be removed in the future. The current behavior is equivalent to passing `weights=None`.\n",
      "  warnings.warn(msg)\n"
     ]
    },
    {
     "name": "stdout",
     "output_type": "stream",
     "text": [
      "----------------------> 0.9015555555555554\n",
      "Evaluated Accuracy: 0.9016\n",
      "Testing b_a_r = 0.0032, c_a_r = 0.0957, f_a_r = 0.3067\n"
     ]
    },
    {
     "name": "stderr",
     "output_type": "stream",
     "text": [
      "/home/asufian/.local/share/pipx/venvs/notebook/lib/python3.12/site-packages/torchvision/models/_utils.py:208: UserWarning: The parameter 'pretrained' is deprecated since 0.13 and may be removed in the future, please use 'weights' instead.\n",
      "  warnings.warn(\n",
      "/home/asufian/.local/share/pipx/venvs/notebook/lib/python3.12/site-packages/torchvision/models/_utils.py:223: UserWarning: Arguments other than a weight enum or `None` for 'weights' are deprecated since 0.13 and may be removed in the future. The current behavior is equivalent to passing `weights=None`.\n",
      "  warnings.warn(msg)\n"
     ]
    },
    {
     "name": "stdout",
     "output_type": "stream",
     "text": [
      "----------------------> 0.8077777777777779\n",
      "Evaluated Accuracy: 0.8078\n",
      "Testing b_a_r = 0.6267, c_a_r = 0.7597, f_a_r = 0.9937\n"
     ]
    },
    {
     "name": "stderr",
     "output_type": "stream",
     "text": [
      "/home/asufian/.local/share/pipx/venvs/notebook/lib/python3.12/site-packages/torchvision/models/_utils.py:208: UserWarning: The parameter 'pretrained' is deprecated since 0.13 and may be removed in the future, please use 'weights' instead.\n",
      "  warnings.warn(\n",
      "/home/asufian/.local/share/pipx/venvs/notebook/lib/python3.12/site-packages/torchvision/models/_utils.py:223: UserWarning: Arguments other than a weight enum or `None` for 'weights' are deprecated since 0.13 and may be removed in the future. The current behavior is equivalent to passing `weights=None`.\n",
      "  warnings.warn(msg)\n"
     ]
    },
    {
     "name": "stdout",
     "output_type": "stream",
     "text": [
      "----------------------> 0.43977777777777766\n",
      "Evaluated Accuracy: 0.4398\n",
      "Testing b_a_r = 0.0202, c_a_r = 0.3942, f_a_r = 0.6623\n"
     ]
    },
    {
     "name": "stderr",
     "output_type": "stream",
     "text": [
      "/home/asufian/.local/share/pipx/venvs/notebook/lib/python3.12/site-packages/torchvision/models/_utils.py:208: UserWarning: The parameter 'pretrained' is deprecated since 0.13 and may be removed in the future, please use 'weights' instead.\n",
      "  warnings.warn(\n",
      "/home/asufian/.local/share/pipx/venvs/notebook/lib/python3.12/site-packages/torchvision/models/_utils.py:223: UserWarning: Arguments other than a weight enum or `None` for 'weights' are deprecated since 0.13 and may be removed in the future. The current behavior is equivalent to passing `weights=None`.\n",
      "  warnings.warn(msg)\n"
     ]
    },
    {
     "name": "stdout",
     "output_type": "stream",
     "text": [
      "----------------------> 0.7928888888888888\n",
      "Evaluated Accuracy: 0.7929\n",
      "Testing b_a_r = 0.4951, c_a_r = 0.4127, f_a_r = 0.9965\n"
     ]
    },
    {
     "name": "stderr",
     "output_type": "stream",
     "text": [
      "/home/asufian/.local/share/pipx/venvs/notebook/lib/python3.12/site-packages/torchvision/models/_utils.py:208: UserWarning: The parameter 'pretrained' is deprecated since 0.13 and may be removed in the future, please use 'weights' instead.\n",
      "  warnings.warn(\n",
      "/home/asufian/.local/share/pipx/venvs/notebook/lib/python3.12/site-packages/torchvision/models/_utils.py:223: UserWarning: Arguments other than a weight enum or `None` for 'weights' are deprecated since 0.13 and may be removed in the future. The current behavior is equivalent to passing `weights=None`.\n",
      "  warnings.warn(msg)\n"
     ]
    },
    {
     "name": "stdout",
     "output_type": "stream",
     "text": [
      "----------------------> 0.7357777777777778\n",
      "Evaluated Accuracy: 0.7358\n",
      "Testing b_a_r = 0.0702, c_a_r = 0.8360, f_a_r = 0.0027\n"
     ]
    },
    {
     "name": "stderr",
     "output_type": "stream",
     "text": [
      "/home/asufian/.local/share/pipx/venvs/notebook/lib/python3.12/site-packages/torchvision/models/_utils.py:208: UserWarning: The parameter 'pretrained' is deprecated since 0.13 and may be removed in the future, please use 'weights' instead.\n",
      "  warnings.warn(\n",
      "/home/asufian/.local/share/pipx/venvs/notebook/lib/python3.12/site-packages/torchvision/models/_utils.py:223: UserWarning: Arguments other than a weight enum or `None` for 'weights' are deprecated since 0.13 and may be removed in the future. The current behavior is equivalent to passing `weights=None`.\n",
      "  warnings.warn(msg)\n"
     ]
    },
    {
     "name": "stdout",
     "output_type": "stream",
     "text": [
      "----------------------> 0.49222222222222217\n",
      "Evaluated Accuracy: 0.4922\n",
      "Testing b_a_r = 0.2489, c_a_r = 0.0837, f_a_r = 0.9916\n"
     ]
    },
    {
     "name": "stderr",
     "output_type": "stream",
     "text": [
      "/home/asufian/.local/share/pipx/venvs/notebook/lib/python3.12/site-packages/torchvision/models/_utils.py:208: UserWarning: The parameter 'pretrained' is deprecated since 0.13 and may be removed in the future, please use 'weights' instead.\n",
      "  warnings.warn(\n",
      "/home/asufian/.local/share/pipx/venvs/notebook/lib/python3.12/site-packages/torchvision/models/_utils.py:223: UserWarning: Arguments other than a weight enum or `None` for 'weights' are deprecated since 0.13 and may be removed in the future. The current behavior is equivalent to passing `weights=None`.\n",
      "  warnings.warn(msg)\n"
     ]
    },
    {
     "name": "stdout",
     "output_type": "stream",
     "text": [
      "----------------------> 0.8466666666666667\n",
      "Evaluated Accuracy: 0.8467\n",
      "Testing b_a_r = 0.9907, c_a_r = 0.0003, f_a_r = 0.4554\n"
     ]
    },
    {
     "name": "stderr",
     "output_type": "stream",
     "text": [
      "/home/asufian/.local/share/pipx/venvs/notebook/lib/python3.12/site-packages/torchvision/models/_utils.py:208: UserWarning: The parameter 'pretrained' is deprecated since 0.13 and may be removed in the future, please use 'weights' instead.\n",
      "  warnings.warn(\n",
      "/home/asufian/.local/share/pipx/venvs/notebook/lib/python3.12/site-packages/torchvision/models/_utils.py:223: UserWarning: Arguments other than a weight enum or `None` for 'weights' are deprecated since 0.13 and may be removed in the future. The current behavior is equivalent to passing `weights=None`.\n",
      "  warnings.warn(msg)\n"
     ]
    },
    {
     "name": "stdout",
     "output_type": "stream",
     "text": [
      "----------------------> 0.7800000000000001\n",
      "Evaluated Accuracy: 0.7800\n",
      "Testing b_a_r = 0.1755, c_a_r = 0.3092, f_a_r = 0.6061\n"
     ]
    },
    {
     "name": "stderr",
     "output_type": "stream",
     "text": [
      "/home/asufian/.local/share/pipx/venvs/notebook/lib/python3.12/site-packages/torchvision/models/_utils.py:208: UserWarning: The parameter 'pretrained' is deprecated since 0.13 and may be removed in the future, please use 'weights' instead.\n",
      "  warnings.warn(\n",
      "/home/asufian/.local/share/pipx/venvs/notebook/lib/python3.12/site-packages/torchvision/models/_utils.py:223: UserWarning: Arguments other than a weight enum or `None` for 'weights' are deprecated since 0.13 and may be removed in the future. The current behavior is equivalent to passing `weights=None`.\n",
      "  warnings.warn(msg)\n"
     ]
    },
    {
     "name": "stdout",
     "output_type": "stream",
     "text": [
      "----------------------> 0.7497777777777777\n",
      "Evaluated Accuracy: 0.7498\n",
      "Testing b_a_r = 0.9723, c_a_r = 0.1554, f_a_r = 0.7745\n"
     ]
    },
    {
     "name": "stderr",
     "output_type": "stream",
     "text": [
      "/home/asufian/.local/share/pipx/venvs/notebook/lib/python3.12/site-packages/torchvision/models/_utils.py:208: UserWarning: The parameter 'pretrained' is deprecated since 0.13 and may be removed in the future, please use 'weights' instead.\n",
      "  warnings.warn(\n",
      "/home/asufian/.local/share/pipx/venvs/notebook/lib/python3.12/site-packages/torchvision/models/_utils.py:223: UserWarning: Arguments other than a weight enum or `None` for 'weights' are deprecated since 0.13 and may be removed in the future. The current behavior is equivalent to passing `weights=None`.\n",
      "  warnings.warn(msg)\n"
     ]
    },
    {
     "name": "stdout",
     "output_type": "stream",
     "text": [
      "----------------------> 0.8935555555555555\n",
      "Evaluated Accuracy: 0.8936\n",
      "Testing b_a_r = 0.0099, c_a_r = 0.1489, f_a_r = 0.9788\n"
     ]
    },
    {
     "name": "stderr",
     "output_type": "stream",
     "text": [
      "/home/asufian/.local/share/pipx/venvs/notebook/lib/python3.12/site-packages/torchvision/models/_utils.py:208: UserWarning: The parameter 'pretrained' is deprecated since 0.13 and may be removed in the future, please use 'weights' instead.\n",
      "  warnings.warn(\n",
      "/home/asufian/.local/share/pipx/venvs/notebook/lib/python3.12/site-packages/torchvision/models/_utils.py:223: UserWarning: Arguments other than a weight enum or `None` for 'weights' are deprecated since 0.13 and may be removed in the future. The current behavior is equivalent to passing `weights=None`.\n",
      "  warnings.warn(msg)\n"
     ]
    },
    {
     "name": "stdout",
     "output_type": "stream",
     "text": [
      "----------------------> 0.8973333333333332\n",
      "Evaluated Accuracy: 0.8973\n",
      "Testing b_a_r = 0.8877, c_a_r = 0.5632, f_a_r = 0.0014\n"
     ]
    },
    {
     "name": "stderr",
     "output_type": "stream",
     "text": [
      "/home/asufian/.local/share/pipx/venvs/notebook/lib/python3.12/site-packages/torchvision/models/_utils.py:208: UserWarning: The parameter 'pretrained' is deprecated since 0.13 and may be removed in the future, please use 'weights' instead.\n",
      "  warnings.warn(\n",
      "/home/asufian/.local/share/pipx/venvs/notebook/lib/python3.12/site-packages/torchvision/models/_utils.py:223: UserWarning: Arguments other than a weight enum or `None` for 'weights' are deprecated since 0.13 and may be removed in the future. The current behavior is equivalent to passing `weights=None`.\n",
      "  warnings.warn(msg)\n"
     ]
    },
    {
     "name": "stdout",
     "output_type": "stream",
     "text": [
      "----------------------> 0.5482222222222222\n",
      "Evaluated Accuracy: 0.5482\n",
      "Testing b_a_r = 0.9836, c_a_r = 0.1947, f_a_r = 0.3364\n"
     ]
    },
    {
     "name": "stderr",
     "output_type": "stream",
     "text": [
      "/home/asufian/.local/share/pipx/venvs/notebook/lib/python3.12/site-packages/torchvision/models/_utils.py:208: UserWarning: The parameter 'pretrained' is deprecated since 0.13 and may be removed in the future, please use 'weights' instead.\n",
      "  warnings.warn(\n",
      "/home/asufian/.local/share/pipx/venvs/notebook/lib/python3.12/site-packages/torchvision/models/_utils.py:223: UserWarning: Arguments other than a weight enum or `None` for 'weights' are deprecated since 0.13 and may be removed in the future. The current behavior is equivalent to passing `weights=None`.\n",
      "  warnings.warn(msg)\n"
     ]
    },
    {
     "name": "stdout",
     "output_type": "stream",
     "text": [
      "----------------------> 0.846\n",
      "Evaluated Accuracy: 0.8460\n",
      "Testing b_a_r = 0.0568, c_a_r = 0.1257, f_a_r = 0.7582\n"
     ]
    },
    {
     "name": "stderr",
     "output_type": "stream",
     "text": [
      "/home/asufian/.local/share/pipx/venvs/notebook/lib/python3.12/site-packages/torchvision/models/_utils.py:208: UserWarning: The parameter 'pretrained' is deprecated since 0.13 and may be removed in the future, please use 'weights' instead.\n",
      "  warnings.warn(\n",
      "/home/asufian/.local/share/pipx/venvs/notebook/lib/python3.12/site-packages/torchvision/models/_utils.py:223: UserWarning: Arguments other than a weight enum or `None` for 'weights' are deprecated since 0.13 and may be removed in the future. The current behavior is equivalent to passing `weights=None`.\n",
      "  warnings.warn(msg)\n"
     ]
    },
    {
     "name": "stdout",
     "output_type": "stream",
     "text": [
      "----------------------> 0.8895555555555555\n",
      "Evaluated Accuracy: 0.8896\n",
      "Testing b_a_r = 0.8867, c_a_r = 0.4632, f_a_r = 0.6217\n"
     ]
    },
    {
     "name": "stderr",
     "output_type": "stream",
     "text": [
      "/home/asufian/.local/share/pipx/venvs/notebook/lib/python3.12/site-packages/torchvision/models/_utils.py:208: UserWarning: The parameter 'pretrained' is deprecated since 0.13 and may be removed in the future, please use 'weights' instead.\n",
      "  warnings.warn(\n",
      "/home/asufian/.local/share/pipx/venvs/notebook/lib/python3.12/site-packages/torchvision/models/_utils.py:223: UserWarning: Arguments other than a weight enum or `None` for 'weights' are deprecated since 0.13 and may be removed in the future. The current behavior is equivalent to passing `weights=None`.\n",
      "  warnings.warn(msg)\n"
     ]
    },
    {
     "name": "stdout",
     "output_type": "stream",
     "text": [
      "----------------------> 0.6113333333333334\n",
      "Evaluated Accuracy: 0.6113\n",
      "Testing b_a_r = 0.5786, c_a_r = 0.3535, f_a_r = 0.9981\n"
     ]
    },
    {
     "name": "stderr",
     "output_type": "stream",
     "text": [
      "/home/asufian/.local/share/pipx/venvs/notebook/lib/python3.12/site-packages/torchvision/models/_utils.py:208: UserWarning: The parameter 'pretrained' is deprecated since 0.13 and may be removed in the future, please use 'weights' instead.\n",
      "  warnings.warn(\n",
      "/home/asufian/.local/share/pipx/venvs/notebook/lib/python3.12/site-packages/torchvision/models/_utils.py:223: UserWarning: Arguments other than a weight enum or `None` for 'weights' are deprecated since 0.13 and may be removed in the future. The current behavior is equivalent to passing `weights=None`.\n",
      "  warnings.warn(msg)\n"
     ]
    },
    {
     "name": "stdout",
     "output_type": "stream",
     "text": [
      "----------------------> 0.7831111111111112\n",
      "Evaluated Accuracy: 0.7831\n",
      "Testing b_a_r = 0.0189, c_a_r = 0.1686, f_a_r = 0.8311\n"
     ]
    },
    {
     "name": "stderr",
     "output_type": "stream",
     "text": [
      "/home/asufian/.local/share/pipx/venvs/notebook/lib/python3.12/site-packages/torchvision/models/_utils.py:208: UserWarning: The parameter 'pretrained' is deprecated since 0.13 and may be removed in the future, please use 'weights' instead.\n",
      "  warnings.warn(\n",
      "/home/asufian/.local/share/pipx/venvs/notebook/lib/python3.12/site-packages/torchvision/models/_utils.py:223: UserWarning: Arguments other than a weight enum or `None` for 'weights' are deprecated since 0.13 and may be removed in the future. The current behavior is equivalent to passing `weights=None`.\n",
      "  warnings.warn(msg)\n"
     ]
    },
    {
     "name": "stdout",
     "output_type": "stream",
     "text": [
      "----------------------> 0.8968888888888888\n",
      "Evaluated Accuracy: 0.8969\n",
      "Testing b_a_r = 0.9414, c_a_r = 0.1351, f_a_r = 0.9579\n"
     ]
    },
    {
     "name": "stderr",
     "output_type": "stream",
     "text": [
      "/home/asufian/.local/share/pipx/venvs/notebook/lib/python3.12/site-packages/torchvision/models/_utils.py:208: UserWarning: The parameter 'pretrained' is deprecated since 0.13 and may be removed in the future, please use 'weights' instead.\n",
      "  warnings.warn(\n",
      "/home/asufian/.local/share/pipx/venvs/notebook/lib/python3.12/site-packages/torchvision/models/_utils.py:223: UserWarning: Arguments other than a weight enum or `None` for 'weights' are deprecated since 0.13 and may be removed in the future. The current behavior is equivalent to passing `weights=None`.\n",
      "  warnings.warn(msg)\n"
     ]
    },
    {
     "name": "stdout",
     "output_type": "stream",
     "text": [
      "----------------------> 0.8831111111111113\n",
      "Evaluated Accuracy: 0.8831\n",
      "Testing b_a_r = 0.0052, c_a_r = 0.1477, f_a_r = 0.7102\n"
     ]
    },
    {
     "name": "stderr",
     "output_type": "stream",
     "text": [
      "/home/asufian/.local/share/pipx/venvs/notebook/lib/python3.12/site-packages/torchvision/models/_utils.py:208: UserWarning: The parameter 'pretrained' is deprecated since 0.13 and may be removed in the future, please use 'weights' instead.\n",
      "  warnings.warn(\n",
      "/home/asufian/.local/share/pipx/venvs/notebook/lib/python3.12/site-packages/torchvision/models/_utils.py:223: UserWarning: Arguments other than a weight enum or `None` for 'weights' are deprecated since 0.13 and may be removed in the future. The current behavior is equivalent to passing `weights=None`.\n",
      "  warnings.warn(msg)\n"
     ]
    },
    {
     "name": "stdout",
     "output_type": "stream",
     "text": [
      "----------------------> 0.900888888888889\n",
      "Evaluated Accuracy: 0.9009\n",
      "Testing b_a_r = 0.3607, c_a_r = 0.3856, f_a_r = 0.0337\n"
     ]
    },
    {
     "name": "stderr",
     "output_type": "stream",
     "text": [
      "/home/asufian/.local/share/pipx/venvs/notebook/lib/python3.12/site-packages/torchvision/models/_utils.py:208: UserWarning: The parameter 'pretrained' is deprecated since 0.13 and may be removed in the future, please use 'weights' instead.\n",
      "  warnings.warn(\n",
      "/home/asufian/.local/share/pipx/venvs/notebook/lib/python3.12/site-packages/torchvision/models/_utils.py:223: UserWarning: Arguments other than a weight enum or `None` for 'weights' are deprecated since 0.13 and may be removed in the future. The current behavior is equivalent to passing `weights=None`.\n",
      "  warnings.warn(msg)\n"
     ]
    },
    {
     "name": "stdout",
     "output_type": "stream",
     "text": [
      "----------------------> 0.7826666666666667\n",
      "Evaluated Accuracy: 0.7827\n",
      "Testing b_a_r = 0.9629, c_a_r = 0.2089, f_a_r = 0.9346\n"
     ]
    },
    {
     "name": "stderr",
     "output_type": "stream",
     "text": [
      "/home/asufian/.local/share/pipx/venvs/notebook/lib/python3.12/site-packages/torchvision/models/_utils.py:208: UserWarning: The parameter 'pretrained' is deprecated since 0.13 and may be removed in the future, please use 'weights' instead.\n",
      "  warnings.warn(\n",
      "/home/asufian/.local/share/pipx/venvs/notebook/lib/python3.12/site-packages/torchvision/models/_utils.py:223: UserWarning: Arguments other than a weight enum or `None` for 'weights' are deprecated since 0.13 and may be removed in the future. The current behavior is equivalent to passing `weights=None`.\n",
      "  warnings.warn(msg)\n"
     ]
    },
    {
     "name": "stdout",
     "output_type": "stream",
     "text": [
      "----------------------> 0.8624444444444445\n",
      "Evaluated Accuracy: 0.8624\n",
      "Testing b_a_r = 0.5581, c_a_r = 0.9981, f_a_r = 0.9764\n"
     ]
    },
    {
     "name": "stderr",
     "output_type": "stream",
     "text": [
      "/home/asufian/.local/share/pipx/venvs/notebook/lib/python3.12/site-packages/torchvision/models/_utils.py:208: UserWarning: The parameter 'pretrained' is deprecated since 0.13 and may be removed in the future, please use 'weights' instead.\n",
      "  warnings.warn(\n",
      "/home/asufian/.local/share/pipx/venvs/notebook/lib/python3.12/site-packages/torchvision/models/_utils.py:223: UserWarning: Arguments other than a weight enum or `None` for 'weights' are deprecated since 0.13 and may be removed in the future. The current behavior is equivalent to passing `weights=None`.\n",
      "  warnings.warn(msg)\n"
     ]
    },
    {
     "name": "stdout",
     "output_type": "stream",
     "text": [
      "----------------------> 0.3908888888888889\n",
      "Evaluated Accuracy: 0.3909\n",
      "Testing b_a_r = 0.0200, c_a_r = 0.1938, f_a_r = 0.6450\n"
     ]
    },
    {
     "name": "stderr",
     "output_type": "stream",
     "text": [
      "/home/asufian/.local/share/pipx/venvs/notebook/lib/python3.12/site-packages/torchvision/models/_utils.py:208: UserWarning: The parameter 'pretrained' is deprecated since 0.13 and may be removed in the future, please use 'weights' instead.\n",
      "  warnings.warn(\n",
      "/home/asufian/.local/share/pipx/venvs/notebook/lib/python3.12/site-packages/torchvision/models/_utils.py:223: UserWarning: Arguments other than a weight enum or `None` for 'weights' are deprecated since 0.13 and may be removed in the future. The current behavior is equivalent to passing `weights=None`.\n",
      "  warnings.warn(msg)\n"
     ]
    },
    {
     "name": "stdout",
     "output_type": "stream",
     "text": [
      "----------------------> 0.8815555555555555\n",
      "Evaluated Accuracy: 0.8816\n",
      "Testing b_a_r = 0.0134, c_a_r = 0.1476, f_a_r = 0.5540\n"
     ]
    },
    {
     "name": "stderr",
     "output_type": "stream",
     "text": [
      "/home/asufian/.local/share/pipx/venvs/notebook/lib/python3.12/site-packages/torchvision/models/_utils.py:208: UserWarning: The parameter 'pretrained' is deprecated since 0.13 and may be removed in the future, please use 'weights' instead.\n",
      "  warnings.warn(\n",
      "/home/asufian/.local/share/pipx/venvs/notebook/lib/python3.12/site-packages/torchvision/models/_utils.py:223: UserWarning: Arguments other than a weight enum or `None` for 'weights' are deprecated since 0.13 and may be removed in the future. The current behavior is equivalent to passing `weights=None`.\n",
      "  warnings.warn(msg)\n"
     ]
    },
    {
     "name": "stdout",
     "output_type": "stream",
     "text": [
      "----------------------> 0.8871111111111111\n",
      "Evaluated Accuracy: 0.8871\n",
      "Testing b_a_r = 0.0038, c_a_r = 0.1600, f_a_r = 0.9287\n"
     ]
    },
    {
     "name": "stderr",
     "output_type": "stream",
     "text": [
      "/home/asufian/.local/share/pipx/venvs/notebook/lib/python3.12/site-packages/torchvision/models/_utils.py:208: UserWarning: The parameter 'pretrained' is deprecated since 0.13 and may be removed in the future, please use 'weights' instead.\n",
      "  warnings.warn(\n",
      "/home/asufian/.local/share/pipx/venvs/notebook/lib/python3.12/site-packages/torchvision/models/_utils.py:223: UserWarning: Arguments other than a weight enum or `None` for 'weights' are deprecated since 0.13 and may be removed in the future. The current behavior is equivalent to passing `weights=None`.\n",
      "  warnings.warn(msg)\n"
     ]
    },
    {
     "name": "stdout",
     "output_type": "stream",
     "text": [
      "----------------------> 0.8980000000000002\n",
      "Evaluated Accuracy: 0.8980\n",
      "Testing b_a_r = 0.9128, c_a_r = 0.0559, f_a_r = 0.0033\n"
     ]
    },
    {
     "name": "stderr",
     "output_type": "stream",
     "text": [
      "/home/asufian/.local/share/pipx/venvs/notebook/lib/python3.12/site-packages/torchvision/models/_utils.py:208: UserWarning: The parameter 'pretrained' is deprecated since 0.13 and may be removed in the future, please use 'weights' instead.\n",
      "  warnings.warn(\n",
      "/home/asufian/.local/share/pipx/venvs/notebook/lib/python3.12/site-packages/torchvision/models/_utils.py:223: UserWarning: Arguments other than a weight enum or `None` for 'weights' are deprecated since 0.13 and may be removed in the future. The current behavior is equivalent to passing `weights=None`.\n",
      "  warnings.warn(msg)\n"
     ]
    },
    {
     "name": "stdout",
     "output_type": "stream",
     "text": [
      "----------------------> 0.7793333333333333\n",
      "Evaluated Accuracy: 0.7793\n",
      "Testing b_a_r = 0.8765, c_a_r = 0.6686, f_a_r = 0.9963\n"
     ]
    },
    {
     "name": "stderr",
     "output_type": "stream",
     "text": [
      "/home/asufian/.local/share/pipx/venvs/notebook/lib/python3.12/site-packages/torchvision/models/_utils.py:208: UserWarning: The parameter 'pretrained' is deprecated since 0.13 and may be removed in the future, please use 'weights' instead.\n",
      "  warnings.warn(\n",
      "/home/asufian/.local/share/pipx/venvs/notebook/lib/python3.12/site-packages/torchvision/models/_utils.py:223: UserWarning: Arguments other than a weight enum or `None` for 'weights' are deprecated since 0.13 and may be removed in the future. The current behavior is equivalent to passing `weights=None`.\n",
      "  warnings.warn(msg)\n"
     ]
    },
    {
     "name": "stdout",
     "output_type": "stream",
     "text": [
      "----------------------> 0.44511111111111107\n",
      "Evaluated Accuracy: 0.4451\n",
      "Testing b_a_r = 0.0069, c_a_r = 0.1618, f_a_r = 0.7130\n"
     ]
    },
    {
     "name": "stderr",
     "output_type": "stream",
     "text": [
      "/home/asufian/.local/share/pipx/venvs/notebook/lib/python3.12/site-packages/torchvision/models/_utils.py:208: UserWarning: The parameter 'pretrained' is deprecated since 0.13 and may be removed in the future, please use 'weights' instead.\n",
      "  warnings.warn(\n",
      "/home/asufian/.local/share/pipx/venvs/notebook/lib/python3.12/site-packages/torchvision/models/_utils.py:223: UserWarning: Arguments other than a weight enum or `None` for 'weights' are deprecated since 0.13 and may be removed in the future. The current behavior is equivalent to passing `weights=None`.\n",
      "  warnings.warn(msg)\n"
     ]
    },
    {
     "name": "stdout",
     "output_type": "stream",
     "text": [
      "----------------------> 0.9017777777777777\n",
      "Evaluated Accuracy: 0.9018\n",
      "Testing b_a_r = 0.0415, c_a_r = 0.1441, f_a_r = 0.8108\n"
     ]
    },
    {
     "name": "stderr",
     "output_type": "stream",
     "text": [
      "/home/asufian/.local/share/pipx/venvs/notebook/lib/python3.12/site-packages/torchvision/models/_utils.py:208: UserWarning: The parameter 'pretrained' is deprecated since 0.13 and may be removed in the future, please use 'weights' instead.\n",
      "  warnings.warn(\n",
      "/home/asufian/.local/share/pipx/venvs/notebook/lib/python3.12/site-packages/torchvision/models/_utils.py:223: UserWarning: Arguments other than a weight enum or `None` for 'weights' are deprecated since 0.13 and may be removed in the future. The current behavior is equivalent to passing `weights=None`.\n",
      "  warnings.warn(msg)\n"
     ]
    },
    {
     "name": "stdout",
     "output_type": "stream",
     "text": [
      "----------------------> 0.8984444444444445\n",
      "Evaluated Accuracy: 0.8984\n",
      "\n",
      "✅ Optimal Values:\n",
      "   - b_a_r: 0.0000\n",
      "   - c_a_r: 0.1521\n",
      "   - f_a_r: 0.7508\n",
      "📈 Highest Accuracy Achieved: 0.9024\n"
     ]
    }
   ],
   "source": [
    "import numpy as np\n",
    "import torch\n",
    "import matplotlib.pyplot as plt\n",
    "from skopt import gp_minimize\n",
    "from skopt.space import Real\n",
    "from skopt.utils import use_named_args\n",
    "from skopt.plots import plot_convergence\n",
    "\n",
    "# Device setup\n",
    "device = torch.device(\"cuda\" if torch.cuda.is_available() else \"cpu\")\n",
    "\n",
    "\n",
    "# Define the search space for b_a_r, c_a_r, and f_a_r\n",
    "search_space = [\n",
    "    Real(0.0, 1.0, name=\"b_a_r\"),\n",
    "    Real(0.0, 1.0, name=\"c_a_r\"),\n",
    "    Real(0.0, 1.0, name=\"f_a_r\")\n",
    "]\n",
    "\n",
    "# Define the objective function for Bayesian Optimization\n",
    "@use_named_args(search_space)\n",
    "def objective(b_a_r, c_a_r, f_a_r):\n",
    "    \"\"\"\n",
    "    Objective function to optimize the adaptation ratios.\n",
    "    It applies adaptation, evaluates the model, and returns the negative accuracy.\n",
    "    \"\"\"\n",
    "    accuracy = get_model_accuracy(b_a_r, c_a_r, f_a_r)\n",
    "    print(f\"Evaluated Accuracy: {accuracy:.4f}\")  # Debugging Output\n",
    "    \n",
    "    return -accuracy  # We minimize, so return negative accuracy\n",
    "\n",
    "# Perform Bayesian Optimization with additional settings\n",
    "search_iteration=50\n",
    "res = gp_minimize(\n",
    "    func=objective,\n",
    "    dimensions=search_space,\n",
    "    n_calls=search_iteration,               # Number of evaluations\n",
    "    n_initial_points=5,       # Initial random explorations before GP starts\n",
    "    acq_func=\"EI\",            # Acquisition function: Expected Improvement\n",
    "    random_state=42,          # Ensure reproducibility\n",
    "    n_jobs=-1,                # Parallel execution for faster optimization\n",
    ")\n",
    "\n",
    "# Extract optimal results\n",
    "optimal_b_a_r, optimal_c_a_r, optimal_f_a_r = res.x\n",
    "best_accuracy = -res.fun\n",
    "\n",
    "print(f\"\\n✅ Optimal Values:\")\n",
    "print(f\"   - b_a_r: {optimal_b_a_r:.4f}\")\n",
    "print(f\"   - c_a_r: {optimal_c_a_r:.4f}\")\n",
    "print(f\"   - f_a_r: {optimal_f_a_r:.4f}\")\n",
    "print(f\"📈 Highest Accuracy Achieved: {best_accuracy:.4f}\")\n",
    "\n",
    "\n"
   ]
  },
  {
   "cell_type": "code",
   "execution_count": null,
   "metadata": {},
   "outputs": [],
   "source": [
    "# b_a_r: \n",
    "#    - c_a_r: \n",
    "#    - f_a_r: \n",
    "\n",
    "#  pt=20"
   ]
  },
  {
   "cell_type": "code",
   "execution_count": 106,
   "metadata": {},
   "outputs": [
    {
     "name": "stderr",
     "output_type": "stream",
     "text": [
      "/home/asufian/.local/share/pipx/venvs/notebook/lib/python3.12/site-packages/torchvision/models/_utils.py:208: UserWarning: The parameter 'pretrained' is deprecated since 0.13 and may be removed in the future, please use 'weights' instead.\n",
      "  warnings.warn(\n",
      "/home/asufian/.local/share/pipx/venvs/notebook/lib/python3.12/site-packages/torchvision/models/_utils.py:223: UserWarning: Arguments other than a weight enum or `None` for 'weights' are deprecated since 0.13 and may be removed in the future. The current behavior is equivalent to passing `weights=None`.\n",
      "  warnings.warn(msg)\n"
     ]
    },
    {
     "name": "stdout",
     "output_type": "stream",
     "text": [
      "---Accu-----pre----rec---------> 0.7591 ± 0.0982  0.7797 ± 0.0954  0.7591 ± 0.0982\n"
     ]
    },
    {
     "name": "stderr",
     "output_type": "stream",
     "text": [
      "/home/asufian/.local/share/pipx/venvs/notebook/lib/python3.12/site-packages/torchvision/models/_utils.py:208: UserWarning: The parameter 'pretrained' is deprecated since 0.13 and may be removed in the future, please use 'weights' instead.\n",
      "  warnings.warn(\n",
      "/home/asufian/.local/share/pipx/venvs/notebook/lib/python3.12/site-packages/torchvision/models/_utils.py:223: UserWarning: Arguments other than a weight enum or `None` for 'weights' are deprecated since 0.13 and may be removed in the future. The current behavior is equivalent to passing `weights=None`.\n",
      "  warnings.warn(msg)\n"
     ]
    },
    {
     "name": "stdout",
     "output_type": "stream",
     "text": [
      "---Accu-----pre----rec---------> 0.6169 ± 0.1020  0.6402 ± 0.1033  0.6169 ± 0.1020\n",
      "---Accu-----pre----rec---------> 0.9024 ± 0.0558  0.9085 ± 0.0513  0.9024 ± 0.0558\n"
     ]
    }
   ],
   "source": [
    "\n",
    "convolutional_network_with_dropout = ResNet18WithDropout(pretrained=False, dr=0.0)\n",
    "convolutional_network_with_dropout.fc = nn.Flatten()\n",
    "xyz = convolutional_network_with_dropout\n",
    "M3 = PrototypicalNetworks_dynamic_query(xyz).to(device)\n",
    "M3.load_state_dict(torch.load('model_own_path.pt'))\n",
    "evaluate2('/home/asufian/Desktop/output_olchiki/resnet_resluts/base/5_w_5_s_f_ff', test_loader, M3, criterion)\n",
    "# Load Model M2\n",
    "convolutional_network_with_dropout = ResNet18WithDropout(pretrained=False, dr=0.0)\n",
    "convolutional_network_with_dropout.fc = nn.Flatten()\n",
    "xyz2 = convolutional_network_with_dropout\n",
    "M2 = PrototypicalNetworks_dynamic_query(xyz2).to(device)\n",
    "M2.load_state_dict(torch.load('model_mu_path.pt'))\n",
    "evaluate2(\"/home/asufian/Desktop/output_olchiki/resnet_resluts/secondary/5_w_5_s_f_ff\", test_loader, M2, criterion)\n",
    "# Update Model M3's weights using a weighted combination of Model M3 and Model M2\n",
    "update_model_weights2(M3, M2, conv_ratio= optimal_c_a_r , fc_ratio=optimal_f_a_r , bias_ratio=optimal_b_a_r)\n",
    "\n",
    "# Assuming you have the evaluate2 function defined\n",
    "# Evaluate the updated model (M3) using evaluate2 function with some arguments\n",
    "evaluate2(\"/home/asufian/Desktop/output_olchiki/resnet_resluts/amul/5_w_5_s_f_ff\", test_loader, M3, criterion)\n",
    "\n",
    "\n",
    "\n",
    "\n",
    "# Assuming you have the evaluate2 function defined\n",
    "# Evaluate the updated model (M3) using evaluate2 function with some arguments\n",
    "# evaluate3(pp+'/_olchiki_5-wau-1-shot_matchine_unlearning_own', test_loader, M3, criterion)"
   ]
  },
  {
   "cell_type": "code",
   "execution_count": 33,
   "metadata": {},
   "outputs": [
    {
     "name": "stdout",
     "output_type": "stream",
     "text": [
      "model_B_olchiki_1-shot_20.pth  model_B_olchiki_1-shot_70.pth\n",
      "model_B_olchiki_1-shot_40.pth  model_B_olchiki_1-shot_90.pth\n",
      "model_B_olchiki_1-shot_50.pth\n"
     ]
    }
   ],
   "source": [
    "!ls /home/asufian/Desktop/output_olchiki/code/olchiki/model_10"
   ]
  },
  {
   "cell_type": "code",
   "execution_count": 71,
   "metadata": {},
   "outputs": [],
   "source": [
    "device = torch.device(\"cuda\" if torch.cuda.is_available() else \"cpu\")\n",
    "\n",
    "\n",
    "\n",
    "!rm model_mu_path.pt\n",
    "!rm model_own_path.pt\n",
    "\n",
    "convolutional_network_with_dropout = ResNet18WithDropout(pretrained=False, dr=0.0)\n",
    "convolutional_network_with_dropout.fc = nn.Flatten()\n",
    "model_own = PrototypicalNetworks_dynamic_query(convolutional_network_with_dropout).to(device)\n",
    "model_own.load_state_dict(torch.load('/home/asufian/Desktop/output_olchiki/code/modelr_res18.pth',map_location=torch.device('cpu')))\n",
    "\n",
    "\n",
    "convolutional_network_with_dropout = ResNet18WithDropout(pretrained=False, dr=0.0)\n",
    "convolutional_network_with_dropout.fc = nn.Flatten()\n",
    "model_own_1_shot = PrototypicalNetworks_dynamic_query(convolutional_network_with_dropout).to(device)\n",
    "model_own_1_shot.load_state_dict(torch.load('/home/asufian/Desktop/output_olchiki/code/olchiki/ressecondary/model_10/model_B_olchiki_10-shot_res.pth',map_location=torch.device('cpu')))\n",
    "\n",
    "\n",
    "torch.save(model_own_1_shot.state_dict(), 'model_mu_path.pt')\n",
    "torch.save(model_own.state_dict(), 'model_own_path.pt')"
   ]
  },
  {
   "cell_type": "code",
   "execution_count": null,
   "metadata": {},
   "outputs": [],
   "source": []
  },
  {
   "cell_type": "code",
   "execution_count": 72,
   "metadata": {},
   "outputs": [],
   "source": [
    "\n",
    "\n",
    "def evaluate2(fname,data_loader, model, criterion=nn.CrossEntropyLoss()):\n",
    "    total_predictions = 0\n",
    "    correct_predictions = 0\n",
    "    total_loss = 0.0\n",
    "    accuracy = 0\n",
    "    datta = \"\"\n",
    "    model.eval()\n",
    "    tlv_cls=0\n",
    "    ttla=0\n",
    "    ttlal=[]\n",
    "    ttlac=0\n",
    "    precision=[]\n",
    "    recall=[]\n",
    "    \n",
    "    with torch.no_grad():\n",
    "        for episode in range(len(clss_5)):\n",
    "            support_set, query_set = data_loader.__getitem__(clss_5[tlv_cls] , clss_support_imagesss_10_shot[tlv_cls])\n",
    "\n",
    "           \n",
    "            clssa=str(clss_5[tlv_cls])\n",
    "            clss=str(clssa).replace(',',' ').replace('\\'',' ').replace('\\'',' ')\n",
    "            msg=str(clss_support_imagesss_10_shot[tlv_cls])\n",
    "            str(clss_5[tlv_cls])\n",
    "\n",
    "            tlv_cls+=1\n",
    "            # print(len(support_set),len(query_set))\n",
    "            support_set = [(torch.stack(images).to(device), label[0]) for images, label in support_set]\n",
    "            query_set = [(torch.stack(images).to(device), label) for images, label in query_set]\n",
    "\n",
    "            support_images, support_labels = zip(*support_set)\n",
    "\n",
    "            query_images, query_labels = zip(*query_set)\n",
    "\n",
    "            classification_scores = model(support_images, support_labels, query_images)\n",
    "            cortt = 0\n",
    "            totl = 0\n",
    "            confusion_mat=None\n",
    "            all_predicted_labels = []\n",
    "            all_actual_labels = []\n",
    "            # print(len(classification_scores),len(query_labels))\n",
    "            for ei in range(len(classification_scores)):\n",
    "                classification_scores_each_class = classification_scores[ei]\n",
    "                # print(classification_scores_each_class)\n",
    "                predicted_labels_eachclas = torch.argmax(classification_scores_each_class, dim=1)\n",
    "                pp = predicted_labels_eachclas.tolist()\n",
    "                act = query_labels[ei]\n",
    "                all_predicted_labels.extend(pp)\n",
    "                all_actual_labels.extend(act)\n",
    "                for iiii in range(len(pp)):\n",
    "                    if pp[iiii] == act[iiii]:\n",
    "                        cortt = cortt + 1\n",
    "                totl = totl + len(pp)\n",
    "                # print(len(act))\n",
    "            accuracy = cortt / totl\n",
    "            ttla+=1\n",
    "            ttlac+=accuracy\n",
    "            ttlal.append(accuracy)\n",
    "            # print(cortt , totl,\"Validation Accuracy:              \", cortt / totl)\n",
    "            confusion_mat = confusion_matrix(all_actual_labels, all_predicted_labels)\n",
    "            # print(\"Confusion Matrix:\")\n",
    "            # print(confusion_mat)\n",
    "\n",
    "            # fname='./own35_mapi_5_way_1_shot'\n",
    "\n",
    "            precision_overall, recall_overall, f1ss= calculate_metrics_get_per(msg,confusion_mat,acciuracy=cortt / totl,cls=clss,flnm=fname)\n",
    "            precision.append(precision_overall)\n",
    "            recall.append(recall_overall)\n",
    "    print(f\"---Accu-----pre----rec---------> {np.mean(ttlal):.4f} ± {np.std(ttlal, ddof=1):.4f}  \"\n",
    "      f\"{np.mean(precision):.4f} ± {np.std(precision, ddof=1):.4f}  \"\n",
    "      f\"{np.mean(recall):.4f} ± {np.std(recall, ddof=1):.4f}\")\n",
    "\n",
    "    # print(\"---Accu-----pre----rec---------->\",np.mean(ttlal),'±',np.std(ttlal, ddof=1), np.mean(precision),'±',np.std(precision, ddof=1),np.mean(precision),'±',np.std(precision, ddof=1),)\n",
    "# %%%%%%\n",
    "\n",
    "def evaluate3(fname,data_loader, model, criterion=nn.CrossEntropyLoss()):\n",
    "    total_predictions = 0\n",
    "    correct_predictions = 0\n",
    "    total_loss = 0.0\n",
    "    accuracy = 0\n",
    "    datta = \"\"\n",
    "    model.eval()\n",
    "    tlv_cls=0\n",
    "    ttla=0\n",
    "    ttlac=0\n",
    "    with torch.no_grad():\n",
    "        for episode in range(len(clss_5)):\n",
    "            support_set, query_set = data_loader.__getitem__(clss_5[tlv_cls] , clss_support_imagesss_10_shot[tlv_cls])\n",
    "\n",
    "            \n",
    "            clssa=str(clss_5[tlv_cls])\n",
    "            clss=str(clssa).replace(',',' ').replace('\\'',' ').replace('\\'',' ')\n",
    "            msg=str(clss_support_imagesss_10_shot[tlv_cls])\n",
    "            str(clss_5[tlv_cls])\n",
    "\n",
    "            tlv_cls+=1\n",
    "            # print(len(support_set),len(query_set))\n",
    "            support_set = [(torch.stack(images).to(device), label[0]) for images, label in support_set]\n",
    "            query_set = [(torch.stack(images).to(device), label) for images, label in query_set]\n",
    "\n",
    "            support_images, support_labels = zip(*support_set)\n",
    "\n",
    "            query_images, query_labels = zip(*query_set)\n",
    "\n",
    "            classification_scores = model(support_images, support_labels, query_images)\n",
    "            cortt = 0\n",
    "            totl = 0\n",
    "            confusion_mat=None\n",
    "            all_predicted_labels = []\n",
    "            all_actual_labels = []\n",
    "            # print(len(classification_scores),len(query_labels))\n",
    "            for ei in range(len(classification_scores)):\n",
    "                classification_scores_each_class = classification_scores[ei]\n",
    "                # print(classification_scores_each_class)\n",
    "                predicted_labels_eachclas = torch.argmax(classification_scores_each_class, dim=1)\n",
    "                pp = predicted_labels_eachclas.tolist()\n",
    "                act = query_labels[ei]\n",
    "                all_predicted_labels.extend(pp)\n",
    "                all_actual_labels.extend(act)\n",
    "                for iiii in range(len(pp)):\n",
    "                    if pp[iiii] == act[iiii]:\n",
    "                        cortt = cortt + 1\n",
    "                totl = totl + len(pp)\n",
    "                # print(len(act))\n",
    "            accuracy = cortt / totl\n",
    "            ttla+=1\n",
    "            ttlac+=accuracy\n",
    "            # print(cortt , totl,\"Validation Accuracy:              \", cortt / totl)\n",
    "            # confusion_mat = confusion_matrix(all_actual_labels, all_predicted_labels)\n",
    "            # print(\"Confusion Matrix:\")\n",
    "            # print(confusion_mat)\n",
    "\n",
    "            # fname='./own35_mapi_5_way_1_shot'\n",
    "\n",
    "            # calculate_metrics_get_per(msg,confusion_mat,acciuracy=cortt / totl,cls=clss,flnm=fname)\n",
    "\n",
    "    print(\"---------------------->\",ttlac/ttla)\n",
    "    return ttlac/ttla"
   ]
  },
  {
   "cell_type": "code",
   "execution_count": null,
   "metadata": {},
   "outputs": [],
   "source": []
  },
  {
   "cell_type": "code",
   "execution_count": 73,
   "metadata": {
    "scrolled": true
   },
   "outputs": [
    {
     "name": "stdout",
     "output_type": "stream",
     "text": [
      "Testing b_a_r = 0.7965, c_a_r = 0.1834, f_a_r = 0.7797\n"
     ]
    },
    {
     "name": "stderr",
     "output_type": "stream",
     "text": [
      "/home/asufian/.local/share/pipx/venvs/notebook/lib/python3.12/site-packages/torchvision/models/_utils.py:208: UserWarning: The parameter 'pretrained' is deprecated since 0.13 and may be removed in the future, please use 'weights' instead.\n",
      "  warnings.warn(\n",
      "/home/asufian/.local/share/pipx/venvs/notebook/lib/python3.12/site-packages/torchvision/models/_utils.py:223: UserWarning: Arguments other than a weight enum or `None` for 'weights' are deprecated since 0.13 and may be removed in the future. The current behavior is equivalent to passing `weights=None`.\n",
      "  warnings.warn(msg)\n"
     ]
    },
    {
     "name": "stdout",
     "output_type": "stream",
     "text": [
      "----------------------> 0.9226190476190478\n",
      "Evaluated Accuracy: 0.9226\n",
      "Testing b_a_r = 0.5969, c_a_r = 0.4458, f_a_r = 0.1000\n",
      "----------------------> 0.6683333333333334\n",
      "Evaluated Accuracy: 0.6683\n",
      "Testing b_a_r = 0.4592, c_a_r = 0.3337, f_a_r = 0.1429\n",
      "----------------------> 0.7997619047619047\n",
      "Evaluated Accuracy: 0.7998\n",
      "Testing b_a_r = 0.6509, c_a_r = 0.0564, f_a_r = 0.7220\n",
      "----------------------> 0.9140476190476191\n",
      "Evaluated Accuracy: 0.9140\n",
      "Testing b_a_r = 0.9386, c_a_r = 0.0008, f_a_r = 0.9922\n",
      "----------------------> 0.8707142857142857\n",
      "Evaluated Accuracy: 0.8707\n",
      "Testing b_a_r = 0.0250, c_a_r = 1.0000, f_a_r = 0.4630\n"
     ]
    },
    {
     "name": "stderr",
     "output_type": "stream",
     "text": [
      "/home/asufian/.local/share/pipx/venvs/notebook/lib/python3.12/site-packages/torchvision/models/_utils.py:208: UserWarning: The parameter 'pretrained' is deprecated since 0.13 and may be removed in the future, please use 'weights' instead.\n",
      "  warnings.warn(\n",
      "/home/asufian/.local/share/pipx/venvs/notebook/lib/python3.12/site-packages/torchvision/models/_utils.py:223: UserWarning: Arguments other than a weight enum or `None` for 'weights' are deprecated since 0.13 and may be removed in the future. The current behavior is equivalent to passing `weights=None`.\n",
      "  warnings.warn(msg)\n"
     ]
    },
    {
     "name": "stdout",
     "output_type": "stream",
     "text": [
      "----------------------> 0.4033333333333334\n",
      "Evaluated Accuracy: 0.4033\n",
      "Testing b_a_r = 0.0000, c_a_r = 0.1267, f_a_r = 0.0000\n"
     ]
    },
    {
     "name": "stderr",
     "output_type": "stream",
     "text": [
      "/home/asufian/.local/share/pipx/venvs/notebook/lib/python3.12/site-packages/torchvision/models/_utils.py:208: UserWarning: The parameter 'pretrained' is deprecated since 0.13 and may be removed in the future, please use 'weights' instead.\n",
      "  warnings.warn(\n",
      "/home/asufian/.local/share/pipx/venvs/notebook/lib/python3.12/site-packages/torchvision/models/_utils.py:223: UserWarning: Arguments other than a weight enum or `None` for 'weights' are deprecated since 0.13 and may be removed in the future. The current behavior is equivalent to passing `weights=None`.\n",
      "  warnings.warn(msg)\n"
     ]
    },
    {
     "name": "stdout",
     "output_type": "stream",
     "text": [
      "----------------------> 0.8688095238095238\n",
      "Evaluated Accuracy: 0.8688\n",
      "Testing b_a_r = 0.0000, c_a_r = 0.1547, f_a_r = 1.0000\n"
     ]
    },
    {
     "name": "stderr",
     "output_type": "stream",
     "text": [
      "/home/asufian/.local/share/pipx/venvs/notebook/lib/python3.12/site-packages/torchvision/models/_utils.py:208: UserWarning: The parameter 'pretrained' is deprecated since 0.13 and may be removed in the future, please use 'weights' instead.\n",
      "  warnings.warn(\n",
      "/home/asufian/.local/share/pipx/venvs/notebook/lib/python3.12/site-packages/torchvision/models/_utils.py:223: UserWarning: Arguments other than a weight enum or `None` for 'weights' are deprecated since 0.13 and may be removed in the future. The current behavior is equivalent to passing `weights=None`.\n",
      "  warnings.warn(msg)\n"
     ]
    },
    {
     "name": "stdout",
     "output_type": "stream",
     "text": [
      "----------------------> 0.9216666666666667\n",
      "Evaluated Accuracy: 0.9217\n",
      "Testing b_a_r = 0.0000, c_a_r = 0.1296, f_a_r = 0.7093\n"
     ]
    },
    {
     "name": "stderr",
     "output_type": "stream",
     "text": [
      "/home/asufian/.local/share/pipx/venvs/notebook/lib/python3.12/site-packages/torchvision/models/_utils.py:208: UserWarning: The parameter 'pretrained' is deprecated since 0.13 and may be removed in the future, please use 'weights' instead.\n",
      "  warnings.warn(\n",
      "/home/asufian/.local/share/pipx/venvs/notebook/lib/python3.12/site-packages/torchvision/models/_utils.py:223: UserWarning: Arguments other than a weight enum or `None` for 'weights' are deprecated since 0.13 and may be removed in the future. The current behavior is equivalent to passing `weights=None`.\n",
      "  warnings.warn(msg)\n"
     ]
    },
    {
     "name": "stdout",
     "output_type": "stream",
     "text": [
      "----------------------> 0.9314285714285714\n",
      "Evaluated Accuracy: 0.9314\n",
      "Testing b_a_r = 0.1898, c_a_r = 0.3402, f_a_r = 1.0000\n"
     ]
    },
    {
     "name": "stderr",
     "output_type": "stream",
     "text": [
      "/home/asufian/.local/share/pipx/venvs/notebook/lib/python3.12/site-packages/torchvision/models/_utils.py:208: UserWarning: The parameter 'pretrained' is deprecated since 0.13 and may be removed in the future, please use 'weights' instead.\n",
      "  warnings.warn(\n",
      "/home/asufian/.local/share/pipx/venvs/notebook/lib/python3.12/site-packages/torchvision/models/_utils.py:223: UserWarning: Arguments other than a weight enum or `None` for 'weights' are deprecated since 0.13 and may be removed in the future. The current behavior is equivalent to passing `weights=None`.\n",
      "  warnings.warn(msg)\n"
     ]
    },
    {
     "name": "stdout",
     "output_type": "stream",
     "text": [
      "----------------------> 0.755952380952381\n",
      "Evaluated Accuracy: 0.7560\n",
      "Testing b_a_r = 0.1925, c_a_r = 0.0000, f_a_r = 0.0000\n"
     ]
    },
    {
     "name": "stderr",
     "output_type": "stream",
     "text": [
      "/home/asufian/.local/share/pipx/venvs/notebook/lib/python3.12/site-packages/torchvision/models/_utils.py:208: UserWarning: The parameter 'pretrained' is deprecated since 0.13 and may be removed in the future, please use 'weights' instead.\n",
      "  warnings.warn(\n",
      "/home/asufian/.local/share/pipx/venvs/notebook/lib/python3.12/site-packages/torchvision/models/_utils.py:223: UserWarning: Arguments other than a weight enum or `None` for 'weights' are deprecated since 0.13 and may be removed in the future. The current behavior is equivalent to passing `weights=None`.\n",
      "  warnings.warn(msg)\n"
     ]
    },
    {
     "name": "stdout",
     "output_type": "stream",
     "text": [
      "----------------------> 0.809047619047619\n",
      "Evaluated Accuracy: 0.8090\n",
      "Testing b_a_r = 1.0000, c_a_r = 0.1202, f_a_r = 0.8362\n"
     ]
    },
    {
     "name": "stderr",
     "output_type": "stream",
     "text": [
      "/home/asufian/.local/share/pipx/venvs/notebook/lib/python3.12/site-packages/torchvision/models/_utils.py:208: UserWarning: The parameter 'pretrained' is deprecated since 0.13 and may be removed in the future, please use 'weights' instead.\n",
      "  warnings.warn(\n",
      "/home/asufian/.local/share/pipx/venvs/notebook/lib/python3.12/site-packages/torchvision/models/_utils.py:223: UserWarning: Arguments other than a weight enum or `None` for 'weights' are deprecated since 0.13 and may be removed in the future. The current behavior is equivalent to passing `weights=None`.\n",
      "  warnings.warn(msg)\n"
     ]
    },
    {
     "name": "stdout",
     "output_type": "stream",
     "text": [
      "----------------------> 0.9276190476190475\n",
      "Evaluated Accuracy: 0.9276\n",
      "Testing b_a_r = 0.9068, c_a_r = 0.1426, f_a_r = 0.4617\n"
     ]
    },
    {
     "name": "stderr",
     "output_type": "stream",
     "text": [
      "/home/asufian/.local/share/pipx/venvs/notebook/lib/python3.12/site-packages/torchvision/models/_utils.py:208: UserWarning: The parameter 'pretrained' is deprecated since 0.13 and may be removed in the future, please use 'weights' instead.\n",
      "  warnings.warn(\n",
      "/home/asufian/.local/share/pipx/venvs/notebook/lib/python3.12/site-packages/torchvision/models/_utils.py:223: UserWarning: Arguments other than a weight enum or `None` for 'weights' are deprecated since 0.13 and may be removed in the future. The current behavior is equivalent to passing `weights=None`.\n",
      "  warnings.warn(msg)\n"
     ]
    },
    {
     "name": "stdout",
     "output_type": "stream",
     "text": [
      "----------------------> 0.91\n",
      "Evaluated Accuracy: 0.9100\n",
      "Testing b_a_r = 0.0560, c_a_r = 0.1050, f_a_r = 1.0000\n"
     ]
    },
    {
     "name": "stderr",
     "output_type": "stream",
     "text": [
      "/home/asufian/.local/share/pipx/venvs/notebook/lib/python3.12/site-packages/torchvision/models/_utils.py:208: UserWarning: The parameter 'pretrained' is deprecated since 0.13 and may be removed in the future, please use 'weights' instead.\n",
      "  warnings.warn(\n",
      "/home/asufian/.local/share/pipx/venvs/notebook/lib/python3.12/site-packages/torchvision/models/_utils.py:223: UserWarning: Arguments other than a weight enum or `None` for 'weights' are deprecated since 0.13 and may be removed in the future. The current behavior is equivalent to passing `weights=None`.\n",
      "  warnings.warn(msg)\n"
     ]
    },
    {
     "name": "stdout",
     "output_type": "stream",
     "text": [
      "----------------------> 0.9321428571428573\n",
      "Evaluated Accuracy: 0.9321\n",
      "Testing b_a_r = 0.7112, c_a_r = 0.1202, f_a_r = 0.9946\n"
     ]
    },
    {
     "name": "stderr",
     "output_type": "stream",
     "text": [
      "/home/asufian/.local/share/pipx/venvs/notebook/lib/python3.12/site-packages/torchvision/models/_utils.py:208: UserWarning: The parameter 'pretrained' is deprecated since 0.13 and may be removed in the future, please use 'weights' instead.\n",
      "  warnings.warn(\n",
      "/home/asufian/.local/share/pipx/venvs/notebook/lib/python3.12/site-packages/torchvision/models/_utils.py:223: UserWarning: Arguments other than a weight enum or `None` for 'weights' are deprecated since 0.13 and may be removed in the future. The current behavior is equivalent to passing `weights=None`.\n",
      "  warnings.warn(msg)\n"
     ]
    },
    {
     "name": "stdout",
     "output_type": "stream",
     "text": [
      "----------------------> 0.9250000000000002\n",
      "Evaluated Accuracy: 0.9250\n",
      "Testing b_a_r = 0.0187, c_a_r = 0.1152, f_a_r = 0.8502\n"
     ]
    },
    {
     "name": "stderr",
     "output_type": "stream",
     "text": [
      "/home/asufian/.local/share/pipx/venvs/notebook/lib/python3.12/site-packages/torchvision/models/_utils.py:208: UserWarning: The parameter 'pretrained' is deprecated since 0.13 and may be removed in the future, please use 'weights' instead.\n",
      "  warnings.warn(\n",
      "/home/asufian/.local/share/pipx/venvs/notebook/lib/python3.12/site-packages/torchvision/models/_utils.py:223: UserWarning: Arguments other than a weight enum or `None` for 'weights' are deprecated since 0.13 and may be removed in the future. The current behavior is equivalent to passing `weights=None`.\n",
      "  warnings.warn(msg)\n"
     ]
    },
    {
     "name": "stdout",
     "output_type": "stream",
     "text": [
      "----------------------> 0.9319047619047621\n",
      "Evaluated Accuracy: 0.9319\n",
      "Testing b_a_r = 0.0290, c_a_r = 0.1331, f_a_r = 0.7392\n"
     ]
    },
    {
     "name": "stderr",
     "output_type": "stream",
     "text": [
      "/home/asufian/.local/share/pipx/venvs/notebook/lib/python3.12/site-packages/torchvision/models/_utils.py:208: UserWarning: The parameter 'pretrained' is deprecated since 0.13 and may be removed in the future, please use 'weights' instead.\n",
      "  warnings.warn(\n",
      "/home/asufian/.local/share/pipx/venvs/notebook/lib/python3.12/site-packages/torchvision/models/_utils.py:223: UserWarning: Arguments other than a weight enum or `None` for 'weights' are deprecated since 0.13 and may be removed in the future. The current behavior is equivalent to passing `weights=None`.\n",
      "  warnings.warn(msg)\n"
     ]
    },
    {
     "name": "stdout",
     "output_type": "stream",
     "text": [
      "----------------------> 0.9316666666666666\n",
      "Evaluated Accuracy: 0.9317\n",
      "Testing b_a_r = 0.2356, c_a_r = 0.7142, f_a_r = 0.9959\n"
     ]
    },
    {
     "name": "stderr",
     "output_type": "stream",
     "text": [
      "/home/asufian/.local/share/pipx/venvs/notebook/lib/python3.12/site-packages/torchvision/models/_utils.py:208: UserWarning: The parameter 'pretrained' is deprecated since 0.13 and may be removed in the future, please use 'weights' instead.\n",
      "  warnings.warn(\n",
      "/home/asufian/.local/share/pipx/venvs/notebook/lib/python3.12/site-packages/torchvision/models/_utils.py:223: UserWarning: Arguments other than a weight enum or `None` for 'weights' are deprecated since 0.13 and may be removed in the future. The current behavior is equivalent to passing `weights=None`.\n",
      "  warnings.warn(msg)\n"
     ]
    },
    {
     "name": "stdout",
     "output_type": "stream",
     "text": [
      "----------------------> 0.46309523809523806\n",
      "Evaluated Accuracy: 0.4631\n",
      "Testing b_a_r = 0.0090, c_a_r = 0.2089, f_a_r = 0.4416\n"
     ]
    },
    {
     "name": "stderr",
     "output_type": "stream",
     "text": [
      "/home/asufian/.local/share/pipx/venvs/notebook/lib/python3.12/site-packages/torchvision/models/_utils.py:208: UserWarning: The parameter 'pretrained' is deprecated since 0.13 and may be removed in the future, please use 'weights' instead.\n",
      "  warnings.warn(\n",
      "/home/asufian/.local/share/pipx/venvs/notebook/lib/python3.12/site-packages/torchvision/models/_utils.py:223: UserWarning: Arguments other than a weight enum or `None` for 'weights' are deprecated since 0.13 and may be removed in the future. The current behavior is equivalent to passing `weights=None`.\n",
      "  warnings.warn(msg)\n"
     ]
    },
    {
     "name": "stdout",
     "output_type": "stream",
     "text": [
      "----------------------> 0.9126190476190477\n",
      "Evaluated Accuracy: 0.9126\n",
      "Testing b_a_r = 0.4374, c_a_r = 0.7738, f_a_r = 0.0021\n"
     ]
    },
    {
     "name": "stderr",
     "output_type": "stream",
     "text": [
      "/home/asufian/.local/share/pipx/venvs/notebook/lib/python3.12/site-packages/torchvision/models/_utils.py:208: UserWarning: The parameter 'pretrained' is deprecated since 0.13 and may be removed in the future, please use 'weights' instead.\n",
      "  warnings.warn(\n",
      "/home/asufian/.local/share/pipx/venvs/notebook/lib/python3.12/site-packages/torchvision/models/_utils.py:223: UserWarning: Arguments other than a weight enum or `None` for 'weights' are deprecated since 0.13 and may be removed in the future. The current behavior is equivalent to passing `weights=None`.\n",
      "  warnings.warn(msg)\n"
     ]
    },
    {
     "name": "stdout",
     "output_type": "stream",
     "text": [
      "----------------------> 0.49523809523809526\n",
      "Evaluated Accuracy: 0.4952\n",
      "Testing b_a_r = 0.0903, c_a_r = 0.0758, f_a_r = 0.9951\n"
     ]
    },
    {
     "name": "stderr",
     "output_type": "stream",
     "text": [
      "/home/asufian/.local/share/pipx/venvs/notebook/lib/python3.12/site-packages/torchvision/models/_utils.py:208: UserWarning: The parameter 'pretrained' is deprecated since 0.13 and may be removed in the future, please use 'weights' instead.\n",
      "  warnings.warn(\n",
      "/home/asufian/.local/share/pipx/venvs/notebook/lib/python3.12/site-packages/torchvision/models/_utils.py:223: UserWarning: Arguments other than a weight enum or `None` for 'weights' are deprecated since 0.13 and may be removed in the future. The current behavior is equivalent to passing `weights=None`.\n",
      "  warnings.warn(msg)\n"
     ]
    },
    {
     "name": "stdout",
     "output_type": "stream",
     "text": [
      "----------------------> 0.9335714285714284\n",
      "Evaluated Accuracy: 0.9336\n",
      "Testing b_a_r = 0.5260, c_a_r = 0.2268, f_a_r = 0.0036\n"
     ]
    },
    {
     "name": "stderr",
     "output_type": "stream",
     "text": [
      "/home/asufian/.local/share/pipx/venvs/notebook/lib/python3.12/site-packages/torchvision/models/_utils.py:208: UserWarning: The parameter 'pretrained' is deprecated since 0.13 and may be removed in the future, please use 'weights' instead.\n",
      "  warnings.warn(\n",
      "/home/asufian/.local/share/pipx/venvs/notebook/lib/python3.12/site-packages/torchvision/models/_utils.py:223: UserWarning: Arguments other than a weight enum or `None` for 'weights' are deprecated since 0.13 and may be removed in the future. The current behavior is equivalent to passing `weights=None`.\n",
      "  warnings.warn(msg)\n"
     ]
    },
    {
     "name": "stdout",
     "output_type": "stream",
     "text": [
      "----------------------> 0.8754761904761906\n",
      "Evaluated Accuracy: 0.8755\n",
      "Testing b_a_r = 0.0991, c_a_r = 0.2232, f_a_r = 0.9552\n"
     ]
    },
    {
     "name": "stderr",
     "output_type": "stream",
     "text": [
      "/home/asufian/.local/share/pipx/venvs/notebook/lib/python3.12/site-packages/torchvision/models/_utils.py:208: UserWarning: The parameter 'pretrained' is deprecated since 0.13 and may be removed in the future, please use 'weights' instead.\n",
      "  warnings.warn(\n",
      "/home/asufian/.local/share/pipx/venvs/notebook/lib/python3.12/site-packages/torchvision/models/_utils.py:223: UserWarning: Arguments other than a weight enum or `None` for 'weights' are deprecated since 0.13 and may be removed in the future. The current behavior is equivalent to passing `weights=None`.\n",
      "  warnings.warn(msg)\n"
     ]
    },
    {
     "name": "stdout",
     "output_type": "stream",
     "text": [
      "----------------------> 0.8971428571428574\n",
      "Evaluated Accuracy: 0.8971\n",
      "Testing b_a_r = 0.0537, c_a_r = 0.0917, f_a_r = 0.5867\n"
     ]
    },
    {
     "name": "stderr",
     "output_type": "stream",
     "text": [
      "/home/asufian/.local/share/pipx/venvs/notebook/lib/python3.12/site-packages/torchvision/models/_utils.py:208: UserWarning: The parameter 'pretrained' is deprecated since 0.13 and may be removed in the future, please use 'weights' instead.\n",
      "  warnings.warn(\n",
      "/home/asufian/.local/share/pipx/venvs/notebook/lib/python3.12/site-packages/torchvision/models/_utils.py:223: UserWarning: Arguments other than a weight enum or `None` for 'weights' are deprecated since 0.13 and may be removed in the future. The current behavior is equivalent to passing `weights=None`.\n",
      "  warnings.warn(msg)\n"
     ]
    },
    {
     "name": "stdout",
     "output_type": "stream",
     "text": [
      "----------------------> 0.9221428571428573\n",
      "Evaluated Accuracy: 0.9221\n",
      "Testing b_a_r = 0.8187, c_a_r = 0.5421, f_a_r = 0.9992\n"
     ]
    },
    {
     "name": "stderr",
     "output_type": "stream",
     "text": [
      "/home/asufian/.local/share/pipx/venvs/notebook/lib/python3.12/site-packages/torchvision/models/_utils.py:208: UserWarning: The parameter 'pretrained' is deprecated since 0.13 and may be removed in the future, please use 'weights' instead.\n",
      "  warnings.warn(\n",
      "/home/asufian/.local/share/pipx/venvs/notebook/lib/python3.12/site-packages/torchvision/models/_utils.py:223: UserWarning: Arguments other than a weight enum or `None` for 'weights' are deprecated since 0.13 and may be removed in the future. The current behavior is equivalent to passing `weights=None`.\n",
      "  warnings.warn(msg)\n"
     ]
    },
    {
     "name": "stdout",
     "output_type": "stream",
     "text": [
      "----------------------> 0.64\n",
      "Evaluated Accuracy: 0.6400\n",
      "Testing b_a_r = 0.5503, c_a_r = 0.6149, f_a_r = 0.0004\n"
     ]
    },
    {
     "name": "stderr",
     "output_type": "stream",
     "text": [
      "/home/asufian/.local/share/pipx/venvs/notebook/lib/python3.12/site-packages/torchvision/models/_utils.py:208: UserWarning: The parameter 'pretrained' is deprecated since 0.13 and may be removed in the future, please use 'weights' instead.\n",
      "  warnings.warn(\n",
      "/home/asufian/.local/share/pipx/venvs/notebook/lib/python3.12/site-packages/torchvision/models/_utils.py:223: UserWarning: Arguments other than a weight enum or `None` for 'weights' are deprecated since 0.13 and may be removed in the future. The current behavior is equivalent to passing `weights=None`.\n",
      "  warnings.warn(msg)\n"
     ]
    },
    {
     "name": "stdout",
     "output_type": "stream",
     "text": [
      "----------------------> 0.6852380952380952\n",
      "Evaluated Accuracy: 0.6852\n",
      "Testing b_a_r = 0.9774, c_a_r = 0.2527, f_a_r = 0.5390\n"
     ]
    },
    {
     "name": "stderr",
     "output_type": "stream",
     "text": [
      "/home/asufian/.local/share/pipx/venvs/notebook/lib/python3.12/site-packages/torchvision/models/_utils.py:208: UserWarning: The parameter 'pretrained' is deprecated since 0.13 and may be removed in the future, please use 'weights' instead.\n",
      "  warnings.warn(\n",
      "/home/asufian/.local/share/pipx/venvs/notebook/lib/python3.12/site-packages/torchvision/models/_utils.py:223: UserWarning: Arguments other than a weight enum or `None` for 'weights' are deprecated since 0.13 and may be removed in the future. The current behavior is equivalent to passing `weights=None`.\n",
      "  warnings.warn(msg)\n"
     ]
    },
    {
     "name": "stdout",
     "output_type": "stream",
     "text": [
      "----------------------> 0.8890476190476191\n",
      "Evaluated Accuracy: 0.8890\n",
      "Testing b_a_r = 0.1453, c_a_r = 0.0908, f_a_r = 0.8341\n"
     ]
    },
    {
     "name": "stderr",
     "output_type": "stream",
     "text": [
      "/home/asufian/.local/share/pipx/venvs/notebook/lib/python3.12/site-packages/torchvision/models/_utils.py:208: UserWarning: The parameter 'pretrained' is deprecated since 0.13 and may be removed in the future, please use 'weights' instead.\n",
      "  warnings.warn(\n",
      "/home/asufian/.local/share/pipx/venvs/notebook/lib/python3.12/site-packages/torchvision/models/_utils.py:223: UserWarning: Arguments other than a weight enum or `None` for 'weights' are deprecated since 0.13 and may be removed in the future. The current behavior is equivalent to passing `weights=None`.\n",
      "  warnings.warn(msg)\n"
     ]
    },
    {
     "name": "stdout",
     "output_type": "stream",
     "text": [
      "----------------------> 0.9330952380952381\n",
      "Evaluated Accuracy: 0.9331\n",
      "Testing b_a_r = 0.7326, c_a_r = 0.8981, f_a_r = 0.9970\n"
     ]
    },
    {
     "name": "stderr",
     "output_type": "stream",
     "text": [
      "/home/asufian/.local/share/pipx/venvs/notebook/lib/python3.12/site-packages/torchvision/models/_utils.py:208: UserWarning: The parameter 'pretrained' is deprecated since 0.13 and may be removed in the future, please use 'weights' instead.\n",
      "  warnings.warn(\n",
      "/home/asufian/.local/share/pipx/venvs/notebook/lib/python3.12/site-packages/torchvision/models/_utils.py:223: UserWarning: Arguments other than a weight enum or `None` for 'weights' are deprecated since 0.13 and may be removed in the future. The current behavior is equivalent to passing `weights=None`.\n",
      "  warnings.warn(msg)\n"
     ]
    },
    {
     "name": "stdout",
     "output_type": "stream",
     "text": [
      "----------------------> 0.3928571428571428\n",
      "Evaluated Accuracy: 0.3929\n",
      "Testing b_a_r = 0.2564, c_a_r = 0.0456, f_a_r = 0.9987\n"
     ]
    },
    {
     "name": "stderr",
     "output_type": "stream",
     "text": [
      "/home/asufian/.local/share/pipx/venvs/notebook/lib/python3.12/site-packages/torchvision/models/_utils.py:208: UserWarning: The parameter 'pretrained' is deprecated since 0.13 and may be removed in the future, please use 'weights' instead.\n",
      "  warnings.warn(\n",
      "/home/asufian/.local/share/pipx/venvs/notebook/lib/python3.12/site-packages/torchvision/models/_utils.py:223: UserWarning: Arguments other than a weight enum or `None` for 'weights' are deprecated since 0.13 and may be removed in the future. The current behavior is equivalent to passing `weights=None`.\n",
      "  warnings.warn(msg)\n"
     ]
    },
    {
     "name": "stdout",
     "output_type": "stream",
     "text": [
      "----------------------> 0.907857142857143\n",
      "Evaluated Accuracy: 0.9079\n",
      "Testing b_a_r = 0.9785, c_a_r = 0.0870, f_a_r = 0.9764\n"
     ]
    },
    {
     "name": "stderr",
     "output_type": "stream",
     "text": [
      "/home/asufian/.local/share/pipx/venvs/notebook/lib/python3.12/site-packages/torchvision/models/_utils.py:208: UserWarning: The parameter 'pretrained' is deprecated since 0.13 and may be removed in the future, please use 'weights' instead.\n",
      "  warnings.warn(\n",
      "/home/asufian/.local/share/pipx/venvs/notebook/lib/python3.12/site-packages/torchvision/models/_utils.py:223: UserWarning: Arguments other than a weight enum or `None` for 'weights' are deprecated since 0.13 and may be removed in the future. The current behavior is equivalent to passing `weights=None`.\n",
      "  warnings.warn(msg)\n"
     ]
    },
    {
     "name": "stdout",
     "output_type": "stream",
     "text": [
      "----------------------> 0.9283333333333332\n",
      "Evaluated Accuracy: 0.9283\n",
      "Testing b_a_r = 0.0125, c_a_r = 0.0899, f_a_r = 0.8741\n"
     ]
    },
    {
     "name": "stderr",
     "output_type": "stream",
     "text": [
      "/home/asufian/.local/share/pipx/venvs/notebook/lib/python3.12/site-packages/torchvision/models/_utils.py:208: UserWarning: The parameter 'pretrained' is deprecated since 0.13 and may be removed in the future, please use 'weights' instead.\n",
      "  warnings.warn(\n",
      "/home/asufian/.local/share/pipx/venvs/notebook/lib/python3.12/site-packages/torchvision/models/_utils.py:223: UserWarning: Arguments other than a weight enum or `None` for 'weights' are deprecated since 0.13 and may be removed in the future. The current behavior is equivalent to passing `weights=None`.\n",
      "  warnings.warn(msg)\n"
     ]
    },
    {
     "name": "stdout",
     "output_type": "stream",
     "text": [
      "----------------------> 0.9352380952380953\n",
      "Evaluated Accuracy: 0.9352\n",
      "Testing b_a_r = 0.0180, c_a_r = 0.1585, f_a_r = 0.7272\n"
     ]
    },
    {
     "name": "stderr",
     "output_type": "stream",
     "text": [
      "/home/asufian/.local/share/pipx/venvs/notebook/lib/python3.12/site-packages/torchvision/models/_utils.py:208: UserWarning: The parameter 'pretrained' is deprecated since 0.13 and may be removed in the future, please use 'weights' instead.\n",
      "  warnings.warn(\n",
      "/home/asufian/.local/share/pipx/venvs/notebook/lib/python3.12/site-packages/torchvision/models/_utils.py:223: UserWarning: Arguments other than a weight enum or `None` for 'weights' are deprecated since 0.13 and may be removed in the future. The current behavior is equivalent to passing `weights=None`.\n",
      "  warnings.warn(msg)\n"
     ]
    },
    {
     "name": "stdout",
     "output_type": "stream",
     "text": [
      "----------------------> 0.9240476190476189\n",
      "Evaluated Accuracy: 0.9240\n",
      "Testing b_a_r = 0.0006, c_a_r = 0.1012, f_a_r = 0.9045\n"
     ]
    },
    {
     "name": "stderr",
     "output_type": "stream",
     "text": [
      "/home/asufian/.local/share/pipx/venvs/notebook/lib/python3.12/site-packages/torchvision/models/_utils.py:208: UserWarning: The parameter 'pretrained' is deprecated since 0.13 and may be removed in the future, please use 'weights' instead.\n",
      "  warnings.warn(\n",
      "/home/asufian/.local/share/pipx/venvs/notebook/lib/python3.12/site-packages/torchvision/models/_utils.py:223: UserWarning: Arguments other than a weight enum or `None` for 'weights' are deprecated since 0.13 and may be removed in the future. The current behavior is equivalent to passing `weights=None`.\n",
      "  warnings.warn(msg)\n"
     ]
    },
    {
     "name": "stdout",
     "output_type": "stream",
     "text": [
      "----------------------> 0.9345238095238094\n",
      "Evaluated Accuracy: 0.9345\n",
      "Testing b_a_r = 0.9946, c_a_r = 0.0888, f_a_r = 0.8290\n"
     ]
    },
    {
     "name": "stderr",
     "output_type": "stream",
     "text": [
      "/home/asufian/.local/share/pipx/venvs/notebook/lib/python3.12/site-packages/torchvision/models/_utils.py:208: UserWarning: The parameter 'pretrained' is deprecated since 0.13 and may be removed in the future, please use 'weights' instead.\n",
      "  warnings.warn(\n",
      "/home/asufian/.local/share/pipx/venvs/notebook/lib/python3.12/site-packages/torchvision/models/_utils.py:223: UserWarning: Arguments other than a weight enum or `None` for 'weights' are deprecated since 0.13 and may be removed in the future. The current behavior is equivalent to passing `weights=None`.\n",
      "  warnings.warn(msg)\n"
     ]
    },
    {
     "name": "stdout",
     "output_type": "stream",
     "text": [
      "----------------------> 0.9290476190476191\n",
      "Evaluated Accuracy: 0.9290\n",
      "Testing b_a_r = 0.2527, c_a_r = 0.0650, f_a_r = 0.0147\n"
     ]
    },
    {
     "name": "stderr",
     "output_type": "stream",
     "text": [
      "/home/asufian/.local/share/pipx/venvs/notebook/lib/python3.12/site-packages/torchvision/models/_utils.py:208: UserWarning: The parameter 'pretrained' is deprecated since 0.13 and may be removed in the future, please use 'weights' instead.\n",
      "  warnings.warn(\n",
      "/home/asufian/.local/share/pipx/venvs/notebook/lib/python3.12/site-packages/torchvision/models/_utils.py:223: UserWarning: Arguments other than a weight enum or `None` for 'weights' are deprecated since 0.13 and may be removed in the future. The current behavior is equivalent to passing `weights=None`.\n",
      "  warnings.warn(msg)\n"
     ]
    },
    {
     "name": "stdout",
     "output_type": "stream",
     "text": [
      "----------------------> 0.844047619047619\n",
      "Evaluated Accuracy: 0.8440\n",
      "Testing b_a_r = 0.1945, c_a_r = 0.0033, f_a_r = 0.6007\n"
     ]
    },
    {
     "name": "stderr",
     "output_type": "stream",
     "text": [
      "/home/asufian/.local/share/pipx/venvs/notebook/lib/python3.12/site-packages/torchvision/models/_utils.py:208: UserWarning: The parameter 'pretrained' is deprecated since 0.13 and may be removed in the future, please use 'weights' instead.\n",
      "  warnings.warn(\n",
      "/home/asufian/.local/share/pipx/venvs/notebook/lib/python3.12/site-packages/torchvision/models/_utils.py:223: UserWarning: Arguments other than a weight enum or `None` for 'weights' are deprecated since 0.13 and may be removed in the future. The current behavior is equivalent to passing `weights=None`.\n",
      "  warnings.warn(msg)\n"
     ]
    },
    {
     "name": "stdout",
     "output_type": "stream",
     "text": [
      "----------------------> 0.8557142857142858\n",
      "Evaluated Accuracy: 0.8557\n",
      "Testing b_a_r = 0.0446, c_a_r = 0.0881, f_a_r = 0.9712\n"
     ]
    },
    {
     "name": "stderr",
     "output_type": "stream",
     "text": [
      "/home/asufian/.local/share/pipx/venvs/notebook/lib/python3.12/site-packages/torchvision/models/_utils.py:208: UserWarning: The parameter 'pretrained' is deprecated since 0.13 and may be removed in the future, please use 'weights' instead.\n",
      "  warnings.warn(\n",
      "/home/asufian/.local/share/pipx/venvs/notebook/lib/python3.12/site-packages/torchvision/models/_utils.py:223: UserWarning: Arguments other than a weight enum or `None` for 'weights' are deprecated since 0.13 and may be removed in the future. The current behavior is equivalent to passing `weights=None`.\n",
      "  warnings.warn(msg)\n"
     ]
    },
    {
     "name": "stdout",
     "output_type": "stream",
     "text": [
      "----------------------> 0.9345238095238096\n",
      "Evaluated Accuracy: 0.9345\n",
      "Testing b_a_r = 0.9333, c_a_r = 0.1847, f_a_r = 0.9966\n"
     ]
    },
    {
     "name": "stderr",
     "output_type": "stream",
     "text": [
      "/home/asufian/.local/share/pipx/venvs/notebook/lib/python3.12/site-packages/torchvision/models/_utils.py:208: UserWarning: The parameter 'pretrained' is deprecated since 0.13 and may be removed in the future, please use 'weights' instead.\n",
      "  warnings.warn(\n",
      "/home/asufian/.local/share/pipx/venvs/notebook/lib/python3.12/site-packages/torchvision/models/_utils.py:223: UserWarning: Arguments other than a weight enum or `None` for 'weights' are deprecated since 0.13 and may be removed in the future. The current behavior is equivalent to passing `weights=None`.\n",
      "  warnings.warn(msg)\n"
     ]
    },
    {
     "name": "stdout",
     "output_type": "stream",
     "text": [
      "----------------------> 0.9166666666666666\n",
      "Evaluated Accuracy: 0.9167\n",
      "Testing b_a_r = 0.9319, c_a_r = 0.1846, f_a_r = 0.3268\n"
     ]
    },
    {
     "name": "stderr",
     "output_type": "stream",
     "text": [
      "/home/asufian/.local/share/pipx/venvs/notebook/lib/python3.12/site-packages/torchvision/models/_utils.py:208: UserWarning: The parameter 'pretrained' is deprecated since 0.13 and may be removed in the future, please use 'weights' instead.\n",
      "  warnings.warn(\n",
      "/home/asufian/.local/share/pipx/venvs/notebook/lib/python3.12/site-packages/torchvision/models/_utils.py:223: UserWarning: Arguments other than a weight enum or `None` for 'weights' are deprecated since 0.13 and may be removed in the future. The current behavior is equivalent to passing `weights=None`.\n",
      "  warnings.warn(msg)\n"
     ]
    },
    {
     "name": "stdout",
     "output_type": "stream",
     "text": [
      "----------------------> 0.9030952380952381\n",
      "Evaluated Accuracy: 0.9031\n",
      "Testing b_a_r = 0.0706, c_a_r = 0.2769, f_a_r = 0.0061\n"
     ]
    },
    {
     "name": "stderr",
     "output_type": "stream",
     "text": [
      "/home/asufian/.local/share/pipx/venvs/notebook/lib/python3.12/site-packages/torchvision/models/_utils.py:208: UserWarning: The parameter 'pretrained' is deprecated since 0.13 and may be removed in the future, please use 'weights' instead.\n",
      "  warnings.warn(\n",
      "/home/asufian/.local/share/pipx/venvs/notebook/lib/python3.12/site-packages/torchvision/models/_utils.py:223: UserWarning: Arguments other than a weight enum or `None` for 'weights' are deprecated since 0.13 and may be removed in the future. The current behavior is equivalent to passing `weights=None`.\n",
      "  warnings.warn(msg)\n"
     ]
    },
    {
     "name": "stdout",
     "output_type": "stream",
     "text": [
      "----------------------> 0.860952380952381\n",
      "Evaluated Accuracy: 0.8610\n",
      "Testing b_a_r = 0.2778, c_a_r = 0.9150, f_a_r = 0.0167\n"
     ]
    },
    {
     "name": "stderr",
     "output_type": "stream",
     "text": [
      "/home/asufian/.local/share/pipx/venvs/notebook/lib/python3.12/site-packages/torchvision/models/_utils.py:208: UserWarning: The parameter 'pretrained' is deprecated since 0.13 and may be removed in the future, please use 'weights' instead.\n",
      "  warnings.warn(\n",
      "/home/asufian/.local/share/pipx/venvs/notebook/lib/python3.12/site-packages/torchvision/models/_utils.py:223: UserWarning: Arguments other than a weight enum or `None` for 'weights' are deprecated since 0.13 and may be removed in the future. The current behavior is equivalent to passing `weights=None`.\n",
      "  warnings.warn(msg)\n"
     ]
    },
    {
     "name": "stdout",
     "output_type": "stream",
     "text": [
      "----------------------> 0.4423809523809523\n",
      "Evaluated Accuracy: 0.4424\n",
      "Testing b_a_r = 0.0118, c_a_r = 0.1040, f_a_r = 0.7799\n"
     ]
    },
    {
     "name": "stderr",
     "output_type": "stream",
     "text": [
      "/home/asufian/.local/share/pipx/venvs/notebook/lib/python3.12/site-packages/torchvision/models/_utils.py:208: UserWarning: The parameter 'pretrained' is deprecated since 0.13 and may be removed in the future, please use 'weights' instead.\n",
      "  warnings.warn(\n",
      "/home/asufian/.local/share/pipx/venvs/notebook/lib/python3.12/site-packages/torchvision/models/_utils.py:223: UserWarning: Arguments other than a weight enum or `None` for 'weights' are deprecated since 0.13 and may be removed in the future. The current behavior is equivalent to passing `weights=None`.\n",
      "  warnings.warn(msg)\n"
     ]
    },
    {
     "name": "stdout",
     "output_type": "stream",
     "text": [
      "----------------------> 0.9364285714285715\n",
      "Evaluated Accuracy: 0.9364\n",
      "Testing b_a_r = 0.0020, c_a_r = 0.0728, f_a_r = 0.8171\n"
     ]
    },
    {
     "name": "stderr",
     "output_type": "stream",
     "text": [
      "/home/asufian/.local/share/pipx/venvs/notebook/lib/python3.12/site-packages/torchvision/models/_utils.py:208: UserWarning: The parameter 'pretrained' is deprecated since 0.13 and may be removed in the future, please use 'weights' instead.\n",
      "  warnings.warn(\n",
      "/home/asufian/.local/share/pipx/venvs/notebook/lib/python3.12/site-packages/torchvision/models/_utils.py:223: UserWarning: Arguments other than a weight enum or `None` for 'weights' are deprecated since 0.13 and may be removed in the future. The current behavior is equivalent to passing `weights=None`.\n",
      "  warnings.warn(msg)\n"
     ]
    },
    {
     "name": "stdout",
     "output_type": "stream",
     "text": [
      "----------------------> 0.9319047619047618\n",
      "Evaluated Accuracy: 0.9319\n",
      "Testing b_a_r = 0.5542, c_a_r = 0.4446, f_a_r = 0.9982\n"
     ]
    },
    {
     "name": "stderr",
     "output_type": "stream",
     "text": [
      "/home/asufian/.local/share/pipx/venvs/notebook/lib/python3.12/site-packages/torchvision/models/_utils.py:208: UserWarning: The parameter 'pretrained' is deprecated since 0.13 and may be removed in the future, please use 'weights' instead.\n",
      "  warnings.warn(\n",
      "/home/asufian/.local/share/pipx/venvs/notebook/lib/python3.12/site-packages/torchvision/models/_utils.py:223: UserWarning: Arguments other than a weight enum or `None` for 'weights' are deprecated since 0.13 and may be removed in the future. The current behavior is equivalent to passing `weights=None`.\n",
      "  warnings.warn(msg)\n"
     ]
    },
    {
     "name": "stdout",
     "output_type": "stream",
     "text": [
      "----------------------> 0.6404761904761905\n",
      "Evaluated Accuracy: 0.6405\n",
      "Testing b_a_r = 0.0222, c_a_r = 0.1825, f_a_r = 0.6951\n"
     ]
    },
    {
     "name": "stderr",
     "output_type": "stream",
     "text": [
      "/home/asufian/.local/share/pipx/venvs/notebook/lib/python3.12/site-packages/torchvision/models/_utils.py:208: UserWarning: The parameter 'pretrained' is deprecated since 0.13 and may be removed in the future, please use 'weights' instead.\n",
      "  warnings.warn(\n",
      "/home/asufian/.local/share/pipx/venvs/notebook/lib/python3.12/site-packages/torchvision/models/_utils.py:223: UserWarning: Arguments other than a weight enum or `None` for 'weights' are deprecated since 0.13 and may be removed in the future. The current behavior is equivalent to passing `weights=None`.\n",
      "  warnings.warn(msg)\n"
     ]
    },
    {
     "name": "stdout",
     "output_type": "stream",
     "text": [
      "----------------------> 0.9171428571428573\n",
      "Evaluated Accuracy: 0.9171\n",
      "Testing b_a_r = 0.9805, c_a_r = 0.1054, f_a_r = 0.7276\n"
     ]
    },
    {
     "name": "stderr",
     "output_type": "stream",
     "text": [
      "/home/asufian/.local/share/pipx/venvs/notebook/lib/python3.12/site-packages/torchvision/models/_utils.py:208: UserWarning: The parameter 'pretrained' is deprecated since 0.13 and may be removed in the future, please use 'weights' instead.\n",
      "  warnings.warn(\n",
      "/home/asufian/.local/share/pipx/venvs/notebook/lib/python3.12/site-packages/torchvision/models/_utils.py:223: UserWarning: Arguments other than a weight enum or `None` for 'weights' are deprecated since 0.13 and may be removed in the future. The current behavior is equivalent to passing `weights=None`.\n",
      "  warnings.warn(msg)\n"
     ]
    },
    {
     "name": "stdout",
     "output_type": "stream",
     "text": [
      "----------------------> 0.9321428571428573\n",
      "Evaluated Accuracy: 0.9321\n",
      "Testing b_a_r = 0.0067, c_a_r = 0.0978, f_a_r = 0.7058\n"
     ]
    },
    {
     "name": "stderr",
     "output_type": "stream",
     "text": [
      "/home/asufian/.local/share/pipx/venvs/notebook/lib/python3.12/site-packages/torchvision/models/_utils.py:208: UserWarning: The parameter 'pretrained' is deprecated since 0.13 and may be removed in the future, please use 'weights' instead.\n",
      "  warnings.warn(\n",
      "/home/asufian/.local/share/pipx/venvs/notebook/lib/python3.12/site-packages/torchvision/models/_utils.py:223: UserWarning: Arguments other than a weight enum or `None` for 'weights' are deprecated since 0.13 and may be removed in the future. The current behavior is equivalent to passing `weights=None`.\n",
      "  warnings.warn(msg)\n"
     ]
    },
    {
     "name": "stdout",
     "output_type": "stream",
     "text": [
      "----------------------> 0.9330952380952383\n",
      "Evaluated Accuracy: 0.9331\n",
      "Testing b_a_r = 0.9910, c_a_r = 0.0809, f_a_r = 0.9840\n"
     ]
    },
    {
     "name": "stderr",
     "output_type": "stream",
     "text": [
      "/home/asufian/.local/share/pipx/venvs/notebook/lib/python3.12/site-packages/torchvision/models/_utils.py:208: UserWarning: The parameter 'pretrained' is deprecated since 0.13 and may be removed in the future, please use 'weights' instead.\n",
      "  warnings.warn(\n",
      "/home/asufian/.local/share/pipx/venvs/notebook/lib/python3.12/site-packages/torchvision/models/_utils.py:223: UserWarning: Arguments other than a weight enum or `None` for 'weights' are deprecated since 0.13 and may be removed in the future. The current behavior is equivalent to passing `weights=None`.\n",
      "  warnings.warn(msg)\n"
     ]
    },
    {
     "name": "stdout",
     "output_type": "stream",
     "text": [
      "----------------------> 0.9288095238095239\n",
      "Evaluated Accuracy: 0.9288\n",
      "Testing b_a_r = 0.0145, c_a_r = 0.1022, f_a_r = 0.9654\n"
     ]
    },
    {
     "name": "stderr",
     "output_type": "stream",
     "text": [
      "/home/asufian/.local/share/pipx/venvs/notebook/lib/python3.12/site-packages/torchvision/models/_utils.py:208: UserWarning: The parameter 'pretrained' is deprecated since 0.13 and may be removed in the future, please use 'weights' instead.\n",
      "  warnings.warn(\n",
      "/home/asufian/.local/share/pipx/venvs/notebook/lib/python3.12/site-packages/torchvision/models/_utils.py:223: UserWarning: Arguments other than a weight enum or `None` for 'weights' are deprecated since 0.13 and may be removed in the future. The current behavior is equivalent to passing `weights=None`.\n",
      "  warnings.warn(msg)\n"
     ]
    },
    {
     "name": "stdout",
     "output_type": "stream",
     "text": [
      "----------------------> 0.9340476190476191\n",
      "Evaluated Accuracy: 0.9340\n",
      "\n",
      "✅ Optimal Values:\n",
      "   - b_a_r: 0.0118\n",
      "   - c_a_r: 0.1040\n",
      "   - f_a_r: 0.7799\n",
      "📈 Highest Accuracy Achieved: 0.9364\n"
     ]
    }
   ],
   "source": [
    "import numpy as np\n",
    "import torch\n",
    "import matplotlib.pyplot as plt\n",
    "from skopt import gp_minimize\n",
    "from skopt.space import Real\n",
    "from skopt.utils import use_named_args\n",
    "from skopt.plots import plot_convergence\n",
    "\n",
    "# Device setup\n",
    "device = torch.device(\"cuda\" if torch.cuda.is_available() else \"cpu\")\n",
    "\n",
    "\n",
    "# Define the search space for b_a_r, c_a_r, and f_a_r\n",
    "search_space = [\n",
    "    Real(0.0, 1.0, name=\"b_a_r\"),\n",
    "    Real(0.0, 1.0, name=\"c_a_r\"),\n",
    "    Real(0.0, 1.0, name=\"f_a_r\")\n",
    "]\n",
    "\n",
    "# Define the objective function for Bayesian Optimization\n",
    "@use_named_args(search_space)\n",
    "def objective(b_a_r, c_a_r, f_a_r):\n",
    "    \"\"\"\n",
    "    Objective function to optimize the adaptation ratios.\n",
    "    It applies adaptation, evaluates the model, and returns the negative accuracy.\n",
    "    \"\"\"\n",
    "    accuracy = get_model_accuracy(b_a_r, c_a_r, f_a_r)\n",
    "    print(f\"Evaluated Accuracy: {accuracy:.4f}\")  # Debugging Output\n",
    "    \n",
    "    return -accuracy  # We minimize, so return negative accuracy\n",
    "\n",
    "# Perform Bayesian Optimization with additional settings\n",
    "search_iteration=50\n",
    "res = gp_minimize(\n",
    "    func=objective,\n",
    "    dimensions=search_space,\n",
    "    n_calls=search_iteration,               # Number of evaluations\n",
    "    n_initial_points=5,       # Initial random explorations before GP starts\n",
    "    acq_func=\"EI\",            # Acquisition function: Expected Improvement\n",
    "    random_state=42,          # Ensure reproducibility\n",
    "    n_jobs=-1,                # Parallel execution for faster optimization\n",
    ")\n",
    "\n",
    "# Extract optimal results\n",
    "optimal_b_a_r, optimal_c_a_r, optimal_f_a_r = res.x\n",
    "best_accuracy = -res.fun\n",
    "\n",
    "print(f\"\\n✅ Optimal Values:\")\n",
    "print(f\"   - b_a_r: {optimal_b_a_r:.4f}\")\n",
    "print(f\"   - c_a_r: {optimal_c_a_r:.4f}\")\n",
    "print(f\"   - f_a_r: {optimal_f_a_r:.4f}\")\n",
    "print(f\"📈 Highest Accuracy Achieved: {best_accuracy:.4f}\")\n",
    "\n",
    "\n"
   ]
  },
  {
   "cell_type": "code",
   "execution_count": 74,
   "metadata": {},
   "outputs": [
    {
     "name": "stderr",
     "output_type": "stream",
     "text": [
      "/home/asufian/.local/share/pipx/venvs/notebook/lib/python3.12/site-packages/torchvision/models/_utils.py:208: UserWarning: The parameter 'pretrained' is deprecated since 0.13 and may be removed in the future, please use 'weights' instead.\n",
      "  warnings.warn(\n",
      "/home/asufian/.local/share/pipx/venvs/notebook/lib/python3.12/site-packages/torchvision/models/_utils.py:223: UserWarning: Arguments other than a weight enum or `None` for 'weights' are deprecated since 0.13 and may be removed in the future. The current behavior is equivalent to passing `weights=None`.\n",
      "  warnings.warn(msg)\n"
     ]
    },
    {
     "name": "stdout",
     "output_type": "stream",
     "text": [
      "---Accu-----pre----rec---------> 0.8098 ± 0.0727  0.8214 ± 0.0711  0.8098 ± 0.0727\n"
     ]
    },
    {
     "name": "stderr",
     "output_type": "stream",
     "text": [
      "/home/asufian/.local/share/pipx/venvs/notebook/lib/python3.12/site-packages/torchvision/models/_utils.py:208: UserWarning: The parameter 'pretrained' is deprecated since 0.13 and may be removed in the future, please use 'weights' instead.\n",
      "  warnings.warn(\n",
      "/home/asufian/.local/share/pipx/venvs/notebook/lib/python3.12/site-packages/torchvision/models/_utils.py:223: UserWarning: Arguments other than a weight enum or `None` for 'weights' are deprecated since 0.13 and may be removed in the future. The current behavior is equivalent to passing `weights=None`.\n",
      "  warnings.warn(msg)\n"
     ]
    },
    {
     "name": "stdout",
     "output_type": "stream",
     "text": [
      "---Accu-----pre----rec---------> 0.6790 ± 0.0583  0.6879 ± 0.0631  0.6790 ± 0.0583\n",
      "---Accu-----pre----rec---------> 0.9364 ± 0.0456  0.9386 ± 0.0436  0.9364 ± 0.0456\n"
     ]
    }
   ],
   "source": [
    "convolutional_network_with_dropout = ResNet18WithDropout(pretrained=False, dr=0.0)\n",
    "convolutional_network_with_dropout.fc = nn.Flatten()\n",
    "xyz = convolutional_network_with_dropout\n",
    "M3 = PrototypicalNetworks_dynamic_query(xyz).to(device)\n",
    "M3.load_state_dict(torch.load('model_own_path.pt'))\n",
    "evaluate2('/home/asufian/Desktop/output_olchiki/resnet_resluts/base/5_w_10_s_f', test_loader, M3, criterion)\n",
    "# Load Model M2\n",
    "convolutional_network_with_dropout = ResNet18WithDropout(pretrained=False, dr=0.0)\n",
    "convolutional_network_with_dropout.fc = nn.Flatten()\n",
    "xyz2 = convolutional_network_with_dropout\n",
    "M2 = PrototypicalNetworks_dynamic_query(xyz2).to(device)\n",
    "M2.load_state_dict(torch.load('model_mu_path.pt'))\n",
    "evaluate2(\"/home/asufian/Desktop/output_olchiki/resnet_resluts/secondary/5_w_10_s_f\", test_loader, M2, criterion)\n",
    "# Update Model M3's weights using a weighted combination of Model M3 and Model M2\n",
    "update_model_weights2(M3, M2, conv_ratio= optimal_c_a_r , fc_ratio=optimal_f_a_r , bias_ratio=optimal_b_a_r)\n",
    "\n",
    "# Assuming you have the evaluate2 function defined\n",
    "# Evaluate the updated model (M3) using evaluate2 function with some arguments\n",
    "evaluate2(\"/home/asufian/Desktop/output_olchiki/resnet_resluts/amul/5_w_5_10_f\", test_loader, M3, criterion)\n",
    "\n",
    "# Assuming you have the evaluate2 function defined\n",
    "# Evaluate the updated model (M3) using evaluate2 function with some arguments\n",
    "# evaluate3(pp+'/_olchiki_5-wau-1-shot_matchine_unlearning_own', test_loader, M3, criterion)"
   ]
  },
  {
   "cell_type": "code",
   "execution_count": 50,
   "metadata": {},
   "outputs": [
    {
     "name": "stdout",
     "output_type": "stream",
     "text": [
      "5_w_10_s.txt  5_w_10_s.xlsx\n"
     ]
    }
   ],
   "source": [
    "ls /home/asufian/Desktop/output_olchiki/lol"
   ]
  },
  {
   "cell_type": "code",
   "execution_count": null,
   "metadata": {},
   "outputs": [],
   "source": []
  },
  {
   "cell_type": "code",
   "execution_count": null,
   "metadata": {},
   "outputs": [],
   "source": []
  },
  {
   "cell_type": "code",
   "execution_count": 76,
   "metadata": {},
   "outputs": [],
   "source": [
    "clss_8=[\n",
    "    ['Olchiki_2_80_c10', 'Olchiki_2_80_c25', 'Olchiki_2_80_c27', 'Olchiki_2_80_c13', 'Olchiki_2_80_c8', 'Olchiki_2_80_c11', 'Olchiki_2_80_c15', 'Olchiki_2_80_c5'],\n",
    "    ['Olchiki_2_80_c1', 'Olchiki_2_80_c27', 'Olchiki_2_80_c8', 'Olchiki_2_80_c4', 'Olchiki_2_80_c18', 'Olchiki_2_80_c2', 'Olchiki_2_80_c29', 'Olchiki_2_80_c26'],\n",
    "    ['Olchiki_2_80_c23', 'Olchiki_2_80_c11', 'Olchiki_2_80_c25', 'Olchiki_2_80_c29', 'Olchiki_2_80_c21', 'Olchiki_2_80_c27', 'Olchiki_2_80_c3', 'Olchiki_2_80_c7'],\n",
    "    ['Olchiki_2_80_c23', 'Olchiki_2_80_c4', 'Olchiki_2_80_c26', 'Olchiki_2_80_c2', 'Olchiki_2_80_c17', 'Olchiki_2_80_c30', 'Olchiki_2_80_c18', 'Olchiki_2_80_c9'],\n",
    "    ['Olchiki_2_80_c6', 'Olchiki_2_80_c12', 'Olchiki_2_80_c24', 'Olchiki_2_80_c18', 'Olchiki_2_80_c22', 'Olchiki_2_80_c10', 'Olchiki_2_80_c26', 'Olchiki_2_80_c16'],\n",
    "     ['Olchiki_2_80_c6', 'Olchiki_2_80_c26', 'Olchiki_2_80_c8', 'Olchiki_2_80_c12', 'Olchiki_2_80_c14', 'Olchiki_2_80_c16', 'Olchiki_2_80_c25', 'Olchiki_2_80_c4'],\n",
    "    ['Olchiki_2_80_c24', 'Olchiki_2_80_c26', 'Olchiki_2_80_c21', 'Olchiki_2_80_c7', 'Olchiki_2_80_c12', 'Olchiki_2_80_c25', 'Olchiki_2_80_c2', 'Olchiki_2_80_c5'],\n",
    "    ['Olchiki_2_80_c5', 'Olchiki_2_80_c18', 'Olchiki_2_80_c30', 'Olchiki_2_80_c7', 'Olchiki_2_80_c9', 'Olchiki_2_80_c16', 'Olchiki_2_80_c6', 'Olchiki_2_80_c24'],\n",
    "    ['Olchiki_2_80_c27', 'Olchiki_2_80_c5', 'Olchiki_2_80_c3', 'Olchiki_2_80_c12', 'Olchiki_2_80_c30', 'Olchiki_2_80_c6', 'Olchiki_2_80_c18', 'Olchiki_2_80_c10'],\n",
    "    ['Olchiki_2_80_c26', 'Olchiki_2_80_c20', 'Olchiki_2_80_c1', 'Olchiki_2_80_c6', 'Olchiki_2_80_c13', 'Olchiki_2_80_c23', 'Olchiki_2_80_c30', 'Olchiki_2_80_c5'],\n",
    "    ['Olchiki_2_80_c12', 'Olchiki_2_80_c8', 'Olchiki_2_80_c11', 'Olchiki_2_80_c14', 'Olchiki_2_80_c25', 'Olchiki_2_80_c4', 'Olchiki_2_80_c2', 'Olchiki_2_80_c29'],\n",
    "    ['Olchiki_2_80_c17', 'Olchiki_2_80_c14', 'Olchiki_2_80_c20', 'Olchiki_2_80_c29', 'Olchiki_2_80_c8', 'Olchiki_2_80_c11', 'Olchiki_2_80_c2', 'Olchiki_2_80_c28'],\n",
    "    \n",
    "  \n",
    "\n",
    "     ]\n",
    "\n",
    "clss_support_imagesss_10_shot=[\n",
    "    [[6, 16, 45, 19, 27, 44, 23, 60, 42, 13], [60, 32, 27, 28, 65, 66, 44, 3, 21, 34], [8, 74, 70, 6, 14, 23, 69, 75, 39, 21], [42, 58, 71, 17, 35, 1, 75, 40, 56, 44], [10, 51, 55, 15, 75, 48, 6, 56, 63, 19], [11, 47, 24, 10, 15, 37, 63, 48, 33, 22], [72, 58, 3, 32, 41, 51, 15, 46, 0, 52], [61, 6, 76, 62, 45, 51, 55, 72, 53, 40]],\n",
    "    [[3, 23, 33, 18, 2, 25, 50, 6, 36, 68], [55, 79, 3, 0, 15, 53, 4, 46, 2, 44], [11, 9, 62, 15, 36, 37, 24, 38, 13, 49], [34, 26, 31, 70, 44, 17, 5, 12, 67, 15], [23, 72, 65, 58, 5, 42, 11, 22, 15, 69], [40, 65, 22, 56, 7, 69, 66, 57, 54, 48], [13, 40, 20, 75, 71, 45, 12, 32, 56, 79], [22, 55, 51, 69, 64, 18, 60, 31, 30, 11]],\n",
    "    [[62, 36, 4, 1, 3, 32, 31, 33, 59, 7], [25, 62, 6, 45, 53, 7, 71, 72, 61, 23], [21, 68, 67, 64, 36, 13, 33, 2, 25, 24], [59, 76, 28, 11, 10, 39, 51, 7, 22, 25], [11, 29, 59, 64, 40, 63, 27, 37, 22, 9], [42, 51, 50, 26, 56, 79, 8, 7, 15, 0], [28, 43, 56, 19, 48, 20, 50, 6, 73, 10], [74, 70, 67, 65, 72, 47, 62, 26, 49, 10]],\n",
    "    [[22, 58, 20, 1, 55, 40, 6, 18, 62, 33], [9, 28, 77, 31, 4, 37, 17, 29, 64, 40], [30, 7, 9, 20, 74, 79, 43, 2, 24, 55], [18, 13, 20, 19, 5, 4, 0, 39, 25, 34], [11, 28, 38, 72, 9, 47, 6, 62, 43, 64], [23, 26, 65, 54, 24, 27, 15, 48, 41, 28], [20, 55, 53, 3, 24, 8, 13, 50, 68, 35], [32, 33, 24, 51, 79, 39, 57, 37, 42, 60]],\n",
    "    [[38, 30, 53, 3, 0, 68, 18, 47, 28, 32], [55, 22, 0, 37, 75, 7, 64, 12, 34, 62], [6, 25, 44, 67, 77, 8, 70, 76, 3, 53], [70, 23, 59, 30, 37, 39, 12, 34, 53, 56], [77, 25, 60, 33, 43, 52, 75, 26, 36, 61], [29, 76, 1, 56, 55, 0, 3, 19, 18, 40], [40, 41, 45, 19, 6, 27, 18, 15, 43, 56], [72, 52, 24, 42, 66, 60, 79, 10, 11, 73]],\n",
    "     [[37, 66, 29, 79, 19, 72, 63, 49, 20, 4], [51, 47, 75, 16, 17, 61, 3, 78, 77, 24], [1, 27, 34, 16, 30, 48, 75, 12, 10, 33], [24, 66, 65, 71, 8, 12, 56, 58, 16, 30], [26, 23, 74, 35, 40, 8, 38, 37, 42, 66], [30, 21, 33, 0, 28, 20, 19, 79, 12, 45], [22, 5, 32, 77, 40, 67, 46, 7, 42, 56], [14, 70, 63, 6, 23, 5, 30, 72, 26, 41]],\n",
    "    [[29, 43, 70, 46, 11, 58, 37, 48, 21, 23], [18, 42, 64, 14, 38, 6, 16, 21, 29, 67], [15, 72, 56, 69, 78, 39, 29, 49, 27, 36], [67, 54, 16, 26, 58, 17, 68, 42, 19, 76], [60, 75, 74, 7, 2, 47, 34, 25, 44, 63], [28, 62, 59, 68, 65, 16, 72, 48, 42, 10], [44, 55, 58, 42, 78, 24, 9, 32, 16, 73], [17, 34, 19, 32, 69, 75, 46, 45, 39, 18]],\n",
    "    [[58, 54, 29, 40, 11, 43, 30, 44, 70, 3], [75, 21, 6, 36, 48, 70, 64, 30, 32, 59], [1, 70, 41, 69, 67, 19, 16, 77, 45, 53], [19, 5, 11, 16, 34, 14, 70, 71, 69, 33], [3, 14, 75, 28, 1, 5, 15, 72, 40, 60], [16, 22, 38, 77, 39, 7, 79, 9, 58, 46], [53, 36, 62, 75, 37, 45, 76, 74, 58, 70], [74, 33, 62, 8, 73, 75, 38, 0, 20, 12]],\n",
    "    [[79, 67, 1, 32, 11, 7, 59, 26, 50, 57], [11, 24, 16, 74, 39, 78, 41, 6, 36, 27], [27, 41, 58, 71, 39, 42, 25, 13, 24, 73], [47, 67, 42, 35, 3, 24, 53, 43, 39, 16], [15, 14, 2, 23, 53, 18, 25, 48, 4, 66], [66, 36, 68, 14, 63, 13, 48, 15, 56, 20], [13, 72, 12, 4, 76, 29, 45, 53, 59, 70], [73, 52, 24, 26, 42, 5, 0, 63, 2, 45]],\n",
    "     [[42, 35, 43, 7, 20, 30, 17, 2, 76, 45], [6, 24, 17, 30, 68, 12, 78, 7, 50, 55], [12, 30, 1, 74, 69, 16, 15, 17, 34, 9], [64, 37, 66, 77, 45, 49, 78, 75, 31, 57], [21, 49, 36, 12, 52, 10, 60, 50, 31, 77], [28, 7, 72, 49, 1, 67, 10, 0, 38, 32], [69, 59, 58, 22, 15, 14, 60, 7, 21, 35], [45, 1, 62, 46, 35, 12, 66, 17, 64, 27]],\n",
    "    [[14, 68, 70, 55, 67, 58, 79, 62, 2, 31], [9, 1, 10, 26, 25, 49, 35, 6, 0, 33], [56, 62, 75, 31, 25, 71, 40, 12, 39, 6], [72, 75, 40, 34, 8, 63, 79, 20, 73, 12], [36, 70, 50, 37, 69, 66, 54, 75, 8, 55], [18, 27, 8, 65, 33, 57, 28, 56, 0, 60], [51, 41, 4, 10, 57, 21, 11, 3, 44, 79], [13, 52, 5, 71, 9, 68, 28, 46, 63, 12]],\n",
    "     [[25, 79, 77, 21, 73, 38, 52, 57, 75, 31], [61, 76, 63, 53, 27, 49, 0, 38, 21, 31], [77, 53, 4, 0, 14, 29, 34, 30, 39, 3], [36, 50, 8, 30, 21, 55, 54, 71, 4, 12], [16, 4, 44, 36, 66, 30, 79, 58, 7, 24], [45, 42, 56, 59, 57, 22, 79, 69, 36, 70], [27, 77, 31, 32, 61, 55, 9, 10, 44, 50], [71, 25, 45, 11, 16, 72, 79, 47, 32, 63]]\n",
    "]\n",
    "clss_support_imagesss_5_shot=[\n",
    "    [[6, 16, 45, 19, 27], [60, 32, 27, 28, 65], [8, 74, 70, 6, 14], [42, 58, 71, 17, 35], [10, 51, 55, 15, 75], [11, 47, 24, 10, 15], [72, 58, 3, 32, 41], [61, 6, 76, 62, 45]],\n",
    "    [[3, 23, 33, 18, 2], [55, 79, 3, 0, 15], [11, 9, 62, 15, 36], [34, 26, 31, 70, 44], [23, 72, 65, 58, 5], [40, 65, 22, 56, 7], [13, 40, 20, 75, 71], [22, 55, 51, 69, 64]],\n",
    "    [[62, 36, 4, 1, 3], [25, 62, 6, 45, 53], [21, 68, 67, 64, 36], [59, 76, 28, 11, 10], [11, 29, 59, 64, 40], [42, 51, 50, 26, 56], [28, 43, 56, 19, 48], [74, 70, 67, 65, 72]],\n",
    "    [[22, 58, 20, 1, 55], [9, 28, 77, 31, 4], [30, 7, 9, 20, 74], [18, 13, 20, 19, 5], [11, 28, 38, 72, 9], [23, 26, 65, 54, 24], [20, 55, 53, 3, 24], [32, 33, 24, 51, 79]],\n",
    "    [[38, 30, 53, 3, 0], [55, 22, 0, 37, 75], [6, 25, 44, 67, 77], [70, 23, 59, 30, 37], [77, 25, 60, 33, 43], [29, 76, 1, 56, 55], [40, 41, 45, 19, 6], [72, 52, 24, 42, 66]],\n",
    "    [[37, 66, 29, 79, 19], [51, 47, 75, 16, 17], [1, 27, 34, 16, 30], [24, 66, 65, 71, 8], [26, 23, 74, 35, 40], [30, 21, 33, 0, 28], [22, 5, 32, 77, 40], [14, 70, 63, 6, 23]],\n",
    "    [[29, 43, 70, 46, 11], [18, 42, 64, 14, 38], [15, 72, 56, 69, 78], [67, 54, 16, 26, 58], [60, 75, 74, 7, 2], [28, 62, 59, 68, 65], [44, 55, 58, 42, 78], [17, 34, 19, 32, 69]],\n",
    "    [[58, 54, 29, 40, 11], [75, 21, 6, 36, 48], [1, 70, 41, 69, 67], [19, 5, 11, 16, 34], [3, 14, 75, 28, 1], [16, 22, 38, 77, 39], [53, 36, 62, 75, 37], [74, 33, 62, 8, 73]],\n",
    "    [[79, 67, 1, 32, 11], [11, 24, 16, 74, 39], [27, 41, 58, 71, 39], [47, 67, 42, 35, 3], [15, 14, 2, 23, 53], [66, 36, 68, 14, 63], [13, 72, 12, 4, 76], [73, 52, 24, 26, 42]],\n",
    "    [[42, 35, 43, 7, 20], [6, 24, 17, 30, 68], [12, 30, 1, 74, 69], [64, 37, 66, 77, 45], [21, 49, 36, 12, 52], [28, 7, 72, 49, 1], [69, 59, 58, 22, 15], [45, 1, 62, 46, 35]],\n",
    "    [[14, 68, 70, 55, 67], [9, 1, 10, 26, 25], [56, 62, 75, 31, 25], [72, 75, 40, 34, 8], [36, 70, 50, 37, 69], [18, 27, 8, 65, 33], [51, 41, 4, 10, 57], [13, 52, 5, 71, 9]],\n",
    "    [[25, 79, 77, 21, 73], [61, 76, 63, 53, 27], [77, 53, 4, 0, 14], [36, 50, 8, 30, 21], [16, 4, 44, 36, 66], [45, 42, 56, 59, 57], [27, 77, 31, 32, 61], [71, 25, 45, 11, 16]]\n",
    "]\n",
    "\n",
    "\n",
    "clss_support_imagesss_1_shot=[\n",
    "    [[6], [60], [8], [42], [10], [11], [72], [61]],\n",
    "    [[3], [55], [11], [34], [23], [40], [13], [22]],\n",
    "    [[62], [25], [21], [59], [11], [42], [28], [74]],\n",
    "     [[22], [9], [30], [18], [11], [23], [20], [32]],\n",
    "    [[38], [55], [6], [70], [77], [29], [40], [72]],\n",
    "    [[37], [51], [1], [24], [26], [30], [22], [14]],\n",
    "    [[29], [18], [15], [67], [60], [28], [44], [17]],\n",
    "    [[58], [75], [1], [19], [3], [16], [53], [74]],\n",
    "    [[79], [11], [27], [47], [15], [66], [13], [73]],\n",
    "    [[42], [6], [12], [64], [21], [28], [69], [45]],\n",
    "    [[14], [9], [56], [72], [36], [18], [51], [13]],\n",
    "    [[25], [61], [77], [36], [16], [45], [27], [71]]\n",
    " \n",
    "\n",
    "\n",
    "\n",
    "\n",
    "\n",
    "\n",
    "]\n",
    "\n"
   ]
  },
  {
   "cell_type": "code",
   "execution_count": null,
   "metadata": {},
   "outputs": [],
   "source": []
  },
  {
   "cell_type": "code",
   "execution_count": null,
   "metadata": {},
   "outputs": [],
   "source": []
  },
  {
   "cell_type": "code",
   "execution_count": 77,
   "metadata": {},
   "outputs": [
    {
     "name": "stderr",
     "output_type": "stream",
     "text": [
      "/home/asufian/.local/share/pipx/venvs/notebook/lib/python3.12/site-packages/torchvision/models/_utils.py:208: UserWarning: The parameter 'pretrained' is deprecated since 0.13 and may be removed in the future, please use 'weights' instead.\n",
      "  warnings.warn(\n",
      "/home/asufian/.local/share/pipx/venvs/notebook/lib/python3.12/site-packages/torchvision/models/_utils.py:223: UserWarning: Arguments other than a weight enum or `None` for 'weights' are deprecated since 0.13 and may be removed in the future. The current behavior is equivalent to passing `weights=None`.\n",
      "  warnings.warn(msg)\n"
     ]
    }
   ],
   "source": [
    "device = torch.device(\"cuda\" if torch.cuda.is_available() else \"cpu\")\n",
    "\n",
    "\n",
    "\n",
    "!rm model_mu_path.pt\n",
    "!rm model_own_path.pt\n",
    "\n",
    "convolutional_network_with_dropout = ResNet18WithDropout(pretrained=False, dr=0.0)\n",
    "convolutional_network_with_dropout.fc = nn.Flatten()\n",
    "model_own = PrototypicalNetworks_dynamic_query(convolutional_network_with_dropout).to(device)\n",
    "model_own.load_state_dict(torch.load('/home/asufian/Desktop/output_olchiki/code/modelr_res18.pth',map_location=torch.device('cpu')))\n",
    "\n",
    "\n",
    "convolutional_network_with_dropout = ResNet18WithDropout(pretrained=False, dr=0.0)\n",
    "convolutional_network_with_dropout.fc = nn.Flatten()\n",
    "model_own_1_shot = PrototypicalNetworks_dynamic_query(convolutional_network_with_dropout).to(device)\n",
    "model_own_1_shot.load_state_dict(torch.load('/home/asufian/Desktop/output_olchiki/code/olchiki/ressecondary/model_1/model_B_olchiki_1-shot_res.pth',map_location=torch.device('cpu')))\n",
    "torch.save(model_own_1_shot.state_dict(), 'model_mu_path.pt')\n",
    "torch.save(model_own.state_dict(), 'model_own_path.pt')"
   ]
  },
  {
   "cell_type": "code",
   "execution_count": 78,
   "metadata": {},
   "outputs": [],
   "source": [
    "\n",
    "\n",
    "def evaluate2(fname,data_loader, model, criterion=nn.CrossEntropyLoss()):\n",
    "    total_predictions = 0\n",
    "    correct_predictions = 0\n",
    "    total_loss = 0.0\n",
    "    accuracy = 0\n",
    "    datta = \"\"\n",
    "    model.eval()\n",
    "    tlv_cls=0\n",
    "    ttla=0\n",
    "    ttlal=[]\n",
    "    ttlac=0\n",
    "    precision=[]\n",
    "    recall=[]\n",
    "    \n",
    "    with torch.no_grad():\n",
    "        for episode in range(len(clss_8)):\n",
    "            support_set, query_set = data_loader.__getitem__(clss_8[tlv_cls] , clss_support_imagesss_1_shot[tlv_cls])\n",
    "\n",
    "           \n",
    "            clssa=str(clss_8[tlv_cls])\n",
    "            clss=str(clssa).replace(',',' ').replace('\\'',' ').replace('\\'',' ')\n",
    "            msg=str(clss_support_imagesss_1_shot[tlv_cls])\n",
    "            str(clss_8[tlv_cls])\n",
    "\n",
    "            tlv_cls+=1\n",
    "            # print(len(support_set),len(query_set))\n",
    "            support_set = [(torch.stack(images).to(device), label[0]) for images, label in support_set]\n",
    "            query_set = [(torch.stack(images).to(device), label) for images, label in query_set]\n",
    "\n",
    "            support_images, support_labels = zip(*support_set)\n",
    "\n",
    "            query_images, query_labels = zip(*query_set)\n",
    "\n",
    "            classification_scores = model(support_images, support_labels, query_images)\n",
    "            cortt = 0\n",
    "            totl = 0\n",
    "            confusion_mat=None\n",
    "            all_predicted_labels = []\n",
    "            all_actual_labels = []\n",
    "            # print(len(classification_scores),len(query_labels))\n",
    "            for ei in range(len(classification_scores)):\n",
    "                classification_scores_each_class = classification_scores[ei]\n",
    "                # print(classification_scores_each_class)\n",
    "                predicted_labels_eachclas = torch.argmax(classification_scores_each_class, dim=1)\n",
    "                pp = predicted_labels_eachclas.tolist()\n",
    "                act = query_labels[ei]\n",
    "                all_predicted_labels.extend(pp)\n",
    "                all_actual_labels.extend(act)\n",
    "                for iiii in range(len(pp)):\n",
    "                    if pp[iiii] == act[iiii]:\n",
    "                        cortt = cortt + 1\n",
    "                totl = totl + len(pp)\n",
    "                # print(len(act))\n",
    "            accuracy = cortt / totl\n",
    "            ttla+=1\n",
    "            ttlac+=accuracy\n",
    "            ttlal.append(accuracy)\n",
    "            # print(cortt , totl,\"Validation Accuracy:              \", cortt / totl)\n",
    "            confusion_mat = confusion_matrix(all_actual_labels, all_predicted_labels)\n",
    "            # print(\"Confusion Matrix:\")\n",
    "            # print(confusion_mat)\n",
    "\n",
    "            # fname='./own35_mapi_5_way_1_shot'\n",
    "\n",
    "            precision_overall, recall_overall, f1ss= calculate_metrics_get_per(msg,confusion_mat,acciuracy=cortt / totl,cls=clss,flnm=fname)\n",
    "            precision.append(precision_overall)\n",
    "            recall.append(recall_overall)\n",
    "    print(f\"---Accu-----pre----rec---------> {np.mean(ttlal):.4f} ± {np.std(ttlal, ddof=1):.4f}  \"\n",
    "      f\"{np.mean(precision):.4f} ± {np.std(precision, ddof=1):.4f}  \"\n",
    "      f\"{np.mean(recall):.4f} ± {np.std(recall, ddof=1):.4f}\")\n",
    "\n",
    "    # print(\"---Accu-----pre----rec---------->\",np.mean(ttlal),'±',np.std(ttlal, ddof=1), np.mean(precision),'±',np.std(precision, ddof=1),np.mean(precision),'±',np.std(precision, ddof=1),)\n",
    "# %%%%%%\n",
    "\n",
    "def evaluate3(fname,data_loader, model, criterion=nn.CrossEntropyLoss()):\n",
    "    total_predictions = 0\n",
    "    correct_predictions = 0\n",
    "    total_loss = 0.0\n",
    "    accuracy = 0\n",
    "    datta = \"\"\n",
    "    model.eval()\n",
    "    tlv_cls=0\n",
    "    ttla=0\n",
    "    ttlac=0\n",
    "    with torch.no_grad():\n",
    "        for episode in range(len(clss_8)):\n",
    "            support_set, query_set = data_loader.__getitem__(clss_8[tlv_cls] , clss_support_imagesss_1_shot[tlv_cls])\n",
    "\n",
    "            \n",
    "            clssa=str(clss_8[tlv_cls])\n",
    "            clss=str(clssa).replace(',',' ').replace('\\'',' ').replace('\\'',' ')\n",
    "            msg=str(clss_support_imagesss_1_shot[tlv_cls])\n",
    "            str(clss_8[tlv_cls])\n",
    "\n",
    "            tlv_cls+=1\n",
    "            # print(len(support_set),len(query_set))\n",
    "            support_set = [(torch.stack(images).to(device), label[0]) for images, label in support_set]\n",
    "            query_set = [(torch.stack(images).to(device), label) for images, label in query_set]\n",
    "\n",
    "            support_images, support_labels = zip(*support_set)\n",
    "\n",
    "            query_images, query_labels = zip(*query_set)\n",
    "\n",
    "            classification_scores = model(support_images, support_labels, query_images)\n",
    "            cortt = 0\n",
    "            totl = 0\n",
    "            confusion_mat=None\n",
    "            all_predicted_labels = []\n",
    "            all_actual_labels = []\n",
    "            # print(len(classification_scores),len(query_labels))\n",
    "            for ei in range(len(classification_scores)):\n",
    "                classification_scores_each_class = classification_scores[ei]\n",
    "                # print(classification_scores_each_class)\n",
    "                predicted_labels_eachclas = torch.argmax(classification_scores_each_class, dim=1)\n",
    "                pp = predicted_labels_eachclas.tolist()\n",
    "                act = query_labels[ei]\n",
    "                all_predicted_labels.extend(pp)\n",
    "                all_actual_labels.extend(act)\n",
    "                for iiii in range(len(pp)):\n",
    "                    if pp[iiii] == act[iiii]:\n",
    "                        cortt = cortt + 1\n",
    "                totl = totl + len(pp)\n",
    "                # print(len(act))\n",
    "            accuracy = cortt / totl\n",
    "            ttla+=1\n",
    "            ttlac+=accuracy\n",
    "            # print(cortt , totl,\"Validation Accuracy:              \", cortt / totl)\n",
    "            # confusion_mat = confusion_matrix(all_actual_labels, all_predicted_labels)\n",
    "            # print(\"Confusion Matrix:\")\n",
    "            # print(confusion_mat)\n",
    "\n",
    "            # fname='./own35_mapi_5_way_1_shot'\n",
    "\n",
    "            # calculate_metrics_get_per(msg,confusion_mat,acciuracy=cortt / totl,cls=clss,flnm=fname)\n",
    "\n",
    "    print(\"---------------------->\",ttlac/ttla)\n",
    "    return ttlac/ttla"
   ]
  },
  {
   "cell_type": "code",
   "execution_count": 79,
   "metadata": {
    "scrolled": true
   },
   "outputs": [
    {
     "name": "stdout",
     "output_type": "stream",
     "text": [
      "Testing b_a_r = 0.7965, c_a_r = 0.1834, f_a_r = 0.7797\n"
     ]
    },
    {
     "name": "stderr",
     "output_type": "stream",
     "text": [
      "/home/asufian/.local/share/pipx/venvs/notebook/lib/python3.12/site-packages/torchvision/models/_utils.py:208: UserWarning: The parameter 'pretrained' is deprecated since 0.13 and may be removed in the future, please use 'weights' instead.\n",
      "  warnings.warn(\n",
      "/home/asufian/.local/share/pipx/venvs/notebook/lib/python3.12/site-packages/torchvision/models/_utils.py:223: UserWarning: Arguments other than a weight enum or `None` for 'weights' are deprecated since 0.13 and may be removed in the future. The current behavior is equivalent to passing `weights=None`.\n",
      "  warnings.warn(msg)\n"
     ]
    },
    {
     "name": "stdout",
     "output_type": "stream",
     "text": [
      "----------------------> 0.636867088607595\n",
      "Evaluated Accuracy: 0.6369\n",
      "Testing b_a_r = 0.5969, c_a_r = 0.4458, f_a_r = 0.1000\n",
      "----------------------> 0.5644778481012659\n",
      "Evaluated Accuracy: 0.5645\n",
      "Testing b_a_r = 0.4592, c_a_r = 0.3337, f_a_r = 0.1429\n",
      "----------------------> 0.6181434599156118\n",
      "Evaluated Accuracy: 0.6181\n",
      "Testing b_a_r = 0.6509, c_a_r = 0.0564, f_a_r = 0.7220\n",
      "----------------------> 0.6971255274261603\n",
      "Evaluated Accuracy: 0.6971\n",
      "Testing b_a_r = 0.9386, c_a_r = 0.0008, f_a_r = 0.9922\n",
      "----------------------> 0.6824894514767932\n",
      "Evaluated Accuracy: 0.6825\n",
      "Testing b_a_r = 0.0000, c_a_r = 0.0000, f_a_r = 1.0000\n"
     ]
    },
    {
     "name": "stderr",
     "output_type": "stream",
     "text": [
      "/home/asufian/.local/share/pipx/venvs/notebook/lib/python3.12/site-packages/torchvision/models/_utils.py:208: UserWarning: The parameter 'pretrained' is deprecated since 0.13 and may be removed in the future, please use 'weights' instead.\n",
      "  warnings.warn(\n",
      "/home/asufian/.local/share/pipx/venvs/notebook/lib/python3.12/site-packages/torchvision/models/_utils.py:223: UserWarning: Arguments other than a weight enum or `None` for 'weights' are deprecated since 0.13 and may be removed in the future. The current behavior is equivalent to passing `weights=None`.\n",
      "  warnings.warn(msg)\n"
     ]
    },
    {
     "name": "stdout",
     "output_type": "stream",
     "text": [
      "----------------------> 0.6760284810126581\n",
      "Evaluated Accuracy: 0.6760\n",
      "Testing b_a_r = 0.2213, c_a_r = 1.0000, f_a_r = 0.9428\n"
     ]
    },
    {
     "name": "stderr",
     "output_type": "stream",
     "text": [
      "/home/asufian/.local/share/pipx/venvs/notebook/lib/python3.12/site-packages/torchvision/models/_utils.py:208: UserWarning: The parameter 'pretrained' is deprecated since 0.13 and may be removed in the future, please use 'weights' instead.\n",
      "  warnings.warn(\n",
      "/home/asufian/.local/share/pipx/venvs/notebook/lib/python3.12/site-packages/torchvision/models/_utils.py:223: UserWarning: Arguments other than a weight enum or `None` for 'weights' are deprecated since 0.13 and may be removed in the future. The current behavior is equivalent to passing `weights=None`.\n",
      "  warnings.warn(msg)\n"
     ]
    },
    {
     "name": "stdout",
     "output_type": "stream",
     "text": [
      "----------------------> 0.3154008438818565\n",
      "Evaluated Accuracy: 0.3154\n",
      "Testing b_a_r = 1.0000, c_a_r = 0.0000, f_a_r = 0.0000\n"
     ]
    },
    {
     "name": "stderr",
     "output_type": "stream",
     "text": [
      "/home/asufian/.local/share/pipx/venvs/notebook/lib/python3.12/site-packages/torchvision/models/_utils.py:208: UserWarning: The parameter 'pretrained' is deprecated since 0.13 and may be removed in the future, please use 'weights' instead.\n",
      "  warnings.warn(\n",
      "/home/asufian/.local/share/pipx/venvs/notebook/lib/python3.12/site-packages/torchvision/models/_utils.py:223: UserWarning: Arguments other than a weight enum or `None` for 'weights' are deprecated since 0.13 and may be removed in the future. The current behavior is equivalent to passing `weights=None`.\n",
      "  warnings.warn(msg)\n"
     ]
    },
    {
     "name": "stdout",
     "output_type": "stream",
     "text": [
      "----------------------> 0.5961234177215191\n",
      "Evaluated Accuracy: 0.5961\n",
      "Testing b_a_r = 1.0000, c_a_r = 0.0000, f_a_r = 0.6156\n"
     ]
    },
    {
     "name": "stderr",
     "output_type": "stream",
     "text": [
      "/home/asufian/.local/share/pipx/venvs/notebook/lib/python3.12/site-packages/torchvision/models/_utils.py:208: UserWarning: The parameter 'pretrained' is deprecated since 0.13 and may be removed in the future, please use 'weights' instead.\n",
      "  warnings.warn(\n",
      "/home/asufian/.local/share/pipx/venvs/notebook/lib/python3.12/site-packages/torchvision/models/_utils.py:223: UserWarning: Arguments other than a weight enum or `None` for 'weights' are deprecated since 0.13 and may be removed in the future. The current behavior is equivalent to passing `weights=None`.\n",
      "  warnings.warn(msg)\n"
     ]
    },
    {
     "name": "stdout",
     "output_type": "stream",
     "text": [
      "----------------------> 0.6627109704641351\n",
      "Evaluated Accuracy: 0.6627\n",
      "Testing b_a_r = 1.0000, c_a_r = 0.0692, f_a_r = 1.0000\n"
     ]
    },
    {
     "name": "stderr",
     "output_type": "stream",
     "text": [
      "/home/asufian/.local/share/pipx/venvs/notebook/lib/python3.12/site-packages/torchvision/models/_utils.py:208: UserWarning: The parameter 'pretrained' is deprecated since 0.13 and may be removed in the future, please use 'weights' instead.\n",
      "  warnings.warn(\n",
      "/home/asufian/.local/share/pipx/venvs/notebook/lib/python3.12/site-packages/torchvision/models/_utils.py:223: UserWarning: Arguments other than a weight enum or `None` for 'weights' are deprecated since 0.13 and may be removed in the future. The current behavior is equivalent to passing `weights=None`.\n",
      "  warnings.warn(msg)\n"
     ]
    },
    {
     "name": "stdout",
     "output_type": "stream",
     "text": [
      "----------------------> 0.7038502109704642\n",
      "Evaluated Accuracy: 0.7039\n",
      "Testing b_a_r = 0.9028, c_a_r = 0.6624, f_a_r = 1.0000\n"
     ]
    },
    {
     "name": "stderr",
     "output_type": "stream",
     "text": [
      "/home/asufian/.local/share/pipx/venvs/notebook/lib/python3.12/site-packages/torchvision/models/_utils.py:208: UserWarning: The parameter 'pretrained' is deprecated since 0.13 and may be removed in the future, please use 'weights' instead.\n",
      "  warnings.warn(\n",
      "/home/asufian/.local/share/pipx/venvs/notebook/lib/python3.12/site-packages/torchvision/models/_utils.py:223: UserWarning: Arguments other than a weight enum or `None` for 'weights' are deprecated since 0.13 and may be removed in the future. The current behavior is equivalent to passing `weights=None`.\n",
      "  warnings.warn(msg)\n"
     ]
    },
    {
     "name": "stdout",
     "output_type": "stream",
     "text": [
      "----------------------> 0.37223101265822794\n",
      "Evaluated Accuracy: 0.3722\n",
      "Testing b_a_r = 1.0000, c_a_r = 0.1644, f_a_r = 0.0000\n"
     ]
    },
    {
     "name": "stderr",
     "output_type": "stream",
     "text": [
      "/home/asufian/.local/share/pipx/venvs/notebook/lib/python3.12/site-packages/torchvision/models/_utils.py:208: UserWarning: The parameter 'pretrained' is deprecated since 0.13 and may be removed in the future, please use 'weights' instead.\n",
      "  warnings.warn(\n",
      "/home/asufian/.local/share/pipx/venvs/notebook/lib/python3.12/site-packages/torchvision/models/_utils.py:223: UserWarning: Arguments other than a weight enum or `None` for 'weights' are deprecated since 0.13 and may be removed in the future. The current behavior is equivalent to passing `weights=None`.\n",
      "  warnings.warn(msg)\n"
     ]
    },
    {
     "name": "stdout",
     "output_type": "stream",
     "text": [
      "----------------------> 0.6334388185654007\n",
      "Evaluated Accuracy: 0.6334\n",
      "Testing b_a_r = 0.9509, c_a_r = 0.3766, f_a_r = 1.0000\n"
     ]
    },
    {
     "name": "stderr",
     "output_type": "stream",
     "text": [
      "/home/asufian/.local/share/pipx/venvs/notebook/lib/python3.12/site-packages/torchvision/models/_utils.py:208: UserWarning: The parameter 'pretrained' is deprecated since 0.13 and may be removed in the future, please use 'weights' instead.\n",
      "  warnings.warn(\n",
      "/home/asufian/.local/share/pipx/venvs/notebook/lib/python3.12/site-packages/torchvision/models/_utils.py:223: UserWarning: Arguments other than a weight enum or `None` for 'weights' are deprecated since 0.13 and may be removed in the future. The current behavior is equivalent to passing `weights=None`.\n",
      "  warnings.warn(msg)\n"
     ]
    },
    {
     "name": "stdout",
     "output_type": "stream",
     "text": [
      "----------------------> 0.548918776371308\n",
      "Evaluated Accuracy: 0.5489\n",
      "Testing b_a_r = 0.8807, c_a_r = 0.7938, f_a_r = 0.0007\n"
     ]
    },
    {
     "name": "stderr",
     "output_type": "stream",
     "text": [
      "/home/asufian/.local/share/pipx/venvs/notebook/lib/python3.12/site-packages/torchvision/models/_utils.py:208: UserWarning: The parameter 'pretrained' is deprecated since 0.13 and may be removed in the future, please use 'weights' instead.\n",
      "  warnings.warn(\n",
      "/home/asufian/.local/share/pipx/venvs/notebook/lib/python3.12/site-packages/torchvision/models/_utils.py:223: UserWarning: Arguments other than a weight enum or `None` for 'weights' are deprecated since 0.13 and may be removed in the future. The current behavior is equivalent to passing `weights=None`.\n",
      "  warnings.warn(msg)\n"
     ]
    },
    {
     "name": "stdout",
     "output_type": "stream",
     "text": [
      "----------------------> 0.3326740506329114\n",
      "Evaluated Accuracy: 0.3327\n",
      "Testing b_a_r = 0.9930, c_a_r = 0.0964, f_a_r = 0.7615\n"
     ]
    },
    {
     "name": "stderr",
     "output_type": "stream",
     "text": [
      "/home/asufian/.local/share/pipx/venvs/notebook/lib/python3.12/site-packages/torchvision/models/_utils.py:208: UserWarning: The parameter 'pretrained' is deprecated since 0.13 and may be removed in the future, please use 'weights' instead.\n",
      "  warnings.warn(\n",
      "/home/asufian/.local/share/pipx/venvs/notebook/lib/python3.12/site-packages/torchvision/models/_utils.py:223: UserWarning: Arguments other than a weight enum or `None` for 'weights' are deprecated since 0.13 and may be removed in the future. The current behavior is equivalent to passing `weights=None`.\n",
      "  warnings.warn(msg)\n"
     ]
    },
    {
     "name": "stdout",
     "output_type": "stream",
     "text": [
      "----------------------> 0.7194092827004219\n",
      "Evaluated Accuracy: 0.7194\n",
      "Testing b_a_r = 0.0881, c_a_r = 0.0878, f_a_r = 1.0000\n"
     ]
    },
    {
     "name": "stderr",
     "output_type": "stream",
     "text": [
      "/home/asufian/.local/share/pipx/venvs/notebook/lib/python3.12/site-packages/torchvision/models/_utils.py:208: UserWarning: The parameter 'pretrained' is deprecated since 0.13 and may be removed in the future, please use 'weights' instead.\n",
      "  warnings.warn(\n",
      "/home/asufian/.local/share/pipx/venvs/notebook/lib/python3.12/site-packages/torchvision/models/_utils.py:223: UserWarning: Arguments other than a weight enum or `None` for 'weights' are deprecated since 0.13 and may be removed in the future. The current behavior is equivalent to passing `weights=None`.\n",
      "  warnings.warn(msg)\n"
     ]
    },
    {
     "name": "stdout",
     "output_type": "stream",
     "text": [
      "----------------------> 0.7022679324894515\n",
      "Evaluated Accuracy: 0.7023\n",
      "Testing b_a_r = 0.1821, c_a_r = 0.0913, f_a_r = 0.5732\n"
     ]
    },
    {
     "name": "stderr",
     "output_type": "stream",
     "text": [
      "/home/asufian/.local/share/pipx/venvs/notebook/lib/python3.12/site-packages/torchvision/models/_utils.py:208: UserWarning: The parameter 'pretrained' is deprecated since 0.13 and may be removed in the future, please use 'weights' instead.\n",
      "  warnings.warn(\n",
      "/home/asufian/.local/share/pipx/venvs/notebook/lib/python3.12/site-packages/torchvision/models/_utils.py:223: UserWarning: Arguments other than a weight enum or `None` for 'weights' are deprecated since 0.13 and may be removed in the future. The current behavior is equivalent to passing `weights=None`.\n",
      "  warnings.warn(msg)\n"
     ]
    },
    {
     "name": "stdout",
     "output_type": "stream",
     "text": [
      "----------------------> 0.7050369198312237\n",
      "Evaluated Accuracy: 0.7050\n",
      "Testing b_a_r = 0.0400, c_a_r = 0.5894, f_a_r = 0.0016\n"
     ]
    },
    {
     "name": "stderr",
     "output_type": "stream",
     "text": [
      "/home/asufian/.local/share/pipx/venvs/notebook/lib/python3.12/site-packages/torchvision/models/_utils.py:208: UserWarning: The parameter 'pretrained' is deprecated since 0.13 and may be removed in the future, please use 'weights' instead.\n",
      "  warnings.warn(\n",
      "/home/asufian/.local/share/pipx/venvs/notebook/lib/python3.12/site-packages/torchvision/models/_utils.py:223: UserWarning: Arguments other than a weight enum or `None` for 'weights' are deprecated since 0.13 and may be removed in the future. The current behavior is equivalent to passing `weights=None`.\n",
      "  warnings.warn(msg)\n"
     ]
    },
    {
     "name": "stdout",
     "output_type": "stream",
     "text": [
      "----------------------> 0.40664556962025317\n",
      "Evaluated Accuracy: 0.4066\n",
      "Testing b_a_r = 0.9171, c_a_r = 0.1239, f_a_r = 0.6504\n"
     ]
    },
    {
     "name": "stderr",
     "output_type": "stream",
     "text": [
      "/home/asufian/.local/share/pipx/venvs/notebook/lib/python3.12/site-packages/torchvision/models/_utils.py:208: UserWarning: The parameter 'pretrained' is deprecated since 0.13 and may be removed in the future, please use 'weights' instead.\n",
      "  warnings.warn(\n",
      "/home/asufian/.local/share/pipx/venvs/notebook/lib/python3.12/site-packages/torchvision/models/_utils.py:223: UserWarning: Arguments other than a weight enum or `None` for 'weights' are deprecated since 0.13 and may be removed in the future. The current behavior is equivalent to passing `weights=None`.\n",
      "  warnings.warn(msg)\n"
     ]
    },
    {
     "name": "stdout",
     "output_type": "stream",
     "text": [
      "----------------------> 0.7137394514767932\n",
      "Evaluated Accuracy: 0.7137\n",
      "Testing b_a_r = 0.9619, c_a_r = 0.1195, f_a_r = 0.9545\n"
     ]
    },
    {
     "name": "stderr",
     "output_type": "stream",
     "text": [
      "/home/asufian/.local/share/pipx/venvs/notebook/lib/python3.12/site-packages/torchvision/models/_utils.py:208: UserWarning: The parameter 'pretrained' is deprecated since 0.13 and may be removed in the future, please use 'weights' instead.\n",
      "  warnings.warn(\n",
      "/home/asufian/.local/share/pipx/venvs/notebook/lib/python3.12/site-packages/torchvision/models/_utils.py:223: UserWarning: Arguments other than a weight enum or `None` for 'weights' are deprecated since 0.13 and may be removed in the future. The current behavior is equivalent to passing `weights=None`.\n",
      "  warnings.warn(msg)\n"
     ]
    },
    {
     "name": "stdout",
     "output_type": "stream",
     "text": [
      "----------------------> 0.7097837552742616\n",
      "Evaluated Accuracy: 0.7098\n",
      "Testing b_a_r = 0.1065, c_a_r = 0.5088, f_a_r = 0.9983\n"
     ]
    },
    {
     "name": "stderr",
     "output_type": "stream",
     "text": [
      "/home/asufian/.local/share/pipx/venvs/notebook/lib/python3.12/site-packages/torchvision/models/_utils.py:208: UserWarning: The parameter 'pretrained' is deprecated since 0.13 and may be removed in the future, please use 'weights' instead.\n",
      "  warnings.warn(\n",
      "/home/asufian/.local/share/pipx/venvs/notebook/lib/python3.12/site-packages/torchvision/models/_utils.py:223: UserWarning: Arguments other than a weight enum or `None` for 'weights' are deprecated since 0.13 and may be removed in the future. The current behavior is equivalent to passing `weights=None`.\n",
      "  warnings.warn(msg)\n"
     ]
    },
    {
     "name": "stdout",
     "output_type": "stream",
     "text": [
      "----------------------> 0.4808808016877637\n",
      "Evaluated Accuracy: 0.4809\n",
      "Testing b_a_r = 0.0638, c_a_r = 0.9980, f_a_r = 0.0311\n"
     ]
    },
    {
     "name": "stderr",
     "output_type": "stream",
     "text": [
      "/home/asufian/.local/share/pipx/venvs/notebook/lib/python3.12/site-packages/torchvision/models/_utils.py:208: UserWarning: The parameter 'pretrained' is deprecated since 0.13 and may be removed in the future, please use 'weights' instead.\n",
      "  warnings.warn(\n",
      "/home/asufian/.local/share/pipx/venvs/notebook/lib/python3.12/site-packages/torchvision/models/_utils.py:223: UserWarning: Arguments other than a weight enum or `None` for 'weights' are deprecated since 0.13 and may be removed in the future. The current behavior is equivalent to passing `weights=None`.\n",
      "  warnings.warn(msg)\n"
     ]
    },
    {
     "name": "stdout",
     "output_type": "stream",
     "text": [
      "----------------------> 0.31526898734177217\n",
      "Evaluated Accuracy: 0.3153\n",
      "Testing b_a_r = 0.8513, c_a_r = 0.0929, f_a_r = 0.0103\n"
     ]
    },
    {
     "name": "stderr",
     "output_type": "stream",
     "text": [
      "/home/asufian/.local/share/pipx/venvs/notebook/lib/python3.12/site-packages/torchvision/models/_utils.py:208: UserWarning: The parameter 'pretrained' is deprecated since 0.13 and may be removed in the future, please use 'weights' instead.\n",
      "  warnings.warn(\n",
      "/home/asufian/.local/share/pipx/venvs/notebook/lib/python3.12/site-packages/torchvision/models/_utils.py:223: UserWarning: Arguments other than a weight enum or `None` for 'weights' are deprecated since 0.13 and may be removed in the future. The current behavior is equivalent to passing `weights=None`.\n",
      "  warnings.warn(msg)\n"
     ]
    },
    {
     "name": "stdout",
     "output_type": "stream",
     "text": [
      "----------------------> 0.6420094936708861\n",
      "Evaluated Accuracy: 0.6420\n",
      "Testing b_a_r = 0.9109, c_a_r = 0.2526, f_a_r = 0.0106\n"
     ]
    },
    {
     "name": "stderr",
     "output_type": "stream",
     "text": [
      "/home/asufian/.local/share/pipx/venvs/notebook/lib/python3.12/site-packages/torchvision/models/_utils.py:208: UserWarning: The parameter 'pretrained' is deprecated since 0.13 and may be removed in the future, please use 'weights' instead.\n",
      "  warnings.warn(\n",
      "/home/asufian/.local/share/pipx/venvs/notebook/lib/python3.12/site-packages/torchvision/models/_utils.py:223: UserWarning: Arguments other than a weight enum or `None` for 'weights' are deprecated since 0.13 and may be removed in the future. The current behavior is equivalent to passing `weights=None`.\n",
      "  warnings.warn(msg)\n"
     ]
    },
    {
     "name": "stdout",
     "output_type": "stream",
     "text": [
      "----------------------> 0.5849156118143459\n",
      "Evaluated Accuracy: 0.5849\n",
      "Testing b_a_r = 0.5014, c_a_r = 0.8547, f_a_r = 0.9903\n"
     ]
    },
    {
     "name": "stderr",
     "output_type": "stream",
     "text": [
      "/home/asufian/.local/share/pipx/venvs/notebook/lib/python3.12/site-packages/torchvision/models/_utils.py:208: UserWarning: The parameter 'pretrained' is deprecated since 0.13 and may be removed in the future, please use 'weights' instead.\n",
      "  warnings.warn(\n",
      "/home/asufian/.local/share/pipx/venvs/notebook/lib/python3.12/site-packages/torchvision/models/_utils.py:223: UserWarning: Arguments other than a weight enum or `None` for 'weights' are deprecated since 0.13 and may be removed in the future. The current behavior is equivalent to passing `weights=None`.\n",
      "  warnings.warn(msg)\n"
     ]
    },
    {
     "name": "stdout",
     "output_type": "stream",
     "text": [
      "----------------------> 0.3321466244725738\n",
      "Evaluated Accuracy: 0.3321\n",
      "Testing b_a_r = 0.2121, c_a_r = 0.2839, f_a_r = 0.9929\n"
     ]
    },
    {
     "name": "stderr",
     "output_type": "stream",
     "text": [
      "/home/asufian/.local/share/pipx/venvs/notebook/lib/python3.12/site-packages/torchvision/models/_utils.py:208: UserWarning: The parameter 'pretrained' is deprecated since 0.13 and may be removed in the future, please use 'weights' instead.\n",
      "  warnings.warn(\n",
      "/home/asufian/.local/share/pipx/venvs/notebook/lib/python3.12/site-packages/torchvision/models/_utils.py:223: UserWarning: Arguments other than a weight enum or `None` for 'weights' are deprecated since 0.13 and may be removed in the future. The current behavior is equivalent to passing `weights=None`.\n",
      "  warnings.warn(msg)\n"
     ]
    },
    {
     "name": "stdout",
     "output_type": "stream",
     "text": [
      "----------------------> 0.5415348101265823\n",
      "Evaluated Accuracy: 0.5415\n",
      "Testing b_a_r = 0.0060, c_a_r = 0.1108, f_a_r = 0.7467\n"
     ]
    },
    {
     "name": "stderr",
     "output_type": "stream",
     "text": [
      "/home/asufian/.local/share/pipx/venvs/notebook/lib/python3.12/site-packages/torchvision/models/_utils.py:208: UserWarning: The parameter 'pretrained' is deprecated since 0.13 and may be removed in the future, please use 'weights' instead.\n",
      "  warnings.warn(\n",
      "/home/asufian/.local/share/pipx/venvs/notebook/lib/python3.12/site-packages/torchvision/models/_utils.py:223: UserWarning: Arguments other than a weight enum or `None` for 'weights' are deprecated since 0.13 and may be removed in the future. The current behavior is equivalent to passing `weights=None`.\n",
      "  warnings.warn(msg)\n"
     ]
    },
    {
     "name": "stdout",
     "output_type": "stream",
     "text": [
      "----------------------> 0.7137394514767933\n",
      "Evaluated Accuracy: 0.7137\n",
      "Testing b_a_r = 0.9226, c_a_r = 0.3872, f_a_r = 0.0082\n"
     ]
    },
    {
     "name": "stderr",
     "output_type": "stream",
     "text": [
      "/home/asufian/.local/share/pipx/venvs/notebook/lib/python3.12/site-packages/torchvision/models/_utils.py:208: UserWarning: The parameter 'pretrained' is deprecated since 0.13 and may be removed in the future, please use 'weights' instead.\n",
      "  warnings.warn(\n",
      "/home/asufian/.local/share/pipx/venvs/notebook/lib/python3.12/site-packages/torchvision/models/_utils.py:223: UserWarning: Arguments other than a weight enum or `None` for 'weights' are deprecated since 0.13 and may be removed in the future. The current behavior is equivalent to passing `weights=None`.\n",
      "  warnings.warn(msg)\n"
     ]
    },
    {
     "name": "stdout",
     "output_type": "stream",
     "text": [
      "----------------------> 0.620253164556962\n",
      "Evaluated Accuracy: 0.6203\n",
      "Testing b_a_r = 0.0003, c_a_r = 0.3938, f_a_r = 0.4634\n"
     ]
    },
    {
     "name": "stderr",
     "output_type": "stream",
     "text": [
      "/home/asufian/.local/share/pipx/venvs/notebook/lib/python3.12/site-packages/torchvision/models/_utils.py:208: UserWarning: The parameter 'pretrained' is deprecated since 0.13 and may be removed in the future, please use 'weights' instead.\n",
      "  warnings.warn(\n",
      "/home/asufian/.local/share/pipx/venvs/notebook/lib/python3.12/site-packages/torchvision/models/_utils.py:223: UserWarning: Arguments other than a weight enum or `None` for 'weights' are deprecated since 0.13 and may be removed in the future. The current behavior is equivalent to passing `weights=None`.\n",
      "  warnings.warn(msg)\n"
     ]
    },
    {
     "name": "stdout",
     "output_type": "stream",
     "text": [
      "----------------------> 0.6075949367088608\n",
      "Evaluated Accuracy: 0.6076\n",
      "Testing b_a_r = 0.1242, c_a_r = 0.1349, f_a_r = 0.3544\n"
     ]
    },
    {
     "name": "stderr",
     "output_type": "stream",
     "text": [
      "/home/asufian/.local/share/pipx/venvs/notebook/lib/python3.12/site-packages/torchvision/models/_utils.py:208: UserWarning: The parameter 'pretrained' is deprecated since 0.13 and may be removed in the future, please use 'weights' instead.\n",
      "  warnings.warn(\n",
      "/home/asufian/.local/share/pipx/venvs/notebook/lib/python3.12/site-packages/torchvision/models/_utils.py:223: UserWarning: Arguments other than a weight enum or `None` for 'weights' are deprecated since 0.13 and may be removed in the future. The current behavior is equivalent to passing `weights=None`.\n",
      "  warnings.warn(msg)\n"
     ]
    },
    {
     "name": "stdout",
     "output_type": "stream",
     "text": [
      "----------------------> 0.6813027426160337\n",
      "Evaluated Accuracy: 0.6813\n",
      "Testing b_a_r = 0.7848, c_a_r = 0.9032, f_a_r = 0.0024\n"
     ]
    },
    {
     "name": "stderr",
     "output_type": "stream",
     "text": [
      "/home/asufian/.local/share/pipx/venvs/notebook/lib/python3.12/site-packages/torchvision/models/_utils.py:208: UserWarning: The parameter 'pretrained' is deprecated since 0.13 and may be removed in the future, please use 'weights' instead.\n",
      "  warnings.warn(\n",
      "/home/asufian/.local/share/pipx/venvs/notebook/lib/python3.12/site-packages/torchvision/models/_utils.py:223: UserWarning: Arguments other than a weight enum or `None` for 'weights' are deprecated since 0.13 and may be removed in the future. The current behavior is equivalent to passing `weights=None`.\n",
      "  warnings.warn(msg)\n"
     ]
    },
    {
     "name": "stdout",
     "output_type": "stream",
     "text": [
      "----------------------> 0.31500527426160335\n",
      "Evaluated Accuracy: 0.3150\n",
      "Testing b_a_r = 0.7619, c_a_r = 0.0523, f_a_r = 0.3563\n"
     ]
    },
    {
     "name": "stderr",
     "output_type": "stream",
     "text": [
      "/home/asufian/.local/share/pipx/venvs/notebook/lib/python3.12/site-packages/torchvision/models/_utils.py:208: UserWarning: The parameter 'pretrained' is deprecated since 0.13 and may be removed in the future, please use 'weights' instead.\n",
      "  warnings.warn(\n",
      "/home/asufian/.local/share/pipx/venvs/notebook/lib/python3.12/site-packages/torchvision/models/_utils.py:223: UserWarning: Arguments other than a weight enum or `None` for 'weights' are deprecated since 0.13 and may be removed in the future. The current behavior is equivalent to passing `weights=None`.\n",
      "  warnings.warn(msg)\n"
     ]
    },
    {
     "name": "stdout",
     "output_type": "stream",
     "text": [
      "----------------------> 0.6582278481012657\n",
      "Evaluated Accuracy: 0.6582\n",
      "Testing b_a_r = 0.9598, c_a_r = 0.0310, f_a_r = 0.9814\n"
     ]
    },
    {
     "name": "stderr",
     "output_type": "stream",
     "text": [
      "/home/asufian/.local/share/pipx/venvs/notebook/lib/python3.12/site-packages/torchvision/models/_utils.py:208: UserWarning: The parameter 'pretrained' is deprecated since 0.13 and may be removed in the future, please use 'weights' instead.\n",
      "  warnings.warn(\n",
      "/home/asufian/.local/share/pipx/venvs/notebook/lib/python3.12/site-packages/torchvision/models/_utils.py:223: UserWarning: Arguments other than a weight enum or `None` for 'weights' are deprecated since 0.13 and may be removed in the future. The current behavior is equivalent to passing `weights=None`.\n",
      "  warnings.warn(msg)\n"
     ]
    },
    {
     "name": "stdout",
     "output_type": "stream",
     "text": [
      "----------------------> 0.702795358649789\n",
      "Evaluated Accuracy: 0.7028\n",
      "Testing b_a_r = 0.8730, c_a_r = 0.1489, f_a_r = 0.9986\n"
     ]
    },
    {
     "name": "stderr",
     "output_type": "stream",
     "text": [
      "/home/asufian/.local/share/pipx/venvs/notebook/lib/python3.12/site-packages/torchvision/models/_utils.py:208: UserWarning: The parameter 'pretrained' is deprecated since 0.13 and may be removed in the future, please use 'weights' instead.\n",
      "  warnings.warn(\n",
      "/home/asufian/.local/share/pipx/venvs/notebook/lib/python3.12/site-packages/torchvision/models/_utils.py:223: UserWarning: Arguments other than a weight enum or `None` for 'weights' are deprecated since 0.13 and may be removed in the future. The current behavior is equivalent to passing `weights=None`.\n",
      "  warnings.warn(msg)\n"
     ]
    },
    {
     "name": "stdout",
     "output_type": "stream",
     "text": [
      "----------------------> 0.6794567510548523\n",
      "Evaluated Accuracy: 0.6795\n",
      "Testing b_a_r = 0.9070, c_a_r = 0.6878, f_a_r = 0.0206\n"
     ]
    },
    {
     "name": "stderr",
     "output_type": "stream",
     "text": [
      "/home/asufian/.local/share/pipx/venvs/notebook/lib/python3.12/site-packages/torchvision/models/_utils.py:208: UserWarning: The parameter 'pretrained' is deprecated since 0.13 and may be removed in the future, please use 'weights' instead.\n",
      "  warnings.warn(\n",
      "/home/asufian/.local/share/pipx/venvs/notebook/lib/python3.12/site-packages/torchvision/models/_utils.py:223: UserWarning: Arguments other than a weight enum or `None` for 'weights' are deprecated since 0.13 and may be removed in the future. The current behavior is equivalent to passing `weights=None`.\n",
      "  warnings.warn(msg)\n"
     ]
    },
    {
     "name": "stdout",
     "output_type": "stream",
     "text": [
      "----------------------> 0.3640559071729958\n",
      "Evaluated Accuracy: 0.3641\n",
      "Testing b_a_r = 0.9918, c_a_r = 0.1033, f_a_r = 0.5175\n"
     ]
    },
    {
     "name": "stderr",
     "output_type": "stream",
     "text": [
      "/home/asufian/.local/share/pipx/venvs/notebook/lib/python3.12/site-packages/torchvision/models/_utils.py:208: UserWarning: The parameter 'pretrained' is deprecated since 0.13 and may be removed in the future, please use 'weights' instead.\n",
      "  warnings.warn(\n",
      "/home/asufian/.local/share/pipx/venvs/notebook/lib/python3.12/site-packages/torchvision/models/_utils.py:223: UserWarning: Arguments other than a weight enum or `None` for 'weights' are deprecated since 0.13 and may be removed in the future. The current behavior is equivalent to passing `weights=None`.\n",
      "  warnings.warn(msg)\n"
     ]
    },
    {
     "name": "stdout",
     "output_type": "stream",
     "text": [
      "----------------------> 0.7132120253164557\n",
      "Evaluated Accuracy: 0.7132\n",
      "Testing b_a_r = 0.7415, c_a_r = 0.4441, f_a_r = 0.9936\n"
     ]
    },
    {
     "name": "stderr",
     "output_type": "stream",
     "text": [
      "/home/asufian/.local/share/pipx/venvs/notebook/lib/python3.12/site-packages/torchvision/models/_utils.py:208: UserWarning: The parameter 'pretrained' is deprecated since 0.13 and may be removed in the future, please use 'weights' instead.\n",
      "  warnings.warn(\n",
      "/home/asufian/.local/share/pipx/venvs/notebook/lib/python3.12/site-packages/torchvision/models/_utils.py:223: UserWarning: Arguments other than a weight enum or `None` for 'weights' are deprecated since 0.13 and may be removed in the future. The current behavior is equivalent to passing `weights=None`.\n",
      "  warnings.warn(msg)\n"
     ]
    },
    {
     "name": "stdout",
     "output_type": "stream",
     "text": [
      "----------------------> 0.5305907172995782\n",
      "Evaluated Accuracy: 0.5306\n",
      "Testing b_a_r = 0.8994, c_a_r = 0.7592, f_a_r = 0.9946\n"
     ]
    },
    {
     "name": "stderr",
     "output_type": "stream",
     "text": [
      "/home/asufian/.local/share/pipx/venvs/notebook/lib/python3.12/site-packages/torchvision/models/_utils.py:208: UserWarning: The parameter 'pretrained' is deprecated since 0.13 and may be removed in the future, please use 'weights' instead.\n",
      "  warnings.warn(\n",
      "/home/asufian/.local/share/pipx/venvs/notebook/lib/python3.12/site-packages/torchvision/models/_utils.py:223: UserWarning: Arguments other than a weight enum or `None` for 'weights' are deprecated since 0.13 and may be removed in the future. The current behavior is equivalent to passing `weights=None`.\n",
      "  warnings.warn(msg)\n"
     ]
    },
    {
     "name": "stdout",
     "output_type": "stream",
     "text": [
      "----------------------> 0.3544303797468354\n",
      "Evaluated Accuracy: 0.3544\n",
      "Testing b_a_r = 0.9660, c_a_r = 0.2879, f_a_r = 0.4943\n"
     ]
    },
    {
     "name": "stderr",
     "output_type": "stream",
     "text": [
      "/home/asufian/.local/share/pipx/venvs/notebook/lib/python3.12/site-packages/torchvision/models/_utils.py:208: UserWarning: The parameter 'pretrained' is deprecated since 0.13 and may be removed in the future, please use 'weights' instead.\n",
      "  warnings.warn(\n",
      "/home/asufian/.local/share/pipx/venvs/notebook/lib/python3.12/site-packages/torchvision/models/_utils.py:223: UserWarning: Arguments other than a weight enum or `None` for 'weights' are deprecated since 0.13 and may be removed in the future. The current behavior is equivalent to passing `weights=None`.\n",
      "  warnings.warn(msg)\n"
     ]
    },
    {
     "name": "stdout",
     "output_type": "stream",
     "text": [
      "----------------------> 0.5746308016877638\n",
      "Evaluated Accuracy: 0.5746\n",
      "Testing b_a_r = 0.1730, c_a_r = 0.5112, f_a_r = 0.0043\n"
     ]
    },
    {
     "name": "stderr",
     "output_type": "stream",
     "text": [
      "/home/asufian/.local/share/pipx/venvs/notebook/lib/python3.12/site-packages/torchvision/models/_utils.py:208: UserWarning: The parameter 'pretrained' is deprecated since 0.13 and may be removed in the future, please use 'weights' instead.\n",
      "  warnings.warn(\n",
      "/home/asufian/.local/share/pipx/venvs/notebook/lib/python3.12/site-packages/torchvision/models/_utils.py:223: UserWarning: Arguments other than a weight enum or `None` for 'weights' are deprecated since 0.13 and may be removed in the future. The current behavior is equivalent to passing `weights=None`.\n",
      "  warnings.warn(msg)\n"
     ]
    },
    {
     "name": "stdout",
     "output_type": "stream",
     "text": [
      "----------------------> 0.4856276371308017\n",
      "Evaluated Accuracy: 0.4856\n",
      "Testing b_a_r = 0.0060, c_a_r = 0.2083, f_a_r = 0.3047\n"
     ]
    },
    {
     "name": "stderr",
     "output_type": "stream",
     "text": [
      "/home/asufian/.local/share/pipx/venvs/notebook/lib/python3.12/site-packages/torchvision/models/_utils.py:208: UserWarning: The parameter 'pretrained' is deprecated since 0.13 and may be removed in the future, please use 'weights' instead.\n",
      "  warnings.warn(\n",
      "/home/asufian/.local/share/pipx/venvs/notebook/lib/python3.12/site-packages/torchvision/models/_utils.py:223: UserWarning: Arguments other than a weight enum or `None` for 'weights' are deprecated since 0.13 and may be removed in the future. The current behavior is equivalent to passing `weights=None`.\n",
      "  warnings.warn(msg)\n"
     ]
    },
    {
     "name": "stdout",
     "output_type": "stream",
     "text": [
      "----------------------> 0.6257911392405063\n",
      "Evaluated Accuracy: 0.6258\n",
      "Testing b_a_r = 0.0761, c_a_r = 0.1408, f_a_r = 0.7627\n"
     ]
    },
    {
     "name": "stderr",
     "output_type": "stream",
     "text": [
      "/home/asufian/.local/share/pipx/venvs/notebook/lib/python3.12/site-packages/torchvision/models/_utils.py:208: UserWarning: The parameter 'pretrained' is deprecated since 0.13 and may be removed in the future, please use 'weights' instead.\n",
      "  warnings.warn(\n",
      "/home/asufian/.local/share/pipx/venvs/notebook/lib/python3.12/site-packages/torchvision/models/_utils.py:223: UserWarning: Arguments other than a weight enum or `None` for 'weights' are deprecated since 0.13 and may be removed in the future. The current behavior is equivalent to passing `weights=None`.\n",
      "  warnings.warn(msg)\n"
     ]
    },
    {
     "name": "stdout",
     "output_type": "stream",
     "text": [
      "----------------------> 0.6876318565400844\n",
      "Evaluated Accuracy: 0.6876\n",
      "Testing b_a_r = 0.9567, c_a_r = 0.1018, f_a_r = 0.7030\n"
     ]
    },
    {
     "name": "stderr",
     "output_type": "stream",
     "text": [
      "/home/asufian/.local/share/pipx/venvs/notebook/lib/python3.12/site-packages/torchvision/models/_utils.py:208: UserWarning: The parameter 'pretrained' is deprecated since 0.13 and may be removed in the future, please use 'weights' instead.\n",
      "  warnings.warn(\n",
      "/home/asufian/.local/share/pipx/venvs/notebook/lib/python3.12/site-packages/torchvision/models/_utils.py:223: UserWarning: Arguments other than a weight enum or `None` for 'weights' are deprecated since 0.13 and may be removed in the future. The current behavior is equivalent to passing `weights=None`.\n",
      "  warnings.warn(msg)\n"
     ]
    },
    {
     "name": "stdout",
     "output_type": "stream",
     "text": [
      "----------------------> 0.7231012658227848\n",
      "Evaluated Accuracy: 0.7231\n",
      "Testing b_a_r = 0.9865, c_a_r = 0.1007, f_a_r = 0.7599\n"
     ]
    },
    {
     "name": "stderr",
     "output_type": "stream",
     "text": [
      "/home/asufian/.local/share/pipx/venvs/notebook/lib/python3.12/site-packages/torchvision/models/_utils.py:208: UserWarning: The parameter 'pretrained' is deprecated since 0.13 and may be removed in the future, please use 'weights' instead.\n",
      "  warnings.warn(\n",
      "/home/asufian/.local/share/pipx/venvs/notebook/lib/python3.12/site-packages/torchvision/models/_utils.py:223: UserWarning: Arguments other than a weight enum or `None` for 'weights' are deprecated since 0.13 and may be removed in the future. The current behavior is equivalent to passing `weights=None`.\n",
      "  warnings.warn(msg)\n"
     ]
    },
    {
     "name": "stdout",
     "output_type": "stream",
     "text": [
      "----------------------> 0.721123417721519\n",
      "Evaluated Accuracy: 0.7211\n",
      "Testing b_a_r = 0.9773, c_a_r = 0.0982, f_a_r = 0.8923\n"
     ]
    },
    {
     "name": "stderr",
     "output_type": "stream",
     "text": [
      "/home/asufian/.local/share/pipx/venvs/notebook/lib/python3.12/site-packages/torchvision/models/_utils.py:208: UserWarning: The parameter 'pretrained' is deprecated since 0.13 and may be removed in the future, please use 'weights' instead.\n",
      "  warnings.warn(\n",
      "/home/asufian/.local/share/pipx/venvs/notebook/lib/python3.12/site-packages/torchvision/models/_utils.py:223: UserWarning: Arguments other than a weight enum or `None` for 'weights' are deprecated since 0.13 and may be removed in the future. The current behavior is equivalent to passing `weights=None`.\n",
      "  warnings.warn(msg)\n"
     ]
    },
    {
     "name": "stdout",
     "output_type": "stream",
     "text": [
      "----------------------> 0.7180907172995781\n",
      "Evaluated Accuracy: 0.7181\n",
      "Testing b_a_r = 0.7774, c_a_r = 0.2251, f_a_r = 0.9942\n"
     ]
    },
    {
     "name": "stderr",
     "output_type": "stream",
     "text": [
      "/home/asufian/.local/share/pipx/venvs/notebook/lib/python3.12/site-packages/torchvision/models/_utils.py:208: UserWarning: The parameter 'pretrained' is deprecated since 0.13 and may be removed in the future, please use 'weights' instead.\n",
      "  warnings.warn(\n",
      "/home/asufian/.local/share/pipx/venvs/notebook/lib/python3.12/site-packages/torchvision/models/_utils.py:223: UserWarning: Arguments other than a weight enum or `None` for 'weights' are deprecated since 0.13 and may be removed in the future. The current behavior is equivalent to passing `weights=None`.\n",
      "  warnings.warn(msg)\n"
     ]
    },
    {
     "name": "stdout",
     "output_type": "stream",
     "text": [
      "----------------------> 0.5814873417721519\n",
      "Evaluated Accuracy: 0.5815\n",
      "Testing b_a_r = 0.9926, c_a_r = 0.0838, f_a_r = 0.7740\n"
     ]
    },
    {
     "name": "stderr",
     "output_type": "stream",
     "text": [
      "/home/asufian/.local/share/pipx/venvs/notebook/lib/python3.12/site-packages/torchvision/models/_utils.py:208: UserWarning: The parameter 'pretrained' is deprecated since 0.13 and may be removed in the future, please use 'weights' instead.\n",
      "  warnings.warn(\n",
      "/home/asufian/.local/share/pipx/venvs/notebook/lib/python3.12/site-packages/torchvision/models/_utils.py:223: UserWarning: Arguments other than a weight enum or `None` for 'weights' are deprecated since 0.13 and may be removed in the future. The current behavior is equivalent to passing `weights=None`.\n",
      "  warnings.warn(msg)\n"
     ]
    },
    {
     "name": "stdout",
     "output_type": "stream",
     "text": [
      "----------------------> 0.7140031645569621\n",
      "Evaluated Accuracy: 0.7140\n",
      "Testing b_a_r = 0.7576, c_a_r = 0.5771, f_a_r = 0.9972\n"
     ]
    },
    {
     "name": "stderr",
     "output_type": "stream",
     "text": [
      "/home/asufian/.local/share/pipx/venvs/notebook/lib/python3.12/site-packages/torchvision/models/_utils.py:208: UserWarning: The parameter 'pretrained' is deprecated since 0.13 and may be removed in the future, please use 'weights' instead.\n",
      "  warnings.warn(\n",
      "/home/asufian/.local/share/pipx/venvs/notebook/lib/python3.12/site-packages/torchvision/models/_utils.py:223: UserWarning: Arguments other than a weight enum or `None` for 'weights' are deprecated since 0.13 and may be removed in the future. The current behavior is equivalent to passing `weights=None`.\n",
      "  warnings.warn(msg)\n"
     ]
    },
    {
     "name": "stdout",
     "output_type": "stream",
     "text": [
      "----------------------> 0.4030854430379747\n",
      "Evaluated Accuracy: 0.4031\n",
      "Testing b_a_r = 0.0037, c_a_r = 0.0254, f_a_r = 0.8168\n"
     ]
    },
    {
     "name": "stderr",
     "output_type": "stream",
     "text": [
      "/home/asufian/.local/share/pipx/venvs/notebook/lib/python3.12/site-packages/torchvision/models/_utils.py:208: UserWarning: The parameter 'pretrained' is deprecated since 0.13 and may be removed in the future, please use 'weights' instead.\n",
      "  warnings.warn(\n",
      "/home/asufian/.local/share/pipx/venvs/notebook/lib/python3.12/site-packages/torchvision/models/_utils.py:223: UserWarning: Arguments other than a weight enum or `None` for 'weights' are deprecated since 0.13 and may be removed in the future. The current behavior is equivalent to passing `weights=None`.\n",
      "  warnings.warn(msg)\n"
     ]
    },
    {
     "name": "stdout",
     "output_type": "stream",
     "text": [
      "----------------------> 0.70042194092827\n",
      "Evaluated Accuracy: 0.7004\n",
      "Testing b_a_r = 0.9941, c_a_r = 0.1123, f_a_r = 0.6539\n"
     ]
    },
    {
     "name": "stderr",
     "output_type": "stream",
     "text": [
      "/home/asufian/.local/share/pipx/venvs/notebook/lib/python3.12/site-packages/torchvision/models/_utils.py:208: UserWarning: The parameter 'pretrained' is deprecated since 0.13 and may be removed in the future, please use 'weights' instead.\n",
      "  warnings.warn(\n",
      "/home/asufian/.local/share/pipx/venvs/notebook/lib/python3.12/site-packages/torchvision/models/_utils.py:223: UserWarning: Arguments other than a weight enum or `None` for 'weights' are deprecated since 0.13 and may be removed in the future. The current behavior is equivalent to passing `weights=None`.\n",
      "  warnings.warn(msg)\n"
     ]
    },
    {
     "name": "stdout",
     "output_type": "stream",
     "text": [
      "----------------------> 0.7213871308016877\n",
      "Evaluated Accuracy: 0.7214\n",
      "\n",
      "✅ Optimal Values:\n",
      "   - b_a_r: 0.9567\n",
      "   - c_a_r: 0.1018\n",
      "   - f_a_r: 0.7030\n",
      "📈 Highest Accuracy Achieved: 0.7231\n"
     ]
    }
   ],
   "source": [
    "import numpy as np\n",
    "import torch\n",
    "import matplotlib.pyplot as plt\n",
    "from skopt import gp_minimize\n",
    "from skopt.space import Real\n",
    "from skopt.utils import use_named_args\n",
    "from skopt.plots import plot_convergence\n",
    "\n",
    "# Device setup\n",
    "device = torch.device(\"cuda\" if torch.cuda.is_available() else \"cpu\")\n",
    "\n",
    "\n",
    "# Define the search space for b_a_r, c_a_r, and f_a_r\n",
    "search_space = [\n",
    "    Real(0.0, 1.0, name=\"b_a_r\"),\n",
    "    Real(0.0, 1.0, name=\"c_a_r\"),\n",
    "    Real(0.0, 1.0, name=\"f_a_r\")\n",
    "]\n",
    "\n",
    "# Define the objective function for Bayesian Optimization\n",
    "@use_named_args(search_space)\n",
    "def objective(b_a_r, c_a_r, f_a_r):\n",
    "    \"\"\"\n",
    "    Objective function to optimize the adaptation ratios.\n",
    "    It applies adaptation, evaluates the model, and returns the negative accuracy.\n",
    "    \"\"\"\n",
    "    accuracy = get_model_accuracy(b_a_r, c_a_r, f_a_r)\n",
    "    print(f\"Evaluated Accuracy: {accuracy:.4f}\")  # Debugging Output\n",
    "    \n",
    "    return -accuracy  # We minimize, so return negative accuracy\n",
    "\n",
    "# Perform Bayesian Optimization with additional settings\n",
    "search_iteration=50\n",
    "res = gp_minimize(\n",
    "    func=objective,\n",
    "    dimensions=search_space,\n",
    "    n_calls=search_iteration,               # Number of evaluations\n",
    "    n_initial_points=5,       # Initial random explorations before GP starts\n",
    "    acq_func=\"EI\",            # Acquisition function: Expected Improvement\n",
    "    random_state=42,          # Ensure reproducibility\n",
    "    n_jobs=-1,                # Parallel execution for faster optimization\n",
    ")\n",
    "\n",
    "# Extract optimal results\n",
    "optimal_b_a_r, optimal_c_a_r, optimal_f_a_r = res.x\n",
    "best_accuracy = -res.fun\n",
    "\n",
    "print(f\"\\n✅ Optimal Values:\")\n",
    "print(f\"   - b_a_r: {optimal_b_a_r:.4f}\")\n",
    "print(f\"   - c_a_r: {optimal_c_a_r:.4f}\")\n",
    "print(f\"   - f_a_r: {optimal_f_a_r:.4f}\")\n",
    "print(f\"📈 Highest Accuracy Achieved: {best_accuracy:.4f}\")\n",
    "\n",
    "\n"
   ]
  },
  {
   "cell_type": "code",
   "execution_count": null,
   "metadata": {},
   "outputs": [],
   "source": []
  },
  {
   "cell_type": "code",
   "execution_count": 80,
   "metadata": {},
   "outputs": [
    {
     "name": "stderr",
     "output_type": "stream",
     "text": [
      "/home/asufian/.local/share/pipx/venvs/notebook/lib/python3.12/site-packages/torchvision/models/_utils.py:208: UserWarning: The parameter 'pretrained' is deprecated since 0.13 and may be removed in the future, please use 'weights' instead.\n",
      "  warnings.warn(\n",
      "/home/asufian/.local/share/pipx/venvs/notebook/lib/python3.12/site-packages/torchvision/models/_utils.py:223: UserWarning: Arguments other than a weight enum or `None` for 'weights' are deprecated since 0.13 and may be removed in the future. The current behavior is equivalent to passing `weights=None`.\n",
      "  warnings.warn(msg)\n"
     ]
    },
    {
     "name": "stdout",
     "output_type": "stream",
     "text": [
      "---Accu-----pre----rec---------> 0.5993 ± 0.0565  0.6236 ± 0.0574  0.5993 ± 0.0565\n"
     ]
    },
    {
     "name": "stderr",
     "output_type": "stream",
     "text": [
      "/home/asufian/.local/share/pipx/venvs/notebook/lib/python3.12/site-packages/torchvision/models/_utils.py:208: UserWarning: The parameter 'pretrained' is deprecated since 0.13 and may be removed in the future, please use 'weights' instead.\n",
      "  warnings.warn(\n",
      "/home/asufian/.local/share/pipx/venvs/notebook/lib/python3.12/site-packages/torchvision/models/_utils.py:223: UserWarning: Arguments other than a weight enum or `None` for 'weights' are deprecated since 0.13 and may be removed in the future. The current behavior is equivalent to passing `weights=None`.\n",
      "  warnings.warn(msg)\n"
     ]
    },
    {
     "name": "stdout",
     "output_type": "stream",
     "text": [
      "---Accu-----pre----rec---------> 0.4285 ± 0.0644  0.4663 ± 0.0691  0.4285 ± 0.0644\n",
      "---Accu-----pre----rec---------> 0.7231 ± 0.0661  0.7440 ± 0.0758  0.7231 ± 0.0661\n"
     ]
    }
   ],
   "source": [
    "convolutional_network_with_dropout = ResNet18WithDropout(pretrained=False, dr=0.0)\n",
    "convolutional_network_with_dropout.fc = nn.Flatten()\n",
    "xyz = convolutional_network_with_dropout\n",
    "M3 = PrototypicalNetworks_dynamic_query(xyz).to(device)\n",
    "M3.load_state_dict(torch.load('model_own_path.pt'))\n",
    "evaluate2('/home/asufian/Desktop/output_olchiki/resnet_resluts/base/8_w_1_s_f', test_loader, M3, criterion)\n",
    "# Load Model M2\n",
    "convolutional_network_with_dropout = ResNet18WithDropout(pretrained=False, dr=0.0)\n",
    "convolutional_network_with_dropout.fc = nn.Flatten()\n",
    "xyz2 = convolutional_network_with_dropout\n",
    "M2 = PrototypicalNetworks_dynamic_query(xyz2).to(device)\n",
    "M2.load_state_dict(torch.load('model_mu_path.pt'))\n",
    "evaluate2(\"/home/asufian/Desktop/output_olchiki/resnet_resluts/secondary/8_w_1_s_f\", test_loader, M2, criterion)\n",
    "# Update Model M3's weights using a weighted combination of Model M3 and Model M2\n",
    "update_model_weights2(M3, M2, conv_ratio= optimal_c_a_r , fc_ratio=optimal_f_a_r , bias_ratio=optimal_b_a_r)\n",
    "\n",
    "# Assuming you have the evaluate2 function defined\n",
    "# Evaluate the updated model (M3) using evaluate2 function with some arguments\n",
    "evaluate2(\"/home/asufian/Desktop/output_olchiki/resnet_resluts/amul/8_w_1_s_f\", test_loader, M3, criterion)\n"
   ]
  },
  {
   "cell_type": "code",
   "execution_count": null,
   "metadata": {},
   "outputs": [],
   "source": []
  },
  {
   "cell_type": "code",
   "execution_count": null,
   "metadata": {},
   "outputs": [],
   "source": []
  },
  {
   "cell_type": "code",
   "execution_count": 81,
   "metadata": {},
   "outputs": [
    {
     "name": "stderr",
     "output_type": "stream",
     "text": [
      "/home/asufian/.local/share/pipx/venvs/notebook/lib/python3.12/site-packages/torchvision/models/_utils.py:208: UserWarning: The parameter 'pretrained' is deprecated since 0.13 and may be removed in the future, please use 'weights' instead.\n",
      "  warnings.warn(\n",
      "/home/asufian/.local/share/pipx/venvs/notebook/lib/python3.12/site-packages/torchvision/models/_utils.py:223: UserWarning: Arguments other than a weight enum or `None` for 'weights' are deprecated since 0.13 and may be removed in the future. The current behavior is equivalent to passing `weights=None`.\n",
      "  warnings.warn(msg)\n"
     ]
    }
   ],
   "source": [
    "device = torch.device(\"cuda\" if torch.cuda.is_available() else \"cpu\")\n",
    "\n",
    "\n",
    "\n",
    "!rm model_mu_path.pt\n",
    "!rm model_own_path.pt\n",
    "\n",
    "convolutional_network_with_dropout = ResNet18WithDropout(pretrained=False, dr=0.0)\n",
    "convolutional_network_with_dropout.fc = nn.Flatten()\n",
    "model_own = PrototypicalNetworks_dynamic_query(convolutional_network_with_dropout).to(device)\n",
    "model_own.load_state_dict(torch.load('/home/asufian/Desktop/output_olchiki/code/modelr_res18.pth',map_location=torch.device('cpu')))\n",
    "\n",
    "\n",
    "convolutional_network_with_dropout = ResNet18WithDropout(pretrained=False, dr=0.0)\n",
    "convolutional_network_with_dropout.fc = nn.Flatten()\n",
    "model_own_1_shot = PrototypicalNetworks_dynamic_query(convolutional_network_with_dropout).to(device)\n",
    "model_own_1_shot.load_state_dict(torch.load('/home/asufian/Desktop/output_olchiki/code/olchiki/ressecondary/model_5/model_B_olchiki_5-shot_res.pth',map_location=torch.device('cpu')))\n",
    "\n",
    "torch.save(model_own_1_shot.state_dict(), 'model_mu_path.pt')\n",
    "torch.save(model_own.state_dict(), 'model_own_path.pt')"
   ]
  },
  {
   "cell_type": "code",
   "execution_count": 82,
   "metadata": {},
   "outputs": [],
   "source": [
    "def evaluate2(fname,data_loader, model, criterion=nn.CrossEntropyLoss()):\n",
    "    total_predictions = 0\n",
    "    correct_predictions = 0\n",
    "    total_loss = 0.0\n",
    "    accuracy = 0\n",
    "    datta = \"\"\n",
    "    model.eval()\n",
    "    tlv_cls=0\n",
    "    ttla=0\n",
    "    ttlal=[]\n",
    "    ttlac=0\n",
    "    precision=[]\n",
    "    recall=[]\n",
    "    \n",
    "    with torch.no_grad():\n",
    "        for episode in range(len(clss_8)):\n",
    "            support_set, query_set = data_loader.__getitem__(clss_8[tlv_cls] , clss_support_imagesss_5_shot[tlv_cls])\n",
    "\n",
    "           \n",
    "            clssa=str(clss_8[tlv_cls])\n",
    "            clss=str(clssa).replace(',',' ').replace('\\'',' ').replace('\\'',' ')\n",
    "            msg=str(clss_support_imagesss_5_shot[tlv_cls])\n",
    "            str(clss_8[tlv_cls])\n",
    "\n",
    "            tlv_cls+=1\n",
    "            # print(len(support_set),len(query_set))\n",
    "            support_set = [(torch.stack(images).to(device), label[0]) for images, label in support_set]\n",
    "            query_set = [(torch.stack(images).to(device), label) for images, label in query_set]\n",
    "\n",
    "            support_images, support_labels = zip(*support_set)\n",
    "\n",
    "            query_images, query_labels = zip(*query_set)\n",
    "\n",
    "            classification_scores = model(support_images, support_labels, query_images)\n",
    "            cortt = 0\n",
    "            totl = 0\n",
    "            confusion_mat=None\n",
    "            all_predicted_labels = []\n",
    "            all_actual_labels = []\n",
    "            # print(len(classification_scores),len(query_labels))\n",
    "            for ei in range(len(classification_scores)):\n",
    "                classification_scores_each_class = classification_scores[ei]\n",
    "                # print(classification_scores_each_class)\n",
    "                predicted_labels_eachclas = torch.argmax(classification_scores_each_class, dim=1)\n",
    "                pp = predicted_labels_eachclas.tolist()\n",
    "                act = query_labels[ei]\n",
    "                all_predicted_labels.extend(pp)\n",
    "                all_actual_labels.extend(act)\n",
    "                for iiii in range(len(pp)):\n",
    "                    if pp[iiii] == act[iiii]:\n",
    "                        cortt = cortt + 1\n",
    "                totl = totl + len(pp)\n",
    "                # print(len(act))\n",
    "            accuracy = cortt / totl\n",
    "            ttla+=1\n",
    "            ttlac+=accuracy\n",
    "            ttlal.append(accuracy)\n",
    "            # print(cortt , totl,\"Validation Accuracy:              \", cortt / totl)\n",
    "            confusion_mat = confusion_matrix(all_actual_labels, all_predicted_labels)\n",
    "            # print(\"Confusion Matrix:\")\n",
    "            # print(confusion_mat)\n",
    "\n",
    "            # fname='./own35_mapi_5_way_1_shot'\n",
    "\n",
    "            precision_overall, recall_overall, f1ss= calculate_metrics_get_per(msg,confusion_mat,acciuracy=cortt / totl,cls=clss,flnm=fname)\n",
    "            precision.append(precision_overall)\n",
    "            recall.append(recall_overall)\n",
    "    print(f\"---Accu-----pre----rec---------> {np.mean(ttlal):.4f} ± {np.std(ttlal, ddof=1):.4f}  \"\n",
    "      f\"{np.mean(precision):.4f} ± {np.std(precision, ddof=1):.4f}  \"\n",
    "      f\"{np.mean(recall):.4f} ± {np.std(recall, ddof=1):.4f}\")\n",
    "\n",
    "    # print(\"---Accu-----pre----rec---------->\",np.mean(ttlal),'±',np.std(ttlal, ddof=1), np.mean(precision),'±',np.std(precision, ddof=1),np.mean(precision),'±',np.std(precision, ddof=1),)\n",
    "# %%%%%%\n",
    "\n",
    "def evaluate3(fname,data_loader, model, criterion=nn.CrossEntropyLoss()):\n",
    "    total_predictions = 0\n",
    "    correct_predictions = 0\n",
    "    total_loss = 0.0\n",
    "    accuracy = 0\n",
    "    datta = \"\"\n",
    "    model.eval()\n",
    "    tlv_cls=0\n",
    "    ttla=0\n",
    "    ttlac=0\n",
    "    with torch.no_grad():\n",
    "        for episode in range(len(clss_8)):\n",
    "            support_set, query_set = data_loader.__getitem__(clss_8[tlv_cls] , clss_support_imagesss_5_shot[tlv_cls])\n",
    "\n",
    "            \n",
    "            clssa=str(clss_8[tlv_cls])\n",
    "            clss=str(clssa).replace(',',' ').replace('\\'',' ').replace('\\'',' ')\n",
    "            msg=str(clss_support_imagesss_5_shot[tlv_cls])\n",
    "            str(clss_8[tlv_cls])\n",
    "\n",
    "            tlv_cls+=1\n",
    "            # print(len(support_set),len(query_set))\n",
    "            support_set = [(torch.stack(images).to(device), label[0]) for images, label in support_set]\n",
    "            query_set = [(torch.stack(images).to(device), label) for images, label in query_set]\n",
    "\n",
    "            support_images, support_labels = zip(*support_set)\n",
    "\n",
    "            query_images, query_labels = zip(*query_set)\n",
    "\n",
    "            classification_scores = model(support_images, support_labels, query_images)\n",
    "            cortt = 0\n",
    "            totl = 0\n",
    "            confusion_mat=None\n",
    "            all_predicted_labels = []\n",
    "            all_actual_labels = []\n",
    "            # print(len(classification_scores),len(query_labels))\n",
    "            for ei in range(len(classification_scores)):\n",
    "                classification_scores_each_class = classification_scores[ei]\n",
    "                # print(classification_scores_each_class)\n",
    "                predicted_labels_eachclas = torch.argmax(classification_scores_each_class, dim=1)\n",
    "                pp = predicted_labels_eachclas.tolist()\n",
    "                act = query_labels[ei]\n",
    "                all_predicted_labels.extend(pp)\n",
    "                all_actual_labels.extend(act)\n",
    "                for iiii in range(len(pp)):\n",
    "                    if pp[iiii] == act[iiii]:\n",
    "                        cortt = cortt + 1\n",
    "                totl = totl + len(pp)\n",
    "                # print(len(act))\n",
    "            accuracy = cortt / totl\n",
    "            ttla+=1\n",
    "            ttlac+=accuracy\n",
    "            # print(cortt , totl,\"Validation Accuracy:              \", cortt / totl)\n",
    "            # confusion_mat = confusion_matrix(all_actual_labels, all_predicted_labels)\n",
    "            # print(\"Confusion Matrix:\")\n",
    "            # print(confusion_mat)\n",
    "\n",
    "            # fname='./own35_mapi_5_way_1_shot'\n",
    "\n",
    "            # calculate_metrics_get_per(msg,confusion_mat,acciuracy=cortt / totl,cls=clss,flnm=fname)\n",
    "\n",
    "    print(\"---------------------->\",ttlac/ttla)\n",
    "    return ttlac/ttla"
   ]
  },
  {
   "cell_type": "code",
   "execution_count": 83,
   "metadata": {
    "scrolled": true
   },
   "outputs": [
    {
     "name": "stdout",
     "output_type": "stream",
     "text": [
      "Testing b_a_r = 0.7965, c_a_r = 0.1834, f_a_r = 0.7797\n"
     ]
    },
    {
     "name": "stderr",
     "output_type": "stream",
     "text": [
      "/home/asufian/.local/share/pipx/venvs/notebook/lib/python3.12/site-packages/torchvision/models/_utils.py:208: UserWarning: The parameter 'pretrained' is deprecated since 0.13 and may be removed in the future, please use 'weights' instead.\n",
      "  warnings.warn(\n",
      "/home/asufian/.local/share/pipx/venvs/notebook/lib/python3.12/site-packages/torchvision/models/_utils.py:223: UserWarning: Arguments other than a weight enum or `None` for 'weights' are deprecated since 0.13 and may be removed in the future. The current behavior is equivalent to passing `weights=None`.\n",
      "  warnings.warn(msg)\n"
     ]
    },
    {
     "name": "stdout",
     "output_type": "stream",
     "text": [
      "----------------------> 0.8236111111111111\n",
      "Evaluated Accuracy: 0.8236\n",
      "Testing b_a_r = 0.5969, c_a_r = 0.4458, f_a_r = 0.1000\n",
      "----------------------> 0.6056944444444444\n",
      "Evaluated Accuracy: 0.6057\n",
      "Testing b_a_r = 0.4592, c_a_r = 0.3337, f_a_r = 0.1429\n",
      "----------------------> 0.7254166666666667\n",
      "Evaluated Accuracy: 0.7254\n",
      "Testing b_a_r = 0.6509, c_a_r = 0.0564, f_a_r = 0.7220\n",
      "----------------------> 0.7895833333333333\n",
      "Evaluated Accuracy: 0.7896\n",
      "Testing b_a_r = 0.9386, c_a_r = 0.0008, f_a_r = 0.9922\n",
      "----------------------> 0.7531944444444445\n",
      "Evaluated Accuracy: 0.7532\n",
      "Testing b_a_r = 0.0250, c_a_r = 1.0000, f_a_r = 0.4630\n"
     ]
    },
    {
     "name": "stderr",
     "output_type": "stream",
     "text": [
      "/home/asufian/.local/share/pipx/venvs/notebook/lib/python3.12/site-packages/torchvision/models/_utils.py:208: UserWarning: The parameter 'pretrained' is deprecated since 0.13 and may be removed in the future, please use 'weights' instead.\n",
      "  warnings.warn(\n",
      "/home/asufian/.local/share/pipx/venvs/notebook/lib/python3.12/site-packages/torchvision/models/_utils.py:223: UserWarning: Arguments other than a weight enum or `None` for 'weights' are deprecated since 0.13 and may be removed in the future. The current behavior is equivalent to passing `weights=None`.\n",
      "  warnings.warn(msg)\n"
     ]
    },
    {
     "name": "stdout",
     "output_type": "stream",
     "text": [
      "----------------------> 0.3630555555555555\n",
      "Evaluated Accuracy: 0.3631\n",
      "Testing b_a_r = 0.0000, c_a_r = 0.1539, f_a_r = 0.0000\n"
     ]
    },
    {
     "name": "stderr",
     "output_type": "stream",
     "text": [
      "/home/asufian/.local/share/pipx/venvs/notebook/lib/python3.12/site-packages/torchvision/models/_utils.py:208: UserWarning: The parameter 'pretrained' is deprecated since 0.13 and may be removed in the future, please use 'weights' instead.\n",
      "  warnings.warn(\n",
      "/home/asufian/.local/share/pipx/venvs/notebook/lib/python3.12/site-packages/torchvision/models/_utils.py:223: UserWarning: Arguments other than a weight enum or `None` for 'weights' are deprecated since 0.13 and may be removed in the future. The current behavior is equivalent to passing `weights=None`.\n",
      "  warnings.warn(msg)\n"
     ]
    },
    {
     "name": "stdout",
     "output_type": "stream",
     "text": [
      "----------------------> 0.7712500000000001\n",
      "Evaluated Accuracy: 0.7713\n",
      "Testing b_a_r = 0.0000, c_a_r = 0.1925, f_a_r = 1.0000\n"
     ]
    },
    {
     "name": "stderr",
     "output_type": "stream",
     "text": [
      "/home/asufian/.local/share/pipx/venvs/notebook/lib/python3.12/site-packages/torchvision/models/_utils.py:208: UserWarning: The parameter 'pretrained' is deprecated since 0.13 and may be removed in the future, please use 'weights' instead.\n",
      "  warnings.warn(\n",
      "/home/asufian/.local/share/pipx/venvs/notebook/lib/python3.12/site-packages/torchvision/models/_utils.py:223: UserWarning: Arguments other than a weight enum or `None` for 'weights' are deprecated since 0.13 and may be removed in the future. The current behavior is equivalent to passing `weights=None`.\n",
      "  warnings.warn(msg)\n"
     ]
    },
    {
     "name": "stdout",
     "output_type": "stream",
     "text": [
      "----------------------> 0.8240277777777778\n",
      "Evaluated Accuracy: 0.8240\n",
      "Testing b_a_r = 1.0000, c_a_r = 0.2729, f_a_r = 1.0000\n"
     ]
    },
    {
     "name": "stderr",
     "output_type": "stream",
     "text": [
      "/home/asufian/.local/share/pipx/venvs/notebook/lib/python3.12/site-packages/torchvision/models/_utils.py:208: UserWarning: The parameter 'pretrained' is deprecated since 0.13 and may be removed in the future, please use 'weights' instead.\n",
      "  warnings.warn(\n",
      "/home/asufian/.local/share/pipx/venvs/notebook/lib/python3.12/site-packages/torchvision/models/_utils.py:223: UserWarning: Arguments other than a weight enum or `None` for 'weights' are deprecated since 0.13 and may be removed in the future. The current behavior is equivalent to passing `weights=None`.\n",
      "  warnings.warn(msg)\n"
     ]
    },
    {
     "name": "stdout",
     "output_type": "stream",
     "text": [
      "----------------------> 0.7247222222222223\n",
      "Evaluated Accuracy: 0.7247\n",
      "Testing b_a_r = 0.9542, c_a_r = 0.1278, f_a_r = 0.0518\n"
     ]
    },
    {
     "name": "stderr",
     "output_type": "stream",
     "text": [
      "/home/asufian/.local/share/pipx/venvs/notebook/lib/python3.12/site-packages/torchvision/models/_utils.py:208: UserWarning: The parameter 'pretrained' is deprecated since 0.13 and may be removed in the future, please use 'weights' instead.\n",
      "  warnings.warn(\n",
      "/home/asufian/.local/share/pipx/venvs/notebook/lib/python3.12/site-packages/torchvision/models/_utils.py:223: UserWarning: Arguments other than a weight enum or `None` for 'weights' are deprecated since 0.13 and may be removed in the future. The current behavior is equivalent to passing `weights=None`.\n",
      "  warnings.warn(msg)\n"
     ]
    },
    {
     "name": "stdout",
     "output_type": "stream",
     "text": [
      "----------------------> 0.7725\n",
      "Evaluated Accuracy: 0.7725\n",
      "Testing b_a_r = 1.0000, c_a_r = 0.1361, f_a_r = 1.0000\n"
     ]
    },
    {
     "name": "stderr",
     "output_type": "stream",
     "text": [
      "/home/asufian/.local/share/pipx/venvs/notebook/lib/python3.12/site-packages/torchvision/models/_utils.py:208: UserWarning: The parameter 'pretrained' is deprecated since 0.13 and may be removed in the future, please use 'weights' instead.\n",
      "  warnings.warn(\n",
      "/home/asufian/.local/share/pipx/venvs/notebook/lib/python3.12/site-packages/torchvision/models/_utils.py:223: UserWarning: Arguments other than a weight enum or `None` for 'weights' are deprecated since 0.13 and may be removed in the future. The current behavior is equivalent to passing `weights=None`.\n",
      "  warnings.warn(msg)\n"
     ]
    },
    {
     "name": "stdout",
     "output_type": "stream",
     "text": [
      "----------------------> 0.82375\n",
      "Evaluated Accuracy: 0.8237\n",
      "Testing b_a_r = 0.0000, c_a_r = 0.0000, f_a_r = 0.0000\n"
     ]
    },
    {
     "name": "stderr",
     "output_type": "stream",
     "text": [
      "/home/asufian/.local/share/pipx/venvs/notebook/lib/python3.12/site-packages/torchvision/models/_utils.py:208: UserWarning: The parameter 'pretrained' is deprecated since 0.13 and may be removed in the future, please use 'weights' instead.\n",
      "  warnings.warn(\n",
      "/home/asufian/.local/share/pipx/venvs/notebook/lib/python3.12/site-packages/torchvision/models/_utils.py:223: UserWarning: Arguments other than a weight enum or `None` for 'weights' are deprecated since 0.13 and may be removed in the future. The current behavior is equivalent to passing `weights=None`.\n",
      "  warnings.warn(msg)\n"
     ]
    },
    {
     "name": "stdout",
     "output_type": "stream",
     "text": [
      "----------------------> 0.711388888888889\n",
      "Evaluated Accuracy: 0.7114\n",
      "Testing b_a_r = 0.0000, c_a_r = 0.1487, f_a_r = 0.8523\n"
     ]
    },
    {
     "name": "stderr",
     "output_type": "stream",
     "text": [
      "/home/asufian/.local/share/pipx/venvs/notebook/lib/python3.12/site-packages/torchvision/models/_utils.py:208: UserWarning: The parameter 'pretrained' is deprecated since 0.13 and may be removed in the future, please use 'weights' instead.\n",
      "  warnings.warn(\n",
      "/home/asufian/.local/share/pipx/venvs/notebook/lib/python3.12/site-packages/torchvision/models/_utils.py:223: UserWarning: Arguments other than a weight enum or `None` for 'weights' are deprecated since 0.13 and may be removed in the future. The current behavior is equivalent to passing `weights=None`.\n",
      "  warnings.warn(msg)\n"
     ]
    },
    {
     "name": "stdout",
     "output_type": "stream",
     "text": [
      "----------------------> 0.8405555555555556\n",
      "Evaluated Accuracy: 0.8406\n",
      "Testing b_a_r = 0.1384, c_a_r = 0.7073, f_a_r = 0.9990\n"
     ]
    },
    {
     "name": "stderr",
     "output_type": "stream",
     "text": [
      "/home/asufian/.local/share/pipx/venvs/notebook/lib/python3.12/site-packages/torchvision/models/_utils.py:208: UserWarning: The parameter 'pretrained' is deprecated since 0.13 and may be removed in the future, please use 'weights' instead.\n",
      "  warnings.warn(\n",
      "/home/asufian/.local/share/pipx/venvs/notebook/lib/python3.12/site-packages/torchvision/models/_utils.py:223: UserWarning: Arguments other than a weight enum or `None` for 'weights' are deprecated since 0.13 and may be removed in the future. The current behavior is equivalent to passing `weights=None`.\n",
      "  warnings.warn(msg)\n"
     ]
    },
    {
     "name": "stdout",
     "output_type": "stream",
     "text": [
      "----------------------> 0.3973611111111111\n",
      "Evaluated Accuracy: 0.3974\n",
      "Testing b_a_r = 0.0008, c_a_r = 0.1792, f_a_r = 0.5025\n"
     ]
    },
    {
     "name": "stderr",
     "output_type": "stream",
     "text": [
      "/home/asufian/.local/share/pipx/venvs/notebook/lib/python3.12/site-packages/torchvision/models/_utils.py:208: UserWarning: The parameter 'pretrained' is deprecated since 0.13 and may be removed in the future, please use 'weights' instead.\n",
      "  warnings.warn(\n",
      "/home/asufian/.local/share/pipx/venvs/notebook/lib/python3.12/site-packages/torchvision/models/_utils.py:223: UserWarning: Arguments other than a weight enum or `None` for 'weights' are deprecated since 0.13 and may be removed in the future. The current behavior is equivalent to passing `weights=None`.\n",
      "  warnings.warn(msg)\n"
     ]
    },
    {
     "name": "stdout",
     "output_type": "stream",
     "text": [
      "----------------------> 0.8229166666666669\n",
      "Evaluated Accuracy: 0.8229\n",
      "Testing b_a_r = 0.0883, c_a_r = 0.0801, f_a_r = 0.9982\n"
     ]
    },
    {
     "name": "stderr",
     "output_type": "stream",
     "text": [
      "/home/asufian/.local/share/pipx/venvs/notebook/lib/python3.12/site-packages/torchvision/models/_utils.py:208: UserWarning: The parameter 'pretrained' is deprecated since 0.13 and may be removed in the future, please use 'weights' instead.\n",
      "  warnings.warn(\n",
      "/home/asufian/.local/share/pipx/venvs/notebook/lib/python3.12/site-packages/torchvision/models/_utils.py:223: UserWarning: Arguments other than a weight enum or `None` for 'weights' are deprecated since 0.13 and may be removed in the future. The current behavior is equivalent to passing `weights=None`.\n",
      "  warnings.warn(msg)\n"
     ]
    },
    {
     "name": "stdout",
     "output_type": "stream",
     "text": [
      "----------------------> 0.8054166666666666\n",
      "Evaluated Accuracy: 0.8054\n",
      "Testing b_a_r = 0.3956, c_a_r = 0.7753, f_a_r = 0.0057\n"
     ]
    },
    {
     "name": "stderr",
     "output_type": "stream",
     "text": [
      "/home/asufian/.local/share/pipx/venvs/notebook/lib/python3.12/site-packages/torchvision/models/_utils.py:208: UserWarning: The parameter 'pretrained' is deprecated since 0.13 and may be removed in the future, please use 'weights' instead.\n",
      "  warnings.warn(\n",
      "/home/asufian/.local/share/pipx/venvs/notebook/lib/python3.12/site-packages/torchvision/models/_utils.py:223: UserWarning: Arguments other than a weight enum or `None` for 'weights' are deprecated since 0.13 and may be removed in the future. The current behavior is equivalent to passing `weights=None`.\n",
      "  warnings.warn(msg)\n"
     ]
    },
    {
     "name": "stdout",
     "output_type": "stream",
     "text": [
      "----------------------> 0.4630555555555555\n",
      "Evaluated Accuracy: 0.4631\n",
      "Testing b_a_r = 0.0181, c_a_r = 0.1360, f_a_r = 0.6417\n"
     ]
    },
    {
     "name": "stderr",
     "output_type": "stream",
     "text": [
      "/home/asufian/.local/share/pipx/venvs/notebook/lib/python3.12/site-packages/torchvision/models/_utils.py:208: UserWarning: The parameter 'pretrained' is deprecated since 0.13 and may be removed in the future, please use 'weights' instead.\n",
      "  warnings.warn(\n",
      "/home/asufian/.local/share/pipx/venvs/notebook/lib/python3.12/site-packages/torchvision/models/_utils.py:223: UserWarning: Arguments other than a weight enum or `None` for 'weights' are deprecated since 0.13 and may be removed in the future. The current behavior is equivalent to passing `weights=None`.\n",
      "  warnings.warn(msg)\n"
     ]
    },
    {
     "name": "stdout",
     "output_type": "stream",
     "text": [
      "----------------------> 0.8363888888888891\n",
      "Evaluated Accuracy: 0.8364\n",
      "Testing b_a_r = 0.9885, c_a_r = 0.2554, f_a_r = 0.0311\n"
     ]
    },
    {
     "name": "stderr",
     "output_type": "stream",
     "text": [
      "/home/asufian/.local/share/pipx/venvs/notebook/lib/python3.12/site-packages/torchvision/models/_utils.py:208: UserWarning: The parameter 'pretrained' is deprecated since 0.13 and may be removed in the future, please use 'weights' instead.\n",
      "  warnings.warn(\n",
      "/home/asufian/.local/share/pipx/venvs/notebook/lib/python3.12/site-packages/torchvision/models/_utils.py:223: UserWarning: Arguments other than a weight enum or `None` for 'weights' are deprecated since 0.13 and may be removed in the future. The current behavior is equivalent to passing `weights=None`.\n",
      "  warnings.warn(msg)\n"
     ]
    },
    {
     "name": "stdout",
     "output_type": "stream",
     "text": [
      "----------------------> 0.7526388888888887\n",
      "Evaluated Accuracy: 0.7526\n",
      "Testing b_a_r = 0.3692, c_a_r = 0.4531, f_a_r = 0.9961\n"
     ]
    },
    {
     "name": "stderr",
     "output_type": "stream",
     "text": [
      "/home/asufian/.local/share/pipx/venvs/notebook/lib/python3.12/site-packages/torchvision/models/_utils.py:208: UserWarning: The parameter 'pretrained' is deprecated since 0.13 and may be removed in the future, please use 'weights' instead.\n",
      "  warnings.warn(\n",
      "/home/asufian/.local/share/pipx/venvs/notebook/lib/python3.12/site-packages/torchvision/models/_utils.py:223: UserWarning: Arguments other than a weight enum or `None` for 'weights' are deprecated since 0.13 and may be removed in the future. The current behavior is equivalent to passing `weights=None`.\n",
      "  warnings.warn(msg)\n"
     ]
    },
    {
     "name": "stdout",
     "output_type": "stream",
     "text": [
      "----------------------> 0.5629166666666667\n",
      "Evaluated Accuracy: 0.5629\n",
      "Testing b_a_r = 0.3619, c_a_r = 0.6192, f_a_r = 0.0008\n"
     ]
    },
    {
     "name": "stderr",
     "output_type": "stream",
     "text": [
      "/home/asufian/.local/share/pipx/venvs/notebook/lib/python3.12/site-packages/torchvision/models/_utils.py:208: UserWarning: The parameter 'pretrained' is deprecated since 0.13 and may be removed in the future, please use 'weights' instead.\n",
      "  warnings.warn(\n",
      "/home/asufian/.local/share/pipx/venvs/notebook/lib/python3.12/site-packages/torchvision/models/_utils.py:223: UserWarning: Arguments other than a weight enum or `None` for 'weights' are deprecated since 0.13 and may be removed in the future. The current behavior is equivalent to passing `weights=None`.\n",
      "  warnings.warn(msg)\n"
     ]
    },
    {
     "name": "stdout",
     "output_type": "stream",
     "text": [
      "----------------------> 0.5031944444444445\n",
      "Evaluated Accuracy: 0.5032\n",
      "Testing b_a_r = 0.0612, c_a_r = 0.2461, f_a_r = 0.5163\n"
     ]
    },
    {
     "name": "stderr",
     "output_type": "stream",
     "text": [
      "/home/asufian/.local/share/pipx/venvs/notebook/lib/python3.12/site-packages/torchvision/models/_utils.py:208: UserWarning: The parameter 'pretrained' is deprecated since 0.13 and may be removed in the future, please use 'weights' instead.\n",
      "  warnings.warn(\n",
      "/home/asufian/.local/share/pipx/venvs/notebook/lib/python3.12/site-packages/torchvision/models/_utils.py:223: UserWarning: Arguments other than a weight enum or `None` for 'weights' are deprecated since 0.13 and may be removed in the future. The current behavior is equivalent to passing `weights=None`.\n",
      "  warnings.warn(msg)\n"
     ]
    },
    {
     "name": "stdout",
     "output_type": "stream",
     "text": [
      "----------------------> 0.7790277777777778\n",
      "Evaluated Accuracy: 0.7790\n",
      "Testing b_a_r = 0.0032, c_a_r = 0.0957, f_a_r = 0.3067\n"
     ]
    },
    {
     "name": "stderr",
     "output_type": "stream",
     "text": [
      "/home/asufian/.local/share/pipx/venvs/notebook/lib/python3.12/site-packages/torchvision/models/_utils.py:208: UserWarning: The parameter 'pretrained' is deprecated since 0.13 and may be removed in the future, please use 'weights' instead.\n",
      "  warnings.warn(\n",
      "/home/asufian/.local/share/pipx/venvs/notebook/lib/python3.12/site-packages/torchvision/models/_utils.py:223: UserWarning: Arguments other than a weight enum or `None` for 'weights' are deprecated since 0.13 and may be removed in the future. The current behavior is equivalent to passing `weights=None`.\n",
      "  warnings.warn(msg)\n"
     ]
    },
    {
     "name": "stdout",
     "output_type": "stream",
     "text": [
      "----------------------> 0.7719444444444444\n",
      "Evaluated Accuracy: 0.7719\n",
      "Testing b_a_r = 0.0644, c_a_r = 0.1457, f_a_r = 0.9996\n"
     ]
    },
    {
     "name": "stderr",
     "output_type": "stream",
     "text": [
      "/home/asufian/.local/share/pipx/venvs/notebook/lib/python3.12/site-packages/torchvision/models/_utils.py:208: UserWarning: The parameter 'pretrained' is deprecated since 0.13 and may be removed in the future, please use 'weights' instead.\n",
      "  warnings.warn(\n",
      "/home/asufian/.local/share/pipx/venvs/notebook/lib/python3.12/site-packages/torchvision/models/_utils.py:223: UserWarning: Arguments other than a weight enum or `None` for 'weights' are deprecated since 0.13 and may be removed in the future. The current behavior is equivalent to passing `weights=None`.\n",
      "  warnings.warn(msg)\n"
     ]
    },
    {
     "name": "stdout",
     "output_type": "stream",
     "text": [
      "----------------------> 0.8366666666666668\n",
      "Evaluated Accuracy: 0.8367\n",
      "Testing b_a_r = 0.0067, c_a_r = 0.1555, f_a_r = 0.7886\n"
     ]
    },
    {
     "name": "stderr",
     "output_type": "stream",
     "text": [
      "/home/asufian/.local/share/pipx/venvs/notebook/lib/python3.12/site-packages/torchvision/models/_utils.py:208: UserWarning: The parameter 'pretrained' is deprecated since 0.13 and may be removed in the future, please use 'weights' instead.\n",
      "  warnings.warn(\n",
      "/home/asufian/.local/share/pipx/venvs/notebook/lib/python3.12/site-packages/torchvision/models/_utils.py:223: UserWarning: Arguments other than a weight enum or `None` for 'weights' are deprecated since 0.13 and may be removed in the future. The current behavior is equivalent to passing `weights=None`.\n",
      "  warnings.warn(msg)\n"
     ]
    },
    {
     "name": "stdout",
     "output_type": "stream",
     "text": [
      "----------------------> 0.8418055555555557\n",
      "Evaluated Accuracy: 0.8418\n",
      "Testing b_a_r = 0.9693, c_a_r = 0.1333, f_a_r = 0.6920\n"
     ]
    },
    {
     "name": "stderr",
     "output_type": "stream",
     "text": [
      "/home/asufian/.local/share/pipx/venvs/notebook/lib/python3.12/site-packages/torchvision/models/_utils.py:208: UserWarning: The parameter 'pretrained' is deprecated since 0.13 and may be removed in the future, please use 'weights' instead.\n",
      "  warnings.warn(\n",
      "/home/asufian/.local/share/pipx/venvs/notebook/lib/python3.12/site-packages/torchvision/models/_utils.py:223: UserWarning: Arguments other than a weight enum or `None` for 'weights' are deprecated since 0.13 and may be removed in the future. The current behavior is equivalent to passing `weights=None`.\n",
      "  warnings.warn(msg)\n"
     ]
    },
    {
     "name": "stdout",
     "output_type": "stream",
     "text": [
      "----------------------> 0.8304166666666667\n",
      "Evaluated Accuracy: 0.8304\n",
      "Testing b_a_r = 0.9189, c_a_r = 0.9925, f_a_r = 0.9835\n"
     ]
    },
    {
     "name": "stderr",
     "output_type": "stream",
     "text": [
      "/home/asufian/.local/share/pipx/venvs/notebook/lib/python3.12/site-packages/torchvision/models/_utils.py:208: UserWarning: The parameter 'pretrained' is deprecated since 0.13 and may be removed in the future, please use 'weights' instead.\n",
      "  warnings.warn(\n",
      "/home/asufian/.local/share/pipx/venvs/notebook/lib/python3.12/site-packages/torchvision/models/_utils.py:223: UserWarning: Arguments other than a weight enum or `None` for 'weights' are deprecated since 0.13 and may be removed in the future. The current behavior is equivalent to passing `weights=None`.\n",
      "  warnings.warn(msg)\n"
     ]
    },
    {
     "name": "stdout",
     "output_type": "stream",
     "text": [
      "----------------------> 0.3543055555555556\n",
      "Evaluated Accuracy: 0.3543\n",
      "Testing b_a_r = 0.1363, c_a_r = 0.0005, f_a_r = 0.6201\n"
     ]
    },
    {
     "name": "stderr",
     "output_type": "stream",
     "text": [
      "/home/asufian/.local/share/pipx/venvs/notebook/lib/python3.12/site-packages/torchvision/models/_utils.py:208: UserWarning: The parameter 'pretrained' is deprecated since 0.13 and may be removed in the future, please use 'weights' instead.\n",
      "  warnings.warn(\n",
      "/home/asufian/.local/share/pipx/venvs/notebook/lib/python3.12/site-packages/torchvision/models/_utils.py:223: UserWarning: Arguments other than a weight enum or `None` for 'weights' are deprecated since 0.13 and may be removed in the future. The current behavior is equivalent to passing `weights=None`.\n",
      "  warnings.warn(msg)\n"
     ]
    },
    {
     "name": "stdout",
     "output_type": "stream",
     "text": [
      "----------------------> 0.7556944444444444\n",
      "Evaluated Accuracy: 0.7557\n",
      "Testing b_a_r = 0.0217, c_a_r = 0.1213, f_a_r = 0.8240\n"
     ]
    },
    {
     "name": "stderr",
     "output_type": "stream",
     "text": [
      "/home/asufian/.local/share/pipx/venvs/notebook/lib/python3.12/site-packages/torchvision/models/_utils.py:208: UserWarning: The parameter 'pretrained' is deprecated since 0.13 and may be removed in the future, please use 'weights' instead.\n",
      "  warnings.warn(\n",
      "/home/asufian/.local/share/pipx/venvs/notebook/lib/python3.12/site-packages/torchvision/models/_utils.py:223: UserWarning: Arguments other than a weight enum or `None` for 'weights' are deprecated since 0.13 and may be removed in the future. The current behavior is equivalent to passing `weights=None`.\n",
      "  warnings.warn(msg)\n"
     ]
    },
    {
     "name": "stdout",
     "output_type": "stream",
     "text": [
      "----------------------> 0.8352777777777778\n",
      "Evaluated Accuracy: 0.8353\n",
      "Testing b_a_r = 0.9645, c_a_r = 0.1857, f_a_r = 0.2300\n"
     ]
    },
    {
     "name": "stderr",
     "output_type": "stream",
     "text": [
      "/home/asufian/.local/share/pipx/venvs/notebook/lib/python3.12/site-packages/torchvision/models/_utils.py:208: UserWarning: The parameter 'pretrained' is deprecated since 0.13 and may be removed in the future, please use 'weights' instead.\n",
      "  warnings.warn(\n",
      "/home/asufian/.local/share/pipx/venvs/notebook/lib/python3.12/site-packages/torchvision/models/_utils.py:223: UserWarning: Arguments other than a weight enum or `None` for 'weights' are deprecated since 0.13 and may be removed in the future. The current behavior is equivalent to passing `weights=None`.\n",
      "  warnings.warn(msg)\n"
     ]
    },
    {
     "name": "stdout",
     "output_type": "stream",
     "text": [
      "----------------------> 0.7841666666666667\n",
      "Evaluated Accuracy: 0.7842\n",
      "Testing b_a_r = 0.5628, c_a_r = 0.9996, f_a_r = 0.0123\n"
     ]
    },
    {
     "name": "stderr",
     "output_type": "stream",
     "text": [
      "/home/asufian/.local/share/pipx/venvs/notebook/lib/python3.12/site-packages/torchvision/models/_utils.py:208: UserWarning: The parameter 'pretrained' is deprecated since 0.13 and may be removed in the future, please use 'weights' instead.\n",
      "  warnings.warn(\n",
      "/home/asufian/.local/share/pipx/venvs/notebook/lib/python3.12/site-packages/torchvision/models/_utils.py:223: UserWarning: Arguments other than a weight enum or `None` for 'weights' are deprecated since 0.13 and may be removed in the future. The current behavior is equivalent to passing `weights=None`.\n",
      "  warnings.warn(msg)\n"
     ]
    },
    {
     "name": "stdout",
     "output_type": "stream",
     "text": [
      "----------------------> 0.39166666666666666\n",
      "Evaluated Accuracy: 0.3917\n",
      "Testing b_a_r = 0.0137, c_a_r = 0.3669, f_a_r = 0.6080\n"
     ]
    },
    {
     "name": "stderr",
     "output_type": "stream",
     "text": [
      "/home/asufian/.local/share/pipx/venvs/notebook/lib/python3.12/site-packages/torchvision/models/_utils.py:208: UserWarning: The parameter 'pretrained' is deprecated since 0.13 and may be removed in the future, please use 'weights' instead.\n",
      "  warnings.warn(\n",
      "/home/asufian/.local/share/pipx/venvs/notebook/lib/python3.12/site-packages/torchvision/models/_utils.py:223: UserWarning: Arguments other than a weight enum or `None` for 'weights' are deprecated since 0.13 and may be removed in the future. The current behavior is equivalent to passing `weights=None`.\n",
      "  warnings.warn(msg)\n"
     ]
    },
    {
     "name": "stdout",
     "output_type": "stream",
     "text": [
      "----------------------> 0.7672222222222222\n",
      "Evaluated Accuracy: 0.7672\n",
      "Testing b_a_r = 0.0446, c_a_r = 0.5381, f_a_r = 0.5598\n"
     ]
    },
    {
     "name": "stderr",
     "output_type": "stream",
     "text": [
      "/home/asufian/.local/share/pipx/venvs/notebook/lib/python3.12/site-packages/torchvision/models/_utils.py:208: UserWarning: The parameter 'pretrained' is deprecated since 0.13 and may be removed in the future, please use 'weights' instead.\n",
      "  warnings.warn(\n",
      "/home/asufian/.local/share/pipx/venvs/notebook/lib/python3.12/site-packages/torchvision/models/_utils.py:223: UserWarning: Arguments other than a weight enum or `None` for 'weights' are deprecated since 0.13 and may be removed in the future. The current behavior is equivalent to passing `weights=None`.\n",
      "  warnings.warn(msg)\n"
     ]
    },
    {
     "name": "stdout",
     "output_type": "stream",
     "text": [
      "----------------------> 0.4724999999999999\n",
      "Evaluated Accuracy: 0.4725\n",
      "Testing b_a_r = 0.0424, c_a_r = 0.3523, f_a_r = 0.9517\n"
     ]
    },
    {
     "name": "stderr",
     "output_type": "stream",
     "text": [
      "/home/asufian/.local/share/pipx/venvs/notebook/lib/python3.12/site-packages/torchvision/models/_utils.py:208: UserWarning: The parameter 'pretrained' is deprecated since 0.13 and may be removed in the future, please use 'weights' instead.\n",
      "  warnings.warn(\n",
      "/home/asufian/.local/share/pipx/venvs/notebook/lib/python3.12/site-packages/torchvision/models/_utils.py:223: UserWarning: Arguments other than a weight enum or `None` for 'weights' are deprecated since 0.13 and may be removed in the future. The current behavior is equivalent to passing `weights=None`.\n",
      "  warnings.warn(msg)\n"
     ]
    },
    {
     "name": "stdout",
     "output_type": "stream",
     "text": [
      "----------------------> 0.7456944444444442\n",
      "Evaluated Accuracy: 0.7457\n",
      "Testing b_a_r = 0.4820, c_a_r = 0.8567, f_a_r = 0.9993\n"
     ]
    },
    {
     "name": "stderr",
     "output_type": "stream",
     "text": [
      "/home/asufian/.local/share/pipx/venvs/notebook/lib/python3.12/site-packages/torchvision/models/_utils.py:208: UserWarning: The parameter 'pretrained' is deprecated since 0.13 and may be removed in the future, please use 'weights' instead.\n",
      "  warnings.warn(\n",
      "/home/asufian/.local/share/pipx/venvs/notebook/lib/python3.12/site-packages/torchvision/models/_utils.py:223: UserWarning: Arguments other than a weight enum or `None` for 'weights' are deprecated since 0.13 and may be removed in the future. The current behavior is equivalent to passing `weights=None`.\n",
      "  warnings.warn(msg)\n"
     ]
    },
    {
     "name": "stdout",
     "output_type": "stream",
     "text": [
      "----------------------> 0.37916666666666665\n",
      "Evaluated Accuracy: 0.3792\n",
      "Testing b_a_r = 0.9337, c_a_r = 0.3203, f_a_r = 0.5827\n"
     ]
    },
    {
     "name": "stderr",
     "output_type": "stream",
     "text": [
      "/home/asufian/.local/share/pipx/venvs/notebook/lib/python3.12/site-packages/torchvision/models/_utils.py:208: UserWarning: The parameter 'pretrained' is deprecated since 0.13 and may be removed in the future, please use 'weights' instead.\n",
      "  warnings.warn(\n",
      "/home/asufian/.local/share/pipx/venvs/notebook/lib/python3.12/site-packages/torchvision/models/_utils.py:223: UserWarning: Arguments other than a weight enum or `None` for 'weights' are deprecated since 0.13 and may be removed in the future. The current behavior is equivalent to passing `weights=None`.\n",
      "  warnings.warn(msg)\n"
     ]
    },
    {
     "name": "stdout",
     "output_type": "stream",
     "text": [
      "----------------------> 0.7326388888888888\n",
      "Evaluated Accuracy: 0.7326\n",
      "Testing b_a_r = 0.9841, c_a_r = 0.0024, f_a_r = 0.4472\n"
     ]
    },
    {
     "name": "stderr",
     "output_type": "stream",
     "text": [
      "/home/asufian/.local/share/pipx/venvs/notebook/lib/python3.12/site-packages/torchvision/models/_utils.py:208: UserWarning: The parameter 'pretrained' is deprecated since 0.13 and may be removed in the future, please use 'weights' instead.\n",
      "  warnings.warn(\n",
      "/home/asufian/.local/share/pipx/venvs/notebook/lib/python3.12/site-packages/torchvision/models/_utils.py:223: UserWarning: Arguments other than a weight enum or `None` for 'weights' are deprecated since 0.13 and may be removed in the future. The current behavior is equivalent to passing `weights=None`.\n",
      "  warnings.warn(msg)\n"
     ]
    },
    {
     "name": "stdout",
     "output_type": "stream",
     "text": [
      "----------------------> 0.7397222222222221\n",
      "Evaluated Accuracy: 0.7397\n",
      "Testing b_a_r = 0.0133, c_a_r = 0.2290, f_a_r = 0.0242\n"
     ]
    },
    {
     "name": "stderr",
     "output_type": "stream",
     "text": [
      "/home/asufian/.local/share/pipx/venvs/notebook/lib/python3.12/site-packages/torchvision/models/_utils.py:208: UserWarning: The parameter 'pretrained' is deprecated since 0.13 and may be removed in the future, please use 'weights' instead.\n",
      "  warnings.warn(\n",
      "/home/asufian/.local/share/pipx/venvs/notebook/lib/python3.12/site-packages/torchvision/models/_utils.py:223: UserWarning: Arguments other than a weight enum or `None` for 'weights' are deprecated since 0.13 and may be removed in the future. The current behavior is equivalent to passing `weights=None`.\n",
      "  warnings.warn(msg)\n"
     ]
    },
    {
     "name": "stdout",
     "output_type": "stream",
     "text": [
      "----------------------> 0.7425\n",
      "Evaluated Accuracy: 0.7425\n",
      "Testing b_a_r = 0.4257, c_a_r = 0.1447, f_a_r = 0.7865\n"
     ]
    },
    {
     "name": "stderr",
     "output_type": "stream",
     "text": [
      "/home/asufian/.local/share/pipx/venvs/notebook/lib/python3.12/site-packages/torchvision/models/_utils.py:208: UserWarning: The parameter 'pretrained' is deprecated since 0.13 and may be removed in the future, please use 'weights' instead.\n",
      "  warnings.warn(\n",
      "/home/asufian/.local/share/pipx/venvs/notebook/lib/python3.12/site-packages/torchvision/models/_utils.py:223: UserWarning: Arguments other than a weight enum or `None` for 'weights' are deprecated since 0.13 and may be removed in the future. The current behavior is equivalent to passing `weights=None`.\n",
      "  warnings.warn(msg)\n"
     ]
    },
    {
     "name": "stdout",
     "output_type": "stream",
     "text": [
      "----------------------> 0.8341666666666666\n",
      "Evaluated Accuracy: 0.8342\n",
      "Testing b_a_r = 0.2627, c_a_r = 0.1712, f_a_r = 0.9894\n"
     ]
    },
    {
     "name": "stderr",
     "output_type": "stream",
     "text": [
      "/home/asufian/.local/share/pipx/venvs/notebook/lib/python3.12/site-packages/torchvision/models/_utils.py:208: UserWarning: The parameter 'pretrained' is deprecated since 0.13 and may be removed in the future, please use 'weights' instead.\n",
      "  warnings.warn(\n",
      "/home/asufian/.local/share/pipx/venvs/notebook/lib/python3.12/site-packages/torchvision/models/_utils.py:223: UserWarning: Arguments other than a weight enum or `None` for 'weights' are deprecated since 0.13 and may be removed in the future. The current behavior is equivalent to passing `weights=None`.\n",
      "  warnings.warn(msg)\n"
     ]
    },
    {
     "name": "stdout",
     "output_type": "stream",
     "text": [
      "----------------------> 0.8329166666666666\n",
      "Evaluated Accuracy: 0.8329\n",
      "Testing b_a_r = 0.9392, c_a_r = 0.3852, f_a_r = 0.0529\n"
     ]
    },
    {
     "name": "stderr",
     "output_type": "stream",
     "text": [
      "/home/asufian/.local/share/pipx/venvs/notebook/lib/python3.12/site-packages/torchvision/models/_utils.py:208: UserWarning: The parameter 'pretrained' is deprecated since 0.13 and may be removed in the future, please use 'weights' instead.\n",
      "  warnings.warn(\n",
      "/home/asufian/.local/share/pipx/venvs/notebook/lib/python3.12/site-packages/torchvision/models/_utils.py:223: UserWarning: Arguments other than a weight enum or `None` for 'weights' are deprecated since 0.13 and may be removed in the future. The current behavior is equivalent to passing `weights=None`.\n",
      "  warnings.warn(msg)\n"
     ]
    },
    {
     "name": "stdout",
     "output_type": "stream",
     "text": [
      "----------------------> 0.7241666666666666\n",
      "Evaluated Accuracy: 0.7242\n",
      "Testing b_a_r = 0.7994, c_a_r = 0.8903, f_a_r = 0.0092\n"
     ]
    },
    {
     "name": "stderr",
     "output_type": "stream",
     "text": [
      "/home/asufian/.local/share/pipx/venvs/notebook/lib/python3.12/site-packages/torchvision/models/_utils.py:208: UserWarning: The parameter 'pretrained' is deprecated since 0.13 and may be removed in the future, please use 'weights' instead.\n",
      "  warnings.warn(\n",
      "/home/asufian/.local/share/pipx/venvs/notebook/lib/python3.12/site-packages/torchvision/models/_utils.py:223: UserWarning: Arguments other than a weight enum or `None` for 'weights' are deprecated since 0.13 and may be removed in the future. The current behavior is equivalent to passing `weights=None`.\n",
      "  warnings.warn(msg)\n"
     ]
    },
    {
     "name": "stdout",
     "output_type": "stream",
     "text": [
      "----------------------> 0.43249999999999994\n",
      "Evaluated Accuracy: 0.4325\n",
      "Testing b_a_r = 0.1077, c_a_r = 0.0334, f_a_r = 0.9507\n"
     ]
    },
    {
     "name": "stderr",
     "output_type": "stream",
     "text": [
      "/home/asufian/.local/share/pipx/venvs/notebook/lib/python3.12/site-packages/torchvision/models/_utils.py:208: UserWarning: The parameter 'pretrained' is deprecated since 0.13 and may be removed in the future, please use 'weights' instead.\n",
      "  warnings.warn(\n",
      "/home/asufian/.local/share/pipx/venvs/notebook/lib/python3.12/site-packages/torchvision/models/_utils.py:223: UserWarning: Arguments other than a weight enum or `None` for 'weights' are deprecated since 0.13 and may be removed in the future. The current behavior is equivalent to passing `weights=None`.\n",
      "  warnings.warn(msg)\n"
     ]
    },
    {
     "name": "stdout",
     "output_type": "stream",
     "text": [
      "----------------------> 0.7705555555555555\n",
      "Evaluated Accuracy: 0.7706\n",
      "Testing b_a_r = 0.9865, c_a_r = 0.1007, f_a_r = 0.7599\n"
     ]
    },
    {
     "name": "stderr",
     "output_type": "stream",
     "text": [
      "/home/asufian/.local/share/pipx/venvs/notebook/lib/python3.12/site-packages/torchvision/models/_utils.py:208: UserWarning: The parameter 'pretrained' is deprecated since 0.13 and may be removed in the future, please use 'weights' instead.\n",
      "  warnings.warn(\n",
      "/home/asufian/.local/share/pipx/venvs/notebook/lib/python3.12/site-packages/torchvision/models/_utils.py:223: UserWarning: Arguments other than a weight enum or `None` for 'weights' are deprecated since 0.13 and may be removed in the future. The current behavior is equivalent to passing `weights=None`.\n",
      "  warnings.warn(msg)\n"
     ]
    },
    {
     "name": "stdout",
     "output_type": "stream",
     "text": [
      "----------------------> 0.8204166666666667\n",
      "Evaluated Accuracy: 0.8204\n",
      "Testing b_a_r = 0.9828, c_a_r = 0.3921, f_a_r = 0.9299\n"
     ]
    },
    {
     "name": "stderr",
     "output_type": "stream",
     "text": [
      "/home/asufian/.local/share/pipx/venvs/notebook/lib/python3.12/site-packages/torchvision/models/_utils.py:208: UserWarning: The parameter 'pretrained' is deprecated since 0.13 and may be removed in the future, please use 'weights' instead.\n",
      "  warnings.warn(\n",
      "/home/asufian/.local/share/pipx/venvs/notebook/lib/python3.12/site-packages/torchvision/models/_utils.py:223: UserWarning: Arguments other than a weight enum or `None` for 'weights' are deprecated since 0.13 and may be removed in the future. The current behavior is equivalent to passing `weights=None`.\n",
      "  warnings.warn(msg)\n"
     ]
    },
    {
     "name": "stdout",
     "output_type": "stream",
     "text": [
      "----------------------> 0.7033333333333333\n",
      "Evaluated Accuracy: 0.7033\n",
      "Testing b_a_r = 0.8475, c_a_r = 0.1549, f_a_r = 0.5164\n"
     ]
    },
    {
     "name": "stderr",
     "output_type": "stream",
     "text": [
      "/home/asufian/.local/share/pipx/venvs/notebook/lib/python3.12/site-packages/torchvision/models/_utils.py:208: UserWarning: The parameter 'pretrained' is deprecated since 0.13 and may be removed in the future, please use 'weights' instead.\n",
      "  warnings.warn(\n",
      "/home/asufian/.local/share/pipx/venvs/notebook/lib/python3.12/site-packages/torchvision/models/_utils.py:223: UserWarning: Arguments other than a weight enum or `None` for 'weights' are deprecated since 0.13 and may be removed in the future. The current behavior is equivalent to passing `weights=None`.\n",
      "  warnings.warn(msg)\n"
     ]
    },
    {
     "name": "stdout",
     "output_type": "stream",
     "text": [
      "----------------------> 0.8245833333333333\n",
      "Evaluated Accuracy: 0.8246\n",
      "Testing b_a_r = 0.9128, c_a_r = 0.0559, f_a_r = 0.0033\n"
     ]
    },
    {
     "name": "stderr",
     "output_type": "stream",
     "text": [
      "/home/asufian/.local/share/pipx/venvs/notebook/lib/python3.12/site-packages/torchvision/models/_utils.py:208: UserWarning: The parameter 'pretrained' is deprecated since 0.13 and may be removed in the future, please use 'weights' instead.\n",
      "  warnings.warn(\n",
      "/home/asufian/.local/share/pipx/venvs/notebook/lib/python3.12/site-packages/torchvision/models/_utils.py:223: UserWarning: Arguments other than a weight enum or `None` for 'weights' are deprecated since 0.13 and may be removed in the future. The current behavior is equivalent to passing `weights=None`.\n",
      "  warnings.warn(msg)\n"
     ]
    },
    {
     "name": "stdout",
     "output_type": "stream",
     "text": [
      "----------------------> 0.747638888888889\n",
      "Evaluated Accuracy: 0.7476\n",
      "Testing b_a_r = 0.9935, c_a_r = 0.2200, f_a_r = 0.7709\n"
     ]
    },
    {
     "name": "stderr",
     "output_type": "stream",
     "text": [
      "/home/asufian/.local/share/pipx/venvs/notebook/lib/python3.12/site-packages/torchvision/models/_utils.py:208: UserWarning: The parameter 'pretrained' is deprecated since 0.13 and may be removed in the future, please use 'weights' instead.\n",
      "  warnings.warn(\n",
      "/home/asufian/.local/share/pipx/venvs/notebook/lib/python3.12/site-packages/torchvision/models/_utils.py:223: UserWarning: Arguments other than a weight enum or `None` for 'weights' are deprecated since 0.13 and may be removed in the future. The current behavior is equivalent to passing `weights=None`.\n",
      "  warnings.warn(msg)\n"
     ]
    },
    {
     "name": "stdout",
     "output_type": "stream",
     "text": [
      "----------------------> 0.7975\n",
      "Evaluated Accuracy: 0.7975\n",
      "Testing b_a_r = 0.8591, c_a_r = 0.6123, f_a_r = 0.9993\n"
     ]
    },
    {
     "name": "stderr",
     "output_type": "stream",
     "text": [
      "/home/asufian/.local/share/pipx/venvs/notebook/lib/python3.12/site-packages/torchvision/models/_utils.py:208: UserWarning: The parameter 'pretrained' is deprecated since 0.13 and may be removed in the future, please use 'weights' instead.\n",
      "  warnings.warn(\n",
      "/home/asufian/.local/share/pipx/venvs/notebook/lib/python3.12/site-packages/torchvision/models/_utils.py:223: UserWarning: Arguments other than a weight enum or `None` for 'weights' are deprecated since 0.13 and may be removed in the future. The current behavior is equivalent to passing `weights=None`.\n",
      "  warnings.warn(msg)\n"
     ]
    },
    {
     "name": "stdout",
     "output_type": "stream",
     "text": [
      "----------------------> 0.4266666666666667\n",
      "Evaluated Accuracy: 0.4267\n",
      "Testing b_a_r = 0.0007, c_a_r = 0.1724, f_a_r = 0.8439\n"
     ]
    },
    {
     "name": "stderr",
     "output_type": "stream",
     "text": [
      "/home/asufian/.local/share/pipx/venvs/notebook/lib/python3.12/site-packages/torchvision/models/_utils.py:208: UserWarning: The parameter 'pretrained' is deprecated since 0.13 and may be removed in the future, please use 'weights' instead.\n",
      "  warnings.warn(\n",
      "/home/asufian/.local/share/pipx/venvs/notebook/lib/python3.12/site-packages/torchvision/models/_utils.py:223: UserWarning: Arguments other than a weight enum or `None` for 'weights' are deprecated since 0.13 and may be removed in the future. The current behavior is equivalent to passing `weights=None`.\n",
      "  warnings.warn(msg)\n"
     ]
    },
    {
     "name": "stdout",
     "output_type": "stream",
     "text": [
      "----------------------> 0.8361111111111109\n",
      "Evaluated Accuracy: 0.8361\n",
      "\n",
      "✅ Optimal Values:\n",
      "   - b_a_r: 0.0067\n",
      "   - c_a_r: 0.1555\n",
      "   - f_a_r: 0.7886\n",
      "📈 Highest Accuracy Achieved: 0.8418\n"
     ]
    }
   ],
   "source": [
    "import numpy as np\n",
    "import torch\n",
    "import matplotlib.pyplot as plt\n",
    "from skopt import gp_minimize\n",
    "from skopt.space import Real\n",
    "from skopt.utils import use_named_args\n",
    "from skopt.plots import plot_convergence\n",
    "\n",
    "# Device setup\n",
    "device = torch.device(\"cuda\" if torch.cuda.is_available() else \"cpu\")\n",
    "\n",
    "\n",
    "# Define the search space for b_a_r, c_a_r, and f_a_r\n",
    "search_space = [\n",
    "    Real(0.0, 1.0, name=\"b_a_r\"),\n",
    "    Real(0.0, 1.0, name=\"c_a_r\"),\n",
    "    Real(0.0, 1.0, name=\"f_a_r\")\n",
    "]\n",
    "\n",
    "# Define the objective function for Bayesian Optimization\n",
    "@use_named_args(search_space)\n",
    "def objective(b_a_r, c_a_r, f_a_r):\n",
    "    \"\"\"\n",
    "    Objective function to optimize the adaptation ratios.\n",
    "    It applies adaptation, evaluates the model, and returns the negative accuracy.\n",
    "    \"\"\"\n",
    "    accuracy = get_model_accuracy(b_a_r, c_a_r, f_a_r)\n",
    "    print(f\"Evaluated Accuracy: {accuracy:.4f}\")  # Debugging Output\n",
    "    \n",
    "    return -accuracy  # We minimize, so return negative accuracy\n",
    "\n",
    "# Perform Bayesian Optimization with additional settings\n",
    "search_iteration=50\n",
    "res = gp_minimize(\n",
    "    func=objective,\n",
    "    dimensions=search_space,\n",
    "    n_calls=search_iteration,               # Number of evaluations\n",
    "    n_initial_points=5,       # Initial random explorations before GP starts\n",
    "    acq_func=\"EI\",            # Acquisition function: Expected Improvement\n",
    "    random_state=42,          # Ensure reproducibility\n",
    "    n_jobs=-1,                # Parallel execution for faster optimization\n",
    ")\n",
    "\n",
    "# Extract optimal results\n",
    "optimal_b_a_r, optimal_c_a_r, optimal_f_a_r = res.x\n",
    "best_accuracy = -res.fun\n",
    "\n",
    "print(f\"\\n✅ Optimal Values:\")\n",
    "print(f\"   - b_a_r: {optimal_b_a_r:.4f}\")\n",
    "print(f\"   - c_a_r: {optimal_c_a_r:.4f}\")\n",
    "print(f\"   - f_a_r: {optimal_f_a_r:.4f}\")\n",
    "print(f\"📈 Highest Accuracy Achieved: {best_accuracy:.4f}\")\n",
    "\n",
    "\n"
   ]
  },
  {
   "cell_type": "code",
   "execution_count": null,
   "metadata": {},
   "outputs": [],
   "source": []
  },
  {
   "cell_type": "code",
   "execution_count": 84,
   "metadata": {},
   "outputs": [
    {
     "name": "stderr",
     "output_type": "stream",
     "text": [
      "/home/asufian/.local/share/pipx/venvs/notebook/lib/python3.12/site-packages/torchvision/models/_utils.py:208: UserWarning: The parameter 'pretrained' is deprecated since 0.13 and may be removed in the future, please use 'weights' instead.\n",
      "  warnings.warn(\n",
      "/home/asufian/.local/share/pipx/venvs/notebook/lib/python3.12/site-packages/torchvision/models/_utils.py:223: UserWarning: Arguments other than a weight enum or `None` for 'weights' are deprecated since 0.13 and may be removed in the future. The current behavior is equivalent to passing `weights=None`.\n",
      "  warnings.warn(msg)\n"
     ]
    },
    {
     "name": "stdout",
     "output_type": "stream",
     "text": [
      "---Accu-----pre----rec---------> 0.7114 ± 0.0670  0.7267 ± 0.0709  0.7114 ± 0.0670\n"
     ]
    },
    {
     "name": "stderr",
     "output_type": "stream",
     "text": [
      "/home/asufian/.local/share/pipx/venvs/notebook/lib/python3.12/site-packages/torchvision/models/_utils.py:208: UserWarning: The parameter 'pretrained' is deprecated since 0.13 and may be removed in the future, please use 'weights' instead.\n",
      "  warnings.warn(\n",
      "/home/asufian/.local/share/pipx/venvs/notebook/lib/python3.12/site-packages/torchvision/models/_utils.py:223: UserWarning: Arguments other than a weight enum or `None` for 'weights' are deprecated since 0.13 and may be removed in the future. The current behavior is equivalent to passing `weights=None`.\n",
      "  warnings.warn(msg)\n"
     ]
    },
    {
     "name": "stdout",
     "output_type": "stream",
     "text": [
      "---Accu-----pre----rec---------> 0.5714 ± 0.0683  0.5837 ± 0.0774  0.5714 ± 0.0683\n",
      "---Accu-----pre----rec---------> 0.8418 ± 0.0481  0.8504 ± 0.0503  0.8418 ± 0.0481\n"
     ]
    }
   ],
   "source": [
    "convolutional_network_with_dropout = ResNet18WithDropout(pretrained=False, dr=0.0)\n",
    "convolutional_network_with_dropout.fc = nn.Flatten()\n",
    "xyz = convolutional_network_with_dropout\n",
    "M3 = PrototypicalNetworks_dynamic_query(xyz).to(device)\n",
    "M3.load_state_dict(torch.load('model_own_path.pt'))\n",
    "evaluate2('/home/asufian/Desktop/output_olchiki/resnet_resluts/base/8_w_5_s_f', test_loader, M3, criterion)\n",
    "# Load Model M2\n",
    "convolutional_network_with_dropout = ResNet18WithDropout(pretrained=False, dr=0.0)\n",
    "convolutional_network_with_dropout.fc = nn.Flatten()\n",
    "xyz2 = convolutional_network_with_dropout\n",
    "M2 = PrototypicalNetworks_dynamic_query(xyz2).to(device)\n",
    "M2.load_state_dict(torch.load('model_mu_path.pt'))\n",
    "evaluate2(\"/home/asufian/Desktop/output_olchiki/resnet_resluts/secondary/8_w_5_s_f\", test_loader, M2, criterion)\n",
    "# Update Model M3's weights using a weighted combination of Model M3 and Model M2\n",
    "update_model_weights2(M3, M2, conv_ratio= optimal_c_a_r , fc_ratio=optimal_f_a_r , bias_ratio=optimal_b_a_r)\n",
    "\n",
    "# Assuming you have the evaluate2 function defined\n",
    "# Evaluate the updated model (M3) using evaluate2 function with some arguments\n",
    "evaluate2(\"/home/asufian/Desktop/output_olchiki/resnet_resluts/amul/8_w_5_s_f\", test_loader, M3, criterion)\n"
   ]
  },
  {
   "cell_type": "code",
   "execution_count": null,
   "metadata": {},
   "outputs": [],
   "source": []
  },
  {
   "cell_type": "code",
   "execution_count": 85,
   "metadata": {},
   "outputs": [
    {
     "name": "stderr",
     "output_type": "stream",
     "text": [
      "/home/asufian/.local/share/pipx/venvs/notebook/lib/python3.12/site-packages/torchvision/models/_utils.py:208: UserWarning: The parameter 'pretrained' is deprecated since 0.13 and may be removed in the future, please use 'weights' instead.\n",
      "  warnings.warn(\n",
      "/home/asufian/.local/share/pipx/venvs/notebook/lib/python3.12/site-packages/torchvision/models/_utils.py:223: UserWarning: Arguments other than a weight enum or `None` for 'weights' are deprecated since 0.13 and may be removed in the future. The current behavior is equivalent to passing `weights=None`.\n",
      "  warnings.warn(msg)\n"
     ]
    }
   ],
   "source": [
    "device = torch.device(\"cuda\" if torch.cuda.is_available() else \"cpu\")\n",
    "\n",
    "\n",
    "\n",
    "!rm model_mu_path.pt\n",
    "!rm model_own_path.pt\n",
    "\n",
    "convolutional_network_with_dropout = ResNet18WithDropout(pretrained=False, dr=0.0)\n",
    "convolutional_network_with_dropout.fc = nn.Flatten()\n",
    "model_own = PrototypicalNetworks_dynamic_query(convolutional_network_with_dropout).to(device)\n",
    "model_own.load_state_dict(torch.load('/home/asufian/Desktop/output_olchiki/code/modelr_res18.pth',map_location=torch.device('cpu')))\n",
    "\n",
    "\n",
    "convolutional_network_with_dropout = ResNet18WithDropout(pretrained=False, dr=0.0)\n",
    "convolutional_network_with_dropout.fc = nn.Flatten()\n",
    "model_own_1_shot = PrototypicalNetworks_dynamic_query(convolutional_network_with_dropout).to(device)\n",
    "model_own_1_shot.load_state_dict(torch.load('/home/asufian/Desktop/output_olchiki/code/olchiki/ressecondary/model_10/model_B_olchiki_10-shot_res.pth',map_location=torch.device('cpu')))\n",
    "\n",
    "torch.save(model_own_1_shot.state_dict(), 'model_mu_path.pt')\n",
    "torch.save(model_own.state_dict(), 'model_own_path.pt')"
   ]
  },
  {
   "cell_type": "code",
   "execution_count": 86,
   "metadata": {},
   "outputs": [],
   "source": [
    "def evaluate2(fname,data_loader, model, criterion=nn.CrossEntropyLoss()):\n",
    "    total_predictions = 0\n",
    "    correct_predictions = 0\n",
    "    total_loss = 0.0\n",
    "    accuracy = 0\n",
    "    datta = \"\"\n",
    "    model.eval()\n",
    "    tlv_cls=0\n",
    "    ttla=0\n",
    "    ttlal=[]\n",
    "    ttlac=0\n",
    "    precision=[]\n",
    "    recall=[]\n",
    "    \n",
    "    with torch.no_grad():\n",
    "        for episode in range(len(clss_8)):\n",
    "            support_set, query_set = data_loader.__getitem__(clss_8[tlv_cls] , clss_support_imagesss_10_shot[tlv_cls])\n",
    "\n",
    "           \n",
    "            clssa=str(clss_8[tlv_cls])\n",
    "            clss=str(clssa).replace(',',' ').replace('\\'',' ').replace('\\'',' ')\n",
    "            msg=str(clss_support_imagesss_10_shot[tlv_cls])\n",
    "            str(clss_8[tlv_cls])\n",
    "\n",
    "            tlv_cls+=1\n",
    "            # print(len(support_set),len(query_set))\n",
    "            support_set = [(torch.stack(images).to(device), label[0]) for images, label in support_set]\n",
    "            query_set = [(torch.stack(images).to(device), label) for images, label in query_set]\n",
    "\n",
    "            support_images, support_labels = zip(*support_set)\n",
    "\n",
    "            query_images, query_labels = zip(*query_set)\n",
    "\n",
    "            classification_scores = model(support_images, support_labels, query_images)\n",
    "            cortt = 0\n",
    "            totl = 0\n",
    "            confusion_mat=None\n",
    "            all_predicted_labels = []\n",
    "            all_actual_labels = []\n",
    "            # print(len(classification_scores),len(query_labels))\n",
    "            for ei in range(len(classification_scores)):\n",
    "                classification_scores_each_class = classification_scores[ei]\n",
    "                # print(classification_scores_each_class)\n",
    "                predicted_labels_eachclas = torch.argmax(classification_scores_each_class, dim=1)\n",
    "                pp = predicted_labels_eachclas.tolist()\n",
    "                act = query_labels[ei]\n",
    "                all_predicted_labels.extend(pp)\n",
    "                all_actual_labels.extend(act)\n",
    "                for iiii in range(len(pp)):\n",
    "                    if pp[iiii] == act[iiii]:\n",
    "                        cortt = cortt + 1\n",
    "                totl = totl + len(pp)\n",
    "                # print(len(act))\n",
    "            accuracy = cortt / totl\n",
    "            ttla+=1\n",
    "            ttlac+=accuracy\n",
    "            ttlal.append(accuracy)\n",
    "            # print(cortt , totl,\"Validation Accuracy:              \", cortt / totl)\n",
    "            confusion_mat = confusion_matrix(all_actual_labels, all_predicted_labels)\n",
    "            # print(\"Confusion Matrix:\")\n",
    "            # print(confusion_mat)\n",
    "\n",
    "            # fname='./own35_mapi_5_way_1_shot'\n",
    "\n",
    "            precision_overall, recall_overall, f1ss= calculate_metrics_get_per(msg,confusion_mat,acciuracy=cortt / totl,cls=clss,flnm=fname)\n",
    "            precision.append(precision_overall)\n",
    "            recall.append(recall_overall)\n",
    "    print(f\"---Accu-----pre----rec---------> {np.mean(ttlal):.4f} ± {np.std(ttlal, ddof=1):.4f}  \"\n",
    "      f\"{np.mean(precision):.4f} ± {np.std(precision, ddof=1):.4f}  \"\n",
    "      f\"{np.mean(recall):.4f} ± {np.std(recall, ddof=1):.4f}\")\n",
    "\n",
    "    # print(\"---Accu-----pre----rec---------->\",np.mean(ttlal),'±',np.std(ttlal, ddof=1), np.mean(precision),'±',np.std(precision, ddof=1),np.mean(precision),'±',np.std(precision, ddof=1),)\n",
    "# %%%%%%\n",
    "\n",
    "def evaluate3(fname,data_loader, model, criterion=nn.CrossEntropyLoss()):\n",
    "    total_predictions = 0\n",
    "    correct_predictions = 0\n",
    "    total_loss = 0.0\n",
    "    accuracy = 0\n",
    "    datta = \"\"\n",
    "    model.eval()\n",
    "    tlv_cls=0\n",
    "    ttla=0\n",
    "    ttlac=0\n",
    "    with torch.no_grad():\n",
    "        for episode in range(len(clss_8)):\n",
    "            support_set, query_set = data_loader.__getitem__(clss_8[tlv_cls] , clss_support_imagesss_10_shot[tlv_cls])\n",
    "\n",
    "            \n",
    "            clssa=str(clss_8[tlv_cls])\n",
    "            clss=str(clssa).replace(',',' ').replace('\\'',' ').replace('\\'',' ')\n",
    "            msg=str(clss_support_imagesss_10_shot[tlv_cls])\n",
    "            str(clss_8[tlv_cls])\n",
    "\n",
    "            tlv_cls+=1\n",
    "            # print(len(support_set),len(query_set))\n",
    "            support_set = [(torch.stack(images).to(device), label[0]) for images, label in support_set]\n",
    "            query_set = [(torch.stack(images).to(device), label) for images, label in query_set]\n",
    "\n",
    "            support_images, support_labels = zip(*support_set)\n",
    "\n",
    "            query_images, query_labels = zip(*query_set)\n",
    "\n",
    "            classification_scores = model(support_images, support_labels, query_images)\n",
    "            cortt = 0\n",
    "            totl = 0\n",
    "            confusion_mat=None\n",
    "            all_predicted_labels = []\n",
    "            all_actual_labels = []\n",
    "            # print(len(classification_scores),len(query_labels))\n",
    "            for ei in range(len(classification_scores)):\n",
    "                classification_scores_each_class = classification_scores[ei]\n",
    "                # print(classification_scores_each_class)\n",
    "                predicted_labels_eachclas = torch.argmax(classification_scores_each_class, dim=1)\n",
    "                pp = predicted_labels_eachclas.tolist()\n",
    "                act = query_labels[ei]\n",
    "                all_predicted_labels.extend(pp)\n",
    "                all_actual_labels.extend(act)\n",
    "                for iiii in range(len(pp)):\n",
    "                    if pp[iiii] == act[iiii]:\n",
    "                        cortt = cortt + 1\n",
    "                totl = totl + len(pp)\n",
    "                # print(len(act))\n",
    "            accuracy = cortt / totl\n",
    "            ttla+=1\n",
    "            ttlac+=accuracy\n",
    "            # print(cortt , totl,\"Validation Accuracy:              \", cortt / totl)\n",
    "            # confusion_mat = confusion_matrix(all_actual_labels, all_predicted_labels)\n",
    "            # print(\"Confusion Matrix:\")\n",
    "            # print(confusion_mat)\n",
    "\n",
    "            # fname='./own35_mapi_5_way_1_shot'\n",
    "\n",
    "            # calculate_metrics_get_per(msg,confusion_mat,acciuracy=cortt / totl,cls=clss,flnm=fname)\n",
    "\n",
    "    print(\"---------------------->\",ttlac/ttla)\n",
    "    return ttlac/ttla"
   ]
  },
  {
   "cell_type": "code",
   "execution_count": 87,
   "metadata": {
    "scrolled": true
   },
   "outputs": [
    {
     "name": "stdout",
     "output_type": "stream",
     "text": [
      "Testing b_a_r = 0.7965, c_a_r = 0.1834, f_a_r = 0.7797\n"
     ]
    },
    {
     "name": "stderr",
     "output_type": "stream",
     "text": [
      "/home/asufian/.local/share/pipx/venvs/notebook/lib/python3.12/site-packages/torchvision/models/_utils.py:208: UserWarning: The parameter 'pretrained' is deprecated since 0.13 and may be removed in the future, please use 'weights' instead.\n",
      "  warnings.warn(\n",
      "/home/asufian/.local/share/pipx/venvs/notebook/lib/python3.12/site-packages/torchvision/models/_utils.py:223: UserWarning: Arguments other than a weight enum or `None` for 'weights' are deprecated since 0.13 and may be removed in the future. The current behavior is equivalent to passing `weights=None`.\n",
      "  warnings.warn(msg)\n"
     ]
    },
    {
     "name": "stdout",
     "output_type": "stream",
     "text": [
      "----------------------> 0.8497023809523809\n",
      "Evaluated Accuracy: 0.8497\n",
      "Testing b_a_r = 0.5969, c_a_r = 0.4458, f_a_r = 0.1000\n",
      "----------------------> 0.5840773809523809\n",
      "Evaluated Accuracy: 0.5841\n",
      "Testing b_a_r = 0.4592, c_a_r = 0.3337, f_a_r = 0.1429\n",
      "----------------------> 0.747470238095238\n",
      "Evaluated Accuracy: 0.7475\n",
      "Testing b_a_r = 0.6509, c_a_r = 0.0564, f_a_r = 0.7220\n",
      "----------------------> 0.8492559523809523\n",
      "Evaluated Accuracy: 0.8493\n",
      "Testing b_a_r = 0.9386, c_a_r = 0.0008, f_a_r = 0.9922\n",
      "----------------------> 0.7992559523809524\n",
      "Evaluated Accuracy: 0.7993\n",
      "Testing b_a_r = 0.0250, c_a_r = 1.0000, f_a_r = 0.4630\n"
     ]
    },
    {
     "name": "stderr",
     "output_type": "stream",
     "text": [
      "/home/asufian/.local/share/pipx/venvs/notebook/lib/python3.12/site-packages/torchvision/models/_utils.py:208: UserWarning: The parameter 'pretrained' is deprecated since 0.13 and may be removed in the future, please use 'weights' instead.\n",
      "  warnings.warn(\n",
      "/home/asufian/.local/share/pipx/venvs/notebook/lib/python3.12/site-packages/torchvision/models/_utils.py:223: UserWarning: Arguments other than a weight enum or `None` for 'weights' are deprecated since 0.13 and may be removed in the future. The current behavior is equivalent to passing `weights=None`.\n",
      "  warnings.warn(msg)\n"
     ]
    },
    {
     "name": "stdout",
     "output_type": "stream",
     "text": [
      "----------------------> 0.2921130952380952\n",
      "Evaluated Accuracy: 0.2921\n",
      "Testing b_a_r = 0.0000, c_a_r = 0.1302, f_a_r = 0.0000\n"
     ]
    },
    {
     "name": "stderr",
     "output_type": "stream",
     "text": [
      "/home/asufian/.local/share/pipx/venvs/notebook/lib/python3.12/site-packages/torchvision/models/_utils.py:208: UserWarning: The parameter 'pretrained' is deprecated since 0.13 and may be removed in the future, please use 'weights' instead.\n",
      "  warnings.warn(\n",
      "/home/asufian/.local/share/pipx/venvs/notebook/lib/python3.12/site-packages/torchvision/models/_utils.py:223: UserWarning: Arguments other than a weight enum or `None` for 'weights' are deprecated since 0.13 and may be removed in the future. The current behavior is equivalent to passing `weights=None`.\n",
      "  warnings.warn(msg)\n"
     ]
    },
    {
     "name": "stdout",
     "output_type": "stream",
     "text": [
      "----------------------> 0.8092261904761905\n",
      "Evaluated Accuracy: 0.8092\n",
      "Testing b_a_r = 1.0000, c_a_r = 0.1472, f_a_r = 1.0000\n"
     ]
    },
    {
     "name": "stderr",
     "output_type": "stream",
     "text": [
      "/home/asufian/.local/share/pipx/venvs/notebook/lib/python3.12/site-packages/torchvision/models/_utils.py:208: UserWarning: The parameter 'pretrained' is deprecated since 0.13 and may be removed in the future, please use 'weights' instead.\n",
      "  warnings.warn(\n",
      "/home/asufian/.local/share/pipx/venvs/notebook/lib/python3.12/site-packages/torchvision/models/_utils.py:223: UserWarning: Arguments other than a weight enum or `None` for 'weights' are deprecated since 0.13 and may be removed in the future. The current behavior is equivalent to passing `weights=None`.\n",
      "  warnings.warn(msg)\n"
     ]
    },
    {
     "name": "stdout",
     "output_type": "stream",
     "text": [
      "----------------------> 0.846279761904762\n",
      "Evaluated Accuracy: 0.8463\n",
      "Testing b_a_r = 0.0000, c_a_r = 0.1558, f_a_r = 1.0000\n"
     ]
    },
    {
     "name": "stderr",
     "output_type": "stream",
     "text": [
      "/home/asufian/.local/share/pipx/venvs/notebook/lib/python3.12/site-packages/torchvision/models/_utils.py:208: UserWarning: The parameter 'pretrained' is deprecated since 0.13 and may be removed in the future, please use 'weights' instead.\n",
      "  warnings.warn(\n",
      "/home/asufian/.local/share/pipx/venvs/notebook/lib/python3.12/site-packages/torchvision/models/_utils.py:223: UserWarning: Arguments other than a weight enum or `None` for 'weights' are deprecated since 0.13 and may be removed in the future. The current behavior is equivalent to passing `weights=None`.\n",
      "  warnings.warn(msg)\n"
     ]
    },
    {
     "name": "stdout",
     "output_type": "stream",
     "text": [
      "----------------------> 0.8449404761904762\n",
      "Evaluated Accuracy: 0.8449\n",
      "Testing b_a_r = 0.0000, c_a_r = 0.1216, f_a_r = 0.6548\n"
     ]
    },
    {
     "name": "stderr",
     "output_type": "stream",
     "text": [
      "/home/asufian/.local/share/pipx/venvs/notebook/lib/python3.12/site-packages/torchvision/models/_utils.py:208: UserWarning: The parameter 'pretrained' is deprecated since 0.13 and may be removed in the future, please use 'weights' instead.\n",
      "  warnings.warn(\n",
      "/home/asufian/.local/share/pipx/venvs/notebook/lib/python3.12/site-packages/torchvision/models/_utils.py:223: UserWarning: Arguments other than a weight enum or `None` for 'weights' are deprecated since 0.13 and may be removed in the future. The current behavior is equivalent to passing `weights=None`.\n",
      "  warnings.warn(msg)\n"
     ]
    },
    {
     "name": "stdout",
     "output_type": "stream",
     "text": [
      "----------------------> 0.8543154761904762\n",
      "Evaluated Accuracy: 0.8543\n",
      "Testing b_a_r = 1.0000, c_a_r = 0.0000, f_a_r = 0.0000\n"
     ]
    },
    {
     "name": "stderr",
     "output_type": "stream",
     "text": [
      "/home/asufian/.local/share/pipx/venvs/notebook/lib/python3.12/site-packages/torchvision/models/_utils.py:208: UserWarning: The parameter 'pretrained' is deprecated since 0.13 and may be removed in the future, please use 'weights' instead.\n",
      "  warnings.warn(\n",
      "/home/asufian/.local/share/pipx/venvs/notebook/lib/python3.12/site-packages/torchvision/models/_utils.py:223: UserWarning: Arguments other than a weight enum or `None` for 'weights' are deprecated since 0.13 and may be removed in the future. The current behavior is equivalent to passing `weights=None`.\n",
      "  warnings.warn(msg)\n"
     ]
    },
    {
     "name": "stdout",
     "output_type": "stream",
     "text": [
      "----------------------> 0.7342261904761904\n",
      "Evaluated Accuracy: 0.7342\n",
      "Testing b_a_r = 1.0000, c_a_r = 0.2963, f_a_r = 1.0000\n"
     ]
    },
    {
     "name": "stderr",
     "output_type": "stream",
     "text": [
      "/home/asufian/.local/share/pipx/venvs/notebook/lib/python3.12/site-packages/torchvision/models/_utils.py:208: UserWarning: The parameter 'pretrained' is deprecated since 0.13 and may be removed in the future, please use 'weights' instead.\n",
      "  warnings.warn(\n",
      "/home/asufian/.local/share/pipx/venvs/notebook/lib/python3.12/site-packages/torchvision/models/_utils.py:223: UserWarning: Arguments other than a weight enum or `None` for 'weights' are deprecated since 0.13 and may be removed in the future. The current behavior is equivalent to passing `weights=None`.\n",
      "  warnings.warn(msg)\n"
     ]
    },
    {
     "name": "stdout",
     "output_type": "stream",
     "text": [
      "----------------------> 0.7639880952380952\n",
      "Evaluated Accuracy: 0.7640\n",
      "Testing b_a_r = 1.0000, c_a_r = 0.1289, f_a_r = 0.6469\n"
     ]
    },
    {
     "name": "stderr",
     "output_type": "stream",
     "text": [
      "/home/asufian/.local/share/pipx/venvs/notebook/lib/python3.12/site-packages/torchvision/models/_utils.py:208: UserWarning: The parameter 'pretrained' is deprecated since 0.13 and may be removed in the future, please use 'weights' instead.\n",
      "  warnings.warn(\n",
      "/home/asufian/.local/share/pipx/venvs/notebook/lib/python3.12/site-packages/torchvision/models/_utils.py:223: UserWarning: Arguments other than a weight enum or `None` for 'weights' are deprecated since 0.13 and may be removed in the future. The current behavior is equivalent to passing `weights=None`.\n",
      "  warnings.warn(msg)\n"
     ]
    },
    {
     "name": "stdout",
     "output_type": "stream",
     "text": [
      "----------------------> 0.8517857142857143\n",
      "Evaluated Accuracy: 0.8518\n",
      "Testing b_a_r = 0.0000, c_a_r = 0.0828, f_a_r = 1.0000\n"
     ]
    },
    {
     "name": "stderr",
     "output_type": "stream",
     "text": [
      "/home/asufian/.local/share/pipx/venvs/notebook/lib/python3.12/site-packages/torchvision/models/_utils.py:208: UserWarning: The parameter 'pretrained' is deprecated since 0.13 and may be removed in the future, please use 'weights' instead.\n",
      "  warnings.warn(\n",
      "/home/asufian/.local/share/pipx/venvs/notebook/lib/python3.12/site-packages/torchvision/models/_utils.py:223: UserWarning: Arguments other than a weight enum or `None` for 'weights' are deprecated since 0.13 and may be removed in the future. The current behavior is equivalent to passing `weights=None`.\n",
      "  warnings.warn(msg)\n"
     ]
    },
    {
     "name": "stdout",
     "output_type": "stream",
     "text": [
      "----------------------> 0.8720238095238096\n",
      "Evaluated Accuracy: 0.8720\n",
      "Testing b_a_r = 0.0000, c_a_r = 0.2320, f_a_r = 0.0000\n"
     ]
    },
    {
     "name": "stderr",
     "output_type": "stream",
     "text": [
      "/home/asufian/.local/share/pipx/venvs/notebook/lib/python3.12/site-packages/torchvision/models/_utils.py:208: UserWarning: The parameter 'pretrained' is deprecated since 0.13 and may be removed in the future, please use 'weights' instead.\n",
      "  warnings.warn(\n",
      "/home/asufian/.local/share/pipx/venvs/notebook/lib/python3.12/site-packages/torchvision/models/_utils.py:223: UserWarning: Arguments other than a weight enum or `None` for 'weights' are deprecated since 0.13 and may be removed in the future. The current behavior is equivalent to passing `weights=None`.\n",
      "  warnings.warn(msg)\n"
     ]
    },
    {
     "name": "stdout",
     "output_type": "stream",
     "text": [
      "----------------------> 0.8235119047619047\n",
      "Evaluated Accuracy: 0.8235\n",
      "Testing b_a_r = 0.0777, c_a_r = 0.7080, f_a_r = 1.0000\n"
     ]
    },
    {
     "name": "stderr",
     "output_type": "stream",
     "text": [
      "/home/asufian/.local/share/pipx/venvs/notebook/lib/python3.12/site-packages/torchvision/models/_utils.py:208: UserWarning: The parameter 'pretrained' is deprecated since 0.13 and may be removed in the future, please use 'weights' instead.\n",
      "  warnings.warn(\n",
      "/home/asufian/.local/share/pipx/venvs/notebook/lib/python3.12/site-packages/torchvision/models/_utils.py:223: UserWarning: Arguments other than a weight enum or `None` for 'weights' are deprecated since 0.13 and may be removed in the future. The current behavior is equivalent to passing `weights=None`.\n",
      "  warnings.warn(msg)\n"
     ]
    },
    {
     "name": "stdout",
     "output_type": "stream",
     "text": [
      "----------------------> 0.4092261904761904\n",
      "Evaluated Accuracy: 0.4092\n",
      "Testing b_a_r = 0.0371, c_a_r = 0.2355, f_a_r = 0.5547\n"
     ]
    },
    {
     "name": "stderr",
     "output_type": "stream",
     "text": [
      "/home/asufian/.local/share/pipx/venvs/notebook/lib/python3.12/site-packages/torchvision/models/_utils.py:208: UserWarning: The parameter 'pretrained' is deprecated since 0.13 and may be removed in the future, please use 'weights' instead.\n",
      "  warnings.warn(\n",
      "/home/asufian/.local/share/pipx/venvs/notebook/lib/python3.12/site-packages/torchvision/models/_utils.py:223: UserWarning: Arguments other than a weight enum or `None` for 'weights' are deprecated since 0.13 and may be removed in the future. The current behavior is equivalent to passing `weights=None`.\n",
      "  warnings.warn(msg)\n"
     ]
    },
    {
     "name": "stdout",
     "output_type": "stream",
     "text": [
      "----------------------> 0.8541666666666665\n",
      "Evaluated Accuracy: 0.8542\n",
      "Testing b_a_r = 0.9193, c_a_r = 0.7861, f_a_r = 0.0011\n"
     ]
    },
    {
     "name": "stderr",
     "output_type": "stream",
     "text": [
      "/home/asufian/.local/share/pipx/venvs/notebook/lib/python3.12/site-packages/torchvision/models/_utils.py:208: UserWarning: The parameter 'pretrained' is deprecated since 0.13 and may be removed in the future, please use 'weights' instead.\n",
      "  warnings.warn(\n",
      "/home/asufian/.local/share/pipx/venvs/notebook/lib/python3.12/site-packages/torchvision/models/_utils.py:223: UserWarning: Arguments other than a weight enum or `None` for 'weights' are deprecated since 0.13 and may be removed in the future. The current behavior is equivalent to passing `weights=None`.\n",
      "  warnings.warn(msg)\n"
     ]
    },
    {
     "name": "stdout",
     "output_type": "stream",
     "text": [
      "----------------------> 0.3840773809523809\n",
      "Evaluated Accuracy: 0.3841\n",
      "Testing b_a_r = 0.1773, c_a_r = 0.1878, f_a_r = 0.4113\n"
     ]
    },
    {
     "name": "stderr",
     "output_type": "stream",
     "text": [
      "/home/asufian/.local/share/pipx/venvs/notebook/lib/python3.12/site-packages/torchvision/models/_utils.py:208: UserWarning: The parameter 'pretrained' is deprecated since 0.13 and may be removed in the future, please use 'weights' instead.\n",
      "  warnings.warn(\n",
      "/home/asufian/.local/share/pipx/venvs/notebook/lib/python3.12/site-packages/torchvision/models/_utils.py:223: UserWarning: Arguments other than a weight enum or `None` for 'weights' are deprecated since 0.13 and may be removed in the future. The current behavior is equivalent to passing `weights=None`.\n",
      "  warnings.warn(msg)\n"
     ]
    },
    {
     "name": "stdout",
     "output_type": "stream",
     "text": [
      "----------------------> 0.8395833333333335\n",
      "Evaluated Accuracy: 0.8396\n",
      "Testing b_a_r = 0.3641, c_a_r = 0.2232, f_a_r = 0.9956\n"
     ]
    },
    {
     "name": "stderr",
     "output_type": "stream",
     "text": [
      "/home/asufian/.local/share/pipx/venvs/notebook/lib/python3.12/site-packages/torchvision/models/_utils.py:208: UserWarning: The parameter 'pretrained' is deprecated since 0.13 and may be removed in the future, please use 'weights' instead.\n",
      "  warnings.warn(\n",
      "/home/asufian/.local/share/pipx/venvs/notebook/lib/python3.12/site-packages/torchvision/models/_utils.py:223: UserWarning: Arguments other than a weight enum or `None` for 'weights' are deprecated since 0.13 and may be removed in the future. The current behavior is equivalent to passing `weights=None`.\n",
      "  warnings.warn(msg)\n"
     ]
    },
    {
     "name": "stdout",
     "output_type": "stream",
     "text": [
      "----------------------> 0.8416666666666667\n",
      "Evaluated Accuracy: 0.8417\n",
      "Testing b_a_r = 0.6898, c_a_r = 0.6019, f_a_r = 0.0045\n"
     ]
    },
    {
     "name": "stderr",
     "output_type": "stream",
     "text": [
      "/home/asufian/.local/share/pipx/venvs/notebook/lib/python3.12/site-packages/torchvision/models/_utils.py:208: UserWarning: The parameter 'pretrained' is deprecated since 0.13 and may be removed in the future, please use 'weights' instead.\n",
      "  warnings.warn(\n",
      "/home/asufian/.local/share/pipx/venvs/notebook/lib/python3.12/site-packages/torchvision/models/_utils.py:223: UserWarning: Arguments other than a weight enum or `None` for 'weights' are deprecated since 0.13 and may be removed in the future. The current behavior is equivalent to passing `weights=None`.\n",
      "  warnings.warn(msg)\n"
     ]
    },
    {
     "name": "stdout",
     "output_type": "stream",
     "text": [
      "----------------------> 0.5541666666666668\n",
      "Evaluated Accuracy: 0.5542\n",
      "Testing b_a_r = 0.0759, c_a_r = 0.5222, f_a_r = 0.9983\n"
     ]
    },
    {
     "name": "stderr",
     "output_type": "stream",
     "text": [
      "/home/asufian/.local/share/pipx/venvs/notebook/lib/python3.12/site-packages/torchvision/models/_utils.py:208: UserWarning: The parameter 'pretrained' is deprecated since 0.13 and may be removed in the future, please use 'weights' instead.\n",
      "  warnings.warn(\n",
      "/home/asufian/.local/share/pipx/venvs/notebook/lib/python3.12/site-packages/torchvision/models/_utils.py:223: UserWarning: Arguments other than a weight enum or `None` for 'weights' are deprecated since 0.13 and may be removed in the future. The current behavior is equivalent to passing `weights=None`.\n",
      "  warnings.warn(msg)\n"
     ]
    },
    {
     "name": "stdout",
     "output_type": "stream",
     "text": [
      "----------------------> 0.5193452380952381\n",
      "Evaluated Accuracy: 0.5193\n",
      "Testing b_a_r = 0.4075, c_a_r = 0.0590, f_a_r = 0.9981\n"
     ]
    },
    {
     "name": "stderr",
     "output_type": "stream",
     "text": [
      "/home/asufian/.local/share/pipx/venvs/notebook/lib/python3.12/site-packages/torchvision/models/_utils.py:208: UserWarning: The parameter 'pretrained' is deprecated since 0.13 and may be removed in the future, please use 'weights' instead.\n",
      "  warnings.warn(\n",
      "/home/asufian/.local/share/pipx/venvs/notebook/lib/python3.12/site-packages/torchvision/models/_utils.py:223: UserWarning: Arguments other than a weight enum or `None` for 'weights' are deprecated since 0.13 and may be removed in the future. The current behavior is equivalent to passing `weights=None`.\n",
      "  warnings.warn(msg)\n"
     ]
    },
    {
     "name": "stdout",
     "output_type": "stream",
     "text": [
      "----------------------> 0.8556547619047619\n",
      "Evaluated Accuracy: 0.8557\n",
      "Testing b_a_r = 0.8523, c_a_r = 0.0962, f_a_r = 0.9682\n"
     ]
    },
    {
     "name": "stderr",
     "output_type": "stream",
     "text": [
      "/home/asufian/.local/share/pipx/venvs/notebook/lib/python3.12/site-packages/torchvision/models/_utils.py:208: UserWarning: The parameter 'pretrained' is deprecated since 0.13 and may be removed in the future, please use 'weights' instead.\n",
      "  warnings.warn(\n",
      "/home/asufian/.local/share/pipx/venvs/notebook/lib/python3.12/site-packages/torchvision/models/_utils.py:223: UserWarning: Arguments other than a weight enum or `None` for 'weights' are deprecated since 0.13 and may be removed in the future. The current behavior is equivalent to passing `weights=None`.\n",
      "  warnings.warn(msg)\n"
     ]
    },
    {
     "name": "stdout",
     "output_type": "stream",
     "text": [
      "----------------------> 0.8641369047619047\n",
      "Evaluated Accuracy: 0.8641\n",
      "Testing b_a_r = 0.0899, c_a_r = 0.0918, f_a_r = 0.7251\n"
     ]
    },
    {
     "name": "stderr",
     "output_type": "stream",
     "text": [
      "/home/asufian/.local/share/pipx/venvs/notebook/lib/python3.12/site-packages/torchvision/models/_utils.py:208: UserWarning: The parameter 'pretrained' is deprecated since 0.13 and may be removed in the future, please use 'weights' instead.\n",
      "  warnings.warn(\n",
      "/home/asufian/.local/share/pipx/venvs/notebook/lib/python3.12/site-packages/torchvision/models/_utils.py:223: UserWarning: Arguments other than a weight enum or `None` for 'weights' are deprecated since 0.13 and may be removed in the future. The current behavior is equivalent to passing `weights=None`.\n",
      "  warnings.warn(msg)\n"
     ]
    },
    {
     "name": "stdout",
     "output_type": "stream",
     "text": [
      "----------------------> 0.8650297619047618\n",
      "Evaluated Accuracy: 0.8650\n",
      "Testing b_a_r = 0.1076, c_a_r = 0.0734, f_a_r = 0.2248\n"
     ]
    },
    {
     "name": "stderr",
     "output_type": "stream",
     "text": [
      "/home/asufian/.local/share/pipx/venvs/notebook/lib/python3.12/site-packages/torchvision/models/_utils.py:208: UserWarning: The parameter 'pretrained' is deprecated since 0.13 and may be removed in the future, please use 'weights' instead.\n",
      "  warnings.warn(\n",
      "/home/asufian/.local/share/pipx/venvs/notebook/lib/python3.12/site-packages/torchvision/models/_utils.py:223: UserWarning: Arguments other than a weight enum or `None` for 'weights' are deprecated since 0.13 and may be removed in the future. The current behavior is equivalent to passing `weights=None`.\n",
      "  warnings.warn(msg)\n"
     ]
    },
    {
     "name": "stdout",
     "output_type": "stream",
     "text": [
      "----------------------> 0.7985119047619046\n",
      "Evaluated Accuracy: 0.7985\n",
      "Testing b_a_r = 0.0408, c_a_r = 0.1023, f_a_r = 0.9482\n"
     ]
    },
    {
     "name": "stderr",
     "output_type": "stream",
     "text": [
      "/home/asufian/.local/share/pipx/venvs/notebook/lib/python3.12/site-packages/torchvision/models/_utils.py:208: UserWarning: The parameter 'pretrained' is deprecated since 0.13 and may be removed in the future, please use 'weights' instead.\n",
      "  warnings.warn(\n",
      "/home/asufian/.local/share/pipx/venvs/notebook/lib/python3.12/site-packages/torchvision/models/_utils.py:223: UserWarning: Arguments other than a weight enum or `None` for 'weights' are deprecated since 0.13 and may be removed in the future. The current behavior is equivalent to passing `weights=None`.\n",
      "  warnings.warn(msg)\n"
     ]
    },
    {
     "name": "stdout",
     "output_type": "stream",
     "text": [
      "----------------------> 0.8654761904761905\n",
      "Evaluated Accuracy: 0.8655\n",
      "Testing b_a_r = 0.9603, c_a_r = 0.2583, f_a_r = 0.4000\n"
     ]
    },
    {
     "name": "stderr",
     "output_type": "stream",
     "text": [
      "/home/asufian/.local/share/pipx/venvs/notebook/lib/python3.12/site-packages/torchvision/models/_utils.py:208: UserWarning: The parameter 'pretrained' is deprecated since 0.13 and may be removed in the future, please use 'weights' instead.\n",
      "  warnings.warn(\n",
      "/home/asufian/.local/share/pipx/venvs/notebook/lib/python3.12/site-packages/torchvision/models/_utils.py:223: UserWarning: Arguments other than a weight enum or `None` for 'weights' are deprecated since 0.13 and may be removed in the future. The current behavior is equivalent to passing `weights=None`.\n",
      "  warnings.warn(msg)\n"
     ]
    },
    {
     "name": "stdout",
     "output_type": "stream",
     "text": [
      "----------------------> 0.8386904761904762\n",
      "Evaluated Accuracy: 0.8387\n",
      "Testing b_a_r = 0.9190, c_a_r = 0.0861, f_a_r = 0.8895\n"
     ]
    },
    {
     "name": "stderr",
     "output_type": "stream",
     "text": [
      "/home/asufian/.local/share/pipx/venvs/notebook/lib/python3.12/site-packages/torchvision/models/_utils.py:208: UserWarning: The parameter 'pretrained' is deprecated since 0.13 and may be removed in the future, please use 'weights' instead.\n",
      "  warnings.warn(\n",
      "/home/asufian/.local/share/pipx/venvs/notebook/lib/python3.12/site-packages/torchvision/models/_utils.py:223: UserWarning: Arguments other than a weight enum or `None` for 'weights' are deprecated since 0.13 and may be removed in the future. The current behavior is equivalent to passing `weights=None`.\n",
      "  warnings.warn(msg)\n"
     ]
    },
    {
     "name": "stdout",
     "output_type": "stream",
     "text": [
      "----------------------> 0.8654761904761905\n",
      "Evaluated Accuracy: 0.8655\n",
      "Testing b_a_r = 0.2298, c_a_r = 0.8881, f_a_r = 0.9997\n"
     ]
    },
    {
     "name": "stderr",
     "output_type": "stream",
     "text": [
      "/home/asufian/.local/share/pipx/venvs/notebook/lib/python3.12/site-packages/torchvision/models/_utils.py:208: UserWarning: The parameter 'pretrained' is deprecated since 0.13 and may be removed in the future, please use 'weights' instead.\n",
      "  warnings.warn(\n",
      "/home/asufian/.local/share/pipx/venvs/notebook/lib/python3.12/site-packages/torchvision/models/_utils.py:223: UserWarning: Arguments other than a weight enum or `None` for 'weights' are deprecated since 0.13 and may be removed in the future. The current behavior is equivalent to passing `weights=None`.\n",
      "  warnings.warn(msg)\n"
     ]
    },
    {
     "name": "stdout",
     "output_type": "stream",
     "text": [
      "----------------------> 0.29523809523809524\n",
      "Evaluated Accuracy: 0.2952\n",
      "Testing b_a_r = 0.0162, c_a_r = 0.1080, f_a_r = 0.9957\n"
     ]
    },
    {
     "name": "stderr",
     "output_type": "stream",
     "text": [
      "/home/asufian/.local/share/pipx/venvs/notebook/lib/python3.12/site-packages/torchvision/models/_utils.py:208: UserWarning: The parameter 'pretrained' is deprecated since 0.13 and may be removed in the future, please use 'weights' instead.\n",
      "  warnings.warn(\n",
      "/home/asufian/.local/share/pipx/venvs/notebook/lib/python3.12/site-packages/torchvision/models/_utils.py:223: UserWarning: Arguments other than a weight enum or `None` for 'weights' are deprecated since 0.13 and may be removed in the future. The current behavior is equivalent to passing `weights=None`.\n",
      "  warnings.warn(msg)\n"
     ]
    },
    {
     "name": "stdout",
     "output_type": "stream",
     "text": [
      "----------------------> 0.8636904761904763\n",
      "Evaluated Accuracy: 0.8637\n",
      "Testing b_a_r = 0.2988, c_a_r = 0.2782, f_a_r = 0.0094\n"
     ]
    },
    {
     "name": "stderr",
     "output_type": "stream",
     "text": [
      "/home/asufian/.local/share/pipx/venvs/notebook/lib/python3.12/site-packages/torchvision/models/_utils.py:208: UserWarning: The parameter 'pretrained' is deprecated since 0.13 and may be removed in the future, please use 'weights' instead.\n",
      "  warnings.warn(\n",
      "/home/asufian/.local/share/pipx/venvs/notebook/lib/python3.12/site-packages/torchvision/models/_utils.py:223: UserWarning: Arguments other than a weight enum or `None` for 'weights' are deprecated since 0.13 and may be removed in the future. The current behavior is equivalent to passing `weights=None`.\n",
      "  warnings.warn(msg)\n"
     ]
    },
    {
     "name": "stdout",
     "output_type": "stream",
     "text": [
      "----------------------> 0.8123511904761905\n",
      "Evaluated Accuracy: 0.8124\n",
      "Testing b_a_r = 0.0638, c_a_r = 0.3998, f_a_r = 0.9936\n"
     ]
    },
    {
     "name": "stderr",
     "output_type": "stream",
     "text": [
      "/home/asufian/.local/share/pipx/venvs/notebook/lib/python3.12/site-packages/torchvision/models/_utils.py:208: UserWarning: The parameter 'pretrained' is deprecated since 0.13 and may be removed in the future, please use 'weights' instead.\n",
      "  warnings.warn(\n",
      "/home/asufian/.local/share/pipx/venvs/notebook/lib/python3.12/site-packages/torchvision/models/_utils.py:223: UserWarning: Arguments other than a weight enum or `None` for 'weights' are deprecated since 0.13 and may be removed in the future. The current behavior is equivalent to passing `weights=None`.\n",
      "  warnings.warn(msg)\n"
     ]
    },
    {
     "name": "stdout",
     "output_type": "stream",
     "text": [
      "----------------------> 0.5770833333333334\n",
      "Evaluated Accuracy: 0.5771\n",
      "Testing b_a_r = 0.0062, c_a_r = 0.0774, f_a_r = 0.8099\n"
     ]
    },
    {
     "name": "stderr",
     "output_type": "stream",
     "text": [
      "/home/asufian/.local/share/pipx/venvs/notebook/lib/python3.12/site-packages/torchvision/models/_utils.py:208: UserWarning: The parameter 'pretrained' is deprecated since 0.13 and may be removed in the future, please use 'weights' instead.\n",
      "  warnings.warn(\n",
      "/home/asufian/.local/share/pipx/venvs/notebook/lib/python3.12/site-packages/torchvision/models/_utils.py:223: UserWarning: Arguments other than a weight enum or `None` for 'weights' are deprecated since 0.13 and may be removed in the future. The current behavior is equivalent to passing `weights=None`.\n",
      "  warnings.warn(msg)\n"
     ]
    },
    {
     "name": "stdout",
     "output_type": "stream",
     "text": [
      "----------------------> 0.8688988095238095\n",
      "Evaluated Accuracy: 0.8689\n",
      "Testing b_a_r = 0.9849, c_a_r = 0.2191, f_a_r = 0.6975\n"
     ]
    },
    {
     "name": "stderr",
     "output_type": "stream",
     "text": [
      "/home/asufian/.local/share/pipx/venvs/notebook/lib/python3.12/site-packages/torchvision/models/_utils.py:208: UserWarning: The parameter 'pretrained' is deprecated since 0.13 and may be removed in the future, please use 'weights' instead.\n",
      "  warnings.warn(\n",
      "/home/asufian/.local/share/pipx/venvs/notebook/lib/python3.12/site-packages/torchvision/models/_utils.py:223: UserWarning: Arguments other than a weight enum or `None` for 'weights' are deprecated since 0.13 and may be removed in the future. The current behavior is equivalent to passing `weights=None`.\n",
      "  warnings.warn(msg)\n"
     ]
    },
    {
     "name": "stdout",
     "output_type": "stream",
     "text": [
      "----------------------> 0.8602678571428571\n",
      "Evaluated Accuracy: 0.8603\n",
      "Testing b_a_r = 0.0305, c_a_r = 0.0003, f_a_r = 0.6188\n"
     ]
    },
    {
     "name": "stderr",
     "output_type": "stream",
     "text": [
      "/home/asufian/.local/share/pipx/venvs/notebook/lib/python3.12/site-packages/torchvision/models/_utils.py:208: UserWarning: The parameter 'pretrained' is deprecated since 0.13 and may be removed in the future, please use 'weights' instead.\n",
      "  warnings.warn(\n",
      "/home/asufian/.local/share/pipx/venvs/notebook/lib/python3.12/site-packages/torchvision/models/_utils.py:223: UserWarning: Arguments other than a weight enum or `None` for 'weights' are deprecated since 0.13 and may be removed in the future. The current behavior is equivalent to passing `weights=None`.\n",
      "  warnings.warn(msg)\n"
     ]
    },
    {
     "name": "stdout",
     "output_type": "stream",
     "text": [
      "----------------------> 0.7830357142857144\n",
      "Evaluated Accuracy: 0.7830\n",
      "Testing b_a_r = 0.0033, c_a_r = 0.2407, f_a_r = 0.7512\n"
     ]
    },
    {
     "name": "stderr",
     "output_type": "stream",
     "text": [
      "/home/asufian/.local/share/pipx/venvs/notebook/lib/python3.12/site-packages/torchvision/models/_utils.py:208: UserWarning: The parameter 'pretrained' is deprecated since 0.13 and may be removed in the future, please use 'weights' instead.\n",
      "  warnings.warn(\n",
      "/home/asufian/.local/share/pipx/venvs/notebook/lib/python3.12/site-packages/torchvision/models/_utils.py:223: UserWarning: Arguments other than a weight enum or `None` for 'weights' are deprecated since 0.13 and may be removed in the future. The current behavior is equivalent to passing `weights=None`.\n",
      "  warnings.warn(msg)\n"
     ]
    },
    {
     "name": "stdout",
     "output_type": "stream",
     "text": [
      "----------------------> 0.8379464285714285\n",
      "Evaluated Accuracy: 0.8379\n",
      "Testing b_a_r = 0.2070, c_a_r = 0.0770, f_a_r = 0.9977\n"
     ]
    },
    {
     "name": "stderr",
     "output_type": "stream",
     "text": [
      "/home/asufian/.local/share/pipx/venvs/notebook/lib/python3.12/site-packages/torchvision/models/_utils.py:208: UserWarning: The parameter 'pretrained' is deprecated since 0.13 and may be removed in the future, please use 'weights' instead.\n",
      "  warnings.warn(\n",
      "/home/asufian/.local/share/pipx/venvs/notebook/lib/python3.12/site-packages/torchvision/models/_utils.py:223: UserWarning: Arguments other than a weight enum or `None` for 'weights' are deprecated since 0.13 and may be removed in the future. The current behavior is equivalent to passing `weights=None`.\n",
      "  warnings.warn(msg)\n"
     ]
    },
    {
     "name": "stdout",
     "output_type": "stream",
     "text": [
      "----------------------> 0.86875\n",
      "Evaluated Accuracy: 0.8688\n",
      "Testing b_a_r = 0.9370, c_a_r = 0.0909, f_a_r = 0.9898\n"
     ]
    },
    {
     "name": "stderr",
     "output_type": "stream",
     "text": [
      "/home/asufian/.local/share/pipx/venvs/notebook/lib/python3.12/site-packages/torchvision/models/_utils.py:208: UserWarning: The parameter 'pretrained' is deprecated since 0.13 and may be removed in the future, please use 'weights' instead.\n",
      "  warnings.warn(\n",
      "/home/asufian/.local/share/pipx/venvs/notebook/lib/python3.12/site-packages/torchvision/models/_utils.py:223: UserWarning: Arguments other than a weight enum or `None` for 'weights' are deprecated since 0.13 and may be removed in the future. The current behavior is equivalent to passing `weights=None`.\n",
      "  warnings.warn(msg)\n"
     ]
    },
    {
     "name": "stdout",
     "output_type": "stream",
     "text": [
      "----------------------> 0.8641369047619047\n",
      "Evaluated Accuracy: 0.8641\n",
      "Testing b_a_r = 0.9752, c_a_r = 0.2218, f_a_r = 0.3142\n"
     ]
    },
    {
     "name": "stderr",
     "output_type": "stream",
     "text": [
      "/home/asufian/.local/share/pipx/venvs/notebook/lib/python3.12/site-packages/torchvision/models/_utils.py:208: UserWarning: The parameter 'pretrained' is deprecated since 0.13 and may be removed in the future, please use 'weights' instead.\n",
      "  warnings.warn(\n",
      "/home/asufian/.local/share/pipx/venvs/notebook/lib/python3.12/site-packages/torchvision/models/_utils.py:223: UserWarning: Arguments other than a weight enum or `None` for 'weights' are deprecated since 0.13 and may be removed in the future. The current behavior is equivalent to passing `weights=None`.\n",
      "  warnings.warn(msg)\n"
     ]
    },
    {
     "name": "stdout",
     "output_type": "stream",
     "text": [
      "----------------------> 0.8401785714285714\n",
      "Evaluated Accuracy: 0.8402\n",
      "Testing b_a_r = 0.9856, c_a_r = 0.0859, f_a_r = 0.8223\n"
     ]
    },
    {
     "name": "stderr",
     "output_type": "stream",
     "text": [
      "/home/asufian/.local/share/pipx/venvs/notebook/lib/python3.12/site-packages/torchvision/models/_utils.py:208: UserWarning: The parameter 'pretrained' is deprecated since 0.13 and may be removed in the future, please use 'weights' instead.\n",
      "  warnings.warn(\n",
      "/home/asufian/.local/share/pipx/venvs/notebook/lib/python3.12/site-packages/torchvision/models/_utils.py:223: UserWarning: Arguments other than a weight enum or `None` for 'weights' are deprecated since 0.13 and may be removed in the future. The current behavior is equivalent to passing `weights=None`.\n",
      "  warnings.warn(msg)\n"
     ]
    },
    {
     "name": "stdout",
     "output_type": "stream",
     "text": [
      "----------------------> 0.8657738095238096\n",
      "Evaluated Accuracy: 0.8658\n",
      "Testing b_a_r = 0.8580, c_a_r = 0.1283, f_a_r = 0.3596\n"
     ]
    },
    {
     "name": "stderr",
     "output_type": "stream",
     "text": [
      "/home/asufian/.local/share/pipx/venvs/notebook/lib/python3.12/site-packages/torchvision/models/_utils.py:208: UserWarning: The parameter 'pretrained' is deprecated since 0.13 and may be removed in the future, please use 'weights' instead.\n",
      "  warnings.warn(\n",
      "/home/asufian/.local/share/pipx/venvs/notebook/lib/python3.12/site-packages/torchvision/models/_utils.py:223: UserWarning: Arguments other than a weight enum or `None` for 'weights' are deprecated since 0.13 and may be removed in the future. The current behavior is equivalent to passing `weights=None`.\n",
      "  warnings.warn(msg)\n"
     ]
    },
    {
     "name": "stdout",
     "output_type": "stream",
     "text": [
      "----------------------> 0.8261904761904763\n",
      "Evaluated Accuracy: 0.8262\n",
      "Testing b_a_r = 0.8613, c_a_r = 0.1760, f_a_r = 0.0031\n"
     ]
    },
    {
     "name": "stderr",
     "output_type": "stream",
     "text": [
      "/home/asufian/.local/share/pipx/venvs/notebook/lib/python3.12/site-packages/torchvision/models/_utils.py:208: UserWarning: The parameter 'pretrained' is deprecated since 0.13 and may be removed in the future, please use 'weights' instead.\n",
      "  warnings.warn(\n",
      "/home/asufian/.local/share/pipx/venvs/notebook/lib/python3.12/site-packages/torchvision/models/_utils.py:223: UserWarning: Arguments other than a weight enum or `None` for 'weights' are deprecated since 0.13 and may be removed in the future. The current behavior is equivalent to passing `weights=None`.\n",
      "  warnings.warn(msg)\n"
     ]
    },
    {
     "name": "stdout",
     "output_type": "stream",
     "text": [
      "----------------------> 0.8144345238095237\n",
      "Evaluated Accuracy: 0.8144\n",
      "Testing b_a_r = 0.5843, c_a_r = 0.9837, f_a_r = 0.0008\n"
     ]
    },
    {
     "name": "stderr",
     "output_type": "stream",
     "text": [
      "/home/asufian/.local/share/pipx/venvs/notebook/lib/python3.12/site-packages/torchvision/models/_utils.py:208: UserWarning: The parameter 'pretrained' is deprecated since 0.13 and may be removed in the future, please use 'weights' instead.\n",
      "  warnings.warn(\n",
      "/home/asufian/.local/share/pipx/venvs/notebook/lib/python3.12/site-packages/torchvision/models/_utils.py:223: UserWarning: Arguments other than a weight enum or `None` for 'weights' are deprecated since 0.13 and may be removed in the future. The current behavior is equivalent to passing `weights=None`.\n",
      "  warnings.warn(msg)\n"
     ]
    },
    {
     "name": "stdout",
     "output_type": "stream",
     "text": [
      "----------------------> 0.3306547619047619\n",
      "Evaluated Accuracy: 0.3307\n",
      "Testing b_a_r = 0.0497, c_a_r = 0.0950, f_a_r = 0.8013\n"
     ]
    },
    {
     "name": "stderr",
     "output_type": "stream",
     "text": [
      "/home/asufian/.local/share/pipx/venvs/notebook/lib/python3.12/site-packages/torchvision/models/_utils.py:208: UserWarning: The parameter 'pretrained' is deprecated since 0.13 and may be removed in the future, please use 'weights' instead.\n",
      "  warnings.warn(\n",
      "/home/asufian/.local/share/pipx/venvs/notebook/lib/python3.12/site-packages/torchvision/models/_utils.py:223: UserWarning: Arguments other than a weight enum or `None` for 'weights' are deprecated since 0.13 and may be removed in the future. The current behavior is equivalent to passing `weights=None`.\n",
      "  warnings.warn(msg)\n"
     ]
    },
    {
     "name": "stdout",
     "output_type": "stream",
     "text": [
      "----------------------> 0.8680059523809525\n",
      "Evaluated Accuracy: 0.8680\n",
      "Testing b_a_r = 0.9855, c_a_r = 0.2051, f_a_r = 0.5663\n"
     ]
    },
    {
     "name": "stderr",
     "output_type": "stream",
     "text": [
      "/home/asufian/.local/share/pipx/venvs/notebook/lib/python3.12/site-packages/torchvision/models/_utils.py:208: UserWarning: The parameter 'pretrained' is deprecated since 0.13 and may be removed in the future, please use 'weights' instead.\n",
      "  warnings.warn(\n",
      "/home/asufian/.local/share/pipx/venvs/notebook/lib/python3.12/site-packages/torchvision/models/_utils.py:223: UserWarning: Arguments other than a weight enum or `None` for 'weights' are deprecated since 0.13 and may be removed in the future. The current behavior is equivalent to passing `weights=None`.\n",
      "  warnings.warn(msg)\n"
     ]
    },
    {
     "name": "stdout",
     "output_type": "stream",
     "text": [
      "----------------------> 0.8641369047619047\n",
      "Evaluated Accuracy: 0.8641\n",
      "Testing b_a_r = 0.8771, c_a_r = 0.5941, f_a_r = 0.5338\n"
     ]
    },
    {
     "name": "stderr",
     "output_type": "stream",
     "text": [
      "/home/asufian/.local/share/pipx/venvs/notebook/lib/python3.12/site-packages/torchvision/models/_utils.py:208: UserWarning: The parameter 'pretrained' is deprecated since 0.13 and may be removed in the future, please use 'weights' instead.\n",
      "  warnings.warn(\n",
      "/home/asufian/.local/share/pipx/venvs/notebook/lib/python3.12/site-packages/torchvision/models/_utils.py:223: UserWarning: Arguments other than a weight enum or `None` for 'weights' are deprecated since 0.13 and may be removed in the future. The current behavior is equivalent to passing `weights=None`.\n",
      "  warnings.warn(msg)\n"
     ]
    },
    {
     "name": "stdout",
     "output_type": "stream",
     "text": [
      "----------------------> 0.5345238095238095\n",
      "Evaluated Accuracy: 0.5345\n",
      "Testing b_a_r = 0.9947, c_a_r = 0.0850, f_a_r = 0.0061\n"
     ]
    },
    {
     "name": "stderr",
     "output_type": "stream",
     "text": [
      "/home/asufian/.local/share/pipx/venvs/notebook/lib/python3.12/site-packages/torchvision/models/_utils.py:208: UserWarning: The parameter 'pretrained' is deprecated since 0.13 and may be removed in the future, please use 'weights' instead.\n",
      "  warnings.warn(\n",
      "/home/asufian/.local/share/pipx/venvs/notebook/lib/python3.12/site-packages/torchvision/models/_utils.py:223: UserWarning: Arguments other than a weight enum or `None` for 'weights' are deprecated since 0.13 and may be removed in the future. The current behavior is equivalent to passing `weights=None`.\n",
      "  warnings.warn(msg)\n"
     ]
    },
    {
     "name": "stdout",
     "output_type": "stream",
     "text": [
      "----------------------> 0.8007440476190476\n",
      "Evaluated Accuracy: 0.8007\n",
      "Testing b_a_r = 0.9058, c_a_r = 0.3176, f_a_r = 0.6050\n"
     ]
    },
    {
     "name": "stderr",
     "output_type": "stream",
     "text": [
      "/home/asufian/.local/share/pipx/venvs/notebook/lib/python3.12/site-packages/torchvision/models/_utils.py:208: UserWarning: The parameter 'pretrained' is deprecated since 0.13 and may be removed in the future, please use 'weights' instead.\n",
      "  warnings.warn(\n",
      "/home/asufian/.local/share/pipx/venvs/notebook/lib/python3.12/site-packages/torchvision/models/_utils.py:223: UserWarning: Arguments other than a weight enum or `None` for 'weights' are deprecated since 0.13 and may be removed in the future. The current behavior is equivalent to passing `weights=None`.\n",
      "  warnings.warn(msg)\n"
     ]
    },
    {
     "name": "stdout",
     "output_type": "stream",
     "text": [
      "----------------------> 0.7566964285714287\n",
      "Evaluated Accuracy: 0.7567\n",
      "Testing b_a_r = 0.9777, c_a_r = 0.0834, f_a_r = 0.5506\n"
     ]
    },
    {
     "name": "stderr",
     "output_type": "stream",
     "text": [
      "/home/asufian/.local/share/pipx/venvs/notebook/lib/python3.12/site-packages/torchvision/models/_utils.py:208: UserWarning: The parameter 'pretrained' is deprecated since 0.13 and may be removed in the future, please use 'weights' instead.\n",
      "  warnings.warn(\n",
      "/home/asufian/.local/share/pipx/venvs/notebook/lib/python3.12/site-packages/torchvision/models/_utils.py:223: UserWarning: Arguments other than a weight enum or `None` for 'weights' are deprecated since 0.13 and may be removed in the future. The current behavior is equivalent to passing `weights=None`.\n",
      "  warnings.warn(msg)\n"
     ]
    },
    {
     "name": "stdout",
     "output_type": "stream",
     "text": [
      "----------------------> 0.8465773809523808\n",
      "Evaluated Accuracy: 0.8466\n",
      "Testing b_a_r = 0.9860, c_a_r = 0.2453, f_a_r = 0.6289\n"
     ]
    },
    {
     "name": "stderr",
     "output_type": "stream",
     "text": [
      "/home/asufian/.local/share/pipx/venvs/notebook/lib/python3.12/site-packages/torchvision/models/_utils.py:208: UserWarning: The parameter 'pretrained' is deprecated since 0.13 and may be removed in the future, please use 'weights' instead.\n",
      "  warnings.warn(\n",
      "/home/asufian/.local/share/pipx/venvs/notebook/lib/python3.12/site-packages/torchvision/models/_utils.py:223: UserWarning: Arguments other than a weight enum or `None` for 'weights' are deprecated since 0.13 and may be removed in the future. The current behavior is equivalent to passing `weights=None`.\n",
      "  warnings.warn(msg)\n"
     ]
    },
    {
     "name": "stdout",
     "output_type": "stream",
     "text": [
      "----------------------> 0.8494047619047619\n",
      "Evaluated Accuracy: 0.8494\n",
      "Testing b_a_r = 0.0049, c_a_r = 0.9976, f_a_r = 0.9634\n"
     ]
    },
    {
     "name": "stderr",
     "output_type": "stream",
     "text": [
      "/home/asufian/.local/share/pipx/venvs/notebook/lib/python3.12/site-packages/torchvision/models/_utils.py:208: UserWarning: The parameter 'pretrained' is deprecated since 0.13 and may be removed in the future, please use 'weights' instead.\n",
      "  warnings.warn(\n",
      "/home/asufian/.local/share/pipx/venvs/notebook/lib/python3.12/site-packages/torchvision/models/_utils.py:223: UserWarning: Arguments other than a weight enum or `None` for 'weights' are deprecated since 0.13 and may be removed in the future. The current behavior is equivalent to passing `weights=None`.\n",
      "  warnings.warn(msg)\n"
     ]
    },
    {
     "name": "stdout",
     "output_type": "stream",
     "text": [
      "----------------------> 0.2848214285714286\n",
      "Evaluated Accuracy: 0.2848\n",
      "Testing b_a_r = 0.0445, c_a_r = 0.6964, f_a_r = 0.3529\n"
     ]
    },
    {
     "name": "stderr",
     "output_type": "stream",
     "text": [
      "/home/asufian/.local/share/pipx/venvs/notebook/lib/python3.12/site-packages/torchvision/models/_utils.py:208: UserWarning: The parameter 'pretrained' is deprecated since 0.13 and may be removed in the future, please use 'weights' instead.\n",
      "  warnings.warn(\n",
      "/home/asufian/.local/share/pipx/venvs/notebook/lib/python3.12/site-packages/torchvision/models/_utils.py:223: UserWarning: Arguments other than a weight enum or `None` for 'weights' are deprecated since 0.13 and may be removed in the future. The current behavior is equivalent to passing `weights=None`.\n",
      "  warnings.warn(msg)\n"
     ]
    },
    {
     "name": "stdout",
     "output_type": "stream",
     "text": [
      "----------------------> 0.46532738095238096\n",
      "Evaluated Accuracy: 0.4653\n",
      "Testing b_a_r = 0.8398, c_a_r = 0.1934, f_a_r = 0.9943\n"
     ]
    },
    {
     "name": "stderr",
     "output_type": "stream",
     "text": [
      "/home/asufian/.local/share/pipx/venvs/notebook/lib/python3.12/site-packages/torchvision/models/_utils.py:208: UserWarning: The parameter 'pretrained' is deprecated since 0.13 and may be removed in the future, please use 'weights' instead.\n",
      "  warnings.warn(\n",
      "/home/asufian/.local/share/pipx/venvs/notebook/lib/python3.12/site-packages/torchvision/models/_utils.py:223: UserWarning: Arguments other than a weight enum or `None` for 'weights' are deprecated since 0.13 and may be removed in the future. The current behavior is equivalent to passing `weights=None`.\n",
      "  warnings.warn(msg)\n"
     ]
    },
    {
     "name": "stdout",
     "output_type": "stream",
     "text": [
      "----------------------> 0.8453869047619048\n",
      "Evaluated Accuracy: 0.8454\n",
      "Testing b_a_r = 0.0586, c_a_r = 0.1685, f_a_r = 0.5877\n"
     ]
    },
    {
     "name": "stderr",
     "output_type": "stream",
     "text": [
      "/home/asufian/.local/share/pipx/venvs/notebook/lib/python3.12/site-packages/torchvision/models/_utils.py:208: UserWarning: The parameter 'pretrained' is deprecated since 0.13 and may be removed in the future, please use 'weights' instead.\n",
      "  warnings.warn(\n",
      "/home/asufian/.local/share/pipx/venvs/notebook/lib/python3.12/site-packages/torchvision/models/_utils.py:223: UserWarning: Arguments other than a weight enum or `None` for 'weights' are deprecated since 0.13 and may be removed in the future. The current behavior is equivalent to passing `weights=None`.\n",
      "  warnings.warn(msg)\n"
     ]
    },
    {
     "name": "stdout",
     "output_type": "stream",
     "text": [
      "----------------------> 0.8476190476190477\n",
      "Evaluated Accuracy: 0.8476\n",
      "Testing b_a_r = 0.9476, c_a_r = 0.4715, f_a_r = 0.5466\n"
     ]
    },
    {
     "name": "stderr",
     "output_type": "stream",
     "text": [
      "/home/asufian/.local/share/pipx/venvs/notebook/lib/python3.12/site-packages/torchvision/models/_utils.py:208: UserWarning: The parameter 'pretrained' is deprecated since 0.13 and may be removed in the future, please use 'weights' instead.\n",
      "  warnings.warn(\n",
      "/home/asufian/.local/share/pipx/venvs/notebook/lib/python3.12/site-packages/torchvision/models/_utils.py:223: UserWarning: Arguments other than a weight enum or `None` for 'weights' are deprecated since 0.13 and may be removed in the future. The current behavior is equivalent to passing `weights=None`.\n",
      "  warnings.warn(msg)\n"
     ]
    },
    {
     "name": "stdout",
     "output_type": "stream",
     "text": [
      "----------------------> 0.5547619047619047\n",
      "Evaluated Accuracy: 0.5548\n",
      "Testing b_a_r = 0.9744, c_a_r = 0.0222, f_a_r = 0.3449\n"
     ]
    },
    {
     "name": "stderr",
     "output_type": "stream",
     "text": [
      "/home/asufian/.local/share/pipx/venvs/notebook/lib/python3.12/site-packages/torchvision/models/_utils.py:208: UserWarning: The parameter 'pretrained' is deprecated since 0.13 and may be removed in the future, please use 'weights' instead.\n",
      "  warnings.warn(\n",
      "/home/asufian/.local/share/pipx/venvs/notebook/lib/python3.12/site-packages/torchvision/models/_utils.py:223: UserWarning: Arguments other than a weight enum or `None` for 'weights' are deprecated since 0.13 and may be removed in the future. The current behavior is equivalent to passing `weights=None`.\n",
      "  warnings.warn(msg)\n"
     ]
    },
    {
     "name": "stdout",
     "output_type": "stream",
     "text": [
      "----------------------> 0.7686011904761904\n",
      "Evaluated Accuracy: 0.7686\n",
      "Testing b_a_r = 0.0585, c_a_r = 0.2771, f_a_r = 0.2295\n"
     ]
    },
    {
     "name": "stderr",
     "output_type": "stream",
     "text": [
      "/home/asufian/.local/share/pipx/venvs/notebook/lib/python3.12/site-packages/torchvision/models/_utils.py:208: UserWarning: The parameter 'pretrained' is deprecated since 0.13 and may be removed in the future, please use 'weights' instead.\n",
      "  warnings.warn(\n",
      "/home/asufian/.local/share/pipx/venvs/notebook/lib/python3.12/site-packages/torchvision/models/_utils.py:223: UserWarning: Arguments other than a weight enum or `None` for 'weights' are deprecated since 0.13 and may be removed in the future. The current behavior is equivalent to passing `weights=None`.\n",
      "  warnings.warn(msg)\n"
     ]
    },
    {
     "name": "stdout",
     "output_type": "stream",
     "text": [
      "----------------------> 0.8200892857142857\n",
      "Evaluated Accuracy: 0.8201\n",
      "Testing b_a_r = 0.0625, c_a_r = 0.1345, f_a_r = 0.8400\n"
     ]
    },
    {
     "name": "stderr",
     "output_type": "stream",
     "text": [
      "/home/asufian/.local/share/pipx/venvs/notebook/lib/python3.12/site-packages/torchvision/models/_utils.py:208: UserWarning: The parameter 'pretrained' is deprecated since 0.13 and may be removed in the future, please use 'weights' instead.\n",
      "  warnings.warn(\n",
      "/home/asufian/.local/share/pipx/venvs/notebook/lib/python3.12/site-packages/torchvision/models/_utils.py:223: UserWarning: Arguments other than a weight enum or `None` for 'weights' are deprecated since 0.13 and may be removed in the future. The current behavior is equivalent to passing `weights=None`.\n",
      "  warnings.warn(msg)\n"
     ]
    },
    {
     "name": "stdout",
     "output_type": "stream",
     "text": [
      "----------------------> 0.8507440476190475\n",
      "Evaluated Accuracy: 0.8507\n",
      "Testing b_a_r = 0.0448, c_a_r = 0.0332, f_a_r = 0.9016\n"
     ]
    },
    {
     "name": "stderr",
     "output_type": "stream",
     "text": [
      "/home/asufian/.local/share/pipx/venvs/notebook/lib/python3.12/site-packages/torchvision/models/_utils.py:208: UserWarning: The parameter 'pretrained' is deprecated since 0.13 and may be removed in the future, please use 'weights' instead.\n",
      "  warnings.warn(\n",
      "/home/asufian/.local/share/pipx/venvs/notebook/lib/python3.12/site-packages/torchvision/models/_utils.py:223: UserWarning: Arguments other than a weight enum or `None` for 'weights' are deprecated since 0.13 and may be removed in the future. The current behavior is equivalent to passing `weights=None`.\n",
      "  warnings.warn(msg)\n"
     ]
    },
    {
     "name": "stdout",
     "output_type": "stream",
     "text": [
      "----------------------> 0.8291666666666666\n",
      "Evaluated Accuracy: 0.8292\n",
      "Testing b_a_r = 0.3511, c_a_r = 0.5234, f_a_r = 0.0067\n"
     ]
    },
    {
     "name": "stderr",
     "output_type": "stream",
     "text": [
      "/home/asufian/.local/share/pipx/venvs/notebook/lib/python3.12/site-packages/torchvision/models/_utils.py:208: UserWarning: The parameter 'pretrained' is deprecated since 0.13 and may be removed in the future, please use 'weights' instead.\n",
      "  warnings.warn(\n",
      "/home/asufian/.local/share/pipx/venvs/notebook/lib/python3.12/site-packages/torchvision/models/_utils.py:223: UserWarning: Arguments other than a weight enum or `None` for 'weights' are deprecated since 0.13 and may be removed in the future. The current behavior is equivalent to passing `weights=None`.\n",
      "  warnings.warn(msg)\n"
     ]
    },
    {
     "name": "stdout",
     "output_type": "stream",
     "text": [
      "----------------------> 0.5458333333333333\n",
      "Evaluated Accuracy: 0.5458\n",
      "Testing b_a_r = 0.1652, c_a_r = 0.8777, f_a_r = 0.3185\n"
     ]
    },
    {
     "name": "stderr",
     "output_type": "stream",
     "text": [
      "/home/asufian/.local/share/pipx/venvs/notebook/lib/python3.12/site-packages/torchvision/models/_utils.py:208: UserWarning: The parameter 'pretrained' is deprecated since 0.13 and may be removed in the future, please use 'weights' instead.\n",
      "  warnings.warn(\n",
      "/home/asufian/.local/share/pipx/venvs/notebook/lib/python3.12/site-packages/torchvision/models/_utils.py:223: UserWarning: Arguments other than a weight enum or `None` for 'weights' are deprecated since 0.13 and may be removed in the future. The current behavior is equivalent to passing `weights=None`.\n",
      "  warnings.warn(msg)\n"
     ]
    },
    {
     "name": "stdout",
     "output_type": "stream",
     "text": [
      "----------------------> 0.31428571428571433\n",
      "Evaluated Accuracy: 0.3143\n",
      "Testing b_a_r = 0.2377, c_a_r = 0.0456, f_a_r = 0.0019\n"
     ]
    },
    {
     "name": "stderr",
     "output_type": "stream",
     "text": [
      "/home/asufian/.local/share/pipx/venvs/notebook/lib/python3.12/site-packages/torchvision/models/_utils.py:208: UserWarning: The parameter 'pretrained' is deprecated since 0.13 and may be removed in the future, please use 'weights' instead.\n",
      "  warnings.warn(\n",
      "/home/asufian/.local/share/pipx/venvs/notebook/lib/python3.12/site-packages/torchvision/models/_utils.py:223: UserWarning: Arguments other than a weight enum or `None` for 'weights' are deprecated since 0.13 and may be removed in the future. The current behavior is equivalent to passing `weights=None`.\n",
      "  warnings.warn(msg)\n"
     ]
    },
    {
     "name": "stdout",
     "output_type": "stream",
     "text": [
      "----------------------> 0.7776785714285714\n",
      "Evaluated Accuracy: 0.7777\n",
      "Testing b_a_r = 0.9971, c_a_r = 0.2445, f_a_r = 0.0851\n"
     ]
    },
    {
     "name": "stderr",
     "output_type": "stream",
     "text": [
      "/home/asufian/.local/share/pipx/venvs/notebook/lib/python3.12/site-packages/torchvision/models/_utils.py:208: UserWarning: The parameter 'pretrained' is deprecated since 0.13 and may be removed in the future, please use 'weights' instead.\n",
      "  warnings.warn(\n",
      "/home/asufian/.local/share/pipx/venvs/notebook/lib/python3.12/site-packages/torchvision/models/_utils.py:223: UserWarning: Arguments other than a weight enum or `None` for 'weights' are deprecated since 0.13 and may be removed in the future. The current behavior is equivalent to passing `weights=None`.\n",
      "  warnings.warn(msg)\n"
     ]
    },
    {
     "name": "stdout",
     "output_type": "stream",
     "text": [
      "----------------------> 0.8136904761904761\n",
      "Evaluated Accuracy: 0.8137\n",
      "Testing b_a_r = 0.0130, c_a_r = 0.2054, f_a_r = 0.6395\n"
     ]
    },
    {
     "name": "stderr",
     "output_type": "stream",
     "text": [
      "/home/asufian/.local/share/pipx/venvs/notebook/lib/python3.12/site-packages/torchvision/models/_utils.py:208: UserWarning: The parameter 'pretrained' is deprecated since 0.13 and may be removed in the future, please use 'weights' instead.\n",
      "  warnings.warn(\n",
      "/home/asufian/.local/share/pipx/venvs/notebook/lib/python3.12/site-packages/torchvision/models/_utils.py:223: UserWarning: Arguments other than a weight enum or `None` for 'weights' are deprecated since 0.13 and may be removed in the future. The current behavior is equivalent to passing `weights=None`.\n",
      "  warnings.warn(msg)\n"
     ]
    },
    {
     "name": "stdout",
     "output_type": "stream",
     "text": [
      "----------------------> 0.855357142857143\n",
      "Evaluated Accuracy: 0.8554\n",
      "Testing b_a_r = 0.0145, c_a_r = 0.0564, f_a_r = 0.5448\n"
     ]
    },
    {
     "name": "stderr",
     "output_type": "stream",
     "text": [
      "/home/asufian/.local/share/pipx/venvs/notebook/lib/python3.12/site-packages/torchvision/models/_utils.py:208: UserWarning: The parameter 'pretrained' is deprecated since 0.13 and may be removed in the future, please use 'weights' instead.\n",
      "  warnings.warn(\n",
      "/home/asufian/.local/share/pipx/venvs/notebook/lib/python3.12/site-packages/torchvision/models/_utils.py:223: UserWarning: Arguments other than a weight enum or `None` for 'weights' are deprecated since 0.13 and may be removed in the future. The current behavior is equivalent to passing `weights=None`.\n",
      "  warnings.warn(msg)\n"
     ]
    },
    {
     "name": "stdout",
     "output_type": "stream",
     "text": [
      "----------------------> 0.8325892857142856\n",
      "Evaluated Accuracy: 0.8326\n",
      "Testing b_a_r = 0.9546, c_a_r = 0.2453, f_a_r = 0.9346\n"
     ]
    },
    {
     "name": "stderr",
     "output_type": "stream",
     "text": [
      "/home/asufian/.local/share/pipx/venvs/notebook/lib/python3.12/site-packages/torchvision/models/_utils.py:208: UserWarning: The parameter 'pretrained' is deprecated since 0.13 and may be removed in the future, please use 'weights' instead.\n",
      "  warnings.warn(\n",
      "/home/asufian/.local/share/pipx/venvs/notebook/lib/python3.12/site-packages/torchvision/models/_utils.py:223: UserWarning: Arguments other than a weight enum or `None` for 'weights' are deprecated since 0.13 and may be removed in the future. The current behavior is equivalent to passing `weights=None`.\n",
      "  warnings.warn(msg)\n"
     ]
    },
    {
     "name": "stdout",
     "output_type": "stream",
     "text": [
      "----------------------> 0.8239583333333332\n",
      "Evaluated Accuracy: 0.8240\n",
      "Testing b_a_r = 0.0051, c_a_r = 0.2817, f_a_r = 0.5338\n"
     ]
    },
    {
     "name": "stderr",
     "output_type": "stream",
     "text": [
      "/home/asufian/.local/share/pipx/venvs/notebook/lib/python3.12/site-packages/torchvision/models/_utils.py:208: UserWarning: The parameter 'pretrained' is deprecated since 0.13 and may be removed in the future, please use 'weights' instead.\n",
      "  warnings.warn(\n",
      "/home/asufian/.local/share/pipx/venvs/notebook/lib/python3.12/site-packages/torchvision/models/_utils.py:223: UserWarning: Arguments other than a weight enum or `None` for 'weights' are deprecated since 0.13 and may be removed in the future. The current behavior is equivalent to passing `weights=None`.\n",
      "  warnings.warn(msg)\n"
     ]
    },
    {
     "name": "stdout",
     "output_type": "stream",
     "text": [
      "----------------------> 0.8257440476190477\n",
      "Evaluated Accuracy: 0.8257\n",
      "Testing b_a_r = 0.9583, c_a_r = 0.6217, f_a_r = 0.9948\n"
     ]
    },
    {
     "name": "stderr",
     "output_type": "stream",
     "text": [
      "/home/asufian/.local/share/pipx/venvs/notebook/lib/python3.12/site-packages/torchvision/models/_utils.py:208: UserWarning: The parameter 'pretrained' is deprecated since 0.13 and may be removed in the future, please use 'weights' instead.\n",
      "  warnings.warn(\n",
      "/home/asufian/.local/share/pipx/venvs/notebook/lib/python3.12/site-packages/torchvision/models/_utils.py:223: UserWarning: Arguments other than a weight enum or `None` for 'weights' are deprecated since 0.13 and may be removed in the future. The current behavior is equivalent to passing `weights=None`.\n",
      "  warnings.warn(msg)\n"
     ]
    },
    {
     "name": "stdout",
     "output_type": "stream",
     "text": [
      "----------------------> 0.5053571428571427\n",
      "Evaluated Accuracy: 0.5054\n",
      "Testing b_a_r = 0.0889, c_a_r = 0.3638, f_a_r = 0.0035\n"
     ]
    },
    {
     "name": "stderr",
     "output_type": "stream",
     "text": [
      "/home/asufian/.local/share/pipx/venvs/notebook/lib/python3.12/site-packages/torchvision/models/_utils.py:208: UserWarning: The parameter 'pretrained' is deprecated since 0.13 and may be removed in the future, please use 'weights' instead.\n",
      "  warnings.warn(\n",
      "/home/asufian/.local/share/pipx/venvs/notebook/lib/python3.12/site-packages/torchvision/models/_utils.py:223: UserWarning: Arguments other than a weight enum or `None` for 'weights' are deprecated since 0.13 and may be removed in the future. The current behavior is equivalent to passing `weights=None`.\n",
      "  warnings.warn(msg)\n"
     ]
    },
    {
     "name": "stdout",
     "output_type": "stream",
     "text": [
      "----------------------> 0.6921130952380953\n",
      "Evaluated Accuracy: 0.6921\n",
      "Testing b_a_r = 0.0306, c_a_r = 0.3842, f_a_r = 0.4256\n"
     ]
    },
    {
     "name": "stderr",
     "output_type": "stream",
     "text": [
      "/home/asufian/.local/share/pipx/venvs/notebook/lib/python3.12/site-packages/torchvision/models/_utils.py:208: UserWarning: The parameter 'pretrained' is deprecated since 0.13 and may be removed in the future, please use 'weights' instead.\n",
      "  warnings.warn(\n",
      "/home/asufian/.local/share/pipx/venvs/notebook/lib/python3.12/site-packages/torchvision/models/_utils.py:223: UserWarning: Arguments other than a weight enum or `None` for 'weights' are deprecated since 0.13 and may be removed in the future. The current behavior is equivalent to passing `weights=None`.\n",
      "  warnings.warn(msg)\n"
     ]
    },
    {
     "name": "stdout",
     "output_type": "stream",
     "text": [
      "----------------------> 0.644047619047619\n",
      "Evaluated Accuracy: 0.6440\n",
      "Testing b_a_r = 0.0214, c_a_r = 0.1759, f_a_r = 0.1715\n"
     ]
    },
    {
     "name": "stderr",
     "output_type": "stream",
     "text": [
      "/home/asufian/.local/share/pipx/venvs/notebook/lib/python3.12/site-packages/torchvision/models/_utils.py:208: UserWarning: The parameter 'pretrained' is deprecated since 0.13 and may be removed in the future, please use 'weights' instead.\n",
      "  warnings.warn(\n",
      "/home/asufian/.local/share/pipx/venvs/notebook/lib/python3.12/site-packages/torchvision/models/_utils.py:223: UserWarning: Arguments other than a weight enum or `None` for 'weights' are deprecated since 0.13 and may be removed in the future. The current behavior is equivalent to passing `weights=None`.\n",
      "  warnings.warn(msg)\n"
     ]
    },
    {
     "name": "stdout",
     "output_type": "stream",
     "text": [
      "----------------------> 0.8133928571428571\n",
      "Evaluated Accuracy: 0.8134\n",
      "Testing b_a_r = 0.0094, c_a_r = 0.0808, f_a_r = 0.9170\n"
     ]
    },
    {
     "name": "stderr",
     "output_type": "stream",
     "text": [
      "/home/asufian/.local/share/pipx/venvs/notebook/lib/python3.12/site-packages/torchvision/models/_utils.py:208: UserWarning: The parameter 'pretrained' is deprecated since 0.13 and may be removed in the future, please use 'weights' instead.\n",
      "  warnings.warn(\n",
      "/home/asufian/.local/share/pipx/venvs/notebook/lib/python3.12/site-packages/torchvision/models/_utils.py:223: UserWarning: Arguments other than a weight enum or `None` for 'weights' are deprecated since 0.13 and may be removed in the future. The current behavior is equivalent to passing `weights=None`.\n",
      "  warnings.warn(msg)\n"
     ]
    },
    {
     "name": "stdout",
     "output_type": "stream",
     "text": [
      "----------------------> 0.8718749999999998\n",
      "Evaluated Accuracy: 0.8719\n",
      "Testing b_a_r = 0.9831, c_a_r = 0.1685, f_a_r = 0.4819\n"
     ]
    },
    {
     "name": "stderr",
     "output_type": "stream",
     "text": [
      "/home/asufian/.local/share/pipx/venvs/notebook/lib/python3.12/site-packages/torchvision/models/_utils.py:208: UserWarning: The parameter 'pretrained' is deprecated since 0.13 and may be removed in the future, please use 'weights' instead.\n",
      "  warnings.warn(\n",
      "/home/asufian/.local/share/pipx/venvs/notebook/lib/python3.12/site-packages/torchvision/models/_utils.py:223: UserWarning: Arguments other than a weight enum or `None` for 'weights' are deprecated since 0.13 and may be removed in the future. The current behavior is equivalent to passing `weights=None`.\n",
      "  warnings.warn(msg)\n"
     ]
    },
    {
     "name": "stdout",
     "output_type": "stream",
     "text": [
      "----------------------> 0.8464285714285714\n",
      "Evaluated Accuracy: 0.8464\n",
      "Testing b_a_r = 0.9547, c_a_r = 0.7836, f_a_r = 0.6203\n"
     ]
    },
    {
     "name": "stderr",
     "output_type": "stream",
     "text": [
      "/home/asufian/.local/share/pipx/venvs/notebook/lib/python3.12/site-packages/torchvision/models/_utils.py:208: UserWarning: The parameter 'pretrained' is deprecated since 0.13 and may be removed in the future, please use 'weights' instead.\n",
      "  warnings.warn(\n",
      "/home/asufian/.local/share/pipx/venvs/notebook/lib/python3.12/site-packages/torchvision/models/_utils.py:223: UserWarning: Arguments other than a weight enum or `None` for 'weights' are deprecated since 0.13 and may be removed in the future. The current behavior is equivalent to passing `weights=None`.\n",
      "  warnings.warn(msg)\n"
     ]
    },
    {
     "name": "stdout",
     "output_type": "stream",
     "text": [
      "----------------------> 0.30565476190476193\n",
      "Evaluated Accuracy: 0.3057\n",
      "Testing b_a_r = 0.0462, c_a_r = 0.1005, f_a_r = 0.5241\n"
     ]
    },
    {
     "name": "stderr",
     "output_type": "stream",
     "text": [
      "/home/asufian/.local/share/pipx/venvs/notebook/lib/python3.12/site-packages/torchvision/models/_utils.py:208: UserWarning: The parameter 'pretrained' is deprecated since 0.13 and may be removed in the future, please use 'weights' instead.\n",
      "  warnings.warn(\n",
      "/home/asufian/.local/share/pipx/venvs/notebook/lib/python3.12/site-packages/torchvision/models/_utils.py:223: UserWarning: Arguments other than a weight enum or `None` for 'weights' are deprecated since 0.13 and may be removed in the future. The current behavior is equivalent to passing `weights=None`.\n",
      "  warnings.warn(msg)\n"
     ]
    },
    {
     "name": "stdout",
     "output_type": "stream",
     "text": [
      "----------------------> 0.8495535714285714\n",
      "Evaluated Accuracy: 0.8496\n",
      "Testing b_a_r = 0.9987, c_a_r = 0.1107, f_a_r = 0.7865\n"
     ]
    },
    {
     "name": "stderr",
     "output_type": "stream",
     "text": [
      "/home/asufian/.local/share/pipx/venvs/notebook/lib/python3.12/site-packages/torchvision/models/_utils.py:208: UserWarning: The parameter 'pretrained' is deprecated since 0.13 and may be removed in the future, please use 'weights' instead.\n",
      "  warnings.warn(\n",
      "/home/asufian/.local/share/pipx/venvs/notebook/lib/python3.12/site-packages/torchvision/models/_utils.py:223: UserWarning: Arguments other than a weight enum or `None` for 'weights' are deprecated since 0.13 and may be removed in the future. The current behavior is equivalent to passing `weights=None`.\n",
      "  warnings.warn(msg)\n"
     ]
    },
    {
     "name": "stdout",
     "output_type": "stream",
     "text": [
      "----------------------> 0.856547619047619\n",
      "Evaluated Accuracy: 0.8565\n",
      "Testing b_a_r = 0.9985, c_a_r = 0.0158, f_a_r = 0.7787\n"
     ]
    },
    {
     "name": "stderr",
     "output_type": "stream",
     "text": [
      "/home/asufian/.local/share/pipx/venvs/notebook/lib/python3.12/site-packages/torchvision/models/_utils.py:208: UserWarning: The parameter 'pretrained' is deprecated since 0.13 and may be removed in the future, please use 'weights' instead.\n",
      "  warnings.warn(\n",
      "/home/asufian/.local/share/pipx/venvs/notebook/lib/python3.12/site-packages/torchvision/models/_utils.py:223: UserWarning: Arguments other than a weight enum or `None` for 'weights' are deprecated since 0.13 and may be removed in the future. The current behavior is equivalent to passing `weights=None`.\n",
      "  warnings.warn(msg)\n"
     ]
    },
    {
     "name": "stdout",
     "output_type": "stream",
     "text": [
      "----------------------> 0.8101190476190475\n",
      "Evaluated Accuracy: 0.8101\n",
      "Testing b_a_r = 0.9927, c_a_r = 0.2202, f_a_r = 0.5487\n"
     ]
    },
    {
     "name": "stderr",
     "output_type": "stream",
     "text": [
      "/home/asufian/.local/share/pipx/venvs/notebook/lib/python3.12/site-packages/torchvision/models/_utils.py:208: UserWarning: The parameter 'pretrained' is deprecated since 0.13 and may be removed in the future, please use 'weights' instead.\n",
      "  warnings.warn(\n",
      "/home/asufian/.local/share/pipx/venvs/notebook/lib/python3.12/site-packages/torchvision/models/_utils.py:223: UserWarning: Arguments other than a weight enum or `None` for 'weights' are deprecated since 0.13 and may be removed in the future. The current behavior is equivalent to passing `weights=None`.\n",
      "  warnings.warn(msg)\n"
     ]
    },
    {
     "name": "stdout",
     "output_type": "stream",
     "text": [
      "----------------------> 0.8642857142857144\n",
      "Evaluated Accuracy: 0.8643\n",
      "Testing b_a_r = 0.0380, c_a_r = 0.2683, f_a_r = 0.9678\n"
     ]
    },
    {
     "name": "stderr",
     "output_type": "stream",
     "text": [
      "/home/asufian/.local/share/pipx/venvs/notebook/lib/python3.12/site-packages/torchvision/models/_utils.py:208: UserWarning: The parameter 'pretrained' is deprecated since 0.13 and may be removed in the future, please use 'weights' instead.\n",
      "  warnings.warn(\n",
      "/home/asufian/.local/share/pipx/venvs/notebook/lib/python3.12/site-packages/torchvision/models/_utils.py:223: UserWarning: Arguments other than a weight enum or `None` for 'weights' are deprecated since 0.13 and may be removed in the future. The current behavior is equivalent to passing `weights=None`.\n",
      "  warnings.warn(msg)\n"
     ]
    },
    {
     "name": "stdout",
     "output_type": "stream",
     "text": [
      "----------------------> 0.7895833333333333\n",
      "Evaluated Accuracy: 0.7896\n",
      "\n",
      "✅ Optimal Values:\n",
      "   - b_a_r: 0.0000\n",
      "   - c_a_r: 0.0828\n",
      "   - f_a_r: 1.0000\n",
      "📈 Highest Accuracy Achieved: 0.8720\n"
     ]
    }
   ],
   "source": [
    "import numpy as np\n",
    "import torch\n",
    "import matplotlib.pyplot as plt\n",
    "from skopt import gp_minimize\n",
    "from skopt.space import Real\n",
    "from skopt.utils import use_named_args\n",
    "from skopt.plots import plot_convergence\n",
    "\n",
    "# Device setup\n",
    "device = torch.device(\"cuda\" if torch.cuda.is_available() else \"cpu\")\n",
    "\n",
    "\n",
    "# Define the search space for b_a_r, c_a_r, and f_a_r\n",
    "search_space = [\n",
    "    Real(0.0, 1.0, name=\"b_a_r\"),\n",
    "    Real(0.0, 1.0, name=\"c_a_r\"),\n",
    "    Real(0.0, 1.0, name=\"f_a_r\")\n",
    "]\n",
    "\n",
    "# Define the objective function for Bayesian Optimization\n",
    "@use_named_args(search_space)\n",
    "def objective(b_a_r, c_a_r, f_a_r):\n",
    "    \"\"\"\n",
    "    Objective function to optimize the adaptation ratios.\n",
    "    It applies adaptation, evaluates the model, and returns the negative accuracy.\n",
    "    \"\"\"\n",
    "    accuracy = get_model_accuracy(b_a_r, c_a_r, f_a_r)\n",
    "    print(f\"Evaluated Accuracy: {accuracy:.4f}\")  # Debugging Output\n",
    "    \n",
    "    return -accuracy  # We minimize, so return negative accuracy\n",
    "\n",
    "# Perform Bayesian Optimization with additional settings\n",
    "search_iteration=80\n",
    "res = gp_minimize(\n",
    "    func=objective,\n",
    "    dimensions=search_space,\n",
    "    n_calls=search_iteration,               # Number of evaluations\n",
    "    n_initial_points=5,       # Initial random explorations before GP starts\n",
    "    acq_func=\"EI\",            # Acquisition function: Expected Improvement\n",
    "    random_state=42,          # Ensure reproducibility\n",
    "    n_jobs=-1,                # Parallel execution for faster optimization\n",
    ")\n",
    "\n",
    "# Extract optimal results\n",
    "optimal_b_a_r, optimal_c_a_r, optimal_f_a_r = res.x\n",
    "best_accuracy = -res.fun\n",
    "\n",
    "print(f\"\\n✅ Optimal Values:\")\n",
    "print(f\"   - b_a_r: {optimal_b_a_r:.4f}\")\n",
    "print(f\"   - c_a_r: {optimal_c_a_r:.4f}\")\n",
    "print(f\"   - f_a_r: {optimal_f_a_r:.4f}\")\n",
    "print(f\"📈 Highest Accuracy Achieved: {best_accuracy:.4f}\")\n",
    "\n",
    "\n"
   ]
  },
  {
   "cell_type": "code",
   "execution_count": null,
   "metadata": {},
   "outputs": [],
   "source": []
  },
  {
   "cell_type": "code",
   "execution_count": 88,
   "metadata": {},
   "outputs": [
    {
     "name": "stderr",
     "output_type": "stream",
     "text": [
      "/home/asufian/.local/share/pipx/venvs/notebook/lib/python3.12/site-packages/torchvision/models/_utils.py:208: UserWarning: The parameter 'pretrained' is deprecated since 0.13 and may be removed in the future, please use 'weights' instead.\n",
      "  warnings.warn(\n",
      "/home/asufian/.local/share/pipx/venvs/notebook/lib/python3.12/site-packages/torchvision/models/_utils.py:223: UserWarning: Arguments other than a weight enum or `None` for 'weights' are deprecated since 0.13 and may be removed in the future. The current behavior is equivalent to passing `weights=None`.\n",
      "  warnings.warn(msg)\n"
     ]
    },
    {
     "name": "stdout",
     "output_type": "stream",
     "text": [
      "---Accu-----pre----rec---------> 0.7259 ± 0.0547  0.7357 ± 0.0563  0.7259 ± 0.0547\n"
     ]
    },
    {
     "name": "stderr",
     "output_type": "stream",
     "text": [
      "/home/asufian/.local/share/pipx/venvs/notebook/lib/python3.12/site-packages/torchvision/models/_utils.py:208: UserWarning: The parameter 'pretrained' is deprecated since 0.13 and may be removed in the future, please use 'weights' instead.\n",
      "  warnings.warn(\n",
      "/home/asufian/.local/share/pipx/venvs/notebook/lib/python3.12/site-packages/torchvision/models/_utils.py:223: UserWarning: Arguments other than a weight enum or `None` for 'weights' are deprecated since 0.13 and may be removed in the future. The current behavior is equivalent to passing `weights=None`.\n",
      "  warnings.warn(msg)\n"
     ]
    },
    {
     "name": "stdout",
     "output_type": "stream",
     "text": [
      "---Accu-----pre----rec---------> 0.5624 ± 0.0649  0.5727 ± 0.0628  0.5624 ± 0.0649\n",
      "---Accu-----pre----rec---------> 0.8720 ± 0.0406  0.8778 ± 0.0412  0.8720 ± 0.0406\n"
     ]
    }
   ],
   "source": [
    "convolutional_network_with_dropout = ResNet18WithDropout(pretrained=False, dr=0.0)\n",
    "convolutional_network_with_dropout.fc = nn.Flatten()\n",
    "xyz = convolutional_network_with_dropout\n",
    "M3 = PrototypicalNetworks_dynamic_query(xyz).to(device)\n",
    "M3.load_state_dict(torch.load('model_own_path.pt'))\n",
    "evaluate2('/home/asufian/Desktop/output_olchiki/resnet_resluts/base/8_w_10_s_f', test_loader, M3, criterion)\n",
    "# Load Model M2\n",
    "convolutional_network_with_dropout = ResNet18WithDropout(pretrained=False, dr=0.0)\n",
    "convolutional_network_with_dropout.fc = nn.Flatten()\n",
    "xyz2 = convolutional_network_with_dropout\n",
    "M2 = PrototypicalNetworks_dynamic_query(xyz2).to(device)\n",
    "M2.load_state_dict(torch.load('model_mu_path.pt'))\n",
    "evaluate2(\"/home/asufian/Desktop/output_olchiki/resnet_resluts/secondary/8_w_10_s_f\", test_loader, M2, criterion)\n",
    "# Update Model M3's weights using a weighted combination of Model M3 and Model M2\n",
    "update_model_weights2(M3, M2, conv_ratio= optimal_c_a_r , fc_ratio=optimal_f_a_r , bias_ratio=optimal_b_a_r)\n",
    "\n",
    "# Assuming you have the evaluate2 function defined\n",
    "# Evaluate the updated model (M3) using evaluate2 function with some arguments\n",
    "evaluate2(\"/home/asufian/Desktop/output_olchiki/resnet_resluts/amul/8_w_10_s_f\", test_loader, M3, criterion)\n"
   ]
  },
  {
   "cell_type": "code",
   "execution_count": null,
   "metadata": {},
   "outputs": [],
   "source": []
  },
  {
   "cell_type": "code",
   "execution_count": null,
   "metadata": {},
   "outputs": [],
   "source": [
    "###############################################   12 way 1 shot"
   ]
  },
  {
   "cell_type": "code",
   "execution_count": null,
   "metadata": {},
   "outputs": [],
   "source": []
  },
  {
   "cell_type": "code",
   "execution_count": null,
   "metadata": {},
   "outputs": [],
   "source": []
  },
  {
   "cell_type": "code",
   "execution_count": null,
   "metadata": {},
   "outputs": [],
   "source": []
  },
  {
   "cell_type": "code",
   "execution_count": 89,
   "metadata": {},
   "outputs": [],
   "source": [
    "clss_support_imagesss_10_shot=[\n",
    "[[5, 47, 72, 9, 32, 44, 13, 55, 77, 0], [13, 10, 72, 9, 71, 23, 18, 20, 46, 64], [10, 69, 21, 5, 38, 11, 7, 64, 59, 4], [16, 18, 21, 29, 43, 9, 19, 66, 63, 57], [69, 40, 4, 60, 23, 0, 30, 74, 17, 35], [48, 35, 36, 64, 0, 26, 24, 71, 8, 76], [0, 52, 22, 77, 9, 59, 29, 21, 75, 53], [17, 8, 69, 11, 44, 73, 77, 0, 59, 46], [31, 41, 17, 37, 16, 54, 40, 39, 25, 42], [19, 65, 62, 13, 5, 67, 4, 69, 76, 0], [44, 74, 53, 28, 58, 15, 43, 55, 34, 50], [29, 63, 21, 27, 39, 67, 33, 71, 1, 19]],\n",
    "    [[79, 47, 13, 50, 68, 9, 4, 12, 62, 24], [16, 54, 8, 23, 12, 37, 31, 72, 48, 52], [63, 70, 20, 58, 12, 26, 27, 59, 76, 52], [42, 15, 55, 59, 22, 76, 79, 6, 11, 58], [60, 62, 15, 54, 72, 1, 38, 77, 66, 22], [63, 36, 72, 56, 10, 24, 55, 4, 6, 57], [8, 64, 61, 26, 77, 56, 43, 20, 41, 54], [66, 25, 52, 23, 60, 33, 31, 12, 67, 5], [62, 13, 77, 21, 65, 59, 41, 45, 58, 71], [20, 10, 69, 63, 11, 9, 68, 57, 74, 75], [40, 8, 66, 31, 13, 54, 63, 4, 64, 29], [7, 14, 42, 66, 73, 41, 75, 44, 5, 70]],\n",
    "    [[51, 46, 56, 19, 16, 36, 25, 29, 53, 12], [6, 11, 68, 48, 35, 46, 78, 23, 39, 15], [34, 2, 32, 21, 18, 52, 74, 71, 12, 24], [64, 13, 29, 43, 52, 11, 37, 50, 49, 17], [24, 74, 20, 25, 61, 45, 54, 4, 78, 59], [53, 50, 12, 39, 66, 9, 73, 15, 11, 44], [38, 76, 65, 28, 24, 58, 36, 56, 18, 68], [43, 72, 4, 8, 73, 63, 19, 51, 60, 32], [19, 44, 65, 7, 2, 71, 66, 35, 50, 41], [44, 35, 14, 34, 29, 45, 23, 26, 41, 43], [35, 59, 1, 46, 37, 41, 12, 38, 44, 56], [28, 37, 47, 19, 59, 4, 52, 63, 0, 7]],\n",
    "    [[79, 60, 39, 74, 70, 48, 8, 11, 66, 33], [6, 74, 64, 9, 27, 70, 47, 19, 24, 63], [48, 62, 69, 51, 55, 41, 6, 59, 50, 18], [4, 54, 72, 66, 20, 69, 62, 58, 6, 53], [28, 20, 46, 52, 72, 11, 73, 9, 22, 57], [13, 33, 62, 59, 72, 37, 76, 5, 16, 22], [67, 11, 70, 58, 50, 6, 5, 17, 38, 28], [16, 27, 41, 2, 0, 17, 8, 1, 32, 71], [70, 52, 0, 67, 74, 23, 62, 51, 55, 63], [27, 46, 79, 43, 44, 67, 55, 72, 58, 54], [9, 48, 37, 68, 56, 50, 61, 27, 47, 77], [15, 37, 63, 69, 58, 70, 19, 62, 17, 78]],\n",
    "    [[9, 35, 16, 21, 28, 47, 17, 6, 53, 68], [7, 53, 31, 51, 30, 72, 42, 9, 62, 34], [29, 59, 33, 75, 45, 0, 28, 76, 51, 66], [50, 67, 39, 68, 1, 47, 46, 58, 11, 34], [71, 14, 40, 15, 32, 70, 73, 57, 6, 67], [7, 63, 20, 6, 8, 5, 42, 68, 50, 59], [6, 65, 2, 43, 69, 59, 37, 16, 1, 20], [3, 12, 37, 33, 17, 4, 24, 18, 46, 41], [26, 9, 35, 39, 74, 8, 16, 22, 64, 53], [70, 56, 67, 6, 10, 4, 19, 57, 11, 31], [19, 32, 57, 39, 54, 55, 18, 74, 51, 35], [64, 10, 58, 18, 23, 8, 31, 37, 20, 9]],\n",
    "    [[4, 50, 41, 48, 72, 7, 79, 43, 65, 69], [38, 51, 64, 35, 43, 0, 5, 58, 67, 34], [65, 16, 1, 6, 52, 34, 3, 44, 38, 31], [32, 12, 74, 14, 29, 13, 31, 1, 27, 76], [78, 54, 53, 33, 67, 71, 22, 31, 25, 45], [65, 64, 43, 49, 74, 8, 45, 48, 39, 69], [12, 73, 32, 10, 63, 79, 11, 69, 54, 35], [33, 48, 70, 71, 14, 26, 28, 17, 3, 67], [17, 22, 29, 77, 14, 75, 52, 31, 50, 26], [19, 41, 67, 4, 53, 77, 17, 43, 38, 16], [75, 38, 24, 18, 23, 39, 5, 4, 72, 50], [27, 43, 64, 47, 50, 38, 14, 2, 33, 37]],\n",
    "    [[47, 13, 68, 62, 58, 39, 24, 26, 45, 74], [3, 2, 76, 47, 7, 17, 24, 10, 38, 59], [5, 10, 20, 4, 1, 38, 24, 64, 3, 57], [39, 18, 64, 20, 78, 56, 76, 28, 36, 24], [35, 38, 48, 18, 8, 25, 75, 69, 46, 79], [45, 36, 60, 77, 4, 27, 10, 29, 68, 37], [35, 58, 31, 79, 28, 74, 71, 15, 69, 11], [29, 21, 70, 9, 26, 51, 6, 31, 76, 65], [33, 4, 20, 49, 9, 2, 32, 26, 59, 64], [25, 19, 52, 22, 0, 4, 10, 2, 73, 71], [5, 9, 54, 1, 14, 45, 25, 7, 37, 17], [0, 39, 53, 31, 78, 37, 27, 9, 71, 23]],\n",
    "    [[31, 77, 36, 11, 43, 17, 7, 34, 9, 32], [58, 38, 24, 68, 5, 76, 63, 65, 42, 48], [31, 12, 65, 26, 15, 56, 30, 69, 7, 53], [46, 71, 35, 37, 33, 75, 4, 9, 76, 5], [66, 60, 53, 32, 31, 78, 10, 48, 39, 62], [7, 25, 51, 27, 19, 12, 17, 30, 79, 33], [69, 39, 9, 17, 8, 41, 70, 5, 61, 4], [26, 58, 54, 51, 23, 49, 13, 34, 72, 10], [49, 76, 39, 26, 46, 70, 69, 3, 21, 12], [15, 20, 24, 53, 65, 54, 0, 69, 22, 40], [0, 7, 34, 69, 67, 57, 45, 76, 25, 30], [9, 8, 16, 12, 11, 22, 58, 26, 34, 37]],\n",
    "    [[5, 34, 32, 26, 35, 36, 31, 21, 56, 8], [61, 56, 25, 29, 64, 45, 74, 24, 18, 0], [22, 46, 10, 17, 66, 50, 21, 42, 40, 73], [58, 2, 67, 78, 26, 48, 57, 41, 45, 59], [48, 15, 3, 23, 26, 37, 35, 49, 12, 39], [20, 68, 56, 30, 33, 77, 16, 17, 10, 35], [0, 16, 1, 77, 48, 68, 67, 14, 8, 22], [74, 63, 64, 21, 10, 16, 66, 54, 28, 23], [8, 40, 35, 60, 71, 34, 54, 26, 64, 37], [70, 23, 58, 25, 65, 30, 12, 31, 4, 61], [33, 51, 74, 22, 9, 53, 72, 41, 69, 60], [76, 1, 28, 68, 49, 14, 4, 12, 48, 36]],\n",
    "    [[46, 29, 28, 79, 53, 70, 38, 15, 37, 17], [38, 43, 31, 51, 28, 54, 62, 59, 21, 49], [19, 51, 49, 30, 45, 15, 64, 46, 56, 75], [79, 9, 53, 35, 73, 44, 22, 75, 68, 63], [69, 46, 53, 58, 21, 2, 44, 43, 11, 41], [70, 71, 44, 45, 16, 18, 5, 53, 7, 38], [78, 30, 0, 43, 56, 22, 11, 29, 21, 23], [62, 76, 5, 47, 3, 40, 2, 68, 34, 65], [68, 56, 40, 64, 42, 8, 52, 73, 63, 2], [24, 4, 28, 66, 60, 48, 70, 72, 79, 23], [67, 24, 70, 77, 16, 43, 14, 64, 26, 17], [79, 6, 18, 4, 63, 55, 77, 58, 47, 54]],\n",
    "    [[74, 79, 0, 5, 19, 73, 37, 32, 42, 58], [15, 44, 17, 3, 14, 36, 24, 6, 56, 77], [13, 22, 7, 69, 10, 41, 56, 25, 15, 48], [17, 57, 25, 60, 43, 24, 53, 9, 10, 54], [71, 38, 25, 4, 64, 78, 39, 53, 41, 69], [57, 63, 6, 32, 34, 25, 20, 23, 39, 76], [69, 48, 43, 7, 19, 68, 12, 77, 36, 65], [44, 55, 74, 46, 51, 21, 38, 7, 11, 61], [54, 12, 78, 8, 44, 49, 46, 35, 45, 72], [69, 8, 35, 47, 49, 62, 42, 32, 4, 70], [76, 11, 37, 60, 57, 18, 30, 7, 5, 39], [67, 37, 63, 68, 20, 24, 51, 62, 28, 2]],\n",
    "    [[66, 55, 74, 37, 40, 1, 21, 46, 34, 28], [31, 59, 66, 69, 16, 6, 37, 11, 60, 58], [58, 48, 35, 65, 67, 2, 60, 45, 17, 6], [49, 63, 9, 74, 26, 79, 11, 46, 56, 59], [22, 35, 66, 42, 10, 75, 28, 1, 39, 67], [23, 50, 41, 17, 71, 32, 53, 27, 56, 21], [29, 67, 37, 69, 50, 8, 40, 17, 59, 32], [0, 79, 20, 68, 63, 66, 50, 26, 57, 44], [38, 46, 70, 61, 4, 43, 39, 3, 50, 55], [65, 58, 51, 59, 71, 74, 39, 34, 60, 23], [30, 26, 72, 25, 27, 23, 42, 24, 53, 1], [31, 22, 34, 7, 0, 5, 42, 36, 49, 45]]\n",
    "    \n",
    "  ]\n",
    "\n",
    "\n",
    "clss_support_imagesss_5_shot=[\n",
    "    [[5, 47, 72, 9, 32], [13, 10, 72, 9, 71], [10, 69, 21, 5, 38], [16, 18, 21, 29, 43], [69, 40, 4, 60, 23], [48, 35, 36, 64, 0], [0, 52, 22, 77, 9], [17, 8, 69, 11, 44], [31, 41, 17, 37, 16], [19, 65, 62, 13, 5], [44, 74, 53, 28, 58], [29, 63, 21, 27, 39]],\n",
    "    [[79, 47, 13, 50, 68], [16, 54, 8, 23, 12], [63, 70, 20, 58, 12], [42, 15, 55, 59, 22], [60, 62, 15, 54, 72], [63, 36, 72, 56, 10], [8, 64, 61, 26, 77], [66, 25, 52, 23, 60], [62, 13, 77, 21, 65], [20, 10, 69, 63, 11], [40, 8, 66, 31, 13], [7, 14, 42, 66, 73]],\n",
    "    [[51, 46, 56, 19, 16], [6, 11, 68, 48, 35], [34, 2, 32, 21, 18], [64, 13, 29, 43, 52], [24, 74, 20, 25, 61], [53, 50, 12, 39, 66], [38, 76, 65, 28, 24], [43, 72, 4, 8, 73], [19, 44, 65, 7, 2], [44, 35, 14, 34, 29], [35, 59, 1, 46, 37], [28, 37, 47, 19, 59]],\n",
    "    [[79, 60, 39, 74, 70], [6, 74, 64, 9, 27], [48, 62, 69, 51, 55], [4, 54, 72, 66, 20], [28, 20, 46, 52, 72], [13, 33, 62, 59, 72], [67, 11, 70, 58, 50], [16, 27, 41, 2, 0], [70, 52, 0, 67, 74], [27, 46, 79, 43, 44], [9, 48, 37, 68, 56], [15, 37, 63, 69, 58]],\n",
    "    [[9, 35, 16, 21, 28], [7, 53, 31, 51, 30], [29, 59, 33, 75, 45], [50, 67, 39, 68, 1], [71, 14, 40, 15, 32], [7, 63, 20, 6, 8], [6, 65, 2, 43, 69], [3, 12, 37, 33, 17], [26, 9, 35, 39, 74], [70, 56, 67, 6, 10], [19, 32, 57, 39, 54], [64, 10, 58, 18, 23]],\n",
    "    [[4, 50, 41, 48, 72], [38, 51, 64, 35, 43], [65, 16, 1, 6, 52], [32, 12, 74, 14, 29], [78, 54, 53, 33, 67], [65, 64, 43, 49, 74], [12, 73, 32, 10, 63], [33, 48, 70, 71, 14], [17, 22, 29, 77, 14], [19, 41, 67, 4, 53], [75, 38, 24, 18, 23], [27, 43, 64, 47, 50]],\n",
    "    [[47, 13, 68, 62, 58], [3, 2, 76, 47, 7], [5, 10, 20, 4, 1], [39, 18, 64, 20, 78], [35, 38, 48, 18, 8], [45, 36, 60, 77, 4], [35, 58, 31, 79, 28], [29, 21, 70, 9, 26], [33, 4, 20, 49, 9], [25, 19, 52, 22, 0], [5, 9, 54, 1, 14], [0, 39, 53, 31, 78]],\n",
    "    [[31, 77, 36, 11, 43], [58, 38, 24, 68, 5], [31, 12, 65, 26, 15], [46, 71, 35, 37, 33], [66, 60, 53, 32, 31], [7, 25, 51, 27, 19], [69, 39, 9, 17, 8], [26, 58, 54, 51, 23], [49, 76, 39, 26, 46], [15, 20, 24, 53, 65], [0, 7, 34, 69, 67], [9, 8, 16, 12, 11]],\n",
    "    [[5, 34, 32, 26, 35], [61, 56, 25, 29, 64], [22, 46, 10, 17, 66], [58, 2, 67, 78, 26], [48, 15, 3, 23, 26], [20, 68, 56, 30, 33], [0, 16, 1, 77, 48], [74, 63, 64, 21, 10], [8, 40, 35, 60, 71], [70, 23, 58, 25, 65], [33, 51, 74, 22, 9], [76, 1, 28, 68, 49]],\n",
    "    [[46, 29, 28, 79, 53], [38, 43, 31, 51, 28], [19, 51, 49, 30, 45], [79, 9, 53, 35, 73], [69, 46, 53, 58, 21], [70, 71, 44, 45, 16], [78, 30, 0, 43, 56], [62, 76, 5, 47, 3], [68, 56, 40, 64, 42], [24, 4, 28, 66, 60], [67, 24, 70, 77, 16], [79, 6, 18, 4, 63]],\n",
    "    [[74, 79, 0, 5, 19], [15, 44, 17, 3, 14], [13, 22, 7, 69, 10], [17, 57, 25, 60, 43], [71, 38, 25, 4, 64], [57, 63, 6, 32, 34], [69, 48, 43, 7, 19], [44, 55, 74, 46, 51], [54, 12, 78, 8, 44], [69, 8, 35, 47, 49], [76, 11, 37, 60, 57], [67, 37, 63, 68, 20]],\n",
    "    [[66, 55, 74, 37, 40], [31, 59, 66, 69, 16], [58, 48, 35, 65, 67], [49, 63, 9, 74, 26], [22, 35, 66, 42, 10], [23, 50, 41, 17, 71], [29, 67, 37, 69, 50], [0, 79, 20, 68, 63], [38, 46, 70, 61, 4], [65, 58, 51, 59, 71], [30, 26, 72, 25, 27], [31, 22, 34, 7, 0]],\n",
    "    \n",
    "   ]\n",
    "\n",
    "clss_12=[\n",
    "    ['Olchiki_2_80_c23', 'Olchiki_2_80_c17', 'Olchiki_2_80_c15', 'Olchiki_2_80_c18', 'Olchiki_2_80_c12', 'Olchiki_2_80_c19', 'Olchiki_2_80_c16', 'Olchiki_2_80_c6', 'Olchiki_2_80_c27', 'Olchiki_2_80_c25', 'Olchiki_2_80_c7', 'Olchiki_2_80_c22'],\n",
    "    ['Olchiki_2_80_c14', 'Olchiki_2_80_c24', 'Olchiki_2_80_c20', 'Olchiki_2_80_c11', 'Olchiki_2_80_c4', 'Olchiki_2_80_c17', 'Olchiki_2_80_c28', 'Olchiki_2_80_c8', 'Olchiki_2_80_c6', 'Olchiki_2_80_c13', 'Olchiki_2_80_c5', 'Olchiki_2_80_c12'],\n",
    "    ['Olchiki_2_80_c1', 'Olchiki_2_80_c5', 'Olchiki_2_80_c8', 'Olchiki_2_80_c12', 'Olchiki_2_80_c17', 'Olchiki_2_80_c18', 'Olchiki_2_80_c13', 'Olchiki_2_80_c22', 'Olchiki_2_80_c24', 'Olchiki_2_80_c28', 'Olchiki_2_80_c27', 'Olchiki_2_80_c15'],\n",
    "    ['Olchiki_2_80_c7', 'Olchiki_2_80_c12', 'Olchiki_2_80_c18', 'Olchiki_2_80_c8', 'Olchiki_2_80_c23', 'Olchiki_2_80_c4', 'Olchiki_2_80_c30', 'Olchiki_2_80_c3', 'Olchiki_2_80_c24', 'Olchiki_2_80_c28', 'Olchiki_2_80_c22', 'Olchiki_2_80_c15'],\n",
    "    ['Olchiki_2_80_c8', 'Olchiki_2_80_c11', 'Olchiki_2_80_c9', 'Olchiki_2_80_c6', 'Olchiki_2_80_c21', 'Olchiki_2_80_c16', 'Olchiki_2_80_c30', 'Olchiki_2_80_c4', 'Olchiki_2_80_c5', 'Olchiki_2_80_c12', 'Olchiki_2_80_c15', 'Olchiki_2_80_c22'],\n",
    "    ['Olchiki_2_80_c5', 'Olchiki_2_80_c10', 'Olchiki_2_80_c21', 'Olchiki_2_80_c18', 'Olchiki_2_80_c23', 'Olchiki_2_80_c24', 'Olchiki_2_80_c9', 'Olchiki_2_80_c14', 'Olchiki_2_80_c26', 'Olchiki_2_80_c7', 'Olchiki_2_80_c13', 'Olchiki_2_80_c2'],\n",
    "    ['Olchiki_2_80_c22', 'Olchiki_2_80_c18', 'Olchiki_2_80_c5', 'Olchiki_2_80_c25', 'Olchiki_2_80_c26', 'Olchiki_2_80_c13', 'Olchiki_2_80_c7', 'Olchiki_2_80_c6', 'Olchiki_2_80_c11', 'Olchiki_2_80_c10', 'Olchiki_2_80_c4', 'Olchiki_2_80_c8'],\n",
    "    ['Olchiki_2_80_c26', 'Olchiki_2_80_c15', 'Olchiki_2_80_c5', 'Olchiki_2_80_c20', 'Olchiki_2_80_c7', 'Olchiki_2_80_c9', 'Olchiki_2_80_c18', 'Olchiki_2_80_c23', 'Olchiki_2_80_c12', 'Olchiki_2_80_c25', 'Olchiki_2_80_c6', 'Olchiki_2_80_c24'],\n",
    "    ['Olchiki_2_80_c3', 'Olchiki_2_80_c14', 'Olchiki_2_80_c11', 'Olchiki_2_80_c22', 'Olchiki_2_80_c26', 'Olchiki_2_80_c24', 'Olchiki_2_80_c12', 'Olchiki_2_80_c9', 'Olchiki_2_80_c28', 'Olchiki_2_80_c4', 'Olchiki_2_80_c25', 'Olchiki_2_80_c17'],\n",
    "     ['Olchiki_2_80_c2', 'Olchiki_2_80_c10', 'Olchiki_2_80_c7', 'Olchiki_2_80_c29', 'Olchiki_2_80_c24', 'Olchiki_2_80_c18', 'Olchiki_2_80_c19', 'Olchiki_2_80_c8', 'Olchiki_2_80_c28', 'Olchiki_2_80_c6', 'Olchiki_2_80_c5', 'Olchiki_2_80_c12'],\n",
    "    ['Olchiki_2_80_c21', 'Olchiki_2_80_c4', 'Olchiki_2_80_c15', 'Olchiki_2_80_c12', 'Olchiki_2_80_c26', 'Olchiki_2_80_c17', 'Olchiki_2_80_c8', 'Olchiki_2_80_c7', 'Olchiki_2_80_c10', 'Olchiki_2_80_c14', 'Olchiki_2_80_c19', 'Olchiki_2_80_c30'],\n",
    "     ['Olchiki_2_80_c14', 'Olchiki_2_80_c8', 'Olchiki_2_80_c15', 'Olchiki_2_80_c16', 'Olchiki_2_80_c1', 'Olchiki_2_80_c6', 'Olchiki_2_80_c28', 'Olchiki_2_80_c12', 'Olchiki_2_80_c17', 'Olchiki_2_80_c23', 'Olchiki_2_80_c5', 'Olchiki_2_80_c27'],\n",
    "    \n",
    "     ]\n",
    "clss_support_imagesss_1_shot=[\n",
    "    [[5], [13], [10], [16], [69], [48], [0], [17], [31], [19], [44], [29]],\n",
    "    [[79], [16], [63], [42], [60], [63], [8], [66], [62], [20], [40], [7]],\n",
    "    [[51], [6], [34], [64], [24], [53], [38], [43], [19], [44], [35], [28]],\n",
    "    [[79], [6], [48], [4], [28], [13], [67], [16], [70], [27], [9], [15]],\n",
    "         [[9], [7], [29], [50], [71], [7], [6], [3], [26], [70], [19], [64]],\n",
    "    [[4], [38], [65], [32], [78], [65], [12], [33], [17], [19], [75], [27]],\n",
    " [[47], [3], [5], [39], [35], [45], [35], [29], [33], [25], [5], [0]],\n",
    "    [[31], [58], [31], [46], [66], [7], [69], [26], [49], [15], [0], [9]],\n",
    "    [[5], [61], [22], [58], [48], [20], [0], [74], [8], [70], [33], [76]],\n",
    "    [[46], [38], [19], [79], [69], [70], [78], [62], [68], [24], [67], [79]],\n",
    "    [[74], [15], [13], [17], [71], [57], [69], [44], [54], [69], [76], [67]],\n",
    "    [[66], [31], [58], [49], [22], [23], [29], [0], [38], [65], [30], [31]]\n",
    "    \n",
    "]\n",
    "\n",
    "\n",
    "\n",
    "\n",
    "\n",
    "\n",
    "\n",
    "\n",
    "\n",
    "\n",
    "\n",
    "\n",
    "\n"
   ]
  },
  {
   "cell_type": "code",
   "execution_count": 90,
   "metadata": {},
   "outputs": [
    {
     "name": "stderr",
     "output_type": "stream",
     "text": [
      "/home/asufian/.local/share/pipx/venvs/notebook/lib/python3.12/site-packages/torchvision/models/_utils.py:208: UserWarning: The parameter 'pretrained' is deprecated since 0.13 and may be removed in the future, please use 'weights' instead.\n",
      "  warnings.warn(\n",
      "/home/asufian/.local/share/pipx/venvs/notebook/lib/python3.12/site-packages/torchvision/models/_utils.py:223: UserWarning: Arguments other than a weight enum or `None` for 'weights' are deprecated since 0.13 and may be removed in the future. The current behavior is equivalent to passing `weights=None`.\n",
      "  warnings.warn(msg)\n"
     ]
    }
   ],
   "source": [
    "device = torch.device(\"cuda\" if torch.cuda.is_available() else \"cpu\")\n",
    "\n",
    "\n",
    "\n",
    "!rm model_mu_path.pt\n",
    "!rm model_own_path.pt\n",
    "\n",
    "convolutional_network_with_dropout = ResNet18WithDropout(pretrained=False, dr=0.0)\n",
    "convolutional_network_with_dropout.fc = nn.Flatten()\n",
    "model_own = PrototypicalNetworks_dynamic_query(convolutional_network_with_dropout).to(device)\n",
    "model_own.load_state_dict(torch.load('/home/asufian/Desktop/output_olchiki/code/modelr_res18.pth',map_location=torch.device('cpu')))\n",
    "\n",
    "\n",
    "convolutional_network_with_dropout = ResNet18WithDropout(pretrained=False, dr=0.0)\n",
    "convolutional_network_with_dropout.fc = nn.Flatten()\n",
    "model_own_1_shot = PrototypicalNetworks_dynamic_query(convolutional_network_with_dropout).to(device)\n",
    "model_own_1_shot.load_state_dict(torch.load('/home/asufian/Desktop/output_olchiki/code/olchiki/ressecondary/model_1/model_B_olchiki_1-shot_res.pth',map_location=torch.device('cpu')))\n",
    "\n",
    "torch.save(model_own_1_shot.state_dict(), 'model_mu_path.pt')\n",
    "torch.save(model_own.state_dict(), 'model_own_path.pt')\n"
   ]
  },
  {
   "cell_type": "code",
   "execution_count": 91,
   "metadata": {},
   "outputs": [],
   "source": [
    "\n",
    "def evaluate2(fname,data_loader, model, criterion=nn.CrossEntropyLoss()):\n",
    "    total_predictions = 0\n",
    "    correct_predictions = 0\n",
    "    total_loss = 0.0\n",
    "    accuracy = 0\n",
    "    datta = \"\"\n",
    "    model.eval()\n",
    "    tlv_cls=0\n",
    "    ttla=0\n",
    "    ttlal=[]\n",
    "    ttlac=0\n",
    "    precision=[]\n",
    "    recall=[]\n",
    "    \n",
    "    with torch.no_grad():\n",
    "        for episode in range(len(clss_12)):\n",
    "            support_set, query_set = data_loader.__getitem__(clss_12[tlv_cls] , clss_support_imagesss_1_shot[tlv_cls])\n",
    "\n",
    "           \n",
    "            clssa=str(clss_12[tlv_cls])\n",
    "            clss=str(clssa).replace(',',' ').replace('\\'',' ').replace('\\'',' ')\n",
    "            msg=str(clss_support_imagesss_1_shot[tlv_cls])\n",
    "            str(clss_12[tlv_cls])\n",
    "\n",
    "            tlv_cls+=1\n",
    "            # print(len(support_set),len(query_set))\n",
    "            support_set = [(torch.stack(images).to(device), label[0]) for images, label in support_set]\n",
    "            query_set = [(torch.stack(images).to(device), label) for images, label in query_set]\n",
    "\n",
    "            support_images, support_labels = zip(*support_set)\n",
    "\n",
    "            query_images, query_labels = zip(*query_set)\n",
    "\n",
    "            classification_scores = model(support_images, support_labels, query_images)\n",
    "            cortt = 0\n",
    "            totl = 0\n",
    "            confusion_mat=None\n",
    "            all_predicted_labels = []\n",
    "            all_actual_labels = []\n",
    "            # print(len(classification_scores),len(query_labels))\n",
    "            for ei in range(len(classification_scores)):\n",
    "                classification_scores_each_class = classification_scores[ei]\n",
    "                # print(classification_scores_each_class)\n",
    "                predicted_labels_eachclas = torch.argmax(classification_scores_each_class, dim=1)\n",
    "                pp = predicted_labels_eachclas.tolist()\n",
    "                act = query_labels[ei]\n",
    "                all_predicted_labels.extend(pp)\n",
    "                all_actual_labels.extend(act)\n",
    "                for iiii in range(len(pp)):\n",
    "                    if pp[iiii] == act[iiii]:\n",
    "                        cortt = cortt + 1\n",
    "                totl = totl + len(pp)\n",
    "                # print(len(act))\n",
    "            accuracy = cortt / totl\n",
    "            ttla+=1\n",
    "            ttlac+=accuracy\n",
    "            ttlal.append(accuracy)\n",
    "            # print(cortt , totl,\"Validation Accuracy:              \", cortt / totl)\n",
    "            confusion_mat = confusion_matrix(all_actual_labels, all_predicted_labels)\n",
    "            # print(\"Confusion Matrix:\")\n",
    "            # print(confusion_mat)\n",
    "\n",
    "            # fname='./own35_mapi_5_way_1_shot'\n",
    "\n",
    "            precision_overall, recall_overall, f1ss= calculate_metrics_get_per(msg,confusion_mat,acciuracy=cortt / totl,cls=clss,flnm=fname)\n",
    "            precision.append(precision_overall)\n",
    "            recall.append(recall_overall)\n",
    "    print(f\"---Accu-----pre----rec---------> {np.mean(ttlal):.4f} ± {np.std(ttlal, ddof=1):.4f}  \"\n",
    "      f\"{np.mean(precision):.4f} ± {np.std(precision, ddof=1):.4f}  \"\n",
    "      f\"{np.mean(recall):.4f} ± {np.std(recall, ddof=1):.4f}\")\n",
    "\n",
    "    # print(\"---Accu-----pre----rec---------->\",np.mean(ttlal),'±',np.std(ttlal, ddof=1), np.mean(precision),'±',np.std(precision, ddof=1),np.mean(precision),'±',np.std(precision, ddof=1),)\n",
    "# %%%%%%\n",
    "\n",
    "def evaluate3(fname,data_loader, model, criterion=nn.CrossEntropyLoss()):\n",
    "    total_predictions = 0\n",
    "    correct_predictions = 0\n",
    "    total_loss = 0.0\n",
    "    accuracy = 0\n",
    "    datta = \"\"\n",
    "    model.eval()\n",
    "    tlv_cls=0\n",
    "    ttla=0\n",
    "    ttlac=0\n",
    "    with torch.no_grad():\n",
    "        for episode in range(len(clss_12)):\n",
    "            support_set, query_set = data_loader.__getitem__(clss_12[tlv_cls] , clss_support_imagesss_1_shot[tlv_cls])\n",
    "\n",
    "            \n",
    "            clssa=str(clss_12[tlv_cls])\n",
    "            clss=str(clssa).replace(',',' ').replace('\\'',' ').replace('\\'',' ')\n",
    "            msg=str(clss_support_imagesss_1_shot[tlv_cls])\n",
    "            str(clss_12[tlv_cls])\n",
    "\n",
    "            tlv_cls+=1\n",
    "            # print(len(support_set),len(query_set))\n",
    "            support_set = [(torch.stack(images).to(device), label[0]) for images, label in support_set]\n",
    "            query_set = [(torch.stack(images).to(device), label) for images, label in query_set]\n",
    "\n",
    "            support_images, support_labels = zip(*support_set)\n",
    "\n",
    "            query_images, query_labels = zip(*query_set)\n",
    "\n",
    "            classification_scores = model(support_images, support_labels, query_images)\n",
    "            cortt = 0\n",
    "            totl = 0\n",
    "            confusion_mat=None\n",
    "            all_predicted_labels = []\n",
    "            all_actual_labels = []\n",
    "            # print(len(classification_scores),len(query_labels))\n",
    "            for ei in range(len(classification_scores)):\n",
    "                classification_scores_each_class = classification_scores[ei]\n",
    "                # print(classification_scores_each_class)\n",
    "                predicted_labels_eachclas = torch.argmax(classification_scores_each_class, dim=1)\n",
    "                pp = predicted_labels_eachclas.tolist()\n",
    "                act = query_labels[ei]\n",
    "                all_predicted_labels.extend(pp)\n",
    "                all_actual_labels.extend(act)\n",
    "                for iiii in range(len(pp)):\n",
    "                    if pp[iiii] == act[iiii]:\n",
    "                        cortt = cortt + 1\n",
    "                totl = totl + len(pp)\n",
    "                # print(len(act))\n",
    "            accuracy = cortt / totl\n",
    "            ttla+=1\n",
    "            ttlac+=accuracy\n",
    "            # print(cortt , totl,\"Validation Accuracy:              \", cortt / totl)\n",
    "            # confusion_mat = confusion_matrix(all_actual_labels, all_predicted_labels)\n",
    "            # print(\"Confusion Matrix:\")\n",
    "            # print(confusion_mat)\n",
    "\n",
    "            # fname='./own35_mapi_5_way_1_shot'\n",
    "\n",
    "            # calculate_metrics_get_per(msg,confusion_mat,acciuracy=cortt / totl,cls=clss,flnm=fname)\n",
    "\n",
    "    print(\"---------------------->\",ttlac/ttla)\n",
    "    return ttlac/ttla"
   ]
  },
  {
   "cell_type": "code",
   "execution_count": 92,
   "metadata": {
    "scrolled": true
   },
   "outputs": [
    {
     "name": "stdout",
     "output_type": "stream",
     "text": [
      "Testing b_a_r = 0.7965, c_a_r = 0.1834, f_a_r = 0.7797\n"
     ]
    },
    {
     "name": "stderr",
     "output_type": "stream",
     "text": [
      "/home/asufian/.local/share/pipx/venvs/notebook/lib/python3.12/site-packages/torchvision/models/_utils.py:208: UserWarning: The parameter 'pretrained' is deprecated since 0.13 and may be removed in the future, please use 'weights' instead.\n",
      "  warnings.warn(\n",
      "/home/asufian/.local/share/pipx/venvs/notebook/lib/python3.12/site-packages/torchvision/models/_utils.py:223: UserWarning: Arguments other than a weight enum or `None` for 'weights' are deprecated since 0.13 and may be removed in the future. The current behavior is equivalent to passing `weights=None`.\n",
      "  warnings.warn(msg)\n"
     ]
    },
    {
     "name": "stdout",
     "output_type": "stream",
     "text": [
      "----------------------> 0.5992440225035162\n",
      "Evaluated Accuracy: 0.5992\n",
      "Testing b_a_r = 0.5969, c_a_r = 0.4458, f_a_r = 0.1000\n",
      "----------------------> 0.5094936708860759\n",
      "Evaluated Accuracy: 0.5095\n",
      "Testing b_a_r = 0.4592, c_a_r = 0.3337, f_a_r = 0.1429\n",
      "----------------------> 0.5636427566807314\n",
      "Evaluated Accuracy: 0.5636\n",
      "Testing b_a_r = 0.6509, c_a_r = 0.0564, f_a_r = 0.7220\n",
      "----------------------> 0.67457805907173\n",
      "Evaluated Accuracy: 0.6746\n",
      "Testing b_a_r = 0.9386, c_a_r = 0.0008, f_a_r = 0.9922\n",
      "----------------------> 0.6393284106891703\n",
      "Evaluated Accuracy: 0.6393\n",
      "Testing b_a_r = 0.1324, c_a_r = 0.0000, f_a_r = 0.9996\n"
     ]
    },
    {
     "name": "stderr",
     "output_type": "stream",
     "text": [
      "/home/asufian/.local/share/pipx/venvs/notebook/lib/python3.12/site-packages/torchvision/models/_utils.py:208: UserWarning: The parameter 'pretrained' is deprecated since 0.13 and may be removed in the future, please use 'weights' instead.\n",
      "  warnings.warn(\n",
      "/home/asufian/.local/share/pipx/venvs/notebook/lib/python3.12/site-packages/torchvision/models/_utils.py:223: UserWarning: Arguments other than a weight enum or `None` for 'weights' are deprecated since 0.13 and may be removed in the future. The current behavior is equivalent to passing `weights=None`.\n",
      "  warnings.warn(msg)\n"
     ]
    },
    {
     "name": "stdout",
     "output_type": "stream",
     "text": [
      "----------------------> 0.6295710267229254\n",
      "Evaluated Accuracy: 0.6296\n",
      "Testing b_a_r = 1.0000, c_a_r = 0.0355, f_a_r = 0.3122\n"
     ]
    },
    {
     "name": "stderr",
     "output_type": "stream",
     "text": [
      "/home/asufian/.local/share/pipx/venvs/notebook/lib/python3.12/site-packages/torchvision/models/_utils.py:208: UserWarning: The parameter 'pretrained' is deprecated since 0.13 and may be removed in the future, please use 'weights' instead.\n",
      "  warnings.warn(\n",
      "/home/asufian/.local/share/pipx/venvs/notebook/lib/python3.12/site-packages/torchvision/models/_utils.py:223: UserWarning: Arguments other than a weight enum or `None` for 'weights' are deprecated since 0.13 and may be removed in the future. The current behavior is equivalent to passing `weights=None`.\n",
      "  warnings.warn(msg)\n"
     ]
    },
    {
     "name": "stdout",
     "output_type": "stream",
     "text": [
      "----------------------> 0.6195499296765119\n",
      "Evaluated Accuracy: 0.6195\n",
      "Testing b_a_r = 1.0000, c_a_r = 0.0010, f_a_r = 0.6808\n"
     ]
    },
    {
     "name": "stderr",
     "output_type": "stream",
     "text": [
      "/home/asufian/.local/share/pipx/venvs/notebook/lib/python3.12/site-packages/torchvision/models/_utils.py:208: UserWarning: The parameter 'pretrained' is deprecated since 0.13 and may be removed in the future, please use 'weights' instead.\n",
      "  warnings.warn(\n",
      "/home/asufian/.local/share/pipx/venvs/notebook/lib/python3.12/site-packages/torchvision/models/_utils.py:223: UserWarning: Arguments other than a weight enum or `None` for 'weights' are deprecated since 0.13 and may be removed in the future. The current behavior is equivalent to passing `weights=None`.\n",
      "  warnings.warn(msg)\n"
     ]
    },
    {
     "name": "stdout",
     "output_type": "stream",
     "text": [
      "----------------------> 0.6452180028129396\n",
      "Evaluated Accuracy: 0.6452\n",
      "Testing b_a_r = 1.0000, c_a_r = 0.0793, f_a_r = 0.9945\n"
     ]
    },
    {
     "name": "stderr",
     "output_type": "stream",
     "text": [
      "/home/asufian/.local/share/pipx/venvs/notebook/lib/python3.12/site-packages/torchvision/models/_utils.py:208: UserWarning: The parameter 'pretrained' is deprecated since 0.13 and may be removed in the future, please use 'weights' instead.\n",
      "  warnings.warn(\n",
      "/home/asufian/.local/share/pipx/venvs/notebook/lib/python3.12/site-packages/torchvision/models/_utils.py:223: UserWarning: Arguments other than a weight enum or `None` for 'weights' are deprecated since 0.13 and may be removed in the future. The current behavior is equivalent to passing `weights=None`.\n",
      "  warnings.warn(msg)\n"
     ]
    },
    {
     "name": "stdout",
     "output_type": "stream",
     "text": [
      "----------------------> 0.6819620253164556\n",
      "Evaluated Accuracy: 0.6820\n",
      "Testing b_a_r = 0.0467, c_a_r = 1.0000, f_a_r = 0.9647\n"
     ]
    },
    {
     "name": "stderr",
     "output_type": "stream",
     "text": [
      "/home/asufian/.local/share/pipx/venvs/notebook/lib/python3.12/site-packages/torchvision/models/_utils.py:208: UserWarning: The parameter 'pretrained' is deprecated since 0.13 and may be removed in the future, please use 'weights' instead.\n",
      "  warnings.warn(\n",
      "/home/asufian/.local/share/pipx/venvs/notebook/lib/python3.12/site-packages/torchvision/models/_utils.py:223: UserWarning: Arguments other than a weight enum or `None` for 'weights' are deprecated since 0.13 and may be removed in the future. The current behavior is equivalent to passing `weights=None`.\n",
      "  warnings.warn(msg)\n"
     ]
    },
    {
     "name": "stdout",
     "output_type": "stream",
     "text": [
      "----------------------> 0.27786568213783397\n",
      "Evaluated Accuracy: 0.2779\n",
      "Testing b_a_r = 0.4083, c_a_r = 0.0007, f_a_r = 0.0883\n"
     ]
    },
    {
     "name": "stderr",
     "output_type": "stream",
     "text": [
      "/home/asufian/.local/share/pipx/venvs/notebook/lib/python3.12/site-packages/torchvision/models/_utils.py:208: UserWarning: The parameter 'pretrained' is deprecated since 0.13 and may be removed in the future, please use 'weights' instead.\n",
      "  warnings.warn(\n",
      "/home/asufian/.local/share/pipx/venvs/notebook/lib/python3.12/site-packages/torchvision/models/_utils.py:223: UserWarning: Arguments other than a weight enum or `None` for 'weights' are deprecated since 0.13 and may be removed in the future. The current behavior is equivalent to passing `weights=None`.\n",
      "  warnings.warn(msg)\n"
     ]
    },
    {
     "name": "stdout",
     "output_type": "stream",
     "text": [
      "----------------------> 0.583245428973277\n",
      "Evaluated Accuracy: 0.5832\n",
      "Testing b_a_r = 1.0000, c_a_r = 0.6415, f_a_r = 1.0000\n"
     ]
    },
    {
     "name": "stderr",
     "output_type": "stream",
     "text": [
      "/home/asufian/.local/share/pipx/venvs/notebook/lib/python3.12/site-packages/torchvision/models/_utils.py:208: UserWarning: The parameter 'pretrained' is deprecated since 0.13 and may be removed in the future, please use 'weights' instead.\n",
      "  warnings.warn(\n",
      "/home/asufian/.local/share/pipx/venvs/notebook/lib/python3.12/site-packages/torchvision/models/_utils.py:223: UserWarning: Arguments other than a weight enum or `None` for 'weights' are deprecated since 0.13 and may be removed in the future. The current behavior is equivalent to passing `weights=None`.\n",
      "  warnings.warn(msg)\n"
     ]
    },
    {
     "name": "stdout",
     "output_type": "stream",
     "text": [
      "----------------------> 0.312851617440225\n",
      "Evaluated Accuracy: 0.3129\n",
      "Testing b_a_r = 0.9504, c_a_r = 0.3625, f_a_r = 1.0000\n"
     ]
    },
    {
     "name": "stderr",
     "output_type": "stream",
     "text": [
      "/home/asufian/.local/share/pipx/venvs/notebook/lib/python3.12/site-packages/torchvision/models/_utils.py:208: UserWarning: The parameter 'pretrained' is deprecated since 0.13 and may be removed in the future, please use 'weights' instead.\n",
      "  warnings.warn(\n",
      "/home/asufian/.local/share/pipx/venvs/notebook/lib/python3.12/site-packages/torchvision/models/_utils.py:223: UserWarning: Arguments other than a weight enum or `None` for 'weights' are deprecated since 0.13 and may be removed in the future. The current behavior is equivalent to passing `weights=None`.\n",
      "  warnings.warn(msg)\n"
     ]
    },
    {
     "name": "stdout",
     "output_type": "stream",
     "text": [
      "----------------------> 0.518635724331927\n",
      "Evaluated Accuracy: 0.5186\n",
      "Testing b_a_r = 0.9768, c_a_r = 0.1764, f_a_r = 0.0000\n"
     ]
    },
    {
     "name": "stderr",
     "output_type": "stream",
     "text": [
      "/home/asufian/.local/share/pipx/venvs/notebook/lib/python3.12/site-packages/torchvision/models/_utils.py:208: UserWarning: The parameter 'pretrained' is deprecated since 0.13 and may be removed in the future, please use 'weights' instead.\n",
      "  warnings.warn(\n",
      "/home/asufian/.local/share/pipx/venvs/notebook/lib/python3.12/site-packages/torchvision/models/_utils.py:223: UserWarning: Arguments other than a weight enum or `None` for 'weights' are deprecated since 0.13 and may be removed in the future. The current behavior is equivalent to passing `weights=None`.\n",
      "  warnings.warn(msg)\n"
     ]
    },
    {
     "name": "stdout",
     "output_type": "stream",
     "text": [
      "----------------------> 0.6177039381153305\n",
      "Evaluated Accuracy: 0.6177\n",
      "Testing b_a_r = 0.1505, c_a_r = 0.8105, f_a_r = 0.0000\n"
     ]
    },
    {
     "name": "stderr",
     "output_type": "stream",
     "text": [
      "/home/asufian/.local/share/pipx/venvs/notebook/lib/python3.12/site-packages/torchvision/models/_utils.py:208: UserWarning: The parameter 'pretrained' is deprecated since 0.13 and may be removed in the future, please use 'weights' instead.\n",
      "  warnings.warn(\n",
      "/home/asufian/.local/share/pipx/venvs/notebook/lib/python3.12/site-packages/torchvision/models/_utils.py:223: UserWarning: Arguments other than a weight enum or `None` for 'weights' are deprecated since 0.13 and may be removed in the future. The current behavior is equivalent to passing `weights=None`.\n",
      "  warnings.warn(msg)\n"
     ]
    },
    {
     "name": "stdout",
     "output_type": "stream",
     "text": [
      "----------------------> 0.2782172995780591\n",
      "Evaluated Accuracy: 0.2782\n",
      "Testing b_a_r = 0.0000, c_a_r = 0.0924, f_a_r = 1.0000\n"
     ]
    },
    {
     "name": "stderr",
     "output_type": "stream",
     "text": [
      "/home/asufian/.local/share/pipx/venvs/notebook/lib/python3.12/site-packages/torchvision/models/_utils.py:208: UserWarning: The parameter 'pretrained' is deprecated since 0.13 and may be removed in the future, please use 'weights' instead.\n",
      "  warnings.warn(\n",
      "/home/asufian/.local/share/pipx/venvs/notebook/lib/python3.12/site-packages/torchvision/models/_utils.py:223: UserWarning: Arguments other than a weight enum or `None` for 'weights' are deprecated since 0.13 and may be removed in the future. The current behavior is equivalent to passing `weights=None`.\n",
      "  warnings.warn(msg)\n"
     ]
    },
    {
     "name": "stdout",
     "output_type": "stream",
     "text": [
      "----------------------> 0.6815225035161744\n",
      "Evaluated Accuracy: 0.6815\n",
      "Testing b_a_r = 0.7393, c_a_r = 0.0789, f_a_r = 1.0000\n"
     ]
    },
    {
     "name": "stderr",
     "output_type": "stream",
     "text": [
      "/home/asufian/.local/share/pipx/venvs/notebook/lib/python3.12/site-packages/torchvision/models/_utils.py:208: UserWarning: The parameter 'pretrained' is deprecated since 0.13 and may be removed in the future, please use 'weights' instead.\n",
      "  warnings.warn(\n",
      "/home/asufian/.local/share/pipx/venvs/notebook/lib/python3.12/site-packages/torchvision/models/_utils.py:223: UserWarning: Arguments other than a weight enum or `None` for 'weights' are deprecated since 0.13 and may be removed in the future. The current behavior is equivalent to passing `weights=None`.\n",
      "  warnings.warn(msg)\n"
     ]
    },
    {
     "name": "stdout",
     "output_type": "stream",
     "text": [
      "----------------------> 0.6794127988748242\n",
      "Evaluated Accuracy: 0.6794\n",
      "Testing b_a_r = 0.9509, c_a_r = 0.0910, f_a_r = 0.8033\n"
     ]
    },
    {
     "name": "stderr",
     "output_type": "stream",
     "text": [
      "/home/asufian/.local/share/pipx/venvs/notebook/lib/python3.12/site-packages/torchvision/models/_utils.py:208: UserWarning: The parameter 'pretrained' is deprecated since 0.13 and may be removed in the future, please use 'weights' instead.\n",
      "  warnings.warn(\n",
      "/home/asufian/.local/share/pipx/venvs/notebook/lib/python3.12/site-packages/torchvision/models/_utils.py:223: UserWarning: Arguments other than a weight enum or `None` for 'weights' are deprecated since 0.13 and may be removed in the future. The current behavior is equivalent to passing `weights=None`.\n",
      "  warnings.warn(msg)\n"
     ]
    },
    {
     "name": "stdout",
     "output_type": "stream",
     "text": [
      "----------------------> 0.6915436005625879\n",
      "Evaluated Accuracy: 0.6915\n",
      "Testing b_a_r = 0.0000, c_a_r = 0.1123, f_a_r = 0.5552\n"
     ]
    },
    {
     "name": "stderr",
     "output_type": "stream",
     "text": [
      "/home/asufian/.local/share/pipx/venvs/notebook/lib/python3.12/site-packages/torchvision/models/_utils.py:208: UserWarning: The parameter 'pretrained' is deprecated since 0.13 and may be removed in the future, please use 'weights' instead.\n",
      "  warnings.warn(\n",
      "/home/asufian/.local/share/pipx/venvs/notebook/lib/python3.12/site-packages/torchvision/models/_utils.py:223: UserWarning: Arguments other than a weight enum or `None` for 'weights' are deprecated since 0.13 and may be removed in the future. The current behavior is equivalent to passing `weights=None`.\n",
      "  warnings.warn(msg)\n"
     ]
    },
    {
     "name": "stdout",
     "output_type": "stream",
     "text": [
      "----------------------> 0.6996308016877637\n",
      "Evaluated Accuracy: 0.6996\n",
      "Testing b_a_r = 0.0000, c_a_r = 0.1139, f_a_r = 0.0000\n"
     ]
    },
    {
     "name": "stderr",
     "output_type": "stream",
     "text": [
      "/home/asufian/.local/share/pipx/venvs/notebook/lib/python3.12/site-packages/torchvision/models/_utils.py:208: UserWarning: The parameter 'pretrained' is deprecated since 0.13 and may be removed in the future, please use 'weights' instead.\n",
      "  warnings.warn(\n",
      "/home/asufian/.local/share/pipx/venvs/notebook/lib/python3.12/site-packages/torchvision/models/_utils.py:223: UserWarning: Arguments other than a weight enum or `None` for 'weights' are deprecated since 0.13 and may be removed in the future. The current behavior is equivalent to passing `weights=None`.\n",
      "  warnings.warn(msg)\n"
     ]
    },
    {
     "name": "stdout",
     "output_type": "stream",
     "text": [
      "----------------------> 0.6392405063291139\n",
      "Evaluated Accuracy: 0.6392\n",
      "Testing b_a_r = 1.0000, c_a_r = 0.1195, f_a_r = 0.4950\n"
     ]
    },
    {
     "name": "stderr",
     "output_type": "stream",
     "text": [
      "/home/asufian/.local/share/pipx/venvs/notebook/lib/python3.12/site-packages/torchvision/models/_utils.py:208: UserWarning: The parameter 'pretrained' is deprecated since 0.13 and may be removed in the future, please use 'weights' instead.\n",
      "  warnings.warn(\n",
      "/home/asufian/.local/share/pipx/venvs/notebook/lib/python3.12/site-packages/torchvision/models/_utils.py:223: UserWarning: Arguments other than a weight enum or `None` for 'weights' are deprecated since 0.13 and may be removed in the future. The current behavior is equivalent to passing `weights=None`.\n",
      "  warnings.warn(msg)\n"
     ]
    },
    {
     "name": "stdout",
     "output_type": "stream",
     "text": [
      "----------------------> 0.6889064697609002\n",
      "Evaluated Accuracy: 0.6889\n",
      "Testing b_a_r = 0.7370, c_a_r = 0.5947, f_a_r = 0.0099\n"
     ]
    },
    {
     "name": "stderr",
     "output_type": "stream",
     "text": [
      "/home/asufian/.local/share/pipx/venvs/notebook/lib/python3.12/site-packages/torchvision/models/_utils.py:208: UserWarning: The parameter 'pretrained' is deprecated since 0.13 and may be removed in the future, please use 'weights' instead.\n",
      "  warnings.warn(\n",
      "/home/asufian/.local/share/pipx/venvs/notebook/lib/python3.12/site-packages/torchvision/models/_utils.py:223: UserWarning: Arguments other than a weight enum or `None` for 'weights' are deprecated since 0.13 and may be removed in the future. The current behavior is equivalent to passing `weights=None`.\n",
      "  warnings.warn(msg)\n"
     ]
    },
    {
     "name": "stdout",
     "output_type": "stream",
     "text": [
      "----------------------> 0.337289029535865\n",
      "Evaluated Accuracy: 0.3373\n",
      "Testing b_a_r = 0.7174, c_a_r = 0.4792, f_a_r = 1.0000\n"
     ]
    },
    {
     "name": "stderr",
     "output_type": "stream",
     "text": [
      "/home/asufian/.local/share/pipx/venvs/notebook/lib/python3.12/site-packages/torchvision/models/_utils.py:208: UserWarning: The parameter 'pretrained' is deprecated since 0.13 and may be removed in the future, please use 'weights' instead.\n",
      "  warnings.warn(\n",
      "/home/asufian/.local/share/pipx/venvs/notebook/lib/python3.12/site-packages/torchvision/models/_utils.py:223: UserWarning: Arguments other than a weight enum or `None` for 'weights' are deprecated since 0.13 and may be removed in the future. The current behavior is equivalent to passing `weights=None`.\n",
      "  warnings.warn(msg)\n"
     ]
    },
    {
     "name": "stdout",
     "output_type": "stream",
     "text": [
      "----------------------> 0.45648734177215183\n",
      "Evaluated Accuracy: 0.4565\n",
      "Testing b_a_r = 0.0308, c_a_r = 0.1181, f_a_r = 0.7094\n"
     ]
    },
    {
     "name": "stderr",
     "output_type": "stream",
     "text": [
      "/home/asufian/.local/share/pipx/venvs/notebook/lib/python3.12/site-packages/torchvision/models/_utils.py:208: UserWarning: The parameter 'pretrained' is deprecated since 0.13 and may be removed in the future, please use 'weights' instead.\n",
      "  warnings.warn(\n",
      "/home/asufian/.local/share/pipx/venvs/notebook/lib/python3.12/site-packages/torchvision/models/_utils.py:223: UserWarning: Arguments other than a weight enum or `None` for 'weights' are deprecated since 0.13 and may be removed in the future. The current behavior is equivalent to passing `weights=None`.\n",
      "  warnings.warn(msg)\n"
     ]
    },
    {
     "name": "stdout",
     "output_type": "stream",
     "text": [
      "----------------------> 0.6880274261603376\n",
      "Evaluated Accuracy: 0.6880\n",
      "Testing b_a_r = 0.0120, c_a_r = 0.0928, f_a_r = 0.5693\n"
     ]
    },
    {
     "name": "stderr",
     "output_type": "stream",
     "text": [
      "/home/asufian/.local/share/pipx/venvs/notebook/lib/python3.12/site-packages/torchvision/models/_utils.py:208: UserWarning: The parameter 'pretrained' is deprecated since 0.13 and may be removed in the future, please use 'weights' instead.\n",
      "  warnings.warn(\n",
      "/home/asufian/.local/share/pipx/venvs/notebook/lib/python3.12/site-packages/torchvision/models/_utils.py:223: UserWarning: Arguments other than a weight enum or `None` for 'weights' are deprecated since 0.13 and may be removed in the future. The current behavior is equivalent to passing `weights=None`.\n",
      "  warnings.warn(msg)\n"
     ]
    },
    {
     "name": "stdout",
     "output_type": "stream",
     "text": [
      "----------------------> 0.6911040787623065\n",
      "Evaluated Accuracy: 0.6911\n",
      "Testing b_a_r = 0.2818, c_a_r = 0.9983, f_a_r = 0.0041\n"
     ]
    },
    {
     "name": "stderr",
     "output_type": "stream",
     "text": [
      "/home/asufian/.local/share/pipx/venvs/notebook/lib/python3.12/site-packages/torchvision/models/_utils.py:208: UserWarning: The parameter 'pretrained' is deprecated since 0.13 and may be removed in the future, please use 'weights' instead.\n",
      "  warnings.warn(\n",
      "/home/asufian/.local/share/pipx/venvs/notebook/lib/python3.12/site-packages/torchvision/models/_utils.py:223: UserWarning: Arguments other than a weight enum or `None` for 'weights' are deprecated since 0.13 and may be removed in the future. The current behavior is equivalent to passing `weights=None`.\n",
      "  warnings.warn(msg)\n"
     ]
    },
    {
     "name": "stdout",
     "output_type": "stream",
     "text": [
      "----------------------> 0.26300984528832627\n",
      "Evaluated Accuracy: 0.2630\n",
      "Testing b_a_r = 0.9411, c_a_r = 0.1175, f_a_r = 0.9881\n"
     ]
    },
    {
     "name": "stderr",
     "output_type": "stream",
     "text": [
      "/home/asufian/.local/share/pipx/venvs/notebook/lib/python3.12/site-packages/torchvision/models/_utils.py:208: UserWarning: The parameter 'pretrained' is deprecated since 0.13 and may be removed in the future, please use 'weights' instead.\n",
      "  warnings.warn(\n",
      "/home/asufian/.local/share/pipx/venvs/notebook/lib/python3.12/site-packages/torchvision/models/_utils.py:223: UserWarning: Arguments other than a weight enum or `None` for 'weights' are deprecated since 0.13 and may be removed in the future. The current behavior is equivalent to passing `weights=None`.\n",
      "  warnings.warn(msg)\n"
     ]
    },
    {
     "name": "stdout",
     "output_type": "stream",
     "text": [
      "----------------------> 0.6779184247538678\n",
      "Evaluated Accuracy: 0.6779\n",
      "Testing b_a_r = 0.9475, c_a_r = 0.0984, f_a_r = 0.6941\n"
     ]
    },
    {
     "name": "stderr",
     "output_type": "stream",
     "text": [
      "/home/asufian/.local/share/pipx/venvs/notebook/lib/python3.12/site-packages/torchvision/models/_utils.py:208: UserWarning: The parameter 'pretrained' is deprecated since 0.13 and may be removed in the future, please use 'weights' instead.\n",
      "  warnings.warn(\n",
      "/home/asufian/.local/share/pipx/venvs/notebook/lib/python3.12/site-packages/torchvision/models/_utils.py:223: UserWarning: Arguments other than a weight enum or `None` for 'weights' are deprecated since 0.13 and may be removed in the future. The current behavior is equivalent to passing `weights=None`.\n",
      "  warnings.warn(msg)\n"
     ]
    },
    {
     "name": "stdout",
     "output_type": "stream",
     "text": [
      "----------------------> 0.6996308016877636\n",
      "Evaluated Accuracy: 0.6996\n",
      "Testing b_a_r = 0.5350, c_a_r = 0.8314, f_a_r = 0.9865\n"
     ]
    },
    {
     "name": "stderr",
     "output_type": "stream",
     "text": [
      "/home/asufian/.local/share/pipx/venvs/notebook/lib/python3.12/site-packages/torchvision/models/_utils.py:208: UserWarning: The parameter 'pretrained' is deprecated since 0.13 and may be removed in the future, please use 'weights' instead.\n",
      "  warnings.warn(\n",
      "/home/asufian/.local/share/pipx/venvs/notebook/lib/python3.12/site-packages/torchvision/models/_utils.py:223: UserWarning: Arguments other than a weight enum or `None` for 'weights' are deprecated since 0.13 and may be removed in the future. The current behavior is equivalent to passing `weights=None`.\n",
      "  warnings.warn(msg)\n"
     ]
    },
    {
     "name": "stdout",
     "output_type": "stream",
     "text": [
      "----------------------> 0.28182137834036575\n",
      "Evaluated Accuracy: 0.2818\n",
      "Testing b_a_r = 0.3006, c_a_r = 0.2560, f_a_r = 0.0052\n"
     ]
    },
    {
     "name": "stderr",
     "output_type": "stream",
     "text": [
      "/home/asufian/.local/share/pipx/venvs/notebook/lib/python3.12/site-packages/torchvision/models/_utils.py:208: UserWarning: The parameter 'pretrained' is deprecated since 0.13 and may be removed in the future, please use 'weights' instead.\n",
      "  warnings.warn(\n",
      "/home/asufian/.local/share/pipx/venvs/notebook/lib/python3.12/site-packages/torchvision/models/_utils.py:223: UserWarning: Arguments other than a weight enum or `None` for 'weights' are deprecated since 0.13 and may be removed in the future. The current behavior is equivalent to passing `weights=None`.\n",
      "  warnings.warn(msg)\n"
     ]
    },
    {
     "name": "stdout",
     "output_type": "stream",
     "text": [
      "----------------------> 0.570675105485232\n",
      "Evaluated Accuracy: 0.5707\n",
      "Testing b_a_r = 0.9724, c_a_r = 0.0929, f_a_r = 0.6507\n"
     ]
    },
    {
     "name": "stderr",
     "output_type": "stream",
     "text": [
      "/home/asufian/.local/share/pipx/venvs/notebook/lib/python3.12/site-packages/torchvision/models/_utils.py:208: UserWarning: The parameter 'pretrained' is deprecated since 0.13 and may be removed in the future, please use 'weights' instead.\n",
      "  warnings.warn(\n",
      "/home/asufian/.local/share/pipx/venvs/notebook/lib/python3.12/site-packages/torchvision/models/_utils.py:223: UserWarning: Arguments other than a weight enum or `None` for 'weights' are deprecated since 0.13 and may be removed in the future. The current behavior is equivalent to passing `weights=None`.\n",
      "  warnings.warn(msg)\n"
     ]
    },
    {
     "name": "stdout",
     "output_type": "stream",
     "text": [
      "----------------------> 0.6979606188466949\n",
      "Evaluated Accuracy: 0.6980\n",
      "Testing b_a_r = 0.9116, c_a_r = 0.1001, f_a_r = 0.5046\n"
     ]
    },
    {
     "name": "stderr",
     "output_type": "stream",
     "text": [
      "/home/asufian/.local/share/pipx/venvs/notebook/lib/python3.12/site-packages/torchvision/models/_utils.py:208: UserWarning: The parameter 'pretrained' is deprecated since 0.13 and may be removed in the future, please use 'weights' instead.\n",
      "  warnings.warn(\n",
      "/home/asufian/.local/share/pipx/venvs/notebook/lib/python3.12/site-packages/torchvision/models/_utils.py:223: UserWarning: Arguments other than a weight enum or `None` for 'weights' are deprecated since 0.13 and may be removed in the future. The current behavior is equivalent to passing `weights=None`.\n",
      "  warnings.warn(msg)\n"
     ]
    },
    {
     "name": "stdout",
     "output_type": "stream",
     "text": [
      "----------------------> 0.6930379746835443\n",
      "Evaluated Accuracy: 0.6930\n",
      "Testing b_a_r = 0.3103, c_a_r = 0.2681, f_a_r = 0.9936\n"
     ]
    },
    {
     "name": "stderr",
     "output_type": "stream",
     "text": [
      "/home/asufian/.local/share/pipx/venvs/notebook/lib/python3.12/site-packages/torchvision/models/_utils.py:208: UserWarning: The parameter 'pretrained' is deprecated since 0.13 and may be removed in the future, please use 'weights' instead.\n",
      "  warnings.warn(\n",
      "/home/asufian/.local/share/pipx/venvs/notebook/lib/python3.12/site-packages/torchvision/models/_utils.py:223: UserWarning: Arguments other than a weight enum or `None` for 'weights' are deprecated since 0.13 and may be removed in the future. The current behavior is equivalent to passing `weights=None`.\n",
      "  warnings.warn(msg)\n"
     ]
    },
    {
     "name": "stdout",
     "output_type": "stream",
     "text": [
      "----------------------> 0.49384669479606186\n",
      "Evaluated Accuracy: 0.4938\n",
      "Testing b_a_r = 0.9432, c_a_r = 0.1029, f_a_r = 0.7137\n"
     ]
    },
    {
     "name": "stderr",
     "output_type": "stream",
     "text": [
      "/home/asufian/.local/share/pipx/venvs/notebook/lib/python3.12/site-packages/torchvision/models/_utils.py:208: UserWarning: The parameter 'pretrained' is deprecated since 0.13 and may be removed in the future, please use 'weights' instead.\n",
      "  warnings.warn(\n",
      "/home/asufian/.local/share/pipx/venvs/notebook/lib/python3.12/site-packages/torchvision/models/_utils.py:223: UserWarning: Arguments other than a weight enum or `None` for 'weights' are deprecated since 0.13 and may be removed in the future. The current behavior is equivalent to passing `weights=None`.\n",
      "  warnings.warn(msg)\n"
     ]
    },
    {
     "name": "stdout",
     "output_type": "stream",
     "text": [
      "----------------------> 0.699367088607595\n",
      "Evaluated Accuracy: 0.6994\n",
      "Testing b_a_r = 0.0378, c_a_r = 0.1030, f_a_r = 0.7432\n"
     ]
    },
    {
     "name": "stderr",
     "output_type": "stream",
     "text": [
      "/home/asufian/.local/share/pipx/venvs/notebook/lib/python3.12/site-packages/torchvision/models/_utils.py:208: UserWarning: The parameter 'pretrained' is deprecated since 0.13 and may be removed in the future, please use 'weights' instead.\n",
      "  warnings.warn(\n",
      "/home/asufian/.local/share/pipx/venvs/notebook/lib/python3.12/site-packages/torchvision/models/_utils.py:223: UserWarning: Arguments other than a weight enum or `None` for 'weights' are deprecated since 0.13 and may be removed in the future. The current behavior is equivalent to passing `weights=None`.\n",
      "  warnings.warn(msg)\n"
     ]
    },
    {
     "name": "stdout",
     "output_type": "stream",
     "text": [
      "----------------------> 0.693301687763713\n",
      "Evaluated Accuracy: 0.6933\n",
      "Testing b_a_r = 0.9982, c_a_r = 0.1102, f_a_r = 0.6945\n"
     ]
    },
    {
     "name": "stderr",
     "output_type": "stream",
     "text": [
      "/home/asufian/.local/share/pipx/venvs/notebook/lib/python3.12/site-packages/torchvision/models/_utils.py:208: UserWarning: The parameter 'pretrained' is deprecated since 0.13 and may be removed in the future, please use 'weights' instead.\n",
      "  warnings.warn(\n",
      "/home/asufian/.local/share/pipx/venvs/notebook/lib/python3.12/site-packages/torchvision/models/_utils.py:223: UserWarning: Arguments other than a weight enum or `None` for 'weights' are deprecated since 0.13 and may be removed in the future. The current behavior is equivalent to passing `weights=None`.\n",
      "  warnings.warn(msg)\n"
     ]
    },
    {
     "name": "stdout",
     "output_type": "stream",
     "text": [
      "----------------------> 0.6964662447257384\n",
      "Evaluated Accuracy: 0.6965\n",
      "Testing b_a_r = 0.1510, c_a_r = 0.1378, f_a_r = 0.4190\n"
     ]
    },
    {
     "name": "stderr",
     "output_type": "stream",
     "text": [
      "/home/asufian/.local/share/pipx/venvs/notebook/lib/python3.12/site-packages/torchvision/models/_utils.py:208: UserWarning: The parameter 'pretrained' is deprecated since 0.13 and may be removed in the future, please use 'weights' instead.\n",
      "  warnings.warn(\n",
      "/home/asufian/.local/share/pipx/venvs/notebook/lib/python3.12/site-packages/torchvision/models/_utils.py:223: UserWarning: Arguments other than a weight enum or `None` for 'weights' are deprecated since 0.13 and may be removed in the future. The current behavior is equivalent to passing `weights=None`.\n",
      "  warnings.warn(msg)\n"
     ]
    },
    {
     "name": "stdout",
     "output_type": "stream",
     "text": [
      "----------------------> 0.6759845288326299\n",
      "Evaluated Accuracy: 0.6760\n",
      "Testing b_a_r = 0.9640, c_a_r = 0.1032, f_a_r = 0.4723\n"
     ]
    },
    {
     "name": "stderr",
     "output_type": "stream",
     "text": [
      "/home/asufian/.local/share/pipx/venvs/notebook/lib/python3.12/site-packages/torchvision/models/_utils.py:208: UserWarning: The parameter 'pretrained' is deprecated since 0.13 and may be removed in the future, please use 'weights' instead.\n",
      "  warnings.warn(\n",
      "/home/asufian/.local/share/pipx/venvs/notebook/lib/python3.12/site-packages/torchvision/models/_utils.py:223: UserWarning: Arguments other than a weight enum or `None` for 'weights' are deprecated since 0.13 and may be removed in the future. The current behavior is equivalent to passing `weights=None`.\n",
      "  warnings.warn(msg)\n"
     ]
    },
    {
     "name": "stdout",
     "output_type": "stream",
     "text": [
      "----------------------> 0.68820323488045\n",
      "Evaluated Accuracy: 0.6882\n",
      "Testing b_a_r = 0.9758, c_a_r = 0.1218, f_a_r = 0.6786\n"
     ]
    },
    {
     "name": "stderr",
     "output_type": "stream",
     "text": [
      "/home/asufian/.local/share/pipx/venvs/notebook/lib/python3.12/site-packages/torchvision/models/_utils.py:208: UserWarning: The parameter 'pretrained' is deprecated since 0.13 and may be removed in the future, please use 'weights' instead.\n",
      "  warnings.warn(\n",
      "/home/asufian/.local/share/pipx/venvs/notebook/lib/python3.12/site-packages/torchvision/models/_utils.py:223: UserWarning: Arguments other than a weight enum or `None` for 'weights' are deprecated since 0.13 and may be removed in the future. The current behavior is equivalent to passing `weights=None`.\n",
      "  warnings.warn(msg)\n"
     ]
    },
    {
     "name": "stdout",
     "output_type": "stream",
     "text": [
      "----------------------> 0.6912798874824192\n",
      "Evaluated Accuracy: 0.6913\n",
      "Testing b_a_r = 0.0336, c_a_r = 0.3795, f_a_r = 0.0007\n"
     ]
    },
    {
     "name": "stderr",
     "output_type": "stream",
     "text": [
      "/home/asufian/.local/share/pipx/venvs/notebook/lib/python3.12/site-packages/torchvision/models/_utils.py:208: UserWarning: The parameter 'pretrained' is deprecated since 0.13 and may be removed in the future, please use 'weights' instead.\n",
      "  warnings.warn(\n",
      "/home/asufian/.local/share/pipx/venvs/notebook/lib/python3.12/site-packages/torchvision/models/_utils.py:223: UserWarning: Arguments other than a weight enum or `None` for 'weights' are deprecated since 0.13 and may be removed in the future. The current behavior is equivalent to passing `weights=None`.\n",
      "  warnings.warn(msg)\n"
     ]
    },
    {
     "name": "stdout",
     "output_type": "stream",
     "text": [
      "----------------------> 0.5809599156118143\n",
      "Evaluated Accuracy: 0.5810\n",
      "Testing b_a_r = 0.0617, c_a_r = 0.0954, f_a_r = 0.7132\n"
     ]
    },
    {
     "name": "stderr",
     "output_type": "stream",
     "text": [
      "/home/asufian/.local/share/pipx/venvs/notebook/lib/python3.12/site-packages/torchvision/models/_utils.py:208: UserWarning: The parameter 'pretrained' is deprecated since 0.13 and may be removed in the future, please use 'weights' instead.\n",
      "  warnings.warn(\n",
      "/home/asufian/.local/share/pipx/venvs/notebook/lib/python3.12/site-packages/torchvision/models/_utils.py:223: UserWarning: Arguments other than a weight enum or `None` for 'weights' are deprecated since 0.13 and may be removed in the future. The current behavior is equivalent to passing `weights=None`.\n",
      "  warnings.warn(msg)\n"
     ]
    },
    {
     "name": "stdout",
     "output_type": "stream",
     "text": [
      "----------------------> 0.6926863572433194\n",
      "Evaluated Accuracy: 0.6927\n",
      "Testing b_a_r = 0.0041, c_a_r = 0.3990, f_a_r = 0.4708\n"
     ]
    },
    {
     "name": "stderr",
     "output_type": "stream",
     "text": [
      "/home/asufian/.local/share/pipx/venvs/notebook/lib/python3.12/site-packages/torchvision/models/_utils.py:208: UserWarning: The parameter 'pretrained' is deprecated since 0.13 and may be removed in the future, please use 'weights' instead.\n",
      "  warnings.warn(\n",
      "/home/asufian/.local/share/pipx/venvs/notebook/lib/python3.12/site-packages/torchvision/models/_utils.py:223: UserWarning: Arguments other than a weight enum or `None` for 'weights' are deprecated since 0.13 and may be removed in the future. The current behavior is equivalent to passing `weights=None`.\n",
      "  warnings.warn(msg)\n"
     ]
    },
    {
     "name": "stdout",
     "output_type": "stream",
     "text": [
      "----------------------> 0.56179676511955\n",
      "Evaluated Accuracy: 0.5618\n",
      "Testing b_a_r = 0.8466, c_a_r = 0.6991, f_a_r = 0.0316\n"
     ]
    },
    {
     "name": "stderr",
     "output_type": "stream",
     "text": [
      "/home/asufian/.local/share/pipx/venvs/notebook/lib/python3.12/site-packages/torchvision/models/_utils.py:208: UserWarning: The parameter 'pretrained' is deprecated since 0.13 and may be removed in the future, please use 'weights' instead.\n",
      "  warnings.warn(\n",
      "/home/asufian/.local/share/pipx/venvs/notebook/lib/python3.12/site-packages/torchvision/models/_utils.py:223: UserWarning: Arguments other than a weight enum or `None` for 'weights' are deprecated since 0.13 and may be removed in the future. The current behavior is equivalent to passing `weights=None`.\n",
      "  warnings.warn(msg)\n"
     ]
    },
    {
     "name": "stdout",
     "output_type": "stream",
     "text": [
      "----------------------> 0.2957102672292545\n",
      "Evaluated Accuracy: 0.2957\n",
      "Testing b_a_r = 0.9363, c_a_r = 0.0492, f_a_r = 0.9993\n"
     ]
    },
    {
     "name": "stderr",
     "output_type": "stream",
     "text": [
      "/home/asufian/.local/share/pipx/venvs/notebook/lib/python3.12/site-packages/torchvision/models/_utils.py:208: UserWarning: The parameter 'pretrained' is deprecated since 0.13 and may be removed in the future, please use 'weights' instead.\n",
      "  warnings.warn(\n",
      "/home/asufian/.local/share/pipx/venvs/notebook/lib/python3.12/site-packages/torchvision/models/_utils.py:223: UserWarning: Arguments other than a weight enum or `None` for 'weights' are deprecated since 0.13 and may be removed in the future. The current behavior is equivalent to passing `weights=None`.\n",
      "  warnings.warn(msg)\n"
     ]
    },
    {
     "name": "stdout",
     "output_type": "stream",
     "text": [
      "----------------------> 0.6690400843881856\n",
      "Evaluated Accuracy: 0.6690\n",
      "Testing b_a_r = 0.0499, c_a_r = 0.1044, f_a_r = 0.4868\n"
     ]
    },
    {
     "name": "stderr",
     "output_type": "stream",
     "text": [
      "/home/asufian/.local/share/pipx/venvs/notebook/lib/python3.12/site-packages/torchvision/models/_utils.py:208: UserWarning: The parameter 'pretrained' is deprecated since 0.13 and may be removed in the future, please use 'weights' instead.\n",
      "  warnings.warn(\n",
      "/home/asufian/.local/share/pipx/venvs/notebook/lib/python3.12/site-packages/torchvision/models/_utils.py:223: UserWarning: Arguments other than a weight enum or `None` for 'weights' are deprecated since 0.13 and may be removed in the future. The current behavior is equivalent to passing `weights=None`.\n",
      "  warnings.warn(msg)\n"
     ]
    },
    {
     "name": "stdout",
     "output_type": "stream",
     "text": [
      "----------------------> 0.6903129395218003\n",
      "Evaluated Accuracy: 0.6903\n",
      "Testing b_a_r = 0.0468, c_a_r = 0.1489, f_a_r = 0.9825\n"
     ]
    },
    {
     "name": "stderr",
     "output_type": "stream",
     "text": [
      "/home/asufian/.local/share/pipx/venvs/notebook/lib/python3.12/site-packages/torchvision/models/_utils.py:208: UserWarning: The parameter 'pretrained' is deprecated since 0.13 and may be removed in the future, please use 'weights' instead.\n",
      "  warnings.warn(\n",
      "/home/asufian/.local/share/pipx/venvs/notebook/lib/python3.12/site-packages/torchvision/models/_utils.py:223: UserWarning: Arguments other than a weight enum or `None` for 'weights' are deprecated since 0.13 and may be removed in the future. The current behavior is equivalent to passing `weights=None`.\n",
      "  warnings.warn(msg)\n"
     ]
    },
    {
     "name": "stdout",
     "output_type": "stream",
     "text": [
      "----------------------> 0.6362517580872011\n",
      "Evaluated Accuracy: 0.6363\n",
      "Testing b_a_r = 0.9766, c_a_r = 0.0837, f_a_r = 0.6581\n"
     ]
    },
    {
     "name": "stderr",
     "output_type": "stream",
     "text": [
      "/home/asufian/.local/share/pipx/venvs/notebook/lib/python3.12/site-packages/torchvision/models/_utils.py:208: UserWarning: The parameter 'pretrained' is deprecated since 0.13 and may be removed in the future, please use 'weights' instead.\n",
      "  warnings.warn(\n",
      "/home/asufian/.local/share/pipx/venvs/notebook/lib/python3.12/site-packages/torchvision/models/_utils.py:223: UserWarning: Arguments other than a weight enum or `None` for 'weights' are deprecated since 0.13 and may be removed in the future. The current behavior is equivalent to passing `weights=None`.\n",
      "  warnings.warn(msg)\n"
     ]
    },
    {
     "name": "stdout",
     "output_type": "stream",
     "text": [
      "----------------------> 0.6933895921237693\n",
      "Evaluated Accuracy: 0.6934\n",
      "Testing b_a_r = 0.9980, c_a_r = 0.0972, f_a_r = 0.7833\n"
     ]
    },
    {
     "name": "stderr",
     "output_type": "stream",
     "text": [
      "/home/asufian/.local/share/pipx/venvs/notebook/lib/python3.12/site-packages/torchvision/models/_utils.py:208: UserWarning: The parameter 'pretrained' is deprecated since 0.13 and may be removed in the future, please use 'weights' instead.\n",
      "  warnings.warn(\n",
      "/home/asufian/.local/share/pipx/venvs/notebook/lib/python3.12/site-packages/torchvision/models/_utils.py:223: UserWarning: Arguments other than a weight enum or `None` for 'weights' are deprecated since 0.13 and may be removed in the future. The current behavior is equivalent to passing `weights=None`.\n",
      "  warnings.warn(msg)\n"
     ]
    },
    {
     "name": "stdout",
     "output_type": "stream",
     "text": [
      "----------------------> 0.6953234880450071\n",
      "Evaluated Accuracy: 0.6953\n",
      "Testing b_a_r = 0.0270, c_a_r = 0.1925, f_a_r = 0.3023\n"
     ]
    },
    {
     "name": "stderr",
     "output_type": "stream",
     "text": [
      "/home/asufian/.local/share/pipx/venvs/notebook/lib/python3.12/site-packages/torchvision/models/_utils.py:208: UserWarning: The parameter 'pretrained' is deprecated since 0.13 and may be removed in the future, please use 'weights' instead.\n",
      "  warnings.warn(\n",
      "/home/asufian/.local/share/pipx/venvs/notebook/lib/python3.12/site-packages/torchvision/models/_utils.py:223: UserWarning: Arguments other than a weight enum or `None` for 'weights' are deprecated since 0.13 and may be removed in the future. The current behavior is equivalent to passing `weights=None`.\n",
      "  warnings.warn(msg)\n"
     ]
    },
    {
     "name": "stdout",
     "output_type": "stream",
     "text": [
      "----------------------> 0.6308016877637131\n",
      "Evaluated Accuracy: 0.6308\n",
      "Testing b_a_r = 0.9757, c_a_r = 0.1277, f_a_r = 0.2777\n"
     ]
    },
    {
     "name": "stderr",
     "output_type": "stream",
     "text": [
      "/home/asufian/.local/share/pipx/venvs/notebook/lib/python3.12/site-packages/torchvision/models/_utils.py:208: UserWarning: The parameter 'pretrained' is deprecated since 0.13 and may be removed in the future, please use 'weights' instead.\n",
      "  warnings.warn(\n",
      "/home/asufian/.local/share/pipx/venvs/notebook/lib/python3.12/site-packages/torchvision/models/_utils.py:223: UserWarning: Arguments other than a weight enum or `None` for 'weights' are deprecated since 0.13 and may be removed in the future. The current behavior is equivalent to passing `weights=None`.\n",
      "  warnings.warn(msg)\n"
     ]
    },
    {
     "name": "stdout",
     "output_type": "stream",
     "text": [
      "----------------------> 0.6567334739803093\n",
      "Evaluated Accuracy: 0.6567\n",
      "\n",
      "✅ Optimal Values:\n",
      "   - b_a_r: 0.0000\n",
      "   - c_a_r: 0.1123\n",
      "   - f_a_r: 0.5552\n",
      "📈 Highest Accuracy Achieved: 0.6996\n"
     ]
    }
   ],
   "source": [
    "import numpy as np\n",
    "import torch\n",
    "import matplotlib.pyplot as plt\n",
    "from skopt import gp_minimize\n",
    "from skopt.space import Real\n",
    "from skopt.utils import use_named_args\n",
    "from skopt.plots import plot_convergence\n",
    "\n",
    "# Device setup\n",
    "device = torch.device(\"cuda\" if torch.cuda.is_available() else \"cpu\")\n",
    "\n",
    "\n",
    "# Define the search space for b_a_r, c_a_r, and f_a_r\n",
    "search_space = [\n",
    "    Real(0.0, 1.0, name=\"b_a_r\"),\n",
    "    Real(0.0, 1.0, name=\"c_a_r\"),\n",
    "    Real(0.0, 1.0, name=\"f_a_r\")\n",
    "]\n",
    "\n",
    "# Define the objective function for Bayesian Optimization\n",
    "@use_named_args(search_space)\n",
    "def objective(b_a_r, c_a_r, f_a_r):\n",
    "    \"\"\"\n",
    "    Objective function to optimize the adaptation ratios.\n",
    "    It applies adaptation, evaluates the model, and returns the negative accuracy.\n",
    "    \"\"\"\n",
    "    accuracy = get_model_accuracy(b_a_r, c_a_r, f_a_r)\n",
    "    print(f\"Evaluated Accuracy: {accuracy:.4f}\")  # Debugging Output\n",
    "    \n",
    "    return -accuracy  # We minimize, so return negative accuracy\n",
    "\n",
    "# Perform Bayesian Optimization with additional settings\n",
    "search_iteration=50\n",
    "res = gp_minimize(\n",
    "    func=objective,\n",
    "    dimensions=search_space,\n",
    "    n_calls=search_iteration,               # Number of evaluations\n",
    "    n_initial_points=5,       # Initial random explorations before GP starts\n",
    "    acq_func=\"EI\",            # Acquisition function: Expected Improvement\n",
    "    random_state=42,          # Ensure reproducibility\n",
    "    n_jobs=-1,                # Parallel execution for faster optimization\n",
    ")\n",
    "\n",
    "# Extract optimal results\n",
    "optimal_b_a_r, optimal_c_a_r, optimal_f_a_r = res.x\n",
    "best_accuracy = -res.fun\n",
    "\n",
    "print(f\"\\n✅ Optimal Values:\")\n",
    "print(f\"   - b_a_r: {optimal_b_a_r:.4f}\")\n",
    "print(f\"   - c_a_r: {optimal_c_a_r:.4f}\")\n",
    "print(f\"   - f_a_r: {optimal_f_a_r:.4f}\")\n",
    "print(f\"📈 Highest Accuracy Achieved: {best_accuracy:.4f}\")\n",
    "\n",
    "\n"
   ]
  },
  {
   "cell_type": "code",
   "execution_count": null,
   "metadata": {},
   "outputs": [],
   "source": []
  },
  {
   "cell_type": "code",
   "execution_count": 93,
   "metadata": {},
   "outputs": [
    {
     "name": "stderr",
     "output_type": "stream",
     "text": [
      "/home/asufian/.local/share/pipx/venvs/notebook/lib/python3.12/site-packages/torchvision/models/_utils.py:208: UserWarning: The parameter 'pretrained' is deprecated since 0.13 and may be removed in the future, please use 'weights' instead.\n",
      "  warnings.warn(\n",
      "/home/asufian/.local/share/pipx/venvs/notebook/lib/python3.12/site-packages/torchvision/models/_utils.py:223: UserWarning: Arguments other than a weight enum or `None` for 'weights' are deprecated since 0.13 and may be removed in the future. The current behavior is equivalent to passing `weights=None`.\n",
      "  warnings.warn(msg)\n"
     ]
    },
    {
     "name": "stdout",
     "output_type": "stream",
     "text": [
      "---Accu-----pre----rec---------> 0.5839 ± 0.0553  0.6184 ± 0.0668  0.5839 ± 0.0553\n"
     ]
    },
    {
     "name": "stderr",
     "output_type": "stream",
     "text": [
      "/home/asufian/.local/share/pipx/venvs/notebook/lib/python3.12/site-packages/torchvision/models/_utils.py:208: UserWarning: The parameter 'pretrained' is deprecated since 0.13 and may be removed in the future, please use 'weights' instead.\n",
      "  warnings.warn(\n",
      "/home/asufian/.local/share/pipx/venvs/notebook/lib/python3.12/site-packages/torchvision/models/_utils.py:223: UserWarning: Arguments other than a weight enum or `None` for 'weights' are deprecated since 0.13 and may be removed in the future. The current behavior is equivalent to passing `weights=None`.\n",
      "  warnings.warn(msg)\n"
     ]
    },
    {
     "name": "stdout",
     "output_type": "stream",
     "text": [
      "---Accu-----pre----rec---------> 0.3717 ± 0.0468  0.3943 ± 0.0665  0.3717 ± 0.0468\n",
      "---Accu-----pre----rec---------> 0.6996 ± 0.0520  0.7226 ± 0.0524  0.6996 ± 0.0520\n"
     ]
    }
   ],
   "source": [
    "convolutional_network_with_dropout = ResNet18WithDropout(pretrained=False, dr=0.0)\n",
    "convolutional_network_with_dropout.fc = nn.Flatten()\n",
    "xyz = convolutional_network_with_dropout\n",
    "M3 = PrototypicalNetworks_dynamic_query(xyz).to(device)\n",
    "M3.load_state_dict(torch.load('model_own_path.pt'))\n",
    "evaluate2('/home/asufian/Desktop/output_olchiki/resnet_resluts/base/12_w_1_s_f', test_loader, M3, criterion)\n",
    "# Load Model M2\n",
    "convolutional_network_with_dropout = ResNet18WithDropout(pretrained=False, dr=0.0)\n",
    "convolutional_network_with_dropout.fc = nn.Flatten()\n",
    "xyz2 = convolutional_network_with_dropout\n",
    "M2 = PrototypicalNetworks_dynamic_query(xyz2).to(device)\n",
    "M2.load_state_dict(torch.load('model_mu_path.pt'))\n",
    "evaluate2(\"/home/asufian/Desktop/output_olchiki/resnet_resluts/secondary/12_w_1_s_f\", test_loader, M2, criterion)\n",
    "# Update Model M3's weights using a weighted combination of Model M3 and Model M2\n",
    "update_model_weights2(M3, M2, conv_ratio= optimal_c_a_r , fc_ratio=optimal_f_a_r , bias_ratio=optimal_b_a_r)\n",
    "\n",
    "# Assuming you have the evaluate2 function defined\n",
    "# Evaluate the updated model (M3) using evaluate2 function with some arguments\n",
    "evaluate2(\"/home/asufian/Desktop/output_olchiki/resnet_resluts/amul/12_w_1_s_f\", test_loader, M3, criterion)\n"
   ]
  },
  {
   "cell_type": "code",
   "execution_count": null,
   "metadata": {},
   "outputs": [],
   "source": []
  },
  {
   "cell_type": "code",
   "execution_count": null,
   "metadata": {},
   "outputs": [],
   "source": []
  },
  {
   "cell_type": "code",
   "execution_count": 94,
   "metadata": {},
   "outputs": [
    {
     "name": "stderr",
     "output_type": "stream",
     "text": [
      "/home/asufian/.local/share/pipx/venvs/notebook/lib/python3.12/site-packages/torchvision/models/_utils.py:208: UserWarning: The parameter 'pretrained' is deprecated since 0.13 and may be removed in the future, please use 'weights' instead.\n",
      "  warnings.warn(\n",
      "/home/asufian/.local/share/pipx/venvs/notebook/lib/python3.12/site-packages/torchvision/models/_utils.py:223: UserWarning: Arguments other than a weight enum or `None` for 'weights' are deprecated since 0.13 and may be removed in the future. The current behavior is equivalent to passing `weights=None`.\n",
      "  warnings.warn(msg)\n"
     ]
    }
   ],
   "source": [
    "device = torch.device(\"cuda\" if torch.cuda.is_available() else \"cpu\")\n",
    "\n",
    "\n",
    "\n",
    "!rm model_mu_path.pt\n",
    "!rm model_own_path.pt\n",
    "\n",
    "convolutional_network_with_dropout = ResNet18WithDropout(pretrained=False, dr=0.0)\n",
    "convolutional_network_with_dropout.fc = nn.Flatten()\n",
    "model_own = PrototypicalNetworks_dynamic_query(convolutional_network_with_dropout).to(device)\n",
    "model_own.load_state_dict(torch.load('/home/asufian/Desktop/output_olchiki/code/modelr_res18.pth',map_location=torch.device('cpu')))\n",
    "\n",
    "\n",
    "convolutional_network_with_dropout = ResNet18WithDropout(pretrained=False, dr=0.0)\n",
    "convolutional_network_with_dropout.fc = nn.Flatten()\n",
    "model_own_1_shot = PrototypicalNetworks_dynamic_query(convolutional_network_with_dropout).to(device)\n",
    "model_own_1_shot.load_state_dict(torch.load('/home/asufian/Desktop/output_olchiki/code/olchiki/ressecondary/model_5/model_B_olchiki_5-shot_res.pth',map_location=torch.device('cpu')))\n",
    "\n",
    "\n",
    "torch.save(model_own_1_shot.state_dict(), 'model_mu_path.pt')\n",
    "torch.save(model_own.state_dict(), 'model_own_path.pt')"
   ]
  },
  {
   "cell_type": "code",
   "execution_count": 95,
   "metadata": {},
   "outputs": [],
   "source": [
    "\n",
    "def evaluate2(fname,data_loader, model, criterion=nn.CrossEntropyLoss()):\n",
    "    total_predictions = 0\n",
    "    correct_predictions = 0\n",
    "    total_loss = 0.0\n",
    "    accuracy = 0\n",
    "    datta = \"\"\n",
    "    model.eval()\n",
    "    tlv_cls=0\n",
    "    ttla=0\n",
    "    ttlal=[]\n",
    "    ttlac=0\n",
    "    precision=[]\n",
    "    recall=[]\n",
    "    \n",
    "    with torch.no_grad():\n",
    "        for episode in range(len(clss_12)):\n",
    "            support_set, query_set = data_loader.__getitem__(clss_12[tlv_cls] , clss_support_imagesss_5_shot[tlv_cls])\n",
    "\n",
    "           \n",
    "            clssa=str(clss_12[tlv_cls])\n",
    "            clss=str(clssa).replace(',',' ').replace('\\'',' ').replace('\\'',' ')\n",
    "            msg=str(clss_support_imagesss_5_shot[tlv_cls])\n",
    "            str(clss_12[tlv_cls])\n",
    "\n",
    "            tlv_cls+=1\n",
    "            # print(len(support_set),len(query_set))\n",
    "            support_set = [(torch.stack(images).to(device), label[0]) for images, label in support_set]\n",
    "            query_set = [(torch.stack(images).to(device), label) for images, label in query_set]\n",
    "\n",
    "            support_images, support_labels = zip(*support_set)\n",
    "\n",
    "            query_images, query_labels = zip(*query_set)\n",
    "\n",
    "            classification_scores = model(support_images, support_labels, query_images)\n",
    "            cortt = 0\n",
    "            totl = 0\n",
    "            confusion_mat=None\n",
    "            all_predicted_labels = []\n",
    "            all_actual_labels = []\n",
    "            # print(len(classification_scores),len(query_labels))\n",
    "            for ei in range(len(classification_scores)):\n",
    "                classification_scores_each_class = classification_scores[ei]\n",
    "                # print(classification_scores_each_class)\n",
    "                predicted_labels_eachclas = torch.argmax(classification_scores_each_class, dim=1)\n",
    "                pp = predicted_labels_eachclas.tolist()\n",
    "                act = query_labels[ei]\n",
    "                all_predicted_labels.extend(pp)\n",
    "                all_actual_labels.extend(act)\n",
    "                for iiii in range(len(pp)):\n",
    "                    if pp[iiii] == act[iiii]:\n",
    "                        cortt = cortt + 1\n",
    "                totl = totl + len(pp)\n",
    "                # print(len(act))\n",
    "            accuracy = cortt / totl\n",
    "            ttla+=1\n",
    "            ttlac+=accuracy\n",
    "            ttlal.append(accuracy)\n",
    "            # print(cortt , totl,\"Validation Accuracy:              \", cortt / totl)\n",
    "            confusion_mat = confusion_matrix(all_actual_labels, all_predicted_labels)\n",
    "            # print(\"Confusion Matrix:\")\n",
    "            # print(confusion_mat)\n",
    "\n",
    "            # fname='./own35_mapi_5_way_1_shot'\n",
    "\n",
    "            precision_overall, recall_overall, f1ss= calculate_metrics_get_per(msg,confusion_mat,acciuracy=cortt / totl,cls=clss,flnm=fname)\n",
    "            precision.append(precision_overall)\n",
    "            recall.append(recall_overall)\n",
    "    print(f\"---Accu-----pre----rec---------> {np.mean(ttlal):.4f} ± {np.std(ttlal, ddof=1):.4f}  \"\n",
    "      f\"{np.mean(precision):.4f} ± {np.std(precision, ddof=1):.4f}  \"\n",
    "      f\"{np.mean(recall):.4f} ± {np.std(recall, ddof=1):.4f}\")\n",
    "\n",
    "    # print(\"---Accu-----pre----rec---------->\",np.mean(ttlal),'±',np.std(ttlal, ddof=1), np.mean(precision),'±',np.std(precision, ddof=1),np.mean(precision),'±',np.std(precision, ddof=1),)\n",
    "# %%%%%%\n",
    "\n",
    "def evaluate3(fname,data_loader, model, criterion=nn.CrossEntropyLoss()):\n",
    "    total_predictions = 0\n",
    "    correct_predictions = 0\n",
    "    total_loss = 0.0\n",
    "    accuracy = 0\n",
    "    datta = \"\"\n",
    "    model.eval()\n",
    "    tlv_cls=0\n",
    "    ttla=0\n",
    "    ttlac=0\n",
    "    with torch.no_grad():\n",
    "        for episode in range(len(clss_12)):\n",
    "            support_set, query_set = data_loader.__getitem__(clss_12[tlv_cls] , clss_support_imagesss_5_shot[tlv_cls])\n",
    "\n",
    "            \n",
    "            clssa=str(clss_12[tlv_cls])\n",
    "            clss=str(clssa).replace(',',' ').replace('\\'',' ').replace('\\'',' ')\n",
    "            msg=str(clss_support_imagesss_5_shot[tlv_cls])\n",
    "            str(clss_12[tlv_cls])\n",
    "\n",
    "            tlv_cls+=1\n",
    "            # print(len(support_set),len(query_set))\n",
    "            support_set = [(torch.stack(images).to(device), label[0]) for images, label in support_set]\n",
    "            query_set = [(torch.stack(images).to(device), label) for images, label in query_set]\n",
    "\n",
    "            support_images, support_labels = zip(*support_set)\n",
    "\n",
    "            query_images, query_labels = zip(*query_set)\n",
    "\n",
    "            classification_scores = model(support_images, support_labels, query_images)\n",
    "            cortt = 0\n",
    "            totl = 0\n",
    "            confusion_mat=None\n",
    "            all_predicted_labels = []\n",
    "            all_actual_labels = []\n",
    "            # print(len(classification_scores),len(query_labels))\n",
    "            for ei in range(len(classification_scores)):\n",
    "                classification_scores_each_class = classification_scores[ei]\n",
    "                # print(classification_scores_each_class)\n",
    "                predicted_labels_eachclas = torch.argmax(classification_scores_each_class, dim=1)\n",
    "                pp = predicted_labels_eachclas.tolist()\n",
    "                act = query_labels[ei]\n",
    "                all_predicted_labels.extend(pp)\n",
    "                all_actual_labels.extend(act)\n",
    "                for iiii in range(len(pp)):\n",
    "                    if pp[iiii] == act[iiii]:\n",
    "                        cortt = cortt + 1\n",
    "                totl = totl + len(pp)\n",
    "                # print(len(act))\n",
    "            accuracy = cortt / totl\n",
    "            ttla+=1\n",
    "            ttlac+=accuracy\n",
    "            # print(cortt , totl,\"Validation Accuracy:              \", cortt / totl)\n",
    "            # confusion_mat = confusion_matrix(all_actual_labels, all_predicted_labels)\n",
    "            # print(\"Confusion Matrix:\")\n",
    "            # print(confusion_mat)\n",
    "\n",
    "            # fname='./own35_mapi_5_way_1_shot'\n",
    "\n",
    "            # calculate_metrics_get_per(msg,confusion_mat,acciuracy=cortt / totl,cls=clss,flnm=fname)\n",
    "\n",
    "    print(\"---------------------->\",ttlac/ttla)\n",
    "    return ttlac/ttla"
   ]
  },
  {
   "cell_type": "code",
   "execution_count": 96,
   "metadata": {
    "scrolled": true
   },
   "outputs": [
    {
     "name": "stdout",
     "output_type": "stream",
     "text": [
      "Testing b_a_r = 0.7965, c_a_r = 0.1834, f_a_r = 0.7797\n"
     ]
    },
    {
     "name": "stderr",
     "output_type": "stream",
     "text": [
      "/home/asufian/.local/share/pipx/venvs/notebook/lib/python3.12/site-packages/torchvision/models/_utils.py:208: UserWarning: The parameter 'pretrained' is deprecated since 0.13 and may be removed in the future, please use 'weights' instead.\n",
      "  warnings.warn(\n",
      "/home/asufian/.local/share/pipx/venvs/notebook/lib/python3.12/site-packages/torchvision/models/_utils.py:223: UserWarning: Arguments other than a weight enum or `None` for 'weights' are deprecated since 0.13 and may be removed in the future. The current behavior is equivalent to passing `weights=None`.\n",
      "  warnings.warn(msg)\n"
     ]
    },
    {
     "name": "stdout",
     "output_type": "stream",
     "text": [
      "----------------------> 0.7956481481481482\n",
      "Evaluated Accuracy: 0.7956\n",
      "Testing b_a_r = 0.5969, c_a_r = 0.4458, f_a_r = 0.1000\n",
      "----------------------> 0.5434259259259259\n",
      "Evaluated Accuracy: 0.5434\n",
      "Testing b_a_r = 0.4592, c_a_r = 0.3337, f_a_r = 0.1429\n",
      "----------------------> 0.6575925925925926\n",
      "Evaluated Accuracy: 0.6576\n",
      "Testing b_a_r = 0.6509, c_a_r = 0.0564, f_a_r = 0.7220\n",
      "----------------------> 0.7605555555555555\n",
      "Evaluated Accuracy: 0.7606\n",
      "Testing b_a_r = 0.9386, c_a_r = 0.0008, f_a_r = 0.9922\n",
      "----------------------> 0.7197222222222223\n",
      "Evaluated Accuracy: 0.7197\n",
      "Testing b_a_r = 0.0250, c_a_r = 1.0000, f_a_r = 0.4630\n"
     ]
    },
    {
     "name": "stderr",
     "output_type": "stream",
     "text": [
      "/home/asufian/.local/share/pipx/venvs/notebook/lib/python3.12/site-packages/torchvision/models/_utils.py:208: UserWarning: The parameter 'pretrained' is deprecated since 0.13 and may be removed in the future, please use 'weights' instead.\n",
      "  warnings.warn(\n",
      "/home/asufian/.local/share/pipx/venvs/notebook/lib/python3.12/site-packages/torchvision/models/_utils.py:223: UserWarning: Arguments other than a weight enum or `None` for 'weights' are deprecated since 0.13 and may be removed in the future. The current behavior is equivalent to passing `weights=None`.\n",
      "  warnings.warn(msg)\n"
     ]
    },
    {
     "name": "stdout",
     "output_type": "stream",
     "text": [
      "----------------------> 0.28259259259259256\n",
      "Evaluated Accuracy: 0.2826\n",
      "Testing b_a_r = 0.0000, c_a_r = 0.1462, f_a_r = 0.0000\n"
     ]
    },
    {
     "name": "stderr",
     "output_type": "stream",
     "text": [
      "/home/asufian/.local/share/pipx/venvs/notebook/lib/python3.12/site-packages/torchvision/models/_utils.py:208: UserWarning: The parameter 'pretrained' is deprecated since 0.13 and may be removed in the future, please use 'weights' instead.\n",
      "  warnings.warn(\n",
      "/home/asufian/.local/share/pipx/venvs/notebook/lib/python3.12/site-packages/torchvision/models/_utils.py:223: UserWarning: Arguments other than a weight enum or `None` for 'weights' are deprecated since 0.13 and may be removed in the future. The current behavior is equivalent to passing `weights=None`.\n",
      "  warnings.warn(msg)\n"
     ]
    },
    {
     "name": "stdout",
     "output_type": "stream",
     "text": [
      "----------------------> 0.7471296296296295\n",
      "Evaluated Accuracy: 0.7471\n",
      "Testing b_a_r = 0.0000, c_a_r = 0.1595, f_a_r = 1.0000\n"
     ]
    },
    {
     "name": "stderr",
     "output_type": "stream",
     "text": [
      "/home/asufian/.local/share/pipx/venvs/notebook/lib/python3.12/site-packages/torchvision/models/_utils.py:208: UserWarning: The parameter 'pretrained' is deprecated since 0.13 and may be removed in the future, please use 'weights' instead.\n",
      "  warnings.warn(\n",
      "/home/asufian/.local/share/pipx/venvs/notebook/lib/python3.12/site-packages/torchvision/models/_utils.py:223: UserWarning: Arguments other than a weight enum or `None` for 'weights' are deprecated since 0.13 and may be removed in the future. The current behavior is equivalent to passing `weights=None`.\n",
      "  warnings.warn(msg)\n"
     ]
    },
    {
     "name": "stdout",
     "output_type": "stream",
     "text": [
      "----------------------> 0.8089814814814814\n",
      "Evaluated Accuracy: 0.8090\n",
      "Testing b_a_r = 0.1311, c_a_r = 0.2340, f_a_r = 1.0000\n"
     ]
    },
    {
     "name": "stderr",
     "output_type": "stream",
     "text": [
      "/home/asufian/.local/share/pipx/venvs/notebook/lib/python3.12/site-packages/torchvision/models/_utils.py:208: UserWarning: The parameter 'pretrained' is deprecated since 0.13 and may be removed in the future, please use 'weights' instead.\n",
      "  warnings.warn(\n",
      "/home/asufian/.local/share/pipx/venvs/notebook/lib/python3.12/site-packages/torchvision/models/_utils.py:223: UserWarning: Arguments other than a weight enum or `None` for 'weights' are deprecated since 0.13 and may be removed in the future. The current behavior is equivalent to passing `weights=None`.\n",
      "  warnings.warn(msg)\n"
     ]
    },
    {
     "name": "stdout",
     "output_type": "stream",
     "text": [
      "----------------------> 0.7446296296296296\n",
      "Evaluated Accuracy: 0.7446\n",
      "Testing b_a_r = 1.0000, c_a_r = 0.1238, f_a_r = 1.0000\n"
     ]
    },
    {
     "name": "stderr",
     "output_type": "stream",
     "text": [
      "/home/asufian/.local/share/pipx/venvs/notebook/lib/python3.12/site-packages/torchvision/models/_utils.py:208: UserWarning: The parameter 'pretrained' is deprecated since 0.13 and may be removed in the future, please use 'weights' instead.\n",
      "  warnings.warn(\n",
      "/home/asufian/.local/share/pipx/venvs/notebook/lib/python3.12/site-packages/torchvision/models/_utils.py:223: UserWarning: Arguments other than a weight enum or `None` for 'weights' are deprecated since 0.13 and may be removed in the future. The current behavior is equivalent to passing `weights=None`.\n",
      "  warnings.warn(msg)\n"
     ]
    },
    {
     "name": "stdout",
     "output_type": "stream",
     "text": [
      "----------------------> 0.8052777777777779\n",
      "Evaluated Accuracy: 0.8053\n",
      "Testing b_a_r = 0.9664, c_a_r = 0.0000, f_a_r = 0.0000\n"
     ]
    },
    {
     "name": "stderr",
     "output_type": "stream",
     "text": [
      "/home/asufian/.local/share/pipx/venvs/notebook/lib/python3.12/site-packages/torchvision/models/_utils.py:208: UserWarning: The parameter 'pretrained' is deprecated since 0.13 and may be removed in the future, please use 'weights' instead.\n",
      "  warnings.warn(\n",
      "/home/asufian/.local/share/pipx/venvs/notebook/lib/python3.12/site-packages/torchvision/models/_utils.py:223: UserWarning: Arguments other than a weight enum or `None` for 'weights' are deprecated since 0.13 and may be removed in the future. The current behavior is equivalent to passing `weights=None`.\n",
      "  warnings.warn(msg)\n"
     ]
    },
    {
     "name": "stdout",
     "output_type": "stream",
     "text": [
      "----------------------> 0.6887037037037037\n",
      "Evaluated Accuracy: 0.6887\n",
      "Testing b_a_r = 0.4127, c_a_r = 0.7104, f_a_r = 0.9920\n"
     ]
    },
    {
     "name": "stderr",
     "output_type": "stream",
     "text": [
      "/home/asufian/.local/share/pipx/venvs/notebook/lib/python3.12/site-packages/torchvision/models/_utils.py:208: UserWarning: The parameter 'pretrained' is deprecated since 0.13 and may be removed in the future, please use 'weights' instead.\n",
      "  warnings.warn(\n",
      "/home/asufian/.local/share/pipx/venvs/notebook/lib/python3.12/site-packages/torchvision/models/_utils.py:223: UserWarning: Arguments other than a weight enum or `None` for 'weights' are deprecated since 0.13 and may be removed in the future. The current behavior is equivalent to passing `weights=None`.\n",
      "  warnings.warn(msg)\n"
     ]
    },
    {
     "name": "stdout",
     "output_type": "stream",
     "text": [
      "----------------------> 0.3232407407407407\n",
      "Evaluated Accuracy: 0.3232\n",
      "Testing b_a_r = 1.0000, c_a_r = 0.1327, f_a_r = 1.0000\n"
     ]
    },
    {
     "name": "stderr",
     "output_type": "stream",
     "text": [
      "/home/asufian/.local/share/pipx/venvs/notebook/lib/python3.12/site-packages/torchvision/models/_utils.py:208: UserWarning: The parameter 'pretrained' is deprecated since 0.13 and may be removed in the future, please use 'weights' instead.\n",
      "  warnings.warn(\n",
      "/home/asufian/.local/share/pipx/venvs/notebook/lib/python3.12/site-packages/torchvision/models/_utils.py:223: UserWarning: Arguments other than a weight enum or `None` for 'weights' are deprecated since 0.13 and may be removed in the future. The current behavior is equivalent to passing `weights=None`.\n",
      "  warnings.warn(msg)\n"
     ]
    },
    {
     "name": "stdout",
     "output_type": "stream",
     "text": [
      "----------------------> 0.8030555555555555\n",
      "Evaluated Accuracy: 0.8031\n",
      "Testing b_a_r = 0.0798, c_a_r = 0.1426, f_a_r = 0.6975\n"
     ]
    },
    {
     "name": "stderr",
     "output_type": "stream",
     "text": [
      "/home/asufian/.local/share/pipx/venvs/notebook/lib/python3.12/site-packages/torchvision/models/_utils.py:208: UserWarning: The parameter 'pretrained' is deprecated since 0.13 and may be removed in the future, please use 'weights' instead.\n",
      "  warnings.warn(\n",
      "/home/asufian/.local/share/pipx/venvs/notebook/lib/python3.12/site-packages/torchvision/models/_utils.py:223: UserWarning: Arguments other than a weight enum or `None` for 'weights' are deprecated since 0.13 and may be removed in the future. The current behavior is equivalent to passing `weights=None`.\n",
      "  warnings.warn(msg)\n"
     ]
    },
    {
     "name": "stdout",
     "output_type": "stream",
     "text": [
      "----------------------> 0.8203703703703703\n",
      "Evaluated Accuracy: 0.8204\n",
      "Testing b_a_r = 0.0383, c_a_r = 0.1101, f_a_r = 0.9715\n"
     ]
    },
    {
     "name": "stderr",
     "output_type": "stream",
     "text": [
      "/home/asufian/.local/share/pipx/venvs/notebook/lib/python3.12/site-packages/torchvision/models/_utils.py:208: UserWarning: The parameter 'pretrained' is deprecated since 0.13 and may be removed in the future, please use 'weights' instead.\n",
      "  warnings.warn(\n",
      "/home/asufian/.local/share/pipx/venvs/notebook/lib/python3.12/site-packages/torchvision/models/_utils.py:223: UserWarning: Arguments other than a weight enum or `None` for 'weights' are deprecated since 0.13 and may be removed in the future. The current behavior is equivalent to passing `weights=None`.\n",
      "  warnings.warn(msg)\n"
     ]
    },
    {
     "name": "stdout",
     "output_type": "stream",
     "text": [
      "----------------------> 0.8037962962962965\n",
      "Evaluated Accuracy: 0.8038\n",
      "Testing b_a_r = 0.0073, c_a_r = 0.1441, f_a_r = 0.6410\n"
     ]
    },
    {
     "name": "stderr",
     "output_type": "stream",
     "text": [
      "/home/asufian/.local/share/pipx/venvs/notebook/lib/python3.12/site-packages/torchvision/models/_utils.py:208: UserWarning: The parameter 'pretrained' is deprecated since 0.13 and may be removed in the future, please use 'weights' instead.\n",
      "  warnings.warn(\n",
      "/home/asufian/.local/share/pipx/venvs/notebook/lib/python3.12/site-packages/torchvision/models/_utils.py:223: UserWarning: Arguments other than a weight enum or `None` for 'weights' are deprecated since 0.13 and may be removed in the future. The current behavior is equivalent to passing `weights=None`.\n",
      "  warnings.warn(msg)\n"
     ]
    },
    {
     "name": "stdout",
     "output_type": "stream",
     "text": [
      "----------------------> 0.8219444444444445\n",
      "Evaluated Accuracy: 0.8219\n",
      "Testing b_a_r = 0.2951, c_a_r = 0.4298, f_a_r = 0.9970\n"
     ]
    },
    {
     "name": "stderr",
     "output_type": "stream",
     "text": [
      "/home/asufian/.local/share/pipx/venvs/notebook/lib/python3.12/site-packages/torchvision/models/_utils.py:208: UserWarning: The parameter 'pretrained' is deprecated since 0.13 and may be removed in the future, please use 'weights' instead.\n",
      "  warnings.warn(\n",
      "/home/asufian/.local/share/pipx/venvs/notebook/lib/python3.12/site-packages/torchvision/models/_utils.py:223: UserWarning: Arguments other than a weight enum or `None` for 'weights' are deprecated since 0.13 and may be removed in the future. The current behavior is equivalent to passing `weights=None`.\n",
      "  warnings.warn(msg)\n"
     ]
    },
    {
     "name": "stdout",
     "output_type": "stream",
     "text": [
      "----------------------> 0.5656481481481482\n",
      "Evaluated Accuracy: 0.5656\n",
      "Testing b_a_r = 0.9469, c_a_r = 0.1303, f_a_r = 0.5488\n"
     ]
    },
    {
     "name": "stderr",
     "output_type": "stream",
     "text": [
      "/home/asufian/.local/share/pipx/venvs/notebook/lib/python3.12/site-packages/torchvision/models/_utils.py:208: UserWarning: The parameter 'pretrained' is deprecated since 0.13 and may be removed in the future, please use 'weights' instead.\n",
      "  warnings.warn(\n",
      "/home/asufian/.local/share/pipx/venvs/notebook/lib/python3.12/site-packages/torchvision/models/_utils.py:223: UserWarning: Arguments other than a weight enum or `None` for 'weights' are deprecated since 0.13 and may be removed in the future. The current behavior is equivalent to passing `weights=None`.\n",
      "  warnings.warn(msg)\n"
     ]
    },
    {
     "name": "stdout",
     "output_type": "stream",
     "text": [
      "----------------------> 0.8052777777777779\n",
      "Evaluated Accuracy: 0.8053\n",
      "Testing b_a_r = 0.0208, c_a_r = 0.1718, f_a_r = 0.4603\n"
     ]
    },
    {
     "name": "stderr",
     "output_type": "stream",
     "text": [
      "/home/asufian/.local/share/pipx/venvs/notebook/lib/python3.12/site-packages/torchvision/models/_utils.py:208: UserWarning: The parameter 'pretrained' is deprecated since 0.13 and may be removed in the future, please use 'weights' instead.\n",
      "  warnings.warn(\n",
      "/home/asufian/.local/share/pipx/venvs/notebook/lib/python3.12/site-packages/torchvision/models/_utils.py:223: UserWarning: Arguments other than a weight enum or `None` for 'weights' are deprecated since 0.13 and may be removed in the future. The current behavior is equivalent to passing `weights=None`.\n",
      "  warnings.warn(msg)\n"
     ]
    },
    {
     "name": "stdout",
     "output_type": "stream",
     "text": [
      "----------------------> 0.7846296296296296\n",
      "Evaluated Accuracy: 0.7846\n",
      "Testing b_a_r = 0.0407, c_a_r = 0.1389, f_a_r = 0.8191\n"
     ]
    },
    {
     "name": "stderr",
     "output_type": "stream",
     "text": [
      "/home/asufian/.local/share/pipx/venvs/notebook/lib/python3.12/site-packages/torchvision/models/_utils.py:208: UserWarning: The parameter 'pretrained' is deprecated since 0.13 and may be removed in the future, please use 'weights' instead.\n",
      "  warnings.warn(\n",
      "/home/asufian/.local/share/pipx/venvs/notebook/lib/python3.12/site-packages/torchvision/models/_utils.py:223: UserWarning: Arguments other than a weight enum or `None` for 'weights' are deprecated since 0.13 and may be removed in the future. The current behavior is equivalent to passing `weights=None`.\n",
      "  warnings.warn(msg)\n"
     ]
    },
    {
     "name": "stdout",
     "output_type": "stream",
     "text": [
      "----------------------> 0.8167592592592593\n",
      "Evaluated Accuracy: 0.8168\n",
      "Testing b_a_r = 0.5100, c_a_r = 0.7752, f_a_r = 0.0029\n"
     ]
    },
    {
     "name": "stderr",
     "output_type": "stream",
     "text": [
      "/home/asufian/.local/share/pipx/venvs/notebook/lib/python3.12/site-packages/torchvision/models/_utils.py:208: UserWarning: The parameter 'pretrained' is deprecated since 0.13 and may be removed in the future, please use 'weights' instead.\n",
      "  warnings.warn(\n",
      "/home/asufian/.local/share/pipx/venvs/notebook/lib/python3.12/site-packages/torchvision/models/_utils.py:223: UserWarning: Arguments other than a weight enum or `None` for 'weights' are deprecated since 0.13 and may be removed in the future. The current behavior is equivalent to passing `weights=None`.\n",
      "  warnings.warn(msg)\n"
     ]
    },
    {
     "name": "stdout",
     "output_type": "stream",
     "text": [
      "----------------------> 0.3948148148148148\n",
      "Evaluated Accuracy: 0.3948\n",
      "Testing b_a_r = 0.0430, c_a_r = 0.1286, f_a_r = 0.7701\n"
     ]
    },
    {
     "name": "stderr",
     "output_type": "stream",
     "text": [
      "/home/asufian/.local/share/pipx/venvs/notebook/lib/python3.12/site-packages/torchvision/models/_utils.py:208: UserWarning: The parameter 'pretrained' is deprecated since 0.13 and may be removed in the future, please use 'weights' instead.\n",
      "  warnings.warn(\n",
      "/home/asufian/.local/share/pipx/venvs/notebook/lib/python3.12/site-packages/torchvision/models/_utils.py:223: UserWarning: Arguments other than a weight enum or `None` for 'weights' are deprecated since 0.13 and may be removed in the future. The current behavior is equivalent to passing `weights=None`.\n",
      "  warnings.warn(msg)\n"
     ]
    },
    {
     "name": "stdout",
     "output_type": "stream",
     "text": [
      "----------------------> 0.8165740740740741\n",
      "Evaluated Accuracy: 0.8166\n",
      "Testing b_a_r = 0.0032, c_a_r = 0.0957, f_a_r = 0.3067\n"
     ]
    },
    {
     "name": "stderr",
     "output_type": "stream",
     "text": [
      "/home/asufian/.local/share/pipx/venvs/notebook/lib/python3.12/site-packages/torchvision/models/_utils.py:208: UserWarning: The parameter 'pretrained' is deprecated since 0.13 and may be removed in the future, please use 'weights' instead.\n",
      "  warnings.warn(\n",
      "/home/asufian/.local/share/pipx/venvs/notebook/lib/python3.12/site-packages/torchvision/models/_utils.py:223: UserWarning: Arguments other than a weight enum or `None` for 'weights' are deprecated since 0.13 and may be removed in the future. The current behavior is equivalent to passing `weights=None`.\n",
      "  warnings.warn(msg)\n"
     ]
    },
    {
     "name": "stdout",
     "output_type": "stream",
     "text": [
      "----------------------> 0.752685185185185\n",
      "Evaluated Accuracy: 0.7527\n",
      "Testing b_a_r = 0.6634, c_a_r = 0.2308, f_a_r = 0.0090\n"
     ]
    },
    {
     "name": "stderr",
     "output_type": "stream",
     "text": [
      "/home/asufian/.local/share/pipx/venvs/notebook/lib/python3.12/site-packages/torchvision/models/_utils.py:208: UserWarning: The parameter 'pretrained' is deprecated since 0.13 and may be removed in the future, please use 'weights' instead.\n",
      "  warnings.warn(\n",
      "/home/asufian/.local/share/pipx/venvs/notebook/lib/python3.12/site-packages/torchvision/models/_utils.py:223: UserWarning: Arguments other than a weight enum or `None` for 'weights' are deprecated since 0.13 and may be removed in the future. The current behavior is equivalent to passing `weights=None`.\n",
      "  warnings.warn(msg)\n"
     ]
    },
    {
     "name": "stdout",
     "output_type": "stream",
     "text": [
      "----------------------> 0.7152777777777777\n",
      "Evaluated Accuracy: 0.7153\n",
      "Testing b_a_r = 0.9913, c_a_r = 0.1390, f_a_r = 0.7865\n"
     ]
    },
    {
     "name": "stderr",
     "output_type": "stream",
     "text": [
      "/home/asufian/.local/share/pipx/venvs/notebook/lib/python3.12/site-packages/torchvision/models/_utils.py:208: UserWarning: The parameter 'pretrained' is deprecated since 0.13 and may be removed in the future, please use 'weights' instead.\n",
      "  warnings.warn(\n",
      "/home/asufian/.local/share/pipx/venvs/notebook/lib/python3.12/site-packages/torchvision/models/_utils.py:223: UserWarning: Arguments other than a weight enum or `None` for 'weights' are deprecated since 0.13 and may be removed in the future. The current behavior is equivalent to passing `weights=None`.\n",
      "  warnings.warn(msg)\n"
     ]
    },
    {
     "name": "stdout",
     "output_type": "stream",
     "text": [
      "----------------------> 0.8089814814814814\n",
      "Evaluated Accuracy: 0.8090\n",
      "Testing b_a_r = 0.2797, c_a_r = 0.9974, f_a_r = 0.9984\n"
     ]
    },
    {
     "name": "stderr",
     "output_type": "stream",
     "text": [
      "/home/asufian/.local/share/pipx/venvs/notebook/lib/python3.12/site-packages/torchvision/models/_utils.py:208: UserWarning: The parameter 'pretrained' is deprecated since 0.13 and may be removed in the future, please use 'weights' instead.\n",
      "  warnings.warn(\n",
      "/home/asufian/.local/share/pipx/venvs/notebook/lib/python3.12/site-packages/torchvision/models/_utils.py:223: UserWarning: Arguments other than a weight enum or `None` for 'weights' are deprecated since 0.13 and may be removed in the future. The current behavior is equivalent to passing `weights=None`.\n",
      "  warnings.warn(msg)\n"
     ]
    },
    {
     "name": "stdout",
     "output_type": "stream",
     "text": [
      "----------------------> 0.2742592592592593\n",
      "Evaluated Accuracy: 0.2743\n",
      "Testing b_a_r = 0.1134, c_a_r = 0.1521, f_a_r = 0.8497\n"
     ]
    },
    {
     "name": "stderr",
     "output_type": "stream",
     "text": [
      "/home/asufian/.local/share/pipx/venvs/notebook/lib/python3.12/site-packages/torchvision/models/_utils.py:208: UserWarning: The parameter 'pretrained' is deprecated since 0.13 and may be removed in the future, please use 'weights' instead.\n",
      "  warnings.warn(\n",
      "/home/asufian/.local/share/pipx/venvs/notebook/lib/python3.12/site-packages/torchvision/models/_utils.py:223: UserWarning: Arguments other than a weight enum or `None` for 'weights' are deprecated since 0.13 and may be removed in the future. The current behavior is equivalent to passing `weights=None`.\n",
      "  warnings.warn(msg)\n"
     ]
    },
    {
     "name": "stdout",
     "output_type": "stream",
     "text": [
      "----------------------> 0.8169444444444444\n",
      "Evaluated Accuracy: 0.8169\n",
      "Testing b_a_r = 0.0264, c_a_r = 0.1332, f_a_r = 0.8203\n"
     ]
    },
    {
     "name": "stderr",
     "output_type": "stream",
     "text": [
      "/home/asufian/.local/share/pipx/venvs/notebook/lib/python3.12/site-packages/torchvision/models/_utils.py:208: UserWarning: The parameter 'pretrained' is deprecated since 0.13 and may be removed in the future, please use 'weights' instead.\n",
      "  warnings.warn(\n",
      "/home/asufian/.local/share/pipx/venvs/notebook/lib/python3.12/site-packages/torchvision/models/_utils.py:223: UserWarning: Arguments other than a weight enum or `None` for 'weights' are deprecated since 0.13 and may be removed in the future. The current behavior is equivalent to passing `weights=None`.\n",
      "  warnings.warn(msg)\n"
     ]
    },
    {
     "name": "stdout",
     "output_type": "stream",
     "text": [
      "----------------------> 0.8148148148148148\n",
      "Evaluated Accuracy: 0.8148\n",
      "Testing b_a_r = 0.0174, c_a_r = 0.2952, f_a_r = 0.5726\n"
     ]
    },
    {
     "name": "stderr",
     "output_type": "stream",
     "text": [
      "/home/asufian/.local/share/pipx/venvs/notebook/lib/python3.12/site-packages/torchvision/models/_utils.py:208: UserWarning: The parameter 'pretrained' is deprecated since 0.13 and may be removed in the future, please use 'weights' instead.\n",
      "  warnings.warn(\n",
      "/home/asufian/.local/share/pipx/venvs/notebook/lib/python3.12/site-packages/torchvision/models/_utils.py:223: UserWarning: Arguments other than a weight enum or `None` for 'weights' are deprecated since 0.13 and may be removed in the future. The current behavior is equivalent to passing `weights=None`.\n",
      "  warnings.warn(msg)\n"
     ]
    },
    {
     "name": "stdout",
     "output_type": "stream",
     "text": [
      "----------------------> 0.6736111111111112\n",
      "Evaluated Accuracy: 0.6736\n",
      "Testing b_a_r = 0.5116, c_a_r = 0.0008, f_a_r = 0.4345\n"
     ]
    },
    {
     "name": "stderr",
     "output_type": "stream",
     "text": [
      "/home/asufian/.local/share/pipx/venvs/notebook/lib/python3.12/site-packages/torchvision/models/_utils.py:208: UserWarning: The parameter 'pretrained' is deprecated since 0.13 and may be removed in the future, please use 'weights' instead.\n",
      "  warnings.warn(\n",
      "/home/asufian/.local/share/pipx/venvs/notebook/lib/python3.12/site-packages/torchvision/models/_utils.py:223: UserWarning: Arguments other than a weight enum or `None` for 'weights' are deprecated since 0.13 and may be removed in the future. The current behavior is equivalent to passing `weights=None`.\n",
      "  warnings.warn(msg)\n"
     ]
    },
    {
     "name": "stdout",
     "output_type": "stream",
     "text": [
      "----------------------> 0.7131481481481482\n",
      "Evaluated Accuracy: 0.7131\n",
      "Testing b_a_r = 0.5087, c_a_r = 0.6094, f_a_r = 0.0010\n"
     ]
    },
    {
     "name": "stderr",
     "output_type": "stream",
     "text": [
      "/home/asufian/.local/share/pipx/venvs/notebook/lib/python3.12/site-packages/torchvision/models/_utils.py:208: UserWarning: The parameter 'pretrained' is deprecated since 0.13 and may be removed in the future, please use 'weights' instead.\n",
      "  warnings.warn(\n",
      "/home/asufian/.local/share/pipx/venvs/notebook/lib/python3.12/site-packages/torchvision/models/_utils.py:223: UserWarning: Arguments other than a weight enum or `None` for 'weights' are deprecated since 0.13 and may be removed in the future. The current behavior is equivalent to passing `weights=None`.\n",
      "  warnings.warn(msg)\n"
     ]
    },
    {
     "name": "stdout",
     "output_type": "stream",
     "text": [
      "----------------------> 0.43064814814814817\n",
      "Evaluated Accuracy: 0.4306\n",
      "Testing b_a_r = 0.9538, c_a_r = 0.1444, f_a_r = 0.7631\n"
     ]
    },
    {
     "name": "stderr",
     "output_type": "stream",
     "text": [
      "/home/asufian/.local/share/pipx/venvs/notebook/lib/python3.12/site-packages/torchvision/models/_utils.py:208: UserWarning: The parameter 'pretrained' is deprecated since 0.13 and may be removed in the future, please use 'weights' instead.\n",
      "  warnings.warn(\n",
      "/home/asufian/.local/share/pipx/venvs/notebook/lib/python3.12/site-packages/torchvision/models/_utils.py:223: UserWarning: Arguments other than a weight enum or `None` for 'weights' are deprecated since 0.13 and may be removed in the future. The current behavior is equivalent to passing `weights=None`.\n",
      "  warnings.warn(msg)\n"
     ]
    },
    {
     "name": "stdout",
     "output_type": "stream",
     "text": [
      "----------------------> 0.8118518518518517\n",
      "Evaluated Accuracy: 0.8119\n",
      "Testing b_a_r = 0.9189, c_a_r = 0.9881, f_a_r = 0.0074\n"
     ]
    },
    {
     "name": "stderr",
     "output_type": "stream",
     "text": [
      "/home/asufian/.local/share/pipx/venvs/notebook/lib/python3.12/site-packages/torchvision/models/_utils.py:208: UserWarning: The parameter 'pretrained' is deprecated since 0.13 and may be removed in the future, please use 'weights' instead.\n",
      "  warnings.warn(\n",
      "/home/asufian/.local/share/pipx/venvs/notebook/lib/python3.12/site-packages/torchvision/models/_utils.py:223: UserWarning: Arguments other than a weight enum or `None` for 'weights' are deprecated since 0.13 and may be removed in the future. The current behavior is equivalent to passing `weights=None`.\n",
      "  warnings.warn(msg)\n"
     ]
    },
    {
     "name": "stdout",
     "output_type": "stream",
     "text": [
      "----------------------> 0.3211111111111111\n",
      "Evaluated Accuracy: 0.3211\n",
      "Testing b_a_r = 0.0596, c_a_r = 0.1661, f_a_r = 0.9950\n"
     ]
    },
    {
     "name": "stderr",
     "output_type": "stream",
     "text": [
      "/home/asufian/.local/share/pipx/venvs/notebook/lib/python3.12/site-packages/torchvision/models/_utils.py:208: UserWarning: The parameter 'pretrained' is deprecated since 0.13 and may be removed in the future, please use 'weights' instead.\n",
      "  warnings.warn(\n",
      "/home/asufian/.local/share/pipx/venvs/notebook/lib/python3.12/site-packages/torchvision/models/_utils.py:223: UserWarning: Arguments other than a weight enum or `None` for 'weights' are deprecated since 0.13 and may be removed in the future. The current behavior is equivalent to passing `weights=None`.\n",
      "  warnings.warn(msg)\n"
     ]
    },
    {
     "name": "stdout",
     "output_type": "stream",
     "text": [
      "----------------------> 0.8058333333333333\n",
      "Evaluated Accuracy: 0.8058\n",
      "Testing b_a_r = 0.0251, c_a_r = 0.1107, f_a_r = 0.5879\n"
     ]
    },
    {
     "name": "stderr",
     "output_type": "stream",
     "text": [
      "/home/asufian/.local/share/pipx/venvs/notebook/lib/python3.12/site-packages/torchvision/models/_utils.py:208: UserWarning: The parameter 'pretrained' is deprecated since 0.13 and may be removed in the future, please use 'weights' instead.\n",
      "  warnings.warn(\n",
      "/home/asufian/.local/share/pipx/venvs/notebook/lib/python3.12/site-packages/torchvision/models/_utils.py:223: UserWarning: Arguments other than a weight enum or `None` for 'weights' are deprecated since 0.13 and may be removed in the future. The current behavior is equivalent to passing `weights=None`.\n",
      "  warnings.warn(msg)\n"
     ]
    },
    {
     "name": "stdout",
     "output_type": "stream",
     "text": [
      "----------------------> 0.8032407407407408\n",
      "Evaluated Accuracy: 0.8032\n",
      "Testing b_a_r = 0.3219, c_a_r = 0.5505, f_a_r = 0.6966\n"
     ]
    },
    {
     "name": "stderr",
     "output_type": "stream",
     "text": [
      "/home/asufian/.local/share/pipx/venvs/notebook/lib/python3.12/site-packages/torchvision/models/_utils.py:208: UserWarning: The parameter 'pretrained' is deprecated since 0.13 and may be removed in the future, please use 'weights' instead.\n",
      "  warnings.warn(\n",
      "/home/asufian/.local/share/pipx/venvs/notebook/lib/python3.12/site-packages/torchvision/models/_utils.py:223: UserWarning: Arguments other than a weight enum or `None` for 'weights' are deprecated since 0.13 and may be removed in the future. The current behavior is equivalent to passing `weights=None`.\n",
      "  warnings.warn(msg)\n"
     ]
    },
    {
     "name": "stdout",
     "output_type": "stream",
     "text": [
      "----------------------> 0.367037037037037\n",
      "Evaluated Accuracy: 0.3670\n",
      "Testing b_a_r = 0.5992, c_a_r = 0.3259, f_a_r = 0.9937\n"
     ]
    },
    {
     "name": "stderr",
     "output_type": "stream",
     "text": [
      "/home/asufian/.local/share/pipx/venvs/notebook/lib/python3.12/site-packages/torchvision/models/_utils.py:208: UserWarning: The parameter 'pretrained' is deprecated since 0.13 and may be removed in the future, please use 'weights' instead.\n",
      "  warnings.warn(\n",
      "/home/asufian/.local/share/pipx/venvs/notebook/lib/python3.12/site-packages/torchvision/models/_utils.py:223: UserWarning: Arguments other than a weight enum or `None` for 'weights' are deprecated since 0.13 and may be removed in the future. The current behavior is equivalent to passing `weights=None`.\n",
      "  warnings.warn(msg)\n"
     ]
    },
    {
     "name": "stdout",
     "output_type": "stream",
     "text": [
      "----------------------> 0.6490740740740741\n",
      "Evaluated Accuracy: 0.6491\n",
      "Testing b_a_r = 0.0281, c_a_r = 0.1556, f_a_r = 0.7083\n"
     ]
    },
    {
     "name": "stderr",
     "output_type": "stream",
     "text": [
      "/home/asufian/.local/share/pipx/venvs/notebook/lib/python3.12/site-packages/torchvision/models/_utils.py:208: UserWarning: The parameter 'pretrained' is deprecated since 0.13 and may be removed in the future, please use 'weights' instead.\n",
      "  warnings.warn(\n",
      "/home/asufian/.local/share/pipx/venvs/notebook/lib/python3.12/site-packages/torchvision/models/_utils.py:223: UserWarning: Arguments other than a weight enum or `None` for 'weights' are deprecated since 0.13 and may be removed in the future. The current behavior is equivalent to passing `weights=None`.\n",
      "  warnings.warn(msg)\n"
     ]
    },
    {
     "name": "stdout",
     "output_type": "stream",
     "text": [
      "----------------------> 0.8204629629629628\n",
      "Evaluated Accuracy: 0.8205\n",
      "Testing b_a_r = 0.9671, c_a_r = 0.0835, f_a_r = 0.0106\n"
     ]
    },
    {
     "name": "stderr",
     "output_type": "stream",
     "text": [
      "/home/asufian/.local/share/pipx/venvs/notebook/lib/python3.12/site-packages/torchvision/models/_utils.py:208: UserWarning: The parameter 'pretrained' is deprecated since 0.13 and may be removed in the future, please use 'weights' instead.\n",
      "  warnings.warn(\n",
      "/home/asufian/.local/share/pipx/venvs/notebook/lib/python3.12/site-packages/torchvision/models/_utils.py:223: UserWarning: Arguments other than a weight enum or `None` for 'weights' are deprecated since 0.13 and may be removed in the future. The current behavior is equivalent to passing `weights=None`.\n",
      "  warnings.warn(msg)\n"
     ]
    },
    {
     "name": "stdout",
     "output_type": "stream",
     "text": [
      "----------------------> 0.7337037037037039\n",
      "Evaluated Accuracy: 0.7337\n",
      "Testing b_a_r = 0.9963, c_a_r = 0.1602, f_a_r = 0.2086\n"
     ]
    },
    {
     "name": "stderr",
     "output_type": "stream",
     "text": [
      "/home/asufian/.local/share/pipx/venvs/notebook/lib/python3.12/site-packages/torchvision/models/_utils.py:208: UserWarning: The parameter 'pretrained' is deprecated since 0.13 and may be removed in the future, please use 'weights' instead.\n",
      "  warnings.warn(\n",
      "/home/asufian/.local/share/pipx/venvs/notebook/lib/python3.12/site-packages/torchvision/models/_utils.py:223: UserWarning: Arguments other than a weight enum or `None` for 'weights' are deprecated since 0.13 and may be removed in the future. The current behavior is equivalent to passing `weights=None`.\n",
      "  warnings.warn(msg)\n"
     ]
    },
    {
     "name": "stdout",
     "output_type": "stream",
     "text": [
      "----------------------> 0.7554629629629629\n",
      "Evaluated Accuracy: 0.7555\n",
      "Testing b_a_r = 0.9182, c_a_r = 0.0747, f_a_r = 0.9977\n"
     ]
    },
    {
     "name": "stderr",
     "output_type": "stream",
     "text": [
      "/home/asufian/.local/share/pipx/venvs/notebook/lib/python3.12/site-packages/torchvision/models/_utils.py:208: UserWarning: The parameter 'pretrained' is deprecated since 0.13 and may be removed in the future, please use 'weights' instead.\n",
      "  warnings.warn(\n",
      "/home/asufian/.local/share/pipx/venvs/notebook/lib/python3.12/site-packages/torchvision/models/_utils.py:223: UserWarning: Arguments other than a weight enum or `None` for 'weights' are deprecated since 0.13 and may be removed in the future. The current behavior is equivalent to passing `weights=None`.\n",
      "  warnings.warn(msg)\n"
     ]
    },
    {
     "name": "stdout",
     "output_type": "stream",
     "text": [
      "----------------------> 0.763888888888889\n",
      "Evaluated Accuracy: 0.7639\n",
      "Testing b_a_r = 0.9353, c_a_r = 0.8482, f_a_r = 0.6845\n"
     ]
    },
    {
     "name": "stderr",
     "output_type": "stream",
     "text": [
      "/home/asufian/.local/share/pipx/venvs/notebook/lib/python3.12/site-packages/torchvision/models/_utils.py:208: UserWarning: The parameter 'pretrained' is deprecated since 0.13 and may be removed in the future, please use 'weights' instead.\n",
      "  warnings.warn(\n",
      "/home/asufian/.local/share/pipx/venvs/notebook/lib/python3.12/site-packages/torchvision/models/_utils.py:223: UserWarning: Arguments other than a weight enum or `None` for 'weights' are deprecated since 0.13 and may be removed in the future. The current behavior is equivalent to passing `weights=None`.\n",
      "  warnings.warn(msg)\n"
     ]
    },
    {
     "name": "stdout",
     "output_type": "stream",
     "text": [
      "----------------------> 0.30518518518518517\n",
      "Evaluated Accuracy: 0.3052\n",
      "Testing b_a_r = 0.0299, c_a_r = 0.1675, f_a_r = 0.6392\n"
     ]
    },
    {
     "name": "stderr",
     "output_type": "stream",
     "text": [
      "/home/asufian/.local/share/pipx/venvs/notebook/lib/python3.12/site-packages/torchvision/models/_utils.py:208: UserWarning: The parameter 'pretrained' is deprecated since 0.13 and may be removed in the future, please use 'weights' instead.\n",
      "  warnings.warn(\n",
      "/home/asufian/.local/share/pipx/venvs/notebook/lib/python3.12/site-packages/torchvision/models/_utils.py:223: UserWarning: Arguments other than a weight enum or `None` for 'weights' are deprecated since 0.13 and may be removed in the future. The current behavior is equivalent to passing `weights=None`.\n",
      "  warnings.warn(msg)\n"
     ]
    },
    {
     "name": "stdout",
     "output_type": "stream",
     "text": [
      "----------------------> 0.8119444444444445\n",
      "Evaluated Accuracy: 0.8119\n",
      "Testing b_a_r = 0.9416, c_a_r = 0.3979, f_a_r = 0.5402\n"
     ]
    },
    {
     "name": "stderr",
     "output_type": "stream",
     "text": [
      "/home/asufian/.local/share/pipx/venvs/notebook/lib/python3.12/site-packages/torchvision/models/_utils.py:208: UserWarning: The parameter 'pretrained' is deprecated since 0.13 and may be removed in the future, please use 'weights' instead.\n",
      "  warnings.warn(\n",
      "/home/asufian/.local/share/pipx/venvs/notebook/lib/python3.12/site-packages/torchvision/models/_utils.py:223: UserWarning: Arguments other than a weight enum or `None` for 'weights' are deprecated since 0.13 and may be removed in the future. The current behavior is equivalent to passing `weights=None`.\n",
      "  warnings.warn(msg)\n"
     ]
    },
    {
     "name": "stdout",
     "output_type": "stream",
     "text": [
      "----------------------> 0.6849999999999999\n",
      "Evaluated Accuracy: 0.6850\n",
      "Testing b_a_r = 0.9542, c_a_r = 0.2351, f_a_r = 0.3896\n"
     ]
    },
    {
     "name": "stderr",
     "output_type": "stream",
     "text": [
      "/home/asufian/.local/share/pipx/venvs/notebook/lib/python3.12/site-packages/torchvision/models/_utils.py:208: UserWarning: The parameter 'pretrained' is deprecated since 0.13 and may be removed in the future, please use 'weights' instead.\n",
      "  warnings.warn(\n",
      "/home/asufian/.local/share/pipx/venvs/notebook/lib/python3.12/site-packages/torchvision/models/_utils.py:223: UserWarning: Arguments other than a weight enum or `None` for 'weights' are deprecated since 0.13 and may be removed in the future. The current behavior is equivalent to passing `weights=None`.\n",
      "  warnings.warn(msg)\n"
     ]
    },
    {
     "name": "stdout",
     "output_type": "stream",
     "text": [
      "----------------------> 0.7492592592592593\n",
      "Evaluated Accuracy: 0.7493\n",
      "Testing b_a_r = 0.0081, c_a_r = 0.2186, f_a_r = 0.7032\n"
     ]
    },
    {
     "name": "stderr",
     "output_type": "stream",
     "text": [
      "/home/asufian/.local/share/pipx/venvs/notebook/lib/python3.12/site-packages/torchvision/models/_utils.py:208: UserWarning: The parameter 'pretrained' is deprecated since 0.13 and may be removed in the future, please use 'weights' instead.\n",
      "  warnings.warn(\n",
      "/home/asufian/.local/share/pipx/venvs/notebook/lib/python3.12/site-packages/torchvision/models/_utils.py:223: UserWarning: Arguments other than a weight enum or `None` for 'weights' are deprecated since 0.13 and may be removed in the future. The current behavior is equivalent to passing `weights=None`.\n",
      "  warnings.warn(msg)\n"
     ]
    },
    {
     "name": "stdout",
     "output_type": "stream",
     "text": [
      "----------------------> 0.7675925925925925\n",
      "Evaluated Accuracy: 0.7676\n",
      "Testing b_a_r = 0.9917, c_a_r = 0.0572, f_a_r = 0.4008\n"
     ]
    },
    {
     "name": "stderr",
     "output_type": "stream",
     "text": [
      "/home/asufian/.local/share/pipx/venvs/notebook/lib/python3.12/site-packages/torchvision/models/_utils.py:208: UserWarning: The parameter 'pretrained' is deprecated since 0.13 and may be removed in the future, please use 'weights' instead.\n",
      "  warnings.warn(\n",
      "/home/asufian/.local/share/pipx/venvs/notebook/lib/python3.12/site-packages/torchvision/models/_utils.py:223: UserWarning: Arguments other than a weight enum or `None` for 'weights' are deprecated since 0.13 and may be removed in the future. The current behavior is equivalent to passing `weights=None`.\n",
      "  warnings.warn(msg)\n"
     ]
    },
    {
     "name": "stdout",
     "output_type": "stream",
     "text": [
      "----------------------> 0.7444444444444445\n",
      "Evaluated Accuracy: 0.7444\n",
      "Testing b_a_r = 0.9800, c_a_r = 0.0996, f_a_r = 0.7820\n"
     ]
    },
    {
     "name": "stderr",
     "output_type": "stream",
     "text": [
      "/home/asufian/.local/share/pipx/venvs/notebook/lib/python3.12/site-packages/torchvision/models/_utils.py:208: UserWarning: The parameter 'pretrained' is deprecated since 0.13 and may be removed in the future, please use 'weights' instead.\n",
      "  warnings.warn(\n",
      "/home/asufian/.local/share/pipx/venvs/notebook/lib/python3.12/site-packages/torchvision/models/_utils.py:223: UserWarning: Arguments other than a weight enum or `None` for 'weights' are deprecated since 0.13 and may be removed in the future. The current behavior is equivalent to passing `weights=None`.\n",
      "  warnings.warn(msg)\n"
     ]
    },
    {
     "name": "stdout",
     "output_type": "stream",
     "text": [
      "----------------------> 0.797222222222222\n",
      "Evaluated Accuracy: 0.7972\n",
      "Testing b_a_r = 0.0540, c_a_r = 0.8819, f_a_r = 0.0116\n"
     ]
    },
    {
     "name": "stderr",
     "output_type": "stream",
     "text": [
      "/home/asufian/.local/share/pipx/venvs/notebook/lib/python3.12/site-packages/torchvision/models/_utils.py:208: UserWarning: The parameter 'pretrained' is deprecated since 0.13 and may be removed in the future, please use 'weights' instead.\n",
      "  warnings.warn(\n",
      "/home/asufian/.local/share/pipx/venvs/notebook/lib/python3.12/site-packages/torchvision/models/_utils.py:223: UserWarning: Arguments other than a weight enum or `None` for 'weights' are deprecated since 0.13 and may be removed in the future. The current behavior is equivalent to passing `weights=None`.\n",
      "  warnings.warn(msg)\n"
     ]
    },
    {
     "name": "stdout",
     "output_type": "stream",
     "text": [
      "----------------------> 0.3552777777777778\n",
      "Evaluated Accuracy: 0.3553\n",
      "Testing b_a_r = 0.0199, c_a_r = 0.0477, f_a_r = 0.0729\n"
     ]
    },
    {
     "name": "stderr",
     "output_type": "stream",
     "text": [
      "/home/asufian/.local/share/pipx/venvs/notebook/lib/python3.12/site-packages/torchvision/models/_utils.py:208: UserWarning: The parameter 'pretrained' is deprecated since 0.13 and may be removed in the future, please use 'weights' instead.\n",
      "  warnings.warn(\n",
      "/home/asufian/.local/share/pipx/venvs/notebook/lib/python3.12/site-packages/torchvision/models/_utils.py:223: UserWarning: Arguments other than a weight enum or `None` for 'weights' are deprecated since 0.13 and may be removed in the future. The current behavior is equivalent to passing `weights=None`.\n",
      "  warnings.warn(msg)\n"
     ]
    },
    {
     "name": "stdout",
     "output_type": "stream",
     "text": [
      "----------------------> 0.7148148148148148\n",
      "Evaluated Accuracy: 0.7148\n",
      "\n",
      "✅ Optimal Values:\n",
      "   - b_a_r: 0.0073\n",
      "   - c_a_r: 0.1441\n",
      "   - f_a_r: 0.6410\n",
      "📈 Highest Accuracy Achieved: 0.8219\n"
     ]
    }
   ],
   "source": [
    "import numpy as np\n",
    "import torch\n",
    "import matplotlib.pyplot as plt\n",
    "from skopt import gp_minimize\n",
    "from skopt.space import Real\n",
    "from skopt.utils import use_named_args\n",
    "from skopt.plots import plot_convergence\n",
    "\n",
    "# Device setup\n",
    "device = torch.device(\"cuda\" if torch.cuda.is_available() else \"cpu\")\n",
    "\n",
    "\n",
    "# Define the search space for b_a_r, c_a_r, and f_a_r\n",
    "search_space = [\n",
    "    Real(0.0, 1.0, name=\"b_a_r\"),\n",
    "    Real(0.0, 1.0, name=\"c_a_r\"),\n",
    "    Real(0.0, 1.0, name=\"f_a_r\")\n",
    "]\n",
    "\n",
    "# Define the objective function for Bayesian Optimization\n",
    "@use_named_args(search_space)\n",
    "def objective(b_a_r, c_a_r, f_a_r):\n",
    "    \"\"\"\n",
    "    Objective function to optimize the adaptation ratios.\n",
    "    It applies adaptation, evaluates the model, and returns the negative accuracy.\n",
    "    \"\"\"\n",
    "    accuracy = get_model_accuracy(b_a_r, c_a_r, f_a_r)\n",
    "    print(f\"Evaluated Accuracy: {accuracy:.4f}\")  # Debugging Output\n",
    "    \n",
    "    return -accuracy  # We minimize, so return negative accuracy\n",
    "\n",
    "# Perform Bayesian Optimization with additional settings\n",
    "search_iteration=50\n",
    "res = gp_minimize(\n",
    "    func=objective,\n",
    "    dimensions=search_space,\n",
    "    n_calls=search_iteration,               # Number of evaluations\n",
    "    n_initial_points=5,       # Initial random explorations before GP starts\n",
    "    acq_func=\"EI\",            # Acquisition function: Expected Improvement\n",
    "    random_state=42,          # Ensure reproducibility\n",
    "    n_jobs=-1,                # Parallel execution for faster optimization\n",
    ")\n",
    "\n",
    "# Extract optimal results\n",
    "optimal_b_a_r, optimal_c_a_r, optimal_f_a_r = res.x\n",
    "best_accuracy = -res.fun\n",
    "\n",
    "print(f\"\\n✅ Optimal Values:\")\n",
    "print(f\"   - b_a_r: {optimal_b_a_r:.4f}\")\n",
    "print(f\"   - c_a_r: {optimal_c_a_r:.4f}\")\n",
    "print(f\"   - f_a_r: {optimal_f_a_r:.4f}\")\n",
    "print(f\"📈 Highest Accuracy Achieved: {best_accuracy:.4f}\")\n",
    "\n",
    "\n"
   ]
  },
  {
   "cell_type": "code",
   "execution_count": 97,
   "metadata": {},
   "outputs": [
    {
     "name": "stderr",
     "output_type": "stream",
     "text": [
      "/home/asufian/.local/share/pipx/venvs/notebook/lib/python3.12/site-packages/torchvision/models/_utils.py:208: UserWarning: The parameter 'pretrained' is deprecated since 0.13 and may be removed in the future, please use 'weights' instead.\n",
      "  warnings.warn(\n",
      "/home/asufian/.local/share/pipx/venvs/notebook/lib/python3.12/site-packages/torchvision/models/_utils.py:223: UserWarning: Arguments other than a weight enum or `None` for 'weights' are deprecated since 0.13 and may be removed in the future. The current behavior is equivalent to passing `weights=None`.\n",
      "  warnings.warn(msg)\n"
     ]
    },
    {
     "name": "stdout",
     "output_type": "stream",
     "text": [
      "---Accu-----pre----rec---------> 0.6856 ± 0.0393  0.6960 ± 0.0462  0.6856 ± 0.0393\n"
     ]
    },
    {
     "name": "stderr",
     "output_type": "stream",
     "text": [
      "/home/asufian/.local/share/pipx/venvs/notebook/lib/python3.12/site-packages/torchvision/models/_utils.py:208: UserWarning: The parameter 'pretrained' is deprecated since 0.13 and may be removed in the future, please use 'weights' instead.\n",
      "  warnings.warn(\n",
      "/home/asufian/.local/share/pipx/venvs/notebook/lib/python3.12/site-packages/torchvision/models/_utils.py:223: UserWarning: Arguments other than a weight enum or `None` for 'weights' are deprecated since 0.13 and may be removed in the future. The current behavior is equivalent to passing `weights=None`.\n",
      "  warnings.warn(msg)\n"
     ]
    },
    {
     "name": "stdout",
     "output_type": "stream",
     "text": [
      "---Accu-----pre----rec---------> 0.5194 ± 0.0734  0.5270 ± 0.0659  0.5194 ± 0.0734\n",
      "---Accu-----pre----rec---------> 0.8219 ± 0.0415  0.8282 ± 0.0432  0.8219 ± 0.0415\n"
     ]
    }
   ],
   "source": [
    "convolutional_network_with_dropout = ResNet18WithDropout(pretrained=False, dr=0.0)\n",
    "convolutional_network_with_dropout.fc = nn.Flatten()\n",
    "xyz = convolutional_network_with_dropout\n",
    "M3 = PrototypicalNetworks_dynamic_query(xyz).to(device)\n",
    "M3.load_state_dict(torch.load('model_own_path.pt'))\n",
    "evaluate2('/home/asufian/Desktop/output_olchiki/resnet_resluts/base/12_w_5_s_f', test_loader, M3, criterion)\n",
    "# Load Model M2\n",
    "convolutional_network_with_dropout = ResNet18WithDropout(pretrained=False, dr=0.0)\n",
    "convolutional_network_with_dropout.fc = nn.Flatten()\n",
    "xyz2 = convolutional_network_with_dropout\n",
    "M2 = PrototypicalNetworks_dynamic_query(xyz2).to(device)\n",
    "M2.load_state_dict(torch.load('model_mu_path.pt'))\n",
    "evaluate2(\"/home/asufian/Desktop/output_olchiki/resnet_resluts/secondary/12_w_5_s_f\", test_loader, M2, criterion)\n",
    "# Update Model M3's weights using a weighted combination of Model M3 and Model M2\n",
    "update_model_weights2(M3, M2, conv_ratio= optimal_c_a_r , fc_ratio=optimal_f_a_r , bias_ratio=optimal_b_a_r)\n",
    "\n",
    "# Assuming you have the evaluate2 function defined\n",
    "# Evaluate the updated model (M3) using evaluate2 function with some arguments\n",
    "evaluate2(\"/home/asufian/Desktop/output_olchiki/resnet_resluts/amul/12_w_5_s_f\", test_loader, M3, criterion)\n"
   ]
  },
  {
   "cell_type": "code",
   "execution_count": null,
   "metadata": {},
   "outputs": [],
   "source": []
  },
  {
   "cell_type": "code",
   "execution_count": 98,
   "metadata": {},
   "outputs": [
    {
     "name": "stderr",
     "output_type": "stream",
     "text": [
      "/home/asufian/.local/share/pipx/venvs/notebook/lib/python3.12/site-packages/torchvision/models/_utils.py:208: UserWarning: The parameter 'pretrained' is deprecated since 0.13 and may be removed in the future, please use 'weights' instead.\n",
      "  warnings.warn(\n",
      "/home/asufian/.local/share/pipx/venvs/notebook/lib/python3.12/site-packages/torchvision/models/_utils.py:223: UserWarning: Arguments other than a weight enum or `None` for 'weights' are deprecated since 0.13 and may be removed in the future. The current behavior is equivalent to passing `weights=None`.\n",
      "  warnings.warn(msg)\n"
     ]
    }
   ],
   "source": [
    "device = torch.device(\"cuda\" if torch.cuda.is_available() else \"cpu\")\n",
    "\n",
    "\n",
    "\n",
    "!rm model_mu_path.pt\n",
    "!rm model_own_path.pt\n",
    "\n",
    "convolutional_network_with_dropout = ResNet18WithDropout(pretrained=False, dr=0.0)\n",
    "convolutional_network_with_dropout.fc = nn.Flatten()\n",
    "model_own = PrototypicalNetworks_dynamic_query(convolutional_network_with_dropout).to(device)\n",
    "model_own.load_state_dict(torch.load('/home/asufian/Desktop/output_olchiki/code/modelr_res18.pth',map_location=torch.device('cpu')))\n",
    "\n",
    "\n",
    "convolutional_network_with_dropout = ResNet18WithDropout(pretrained=False, dr=0.0)\n",
    "convolutional_network_with_dropout.fc = nn.Flatten()\n",
    "model_own_1_shot = PrototypicalNetworks_dynamic_query(convolutional_network_with_dropout).to(device)\n",
    "model_own_1_shot.load_state_dict(torch.load('/home/asufian/Desktop/output_olchiki/code/olchiki/ressecondary/model_10/model_B_olchiki_10-shot_res.pth',map_location=torch.device('cpu')))\n",
    "\n",
    "\n",
    "torch.save(model_own_1_shot.state_dict(), 'model_mu_path.pt')\n",
    "torch.save(model_own.state_dict(), 'model_own_path.pt')"
   ]
  },
  {
   "cell_type": "code",
   "execution_count": 99,
   "metadata": {},
   "outputs": [],
   "source": [
    "\n",
    "def evaluate2(fname,data_loader, model, criterion=nn.CrossEntropyLoss()):\n",
    "    total_predictions = 0\n",
    "    correct_predictions = 0\n",
    "    total_loss = 0.0\n",
    "    accuracy = 0\n",
    "    datta = \"\"\n",
    "    model.eval()\n",
    "    tlv_cls=0\n",
    "    ttla=0\n",
    "    ttlal=[]\n",
    "    ttlac=0\n",
    "    precision=[]\n",
    "    recall=[]\n",
    "    \n",
    "    with torch.no_grad():\n",
    "        for episode in range(len(clss_12)):\n",
    "            support_set, query_set = data_loader.__getitem__(clss_12[tlv_cls] , clss_support_imagesss_10_shot[tlv_cls])\n",
    "\n",
    "           \n",
    "            clssa=str(clss_12[tlv_cls])\n",
    "            clss=str(clssa).replace(',',' ').replace('\\'',' ').replace('\\'',' ')\n",
    "            msg=str(clss_support_imagesss_10_shot[tlv_cls])\n",
    "            str(clss_12[tlv_cls])\n",
    "\n",
    "            tlv_cls+=1\n",
    "            # print(len(support_set),len(query_set))\n",
    "            support_set = [(torch.stack(images).to(device), label[0]) for images, label in support_set]\n",
    "            query_set = [(torch.stack(images).to(device), label) for images, label in query_set]\n",
    "\n",
    "            support_images, support_labels = zip(*support_set)\n",
    "\n",
    "            query_images, query_labels = zip(*query_set)\n",
    "\n",
    "            classification_scores = model(support_images, support_labels, query_images)\n",
    "            cortt = 0\n",
    "            totl = 0\n",
    "            confusion_mat=None\n",
    "            all_predicted_labels = []\n",
    "            all_actual_labels = []\n",
    "            # print(len(classification_scores),len(query_labels))\n",
    "            for ei in range(len(classification_scores)):\n",
    "                classification_scores_each_class = classification_scores[ei]\n",
    "                # print(classification_scores_each_class)\n",
    "                predicted_labels_eachclas = torch.argmax(classification_scores_each_class, dim=1)\n",
    "                pp = predicted_labels_eachclas.tolist()\n",
    "                act = query_labels[ei]\n",
    "                all_predicted_labels.extend(pp)\n",
    "                all_actual_labels.extend(act)\n",
    "                for iiii in range(len(pp)):\n",
    "                    if pp[iiii] == act[iiii]:\n",
    "                        cortt = cortt + 1\n",
    "                totl = totl + len(pp)\n",
    "                # print(len(act))\n",
    "            accuracy = cortt / totl\n",
    "            ttla+=1\n",
    "            ttlac+=accuracy\n",
    "            ttlal.append(accuracy)\n",
    "            # print(cortt , totl,\"Validation Accuracy:              \", cortt / totl)\n",
    "            confusion_mat = confusion_matrix(all_actual_labels, all_predicted_labels)\n",
    "            # print(\"Confusion Matrix:\")\n",
    "            # print(confusion_mat)\n",
    "\n",
    "            # fname='./own35_mapi_5_way_1_shot'\n",
    "\n",
    "            precision_overall, recall_overall, f1ss= calculate_metrics_get_per(msg,confusion_mat,acciuracy=cortt / totl,cls=clss,flnm=fname)\n",
    "            precision.append(precision_overall)\n",
    "            recall.append(recall_overall)\n",
    "    print(f\"---Accu-----pre----rec---------> {np.mean(ttlal):.4f} ± {np.std(ttlal, ddof=1):.4f}  \"\n",
    "      f\"{np.mean(precision):.4f} ± {np.std(precision, ddof=1):.4f}  \"\n",
    "      f\"{np.mean(recall):.4f} ± {np.std(recall, ddof=1):.4f}\")\n",
    "\n",
    "    # print(\"---Accu-----pre----rec---------->\",np.mean(ttlal),'±',np.std(ttlal, ddof=1), np.mean(precision),'±',np.std(precision, ddof=1),np.mean(precision),'±',np.std(precision, ddof=1),)\n",
    "# %%%%%%\n",
    "\n",
    "def evaluate3(fname,data_loader, model, criterion=nn.CrossEntropyLoss()):\n",
    "    total_predictions = 0\n",
    "    correct_predictions = 0\n",
    "    total_loss = 0.0\n",
    "    accuracy = 0\n",
    "    datta = \"\"\n",
    "    model.eval()\n",
    "    tlv_cls=0\n",
    "    ttla=0\n",
    "    ttlac=0\n",
    "    with torch.no_grad():\n",
    "        for episode in range(len(clss_12)):\n",
    "            support_set, query_set = data_loader.__getitem__(clss_12[tlv_cls] , clss_support_imagesss_10_shot[tlv_cls])\n",
    "\n",
    "            \n",
    "            clssa=str(clss_12[tlv_cls])\n",
    "            clss=str(clssa).replace(',',' ').replace('\\'',' ').replace('\\'',' ')\n",
    "            msg=str(clss_support_imagesss_10_shot[tlv_cls])\n",
    "            str(clss_12[tlv_cls])\n",
    "\n",
    "            tlv_cls+=1\n",
    "            # print(len(support_set),len(query_set))\n",
    "            support_set = [(torch.stack(images).to(device), label[0]) for images, label in support_set]\n",
    "            query_set = [(torch.stack(images).to(device), label) for images, label in query_set]\n",
    "\n",
    "            support_images, support_labels = zip(*support_set)\n",
    "\n",
    "            query_images, query_labels = zip(*query_set)\n",
    "\n",
    "            classification_scores = model(support_images, support_labels, query_images)\n",
    "            cortt = 0\n",
    "            totl = 0\n",
    "            confusion_mat=None\n",
    "            all_predicted_labels = []\n",
    "            all_actual_labels = []\n",
    "            # print(len(classification_scores),len(query_labels))\n",
    "            for ei in range(len(classification_scores)):\n",
    "                classification_scores_each_class = classification_scores[ei]\n",
    "                # print(classification_scores_each_class)\n",
    "                predicted_labels_eachclas = torch.argmax(classification_scores_each_class, dim=1)\n",
    "                pp = predicted_labels_eachclas.tolist()\n",
    "                act = query_labels[ei]\n",
    "                all_predicted_labels.extend(pp)\n",
    "                all_actual_labels.extend(act)\n",
    "                for iiii in range(len(pp)):\n",
    "                    if pp[iiii] == act[iiii]:\n",
    "                        cortt = cortt + 1\n",
    "                totl = totl + len(pp)\n",
    "                # print(len(act))\n",
    "            accuracy = cortt / totl\n",
    "            ttla+=1\n",
    "            ttlac+=accuracy\n",
    "            # print(cortt , totl,\"Validation Accuracy:              \", cortt / totl)\n",
    "            # confusion_mat = confusion_matrix(all_actual_labels, all_predicted_labels)\n",
    "            # print(\"Confusion Matrix:\")\n",
    "            # print(confusion_mat)\n",
    "\n",
    "            # fname='./own35_mapi_5_way_1_shot'\n",
    "\n",
    "            # calculate_metrics_get_per(msg,confusion_mat,acciuracy=cortt / totl,cls=clss,flnm=fname)\n",
    "\n",
    "    print(\"---------------------->\",ttlac/ttla)\n",
    "    return ttlac/ttla"
   ]
  },
  {
   "cell_type": "code",
   "execution_count": 100,
   "metadata": {
    "scrolled": true
   },
   "outputs": [
    {
     "name": "stdout",
     "output_type": "stream",
     "text": [
      "Testing b_a_r = 0.7965, c_a_r = 0.1834, f_a_r = 0.7797\n"
     ]
    },
    {
     "name": "stderr",
     "output_type": "stream",
     "text": [
      "/home/asufian/.local/share/pipx/venvs/notebook/lib/python3.12/site-packages/torchvision/models/_utils.py:208: UserWarning: The parameter 'pretrained' is deprecated since 0.13 and may be removed in the future, please use 'weights' instead.\n",
      "  warnings.warn(\n",
      "/home/asufian/.local/share/pipx/venvs/notebook/lib/python3.12/site-packages/torchvision/models/_utils.py:223: UserWarning: Arguments other than a weight enum or `None` for 'weights' are deprecated since 0.13 and may be removed in the future. The current behavior is equivalent to passing `weights=None`.\n",
      "  warnings.warn(msg)\n"
     ]
    },
    {
     "name": "stdout",
     "output_type": "stream",
     "text": [
      "----------------------> 0.8166666666666668\n",
      "Evaluated Accuracy: 0.8167\n",
      "Testing b_a_r = 0.5969, c_a_r = 0.4458, f_a_r = 0.1000\n",
      "----------------------> 0.5342261904761904\n",
      "Evaluated Accuracy: 0.5342\n",
      "Testing b_a_r = 0.4592, c_a_r = 0.3337, f_a_r = 0.1429\n",
      "----------------------> 0.7042658730158732\n",
      "Evaluated Accuracy: 0.7043\n",
      "Testing b_a_r = 0.6509, c_a_r = 0.0564, f_a_r = 0.7220\n",
      "----------------------> 0.8261904761904763\n",
      "Evaluated Accuracy: 0.8262\n",
      "Testing b_a_r = 0.9386, c_a_r = 0.0008, f_a_r = 0.9922\n",
      "----------------------> 0.7756944444444444\n",
      "Evaluated Accuracy: 0.7757\n",
      "Testing b_a_r = 0.0250, c_a_r = 1.0000, f_a_r = 0.4630\n"
     ]
    },
    {
     "name": "stderr",
     "output_type": "stream",
     "text": [
      "/home/asufian/.local/share/pipx/venvs/notebook/lib/python3.12/site-packages/torchvision/models/_utils.py:208: UserWarning: The parameter 'pretrained' is deprecated since 0.13 and may be removed in the future, please use 'weights' instead.\n",
      "  warnings.warn(\n",
      "/home/asufian/.local/share/pipx/venvs/notebook/lib/python3.12/site-packages/torchvision/models/_utils.py:223: UserWarning: Arguments other than a weight enum or `None` for 'weights' are deprecated since 0.13 and may be removed in the future. The current behavior is equivalent to passing `weights=None`.\n",
      "  warnings.warn(msg)\n"
     ]
    },
    {
     "name": "stdout",
     "output_type": "stream",
     "text": [
      "----------------------> 0.2621031746031746\n",
      "Evaluated Accuracy: 0.2621\n",
      "Testing b_a_r = 0.0000, c_a_r = 0.1188, f_a_r = 0.0000\n"
     ]
    },
    {
     "name": "stderr",
     "output_type": "stream",
     "text": [
      "/home/asufian/.local/share/pipx/venvs/notebook/lib/python3.12/site-packages/torchvision/models/_utils.py:208: UserWarning: The parameter 'pretrained' is deprecated since 0.13 and may be removed in the future, please use 'weights' instead.\n",
      "  warnings.warn(\n",
      "/home/asufian/.local/share/pipx/venvs/notebook/lib/python3.12/site-packages/torchvision/models/_utils.py:223: UserWarning: Arguments other than a weight enum or `None` for 'weights' are deprecated since 0.13 and may be removed in the future. The current behavior is equivalent to passing `weights=None`.\n",
      "  warnings.warn(msg)\n"
     ]
    },
    {
     "name": "stdout",
     "output_type": "stream",
     "text": [
      "----------------------> 0.780654761904762\n",
      "Evaluated Accuracy: 0.7807\n",
      "Testing b_a_r = 1.0000, c_a_r = 0.1373, f_a_r = 1.0000\n"
     ]
    },
    {
     "name": "stderr",
     "output_type": "stream",
     "text": [
      "/home/asufian/.local/share/pipx/venvs/notebook/lib/python3.12/site-packages/torchvision/models/_utils.py:208: UserWarning: The parameter 'pretrained' is deprecated since 0.13 and may be removed in the future, please use 'weights' instead.\n",
      "  warnings.warn(\n",
      "/home/asufian/.local/share/pipx/venvs/notebook/lib/python3.12/site-packages/torchvision/models/_utils.py:223: UserWarning: Arguments other than a weight enum or `None` for 'weights' are deprecated since 0.13 and may be removed in the future. The current behavior is equivalent to passing `weights=None`.\n",
      "  warnings.warn(msg)\n"
     ]
    },
    {
     "name": "stdout",
     "output_type": "stream",
     "text": [
      "----------------------> 0.817361111111111\n",
      "Evaluated Accuracy: 0.8174\n",
      "Testing b_a_r = 0.0000, c_a_r = 0.1446, f_a_r = 1.0000\n"
     ]
    },
    {
     "name": "stderr",
     "output_type": "stream",
     "text": [
      "/home/asufian/.local/share/pipx/venvs/notebook/lib/python3.12/site-packages/torchvision/models/_utils.py:208: UserWarning: The parameter 'pretrained' is deprecated since 0.13 and may be removed in the future, please use 'weights' instead.\n",
      "  warnings.warn(\n",
      "/home/asufian/.local/share/pipx/venvs/notebook/lib/python3.12/site-packages/torchvision/models/_utils.py:223: UserWarning: Arguments other than a weight enum or `None` for 'weights' are deprecated since 0.13 and may be removed in the future. The current behavior is equivalent to passing `weights=None`.\n",
      "  warnings.warn(msg)\n"
     ]
    },
    {
     "name": "stdout",
     "output_type": "stream",
     "text": [
      "----------------------> 0.8189484126984127\n",
      "Evaluated Accuracy: 0.8189\n",
      "Testing b_a_r = 0.0000, c_a_r = 0.1128, f_a_r = 0.6408\n"
     ]
    },
    {
     "name": "stderr",
     "output_type": "stream",
     "text": [
      "/home/asufian/.local/share/pipx/venvs/notebook/lib/python3.12/site-packages/torchvision/models/_utils.py:208: UserWarning: The parameter 'pretrained' is deprecated since 0.13 and may be removed in the future, please use 'weights' instead.\n",
      "  warnings.warn(\n",
      "/home/asufian/.local/share/pipx/venvs/notebook/lib/python3.12/site-packages/torchvision/models/_utils.py:223: UserWarning: Arguments other than a weight enum or `None` for 'weights' are deprecated since 0.13 and may be removed in the future. The current behavior is equivalent to passing `weights=None`.\n",
      "  warnings.warn(msg)\n"
     ]
    },
    {
     "name": "stdout",
     "output_type": "stream",
     "text": [
      "----------------------> 0.8281746031746035\n",
      "Evaluated Accuracy: 0.8282\n",
      "Testing b_a_r = 0.0000, c_a_r = 0.0000, f_a_r = 0.1375\n"
     ]
    },
    {
     "name": "stderr",
     "output_type": "stream",
     "text": [
      "/home/asufian/.local/share/pipx/venvs/notebook/lib/python3.12/site-packages/torchvision/models/_utils.py:208: UserWarning: The parameter 'pretrained' is deprecated since 0.13 and may be removed in the future, please use 'weights' instead.\n",
      "  warnings.warn(\n",
      "/home/asufian/.local/share/pipx/venvs/notebook/lib/python3.12/site-packages/torchvision/models/_utils.py:223: UserWarning: Arguments other than a weight enum or `None` for 'weights' are deprecated since 0.13 and may be removed in the future. The current behavior is equivalent to passing `weights=None`.\n",
      "  warnings.warn(msg)\n"
     ]
    },
    {
     "name": "stdout",
     "output_type": "stream",
     "text": [
      "----------------------> 0.7182539682539683\n",
      "Evaluated Accuracy: 0.7183\n",
      "Testing b_a_r = 1.0000, c_a_r = 0.1124, f_a_r = 0.7035\n"
     ]
    },
    {
     "name": "stderr",
     "output_type": "stream",
     "text": [
      "/home/asufian/.local/share/pipx/venvs/notebook/lib/python3.12/site-packages/torchvision/models/_utils.py:208: UserWarning: The parameter 'pretrained' is deprecated since 0.13 and may be removed in the future, please use 'weights' instead.\n",
      "  warnings.warn(\n",
      "/home/asufian/.local/share/pipx/venvs/notebook/lib/python3.12/site-packages/torchvision/models/_utils.py:223: UserWarning: Arguments other than a weight enum or `None` for 'weights' are deprecated since 0.13 and may be removed in the future. The current behavior is equivalent to passing `weights=None`.\n",
      "  warnings.warn(msg)\n"
     ]
    },
    {
     "name": "stdout",
     "output_type": "stream",
     "text": [
      "----------------------> 0.8284722222222222\n",
      "Evaluated Accuracy: 0.8285\n",
      "Testing b_a_r = 0.0000, c_a_r = 0.2914, f_a_r = 1.0000\n"
     ]
    },
    {
     "name": "stderr",
     "output_type": "stream",
     "text": [
      "/home/asufian/.local/share/pipx/venvs/notebook/lib/python3.12/site-packages/torchvision/models/_utils.py:208: UserWarning: The parameter 'pretrained' is deprecated since 0.13 and may be removed in the future, please use 'weights' instead.\n",
      "  warnings.warn(\n",
      "/home/asufian/.local/share/pipx/venvs/notebook/lib/python3.12/site-packages/torchvision/models/_utils.py:223: UserWarning: Arguments other than a weight enum or `None` for 'weights' are deprecated since 0.13 and may be removed in the future. The current behavior is equivalent to passing `weights=None`.\n",
      "  warnings.warn(msg)\n"
     ]
    },
    {
     "name": "stdout",
     "output_type": "stream",
     "text": [
      "----------------------> 0.7295634920634919\n",
      "Evaluated Accuracy: 0.7296\n",
      "Testing b_a_r = 0.0000, c_a_r = 0.0859, f_a_r = 0.8561\n"
     ]
    },
    {
     "name": "stderr",
     "output_type": "stream",
     "text": [
      "/home/asufian/.local/share/pipx/venvs/notebook/lib/python3.12/site-packages/torchvision/models/_utils.py:208: UserWarning: The parameter 'pretrained' is deprecated since 0.13 and may be removed in the future, please use 'weights' instead.\n",
      "  warnings.warn(\n",
      "/home/asufian/.local/share/pipx/venvs/notebook/lib/python3.12/site-packages/torchvision/models/_utils.py:223: UserWarning: Arguments other than a weight enum or `None` for 'weights' are deprecated since 0.13 and may be removed in the future. The current behavior is equivalent to passing `weights=None`.\n",
      "  warnings.warn(msg)\n"
     ]
    },
    {
     "name": "stdout",
     "output_type": "stream",
     "text": [
      "----------------------> 0.8365079365079365\n",
      "Evaluated Accuracy: 0.8365\n",
      "Testing b_a_r = 0.0000, c_a_r = 0.2214, f_a_r = 0.0000\n"
     ]
    },
    {
     "name": "stderr",
     "output_type": "stream",
     "text": [
      "/home/asufian/.local/share/pipx/venvs/notebook/lib/python3.12/site-packages/torchvision/models/_utils.py:208: UserWarning: The parameter 'pretrained' is deprecated since 0.13 and may be removed in the future, please use 'weights' instead.\n",
      "  warnings.warn(\n",
      "/home/asufian/.local/share/pipx/venvs/notebook/lib/python3.12/site-packages/torchvision/models/_utils.py:223: UserWarning: Arguments other than a weight enum or `None` for 'weights' are deprecated since 0.13 and may be removed in the future. The current behavior is equivalent to passing `weights=None`.\n",
      "  warnings.warn(msg)\n"
     ]
    },
    {
     "name": "stdout",
     "output_type": "stream",
     "text": [
      "----------------------> 0.7871031746031746\n",
      "Evaluated Accuracy: 0.7871\n",
      "Testing b_a_r = 0.8669, c_a_r = 0.7217, f_a_r = 0.9974\n"
     ]
    },
    {
     "name": "stderr",
     "output_type": "stream",
     "text": [
      "/home/asufian/.local/share/pipx/venvs/notebook/lib/python3.12/site-packages/torchvision/models/_utils.py:208: UserWarning: The parameter 'pretrained' is deprecated since 0.13 and may be removed in the future, please use 'weights' instead.\n",
      "  warnings.warn(\n",
      "/home/asufian/.local/share/pipx/venvs/notebook/lib/python3.12/site-packages/torchvision/models/_utils.py:223: UserWarning: Arguments other than a weight enum or `None` for 'weights' are deprecated since 0.13 and may be removed in the future. The current behavior is equivalent to passing `weights=None`.\n",
      "  warnings.warn(msg)\n"
     ]
    },
    {
     "name": "stdout",
     "output_type": "stream",
     "text": [
      "----------------------> 0.31884920634920627\n",
      "Evaluated Accuracy: 0.3188\n",
      "Testing b_a_r = 0.4694, c_a_r = 0.0633, f_a_r = 0.9922\n"
     ]
    },
    {
     "name": "stderr",
     "output_type": "stream",
     "text": [
      "/home/asufian/.local/share/pipx/venvs/notebook/lib/python3.12/site-packages/torchvision/models/_utils.py:208: UserWarning: The parameter 'pretrained' is deprecated since 0.13 and may be removed in the future, please use 'weights' instead.\n",
      "  warnings.warn(\n",
      "/home/asufian/.local/share/pipx/venvs/notebook/lib/python3.12/site-packages/torchvision/models/_utils.py:223: UserWarning: Arguments other than a weight enum or `None` for 'weights' are deprecated since 0.13 and may be removed in the future. The current behavior is equivalent to passing `weights=None`.\n",
      "  warnings.warn(msg)\n"
     ]
    },
    {
     "name": "stdout",
     "output_type": "stream",
     "text": [
      "----------------------> 0.8297619047619048\n",
      "Evaluated Accuracy: 0.8298\n",
      "Testing b_a_r = 0.9193, c_a_r = 0.7861, f_a_r = 0.0011\n"
     ]
    },
    {
     "name": "stderr",
     "output_type": "stream",
     "text": [
      "/home/asufian/.local/share/pipx/venvs/notebook/lib/python3.12/site-packages/torchvision/models/_utils.py:208: UserWarning: The parameter 'pretrained' is deprecated since 0.13 and may be removed in the future, please use 'weights' instead.\n",
      "  warnings.warn(\n",
      "/home/asufian/.local/share/pipx/venvs/notebook/lib/python3.12/site-packages/torchvision/models/_utils.py:223: UserWarning: Arguments other than a weight enum or `None` for 'weights' are deprecated since 0.13 and may be removed in the future. The current behavior is equivalent to passing `weights=None`.\n",
      "  warnings.warn(msg)\n"
     ]
    },
    {
     "name": "stdout",
     "output_type": "stream",
     "text": [
      "----------------------> 0.3343253968253968\n",
      "Evaluated Accuracy: 0.3343\n",
      "Testing b_a_r = 0.0034, c_a_r = 0.2257, f_a_r = 0.4828\n"
     ]
    },
    {
     "name": "stderr",
     "output_type": "stream",
     "text": [
      "/home/asufian/.local/share/pipx/venvs/notebook/lib/python3.12/site-packages/torchvision/models/_utils.py:208: UserWarning: The parameter 'pretrained' is deprecated since 0.13 and may be removed in the future, please use 'weights' instead.\n",
      "  warnings.warn(\n",
      "/home/asufian/.local/share/pipx/venvs/notebook/lib/python3.12/site-packages/torchvision/models/_utils.py:223: UserWarning: Arguments other than a weight enum or `None` for 'weights' are deprecated since 0.13 and may be removed in the future. The current behavior is equivalent to passing `weights=None`.\n",
      "  warnings.warn(msg)\n"
     ]
    },
    {
     "name": "stdout",
     "output_type": "stream",
     "text": [
      "----------------------> 0.828968253968254\n",
      "Evaluated Accuracy: 0.8290\n",
      "Testing b_a_r = 0.1543, c_a_r = 0.1812, f_a_r = 0.3899\n"
     ]
    },
    {
     "name": "stderr",
     "output_type": "stream",
     "text": [
      "/home/asufian/.local/share/pipx/venvs/notebook/lib/python3.12/site-packages/torchvision/models/_utils.py:208: UserWarning: The parameter 'pretrained' is deprecated since 0.13 and may be removed in the future, please use 'weights' instead.\n",
      "  warnings.warn(\n",
      "/home/asufian/.local/share/pipx/venvs/notebook/lib/python3.12/site-packages/torchvision/models/_utils.py:223: UserWarning: Arguments other than a weight enum or `None` for 'weights' are deprecated since 0.13 and may be removed in the future. The current behavior is equivalent to passing `weights=None`.\n",
      "  warnings.warn(msg)\n"
     ]
    },
    {
     "name": "stdout",
     "output_type": "stream",
     "text": [
      "----------------------> 0.8103174603174602\n",
      "Evaluated Accuracy: 0.8103\n",
      "Testing b_a_r = 0.2665, c_a_r = 0.2192, f_a_r = 0.9863\n"
     ]
    },
    {
     "name": "stderr",
     "output_type": "stream",
     "text": [
      "/home/asufian/.local/share/pipx/venvs/notebook/lib/python3.12/site-packages/torchvision/models/_utils.py:208: UserWarning: The parameter 'pretrained' is deprecated since 0.13 and may be removed in the future, please use 'weights' instead.\n",
      "  warnings.warn(\n",
      "/home/asufian/.local/share/pipx/venvs/notebook/lib/python3.12/site-packages/torchvision/models/_utils.py:223: UserWarning: Arguments other than a weight enum or `None` for 'weights' are deprecated since 0.13 and may be removed in the future. The current behavior is equivalent to passing `weights=None`.\n",
      "  warnings.warn(msg)\n"
     ]
    },
    {
     "name": "stdout",
     "output_type": "stream",
     "text": [
      "----------------------> 0.8088293650793652\n",
      "Evaluated Accuracy: 0.8088\n",
      "Testing b_a_r = 0.4320, c_a_r = 0.6142, f_a_r = 0.0023\n"
     ]
    },
    {
     "name": "stderr",
     "output_type": "stream",
     "text": [
      "/home/asufian/.local/share/pipx/venvs/notebook/lib/python3.12/site-packages/torchvision/models/_utils.py:208: UserWarning: The parameter 'pretrained' is deprecated since 0.13 and may be removed in the future, please use 'weights' instead.\n",
      "  warnings.warn(\n",
      "/home/asufian/.local/share/pipx/venvs/notebook/lib/python3.12/site-packages/torchvision/models/_utils.py:223: UserWarning: Arguments other than a weight enum or `None` for 'weights' are deprecated since 0.13 and may be removed in the future. The current behavior is equivalent to passing `weights=None`.\n",
      "  warnings.warn(msg)\n"
     ]
    },
    {
     "name": "stdout",
     "output_type": "stream",
     "text": [
      "----------------------> 0.5030753968253968\n",
      "Evaluated Accuracy: 0.5031\n",
      "Testing b_a_r = 0.9943, c_a_r = 0.2577, f_a_r = 0.4408\n"
     ]
    },
    {
     "name": "stderr",
     "output_type": "stream",
     "text": [
      "/home/asufian/.local/share/pipx/venvs/notebook/lib/python3.12/site-packages/torchvision/models/_utils.py:208: UserWarning: The parameter 'pretrained' is deprecated since 0.13 and may be removed in the future, please use 'weights' instead.\n",
      "  warnings.warn(\n",
      "/home/asufian/.local/share/pipx/venvs/notebook/lib/python3.12/site-packages/torchvision/models/_utils.py:223: UserWarning: Arguments other than a weight enum or `None` for 'weights' are deprecated since 0.13 and may be removed in the future. The current behavior is equivalent to passing `weights=None`.\n",
      "  warnings.warn(msg)\n"
     ]
    },
    {
     "name": "stdout",
     "output_type": "stream",
     "text": [
      "----------------------> 0.8026785714285714\n",
      "Evaluated Accuracy: 0.8027\n",
      "Testing b_a_r = 0.9995, c_a_r = 0.0810, f_a_r = 0.4852\n"
     ]
    },
    {
     "name": "stderr",
     "output_type": "stream",
     "text": [
      "/home/asufian/.local/share/pipx/venvs/notebook/lib/python3.12/site-packages/torchvision/models/_utils.py:208: UserWarning: The parameter 'pretrained' is deprecated since 0.13 and may be removed in the future, please use 'weights' instead.\n",
      "  warnings.warn(\n",
      "/home/asufian/.local/share/pipx/venvs/notebook/lib/python3.12/site-packages/torchvision/models/_utils.py:223: UserWarning: Arguments other than a weight enum or `None` for 'weights' are deprecated since 0.13 and may be removed in the future. The current behavior is equivalent to passing `weights=None`.\n",
      "  warnings.warn(msg)\n"
     ]
    },
    {
     "name": "stdout",
     "output_type": "stream",
     "text": [
      "----------------------> 0.8156746031746032\n",
      "Evaluated Accuracy: 0.8157\n",
      "Testing b_a_r = 0.3251, c_a_r = 0.5161, f_a_r = 0.9850\n"
     ]
    },
    {
     "name": "stderr",
     "output_type": "stream",
     "text": [
      "/home/asufian/.local/share/pipx/venvs/notebook/lib/python3.12/site-packages/torchvision/models/_utils.py:208: UserWarning: The parameter 'pretrained' is deprecated since 0.13 and may be removed in the future, please use 'weights' instead.\n",
      "  warnings.warn(\n",
      "/home/asufian/.local/share/pipx/venvs/notebook/lib/python3.12/site-packages/torchvision/models/_utils.py:223: UserWarning: Arguments other than a weight enum or `None` for 'weights' are deprecated since 0.13 and may be removed in the future. The current behavior is equivalent to passing `weights=None`.\n",
      "  warnings.warn(msg)\n"
     ]
    },
    {
     "name": "stdout",
     "output_type": "stream",
     "text": [
      "----------------------> 0.45049603174603176\n",
      "Evaluated Accuracy: 0.4505\n",
      "Testing b_a_r = 0.0326, c_a_r = 0.0981, f_a_r = 0.9665\n"
     ]
    },
    {
     "name": "stderr",
     "output_type": "stream",
     "text": [
      "/home/asufian/.local/share/pipx/venvs/notebook/lib/python3.12/site-packages/torchvision/models/_utils.py:208: UserWarning: The parameter 'pretrained' is deprecated since 0.13 and may be removed in the future, please use 'weights' instead.\n",
      "  warnings.warn(\n",
      "/home/asufian/.local/share/pipx/venvs/notebook/lib/python3.12/site-packages/torchvision/models/_utils.py:223: UserWarning: Arguments other than a weight enum or `None` for 'weights' are deprecated since 0.13 and may be removed in the future. The current behavior is equivalent to passing `weights=None`.\n",
      "  warnings.warn(msg)\n"
     ]
    },
    {
     "name": "stdout",
     "output_type": "stream",
     "text": [
      "----------------------> 0.8307539682539682\n",
      "Evaluated Accuracy: 0.8308\n",
      "Testing b_a_r = 0.0452, c_a_r = 0.2372, f_a_r = 0.7590\n"
     ]
    },
    {
     "name": "stderr",
     "output_type": "stream",
     "text": [
      "/home/asufian/.local/share/pipx/venvs/notebook/lib/python3.12/site-packages/torchvision/models/_utils.py:208: UserWarning: The parameter 'pretrained' is deprecated since 0.13 and may be removed in the future, please use 'weights' instead.\n",
      "  warnings.warn(\n",
      "/home/asufian/.local/share/pipx/venvs/notebook/lib/python3.12/site-packages/torchvision/models/_utils.py:223: UserWarning: Arguments other than a weight enum or `None` for 'weights' are deprecated since 0.13 and may be removed in the future. The current behavior is equivalent to passing `weights=None`.\n",
      "  warnings.warn(msg)\n"
     ]
    },
    {
     "name": "stdout",
     "output_type": "stream",
     "text": [
      "----------------------> 0.8065476190476192\n",
      "Evaluated Accuracy: 0.8065\n",
      "Testing b_a_r = 0.9631, c_a_r = 0.0722, f_a_r = 0.9902\n"
     ]
    },
    {
     "name": "stderr",
     "output_type": "stream",
     "text": [
      "/home/asufian/.local/share/pipx/venvs/notebook/lib/python3.12/site-packages/torchvision/models/_utils.py:208: UserWarning: The parameter 'pretrained' is deprecated since 0.13 and may be removed in the future, please use 'weights' instead.\n",
      "  warnings.warn(\n",
      "/home/asufian/.local/share/pipx/venvs/notebook/lib/python3.12/site-packages/torchvision/models/_utils.py:223: UserWarning: Arguments other than a weight enum or `None` for 'weights' are deprecated since 0.13 and may be removed in the future. The current behavior is equivalent to passing `weights=None`.\n",
      "  warnings.warn(msg)\n"
     ]
    },
    {
     "name": "stdout",
     "output_type": "stream",
     "text": [
      "----------------------> 0.8296626984126984\n",
      "Evaluated Accuracy: 0.8297\n",
      "Testing b_a_r = 0.0042, c_a_r = 0.0874, f_a_r = 0.7966\n"
     ]
    },
    {
     "name": "stderr",
     "output_type": "stream",
     "text": [
      "/home/asufian/.local/share/pipx/venvs/notebook/lib/python3.12/site-packages/torchvision/models/_utils.py:208: UserWarning: The parameter 'pretrained' is deprecated since 0.13 and may be removed in the future, please use 'weights' instead.\n",
      "  warnings.warn(\n",
      "/home/asufian/.local/share/pipx/venvs/notebook/lib/python3.12/site-packages/torchvision/models/_utils.py:223: UserWarning: Arguments other than a weight enum or `None` for 'weights' are deprecated since 0.13 and may be removed in the future. The current behavior is equivalent to passing `weights=None`.\n",
      "  warnings.warn(msg)\n"
     ]
    },
    {
     "name": "stdout",
     "output_type": "stream",
     "text": [
      "----------------------> 0.8378968253968254\n",
      "Evaluated Accuracy: 0.8379\n",
      "Testing b_a_r = 0.5887, c_a_r = 0.0671, f_a_r = 0.0070\n"
     ]
    },
    {
     "name": "stderr",
     "output_type": "stream",
     "text": [
      "/home/asufian/.local/share/pipx/venvs/notebook/lib/python3.12/site-packages/torchvision/models/_utils.py:208: UserWarning: The parameter 'pretrained' is deprecated since 0.13 and may be removed in the future, please use 'weights' instead.\n",
      "  warnings.warn(\n",
      "/home/asufian/.local/share/pipx/venvs/notebook/lib/python3.12/site-packages/torchvision/models/_utils.py:223: UserWarning: Arguments other than a weight enum or `None` for 'weights' are deprecated since 0.13 and may be removed in the future. The current behavior is equivalent to passing `weights=None`.\n",
      "  warnings.warn(msg)\n"
     ]
    },
    {
     "name": "stdout",
     "output_type": "stream",
     "text": [
      "----------------------> 0.7702380952380953\n",
      "Evaluated Accuracy: 0.7702\n",
      "Testing b_a_r = 0.0760, c_a_r = 0.2758, f_a_r = 0.0097\n"
     ]
    },
    {
     "name": "stderr",
     "output_type": "stream",
     "text": [
      "/home/asufian/.local/share/pipx/venvs/notebook/lib/python3.12/site-packages/torchvision/models/_utils.py:208: UserWarning: The parameter 'pretrained' is deprecated since 0.13 and may be removed in the future, please use 'weights' instead.\n",
      "  warnings.warn(\n",
      "/home/asufian/.local/share/pipx/venvs/notebook/lib/python3.12/site-packages/torchvision/models/_utils.py:223: UserWarning: Arguments other than a weight enum or `None` for 'weights' are deprecated since 0.13 and may be removed in the future. The current behavior is equivalent to passing `weights=None`.\n",
      "  warnings.warn(msg)\n"
     ]
    },
    {
     "name": "stdout",
     "output_type": "stream",
     "text": [
      "----------------------> 0.7671626984126986\n",
      "Evaluated Accuracy: 0.7672\n",
      "Testing b_a_r = 0.5288, c_a_r = 0.8979, f_a_r = 0.9995\n"
     ]
    },
    {
     "name": "stderr",
     "output_type": "stream",
     "text": [
      "/home/asufian/.local/share/pipx/venvs/notebook/lib/python3.12/site-packages/torchvision/models/_utils.py:208: UserWarning: The parameter 'pretrained' is deprecated since 0.13 and may be removed in the future, please use 'weights' instead.\n",
      "  warnings.warn(\n",
      "/home/asufian/.local/share/pipx/venvs/notebook/lib/python3.12/site-packages/torchvision/models/_utils.py:223: UserWarning: Arguments other than a weight enum or `None` for 'weights' are deprecated since 0.13 and may be removed in the future. The current behavior is equivalent to passing `weights=None`.\n",
      "  warnings.warn(msg)\n"
     ]
    },
    {
     "name": "stdout",
     "output_type": "stream",
     "text": [
      "----------------------> 0.255952380952381\n",
      "Evaluated Accuracy: 0.2560\n",
      "Testing b_a_r = 0.3398, c_a_r = 0.3911, f_a_r = 0.9903\n"
     ]
    },
    {
     "name": "stderr",
     "output_type": "stream",
     "text": [
      "/home/asufian/.local/share/pipx/venvs/notebook/lib/python3.12/site-packages/torchvision/models/_utils.py:208: UserWarning: The parameter 'pretrained' is deprecated since 0.13 and may be removed in the future, please use 'weights' instead.\n",
      "  warnings.warn(\n",
      "/home/asufian/.local/share/pipx/venvs/notebook/lib/python3.12/site-packages/torchvision/models/_utils.py:223: UserWarning: Arguments other than a weight enum or `None` for 'weights' are deprecated since 0.13 and may be removed in the future. The current behavior is equivalent to passing `weights=None`.\n",
      "  warnings.warn(msg)\n"
     ]
    },
    {
     "name": "stdout",
     "output_type": "stream",
     "text": [
      "----------------------> 0.5190476190476191\n",
      "Evaluated Accuracy: 0.5190\n",
      "Testing b_a_r = 0.0388, c_a_r = 0.2229, f_a_r = 0.2807\n"
     ]
    },
    {
     "name": "stderr",
     "output_type": "stream",
     "text": [
      "/home/asufian/.local/share/pipx/venvs/notebook/lib/python3.12/site-packages/torchvision/models/_utils.py:208: UserWarning: The parameter 'pretrained' is deprecated since 0.13 and may be removed in the future, please use 'weights' instead.\n",
      "  warnings.warn(\n",
      "/home/asufian/.local/share/pipx/venvs/notebook/lib/python3.12/site-packages/torchvision/models/_utils.py:223: UserWarning: Arguments other than a weight enum or `None` for 'weights' are deprecated since 0.13 and may be removed in the future. The current behavior is equivalent to passing `weights=None`.\n",
      "  warnings.warn(msg)\n"
     ]
    },
    {
     "name": "stdout",
     "output_type": "stream",
     "text": [
      "----------------------> 0.8035714285714285\n",
      "Evaluated Accuracy: 0.8036\n",
      "Testing b_a_r = 0.0904, c_a_r = 0.0796, f_a_r = 0.9921\n"
     ]
    },
    {
     "name": "stderr",
     "output_type": "stream",
     "text": [
      "/home/asufian/.local/share/pipx/venvs/notebook/lib/python3.12/site-packages/torchvision/models/_utils.py:208: UserWarning: The parameter 'pretrained' is deprecated since 0.13 and may be removed in the future, please use 'weights' instead.\n",
      "  warnings.warn(\n",
      "/home/asufian/.local/share/pipx/venvs/notebook/lib/python3.12/site-packages/torchvision/models/_utils.py:223: UserWarning: Arguments other than a weight enum or `None` for 'weights' are deprecated since 0.13 and may be removed in the future. The current behavior is equivalent to passing `weights=None`.\n",
      "  warnings.warn(msg)\n"
     ]
    },
    {
     "name": "stdout",
     "output_type": "stream",
     "text": [
      "----------------------> 0.8357142857142859\n",
      "Evaluated Accuracy: 0.8357\n",
      "Testing b_a_r = 0.0041, c_a_r = 0.0570, f_a_r = 0.9972\n"
     ]
    },
    {
     "name": "stderr",
     "output_type": "stream",
     "text": [
      "/home/asufian/.local/share/pipx/venvs/notebook/lib/python3.12/site-packages/torchvision/models/_utils.py:208: UserWarning: The parameter 'pretrained' is deprecated since 0.13 and may be removed in the future, please use 'weights' instead.\n",
      "  warnings.warn(\n",
      "/home/asufian/.local/share/pipx/venvs/notebook/lib/python3.12/site-packages/torchvision/models/_utils.py:223: UserWarning: Arguments other than a weight enum or `None` for 'weights' are deprecated since 0.13 and may be removed in the future. The current behavior is equivalent to passing `weights=None`.\n",
      "  warnings.warn(msg)\n"
     ]
    },
    {
     "name": "stdout",
     "output_type": "stream",
     "text": [
      "----------------------> 0.8294642857142857\n",
      "Evaluated Accuracy: 0.8295\n",
      "Testing b_a_r = 0.9498, c_a_r = 0.0865, f_a_r = 0.9638\n"
     ]
    },
    {
     "name": "stderr",
     "output_type": "stream",
     "text": [
      "/home/asufian/.local/share/pipx/venvs/notebook/lib/python3.12/site-packages/torchvision/models/_utils.py:208: UserWarning: The parameter 'pretrained' is deprecated since 0.13 and may be removed in the future, please use 'weights' instead.\n",
      "  warnings.warn(\n",
      "/home/asufian/.local/share/pipx/venvs/notebook/lib/python3.12/site-packages/torchvision/models/_utils.py:223: UserWarning: Arguments other than a weight enum or `None` for 'weights' are deprecated since 0.13 and may be removed in the future. The current behavior is equivalent to passing `weights=None`.\n",
      "  warnings.warn(msg)\n"
     ]
    },
    {
     "name": "stdout",
     "output_type": "stream",
     "text": [
      "----------------------> 0.830456349206349\n",
      "Evaluated Accuracy: 0.8305\n",
      "Testing b_a_r = 0.0246, c_a_r = 0.0810, f_a_r = 0.7562\n"
     ]
    },
    {
     "name": "stderr",
     "output_type": "stream",
     "text": [
      "/home/asufian/.local/share/pipx/venvs/notebook/lib/python3.12/site-packages/torchvision/models/_utils.py:208: UserWarning: The parameter 'pretrained' is deprecated since 0.13 and may be removed in the future, please use 'weights' instead.\n",
      "  warnings.warn(\n",
      "/home/asufian/.local/share/pipx/venvs/notebook/lib/python3.12/site-packages/torchvision/models/_utils.py:223: UserWarning: Arguments other than a weight enum or `None` for 'weights' are deprecated since 0.13 and may be removed in the future. The current behavior is equivalent to passing `weights=None`.\n",
      "  warnings.warn(msg)\n"
     ]
    },
    {
     "name": "stdout",
     "output_type": "stream",
     "text": [
      "----------------------> 0.8370039682539683\n",
      "Evaluated Accuracy: 0.8370\n",
      "Testing b_a_r = 0.0564, c_a_r = 0.0661, f_a_r = 0.7631\n"
     ]
    },
    {
     "name": "stderr",
     "output_type": "stream",
     "text": [
      "/home/asufian/.local/share/pipx/venvs/notebook/lib/python3.12/site-packages/torchvision/models/_utils.py:208: UserWarning: The parameter 'pretrained' is deprecated since 0.13 and may be removed in the future, please use 'weights' instead.\n",
      "  warnings.warn(\n",
      "/home/asufian/.local/share/pipx/venvs/notebook/lib/python3.12/site-packages/torchvision/models/_utils.py:223: UserWarning: Arguments other than a weight enum or `None` for 'weights' are deprecated since 0.13 and may be removed in the future. The current behavior is equivalent to passing `weights=None`.\n",
      "  warnings.warn(msg)\n"
     ]
    },
    {
     "name": "stdout",
     "output_type": "stream",
     "text": [
      "----------------------> 0.8328373015873015\n",
      "Evaluated Accuracy: 0.8328\n",
      "Testing b_a_r = 0.9591, c_a_r = 0.2010, f_a_r = 0.5793\n"
     ]
    },
    {
     "name": "stderr",
     "output_type": "stream",
     "text": [
      "/home/asufian/.local/share/pipx/venvs/notebook/lib/python3.12/site-packages/torchvision/models/_utils.py:208: UserWarning: The parameter 'pretrained' is deprecated since 0.13 and may be removed in the future, please use 'weights' instead.\n",
      "  warnings.warn(\n",
      "/home/asufian/.local/share/pipx/venvs/notebook/lib/python3.12/site-packages/torchvision/models/_utils.py:223: UserWarning: Arguments other than a weight enum or `None` for 'weights' are deprecated since 0.13 and may be removed in the future. The current behavior is equivalent to passing `weights=None`.\n",
      "  warnings.warn(msg)\n"
     ]
    },
    {
     "name": "stdout",
     "output_type": "stream",
     "text": [
      "----------------------> 0.8334325396825397\n",
      "Evaluated Accuracy: 0.8334\n",
      "Testing b_a_r = 0.9789, c_a_r = 0.0884, f_a_r = 1.0000\n"
     ]
    },
    {
     "name": "stderr",
     "output_type": "stream",
     "text": [
      "/home/asufian/.local/share/pipx/venvs/notebook/lib/python3.12/site-packages/torchvision/models/_utils.py:208: UserWarning: The parameter 'pretrained' is deprecated since 0.13 and may be removed in the future, please use 'weights' instead.\n",
      "  warnings.warn(\n",
      "/home/asufian/.local/share/pipx/venvs/notebook/lib/python3.12/site-packages/torchvision/models/_utils.py:223: UserWarning: Arguments other than a weight enum or `None` for 'weights' are deprecated since 0.13 and may be removed in the future. The current behavior is equivalent to passing `weights=None`.\n",
      "  warnings.warn(msg)\n"
     ]
    },
    {
     "name": "stdout",
     "output_type": "stream",
     "text": [
      "----------------------> 0.8300595238095237\n",
      "Evaluated Accuracy: 0.8301\n",
      "Testing b_a_r = 0.0102, c_a_r = 0.1449, f_a_r = 0.6177\n"
     ]
    },
    {
     "name": "stderr",
     "output_type": "stream",
     "text": [
      "/home/asufian/.local/share/pipx/venvs/notebook/lib/python3.12/site-packages/torchvision/models/_utils.py:208: UserWarning: The parameter 'pretrained' is deprecated since 0.13 and may be removed in the future, please use 'weights' instead.\n",
      "  warnings.warn(\n",
      "/home/asufian/.local/share/pipx/venvs/notebook/lib/python3.12/site-packages/torchvision/models/_utils.py:223: UserWarning: Arguments other than a weight enum or `None` for 'weights' are deprecated since 0.13 and may be removed in the future. The current behavior is equivalent to passing `weights=None`.\n",
      "  warnings.warn(msg)\n"
     ]
    },
    {
     "name": "stdout",
     "output_type": "stream",
     "text": [
      "----------------------> 0.8264880952380952\n",
      "Evaluated Accuracy: 0.8265\n",
      "Testing b_a_r = 0.0118, c_a_r = 0.1040, f_a_r = 0.7799\n"
     ]
    },
    {
     "name": "stderr",
     "output_type": "stream",
     "text": [
      "/home/asufian/.local/share/pipx/venvs/notebook/lib/python3.12/site-packages/torchvision/models/_utils.py:208: UserWarning: The parameter 'pretrained' is deprecated since 0.13 and may be removed in the future, please use 'weights' instead.\n",
      "  warnings.warn(\n",
      "/home/asufian/.local/share/pipx/venvs/notebook/lib/python3.12/site-packages/torchvision/models/_utils.py:223: UserWarning: Arguments other than a weight enum or `None` for 'weights' are deprecated since 0.13 and may be removed in the future. The current behavior is equivalent to passing `weights=None`.\n",
      "  warnings.warn(msg)\n"
     ]
    },
    {
     "name": "stdout",
     "output_type": "stream",
     "text": [
      "----------------------> 0.8318452380952382\n",
      "Evaluated Accuracy: 0.8318\n",
      "Testing b_a_r = 0.9760, c_a_r = 0.0950, f_a_r = 0.7554\n"
     ]
    },
    {
     "name": "stderr",
     "output_type": "stream",
     "text": [
      "/home/asufian/.local/share/pipx/venvs/notebook/lib/python3.12/site-packages/torchvision/models/_utils.py:208: UserWarning: The parameter 'pretrained' is deprecated since 0.13 and may be removed in the future, please use 'weights' instead.\n",
      "  warnings.warn(\n",
      "/home/asufian/.local/share/pipx/venvs/notebook/lib/python3.12/site-packages/torchvision/models/_utils.py:223: UserWarning: Arguments other than a weight enum or `None` for 'weights' are deprecated since 0.13 and may be removed in the future. The current behavior is equivalent to passing `weights=None`.\n",
      "  warnings.warn(msg)\n"
     ]
    },
    {
     "name": "stdout",
     "output_type": "stream",
     "text": [
      "----------------------> 0.8327380952380953\n",
      "Evaluated Accuracy: 0.8327\n",
      "Testing b_a_r = 0.0021, c_a_r = 0.0480, f_a_r = 0.7863\n"
     ]
    },
    {
     "name": "stderr",
     "output_type": "stream",
     "text": [
      "/home/asufian/.local/share/pipx/venvs/notebook/lib/python3.12/site-packages/torchvision/models/_utils.py:208: UserWarning: The parameter 'pretrained' is deprecated since 0.13 and may be removed in the future, please use 'weights' instead.\n",
      "  warnings.warn(\n",
      "/home/asufian/.local/share/pipx/venvs/notebook/lib/python3.12/site-packages/torchvision/models/_utils.py:223: UserWarning: Arguments other than a weight enum or `None` for 'weights' are deprecated since 0.13 and may be removed in the future. The current behavior is equivalent to passing `weights=None`.\n",
      "  warnings.warn(msg)\n"
     ]
    },
    {
     "name": "stdout",
     "output_type": "stream",
     "text": [
      "----------------------> 0.8231150793650793\n",
      "Evaluated Accuracy: 0.8231\n",
      "Testing b_a_r = 0.0538, c_a_r = 0.0908, f_a_r = 0.9885\n"
     ]
    },
    {
     "name": "stderr",
     "output_type": "stream",
     "text": [
      "/home/asufian/.local/share/pipx/venvs/notebook/lib/python3.12/site-packages/torchvision/models/_utils.py:208: UserWarning: The parameter 'pretrained' is deprecated since 0.13 and may be removed in the future, please use 'weights' instead.\n",
      "  warnings.warn(\n",
      "/home/asufian/.local/share/pipx/venvs/notebook/lib/python3.12/site-packages/torchvision/models/_utils.py:223: UserWarning: Arguments other than a weight enum or `None` for 'weights' are deprecated since 0.13 and may be removed in the future. The current behavior is equivalent to passing `weights=None`.\n",
      "  warnings.warn(msg)\n"
     ]
    },
    {
     "name": "stdout",
     "output_type": "stream",
     "text": [
      "----------------------> 0.8341269841269843\n",
      "Evaluated Accuracy: 0.8341\n",
      "Testing b_a_r = 0.0450, c_a_r = 0.0061, f_a_r = 0.5420\n"
     ]
    },
    {
     "name": "stderr",
     "output_type": "stream",
     "text": [
      "/home/asufian/.local/share/pipx/venvs/notebook/lib/python3.12/site-packages/torchvision/models/_utils.py:208: UserWarning: The parameter 'pretrained' is deprecated since 0.13 and may be removed in the future, please use 'weights' instead.\n",
      "  warnings.warn(\n",
      "/home/asufian/.local/share/pipx/venvs/notebook/lib/python3.12/site-packages/torchvision/models/_utils.py:223: UserWarning: Arguments other than a weight enum or `None` for 'weights' are deprecated since 0.13 and may be removed in the future. The current behavior is equivalent to passing `weights=None`.\n",
      "  warnings.warn(msg)\n"
     ]
    },
    {
     "name": "stdout",
     "output_type": "stream",
     "text": [
      "----------------------> 0.7648809523809524\n",
      "Evaluated Accuracy: 0.7649\n",
      "Testing b_a_r = 0.4008, c_a_r = 0.9991, f_a_r = 0.0006\n"
     ]
    },
    {
     "name": "stderr",
     "output_type": "stream",
     "text": [
      "/home/asufian/.local/share/pipx/venvs/notebook/lib/python3.12/site-packages/torchvision/models/_utils.py:208: UserWarning: The parameter 'pretrained' is deprecated since 0.13 and may be removed in the future, please use 'weights' instead.\n",
      "  warnings.warn(\n",
      "/home/asufian/.local/share/pipx/venvs/notebook/lib/python3.12/site-packages/torchvision/models/_utils.py:223: UserWarning: Arguments other than a weight enum or `None` for 'weights' are deprecated since 0.13 and may be removed in the future. The current behavior is equivalent to passing `weights=None`.\n",
      "  warnings.warn(msg)\n"
     ]
    },
    {
     "name": "stdout",
     "output_type": "stream",
     "text": [
      "----------------------> 0.2876984126984127\n",
      "Evaluated Accuracy: 0.2877\n",
      "Testing b_a_r = 0.8966, c_a_r = 0.1168, f_a_r = 0.2691\n"
     ]
    },
    {
     "name": "stderr",
     "output_type": "stream",
     "text": [
      "/home/asufian/.local/share/pipx/venvs/notebook/lib/python3.12/site-packages/torchvision/models/_utils.py:208: UserWarning: The parameter 'pretrained' is deprecated since 0.13 and may be removed in the future, please use 'weights' instead.\n",
      "  warnings.warn(\n",
      "/home/asufian/.local/share/pipx/venvs/notebook/lib/python3.12/site-packages/torchvision/models/_utils.py:223: UserWarning: Arguments other than a weight enum or `None` for 'weights' are deprecated since 0.13 and may be removed in the future. The current behavior is equivalent to passing `weights=None`.\n",
      "  warnings.warn(msg)\n"
     ]
    },
    {
     "name": "stdout",
     "output_type": "stream",
     "text": [
      "----------------------> 0.7933531746031747\n",
      "Evaluated Accuracy: 0.7934\n",
      "Testing b_a_r = 0.0414, c_a_r = 0.1929, f_a_r = 0.6115\n"
     ]
    },
    {
     "name": "stderr",
     "output_type": "stream",
     "text": [
      "/home/asufian/.local/share/pipx/venvs/notebook/lib/python3.12/site-packages/torchvision/models/_utils.py:208: UserWarning: The parameter 'pretrained' is deprecated since 0.13 and may be removed in the future, please use 'weights' instead.\n",
      "  warnings.warn(\n",
      "/home/asufian/.local/share/pipx/venvs/notebook/lib/python3.12/site-packages/torchvision/models/_utils.py:223: UserWarning: Arguments other than a weight enum or `None` for 'weights' are deprecated since 0.13 and may be removed in the future. The current behavior is equivalent to passing `weights=None`.\n",
      "  warnings.warn(msg)\n"
     ]
    },
    {
     "name": "stdout",
     "output_type": "stream",
     "text": [
      "----------------------> 0.825595238095238\n",
      "Evaluated Accuracy: 0.8256\n",
      "\n",
      "✅ Optimal Values:\n",
      "   - b_a_r: 0.0042\n",
      "   - c_a_r: 0.0874\n",
      "   - f_a_r: 0.7966\n",
      "📈 Highest Accuracy Achieved: 0.8379\n"
     ]
    }
   ],
   "source": [
    "import numpy as np\n",
    "import torch\n",
    "import matplotlib.pyplot as plt\n",
    "from skopt import gp_minimize\n",
    "from skopt.space import Real\n",
    "from skopt.utils import use_named_args\n",
    "from skopt.plots import plot_convergence\n",
    "\n",
    "# Device setup\n",
    "device = torch.device(\"cuda\" if torch.cuda.is_available() else \"cpu\")\n",
    "\n",
    "\n",
    "# Define the search space for b_a_r, c_a_r, and f_a_r\n",
    "search_space = [\n",
    "    Real(0.0, 1.0, name=\"b_a_r\"),\n",
    "    Real(0.0, 1.0, name=\"c_a_r\"),\n",
    "    Real(0.0, 1.0, name=\"f_a_r\")\n",
    "]\n",
    "\n",
    "# Define the objective function for Bayesian Optimization\n",
    "@use_named_args(search_space)\n",
    "def objective(b_a_r, c_a_r, f_a_r):\n",
    "    \"\"\"\n",
    "    Objective function to optimize the adaptation ratios.\n",
    "    It applies adaptation, evaluates the model, and returns the negative accuracy.\n",
    "    \"\"\"\n",
    "    accuracy = get_model_accuracy(b_a_r, c_a_r, f_a_r)\n",
    "    print(f\"Evaluated Accuracy: {accuracy:.4f}\")  # Debugging Output\n",
    "    \n",
    "    return -accuracy  # We minimize, so return negative accuracy\n",
    "\n",
    "# Perform Bayesian Optimization with additional settings\n",
    "search_iteration=50\n",
    "res = gp_minimize(\n",
    "    func=objective,\n",
    "    dimensions=search_space,\n",
    "    n_calls=search_iteration,               # Number of evaluations\n",
    "    n_initial_points=5,       # Initial random explorations before GP starts\n",
    "    acq_func=\"EI\",            # Acquisition function: Expected Improvement\n",
    "    random_state=42,          # Ensure reproducibility\n",
    "    n_jobs=-1,                # Parallel execution for faster optimization\n",
    ")\n",
    "\n",
    "# Extract optimal results\n",
    "optimal_b_a_r, optimal_c_a_r, optimal_f_a_r = res.x\n",
    "best_accuracy = -res.fun\n",
    "\n",
    "print(f\"\\n✅ Optimal Values:\")\n",
    "print(f\"   - b_a_r: {optimal_b_a_r:.4f}\")\n",
    "print(f\"   - c_a_r: {optimal_c_a_r:.4f}\")\n",
    "print(f\"   - f_a_r: {optimal_f_a_r:.4f}\")\n",
    "print(f\"📈 Highest Accuracy Achieved: {best_accuracy:.4f}\")\n",
    "\n",
    "\n"
   ]
  },
  {
   "cell_type": "code",
   "execution_count": 101,
   "metadata": {},
   "outputs": [
    {
     "name": "stderr",
     "output_type": "stream",
     "text": [
      "/home/asufian/.local/share/pipx/venvs/notebook/lib/python3.12/site-packages/torchvision/models/_utils.py:208: UserWarning: The parameter 'pretrained' is deprecated since 0.13 and may be removed in the future, please use 'weights' instead.\n",
      "  warnings.warn(\n",
      "/home/asufian/.local/share/pipx/venvs/notebook/lib/python3.12/site-packages/torchvision/models/_utils.py:223: UserWarning: Arguments other than a weight enum or `None` for 'weights' are deprecated since 0.13 and may be removed in the future. The current behavior is equivalent to passing `weights=None`.\n",
      "  warnings.warn(msg)\n"
     ]
    },
    {
     "name": "stdout",
     "output_type": "stream",
     "text": [
      "---Accu-----pre----rec---------> 0.7173 ± 0.0372  0.7267 ± 0.0438  0.7173 ± 0.0372\n"
     ]
    },
    {
     "name": "stderr",
     "output_type": "stream",
     "text": [
      "/home/asufian/.local/share/pipx/venvs/notebook/lib/python3.12/site-packages/torchvision/models/_utils.py:208: UserWarning: The parameter 'pretrained' is deprecated since 0.13 and may be removed in the future, please use 'weights' instead.\n",
      "  warnings.warn(\n",
      "/home/asufian/.local/share/pipx/venvs/notebook/lib/python3.12/site-packages/torchvision/models/_utils.py:223: UserWarning: Arguments other than a weight enum or `None` for 'weights' are deprecated since 0.13 and may be removed in the future. The current behavior is equivalent to passing `weights=None`.\n",
      "  warnings.warn(msg)\n"
     ]
    },
    {
     "name": "stdout",
     "output_type": "stream",
     "text": [
      "---Accu-----pre----rec---------> 0.5036 ± 0.0423  0.5161 ± 0.0440  0.5036 ± 0.0423\n",
      "---Accu-----pre----rec---------> 0.8379 ± 0.0539  0.8417 ± 0.0547  0.8379 ± 0.0539\n"
     ]
    }
   ],
   "source": [
    "convolutional_network_with_dropout = ResNet18WithDropout(pretrained=False, dr=0.0)\n",
    "convolutional_network_with_dropout.fc = nn.Flatten()\n",
    "xyz = convolutional_network_with_dropout\n",
    "M3 = PrototypicalNetworks_dynamic_query(xyz).to(device)\n",
    "M3.load_state_dict(torch.load('model_own_path.pt'))\n",
    "evaluate2('/home/asufian/Desktop/output_olchiki/resnet_resluts/base/12_w_10_s_f', test_loader, M3, criterion)\n",
    "# Load Model M2\n",
    "convolutional_network_with_dropout = ResNet18WithDropout(pretrained=False, dr=0.0)\n",
    "convolutional_network_with_dropout.fc = nn.Flatten()\n",
    "xyz2 = convolutional_network_with_dropout\n",
    "M2 = PrototypicalNetworks_dynamic_query(xyz2).to(device)\n",
    "M2.load_state_dict(torch.load('model_mu_path.pt'))\n",
    "evaluate2(\"/home/asufian/Desktop/output_olchiki/resnet_resluts/secondary/12_w_10_s_f\", test_loader, M2, criterion)\n",
    "# Update Model M3's weights using a weighted combination of Model M3 and Model M2\n",
    "update_model_weights2(M3, M2, conv_ratio= optimal_c_a_r , fc_ratio=optimal_f_a_r , bias_ratio=optimal_b_a_r)\n",
    "\n",
    "# Assuming you have the evaluate2 function defined\n",
    "# Evaluate the updated model (M3) using evaluate2 function with some arguments\n",
    "evaluate2(\"/home/asufian/Desktop/output_olchiki/resnet_resluts/amul/12_w_10_s_f\", test_loader, M3, criterion)\n"
   ]
  },
  {
   "cell_type": "code",
   "execution_count": null,
   "metadata": {},
   "outputs": [],
   "source": []
  },
  {
   "cell_type": "code",
   "execution_count": null,
   "metadata": {},
   "outputs": [],
   "source": []
  },
  {
   "cell_type": "code",
   "execution_count": null,
   "metadata": {},
   "outputs": [],
   "source": []
  },
  {
   "cell_type": "code",
   "execution_count": null,
   "metadata": {},
   "outputs": [],
   "source": []
  }
 ],
 "metadata": {
  "kernelspec": {
   "display_name": "Python 3",
   "language": "python",
   "name": "python3"
  },
  "language_info": {
   "codemirror_mode": {
    "name": "ipython",
    "version": 3
   },
   "file_extension": ".py",
   "mimetype": "text/x-python",
   "name": "python",
   "nbconvert_exporter": "python",
   "pygments_lexer": "ipython3",
   "version": "3.8.10"
  }
 },
 "nbformat": 4,
 "nbformat_minor": 5
}
