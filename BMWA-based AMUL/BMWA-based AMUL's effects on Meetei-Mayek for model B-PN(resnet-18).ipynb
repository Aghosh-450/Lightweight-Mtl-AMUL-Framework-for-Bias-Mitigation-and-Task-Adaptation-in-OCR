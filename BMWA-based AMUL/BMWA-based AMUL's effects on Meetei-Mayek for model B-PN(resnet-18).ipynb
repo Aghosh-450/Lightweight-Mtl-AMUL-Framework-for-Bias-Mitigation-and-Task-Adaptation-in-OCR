{
 "cells": [
  {
   "cell_type": "code",
   "execution_count": 2,
   "metadata": {},
   "outputs": [],
   "source": [
    "import torch\n",
    "import torch.nn as nn\n",
    "# !pip install easyfsl\n",
    "import torch\n",
    "from torch import nn, optim\n",
    "from torch.utils.data import DataLoader\n",
    "from torchvision import transforms\n",
    "from torchvision.datasets import Omniglot\n",
    "from torchvision.models import resnet18\n",
    "from tqdm import tqdm\n",
    "\n",
    "from easyfsl.samplers import TaskSampler\n",
    "from easyfsl.utils import plot_images, sliding_average\n",
    "\n",
    "class PrototypicalNetworks_dynamic_query(nn.Module):\n",
    "    def __init__(self, backbone: nn.Module):\n",
    "        super(PrototypicalNetworks_dynamic_query, self).__init__()\n",
    "        self.backbone = backbone\n",
    "\n",
    "    def forward(\n",
    "        self,\n",
    "        support_images,\n",
    "        support_labels,\n",
    "        query_images: torch.Tensor,\n",
    "    ) -> torch.Tensor:\n",
    "        \"\"\"\n",
    "        Predict query labels using labeled support images.\n",
    "        \"\"\"\n",
    "        num_classes=len(list(support_labels))\n",
    "        prototypes = []\n",
    "        for class_label in range(num_classes):\n",
    "            # print(type(support_images[class_label]),torch.cat(support_images[class_label].shape)\n",
    "            support_images_eachclass=(support_images[class_label])\n",
    "            # print(\"kk\", support_images_eachclass.shape)\n",
    "            class_features = self.backbone(support_images_eachclass.to(device))  # Select features for the current class\n",
    "            class_prototype = class_features.mean(dim=0)  # Compute the mean along the batch dimension\n",
    "            prototypes.append(class_prototype)\n",
    "        prototypes = torch.stack(prototypes)\n",
    "\n",
    "\n",
    "        distances=[]\n",
    "        for each_query_class in query_images:\n",
    "\n",
    "          query_features = self.backbone(each_query_class)\n",
    "\n",
    "          # Compute the distance between query features and prototypes\n",
    "          distance = torch.cdist(query_features, prototypes)\n",
    "          distances.append(-distance)\n",
    "\n",
    "        # print(distances.shape)\n",
    "\n",
    "        return distances\n"
   ]
  },
  {
   "cell_type": "code",
   "execution_count": 3,
   "metadata": {},
   "outputs": [
    {
     "name": "stdout",
     "output_type": "stream",
     "text": [
      "'MAPI Mayeek'\n"
     ]
    }
   ],
   "source": [
    "!ls '/home/asufian/Desktop/output_olchiki/code/MAPI Mayee'"
   ]
  },
  {
   "cell_type": "code",
   "execution_count": 4,
   "metadata": {},
   "outputs": [],
   "source": [
    "root_path = '/home/asufian/Desktop/output_olchiki/code/MAPI Mayee'"
   ]
  },
  {
   "cell_type": "code",
   "execution_count": 5,
   "metadata": {},
   "outputs": [],
   "source": [
    "import os\n",
    "import random\n",
    "from collections import defaultdict\n",
    "from PIL import Image, ImageOps\n",
    "import torch\n",
    "from torch.utils.data import Dataset, DataLoader\n",
    "from torchvision import transforms\n",
    "\n",
    "class PrototypicalOmniglotDataset(Dataset):\n",
    "    def __init__(self, root, num_classes=1623, n_shot=5, n_query=10, transform=None):\n",
    "        self.root = root\n",
    "        self.num_classes = num_classes\n",
    "        self.n_shot = n_shot\n",
    "        self.n_query = n_query\n",
    "        self.transform = transform\n",
    "        self.samples_by_label = defaultdict(list)\n",
    "        self.all_imgs = {}\n",
    "        self.classes = []\n",
    "\n",
    "        # Common image file extensions\n",
    "        image_extensions = ['.jpg', '.jpeg', '.png', '.bmp', '.gif', '.tiff', '.webp']\n",
    "\n",
    "        # Organize data into classes and image paths\n",
    "        for alphabet in os.listdir(self.root):\n",
    "            alphabet_path = os.path.join(self.root, alphabet)\n",
    "            if not os.path.isdir(alphabet_path):\n",
    "                continue\n",
    "\n",
    "            for char_class in os.listdir(alphabet_path):\n",
    "                char_class_path = os.path.join(alphabet_path, char_class)\n",
    "\n",
    "                # Skip if the entry is not a directory\n",
    "                if not os.path.isdir(char_class_path):\n",
    "                    continue\n",
    "\n",
    "                all_images = []\n",
    "                for img_name in sorted(os.listdir(char_class_path)):\n",
    "                    img_path = os.path.join(char_class_path, img_name)\n",
    "\n",
    "                    # Check if it's a file with a recognized image extension\n",
    "                    if os.path.isfile(img_path) and any(img_name.lower().endswith(ext) for ext in image_extensions):\n",
    "                        all_images.append(img_path)\n",
    "\n",
    "                if all_images:\n",
    "                    char_class_name = f\"{alphabet}_{char_class}\"\n",
    "                    self.samples_by_label[char_class_name] = list(range(len(all_images)))\n",
    "                    self.all_imgs[char_class_name] = all_images\n",
    "                    self.classes.append(char_class_name)\n",
    "                    # print(char_class_name)\n",
    "\n",
    "    # def transform_image(self, raw_img):\n",
    "    #     img = ImageOps.invert(raw_img)\n",
    "    #     if self.transform is not None:\n",
    "    #         img = self.transform(img)\n",
    "    #     return img\n",
    "    def transform_image(self, raw_img):\n",
    "        img = raw_img#ImageOps.invert(raw_img)\n",
    "        if self.transform is not None:\n",
    "            # print(self.transform)\n",
    "            img = self.transform(img)\n",
    "        # print(img.shape)\n",
    "        return img\n",
    "\n",
    "    def __getitem__(self, selected_classes,selected_supports):#\n",
    "        # selected_classes = random.sample(self.classes, self.num_classes)\n",
    "        class_indices = [self.samples_by_label[each_cls] for each_cls in selected_classes]\n",
    "        # print(\"selected_classes: \",selected_classes)\n",
    "        support_set = []\n",
    "        query_set = []\n",
    "        label_id = 0\n",
    "        qs=[]\n",
    "        ko=0\n",
    "        ghj=[]\n",
    "        for idx_set in class_indices:\n",
    "            # Creating support set\n",
    "            selected_support =selected_supports[ko]# random.sample(idx_set, self.n_shot)\n",
    "            ko=ko+1\n",
    "            ghj.append(selected_support)\n",
    "            # print(\"selected_support images: \", ghj)\n",
    "            support_images = [self.transform_image(Image.open(self.all_imgs[selected_classes[label_id]][each]).convert('L')) for each in selected_support]\n",
    "\n",
    "            # Creating query set\n",
    "            selected_query = [item for item in idx_set if item not in selected_support]\n",
    "            query_images = [self.transform_image(Image.open(self.all_imgs[selected_classes[label_id]][each]).convert('L')) for each in selected_query]\n",
    "            support_set.append((support_images, [label_id for _ in range(self.n_shot)]))\n",
    "            # print(\"aaaaaaaaaa\",label_id)\n",
    "            query_set.append((query_images,  [label_id for _ in range(len(selected_query))]))\n",
    "\n",
    "            label_id += 1\n",
    "            # qs= [item for item in a for _ in range(self.n_query)]\n",
    "        return support_set, query_set\n",
    "\n",
    "    def __len__(self):\n",
    "        return 10\n",
    "\n",
    "# Set up the transformations\n",
    "transform = transforms.Compose([\n",
    "    transforms.Grayscale(num_output_channels=1),  # Convert to grayscale\n",
    "    transforms.ToTensor(),\n",
    "])\n",
    "\n",
    "# Set up the SiameseOmniglotDataset\n",
    "# Training == evaluation\n",
    "# root_path = './assamese'\n",
    "num_classes = 5  # Set the desired number of classes per episode\n",
    "n_shot = 5\n",
    "n_query = 10\n",
    "\n",
    "PrototypicalOmniglotDatasetLoader = PrototypicalOmniglotDataset(root=root_path, num_classes=num_classes, n_shot=n_shot, n_query=n_query, transform=transform)\n"
   ]
  },
  {
   "cell_type": "code",
   "execution_count": 6,
   "metadata": {},
   "outputs": [],
   "source": [
    "import torch\n",
    "import torch.nn as nn\n",
    "\n",
    "class PrototypicalNetworks_dynamic_query(nn.Module):\n",
    "    def __init__(self, backbone: nn.Module):\n",
    "        super(PrototypicalNetworks_dynamic_query, self).__init__()\n",
    "        self.backbone = backbone\n",
    "\n",
    "    def forward(\n",
    "        self,\n",
    "        support_images,\n",
    "        support_labels,\n",
    "        query_images: torch.Tensor,\n",
    "    ) -> torch.Tensor:\n",
    "        \"\"\"\n",
    "        Predict query labels using labeled support images.\n",
    "        \"\"\"\n",
    "        num_classes=len(list(support_labels))\n",
    "        prototypes = []\n",
    "        for class_label in range(num_classes):\n",
    "            # print(type(support_images[class_label]),torch.cat(support_images[class_label].shape)\n",
    "            support_images_eachclass=(support_images[class_label])\n",
    "            # print(\"kk\", support_images_eachclass.shape)\n",
    "            class_features = self.backbone(support_images_eachclass.to(device))  # Select features for the current class\n",
    "            class_prototype = class_features.mean(dim=0)  # Compute the mean along the batch dimension\n",
    "            prototypes.append(class_prototype)\n",
    "        prototypes = torch.stack(prototypes)\n",
    "\n",
    "\n",
    "        distances=[]\n",
    "        for each_query_class in query_images:\n",
    "\n",
    "          query_features = self.backbone(each_query_class)\n",
    "\n",
    "          # Compute the distance between query features and prototypes\n",
    "          distance = torch.cdist(query_features, prototypes)\n",
    "          distances.append(-distance)\n",
    "\n",
    "        # print(distances.shape)\n",
    "\n",
    "        return distances\n"
   ]
  },
  {
   "cell_type": "code",
   "execution_count": 7,
   "metadata": {},
   "outputs": [],
   "source": [
    "class PrototypicalNetworks33(nn.Module):\n",
    "    def __init__(self, backbone: nn.Module):\n",
    "        super(PrototypicalNetworks33, self).__init__()\n",
    "        self.backbone = backbone\n",
    "\n",
    "    def forward(\n",
    "        self,\n",
    "        support_images,\n",
    "        support_labels,\n",
    "        query_images: torch.Tensor,\n",
    "    ) -> torch.Tensor:\n",
    "        num_classes = len(support_labels)\n",
    "        prototypes = []\n",
    "        for class_label in range(num_classes):\n",
    "            support_images_eachclass = support_images[class_label]\n",
    "            class_features = torch.stack([self.backbone(each.unsqueeze(0)) for each in support_images_eachclass])\n",
    "            prototype_bymean = class_features.mean(dim=0)\n",
    "            # print(prototype_bymean.shape)\n",
    "            prototypes.append(prototype_bymean)\n",
    "\n",
    "        query_features = torch.stack([self.backbone(each.unsqueeze(0)) for each in query_images])\n",
    "        # print(query_features.shape,query_features[0].shape,torch.stack(prototypes).shape,torch.stack(prototypes)[0].shape)\n",
    "        # distances = -torch.cdist(query_features, torch.stack(prototypes))\n",
    "        distances = []  # Initialize list to store distances\n",
    "        prototypes=torch.stack(prototypes)\n",
    "        for each_query_feature in query_features:\n",
    "            d = torch.cdist(prototypes, each_query_feature)  # Compute distances\n",
    "            distances.append(d.squeeze())  # Remove singleton dimension and store\n",
    "            # print(d.shape)  # Output: [5, 1], shape of each distance matrix\n",
    "\n",
    "        distances = torch.stack(distances)\n",
    "\n",
    "        return -distances\n"
   ]
  },
  {
   "cell_type": "code",
   "execution_count": 8,
   "metadata": {},
   "outputs": [],
   "source": []
  },
  {
   "cell_type": "code",
   "execution_count": 9,
   "metadata": {},
   "outputs": [],
   "source": [
    "import pandas as pd\n",
    "import os\n",
    "import csv\n",
    "def save_in_csv(cls,flnm,conf_matrix, acciuracy,precision_overall, recall_overall, f_betas):\n",
    "  with open(flnm, 'w', newline='') as csvfile:\n",
    "      writer = csv.writer(csvfile)\n",
    "      headers=['Accuracy', 'Precision', 'Recall']\n",
    "      beta=-5\n",
    "      values=[]\n",
    "      values.append(acciuracy)\n",
    "      values.append(precision_overall)\n",
    "      values.append(recall_overall)\n",
    "      for each in f_betas:\n",
    "              headers.append('F-betas (' +str(beta)+' )')\n",
    "              beta=beta+1\n",
    "              values.append(each)\n",
    "\n",
    "    # Write confusion matrix\n",
    "      writer.writerow(['used Class:'])\n",
    "      writer.writerows([cls])\n",
    "      writer.writerow([])\n",
    "      writer.writerow([])\n",
    "      writer.writerow(['Confusion Matrix'])\n",
    "      writer.writerows(conf_matrix)\n",
    "      writer.writerow([])\n",
    "      writer.writerow([])  # Add an empty row for separation\n",
    "\n",
    "      # Write metrics\n",
    "\n",
    "      writer.writerow(headers)\n",
    "      writer.writerow(values)\n",
    "\n",
    "\n",
    "  # print(\"Metrics have been written to 'metrics.csv' file.\")\n",
    "def save_in_text_file(msg,cls, flnm, conf_matrix, accuracy, precision_overall, recall_overall, f_betas):\n",
    "    with open(flnm, 'a') as textfile:\n",
    "        textfile.write(str(\"\\n\\n\\n                                 \"+msg))\n",
    "        textfile.write(\"\\n\\n\\n\")\n",
    "        textfile.write(\"used Class:\\n\")\n",
    "        textfile.write(str(cls) + \"\\n\\n\")\n",
    "\n",
    "        textfile.write(\"Confusion Matrix:\\n\")\n",
    "        for row in conf_matrix:\n",
    "            textfile.write(' '.join([str(elem) for elem in row]) + \"\\n\")\n",
    "        textfile.write(\"\\n\")\n",
    "\n",
    "        textfile.write(\"Metrics:\\n\")\n",
    "        textfile.write(\"Accuracy: {}\\n\".format(accuracy))\n",
    "        textfile.write(\"Precision: {}\\n\".format(precision_overall))\n",
    "        textfile.write(\"Recall: {}\\n\".format(recall_overall))\n",
    "\n",
    "        beta = -5\n",
    "        for f_beta in f_betas:\n",
    "            textfile.write(\"F-betas ({}): {}\\n\".format(beta, f_beta))\n",
    "            beta += 1\n",
    "\n",
    "    # print(\"Metrics have been written to '{}' file.\".format(flnm))\n",
    "\n",
    "def save_in_excel_final(msg, cls, flnm, conf_matrix, accuracy, precision_overall, recall_overall):\n",
    "    data = {\n",
    "        \"Used Class\": [cls],\n",
    "        \"Used support images idx\": [msg],\n",
    "        \"Confusion Matrix\": [conf_matrix],\n",
    "        \"Accuracy\": [accuracy],\n",
    "        \"Precision\": [precision_overall],\n",
    "        \"Recall\": [recall_overall]\n",
    "    }\n",
    "    # for i, f_beta in enumerate(f_betas):\n",
    "    #     data[f\"F-beta ({i - 5})\"] = [f_beta]\n",
    "\n",
    "    df_new = pd.DataFrame(data)\n",
    "    df_new = df_new.transpose()  # Transpose the DataFrame\n",
    "\n",
    "    if os.path.exists(flnm):\n",
    "        df_existing = pd.read_excel(flnm, index_col=0)  # Read existing file\n",
    "        df_combined = pd.concat([df_existing, df_new], axis=1)  # Concatenate along columns\n",
    "        df_combined.to_excel(flnm)  # Write to Excel\n",
    "    else:\n",
    "        df_new.to_excel(flnm)  # Write new DataFrame to Excel\n",
    "\n",
    "    # print(\"Metrics have been written to '{}' file.\".format(flnm))\n"
   ]
  },
  {
   "cell_type": "code",
   "execution_count": 10,
   "metadata": {},
   "outputs": [],
   "source": [
    "import torch\n",
    "import torch.nn as nn\n",
    "import torchvision.models as models\n",
    "import torch\n",
    "import torch.nn as nn\n",
    "import torch.hub\n",
    "\n",
    "# Define a modified version of DenseNet169 with dropout after each convolutional layer\n",
    "class DenseNet169WithDropout(nn.Module):\n",
    "    def __init__(self,modell, pretrained=False, dr=0.4):\n",
    "        super(DenseNet169WithDropout, self).__init__()\n",
    "        self.densenet169 = torch.hub.load('pytorch/vision:v0.10.0', modell, pretrained=pretrained)\n",
    "        self.dropout = nn.Dropout(p=dr)  # Dropout with probability 0.5\n",
    "\n",
    "        # Modify each dense block to include dropout after each convolutional layer\n",
    "        for name, module in self.densenet169.features.named_children():\n",
    "            if isinstance(module, nn.Sequential):\n",
    "                for sub_name, sub_module in module.named_children():\n",
    "                    if isinstance(sub_module, nn.Conv2d):\n",
    "                        setattr(module, sub_name, nn.Sequential(sub_module, self.dropout))\n",
    "\n",
    "    def forward(self, x):\n",
    "        return self.densenet169(x)\n",
    "\n",
    "# Instantiate the modified DenseNet169 model with dropout\n",
    "# convolutional_network_with_dropout = DenseNet169WithDropout(modell='resnet18',pretrained=False,dr=0.4)\n",
    "\n",
    "# Example usage:\n",
    "# output = convolutional_network_with_dropout(input_tensor)\n",
    "\n",
    "class ResNet18WithDropout(nn.Module):\n",
    "    def __init__(self, pretrained=False, dr=0.4):\n",
    "        super(ResNet18WithDropout, self).__init__()\n",
    "        self.resnet18 = models.resnet18(pretrained=pretrained)\n",
    "        self.dropout = nn.Dropout(p=dr)\n",
    "\n",
    "        # Modify each residual block to include dropout after each convolutional layer\n",
    "        for name, module in self.resnet18.named_children():\n",
    "            if isinstance(module, nn.Sequential):\n",
    "                for sub_name, sub_module in module.named_children():\n",
    "                    if isinstance(sub_module, nn.Conv2d):\n",
    "                        setattr(module, sub_name, nn.Sequential(sub_module, self.dropout))\n",
    "\n",
    "    def forward(self, x):\n",
    "        return self.resnet18(x)\n",
    "\n",
    "# Instantiate the modified ResNet18 model with dropout\n",
    "# convolutional_network_with_dropout = ResNet18WithDropout(pretrained=False, dr=0.4)\n"
   ]
  },
  {
   "cell_type": "code",
   "execution_count": 11,
   "metadata": {},
   "outputs": [],
   "source": [
    "\n",
    "\n",
    "clss_5=[\n",
    "     ['MAPI Mayeek_GHOU', 'MAPI Mayeek_JIL', 'MAPI Mayeek_SAM', 'MAPI Mayeek_KOK', 'MAPI Mayeek_MIT'],\n",
    "      ['MAPI Mayeek_KOK', 'MAPI Mayeek_DIL', 'MAPI Mayeek_PAA', 'MAPI Mayeek_ATIYA', 'MAPI Mayeek_MIT'],\n",
    "     ['MAPI Mayeek_DHOU', 'MAPI Mayeek_KOK', 'MAPI Mayeek_RAAI', 'MAPI Mayeek_TIL', 'MAPI Mayeek_GHOU'],\n",
    "      ['MAPI Mayeek_FAM', 'MAPI Mayeek_JHAM', 'MAPI Mayeek_LAI', 'MAPI Mayeek_PAA', 'MAPI Mayeek_KOK'],\n",
    "     ['MAPI Mayeek_KOK', 'MAPI Mayeek_GHOU', 'MAPI Mayeek_DHOU', 'MAPI Mayeek_MIT', 'MAPI Mayeek_WAI'],\n",
    "['MAPI Mayeek_KOK', 'MAPI Mayeek_GHOU', 'MAPI Mayeek_DHOU', 'MAPI Mayeek_MIT', 'MAPI Mayeek_WAI'],\n",
    "     ['MAPI Mayeek_NAA', 'MAPI Mayeek_DHOU', 'MAPI Mayeek_BAA', 'MAPI Mayeek_LAI', 'MAPI Mayeek_RAAI'],\n",
    "     ['MAPI Mayeek_RAAI', 'MAPI Mayeek_FAM', 'MAPI Mayeek_GOK', 'MAPI Mayeek_DHOU', 'MAPI Mayeek_SAM'],\n",
    "     ['MAPI Mayeek_EEE', 'MAPI Mayeek_KOK', 'MAPI Mayeek_JHAM', 'MAPI Mayeek_BHAM', 'MAPI Mayeek_WAI'],\n",
    "     ['MAPI Mayeek_DHOU', 'MAPI Mayeek_RAAI', 'MAPI Mayeek_NGOU', 'MAPI Mayeek_UUN', 'MAPI Mayeek_LAI'],\n",
    "     ['MAPI Mayeek_HUK', 'MAPI Mayeek_FAM', 'MAPI Mayeek_BHAM', 'MAPI Mayeek_THOU', 'MAPI Mayeek_SAM'],\n",
    "     ['MAPI Mayeek_MIT', 'MAPI Mayeek_LAI', 'MAPI Mayeek_DIL', 'MAPI Mayeek_ATIYA', 'MAPI Mayeek_BHAM'],\n",
    "     ['MAPI Mayeek_NGOU', 'MAPI Mayeek_FAM', 'MAPI Mayeek_ATIYA', 'MAPI Mayeek_MIT', 'MAPI Mayeek_JHAM'],\n",
    "     ['MAPI Mayeek_GOK', 'MAPI Mayeek_ATIYA', 'MAPI Mayeek_LAI', 'MAPI Mayeek_NGOU', 'MAPI Mayeek_KHOU'],\n",
    "['MAPI Mayeek_HUK', 'MAPI Mayeek_DIL', 'MAPI Mayeek_KOK', 'MAPI Mayeek_PAA', 'MAPI Mayeek_LAI']\n",
    "\n",
    "     ]\n",
    "\n",
    "clss_support_imagesss_1_shot=[[[3], [56], [93], [62], [23]],\n",
    "             [[34], [18], [31], [40], [39]],\n",
    "             [[54], [61], [9], [50], [93]],\n",
    "             [[85], [9], [35], [6], [36]],\n",
    "             [[93], [87], [60], [26], [35]],\n",
    "             [[2], [39], [84], [38], [30]],\n",
    "             [[6], [12], [43], [65], [66]],\n",
    "             [[6], [66], [6], [13], [89]],\n",
    "             [[50], [70], [13], [61], [7]],\n",
    "             [[54], [58], [26], [75], [51]],\n",
    "             [[14], [27], [92], [76], [27]],\n",
    "             [[47], [34], [84], [45], [82]],\n",
    "             [[63], [69], [25], [80], [61]],\n",
    "             [[13], [41], [57], [13], [46]],\n",
    "             [[58], [92], [48], [92], [35]]\n",
    "]\n",
    "\n",
    "clss_support_imagesss_5_shot=[[[3, 21, 2, 72, 87], [56, 22, 58, 3, 24], [93, 76, 48, 81, 68], [62, 82, 2, 87, 69], [23, 73, 83, 92, 55]], [[34, 22, 25, 30, 74], [18, 70, 45, 20, 46], [31, 83, 42, 49, 14], [40, 87, 93, 12, 92], [39, 20, 70, 74, 84]], [[54, 11, 2, 80, 8], [61, 72, 52, 17, 95], [9, 2, 37, 15, 26], [50, 48, 2, 79, 63], [93, 48, 0, 24, 89]], [[85, 19, 68, 55, 56], [9, 42, 35, 93, 43], [35, 29, 91, 2, 68], [6, 56, 30, 50, 25], [36, 42, 19, 21, 41]], [[93, 9, 38, 61, 68], [87, 33, 27, 36, 53], [60, 21, 53, 49, 17], [26, 2, 11, 62, 4], [35, 78, 30, 79, 84]], [[2, 70, 12, 56, 5], [39, 59, 30, 45, 95], [84, 86, 14, 66, 54], [38, 54, 9, 46, 34], [30, 72, 47, 6, 26]], [[6, 1, 61, 70, 8], [12, 33, 77, 55, 51], [43, 56, 94, 74, 45], [65, 27, 13, 11, 6], [66, 93, 36, 68, 27]], [[6, 3, 81, 24, 20], [66, 73, 68, 55, 76], [6, 14, 55, 3, 38], [13, 86, 45, 89, 18], [89, 65, 74, 8, 42]], [[50, 91, 0, 7, 51], [70, 50, 17, 33, 64], [13, 32, 8, 38, 72], [61, 43, 74, 86, 95], [7, 34, 70, 20, 36]], [[54, 61, 75, 15, 50], [58, 7, 51, 93, 56], [26, 89, 91, 57, 24], [75, 49, 33, 88, 50], [51, 92, 53, 54, 52]], [[14, 80, 78, 27, 3], [27, 69, 59, 63, 93], [92, 60, 56, 86, 64], [76, 30, 64, 49, 12], [27, 30, 35, 64, 56]], [[47, 94, 69, 51, 5], [34, 28, 59, 14, 67], [84, 34, 23, 5, 16], [45, 0, 57, 88, 76], [82, 78, 30, 12, 49]], [[63, 89, 62, 51, 88], [69, 75, 83, 49, 45], [25, 71, 45, 26, 72], [80, 92, 22, 41, 62], [61, 25, 40, 14, 94]], [[13, 82, 90, 45, 14], [41, 60, 79, 40, 67], [57, 94, 27, 77, 5], [13, 24, 54, 1, 94], [46, 62, 69, 2, 85]], [[58, 5, 69, 35, 30], [92, 88, 79, 58, 31], [48, 43, 78, 9, 15], [92, 87, 34, 6, 75], [35, 16, 4, 21, 46]]]\n",
    "\n",
    "clss_support_imagesss_10_shot=[[[3, 21, 2, 72, 87, 60, 81, 24, 28, 0], [56, 22, 58, 3, 24, 6, 89, 25, 59, 39], [93, 76, 48, 81, 68, 39, 40, 17, 58, 89], [62, 82, 2, 87, 69, 65, 4, 35, 9, 59], [23, 73, 83, 92, 55, 14, 82, 38, 6, 70]], [[34, 22, 25, 30, 74, 12, 26, 79, 63, 78], [18, 70, 45, 20, 46, 77, 23, 35, 29, 22], [31, 83, 42, 49, 14, 74, 32, 41, 72, 55], [40, 87, 93, 12, 92, 32, 73, 16, 44, 83], [39, 20, 70, 74, 84, 73, 87, 88, 66, 54]], [[54, 11, 2, 80, 8, 93, 75, 35, 86, 50], [61, 72, 52, 17, 95, 26, 46, 64, 88, 40], [9, 2, 37, 15, 26, 59, 32, 24, 83, 51], [50, 48, 2, 79, 63, 42, 64, 81, 72, 58], [93, 48, 0, 24, 89, 74, 42, 88, 71, 35]], [[85, 19, 68, 55, 56, 14, 93, 49, 90, 9], [9, 42, 35, 93, 43, 89, 4, 92, 84, 33], [35, 29, 91, 2, 68, 51, 52, 39, 59, 85], [6, 56, 30, 50, 25, 38, 85, 84, 93, 47], [36, 42, 19, 21, 41, 72, 62, 86, 25, 18]], [[93, 9, 38, 61, 68, 22, 48, 77, 45, 76], [87, 33, 27, 36, 53, 77, 90, 93, 39, 9], [60, 21, 53, 49, 17, 41, 36, 81, 63, 7], [26, 2, 11, 62, 4, 3, 66, 82, 7, 0], [35, 78, 30, 79, 84, 67, 65, 19, 66, 41]], [[2, 70, 12, 56, 5, 1, 76, 53, 69, 73], [39, 59, 30, 45, 95, 60, 85, 62, 70, 67], [84, 86, 14, 66, 54, 24, 63, 52, 93, 49], [38, 54, 9, 46, 34, 84, 8, 35, 7, 55], [30, 72, 47, 6, 26, 48, 13, 67, 19, 52]], [[6, 1, 61, 70, 8, 79, 46, 62, 85, 95], [12, 33, 77, 55, 51, 0, 19, 42, 85, 69], [43, 56, 94, 74, 45, 95, 29, 6, 0, 4], [65, 27, 13, 11, 6, 53, 16, 5, 4, 47], [66, 93, 36, 68, 27, 86, 60, 70, 58, 57]], [[6, 3, 81, 24, 20, 59, 32, 73, 91, 22], [66, 73, 68, 55, 76, 41, 91, 88, 59, 74], [6, 14, 55, 3, 38, 19, 85, 34, 62, 10], [13, 86, 45, 89, 18, 22, 59, 11, 73, 72], [89, 65, 74, 8, 42, 85, 48, 29, 50, 13]], [[50, 91, 0, 7, 51, 19, 11, 78, 59, 13], [70, 50, 17, 33, 64, 92, 94, 84, 54, 81], [13, 32, 8, 38, 72, 51, 66, 85, 62, 74], [61, 43, 74, 86, 95, 80, 32, 59, 50, 77], [7, 34, 70, 20, 36, 30, 67, 9, 94, 43]], [[54, 61, 75, 15, 50, 24, 37, 84, 27, 52], [58, 7, 51, 93, 56, 38, 35, 82, 46, 50], [26, 89, 91, 57, 24, 7, 86, 12, 3, 44], [75, 49, 33, 88, 50, 82, 8, 12, 81, 56], [51, 92, 53, 54, 52, 26, 27, 74, 22, 72]], [[14, 80, 78, 27, 3, 1, 6, 32, 81, 2], [27, 69, 59, 63, 93, 3, 5, 44, 19, 94], [92, 60, 56, 86, 64, 47, 48, 24, 79, 38], [76, 30, 64, 49, 12, 15, 14, 1, 28, 21], [27, 30, 35, 64, 56, 92, 53, 0, 60, 41]], [[47, 94, 69, 51, 5, 93, 22, 78, 73, 36], [34, 28, 59, 14, 67, 48, 74, 6, 46, 10], [84, 34, 23, 5, 16, 40, 28, 92, 20, 12], [45, 0, 57, 88, 76, 69, 17, 23, 77, 61], [82, 78, 30, 12, 49, 10, 79, 2, 50, 19]], [[63, 89, 62, 51, 88, 28, 34, 64, 16, 78], [69, 75, 83, 49, 45, 19, 23, 72, 3, 0], [25, 71, 45, 26, 72, 43, 27, 41, 81, 94], [80, 92, 22, 41, 62, 87, 5, 33, 12, 49], [61, 25, 40, 14, 94, 85, 46, 67, 87, 30]], [[13, 82, 90, 45, 14, 31, 46, 18, 92, 40], [41, 60, 79, 40, 67, 92, 64, 86, 72, 13], [57, 94, 27, 77, 5, 89, 6, 12, 52, 30], [13, 24, 54, 1, 94, 40, 64, 35, 6, 51], [46, 62, 69, 2, 85, 34, 0, 28, 11, 1]], [[58, 5, 69, 35, 30, 28, 4, 22, 21, 25], [92, 88, 79, 58, 31, 25, 15, 34, 9, 38], [48, 43, 78, 9, 15, 73, 91, 65, 52, 13], [92, 87, 34, 6, 75, 44, 83, 55, 47, 29], [35, 16, 4, 21, 46, 56, 14, 59, 43, 19]]]\n"
   ]
  },
  {
   "cell_type": "code",
   "execution_count": 1,
   "metadata": {},
   "outputs": [],
   "source": [
    "# !ls /home/asufian/Desktop/output_olchiki/code/"
   ]
  },
  {
   "cell_type": "code",
   "execution_count": 26,
   "metadata": {},
   "outputs": [
    {
     "name": "stderr",
     "output_type": "stream",
     "text": [
      "/home/asufian/.local/share/pipx/venvs/notebook/lib/python3.12/site-packages/torchvision/models/_utils.py:208: UserWarning: The parameter 'pretrained' is deprecated since 0.13 and may be removed in the future, please use 'weights' instead.\n",
      "  warnings.warn(\n",
      "/home/asufian/.local/share/pipx/venvs/notebook/lib/python3.12/site-packages/torchvision/models/_utils.py:223: UserWarning: Arguments other than a weight enum or `None` for 'weights' are deprecated since 0.13 and may be removed in the future. The current behavior is equivalent to passing `weights=None`.\n",
      "  warnings.warn(msg)\n"
     ]
    }
   ],
   "source": [
    "device = torch.device(\"cuda\" if torch.cuda.is_available() else \"cpu\")\n",
    "\n",
    "!rm 'model_own_path.pt'\n",
    "!rm 'model_mu_path.pt'\n",
    "\n",
    "convolutional_network_with_dropout =  ResNet18WithDropout(pretrained=False, dr=0.0)\n",
    "convolutional_network_with_dropout.fc = nn.Flatten()\n",
    "\n",
    "model_own = PrototypicalNetworks_dynamic_query(convolutional_network_with_dropout).to(device)\n",
    "model_own.load_state_dict(torch.load('/home/asufian/Desktop/output_olchiki/code/modelr_res18.pth',map_location=torch.device('cpu')))\n",
    "\n",
    "convolutional_network_with_dropout =  ResNet18WithDropout(pretrained=False, dr=0.0)\n",
    "convolutional_network_with_dropout.fc = nn.Flatten()\n",
    "\n",
    "model_own_1_shot = PrototypicalNetworks_dynamic_query(convolutional_network_with_dropout).to(device)\n",
    "model_own_1_shot.load_state_dict(torch.load('/home/asufian/Desktop/output_olchiki/code/mapi_sce/ressecondary/model_1/model_B_mapi_1-shot_res.pth',map_location=torch.device('cpu')))\n",
    "\n",
    "torch.save(model_own_1_shot.state_dict(), 'model_mu_path.pt')\n",
    "torch.save(model_own.state_dict(), 'model_own_path.pt')"
   ]
  },
  {
   "cell_type": "code",
   "execution_count": 27,
   "metadata": {},
   "outputs": [],
   "source": [
    "# !ls '/home/asufian/Desktop/output_olchiki'"
   ]
  },
  {
   "cell_type": "code",
   "execution_count": 28,
   "metadata": {},
   "outputs": [],
   "source": [
    "criterion = nn.CrossEntropyLoss()"
   ]
  },
  {
   "cell_type": "code",
   "execution_count": 29,
   "metadata": {},
   "outputs": [
    {
     "data": {
      "text/plain": [
       "'/home/asufian/Desktop/output_olchiki/code/MAPI Mayee'"
      ]
     },
     "execution_count": 29,
     "metadata": {},
     "output_type": "execute_result"
    }
   ],
   "source": [
    "root_path"
   ]
  },
  {
   "cell_type": "code",
   "execution_count": 30,
   "metadata": {},
   "outputs": [
    {
     "name": "stdout",
     "output_type": "stream",
     "text": [
      "Generated random values - num_classes: 5, n_shot: 1, n_query: 14\n"
     ]
    }
   ],
   "source": [
    "import torch\n",
    "import torchvision.transforms as transforms\n",
    "from torch.utils.data import DataLoader\n",
    "from sklearn.metrics import confusion_matrix\n",
    "import numpy as np\n",
    "import numpy as np\n",
    "import pandas as pd\n",
    "# root_path = '/content/assamese'\n",
    "num_classes = 5\n",
    "n_shot = 1\n",
    "n_query = 14\n",
    "device = torch.device(\"cuda\" if torch.cuda.is_available() else \"cpu\")\n",
    "transformt_ugh = transforms.Compose([\n",
    "    transforms.Resize((64, 64)),\n",
    "    # transforms.RandomResizedCrop(64),  # Randomly crop the image and resize to 224x224\n",
    "    # transforms.RandomHorizontalFlip(),  # Randomly flip the image horizontally\n",
    "    # transforms.ColorJitter(brightness=0.4, contrast=0.4, saturation=0.4, hue=0.1),  # Randomly adjust brightness, contrast, saturation, and hue\n",
    "    # transforms.RandomAffine(degrees=0, translate=(0, 0), scale=(0.9, 1.1), shear=0),  # Random zoom (scaling)\n",
    "    transforms.Grayscale(num_output_channels=3),\n",
    "    transforms.ToTensor(),  # Convert PIL Image to PyTorch Tensor\n",
    "    transforms.Normalize([0.485, 0.456, 0.406], [0.229, 0.224, 0.225])  # Normalize the image with ImageNet statistics\n",
    "])\n",
    "\n",
    "print(f\"Generated random values - num_classes: {num_classes}, n_shot: {n_shot}, n_query: {n_query}\")\n",
    "\n",
    "test_loader = PrototypicalOmniglotDataset(root=root_path, num_classes=num_classes, n_shot=n_shot, n_query=20, transform=transformt_ugh)\n",
    "\n",
    "def evaluate2(fname,data_loader, model, criterion=nn.CrossEntropyLoss()):\n",
    "    total_predictions = 0\n",
    "    correct_predictions = 0\n",
    "    total_loss = 0.0\n",
    "    accuracy = 0\n",
    "    datta = \"\"\n",
    "    model.eval()\n",
    "    tlv_cls=0\n",
    "    ttla=0\n",
    "    ttlac=0\n",
    "    precision=0\n",
    "    recall=0\n",
    "    \n",
    "    with torch.no_grad():\n",
    "        for episode in range(len(clss_5)):\n",
    "            support_set, query_set = data_loader.__getitem__(clss_5[tlv_cls] , clss_support_imagesss_1_shot[tlv_cls])\n",
    "\n",
    "            # msg=\"\\n\\n       Way: \"+str(len(clss_5[tlv_cls]))+\"  Shot: \"+str(len(clss_support_imagesss_1_shot[tlv_cls][0]))    +\" \\n\\n\"\n",
    "            # msg=str(clss_5[tlv_cls])\n",
    "            clssa=str(clss_5[tlv_cls])\n",
    "            clss=str(clssa).replace(',',' ').replace('\\'',' ').replace('\\'',' ')\n",
    "            msg=str(clss_support_imagesss_1_shot[tlv_cls])\n",
    "            str(clss_5[tlv_cls])\n",
    "\n",
    "            tlv_cls+=1\n",
    "            # print(len(support_set),len(query_set))\n",
    "            support_set = [(torch.stack(images).to(device), label[0]) for images, label in support_set]\n",
    "            query_set = [(torch.stack(images).to(device), label) for images, label in query_set]\n",
    "\n",
    "            support_images, support_labels = zip(*support_set)\n",
    "\n",
    "            query_images, query_labels = zip(*query_set)\n",
    "\n",
    "            classification_scores = model(support_images, support_labels, query_images)\n",
    "            cortt = 0\n",
    "            totl = 0\n",
    "            confusion_mat=None\n",
    "            all_predicted_labels = []\n",
    "            all_actual_labels = []\n",
    "            # print(len(classification_scores),len(query_labels))\n",
    "            for ei in range(len(classification_scores)):\n",
    "                classification_scores_each_class = classification_scores[ei]\n",
    "                # print(classification_scores_each_class)\n",
    "                predicted_labels_eachclas = torch.argmax(classification_scores_each_class, dim=1)\n",
    "                pp = predicted_labels_eachclas.tolist()\n",
    "                act = query_labels[ei]\n",
    "                all_predicted_labels.extend(pp)\n",
    "                all_actual_labels.extend(act)\n",
    "                for iiii in range(len(pp)):\n",
    "                    if pp[iiii] == act[iiii]:\n",
    "                        cortt = cortt + 1\n",
    "                totl = totl + len(pp)\n",
    "                # print(len(act))\n",
    "            accuracy = cortt / totl\n",
    "            ttla+=1\n",
    "            ttlac+=accuracy\n",
    "            # print(cortt , totl,\"Validation Accuracy:              \", cortt / totl)\n",
    "            confusion_mat = confusion_matrix(all_actual_labels, all_predicted_labels)\n",
    "            # print(\"Confusion Matrix:\")\n",
    "            # print(confusion_mat)\n",
    "\n",
    "            # fname='./own35_mapi_5_way_1_shot'\n",
    "\n",
    "            precision_overall, recall_overall, f1ss= calculate_metrics_get_per(msg,confusion_mat,acciuracy=cortt / totl,cls=clss,flnm=fname)\n",
    "            precision=precision+precision_overall\n",
    "            recall=recall+recall_overall\n",
    "    print(\"---------------------->\",ttlac/ttla,precision/ttla ,recall/ttla)\n",
    "# %%%%%%%%%%%%%%%%%%%\n",
    "\n",
    "\n",
    "pp='/home/asufian/Desktop/output_olchikifaltu'\n",
    "\n",
    "\n",
    "\n",
    "\n"
   ]
  },
  {
   "cell_type": "code",
   "execution_count": 31,
   "metadata": {},
   "outputs": [],
   "source": [
    "import numpy as np\n",
    "\n",
    "conf_matrix = np.array([[100, 0, 0, 0, 0],\n",
    "                        [0, 100, 0, 0, 0],\n",
    "                        [0, 0, 100, 0, 0],\n",
    "                        [0, 0, 0, 100, 0],\n",
    "                        [0, 0, 0, 0, 100]])\n",
    "\n",
    "def calculate_metrics_get_per(msg, conf_matrix,acciuracy, cls, flnm):\n",
    "    if conf_matrix.size == 0:\n",
    "        raise ValueError(\"Confusion matrix is empty!\")\n",
    "\n",
    "    metrics = []\n",
    "    for i in range(conf_matrix.shape[0]):\n",
    "        tp = conf_matrix[i, i]\n",
    "        fp = np.sum(conf_matrix[:, i]) - tp\n",
    "        fn = np.sum(conf_matrix[i, :]) - tp\n",
    "\n",
    "        precision = tp / (tp + fp) if (tp + fp) > 0 else 0\n",
    "        recall = tp / (tp + fn) if (tp + fn) > 0 else 0\n",
    "        f1 = 2 * (precision * recall) / (precision + recall) if (precision + recall) > 0 else 0\n",
    "\n",
    "        metrics.append((precision, recall, f1))\n",
    "\n",
    "    # Compute overall scores\n",
    "    precision_overall = np.mean([m[0] for m in metrics])\n",
    "    recall_overall = np.mean([m[1] for m in metrics])\n",
    "    f1_overall = np.mean([m[2] for m in metrics])\n",
    "\n",
    "    # Compute overall accuracy\n",
    "    total_samples = np.sum(conf_matrix)\n",
    "    correct_predictions = np.sum(np.diag(conf_matrix))\n",
    "    accuracy_overall = correct_predictions / total_samples if total_samples > 0 else 0\n",
    "    # print(accuracy_overall)\n",
    "\n",
    "    # Save results (Assuming these functions exist)\n",
    "    save_in_excel_final(msg, cls, flnm + \".xlsx\", conf_matrix, accuracy_overall, precision_overall, recall_overall)\n",
    "    # save_in_text_file(msg, cls, flnm + \".txt\", conf_matrix, accuracy_overall, precision_overall, recall_overall, f_betas)\n",
    "\n",
    "    return precision_overall, recall_overall, f1_overall\n",
    "\n",
    "\n",
    "# precision, recall, f_beta = calculate_metrics(conf_matrix)\n",
    "# print(f'Overall Metrics for beta={beta}:')\n",
    "# print(f'Overall Precision: {precision:.4f}')\n",
    "# print(f'Overall Recall: {recall:.4f}')\n",
    "# print(f'Overall F-beta ({f_beta}): ')\n",
    "# print()\n"
   ]
  },
  {
   "cell_type": "code",
   "execution_count": null,
   "metadata": {},
   "outputs": [],
   "source": [
    "\n"
   ]
  },
  {
   "cell_type": "code",
   "execution_count": 32,
   "metadata": {},
   "outputs": [],
   "source": [
    "\n",
    "\n",
    "def evaluate2(fname,data_loader, model, criterion=nn.CrossEntropyLoss()):\n",
    "    total_predictions = 0\n",
    "    correct_predictions = 0\n",
    "    total_loss = 0.0\n",
    "    accuracy = 0\n",
    "    datta = \"\"\n",
    "    model.eval()\n",
    "    tlv_cls=0\n",
    "    ttla=0\n",
    "    ttlal=[]\n",
    "    ttlac=0\n",
    "    precision=[]\n",
    "    recall=[]\n",
    "    \n",
    "    with torch.no_grad():\n",
    "        for episode in range(len(clss_5)):\n",
    "            support_set, query_set = data_loader.__getitem__(clss_5[tlv_cls] , clss_support_imagesss_1_shot[tlv_cls])\n",
    "\n",
    "           \n",
    "            clssa=str(clss_5[tlv_cls])\n",
    "            clss=str(clssa).replace(',',' ').replace('\\'',' ').replace('\\'',' ')\n",
    "            msg=str(clss_support_imagesss_1_shot[tlv_cls])\n",
    "            str(clss_5[tlv_cls])\n",
    "\n",
    "            tlv_cls+=1\n",
    "            # print(len(support_set),len(query_set))\n",
    "            support_set = [(torch.stack(images).to(device), label[0]) for images, label in support_set]\n",
    "            query_set = [(torch.stack(images).to(device), label) for images, label in query_set]\n",
    "\n",
    "            support_images, support_labels = zip(*support_set)\n",
    "\n",
    "            query_images, query_labels = zip(*query_set)\n",
    "\n",
    "            classification_scores = model(support_images, support_labels, query_images)\n",
    "            cortt = 0\n",
    "            totl = 0\n",
    "            confusion_mat=None\n",
    "            all_predicted_labels = []\n",
    "            all_actual_labels = []\n",
    "            # print(len(classification_scores),len(query_labels))\n",
    "            for ei in range(len(classification_scores)):\n",
    "                classification_scores_each_class = classification_scores[ei]\n",
    "                # print(classification_scores_each_class)\n",
    "                predicted_labels_eachclas = torch.argmax(classification_scores_each_class, dim=1)\n",
    "                pp = predicted_labels_eachclas.tolist()\n",
    "                act = query_labels[ei]\n",
    "                all_predicted_labels.extend(pp)\n",
    "                all_actual_labels.extend(act)\n",
    "                for iiii in range(len(pp)):\n",
    "                    if pp[iiii] == act[iiii]:\n",
    "                        cortt = cortt + 1\n",
    "                totl = totl + len(pp)\n",
    "                # print(len(act))\n",
    "            accuracy = cortt / totl\n",
    "            ttla+=1\n",
    "            ttlac+=accuracy\n",
    "            ttlal.append(accuracy)\n",
    "            # print(cortt , totl,\"Validation Accuracy:              \", cortt / totl)\n",
    "            confusion_mat = confusion_matrix(all_actual_labels, all_predicted_labels)\n",
    "            # print(\"Confusion Matrix:\")\n",
    "            # print(confusion_mat)\n",
    "\n",
    "            # fname='./own35_mapi_5_way_1_shot'\n",
    "\n",
    "            precision_overall, recall_overall, f1ss= calculate_metrics_get_per(msg,confusion_mat,acciuracy=cortt / totl,cls=clss,flnm=fname)\n",
    "            precision.append(precision_overall)\n",
    "            recall.append(recall_overall)\n",
    "    print(f\"---Accu-----pre----rec---------> {np.mean(ttlal):.4f} ± {np.std(ttlal, ddof=1):.4f}  \"\n",
    "      f\"{np.mean(precision):.4f} ± {np.std(precision, ddof=1):.4f}  \"\n",
    "      f\"{np.mean(recall):.4f} ± {np.std(recall, ddof=1):.4f}\")\n",
    "\n",
    "    # print(\"---Accu-----pre----rec---------->\",np.mean(ttlal),'±',np.std(ttlal, ddof=1), np.mean(precision),'±',np.std(precision, ddof=1),np.mean(precision),'±',np.std(precision, ddof=1),)\n",
    "# %%%%%%\n",
    "\n",
    "def evaluate3(fname,data_loader, model, criterion=nn.CrossEntropyLoss()):\n",
    "    total_predictions = 0\n",
    "    correct_predictions = 0\n",
    "    total_loss = 0.0\n",
    "    accuracy = 0\n",
    "    datta = \"\"\n",
    "    model.eval()\n",
    "    tlv_cls=0\n",
    "    ttla=0\n",
    "    ttlac=0\n",
    "    with torch.no_grad():\n",
    "        for episode in range(len(clss_5)):\n",
    "            support_set, query_set = data_loader.__getitem__(clss_5[tlv_cls] , clss_support_imagesss_1_shot[tlv_cls])\n",
    "\n",
    "            \n",
    "            clssa=str(clss_5[tlv_cls])\n",
    "            clss=str(clssa).replace(',',' ').replace('\\'',' ').replace('\\'',' ')\n",
    "            msg=str(clss_support_imagesss_1_shot[tlv_cls])\n",
    "            str(clss_5[tlv_cls])\n",
    "\n",
    "            tlv_cls+=1\n",
    "            # print(len(support_set),len(query_set))\n",
    "            support_set = [(torch.stack(images).to(device), label[0]) for images, label in support_set]\n",
    "            query_set = [(torch.stack(images).to(device), label) for images, label in query_set]\n",
    "\n",
    "            support_images, support_labels = zip(*support_set)\n",
    "\n",
    "            query_images, query_labels = zip(*query_set)\n",
    "\n",
    "            classification_scores = model(support_images, support_labels, query_images)\n",
    "            cortt = 0\n",
    "            totl = 0\n",
    "            confusion_mat=None\n",
    "            all_predicted_labels = []\n",
    "            all_actual_labels = []\n",
    "            # print(len(classification_scores),len(query_labels))\n",
    "            for ei in range(len(classification_scores)):\n",
    "                classification_scores_each_class = classification_scores[ei]\n",
    "                # print(classification_scores_each_class)\n",
    "                predicted_labels_eachclas = torch.argmax(classification_scores_each_class, dim=1)\n",
    "                pp = predicted_labels_eachclas.tolist()\n",
    "                act = query_labels[ei]\n",
    "                all_predicted_labels.extend(pp)\n",
    "                all_actual_labels.extend(act)\n",
    "                for iiii in range(len(pp)):\n",
    "                    if pp[iiii] == act[iiii]:\n",
    "                        cortt = cortt + 1\n",
    "                totl = totl + len(pp)\n",
    "                # print(len(act))\n",
    "            accuracy = cortt / totl\n",
    "            ttla+=1\n",
    "            ttlac+=accuracy\n",
    "            # print(cortt , totl,\"Validation Accuracy:              \", cortt / totl)\n",
    "            # confusion_mat = confusion_matrix(all_actual_labels, all_predicted_labels)\n",
    "            # print(\"Confusion Matrix:\")\n",
    "            # print(confusion_mat)\n",
    "\n",
    "            # fname='./own35_mapi_5_way_1_shot'\n",
    "\n",
    "            # calculate_metrics_get_per(msg,confusion_mat,acciuracy=cortt / totl,cls=clss,flnm=fname)\n",
    "\n",
    "    print(\"---------------------->\",ttlac/ttla)\n",
    "    return ttlac/ttla"
   ]
  },
  {
   "cell_type": "code",
   "execution_count": 33,
   "metadata": {},
   "outputs": [],
   "source": [
    "def update_model_weights2(model_a, model_b, conv_ratio=0.8, fc_ratio=0.8, bias_ratio=0.8):\n",
    "    \"\"\"Updates model_a's weights using a weighted combination of model_a and model_b.\"\"\"\n",
    "    for name, param in model_a.named_parameters():\n",
    "        if name in model_b.state_dict():\n",
    "            weight_b = model_b.state_dict()[name]\n",
    "            \n",
    "            if 'weight' in name:\n",
    "                # Separate conditions for convolutional and fully connected layers\n",
    "                if 'conv' in name:  # Convolutional layer weights\n",
    "                    # print('conv')\n",
    "                    param.data = conv_ratio * weight_b + (1 - conv_ratio) * param.data\n",
    "                elif 'fc' in name or 'linear' in name:  # Fully connected layer weights\n",
    "                    # print('fc')\n",
    "                    param.data = fc_ratio * weight_b + (1 - fc_ratio) * param.data\n",
    "            \n",
    "            elif 'bias' in name:\n",
    "                param.data = bias_ratio * weight_b + (1 - bias_ratio) * param.data"
   ]
  },
  {
   "cell_type": "code",
   "execution_count": 34,
   "metadata": {},
   "outputs": [],
   "source": [
    "import numpy as np\n",
    "import torch\n",
    "import matplotlib.pyplot as plt\n",
    "from skopt import gp_minimize\n",
    "from skopt.space import Real\n",
    "from skopt.utils import use_named_args\n",
    "from skopt.plots import plot_convergence\n",
    "\n",
    "# Device setup\n",
    "device = torch.device(\"cuda\" if torch.cuda.is_available() else \"cpu\")\n",
    "\n",
    "# Function to get model accuracy\n",
    "def get_model_accuracy(b_a_r, c_a_r, f_a_r):\n",
    "    try:\n",
    "        print(f\"Testing b_a_r = {b_a_r:.4f}, c_a_r = {c_a_r:.4f}, f_a_r = {f_a_r:.4f}\")  # Debugging Output\n",
    "        convolutional_network_with_dropout =  ResNet18WithDropout(pretrained=False, dr=0.0)\n",
    "        convolutional_network_with_dropout.fc = nn.Flatten()\n",
    "\n",
    "        xyz = convolutional_network_with_dropout\n",
    "        M3 = PrototypicalNetworks_dynamic_query(xyz).to(device)\n",
    "        M3.load_state_dict(torch.load('model_own_path.pt'))\n",
    "\n",
    "        # Load Model M2 (Reference)\n",
    "        convolutional_network_with_dropout =  ResNet18WithDropout(pretrained=False, dr=0.0)\n",
    "        convolutional_network_with_dropout.fc = nn.Flatten()\n",
    "\n",
    "        xyz2 = convolutional_network_with_dropout\n",
    "        M2 = PrototypicalNetworks_dynamic_query(xyz2).to(device)\n",
    "        M2.load_state_dict(torch.load('model_mu_path.pt'))\n",
    "\n",
    "        # Apply bias adaptation to M3 using M2\n",
    "        update_model_weights2(M3, M2, conv_ratio=c_a_r, fc_ratio=f_a_r, bias_ratio=b_a_r)\n",
    "        \n",
    "        # Evaluate accuracy\n",
    "        accuracy = evaluate3(pp+'/_mapi_5-wau-1-shot_matchine_unlearning_own', test_loader, M3, criterion)\n",
    "        \n",
    "        if accuracy is None:\n",
    "            raise ValueError(\"Accuracy computation failed. Returning worst case.\")\n",
    "\n",
    "        return accuracy  # Ensure accuracy is valid\n",
    "    except Exception as e:\n",
    "        print(f\"Error encountered: {e}. Assigning worst-case accuracy of 0.\")\n",
    "        return 0.0  # Assign lowest accuracy to prevent optimization failures\n"
   ]
  },
  {
   "cell_type": "code",
   "execution_count": 35,
   "metadata": {},
   "outputs": [
    {
     "data": {
      "text/plain": [
       "'/home/asufian/Desktop/output_olchikifaltu'"
      ]
     },
     "execution_count": 35,
     "metadata": {},
     "output_type": "execute_result"
    }
   ],
   "source": [
    "pp"
   ]
  },
  {
   "cell_type": "code",
   "execution_count": 36,
   "metadata": {},
   "outputs": [],
   "source": [
    "criterion = nn.CrossEntropyLoss()\n"
   ]
  },
  {
   "cell_type": "code",
   "execution_count": 37,
   "metadata": {
    "scrolled": true
   },
   "outputs": [
    {
     "name": "stdout",
     "output_type": "stream",
     "text": [
      "Testing b_a_r = 0.7965, c_a_r = 0.1834, f_a_r = 0.7797\n"
     ]
    },
    {
     "name": "stderr",
     "output_type": "stream",
     "text": [
      "/home/asufian/.local/share/pipx/venvs/notebook/lib/python3.12/site-packages/torchvision/models/_utils.py:208: UserWarning: The parameter 'pretrained' is deprecated since 0.13 and may be removed in the future, please use 'weights' instead.\n",
      "  warnings.warn(\n",
      "/home/asufian/.local/share/pipx/venvs/notebook/lib/python3.12/site-packages/torchvision/models/_utils.py:223: UserWarning: Arguments other than a weight enum or `None` for 'weights' are deprecated since 0.13 and may be removed in the future. The current behavior is equivalent to passing `weights=None`.\n",
      "  warnings.warn(msg)\n"
     ]
    },
    {
     "name": "stdout",
     "output_type": "stream",
     "text": [
      "----------------------> 0.5785263157894739\n",
      "Evaluated Accuracy: 0.5785\n",
      "Testing b_a_r = 0.5969, c_a_r = 0.4458, f_a_r = 0.1000\n",
      "----------------------> 0.37038596491228076\n",
      "Evaluated Accuracy: 0.3704\n",
      "Testing b_a_r = 0.4592, c_a_r = 0.3337, f_a_r = 0.1429\n",
      "----------------------> 0.4498245614035088\n",
      "Evaluated Accuracy: 0.4498\n",
      "Testing b_a_r = 0.6509, c_a_r = 0.0564, f_a_r = 0.7220\n",
      "----------------------> 0.6471578947368422\n",
      "Evaluated Accuracy: 0.6472\n",
      "Testing b_a_r = 0.9386, c_a_r = 0.0008, f_a_r = 0.9922\n",
      "----------------------> 0.608982456140351\n",
      "Evaluated Accuracy: 0.6090\n",
      "Testing b_a_r = 0.0000, c_a_r = 0.0202, f_a_r = 0.0242\n"
     ]
    },
    {
     "name": "stderr",
     "output_type": "stream",
     "text": [
      "/home/asufian/.local/share/pipx/venvs/notebook/lib/python3.12/site-packages/torchvision/models/_utils.py:208: UserWarning: The parameter 'pretrained' is deprecated since 0.13 and may be removed in the future, please use 'weights' instead.\n",
      "  warnings.warn(\n",
      "/home/asufian/.local/share/pipx/venvs/notebook/lib/python3.12/site-packages/torchvision/models/_utils.py:223: UserWarning: Arguments other than a weight enum or `None` for 'weights' are deprecated since 0.13 and may be removed in the future. The current behavior is equivalent to passing `weights=None`.\n",
      "  warnings.warn(msg)\n"
     ]
    },
    {
     "name": "stdout",
     "output_type": "stream",
     "text": [
      "----------------------> 0.6512280701754386\n",
      "Evaluated Accuracy: 0.6512\n",
      "Testing b_a_r = 0.0000, c_a_r = 1.0000, f_a_r = 0.9437\n"
     ]
    },
    {
     "name": "stderr",
     "output_type": "stream",
     "text": [
      "/home/asufian/.local/share/pipx/venvs/notebook/lib/python3.12/site-packages/torchvision/models/_utils.py:208: UserWarning: The parameter 'pretrained' is deprecated since 0.13 and may be removed in the future, please use 'weights' instead.\n",
      "  warnings.warn(\n",
      "/home/asufian/.local/share/pipx/venvs/notebook/lib/python3.12/site-packages/torchvision/models/_utils.py:223: UserWarning: Arguments other than a weight enum or `None` for 'weights' are deprecated since 0.13 and may be removed in the future. The current behavior is equivalent to passing `weights=None`.\n",
      "  warnings.warn(msg)\n"
     ]
    },
    {
     "name": "stdout",
     "output_type": "stream",
     "text": [
      "----------------------> 0.22905263157894737\n",
      "Evaluated Accuracy: 0.2291\n",
      "Testing b_a_r = 0.0000, c_a_r = 0.0578, f_a_r = 0.0000\n"
     ]
    },
    {
     "name": "stderr",
     "output_type": "stream",
     "text": [
      "/home/asufian/.local/share/pipx/venvs/notebook/lib/python3.12/site-packages/torchvision/models/_utils.py:208: UserWarning: The parameter 'pretrained' is deprecated since 0.13 and may be removed in the future, please use 'weights' instead.\n",
      "  warnings.warn(\n",
      "/home/asufian/.local/share/pipx/venvs/notebook/lib/python3.12/site-packages/torchvision/models/_utils.py:223: UserWarning: Arguments other than a weight enum or `None` for 'weights' are deprecated since 0.13 and may be removed in the future. The current behavior is equivalent to passing `weights=None`.\n",
      "  warnings.warn(msg)\n"
     ]
    },
    {
     "name": "stdout",
     "output_type": "stream",
     "text": [
      "----------------------> 0.6454736842105262\n",
      "Evaluated Accuracy: 0.6455\n",
      "Testing b_a_r = 0.0000, c_a_r = 0.0688, f_a_r = 1.0000\n"
     ]
    },
    {
     "name": "stderr",
     "output_type": "stream",
     "text": [
      "/home/asufian/.local/share/pipx/venvs/notebook/lib/python3.12/site-packages/torchvision/models/_utils.py:208: UserWarning: The parameter 'pretrained' is deprecated since 0.13 and may be removed in the future, please use 'weights' instead.\n",
      "  warnings.warn(\n",
      "/home/asufian/.local/share/pipx/venvs/notebook/lib/python3.12/site-packages/torchvision/models/_utils.py:223: UserWarning: Arguments other than a weight enum or `None` for 'weights' are deprecated since 0.13 and may be removed in the future. The current behavior is equivalent to passing `weights=None`.\n",
      "  warnings.warn(msg)\n"
     ]
    },
    {
     "name": "stdout",
     "output_type": "stream",
     "text": [
      "----------------------> 0.5990175438596491\n",
      "Evaluated Accuracy: 0.5990\n",
      "Testing b_a_r = 1.0000, c_a_r = 0.0127, f_a_r = 0.4027\n"
     ]
    },
    {
     "name": "stderr",
     "output_type": "stream",
     "text": [
      "/home/asufian/.local/share/pipx/venvs/notebook/lib/python3.12/site-packages/torchvision/models/_utils.py:208: UserWarning: The parameter 'pretrained' is deprecated since 0.13 and may be removed in the future, please use 'weights' instead.\n",
      "  warnings.warn(\n",
      "/home/asufian/.local/share/pipx/venvs/notebook/lib/python3.12/site-packages/torchvision/models/_utils.py:223: UserWarning: Arguments other than a weight enum or `None` for 'weights' are deprecated since 0.13 and may be removed in the future. The current behavior is equivalent to passing `weights=None`.\n",
      "  warnings.warn(msg)\n"
     ]
    },
    {
     "name": "stdout",
     "output_type": "stream",
     "text": [
      "----------------------> 0.6623157894736842\n",
      "Evaluated Accuracy: 0.6623\n",
      "Testing b_a_r = 0.0000, c_a_r = 0.0646, f_a_r = 0.3779\n"
     ]
    },
    {
     "name": "stderr",
     "output_type": "stream",
     "text": [
      "/home/asufian/.local/share/pipx/venvs/notebook/lib/python3.12/site-packages/torchvision/models/_utils.py:208: UserWarning: The parameter 'pretrained' is deprecated since 0.13 and may be removed in the future, please use 'weights' instead.\n",
      "  warnings.warn(\n",
      "/home/asufian/.local/share/pipx/venvs/notebook/lib/python3.12/site-packages/torchvision/models/_utils.py:223: UserWarning: Arguments other than a weight enum or `None` for 'weights' are deprecated since 0.13 and may be removed in the future. The current behavior is equivalent to passing `weights=None`.\n",
      "  warnings.warn(msg)\n"
     ]
    },
    {
     "name": "stdout",
     "output_type": "stream",
     "text": [
      "----------------------> 0.6461754385964912\n",
      "Evaluated Accuracy: 0.6462\n",
      "Testing b_a_r = 0.0000, c_a_r = 0.0000, f_a_r = 0.5463\n"
     ]
    },
    {
     "name": "stderr",
     "output_type": "stream",
     "text": [
      "/home/asufian/.local/share/pipx/venvs/notebook/lib/python3.12/site-packages/torchvision/models/_utils.py:208: UserWarning: The parameter 'pretrained' is deprecated since 0.13 and may be removed in the future, please use 'weights' instead.\n",
      "  warnings.warn(\n",
      "/home/asufian/.local/share/pipx/venvs/notebook/lib/python3.12/site-packages/torchvision/models/_utils.py:223: UserWarning: Arguments other than a weight enum or `None` for 'weights' are deprecated since 0.13 and may be removed in the future. The current behavior is equivalent to passing `weights=None`.\n",
      "  warnings.warn(msg)\n"
     ]
    },
    {
     "name": "stdout",
     "output_type": "stream",
     "text": [
      "----------------------> 0.6621754385964914\n",
      "Evaluated Accuracy: 0.6622\n",
      "Testing b_a_r = 0.7691, c_a_r = 1.0000, f_a_r = 0.0000\n"
     ]
    },
    {
     "name": "stderr",
     "output_type": "stream",
     "text": [
      "/home/asufian/.local/share/pipx/venvs/notebook/lib/python3.12/site-packages/torchvision/models/_utils.py:208: UserWarning: The parameter 'pretrained' is deprecated since 0.13 and may be removed in the future, please use 'weights' instead.\n",
      "  warnings.warn(\n",
      "/home/asufian/.local/share/pipx/venvs/notebook/lib/python3.12/site-packages/torchvision/models/_utils.py:223: UserWarning: Arguments other than a weight enum or `None` for 'weights' are deprecated since 0.13 and may be removed in the future. The current behavior is equivalent to passing `weights=None`.\n",
      "  warnings.warn(msg)\n"
     ]
    },
    {
     "name": "stdout",
     "output_type": "stream",
     "text": [
      "----------------------> 0.2248421052631579\n",
      "Evaluated Accuracy: 0.2248\n",
      "Testing b_a_r = 0.9113, c_a_r = 0.0000, f_a_r = 0.2631\n"
     ]
    },
    {
     "name": "stderr",
     "output_type": "stream",
     "text": [
      "/home/asufian/.local/share/pipx/venvs/notebook/lib/python3.12/site-packages/torchvision/models/_utils.py:208: UserWarning: The parameter 'pretrained' is deprecated since 0.13 and may be removed in the future, please use 'weights' instead.\n",
      "  warnings.warn(\n",
      "/home/asufian/.local/share/pipx/venvs/notebook/lib/python3.12/site-packages/torchvision/models/_utils.py:223: UserWarning: Arguments other than a weight enum or `None` for 'weights' are deprecated since 0.13 and may be removed in the future. The current behavior is equivalent to passing `weights=None`.\n",
      "  warnings.warn(msg)\n"
     ]
    },
    {
     "name": "stdout",
     "output_type": "stream",
     "text": [
      "----------------------> 0.6548771929824562\n",
      "Evaluated Accuracy: 0.6549\n",
      "Testing b_a_r = 0.8864, c_a_r = 0.0000, f_a_r = 0.6079\n"
     ]
    },
    {
     "name": "stderr",
     "output_type": "stream",
     "text": [
      "/home/asufian/.local/share/pipx/venvs/notebook/lib/python3.12/site-packages/torchvision/models/_utils.py:208: UserWarning: The parameter 'pretrained' is deprecated since 0.13 and may be removed in the future, please use 'weights' instead.\n",
      "  warnings.warn(\n",
      "/home/asufian/.local/share/pipx/venvs/notebook/lib/python3.12/site-packages/torchvision/models/_utils.py:223: UserWarning: Arguments other than a weight enum or `None` for 'weights' are deprecated since 0.13 and may be removed in the future. The current behavior is equivalent to passing `weights=None`.\n",
      "  warnings.warn(msg)\n"
     ]
    },
    {
     "name": "stdout",
     "output_type": "stream",
     "text": [
      "----------------------> 0.6616140350877192\n",
      "Evaluated Accuracy: 0.6616\n",
      "Testing b_a_r = 0.4947, c_a_r = 0.5559, f_a_r = 0.9995\n"
     ]
    },
    {
     "name": "stderr",
     "output_type": "stream",
     "text": [
      "/home/asufian/.local/share/pipx/venvs/notebook/lib/python3.12/site-packages/torchvision/models/_utils.py:208: UserWarning: The parameter 'pretrained' is deprecated since 0.13 and may be removed in the future, please use 'weights' instead.\n",
      "  warnings.warn(\n",
      "/home/asufian/.local/share/pipx/venvs/notebook/lib/python3.12/site-packages/torchvision/models/_utils.py:223: UserWarning: Arguments other than a weight enum or `None` for 'weights' are deprecated since 0.13 and may be removed in the future. The current behavior is equivalent to passing `weights=None`.\n",
      "  warnings.warn(msg)\n"
     ]
    },
    {
     "name": "stdout",
     "output_type": "stream",
     "text": [
      "----------------------> 0.3941052631578947\n",
      "Evaluated Accuracy: 0.3941\n",
      "Testing b_a_r = 0.9859, c_a_r = 0.0357, f_a_r = 0.5337\n"
     ]
    },
    {
     "name": "stderr",
     "output_type": "stream",
     "text": [
      "/home/asufian/.local/share/pipx/venvs/notebook/lib/python3.12/site-packages/torchvision/models/_utils.py:208: UserWarning: The parameter 'pretrained' is deprecated since 0.13 and may be removed in the future, please use 'weights' instead.\n",
      "  warnings.warn(\n",
      "/home/asufian/.local/share/pipx/venvs/notebook/lib/python3.12/site-packages/torchvision/models/_utils.py:223: UserWarning: Arguments other than a weight enum or `None` for 'weights' are deprecated since 0.13 and may be removed in the future. The current behavior is equivalent to passing `weights=None`.\n",
      "  warnings.warn(msg)\n"
     ]
    },
    {
     "name": "stdout",
     "output_type": "stream",
     "text": [
      "----------------------> 0.6614736842105263\n",
      "Evaluated Accuracy: 0.6615\n",
      "Testing b_a_r = 0.8492, c_a_r = 0.0032, f_a_r = 0.0024\n"
     ]
    },
    {
     "name": "stderr",
     "output_type": "stream",
     "text": [
      "/home/asufian/.local/share/pipx/venvs/notebook/lib/python3.12/site-packages/torchvision/models/_utils.py:208: UserWarning: The parameter 'pretrained' is deprecated since 0.13 and may be removed in the future, please use 'weights' instead.\n",
      "  warnings.warn(\n",
      "/home/asufian/.local/share/pipx/venvs/notebook/lib/python3.12/site-packages/torchvision/models/_utils.py:223: UserWarning: Arguments other than a weight enum or `None` for 'weights' are deprecated since 0.13 and may be removed in the future. The current behavior is equivalent to passing `weights=None`.\n",
      "  warnings.warn(msg)\n"
     ]
    },
    {
     "name": "stdout",
     "output_type": "stream",
     "text": [
      "----------------------> 0.6541754385964913\n",
      "Evaluated Accuracy: 0.6542\n",
      "Testing b_a_r = 0.5319, c_a_r = 0.3137, f_a_r = 0.9968\n"
     ]
    },
    {
     "name": "stderr",
     "output_type": "stream",
     "text": [
      "/home/asufian/.local/share/pipx/venvs/notebook/lib/python3.12/site-packages/torchvision/models/_utils.py:208: UserWarning: The parameter 'pretrained' is deprecated since 0.13 and may be removed in the future, please use 'weights' instead.\n",
      "  warnings.warn(\n",
      "/home/asufian/.local/share/pipx/venvs/notebook/lib/python3.12/site-packages/torchvision/models/_utils.py:223: UserWarning: Arguments other than a weight enum or `None` for 'weights' are deprecated since 0.13 and may be removed in the future. The current behavior is equivalent to passing `weights=None`.\n",
      "  warnings.warn(msg)\n"
     ]
    },
    {
     "name": "stdout",
     "output_type": "stream",
     "text": [
      "----------------------> 0.42231578947368414\n",
      "Evaluated Accuracy: 0.4223\n",
      "Testing b_a_r = 0.6656, c_a_r = 0.7255, f_a_r = 0.0031\n"
     ]
    },
    {
     "name": "stderr",
     "output_type": "stream",
     "text": [
      "/home/asufian/.local/share/pipx/venvs/notebook/lib/python3.12/site-packages/torchvision/models/_utils.py:208: UserWarning: The parameter 'pretrained' is deprecated since 0.13 and may be removed in the future, please use 'weights' instead.\n",
      "  warnings.warn(\n",
      "/home/asufian/.local/share/pipx/venvs/notebook/lib/python3.12/site-packages/torchvision/models/_utils.py:223: UserWarning: Arguments other than a weight enum or `None` for 'weights' are deprecated since 0.13 and may be removed in the future. The current behavior is equivalent to passing `weights=None`.\n",
      "  warnings.warn(msg)\n"
     ]
    },
    {
     "name": "stdout",
     "output_type": "stream",
     "text": [
      "----------------------> 0.3367017543859649\n",
      "Evaluated Accuracy: 0.3367\n",
      "Testing b_a_r = 0.0246, c_a_r = 0.1737, f_a_r = 0.0015\n"
     ]
    },
    {
     "name": "stderr",
     "output_type": "stream",
     "text": [
      "/home/asufian/.local/share/pipx/venvs/notebook/lib/python3.12/site-packages/torchvision/models/_utils.py:208: UserWarning: The parameter 'pretrained' is deprecated since 0.13 and may be removed in the future, please use 'weights' instead.\n",
      "  warnings.warn(\n",
      "/home/asufian/.local/share/pipx/venvs/notebook/lib/python3.12/site-packages/torchvision/models/_utils.py:223: UserWarning: Arguments other than a weight enum or `None` for 'weights' are deprecated since 0.13 and may be removed in the future. The current behavior is equivalent to passing `weights=None`.\n",
      "  warnings.warn(msg)\n"
     ]
    },
    {
     "name": "stdout",
     "output_type": "stream",
     "text": [
      "----------------------> 0.576\n",
      "Evaluated Accuracy: 0.5760\n",
      "Testing b_a_r = 0.0687, c_a_r = 0.7619, f_a_r = 0.9980\n"
     ]
    },
    {
     "name": "stderr",
     "output_type": "stream",
     "text": [
      "/home/asufian/.local/share/pipx/venvs/notebook/lib/python3.12/site-packages/torchvision/models/_utils.py:208: UserWarning: The parameter 'pretrained' is deprecated since 0.13 and may be removed in the future, please use 'weights' instead.\n",
      "  warnings.warn(\n",
      "/home/asufian/.local/share/pipx/venvs/notebook/lib/python3.12/site-packages/torchvision/models/_utils.py:223: UserWarning: Arguments other than a weight enum or `None` for 'weights' are deprecated since 0.13 and may be removed in the future. The current behavior is equivalent to passing `weights=None`.\n",
      "  warnings.warn(msg)\n"
     ]
    },
    {
     "name": "stdout",
     "output_type": "stream",
     "text": [
      "----------------------> 0.28028070175438596\n",
      "Evaluated Accuracy: 0.2803\n",
      "Testing b_a_r = 0.9682, c_a_r = 0.1374, f_a_r = 0.4503\n"
     ]
    },
    {
     "name": "stderr",
     "output_type": "stream",
     "text": [
      "/home/asufian/.local/share/pipx/venvs/notebook/lib/python3.12/site-packages/torchvision/models/_utils.py:208: UserWarning: The parameter 'pretrained' is deprecated since 0.13 and may be removed in the future, please use 'weights' instead.\n",
      "  warnings.warn(\n",
      "/home/asufian/.local/share/pipx/venvs/notebook/lib/python3.12/site-packages/torchvision/models/_utils.py:223: UserWarning: Arguments other than a weight enum or `None` for 'weights' are deprecated since 0.13 and may be removed in the future. The current behavior is equivalent to passing `weights=None`.\n",
      "  warnings.warn(msg)\n"
     ]
    },
    {
     "name": "stdout",
     "output_type": "stream",
     "text": [
      "----------------------> 0.6204912280701755\n",
      "Evaluated Accuracy: 0.6205\n",
      "Testing b_a_r = 0.9711, c_a_r = 0.0621, f_a_r = 0.1779\n"
     ]
    },
    {
     "name": "stderr",
     "output_type": "stream",
     "text": [
      "/home/asufian/.local/share/pipx/venvs/notebook/lib/python3.12/site-packages/torchvision/models/_utils.py:208: UserWarning: The parameter 'pretrained' is deprecated since 0.13 and may be removed in the future, please use 'weights' instead.\n",
      "  warnings.warn(\n",
      "/home/asufian/.local/share/pipx/venvs/notebook/lib/python3.12/site-packages/torchvision/models/_utils.py:223: UserWarning: Arguments other than a weight enum or `None` for 'weights' are deprecated since 0.13 and may be removed in the future. The current behavior is equivalent to passing `weights=None`.\n",
      "  warnings.warn(msg)\n"
     ]
    },
    {
     "name": "stdout",
     "output_type": "stream",
     "text": [
      "----------------------> 0.6457543859649122\n",
      "Evaluated Accuracy: 0.6458\n",
      "Testing b_a_r = 0.9981, c_a_r = 0.6193, f_a_r = 0.4876\n"
     ]
    },
    {
     "name": "stderr",
     "output_type": "stream",
     "text": [
      "/home/asufian/.local/share/pipx/venvs/notebook/lib/python3.12/site-packages/torchvision/models/_utils.py:208: UserWarning: The parameter 'pretrained' is deprecated since 0.13 and may be removed in the future, please use 'weights' instead.\n",
      "  warnings.warn(\n",
      "/home/asufian/.local/share/pipx/venvs/notebook/lib/python3.12/site-packages/torchvision/models/_utils.py:223: UserWarning: Arguments other than a weight enum or `None` for 'weights' are deprecated since 0.13 and may be removed in the future. The current behavior is equivalent to passing `weights=None`.\n",
      "  warnings.warn(msg)\n"
     ]
    },
    {
     "name": "stdout",
     "output_type": "stream",
     "text": [
      "----------------------> 0.39424561403508773\n",
      "Evaluated Accuracy: 0.3942\n",
      "Testing b_a_r = 0.0748, c_a_r = 0.0160, f_a_r = 0.7132\n"
     ]
    },
    {
     "name": "stderr",
     "output_type": "stream",
     "text": [
      "/home/asufian/.local/share/pipx/venvs/notebook/lib/python3.12/site-packages/torchvision/models/_utils.py:208: UserWarning: The parameter 'pretrained' is deprecated since 0.13 and may be removed in the future, please use 'weights' instead.\n",
      "  warnings.warn(\n",
      "/home/asufian/.local/share/pipx/venvs/notebook/lib/python3.12/site-packages/torchvision/models/_utils.py:223: UserWarning: Arguments other than a weight enum or `None` for 'weights' are deprecated since 0.13 and may be removed in the future. The current behavior is equivalent to passing `weights=None`.\n",
      "  warnings.warn(msg)\n"
     ]
    },
    {
     "name": "stdout",
     "output_type": "stream",
     "text": [
      "----------------------> 0.6522105263157896\n",
      "Evaluated Accuracy: 0.6522\n",
      "Testing b_a_r = 0.9603, c_a_r = 0.2450, f_a_r = 0.4701\n"
     ]
    },
    {
     "name": "stderr",
     "output_type": "stream",
     "text": [
      "/home/asufian/.local/share/pipx/venvs/notebook/lib/python3.12/site-packages/torchvision/models/_utils.py:208: UserWarning: The parameter 'pretrained' is deprecated since 0.13 and may be removed in the future, please use 'weights' instead.\n",
      "  warnings.warn(\n",
      "/home/asufian/.local/share/pipx/venvs/notebook/lib/python3.12/site-packages/torchvision/models/_utils.py:223: UserWarning: Arguments other than a weight enum or `None` for 'weights' are deprecated since 0.13 and may be removed in the future. The current behavior is equivalent to passing `weights=None`.\n",
      "  warnings.warn(msg)\n"
     ]
    },
    {
     "name": "stdout",
     "output_type": "stream",
     "text": [
      "----------------------> 0.5389473684210526\n",
      "Evaluated Accuracy: 0.5389\n",
      "Testing b_a_r = 0.8759, c_a_r = 0.8543, f_a_r = 0.4162\n"
     ]
    },
    {
     "name": "stderr",
     "output_type": "stream",
     "text": [
      "/home/asufian/.local/share/pipx/venvs/notebook/lib/python3.12/site-packages/torchvision/models/_utils.py:208: UserWarning: The parameter 'pretrained' is deprecated since 0.13 and may be removed in the future, please use 'weights' instead.\n",
      "  warnings.warn(\n",
      "/home/asufian/.local/share/pipx/venvs/notebook/lib/python3.12/site-packages/torchvision/models/_utils.py:223: UserWarning: Arguments other than a weight enum or `None` for 'weights' are deprecated since 0.13 and may be removed in the future. The current behavior is equivalent to passing `weights=None`.\n",
      "  warnings.warn(msg)\n"
     ]
    },
    {
     "name": "stdout",
     "output_type": "stream",
     "text": [
      "----------------------> 0.2513684210526316\n",
      "Evaluated Accuracy: 0.2514\n",
      "Testing b_a_r = 0.9907, c_a_r = 0.0003, f_a_r = 0.4554\n"
     ]
    },
    {
     "name": "stderr",
     "output_type": "stream",
     "text": [
      "/home/asufian/.local/share/pipx/venvs/notebook/lib/python3.12/site-packages/torchvision/models/_utils.py:208: UserWarning: The parameter 'pretrained' is deprecated since 0.13 and may be removed in the future, please use 'weights' instead.\n",
      "  warnings.warn(\n",
      "/home/asufian/.local/share/pipx/venvs/notebook/lib/python3.12/site-packages/torchvision/models/_utils.py:223: UserWarning: Arguments other than a weight enum or `None` for 'weights' are deprecated since 0.13 and may be removed in the future. The current behavior is equivalent to passing `weights=None`.\n",
      "  warnings.warn(msg)\n"
     ]
    },
    {
     "name": "stdout",
     "output_type": "stream",
     "text": [
      "----------------------> 0.6620350877192982\n",
      "Evaluated Accuracy: 0.6620\n",
      "Testing b_a_r = 0.1526, c_a_r = 0.0179, f_a_r = 0.5155\n"
     ]
    },
    {
     "name": "stderr",
     "output_type": "stream",
     "text": [
      "/home/asufian/.local/share/pipx/venvs/notebook/lib/python3.12/site-packages/torchvision/models/_utils.py:208: UserWarning: The parameter 'pretrained' is deprecated since 0.13 and may be removed in the future, please use 'weights' instead.\n",
      "  warnings.warn(\n",
      "/home/asufian/.local/share/pipx/venvs/notebook/lib/python3.12/site-packages/torchvision/models/_utils.py:223: UserWarning: Arguments other than a weight enum or `None` for 'weights' are deprecated since 0.13 and may be removed in the future. The current behavior is equivalent to passing `weights=None`.\n",
      "  warnings.warn(msg)\n"
     ]
    },
    {
     "name": "stdout",
     "output_type": "stream",
     "text": [
      "----------------------> 0.6620350877192983\n",
      "Evaluated Accuracy: 0.6620\n",
      "Testing b_a_r = 0.0734, c_a_r = 0.4332, f_a_r = 0.6359\n"
     ]
    },
    {
     "name": "stderr",
     "output_type": "stream",
     "text": [
      "/home/asufian/.local/share/pipx/venvs/notebook/lib/python3.12/site-packages/torchvision/models/_utils.py:208: UserWarning: The parameter 'pretrained' is deprecated since 0.13 and may be removed in the future, please use 'weights' instead.\n",
      "  warnings.warn(\n",
      "/home/asufian/.local/share/pipx/venvs/notebook/lib/python3.12/site-packages/torchvision/models/_utils.py:223: UserWarning: Arguments other than a weight enum or `None` for 'weights' are deprecated since 0.13 and may be removed in the future. The current behavior is equivalent to passing `weights=None`.\n",
      "  warnings.warn(msg)\n"
     ]
    },
    {
     "name": "stdout",
     "output_type": "stream",
     "text": [
      "----------------------> 0.35663157894736847\n",
      "Evaluated Accuracy: 0.3566\n",
      "Testing b_a_r = 0.9287, c_a_r = 0.1048, f_a_r = 0.7001\n"
     ]
    },
    {
     "name": "stderr",
     "output_type": "stream",
     "text": [
      "/home/asufian/.local/share/pipx/venvs/notebook/lib/python3.12/site-packages/torchvision/models/_utils.py:208: UserWarning: The parameter 'pretrained' is deprecated since 0.13 and may be removed in the future, please use 'weights' instead.\n",
      "  warnings.warn(\n",
      "/home/asufian/.local/share/pipx/venvs/notebook/lib/python3.12/site-packages/torchvision/models/_utils.py:223: UserWarning: Arguments other than a weight enum or `None` for 'weights' are deprecated since 0.13 and may be removed in the future. The current behavior is equivalent to passing `weights=None`.\n",
      "  warnings.warn(msg)\n"
     ]
    },
    {
     "name": "stdout",
     "output_type": "stream",
     "text": [
      "----------------------> 0.6364912280701754\n",
      "Evaluated Accuracy: 0.6365\n",
      "Testing b_a_r = 0.9951, c_a_r = 0.0107, f_a_r = 0.5874\n"
     ]
    },
    {
     "name": "stderr",
     "output_type": "stream",
     "text": [
      "/home/asufian/.local/share/pipx/venvs/notebook/lib/python3.12/site-packages/torchvision/models/_utils.py:208: UserWarning: The parameter 'pretrained' is deprecated since 0.13 and may be removed in the future, please use 'weights' instead.\n",
      "  warnings.warn(\n",
      "/home/asufian/.local/share/pipx/venvs/notebook/lib/python3.12/site-packages/torchvision/models/_utils.py:223: UserWarning: Arguments other than a weight enum or `None` for 'weights' are deprecated since 0.13 and may be removed in the future. The current behavior is equivalent to passing `weights=None`.\n",
      "  warnings.warn(msg)\n"
     ]
    },
    {
     "name": "stdout",
     "output_type": "stream",
     "text": [
      "----------------------> 0.6628771929824562\n",
      "Evaluated Accuracy: 0.6629\n",
      "Testing b_a_r = 0.9112, c_a_r = 0.0344, f_a_r = 0.0013\n"
     ]
    },
    {
     "name": "stderr",
     "output_type": "stream",
     "text": [
      "/home/asufian/.local/share/pipx/venvs/notebook/lib/python3.12/site-packages/torchvision/models/_utils.py:208: UserWarning: The parameter 'pretrained' is deprecated since 0.13 and may be removed in the future, please use 'weights' instead.\n",
      "  warnings.warn(\n",
      "/home/asufian/.local/share/pipx/venvs/notebook/lib/python3.12/site-packages/torchvision/models/_utils.py:223: UserWarning: Arguments other than a weight enum or `None` for 'weights' are deprecated since 0.13 and may be removed in the future. The current behavior is equivalent to passing `weights=None`.\n",
      "  warnings.warn(msg)\n"
     ]
    },
    {
     "name": "stdout",
     "output_type": "stream",
     "text": [
      "----------------------> 0.6515087719298247\n",
      "Evaluated Accuracy: 0.6515\n",
      "Testing b_a_r = 0.7127, c_a_r = 0.5840, f_a_r = 0.0001\n"
     ]
    },
    {
     "name": "stderr",
     "output_type": "stream",
     "text": [
      "/home/asufian/.local/share/pipx/venvs/notebook/lib/python3.12/site-packages/torchvision/models/_utils.py:208: UserWarning: The parameter 'pretrained' is deprecated since 0.13 and may be removed in the future, please use 'weights' instead.\n",
      "  warnings.warn(\n",
      "/home/asufian/.local/share/pipx/venvs/notebook/lib/python3.12/site-packages/torchvision/models/_utils.py:223: UserWarning: Arguments other than a weight enum or `None` for 'weights' are deprecated since 0.13 and may be removed in the future. The current behavior is equivalent to passing `weights=None`.\n",
      "  warnings.warn(msg)\n"
     ]
    },
    {
     "name": "stdout",
     "output_type": "stream",
     "text": [
      "----------------------> 0.4350877192982455\n",
      "Evaluated Accuracy: 0.4351\n",
      "Testing b_a_r = 0.8723, c_a_r = 0.1005, f_a_r = 0.0173\n"
     ]
    },
    {
     "name": "stderr",
     "output_type": "stream",
     "text": [
      "/home/asufian/.local/share/pipx/venvs/notebook/lib/python3.12/site-packages/torchvision/models/_utils.py:208: UserWarning: The parameter 'pretrained' is deprecated since 0.13 and may be removed in the future, please use 'weights' instead.\n",
      "  warnings.warn(\n",
      "/home/asufian/.local/share/pipx/venvs/notebook/lib/python3.12/site-packages/torchvision/models/_utils.py:223: UserWarning: Arguments other than a weight enum or `None` for 'weights' are deprecated since 0.13 and may be removed in the future. The current behavior is equivalent to passing `weights=None`.\n",
      "  warnings.warn(msg)\n"
     ]
    },
    {
     "name": "stdout",
     "output_type": "stream",
     "text": [
      "----------------------> 0.6301754385964913\n",
      "Evaluated Accuracy: 0.6302\n",
      "Testing b_a_r = 0.9989, c_a_r = 0.1528, f_a_r = 0.9907\n"
     ]
    },
    {
     "name": "stderr",
     "output_type": "stream",
     "text": [
      "/home/asufian/.local/share/pipx/venvs/notebook/lib/python3.12/site-packages/torchvision/models/_utils.py:208: UserWarning: The parameter 'pretrained' is deprecated since 0.13 and may be removed in the future, please use 'weights' instead.\n",
      "  warnings.warn(\n",
      "/home/asufian/.local/share/pipx/venvs/notebook/lib/python3.12/site-packages/torchvision/models/_utils.py:223: UserWarning: Arguments other than a weight enum or `None` for 'weights' are deprecated since 0.13 and may be removed in the future. The current behavior is equivalent to passing `weights=None`.\n",
      "  warnings.warn(msg)\n"
     ]
    },
    {
     "name": "stdout",
     "output_type": "stream",
     "text": [
      "----------------------> 0.5792280701754386\n",
      "Evaluated Accuracy: 0.5792\n",
      "Testing b_a_r = 0.4967, c_a_r = 0.2606, f_a_r = 0.0027\n"
     ]
    },
    {
     "name": "stderr",
     "output_type": "stream",
     "text": [
      "/home/asufian/.local/share/pipx/venvs/notebook/lib/python3.12/site-packages/torchvision/models/_utils.py:208: UserWarning: The parameter 'pretrained' is deprecated since 0.13 and may be removed in the future, please use 'weights' instead.\n",
      "  warnings.warn(\n",
      "/home/asufian/.local/share/pipx/venvs/notebook/lib/python3.12/site-packages/torchvision/models/_utils.py:223: UserWarning: Arguments other than a weight enum or `None` for 'weights' are deprecated since 0.13 and may be removed in the future. The current behavior is equivalent to passing `weights=None`.\n",
      "  warnings.warn(msg)\n"
     ]
    },
    {
     "name": "stdout",
     "output_type": "stream",
     "text": [
      "----------------------> 0.512701754385965\n",
      "Evaluated Accuracy: 0.5127\n",
      "Testing b_a_r = 0.8886, c_a_r = 0.0293, f_a_r = 0.2931\n"
     ]
    },
    {
     "name": "stderr",
     "output_type": "stream",
     "text": [
      "/home/asufian/.local/share/pipx/venvs/notebook/lib/python3.12/site-packages/torchvision/models/_utils.py:208: UserWarning: The parameter 'pretrained' is deprecated since 0.13 and may be removed in the future, please use 'weights' instead.\n",
      "  warnings.warn(\n",
      "/home/asufian/.local/share/pipx/venvs/notebook/lib/python3.12/site-packages/torchvision/models/_utils.py:223: UserWarning: Arguments other than a weight enum or `None` for 'weights' are deprecated since 0.13 and may be removed in the future. The current behavior is equivalent to passing `weights=None`.\n",
      "  warnings.warn(msg)\n"
     ]
    },
    {
     "name": "stdout",
     "output_type": "stream",
     "text": [
      "----------------------> 0.6548771929824563\n",
      "Evaluated Accuracy: 0.6549\n",
      "Testing b_a_r = 0.8654, c_a_r = 0.0769, f_a_r = 0.5465\n"
     ]
    },
    {
     "name": "stderr",
     "output_type": "stream",
     "text": [
      "/home/asufian/.local/share/pipx/venvs/notebook/lib/python3.12/site-packages/torchvision/models/_utils.py:208: UserWarning: The parameter 'pretrained' is deprecated since 0.13 and may be removed in the future, please use 'weights' instead.\n",
      "  warnings.warn(\n",
      "/home/asufian/.local/share/pipx/venvs/notebook/lib/python3.12/site-packages/torchvision/models/_utils.py:223: UserWarning: Arguments other than a weight enum or `None` for 'weights' are deprecated since 0.13 and may be removed in the future. The current behavior is equivalent to passing `weights=None`.\n",
      "  warnings.warn(msg)\n"
     ]
    },
    {
     "name": "stdout",
     "output_type": "stream",
     "text": [
      "----------------------> 0.6548771929824561\n",
      "Evaluated Accuracy: 0.6549\n",
      "Testing b_a_r = 0.0854, c_a_r = 0.0020, f_a_r = 0.4113\n"
     ]
    },
    {
     "name": "stderr",
     "output_type": "stream",
     "text": [
      "/home/asufian/.local/share/pipx/venvs/notebook/lib/python3.12/site-packages/torchvision/models/_utils.py:208: UserWarning: The parameter 'pretrained' is deprecated since 0.13 and may be removed in the future, please use 'weights' instead.\n",
      "  warnings.warn(\n",
      "/home/asufian/.local/share/pipx/venvs/notebook/lib/python3.12/site-packages/torchvision/models/_utils.py:223: UserWarning: Arguments other than a weight enum or `None` for 'weights' are deprecated since 0.13 and may be removed in the future. The current behavior is equivalent to passing `weights=None`.\n",
      "  warnings.warn(msg)\n"
     ]
    },
    {
     "name": "stdout",
     "output_type": "stream",
     "text": [
      "----------------------> 0.6607719298245613\n",
      "Evaluated Accuracy: 0.6608\n",
      "Testing b_a_r = 0.1607, c_a_r = 0.0458, f_a_r = 0.5777\n"
     ]
    },
    {
     "name": "stderr",
     "output_type": "stream",
     "text": [
      "/home/asufian/.local/share/pipx/venvs/notebook/lib/python3.12/site-packages/torchvision/models/_utils.py:208: UserWarning: The parameter 'pretrained' is deprecated since 0.13 and may be removed in the future, please use 'weights' instead.\n",
      "  warnings.warn(\n",
      "/home/asufian/.local/share/pipx/venvs/notebook/lib/python3.12/site-packages/torchvision/models/_utils.py:223: UserWarning: Arguments other than a weight enum or `None` for 'weights' are deprecated since 0.13 and may be removed in the future. The current behavior is equivalent to passing `weights=None`.\n",
      "  warnings.warn(msg)\n"
     ]
    },
    {
     "name": "stdout",
     "output_type": "stream",
     "text": [
      "----------------------> 0.6583859649122805\n",
      "Evaluated Accuracy: 0.6584\n",
      "Testing b_a_r = 0.0517, c_a_r = 0.0004, f_a_r = 0.1053\n"
     ]
    },
    {
     "name": "stderr",
     "output_type": "stream",
     "text": [
      "/home/asufian/.local/share/pipx/venvs/notebook/lib/python3.12/site-packages/torchvision/models/_utils.py:208: UserWarning: The parameter 'pretrained' is deprecated since 0.13 and may be removed in the future, please use 'weights' instead.\n",
      "  warnings.warn(\n",
      "/home/asufian/.local/share/pipx/venvs/notebook/lib/python3.12/site-packages/torchvision/models/_utils.py:223: UserWarning: Arguments other than a weight enum or `None` for 'weights' are deprecated since 0.13 and may be removed in the future. The current behavior is equivalent to passing `weights=None`.\n",
      "  warnings.warn(msg)\n"
     ]
    },
    {
     "name": "stdout",
     "output_type": "stream",
     "text": [
      "----------------------> 0.6524912280701756\n",
      "Evaluated Accuracy: 0.6525\n",
      "Testing b_a_r = 0.9600, c_a_r = 0.0270, f_a_r = 0.4710\n"
     ]
    },
    {
     "name": "stderr",
     "output_type": "stream",
     "text": [
      "/home/asufian/.local/share/pipx/venvs/notebook/lib/python3.12/site-packages/torchvision/models/_utils.py:208: UserWarning: The parameter 'pretrained' is deprecated since 0.13 and may be removed in the future, please use 'weights' instead.\n",
      "  warnings.warn(\n",
      "/home/asufian/.local/share/pipx/venvs/notebook/lib/python3.12/site-packages/torchvision/models/_utils.py:223: UserWarning: Arguments other than a weight enum or `None` for 'weights' are deprecated since 0.13 and may be removed in the future. The current behavior is equivalent to passing `weights=None`.\n",
      "  warnings.warn(msg)\n"
     ]
    },
    {
     "name": "stdout",
     "output_type": "stream",
     "text": [
      "----------------------> 0.6607719298245615\n",
      "Evaluated Accuracy: 0.6608\n",
      "Testing b_a_r = 0.6982, c_a_r = 0.0004, f_a_r = 0.7781\n"
     ]
    },
    {
     "name": "stderr",
     "output_type": "stream",
     "text": [
      "/home/asufian/.local/share/pipx/venvs/notebook/lib/python3.12/site-packages/torchvision/models/_utils.py:208: UserWarning: The parameter 'pretrained' is deprecated since 0.13 and may be removed in the future, please use 'weights' instead.\n",
      "  warnings.warn(\n",
      "/home/asufian/.local/share/pipx/venvs/notebook/lib/python3.12/site-packages/torchvision/models/_utils.py:223: UserWarning: Arguments other than a weight enum or `None` for 'weights' are deprecated since 0.13 and may be removed in the future. The current behavior is equivalent to passing `weights=None`.\n",
      "  warnings.warn(msg)\n"
     ]
    },
    {
     "name": "stdout",
     "output_type": "stream",
     "text": [
      "----------------------> 0.6433684210526316\n",
      "Evaluated Accuracy: 0.6434\n",
      "Testing b_a_r = 0.9956, c_a_r = 0.0008, f_a_r = 0.5586\n"
     ]
    },
    {
     "name": "stderr",
     "output_type": "stream",
     "text": [
      "/home/asufian/.local/share/pipx/venvs/notebook/lib/python3.12/site-packages/torchvision/models/_utils.py:208: UserWarning: The parameter 'pretrained' is deprecated since 0.13 and may be removed in the future, please use 'weights' instead.\n",
      "  warnings.warn(\n",
      "/home/asufian/.local/share/pipx/venvs/notebook/lib/python3.12/site-packages/torchvision/models/_utils.py:223: UserWarning: Arguments other than a weight enum or `None` for 'weights' are deprecated since 0.13 and may be removed in the future. The current behavior is equivalent to passing `weights=None`.\n",
      "  warnings.warn(msg)\n"
     ]
    },
    {
     "name": "stdout",
     "output_type": "stream",
     "text": [
      "----------------------> 0.6644210526315789\n",
      "Evaluated Accuracy: 0.6644\n",
      "Testing b_a_r = 0.4204, c_a_r = 0.8587, f_a_r = 0.0003\n"
     ]
    },
    {
     "name": "stderr",
     "output_type": "stream",
     "text": [
      "/home/asufian/.local/share/pipx/venvs/notebook/lib/python3.12/site-packages/torchvision/models/_utils.py:208: UserWarning: The parameter 'pretrained' is deprecated since 0.13 and may be removed in the future, please use 'weights' instead.\n",
      "  warnings.warn(\n",
      "/home/asufian/.local/share/pipx/venvs/notebook/lib/python3.12/site-packages/torchvision/models/_utils.py:223: UserWarning: Arguments other than a weight enum or `None` for 'weights' are deprecated since 0.13 and may be removed in the future. The current behavior is equivalent to passing `weights=None`.\n",
      "  warnings.warn(msg)\n"
     ]
    },
    {
     "name": "stdout",
     "output_type": "stream",
     "text": [
      "----------------------> 0.2488421052631579\n",
      "Evaluated Accuracy: 0.2488\n",
      "Testing b_a_r = 0.0965, c_a_r = 0.1158, f_a_r = 0.2027\n"
     ]
    },
    {
     "name": "stderr",
     "output_type": "stream",
     "text": [
      "/home/asufian/.local/share/pipx/venvs/notebook/lib/python3.12/site-packages/torchvision/models/_utils.py:208: UserWarning: The parameter 'pretrained' is deprecated since 0.13 and may be removed in the future, please use 'weights' instead.\n",
      "  warnings.warn(\n",
      "/home/asufian/.local/share/pipx/venvs/notebook/lib/python3.12/site-packages/torchvision/models/_utils.py:223: UserWarning: Arguments other than a weight enum or `None` for 'weights' are deprecated since 0.13 and may be removed in the future. The current behavior is equivalent to passing `weights=None`.\n",
      "  warnings.warn(msg)\n"
     ]
    },
    {
     "name": "stdout",
     "output_type": "stream",
     "text": [
      "----------------------> 0.6202105263157895\n",
      "Evaluated Accuracy: 0.6202\n",
      "Testing b_a_r = 0.4385, c_a_r = 0.8801, f_a_r = 0.9956\n"
     ]
    },
    {
     "name": "stderr",
     "output_type": "stream",
     "text": [
      "/home/asufian/.local/share/pipx/venvs/notebook/lib/python3.12/site-packages/torchvision/models/_utils.py:208: UserWarning: The parameter 'pretrained' is deprecated since 0.13 and may be removed in the future, please use 'weights' instead.\n",
      "  warnings.warn(\n",
      "/home/asufian/.local/share/pipx/venvs/notebook/lib/python3.12/site-packages/torchvision/models/_utils.py:223: UserWarning: Arguments other than a weight enum or `None` for 'weights' are deprecated since 0.13 and may be removed in the future. The current behavior is equivalent to passing `weights=None`.\n",
      "  warnings.warn(msg)\n"
     ]
    },
    {
     "name": "stdout",
     "output_type": "stream",
     "text": [
      "----------------------> 0.24505263157894744\n",
      "Evaluated Accuracy: 0.2451\n",
      "Testing b_a_r = 0.9378, c_a_r = 0.0287, f_a_r = 0.6213\n"
     ]
    },
    {
     "name": "stderr",
     "output_type": "stream",
     "text": [
      "/home/asufian/.local/share/pipx/venvs/notebook/lib/python3.12/site-packages/torchvision/models/_utils.py:208: UserWarning: The parameter 'pretrained' is deprecated since 0.13 and may be removed in the future, please use 'weights' instead.\n",
      "  warnings.warn(\n",
      "/home/asufian/.local/share/pipx/venvs/notebook/lib/python3.12/site-packages/torchvision/models/_utils.py:223: UserWarning: Arguments other than a weight enum or `None` for 'weights' are deprecated since 0.13 and may be removed in the future. The current behavior is equivalent to passing `weights=None`.\n",
      "  warnings.warn(msg)\n"
     ]
    },
    {
     "name": "stdout",
     "output_type": "stream",
     "text": [
      "----------------------> 0.663438596491228\n",
      "Evaluated Accuracy: 0.6634\n",
      "\n",
      "✅ Optimal Values:\n",
      "   - b_a_r: 0.9956\n",
      "   - c_a_r: 0.0008\n",
      "   - f_a_r: 0.5586\n",
      "📈 Highest Accuracy Achieved: 0.6644\n"
     ]
    }
   ],
   "source": [
    "\n",
    "# Define the search space for b_a_r, c_a_r, and f_a_r\n",
    "search_space = [\n",
    "    Real(0, 1.0000, name=\"b_a_r\"),\n",
    "    Real(0, 1.0000, name=\"c_a_r\"),\n",
    "    Real(0, 1.0000, name=\"f_a_r\")\n",
    "]\n",
    "\n",
    "# Define the objective function for Bayesian Optimization\n",
    "@use_named_args(search_space)\n",
    "def objective(b_a_r, c_a_r, f_a_r):\n",
    "    \"\"\"\n",
    "    Objective function to optimize the adaptation ratios.\n",
    "    It applies adaptation, evaluates the model, and returns the negative accuracy.\n",
    "    \"\"\"\n",
    "    accuracy = get_model_accuracy(b_a_r, c_a_r, f_a_r)\n",
    "    print(f\"Evaluated Accuracy: {accuracy:.4f}\")  # Debugging Output\n",
    "    \n",
    "    return -accuracy  # We minimize, so return negative accuracy\n",
    "\n",
    "# Perform Bayesian Optimization with additional settings\n",
    "search_iteration=50\n",
    "res = gp_minimize(\n",
    "    func=objective,\n",
    "    dimensions=search_space,\n",
    "    n_calls=search_iteration,               # Number of evaluations\n",
    "    n_initial_points=5,       # Initial random explorations before GP starts\n",
    "    acq_func=\"EI\",            # Acquisition function: Expected Improvement\n",
    "    random_state=42,          # Ensure reproducibility\n",
    "    n_jobs=-1,                # Parallel execution for faster optimization\n",
    ")\n",
    "\n",
    "# Extract optimal results\n",
    "optimal_b_a_r, optimal_c_a_r, optimal_f_a_r = res.x\n",
    "best_accuracy = -res.fun\n",
    "\n",
    "print(f\"\\n✅ Optimal Values:\")\n",
    "print(f\"   - b_a_r: {optimal_b_a_r:.4f}\")\n",
    "print(f\"   - c_a_r: {optimal_c_a_r:.4f}\")\n",
    "print(f\"   - f_a_r: {optimal_f_a_r:.4f}\")\n",
    "print(f\"📈 Highest Accuracy Achieved: {best_accuracy:.4f}\")\n",
    "\n",
    "\n"
   ]
  },
  {
   "cell_type": "code",
   "execution_count": null,
   "metadata": {
    "scrolled": true
   },
   "outputs": [],
   "source": []
  },
  {
   "cell_type": "code",
   "execution_count": null,
   "metadata": {},
   "outputs": [],
   "source": []
  },
  {
   "cell_type": "code",
   "execution_count": 39,
   "metadata": {
    "scrolled": true
   },
   "outputs": [
    {
     "name": "stderr",
     "output_type": "stream",
     "text": [
      "/home/asufian/.local/share/pipx/venvs/notebook/lib/python3.12/site-packages/torchvision/models/_utils.py:208: UserWarning: The parameter 'pretrained' is deprecated since 0.13 and may be removed in the future, please use 'weights' instead.\n",
      "  warnings.warn(\n",
      "/home/asufian/.local/share/pipx/venvs/notebook/lib/python3.12/site-packages/torchvision/models/_utils.py:223: UserWarning: Arguments other than a weight enum or `None` for 'weights' are deprecated since 0.13 and may be removed in the future. The current behavior is equivalent to passing `weights=None`.\n",
      "  warnings.warn(msg)\n"
     ]
    },
    {
     "name": "stdout",
     "output_type": "stream",
     "text": [
      "---Accu-----pre----rec---------> 0.6522 ± 0.0673  0.6838 ± 0.0587  0.6522 ± 0.0673\n"
     ]
    },
    {
     "name": "stderr",
     "output_type": "stream",
     "text": [
      "/home/asufian/.local/share/pipx/venvs/notebook/lib/python3.12/site-packages/torchvision/models/_utils.py:208: UserWarning: The parameter 'pretrained' is deprecated since 0.13 and may be removed in the future, please use 'weights' instead.\n",
      "  warnings.warn(\n",
      "/home/asufian/.local/share/pipx/venvs/notebook/lib/python3.12/site-packages/torchvision/models/_utils.py:223: UserWarning: Arguments other than a weight enum or `None` for 'weights' are deprecated since 0.13 and may be removed in the future. The current behavior is equivalent to passing `weights=None`.\n",
      "  warnings.warn(msg)\n"
     ]
    },
    {
     "name": "stdout",
     "output_type": "stream",
     "text": [
      "---Accu-----pre----rec---------> 0.6042 ± 0.0866  0.6366 ± 0.0943  0.6042 ± 0.0866\n",
      "---Accu-----pre----rec---------> 0.6644 ± 0.0714  0.7026 ± 0.0643  0.6644 ± 0.0714\n"
     ]
    }
   ],
   "source": [
    "convolutional_network_with_dropout =  ResNet18WithDropout(pretrained=False, dr=0.0)\n",
    "convolutional_network_with_dropout.fc = nn.Flatten()\n",
    "\n",
    "xyz = convolutional_network_with_dropout\n",
    "M3 = PrototypicalNetworks_dynamic_query(xyz).to(device)\n",
    "M3.load_state_dict(torch.load('model_own_path.pt'))\n",
    "evaluate2('/home/asufian/Desktop/output_mapii/result_ressnet/base/5_w_1_s_f_20', test_loader, M3, criterion)\n",
    "# Load Model M2\n",
    "convolutional_network_with_dropout =  ResNet18WithDropout(pretrained=False, dr=0.0)\n",
    "convolutional_network_with_dropout.fc = nn.Flatten()\n",
    "\n",
    "xyz2 = convolutional_network_with_dropout\n",
    "M2 = PrototypicalNetworks_dynamic_query(xyz2).to(device)\n",
    "M2.load_state_dict(torch.load('model_mu_path.pt'))\n",
    "evaluate2(\"/home/asufian/Desktop/output_mapii/result_ressnet/secondary/5_w_1_s_f\", test_loader, M2, criterion)\n",
    "# Update Model M3's weights using a weighted combination of Model M3 and Model M2\n",
    "update_model_weights2(M3, M2, conv_ratio= optimal_c_a_r , fc_ratio=optimal_f_a_r , bias_ratio=optimal_b_a_r)\n",
    "\n",
    "# Assuming you have the evaluate2 function defined\n",
    "# Evaluate the updated model (M3) using evaluate2 function with some arguments\n",
    "evaluate2(\"/home/asufian/Desktop/output_mapii/result_ressnet/amul/5_w_1_s_f\", test_loader, M3, criterion)\n",
    "\n",
    "\n",
    "# Assuming you have the evaluate2 function defined\n",
    "# Evaluate the updated model (M3) using evaluate2 function with some arguments\n",
    "# evaluate3(pp+'/_mapi_5-wau-1-shot_matchine_unlearning_own', test_loader, M3, criterion)"
   ]
  },
  {
   "cell_type": "code",
   "execution_count": 26,
   "metadata": {},
   "outputs": [],
   "source": [
    "!mkdir /home/asufian/Desktop/output_mapii/result_ressnet/secondary"
   ]
  },
  {
   "cell_type": "code",
   "execution_count": 2,
   "metadata": {},
   "outputs": [],
   "source": []
  },
  {
   "cell_type": "code",
   "execution_count": null,
   "metadata": {},
   "outputs": [],
   "source": [
    "########################  5   way    5  shot    #########################"
   ]
  },
  {
   "cell_type": "code",
   "execution_count": 23,
   "metadata": {},
   "outputs": [],
   "source": [
    "\n"
   ]
  },
  {
   "cell_type": "code",
   "execution_count": 40,
   "metadata": {},
   "outputs": [
    {
     "name": "stderr",
     "output_type": "stream",
     "text": [
      "/home/asufian/.local/share/pipx/venvs/notebook/lib/python3.12/site-packages/torchvision/models/_utils.py:208: UserWarning: The parameter 'pretrained' is deprecated since 0.13 and may be removed in the future, please use 'weights' instead.\n",
      "  warnings.warn(\n",
      "/home/asufian/.local/share/pipx/venvs/notebook/lib/python3.12/site-packages/torchvision/models/_utils.py:223: UserWarning: Arguments other than a weight enum or `None` for 'weights' are deprecated since 0.13 and may be removed in the future. The current behavior is equivalent to passing `weights=None`.\n",
      "  warnings.warn(msg)\n"
     ]
    }
   ],
   "source": [
    "device = torch.device(\"cuda\" if torch.cuda.is_available() else \"cpu\")\n",
    "\n",
    "\n",
    "\n",
    "!rm model_mu_path.pt\n",
    "!rm model_own_path.pt\n",
    "\n",
    "convolutional_network_with_dropout =  ResNet18WithDropout(pretrained=False, dr=0.0)\n",
    "convolutional_network_with_dropout.fc = nn.Flatten()\n",
    "\n",
    "model_own = PrototypicalNetworks_dynamic_query(convolutional_network_with_dropout).to(device)\n",
    "model_own.load_state_dict(torch.load('/home/asufian/Desktop/output_olchiki/code/modelr_res18.pth',map_location=torch.device('cpu')))\n",
    "\n",
    "\n",
    "convolutional_network_with_dropout =  ResNet18WithDropout(pretrained=False, dr=0.0)\n",
    "convolutional_network_with_dropout.fc = nn.Flatten()\n",
    "\n",
    "model_own_1_shot = PrototypicalNetworks_dynamic_query(convolutional_network_with_dropout).to(device)\n",
    "model_own_1_shot.load_state_dict(torch.load('/home/asufian/Desktop/output_olchiki/code/mapi_sce/ressecondary/model_5/model_B_mapi_5-shot_res.pth',map_location=torch.device('cpu')))\n",
    "\n",
    "torch.save(model_own_1_shot.state_dict(), 'model_mu_path.pt')\n",
    "torch.save(model_own.state_dict(), 'model_own_path.pt')"
   ]
  },
  {
   "cell_type": "code",
   "execution_count": 41,
   "metadata": {},
   "outputs": [],
   "source": [
    "\n",
    "\n",
    "def evaluate2(fname,data_loader, model, criterion=nn.CrossEntropyLoss()):\n",
    "    total_predictions = 0\n",
    "    correct_predictions = 0\n",
    "    total_loss = 0.0\n",
    "    accuracy = 0\n",
    "    datta = \"\"\n",
    "    model.eval()\n",
    "    tlv_cls=0\n",
    "    ttla=0\n",
    "    ttlal=[]\n",
    "    ttlac=0\n",
    "    precision=[]\n",
    "    recall=[]\n",
    "    \n",
    "    with torch.no_grad():\n",
    "        for episode in range(len(clss_5)):\n",
    "            support_set, query_set = data_loader.__getitem__(clss_5[tlv_cls] , clss_support_imagesss_5_shot[tlv_cls])\n",
    "\n",
    "           \n",
    "            clssa=str(clss_5[tlv_cls])\n",
    "            clss=str(clssa).replace(',',' ').replace('\\'',' ').replace('\\'',' ')\n",
    "            msg=str(clss_support_imagesss_5_shot[tlv_cls])\n",
    "            str(clss_5[tlv_cls])\n",
    "\n",
    "            tlv_cls+=1\n",
    "            # print(len(support_set),len(query_set))\n",
    "            support_set = [(torch.stack(images).to(device), label[0]) for images, label in support_set]\n",
    "            query_set = [(torch.stack(images).to(device), label) for images, label in query_set]\n",
    "\n",
    "            support_images, support_labels = zip(*support_set)\n",
    "\n",
    "            query_images, query_labels = zip(*query_set)\n",
    "\n",
    "            classification_scores = model(support_images, support_labels, query_images)\n",
    "            cortt = 0\n",
    "            totl = 0\n",
    "            confusion_mat=None\n",
    "            all_predicted_labels = []\n",
    "            all_actual_labels = []\n",
    "            # print(len(classification_scores),len(query_labels))\n",
    "            for ei in range(len(classification_scores)):\n",
    "                classification_scores_each_class = classification_scores[ei]\n",
    "                # print(classification_scores_each_class)\n",
    "                predicted_labels_eachclas = torch.argmax(classification_scores_each_class, dim=1)\n",
    "                pp = predicted_labels_eachclas.tolist()\n",
    "                act = query_labels[ei]\n",
    "                all_predicted_labels.extend(pp)\n",
    "                all_actual_labels.extend(act)\n",
    "                for iiii in range(len(pp)):\n",
    "                    if pp[iiii] == act[iiii]:\n",
    "                        cortt = cortt + 1\n",
    "                totl = totl + len(pp)\n",
    "                # print(len(act))\n",
    "            accuracy = cortt / totl\n",
    "            ttla+=1\n",
    "            ttlac+=accuracy\n",
    "            ttlal.append(accuracy)\n",
    "            # print(cortt , totl,\"Validation Accuracy:              \", cortt / totl)\n",
    "            confusion_mat = confusion_matrix(all_actual_labels, all_predicted_labels)\n",
    "            # print(\"Confusion Matrix:\")\n",
    "            # print(confusion_mat)\n",
    "\n",
    "            # fname='./own35_mapi_5_way_1_shot'\n",
    "\n",
    "            precision_overall, recall_overall, f1ss= calculate_metrics_get_per(msg,confusion_mat,acciuracy=cortt / totl,cls=clss,flnm=fname)\n",
    "            precision.append(precision_overall)\n",
    "            recall.append(recall_overall)\n",
    "    print(f\"---Accu-----pre----rec---------> {np.mean(ttlal):.4f} ± {np.std(ttlal, ddof=1):.4f}  \"\n",
    "      f\"{np.mean(precision):.4f} ± {np.std(precision, ddof=1):.4f}  \"\n",
    "      f\"{np.mean(recall):.4f} ± {np.std(recall, ddof=1):.4f}\")\n",
    "\n",
    "    # print(\"---Accu-----pre----rec---------->\",np.mean(ttlal),'±',np.std(ttlal, ddof=1), np.mean(precision),'±',np.std(precision, ddof=1),np.mean(precision),'±',np.std(precision, ddof=1),)\n",
    "# %%%%%%\n",
    "\n",
    "def evaluate3(fname,data_loader, model, criterion=nn.CrossEntropyLoss()):\n",
    "    total_predictions = 0\n",
    "    correct_predictions = 0\n",
    "    total_loss = 0.0\n",
    "    accuracy = 0\n",
    "    datta = \"\"\n",
    "    model.eval()\n",
    "    tlv_cls=0\n",
    "    ttla=0\n",
    "    ttlac=0\n",
    "    with torch.no_grad():\n",
    "        for episode in range(len(clss_5)):\n",
    "            support_set, query_set = data_loader.__getitem__(clss_5[tlv_cls] , clss_support_imagesss_5_shot[tlv_cls])\n",
    "\n",
    "            \n",
    "            clssa=str(clss_5[tlv_cls])\n",
    "            clss=str(clssa).replace(',',' ').replace('\\'',' ').replace('\\'',' ')\n",
    "            msg=str(clss_support_imagesss_5_shot[tlv_cls])\n",
    "            str(clss_5[tlv_cls])\n",
    "\n",
    "            tlv_cls+=1\n",
    "            # print(len(support_set),len(query_set))\n",
    "            support_set = [(torch.stack(images).to(device), label[0]) for images, label in support_set]\n",
    "            query_set = [(torch.stack(images).to(device), label) for images, label in query_set]\n",
    "\n",
    "            support_images, support_labels = zip(*support_set)\n",
    "\n",
    "            query_images, query_labels = zip(*query_set)\n",
    "\n",
    "            classification_scores = model(support_images, support_labels, query_images)\n",
    "            cortt = 0\n",
    "            totl = 0\n",
    "            confusion_mat=None\n",
    "            all_predicted_labels = []\n",
    "            all_actual_labels = []\n",
    "            # print(len(classification_scores),len(query_labels))\n",
    "            for ei in range(len(classification_scores)):\n",
    "                classification_scores_each_class = classification_scores[ei]\n",
    "                # print(classification_scores_each_class)\n",
    "                predicted_labels_eachclas = torch.argmax(classification_scores_each_class, dim=1)\n",
    "                pp = predicted_labels_eachclas.tolist()\n",
    "                act = query_labels[ei]\n",
    "                all_predicted_labels.extend(pp)\n",
    "                all_actual_labels.extend(act)\n",
    "                for iiii in range(len(pp)):\n",
    "                    if pp[iiii] == act[iiii]:\n",
    "                        cortt = cortt + 1\n",
    "                totl = totl + len(pp)\n",
    "                # print(len(act))\n",
    "            accuracy = cortt / totl\n",
    "            ttla+=1\n",
    "            ttlac+=accuracy\n",
    "            # print(cortt , totl,\"Validation Accuracy:              \", cortt / totl)\n",
    "            # confusion_mat = confusion_matrix(all_actual_labels, all_predicted_labels)\n",
    "            # print(\"Confusion Matrix:\")\n",
    "            # print(confusion_mat)\n",
    "\n",
    "            # fname='./own35_mapi_5_way_1_shot'\n",
    "\n",
    "            # calculate_metrics_get_per(msg,confusion_mat,acciuracy=cortt / totl,cls=clss,flnm=fname)\n",
    "\n",
    "    print(\"---------------------->\",ttlac/ttla)\n",
    "    return ttlac/ttla"
   ]
  },
  {
   "cell_type": "code",
   "execution_count": 42,
   "metadata": {
    "scrolled": true
   },
   "outputs": [
    {
     "name": "stdout",
     "output_type": "stream",
     "text": [
      "Testing b_a_r = 0.7965, c_a_r = 0.1834, f_a_r = 0.7797\n"
     ]
    },
    {
     "name": "stderr",
     "output_type": "stream",
     "text": [
      "/home/asufian/.local/share/pipx/venvs/notebook/lib/python3.12/site-packages/torchvision/models/_utils.py:208: UserWarning: The parameter 'pretrained' is deprecated since 0.13 and may be removed in the future, please use 'weights' instead.\n",
      "  warnings.warn(\n",
      "/home/asufian/.local/share/pipx/venvs/notebook/lib/python3.12/site-packages/torchvision/models/_utils.py:223: UserWarning: Arguments other than a weight enum or `None` for 'weights' are deprecated since 0.13 and may be removed in the future. The current behavior is equivalent to passing `weights=None`.\n",
      "  warnings.warn(msg)\n"
     ]
    },
    {
     "name": "stdout",
     "output_type": "stream",
     "text": [
      "----------------------> 0.6562637362637361\n",
      "Evaluated Accuracy: 0.6563\n",
      "Testing b_a_r = 0.5969, c_a_r = 0.4458, f_a_r = 0.1000\n",
      "----------------------> 0.5157509157509158\n",
      "Evaluated Accuracy: 0.5158\n",
      "Testing b_a_r = 0.4592, c_a_r = 0.3337, f_a_r = 0.1429\n",
      "----------------------> 0.5284981684981686\n",
      "Evaluated Accuracy: 0.5285\n",
      "Testing b_a_r = 0.6509, c_a_r = 0.0564, f_a_r = 0.7220\n",
      "----------------------> 0.7717216117216118\n",
      "Evaluated Accuracy: 0.7717\n",
      "Testing b_a_r = 0.9386, c_a_r = 0.0008, f_a_r = 0.9922\n",
      "----------------------> 0.7601465201465202\n",
      "Evaluated Accuracy: 0.7601\n",
      "Testing b_a_r = 0.0250, c_a_r = 1.0000, f_a_r = 0.4630\n"
     ]
    },
    {
     "name": "stderr",
     "output_type": "stream",
     "text": [
      "/home/asufian/.local/share/pipx/venvs/notebook/lib/python3.12/site-packages/torchvision/models/_utils.py:208: UserWarning: The parameter 'pretrained' is deprecated since 0.13 and may be removed in the future, please use 'weights' instead.\n",
      "  warnings.warn(\n",
      "/home/asufian/.local/share/pipx/venvs/notebook/lib/python3.12/site-packages/torchvision/models/_utils.py:223: UserWarning: Arguments other than a weight enum or `None` for 'weights' are deprecated since 0.13 and may be removed in the future. The current behavior is equivalent to passing `weights=None`.\n",
      "  warnings.warn(msg)\n"
     ]
    },
    {
     "name": "stdout",
     "output_type": "stream",
     "text": [
      "----------------------> 0.44336996336996337\n",
      "Evaluated Accuracy: 0.4434\n",
      "Testing b_a_r = 0.0805, c_a_r = 0.7144, f_a_r = 0.7016\n"
     ]
    },
    {
     "name": "stderr",
     "output_type": "stream",
     "text": [
      "/home/asufian/.local/share/pipx/venvs/notebook/lib/python3.12/site-packages/torchvision/models/_utils.py:208: UserWarning: The parameter 'pretrained' is deprecated since 0.13 and may be removed in the future, please use 'weights' instead.\n",
      "  warnings.warn(\n",
      "/home/asufian/.local/share/pipx/venvs/notebook/lib/python3.12/site-packages/torchvision/models/_utils.py:223: UserWarning: Arguments other than a weight enum or `None` for 'weights' are deprecated since 0.13 and may be removed in the future. The current behavior is equivalent to passing `weights=None`.\n",
      "  warnings.warn(msg)\n"
     ]
    },
    {
     "name": "stdout",
     "output_type": "stream",
     "text": [
      "----------------------> 0.47311355311355313\n",
      "Evaluated Accuracy: 0.4731\n",
      "Testing b_a_r = 0.0000, c_a_r = 0.0000, f_a_r = 0.0000\n"
     ]
    },
    {
     "name": "stderr",
     "output_type": "stream",
     "text": [
      "/home/asufian/.local/share/pipx/venvs/notebook/lib/python3.12/site-packages/torchvision/models/_utils.py:208: UserWarning: The parameter 'pretrained' is deprecated since 0.13 and may be removed in the future, please use 'weights' instead.\n",
      "  warnings.warn(\n",
      "/home/asufian/.local/share/pipx/venvs/notebook/lib/python3.12/site-packages/torchvision/models/_utils.py:223: UserWarning: Arguments other than a weight enum or `None` for 'weights' are deprecated since 0.13 and may be removed in the future. The current behavior is equivalent to passing `weights=None`.\n",
      "  warnings.warn(msg)\n"
     ]
    },
    {
     "name": "stdout",
     "output_type": "stream",
     "text": [
      "----------------------> 0.7699633699633701\n",
      "Evaluated Accuracy: 0.7700\n",
      "Testing b_a_r = 0.0000, c_a_r = 0.0441, f_a_r = 0.0000\n"
     ]
    },
    {
     "name": "stderr",
     "output_type": "stream",
     "text": [
      "/home/asufian/.local/share/pipx/venvs/notebook/lib/python3.12/site-packages/torchvision/models/_utils.py:208: UserWarning: The parameter 'pretrained' is deprecated since 0.13 and may be removed in the future, please use 'weights' instead.\n",
      "  warnings.warn(\n",
      "/home/asufian/.local/share/pipx/venvs/notebook/lib/python3.12/site-packages/torchvision/models/_utils.py:223: UserWarning: Arguments other than a weight enum or `None` for 'weights' are deprecated since 0.13 and may be removed in the future. The current behavior is equivalent to passing `weights=None`.\n",
      "  warnings.warn(msg)\n"
     ]
    },
    {
     "name": "stdout",
     "output_type": "stream",
     "text": [
      "----------------------> 0.7598534798534798\n",
      "Evaluated Accuracy: 0.7599\n",
      "Testing b_a_r = 0.9995, c_a_r = 0.0000, f_a_r = 0.0823\n"
     ]
    },
    {
     "name": "stderr",
     "output_type": "stream",
     "text": [
      "/home/asufian/.local/share/pipx/venvs/notebook/lib/python3.12/site-packages/torchvision/models/_utils.py:208: UserWarning: The parameter 'pretrained' is deprecated since 0.13 and may be removed in the future, please use 'weights' instead.\n",
      "  warnings.warn(\n",
      "/home/asufian/.local/share/pipx/venvs/notebook/lib/python3.12/site-packages/torchvision/models/_utils.py:223: UserWarning: Arguments other than a weight enum or `None` for 'weights' are deprecated since 0.13 and may be removed in the future. The current behavior is equivalent to passing `weights=None`.\n",
      "  warnings.warn(msg)\n"
     ]
    },
    {
     "name": "stdout",
     "output_type": "stream",
     "text": [
      "----------------------> 0.7695238095238095\n",
      "Evaluated Accuracy: 0.7695\n",
      "Testing b_a_r = 0.1506, c_a_r = 0.0000, f_a_r = 0.9742\n"
     ]
    },
    {
     "name": "stderr",
     "output_type": "stream",
     "text": [
      "/home/asufian/.local/share/pipx/venvs/notebook/lib/python3.12/site-packages/torchvision/models/_utils.py:208: UserWarning: The parameter 'pretrained' is deprecated since 0.13 and may be removed in the future, please use 'weights' instead.\n",
      "  warnings.warn(\n",
      "/home/asufian/.local/share/pipx/venvs/notebook/lib/python3.12/site-packages/torchvision/models/_utils.py:223: UserWarning: Arguments other than a weight enum or `None` for 'weights' are deprecated since 0.13 and may be removed in the future. The current behavior is equivalent to passing `weights=None`.\n",
      "  warnings.warn(msg)\n"
     ]
    },
    {
     "name": "stdout",
     "output_type": "stream",
     "text": [
      "----------------------> 0.7550183150183152\n",
      "Evaluated Accuracy: 0.7550\n",
      "Testing b_a_r = 0.9253, c_a_r = 0.0472, f_a_r = 0.1644\n"
     ]
    },
    {
     "name": "stderr",
     "output_type": "stream",
     "text": [
      "/home/asufian/.local/share/pipx/venvs/notebook/lib/python3.12/site-packages/torchvision/models/_utils.py:208: UserWarning: The parameter 'pretrained' is deprecated since 0.13 and may be removed in the future, please use 'weights' instead.\n",
      "  warnings.warn(\n",
      "/home/asufian/.local/share/pipx/venvs/notebook/lib/python3.12/site-packages/torchvision/models/_utils.py:223: UserWarning: Arguments other than a weight enum or `None` for 'weights' are deprecated since 0.13 and may be removed in the future. The current behavior is equivalent to passing `weights=None`.\n",
      "  warnings.warn(msg)\n"
     ]
    },
    {
     "name": "stdout",
     "output_type": "stream",
     "text": [
      "----------------------> 0.7626373626373627\n",
      "Evaluated Accuracy: 0.7626\n",
      "Testing b_a_r = 1.0000, c_a_r = 0.0606, f_a_r = 1.0000\n"
     ]
    },
    {
     "name": "stderr",
     "output_type": "stream",
     "text": [
      "/home/asufian/.local/share/pipx/venvs/notebook/lib/python3.12/site-packages/torchvision/models/_utils.py:208: UserWarning: The parameter 'pretrained' is deprecated since 0.13 and may be removed in the future, please use 'weights' instead.\n",
      "  warnings.warn(\n",
      "/home/asufian/.local/share/pipx/venvs/notebook/lib/python3.12/site-packages/torchvision/models/_utils.py:223: UserWarning: Arguments other than a weight enum or `None` for 'weights' are deprecated since 0.13 and may be removed in the future. The current behavior is equivalent to passing `weights=None`.\n",
      "  warnings.warn(msg)\n"
     ]
    },
    {
     "name": "stdout",
     "output_type": "stream",
     "text": [
      "----------------------> 0.7418315018315019\n",
      "Evaluated Accuracy: 0.7418\n",
      "Testing b_a_r = 0.9675, c_a_r = 0.0000, f_a_r = 0.0000\n"
     ]
    },
    {
     "name": "stderr",
     "output_type": "stream",
     "text": [
      "/home/asufian/.local/share/pipx/venvs/notebook/lib/python3.12/site-packages/torchvision/models/_utils.py:208: UserWarning: The parameter 'pretrained' is deprecated since 0.13 and may be removed in the future, please use 'weights' instead.\n",
      "  warnings.warn(\n",
      "/home/asufian/.local/share/pipx/venvs/notebook/lib/python3.12/site-packages/torchvision/models/_utils.py:223: UserWarning: Arguments other than a weight enum or `None` for 'weights' are deprecated since 0.13 and may be removed in the future. The current behavior is equivalent to passing `weights=None`.\n",
      "  warnings.warn(msg)\n"
     ]
    },
    {
     "name": "stdout",
     "output_type": "stream",
     "text": [
      "----------------------> 0.7689377289377289\n",
      "Evaluated Accuracy: 0.7689\n",
      "Testing b_a_r = 0.5280, c_a_r = 0.0057, f_a_r = 0.0000\n"
     ]
    },
    {
     "name": "stderr",
     "output_type": "stream",
     "text": [
      "/home/asufian/.local/share/pipx/venvs/notebook/lib/python3.12/site-packages/torchvision/models/_utils.py:208: UserWarning: The parameter 'pretrained' is deprecated since 0.13 and may be removed in the future, please use 'weights' instead.\n",
      "  warnings.warn(\n",
      "/home/asufian/.local/share/pipx/venvs/notebook/lib/python3.12/site-packages/torchvision/models/_utils.py:223: UserWarning: Arguments other than a weight enum or `None` for 'weights' are deprecated since 0.13 and may be removed in the future. The current behavior is equivalent to passing `weights=None`.\n",
      "  warnings.warn(msg)\n"
     ]
    },
    {
     "name": "stdout",
     "output_type": "stream",
     "text": [
      "----------------------> 0.7696703296703298\n",
      "Evaluated Accuracy: 0.7697\n",
      "Testing b_a_r = 0.5546, c_a_r = 0.0008, f_a_r = 0.0389\n"
     ]
    },
    {
     "name": "stderr",
     "output_type": "stream",
     "text": [
      "/home/asufian/.local/share/pipx/venvs/notebook/lib/python3.12/site-packages/torchvision/models/_utils.py:208: UserWarning: The parameter 'pretrained' is deprecated since 0.13 and may be removed in the future, please use 'weights' instead.\n",
      "  warnings.warn(\n",
      "/home/asufian/.local/share/pipx/venvs/notebook/lib/python3.12/site-packages/torchvision/models/_utils.py:223: UserWarning: Arguments other than a weight enum or `None` for 'weights' are deprecated since 0.13 and may be removed in the future. The current behavior is equivalent to passing `weights=None`.\n",
      "  warnings.warn(msg)\n"
     ]
    },
    {
     "name": "stdout",
     "output_type": "stream",
     "text": [
      "----------------------> 0.7693772893772894\n",
      "Evaluated Accuracy: 0.7694\n",
      "Testing b_a_r = 1.0000, c_a_r = 0.0074, f_a_r = 0.6003\n"
     ]
    },
    {
     "name": "stderr",
     "output_type": "stream",
     "text": [
      "/home/asufian/.local/share/pipx/venvs/notebook/lib/python3.12/site-packages/torchvision/models/_utils.py:208: UserWarning: The parameter 'pretrained' is deprecated since 0.13 and may be removed in the future, please use 'weights' instead.\n",
      "  warnings.warn(\n",
      "/home/asufian/.local/share/pipx/venvs/notebook/lib/python3.12/site-packages/torchvision/models/_utils.py:223: UserWarning: Arguments other than a weight enum or `None` for 'weights' are deprecated since 0.13 and may be removed in the future. The current behavior is equivalent to passing `weights=None`.\n",
      "  warnings.warn(msg)\n"
     ]
    },
    {
     "name": "stdout",
     "output_type": "stream",
     "text": [
      "----------------------> 0.7868131868131869\n",
      "Evaluated Accuracy: 0.7868\n",
      "Testing b_a_r = 0.3300, c_a_r = 0.4728, f_a_r = 0.9978\n"
     ]
    },
    {
     "name": "stderr",
     "output_type": "stream",
     "text": [
      "/home/asufian/.local/share/pipx/venvs/notebook/lib/python3.12/site-packages/torchvision/models/_utils.py:208: UserWarning: The parameter 'pretrained' is deprecated since 0.13 and may be removed in the future, please use 'weights' instead.\n",
      "  warnings.warn(\n",
      "/home/asufian/.local/share/pipx/venvs/notebook/lib/python3.12/site-packages/torchvision/models/_utils.py:223: UserWarning: Arguments other than a weight enum or `None` for 'weights' are deprecated since 0.13 and may be removed in the future. The current behavior is equivalent to passing `weights=None`.\n",
      "  warnings.warn(msg)\n"
     ]
    },
    {
     "name": "stdout",
     "output_type": "stream",
     "text": [
      "----------------------> 0.5343589743589743\n",
      "Evaluated Accuracy: 0.5344\n",
      "Testing b_a_r = 0.0735, c_a_r = 0.0309, f_a_r = 0.4697\n"
     ]
    },
    {
     "name": "stderr",
     "output_type": "stream",
     "text": [
      "/home/asufian/.local/share/pipx/venvs/notebook/lib/python3.12/site-packages/torchvision/models/_utils.py:208: UserWarning: The parameter 'pretrained' is deprecated since 0.13 and may be removed in the future, please use 'weights' instead.\n",
      "  warnings.warn(\n",
      "/home/asufian/.local/share/pipx/venvs/notebook/lib/python3.12/site-packages/torchvision/models/_utils.py:223: UserWarning: Arguments other than a weight enum or `None` for 'weights' are deprecated since 0.13 and may be removed in the future. The current behavior is equivalent to passing `weights=None`.\n",
      "  warnings.warn(msg)\n"
     ]
    },
    {
     "name": "stdout",
     "output_type": "stream",
     "text": [
      "----------------------> 0.7733333333333334\n",
      "Evaluated Accuracy: 0.7733\n",
      "Testing b_a_r = 0.9041, c_a_r = 0.8139, f_a_r = 0.0020\n"
     ]
    },
    {
     "name": "stderr",
     "output_type": "stream",
     "text": [
      "/home/asufian/.local/share/pipx/venvs/notebook/lib/python3.12/site-packages/torchvision/models/_utils.py:208: UserWarning: The parameter 'pretrained' is deprecated since 0.13 and may be removed in the future, please use 'weights' instead.\n",
      "  warnings.warn(\n",
      "/home/asufian/.local/share/pipx/venvs/notebook/lib/python3.12/site-packages/torchvision/models/_utils.py:223: UserWarning: Arguments other than a weight enum or `None` for 'weights' are deprecated since 0.13 and may be removed in the future. The current behavior is equivalent to passing `weights=None`.\n",
      "  warnings.warn(msg)\n"
     ]
    },
    {
     "name": "stdout",
     "output_type": "stream",
     "text": [
      "----------------------> 0.3941391941391941\n",
      "Evaluated Accuracy: 0.3941\n",
      "Testing b_a_r = 0.6375, c_a_r = 0.9990, f_a_r = 0.9989\n"
     ]
    },
    {
     "name": "stderr",
     "output_type": "stream",
     "text": [
      "/home/asufian/.local/share/pipx/venvs/notebook/lib/python3.12/site-packages/torchvision/models/_utils.py:208: UserWarning: The parameter 'pretrained' is deprecated since 0.13 and may be removed in the future, please use 'weights' instead.\n",
      "  warnings.warn(\n",
      "/home/asufian/.local/share/pipx/venvs/notebook/lib/python3.12/site-packages/torchvision/models/_utils.py:223: UserWarning: Arguments other than a weight enum or `None` for 'weights' are deprecated since 0.13 and may be removed in the future. The current behavior is equivalent to passing `weights=None`.\n",
      "  warnings.warn(msg)\n"
     ]
    },
    {
     "name": "stdout",
     "output_type": "stream",
     "text": [
      "----------------------> 0.458021978021978\n",
      "Evaluated Accuracy: 0.4580\n",
      "Testing b_a_r = 0.7465, c_a_r = 0.0005, f_a_r = 0.7011\n"
     ]
    },
    {
     "name": "stderr",
     "output_type": "stream",
     "text": [
      "/home/asufian/.local/share/pipx/venvs/notebook/lib/python3.12/site-packages/torchvision/models/_utils.py:208: UserWarning: The parameter 'pretrained' is deprecated since 0.13 and may be removed in the future, please use 'weights' instead.\n",
      "  warnings.warn(\n",
      "/home/asufian/.local/share/pipx/venvs/notebook/lib/python3.12/site-packages/torchvision/models/_utils.py:223: UserWarning: Arguments other than a weight enum or `None` for 'weights' are deprecated since 0.13 and may be removed in the future. The current behavior is equivalent to passing `weights=None`.\n",
      "  warnings.warn(msg)\n"
     ]
    },
    {
     "name": "stdout",
     "output_type": "stream",
     "text": [
      "----------------------> 0.7915018315018315\n",
      "Evaluated Accuracy: 0.7915\n",
      "Testing b_a_r = 0.9609, c_a_r = 0.0080, f_a_r = 0.7996\n"
     ]
    },
    {
     "name": "stderr",
     "output_type": "stream",
     "text": [
      "/home/asufian/.local/share/pipx/venvs/notebook/lib/python3.12/site-packages/torchvision/models/_utils.py:208: UserWarning: The parameter 'pretrained' is deprecated since 0.13 and may be removed in the future, please use 'weights' instead.\n",
      "  warnings.warn(\n",
      "/home/asufian/.local/share/pipx/venvs/notebook/lib/python3.12/site-packages/torchvision/models/_utils.py:223: UserWarning: Arguments other than a weight enum or `None` for 'weights' are deprecated since 0.13 and may be removed in the future. The current behavior is equivalent to passing `weights=None`.\n",
      "  warnings.warn(msg)\n"
     ]
    },
    {
     "name": "stdout",
     "output_type": "stream",
     "text": [
      "----------------------> 0.7790476190476191\n",
      "Evaluated Accuracy: 0.7790\n",
      "Testing b_a_r = 0.0969, c_a_r = 0.0005, f_a_r = 0.5807\n"
     ]
    },
    {
     "name": "stderr",
     "output_type": "stream",
     "text": [
      "/home/asufian/.local/share/pipx/venvs/notebook/lib/python3.12/site-packages/torchvision/models/_utils.py:208: UserWarning: The parameter 'pretrained' is deprecated since 0.13 and may be removed in the future, please use 'weights' instead.\n",
      "  warnings.warn(\n",
      "/home/asufian/.local/share/pipx/venvs/notebook/lib/python3.12/site-packages/torchvision/models/_utils.py:223: UserWarning: Arguments other than a weight enum or `None` for 'weights' are deprecated since 0.13 and may be removed in the future. The current behavior is equivalent to passing `weights=None`.\n",
      "  warnings.warn(msg)\n"
     ]
    },
    {
     "name": "stdout",
     "output_type": "stream",
     "text": [
      "----------------------> 0.7844688644688645\n",
      "Evaluated Accuracy: 0.7845\n",
      "Testing b_a_r = 0.2821, c_a_r = 0.1492, f_a_r = 0.0063\n"
     ]
    },
    {
     "name": "stderr",
     "output_type": "stream",
     "text": [
      "/home/asufian/.local/share/pipx/venvs/notebook/lib/python3.12/site-packages/torchvision/models/_utils.py:208: UserWarning: The parameter 'pretrained' is deprecated since 0.13 and may be removed in the future, please use 'weights' instead.\n",
      "  warnings.warn(\n",
      "/home/asufian/.local/share/pipx/venvs/notebook/lib/python3.12/site-packages/torchvision/models/_utils.py:223: UserWarning: Arguments other than a weight enum or `None` for 'weights' are deprecated since 0.13 and may be removed in the future. The current behavior is equivalent to passing `weights=None`.\n",
      "  warnings.warn(msg)\n"
     ]
    },
    {
     "name": "stdout",
     "output_type": "stream",
     "text": [
      "----------------------> 0.6965567765567763\n",
      "Evaluated Accuracy: 0.6966\n",
      "Testing b_a_r = 0.9713, c_a_r = 0.0021, f_a_r = 0.4255\n"
     ]
    },
    {
     "name": "stderr",
     "output_type": "stream",
     "text": [
      "/home/asufian/.local/share/pipx/venvs/notebook/lib/python3.12/site-packages/torchvision/models/_utils.py:208: UserWarning: The parameter 'pretrained' is deprecated since 0.13 and may be removed in the future, please use 'weights' instead.\n",
      "  warnings.warn(\n",
      "/home/asufian/.local/share/pipx/venvs/notebook/lib/python3.12/site-packages/torchvision/models/_utils.py:223: UserWarning: Arguments other than a weight enum or `None` for 'weights' are deprecated since 0.13 and may be removed in the future. The current behavior is equivalent to passing `weights=None`.\n",
      "  warnings.warn(msg)\n"
     ]
    },
    {
     "name": "stdout",
     "output_type": "stream",
     "text": [
      "----------------------> 0.7771428571428571\n",
      "Evaluated Accuracy: 0.7771\n",
      "Testing b_a_r = 0.9981, c_a_r = 0.0980, f_a_r = 0.4525\n"
     ]
    },
    {
     "name": "stderr",
     "output_type": "stream",
     "text": [
      "/home/asufian/.local/share/pipx/venvs/notebook/lib/python3.12/site-packages/torchvision/models/_utils.py:208: UserWarning: The parameter 'pretrained' is deprecated since 0.13 and may be removed in the future, please use 'weights' instead.\n",
      "  warnings.warn(\n",
      "/home/asufian/.local/share/pipx/venvs/notebook/lib/python3.12/site-packages/torchvision/models/_utils.py:223: UserWarning: Arguments other than a weight enum or `None` for 'weights' are deprecated since 0.13 and may be removed in the future. The current behavior is equivalent to passing `weights=None`.\n",
      "  warnings.warn(msg)\n"
     ]
    },
    {
     "name": "stdout",
     "output_type": "stream",
     "text": [
      "----------------------> 0.7595604395604397\n",
      "Evaluated Accuracy: 0.7596\n",
      "Testing b_a_r = 0.1231, c_a_r = 0.6152, f_a_r = 0.0046\n"
     ]
    },
    {
     "name": "stderr",
     "output_type": "stream",
     "text": [
      "/home/asufian/.local/share/pipx/venvs/notebook/lib/python3.12/site-packages/torchvision/models/_utils.py:208: UserWarning: The parameter 'pretrained' is deprecated since 0.13 and may be removed in the future, please use 'weights' instead.\n",
      "  warnings.warn(\n",
      "/home/asufian/.local/share/pipx/venvs/notebook/lib/python3.12/site-packages/torchvision/models/_utils.py:223: UserWarning: Arguments other than a weight enum or `None` for 'weights' are deprecated since 0.13 and may be removed in the future. The current behavior is equivalent to passing `weights=None`.\n",
      "  warnings.warn(msg)\n"
     ]
    },
    {
     "name": "stdout",
     "output_type": "stream",
     "text": [
      "----------------------> 0.43443223443223444\n",
      "Evaluated Accuracy: 0.4344\n",
      "Testing b_a_r = 0.8269, c_a_r = 0.3131, f_a_r = 0.9945\n"
     ]
    },
    {
     "name": "stderr",
     "output_type": "stream",
     "text": [
      "/home/asufian/.local/share/pipx/venvs/notebook/lib/python3.12/site-packages/torchvision/models/_utils.py:208: UserWarning: The parameter 'pretrained' is deprecated since 0.13 and may be removed in the future, please use 'weights' instead.\n",
      "  warnings.warn(\n",
      "/home/asufian/.local/share/pipx/venvs/notebook/lib/python3.12/site-packages/torchvision/models/_utils.py:223: UserWarning: Arguments other than a weight enum or `None` for 'weights' are deprecated since 0.13 and may be removed in the future. The current behavior is equivalent to passing `weights=None`.\n",
      "  warnings.warn(msg)\n"
     ]
    },
    {
     "name": "stdout",
     "output_type": "stream",
     "text": [
      "----------------------> 0.5399267399267399\n",
      "Evaluated Accuracy: 0.5399\n",
      "Testing b_a_r = 0.7934, c_a_r = 0.8305, f_a_r = 0.9986\n"
     ]
    },
    {
     "name": "stderr",
     "output_type": "stream",
     "text": [
      "/home/asufian/.local/share/pipx/venvs/notebook/lib/python3.12/site-packages/torchvision/models/_utils.py:208: UserWarning: The parameter 'pretrained' is deprecated since 0.13 and may be removed in the future, please use 'weights' instead.\n",
      "  warnings.warn(\n",
      "/home/asufian/.local/share/pipx/venvs/notebook/lib/python3.12/site-packages/torchvision/models/_utils.py:223: UserWarning: Arguments other than a weight enum or `None` for 'weights' are deprecated since 0.13 and may be removed in the future. The current behavior is equivalent to passing `weights=None`.\n",
      "  warnings.warn(msg)\n"
     ]
    },
    {
     "name": "stdout",
     "output_type": "stream",
     "text": [
      "----------------------> 0.4704761904761906\n",
      "Evaluated Accuracy: 0.4705\n",
      "Testing b_a_r = 0.9937, c_a_r = 0.0357, f_a_r = 0.6109\n"
     ]
    },
    {
     "name": "stderr",
     "output_type": "stream",
     "text": [
      "/home/asufian/.local/share/pipx/venvs/notebook/lib/python3.12/site-packages/torchvision/models/_utils.py:208: UserWarning: The parameter 'pretrained' is deprecated since 0.13 and may be removed in the future, please use 'weights' instead.\n",
      "  warnings.warn(\n",
      "/home/asufian/.local/share/pipx/venvs/notebook/lib/python3.12/site-packages/torchvision/models/_utils.py:223: UserWarning: Arguments other than a weight enum or `None` for 'weights' are deprecated since 0.13 and may be removed in the future. The current behavior is equivalent to passing `weights=None`.\n",
      "  warnings.warn(msg)\n"
     ]
    },
    {
     "name": "stdout",
     "output_type": "stream",
     "text": [
      "----------------------> 0.77992673992674\n",
      "Evaluated Accuracy: 0.7799\n",
      "Testing b_a_r = 0.9908, c_a_r = 0.0003, f_a_r = 0.7087\n"
     ]
    },
    {
     "name": "stderr",
     "output_type": "stream",
     "text": [
      "/home/asufian/.local/share/pipx/venvs/notebook/lib/python3.12/site-packages/torchvision/models/_utils.py:208: UserWarning: The parameter 'pretrained' is deprecated since 0.13 and may be removed in the future, please use 'weights' instead.\n",
      "  warnings.warn(\n",
      "/home/asufian/.local/share/pipx/venvs/notebook/lib/python3.12/site-packages/torchvision/models/_utils.py:223: UserWarning: Arguments other than a weight enum or `None` for 'weights' are deprecated since 0.13 and may be removed in the future. The current behavior is equivalent to passing `weights=None`.\n",
      "  warnings.warn(msg)\n"
     ]
    },
    {
     "name": "stdout",
     "output_type": "stream",
     "text": [
      "----------------------> 0.7910622710622711\n",
      "Evaluated Accuracy: 0.7911\n",
      "Testing b_a_r = 0.9413, c_a_r = 0.6259, f_a_r = 0.9953\n"
     ]
    },
    {
     "name": "stderr",
     "output_type": "stream",
     "text": [
      "/home/asufian/.local/share/pipx/venvs/notebook/lib/python3.12/site-packages/torchvision/models/_utils.py:208: UserWarning: The parameter 'pretrained' is deprecated since 0.13 and may be removed in the future, please use 'weights' instead.\n",
      "  warnings.warn(\n",
      "/home/asufian/.local/share/pipx/venvs/notebook/lib/python3.12/site-packages/torchvision/models/_utils.py:223: UserWarning: Arguments other than a weight enum or `None` for 'weights' are deprecated since 0.13 and may be removed in the future. The current behavior is equivalent to passing `weights=None`.\n",
      "  warnings.warn(msg)\n"
     ]
    },
    {
     "name": "stdout",
     "output_type": "stream",
     "text": [
      "----------------------> 0.48586080586080593\n",
      "Evaluated Accuracy: 0.4859\n",
      "Testing b_a_r = 0.1012, c_a_r = 0.9968, f_a_r = 0.0043\n"
     ]
    },
    {
     "name": "stderr",
     "output_type": "stream",
     "text": [
      "/home/asufian/.local/share/pipx/venvs/notebook/lib/python3.12/site-packages/torchvision/models/_utils.py:208: UserWarning: The parameter 'pretrained' is deprecated since 0.13 and may be removed in the future, please use 'weights' instead.\n",
      "  warnings.warn(\n",
      "/home/asufian/.local/share/pipx/venvs/notebook/lib/python3.12/site-packages/torchvision/models/_utils.py:223: UserWarning: Arguments other than a weight enum or `None` for 'weights' are deprecated since 0.13 and may be removed in the future. The current behavior is equivalent to passing `weights=None`.\n",
      "  warnings.warn(msg)\n"
     ]
    },
    {
     "name": "stdout",
     "output_type": "stream",
     "text": [
      "----------------------> 0.37069597069597066\n",
      "Evaluated Accuracy: 0.3707\n",
      "Testing b_a_r = 0.0337, c_a_r = 0.0016, f_a_r = 0.6737\n"
     ]
    },
    {
     "name": "stderr",
     "output_type": "stream",
     "text": [
      "/home/asufian/.local/share/pipx/venvs/notebook/lib/python3.12/site-packages/torchvision/models/_utils.py:208: UserWarning: The parameter 'pretrained' is deprecated since 0.13 and may be removed in the future, please use 'weights' instead.\n",
      "  warnings.warn(\n",
      "/home/asufian/.local/share/pipx/venvs/notebook/lib/python3.12/site-packages/torchvision/models/_utils.py:223: UserWarning: Arguments other than a weight enum or `None` for 'weights' are deprecated since 0.13 and may be removed in the future. The current behavior is equivalent to passing `weights=None`.\n",
      "  warnings.warn(msg)\n"
     ]
    },
    {
     "name": "stdout",
     "output_type": "stream",
     "text": [
      "----------------------> 0.7912087912087913\n",
      "Evaluated Accuracy: 0.7912\n",
      "Testing b_a_r = 0.1563, c_a_r = 0.0001, f_a_r = 0.7175\n"
     ]
    },
    {
     "name": "stderr",
     "output_type": "stream",
     "text": [
      "/home/asufian/.local/share/pipx/venvs/notebook/lib/python3.12/site-packages/torchvision/models/_utils.py:208: UserWarning: The parameter 'pretrained' is deprecated since 0.13 and may be removed in the future, please use 'weights' instead.\n",
      "  warnings.warn(\n",
      "/home/asufian/.local/share/pipx/venvs/notebook/lib/python3.12/site-packages/torchvision/models/_utils.py:223: UserWarning: Arguments other than a weight enum or `None` for 'weights' are deprecated since 0.13 and may be removed in the future. The current behavior is equivalent to passing `weights=None`.\n",
      "  warnings.warn(msg)\n"
     ]
    },
    {
     "name": "stdout",
     "output_type": "stream",
     "text": [
      "----------------------> 0.7910622710622712\n",
      "Evaluated Accuracy: 0.7911\n",
      "Testing b_a_r = 0.1759, c_a_r = 0.0012, f_a_r = 0.2677\n"
     ]
    },
    {
     "name": "stderr",
     "output_type": "stream",
     "text": [
      "/home/asufian/.local/share/pipx/venvs/notebook/lib/python3.12/site-packages/torchvision/models/_utils.py:208: UserWarning: The parameter 'pretrained' is deprecated since 0.13 and may be removed in the future, please use 'weights' instead.\n",
      "  warnings.warn(\n",
      "/home/asufian/.local/share/pipx/venvs/notebook/lib/python3.12/site-packages/torchvision/models/_utils.py:223: UserWarning: Arguments other than a weight enum or `None` for 'weights' are deprecated since 0.13 and may be removed in the future. The current behavior is equivalent to passing `weights=None`.\n",
      "  warnings.warn(msg)\n"
     ]
    },
    {
     "name": "stdout",
     "output_type": "stream",
     "text": [
      "----------------------> 0.772893772893773\n",
      "Evaluated Accuracy: 0.7729\n",
      "Testing b_a_r = 0.0138, c_a_r = 0.1769, f_a_r = 0.3638\n"
     ]
    },
    {
     "name": "stderr",
     "output_type": "stream",
     "text": [
      "/home/asufian/.local/share/pipx/venvs/notebook/lib/python3.12/site-packages/torchvision/models/_utils.py:208: UserWarning: The parameter 'pretrained' is deprecated since 0.13 and may be removed in the future, please use 'weights' instead.\n",
      "  warnings.warn(\n",
      "/home/asufian/.local/share/pipx/venvs/notebook/lib/python3.12/site-packages/torchvision/models/_utils.py:223: UserWarning: Arguments other than a weight enum or `None` for 'weights' are deprecated since 0.13 and may be removed in the future. The current behavior is equivalent to passing `weights=None`.\n",
      "  warnings.warn(msg)\n"
     ]
    },
    {
     "name": "stdout",
     "output_type": "stream",
     "text": [
      "----------------------> 0.669157509157509\n",
      "Evaluated Accuracy: 0.6692\n",
      "Testing b_a_r = 0.0206, c_a_r = 0.0014, f_a_r = 0.7663\n"
     ]
    },
    {
     "name": "stderr",
     "output_type": "stream",
     "text": [
      "/home/asufian/.local/share/pipx/venvs/notebook/lib/python3.12/site-packages/torchvision/models/_utils.py:208: UserWarning: The parameter 'pretrained' is deprecated since 0.13 and may be removed in the future, please use 'weights' instead.\n",
      "  warnings.warn(\n",
      "/home/asufian/.local/share/pipx/venvs/notebook/lib/python3.12/site-packages/torchvision/models/_utils.py:223: UserWarning: Arguments other than a weight enum or `None` for 'weights' are deprecated since 0.13 and may be removed in the future. The current behavior is equivalent to passing `weights=None`.\n",
      "  warnings.warn(msg)\n"
     ]
    },
    {
     "name": "stdout",
     "output_type": "stream",
     "text": [
      "----------------------> 0.7831501831501833\n",
      "Evaluated Accuracy: 0.7832\n",
      "Testing b_a_r = 0.8903, c_a_r = 0.0012, f_a_r = 0.6566\n"
     ]
    },
    {
     "name": "stderr",
     "output_type": "stream",
     "text": [
      "/home/asufian/.local/share/pipx/venvs/notebook/lib/python3.12/site-packages/torchvision/models/_utils.py:208: UserWarning: The parameter 'pretrained' is deprecated since 0.13 and may be removed in the future, please use 'weights' instead.\n",
      "  warnings.warn(\n",
      "/home/asufian/.local/share/pipx/venvs/notebook/lib/python3.12/site-packages/torchvision/models/_utils.py:223: UserWarning: Arguments other than a weight enum or `None` for 'weights' are deprecated since 0.13 and may be removed in the future. The current behavior is equivalent to passing `weights=None`.\n",
      "  warnings.warn(msg)\n"
     ]
    },
    {
     "name": "stdout",
     "output_type": "stream",
     "text": [
      "----------------------> 0.7904761904761906\n",
      "Evaluated Accuracy: 0.7905\n",
      "Testing b_a_r = 0.9401, c_a_r = 0.5213, f_a_r = 0.5333\n"
     ]
    },
    {
     "name": "stderr",
     "output_type": "stream",
     "text": [
      "/home/asufian/.local/share/pipx/venvs/notebook/lib/python3.12/site-packages/torchvision/models/_utils.py:208: UserWarning: The parameter 'pretrained' is deprecated since 0.13 and may be removed in the future, please use 'weights' instead.\n",
      "  warnings.warn(\n",
      "/home/asufian/.local/share/pipx/venvs/notebook/lib/python3.12/site-packages/torchvision/models/_utils.py:223: UserWarning: Arguments other than a weight enum or `None` for 'weights' are deprecated since 0.13 and may be removed in the future. The current behavior is equivalent to passing `weights=None`.\n",
      "  warnings.warn(msg)\n"
     ]
    },
    {
     "name": "stdout",
     "output_type": "stream",
     "text": [
      "----------------------> 0.5006593406593407\n",
      "Evaluated Accuracy: 0.5007\n",
      "Testing b_a_r = 0.5842, c_a_r = 0.1392, f_a_r = 0.9979\n"
     ]
    },
    {
     "name": "stderr",
     "output_type": "stream",
     "text": [
      "/home/asufian/.local/share/pipx/venvs/notebook/lib/python3.12/site-packages/torchvision/models/_utils.py:208: UserWarning: The parameter 'pretrained' is deprecated since 0.13 and may be removed in the future, please use 'weights' instead.\n",
      "  warnings.warn(\n",
      "/home/asufian/.local/share/pipx/venvs/notebook/lib/python3.12/site-packages/torchvision/models/_utils.py:223: UserWarning: Arguments other than a weight enum or `None` for 'weights' are deprecated since 0.13 and may be removed in the future. The current behavior is equivalent to passing `weights=None`.\n",
      "  warnings.warn(msg)\n"
     ]
    },
    {
     "name": "stdout",
     "output_type": "stream",
     "text": [
      "----------------------> 0.681172161172161\n",
      "Evaluated Accuracy: 0.6812\n",
      "Testing b_a_r = 0.1036, c_a_r = 0.0003, f_a_r = 0.5777\n"
     ]
    },
    {
     "name": "stderr",
     "output_type": "stream",
     "text": [
      "/home/asufian/.local/share/pipx/venvs/notebook/lib/python3.12/site-packages/torchvision/models/_utils.py:208: UserWarning: The parameter 'pretrained' is deprecated since 0.13 and may be removed in the future, please use 'weights' instead.\n",
      "  warnings.warn(\n",
      "/home/asufian/.local/share/pipx/venvs/notebook/lib/python3.12/site-packages/torchvision/models/_utils.py:223: UserWarning: Arguments other than a weight enum or `None` for 'weights' are deprecated since 0.13 and may be removed in the future. The current behavior is equivalent to passing `weights=None`.\n",
      "  warnings.warn(msg)\n"
     ]
    },
    {
     "name": "stdout",
     "output_type": "stream",
     "text": [
      "----------------------> 0.7844688644688645\n",
      "Evaluated Accuracy: 0.7845\n",
      "Testing b_a_r = 0.0647, c_a_r = 0.1029, f_a_r = 0.5959\n"
     ]
    },
    {
     "name": "stderr",
     "output_type": "stream",
     "text": [
      "/home/asufian/.local/share/pipx/venvs/notebook/lib/python3.12/site-packages/torchvision/models/_utils.py:208: UserWarning: The parameter 'pretrained' is deprecated since 0.13 and may be removed in the future, please use 'weights' instead.\n",
      "  warnings.warn(\n",
      "/home/asufian/.local/share/pipx/venvs/notebook/lib/python3.12/site-packages/torchvision/models/_utils.py:223: UserWarning: Arguments other than a weight enum or `None` for 'weights' are deprecated since 0.13 and may be removed in the future. The current behavior is equivalent to passing `weights=None`.\n",
      "  warnings.warn(msg)\n"
     ]
    },
    {
     "name": "stdout",
     "output_type": "stream",
     "text": [
      "----------------------> 0.753846153846154\n",
      "Evaluated Accuracy: 0.7538\n",
      "Testing b_a_r = 0.0988, c_a_r = 0.0784, f_a_r = 0.3103\n"
     ]
    },
    {
     "name": "stderr",
     "output_type": "stream",
     "text": [
      "/home/asufian/.local/share/pipx/venvs/notebook/lib/python3.12/site-packages/torchvision/models/_utils.py:208: UserWarning: The parameter 'pretrained' is deprecated since 0.13 and may be removed in the future, please use 'weights' instead.\n",
      "  warnings.warn(\n",
      "/home/asufian/.local/share/pipx/venvs/notebook/lib/python3.12/site-packages/torchvision/models/_utils.py:223: UserWarning: Arguments other than a weight enum or `None` for 'weights' are deprecated since 0.13 and may be removed in the future. The current behavior is equivalent to passing `weights=None`.\n",
      "  warnings.warn(msg)\n"
     ]
    },
    {
     "name": "stdout",
     "output_type": "stream",
     "text": [
      "----------------------> 0.7558974358974359\n",
      "Evaluated Accuracy: 0.7559\n",
      "Testing b_a_r = 0.0352, c_a_r = 0.3601, f_a_r = 0.5816\n"
     ]
    },
    {
     "name": "stderr",
     "output_type": "stream",
     "text": [
      "/home/asufian/.local/share/pipx/venvs/notebook/lib/python3.12/site-packages/torchvision/models/_utils.py:208: UserWarning: The parameter 'pretrained' is deprecated since 0.13 and may be removed in the future, please use 'weights' instead.\n",
      "  warnings.warn(\n",
      "/home/asufian/.local/share/pipx/venvs/notebook/lib/python3.12/site-packages/torchvision/models/_utils.py:223: UserWarning: Arguments other than a weight enum or `None` for 'weights' are deprecated since 0.13 and may be removed in the future. The current behavior is equivalent to passing `weights=None`.\n",
      "  warnings.warn(msg)\n"
     ]
    },
    {
     "name": "stdout",
     "output_type": "stream",
     "text": [
      "----------------------> 0.6105494505494504\n",
      "Evaluated Accuracy: 0.6105\n",
      "Testing b_a_r = 0.9292, c_a_r = 0.8533, f_a_r = 0.5188\n"
     ]
    },
    {
     "name": "stderr",
     "output_type": "stream",
     "text": [
      "/home/asufian/.local/share/pipx/venvs/notebook/lib/python3.12/site-packages/torchvision/models/_utils.py:208: UserWarning: The parameter 'pretrained' is deprecated since 0.13 and may be removed in the future, please use 'weights' instead.\n",
      "  warnings.warn(\n",
      "/home/asufian/.local/share/pipx/venvs/notebook/lib/python3.12/site-packages/torchvision/models/_utils.py:223: UserWarning: Arguments other than a weight enum or `None` for 'weights' are deprecated since 0.13 and may be removed in the future. The current behavior is equivalent to passing `weights=None`.\n",
      "  warnings.warn(msg)\n"
     ]
    },
    {
     "name": "stdout",
     "output_type": "stream",
     "text": [
      "----------------------> 0.4603663003663004\n",
      "Evaluated Accuracy: 0.4604\n",
      "Testing b_a_r = 0.9798, c_a_r = 0.0304, f_a_r = 0.3037\n"
     ]
    },
    {
     "name": "stderr",
     "output_type": "stream",
     "text": [
      "/home/asufian/.local/share/pipx/venvs/notebook/lib/python3.12/site-packages/torchvision/models/_utils.py:208: UserWarning: The parameter 'pretrained' is deprecated since 0.13 and may be removed in the future, please use 'weights' instead.\n",
      "  warnings.warn(\n",
      "/home/asufian/.local/share/pipx/venvs/notebook/lib/python3.12/site-packages/torchvision/models/_utils.py:223: UserWarning: Arguments other than a weight enum or `None` for 'weights' are deprecated since 0.13 and may be removed in the future. The current behavior is equivalent to passing `weights=None`.\n",
      "  warnings.warn(msg)\n"
     ]
    },
    {
     "name": "stdout",
     "output_type": "stream",
     "text": [
      "----------------------> 0.7702564102564103\n",
      "Evaluated Accuracy: 0.7703\n",
      "Testing b_a_r = 0.0607, c_a_r = 0.0229, f_a_r = 0.7064\n"
     ]
    },
    {
     "name": "stderr",
     "output_type": "stream",
     "text": [
      "/home/asufian/.local/share/pipx/venvs/notebook/lib/python3.12/site-packages/torchvision/models/_utils.py:208: UserWarning: The parameter 'pretrained' is deprecated since 0.13 and may be removed in the future, please use 'weights' instead.\n",
      "  warnings.warn(\n",
      "/home/asufian/.local/share/pipx/venvs/notebook/lib/python3.12/site-packages/torchvision/models/_utils.py:223: UserWarning: Arguments other than a weight enum or `None` for 'weights' are deprecated since 0.13 and may be removed in the future. The current behavior is equivalent to passing `weights=None`.\n",
      "  warnings.warn(msg)\n"
     ]
    },
    {
     "name": "stdout",
     "output_type": "stream",
     "text": [
      "----------------------> 0.7830036630036631\n",
      "Evaluated Accuracy: 0.7830\n",
      "Testing b_a_r = 0.9222, c_a_r = 0.1076, f_a_r = 0.1195\n"
     ]
    },
    {
     "name": "stderr",
     "output_type": "stream",
     "text": [
      "/home/asufian/.local/share/pipx/venvs/notebook/lib/python3.12/site-packages/torchvision/models/_utils.py:208: UserWarning: The parameter 'pretrained' is deprecated since 0.13 and may be removed in the future, please use 'weights' instead.\n",
      "  warnings.warn(\n",
      "/home/asufian/.local/share/pipx/venvs/notebook/lib/python3.12/site-packages/torchvision/models/_utils.py:223: UserWarning: Arguments other than a weight enum or `None` for 'weights' are deprecated since 0.13 and may be removed in the future. The current behavior is equivalent to passing `weights=None`.\n",
      "  warnings.warn(msg)\n"
     ]
    },
    {
     "name": "stdout",
     "output_type": "stream",
     "text": [
      "----------------------> 0.7409523809523809\n",
      "Evaluated Accuracy: 0.7410\n",
      "\n",
      "✅ Optimal Values:\n",
      "   - b_a_r: 0.7465\n",
      "   - c_a_r: 0.0005\n",
      "   - f_a_r: 0.7011\n",
      "📈 Highest Accuracy Achieved: 0.7915\n"
     ]
    }
   ],
   "source": [
    "import numpy as np\n",
    "import torch\n",
    "import matplotlib.pyplot as plt\n",
    "from skopt import gp_minimize\n",
    "from skopt.space import Real\n",
    "from skopt.utils import use_named_args\n",
    "from skopt.plots import plot_convergence\n",
    "\n",
    "# Device setup\n",
    "device = torch.device(\"cuda\" if torch.cuda.is_available() else \"cpu\")\n",
    "\n",
    "\n",
    "# Define the search space for b_a_r, c_a_r, and f_a_r\n",
    "search_space = [\n",
    "    Real(0.0, 1.0, name=\"b_a_r\"),\n",
    "    Real(0.0, 1.0, name=\"c_a_r\"),\n",
    "    Real(0.0, 1.0, name=\"f_a_r\")\n",
    "]\n",
    "\n",
    "# Define the objective function for Bayesian Optimization\n",
    "@use_named_args(search_space)\n",
    "def objective(b_a_r, c_a_r, f_a_r):\n",
    "    \"\"\"\n",
    "    Objective function to optimize the adaptation ratios.\n",
    "    It applies adaptation, evaluates the model, and returns the negative accuracy.\n",
    "    \"\"\"\n",
    "    accuracy = get_model_accuracy(b_a_r, c_a_r, f_a_r)\n",
    "    print(f\"Evaluated Accuracy: {accuracy:.4f}\")  # Debugging Output\n",
    "    \n",
    "    return -accuracy  # We minimize, so return negative accuracy\n",
    "\n",
    "# Perform Bayesian Optimization with additional settings\n",
    "search_iteration=50\n",
    "res = gp_minimize(\n",
    "    func=objective,\n",
    "    dimensions=search_space,\n",
    "    n_calls=search_iteration,               # Number of evaluations\n",
    "    n_initial_points=5,       # Initial random explorations before GP starts\n",
    "    acq_func=\"EI\",            # Acquisition function: Expected Improvement\n",
    "    random_state=42,          # Ensure reproducibility\n",
    "    n_jobs=-1,                # Parallel execution for faster optimization\n",
    ")\n",
    "\n",
    "# Extract optimal results\n",
    "optimal_b_a_r, optimal_c_a_r, optimal_f_a_r = res.x\n",
    "best_accuracy = -res.fun\n",
    "\n",
    "print(f\"\\n✅ Optimal Values:\")\n",
    "print(f\"   - b_a_r: {optimal_b_a_r:.4f}\")\n",
    "print(f\"   - c_a_r: {optimal_c_a_r:.4f}\")\n",
    "print(f\"   - f_a_r: {optimal_f_a_r:.4f}\")\n",
    "print(f\"📈 Highest Accuracy Achieved: {best_accuracy:.4f}\")\n",
    "\n",
    "\n"
   ]
  },
  {
   "cell_type": "code",
   "execution_count": 38,
   "metadata": {},
   "outputs": [],
   "source": [
    "# b_a_r: \n",
    "#    - c_a_r: \n",
    "#    - f_a_r: \n",
    "\n",
    "#  pt=20"
   ]
  },
  {
   "cell_type": "code",
   "execution_count": 43,
   "metadata": {},
   "outputs": [
    {
     "name": "stderr",
     "output_type": "stream",
     "text": [
      "/home/asufian/.local/share/pipx/venvs/notebook/lib/python3.12/site-packages/torchvision/models/_utils.py:208: UserWarning: The parameter 'pretrained' is deprecated since 0.13 and may be removed in the future, please use 'weights' instead.\n",
      "  warnings.warn(\n",
      "/home/asufian/.local/share/pipx/venvs/notebook/lib/python3.12/site-packages/torchvision/models/_utils.py:223: UserWarning: Arguments other than a weight enum or `None` for 'weights' are deprecated since 0.13 and may be removed in the future. The current behavior is equivalent to passing `weights=None`.\n",
      "  warnings.warn(msg)\n"
     ]
    },
    {
     "name": "stdout",
     "output_type": "stream",
     "text": [
      "---Accu-----pre----rec---------> 0.7700 ± 0.0453  0.7766 ± 0.0437  0.7700 ± 0.0453\n"
     ]
    },
    {
     "name": "stderr",
     "output_type": "stream",
     "text": [
      "/home/asufian/.local/share/pipx/venvs/notebook/lib/python3.12/site-packages/torchvision/models/_utils.py:208: UserWarning: The parameter 'pretrained' is deprecated since 0.13 and may be removed in the future, please use 'weights' instead.\n",
      "  warnings.warn(\n",
      "/home/asufian/.local/share/pipx/venvs/notebook/lib/python3.12/site-packages/torchvision/models/_utils.py:223: UserWarning: Arguments other than a weight enum or `None` for 'weights' are deprecated since 0.13 and may be removed in the future. The current behavior is equivalent to passing `weights=None`.\n",
      "  warnings.warn(msg)\n"
     ]
    },
    {
     "name": "stdout",
     "output_type": "stream",
     "text": [
      "---Accu-----pre----rec---------> 0.5626 ± 0.0760  0.5757 ± 0.0748  0.5626 ± 0.0760\n",
      "---Accu-----pre----rec---------> 0.7915 ± 0.0375  0.7980 ± 0.0378  0.7915 ± 0.0375\n"
     ]
    }
   ],
   "source": [
    "\n",
    "convolutional_network_with_dropout =  ResNet18WithDropout(pretrained=False, dr=0.0)\n",
    "convolutional_network_with_dropout.fc = nn.Flatten()\n",
    "\n",
    "xyz = convolutional_network_with_dropout\n",
    "M3 = PrototypicalNetworks_dynamic_query(xyz).to(device)\n",
    "M3.load_state_dict(torch.load('model_own_path.pt'))\n",
    "evaluate2('/home/asufian/Desktop/output_mapii/result_ressnet/base/5_w_5_s_f', test_loader, M3, criterion)\n",
    "# Load Model M2\n",
    "convolutional_network_with_dropout =  ResNet18WithDropout(pretrained=False, dr=0.0)\n",
    "convolutional_network_with_dropout.fc = nn.Flatten()\n",
    "\n",
    "xyz2 = convolutional_network_with_dropout\n",
    "M2 = PrototypicalNetworks_dynamic_query(xyz2).to(device)\n",
    "M2.load_state_dict(torch.load('model_mu_path.pt'))\n",
    "evaluate2(\"/home/asufian/Desktop/output_mapii/result_ressnet/secondary/5_w_5_s_f\", test_loader, M2, criterion)\n",
    "# Update Model M3's weights using a weighted combination of Model M3 and Model M2\n",
    "update_model_weights2(M3, M2, conv_ratio= optimal_c_a_r , fc_ratio=optimal_f_a_r , bias_ratio=optimal_b_a_r)\n",
    "\n",
    "# Assuming you have the evaluate2 function defined\n",
    "# Evaluate the updated model (M3) using evaluate2 function with some arguments\n",
    "evaluate2(\"/home/asufian/Desktop/output_mapii/result_ressnet/amul/5_w_5_s_f\", test_loader, M3, criterion)\n",
    "\n",
    "\n",
    "\n",
    "\n",
    "# Assuming you have the evaluate2 function defined\n",
    "# Evaluate the updated model (M3) using evaluate2 function with some arguments\n",
    "# evaluate3(pp+'/_mapi_5-wau-1-shot_matchine_unlearning_own', test_loader, M3, criterion)"
   ]
  },
  {
   "cell_type": "code",
   "execution_count": 40,
   "metadata": {},
   "outputs": [
    {
     "name": "stdout",
     "output_type": "stream",
     "text": [
      "ls: cannot access '/home/asufian/Desktop/output_olchiki/code/mapi/model_10': No such file or directory\n"
     ]
    }
   ],
   "source": [
    "!ls /home/asufian/Desktop/output_olchiki/code/mapi/model_10"
   ]
  },
  {
   "cell_type": "code",
   "execution_count": 44,
   "metadata": {},
   "outputs": [
    {
     "name": "stderr",
     "output_type": "stream",
     "text": [
      "/home/asufian/.local/share/pipx/venvs/notebook/lib/python3.12/site-packages/torchvision/models/_utils.py:208: UserWarning: The parameter 'pretrained' is deprecated since 0.13 and may be removed in the future, please use 'weights' instead.\n",
      "  warnings.warn(\n",
      "/home/asufian/.local/share/pipx/venvs/notebook/lib/python3.12/site-packages/torchvision/models/_utils.py:223: UserWarning: Arguments other than a weight enum or `None` for 'weights' are deprecated since 0.13 and may be removed in the future. The current behavior is equivalent to passing `weights=None`.\n",
      "  warnings.warn(msg)\n"
     ]
    }
   ],
   "source": [
    "device = torch.device(\"cuda\" if torch.cuda.is_available() else \"cpu\")\n",
    "\n",
    "\n",
    "\n",
    "!rm model_mu_path.pt\n",
    "!rm model_own_path.pt\n",
    "\n",
    "convolutional_network_with_dropout =  ResNet18WithDropout(pretrained=False, dr=0.0)\n",
    "convolutional_network_with_dropout.fc = nn.Flatten()\n",
    "\n",
    "model_own = PrototypicalNetworks_dynamic_query(convolutional_network_with_dropout).to(device)\n",
    "model_own.load_state_dict(torch.load('/home/asufian/Desktop/output_olchiki/code/modelr_res18.pth',map_location=torch.device('cpu')))\n",
    "\n",
    "\n",
    "convolutional_network_with_dropout =  ResNet18WithDropout(pretrained=False, dr=0.0)\n",
    "convolutional_network_with_dropout.fc = nn.Flatten()\n",
    "\n",
    "model_own_1_shot = PrototypicalNetworks_dynamic_query(convolutional_network_with_dropout).to(device)\n",
    "model_own_1_shot.load_state_dict(torch.load('/home/asufian/Desktop/output_olchiki/code/mapi_sce/ressecondary/model_10/model_B_mapi_10-shot_res.pth',map_location=torch.device('cpu')))\n",
    "torch.save(model_own_1_shot.state_dict(), 'model_mu_path.pt')\n",
    "torch.save(model_own.state_dict(), 'model_own_path.pt')"
   ]
  },
  {
   "cell_type": "code",
   "execution_count": null,
   "metadata": {},
   "outputs": [],
   "source": []
  },
  {
   "cell_type": "code",
   "execution_count": 45,
   "metadata": {},
   "outputs": [],
   "source": [
    "\n",
    "\n",
    "def evaluate2(fname,data_loader, model, criterion=nn.CrossEntropyLoss()):\n",
    "    total_predictions = 0\n",
    "    correct_predictions = 0\n",
    "    total_loss = 0.0\n",
    "    accuracy = 0\n",
    "    datta = \"\"\n",
    "    model.eval()\n",
    "    tlv_cls=0\n",
    "    ttla=0\n",
    "    ttlal=[]\n",
    "    ttlac=0\n",
    "    precision=[]\n",
    "    recall=[]\n",
    "    \n",
    "    with torch.no_grad():\n",
    "        for episode in range(len(clss_5)):\n",
    "            support_set, query_set = data_loader.__getitem__(clss_5[tlv_cls] , clss_support_imagesss_10_shot[tlv_cls])\n",
    "\n",
    "           \n",
    "            clssa=str(clss_5[tlv_cls])\n",
    "            clss=str(clssa).replace(',',' ').replace('\\'',' ').replace('\\'',' ')\n",
    "            msg=str(clss_support_imagesss_10_shot[tlv_cls])\n",
    "            str(clss_5[tlv_cls])\n",
    "\n",
    "            tlv_cls+=1\n",
    "            # print(len(support_set),len(query_set))\n",
    "            support_set = [(torch.stack(images).to(device), label[0]) for images, label in support_set]\n",
    "            query_set = [(torch.stack(images).to(device), label) for images, label in query_set]\n",
    "\n",
    "            support_images, support_labels = zip(*support_set)\n",
    "\n",
    "            query_images, query_labels = zip(*query_set)\n",
    "\n",
    "            classification_scores = model(support_images, support_labels, query_images)\n",
    "            cortt = 0\n",
    "            totl = 0\n",
    "            confusion_mat=None\n",
    "            all_predicted_labels = []\n",
    "            all_actual_labels = []\n",
    "            # print(len(classification_scores),len(query_labels))\n",
    "            for ei in range(len(classification_scores)):\n",
    "                classification_scores_each_class = classification_scores[ei]\n",
    "                # print(classification_scores_each_class)\n",
    "                predicted_labels_eachclas = torch.argmax(classification_scores_each_class, dim=1)\n",
    "                pp = predicted_labels_eachclas.tolist()\n",
    "                act = query_labels[ei]\n",
    "                all_predicted_labels.extend(pp)\n",
    "                all_actual_labels.extend(act)\n",
    "                for iiii in range(len(pp)):\n",
    "                    if pp[iiii] == act[iiii]:\n",
    "                        cortt = cortt + 1\n",
    "                totl = totl + len(pp)\n",
    "                # print(len(act))\n",
    "            accuracy = cortt / totl\n",
    "            ttla+=1\n",
    "            ttlac+=accuracy\n",
    "            ttlal.append(accuracy)\n",
    "            # print(cortt , totl,\"Validation Accuracy:              \", cortt / totl)\n",
    "            confusion_mat = confusion_matrix(all_actual_labels, all_predicted_labels)\n",
    "            # print(\"Confusion Matrix:\")\n",
    "            # print(confusion_mat)\n",
    "\n",
    "            # fname='./own35_mapi_5_way_1_shot'\n",
    "\n",
    "            precision_overall, recall_overall, f1ss= calculate_metrics_get_per(msg,confusion_mat,acciuracy=cortt / totl,cls=clss,flnm=fname)\n",
    "            precision.append(precision_overall)\n",
    "            recall.append(recall_overall)\n",
    "    print(f\"---Accu-----pre----rec---------> {np.mean(ttlal):.4f} ± {np.std(ttlal, ddof=1):.4f}  \"\n",
    "      f\"{np.mean(precision):.4f} ± {np.std(precision, ddof=1):.4f}  \"\n",
    "      f\"{np.mean(recall):.4f} ± {np.std(recall, ddof=1):.4f}\")\n",
    "\n",
    "    # print(\"---Accu-----pre----rec---------->\",np.mean(ttlal),'±',np.std(ttlal, ddof=1), np.mean(precision),'±',np.std(precision, ddof=1),np.mean(precision),'±',np.std(precision, ddof=1),)\n",
    "# %%%%%%\n",
    "\n",
    "def evaluate3(fname,data_loader, model, criterion=nn.CrossEntropyLoss()):\n",
    "    total_predictions = 0\n",
    "    correct_predictions = 0\n",
    "    total_loss = 0.0\n",
    "    accuracy = 0\n",
    "    datta = \"\"\n",
    "    model.eval()\n",
    "    tlv_cls=0\n",
    "    ttla=0\n",
    "    ttlac=0\n",
    "    with torch.no_grad():\n",
    "        for episode in range(len(clss_5)):\n",
    "            support_set, query_set = data_loader.__getitem__(clss_5[tlv_cls] , clss_support_imagesss_10_shot[tlv_cls])\n",
    "\n",
    "            \n",
    "            clssa=str(clss_5[tlv_cls])\n",
    "            clss=str(clssa).replace(',',' ').replace('\\'',' ').replace('\\'',' ')\n",
    "            msg=str(clss_support_imagesss_10_shot[tlv_cls])\n",
    "            str(clss_5[tlv_cls])\n",
    "\n",
    "            tlv_cls+=1\n",
    "            # print(len(support_set),len(query_set))\n",
    "            support_set = [(torch.stack(images).to(device), label[0]) for images, label in support_set]\n",
    "            query_set = [(torch.stack(images).to(device), label) for images, label in query_set]\n",
    "\n",
    "            support_images, support_labels = zip(*support_set)\n",
    "\n",
    "            query_images, query_labels = zip(*query_set)\n",
    "\n",
    "            classification_scores = model(support_images, support_labels, query_images)\n",
    "            cortt = 0\n",
    "            totl = 0\n",
    "            confusion_mat=None\n",
    "            all_predicted_labels = []\n",
    "            all_actual_labels = []\n",
    "            # print(len(classification_scores),len(query_labels))\n",
    "            for ei in range(len(classification_scores)):\n",
    "                classification_scores_each_class = classification_scores[ei]\n",
    "                # print(classification_scores_each_class)\n",
    "                predicted_labels_eachclas = torch.argmax(classification_scores_each_class, dim=1)\n",
    "                pp = predicted_labels_eachclas.tolist()\n",
    "                act = query_labels[ei]\n",
    "                all_predicted_labels.extend(pp)\n",
    "                all_actual_labels.extend(act)\n",
    "                for iiii in range(len(pp)):\n",
    "                    if pp[iiii] == act[iiii]:\n",
    "                        cortt = cortt + 1\n",
    "                totl = totl + len(pp)\n",
    "                # print(len(act))\n",
    "            accuracy = cortt / totl\n",
    "            ttla+=1\n",
    "            ttlac+=accuracy\n",
    "            # print(cortt , totl,\"Validation Accuracy:              \", cortt / totl)\n",
    "            # confusion_mat = confusion_matrix(all_actual_labels, all_predicted_labels)\n",
    "            # print(\"Confusion Matrix:\")\n",
    "            # print(confusion_mat)\n",
    "\n",
    "            # fname='./own35_mapi_5_way_1_shot'\n",
    "\n",
    "            # calculate_metrics_get_per(msg,confusion_mat,acciuracy=cortt / totl,cls=clss,flnm=fname)\n",
    "\n",
    "    print(\"---------------------->\",ttlac/ttla)\n",
    "    return ttlac/ttla"
   ]
  },
  {
   "cell_type": "code",
   "execution_count": null,
   "metadata": {},
   "outputs": [],
   "source": []
  },
  {
   "cell_type": "code",
   "execution_count": 46,
   "metadata": {
    "scrolled": true
   },
   "outputs": [
    {
     "name": "stdout",
     "output_type": "stream",
     "text": [
      "Testing b_a_r = 0.7965, c_a_r = 0.1834, f_a_r = 0.7797\n"
     ]
    },
    {
     "name": "stderr",
     "output_type": "stream",
     "text": [
      "/home/asufian/.local/share/pipx/venvs/notebook/lib/python3.12/site-packages/torchvision/models/_utils.py:208: UserWarning: The parameter 'pretrained' is deprecated since 0.13 and may be removed in the future, please use 'weights' instead.\n",
      "  warnings.warn(\n",
      "/home/asufian/.local/share/pipx/venvs/notebook/lib/python3.12/site-packages/torchvision/models/_utils.py:223: UserWarning: Arguments other than a weight enum or `None` for 'weights' are deprecated since 0.13 and may be removed in the future. The current behavior is equivalent to passing `weights=None`.\n",
      "  warnings.warn(msg)\n"
     ]
    },
    {
     "name": "stdout",
     "output_type": "stream",
     "text": [
      "----------------------> 0.7204651162790697\n",
      "Evaluated Accuracy: 0.7205\n",
      "Testing b_a_r = 0.5969, c_a_r = 0.4458, f_a_r = 0.1000\n",
      "----------------------> 0.36635658914728686\n",
      "Evaluated Accuracy: 0.3664\n",
      "Testing b_a_r = 0.4592, c_a_r = 0.3337, f_a_r = 0.1429\n",
      "----------------------> 0.43472868217054267\n",
      "Evaluated Accuracy: 0.4347\n",
      "Testing b_a_r = 0.6509, c_a_r = 0.0564, f_a_r = 0.7220\n",
      "----------------------> 0.8009302325581393\n",
      "Evaluated Accuracy: 0.8009\n",
      "Testing b_a_r = 0.9386, c_a_r = 0.0008, f_a_r = 0.9922\n",
      "----------------------> 0.7550387596899225\n",
      "Evaluated Accuracy: 0.7550\n",
      "Testing b_a_r = 0.0250, c_a_r = 1.0000, f_a_r = 0.4630\n"
     ]
    },
    {
     "name": "stderr",
     "output_type": "stream",
     "text": [
      "/home/asufian/.local/share/pipx/venvs/notebook/lib/python3.12/site-packages/torchvision/models/_utils.py:208: UserWarning: The parameter 'pretrained' is deprecated since 0.13 and may be removed in the future, please use 'weights' instead.\n",
      "  warnings.warn(\n",
      "/home/asufian/.local/share/pipx/venvs/notebook/lib/python3.12/site-packages/torchvision/models/_utils.py:223: UserWarning: Arguments other than a weight enum or `None` for 'weights' are deprecated since 0.13 and may be removed in the future. The current behavior is equivalent to passing `weights=None`.\n",
      "  warnings.warn(msg)\n"
     ]
    },
    {
     "name": "stdout",
     "output_type": "stream",
     "text": [
      "----------------------> 0.31720930232558137\n",
      "Evaluated Accuracy: 0.3172\n",
      "Testing b_a_r = 0.0000, c_a_r = 0.0000, f_a_r = 0.6826\n"
     ]
    },
    {
     "name": "stderr",
     "output_type": "stream",
     "text": [
      "/home/asufian/.local/share/pipx/venvs/notebook/lib/python3.12/site-packages/torchvision/models/_utils.py:208: UserWarning: The parameter 'pretrained' is deprecated since 0.13 and may be removed in the future, please use 'weights' instead.\n",
      "  warnings.warn(\n",
      "/home/asufian/.local/share/pipx/venvs/notebook/lib/python3.12/site-packages/torchvision/models/_utils.py:223: UserWarning: Arguments other than a weight enum or `None` for 'weights' are deprecated since 0.13 and may be removed in the future. The current behavior is equivalent to passing `weights=None`.\n",
      "  warnings.warn(msg)\n"
     ]
    },
    {
     "name": "stdout",
     "output_type": "stream",
     "text": [
      "----------------------> 0.8026356589147287\n",
      "Evaluated Accuracy: 0.8026\n",
      "Testing b_a_r = 1.0000, c_a_r = 0.0000, f_a_r = 0.7562\n"
     ]
    },
    {
     "name": "stderr",
     "output_type": "stream",
     "text": [
      "/home/asufian/.local/share/pipx/venvs/notebook/lib/python3.12/site-packages/torchvision/models/_utils.py:208: UserWarning: The parameter 'pretrained' is deprecated since 0.13 and may be removed in the future, please use 'weights' instead.\n",
      "  warnings.warn(\n",
      "/home/asufian/.local/share/pipx/venvs/notebook/lib/python3.12/site-packages/torchvision/models/_utils.py:223: UserWarning: Arguments other than a weight enum or `None` for 'weights' are deprecated since 0.13 and may be removed in the future. The current behavior is equivalent to passing `weights=None`.\n",
      "  warnings.warn(msg)\n"
     ]
    },
    {
     "name": "stdout",
     "output_type": "stream",
     "text": [
      "----------------------> 0.7981395348837209\n",
      "Evaluated Accuracy: 0.7981\n",
      "Testing b_a_r = 1.0000, c_a_r = 0.0000, f_a_r = 0.0000\n"
     ]
    },
    {
     "name": "stderr",
     "output_type": "stream",
     "text": [
      "/home/asufian/.local/share/pipx/venvs/notebook/lib/python3.12/site-packages/torchvision/models/_utils.py:208: UserWarning: The parameter 'pretrained' is deprecated since 0.13 and may be removed in the future, please use 'weights' instead.\n",
      "  warnings.warn(\n",
      "/home/asufian/.local/share/pipx/venvs/notebook/lib/python3.12/site-packages/torchvision/models/_utils.py:223: UserWarning: Arguments other than a weight enum or `None` for 'weights' are deprecated since 0.13 and may be removed in the future. The current behavior is equivalent to passing `weights=None`.\n",
      "  warnings.warn(msg)\n"
     ]
    },
    {
     "name": "stdout",
     "output_type": "stream",
     "text": [
      "----------------------> 0.7882170542635658\n",
      "Evaluated Accuracy: 0.7882\n",
      "Testing b_a_r = 1.0000, c_a_r = 0.0000, f_a_r = 0.4014\n"
     ]
    },
    {
     "name": "stderr",
     "output_type": "stream",
     "text": [
      "/home/asufian/.local/share/pipx/venvs/notebook/lib/python3.12/site-packages/torchvision/models/_utils.py:208: UserWarning: The parameter 'pretrained' is deprecated since 0.13 and may be removed in the future, please use 'weights' instead.\n",
      "  warnings.warn(\n",
      "/home/asufian/.local/share/pipx/venvs/notebook/lib/python3.12/site-packages/torchvision/models/_utils.py:223: UserWarning: Arguments other than a weight enum or `None` for 'weights' are deprecated since 0.13 and may be removed in the future. The current behavior is equivalent to passing `weights=None`.\n",
      "  warnings.warn(msg)\n"
     ]
    },
    {
     "name": "stdout",
     "output_type": "stream",
     "text": [
      "----------------------> 0.797674418604651\n",
      "Evaluated Accuracy: 0.7977\n",
      "Testing b_a_r = 1.0000, c_a_r = 0.0505, f_a_r = 0.5306\n"
     ]
    },
    {
     "name": "stderr",
     "output_type": "stream",
     "text": [
      "/home/asufian/.local/share/pipx/venvs/notebook/lib/python3.12/site-packages/torchvision/models/_utils.py:208: UserWarning: The parameter 'pretrained' is deprecated since 0.13 and may be removed in the future, please use 'weights' instead.\n",
      "  warnings.warn(\n",
      "/home/asufian/.local/share/pipx/venvs/notebook/lib/python3.12/site-packages/torchvision/models/_utils.py:223: UserWarning: Arguments other than a weight enum or `None` for 'weights' are deprecated since 0.13 and may be removed in the future. The current behavior is equivalent to passing `weights=None`.\n",
      "  warnings.warn(msg)\n"
     ]
    },
    {
     "name": "stdout",
     "output_type": "stream",
     "text": [
      "----------------------> 0.8091472868217053\n",
      "Evaluated Accuracy: 0.8091\n",
      "Testing b_a_r = 0.7991, c_a_r = 0.0787, f_a_r = 0.0000\n"
     ]
    },
    {
     "name": "stderr",
     "output_type": "stream",
     "text": [
      "/home/asufian/.local/share/pipx/venvs/notebook/lib/python3.12/site-packages/torchvision/models/_utils.py:208: UserWarning: The parameter 'pretrained' is deprecated since 0.13 and may be removed in the future, please use 'weights' instead.\n",
      "  warnings.warn(\n",
      "/home/asufian/.local/share/pipx/venvs/notebook/lib/python3.12/site-packages/torchvision/models/_utils.py:223: UserWarning: Arguments other than a weight enum or `None` for 'weights' are deprecated since 0.13 and may be removed in the future. The current behavior is equivalent to passing `weights=None`.\n",
      "  warnings.warn(msg)\n"
     ]
    },
    {
     "name": "stdout",
     "output_type": "stream",
     "text": [
      "----------------------> 0.7869767441860466\n",
      "Evaluated Accuracy: 0.7870\n",
      "Testing b_a_r = 0.8057, c_a_r = 0.6538, f_a_r = 1.0000\n"
     ]
    },
    {
     "name": "stderr",
     "output_type": "stream",
     "text": [
      "/home/asufian/.local/share/pipx/venvs/notebook/lib/python3.12/site-packages/torchvision/models/_utils.py:208: UserWarning: The parameter 'pretrained' is deprecated since 0.13 and may be removed in the future, please use 'weights' instead.\n",
      "  warnings.warn(\n",
      "/home/asufian/.local/share/pipx/venvs/notebook/lib/python3.12/site-packages/torchvision/models/_utils.py:223: UserWarning: Arguments other than a weight enum or `None` for 'weights' are deprecated since 0.13 and may be removed in the future. The current behavior is equivalent to passing `weights=None`.\n",
      "  warnings.warn(msg)\n"
     ]
    },
    {
     "name": "stdout",
     "output_type": "stream",
     "text": [
      "----------------------> 0.30000000000000004\n",
      "Evaluated Accuracy: 0.3000\n",
      "Testing b_a_r = 0.0000, c_a_r = 0.0984, f_a_r = 0.4132\n"
     ]
    },
    {
     "name": "stderr",
     "output_type": "stream",
     "text": [
      "/home/asufian/.local/share/pipx/venvs/notebook/lib/python3.12/site-packages/torchvision/models/_utils.py:208: UserWarning: The parameter 'pretrained' is deprecated since 0.13 and may be removed in the future, please use 'weights' instead.\n",
      "  warnings.warn(\n",
      "/home/asufian/.local/share/pipx/venvs/notebook/lib/python3.12/site-packages/torchvision/models/_utils.py:223: UserWarning: Arguments other than a weight enum or `None` for 'weights' are deprecated since 0.13 and may be removed in the future. The current behavior is equivalent to passing `weights=None`.\n",
      "  warnings.warn(msg)\n"
     ]
    },
    {
     "name": "stdout",
     "output_type": "stream",
     "text": [
      "----------------------> 0.7951937984496124\n",
      "Evaluated Accuracy: 0.7952\n",
      "Testing b_a_r = 0.0437, c_a_r = 0.0477, f_a_r = 0.2352\n"
     ]
    },
    {
     "name": "stderr",
     "output_type": "stream",
     "text": [
      "/home/asufian/.local/share/pipx/venvs/notebook/lib/python3.12/site-packages/torchvision/models/_utils.py:208: UserWarning: The parameter 'pretrained' is deprecated since 0.13 and may be removed in the future, please use 'weights' instead.\n",
      "  warnings.warn(\n",
      "/home/asufian/.local/share/pipx/venvs/notebook/lib/python3.12/site-packages/torchvision/models/_utils.py:223: UserWarning: Arguments other than a weight enum or `None` for 'weights' are deprecated since 0.13 and may be removed in the future. The current behavior is equivalent to passing `weights=None`.\n",
      "  warnings.warn(msg)\n"
     ]
    },
    {
     "name": "stdout",
     "output_type": "stream",
     "text": [
      "----------------------> 0.7965891472868217\n",
      "Evaluated Accuracy: 0.7966\n",
      "Testing b_a_r = 0.5582, c_a_r = 0.7756, f_a_r = 0.0030\n"
     ]
    },
    {
     "name": "stderr",
     "output_type": "stream",
     "text": [
      "/home/asufian/.local/share/pipx/venvs/notebook/lib/python3.12/site-packages/torchvision/models/_utils.py:208: UserWarning: The parameter 'pretrained' is deprecated since 0.13 and may be removed in the future, please use 'weights' instead.\n",
      "  warnings.warn(\n",
      "/home/asufian/.local/share/pipx/venvs/notebook/lib/python3.12/site-packages/torchvision/models/_utils.py:223: UserWarning: Arguments other than a weight enum or `None` for 'weights' are deprecated since 0.13 and may be removed in the future. The current behavior is equivalent to passing `weights=None`.\n",
      "  warnings.warn(msg)\n"
     ]
    },
    {
     "name": "stdout",
     "output_type": "stream",
     "text": [
      "----------------------> 0.3046511627906977\n",
      "Evaluated Accuracy: 0.3047\n",
      "Testing b_a_r = 0.1695, c_a_r = 0.3486, f_a_r = 0.9975\n"
     ]
    },
    {
     "name": "stderr",
     "output_type": "stream",
     "text": [
      "/home/asufian/.local/share/pipx/venvs/notebook/lib/python3.12/site-packages/torchvision/models/_utils.py:208: UserWarning: The parameter 'pretrained' is deprecated since 0.13 and may be removed in the future, please use 'weights' instead.\n",
      "  warnings.warn(\n",
      "/home/asufian/.local/share/pipx/venvs/notebook/lib/python3.12/site-packages/torchvision/models/_utils.py:223: UserWarning: Arguments other than a weight enum or `None` for 'weights' are deprecated since 0.13 and may be removed in the future. The current behavior is equivalent to passing `weights=None`.\n",
      "  warnings.warn(msg)\n"
     ]
    },
    {
     "name": "stdout",
     "output_type": "stream",
     "text": [
      "----------------------> 0.43968992248062017\n",
      "Evaluated Accuracy: 0.4397\n",
      "Testing b_a_r = 0.4788, c_a_r = 0.1084, f_a_r = 0.9976\n"
     ]
    },
    {
     "name": "stderr",
     "output_type": "stream",
     "text": [
      "/home/asufian/.local/share/pipx/venvs/notebook/lib/python3.12/site-packages/torchvision/models/_utils.py:208: UserWarning: The parameter 'pretrained' is deprecated since 0.13 and may be removed in the future, please use 'weights' instead.\n",
      "  warnings.warn(\n",
      "/home/asufian/.local/share/pipx/venvs/notebook/lib/python3.12/site-packages/torchvision/models/_utils.py:223: UserWarning: Arguments other than a weight enum or `None` for 'weights' are deprecated since 0.13 and may be removed in the future. The current behavior is equivalent to passing `weights=None`.\n",
      "  warnings.warn(msg)\n"
     ]
    },
    {
     "name": "stdout",
     "output_type": "stream",
     "text": [
      "----------------------> 0.7615503875968991\n",
      "Evaluated Accuracy: 0.7616\n",
      "Testing b_a_r = 0.0492, c_a_r = 0.0541, f_a_r = 0.0905\n"
     ]
    },
    {
     "name": "stderr",
     "output_type": "stream",
     "text": [
      "/home/asufian/.local/share/pipx/venvs/notebook/lib/python3.12/site-packages/torchvision/models/_utils.py:208: UserWarning: The parameter 'pretrained' is deprecated since 0.13 and may be removed in the future, please use 'weights' instead.\n",
      "  warnings.warn(\n",
      "/home/asufian/.local/share/pipx/venvs/notebook/lib/python3.12/site-packages/torchvision/models/_utils.py:223: UserWarning: Arguments other than a weight enum or `None` for 'weights' are deprecated since 0.13 and may be removed in the future. The current behavior is equivalent to passing `weights=None`.\n",
      "  warnings.warn(msg)\n"
     ]
    },
    {
     "name": "stdout",
     "output_type": "stream",
     "text": [
      "----------------------> 0.7924031007751936\n",
      "Evaluated Accuracy: 0.7924\n",
      "Testing b_a_r = 0.9728, c_a_r = 0.0906, f_a_r = 0.6195\n"
     ]
    },
    {
     "name": "stderr",
     "output_type": "stream",
     "text": [
      "/home/asufian/.local/share/pipx/venvs/notebook/lib/python3.12/site-packages/torchvision/models/_utils.py:208: UserWarning: The parameter 'pretrained' is deprecated since 0.13 and may be removed in the future, please use 'weights' instead.\n",
      "  warnings.warn(\n",
      "/home/asufian/.local/share/pipx/venvs/notebook/lib/python3.12/site-packages/torchvision/models/_utils.py:223: UserWarning: Arguments other than a weight enum or `None` for 'weights' are deprecated since 0.13 and may be removed in the future. The current behavior is equivalent to passing `weights=None`.\n",
      "  warnings.warn(msg)\n"
     ]
    },
    {
     "name": "stdout",
     "output_type": "stream",
     "text": [
      "----------------------> 0.8086821705426356\n",
      "Evaluated Accuracy: 0.8087\n",
      "Testing b_a_r = 0.2467, c_a_r = 0.9126, f_a_r = 0.9986\n"
     ]
    },
    {
     "name": "stderr",
     "output_type": "stream",
     "text": [
      "/home/asufian/.local/share/pipx/venvs/notebook/lib/python3.12/site-packages/torchvision/models/_utils.py:208: UserWarning: The parameter 'pretrained' is deprecated since 0.13 and may be removed in the future, please use 'weights' instead.\n",
      "  warnings.warn(\n",
      "/home/asufian/.local/share/pipx/venvs/notebook/lib/python3.12/site-packages/torchvision/models/_utils.py:223: UserWarning: Arguments other than a weight enum or `None` for 'weights' are deprecated since 0.13 and may be removed in the future. The current behavior is equivalent to passing `weights=None`.\n",
      "  warnings.warn(msg)\n"
     ]
    },
    {
     "name": "stdout",
     "output_type": "stream",
     "text": [
      "----------------------> 0.3103875968992248\n",
      "Evaluated Accuracy: 0.3104\n",
      "Testing b_a_r = 0.1309, c_a_r = 0.1568, f_a_r = 0.0053\n"
     ]
    },
    {
     "name": "stderr",
     "output_type": "stream",
     "text": [
      "/home/asufian/.local/share/pipx/venvs/notebook/lib/python3.12/site-packages/torchvision/models/_utils.py:208: UserWarning: The parameter 'pretrained' is deprecated since 0.13 and may be removed in the future, please use 'weights' instead.\n",
      "  warnings.warn(\n",
      "/home/asufian/.local/share/pipx/venvs/notebook/lib/python3.12/site-packages/torchvision/models/_utils.py:223: UserWarning: Arguments other than a weight enum or `None` for 'weights' are deprecated since 0.13 and may be removed in the future. The current behavior is equivalent to passing `weights=None`.\n",
      "  warnings.warn(msg)\n"
     ]
    },
    {
     "name": "stdout",
     "output_type": "stream",
     "text": [
      "----------------------> 0.751937984496124\n",
      "Evaluated Accuracy: 0.7519\n",
      "Testing b_a_r = 0.0292, c_a_r = 0.0437, f_a_r = 0.5255\n"
     ]
    },
    {
     "name": "stderr",
     "output_type": "stream",
     "text": [
      "/home/asufian/.local/share/pipx/venvs/notebook/lib/python3.12/site-packages/torchvision/models/_utils.py:208: UserWarning: The parameter 'pretrained' is deprecated since 0.13 and may be removed in the future, please use 'weights' instead.\n",
      "  warnings.warn(\n",
      "/home/asufian/.local/share/pipx/venvs/notebook/lib/python3.12/site-packages/torchvision/models/_utils.py:223: UserWarning: Arguments other than a weight enum or `None` for 'weights' are deprecated since 0.13 and may be removed in the future. The current behavior is equivalent to passing `weights=None`.\n",
      "  warnings.warn(msg)\n"
     ]
    },
    {
     "name": "stdout",
     "output_type": "stream",
     "text": [
      "----------------------> 0.8120930232558141\n",
      "Evaluated Accuracy: 0.8121\n",
      "Testing b_a_r = 0.0102, c_a_r = 0.0544, f_a_r = 0.5954\n"
     ]
    },
    {
     "name": "stderr",
     "output_type": "stream",
     "text": [
      "/home/asufian/.local/share/pipx/venvs/notebook/lib/python3.12/site-packages/torchvision/models/_utils.py:208: UserWarning: The parameter 'pretrained' is deprecated since 0.13 and may be removed in the future, please use 'weights' instead.\n",
      "  warnings.warn(\n",
      "/home/asufian/.local/share/pipx/venvs/notebook/lib/python3.12/site-packages/torchvision/models/_utils.py:223: UserWarning: Arguments other than a weight enum or `None` for 'weights' are deprecated since 0.13 and may be removed in the future. The current behavior is equivalent to passing `weights=None`.\n",
      "  warnings.warn(msg)\n"
     ]
    },
    {
     "name": "stdout",
     "output_type": "stream",
     "text": [
      "----------------------> 0.8136434108527132\n",
      "Evaluated Accuracy: 0.8136\n",
      "Testing b_a_r = 0.0145, c_a_r = 0.0941, f_a_r = 0.6418\n"
     ]
    },
    {
     "name": "stderr",
     "output_type": "stream",
     "text": [
      "/home/asufian/.local/share/pipx/venvs/notebook/lib/python3.12/site-packages/torchvision/models/_utils.py:208: UserWarning: The parameter 'pretrained' is deprecated since 0.13 and may be removed in the future, please use 'weights' instead.\n",
      "  warnings.warn(\n",
      "/home/asufian/.local/share/pipx/venvs/notebook/lib/python3.12/site-packages/torchvision/models/_utils.py:223: UserWarning: Arguments other than a weight enum or `None` for 'weights' are deprecated since 0.13 and may be removed in the future. The current behavior is equivalent to passing `weights=None`.\n",
      "  warnings.warn(msg)\n"
     ]
    },
    {
     "name": "stdout",
     "output_type": "stream",
     "text": [
      "----------------------> 0.8035658914728682\n",
      "Evaluated Accuracy: 0.8036\n",
      "Testing b_a_r = 0.0069, c_a_r = 0.0592, f_a_r = 0.0192\n"
     ]
    },
    {
     "name": "stderr",
     "output_type": "stream",
     "text": [
      "/home/asufian/.local/share/pipx/venvs/notebook/lib/python3.12/site-packages/torchvision/models/_utils.py:208: UserWarning: The parameter 'pretrained' is deprecated since 0.13 and may be removed in the future, please use 'weights' instead.\n",
      "  warnings.warn(\n",
      "/home/asufian/.local/share/pipx/venvs/notebook/lib/python3.12/site-packages/torchvision/models/_utils.py:223: UserWarning: Arguments other than a weight enum or `None` for 'weights' are deprecated since 0.13 and may be removed in the future. The current behavior is equivalent to passing `weights=None`.\n",
      "  warnings.warn(msg)\n"
     ]
    },
    {
     "name": "stdout",
     "output_type": "stream",
     "text": [
      "----------------------> 0.7920930232558139\n",
      "Evaluated Accuracy: 0.7921\n",
      "Testing b_a_r = 0.9458, c_a_r = 0.0228, f_a_r = 0.5856\n"
     ]
    },
    {
     "name": "stderr",
     "output_type": "stream",
     "text": [
      "/home/asufian/.local/share/pipx/venvs/notebook/lib/python3.12/site-packages/torchvision/models/_utils.py:208: UserWarning: The parameter 'pretrained' is deprecated since 0.13 and may be removed in the future, please use 'weights' instead.\n",
      "  warnings.warn(\n",
      "/home/asufian/.local/share/pipx/venvs/notebook/lib/python3.12/site-packages/torchvision/models/_utils.py:223: UserWarning: Arguments other than a weight enum or `None` for 'weights' are deprecated since 0.13 and may be removed in the future. The current behavior is equivalent to passing `weights=None`.\n",
      "  warnings.warn(msg)\n"
     ]
    },
    {
     "name": "stdout",
     "output_type": "stream",
     "text": [
      "----------------------> 0.8099224806201551\n",
      "Evaluated Accuracy: 0.8099\n",
      "Testing b_a_r = 0.9730, c_a_r = 0.0584, f_a_r = 0.4665\n"
     ]
    },
    {
     "name": "stderr",
     "output_type": "stream",
     "text": [
      "/home/asufian/.local/share/pipx/venvs/notebook/lib/python3.12/site-packages/torchvision/models/_utils.py:208: UserWarning: The parameter 'pretrained' is deprecated since 0.13 and may be removed in the future, please use 'weights' instead.\n",
      "  warnings.warn(\n",
      "/home/asufian/.local/share/pipx/venvs/notebook/lib/python3.12/site-packages/torchvision/models/_utils.py:223: UserWarning: Arguments other than a weight enum or `None` for 'weights' are deprecated since 0.13 and may be removed in the future. The current behavior is equivalent to passing `weights=None`.\n",
      "  warnings.warn(msg)\n"
     ]
    },
    {
     "name": "stdout",
     "output_type": "stream",
     "text": [
      "----------------------> 0.804186046511628\n",
      "Evaluated Accuracy: 0.8042\n",
      "Testing b_a_r = 0.0595, c_a_r = 0.0048, f_a_r = 0.5402\n"
     ]
    },
    {
     "name": "stderr",
     "output_type": "stream",
     "text": [
      "/home/asufian/.local/share/pipx/venvs/notebook/lib/python3.12/site-packages/torchvision/models/_utils.py:208: UserWarning: The parameter 'pretrained' is deprecated since 0.13 and may be removed in the future, please use 'weights' instead.\n",
      "  warnings.warn(\n",
      "/home/asufian/.local/share/pipx/venvs/notebook/lib/python3.12/site-packages/torchvision/models/_utils.py:223: UserWarning: Arguments other than a weight enum or `None` for 'weights' are deprecated since 0.13 and may be removed in the future. The current behavior is equivalent to passing `weights=None`.\n",
      "  warnings.warn(msg)\n"
     ]
    },
    {
     "name": "stdout",
     "output_type": "stream",
     "text": [
      "----------------------> 0.8088372093023256\n",
      "Evaluated Accuracy: 0.8088\n",
      "Testing b_a_r = 0.9211, c_a_r = 0.1522, f_a_r = 0.3751\n"
     ]
    },
    {
     "name": "stderr",
     "output_type": "stream",
     "text": [
      "/home/asufian/.local/share/pipx/venvs/notebook/lib/python3.12/site-packages/torchvision/models/_utils.py:208: UserWarning: The parameter 'pretrained' is deprecated since 0.13 and may be removed in the future, please use 'weights' instead.\n",
      "  warnings.warn(\n",
      "/home/asufian/.local/share/pipx/venvs/notebook/lib/python3.12/site-packages/torchvision/models/_utils.py:223: UserWarning: Arguments other than a weight enum or `None` for 'weights' are deprecated since 0.13 and may be removed in the future. The current behavior is equivalent to passing `weights=None`.\n",
      "  warnings.warn(msg)\n"
     ]
    },
    {
     "name": "stdout",
     "output_type": "stream",
     "text": [
      "----------------------> 0.7629457364341087\n",
      "Evaluated Accuracy: 0.7629\n",
      "Testing b_a_r = 0.1075, c_a_r = 0.0390, f_a_r = 0.6703\n"
     ]
    },
    {
     "name": "stderr",
     "output_type": "stream",
     "text": [
      "/home/asufian/.local/share/pipx/venvs/notebook/lib/python3.12/site-packages/torchvision/models/_utils.py:208: UserWarning: The parameter 'pretrained' is deprecated since 0.13 and may be removed in the future, please use 'weights' instead.\n",
      "  warnings.warn(\n",
      "/home/asufian/.local/share/pipx/venvs/notebook/lib/python3.12/site-packages/torchvision/models/_utils.py:223: UserWarning: Arguments other than a weight enum or `None` for 'weights' are deprecated since 0.13 and may be removed in the future. The current behavior is equivalent to passing `weights=None`.\n",
      "  warnings.warn(msg)\n"
     ]
    },
    {
     "name": "stdout",
     "output_type": "stream",
     "text": [
      "----------------------> 0.8083720930232557\n",
      "Evaluated Accuracy: 0.8084\n",
      "Testing b_a_r = 0.0055, c_a_r = 0.0055, f_a_r = 0.2272\n"
     ]
    },
    {
     "name": "stderr",
     "output_type": "stream",
     "text": [
      "/home/asufian/.local/share/pipx/venvs/notebook/lib/python3.12/site-packages/torchvision/models/_utils.py:208: UserWarning: The parameter 'pretrained' is deprecated since 0.13 and may be removed in the future, please use 'weights' instead.\n",
      "  warnings.warn(\n",
      "/home/asufian/.local/share/pipx/venvs/notebook/lib/python3.12/site-packages/torchvision/models/_utils.py:223: UserWarning: Arguments other than a weight enum or `None` for 'weights' are deprecated since 0.13 and may be removed in the future. The current behavior is equivalent to passing `weights=None`.\n",
      "  warnings.warn(msg)\n"
     ]
    },
    {
     "name": "stdout",
     "output_type": "stream",
     "text": [
      "----------------------> 0.7953488372093023\n",
      "Evaluated Accuracy: 0.7953\n",
      "Testing b_a_r = 0.0042, c_a_r = 0.0274, f_a_r = 0.5839\n"
     ]
    },
    {
     "name": "stderr",
     "output_type": "stream",
     "text": [
      "/home/asufian/.local/share/pipx/venvs/notebook/lib/python3.12/site-packages/torchvision/models/_utils.py:208: UserWarning: The parameter 'pretrained' is deprecated since 0.13 and may be removed in the future, please use 'weights' instead.\n",
      "  warnings.warn(\n",
      "/home/asufian/.local/share/pipx/venvs/notebook/lib/python3.12/site-packages/torchvision/models/_utils.py:223: UserWarning: Arguments other than a weight enum or `None` for 'weights' are deprecated since 0.13 and may be removed in the future. The current behavior is equivalent to passing `weights=None`.\n",
      "  warnings.warn(msg)\n"
     ]
    },
    {
     "name": "stdout",
     "output_type": "stream",
     "text": [
      "----------------------> 0.8124031007751937\n",
      "Evaluated Accuracy: 0.8124\n",
      "Testing b_a_r = 0.1012, c_a_r = 0.9968, f_a_r = 0.0043\n"
     ]
    },
    {
     "name": "stderr",
     "output_type": "stream",
     "text": [
      "/home/asufian/.local/share/pipx/venvs/notebook/lib/python3.12/site-packages/torchvision/models/_utils.py:208: UserWarning: The parameter 'pretrained' is deprecated since 0.13 and may be removed in the future, please use 'weights' instead.\n",
      "  warnings.warn(\n",
      "/home/asufian/.local/share/pipx/venvs/notebook/lib/python3.12/site-packages/torchvision/models/_utils.py:223: UserWarning: Arguments other than a weight enum or `None` for 'weights' are deprecated since 0.13 and may be removed in the future. The current behavior is equivalent to passing `weights=None`.\n",
      "  warnings.warn(msg)\n"
     ]
    },
    {
     "name": "stdout",
     "output_type": "stream",
     "text": [
      "----------------------> 0.3116279069767442\n",
      "Evaluated Accuracy: 0.3116\n",
      "Testing b_a_r = 0.0147, c_a_r = 0.1213, f_a_r = 0.7251\n"
     ]
    },
    {
     "name": "stderr",
     "output_type": "stream",
     "text": [
      "/home/asufian/.local/share/pipx/venvs/notebook/lib/python3.12/site-packages/torchvision/models/_utils.py:208: UserWarning: The parameter 'pretrained' is deprecated since 0.13 and may be removed in the future, please use 'weights' instead.\n",
      "  warnings.warn(\n",
      "/home/asufian/.local/share/pipx/venvs/notebook/lib/python3.12/site-packages/torchvision/models/_utils.py:223: UserWarning: Arguments other than a weight enum or `None` for 'weights' are deprecated since 0.13 and may be removed in the future. The current behavior is equivalent to passing `weights=None`.\n",
      "  warnings.warn(msg)\n"
     ]
    },
    {
     "name": "stdout",
     "output_type": "stream",
     "text": [
      "----------------------> 0.7844961240310078\n",
      "Evaluated Accuracy: 0.7845\n",
      "Testing b_a_r = 0.0320, c_a_r = 0.1090, f_a_r = 0.1493\n"
     ]
    },
    {
     "name": "stderr",
     "output_type": "stream",
     "text": [
      "/home/asufian/.local/share/pipx/venvs/notebook/lib/python3.12/site-packages/torchvision/models/_utils.py:208: UserWarning: The parameter 'pretrained' is deprecated since 0.13 and may be removed in the future, please use 'weights' instead.\n",
      "  warnings.warn(\n",
      "/home/asufian/.local/share/pipx/venvs/notebook/lib/python3.12/site-packages/torchvision/models/_utils.py:223: UserWarning: Arguments other than a weight enum or `None` for 'weights' are deprecated since 0.13 and may be removed in the future. The current behavior is equivalent to passing `weights=None`.\n",
      "  warnings.warn(msg)\n"
     ]
    },
    {
     "name": "stdout",
     "output_type": "stream",
     "text": [
      "----------------------> 0.7787596899224807\n",
      "Evaluated Accuracy: 0.7788\n",
      "Testing b_a_r = 0.6943, c_a_r = 0.6034, f_a_r = 0.0024\n"
     ]
    },
    {
     "name": "stderr",
     "output_type": "stream",
     "text": [
      "/home/asufian/.local/share/pipx/venvs/notebook/lib/python3.12/site-packages/torchvision/models/_utils.py:208: UserWarning: The parameter 'pretrained' is deprecated since 0.13 and may be removed in the future, please use 'weights' instead.\n",
      "  warnings.warn(\n",
      "/home/asufian/.local/share/pipx/venvs/notebook/lib/python3.12/site-packages/torchvision/models/_utils.py:223: UserWarning: Arguments other than a weight enum or `None` for 'weights' are deprecated since 0.13 and may be removed in the future. The current behavior is equivalent to passing `weights=None`.\n",
      "  warnings.warn(msg)\n"
     ]
    },
    {
     "name": "stdout",
     "output_type": "stream",
     "text": [
      "----------------------> 0.3238759689922481\n",
      "Evaluated Accuracy: 0.3239\n",
      "Testing b_a_r = 0.0551, c_a_r = 0.0320, f_a_r = 0.4757\n"
     ]
    },
    {
     "name": "stderr",
     "output_type": "stream",
     "text": [
      "/home/asufian/.local/share/pipx/venvs/notebook/lib/python3.12/site-packages/torchvision/models/_utils.py:208: UserWarning: The parameter 'pretrained' is deprecated since 0.13 and may be removed in the future, please use 'weights' instead.\n",
      "  warnings.warn(\n",
      "/home/asufian/.local/share/pipx/venvs/notebook/lib/python3.12/site-packages/torchvision/models/_utils.py:223: UserWarning: Arguments other than a weight enum or `None` for 'weights' are deprecated since 0.13 and may be removed in the future. The current behavior is equivalent to passing `weights=None`.\n",
      "  warnings.warn(msg)\n"
     ]
    },
    {
     "name": "stdout",
     "output_type": "stream",
     "text": [
      "----------------------> 0.809922480620155\n",
      "Evaluated Accuracy: 0.8099\n",
      "Testing b_a_r = 0.0136, c_a_r = 0.0634, f_a_r = 0.5927\n"
     ]
    },
    {
     "name": "stderr",
     "output_type": "stream",
     "text": [
      "/home/asufian/.local/share/pipx/venvs/notebook/lib/python3.12/site-packages/torchvision/models/_utils.py:208: UserWarning: The parameter 'pretrained' is deprecated since 0.13 and may be removed in the future, please use 'weights' instead.\n",
      "  warnings.warn(\n",
      "/home/asufian/.local/share/pipx/venvs/notebook/lib/python3.12/site-packages/torchvision/models/_utils.py:223: UserWarning: Arguments other than a weight enum or `None` for 'weights' are deprecated since 0.13 and may be removed in the future. The current behavior is equivalent to passing `weights=None`.\n",
      "  warnings.warn(msg)\n"
     ]
    },
    {
     "name": "stdout",
     "output_type": "stream",
     "text": [
      "----------------------> 0.8113178294573644\n",
      "Evaluated Accuracy: 0.8113\n",
      "Testing b_a_r = 0.8194, c_a_r = 0.1810, f_a_r = 0.9991\n"
     ]
    },
    {
     "name": "stderr",
     "output_type": "stream",
     "text": [
      "/home/asufian/.local/share/pipx/venvs/notebook/lib/python3.12/site-packages/torchvision/models/_utils.py:208: UserWarning: The parameter 'pretrained' is deprecated since 0.13 and may be removed in the future, please use 'weights' instead.\n",
      "  warnings.warn(\n",
      "/home/asufian/.local/share/pipx/venvs/notebook/lib/python3.12/site-packages/torchvision/models/_utils.py:223: UserWarning: Arguments other than a weight enum or `None` for 'weights' are deprecated since 0.13 and may be removed in the future. The current behavior is equivalent to passing `weights=None`.\n",
      "  warnings.warn(msg)\n"
     ]
    },
    {
     "name": "stdout",
     "output_type": "stream",
     "text": [
      "----------------------> 0.6951937984496123\n",
      "Evaluated Accuracy: 0.6952\n",
      "Testing b_a_r = 0.0222, c_a_r = 0.0467, f_a_r = 0.8442\n"
     ]
    },
    {
     "name": "stderr",
     "output_type": "stream",
     "text": [
      "/home/asufian/.local/share/pipx/venvs/notebook/lib/python3.12/site-packages/torchvision/models/_utils.py:208: UserWarning: The parameter 'pretrained' is deprecated since 0.13 and may be removed in the future, please use 'weights' instead.\n",
      "  warnings.warn(\n",
      "/home/asufian/.local/share/pipx/venvs/notebook/lib/python3.12/site-packages/torchvision/models/_utils.py:223: UserWarning: Arguments other than a weight enum or `None` for 'weights' are deprecated since 0.13 and may be removed in the future. The current behavior is equivalent to passing `weights=None`.\n",
      "  warnings.warn(msg)\n"
     ]
    },
    {
     "name": "stdout",
     "output_type": "stream",
     "text": [
      "----------------------> 0.7725581395348837\n",
      "Evaluated Accuracy: 0.7726\n",
      "Testing b_a_r = 0.5051, c_a_r = 0.4989, f_a_r = 0.9991\n"
     ]
    },
    {
     "name": "stderr",
     "output_type": "stream",
     "text": [
      "/home/asufian/.local/share/pipx/venvs/notebook/lib/python3.12/site-packages/torchvision/models/_utils.py:208: UserWarning: The parameter 'pretrained' is deprecated since 0.13 and may be removed in the future, please use 'weights' instead.\n",
      "  warnings.warn(\n",
      "/home/asufian/.local/share/pipx/venvs/notebook/lib/python3.12/site-packages/torchvision/models/_utils.py:223: UserWarning: Arguments other than a weight enum or `None` for 'weights' are deprecated since 0.13 and may be removed in the future. The current behavior is equivalent to passing `weights=None`.\n",
      "  warnings.warn(msg)\n"
     ]
    },
    {
     "name": "stdout",
     "output_type": "stream",
     "text": [
      "----------------------> 0.3043410852713178\n",
      "Evaluated Accuracy: 0.3043\n",
      "Testing b_a_r = 0.9908, c_a_r = 0.1195, f_a_r = 0.5469\n"
     ]
    },
    {
     "name": "stderr",
     "output_type": "stream",
     "text": [
      "/home/asufian/.local/share/pipx/venvs/notebook/lib/python3.12/site-packages/torchvision/models/_utils.py:208: UserWarning: The parameter 'pretrained' is deprecated since 0.13 and may be removed in the future, please use 'weights' instead.\n",
      "  warnings.warn(\n",
      "/home/asufian/.local/share/pipx/venvs/notebook/lib/python3.12/site-packages/torchvision/models/_utils.py:223: UserWarning: Arguments other than a weight enum or `None` for 'weights' are deprecated since 0.13 and may be removed in the future. The current behavior is equivalent to passing `weights=None`.\n",
      "  warnings.warn(msg)\n"
     ]
    },
    {
     "name": "stdout",
     "output_type": "stream",
     "text": [
      "----------------------> 0.7924031007751938\n",
      "Evaluated Accuracy: 0.7924\n",
      "Testing b_a_r = 0.9865, c_a_r = 0.1007, f_a_r = 0.7599\n"
     ]
    },
    {
     "name": "stderr",
     "output_type": "stream",
     "text": [
      "/home/asufian/.local/share/pipx/venvs/notebook/lib/python3.12/site-packages/torchvision/models/_utils.py:208: UserWarning: The parameter 'pretrained' is deprecated since 0.13 and may be removed in the future, please use 'weights' instead.\n",
      "  warnings.warn(\n",
      "/home/asufian/.local/share/pipx/venvs/notebook/lib/python3.12/site-packages/torchvision/models/_utils.py:223: UserWarning: Arguments other than a weight enum or `None` for 'weights' are deprecated since 0.13 and may be removed in the future. The current behavior is equivalent to passing `weights=None`.\n",
      "  warnings.warn(msg)\n"
     ]
    },
    {
     "name": "stdout",
     "output_type": "stream",
     "text": [
      "----------------------> 0.787751937984496\n",
      "Evaluated Accuracy: 0.7878\n",
      "Testing b_a_r = 0.0365, c_a_r = 0.7787, f_a_r = 0.5808\n"
     ]
    },
    {
     "name": "stderr",
     "output_type": "stream",
     "text": [
      "/home/asufian/.local/share/pipx/venvs/notebook/lib/python3.12/site-packages/torchvision/models/_utils.py:208: UserWarning: The parameter 'pretrained' is deprecated since 0.13 and may be removed in the future, please use 'weights' instead.\n",
      "  warnings.warn(\n",
      "/home/asufian/.local/share/pipx/venvs/notebook/lib/python3.12/site-packages/torchvision/models/_utils.py:223: UserWarning: Arguments other than a weight enum or `None` for 'weights' are deprecated since 0.13 and may be removed in the future. The current behavior is equivalent to passing `weights=None`.\n",
      "  warnings.warn(msg)\n"
     ]
    },
    {
     "name": "stdout",
     "output_type": "stream",
     "text": [
      "----------------------> 0.30542635658914724\n",
      "Evaluated Accuracy: 0.3054\n",
      "Testing b_a_r = 0.9956, c_a_r = 0.0008, f_a_r = 0.5586\n"
     ]
    },
    {
     "name": "stderr",
     "output_type": "stream",
     "text": [
      "/home/asufian/.local/share/pipx/venvs/notebook/lib/python3.12/site-packages/torchvision/models/_utils.py:208: UserWarning: The parameter 'pretrained' is deprecated since 0.13 and may be removed in the future, please use 'weights' instead.\n",
      "  warnings.warn(\n",
      "/home/asufian/.local/share/pipx/venvs/notebook/lib/python3.12/site-packages/torchvision/models/_utils.py:223: UserWarning: Arguments other than a weight enum or `None` for 'weights' are deprecated since 0.13 and may be removed in the future. The current behavior is equivalent to passing `weights=None`.\n",
      "  warnings.warn(msg)\n"
     ]
    },
    {
     "name": "stdout",
     "output_type": "stream",
     "text": [
      "----------------------> 0.8096124031007751\n",
      "Evaluated Accuracy: 0.8096\n",
      "Testing b_a_r = 0.9904, c_a_r = 0.0133, f_a_r = 0.1413\n"
     ]
    },
    {
     "name": "stderr",
     "output_type": "stream",
     "text": [
      "/home/asufian/.local/share/pipx/venvs/notebook/lib/python3.12/site-packages/torchvision/models/_utils.py:208: UserWarning: The parameter 'pretrained' is deprecated since 0.13 and may be removed in the future, please use 'weights' instead.\n",
      "  warnings.warn(\n",
      "/home/asufian/.local/share/pipx/venvs/notebook/lib/python3.12/site-packages/torchvision/models/_utils.py:223: UserWarning: Arguments other than a weight enum or `None` for 'weights' are deprecated since 0.13 and may be removed in the future. The current behavior is equivalent to passing `weights=None`.\n",
      "  warnings.warn(msg)\n"
     ]
    },
    {
     "name": "stdout",
     "output_type": "stream",
     "text": [
      "----------------------> 0.7903875968992248\n",
      "Evaluated Accuracy: 0.7904\n",
      "Testing b_a_r = 0.9632, c_a_r = 0.0288, f_a_r = 0.6375\n"
     ]
    },
    {
     "name": "stderr",
     "output_type": "stream",
     "text": [
      "/home/asufian/.local/share/pipx/venvs/notebook/lib/python3.12/site-packages/torchvision/models/_utils.py:208: UserWarning: The parameter 'pretrained' is deprecated since 0.13 and may be removed in the future, please use 'weights' instead.\n",
      "  warnings.warn(\n",
      "/home/asufian/.local/share/pipx/venvs/notebook/lib/python3.12/site-packages/torchvision/models/_utils.py:223: UserWarning: Arguments other than a weight enum or `None` for 'weights' are deprecated since 0.13 and may be removed in the future. The current behavior is equivalent to passing `weights=None`.\n",
      "  warnings.warn(msg)\n"
     ]
    },
    {
     "name": "stdout",
     "output_type": "stream",
     "text": [
      "----------------------> 0.8114728682170541\n",
      "Evaluated Accuracy: 0.8115\n",
      "Testing b_a_r = 0.0177, c_a_r = 0.2131, f_a_r = 0.5109\n"
     ]
    },
    {
     "name": "stderr",
     "output_type": "stream",
     "text": [
      "/home/asufian/.local/share/pipx/venvs/notebook/lib/python3.12/site-packages/torchvision/models/_utils.py:208: UserWarning: The parameter 'pretrained' is deprecated since 0.13 and may be removed in the future, please use 'weights' instead.\n",
      "  warnings.warn(\n",
      "/home/asufian/.local/share/pipx/venvs/notebook/lib/python3.12/site-packages/torchvision/models/_utils.py:223: UserWarning: Arguments other than a weight enum or `None` for 'weights' are deprecated since 0.13 and may be removed in the future. The current behavior is equivalent to passing `weights=None`.\n",
      "  warnings.warn(msg)\n"
     ]
    },
    {
     "name": "stdout",
     "output_type": "stream",
     "text": [
      "----------------------> 0.7334883720930232\n",
      "Evaluated Accuracy: 0.7335\n",
      "Testing b_a_r = 0.0317, c_a_r = 0.5454, f_a_r = 0.5090\n"
     ]
    },
    {
     "name": "stderr",
     "output_type": "stream",
     "text": [
      "/home/asufian/.local/share/pipx/venvs/notebook/lib/python3.12/site-packages/torchvision/models/_utils.py:208: UserWarning: The parameter 'pretrained' is deprecated since 0.13 and may be removed in the future, please use 'weights' instead.\n",
      "  warnings.warn(\n",
      "/home/asufian/.local/share/pipx/venvs/notebook/lib/python3.12/site-packages/torchvision/models/_utils.py:223: UserWarning: Arguments other than a weight enum or `None` for 'weights' are deprecated since 0.13 and may be removed in the future. The current behavior is equivalent to passing `weights=None`.\n",
      "  warnings.warn(msg)\n"
     ]
    },
    {
     "name": "stdout",
     "output_type": "stream",
     "text": [
      "----------------------> 0.3049612403100775\n",
      "Evaluated Accuracy: 0.3050\n",
      "\n",
      "✅ Optimal Values:\n",
      "   - b_a_r: 0.0102\n",
      "   - c_a_r: 0.0544\n",
      "   - f_a_r: 0.5954\n",
      "📈 Highest Accuracy Achieved: 0.8136\n"
     ]
    }
   ],
   "source": [
    "import numpy as np\n",
    "import torch\n",
    "import matplotlib.pyplot as plt\n",
    "from skopt import gp_minimize\n",
    "from skopt.space import Real\n",
    "from skopt.utils import use_named_args\n",
    "from skopt.plots import plot_convergence\n",
    "\n",
    "# Device setup\n",
    "device = torch.device(\"cuda\" if torch.cuda.is_available() else \"cpu\")\n",
    "\n",
    "\n",
    "# Define the search space for b_a_r, c_a_r, and f_a_r\n",
    "search_space = [\n",
    "    Real(0.0, 1.0, name=\"b_a_r\"),\n",
    "    Real(0.0, 1.0, name=\"c_a_r\"),\n",
    "    Real(0.0, 1.0, name=\"f_a_r\")\n",
    "]\n",
    "\n",
    "# Define the objective function for Bayesian Optimization\n",
    "@use_named_args(search_space)\n",
    "def objective(b_a_r, c_a_r, f_a_r):\n",
    "    \"\"\"\n",
    "    Objective function to optimize the adaptation ratios.\n",
    "    It applies adaptation, evaluates the model, and returns the negative accuracy.\n",
    "    \"\"\"\n",
    "    accuracy = get_model_accuracy(b_a_r, c_a_r, f_a_r)\n",
    "    print(f\"Evaluated Accuracy: {accuracy:.4f}\")  # Debugging Output\n",
    "    \n",
    "    return -accuracy  # We minimize, so return negative accuracy\n",
    "\n",
    "# Perform Bayesian Optimization with additional settings\n",
    "search_iteration=50\n",
    "res = gp_minimize(\n",
    "    func=objective,\n",
    "    dimensions=search_space,\n",
    "    n_calls=search_iteration,               # Number of evaluations\n",
    "    n_initial_points=5,       # Initial random explorations before GP starts\n",
    "    acq_func=\"EI\",            # Acquisition function: Expected Improvement\n",
    "    random_state=42,          # Ensure reproducibility\n",
    "    n_jobs=-1,                # Parallel execution for faster optimization\n",
    ")\n",
    "\n",
    "# Extract optimal results\n",
    "optimal_b_a_r, optimal_c_a_r, optimal_f_a_r = res.x\n",
    "best_accuracy = -res.fun\n",
    "\n",
    "print(f\"\\n✅ Optimal Values:\")\n",
    "print(f\"   - b_a_r: {optimal_b_a_r:.4f}\")\n",
    "print(f\"   - c_a_r: {optimal_c_a_r:.4f}\")\n",
    "print(f\"   - f_a_r: {optimal_f_a_r:.4f}\")\n",
    "print(f\"📈 Highest Accuracy Achieved: {best_accuracy:.4f}\")\n",
    "\n",
    "\n"
   ]
  },
  {
   "cell_type": "code",
   "execution_count": 47,
   "metadata": {},
   "outputs": [
    {
     "name": "stderr",
     "output_type": "stream",
     "text": [
      "/home/asufian/.local/share/pipx/venvs/notebook/lib/python3.12/site-packages/torchvision/models/_utils.py:208: UserWarning: The parameter 'pretrained' is deprecated since 0.13 and may be removed in the future, please use 'weights' instead.\n",
      "  warnings.warn(\n",
      "/home/asufian/.local/share/pipx/venvs/notebook/lib/python3.12/site-packages/torchvision/models/_utils.py:223: UserWarning: Arguments other than a weight enum or `None` for 'weights' are deprecated since 0.13 and may be removed in the future. The current behavior is equivalent to passing `weights=None`.\n",
      "  warnings.warn(msg)\n"
     ]
    },
    {
     "name": "stdout",
     "output_type": "stream",
     "text": [
      "---Accu-----pre----rec---------> 0.7930 ± 0.0351  0.7971 ± 0.0334  0.7930 ± 0.0351\n"
     ]
    },
    {
     "name": "stderr",
     "output_type": "stream",
     "text": [
      "/home/asufian/.local/share/pipx/venvs/notebook/lib/python3.12/site-packages/torchvision/models/_utils.py:208: UserWarning: The parameter 'pretrained' is deprecated since 0.13 and may be removed in the future, please use 'weights' instead.\n",
      "  warnings.warn(\n",
      "/home/asufian/.local/share/pipx/venvs/notebook/lib/python3.12/site-packages/torchvision/models/_utils.py:223: UserWarning: Arguments other than a weight enum or `None` for 'weights' are deprecated since 0.13 and may be removed in the future. The current behavior is equivalent to passing `weights=None`.\n",
      "  warnings.warn(msg)\n"
     ]
    },
    {
     "name": "stdout",
     "output_type": "stream",
     "text": [
      "---Accu-----pre----rec---------> 0.5476 ± 0.0911  0.5502 ± 0.1025  0.5476 ± 0.0911\n",
      "---Accu-----pre----rec---------> 0.8136 ± 0.0281  0.8183 ± 0.0288  0.8136 ± 0.0281\n"
     ]
    }
   ],
   "source": [
    "convolutional_network_with_dropout =  ResNet18WithDropout(pretrained=False, dr=0.0)\n",
    "convolutional_network_with_dropout.fc = nn.Flatten()\n",
    "\n",
    "xyz = convolutional_network_with_dropout\n",
    "M3 = PrototypicalNetworks_dynamic_query(xyz).to(device)\n",
    "M3.load_state_dict(torch.load('model_own_path.pt'))\n",
    "evaluate2('/home/asufian/Desktop/output_mapii/result_ressnet/base/5_w_10_s_ff', test_loader, M3, criterion)\n",
    "# Load Model M2\n",
    "convolutional_network_with_dropout =  ResNet18WithDropout(pretrained=False, dr=0.0)\n",
    "convolutional_network_with_dropout.fc = nn.Flatten()\n",
    "\n",
    "xyz2 = convolutional_network_with_dropout\n",
    "M2 = PrototypicalNetworks_dynamic_query(xyz2).to(device)\n",
    "M2.load_state_dict(torch.load('model_mu_path.pt'))\n",
    "evaluate2(\"/home/asufian/Desktop/output_mapii/result_ressnet/secondary/5_w_10_s_ff\", test_loader, M2, criterion)\n",
    "# Update Model M3's weights using a weighted combination of Model M3 and Model M2\n",
    "update_model_weights2(M3, M2, conv_ratio= optimal_c_a_r , fc_ratio=optimal_f_a_r , bias_ratio=optimal_b_a_r)\n",
    "\n",
    "# Assuming you have the evaluate2 function defined\n",
    "# Evaluate the updated model (M3) using evaluate2 function with some arguments\n",
    "evaluate2(\"/home/asufian/Desktop/output_mapii/result_ressnet/amul/5_w_5_10_ff\", test_loader, M3, criterion)\n",
    "\n",
    "# Assuming you have the evaluate2 function defined\n",
    "# Evaluate the updated model (M3) using evaluate2 function with some arguments\n",
    "# evaluate3(pp+'/_mapi_5-wau-1-shot_matchine_unlearning_own', test_loader, M3, criterion)"
   ]
  },
  {
   "cell_type": "code",
   "execution_count": 88,
   "metadata": {},
   "outputs": [
    {
     "name": "stdout",
     "output_type": "stream",
     "text": [
      "ls: cannot access '/home/asufian/Desktop/output_olchikilol': No such file or directory\n"
     ]
    }
   ],
   "source": [
    "ls /home/asufian/Desktop/output_olchikilol"
   ]
  },
  {
   "cell_type": "code",
   "execution_count": null,
   "metadata": {},
   "outputs": [],
   "source": []
  },
  {
   "cell_type": "code",
   "execution_count": null,
   "metadata": {},
   "outputs": [],
   "source": []
  },
  {
   "cell_type": "code",
   "execution_count": 48,
   "metadata": {},
   "outputs": [],
   "source": [
    "clss_8=[\n",
    "    ['MAPI Mayeek_FAM', 'MAPI Mayeek_JHAM', 'MAPI Mayeek_LAI', 'MAPI Mayeek_HUK', 'MAPI Mayeek_KOK', 'MAPI Mayeek_NGOU', 'MAPI Mayeek_THOU', 'MAPI Mayeek_JIL'],\n",
    "     ['MAPI Mayeek_SAM', 'MAPI Mayeek_HUK', 'MAPI Mayeek_KHOU', 'MAPI Mayeek_NAA', 'MAPI Mayeek_DHOU', 'MAPI Mayeek_THOU', 'MAPI Mayeek_PAA', 'MAPI Mayeek_JHAM'],\n",
    "    ['MAPI Mayeek_JHAM', 'MAPI Mayeek_NAA', 'MAPI Mayeek_GOK', 'MAPI Mayeek_DHOU', 'MAPI Mayeek_NGOU', 'MAPI Mayeek_KHOU', 'MAPI Mayeek_RAAI', 'MAPI Mayeek_DIL'],\n",
    "    ['MAPI Mayeek_CHIN', 'MAPI Mayeek_UUN', 'MAPI Mayeek_YANG', 'MAPI Mayeek_KOK', 'MAPI Mayeek_MIT', 'MAPI Mayeek_LAI', 'MAPI Mayeek_JHAM', 'MAPI Mayeek_NAA'],\n",
    "    ['MAPI Mayeek_DHOU', 'MAPI Mayeek_PAA', 'MAPI Mayeek_MIT', 'MAPI Mayeek_BHAM', 'MAPI Mayeek_EEE', 'MAPI Mayeek_LAI', 'MAPI Mayeek_UUN', 'MAPI Mayeek_SAM'],\n",
    "    ['MAPI Mayeek_NAA', 'MAPI Mayeek_UUN', 'MAPI Mayeek_FAM', 'MAPI Mayeek_BHAM', 'MAPI Mayeek_BAA', 'MAPI Mayeek_KOK', 'MAPI Mayeek_RAAI', 'MAPI Mayeek_LAI'],\n",
    "    ['MAPI Mayeek_CHIN', 'MAPI Mayeek_KOK', 'MAPI Mayeek_HUK', 'MAPI Mayeek_PAA', 'MAPI Mayeek_JHAM', 'MAPI Mayeek_BHAM', 'MAPI Mayeek_LAI', 'MAPI Mayeek_FAM'],\n",
    "    ['MAPI Mayeek_NGOU', 'MAPI Mayeek_JHAM', 'MAPI Mayeek_DIL', 'MAPI Mayeek_KHOU', 'MAPI Mayeek_SAM', 'MAPI Mayeek_UUN', 'MAPI Mayeek_PAA', 'MAPI Mayeek_KOK'],\n",
    "    ['MAPI Mayeek_GOK', 'MAPI Mayeek_SAM', 'MAPI Mayeek_BHAM', 'MAPI Mayeek_CHIN', 'MAPI Mayeek_GHOU', 'MAPI Mayeek_NAA', 'MAPI Mayeek_HUK', 'MAPI Mayeek_THOU'],\n",
    "    ['MAPI Mayeek_BHAM', 'MAPI Mayeek_SAM', 'MAPI Mayeek_PAA', 'MAPI Mayeek_UUN', 'MAPI Mayeek_FAM', 'MAPI Mayeek_DHOU', 'MAPI Mayeek_JHAM', 'MAPI Mayeek_RAAI'],\n",
    "     ['MAPI Mayeek_UUN', 'MAPI Mayeek_FAM', 'MAPI Mayeek_JIL', 'MAPI Mayeek_TIL', 'MAPI Mayeek_BHAM', 'MAPI Mayeek_MIT', 'MAPI Mayeek_GOK', 'MAPI Mayeek_JHAM'],\n",
    "    ['MAPI Mayeek_KOK', 'MAPI Mayeek_NGOU', 'MAPI Mayeek_JHAM', 'MAPI Mayeek_UUN', 'MAPI Mayeek_GHOU', 'MAPI Mayeek_MIT', 'MAPI Mayeek_YANG', 'MAPI Mayeek_LAI'],\n",
    "    ['MAPI Mayeek_FAM', 'MAPI Mayeek_BHAM', 'MAPI Mayeek_NGOU', 'MAPI Mayeek_LAI', 'MAPI Mayeek_KOK', 'MAPI Mayeek_CHIN', 'MAPI Mayeek_WAI', 'MAPI Mayeek_GOK'],\n",
    "    ['MAPI Mayeek_UUN', 'MAPI Mayeek_YANG', 'MAPI Mayeek_FAM', 'MAPI Mayeek_NAA', 'MAPI Mayeek_KOK', 'MAPI Mayeek_JHAM', 'MAPI Mayeek_HUK', 'MAPI Mayeek_WAI'],\n",
    "    ['MAPI Mayeek_JIL', 'MAPI Mayeek_CHIN', 'MAPI Mayeek_TIL', 'MAPI Mayeek_LAI', 'MAPI Mayeek_PAA', 'MAPI Mayeek_DHOU', 'MAPI Mayeek_MIT', 'MAPI Mayeek_YANG'],\n",
    " ]\n",
    "\n",
    "clss_support_imagesss_10_shot=[[[32, 30, 44, 38, 25, 67, 9, 24, 47, 41], [82, 83, 48, 43, 90, 45, 62, 87, 5, 25], [7, 95, 9, 14, 63, 82, 64, 93, 61, 55], [72, 82, 69, 26, 6, 9, 39, 19, 30, 13], [25, 67, 41, 47, 95, 38, 76, 58, 87, 90], [44, 57, 84, 72, 58, 64, 93, 31, 4, 73], [7, 68, 51, 47, 63, 36, 4, 50, 94, 37], [67, 17, 31, 62, 12, 34, 81, 15, 29, 71]], [[50, 94, 95, 27, 35, 80, 62, 55, 82, 88], [74, 33, 78, 25, 11, 79, 52, 17, 12, 15], [33, 56, 67, 11, 31, 74, 88, 3, 24, 78], [71, 37, 27, 11, 65, 74, 3, 86, 80, 78], [67, 29, 87, 60, 71, 43, 40, 74, 61, 37], [16, 83, 67, 4, 50, 72, 77, 89, 69, 15], [20, 87, 71, 53, 90, 41, 63, 18, 44, 1], [14, 77, 74, 42, 27, 68, 35, 93, 81, 15]], [[30, 48, 0, 84, 3, 13, 36, 86, 38, 2], [93, 69, 13, 90, 78, 74, 20, 73, 33, 65], [6, 20, 80, 56, 33, 48, 75, 47, 18, 72], [20, 50, 8, 76, 15, 24, 80, 73, 95, 52], [54, 46, 37, 77, 38, 43, 27, 25, 3, 33], [50, 72, 23, 28, 85, 56, 17, 14, 70, 34], [8, 45, 72, 36, 93, 89, 40, 84, 54, 17], [71, 91, 30, 49, 66, 35, 84, 5, 63, 48]], [[4, 73, 59, 63, 39, 94, 24, 22, 64, 51], [14, 19, 31, 63, 9, 77, 43, 80, 33, 11], [40, 94, 59, 17, 57, 47, 49, 21, 85, 12], [29, 56, 59, 71, 78, 32, 34, 66, 83, 60], [19, 0, 83, 93, 15, 51, 26, 16, 35, 55], [51, 19, 38, 46, 5, 65, 80, 44, 71, 25], [40, 32, 95, 4, 81, 46, 24, 27, 68, 47], [47, 28, 38, 60, 59, 19, 18, 77, 89, 0]], [[53, 40, 2, 54, 68, 81, 23, 86, 94, 83], [23, 49, 47, 43, 7, 84, 62, 86, 6, 35], [12, 35, 13, 79, 86, 75, 58, 32, 88, 31], [2, 42, 85, 0, 7, 27, 93, 73, 25, 18], [78, 72, 46, 12, 1, 70, 18, 62, 14, 39], [9, 88, 77, 7, 84, 52, 32, 94, 53, 42], [56, 89, 26, 69, 17, 59, 34, 91, 58, 11], [73, 11, 22, 27, 48, 69, 92, 7, 26, 13]], [[62, 40, 87, 85, 93, 37, 52, 84, 30, 76], [55, 83, 60, 17, 19, 73, 36, 13, 77, 80], [76, 79, 90, 65, 60, 56, 73, 95, 47, 67], [65, 91, 34, 14, 10, 64, 93, 73, 2, 60], [44, 45, 50, 35, 13, 30, 6, 71, 7, 95], [82, 44, 14, 77, 19, 50, 10, 28, 29, 58], [18, 90, 85, 7, 16, 50, 6, 59, 93, 75], [74, 76, 91, 47, 63, 88, 8, 14, 64, 95]], [[19, 26, 77, 36, 52, 84, 8, 70, 90, 37], [23, 34, 84, 62, 4, 2, 68, 77, 1, 40], [75, 31, 91, 54, 51, 72, 73, 23, 3, 70], [58, 69, 74, 50, 0, 52, 75, 51, 94, 60], [45, 70, 35, 93, 4, 43, 67, 17, 1, 86], [67, 53, 77, 95, 1, 28, 33, 47, 38, 78], [7, 66, 33, 67, 85, 59, 5, 93, 41, 29], [19, 17, 57, 70, 5, 75, 28, 47, 32, 31]], [[66, 32, 35, 20, 34, 42, 65, 33, 38, 29], [49, 52, 60, 28, 16, 89, 7, 67, 94, 21], [73, 25, 19, 9, 30, 81, 7, 21, 14, 82], [50, 80, 95, 71, 1, 49, 90, 28, 57, 52], [20, 60, 10, 47, 5, 44, 46, 21, 83, 17], [45, 73, 41, 89, 90, 50, 10, 91, 81, 64], [81, 6, 71, 14, 8, 33, 25, 55, 27, 72], [73, 57, 22, 65, 88, 68, 0, 23, 46, 42]], [[17, 23, 52, 46, 37, 48, 3, 72, 36, 61], [14, 62, 46, 37, 52, 33, 9, 42, 20, 65], [7, 54, 0, 42, 14, 57, 25, 10, 65, 23], [23, 81, 61, 86, 58, 52, 90, 15, 35, 64], [19, 52, 74, 93, 11, 3, 84, 14, 92, 27], [45, 56, 26, 15, 0, 11, 75, 51, 14, 24], [49, 47, 53, 66, 11, 5, 64, 59, 77, 50], [49, 52, 21, 37, 35, 50, 23, 15, 77, 63]], [[52, 44, 70, 14, 4, 48, 76, 63, 1, 11], [45, 21, 82, 19, 93, 75, 73, 4, 43, 91], [19, 68, 60, 84, 21, 79, 44, 65, 20, 1], [73, 49, 67, 71, 14, 40, 3, 87, 9, 8], [81, 20, 77, 15, 47, 60, 71, 5, 92, 7], [83, 87, 44, 73, 85, 60, 56, 28, 3, 33], [11, 25, 67, 93, 27, 76, 70, 61, 15, 72], [36, 49, 80, 35, 21, 22, 32, 12, 69, 71]], [[89, 16, 7, 23, 52, 38, 8, 47, 42, 18], [36, 64, 9, 79, 38, 26, 94, 66, 58, 12], [6, 40, 78, 44, 29, 43, 28, 34, 60, 24], [62, 84, 32, 7, 11, 94, 39, 91, 3, 12], [16, 63, 55, 32, 70, 87, 18, 85, 4, 86], [7, 81, 91, 44, 93, 73, 18, 38, 53, 12], [44, 60, 32, 50, 0, 46, 74, 35, 79, 83], [83, 82, 88, 23, 19, 33, 72, 41, 45, 13]], [[44, 58, 75, 52, 74, 21, 16, 23, 47, 6], [78, 77, 14, 82, 46, 40, 61, 24, 42, 81], [45, 58, 27, 60, 80, 23, 63, 34, 52, 92], [71, 16, 79, 60, 62, 11, 53, 9, 40, 31], [40, 12, 25, 26, 31, 42, 78, 1, 9, 89], [23, 51, 15, 24, 56, 39, 0, 35, 67, 4], [19, 1, 86, 59, 31, 74, 47, 20, 4, 5], [83, 53, 25, 3, 1, 81, 41, 63, 13, 88]], [[33, 75, 39, 29, 74, 58, 43, 82, 26, 73], [45, 54, 10, 75, 43, 56, 7, 68, 63, 2], [26, 65, 64, 22, 68, 80, 27, 48, 77, 9], [26, 32, 34, 46, 80, 69, 54, 31, 42, 76], [1, 41, 78, 3, 31, 88, 45, 79, 80, 49], [19, 35, 81, 51, 93, 28, 48, 63, 80, 30], [86, 36, 43, 63, 1, 60, 33, 74, 81, 57], [42, 49, 24, 46, 90, 66, 45, 87, 59, 55]], [[4, 67, 64, 24, 56, 73, 55, 43, 54, 92], [30, 2, 73, 4, 1, 34, 9, 11, 95, 29], [5, 10, 88, 42, 86, 67, 80, 25, 53, 38], [59, 66, 52, 77, 73, 35, 89, 26, 45, 72], [56, 83, 24, 73, 28, 61, 50, 93, 64, 13], [82, 73, 11, 45, 31, 41, 80, 58, 1, 5], [17, 91, 25, 2, 42, 56, 8, 40, 15, 33], [57, 84, 95, 4, 64, 83, 26, 66, 15, 30]], [[84, 66, 88, 58, 71, 15, 45, 50, 38, 44], [17, 29, 20, 91, 79, 32, 44, 66, 70, 6], [12, 16, 26, 65, 51, 67, 48, 79, 29, 95], [78, 88, 55, 27, 84, 79, 24, 54, 70, 76], [61, 81, 6, 51, 64, 40, 18, 69, 83, 16], [17, 35, 51, 42, 55, 86, 36, 24, 50, 46], [23, 73, 12, 33, 89, 26, 63, 59, 44, 65], [34, 24, 22, 64, 27, 88, 46, 70, 44, 30]]]\n",
    "\n",
    "clss_support_imagesss_5_shot=[[[32, 30, 44, 38, 25], [82, 83, 48, 43, 90], [7, 95, 9, 14, 63], [72, 82, 69, 26, 6], [25, 67, 41, 47, 95], [44, 57, 84, 72, 58], [7, 68, 51, 47, 63], [67, 17, 31, 62, 12]], [[50, 94, 95, 27, 35], [74, 33, 78, 25, 11], [33, 56, 67, 11, 31], [71, 37, 27, 11, 65], [67, 29, 87, 60, 71], [16, 83, 67, 4, 50], [20, 87, 71, 53, 90], [14, 77, 74, 42, 27]], [[30, 48, 0, 84, 3], [93, 69, 13, 90, 78], [6, 20, 80, 56, 33], [20, 50, 8, 76, 15], [54, 46, 37, 77, 38], [50, 72, 23, 28, 85], [8, 45, 72, 36, 93], [71, 91, 30, 49, 66]], [[4, 73, 59, 63, 39], [14, 19, 31, 63, 9], [40, 94, 59, 17, 57], [29, 56, 59, 71, 78], [19, 0, 83, 93, 15], [51, 19, 38, 46, 5], [40, 32, 95, 4, 81], [47, 28, 38, 60, 59]], [[53, 40, 2, 54, 68], [23, 49, 47, 43, 7], [12, 35, 13, 79, 86], [2, 42, 85, 0, 7], [78, 72, 46, 12, 1], [9, 88, 77, 7, 84], [56, 89, 26, 69, 17], [73, 11, 22, 27, 48]], [[62, 40, 87, 85, 93], [55, 83, 60, 17, 19], [76, 79, 90, 65, 60], [65, 91, 34, 14, 10], [44, 45, 50, 35, 13], [82, 44, 14, 77, 19], [18, 90, 85, 7, 16], [74, 76, 91, 47, 63]], [[19, 26, 77, 36, 52], [23, 34, 84, 62, 4], [75, 31, 91, 54, 51], [58, 69, 74, 50, 0], [45, 70, 35, 93, 4], [67, 53, 77, 95, 1], [7, 66, 33, 67, 85], [19, 17, 57, 70, 5]], [[66, 32, 35, 20, 34], [49, 52, 60, 28, 16], [73, 25, 19, 9, 30], [50, 80, 95, 71, 1], [20, 60, 10, 47, 5], [45, 73, 41, 89, 90], [81, 6, 71, 14, 8], [73, 57, 22, 65, 88]], [[17, 23, 52, 46, 37], [14, 62, 46, 37, 52], [7, 54, 0, 42, 14], [23, 81, 61, 86, 58], [19, 52, 74, 93, 11], [45, 56, 26, 15, 0], [49, 47, 53, 66, 11], [49, 52, 21, 37, 35]], [[52, 44, 70, 14, 4], [45, 21, 82, 19, 93], [19, 68, 60, 84, 21], [73, 49, 67, 71, 14], [81, 20, 77, 15, 47], [83, 87, 44, 73, 85], [11, 25, 67, 93, 27], [36, 49, 80, 35, 21]], [[89, 16, 7, 23, 52], [36, 64, 9, 79, 38], [6, 40, 78, 44, 29], [62, 84, 32, 7, 11], [16, 63, 55, 32, 70], [7, 81, 91, 44, 93], [44, 60, 32, 50, 0], [83, 82, 88, 23, 19]], [[44, 58, 75, 52, 74], [78, 77, 14, 82, 46], [45, 58, 27, 60, 80], [71, 16, 79, 60, 62], [40, 12, 25, 26, 31], [23, 51, 15, 24, 56], [19, 1, 86, 59, 31], [83, 53, 25, 3, 1]], [[33, 75, 39, 29, 74], [45, 54, 10, 75, 43], [26, 65, 64, 22, 68], [26, 32, 34, 46, 80], [1, 41, 78, 3, 31], [19, 35, 81, 51, 93], [86, 36, 43, 63, 1], [42, 49, 24, 46, 90]], [[4, 67, 64, 24, 56], [30, 2, 73, 4, 1], [5, 10, 88, 42, 86], [59, 66, 52, 77, 73], [56, 83, 24, 73, 28], [82, 73, 11, 45, 31], [17, 91, 25, 2, 42], [57, 84, 95, 4, 64]], [[84, 66, 88, 58, 71], [17, 29, 20, 91, 79], [12, 16, 26, 65, 51], [78, 88, 55, 27, 84], [61, 81, 6, 51, 64], [17, 35, 51, 42, 55], [23, 73, 12, 33, 89], [34, 24, 22, 64, 27]]]\n",
    "\n",
    "\n",
    "clss_support_imagesss_1_shot=[\n",
    "    [[32], [82], [7], [72], [25], [44], [7], [67]],\n",
    "    [[50], [74], [33], [71], [67], [16], [20], [14]],\n",
    "    [[30], [93], [6], [20], [54], [50], [8], [71]],\n",
    "     [[4], [14], [40], [29], [19], [51], [40], [47]],\n",
    "    [[53], [23], [12], [2], [78], [9], [56], [73]],\n",
    "    [[62], [55], [76], [65], [44], [82], [18], [74]],\n",
    "    [[19], [23], [75], [58], [45], [67], [7], [19]],\n",
    "     [[66], [49], [73], [50], [20], [45], [81], [73]],\n",
    "    [[17], [14], [7], [23], [19], [45], [49], [49]],\n",
    "    [[52], [45], [19], [73], [81], [83], [11], [36]],\n",
    "    [[89], [36], [6], [62], [16], [7], [44], [83]],\n",
    "    [[44], [78], [45], [71], [40], [23], [19], [83]],\n",
    "    [[33], [45], [26], [26], [1], [19], [86], [42]],\n",
    "    [[4], [30], [5], [59], [56], [82], [17], [57]],\n",
    "    [[84], [17], [12], [78], [61], [17], [23], [34]]\n",
    "\n",
    "]\n",
    "\n"
   ]
  },
  {
   "cell_type": "code",
   "execution_count": null,
   "metadata": {},
   "outputs": [],
   "source": []
  },
  {
   "cell_type": "code",
   "execution_count": null,
   "metadata": {},
   "outputs": [],
   "source": []
  },
  {
   "cell_type": "code",
   "execution_count": 52,
   "metadata": {},
   "outputs": [
    {
     "name": "stdout",
     "output_type": "stream",
     "text": [
      "rm: cannot remove 'model_mu_path.pt': No such file or directory\n",
      "rm: cannot remove 'model_own_path.pt': No such file or directory\n"
     ]
    }
   ],
   "source": [
    "device = torch.device(\"cuda\" if torch.cuda.is_available() else \"cpu\")\n",
    "\n",
    "\n",
    "\n",
    "!rm model_mu_path.pt\n",
    "!rm model_own_path.pt\n",
    "\n",
    "convolutional_network_with_dropout =  ResNet18WithDropout(pretrained=False, dr=0.0)\n",
    "convolutional_network_with_dropout.fc = nn.Flatten()\n",
    "\n",
    "model_own = PrototypicalNetworks_dynamic_query(convolutional_network_with_dropout).to(device)\n",
    "model_own.load_state_dict(torch.load('/home/asufian/Desktop/output_olchiki/code/modelr_res18.pth',map_location=torch.device('cpu')))\n",
    "\n",
    "\n",
    "convolutional_network_with_dropout =  ResNet18WithDropout(pretrained=False, dr=0.0)\n",
    "convolutional_network_with_dropout.fc = nn.Flatten()\n",
    "\n",
    "model_own_1_shot = PrototypicalNetworks_dynamic_query(convolutional_network_with_dropout).to(device)\n",
    "model_own_1_shot.load_state_dict(torch.load('/home/asufian/Desktop/output_olchiki/code/mapi_sce/ressecondary/model_1/model_B_mapi_1-shot_res.pth',map_location=torch.device('cpu')))\n",
    "torch.save(model_own_1_shot.state_dict(), 'model_mu_path.pt')\n",
    "torch.save(model_own.state_dict(), 'model_own_path.pt')"
   ]
  },
  {
   "cell_type": "code",
   "execution_count": 53,
   "metadata": {},
   "outputs": [],
   "source": [
    "\n",
    "\n",
    "def evaluate2(fname,data_loader, model, criterion=nn.CrossEntropyLoss()):\n",
    "    total_predictions = 0\n",
    "    correct_predictions = 0\n",
    "    total_loss = 0.0\n",
    "    accuracy = 0\n",
    "    datta = \"\"\n",
    "    model.eval()\n",
    "    tlv_cls=0\n",
    "    ttla=0\n",
    "    ttlal=[]\n",
    "    ttlac=0\n",
    "    precision=[]\n",
    "    recall=[]\n",
    "    \n",
    "    with torch.no_grad():\n",
    "        for episode in range(len(clss_8)):\n",
    "            support_set, query_set = data_loader.__getitem__(clss_8[tlv_cls] , clss_support_imagesss_1_shot[tlv_cls])\n",
    "\n",
    "           \n",
    "            clssa=str(clss_8[tlv_cls])\n",
    "            clss=str(clssa).replace(',',' ').replace('\\'',' ').replace('\\'',' ')\n",
    "            msg=str(clss_support_imagesss_1_shot[tlv_cls])\n",
    "            str(clss_8[tlv_cls])\n",
    "\n",
    "            tlv_cls+=1\n",
    "            # print(len(support_set),len(query_set))\n",
    "            support_set = [(torch.stack(images).to(device), label[0]) for images, label in support_set]\n",
    "            query_set = [(torch.stack(images).to(device), label) for images, label in query_set]\n",
    "\n",
    "            support_images, support_labels = zip(*support_set)\n",
    "\n",
    "            query_images, query_labels = zip(*query_set)\n",
    "\n",
    "            classification_scores = model(support_images, support_labels, query_images)\n",
    "            cortt = 0\n",
    "            totl = 0\n",
    "            confusion_mat=None\n",
    "            all_predicted_labels = []\n",
    "            all_actual_labels = []\n",
    "            # print(len(classification_scores),len(query_labels))\n",
    "            for ei in range(len(classification_scores)):\n",
    "                classification_scores_each_class = classification_scores[ei]\n",
    "                # print(classification_scores_each_class)\n",
    "                predicted_labels_eachclas = torch.argmax(classification_scores_each_class, dim=1)\n",
    "                pp = predicted_labels_eachclas.tolist()\n",
    "                act = query_labels[ei]\n",
    "                all_predicted_labels.extend(pp)\n",
    "                all_actual_labels.extend(act)\n",
    "                for iiii in range(len(pp)):\n",
    "                    if pp[iiii] == act[iiii]:\n",
    "                        cortt = cortt + 1\n",
    "                totl = totl + len(pp)\n",
    "                # print(len(act))\n",
    "            accuracy = cortt / totl\n",
    "            ttla+=1\n",
    "            ttlac+=accuracy\n",
    "            ttlal.append(accuracy)\n",
    "            # print(cortt , totl,\"Validation Accuracy:              \", cortt / totl)\n",
    "            confusion_mat = confusion_matrix(all_actual_labels, all_predicted_labels)\n",
    "            # print(\"Confusion Matrix:\")\n",
    "            # print(confusion_mat)\n",
    "\n",
    "            # fname='./own35_mapi_5_way_1_shot'\n",
    "\n",
    "            precision_overall, recall_overall, f1ss= calculate_metrics_get_per(msg,confusion_mat,acciuracy=cortt / totl,cls=clss,flnm=fname)\n",
    "            precision.append(precision_overall)\n",
    "            recall.append(recall_overall)\n",
    "    print(f\"---Accu-----pre----rec---------> {np.mean(ttlal):.4f} ± {np.std(ttlal, ddof=1):.4f}  \"\n",
    "      f\"{np.mean(precision):.4f} ± {np.std(precision, ddof=1):.4f}  \"\n",
    "      f\"{np.mean(recall):.4f} ± {np.std(recall, ddof=1):.4f}\")\n",
    "\n",
    "    # print(\"---Accu-----pre----rec---------->\",np.mean(ttlal),'±',np.std(ttlal, ddof=1), np.mean(precision),'±',np.std(precision, ddof=1),np.mean(precision),'±',np.std(precision, ddof=1),)\n",
    "# %%%%%%\n",
    "\n",
    "def evaluate3(fname,data_loader, model, criterion=nn.CrossEntropyLoss()):\n",
    "    total_predictions = 0\n",
    "    correct_predictions = 0\n",
    "    total_loss = 0.0\n",
    "    accuracy = 0\n",
    "    datta = \"\"\n",
    "    model.eval()\n",
    "    tlv_cls=0\n",
    "    ttla=0\n",
    "    ttlac=0\n",
    "    with torch.no_grad():\n",
    "        for episode in range(len(clss_8)):\n",
    "            support_set, query_set = data_loader.__getitem__(clss_8[tlv_cls] , clss_support_imagesss_1_shot[tlv_cls])\n",
    "\n",
    "            \n",
    "            clssa=str(clss_8[tlv_cls])\n",
    "            clss=str(clssa).replace(',',' ').replace('\\'',' ').replace('\\'',' ')\n",
    "            msg=str(clss_support_imagesss_1_shot[tlv_cls])\n",
    "            str(clss_8[tlv_cls])\n",
    "\n",
    "            tlv_cls+=1\n",
    "            # print(len(support_set),len(query_set))\n",
    "            support_set = [(torch.stack(images).to(device), label[0]) for images, label in support_set]\n",
    "            query_set = [(torch.stack(images).to(device), label) for images, label in query_set]\n",
    "\n",
    "            support_images, support_labels = zip(*support_set)\n",
    "\n",
    "            query_images, query_labels = zip(*query_set)\n",
    "\n",
    "            classification_scores = model(support_images, support_labels, query_images)\n",
    "            cortt = 0\n",
    "            totl = 0\n",
    "            confusion_mat=None\n",
    "            all_predicted_labels = []\n",
    "            all_actual_labels = []\n",
    "            # print(len(classification_scores),len(query_labels))\n",
    "            for ei in range(len(classification_scores)):\n",
    "                classification_scores_each_class = classification_scores[ei]\n",
    "                # print(classification_scores_each_class)\n",
    "                predicted_labels_eachclas = torch.argmax(classification_scores_each_class, dim=1)\n",
    "                pp = predicted_labels_eachclas.tolist()\n",
    "                act = query_labels[ei]\n",
    "                all_predicted_labels.extend(pp)\n",
    "                all_actual_labels.extend(act)\n",
    "                for iiii in range(len(pp)):\n",
    "                    if pp[iiii] == act[iiii]:\n",
    "                        cortt = cortt + 1\n",
    "                totl = totl + len(pp)\n",
    "                # print(len(act))\n",
    "            accuracy = cortt / totl\n",
    "            ttla+=1\n",
    "            ttlac+=accuracy\n",
    "            # print(cortt , totl,\"Validation Accuracy:              \", cortt / totl)\n",
    "            # confusion_mat = confusion_matrix(all_actual_labels, all_predicted_labels)\n",
    "            # print(\"Confusion Matrix:\")\n",
    "            # print(confusion_mat)\n",
    "\n",
    "            # fname='./own35_mapi_5_way_1_shot'\n",
    "\n",
    "            # calculate_metrics_get_per(msg,confusion_mat,acciuracy=cortt / totl,cls=clss,flnm=fname)\n",
    "\n",
    "    print(\"---------------------->\",ttlac/ttla)\n",
    "    return ttlac/ttla"
   ]
  },
  {
   "cell_type": "code",
   "execution_count": 54,
   "metadata": {
    "scrolled": true
   },
   "outputs": [
    {
     "name": "stdout",
     "output_type": "stream",
     "text": [
      "Testing b_a_r = 0.7965, c_a_r = 0.1834, f_a_r = 0.7797\n"
     ]
    },
    {
     "name": "stderr",
     "output_type": "stream",
     "text": [
      "/home/asufian/.local/share/pipx/venvs/notebook/lib/python3.12/site-packages/torchvision/models/_utils.py:208: UserWarning: The parameter 'pretrained' is deprecated since 0.13 and may be removed in the future, please use 'weights' instead.\n",
      "  warnings.warn(\n",
      "/home/asufian/.local/share/pipx/venvs/notebook/lib/python3.12/site-packages/torchvision/models/_utils.py:223: UserWarning: Arguments other than a weight enum or `None` for 'weights' are deprecated since 0.13 and may be removed in the future. The current behavior is equivalent to passing `weights=None`.\n",
      "  warnings.warn(msg)\n"
     ]
    },
    {
     "name": "stdout",
     "output_type": "stream",
     "text": [
      "----------------------> 0.4729824561403509\n",
      "Evaluated Accuracy: 0.4730\n",
      "Testing b_a_r = 0.5969, c_a_r = 0.4458, f_a_r = 0.1000\n",
      "----------------------> 0.26929824561403515\n",
      "Evaluated Accuracy: 0.2693\n",
      "Testing b_a_r = 0.4592, c_a_r = 0.3337, f_a_r = 0.1429\n",
      "----------------------> 0.34105263157894744\n",
      "Evaluated Accuracy: 0.3411\n",
      "Testing b_a_r = 0.6509, c_a_r = 0.0564, f_a_r = 0.7220\n",
      "----------------------> 0.5535964912280702\n",
      "Evaluated Accuracy: 0.5536\n",
      "Testing b_a_r = 0.9386, c_a_r = 0.0008, f_a_r = 0.9922\n",
      "----------------------> 0.5080701754385966\n",
      "Evaluated Accuracy: 0.5081\n",
      "Testing b_a_r = 0.0000, c_a_r = 0.0035, f_a_r = 0.3872\n"
     ]
    },
    {
     "name": "stderr",
     "output_type": "stream",
     "text": [
      "/home/asufian/.local/share/pipx/venvs/notebook/lib/python3.12/site-packages/torchvision/models/_utils.py:208: UserWarning: The parameter 'pretrained' is deprecated since 0.13 and may be removed in the future, please use 'weights' instead.\n",
      "  warnings.warn(\n",
      "/home/asufian/.local/share/pipx/venvs/notebook/lib/python3.12/site-packages/torchvision/models/_utils.py:223: UserWarning: Arguments other than a weight enum or `None` for 'weights' are deprecated since 0.13 and may be removed in the future. The current behavior is equivalent to passing `weights=None`.\n",
      "  warnings.warn(msg)\n"
     ]
    },
    {
     "name": "stdout",
     "output_type": "stream",
     "text": [
      "----------------------> 0.5435964912280702\n",
      "Evaluated Accuracy: 0.5436\n",
      "Testing b_a_r = 0.2211, c_a_r = 1.0000, f_a_r = 1.0000\n"
     ]
    },
    {
     "name": "stderr",
     "output_type": "stream",
     "text": [
      "/home/asufian/.local/share/pipx/venvs/notebook/lib/python3.12/site-packages/torchvision/models/_utils.py:208: UserWarning: The parameter 'pretrained' is deprecated since 0.13 and may be removed in the future, please use 'weights' instead.\n",
      "  warnings.warn(\n",
      "/home/asufian/.local/share/pipx/venvs/notebook/lib/python3.12/site-packages/torchvision/models/_utils.py:223: UserWarning: Arguments other than a weight enum or `None` for 'weights' are deprecated since 0.13 and may be removed in the future. The current behavior is equivalent to passing `weights=None`.\n",
      "  warnings.warn(msg)\n"
     ]
    },
    {
     "name": "stdout",
     "output_type": "stream",
     "text": [
      "----------------------> 0.14850877192982453\n",
      "Evaluated Accuracy: 0.1485\n",
      "Testing b_a_r = 0.0000, c_a_r = 0.0000, f_a_r = 0.0000\n"
     ]
    },
    {
     "name": "stderr",
     "output_type": "stream",
     "text": [
      "/home/asufian/.local/share/pipx/venvs/notebook/lib/python3.12/site-packages/torchvision/models/_utils.py:208: UserWarning: The parameter 'pretrained' is deprecated since 0.13 and may be removed in the future, please use 'weights' instead.\n",
      "  warnings.warn(\n",
      "/home/asufian/.local/share/pipx/venvs/notebook/lib/python3.12/site-packages/torchvision/models/_utils.py:223: UserWarning: Arguments other than a weight enum or `None` for 'weights' are deprecated since 0.13 and may be removed in the future. The current behavior is equivalent to passing `weights=None`.\n",
      "  warnings.warn(msg)\n"
     ]
    },
    {
     "name": "stdout",
     "output_type": "stream",
     "text": [
      "----------------------> 0.5348245614035088\n",
      "Evaluated Accuracy: 0.5348\n",
      "Testing b_a_r = 0.0000, c_a_r = 0.0729, f_a_r = 1.0000\n"
     ]
    },
    {
     "name": "stderr",
     "output_type": "stream",
     "text": [
      "/home/asufian/.local/share/pipx/venvs/notebook/lib/python3.12/site-packages/torchvision/models/_utils.py:208: UserWarning: The parameter 'pretrained' is deprecated since 0.13 and may be removed in the future, please use 'weights' instead.\n",
      "  warnings.warn(\n",
      "/home/asufian/.local/share/pipx/venvs/notebook/lib/python3.12/site-packages/torchvision/models/_utils.py:223: UserWarning: Arguments other than a weight enum or `None` for 'weights' are deprecated since 0.13 and may be removed in the future. The current behavior is equivalent to passing `weights=None`.\n",
      "  warnings.warn(msg)\n"
     ]
    },
    {
     "name": "stdout",
     "output_type": "stream",
     "text": [
      "----------------------> 0.5130701754385965\n",
      "Evaluated Accuracy: 0.5131\n",
      "Testing b_a_r = 0.9995, c_a_r = 0.0000, f_a_r = 0.0823\n"
     ]
    },
    {
     "name": "stderr",
     "output_type": "stream",
     "text": [
      "/home/asufian/.local/share/pipx/venvs/notebook/lib/python3.12/site-packages/torchvision/models/_utils.py:208: UserWarning: The parameter 'pretrained' is deprecated since 0.13 and may be removed in the future, please use 'weights' instead.\n",
      "  warnings.warn(\n",
      "/home/asufian/.local/share/pipx/venvs/notebook/lib/python3.12/site-packages/torchvision/models/_utils.py:223: UserWarning: Arguments other than a weight enum or `None` for 'weights' are deprecated since 0.13 and may be removed in the future. The current behavior is equivalent to passing `weights=None`.\n",
      "  warnings.warn(msg)\n"
     ]
    },
    {
     "name": "stdout",
     "output_type": "stream",
     "text": [
      "----------------------> 0.5421929824561403\n",
      "Evaluated Accuracy: 0.5422\n",
      "Testing b_a_r = 0.1506, c_a_r = 0.0000, f_a_r = 0.9742\n"
     ]
    },
    {
     "name": "stderr",
     "output_type": "stream",
     "text": [
      "/home/asufian/.local/share/pipx/venvs/notebook/lib/python3.12/site-packages/torchvision/models/_utils.py:208: UserWarning: The parameter 'pretrained' is deprecated since 0.13 and may be removed in the future, please use 'weights' instead.\n",
      "  warnings.warn(\n",
      "/home/asufian/.local/share/pipx/venvs/notebook/lib/python3.12/site-packages/torchvision/models/_utils.py:223: UserWarning: Arguments other than a weight enum or `None` for 'weights' are deprecated since 0.13 and may be removed in the future. The current behavior is equivalent to passing `weights=None`.\n",
      "  warnings.warn(msg)\n"
     ]
    },
    {
     "name": "stdout",
     "output_type": "stream",
     "text": [
      "----------------------> 0.5081578947368421\n",
      "Evaluated Accuracy: 0.5082\n",
      "Testing b_a_r = 1.0000, c_a_r = 0.0801, f_a_r = 0.2542\n"
     ]
    },
    {
     "name": "stderr",
     "output_type": "stream",
     "text": [
      "/home/asufian/.local/share/pipx/venvs/notebook/lib/python3.12/site-packages/torchvision/models/_utils.py:208: UserWarning: The parameter 'pretrained' is deprecated since 0.13 and may be removed in the future, please use 'weights' instead.\n",
      "  warnings.warn(\n",
      "/home/asufian/.local/share/pipx/venvs/notebook/lib/python3.12/site-packages/torchvision/models/_utils.py:223: UserWarning: Arguments other than a weight enum or `None` for 'weights' are deprecated since 0.13 and may be removed in the future. The current behavior is equivalent to passing `weights=None`.\n",
      "  warnings.warn(msg)\n"
     ]
    },
    {
     "name": "stdout",
     "output_type": "stream",
     "text": [
      "----------------------> 0.5325438596491229\n",
      "Evaluated Accuracy: 0.5325\n",
      "Testing b_a_r = 0.7691, c_a_r = 1.0000, f_a_r = 0.0000\n"
     ]
    },
    {
     "name": "stderr",
     "output_type": "stream",
     "text": [
      "/home/asufian/.local/share/pipx/venvs/notebook/lib/python3.12/site-packages/torchvision/models/_utils.py:208: UserWarning: The parameter 'pretrained' is deprecated since 0.13 and may be removed in the future, please use 'weights' instead.\n",
      "  warnings.warn(\n",
      "/home/asufian/.local/share/pipx/venvs/notebook/lib/python3.12/site-packages/torchvision/models/_utils.py:223: UserWarning: Arguments other than a weight enum or `None` for 'weights' are deprecated since 0.13 and may be removed in the future. The current behavior is equivalent to passing `weights=None`.\n",
      "  warnings.warn(msg)\n"
     ]
    },
    {
     "name": "stdout",
     "output_type": "stream",
     "text": [
      "----------------------> 0.1500877192982456\n",
      "Evaluated Accuracy: 0.1501\n",
      "Testing b_a_r = 0.0168, c_a_r = 0.0622, f_a_r = 0.0000\n"
     ]
    },
    {
     "name": "stderr",
     "output_type": "stream",
     "text": [
      "/home/asufian/.local/share/pipx/venvs/notebook/lib/python3.12/site-packages/torchvision/models/_utils.py:208: UserWarning: The parameter 'pretrained' is deprecated since 0.13 and may be removed in the future, please use 'weights' instead.\n",
      "  warnings.warn(\n",
      "/home/asufian/.local/share/pipx/venvs/notebook/lib/python3.12/site-packages/torchvision/models/_utils.py:223: UserWarning: Arguments other than a weight enum or `None` for 'weights' are deprecated since 0.13 and may be removed in the future. The current behavior is equivalent to passing `weights=None`.\n",
      "  warnings.warn(msg)\n"
     ]
    },
    {
     "name": "stdout",
     "output_type": "stream",
     "text": [
      "----------------------> 0.5322807017543859\n",
      "Evaluated Accuracy: 0.5323\n",
      "Testing b_a_r = 0.8357, c_a_r = 0.0461, f_a_r = 0.0021\n"
     ]
    },
    {
     "name": "stderr",
     "output_type": "stream",
     "text": [
      "/home/asufian/.local/share/pipx/venvs/notebook/lib/python3.12/site-packages/torchvision/models/_utils.py:208: UserWarning: The parameter 'pretrained' is deprecated since 0.13 and may be removed in the future, please use 'weights' instead.\n",
      "  warnings.warn(\n",
      "/home/asufian/.local/share/pipx/venvs/notebook/lib/python3.12/site-packages/torchvision/models/_utils.py:223: UserWarning: Arguments other than a weight enum or `None` for 'weights' are deprecated since 0.13 and may be removed in the future. The current behavior is equivalent to passing `weights=None`.\n",
      "  warnings.warn(msg)\n"
     ]
    },
    {
     "name": "stdout",
     "output_type": "stream",
     "text": [
      "----------------------> 0.5385087719298246\n",
      "Evaluated Accuracy: 0.5385\n",
      "Testing b_a_r = 0.9799, c_a_r = 0.0697, f_a_r = 0.0098\n"
     ]
    },
    {
     "name": "stderr",
     "output_type": "stream",
     "text": [
      "/home/asufian/.local/share/pipx/venvs/notebook/lib/python3.12/site-packages/torchvision/models/_utils.py:208: UserWarning: The parameter 'pretrained' is deprecated since 0.13 and may be removed in the future, please use 'weights' instead.\n",
      "  warnings.warn(\n",
      "/home/asufian/.local/share/pipx/venvs/notebook/lib/python3.12/site-packages/torchvision/models/_utils.py:223: UserWarning: Arguments other than a weight enum or `None` for 'weights' are deprecated since 0.13 and may be removed in the future. The current behavior is equivalent to passing `weights=None`.\n",
      "  warnings.warn(msg)\n"
     ]
    },
    {
     "name": "stdout",
     "output_type": "stream",
     "text": [
      "----------------------> 0.533421052631579\n",
      "Evaluated Accuracy: 0.5334\n",
      "Testing b_a_r = 1.0000, c_a_r = 0.0220, f_a_r = 0.6264\n"
     ]
    },
    {
     "name": "stderr",
     "output_type": "stream",
     "text": [
      "/home/asufian/.local/share/pipx/venvs/notebook/lib/python3.12/site-packages/torchvision/models/_utils.py:208: UserWarning: The parameter 'pretrained' is deprecated since 0.13 and may be removed in the future, please use 'weights' instead.\n",
      "  warnings.warn(\n",
      "/home/asufian/.local/share/pipx/venvs/notebook/lib/python3.12/site-packages/torchvision/models/_utils.py:223: UserWarning: Arguments other than a weight enum or `None` for 'weights' are deprecated since 0.13 and may be removed in the future. The current behavior is equivalent to passing `weights=None`.\n",
      "  warnings.warn(msg)\n"
     ]
    },
    {
     "name": "stdout",
     "output_type": "stream",
     "text": [
      "----------------------> 0.5605263157894737\n",
      "Evaluated Accuracy: 0.5605\n",
      "Testing b_a_r = 0.6334, c_a_r = 0.5620, f_a_r = 0.9990\n"
     ]
    },
    {
     "name": "stderr",
     "output_type": "stream",
     "text": [
      "/home/asufian/.local/share/pipx/venvs/notebook/lib/python3.12/site-packages/torchvision/models/_utils.py:208: UserWarning: The parameter 'pretrained' is deprecated since 0.13 and may be removed in the future, please use 'weights' instead.\n",
      "  warnings.warn(\n",
      "/home/asufian/.local/share/pipx/venvs/notebook/lib/python3.12/site-packages/torchvision/models/_utils.py:223: UserWarning: Arguments other than a weight enum or `None` for 'weights' are deprecated since 0.13 and may be removed in the future. The current behavior is equivalent to passing `weights=None`.\n",
      "  warnings.warn(msg)\n"
     ]
    },
    {
     "name": "stdout",
     "output_type": "stream",
     "text": [
      "----------------------> 0.306578947368421\n",
      "Evaluated Accuracy: 0.3066\n",
      "Testing b_a_r = 0.9940, c_a_r = 0.0447, f_a_r = 0.5401\n"
     ]
    },
    {
     "name": "stderr",
     "output_type": "stream",
     "text": [
      "/home/asufian/.local/share/pipx/venvs/notebook/lib/python3.12/site-packages/torchvision/models/_utils.py:208: UserWarning: The parameter 'pretrained' is deprecated since 0.13 and may be removed in the future, please use 'weights' instead.\n",
      "  warnings.warn(\n",
      "/home/asufian/.local/share/pipx/venvs/notebook/lib/python3.12/site-packages/torchvision/models/_utils.py:223: UserWarning: Arguments other than a weight enum or `None` for 'weights' are deprecated since 0.13 and may be removed in the future. The current behavior is equivalent to passing `weights=None`.\n",
      "  warnings.warn(msg)\n"
     ]
    },
    {
     "name": "stdout",
     "output_type": "stream",
     "text": [
      "----------------------> 0.5588596491228071\n",
      "Evaluated Accuracy: 0.5589\n",
      "Testing b_a_r = 0.9747, c_a_r = 0.3522, f_a_r = 0.9979\n"
     ]
    },
    {
     "name": "stderr",
     "output_type": "stream",
     "text": [
      "/home/asufian/.local/share/pipx/venvs/notebook/lib/python3.12/site-packages/torchvision/models/_utils.py:208: UserWarning: The parameter 'pretrained' is deprecated since 0.13 and may be removed in the future, please use 'weights' instead.\n",
      "  warnings.warn(\n",
      "/home/asufian/.local/share/pipx/venvs/notebook/lib/python3.12/site-packages/torchvision/models/_utils.py:223: UserWarning: Arguments other than a weight enum or `None` for 'weights' are deprecated since 0.13 and may be removed in the future. The current behavior is equivalent to passing `weights=None`.\n",
      "  warnings.warn(msg)\n"
     ]
    },
    {
     "name": "stdout",
     "output_type": "stream",
     "text": [
      "----------------------> 0.30587719298245614\n",
      "Evaluated Accuracy: 0.3059\n",
      "Testing b_a_r = 0.3263, c_a_r = 0.7277, f_a_r = 0.0000\n"
     ]
    },
    {
     "name": "stderr",
     "output_type": "stream",
     "text": [
      "/home/asufian/.local/share/pipx/venvs/notebook/lib/python3.12/site-packages/torchvision/models/_utils.py:208: UserWarning: The parameter 'pretrained' is deprecated since 0.13 and may be removed in the future, please use 'weights' instead.\n",
      "  warnings.warn(\n",
      "/home/asufian/.local/share/pipx/venvs/notebook/lib/python3.12/site-packages/torchvision/models/_utils.py:223: UserWarning: Arguments other than a weight enum or `None` for 'weights' are deprecated since 0.13 and may be removed in the future. The current behavior is equivalent to passing `weights=None`.\n",
      "  warnings.warn(msg)\n"
     ]
    },
    {
     "name": "stdout",
     "output_type": "stream",
     "text": [
      "----------------------> 0.27289473684210525\n",
      "Evaluated Accuracy: 0.2729\n",
      "Testing b_a_r = 0.0687, c_a_r = 0.7619, f_a_r = 0.9980\n"
     ]
    },
    {
     "name": "stderr",
     "output_type": "stream",
     "text": [
      "/home/asufian/.local/share/pipx/venvs/notebook/lib/python3.12/site-packages/torchvision/models/_utils.py:208: UserWarning: The parameter 'pretrained' is deprecated since 0.13 and may be removed in the future, please use 'weights' instead.\n",
      "  warnings.warn(\n",
      "/home/asufian/.local/share/pipx/venvs/notebook/lib/python3.12/site-packages/torchvision/models/_utils.py:223: UserWarning: Arguments other than a weight enum or `None` for 'weights' are deprecated since 0.13 and may be removed in the future. The current behavior is equivalent to passing `weights=None`.\n",
      "  warnings.warn(msg)\n"
     ]
    },
    {
     "name": "stdout",
     "output_type": "stream",
     "text": [
      "----------------------> 0.22105263157894733\n",
      "Evaluated Accuracy: 0.2211\n",
      "Testing b_a_r = 0.1340, c_a_r = 0.1938, f_a_r = 0.0020\n"
     ]
    },
    {
     "name": "stderr",
     "output_type": "stream",
     "text": [
      "/home/asufian/.local/share/pipx/venvs/notebook/lib/python3.12/site-packages/torchvision/models/_utils.py:208: UserWarning: The parameter 'pretrained' is deprecated since 0.13 and may be removed in the future, please use 'weights' instead.\n",
      "  warnings.warn(\n",
      "/home/asufian/.local/share/pipx/venvs/notebook/lib/python3.12/site-packages/torchvision/models/_utils.py:223: UserWarning: Arguments other than a weight enum or `None` for 'weights' are deprecated since 0.13 and may be removed in the future. The current behavior is equivalent to passing `weights=None`.\n",
      "  warnings.warn(msg)\n"
     ]
    },
    {
     "name": "stdout",
     "output_type": "stream",
     "text": [
      "----------------------> 0.44631578947368417\n",
      "Evaluated Accuracy: 0.4463\n",
      "Testing b_a_r = 0.9853, c_a_r = 0.0983, f_a_r = 0.5710\n"
     ]
    },
    {
     "name": "stderr",
     "output_type": "stream",
     "text": [
      "/home/asufian/.local/share/pipx/venvs/notebook/lib/python3.12/site-packages/torchvision/models/_utils.py:208: UserWarning: The parameter 'pretrained' is deprecated since 0.13 and may be removed in the future, please use 'weights' instead.\n",
      "  warnings.warn(\n",
      "/home/asufian/.local/share/pipx/venvs/notebook/lib/python3.12/site-packages/torchvision/models/_utils.py:223: UserWarning: Arguments other than a weight enum or `None` for 'weights' are deprecated since 0.13 and may be removed in the future. The current behavior is equivalent to passing `weights=None`.\n",
      "  warnings.warn(msg)\n"
     ]
    },
    {
     "name": "stdout",
     "output_type": "stream",
     "text": [
      "----------------------> 0.5464035087719298\n",
      "Evaluated Accuracy: 0.5464\n",
      "Testing b_a_r = 0.9935, c_a_r = 0.0026, f_a_r = 0.7491\n"
     ]
    },
    {
     "name": "stderr",
     "output_type": "stream",
     "text": [
      "/home/asufian/.local/share/pipx/venvs/notebook/lib/python3.12/site-packages/torchvision/models/_utils.py:208: UserWarning: The parameter 'pretrained' is deprecated since 0.13 and may be removed in the future, please use 'weights' instead.\n",
      "  warnings.warn(\n",
      "/home/asufian/.local/share/pipx/venvs/notebook/lib/python3.12/site-packages/torchvision/models/_utils.py:223: UserWarning: Arguments other than a weight enum or `None` for 'weights' are deprecated since 0.13 and may be removed in the future. The current behavior is equivalent to passing `weights=None`.\n",
      "  warnings.warn(msg)\n"
     ]
    },
    {
     "name": "stdout",
     "output_type": "stream",
     "text": [
      "----------------------> 0.5492105263157896\n",
      "Evaluated Accuracy: 0.5492\n",
      "Testing b_a_r = 0.9890, c_a_r = 0.6336, f_a_r = 0.5008\n"
     ]
    },
    {
     "name": "stderr",
     "output_type": "stream",
     "text": [
      "/home/asufian/.local/share/pipx/venvs/notebook/lib/python3.12/site-packages/torchvision/models/_utils.py:208: UserWarning: The parameter 'pretrained' is deprecated since 0.13 and may be removed in the future, please use 'weights' instead.\n",
      "  warnings.warn(\n",
      "/home/asufian/.local/share/pipx/venvs/notebook/lib/python3.12/site-packages/torchvision/models/_utils.py:223: UserWarning: Arguments other than a weight enum or `None` for 'weights' are deprecated since 0.13 and may be removed in the future. The current behavior is equivalent to passing `weights=None`.\n",
      "  warnings.warn(msg)\n"
     ]
    },
    {
     "name": "stdout",
     "output_type": "stream",
     "text": [
      "----------------------> 0.30289473684210527\n",
      "Evaluated Accuracy: 0.3029\n",
      "Testing b_a_r = 0.8838, c_a_r = 0.0005, f_a_r = 0.5554\n"
     ]
    },
    {
     "name": "stderr",
     "output_type": "stream",
     "text": [
      "/home/asufian/.local/share/pipx/venvs/notebook/lib/python3.12/site-packages/torchvision/models/_utils.py:208: UserWarning: The parameter 'pretrained' is deprecated since 0.13 and may be removed in the future, please use 'weights' instead.\n",
      "  warnings.warn(\n",
      "/home/asufian/.local/share/pipx/venvs/notebook/lib/python3.12/site-packages/torchvision/models/_utils.py:223: UserWarning: Arguments other than a weight enum or `None` for 'weights' are deprecated since 0.13 and may be removed in the future. The current behavior is equivalent to passing `weights=None`.\n",
      "  warnings.warn(msg)\n"
     ]
    },
    {
     "name": "stdout",
     "output_type": "stream",
     "text": [
      "----------------------> 0.5569298245614036\n",
      "Evaluated Accuracy: 0.5569\n",
      "Testing b_a_r = 0.0370, c_a_r = 0.0475, f_a_r = 0.5776\n"
     ]
    },
    {
     "name": "stderr",
     "output_type": "stream",
     "text": [
      "/home/asufian/.local/share/pipx/venvs/notebook/lib/python3.12/site-packages/torchvision/models/_utils.py:208: UserWarning: The parameter 'pretrained' is deprecated since 0.13 and may be removed in the future, please use 'weights' instead.\n",
      "  warnings.warn(\n",
      "/home/asufian/.local/share/pipx/venvs/notebook/lib/python3.12/site-packages/torchvision/models/_utils.py:223: UserWarning: Arguments other than a weight enum or `None` for 'weights' are deprecated since 0.13 and may be removed in the future. The current behavior is equivalent to passing `weights=None`.\n",
      "  warnings.warn(msg)\n"
     ]
    },
    {
     "name": "stdout",
     "output_type": "stream",
     "text": [
      "----------------------> 0.5571929824561404\n",
      "Evaluated Accuracy: 0.5572\n",
      "Testing b_a_r = 0.9752, c_a_r = 0.1871, f_a_r = 0.4223\n"
     ]
    },
    {
     "name": "stderr",
     "output_type": "stream",
     "text": [
      "/home/asufian/.local/share/pipx/venvs/notebook/lib/python3.12/site-packages/torchvision/models/_utils.py:208: UserWarning: The parameter 'pretrained' is deprecated since 0.13 and may be removed in the future, please use 'weights' instead.\n",
      "  warnings.warn(\n",
      "/home/asufian/.local/share/pipx/venvs/notebook/lib/python3.12/site-packages/torchvision/models/_utils.py:223: UserWarning: Arguments other than a weight enum or `None` for 'weights' are deprecated since 0.13 and may be removed in the future. The current behavior is equivalent to passing `weights=None`.\n",
      "  warnings.warn(msg)\n"
     ]
    },
    {
     "name": "stdout",
     "output_type": "stream",
     "text": [
      "----------------------> 0.4674561403508772\n",
      "Evaluated Accuracy: 0.4675\n",
      "Testing b_a_r = 0.9583, c_a_r = 0.8513, f_a_r = 0.4279\n"
     ]
    },
    {
     "name": "stderr",
     "output_type": "stream",
     "text": [
      "/home/asufian/.local/share/pipx/venvs/notebook/lib/python3.12/site-packages/torchvision/models/_utils.py:208: UserWarning: The parameter 'pretrained' is deprecated since 0.13 and may be removed in the future, please use 'weights' instead.\n",
      "  warnings.warn(\n",
      "/home/asufian/.local/share/pipx/venvs/notebook/lib/python3.12/site-packages/torchvision/models/_utils.py:223: UserWarning: Arguments other than a weight enum or `None` for 'weights' are deprecated since 0.13 and may be removed in the future. The current behavior is equivalent to passing `weights=None`.\n",
      "  warnings.warn(msg)\n"
     ]
    },
    {
     "name": "stdout",
     "output_type": "stream",
     "text": [
      "----------------------> 0.18570175438596495\n",
      "Evaluated Accuracy: 0.1857\n",
      "Testing b_a_r = 0.9530, c_a_r = 0.1640, f_a_r = 0.9984\n"
     ]
    },
    {
     "name": "stderr",
     "output_type": "stream",
     "text": [
      "/home/asufian/.local/share/pipx/venvs/notebook/lib/python3.12/site-packages/torchvision/models/_utils.py:208: UserWarning: The parameter 'pretrained' is deprecated since 0.13 and may be removed in the future, please use 'weights' instead.\n",
      "  warnings.warn(\n",
      "/home/asufian/.local/share/pipx/venvs/notebook/lib/python3.12/site-packages/torchvision/models/_utils.py:223: UserWarning: Arguments other than a weight enum or `None` for 'weights' are deprecated since 0.13 and may be removed in the future. The current behavior is equivalent to passing `weights=None`.\n",
      "  warnings.warn(msg)\n"
     ]
    },
    {
     "name": "stdout",
     "output_type": "stream",
     "text": [
      "----------------------> 0.46473684210526317\n",
      "Evaluated Accuracy: 0.4647\n",
      "Testing b_a_r = 0.1699, c_a_r = 0.4375, f_a_r = 0.5832\n"
     ]
    },
    {
     "name": "stderr",
     "output_type": "stream",
     "text": [
      "/home/asufian/.local/share/pipx/venvs/notebook/lib/python3.12/site-packages/torchvision/models/_utils.py:208: UserWarning: The parameter 'pretrained' is deprecated since 0.13 and may be removed in the future, please use 'weights' instead.\n",
      "  warnings.warn(\n",
      "/home/asufian/.local/share/pipx/venvs/notebook/lib/python3.12/site-packages/torchvision/models/_utils.py:223: UserWarning: Arguments other than a weight enum or `None` for 'weights' are deprecated since 0.13 and may be removed in the future. The current behavior is equivalent to passing `weights=None`.\n",
      "  warnings.warn(msg)\n"
     ]
    },
    {
     "name": "stdout",
     "output_type": "stream",
     "text": [
      "----------------------> 0.297280701754386\n",
      "Evaluated Accuracy: 0.2973\n",
      "Testing b_a_r = 0.9402, c_a_r = 0.0992, f_a_r = 0.7832\n"
     ]
    },
    {
     "name": "stderr",
     "output_type": "stream",
     "text": [
      "/home/asufian/.local/share/pipx/venvs/notebook/lib/python3.12/site-packages/torchvision/models/_utils.py:208: UserWarning: The parameter 'pretrained' is deprecated since 0.13 and may be removed in the future, please use 'weights' instead.\n",
      "  warnings.warn(\n",
      "/home/asufian/.local/share/pipx/venvs/notebook/lib/python3.12/site-packages/torchvision/models/_utils.py:223: UserWarning: Arguments other than a weight enum or `None` for 'weights' are deprecated since 0.13 and may be removed in the future. The current behavior is equivalent to passing `weights=None`.\n",
      "  warnings.warn(msg)\n"
     ]
    },
    {
     "name": "stdout",
     "output_type": "stream",
     "text": [
      "----------------------> 0.5351754385964912\n",
      "Evaluated Accuracy: 0.5352\n",
      "Testing b_a_r = 0.9612, c_a_r = 0.0419, f_a_r = 0.4026\n"
     ]
    },
    {
     "name": "stderr",
     "output_type": "stream",
     "text": [
      "/home/asufian/.local/share/pipx/venvs/notebook/lib/python3.12/site-packages/torchvision/models/_utils.py:208: UserWarning: The parameter 'pretrained' is deprecated since 0.13 and may be removed in the future, please use 'weights' instead.\n",
      "  warnings.warn(\n",
      "/home/asufian/.local/share/pipx/venvs/notebook/lib/python3.12/site-packages/torchvision/models/_utils.py:223: UserWarning: Arguments other than a weight enum or `None` for 'weights' are deprecated since 0.13 and may be removed in the future. The current behavior is equivalent to passing `weights=None`.\n",
      "  warnings.warn(msg)\n"
     ]
    },
    {
     "name": "stdout",
     "output_type": "stream",
     "text": [
      "----------------------> 0.5498245614035088\n",
      "Evaluated Accuracy: 0.5498\n",
      "Testing b_a_r = 0.7127, c_a_r = 0.5840, f_a_r = 0.0001\n"
     ]
    },
    {
     "name": "stderr",
     "output_type": "stream",
     "text": [
      "/home/asufian/.local/share/pipx/venvs/notebook/lib/python3.12/site-packages/torchvision/models/_utils.py:208: UserWarning: The parameter 'pretrained' is deprecated since 0.13 and may be removed in the future, please use 'weights' instead.\n",
      "  warnings.warn(\n",
      "/home/asufian/.local/share/pipx/venvs/notebook/lib/python3.12/site-packages/torchvision/models/_utils.py:223: UserWarning: Arguments other than a weight enum or `None` for 'weights' are deprecated since 0.13 and may be removed in the future. The current behavior is equivalent to passing `weights=None`.\n",
      "  warnings.warn(msg)\n"
     ]
    },
    {
     "name": "stdout",
     "output_type": "stream",
     "text": [
      "----------------------> 0.33903508771929824\n",
      "Evaluated Accuracy: 0.3390\n",
      "Testing b_a_r = 0.0339, c_a_r = 0.2887, f_a_r = 0.5786\n"
     ]
    },
    {
     "name": "stderr",
     "output_type": "stream",
     "text": [
      "/home/asufian/.local/share/pipx/venvs/notebook/lib/python3.12/site-packages/torchvision/models/_utils.py:208: UserWarning: The parameter 'pretrained' is deprecated since 0.13 and may be removed in the future, please use 'weights' instead.\n",
      "  warnings.warn(\n",
      "/home/asufian/.local/share/pipx/venvs/notebook/lib/python3.12/site-packages/torchvision/models/_utils.py:223: UserWarning: Arguments other than a weight enum or `None` for 'weights' are deprecated since 0.13 and may be removed in the future. The current behavior is equivalent to passing `weights=None`.\n",
      "  warnings.warn(msg)\n"
     ]
    },
    {
     "name": "stdout",
     "output_type": "stream",
     "text": [
      "----------------------> 0.3950877192982455\n",
      "Evaluated Accuracy: 0.3951\n",
      "Testing b_a_r = 0.0519, c_a_r = 0.1167, f_a_r = 0.4193\n"
     ]
    },
    {
     "name": "stderr",
     "output_type": "stream",
     "text": [
      "/home/asufian/.local/share/pipx/venvs/notebook/lib/python3.12/site-packages/torchvision/models/_utils.py:208: UserWarning: The parameter 'pretrained' is deprecated since 0.13 and may be removed in the future, please use 'weights' instead.\n",
      "  warnings.warn(\n",
      "/home/asufian/.local/share/pipx/venvs/notebook/lib/python3.12/site-packages/torchvision/models/_utils.py:223: UserWarning: Arguments other than a weight enum or `None` for 'weights' are deprecated since 0.13 and may be removed in the future. The current behavior is equivalent to passing `weights=None`.\n",
      "  warnings.warn(msg)\n"
     ]
    },
    {
     "name": "stdout",
     "output_type": "stream",
     "text": [
      "----------------------> 0.5209649122807017\n",
      "Evaluated Accuracy: 0.5210\n",
      "Testing b_a_r = 0.0514, c_a_r = 0.0302, f_a_r = 0.1895\n"
     ]
    },
    {
     "name": "stderr",
     "output_type": "stream",
     "text": [
      "/home/asufian/.local/share/pipx/venvs/notebook/lib/python3.12/site-packages/torchvision/models/_utils.py:208: UserWarning: The parameter 'pretrained' is deprecated since 0.13 and may be removed in the future, please use 'weights' instead.\n",
      "  warnings.warn(\n",
      "/home/asufian/.local/share/pipx/venvs/notebook/lib/python3.12/site-packages/torchvision/models/_utils.py:223: UserWarning: Arguments other than a weight enum or `None` for 'weights' are deprecated since 0.13 and may be removed in the future. The current behavior is equivalent to passing `weights=None`.\n",
      "  warnings.warn(msg)\n"
     ]
    },
    {
     "name": "stdout",
     "output_type": "stream",
     "text": [
      "----------------------> 0.5376315789473683\n",
      "Evaluated Accuracy: 0.5376\n",
      "Testing b_a_r = 0.5424, c_a_r = 0.8691, f_a_r = 0.0003\n"
     ]
    },
    {
     "name": "stderr",
     "output_type": "stream",
     "text": [
      "/home/asufian/.local/share/pipx/venvs/notebook/lib/python3.12/site-packages/torchvision/models/_utils.py:208: UserWarning: The parameter 'pretrained' is deprecated since 0.13 and may be removed in the future, please use 'weights' instead.\n",
      "  warnings.warn(\n",
      "/home/asufian/.local/share/pipx/venvs/notebook/lib/python3.12/site-packages/torchvision/models/_utils.py:223: UserWarning: Arguments other than a weight enum or `None` for 'weights' are deprecated since 0.13 and may be removed in the future. The current behavior is equivalent to passing `weights=None`.\n",
      "  warnings.warn(msg)\n"
     ]
    },
    {
     "name": "stdout",
     "output_type": "stream",
     "text": [
      "----------------------> 0.18464912280701753\n",
      "Evaluated Accuracy: 0.1846\n",
      "Testing b_a_r = 0.8771, c_a_r = 0.0427, f_a_r = 0.8479\n"
     ]
    },
    {
     "name": "stderr",
     "output_type": "stream",
     "text": [
      "/home/asufian/.local/share/pipx/venvs/notebook/lib/python3.12/site-packages/torchvision/models/_utils.py:208: UserWarning: The parameter 'pretrained' is deprecated since 0.13 and may be removed in the future, please use 'weights' instead.\n",
      "  warnings.warn(\n",
      "/home/asufian/.local/share/pipx/venvs/notebook/lib/python3.12/site-packages/torchvision/models/_utils.py:223: UserWarning: Arguments other than a weight enum or `None` for 'weights' are deprecated since 0.13 and may be removed in the future. The current behavior is equivalent to passing `weights=None`.\n",
      "  warnings.warn(msg)\n"
     ]
    },
    {
     "name": "stdout",
     "output_type": "stream",
     "text": [
      "----------------------> 0.5285087719298246\n",
      "Evaluated Accuracy: 0.5285\n",
      "Testing b_a_r = 0.0155, c_a_r = 0.0047, f_a_r = 0.5885\n"
     ]
    },
    {
     "name": "stderr",
     "output_type": "stream",
     "text": [
      "/home/asufian/.local/share/pipx/venvs/notebook/lib/python3.12/site-packages/torchvision/models/_utils.py:208: UserWarning: The parameter 'pretrained' is deprecated since 0.13 and may be removed in the future, please use 'weights' instead.\n",
      "  warnings.warn(\n",
      "/home/asufian/.local/share/pipx/venvs/notebook/lib/python3.12/site-packages/torchvision/models/_utils.py:223: UserWarning: Arguments other than a weight enum or `None` for 'weights' are deprecated since 0.13 and may be removed in the future. The current behavior is equivalent to passing `weights=None`.\n",
      "  warnings.warn(msg)\n"
     ]
    },
    {
     "name": "stdout",
     "output_type": "stream",
     "text": [
      "----------------------> 0.5560526315789474\n",
      "Evaluated Accuracy: 0.5561\n",
      "Testing b_a_r = 0.6121, c_a_r = 0.9993, f_a_r = 0.5275\n"
     ]
    },
    {
     "name": "stderr",
     "output_type": "stream",
     "text": [
      "/home/asufian/.local/share/pipx/venvs/notebook/lib/python3.12/site-packages/torchvision/models/_utils.py:208: UserWarning: The parameter 'pretrained' is deprecated since 0.13 and may be removed in the future, please use 'weights' instead.\n",
      "  warnings.warn(\n",
      "/home/asufian/.local/share/pipx/venvs/notebook/lib/python3.12/site-packages/torchvision/models/_utils.py:223: UserWarning: Arguments other than a weight enum or `None` for 'weights' are deprecated since 0.13 and may be removed in the future. The current behavior is equivalent to passing `weights=None`.\n",
      "  warnings.warn(msg)\n"
     ]
    },
    {
     "name": "stdout",
     "output_type": "stream",
     "text": [
      "----------------------> 0.14833333333333334\n",
      "Evaluated Accuracy: 0.1483\n",
      "Testing b_a_r = 0.9300, c_a_r = 0.0656, f_a_r = 0.6453\n"
     ]
    },
    {
     "name": "stderr",
     "output_type": "stream",
     "text": [
      "/home/asufian/.local/share/pipx/venvs/notebook/lib/python3.12/site-packages/torchvision/models/_utils.py:208: UserWarning: The parameter 'pretrained' is deprecated since 0.13 and may be removed in the future, please use 'weights' instead.\n",
      "  warnings.warn(\n",
      "/home/asufian/.local/share/pipx/venvs/notebook/lib/python3.12/site-packages/torchvision/models/_utils.py:223: UserWarning: Arguments other than a weight enum or `None` for 'weights' are deprecated since 0.13 and may be removed in the future. The current behavior is equivalent to passing `weights=None`.\n",
      "  warnings.warn(msg)\n"
     ]
    },
    {
     "name": "stdout",
     "output_type": "stream",
     "text": [
      "----------------------> 0.5585964912280702\n",
      "Evaluated Accuracy: 0.5586\n",
      "Testing b_a_r = 0.9153, c_a_r = 0.1425, f_a_r = 0.1657\n"
     ]
    },
    {
     "name": "stderr",
     "output_type": "stream",
     "text": [
      "/home/asufian/.local/share/pipx/venvs/notebook/lib/python3.12/site-packages/torchvision/models/_utils.py:208: UserWarning: The parameter 'pretrained' is deprecated since 0.13 and may be removed in the future, please use 'weights' instead.\n",
      "  warnings.warn(\n",
      "/home/asufian/.local/share/pipx/venvs/notebook/lib/python3.12/site-packages/torchvision/models/_utils.py:223: UserWarning: Arguments other than a weight enum or `None` for 'weights' are deprecated since 0.13 and may be removed in the future. The current behavior is equivalent to passing `weights=None`.\n",
      "  warnings.warn(msg)\n"
     ]
    },
    {
     "name": "stdout",
     "output_type": "stream",
     "text": [
      "----------------------> 0.49236842105263157\n",
      "Evaluated Accuracy: 0.4924\n",
      "Testing b_a_r = 0.7933, c_a_r = 0.0024, f_a_r = 0.2267\n"
     ]
    },
    {
     "name": "stderr",
     "output_type": "stream",
     "text": [
      "/home/asufian/.local/share/pipx/venvs/notebook/lib/python3.12/site-packages/torchvision/models/_utils.py:208: UserWarning: The parameter 'pretrained' is deprecated since 0.13 and may be removed in the future, please use 'weights' instead.\n",
      "  warnings.warn(\n",
      "/home/asufian/.local/share/pipx/venvs/notebook/lib/python3.12/site-packages/torchvision/models/_utils.py:223: UserWarning: Arguments other than a weight enum or `None` for 'weights' are deprecated since 0.13 and may be removed in the future. The current behavior is equivalent to passing `weights=None`.\n",
      "  warnings.warn(msg)\n"
     ]
    },
    {
     "name": "stdout",
     "output_type": "stream",
     "text": [
      "----------------------> 0.5428070175438596\n",
      "Evaluated Accuracy: 0.5428\n",
      "Testing b_a_r = 0.9484, c_a_r = 0.0015, f_a_r = 0.6404\n"
     ]
    },
    {
     "name": "stderr",
     "output_type": "stream",
     "text": [
      "/home/asufian/.local/share/pipx/venvs/notebook/lib/python3.12/site-packages/torchvision/models/_utils.py:208: UserWarning: The parameter 'pretrained' is deprecated since 0.13 and may be removed in the future, please use 'weights' instead.\n",
      "  warnings.warn(\n",
      "/home/asufian/.local/share/pipx/venvs/notebook/lib/python3.12/site-packages/torchvision/models/_utils.py:223: UserWarning: Arguments other than a weight enum or `None` for 'weights' are deprecated since 0.13 and may be removed in the future. The current behavior is equivalent to passing `weights=None`.\n",
      "  warnings.warn(msg)\n"
     ]
    },
    {
     "name": "stdout",
     "output_type": "stream",
     "text": [
      "----------------------> 0.5606140350877192\n",
      "Evaluated Accuracy: 0.5606\n",
      "Testing b_a_r = 0.9070, c_a_r = 0.0744, f_a_r = 0.4981\n"
     ]
    },
    {
     "name": "stderr",
     "output_type": "stream",
     "text": [
      "/home/asufian/.local/share/pipx/venvs/notebook/lib/python3.12/site-packages/torchvision/models/_utils.py:208: UserWarning: The parameter 'pretrained' is deprecated since 0.13 and may be removed in the future, please use 'weights' instead.\n",
      "  warnings.warn(\n",
      "/home/asufian/.local/share/pipx/venvs/notebook/lib/python3.12/site-packages/torchvision/models/_utils.py:223: UserWarning: Arguments other than a weight enum or `None` for 'weights' are deprecated since 0.13 and may be removed in the future. The current behavior is equivalent to passing `weights=None`.\n",
      "  warnings.warn(msg)\n"
     ]
    },
    {
     "name": "stdout",
     "output_type": "stream",
     "text": [
      "----------------------> 0.5508771929824562\n",
      "Evaluated Accuracy: 0.5509\n",
      "Testing b_a_r = 0.0091, c_a_r = 0.0877, f_a_r = 0.6657\n"
     ]
    },
    {
     "name": "stderr",
     "output_type": "stream",
     "text": [
      "/home/asufian/.local/share/pipx/venvs/notebook/lib/python3.12/site-packages/torchvision/models/_utils.py:208: UserWarning: The parameter 'pretrained' is deprecated since 0.13 and may be removed in the future, please use 'weights' instead.\n",
      "  warnings.warn(\n",
      "/home/asufian/.local/share/pipx/venvs/notebook/lib/python3.12/site-packages/torchvision/models/_utils.py:223: UserWarning: Arguments other than a weight enum or `None` for 'weights' are deprecated since 0.13 and may be removed in the future. The current behavior is equivalent to passing `weights=None`.\n",
      "  warnings.warn(msg)\n"
     ]
    },
    {
     "name": "stdout",
     "output_type": "stream",
     "text": [
      "----------------------> 0.5469298245614035\n",
      "Evaluated Accuracy: 0.5469\n",
      "Testing b_a_r = 0.8263, c_a_r = 0.0343, f_a_r = 0.6530\n"
     ]
    },
    {
     "name": "stderr",
     "output_type": "stream",
     "text": [
      "/home/asufian/.local/share/pipx/venvs/notebook/lib/python3.12/site-packages/torchvision/models/_utils.py:208: UserWarning: The parameter 'pretrained' is deprecated since 0.13 and may be removed in the future, please use 'weights' instead.\n",
      "  warnings.warn(\n",
      "/home/asufian/.local/share/pipx/venvs/notebook/lib/python3.12/site-packages/torchvision/models/_utils.py:223: UserWarning: Arguments other than a weight enum or `None` for 'weights' are deprecated since 0.13 and may be removed in the future. The current behavior is equivalent to passing `weights=None`.\n",
      "  warnings.warn(msg)\n"
     ]
    },
    {
     "name": "stdout",
     "output_type": "stream",
     "text": [
      "----------------------> 0.5603508771929825\n",
      "Evaluated Accuracy: 0.5604\n",
      "Testing b_a_r = 0.0239, c_a_r = 0.5491, f_a_r = 0.3000\n"
     ]
    },
    {
     "name": "stderr",
     "output_type": "stream",
     "text": [
      "/home/asufian/.local/share/pipx/venvs/notebook/lib/python3.12/site-packages/torchvision/models/_utils.py:208: UserWarning: The parameter 'pretrained' is deprecated since 0.13 and may be removed in the future, please use 'weights' instead.\n",
      "  warnings.warn(\n",
      "/home/asufian/.local/share/pipx/venvs/notebook/lib/python3.12/site-packages/torchvision/models/_utils.py:223: UserWarning: Arguments other than a weight enum or `None` for 'weights' are deprecated since 0.13 and may be removed in the future. The current behavior is equivalent to passing `weights=None`.\n",
      "  warnings.warn(msg)\n"
     ]
    },
    {
     "name": "stdout",
     "output_type": "stream",
     "text": [
      "----------------------> 0.34438596491228074\n",
      "Evaluated Accuracy: 0.3444\n",
      "\n",
      "✅ Optimal Values:\n",
      "   - b_a_r: 0.9484\n",
      "   - c_a_r: 0.0015\n",
      "   - f_a_r: 0.6404\n",
      "📈 Highest Accuracy Achieved: 0.5606\n"
     ]
    }
   ],
   "source": [
    "import numpy as np\n",
    "import torch\n",
    "import matplotlib.pyplot as plt\n",
    "from skopt import gp_minimize\n",
    "from skopt.space import Real\n",
    "from skopt.utils import use_named_args\n",
    "from skopt.plots import plot_convergence\n",
    "\n",
    "# Device setup\n",
    "device = torch.device(\"cuda\" if torch.cuda.is_available() else \"cpu\")\n",
    "\n",
    "\n",
    "# Define the search space for b_a_r, c_a_r, and f_a_r\n",
    "search_space = [\n",
    "    Real(0.0, 1.0, name=\"b_a_r\"),\n",
    "    Real(0.0, 1.0, name=\"c_a_r\"),\n",
    "    Real(0.0, 1.0, name=\"f_a_r\")\n",
    "]\n",
    "\n",
    "# Define the objective function for Bayesian Optimization\n",
    "@use_named_args(search_space)\n",
    "def objective(b_a_r, c_a_r, f_a_r):\n",
    "    \"\"\"\n",
    "    Objective function to optimize the adaptation ratios.\n",
    "    It applies adaptation, evaluates the model, and returns the negative accuracy.\n",
    "    \"\"\"\n",
    "    accuracy = get_model_accuracy(b_a_r, c_a_r, f_a_r)\n",
    "    print(f\"Evaluated Accuracy: {accuracy:.4f}\")  # Debugging Output\n",
    "    \n",
    "    return -accuracy  # We minimize, so return negative accuracy\n",
    "\n",
    "# Perform Bayesian Optimization with additional settings\n",
    "search_iteration=50\n",
    "res = gp_minimize(\n",
    "    func=objective,\n",
    "    dimensions=search_space,\n",
    "    n_calls=search_iteration,               # Number of evaluations\n",
    "    n_initial_points=5,       # Initial random explorations before GP starts\n",
    "    acq_func=\"EI\",            # Acquisition function: Expected Improvement\n",
    "    random_state=42,          # Ensure reproducibility\n",
    "    n_jobs=-1,                # Parallel execution for faster optimization\n",
    ")\n",
    "\n",
    "# Extract optimal results\n",
    "optimal_b_a_r, optimal_c_a_r, optimal_f_a_r = res.x\n",
    "best_accuracy = -res.fun\n",
    "\n",
    "print(f\"\\n✅ Optimal Values:\")\n",
    "print(f\"   - b_a_r: {optimal_b_a_r:.4f}\")\n",
    "print(f\"   - c_a_r: {optimal_c_a_r:.4f}\")\n",
    "print(f\"   - f_a_r: {optimal_f_a_r:.4f}\")\n",
    "print(f\"📈 Highest Accuracy Achieved: {best_accuracy:.4f}\")\n",
    "\n",
    "\n"
   ]
  },
  {
   "cell_type": "code",
   "execution_count": null,
   "metadata": {},
   "outputs": [],
   "source": []
  },
  {
   "cell_type": "code",
   "execution_count": 55,
   "metadata": {},
   "outputs": [
    {
     "name": "stderr",
     "output_type": "stream",
     "text": [
      "/home/asufian/.local/share/pipx/venvs/notebook/lib/python3.12/site-packages/torchvision/models/_utils.py:208: UserWarning: The parameter 'pretrained' is deprecated since 0.13 and may be removed in the future, please use 'weights' instead.\n",
      "  warnings.warn(\n",
      "/home/asufian/.local/share/pipx/venvs/notebook/lib/python3.12/site-packages/torchvision/models/_utils.py:223: UserWarning: Arguments other than a weight enum or `None` for 'weights' are deprecated since 0.13 and may be removed in the future. The current behavior is equivalent to passing `weights=None`.\n",
      "  warnings.warn(msg)\n"
     ]
    },
    {
     "name": "stdout",
     "output_type": "stream",
     "text": [
      "---Accu-----pre----rec---------> 0.5348 ± 0.0390  0.5640 ± 0.0413  0.5348 ± 0.0390\n"
     ]
    },
    {
     "name": "stderr",
     "output_type": "stream",
     "text": [
      "/home/asufian/.local/share/pipx/venvs/notebook/lib/python3.12/site-packages/torchvision/models/_utils.py:208: UserWarning: The parameter 'pretrained' is deprecated since 0.13 and may be removed in the future, please use 'weights' instead.\n",
      "  warnings.warn(\n",
      "/home/asufian/.local/share/pipx/venvs/notebook/lib/python3.12/site-packages/torchvision/models/_utils.py:223: UserWarning: Arguments other than a weight enum or `None` for 'weights' are deprecated since 0.13 and may be removed in the future. The current behavior is equivalent to passing `weights=None`.\n",
      "  warnings.warn(msg)\n"
     ]
    },
    {
     "name": "stdout",
     "output_type": "stream",
     "text": [
      "---Accu-----pre----rec---------> 0.4782 ± 0.0603  0.5244 ± 0.0671  0.4782 ± 0.0603\n",
      "---Accu-----pre----rec---------> 0.5606 ± 0.0388  0.5865 ± 0.0467  0.5606 ± 0.0388\n"
     ]
    }
   ],
   "source": [
    "convolutional_network_with_dropout =  ResNet18WithDropout(pretrained=False, dr=0.0)\n",
    "convolutional_network_with_dropout.fc = nn.Flatten()\n",
    "\n",
    "xyz = convolutional_network_with_dropout\n",
    "M3 = PrototypicalNetworks_dynamic_query(xyz).to(device)\n",
    "M3.load_state_dict(torch.load('model_own_path.pt'))\n",
    "evaluate2('/home/asufian/Desktop/output_mapii/result_ressnet/base/8_w_1_s_f', test_loader, M3, criterion)\n",
    "# Load Model M2\n",
    "convolutional_network_with_dropout =  ResNet18WithDropout(pretrained=False, dr=0.0)\n",
    "convolutional_network_with_dropout.fc = nn.Flatten()\n",
    "\n",
    "xyz2 = convolutional_network_with_dropout\n",
    "M2 = PrototypicalNetworks_dynamic_query(xyz2).to(device)\n",
    "M2.load_state_dict(torch.load('model_mu_path.pt'))\n",
    "evaluate2(\"/home/asufian/Desktop/output_mapii/result_ressnet/secondary/8_w_1_s_f\", test_loader, M2, criterion)\n",
    "# Update Model M3's weights using a weighted combination of Model M3 and Model M2\n",
    "update_model_weights2(M3, M2, conv_ratio= optimal_c_a_r , fc_ratio=optimal_f_a_r , bias_ratio=optimal_b_a_r)\n",
    "\n",
    "# Assuming you have the evaluate2 function defined\n",
    "# Evaluate the updated model (M3) using evaluate2 function with some arguments\n",
    "evaluate2(\"/home/asufian/Desktop/output_mapii/result_ressnet/amul/8_w_1_s_f\", test_loader, M3, criterion)\n"
   ]
  },
  {
   "cell_type": "code",
   "execution_count": null,
   "metadata": {},
   "outputs": [],
   "source": []
  },
  {
   "cell_type": "code",
   "execution_count": null,
   "metadata": {},
   "outputs": [],
   "source": []
  },
  {
   "cell_type": "code",
   "execution_count": 56,
   "metadata": {},
   "outputs": [
    {
     "name": "stderr",
     "output_type": "stream",
     "text": [
      "/home/asufian/.local/share/pipx/venvs/notebook/lib/python3.12/site-packages/torchvision/models/_utils.py:208: UserWarning: The parameter 'pretrained' is deprecated since 0.13 and may be removed in the future, please use 'weights' instead.\n",
      "  warnings.warn(\n",
      "/home/asufian/.local/share/pipx/venvs/notebook/lib/python3.12/site-packages/torchvision/models/_utils.py:223: UserWarning: Arguments other than a weight enum or `None` for 'weights' are deprecated since 0.13 and may be removed in the future. The current behavior is equivalent to passing `weights=None`.\n",
      "  warnings.warn(msg)\n"
     ]
    }
   ],
   "source": [
    "device = torch.device(\"cuda\" if torch.cuda.is_available() else \"cpu\")\n",
    "\n",
    "\n",
    "\n",
    "!rm model_mu_path.pt\n",
    "!rm model_own_path.pt\n",
    "\n",
    "convolutional_network_with_dropout =  ResNet18WithDropout(pretrained=False, dr=0.0)\n",
    "convolutional_network_with_dropout.fc = nn.Flatten()\n",
    "\n",
    "model_own = PrototypicalNetworks_dynamic_query(convolutional_network_with_dropout).to(device)\n",
    "model_own.load_state_dict(torch.load('/home/asufian/Desktop/output_olchiki/code/modelr_res18.pth',map_location=torch.device('cpu')))\n",
    "\n",
    "\n",
    "convolutional_network_with_dropout =  ResNet18WithDropout(pretrained=False, dr=0.0)\n",
    "convolutional_network_with_dropout.fc = nn.Flatten()\n",
    "\n",
    "model_own_1_shot = PrototypicalNetworks_dynamic_query(convolutional_network_with_dropout).to(device)\n",
    "model_own_1_shot.load_state_dict(torch.load('/home/asufian/Desktop/output_olchiki/code/mapi_sce/ressecondary/model_5/model_B_mapi_5-shot_res.pth',map_location=torch.device('cpu')))\n",
    "\n",
    "torch.save(model_own_1_shot.state_dict(), 'model_mu_path.pt')\n",
    "torch.save(model_own.state_dict(), 'model_own_path.pt')"
   ]
  },
  {
   "cell_type": "code",
   "execution_count": 57,
   "metadata": {},
   "outputs": [],
   "source": [
    "def evaluate2(fname,data_loader, model, criterion=nn.CrossEntropyLoss()):\n",
    "    total_predictions = 0\n",
    "    correct_predictions = 0\n",
    "    total_loss = 0.0\n",
    "    accuracy = 0\n",
    "    datta = \"\"\n",
    "    model.eval()\n",
    "    tlv_cls=0\n",
    "    ttla=0\n",
    "    ttlal=[]\n",
    "    ttlac=0\n",
    "    precision=[]\n",
    "    recall=[]\n",
    "    \n",
    "    with torch.no_grad():\n",
    "        for episode in range(len(clss_8)):\n",
    "            support_set, query_set = data_loader.__getitem__(clss_8[tlv_cls] , clss_support_imagesss_5_shot[tlv_cls])\n",
    "\n",
    "           \n",
    "            clssa=str(clss_8[tlv_cls])\n",
    "            clss=str(clssa).replace(',',' ').replace('\\'',' ').replace('\\'',' ')\n",
    "            msg=str(clss_support_imagesss_5_shot[tlv_cls])\n",
    "            str(clss_8[tlv_cls])\n",
    "\n",
    "            tlv_cls+=1\n",
    "            # print(len(support_set),len(query_set))\n",
    "            support_set = [(torch.stack(images).to(device), label[0]) for images, label in support_set]\n",
    "            query_set = [(torch.stack(images).to(device), label) for images, label in query_set]\n",
    "\n",
    "            support_images, support_labels = zip(*support_set)\n",
    "\n",
    "            query_images, query_labels = zip(*query_set)\n",
    "\n",
    "            classification_scores = model(support_images, support_labels, query_images)\n",
    "            cortt = 0\n",
    "            totl = 0\n",
    "            confusion_mat=None\n",
    "            all_predicted_labels = []\n",
    "            all_actual_labels = []\n",
    "            # print(len(classification_scores),len(query_labels))\n",
    "            for ei in range(len(classification_scores)):\n",
    "                classification_scores_each_class = classification_scores[ei]\n",
    "                # print(classification_scores_each_class)\n",
    "                predicted_labels_eachclas = torch.argmax(classification_scores_each_class, dim=1)\n",
    "                pp = predicted_labels_eachclas.tolist()\n",
    "                act = query_labels[ei]\n",
    "                all_predicted_labels.extend(pp)\n",
    "                all_actual_labels.extend(act)\n",
    "                for iiii in range(len(pp)):\n",
    "                    if pp[iiii] == act[iiii]:\n",
    "                        cortt = cortt + 1\n",
    "                totl = totl + len(pp)\n",
    "                # print(len(act))\n",
    "            accuracy = cortt / totl\n",
    "            ttla+=1\n",
    "            ttlac+=accuracy\n",
    "            ttlal.append(accuracy)\n",
    "            # print(cortt , totl,\"Validation Accuracy:              \", cortt / totl)\n",
    "            confusion_mat = confusion_matrix(all_actual_labels, all_predicted_labels)\n",
    "            # print(\"Confusion Matrix:\")\n",
    "            # print(confusion_mat)\n",
    "\n",
    "            # fname='./own35_mapi_5_way_1_shot'\n",
    "\n",
    "            precision_overall, recall_overall, f1ss= calculate_metrics_get_per(msg,confusion_mat,acciuracy=cortt / totl,cls=clss,flnm=fname)\n",
    "            precision.append(precision_overall)\n",
    "            recall.append(recall_overall)\n",
    "    print(f\"---Accu-----pre----rec---------> {np.mean(ttlal):.4f} ± {np.std(ttlal, ddof=1):.4f}  \"\n",
    "      f\"{np.mean(precision):.4f} ± {np.std(precision, ddof=1):.4f}  \"\n",
    "      f\"{np.mean(recall):.4f} ± {np.std(recall, ddof=1):.4f}\")\n",
    "\n",
    "    # print(\"---Accu-----pre----rec---------->\",np.mean(ttlal),'±',np.std(ttlal, ddof=1), np.mean(precision),'±',np.std(precision, ddof=1),np.mean(precision),'±',np.std(precision, ddof=1),)\n",
    "# %%%%%%\n",
    "\n",
    "def evaluate3(fname,data_loader, model, criterion=nn.CrossEntropyLoss()):\n",
    "    total_predictions = 0\n",
    "    correct_predictions = 0\n",
    "    total_loss = 0.0\n",
    "    accuracy = 0\n",
    "    datta = \"\"\n",
    "    model.eval()\n",
    "    tlv_cls=0\n",
    "    ttla=0\n",
    "    ttlac=0\n",
    "    with torch.no_grad():\n",
    "        for episode in range(len(clss_8)):\n",
    "            support_set, query_set = data_loader.__getitem__(clss_8[tlv_cls] , clss_support_imagesss_5_shot[tlv_cls])\n",
    "\n",
    "            \n",
    "            clssa=str(clss_8[tlv_cls])\n",
    "            clss=str(clssa).replace(',',' ').replace('\\'',' ').replace('\\'',' ')\n",
    "            msg=str(clss_support_imagesss_5_shot[tlv_cls])\n",
    "            str(clss_8[tlv_cls])\n",
    "\n",
    "            tlv_cls+=1\n",
    "            # print(len(support_set),len(query_set))\n",
    "            support_set = [(torch.stack(images).to(device), label[0]) for images, label in support_set]\n",
    "            query_set = [(torch.stack(images).to(device), label) for images, label in query_set]\n",
    "\n",
    "            support_images, support_labels = zip(*support_set)\n",
    "\n",
    "            query_images, query_labels = zip(*query_set)\n",
    "\n",
    "            classification_scores = model(support_images, support_labels, query_images)\n",
    "            cortt = 0\n",
    "            totl = 0\n",
    "            confusion_mat=None\n",
    "            all_predicted_labels = []\n",
    "            all_actual_labels = []\n",
    "            # print(len(classification_scores),len(query_labels))\n",
    "            for ei in range(len(classification_scores)):\n",
    "                classification_scores_each_class = classification_scores[ei]\n",
    "                # print(classification_scores_each_class)\n",
    "                predicted_labels_eachclas = torch.argmax(classification_scores_each_class, dim=1)\n",
    "                pp = predicted_labels_eachclas.tolist()\n",
    "                act = query_labels[ei]\n",
    "                all_predicted_labels.extend(pp)\n",
    "                all_actual_labels.extend(act)\n",
    "                for iiii in range(len(pp)):\n",
    "                    if pp[iiii] == act[iiii]:\n",
    "                        cortt = cortt + 1\n",
    "                totl = totl + len(pp)\n",
    "                # print(len(act))\n",
    "            accuracy = cortt / totl\n",
    "            ttla+=1\n",
    "            ttlac+=accuracy\n",
    "            # print(cortt , totl,\"Validation Accuracy:              \", cortt / totl)\n",
    "            # confusion_mat = confusion_matrix(all_actual_labels, all_predicted_labels)\n",
    "            # print(\"Confusion Matrix:\")\n",
    "            # print(confusion_mat)\n",
    "\n",
    "            # fname='./own35_mapi_5_way_1_shot'\n",
    "\n",
    "            # calculate_metrics_get_per(msg,confusion_mat,acciuracy=cortt / totl,cls=clss,flnm=fname)\n",
    "\n",
    "    print(\"---------------------->\",ttlac/ttla)\n",
    "    return ttlac/ttla"
   ]
  },
  {
   "cell_type": "code",
   "execution_count": 58,
   "metadata": {
    "scrolled": true
   },
   "outputs": [
    {
     "name": "stdout",
     "output_type": "stream",
     "text": [
      "Testing b_a_r = 0.7965, c_a_r = 0.1834, f_a_r = 0.7797\n"
     ]
    },
    {
     "name": "stderr",
     "output_type": "stream",
     "text": [
      "/home/asufian/.local/share/pipx/venvs/notebook/lib/python3.12/site-packages/torchvision/models/_utils.py:208: UserWarning: The parameter 'pretrained' is deprecated since 0.13 and may be removed in the future, please use 'weights' instead.\n",
      "  warnings.warn(\n",
      "/home/asufian/.local/share/pipx/venvs/notebook/lib/python3.12/site-packages/torchvision/models/_utils.py:223: UserWarning: Arguments other than a weight enum or `None` for 'weights' are deprecated since 0.13 and may be removed in the future. The current behavior is equivalent to passing `weights=None`.\n",
      "  warnings.warn(msg)\n"
     ]
    },
    {
     "name": "stdout",
     "output_type": "stream",
     "text": [
      "----------------------> 0.5633699633699634\n",
      "Evaluated Accuracy: 0.5634\n",
      "Testing b_a_r = 0.5969, c_a_r = 0.4458, f_a_r = 0.1000\n",
      "----------------------> 0.426098901098901\n",
      "Evaluated Accuracy: 0.4261\n",
      "Testing b_a_r = 0.4592, c_a_r = 0.3337, f_a_r = 0.1429\n",
      "----------------------> 0.4193223443223443\n",
      "Evaluated Accuracy: 0.4193\n",
      "Testing b_a_r = 0.6509, c_a_r = 0.0564, f_a_r = 0.7220\n",
      "----------------------> 0.6838827838827838\n",
      "Evaluated Accuracy: 0.6839\n",
      "Testing b_a_r = 0.9386, c_a_r = 0.0008, f_a_r = 0.9922\n",
      "----------------------> 0.6538461538461539\n",
      "Evaluated Accuracy: 0.6538\n",
      "Testing b_a_r = 0.0250, c_a_r = 1.0000, f_a_r = 0.4630\n"
     ]
    },
    {
     "name": "stderr",
     "output_type": "stream",
     "text": [
      "/home/asufian/.local/share/pipx/venvs/notebook/lib/python3.12/site-packages/torchvision/models/_utils.py:208: UserWarning: The parameter 'pretrained' is deprecated since 0.13 and may be removed in the future, please use 'weights' instead.\n",
      "  warnings.warn(\n",
      "/home/asufian/.local/share/pipx/venvs/notebook/lib/python3.12/site-packages/torchvision/models/_utils.py:223: UserWarning: Arguments other than a weight enum or `None` for 'weights' are deprecated since 0.13 and may be removed in the future. The current behavior is equivalent to passing `weights=None`.\n",
      "  warnings.warn(msg)\n"
     ]
    },
    {
     "name": "stdout",
     "output_type": "stream",
     "text": [
      "----------------------> 0.31346153846153846\n",
      "Evaluated Accuracy: 0.3135\n",
      "Testing b_a_r = 0.9430, c_a_r = 0.6980, f_a_r = 0.9507\n"
     ]
    },
    {
     "name": "stderr",
     "output_type": "stream",
     "text": [
      "/home/asufian/.local/share/pipx/venvs/notebook/lib/python3.12/site-packages/torchvision/models/_utils.py:208: UserWarning: The parameter 'pretrained' is deprecated since 0.13 and may be removed in the future, please use 'weights' instead.\n",
      "  warnings.warn(\n",
      "/home/asufian/.local/share/pipx/venvs/notebook/lib/python3.12/site-packages/torchvision/models/_utils.py:223: UserWarning: Arguments other than a weight enum or `None` for 'weights' are deprecated since 0.13 and may be removed in the future. The current behavior is equivalent to passing `weights=None`.\n",
      "  warnings.warn(msg)\n"
     ]
    },
    {
     "name": "stdout",
     "output_type": "stream",
     "text": [
      "----------------------> 0.34212454212454213\n",
      "Evaluated Accuracy: 0.3421\n",
      "Testing b_a_r = 0.0000, c_a_r = 0.0000, f_a_r = 0.0000\n"
     ]
    },
    {
     "name": "stderr",
     "output_type": "stream",
     "text": [
      "/home/asufian/.local/share/pipx/venvs/notebook/lib/python3.12/site-packages/torchvision/models/_utils.py:208: UserWarning: The parameter 'pretrained' is deprecated since 0.13 and may be removed in the future, please use 'weights' instead.\n",
      "  warnings.warn(\n",
      "/home/asufian/.local/share/pipx/venvs/notebook/lib/python3.12/site-packages/torchvision/models/_utils.py:223: UserWarning: Arguments other than a weight enum or `None` for 'weights' are deprecated since 0.13 and may be removed in the future. The current behavior is equivalent to passing `weights=None`.\n",
      "  warnings.warn(msg)\n"
     ]
    },
    {
     "name": "stdout",
     "output_type": "stream",
     "text": [
      "----------------------> 0.6737179487179488\n",
      "Evaluated Accuracy: 0.6737\n",
      "Testing b_a_r = 0.0000, c_a_r = 0.0594, f_a_r = 0.0000\n"
     ]
    },
    {
     "name": "stderr",
     "output_type": "stream",
     "text": [
      "/home/asufian/.local/share/pipx/venvs/notebook/lib/python3.12/site-packages/torchvision/models/_utils.py:208: UserWarning: The parameter 'pretrained' is deprecated since 0.13 and may be removed in the future, please use 'weights' instead.\n",
      "  warnings.warn(\n",
      "/home/asufian/.local/share/pipx/venvs/notebook/lib/python3.12/site-packages/torchvision/models/_utils.py:223: UserWarning: Arguments other than a weight enum or `None` for 'weights' are deprecated since 0.13 and may be removed in the future. The current behavior is equivalent to passing `weights=None`.\n",
      "  warnings.warn(msg)\n"
     ]
    },
    {
     "name": "stdout",
     "output_type": "stream",
     "text": [
      "----------------------> 0.6696886446886448\n",
      "Evaluated Accuracy: 0.6697\n",
      "Testing b_a_r = 0.9570, c_a_r = 0.0561, f_a_r = 0.0126\n"
     ]
    },
    {
     "name": "stderr",
     "output_type": "stream",
     "text": [
      "/home/asufian/.local/share/pipx/venvs/notebook/lib/python3.12/site-packages/torchvision/models/_utils.py:208: UserWarning: The parameter 'pretrained' is deprecated since 0.13 and may be removed in the future, please use 'weights' instead.\n",
      "  warnings.warn(\n",
      "/home/asufian/.local/share/pipx/venvs/notebook/lib/python3.12/site-packages/torchvision/models/_utils.py:223: UserWarning: Arguments other than a weight enum or `None` for 'weights' are deprecated since 0.13 and may be removed in the future. The current behavior is equivalent to passing `weights=None`.\n",
      "  warnings.warn(msg)\n"
     ]
    },
    {
     "name": "stdout",
     "output_type": "stream",
     "text": [
      "----------------------> 0.6751831501831501\n",
      "Evaluated Accuracy: 0.6752\n",
      "Testing b_a_r = 0.0270, c_a_r = 0.0680, f_a_r = 0.9711\n"
     ]
    },
    {
     "name": "stderr",
     "output_type": "stream",
     "text": [
      "/home/asufian/.local/share/pipx/venvs/notebook/lib/python3.12/site-packages/torchvision/models/_utils.py:208: UserWarning: The parameter 'pretrained' is deprecated since 0.13 and may be removed in the future, please use 'weights' instead.\n",
      "  warnings.warn(\n",
      "/home/asufian/.local/share/pipx/venvs/notebook/lib/python3.12/site-packages/torchvision/models/_utils.py:223: UserWarning: Arguments other than a weight enum or `None` for 'weights' are deprecated since 0.13 and may be removed in the future. The current behavior is equivalent to passing `weights=None`.\n",
      "  warnings.warn(msg)\n"
     ]
    },
    {
     "name": "stdout",
     "output_type": "stream",
     "text": [
      "----------------------> 0.6239010989010989\n",
      "Evaluated Accuracy: 0.6239\n",
      "Testing b_a_r = 1.0000, c_a_r = 0.0046, f_a_r = 0.4483\n"
     ]
    },
    {
     "name": "stderr",
     "output_type": "stream",
     "text": [
      "/home/asufian/.local/share/pipx/venvs/notebook/lib/python3.12/site-packages/torchvision/models/_utils.py:208: UserWarning: The parameter 'pretrained' is deprecated since 0.13 and may be removed in the future, please use 'weights' instead.\n",
      "  warnings.warn(\n",
      "/home/asufian/.local/share/pipx/venvs/notebook/lib/python3.12/site-packages/torchvision/models/_utils.py:223: UserWarning: Arguments other than a weight enum or `None` for 'weights' are deprecated since 0.13 and may be removed in the future. The current behavior is equivalent to passing `weights=None`.\n",
      "  warnings.warn(msg)\n"
     ]
    },
    {
     "name": "stdout",
     "output_type": "stream",
     "text": [
      "----------------------> 0.6870879120879121\n",
      "Evaluated Accuracy: 0.6871\n",
      "Testing b_a_r = 1.0000, c_a_r = 0.0000, f_a_r = 0.0000\n"
     ]
    },
    {
     "name": "stderr",
     "output_type": "stream",
     "text": [
      "/home/asufian/.local/share/pipx/venvs/notebook/lib/python3.12/site-packages/torchvision/models/_utils.py:208: UserWarning: The parameter 'pretrained' is deprecated since 0.13 and may be removed in the future, please use 'weights' instead.\n",
      "  warnings.warn(\n",
      "/home/asufian/.local/share/pipx/venvs/notebook/lib/python3.12/site-packages/torchvision/models/_utils.py:223: UserWarning: Arguments other than a weight enum or `None` for 'weights' are deprecated since 0.13 and may be removed in the future. The current behavior is equivalent to passing `weights=None`.\n",
      "  warnings.warn(msg)\n"
     ]
    },
    {
     "name": "stdout",
     "output_type": "stream",
     "text": [
      "----------------------> 0.6770146520146519\n",
      "Evaluated Accuracy: 0.6770\n",
      "Testing b_a_r = 1.0000, c_a_r = 0.0598, f_a_r = 0.4496\n"
     ]
    },
    {
     "name": "stderr",
     "output_type": "stream",
     "text": [
      "/home/asufian/.local/share/pipx/venvs/notebook/lib/python3.12/site-packages/torchvision/models/_utils.py:208: UserWarning: The parameter 'pretrained' is deprecated since 0.13 and may be removed in the future, please use 'weights' instead.\n",
      "  warnings.warn(\n",
      "/home/asufian/.local/share/pipx/venvs/notebook/lib/python3.12/site-packages/torchvision/models/_utils.py:223: UserWarning: Arguments other than a weight enum or `None` for 'weights' are deprecated since 0.13 and may be removed in the future. The current behavior is equivalent to passing `weights=None`.\n",
      "  warnings.warn(msg)\n"
     ]
    },
    {
     "name": "stdout",
     "output_type": "stream",
     "text": [
      "----------------------> 0.6839743589743591\n",
      "Evaluated Accuracy: 0.6840\n",
      "Testing b_a_r = 1.0000, c_a_r = 0.0000, f_a_r = 0.6769\n"
     ]
    },
    {
     "name": "stderr",
     "output_type": "stream",
     "text": [
      "/home/asufian/.local/share/pipx/venvs/notebook/lib/python3.12/site-packages/torchvision/models/_utils.py:208: UserWarning: The parameter 'pretrained' is deprecated since 0.13 and may be removed in the future, please use 'weights' instead.\n",
      "  warnings.warn(\n",
      "/home/asufian/.local/share/pipx/venvs/notebook/lib/python3.12/site-packages/torchvision/models/_utils.py:223: UserWarning: Arguments other than a weight enum or `None` for 'weights' are deprecated since 0.13 and may be removed in the future. The current behavior is equivalent to passing `weights=None`.\n",
      "  warnings.warn(msg)\n"
     ]
    },
    {
     "name": "stdout",
     "output_type": "stream",
     "text": [
      "----------------------> 0.6976190476190477\n",
      "Evaluated Accuracy: 0.6976\n",
      "Testing b_a_r = 0.7546, c_a_r = 0.7363, f_a_r = 0.0000\n"
     ]
    },
    {
     "name": "stderr",
     "output_type": "stream",
     "text": [
      "/home/asufian/.local/share/pipx/venvs/notebook/lib/python3.12/site-packages/torchvision/models/_utils.py:208: UserWarning: The parameter 'pretrained' is deprecated since 0.13 and may be removed in the future, please use 'weights' instead.\n",
      "  warnings.warn(\n",
      "/home/asufian/.local/share/pipx/venvs/notebook/lib/python3.12/site-packages/torchvision/models/_utils.py:223: UserWarning: Arguments other than a weight enum or `None` for 'weights' are deprecated since 0.13 and may be removed in the future. The current behavior is equivalent to passing `weights=None`.\n",
      "  warnings.warn(msg)\n"
     ]
    },
    {
     "name": "stdout",
     "output_type": "stream",
     "text": [
      "----------------------> 0.28608058608058606\n",
      "Evaluated Accuracy: 0.2861\n",
      "Testing b_a_r = 0.8735, c_a_r = 0.4286, f_a_r = 1.0000\n"
     ]
    },
    {
     "name": "stderr",
     "output_type": "stream",
     "text": [
      "/home/asufian/.local/share/pipx/venvs/notebook/lib/python3.12/site-packages/torchvision/models/_utils.py:208: UserWarning: The parameter 'pretrained' is deprecated since 0.13 and may be removed in the future, please use 'weights' instead.\n",
      "  warnings.warn(\n",
      "/home/asufian/.local/share/pipx/venvs/notebook/lib/python3.12/site-packages/torchvision/models/_utils.py:223: UserWarning: Arguments other than a weight enum or `None` for 'weights' are deprecated since 0.13 and may be removed in the future. The current behavior is equivalent to passing `weights=None`.\n",
      "  warnings.warn(msg)\n"
     ]
    },
    {
     "name": "stdout",
     "output_type": "stream",
     "text": [
      "----------------------> 0.44184981684981683\n",
      "Evaluated Accuracy: 0.4418\n",
      "Testing b_a_r = 0.1027, c_a_r = 0.0226, f_a_r = 0.6130\n"
     ]
    },
    {
     "name": "stderr",
     "output_type": "stream",
     "text": [
      "/home/asufian/.local/share/pipx/venvs/notebook/lib/python3.12/site-packages/torchvision/models/_utils.py:208: UserWarning: The parameter 'pretrained' is deprecated since 0.13 and may be removed in the future, please use 'weights' instead.\n",
      "  warnings.warn(\n",
      "/home/asufian/.local/share/pipx/venvs/notebook/lib/python3.12/site-packages/torchvision/models/_utils.py:223: UserWarning: Arguments other than a weight enum or `None` for 'weights' are deprecated since 0.13 and may be removed in the future. The current behavior is equivalent to passing `weights=None`.\n",
      "  warnings.warn(msg)\n"
     ]
    },
    {
     "name": "stdout",
     "output_type": "stream",
     "text": [
      "----------------------> 0.692032967032967\n",
      "Evaluated Accuracy: 0.6920\n",
      "Testing b_a_r = 0.9514, c_a_r = 0.0187, f_a_r = 0.1875\n"
     ]
    },
    {
     "name": "stderr",
     "output_type": "stream",
     "text": [
      "/home/asufian/.local/share/pipx/venvs/notebook/lib/python3.12/site-packages/torchvision/models/_utils.py:208: UserWarning: The parameter 'pretrained' is deprecated since 0.13 and may be removed in the future, please use 'weights' instead.\n",
      "  warnings.warn(\n",
      "/home/asufian/.local/share/pipx/venvs/notebook/lib/python3.12/site-packages/torchvision/models/_utils.py:223: UserWarning: Arguments other than a weight enum or `None` for 'weights' are deprecated since 0.13 and may be removed in the future. The current behavior is equivalent to passing `weights=None`.\n",
      "  warnings.warn(msg)\n"
     ]
    },
    {
     "name": "stdout",
     "output_type": "stream",
     "text": [
      "----------------------> 0.6783882783882783\n",
      "Evaluated Accuracy: 0.6784\n",
      "Testing b_a_r = 0.1141, c_a_r = 0.9990, f_a_r = 0.9989\n"
     ]
    },
    {
     "name": "stderr",
     "output_type": "stream",
     "text": [
      "/home/asufian/.local/share/pipx/venvs/notebook/lib/python3.12/site-packages/torchvision/models/_utils.py:208: UserWarning: The parameter 'pretrained' is deprecated since 0.13 and may be removed in the future, please use 'weights' instead.\n",
      "  warnings.warn(\n",
      "/home/asufian/.local/share/pipx/venvs/notebook/lib/python3.12/site-packages/torchvision/models/_utils.py:223: UserWarning: Arguments other than a weight enum or `None` for 'weights' are deprecated since 0.13 and may be removed in the future. The current behavior is equivalent to passing `weights=None`.\n",
      "  warnings.warn(msg)\n"
     ]
    },
    {
     "name": "stdout",
     "output_type": "stream",
     "text": [
      "----------------------> 0.3170329670329671\n",
      "Evaluated Accuracy: 0.3170\n",
      "Testing b_a_r = 0.9253, c_a_r = 0.1248, f_a_r = 0.2144\n"
     ]
    },
    {
     "name": "stderr",
     "output_type": "stream",
     "text": [
      "/home/asufian/.local/share/pipx/venvs/notebook/lib/python3.12/site-packages/torchvision/models/_utils.py:208: UserWarning: The parameter 'pretrained' is deprecated since 0.13 and may be removed in the future, please use 'weights' instead.\n",
      "  warnings.warn(\n",
      "/home/asufian/.local/share/pipx/venvs/notebook/lib/python3.12/site-packages/torchvision/models/_utils.py:223: UserWarning: Arguments other than a weight enum or `None` for 'weights' are deprecated since 0.13 and may be removed in the future. The current behavior is equivalent to passing `weights=None`.\n",
      "  warnings.warn(msg)\n"
     ]
    },
    {
     "name": "stdout",
     "output_type": "stream",
     "text": [
      "----------------------> 0.6248168498168497\n",
      "Evaluated Accuracy: 0.6248\n",
      "Testing b_a_r = 0.1054, c_a_r = 0.0000, f_a_r = 0.0081\n"
     ]
    },
    {
     "name": "stderr",
     "output_type": "stream",
     "text": [
      "/home/asufian/.local/share/pipx/venvs/notebook/lib/python3.12/site-packages/torchvision/models/_utils.py:208: UserWarning: The parameter 'pretrained' is deprecated since 0.13 and may be removed in the future, please use 'weights' instead.\n",
      "  warnings.warn(\n",
      "/home/asufian/.local/share/pipx/venvs/notebook/lib/python3.12/site-packages/torchvision/models/_utils.py:223: UserWarning: Arguments other than a weight enum or `None` for 'weights' are deprecated since 0.13 and may be removed in the future. The current behavior is equivalent to passing `weights=None`.\n",
      "  warnings.warn(msg)\n"
     ]
    },
    {
     "name": "stdout",
     "output_type": "stream",
     "text": [
      "----------------------> 0.6741758241758242\n",
      "Evaluated Accuracy: 0.6742\n",
      "Testing b_a_r = 0.9731, c_a_r = 0.0001, f_a_r = 0.5907\n"
     ]
    },
    {
     "name": "stderr",
     "output_type": "stream",
     "text": [
      "/home/asufian/.local/share/pipx/venvs/notebook/lib/python3.12/site-packages/torchvision/models/_utils.py:208: UserWarning: The parameter 'pretrained' is deprecated since 0.13 and may be removed in the future, please use 'weights' instead.\n",
      "  warnings.warn(\n",
      "/home/asufian/.local/share/pipx/venvs/notebook/lib/python3.12/site-packages/torchvision/models/_utils.py:223: UserWarning: Arguments other than a weight enum or `None` for 'weights' are deprecated since 0.13 and may be removed in the future. The current behavior is equivalent to passing `weights=None`.\n",
      "  warnings.warn(msg)\n"
     ]
    },
    {
     "name": "stdout",
     "output_type": "stream",
     "text": [
      "----------------------> 0.6948717948717948\n",
      "Evaluated Accuracy: 0.6949\n",
      "Testing b_a_r = 0.9611, c_a_r = 0.0252, f_a_r = 0.7105\n"
     ]
    },
    {
     "name": "stderr",
     "output_type": "stream",
     "text": [
      "/home/asufian/.local/share/pipx/venvs/notebook/lib/python3.12/site-packages/torchvision/models/_utils.py:208: UserWarning: The parameter 'pretrained' is deprecated since 0.13 and may be removed in the future, please use 'weights' instead.\n",
      "  warnings.warn(\n",
      "/home/asufian/.local/share/pipx/venvs/notebook/lib/python3.12/site-packages/torchvision/models/_utils.py:223: UserWarning: Arguments other than a weight enum or `None` for 'weights' are deprecated since 0.13 and may be removed in the future. The current behavior is equivalent to passing `weights=None`.\n",
      "  warnings.warn(msg)\n"
     ]
    },
    {
     "name": "stdout",
     "output_type": "stream",
     "text": [
      "----------------------> 0.6937728937728938\n",
      "Evaluated Accuracy: 0.6938\n",
      "Testing b_a_r = 0.7342, c_a_r = 0.9968, f_a_r = 0.0033\n"
     ]
    },
    {
     "name": "stderr",
     "output_type": "stream",
     "text": [
      "/home/asufian/.local/share/pipx/venvs/notebook/lib/python3.12/site-packages/torchvision/models/_utils.py:208: UserWarning: The parameter 'pretrained' is deprecated since 0.13 and may be removed in the future, please use 'weights' instead.\n",
      "  warnings.warn(\n",
      "/home/asufian/.local/share/pipx/venvs/notebook/lib/python3.12/site-packages/torchvision/models/_utils.py:223: UserWarning: Arguments other than a weight enum or `None` for 'weights' are deprecated since 0.13 and may be removed in the future. The current behavior is equivalent to passing `weights=None`.\n",
      "  warnings.warn(msg)\n"
     ]
    },
    {
     "name": "stdout",
     "output_type": "stream",
     "text": [
      "----------------------> 0.2623626373626374\n",
      "Evaluated Accuracy: 0.2624\n",
      "Testing b_a_r = 0.0510, c_a_r = 0.0012, f_a_r = 0.7869\n"
     ]
    },
    {
     "name": "stderr",
     "output_type": "stream",
     "text": [
      "/home/asufian/.local/share/pipx/venvs/notebook/lib/python3.12/site-packages/torchvision/models/_utils.py:208: UserWarning: The parameter 'pretrained' is deprecated since 0.13 and may be removed in the future, please use 'weights' instead.\n",
      "  warnings.warn(\n",
      "/home/asufian/.local/share/pipx/venvs/notebook/lib/python3.12/site-packages/torchvision/models/_utils.py:223: UserWarning: Arguments other than a weight enum or `None` for 'weights' are deprecated since 0.13 and may be removed in the future. The current behavior is equivalent to passing `weights=None`.\n",
      "  warnings.warn(msg)\n"
     ]
    },
    {
     "name": "stdout",
     "output_type": "stream",
     "text": [
      "----------------------> 0.6803113553113553\n",
      "Evaluated Accuracy: 0.6803\n",
      "Testing b_a_r = 0.0219, c_a_r = 0.5571, f_a_r = 0.5672\n"
     ]
    },
    {
     "name": "stderr",
     "output_type": "stream",
     "text": [
      "/home/asufian/.local/share/pipx/venvs/notebook/lib/python3.12/site-packages/torchvision/models/_utils.py:208: UserWarning: The parameter 'pretrained' is deprecated since 0.13 and may be removed in the future, please use 'weights' instead.\n",
      "  warnings.warn(\n",
      "/home/asufian/.local/share/pipx/venvs/notebook/lib/python3.12/site-packages/torchvision/models/_utils.py:223: UserWarning: Arguments other than a weight enum or `None` for 'weights' are deprecated since 0.13 and may be removed in the future. The current behavior is equivalent to passing `weights=None`.\n",
      "  warnings.warn(msg)\n"
     ]
    },
    {
     "name": "stdout",
     "output_type": "stream",
     "text": [
      "----------------------> 0.36959706959706956\n",
      "Evaluated Accuracy: 0.3696\n",
      "Testing b_a_r = 0.8358, c_a_r = 0.1511, f_a_r = 0.0048\n"
     ]
    },
    {
     "name": "stderr",
     "output_type": "stream",
     "text": [
      "/home/asufian/.local/share/pipx/venvs/notebook/lib/python3.12/site-packages/torchvision/models/_utils.py:208: UserWarning: The parameter 'pretrained' is deprecated since 0.13 and may be removed in the future, please use 'weights' instead.\n",
      "  warnings.warn(\n",
      "/home/asufian/.local/share/pipx/venvs/notebook/lib/python3.12/site-packages/torchvision/models/_utils.py:223: UserWarning: Arguments other than a weight enum or `None` for 'weights' are deprecated since 0.13 and may be removed in the future. The current behavior is equivalent to passing `weights=None`.\n",
      "  warnings.warn(msg)\n"
     ]
    },
    {
     "name": "stdout",
     "output_type": "stream",
     "text": [
      "----------------------> 0.5867216117216117\n",
      "Evaluated Accuracy: 0.5867\n",
      "Testing b_a_r = 0.9882, c_a_r = 0.2726, f_a_r = 1.0000\n"
     ]
    },
    {
     "name": "stderr",
     "output_type": "stream",
     "text": [
      "/home/asufian/.local/share/pipx/venvs/notebook/lib/python3.12/site-packages/torchvision/models/_utils.py:208: UserWarning: The parameter 'pretrained' is deprecated since 0.13 and may be removed in the future, please use 'weights' instead.\n",
      "  warnings.warn(\n",
      "/home/asufian/.local/share/pipx/venvs/notebook/lib/python3.12/site-packages/torchvision/models/_utils.py:223: UserWarning: Arguments other than a weight enum or `None` for 'weights' are deprecated since 0.13 and may be removed in the future. The current behavior is equivalent to passing `weights=None`.\n",
      "  warnings.warn(msg)\n"
     ]
    },
    {
     "name": "stdout",
     "output_type": "stream",
     "text": [
      "----------------------> 0.4372710622710623\n",
      "Evaluated Accuracy: 0.4373\n",
      "Testing b_a_r = 0.8764, c_a_r = 0.0937, f_a_r = 0.5776\n"
     ]
    },
    {
     "name": "stderr",
     "output_type": "stream",
     "text": [
      "/home/asufian/.local/share/pipx/venvs/notebook/lib/python3.12/site-packages/torchvision/models/_utils.py:208: UserWarning: The parameter 'pretrained' is deprecated since 0.13 and may be removed in the future, please use 'weights' instead.\n",
      "  warnings.warn(\n",
      "/home/asufian/.local/share/pipx/venvs/notebook/lib/python3.12/site-packages/torchvision/models/_utils.py:223: UserWarning: Arguments other than a weight enum or `None` for 'weights' are deprecated since 0.13 and may be removed in the future. The current behavior is equivalent to passing `weights=None`.\n",
      "  warnings.warn(msg)\n"
     ]
    },
    {
     "name": "stdout",
     "output_type": "stream",
     "text": [
      "----------------------> 0.6756410256410257\n",
      "Evaluated Accuracy: 0.6756\n",
      "Testing b_a_r = 0.9795, c_a_r = 0.0410, f_a_r = 0.6012\n"
     ]
    },
    {
     "name": "stderr",
     "output_type": "stream",
     "text": [
      "/home/asufian/.local/share/pipx/venvs/notebook/lib/python3.12/site-packages/torchvision/models/_utils.py:208: UserWarning: The parameter 'pretrained' is deprecated since 0.13 and may be removed in the future, please use 'weights' instead.\n",
      "  warnings.warn(\n",
      "/home/asufian/.local/share/pipx/venvs/notebook/lib/python3.12/site-packages/torchvision/models/_utils.py:223: UserWarning: Arguments other than a weight enum or `None` for 'weights' are deprecated since 0.13 and may be removed in the future. The current behavior is equivalent to passing `weights=None`.\n",
      "  warnings.warn(msg)\n"
     ]
    },
    {
     "name": "stdout",
     "output_type": "stream",
     "text": [
      "----------------------> 0.6945970695970696\n",
      "Evaluated Accuracy: 0.6946\n",
      "Testing b_a_r = 0.0262, c_a_r = 0.8438, f_a_r = 0.6623\n"
     ]
    },
    {
     "name": "stderr",
     "output_type": "stream",
     "text": [
      "/home/asufian/.local/share/pipx/venvs/notebook/lib/python3.12/site-packages/torchvision/models/_utils.py:208: UserWarning: The parameter 'pretrained' is deprecated since 0.13 and may be removed in the future, please use 'weights' instead.\n",
      "  warnings.warn(\n",
      "/home/asufian/.local/share/pipx/venvs/notebook/lib/python3.12/site-packages/torchvision/models/_utils.py:223: UserWarning: Arguments other than a weight enum or `None` for 'weights' are deprecated since 0.13 and may be removed in the future. The current behavior is equivalent to passing `weights=None`.\n",
      "  warnings.warn(msg)\n"
     ]
    },
    {
     "name": "stdout",
     "output_type": "stream",
     "text": [
      "----------------------> 0.32454212454212455\n",
      "Evaluated Accuracy: 0.3245\n",
      "Testing b_a_r = 0.2662, c_a_r = 0.5779, f_a_r = 0.0012\n"
     ]
    },
    {
     "name": "stderr",
     "output_type": "stream",
     "text": [
      "/home/asufian/.local/share/pipx/venvs/notebook/lib/python3.12/site-packages/torchvision/models/_utils.py:208: UserWarning: The parameter 'pretrained' is deprecated since 0.13 and may be removed in the future, please use 'weights' instead.\n",
      "  warnings.warn(\n",
      "/home/asufian/.local/share/pipx/venvs/notebook/lib/python3.12/site-packages/torchvision/models/_utils.py:223: UserWarning: Arguments other than a weight enum or `None` for 'weights' are deprecated since 0.13 and may be removed in the future. The current behavior is equivalent to passing `weights=None`.\n",
      "  warnings.warn(msg)\n"
     ]
    },
    {
     "name": "stdout",
     "output_type": "stream",
     "text": [
      "----------------------> 0.322985347985348\n",
      "Evaluated Accuracy: 0.3230\n",
      "Testing b_a_r = 0.9422, c_a_r = 0.3748, f_a_r = 0.5915\n"
     ]
    },
    {
     "name": "stderr",
     "output_type": "stream",
     "text": [
      "/home/asufian/.local/share/pipx/venvs/notebook/lib/python3.12/site-packages/torchvision/models/_utils.py:208: UserWarning: The parameter 'pretrained' is deprecated since 0.13 and may be removed in the future, please use 'weights' instead.\n",
      "  warnings.warn(\n",
      "/home/asufian/.local/share/pipx/venvs/notebook/lib/python3.12/site-packages/torchvision/models/_utils.py:223: UserWarning: Arguments other than a weight enum or `None` for 'weights' are deprecated since 0.13 and may be removed in the future. The current behavior is equivalent to passing `weights=None`.\n",
      "  warnings.warn(msg)\n"
     ]
    },
    {
     "name": "stdout",
     "output_type": "stream",
     "text": [
      "----------------------> 0.4926739926739927\n",
      "Evaluated Accuracy: 0.4927\n",
      "Testing b_a_r = 0.9441, c_a_r = 0.2063, f_a_r = 0.4298\n"
     ]
    },
    {
     "name": "stderr",
     "output_type": "stream",
     "text": [
      "/home/asufian/.local/share/pipx/venvs/notebook/lib/python3.12/site-packages/torchvision/models/_utils.py:208: UserWarning: The parameter 'pretrained' is deprecated since 0.13 and may be removed in the future, please use 'weights' instead.\n",
      "  warnings.warn(\n",
      "/home/asufian/.local/share/pipx/venvs/notebook/lib/python3.12/site-packages/torchvision/models/_utils.py:223: UserWarning: Arguments other than a weight enum or `None` for 'weights' are deprecated since 0.13 and may be removed in the future. The current behavior is equivalent to passing `weights=None`.\n",
      "  warnings.warn(msg)\n"
     ]
    },
    {
     "name": "stdout",
     "output_type": "stream",
     "text": [
      "----------------------> 0.5402930402930401\n",
      "Evaluated Accuracy: 0.5403\n",
      "Testing b_a_r = 0.7680, c_a_r = 0.5510, f_a_r = 0.9986\n"
     ]
    },
    {
     "name": "stderr",
     "output_type": "stream",
     "text": [
      "/home/asufian/.local/share/pipx/venvs/notebook/lib/python3.12/site-packages/torchvision/models/_utils.py:208: UserWarning: The parameter 'pretrained' is deprecated since 0.13 and may be removed in the future, please use 'weights' instead.\n",
      "  warnings.warn(\n",
      "/home/asufian/.local/share/pipx/venvs/notebook/lib/python3.12/site-packages/torchvision/models/_utils.py:223: UserWarning: Arguments other than a weight enum or `None` for 'weights' are deprecated since 0.13 and may be removed in the future. The current behavior is equivalent to passing `weights=None`.\n",
      "  warnings.warn(msg)\n"
     ]
    },
    {
     "name": "stdout",
     "output_type": "stream",
     "text": [
      "----------------------> 0.3716117216117217\n",
      "Evaluated Accuracy: 0.3716\n",
      "Testing b_a_r = 0.0994, c_a_r = 0.0522, f_a_r = 0.2436\n"
     ]
    },
    {
     "name": "stderr",
     "output_type": "stream",
     "text": [
      "/home/asufian/.local/share/pipx/venvs/notebook/lib/python3.12/site-packages/torchvision/models/_utils.py:208: UserWarning: The parameter 'pretrained' is deprecated since 0.13 and may be removed in the future, please use 'weights' instead.\n",
      "  warnings.warn(\n",
      "/home/asufian/.local/share/pipx/venvs/notebook/lib/python3.12/site-packages/torchvision/models/_utils.py:223: UserWarning: Arguments other than a weight enum or `None` for 'weights' are deprecated since 0.13 and may be removed in the future. The current behavior is equivalent to passing `weights=None`.\n",
      "  warnings.warn(msg)\n"
     ]
    },
    {
     "name": "stdout",
     "output_type": "stream",
     "text": [
      "----------------------> 0.6716117216117217\n",
      "Evaluated Accuracy: 0.6716\n",
      "Testing b_a_r = 0.8195, c_a_r = 0.8640, f_a_r = 0.9997\n"
     ]
    },
    {
     "name": "stderr",
     "output_type": "stream",
     "text": [
      "/home/asufian/.local/share/pipx/venvs/notebook/lib/python3.12/site-packages/torchvision/models/_utils.py:208: UserWarning: The parameter 'pretrained' is deprecated since 0.13 and may be removed in the future, please use 'weights' instead.\n",
      "  warnings.warn(\n",
      "/home/asufian/.local/share/pipx/venvs/notebook/lib/python3.12/site-packages/torchvision/models/_utils.py:223: UserWarning: Arguments other than a weight enum or `None` for 'weights' are deprecated since 0.13 and may be removed in the future. The current behavior is equivalent to passing `weights=None`.\n",
      "  warnings.warn(msg)\n"
     ]
    },
    {
     "name": "stdout",
     "output_type": "stream",
     "text": [
      "----------------------> 0.3232600732600733\n",
      "Evaluated Accuracy: 0.3233\n",
      "Testing b_a_r = 0.1049, c_a_r = 0.0005, f_a_r = 0.3424\n"
     ]
    },
    {
     "name": "stderr",
     "output_type": "stream",
     "text": [
      "/home/asufian/.local/share/pipx/venvs/notebook/lib/python3.12/site-packages/torchvision/models/_utils.py:208: UserWarning: The parameter 'pretrained' is deprecated since 0.13 and may be removed in the future, please use 'weights' instead.\n",
      "  warnings.warn(\n",
      "/home/asufian/.local/share/pipx/venvs/notebook/lib/python3.12/site-packages/torchvision/models/_utils.py:223: UserWarning: Arguments other than a weight enum or `None` for 'weights' are deprecated since 0.13 and may be removed in the future. The current behavior is equivalent to passing `weights=None`.\n",
      "  warnings.warn(msg)\n"
     ]
    },
    {
     "name": "stdout",
     "output_type": "stream",
     "text": [
      "----------------------> 0.6787545787545786\n",
      "Evaluated Accuracy: 0.6788\n",
      "Testing b_a_r = 0.0196, c_a_r = 0.0667, f_a_r = 0.5455\n"
     ]
    },
    {
     "name": "stderr",
     "output_type": "stream",
     "text": [
      "/home/asufian/.local/share/pipx/venvs/notebook/lib/python3.12/site-packages/torchvision/models/_utils.py:208: UserWarning: The parameter 'pretrained' is deprecated since 0.13 and may be removed in the future, please use 'weights' instead.\n",
      "  warnings.warn(\n",
      "/home/asufian/.local/share/pipx/venvs/notebook/lib/python3.12/site-packages/torchvision/models/_utils.py:223: UserWarning: Arguments other than a weight enum or `None` for 'weights' are deprecated since 0.13 and may be removed in the future. The current behavior is equivalent to passing `weights=None`.\n",
      "  warnings.warn(msg)\n"
     ]
    },
    {
     "name": "stdout",
     "output_type": "stream",
     "text": [
      "----------------------> 0.6817765567765568\n",
      "Evaluated Accuracy: 0.6818\n",
      "Testing b_a_r = 0.2177, c_a_r = 0.8743, f_a_r = 0.0017\n"
     ]
    },
    {
     "name": "stderr",
     "output_type": "stream",
     "text": [
      "/home/asufian/.local/share/pipx/venvs/notebook/lib/python3.12/site-packages/torchvision/models/_utils.py:208: UserWarning: The parameter 'pretrained' is deprecated since 0.13 and may be removed in the future, please use 'weights' instead.\n",
      "  warnings.warn(\n",
      "/home/asufian/.local/share/pipx/venvs/notebook/lib/python3.12/site-packages/torchvision/models/_utils.py:223: UserWarning: Arguments other than a weight enum or `None` for 'weights' are deprecated since 0.13 and may be removed in the future. The current behavior is equivalent to passing `weights=None`.\n",
      "  warnings.warn(msg)\n"
     ]
    },
    {
     "name": "stdout",
     "output_type": "stream",
     "text": [
      "----------------------> 0.27097069597069595\n",
      "Evaluated Accuracy: 0.2710\n",
      "Testing b_a_r = 0.9361, c_a_r = 0.0999, f_a_r = 0.7515\n"
     ]
    },
    {
     "name": "stderr",
     "output_type": "stream",
     "text": [
      "/home/asufian/.local/share/pipx/venvs/notebook/lib/python3.12/site-packages/torchvision/models/_utils.py:208: UserWarning: The parameter 'pretrained' is deprecated since 0.13 and may be removed in the future, please use 'weights' instead.\n",
      "  warnings.warn(\n",
      "/home/asufian/.local/share/pipx/venvs/notebook/lib/python3.12/site-packages/torchvision/models/_utils.py:223: UserWarning: Arguments other than a weight enum or `None` for 'weights' are deprecated since 0.13 and may be removed in the future. The current behavior is equivalent to passing `weights=None`.\n",
      "  warnings.warn(msg)\n"
     ]
    },
    {
     "name": "stdout",
     "output_type": "stream",
     "text": [
      "----------------------> 0.6608058608058608\n",
      "Evaluated Accuracy: 0.6608\n",
      "Testing b_a_r = 0.8913, c_a_r = 0.1336, f_a_r = 0.9968\n"
     ]
    },
    {
     "name": "stderr",
     "output_type": "stream",
     "text": [
      "/home/asufian/.local/share/pipx/venvs/notebook/lib/python3.12/site-packages/torchvision/models/_utils.py:208: UserWarning: The parameter 'pretrained' is deprecated since 0.13 and may be removed in the future, please use 'weights' instead.\n",
      "  warnings.warn(\n",
      "/home/asufian/.local/share/pipx/venvs/notebook/lib/python3.12/site-packages/torchvision/models/_utils.py:223: UserWarning: Arguments other than a weight enum or `None` for 'weights' are deprecated since 0.13 and may be removed in the future. The current behavior is equivalent to passing `weights=None`.\n",
      "  warnings.warn(msg)\n"
     ]
    },
    {
     "name": "stdout",
     "output_type": "stream",
     "text": [
      "----------------------> 0.5963369963369963\n",
      "Evaluated Accuracy: 0.5963\n",
      "Testing b_a_r = 0.0120, c_a_r = 0.0308, f_a_r = 0.4607\n"
     ]
    },
    {
     "name": "stderr",
     "output_type": "stream",
     "text": [
      "/home/asufian/.local/share/pipx/venvs/notebook/lib/python3.12/site-packages/torchvision/models/_utils.py:208: UserWarning: The parameter 'pretrained' is deprecated since 0.13 and may be removed in the future, please use 'weights' instead.\n",
      "  warnings.warn(\n",
      "/home/asufian/.local/share/pipx/venvs/notebook/lib/python3.12/site-packages/torchvision/models/_utils.py:223: UserWarning: Arguments other than a weight enum or `None` for 'weights' are deprecated since 0.13 and may be removed in the future. The current behavior is equivalent to passing `weights=None`.\n",
      "  warnings.warn(msg)\n"
     ]
    },
    {
     "name": "stdout",
     "output_type": "stream",
     "text": [
      "----------------------> 0.6856227106227106\n",
      "Evaluated Accuracy: 0.6856\n",
      "Testing b_a_r = 0.0163, c_a_r = 0.0007, f_a_r = 0.5384\n"
     ]
    },
    {
     "name": "stderr",
     "output_type": "stream",
     "text": [
      "/home/asufian/.local/share/pipx/venvs/notebook/lib/python3.12/site-packages/torchvision/models/_utils.py:208: UserWarning: The parameter 'pretrained' is deprecated since 0.13 and may be removed in the future, please use 'weights' instead.\n",
      "  warnings.warn(\n",
      "/home/asufian/.local/share/pipx/venvs/notebook/lib/python3.12/site-packages/torchvision/models/_utils.py:223: UserWarning: Arguments other than a weight enum or `None` for 'weights' are deprecated since 0.13 and may be removed in the future. The current behavior is equivalent to passing `weights=None`.\n",
      "  warnings.warn(msg)\n"
     ]
    },
    {
     "name": "stdout",
     "output_type": "stream",
     "text": [
      "----------------------> 0.6923992673992673\n",
      "Evaluated Accuracy: 0.6924\n",
      "Testing b_a_r = 0.9761, c_a_r = 0.0344, f_a_r = 0.8604\n"
     ]
    },
    {
     "name": "stderr",
     "output_type": "stream",
     "text": [
      "/home/asufian/.local/share/pipx/venvs/notebook/lib/python3.12/site-packages/torchvision/models/_utils.py:208: UserWarning: The parameter 'pretrained' is deprecated since 0.13 and may be removed in the future, please use 'weights' instead.\n",
      "  warnings.warn(\n",
      "/home/asufian/.local/share/pipx/venvs/notebook/lib/python3.12/site-packages/torchvision/models/_utils.py:223: UserWarning: Arguments other than a weight enum or `None` for 'weights' are deprecated since 0.13 and may be removed in the future. The current behavior is equivalent to passing `weights=None`.\n",
      "  warnings.warn(msg)\n"
     ]
    },
    {
     "name": "stdout",
     "output_type": "stream",
     "text": [
      "----------------------> 0.6646520146520147\n",
      "Evaluated Accuracy: 0.6647\n",
      "Testing b_a_r = 0.9463, c_a_r = 0.0004, f_a_r = 0.6586\n"
     ]
    },
    {
     "name": "stderr",
     "output_type": "stream",
     "text": [
      "/home/asufian/.local/share/pipx/venvs/notebook/lib/python3.12/site-packages/torchvision/models/_utils.py:208: UserWarning: The parameter 'pretrained' is deprecated since 0.13 and may be removed in the future, please use 'weights' instead.\n",
      "  warnings.warn(\n",
      "/home/asufian/.local/share/pipx/venvs/notebook/lib/python3.12/site-packages/torchvision/models/_utils.py:223: UserWarning: Arguments other than a weight enum or `None` for 'weights' are deprecated since 0.13 and may be removed in the future. The current behavior is equivalent to passing `weights=None`.\n",
      "  warnings.warn(msg)\n"
     ]
    },
    {
     "name": "stdout",
     "output_type": "stream",
     "text": [
      "----------------------> 0.6974358974358974\n",
      "Evaluated Accuracy: 0.6974\n",
      "Testing b_a_r = 0.9441, c_a_r = 0.0217, f_a_r = 0.5360\n"
     ]
    },
    {
     "name": "stderr",
     "output_type": "stream",
     "text": [
      "/home/asufian/.local/share/pipx/venvs/notebook/lib/python3.12/site-packages/torchvision/models/_utils.py:208: UserWarning: The parameter 'pretrained' is deprecated since 0.13 and may be removed in the future, please use 'weights' instead.\n",
      "  warnings.warn(\n",
      "/home/asufian/.local/share/pipx/venvs/notebook/lib/python3.12/site-packages/torchvision/models/_utils.py:223: UserWarning: Arguments other than a weight enum or `None` for 'weights' are deprecated since 0.13 and may be removed in the future. The current behavior is equivalent to passing `weights=None`.\n",
      "  warnings.warn(msg)\n"
     ]
    },
    {
     "name": "stdout",
     "output_type": "stream",
     "text": [
      "----------------------> 0.6927655677655677\n",
      "Evaluated Accuracy: 0.6928\n",
      "Testing b_a_r = 0.0081, c_a_r = 0.1178, f_a_r = 0.4776\n"
     ]
    },
    {
     "name": "stderr",
     "output_type": "stream",
     "text": [
      "/home/asufian/.local/share/pipx/venvs/notebook/lib/python3.12/site-packages/torchvision/models/_utils.py:208: UserWarning: The parameter 'pretrained' is deprecated since 0.13 and may be removed in the future, please use 'weights' instead.\n",
      "  warnings.warn(\n",
      "/home/asufian/.local/share/pipx/venvs/notebook/lib/python3.12/site-packages/torchvision/models/_utils.py:223: UserWarning: Arguments other than a weight enum or `None` for 'weights' are deprecated since 0.13 and may be removed in the future. The current behavior is equivalent to passing `weights=None`.\n",
      "  warnings.warn(msg)\n"
     ]
    },
    {
     "name": "stdout",
     "output_type": "stream",
     "text": [
      "----------------------> 0.6437728937728937\n",
      "Evaluated Accuracy: 0.6438\n",
      "Testing b_a_r = 0.9788, c_a_r = 0.6988, f_a_r = 0.4406\n"
     ]
    },
    {
     "name": "stderr",
     "output_type": "stream",
     "text": [
      "/home/asufian/.local/share/pipx/venvs/notebook/lib/python3.12/site-packages/torchvision/models/_utils.py:208: UserWarning: The parameter 'pretrained' is deprecated since 0.13 and may be removed in the future, please use 'weights' instead.\n",
      "  warnings.warn(\n",
      "/home/asufian/.local/share/pipx/venvs/notebook/lib/python3.12/site-packages/torchvision/models/_utils.py:223: UserWarning: Arguments other than a weight enum or `None` for 'weights' are deprecated since 0.13 and may be removed in the future. The current behavior is equivalent to passing `weights=None`.\n",
      "  warnings.warn(msg)\n"
     ]
    },
    {
     "name": "stdout",
     "output_type": "stream",
     "text": [
      "----------------------> 0.33452380952380956\n",
      "Evaluated Accuracy: 0.3345\n",
      "\n",
      "✅ Optimal Values:\n",
      "   - b_a_r: 1.0000\n",
      "   - c_a_r: 0.0000\n",
      "   - f_a_r: 0.6769\n",
      "📈 Highest Accuracy Achieved: 0.6976\n"
     ]
    }
   ],
   "source": [
    "import numpy as np\n",
    "import torch\n",
    "import matplotlib.pyplot as plt\n",
    "from skopt import gp_minimize\n",
    "from skopt.space import Real\n",
    "from skopt.utils import use_named_args\n",
    "from skopt.plots import plot_convergence\n",
    "\n",
    "# Device setup\n",
    "device = torch.device(\"cuda\" if torch.cuda.is_available() else \"cpu\")\n",
    "\n",
    "\n",
    "# Define the search space for b_a_r, c_a_r, and f_a_r\n",
    "search_space = [\n",
    "    Real(0.0, 1.0, name=\"b_a_r\"),\n",
    "    Real(0.0, 1.0, name=\"c_a_r\"),\n",
    "    Real(0.0, 1.0, name=\"f_a_r\")\n",
    "]\n",
    "\n",
    "# Define the objective function for Bayesian Optimization\n",
    "@use_named_args(search_space)\n",
    "def objective(b_a_r, c_a_r, f_a_r):\n",
    "    \"\"\"\n",
    "    Objective function to optimize the adaptation ratios.\n",
    "    It applies adaptation, evaluates the model, and returns the negative accuracy.\n",
    "    \"\"\"\n",
    "    accuracy = get_model_accuracy(b_a_r, c_a_r, f_a_r)\n",
    "    print(f\"Evaluated Accuracy: {accuracy:.4f}\")  # Debugging Output\n",
    "    \n",
    "    return -accuracy  # We minimize, so return negative accuracy\n",
    "\n",
    "# Perform Bayesian Optimization with additional settings\n",
    "search_iteration=50\n",
    "res = gp_minimize(\n",
    "    func=objective,\n",
    "    dimensions=search_space,\n",
    "    n_calls=search_iteration,               # Number of evaluations\n",
    "    n_initial_points=5,       # Initial random explorations before GP starts\n",
    "    acq_func=\"EI\",            # Acquisition function: Expected Improvement\n",
    "    random_state=42,          # Ensure reproducibility\n",
    "    n_jobs=-1,                # Parallel execution for faster optimization\n",
    ")\n",
    "\n",
    "# Extract optimal results\n",
    "optimal_b_a_r, optimal_c_a_r, optimal_f_a_r = res.x\n",
    "best_accuracy = -res.fun\n",
    "\n",
    "print(f\"\\n✅ Optimal Values:\")\n",
    "print(f\"   - b_a_r: {optimal_b_a_r:.4f}\")\n",
    "print(f\"   - c_a_r: {optimal_c_a_r:.4f}\")\n",
    "print(f\"   - f_a_r: {optimal_f_a_r:.4f}\")\n",
    "print(f\"📈 Highest Accuracy Achieved: {best_accuracy:.4f}\")\n",
    "\n",
    "\n"
   ]
  },
  {
   "cell_type": "code",
   "execution_count": null,
   "metadata": {},
   "outputs": [],
   "source": []
  },
  {
   "cell_type": "code",
   "execution_count": 59,
   "metadata": {},
   "outputs": [
    {
     "name": "stderr",
     "output_type": "stream",
     "text": [
      "/home/asufian/.local/share/pipx/venvs/notebook/lib/python3.12/site-packages/torchvision/models/_utils.py:208: UserWarning: The parameter 'pretrained' is deprecated since 0.13 and may be removed in the future, please use 'weights' instead.\n",
      "  warnings.warn(\n",
      "/home/asufian/.local/share/pipx/venvs/notebook/lib/python3.12/site-packages/torchvision/models/_utils.py:223: UserWarning: Arguments other than a weight enum or `None` for 'weights' are deprecated since 0.13 and may be removed in the future. The current behavior is equivalent to passing `weights=None`.\n",
      "  warnings.warn(msg)\n"
     ]
    },
    {
     "name": "stdout",
     "output_type": "stream",
     "text": [
      "---Accu-----pre----rec---------> 0.6737 ± 0.0556  0.6849 ± 0.0563  0.6737 ± 0.0556\n"
     ]
    },
    {
     "name": "stderr",
     "output_type": "stream",
     "text": [
      "/home/asufian/.local/share/pipx/venvs/notebook/lib/python3.12/site-packages/torchvision/models/_utils.py:208: UserWarning: The parameter 'pretrained' is deprecated since 0.13 and may be removed in the future, please use 'weights' instead.\n",
      "  warnings.warn(\n",
      "/home/asufian/.local/share/pipx/venvs/notebook/lib/python3.12/site-packages/torchvision/models/_utils.py:223: UserWarning: Arguments other than a weight enum or `None` for 'weights' are deprecated since 0.13 and may be removed in the future. The current behavior is equivalent to passing `weights=None`.\n",
      "  warnings.warn(msg)\n"
     ]
    },
    {
     "name": "stdout",
     "output_type": "stream",
     "text": [
      "---Accu-----pre----rec---------> 0.5032 ± 0.0551  0.5033 ± 0.0567  0.5032 ± 0.0551\n",
      "---Accu-----pre----rec---------> 0.6976 ± 0.0490  0.7105 ± 0.0497  0.6976 ± 0.0490\n"
     ]
    }
   ],
   "source": [
    "convolutional_network_with_dropout =  ResNet18WithDropout(pretrained=False, dr=0.0)\n",
    "convolutional_network_with_dropout.fc = nn.Flatten()\n",
    "\n",
    "xyz = convolutional_network_with_dropout\n",
    "M3 = PrototypicalNetworks_dynamic_query(xyz).to(device)\n",
    "M3.load_state_dict(torch.load('model_own_path.pt'))\n",
    "evaluate2('/home/asufian/Desktop/output_mapii/result_ressnet/base/8_w_5_s_f', test_loader, M3, criterion)\n",
    "# Load Model M2\n",
    "convolutional_network_with_dropout =  ResNet18WithDropout(pretrained=False, dr=0.0)\n",
    "convolutional_network_with_dropout.fc = nn.Flatten()\n",
    "\n",
    "xyz2 = convolutional_network_with_dropout\n",
    "M2 = PrototypicalNetworks_dynamic_query(xyz2).to(device)\n",
    "M2.load_state_dict(torch.load('model_mu_path.pt'))\n",
    "evaluate2(\"/home/asufian/Desktop/output_mapii/result_ressnet/secondary/8_w_5_s_f\", test_loader, M2, criterion)\n",
    "# Update Model M3's weights using a weighted combination of Model M3 and Model M2\n",
    "update_model_weights2(M3, M2, conv_ratio= optimal_c_a_r , fc_ratio=optimal_f_a_r , bias_ratio=optimal_b_a_r)\n",
    "\n",
    "# Assuming you have the evaluate2 function defined\n",
    "# Evaluate the updated model (M3) using evaluate2 function with some arguments\n",
    "evaluate2(\"/home/asufian/Desktop/output_mapii/result_ressnet/amul/8_w_5_s_f\", test_loader, M3, criterion)\n"
   ]
  },
  {
   "cell_type": "code",
   "execution_count": null,
   "metadata": {},
   "outputs": [],
   "source": []
  },
  {
   "cell_type": "code",
   "execution_count": 60,
   "metadata": {},
   "outputs": [
    {
     "name": "stderr",
     "output_type": "stream",
     "text": [
      "/home/asufian/.local/share/pipx/venvs/notebook/lib/python3.12/site-packages/torchvision/models/_utils.py:208: UserWarning: The parameter 'pretrained' is deprecated since 0.13 and may be removed in the future, please use 'weights' instead.\n",
      "  warnings.warn(\n",
      "/home/asufian/.local/share/pipx/venvs/notebook/lib/python3.12/site-packages/torchvision/models/_utils.py:223: UserWarning: Arguments other than a weight enum or `None` for 'weights' are deprecated since 0.13 and may be removed in the future. The current behavior is equivalent to passing `weights=None`.\n",
      "  warnings.warn(msg)\n"
     ]
    }
   ],
   "source": [
    "device = torch.device(\"cuda\" if torch.cuda.is_available() else \"cpu\")\n",
    "\n",
    "\n",
    "\n",
    "!rm model_mu_path.pt\n",
    "!rm model_own_path.pt\n",
    "\n",
    "convolutional_network_with_dropout =  ResNet18WithDropout(pretrained=False, dr=0.0)\n",
    "convolutional_network_with_dropout.fc = nn.Flatten()\n",
    "\n",
    "model_own = PrototypicalNetworks_dynamic_query(convolutional_network_with_dropout).to(device)\n",
    "model_own.load_state_dict(torch.load('/home/asufian/Desktop/output_olchiki/code/modelr_res18.pth',map_location=torch.device('cpu')))\n",
    "\n",
    "\n",
    "convolutional_network_with_dropout =  ResNet18WithDropout(pretrained=False, dr=0.0)\n",
    "convolutional_network_with_dropout.fc = nn.Flatten()\n",
    "\n",
    "model_own_1_shot = PrototypicalNetworks_dynamic_query(convolutional_network_with_dropout).to(device)\n",
    "model_own_1_shot.load_state_dict(torch.load('/home/asufian/Desktop/output_olchiki/code/mapi_sce/ressecondary/model_10/model_B_mapi_10-shot_res.pth',map_location=torch.device('cpu')))\n",
    "\n",
    "torch.save(model_own_1_shot.state_dict(), 'model_mu_path.pt')\n",
    "torch.save(model_own.state_dict(), 'model_own_path.pt')"
   ]
  },
  {
   "cell_type": "code",
   "execution_count": 61,
   "metadata": {},
   "outputs": [],
   "source": [
    "def evaluate2(fname,data_loader, model, criterion=nn.CrossEntropyLoss()):\n",
    "    total_predictions = 0\n",
    "    correct_predictions = 0\n",
    "    total_loss = 0.0\n",
    "    accuracy = 0\n",
    "    datta = \"\"\n",
    "    model.eval()\n",
    "    tlv_cls=0\n",
    "    ttla=0\n",
    "    ttlal=[]\n",
    "    ttlac=0\n",
    "    precision=[]\n",
    "    recall=[]\n",
    "    \n",
    "    with torch.no_grad():\n",
    "        for episode in range(len(clss_8)):\n",
    "            support_set, query_set = data_loader.__getitem__(clss_8[tlv_cls] , clss_support_imagesss_10_shot[tlv_cls])\n",
    "\n",
    "           \n",
    "            clssa=str(clss_8[tlv_cls])\n",
    "            clss=str(clssa).replace(',',' ').replace('\\'',' ').replace('\\'',' ')\n",
    "            msg=str(clss_support_imagesss_10_shot[tlv_cls])\n",
    "            str(clss_8[tlv_cls])\n",
    "\n",
    "            tlv_cls+=1\n",
    "            # print(len(support_set),len(query_set))\n",
    "            support_set = [(torch.stack(images).to(device), label[0]) for images, label in support_set]\n",
    "            query_set = [(torch.stack(images).to(device), label) for images, label in query_set]\n",
    "\n",
    "            support_images, support_labels = zip(*support_set)\n",
    "\n",
    "            query_images, query_labels = zip(*query_set)\n",
    "\n",
    "            classification_scores = model(support_images, support_labels, query_images)\n",
    "            cortt = 0\n",
    "            totl = 0\n",
    "            confusion_mat=None\n",
    "            all_predicted_labels = []\n",
    "            all_actual_labels = []\n",
    "            # print(len(classification_scores),len(query_labels))\n",
    "            for ei in range(len(classification_scores)):\n",
    "                classification_scores_each_class = classification_scores[ei]\n",
    "                # print(classification_scores_each_class)\n",
    "                predicted_labels_eachclas = torch.argmax(classification_scores_each_class, dim=1)\n",
    "                pp = predicted_labels_eachclas.tolist()\n",
    "                act = query_labels[ei]\n",
    "                all_predicted_labels.extend(pp)\n",
    "                all_actual_labels.extend(act)\n",
    "                for iiii in range(len(pp)):\n",
    "                    if pp[iiii] == act[iiii]:\n",
    "                        cortt = cortt + 1\n",
    "                totl = totl + len(pp)\n",
    "                # print(len(act))\n",
    "            accuracy = cortt / totl\n",
    "            ttla+=1\n",
    "            ttlac+=accuracy\n",
    "            ttlal.append(accuracy)\n",
    "            # print(cortt , totl,\"Validation Accuracy:              \", cortt / totl)\n",
    "            confusion_mat = confusion_matrix(all_actual_labels, all_predicted_labels)\n",
    "            # print(\"Confusion Matrix:\")\n",
    "            # print(confusion_mat)\n",
    "\n",
    "            # fname='./own35_mapi_5_way_1_shot'\n",
    "\n",
    "            precision_overall, recall_overall, f1ss= calculate_metrics_get_per(msg,confusion_mat,acciuracy=cortt / totl,cls=clss,flnm=fname)\n",
    "            precision.append(precision_overall)\n",
    "            recall.append(recall_overall)\n",
    "    print(f\"---Accu-----pre----rec---------> {np.mean(ttlal):.4f} ± {np.std(ttlal, ddof=1):.4f}  \"\n",
    "      f\"{np.mean(precision):.4f} ± {np.std(precision, ddof=1):.4f}  \"\n",
    "      f\"{np.mean(recall):.4f} ± {np.std(recall, ddof=1):.4f}\")\n",
    "\n",
    "    # print(\"---Accu-----pre----rec---------->\",np.mean(ttlal),'±',np.std(ttlal, ddof=1), np.mean(precision),'±',np.std(precision, ddof=1),np.mean(precision),'±',np.std(precision, ddof=1),)\n",
    "# %%%%%%\n",
    "\n",
    "def evaluate3(fname,data_loader, model, criterion=nn.CrossEntropyLoss()):\n",
    "    total_predictions = 0\n",
    "    correct_predictions = 0\n",
    "    total_loss = 0.0\n",
    "    accuracy = 0\n",
    "    datta = \"\"\n",
    "    model.eval()\n",
    "    tlv_cls=0\n",
    "    ttla=0\n",
    "    ttlac=0\n",
    "    with torch.no_grad():\n",
    "        for episode in range(len(clss_8)):\n",
    "            support_set, query_set = data_loader.__getitem__(clss_8[tlv_cls] , clss_support_imagesss_10_shot[tlv_cls])\n",
    "\n",
    "            \n",
    "            clssa=str(clss_8[tlv_cls])\n",
    "            clss=str(clssa).replace(',',' ').replace('\\'',' ').replace('\\'',' ')\n",
    "            msg=str(clss_support_imagesss_10_shot[tlv_cls])\n",
    "            str(clss_8[tlv_cls])\n",
    "\n",
    "            tlv_cls+=1\n",
    "            # print(len(support_set),len(query_set))\n",
    "            support_set = [(torch.stack(images).to(device), label[0]) for images, label in support_set]\n",
    "            query_set = [(torch.stack(images).to(device), label) for images, label in query_set]\n",
    "\n",
    "            support_images, support_labels = zip(*support_set)\n",
    "\n",
    "            query_images, query_labels = zip(*query_set)\n",
    "\n",
    "            classification_scores = model(support_images, support_labels, query_images)\n",
    "            cortt = 0\n",
    "            totl = 0\n",
    "            confusion_mat=None\n",
    "            all_predicted_labels = []\n",
    "            all_actual_labels = []\n",
    "            # print(len(classification_scores),len(query_labels))\n",
    "            for ei in range(len(classification_scores)):\n",
    "                classification_scores_each_class = classification_scores[ei]\n",
    "                # print(classification_scores_each_class)\n",
    "                predicted_labels_eachclas = torch.argmax(classification_scores_each_class, dim=1)\n",
    "                pp = predicted_labels_eachclas.tolist()\n",
    "                act = query_labels[ei]\n",
    "                all_predicted_labels.extend(pp)\n",
    "                all_actual_labels.extend(act)\n",
    "                for iiii in range(len(pp)):\n",
    "                    if pp[iiii] == act[iiii]:\n",
    "                        cortt = cortt + 1\n",
    "                totl = totl + len(pp)\n",
    "                # print(len(act))\n",
    "            accuracy = cortt / totl\n",
    "            ttla+=1\n",
    "            ttlac+=accuracy\n",
    "            # print(cortt , totl,\"Validation Accuracy:              \", cortt / totl)\n",
    "            # confusion_mat = confusion_matrix(all_actual_labels, all_predicted_labels)\n",
    "            # print(\"Confusion Matrix:\")\n",
    "            # print(confusion_mat)\n",
    "\n",
    "            # fname='./own35_mapi_5_way_1_shot'\n",
    "\n",
    "            # calculate_metrics_get_per(msg,confusion_mat,acciuracy=cortt / totl,cls=clss,flnm=fname)\n",
    "\n",
    "    print(\"---------------------->\",ttlac/ttla)\n",
    "    return ttlac/ttla"
   ]
  },
  {
   "cell_type": "code",
   "execution_count": 62,
   "metadata": {
    "scrolled": true
   },
   "outputs": [
    {
     "name": "stdout",
     "output_type": "stream",
     "text": [
      "Testing b_a_r = 0.7965, c_a_r = 0.1834, f_a_r = 0.7797\n"
     ]
    },
    {
     "name": "stderr",
     "output_type": "stream",
     "text": [
      "/home/asufian/.local/share/pipx/venvs/notebook/lib/python3.12/site-packages/torchvision/models/_utils.py:208: UserWarning: The parameter 'pretrained' is deprecated since 0.13 and may be removed in the future, please use 'weights' instead.\n",
      "  warnings.warn(\n",
      "/home/asufian/.local/share/pipx/venvs/notebook/lib/python3.12/site-packages/torchvision/models/_utils.py:223: UserWarning: Arguments other than a weight enum or `None` for 'weights' are deprecated since 0.13 and may be removed in the future. The current behavior is equivalent to passing `weights=None`.\n",
      "  warnings.warn(msg)\n"
     ]
    },
    {
     "name": "stdout",
     "output_type": "stream",
     "text": [
      "----------------------> 0.6320736434108528\n",
      "Evaluated Accuracy: 0.6321\n",
      "Testing b_a_r = 0.5969, c_a_r = 0.4458, f_a_r = 0.1000\n",
      "----------------------> 0.26889534883720934\n",
      "Evaluated Accuracy: 0.2689\n",
      "Testing b_a_r = 0.4592, c_a_r = 0.3337, f_a_r = 0.1429\n",
      "----------------------> 0.3439922480620155\n",
      "Evaluated Accuracy: 0.3440\n",
      "Testing b_a_r = 0.6509, c_a_r = 0.0564, f_a_r = 0.7220\n",
      "----------------------> 0.7171511627906977\n",
      "Evaluated Accuracy: 0.7172\n",
      "Testing b_a_r = 0.9386, c_a_r = 0.0008, f_a_r = 0.9922\n",
      "----------------------> 0.6761627906976744\n",
      "Evaluated Accuracy: 0.6762\n",
      "Testing b_a_r = 0.0250, c_a_r = 1.0000, f_a_r = 0.4630\n"
     ]
    },
    {
     "name": "stderr",
     "output_type": "stream",
     "text": [
      "/home/asufian/.local/share/pipx/venvs/notebook/lib/python3.12/site-packages/torchvision/models/_utils.py:208: UserWarning: The parameter 'pretrained' is deprecated since 0.13 and may be removed in the future, please use 'weights' instead.\n",
      "  warnings.warn(\n",
      "/home/asufian/.local/share/pipx/venvs/notebook/lib/python3.12/site-packages/torchvision/models/_utils.py:223: UserWarning: Arguments other than a weight enum or `None` for 'weights' are deprecated since 0.13 and may be removed in the future. The current behavior is equivalent to passing `weights=None`.\n",
      "  warnings.warn(msg)\n"
     ]
    },
    {
     "name": "stdout",
     "output_type": "stream",
     "text": [
      "----------------------> 0.20920542635658915\n",
      "Evaluated Accuracy: 0.2092\n",
      "Testing b_a_r = 0.0000, c_a_r = 0.0000, f_a_r = 0.6807\n"
     ]
    },
    {
     "name": "stderr",
     "output_type": "stream",
     "text": [
      "/home/asufian/.local/share/pipx/venvs/notebook/lib/python3.12/site-packages/torchvision/models/_utils.py:208: UserWarning: The parameter 'pretrained' is deprecated since 0.13 and may be removed in the future, please use 'weights' instead.\n",
      "  warnings.warn(\n",
      "/home/asufian/.local/share/pipx/venvs/notebook/lib/python3.12/site-packages/torchvision/models/_utils.py:223: UserWarning: Arguments other than a weight enum or `None` for 'weights' are deprecated since 0.13 and may be removed in the future. The current behavior is equivalent to passing `weights=None`.\n",
      "  warnings.warn(msg)\n"
     ]
    },
    {
     "name": "stdout",
     "output_type": "stream",
     "text": [
      "----------------------> 0.7307170542635659\n",
      "Evaluated Accuracy: 0.7307\n",
      "Testing b_a_r = 1.0000, c_a_r = 0.0000, f_a_r = 0.7765\n"
     ]
    },
    {
     "name": "stderr",
     "output_type": "stream",
     "text": [
      "/home/asufian/.local/share/pipx/venvs/notebook/lib/python3.12/site-packages/torchvision/models/_utils.py:208: UserWarning: The parameter 'pretrained' is deprecated since 0.13 and may be removed in the future, please use 'weights' instead.\n",
      "  warnings.warn(\n",
      "/home/asufian/.local/share/pipx/venvs/notebook/lib/python3.12/site-packages/torchvision/models/_utils.py:223: UserWarning: Arguments other than a weight enum or `None` for 'weights' are deprecated since 0.13 and may be removed in the future. The current behavior is equivalent to passing `weights=None`.\n",
      "  warnings.warn(msg)\n"
     ]
    },
    {
     "name": "stdout",
     "output_type": "stream",
     "text": [
      "----------------------> 0.7161821705426357\n",
      "Evaluated Accuracy: 0.7162\n",
      "Testing b_a_r = 1.0000, c_a_r = 0.0000, f_a_r = 0.1948\n"
     ]
    },
    {
     "name": "stderr",
     "output_type": "stream",
     "text": [
      "/home/asufian/.local/share/pipx/venvs/notebook/lib/python3.12/site-packages/torchvision/models/_utils.py:208: UserWarning: The parameter 'pretrained' is deprecated since 0.13 and may be removed in the future, please use 'weights' instead.\n",
      "  warnings.warn(\n",
      "/home/asufian/.local/share/pipx/venvs/notebook/lib/python3.12/site-packages/torchvision/models/_utils.py:223: UserWarning: Arguments other than a weight enum or `None` for 'weights' are deprecated since 0.13 and may be removed in the future. The current behavior is equivalent to passing `weights=None`.\n",
      "  warnings.warn(msg)\n"
     ]
    },
    {
     "name": "stdout",
     "output_type": "stream",
     "text": [
      "----------------------> 0.7061046511627908\n",
      "Evaluated Accuracy: 0.7061\n",
      "Testing b_a_r = 1.0000, c_a_r = 0.0000, f_a_r = 0.4942\n"
     ]
    },
    {
     "name": "stderr",
     "output_type": "stream",
     "text": [
      "/home/asufian/.local/share/pipx/venvs/notebook/lib/python3.12/site-packages/torchvision/models/_utils.py:208: UserWarning: The parameter 'pretrained' is deprecated since 0.13 and may be removed in the future, please use 'weights' instead.\n",
      "  warnings.warn(\n",
      "/home/asufian/.local/share/pipx/venvs/notebook/lib/python3.12/site-packages/torchvision/models/_utils.py:223: UserWarning: Arguments other than a weight enum or `None` for 'weights' are deprecated since 0.13 and may be removed in the future. The current behavior is equivalent to passing `weights=None`.\n",
      "  warnings.warn(msg)\n"
     ]
    },
    {
     "name": "stdout",
     "output_type": "stream",
     "text": [
      "----------------------> 0.7289728682170543\n",
      "Evaluated Accuracy: 0.7290\n",
      "Testing b_a_r = 0.1080, c_a_r = 0.6058, f_a_r = 1.0000\n"
     ]
    },
    {
     "name": "stderr",
     "output_type": "stream",
     "text": [
      "/home/asufian/.local/share/pipx/venvs/notebook/lib/python3.12/site-packages/torchvision/models/_utils.py:208: UserWarning: The parameter 'pretrained' is deprecated since 0.13 and may be removed in the future, please use 'weights' instead.\n",
      "  warnings.warn(\n",
      "/home/asufian/.local/share/pipx/venvs/notebook/lib/python3.12/site-packages/torchvision/models/_utils.py:223: UserWarning: Arguments other than a weight enum or `None` for 'weights' are deprecated since 0.13 and may be removed in the future. The current behavior is equivalent to passing `weights=None`.\n",
      "  warnings.warn(msg)\n"
     ]
    },
    {
     "name": "stdout",
     "output_type": "stream",
     "text": [
      "----------------------> 0.21017441860465116\n",
      "Evaluated Accuracy: 0.2102\n",
      "Testing b_a_r = 0.0000, c_a_r = 0.0451, f_a_r = 0.4655\n"
     ]
    },
    {
     "name": "stderr",
     "output_type": "stream",
     "text": [
      "/home/asufian/.local/share/pipx/venvs/notebook/lib/python3.12/site-packages/torchvision/models/_utils.py:208: UserWarning: The parameter 'pretrained' is deprecated since 0.13 and may be removed in the future, please use 'weights' instead.\n",
      "  warnings.warn(\n",
      "/home/asufian/.local/share/pipx/venvs/notebook/lib/python3.12/site-packages/torchvision/models/_utils.py:223: UserWarning: Arguments other than a weight enum or `None` for 'weights' are deprecated since 0.13 and may be removed in the future. The current behavior is equivalent to passing `weights=None`.\n",
      "  warnings.warn(msg)\n"
     ]
    },
    {
     "name": "stdout",
     "output_type": "stream",
     "text": [
      "----------------------> 0.7223837209302328\n",
      "Evaluated Accuracy: 0.7224\n",
      "Testing b_a_r = 0.8923, c_a_r = 0.0712, f_a_r = 0.0058\n"
     ]
    },
    {
     "name": "stderr",
     "output_type": "stream",
     "text": [
      "/home/asufian/.local/share/pipx/venvs/notebook/lib/python3.12/site-packages/torchvision/models/_utils.py:208: UserWarning: The parameter 'pretrained' is deprecated since 0.13 and may be removed in the future, please use 'weights' instead.\n",
      "  warnings.warn(\n",
      "/home/asufian/.local/share/pipx/venvs/notebook/lib/python3.12/site-packages/torchvision/models/_utils.py:223: UserWarning: Arguments other than a weight enum or `None` for 'weights' are deprecated since 0.13 and may be removed in the future. The current behavior is equivalent to passing `weights=None`.\n",
      "  warnings.warn(msg)\n"
     ]
    },
    {
     "name": "stdout",
     "output_type": "stream",
     "text": [
      "----------------------> 0.7060077519379846\n",
      "Evaluated Accuracy: 0.7060\n",
      "Testing b_a_r = 0.0652, c_a_r = 0.1183, f_a_r = 0.3546\n"
     ]
    },
    {
     "name": "stderr",
     "output_type": "stream",
     "text": [
      "/home/asufian/.local/share/pipx/venvs/notebook/lib/python3.12/site-packages/torchvision/models/_utils.py:208: UserWarning: The parameter 'pretrained' is deprecated since 0.13 and may be removed in the future, please use 'weights' instead.\n",
      "  warnings.warn(\n",
      "/home/asufian/.local/share/pipx/venvs/notebook/lib/python3.12/site-packages/torchvision/models/_utils.py:223: UserWarning: Arguments other than a weight enum or `None` for 'weights' are deprecated since 0.13 and may be removed in the future. The current behavior is equivalent to passing `weights=None`.\n",
      "  warnings.warn(msg)\n"
     ]
    },
    {
     "name": "stdout",
     "output_type": "stream",
     "text": [
      "----------------------> 0.6954457364341086\n",
      "Evaluated Accuracy: 0.6954\n",
      "Testing b_a_r = 0.1510, c_a_r = 0.7793, f_a_r = 0.0012\n"
     ]
    },
    {
     "name": "stderr",
     "output_type": "stream",
     "text": [
      "/home/asufian/.local/share/pipx/venvs/notebook/lib/python3.12/site-packages/torchvision/models/_utils.py:208: UserWarning: The parameter 'pretrained' is deprecated since 0.13 and may be removed in the future, please use 'weights' instead.\n",
      "  warnings.warn(\n",
      "/home/asufian/.local/share/pipx/venvs/notebook/lib/python3.12/site-packages/torchvision/models/_utils.py:223: UserWarning: Arguments other than a weight enum or `None` for 'weights' are deprecated since 0.13 and may be removed in the future. The current behavior is equivalent to passing `weights=None`.\n",
      "  warnings.warn(msg)\n"
     ]
    },
    {
     "name": "stdout",
     "output_type": "stream",
     "text": [
      "----------------------> 0.21346899224806204\n",
      "Evaluated Accuracy: 0.2135\n",
      "Testing b_a_r = 0.2203, c_a_r = 0.1103, f_a_r = 0.9931\n"
     ]
    },
    {
     "name": "stderr",
     "output_type": "stream",
     "text": [
      "/home/asufian/.local/share/pipx/venvs/notebook/lib/python3.12/site-packages/torchvision/models/_utils.py:208: UserWarning: The parameter 'pretrained' is deprecated since 0.13 and may be removed in the future, please use 'weights' instead.\n",
      "  warnings.warn(\n",
      "/home/asufian/.local/share/pipx/venvs/notebook/lib/python3.12/site-packages/torchvision/models/_utils.py:223: UserWarning: Arguments other than a weight enum or `None` for 'weights' are deprecated since 0.13 and may be removed in the future. The current behavior is equivalent to passing `weights=None`.\n",
      "  warnings.warn(msg)\n"
     ]
    },
    {
     "name": "stdout",
     "output_type": "stream",
     "text": [
      "----------------------> 0.6683139534883722\n",
      "Evaluated Accuracy: 0.6683\n",
      "Testing b_a_r = 0.3346, c_a_r = 0.1436, f_a_r = 0.0005\n"
     ]
    },
    {
     "name": "stderr",
     "output_type": "stream",
     "text": [
      "/home/asufian/.local/share/pipx/venvs/notebook/lib/python3.12/site-packages/torchvision/models/_utils.py:208: UserWarning: The parameter 'pretrained' is deprecated since 0.13 and may be removed in the future, please use 'weights' instead.\n",
      "  warnings.warn(\n",
      "/home/asufian/.local/share/pipx/venvs/notebook/lib/python3.12/site-packages/torchvision/models/_utils.py:223: UserWarning: Arguments other than a weight enum or `None` for 'weights' are deprecated since 0.13 and may be removed in the future. The current behavior is equivalent to passing `weights=None`.\n",
      "  warnings.warn(msg)\n"
     ]
    },
    {
     "name": "stdout",
     "output_type": "stream",
     "text": [
      "----------------------> 0.6665697674418604\n",
      "Evaluated Accuracy: 0.6666\n",
      "Testing b_a_r = 0.0729, c_a_r = 0.0000, f_a_r = 0.0123\n"
     ]
    },
    {
     "name": "stderr",
     "output_type": "stream",
     "text": [
      "/home/asufian/.local/share/pipx/venvs/notebook/lib/python3.12/site-packages/torchvision/models/_utils.py:208: UserWarning: The parameter 'pretrained' is deprecated since 0.13 and may be removed in the future, please use 'weights' instead.\n",
      "  warnings.warn(\n",
      "/home/asufian/.local/share/pipx/venvs/notebook/lib/python3.12/site-packages/torchvision/models/_utils.py:223: UserWarning: Arguments other than a weight enum or `None` for 'weights' are deprecated since 0.13 and may be removed in the future. The current behavior is equivalent to passing `weights=None`.\n",
      "  warnings.warn(msg)\n"
     ]
    },
    {
     "name": "stdout",
     "output_type": "stream",
     "text": [
      "----------------------> 0.7078488372093024\n",
      "Evaluated Accuracy: 0.7078\n",
      "Testing b_a_r = 0.0492, c_a_r = 0.0541, f_a_r = 0.0905\n"
     ]
    },
    {
     "name": "stderr",
     "output_type": "stream",
     "text": [
      "/home/asufian/.local/share/pipx/venvs/notebook/lib/python3.12/site-packages/torchvision/models/_utils.py:208: UserWarning: The parameter 'pretrained' is deprecated since 0.13 and may be removed in the future, please use 'weights' instead.\n",
      "  warnings.warn(\n",
      "/home/asufian/.local/share/pipx/venvs/notebook/lib/python3.12/site-packages/torchvision/models/_utils.py:223: UserWarning: Arguments other than a weight enum or `None` for 'weights' are deprecated since 0.13 and may be removed in the future. The current behavior is equivalent to passing `weights=None`.\n",
      "  warnings.warn(msg)\n"
     ]
    },
    {
     "name": "stdout",
     "output_type": "stream",
     "text": [
      "----------------------> 0.7090116279069767\n",
      "Evaluated Accuracy: 0.7090\n",
      "Testing b_a_r = 0.4386, c_a_r = 0.3428, f_a_r = 0.9983\n"
     ]
    },
    {
     "name": "stderr",
     "output_type": "stream",
     "text": [
      "/home/asufian/.local/share/pipx/venvs/notebook/lib/python3.12/site-packages/torchvision/models/_utils.py:208: UserWarning: The parameter 'pretrained' is deprecated since 0.13 and may be removed in the future, please use 'weights' instead.\n",
      "  warnings.warn(\n",
      "/home/asufian/.local/share/pipx/venvs/notebook/lib/python3.12/site-packages/torchvision/models/_utils.py:223: UserWarning: Arguments other than a weight enum or `None` for 'weights' are deprecated since 0.13 and may be removed in the future. The current behavior is equivalent to passing `weights=None`.\n",
      "  warnings.warn(msg)\n"
     ]
    },
    {
     "name": "stdout",
     "output_type": "stream",
     "text": [
      "----------------------> 0.3608527131782946\n",
      "Evaluated Accuracy: 0.3609\n",
      "Testing b_a_r = 0.7402, c_a_r = 0.8760, f_a_r = 0.9974\n"
     ]
    },
    {
     "name": "stderr",
     "output_type": "stream",
     "text": [
      "/home/asufian/.local/share/pipx/venvs/notebook/lib/python3.12/site-packages/torchvision/models/_utils.py:208: UserWarning: The parameter 'pretrained' is deprecated since 0.13 and may be removed in the future, please use 'weights' instead.\n",
      "  warnings.warn(\n",
      "/home/asufian/.local/share/pipx/venvs/notebook/lib/python3.12/site-packages/torchvision/models/_utils.py:223: UserWarning: Arguments other than a weight enum or `None` for 'weights' are deprecated since 0.13 and may be removed in the future. The current behavior is equivalent to passing `weights=None`.\n",
      "  warnings.warn(msg)\n"
     ]
    },
    {
     "name": "stdout",
     "output_type": "stream",
     "text": [
      "----------------------> 0.20804263565891476\n",
      "Evaluated Accuracy: 0.2080\n",
      "Testing b_a_r = 0.0544, c_a_r = 0.0441, f_a_r = 0.9940\n"
     ]
    },
    {
     "name": "stderr",
     "output_type": "stream",
     "text": [
      "/home/asufian/.local/share/pipx/venvs/notebook/lib/python3.12/site-packages/torchvision/models/_utils.py:208: UserWarning: The parameter 'pretrained' is deprecated since 0.13 and may be removed in the future, please use 'weights' instead.\n",
      "  warnings.warn(\n",
      "/home/asufian/.local/share/pipx/venvs/notebook/lib/python3.12/site-packages/torchvision/models/_utils.py:223: UserWarning: Arguments other than a weight enum or `None` for 'weights' are deprecated since 0.13 and may be removed in the future. The current behavior is equivalent to passing `weights=None`.\n",
      "  warnings.warn(msg)\n"
     ]
    },
    {
     "name": "stdout",
     "output_type": "stream",
     "text": [
      "----------------------> 0.6730620155038758\n",
      "Evaluated Accuracy: 0.6731\n",
      "Testing b_a_r = 0.0479, c_a_r = 0.0002, f_a_r = 0.5427\n"
     ]
    },
    {
     "name": "stderr",
     "output_type": "stream",
     "text": [
      "/home/asufian/.local/share/pipx/venvs/notebook/lib/python3.12/site-packages/torchvision/models/_utils.py:208: UserWarning: The parameter 'pretrained' is deprecated since 0.13 and may be removed in the future, please use 'weights' instead.\n",
      "  warnings.warn(\n",
      "/home/asufian/.local/share/pipx/venvs/notebook/lib/python3.12/site-packages/torchvision/models/_utils.py:223: UserWarning: Arguments other than a weight enum or `None` for 'weights' are deprecated since 0.13 and may be removed in the future. The current behavior is equivalent to passing `weights=None`.\n",
      "  warnings.warn(msg)\n"
     ]
    },
    {
     "name": "stdout",
     "output_type": "stream",
     "text": [
      "----------------------> 0.7352713178294574\n",
      "Evaluated Accuracy: 0.7353\n",
      "Testing b_a_r = 0.0109, c_a_r = 0.1082, f_a_r = 0.6766\n"
     ]
    },
    {
     "name": "stderr",
     "output_type": "stream",
     "text": [
      "/home/asufian/.local/share/pipx/venvs/notebook/lib/python3.12/site-packages/torchvision/models/_utils.py:208: UserWarning: The parameter 'pretrained' is deprecated since 0.13 and may be removed in the future, please use 'weights' instead.\n",
      "  warnings.warn(\n",
      "/home/asufian/.local/share/pipx/venvs/notebook/lib/python3.12/site-packages/torchvision/models/_utils.py:223: UserWarning: Arguments other than a weight enum or `None` for 'weights' are deprecated since 0.13 and may be removed in the future. The current behavior is equivalent to passing `weights=None`.\n",
      "  warnings.warn(msg)\n"
     ]
    },
    {
     "name": "stdout",
     "output_type": "stream",
     "text": [
      "----------------------> 0.7080426356589148\n",
      "Evaluated Accuracy: 0.7080\n",
      "Testing b_a_r = 0.7342, c_a_r = 0.9968, f_a_r = 0.0033\n"
     ]
    },
    {
     "name": "stderr",
     "output_type": "stream",
     "text": [
      "/home/asufian/.local/share/pipx/venvs/notebook/lib/python3.12/site-packages/torchvision/models/_utils.py:208: UserWarning: The parameter 'pretrained' is deprecated since 0.13 and may be removed in the future, please use 'weights' instead.\n",
      "  warnings.warn(\n",
      "/home/asufian/.local/share/pipx/venvs/notebook/lib/python3.12/site-packages/torchvision/models/_utils.py:223: UserWarning: Arguments other than a weight enum or `None` for 'weights' are deprecated since 0.13 and may be removed in the future. The current behavior is equivalent to passing `weights=None`.\n",
      "  warnings.warn(msg)\n"
     ]
    },
    {
     "name": "stdout",
     "output_type": "stream",
     "text": [
      "----------------------> 0.2041666666666667\n",
      "Evaluated Accuracy: 0.2042\n",
      "Testing b_a_r = 0.9459, c_a_r = 0.0170, f_a_r = 0.5886\n"
     ]
    },
    {
     "name": "stderr",
     "output_type": "stream",
     "text": [
      "/home/asufian/.local/share/pipx/venvs/notebook/lib/python3.12/site-packages/torchvision/models/_utils.py:208: UserWarning: The parameter 'pretrained' is deprecated since 0.13 and may be removed in the future, please use 'weights' instead.\n",
      "  warnings.warn(\n",
      "/home/asufian/.local/share/pipx/venvs/notebook/lib/python3.12/site-packages/torchvision/models/_utils.py:223: UserWarning: Arguments other than a weight enum or `None` for 'weights' are deprecated since 0.13 and may be removed in the future. The current behavior is equivalent to passing `weights=None`.\n",
      "  warnings.warn(msg)\n"
     ]
    },
    {
     "name": "stdout",
     "output_type": "stream",
     "text": [
      "----------------------> 0.7354651162790696\n",
      "Evaluated Accuracy: 0.7355\n",
      "Testing b_a_r = 0.0988, c_a_r = 0.0227, f_a_r = 0.6008\n"
     ]
    },
    {
     "name": "stderr",
     "output_type": "stream",
     "text": [
      "/home/asufian/.local/share/pipx/venvs/notebook/lib/python3.12/site-packages/torchvision/models/_utils.py:208: UserWarning: The parameter 'pretrained' is deprecated since 0.13 and may be removed in the future, please use 'weights' instead.\n",
      "  warnings.warn(\n",
      "/home/asufian/.local/share/pipx/venvs/notebook/lib/python3.12/site-packages/torchvision/models/_utils.py:223: UserWarning: Arguments other than a weight enum or `None` for 'weights' are deprecated since 0.13 and may be removed in the future. The current behavior is equivalent to passing `weights=None`.\n",
      "  warnings.warn(msg)\n"
     ]
    },
    {
     "name": "stdout",
     "output_type": "stream",
     "text": [
      "----------------------> 0.733720930232558\n",
      "Evaluated Accuracy: 0.7337\n",
      "Testing b_a_r = 0.9808, c_a_r = 0.0668, f_a_r = 0.5532\n"
     ]
    },
    {
     "name": "stderr",
     "output_type": "stream",
     "text": [
      "/home/asufian/.local/share/pipx/venvs/notebook/lib/python3.12/site-packages/torchvision/models/_utils.py:208: UserWarning: The parameter 'pretrained' is deprecated since 0.13 and may be removed in the future, please use 'weights' instead.\n",
      "  warnings.warn(\n",
      "/home/asufian/.local/share/pipx/venvs/notebook/lib/python3.12/site-packages/torchvision/models/_utils.py:223: UserWarning: Arguments other than a weight enum or `None` for 'weights' are deprecated since 0.13 and may be removed in the future. The current behavior is equivalent to passing `weights=None`.\n",
      "  warnings.warn(msg)\n"
     ]
    },
    {
     "name": "stdout",
     "output_type": "stream",
     "text": [
      "----------------------> 0.7237403100775194\n",
      "Evaluated Accuracy: 0.7237\n",
      "Testing b_a_r = 0.1945, c_a_r = 0.9965, f_a_r = 0.9927\n"
     ]
    },
    {
     "name": "stderr",
     "output_type": "stream",
     "text": [
      "/home/asufian/.local/share/pipx/venvs/notebook/lib/python3.12/site-packages/torchvision/models/_utils.py:208: UserWarning: The parameter 'pretrained' is deprecated since 0.13 and may be removed in the future, please use 'weights' instead.\n",
      "  warnings.warn(\n",
      "/home/asufian/.local/share/pipx/venvs/notebook/lib/python3.12/site-packages/torchvision/models/_utils.py:223: UserWarning: Arguments other than a weight enum or `None` for 'weights' are deprecated since 0.13 and may be removed in the future. The current behavior is equivalent to passing `weights=None`.\n",
      "  warnings.warn(msg)\n"
     ]
    },
    {
     "name": "stdout",
     "output_type": "stream",
     "text": [
      "----------------------> 0.2085271317829457\n",
      "Evaluated Accuracy: 0.2085\n",
      "Testing b_a_r = 0.9154, c_a_r = 0.0015, f_a_r = 0.5983\n"
     ]
    },
    {
     "name": "stderr",
     "output_type": "stream",
     "text": [
      "/home/asufian/.local/share/pipx/venvs/notebook/lib/python3.12/site-packages/torchvision/models/_utils.py:208: UserWarning: The parameter 'pretrained' is deprecated since 0.13 and may be removed in the future, please use 'weights' instead.\n",
      "  warnings.warn(\n",
      "/home/asufian/.local/share/pipx/venvs/notebook/lib/python3.12/site-packages/torchvision/models/_utils.py:223: UserWarning: Arguments other than a weight enum or `None` for 'weights' are deprecated since 0.13 and may be removed in the future. The current behavior is equivalent to passing `weights=None`.\n",
      "  warnings.warn(msg)\n"
     ]
    },
    {
     "name": "stdout",
     "output_type": "stream",
     "text": [
      "----------------------> 0.7363372093023256\n",
      "Evaluated Accuracy: 0.7363\n",
      "Testing b_a_r = 0.0934, c_a_r = 0.6481, f_a_r = 0.4202\n"
     ]
    },
    {
     "name": "stderr",
     "output_type": "stream",
     "text": [
      "/home/asufian/.local/share/pipx/venvs/notebook/lib/python3.12/site-packages/torchvision/models/_utils.py:208: UserWarning: The parameter 'pretrained' is deprecated since 0.13 and may be removed in the future, please use 'weights' instead.\n",
      "  warnings.warn(\n",
      "/home/asufian/.local/share/pipx/venvs/notebook/lib/python3.12/site-packages/torchvision/models/_utils.py:223: UserWarning: Arguments other than a weight enum or `None` for 'weights' are deprecated since 0.13 and may be removed in the future. The current behavior is equivalent to passing `weights=None`.\n",
      "  warnings.warn(msg)\n"
     ]
    },
    {
     "name": "stdout",
     "output_type": "stream",
     "text": [
      "----------------------> 0.21298449612403106\n",
      "Evaluated Accuracy: 0.2130\n",
      "Testing b_a_r = 0.9448, c_a_r = 0.0626, f_a_r = 0.2830\n"
     ]
    },
    {
     "name": "stderr",
     "output_type": "stream",
     "text": [
      "/home/asufian/.local/share/pipx/venvs/notebook/lib/python3.12/site-packages/torchvision/models/_utils.py:208: UserWarning: The parameter 'pretrained' is deprecated since 0.13 and may be removed in the future, please use 'weights' instead.\n",
      "  warnings.warn(\n",
      "/home/asufian/.local/share/pipx/venvs/notebook/lib/python3.12/site-packages/torchvision/models/_utils.py:223: UserWarning: Arguments other than a weight enum or `None` for 'weights' are deprecated since 0.13 and may be removed in the future. The current behavior is equivalent to passing `weights=None`.\n",
      "  warnings.warn(msg)\n"
     ]
    },
    {
     "name": "stdout",
     "output_type": "stream",
     "text": [
      "----------------------> 0.7085271317829458\n",
      "Evaluated Accuracy: 0.7085\n",
      "Testing b_a_r = 0.9899, c_a_r = 0.1937, f_a_r = 0.4146\n"
     ]
    },
    {
     "name": "stderr",
     "output_type": "stream",
     "text": [
      "/home/asufian/.local/share/pipx/venvs/notebook/lib/python3.12/site-packages/torchvision/models/_utils.py:208: UserWarning: The parameter 'pretrained' is deprecated since 0.13 and may be removed in the future, please use 'weights' instead.\n",
      "  warnings.warn(\n",
      "/home/asufian/.local/share/pipx/venvs/notebook/lib/python3.12/site-packages/torchvision/models/_utils.py:223: UserWarning: Arguments other than a weight enum or `None` for 'weights' are deprecated since 0.13 and may be removed in the future. The current behavior is equivalent to passing `weights=None`.\n",
      "  warnings.warn(msg)\n"
     ]
    },
    {
     "name": "stdout",
     "output_type": "stream",
     "text": [
      "----------------------> 0.6430232558139534\n",
      "Evaluated Accuracy: 0.6430\n",
      "Testing b_a_r = 0.6198, c_a_r = 0.5964, f_a_r = 0.0010\n"
     ]
    },
    {
     "name": "stderr",
     "output_type": "stream",
     "text": [
      "/home/asufian/.local/share/pipx/venvs/notebook/lib/python3.12/site-packages/torchvision/models/_utils.py:208: UserWarning: The parameter 'pretrained' is deprecated since 0.13 and may be removed in the future, please use 'weights' instead.\n",
      "  warnings.warn(\n",
      "/home/asufian/.local/share/pipx/venvs/notebook/lib/python3.12/site-packages/torchvision/models/_utils.py:223: UserWarning: Arguments other than a weight enum or `None` for 'weights' are deprecated since 0.13 and may be removed in the future. The current behavior is equivalent to passing `weights=None`.\n",
      "  warnings.warn(msg)\n"
     ]
    },
    {
     "name": "stdout",
     "output_type": "stream",
     "text": [
      "----------------------> 0.22693798449612404\n",
      "Evaluated Accuracy: 0.2269\n",
      "Testing b_a_r = 0.8698, c_a_r = 0.1064, f_a_r = 0.1519\n"
     ]
    },
    {
     "name": "stderr",
     "output_type": "stream",
     "text": [
      "/home/asufian/.local/share/pipx/venvs/notebook/lib/python3.12/site-packages/torchvision/models/_utils.py:208: UserWarning: The parameter 'pretrained' is deprecated since 0.13 and may be removed in the future, please use 'weights' instead.\n",
      "  warnings.warn(\n",
      "/home/asufian/.local/share/pipx/venvs/notebook/lib/python3.12/site-packages/torchvision/models/_utils.py:223: UserWarning: Arguments other than a weight enum or `None` for 'weights' are deprecated since 0.13 and may be removed in the future. The current behavior is equivalent to passing `weights=None`.\n",
      "  warnings.warn(msg)\n"
     ]
    },
    {
     "name": "stdout",
     "output_type": "stream",
     "text": [
      "----------------------> 0.6966085271317828\n",
      "Evaluated Accuracy: 0.6966\n",
      "Testing b_a_r = 0.8552, c_a_r = 0.2076, f_a_r = 0.9980\n"
     ]
    },
    {
     "name": "stderr",
     "output_type": "stream",
     "text": [
      "/home/asufian/.local/share/pipx/venvs/notebook/lib/python3.12/site-packages/torchvision/models/_utils.py:208: UserWarning: The parameter 'pretrained' is deprecated since 0.13 and may be removed in the future, please use 'weights' instead.\n",
      "  warnings.warn(\n",
      "/home/asufian/.local/share/pipx/venvs/notebook/lib/python3.12/site-packages/torchvision/models/_utils.py:223: UserWarning: Arguments other than a weight enum or `None` for 'weights' are deprecated since 0.13 and may be removed in the future. The current behavior is equivalent to passing `weights=None`.\n",
      "  warnings.warn(msg)\n"
     ]
    },
    {
     "name": "stdout",
     "output_type": "stream",
     "text": [
      "----------------------> 0.5817829457364342\n",
      "Evaluated Accuracy: 0.5818\n",
      "Testing b_a_r = 0.4197, c_a_r = 0.4596, f_a_r = 0.6094\n"
     ]
    },
    {
     "name": "stderr",
     "output_type": "stream",
     "text": [
      "/home/asufian/.local/share/pipx/venvs/notebook/lib/python3.12/site-packages/torchvision/models/_utils.py:208: UserWarning: The parameter 'pretrained' is deprecated since 0.13 and may be removed in the future, please use 'weights' instead.\n",
      "  warnings.warn(\n",
      "/home/asufian/.local/share/pipx/venvs/notebook/lib/python3.12/site-packages/torchvision/models/_utils.py:223: UserWarning: Arguments other than a weight enum or `None` for 'weights' are deprecated since 0.13 and may be removed in the future. The current behavior is equivalent to passing `weights=None`.\n",
      "  warnings.warn(msg)\n"
     ]
    },
    {
     "name": "stdout",
     "output_type": "stream",
     "text": [
      "----------------------> 0.24137596899224809\n",
      "Evaluated Accuracy: 0.2414\n",
      "Testing b_a_r = 0.0632, c_a_r = 0.0059, f_a_r = 0.3824\n"
     ]
    },
    {
     "name": "stderr",
     "output_type": "stream",
     "text": [
      "/home/asufian/.local/share/pipx/venvs/notebook/lib/python3.12/site-packages/torchvision/models/_utils.py:208: UserWarning: The parameter 'pretrained' is deprecated since 0.13 and may be removed in the future, please use 'weights' instead.\n",
      "  warnings.warn(\n",
      "/home/asufian/.local/share/pipx/venvs/notebook/lib/python3.12/site-packages/torchvision/models/_utils.py:223: UserWarning: Arguments other than a weight enum or `None` for 'weights' are deprecated since 0.13 and may be removed in the future. The current behavior is equivalent to passing `weights=None`.\n",
      "  warnings.warn(msg)\n"
     ]
    },
    {
     "name": "stdout",
     "output_type": "stream",
     "text": [
      "----------------------> 0.719767441860465\n",
      "Evaluated Accuracy: 0.7198\n",
      "Testing b_a_r = 0.9363, c_a_r = 0.0319, f_a_r = 0.0021\n"
     ]
    },
    {
     "name": "stderr",
     "output_type": "stream",
     "text": [
      "/home/asufian/.local/share/pipx/venvs/notebook/lib/python3.12/site-packages/torchvision/models/_utils.py:208: UserWarning: The parameter 'pretrained' is deprecated since 0.13 and may be removed in the future, please use 'weights' instead.\n",
      "  warnings.warn(\n",
      "/home/asufian/.local/share/pipx/venvs/notebook/lib/python3.12/site-packages/torchvision/models/_utils.py:223: UserWarning: Arguments other than a weight enum or `None` for 'weights' are deprecated since 0.13 and may be removed in the future. The current behavior is equivalent to passing `weights=None`.\n",
      "  warnings.warn(msg)\n"
     ]
    },
    {
     "name": "stdout",
     "output_type": "stream",
     "text": [
      "----------------------> 0.7092054263565892\n",
      "Evaluated Accuracy: 0.7092\n",
      "Testing b_a_r = 0.9444, c_a_r = 0.1252, f_a_r = 0.5135\n"
     ]
    },
    {
     "name": "stderr",
     "output_type": "stream",
     "text": [
      "/home/asufian/.local/share/pipx/venvs/notebook/lib/python3.12/site-packages/torchvision/models/_utils.py:208: UserWarning: The parameter 'pretrained' is deprecated since 0.13 and may be removed in the future, please use 'weights' instead.\n",
      "  warnings.warn(\n",
      "/home/asufian/.local/share/pipx/venvs/notebook/lib/python3.12/site-packages/torchvision/models/_utils.py:223: UserWarning: Arguments other than a weight enum or `None` for 'weights' are deprecated since 0.13 and may be removed in the future. The current behavior is equivalent to passing `weights=None`.\n",
      "  warnings.warn(msg)\n"
     ]
    },
    {
     "name": "stdout",
     "output_type": "stream",
     "text": [
      "----------------------> 0.6999031007751938\n",
      "Evaluated Accuracy: 0.6999\n",
      "Testing b_a_r = 0.9912, c_a_r = 0.2323, f_a_r = 0.0081\n"
     ]
    },
    {
     "name": "stderr",
     "output_type": "stream",
     "text": [
      "/home/asufian/.local/share/pipx/venvs/notebook/lib/python3.12/site-packages/torchvision/models/_utils.py:208: UserWarning: The parameter 'pretrained' is deprecated since 0.13 and may be removed in the future, please use 'weights' instead.\n",
      "  warnings.warn(\n",
      "/home/asufian/.local/share/pipx/venvs/notebook/lib/python3.12/site-packages/torchvision/models/_utils.py:223: UserWarning: Arguments other than a weight enum or `None` for 'weights' are deprecated since 0.13 and may be removed in the future. The current behavior is equivalent to passing `weights=None`.\n",
      "  warnings.warn(msg)\n"
     ]
    },
    {
     "name": "stdout",
     "output_type": "stream",
     "text": [
      "----------------------> 0.5677325581395348\n",
      "Evaluated Accuracy: 0.5677\n",
      "Testing b_a_r = 0.9166, c_a_r = 0.0222, f_a_r = 0.5418\n"
     ]
    },
    {
     "name": "stderr",
     "output_type": "stream",
     "text": [
      "/home/asufian/.local/share/pipx/venvs/notebook/lib/python3.12/site-packages/torchvision/models/_utils.py:208: UserWarning: The parameter 'pretrained' is deprecated since 0.13 and may be removed in the future, please use 'weights' instead.\n",
      "  warnings.warn(\n",
      "/home/asufian/.local/share/pipx/venvs/notebook/lib/python3.12/site-packages/torchvision/models/_utils.py:223: UserWarning: Arguments other than a weight enum or `None` for 'weights' are deprecated since 0.13 and may be removed in the future. The current behavior is equivalent to passing `weights=None`.\n",
      "  warnings.warn(msg)\n"
     ]
    },
    {
     "name": "stdout",
     "output_type": "stream",
     "text": [
      "----------------------> 0.7320736434108528\n",
      "Evaluated Accuracy: 0.7321\n",
      "Testing b_a_r = 0.6777, c_a_r = 0.7459, f_a_r = 0.9954\n"
     ]
    },
    {
     "name": "stderr",
     "output_type": "stream",
     "text": [
      "/home/asufian/.local/share/pipx/venvs/notebook/lib/python3.12/site-packages/torchvision/models/_utils.py:208: UserWarning: The parameter 'pretrained' is deprecated since 0.13 and may be removed in the future, please use 'weights' instead.\n",
      "  warnings.warn(\n",
      "/home/asufian/.local/share/pipx/venvs/notebook/lib/python3.12/site-packages/torchvision/models/_utils.py:223: UserWarning: Arguments other than a weight enum or `None` for 'weights' are deprecated since 0.13 and may be removed in the future. The current behavior is equivalent to passing `weights=None`.\n",
      "  warnings.warn(msg)\n"
     ]
    },
    {
     "name": "stdout",
     "output_type": "stream",
     "text": [
      "----------------------> 0.20872093023255814\n",
      "Evaluated Accuracy: 0.2087\n",
      "Testing b_a_r = 0.0189, c_a_r = 0.0011, f_a_r = 0.5610\n"
     ]
    },
    {
     "name": "stderr",
     "output_type": "stream",
     "text": [
      "/home/asufian/.local/share/pipx/venvs/notebook/lib/python3.12/site-packages/torchvision/models/_utils.py:208: UserWarning: The parameter 'pretrained' is deprecated since 0.13 and may be removed in the future, please use 'weights' instead.\n",
      "  warnings.warn(\n",
      "/home/asufian/.local/share/pipx/venvs/notebook/lib/python3.12/site-packages/torchvision/models/_utils.py:223: UserWarning: Arguments other than a weight enum or `None` for 'weights' are deprecated since 0.13 and may be removed in the future. The current behavior is equivalent to passing `weights=None`.\n",
      "  warnings.warn(msg)\n"
     ]
    },
    {
     "name": "stdout",
     "output_type": "stream",
     "text": [
      "----------------------> 0.7367248062015505\n",
      "Evaluated Accuracy: 0.7367\n",
      "Testing b_a_r = 0.0884, c_a_r = 0.0241, f_a_r = 0.6641\n"
     ]
    },
    {
     "name": "stderr",
     "output_type": "stream",
     "text": [
      "/home/asufian/.local/share/pipx/venvs/notebook/lib/python3.12/site-packages/torchvision/models/_utils.py:208: UserWarning: The parameter 'pretrained' is deprecated since 0.13 and may be removed in the future, please use 'weights' instead.\n",
      "  warnings.warn(\n",
      "/home/asufian/.local/share/pipx/venvs/notebook/lib/python3.12/site-packages/torchvision/models/_utils.py:223: UserWarning: Arguments other than a weight enum or `None` for 'weights' are deprecated since 0.13 and may be removed in the future. The current behavior is equivalent to passing `weights=None`.\n",
      "  warnings.warn(msg)\n"
     ]
    },
    {
     "name": "stdout",
     "output_type": "stream",
     "text": [
      "----------------------> 0.7308139534883722\n",
      "Evaluated Accuracy: 0.7308\n",
      "Testing b_a_r = 0.9585, c_a_r = 0.8587, f_a_r = 0.4424\n"
     ]
    },
    {
     "name": "stderr",
     "output_type": "stream",
     "text": [
      "/home/asufian/.local/share/pipx/venvs/notebook/lib/python3.12/site-packages/torchvision/models/_utils.py:208: UserWarning: The parameter 'pretrained' is deprecated since 0.13 and may be removed in the future, please use 'weights' instead.\n",
      "  warnings.warn(\n",
      "/home/asufian/.local/share/pipx/venvs/notebook/lib/python3.12/site-packages/torchvision/models/_utils.py:223: UserWarning: Arguments other than a weight enum or `None` for 'weights' are deprecated since 0.13 and may be removed in the future. The current behavior is equivalent to passing `weights=None`.\n",
      "  warnings.warn(msg)\n"
     ]
    },
    {
     "name": "stdout",
     "output_type": "stream",
     "text": [
      "----------------------> 0.20872093023255814\n",
      "Evaluated Accuracy: 0.2087\n",
      "Testing b_a_r = 0.0975, c_a_r = 0.2701, f_a_r = 0.6229\n"
     ]
    },
    {
     "name": "stderr",
     "output_type": "stream",
     "text": [
      "/home/asufian/.local/share/pipx/venvs/notebook/lib/python3.12/site-packages/torchvision/models/_utils.py:208: UserWarning: The parameter 'pretrained' is deprecated since 0.13 and may be removed in the future, please use 'weights' instead.\n",
      "  warnings.warn(\n",
      "/home/asufian/.local/share/pipx/venvs/notebook/lib/python3.12/site-packages/torchvision/models/_utils.py:223: UserWarning: Arguments other than a weight enum or `None` for 'weights' are deprecated since 0.13 and may be removed in the future. The current behavior is equivalent to passing `weights=None`.\n",
      "  warnings.warn(msg)\n"
     ]
    },
    {
     "name": "stdout",
     "output_type": "stream",
     "text": [
      "----------------------> 0.4967054263565892\n",
      "Evaluated Accuracy: 0.4967\n",
      "Testing b_a_r = 0.6874, c_a_r = 0.1670, f_a_r = 0.1771\n"
     ]
    },
    {
     "name": "stderr",
     "output_type": "stream",
     "text": [
      "/home/asufian/.local/share/pipx/venvs/notebook/lib/python3.12/site-packages/torchvision/models/_utils.py:208: UserWarning: The parameter 'pretrained' is deprecated since 0.13 and may be removed in the future, please use 'weights' instead.\n",
      "  warnings.warn(\n",
      "/home/asufian/.local/share/pipx/venvs/notebook/lib/python3.12/site-packages/torchvision/models/_utils.py:223: UserWarning: Arguments other than a weight enum or `None` for 'weights' are deprecated since 0.13 and may be removed in the future. The current behavior is equivalent to passing `weights=None`.\n",
      "  warnings.warn(msg)\n"
     ]
    },
    {
     "name": "stdout",
     "output_type": "stream",
     "text": [
      "----------------------> 0.6440891472868217\n",
      "Evaluated Accuracy: 0.6441\n",
      "Testing b_a_r = 0.9981, c_a_r = 0.0912, f_a_r = 0.8552\n"
     ]
    },
    {
     "name": "stderr",
     "output_type": "stream",
     "text": [
      "/home/asufian/.local/share/pipx/venvs/notebook/lib/python3.12/site-packages/torchvision/models/_utils.py:208: UserWarning: The parameter 'pretrained' is deprecated since 0.13 and may be removed in the future, please use 'weights' instead.\n",
      "  warnings.warn(\n",
      "/home/asufian/.local/share/pipx/venvs/notebook/lib/python3.12/site-packages/torchvision/models/_utils.py:223: UserWarning: Arguments other than a weight enum or `None` for 'weights' are deprecated since 0.13 and may be removed in the future. The current behavior is equivalent to passing `weights=None`.\n",
      "  warnings.warn(msg)\n"
     ]
    },
    {
     "name": "stdout",
     "output_type": "stream",
     "text": [
      "----------------------> 0.6758720930232557\n",
      "Evaluated Accuracy: 0.6759\n",
      "Testing b_a_r = 0.0243, c_a_r = 0.0516, f_a_r = 0.6315\n"
     ]
    },
    {
     "name": "stderr",
     "output_type": "stream",
     "text": [
      "/home/asufian/.local/share/pipx/venvs/notebook/lib/python3.12/site-packages/torchvision/models/_utils.py:208: UserWarning: The parameter 'pretrained' is deprecated since 0.13 and may be removed in the future, please use 'weights' instead.\n",
      "  warnings.warn(\n",
      "/home/asufian/.local/share/pipx/venvs/notebook/lib/python3.12/site-packages/torchvision/models/_utils.py:223: UserWarning: Arguments other than a weight enum or `None` for 'weights' are deprecated since 0.13 and may be removed in the future. The current behavior is equivalent to passing `weights=None`.\n",
      "  warnings.warn(msg)\n"
     ]
    },
    {
     "name": "stdout",
     "output_type": "stream",
     "text": [
      "----------------------> 0.7248062015503877\n",
      "Evaluated Accuracy: 0.7248\n",
      "Testing b_a_r = 0.8629, c_a_r = 0.0066, f_a_r = 0.6215\n"
     ]
    },
    {
     "name": "stderr",
     "output_type": "stream",
     "text": [
      "/home/asufian/.local/share/pipx/venvs/notebook/lib/python3.12/site-packages/torchvision/models/_utils.py:208: UserWarning: The parameter 'pretrained' is deprecated since 0.13 and may be removed in the future, please use 'weights' instead.\n",
      "  warnings.warn(\n",
      "/home/asufian/.local/share/pipx/venvs/notebook/lib/python3.12/site-packages/torchvision/models/_utils.py:223: UserWarning: Arguments other than a weight enum or `None` for 'weights' are deprecated since 0.13 and may be removed in the future. The current behavior is equivalent to passing `weights=None`.\n",
      "  warnings.warn(msg)\n"
     ]
    },
    {
     "name": "stdout",
     "output_type": "stream",
     "text": [
      "----------------------> 0.7350775193798449\n",
      "Evaluated Accuracy: 0.7351\n",
      "Testing b_a_r = 0.8080, c_a_r = 0.0001, f_a_r = 0.6218\n"
     ]
    },
    {
     "name": "stderr",
     "output_type": "stream",
     "text": [
      "/home/asufian/.local/share/pipx/venvs/notebook/lib/python3.12/site-packages/torchvision/models/_utils.py:208: UserWarning: The parameter 'pretrained' is deprecated since 0.13 and may be removed in the future, please use 'weights' instead.\n",
      "  warnings.warn(\n",
      "/home/asufian/.local/share/pipx/venvs/notebook/lib/python3.12/site-packages/torchvision/models/_utils.py:223: UserWarning: Arguments other than a weight enum or `None` for 'weights' are deprecated since 0.13 and may be removed in the future. The current behavior is equivalent to passing `weights=None`.\n",
      "  warnings.warn(msg)\n"
     ]
    },
    {
     "name": "stdout",
     "output_type": "stream",
     "text": [
      "----------------------> 0.7376937984496125\n",
      "Evaluated Accuracy: 0.7377\n",
      "Testing b_a_r = 0.5135, c_a_r = 0.0120, f_a_r = 0.5693\n"
     ]
    },
    {
     "name": "stderr",
     "output_type": "stream",
     "text": [
      "/home/asufian/.local/share/pipx/venvs/notebook/lib/python3.12/site-packages/torchvision/models/_utils.py:208: UserWarning: The parameter 'pretrained' is deprecated since 0.13 and may be removed in the future, please use 'weights' instead.\n",
      "  warnings.warn(\n",
      "/home/asufian/.local/share/pipx/venvs/notebook/lib/python3.12/site-packages/torchvision/models/_utils.py:223: UserWarning: Arguments other than a weight enum or `None` for 'weights' are deprecated since 0.13 and may be removed in the future. The current behavior is equivalent to passing `weights=None`.\n",
      "  warnings.warn(msg)\n"
     ]
    },
    {
     "name": "stdout",
     "output_type": "stream",
     "text": [
      "----------------------> 0.7343992248062015\n",
      "Evaluated Accuracy: 0.7344\n",
      "Testing b_a_r = 0.0378, c_a_r = 0.1726, f_a_r = 0.5979\n"
     ]
    },
    {
     "name": "stderr",
     "output_type": "stream",
     "text": [
      "/home/asufian/.local/share/pipx/venvs/notebook/lib/python3.12/site-packages/torchvision/models/_utils.py:208: UserWarning: The parameter 'pretrained' is deprecated since 0.13 and may be removed in the future, please use 'weights' instead.\n",
      "  warnings.warn(\n",
      "/home/asufian/.local/share/pipx/venvs/notebook/lib/python3.12/site-packages/torchvision/models/_utils.py:223: UserWarning: Arguments other than a weight enum or `None` for 'weights' are deprecated since 0.13 and may be removed in the future. The current behavior is equivalent to passing `weights=None`.\n",
      "  warnings.warn(msg)\n"
     ]
    },
    {
     "name": "stdout",
     "output_type": "stream",
     "text": [
      "----------------------> 0.6705426356589147\n",
      "Evaluated Accuracy: 0.6705\n",
      "Testing b_a_r = 0.8438, c_a_r = 0.0776, f_a_r = 0.4370\n"
     ]
    },
    {
     "name": "stderr",
     "output_type": "stream",
     "text": [
      "/home/asufian/.local/share/pipx/venvs/notebook/lib/python3.12/site-packages/torchvision/models/_utils.py:208: UserWarning: The parameter 'pretrained' is deprecated since 0.13 and may be removed in the future, please use 'weights' instead.\n",
      "  warnings.warn(\n",
      "/home/asufian/.local/share/pipx/venvs/notebook/lib/python3.12/site-packages/torchvision/models/_utils.py:223: UserWarning: Arguments other than a weight enum or `None` for 'weights' are deprecated since 0.13 and may be removed in the future. The current behavior is equivalent to passing `weights=None`.\n",
      "  warnings.warn(msg)\n"
     ]
    },
    {
     "name": "stdout",
     "output_type": "stream",
     "text": [
      "----------------------> 0.7170542635658914\n",
      "Evaluated Accuracy: 0.7171\n",
      "Testing b_a_r = 0.0102, c_a_r = 0.0008, f_a_r = 0.1679\n"
     ]
    },
    {
     "name": "stderr",
     "output_type": "stream",
     "text": [
      "/home/asufian/.local/share/pipx/venvs/notebook/lib/python3.12/site-packages/torchvision/models/_utils.py:208: UserWarning: The parameter 'pretrained' is deprecated since 0.13 and may be removed in the future, please use 'weights' instead.\n",
      "  warnings.warn(\n",
      "/home/asufian/.local/share/pipx/venvs/notebook/lib/python3.12/site-packages/torchvision/models/_utils.py:223: UserWarning: Arguments other than a weight enum or `None` for 'weights' are deprecated since 0.13 and may be removed in the future. The current behavior is equivalent to passing `weights=None`.\n",
      "  warnings.warn(msg)\n"
     ]
    },
    {
     "name": "stdout",
     "output_type": "stream",
     "text": [
      "----------------------> 0.7092054263565893\n",
      "Evaluated Accuracy: 0.7092\n",
      "Testing b_a_r = 0.0172, c_a_r = 0.0730, f_a_r = 0.0004\n"
     ]
    },
    {
     "name": "stderr",
     "output_type": "stream",
     "text": [
      "/home/asufian/.local/share/pipx/venvs/notebook/lib/python3.12/site-packages/torchvision/models/_utils.py:208: UserWarning: The parameter 'pretrained' is deprecated since 0.13 and may be removed in the future, please use 'weights' instead.\n",
      "  warnings.warn(\n",
      "/home/asufian/.local/share/pipx/venvs/notebook/lib/python3.12/site-packages/torchvision/models/_utils.py:223: UserWarning: Arguments other than a weight enum or `None` for 'weights' are deprecated since 0.13 and may be removed in the future. The current behavior is equivalent to passing `weights=None`.\n",
      "  warnings.warn(msg)\n"
     ]
    },
    {
     "name": "stdout",
     "output_type": "stream",
     "text": [
      "----------------------> 0.7066860465116279\n",
      "Evaluated Accuracy: 0.7067\n",
      "Testing b_a_r = 0.0602, c_a_r = 0.0009, f_a_r = 0.8879\n"
     ]
    },
    {
     "name": "stderr",
     "output_type": "stream",
     "text": [
      "/home/asufian/.local/share/pipx/venvs/notebook/lib/python3.12/site-packages/torchvision/models/_utils.py:208: UserWarning: The parameter 'pretrained' is deprecated since 0.13 and may be removed in the future, please use 'weights' instead.\n",
      "  warnings.warn(\n",
      "/home/asufian/.local/share/pipx/venvs/notebook/lib/python3.12/site-packages/torchvision/models/_utils.py:223: UserWarning: Arguments other than a weight enum or `None` for 'weights' are deprecated since 0.13 and may be removed in the future. The current behavior is equivalent to passing `weights=None`.\n",
      "  warnings.warn(msg)\n"
     ]
    },
    {
     "name": "stdout",
     "output_type": "stream",
     "text": [
      "----------------------> 0.686046511627907\n",
      "Evaluated Accuracy: 0.6860\n",
      "Testing b_a_r = 0.9948, c_a_r = 0.0015, f_a_r = 0.6680\n"
     ]
    },
    {
     "name": "stderr",
     "output_type": "stream",
     "text": [
      "/home/asufian/.local/share/pipx/venvs/notebook/lib/python3.12/site-packages/torchvision/models/_utils.py:208: UserWarning: The parameter 'pretrained' is deprecated since 0.13 and may be removed in the future, please use 'weights' instead.\n",
      "  warnings.warn(\n",
      "/home/asufian/.local/share/pipx/venvs/notebook/lib/python3.12/site-packages/torchvision/models/_utils.py:223: UserWarning: Arguments other than a weight enum or `None` for 'weights' are deprecated since 0.13 and may be removed in the future. The current behavior is equivalent to passing `weights=None`.\n",
      "  warnings.warn(msg)\n"
     ]
    },
    {
     "name": "stdout",
     "output_type": "stream",
     "text": [
      "----------------------> 0.7350775193798449\n",
      "Evaluated Accuracy: 0.7351\n",
      "Testing b_a_r = 0.0758, c_a_r = 0.0222, f_a_r = 0.2677\n"
     ]
    },
    {
     "name": "stderr",
     "output_type": "stream",
     "text": [
      "/home/asufian/.local/share/pipx/venvs/notebook/lib/python3.12/site-packages/torchvision/models/_utils.py:208: UserWarning: The parameter 'pretrained' is deprecated since 0.13 and may be removed in the future, please use 'weights' instead.\n",
      "  warnings.warn(\n",
      "/home/asufian/.local/share/pipx/venvs/notebook/lib/python3.12/site-packages/torchvision/models/_utils.py:223: UserWarning: Arguments other than a weight enum or `None` for 'weights' are deprecated since 0.13 and may be removed in the future. The current behavior is equivalent to passing `weights=None`.\n",
      "  warnings.warn(msg)\n"
     ]
    },
    {
     "name": "stdout",
     "output_type": "stream",
     "text": [
      "----------------------> 0.7125000000000001\n",
      "Evaluated Accuracy: 0.7125\n",
      "Testing b_a_r = 0.0910, c_a_r = 0.0013, f_a_r = 0.5772\n"
     ]
    },
    {
     "name": "stderr",
     "output_type": "stream",
     "text": [
      "/home/asufian/.local/share/pipx/venvs/notebook/lib/python3.12/site-packages/torchvision/models/_utils.py:208: UserWarning: The parameter 'pretrained' is deprecated since 0.13 and may be removed in the future, please use 'weights' instead.\n",
      "  warnings.warn(\n",
      "/home/asufian/.local/share/pipx/venvs/notebook/lib/python3.12/site-packages/torchvision/models/_utils.py:223: UserWarning: Arguments other than a weight enum or `None` for 'weights' are deprecated since 0.13 and may be removed in the future. The current behavior is equivalent to passing `weights=None`.\n",
      "  warnings.warn(msg)\n"
     ]
    },
    {
     "name": "stdout",
     "output_type": "stream",
     "text": [
      "----------------------> 0.7364341085271316\n",
      "Evaluated Accuracy: 0.7364\n",
      "Testing b_a_r = 0.9609, c_a_r = 0.0285, f_a_r = 0.3901\n"
     ]
    },
    {
     "name": "stderr",
     "output_type": "stream",
     "text": [
      "/home/asufian/.local/share/pipx/venvs/notebook/lib/python3.12/site-packages/torchvision/models/_utils.py:208: UserWarning: The parameter 'pretrained' is deprecated since 0.13 and may be removed in the future, please use 'weights' instead.\n",
      "  warnings.warn(\n",
      "/home/asufian/.local/share/pipx/venvs/notebook/lib/python3.12/site-packages/torchvision/models/_utils.py:223: UserWarning: Arguments other than a weight enum or `None` for 'weights' are deprecated since 0.13 and may be removed in the future. The current behavior is equivalent to passing `weights=None`.\n",
      "  warnings.warn(msg)\n"
     ]
    },
    {
     "name": "stdout",
     "output_type": "stream",
     "text": [
      "----------------------> 0.7189922480620156\n",
      "Evaluated Accuracy: 0.7190\n",
      "Testing b_a_r = 0.0802, c_a_r = 0.7426, f_a_r = 0.6837\n"
     ]
    },
    {
     "name": "stderr",
     "output_type": "stream",
     "text": [
      "/home/asufian/.local/share/pipx/venvs/notebook/lib/python3.12/site-packages/torchvision/models/_utils.py:208: UserWarning: The parameter 'pretrained' is deprecated since 0.13 and may be removed in the future, please use 'weights' instead.\n",
      "  warnings.warn(\n",
      "/home/asufian/.local/share/pipx/venvs/notebook/lib/python3.12/site-packages/torchvision/models/_utils.py:223: UserWarning: Arguments other than a weight enum or `None` for 'weights' are deprecated since 0.13 and may be removed in the future. The current behavior is equivalent to passing `weights=None`.\n",
      "  warnings.warn(msg)\n"
     ]
    },
    {
     "name": "stdout",
     "output_type": "stream",
     "text": [
      "----------------------> 0.20833333333333334\n",
      "Evaluated Accuracy: 0.2083\n",
      "Testing b_a_r = 0.9269, c_a_r = 0.0246, f_a_r = 0.7042\n"
     ]
    },
    {
     "name": "stderr",
     "output_type": "stream",
     "text": [
      "/home/asufian/.local/share/pipx/venvs/notebook/lib/python3.12/site-packages/torchvision/models/_utils.py:208: UserWarning: The parameter 'pretrained' is deprecated since 0.13 and may be removed in the future, please use 'weights' instead.\n",
      "  warnings.warn(\n",
      "/home/asufian/.local/share/pipx/venvs/notebook/lib/python3.12/site-packages/torchvision/models/_utils.py:223: UserWarning: Arguments other than a weight enum or `None` for 'weights' are deprecated since 0.13 and may be removed in the future. The current behavior is equivalent to passing `weights=None`.\n",
      "  warnings.warn(msg)\n"
     ]
    },
    {
     "name": "stdout",
     "output_type": "stream",
     "text": [
      "----------------------> 0.7271317829457364\n",
      "Evaluated Accuracy: 0.7271\n",
      "Testing b_a_r = 0.8687, c_a_r = 0.4722, f_a_r = 0.9966\n"
     ]
    },
    {
     "name": "stderr",
     "output_type": "stream",
     "text": [
      "/home/asufian/.local/share/pipx/venvs/notebook/lib/python3.12/site-packages/torchvision/models/_utils.py:208: UserWarning: The parameter 'pretrained' is deprecated since 0.13 and may be removed in the future, please use 'weights' instead.\n",
      "  warnings.warn(\n",
      "/home/asufian/.local/share/pipx/venvs/notebook/lib/python3.12/site-packages/torchvision/models/_utils.py:223: UserWarning: Arguments other than a weight enum or `None` for 'weights' are deprecated since 0.13 and may be removed in the future. The current behavior is equivalent to passing `weights=None`.\n",
      "  warnings.warn(msg)\n"
     ]
    },
    {
     "name": "stdout",
     "output_type": "stream",
     "text": [
      "----------------------> 0.2336240310077519\n",
      "Evaluated Accuracy: 0.2336\n",
      "Testing b_a_r = 0.0067, c_a_r = 0.0849, f_a_r = 0.5406\n"
     ]
    },
    {
     "name": "stderr",
     "output_type": "stream",
     "text": [
      "/home/asufian/.local/share/pipx/venvs/notebook/lib/python3.12/site-packages/torchvision/models/_utils.py:208: UserWarning: The parameter 'pretrained' is deprecated since 0.13 and may be removed in the future, please use 'weights' instead.\n",
      "  warnings.warn(\n",
      "/home/asufian/.local/share/pipx/venvs/notebook/lib/python3.12/site-packages/torchvision/models/_utils.py:223: UserWarning: Arguments other than a weight enum or `None` for 'weights' are deprecated since 0.13 and may be removed in the future. The current behavior is equivalent to passing `weights=None`.\n",
      "  warnings.warn(msg)\n"
     ]
    },
    {
     "name": "stdout",
     "output_type": "stream",
     "text": [
      "----------------------> 0.7207364341085272\n",
      "Evaluated Accuracy: 0.7207\n",
      "Testing b_a_r = 0.0047, c_a_r = 0.0133, f_a_r = 0.4981\n"
     ]
    },
    {
     "name": "stderr",
     "output_type": "stream",
     "text": [
      "/home/asufian/.local/share/pipx/venvs/notebook/lib/python3.12/site-packages/torchvision/models/_utils.py:208: UserWarning: The parameter 'pretrained' is deprecated since 0.13 and may be removed in the future, please use 'weights' instead.\n",
      "  warnings.warn(\n",
      "/home/asufian/.local/share/pipx/venvs/notebook/lib/python3.12/site-packages/torchvision/models/_utils.py:223: UserWarning: Arguments other than a weight enum or `None` for 'weights' are deprecated since 0.13 and may be removed in the future. The current behavior is equivalent to passing `weights=None`.\n",
      "  warnings.warn(msg)\n"
     ]
    },
    {
     "name": "stdout",
     "output_type": "stream",
     "text": [
      "----------------------> 0.7287790697674417\n",
      "Evaluated Accuracy: 0.7288\n",
      "Testing b_a_r = 0.9722, c_a_r = 0.0770, f_a_r = 0.6475\n"
     ]
    },
    {
     "name": "stderr",
     "output_type": "stream",
     "text": [
      "/home/asufian/.local/share/pipx/venvs/notebook/lib/python3.12/site-packages/torchvision/models/_utils.py:208: UserWarning: The parameter 'pretrained' is deprecated since 0.13 and may be removed in the future, please use 'weights' instead.\n",
      "  warnings.warn(\n",
      "/home/asufian/.local/share/pipx/venvs/notebook/lib/python3.12/site-packages/torchvision/models/_utils.py:223: UserWarning: Arguments other than a weight enum or `None` for 'weights' are deprecated since 0.13 and may be removed in the future. The current behavior is equivalent to passing `weights=None`.\n",
      "  warnings.warn(msg)\n"
     ]
    },
    {
     "name": "stdout",
     "output_type": "stream",
     "text": [
      "----------------------> 0.7213178294573644\n",
      "Evaluated Accuracy: 0.7213\n",
      "Testing b_a_r = 0.0957, c_a_r = 0.8955, f_a_r = 0.0060\n"
     ]
    },
    {
     "name": "stderr",
     "output_type": "stream",
     "text": [
      "/home/asufian/.local/share/pipx/venvs/notebook/lib/python3.12/site-packages/torchvision/models/_utils.py:208: UserWarning: The parameter 'pretrained' is deprecated since 0.13 and may be removed in the future, please use 'weights' instead.\n",
      "  warnings.warn(\n",
      "/home/asufian/.local/share/pipx/venvs/notebook/lib/python3.12/site-packages/torchvision/models/_utils.py:223: UserWarning: Arguments other than a weight enum or `None` for 'weights' are deprecated since 0.13 and may be removed in the future. The current behavior is equivalent to passing `weights=None`.\n",
      "  warnings.warn(msg)\n"
     ]
    },
    {
     "name": "stdout",
     "output_type": "stream",
     "text": [
      "----------------------> 0.20901162790697672\n",
      "Evaluated Accuracy: 0.2090\n",
      "Testing b_a_r = 0.0234, c_a_r = 0.0010, f_a_r = 0.6246\n"
     ]
    },
    {
     "name": "stderr",
     "output_type": "stream",
     "text": [
      "/home/asufian/.local/share/pipx/venvs/notebook/lib/python3.12/site-packages/torchvision/models/_utils.py:208: UserWarning: The parameter 'pretrained' is deprecated since 0.13 and may be removed in the future, please use 'weights' instead.\n",
      "  warnings.warn(\n",
      "/home/asufian/.local/share/pipx/venvs/notebook/lib/python3.12/site-packages/torchvision/models/_utils.py:223: UserWarning: Arguments other than a weight enum or `None` for 'weights' are deprecated since 0.13 and may be removed in the future. The current behavior is equivalent to passing `weights=None`.\n",
      "  warnings.warn(msg)\n"
     ]
    },
    {
     "name": "stdout",
     "output_type": "stream",
     "text": [
      "----------------------> 0.7375000000000002\n",
      "Evaluated Accuracy: 0.7375\n",
      "Testing b_a_r = 0.9148, c_a_r = 0.0221, f_a_r = 0.1124\n"
     ]
    },
    {
     "name": "stderr",
     "output_type": "stream",
     "text": [
      "/home/asufian/.local/share/pipx/venvs/notebook/lib/python3.12/site-packages/torchvision/models/_utils.py:208: UserWarning: The parameter 'pretrained' is deprecated since 0.13 and may be removed in the future, please use 'weights' instead.\n",
      "  warnings.warn(\n",
      "/home/asufian/.local/share/pipx/venvs/notebook/lib/python3.12/site-packages/torchvision/models/_utils.py:223: UserWarning: Arguments other than a weight enum or `None` for 'weights' are deprecated since 0.13 and may be removed in the future. The current behavior is equivalent to passing `weights=None`.\n",
      "  warnings.warn(msg)\n"
     ]
    },
    {
     "name": "stdout",
     "output_type": "stream",
     "text": [
      "----------------------> 0.7080426356589147\n",
      "Evaluated Accuracy: 0.7080\n",
      "Testing b_a_r = 0.9876, c_a_r = 0.0006, f_a_r = 0.5291\n"
     ]
    },
    {
     "name": "stderr",
     "output_type": "stream",
     "text": [
      "/home/asufian/.local/share/pipx/venvs/notebook/lib/python3.12/site-packages/torchvision/models/_utils.py:208: UserWarning: The parameter 'pretrained' is deprecated since 0.13 and may be removed in the future, please use 'weights' instead.\n",
      "  warnings.warn(\n",
      "/home/asufian/.local/share/pipx/venvs/notebook/lib/python3.12/site-packages/torchvision/models/_utils.py:223: UserWarning: Arguments other than a weight enum or `None` for 'weights' are deprecated since 0.13 and may be removed in the future. The current behavior is equivalent to passing `weights=None`.\n",
      "  warnings.warn(msg)\n"
     ]
    },
    {
     "name": "stdout",
     "output_type": "stream",
     "text": [
      "----------------------> 0.7318798449612404\n",
      "Evaluated Accuracy: 0.7319\n",
      "Testing b_a_r = 0.8868, c_a_r = 0.0432, f_a_r = 0.5592\n"
     ]
    },
    {
     "name": "stderr",
     "output_type": "stream",
     "text": [
      "/home/asufian/.local/share/pipx/venvs/notebook/lib/python3.12/site-packages/torchvision/models/_utils.py:208: UserWarning: The parameter 'pretrained' is deprecated since 0.13 and may be removed in the future, please use 'weights' instead.\n",
      "  warnings.warn(\n",
      "/home/asufian/.local/share/pipx/venvs/notebook/lib/python3.12/site-packages/torchvision/models/_utils.py:223: UserWarning: Arguments other than a weight enum or `None` for 'weights' are deprecated since 0.13 and may be removed in the future. The current behavior is equivalent to passing `weights=None`.\n",
      "  warnings.warn(msg)\n"
     ]
    },
    {
     "name": "stdout",
     "output_type": "stream",
     "text": [
      "----------------------> 0.7315891472868217\n",
      "Evaluated Accuracy: 0.7316\n",
      "Testing b_a_r = 0.9408, c_a_r = 0.0024, f_a_r = 0.6184\n"
     ]
    },
    {
     "name": "stderr",
     "output_type": "stream",
     "text": [
      "/home/asufian/.local/share/pipx/venvs/notebook/lib/python3.12/site-packages/torchvision/models/_utils.py:208: UserWarning: The parameter 'pretrained' is deprecated since 0.13 and may be removed in the future, please use 'weights' instead.\n",
      "  warnings.warn(\n",
      "/home/asufian/.local/share/pipx/venvs/notebook/lib/python3.12/site-packages/torchvision/models/_utils.py:223: UserWarning: Arguments other than a weight enum or `None` for 'weights' are deprecated since 0.13 and may be removed in the future. The current behavior is equivalent to passing `weights=None`.\n",
      "  warnings.warn(msg)\n"
     ]
    },
    {
     "name": "stdout",
     "output_type": "stream",
     "text": [
      "----------------------> 0.7367248062015503\n",
      "Evaluated Accuracy: 0.7367\n",
      "Testing b_a_r = 0.7406, c_a_r = 0.0015, f_a_r = 0.3075\n"
     ]
    },
    {
     "name": "stderr",
     "output_type": "stream",
     "text": [
      "/home/asufian/.local/share/pipx/venvs/notebook/lib/python3.12/site-packages/torchvision/models/_utils.py:208: UserWarning: The parameter 'pretrained' is deprecated since 0.13 and may be removed in the future, please use 'weights' instead.\n",
      "  warnings.warn(\n",
      "/home/asufian/.local/share/pipx/venvs/notebook/lib/python3.12/site-packages/torchvision/models/_utils.py:223: UserWarning: Arguments other than a weight enum or `None` for 'weights' are deprecated since 0.13 and may be removed in the future. The current behavior is equivalent to passing `weights=None`.\n",
      "  warnings.warn(msg)\n"
     ]
    },
    {
     "name": "stdout",
     "output_type": "stream",
     "text": [
      "----------------------> 0.7127906976744185\n",
      "Evaluated Accuracy: 0.7128\n",
      "Testing b_a_r = 0.7743, c_a_r = 0.0001, f_a_r = 0.5984\n"
     ]
    },
    {
     "name": "stderr",
     "output_type": "stream",
     "text": [
      "/home/asufian/.local/share/pipx/venvs/notebook/lib/python3.12/site-packages/torchvision/models/_utils.py:208: UserWarning: The parameter 'pretrained' is deprecated since 0.13 and may be removed in the future, please use 'weights' instead.\n",
      "  warnings.warn(\n",
      "/home/asufian/.local/share/pipx/venvs/notebook/lib/python3.12/site-packages/torchvision/models/_utils.py:223: UserWarning: Arguments other than a weight enum or `None` for 'weights' are deprecated since 0.13 and may be removed in the future. The current behavior is equivalent to passing `weights=None`.\n",
      "  warnings.warn(msg)\n"
     ]
    },
    {
     "name": "stdout",
     "output_type": "stream",
     "text": [
      "----------------------> 0.736046511627907\n",
      "Evaluated Accuracy: 0.7360\n",
      "Testing b_a_r = 0.9739, c_a_r = 0.0281, f_a_r = 0.6210\n"
     ]
    },
    {
     "name": "stderr",
     "output_type": "stream",
     "text": [
      "/home/asufian/.local/share/pipx/venvs/notebook/lib/python3.12/site-packages/torchvision/models/_utils.py:208: UserWarning: The parameter 'pretrained' is deprecated since 0.13 and may be removed in the future, please use 'weights' instead.\n",
      "  warnings.warn(\n",
      "/home/asufian/.local/share/pipx/venvs/notebook/lib/python3.12/site-packages/torchvision/models/_utils.py:223: UserWarning: Arguments other than a weight enum or `None` for 'weights' are deprecated since 0.13 and may be removed in the future. The current behavior is equivalent to passing `weights=None`.\n",
      "  warnings.warn(msg)\n"
     ]
    },
    {
     "name": "stdout",
     "output_type": "stream",
     "text": [
      "----------------------> 0.7332364341085271\n",
      "Evaluated Accuracy: 0.7332\n",
      "Testing b_a_r = 0.3857, c_a_r = 0.0002, f_a_r = 0.6652\n"
     ]
    },
    {
     "name": "stderr",
     "output_type": "stream",
     "text": [
      "/home/asufian/.local/share/pipx/venvs/notebook/lib/python3.12/site-packages/torchvision/models/_utils.py:208: UserWarning: The parameter 'pretrained' is deprecated since 0.13 and may be removed in the future, please use 'weights' instead.\n",
      "  warnings.warn(\n",
      "/home/asufian/.local/share/pipx/venvs/notebook/lib/python3.12/site-packages/torchvision/models/_utils.py:223: UserWarning: Arguments other than a weight enum or `None` for 'weights' are deprecated since 0.13 and may be removed in the future. The current behavior is equivalent to passing `weights=None`.\n",
      "  warnings.warn(msg)\n"
     ]
    },
    {
     "name": "stdout",
     "output_type": "stream",
     "text": [
      "----------------------> 0.7335271317829457\n",
      "Evaluated Accuracy: 0.7335\n",
      "Testing b_a_r = 0.0466, c_a_r = 0.0248, f_a_r = 0.7781\n"
     ]
    },
    {
     "name": "stderr",
     "output_type": "stream",
     "text": [
      "/home/asufian/.local/share/pipx/venvs/notebook/lib/python3.12/site-packages/torchvision/models/_utils.py:208: UserWarning: The parameter 'pretrained' is deprecated since 0.13 and may be removed in the future, please use 'weights' instead.\n",
      "  warnings.warn(\n",
      "/home/asufian/.local/share/pipx/venvs/notebook/lib/python3.12/site-packages/torchvision/models/_utils.py:223: UserWarning: Arguments other than a weight enum or `None` for 'weights' are deprecated since 0.13 and may be removed in the future. The current behavior is equivalent to passing `weights=None`.\n",
      "  warnings.warn(msg)\n"
     ]
    },
    {
     "name": "stdout",
     "output_type": "stream",
     "text": [
      "----------------------> 0.7093023255813954\n",
      "Evaluated Accuracy: 0.7093\n",
      "Testing b_a_r = 0.0072, c_a_r = 0.0653, f_a_r = 0.1990\n"
     ]
    },
    {
     "name": "stderr",
     "output_type": "stream",
     "text": [
      "/home/asufian/.local/share/pipx/venvs/notebook/lib/python3.12/site-packages/torchvision/models/_utils.py:208: UserWarning: The parameter 'pretrained' is deprecated since 0.13 and may be removed in the future, please use 'weights' instead.\n",
      "  warnings.warn(\n",
      "/home/asufian/.local/share/pipx/venvs/notebook/lib/python3.12/site-packages/torchvision/models/_utils.py:223: UserWarning: Arguments other than a weight enum or `None` for 'weights' are deprecated since 0.13 and may be removed in the future. The current behavior is equivalent to passing `weights=None`.\n",
      "  warnings.warn(msg)\n"
     ]
    },
    {
     "name": "stdout",
     "output_type": "stream",
     "text": [
      "----------------------> 0.7085271317829458\n",
      "Evaluated Accuracy: 0.7085\n",
      "\n",
      "✅ Optimal Values:\n",
      "   - b_a_r: 0.8080\n",
      "   - c_a_r: 0.0001\n",
      "   - f_a_r: 0.6218\n",
      "📈 Highest Accuracy Achieved: 0.7377\n"
     ]
    }
   ],
   "source": [
    "import numpy as np\n",
    "import torch\n",
    "import matplotlib.pyplot as plt\n",
    "from skopt import gp_minimize\n",
    "from skopt.space import Real\n",
    "from skopt.utils import use_named_args\n",
    "from skopt.plots import plot_convergence\n",
    "\n",
    "# Device setup\n",
    "device = torch.device(\"cuda\" if torch.cuda.is_available() else \"cpu\")\n",
    "\n",
    "\n",
    "# Define the search space for b_a_r, c_a_r, and f_a_r\n",
    "search_space = [\n",
    "    Real(0.0, 1.0, name=\"b_a_r\"),\n",
    "    Real(0.0, 1.0, name=\"c_a_r\"),\n",
    "    Real(0.0, 1.0, name=\"f_a_r\")\n",
    "]\n",
    "\n",
    "# Define the objective function for Bayesian Optimization\n",
    "@use_named_args(search_space)\n",
    "def objective(b_a_r, c_a_r, f_a_r):\n",
    "    \"\"\"\n",
    "    Objective function to optimize the adaptation ratios.\n",
    "    It applies adaptation, evaluates the model, and returns the negative accuracy.\n",
    "    \"\"\"\n",
    "    accuracy = get_model_accuracy(b_a_r, c_a_r, f_a_r)\n",
    "    print(f\"Evaluated Accuracy: {accuracy:.4f}\")  # Debugging Output\n",
    "    \n",
    "    return -accuracy  # We minimize, so return negative accuracy\n",
    "\n",
    "# Perform Bayesian Optimization with additional settings\n",
    "search_iteration=80\n",
    "res = gp_minimize(\n",
    "    func=objective,\n",
    "    dimensions=search_space,\n",
    "    n_calls=search_iteration,               # Number of evaluations\n",
    "    n_initial_points=5,       # Initial random explorations before GP starts\n",
    "    acq_func=\"EI\",            # Acquisition function: Expected Improvement\n",
    "    random_state=42,          # Ensure reproducibility\n",
    "    n_jobs=-1,                # Parallel execution for faster optimization\n",
    ")\n",
    "\n",
    "# Extract optimal results\n",
    "optimal_b_a_r, optimal_c_a_r, optimal_f_a_r = res.x\n",
    "best_accuracy = -res.fun\n",
    "\n",
    "print(f\"\\n✅ Optimal Values:\")\n",
    "print(f\"   - b_a_r: {optimal_b_a_r:.4f}\")\n",
    "print(f\"   - c_a_r: {optimal_c_a_r:.4f}\")\n",
    "print(f\"   - f_a_r: {optimal_f_a_r:.4f}\")\n",
    "print(f\"📈 Highest Accuracy Achieved: {best_accuracy:.4f}\")\n",
    "\n",
    "\n"
   ]
  },
  {
   "cell_type": "code",
   "execution_count": null,
   "metadata": {},
   "outputs": [],
   "source": []
  },
  {
   "cell_type": "code",
   "execution_count": 63,
   "metadata": {},
   "outputs": [
    {
     "name": "stderr",
     "output_type": "stream",
     "text": [
      "/home/asufian/.local/share/pipx/venvs/notebook/lib/python3.12/site-packages/torchvision/models/_utils.py:208: UserWarning: The parameter 'pretrained' is deprecated since 0.13 and may be removed in the future, please use 'weights' instead.\n",
      "  warnings.warn(\n",
      "/home/asufian/.local/share/pipx/venvs/notebook/lib/python3.12/site-packages/torchvision/models/_utils.py:223: UserWarning: Arguments other than a weight enum or `None` for 'weights' are deprecated since 0.13 and may be removed in the future. The current behavior is equivalent to passing `weights=None`.\n",
      "  warnings.warn(msg)\n"
     ]
    },
    {
     "name": "stdout",
     "output_type": "stream",
     "text": [
      "---Accu-----pre----rec---------> 0.7081 ± 0.0452  0.7141 ± 0.0447  0.7081 ± 0.0452\n"
     ]
    },
    {
     "name": "stderr",
     "output_type": "stream",
     "text": [
      "/home/asufian/.local/share/pipx/venvs/notebook/lib/python3.12/site-packages/torchvision/models/_utils.py:208: UserWarning: The parameter 'pretrained' is deprecated since 0.13 and may be removed in the future, please use 'weights' instead.\n",
      "  warnings.warn(\n",
      "/home/asufian/.local/share/pipx/venvs/notebook/lib/python3.12/site-packages/torchvision/models/_utils.py:223: UserWarning: Arguments other than a weight enum or `None` for 'weights' are deprecated since 0.13 and may be removed in the future. The current behavior is equivalent to passing `weights=None`.\n",
      "  warnings.warn(msg)\n"
     ]
    },
    {
     "name": "stdout",
     "output_type": "stream",
     "text": [
      "---Accu-----pre----rec---------> 0.4578 ± 0.0421  0.4678 ± 0.0463  0.4578 ± 0.0421\n",
      "---Accu-----pre----rec---------> 0.7377 ± 0.0318  0.7442 ± 0.0288  0.7377 ± 0.0318\n"
     ]
    }
   ],
   "source": [
    "convolutional_network_with_dropout =  ResNet18WithDropout(pretrained=False, dr=0.0)\n",
    "convolutional_network_with_dropout.fc = nn.Flatten()\n",
    "\n",
    "xyz = convolutional_network_with_dropout\n",
    "M3 = PrototypicalNetworks_dynamic_query(xyz).to(device)\n",
    "M3.load_state_dict(torch.load('model_own_path.pt'))\n",
    "evaluate2('/home/asufian/Desktop/output_mapii/result_ressnet/base/8_w_10_s_f', test_loader, M3, criterion)\n",
    "# Load Model M2\n",
    "convolutional_network_with_dropout =  ResNet18WithDropout(pretrained=False, dr=0.0)\n",
    "convolutional_network_with_dropout.fc = nn.Flatten()\n",
    "\n",
    "xyz2 = convolutional_network_with_dropout\n",
    "M2 = PrototypicalNetworks_dynamic_query(xyz2).to(device)\n",
    "M2.load_state_dict(torch.load('model_mu_path.pt'))\n",
    "evaluate2(\"/home/asufian/Desktop/output_mapii/result_ressnet/secondary/8_w_10_s_f\", test_loader, M2, criterion)\n",
    "# Update Model M3's weights using a weighted combination of Model M3 and Model M2\n",
    "update_model_weights2(M3, M2, conv_ratio= optimal_c_a_r , fc_ratio=optimal_f_a_r , bias_ratio=optimal_b_a_r)\n",
    "\n",
    "# Assuming you have the evaluate2 function defined\n",
    "# Evaluate the updated model (M3) using evaluate2 function with some arguments\n",
    "evaluate2(\"/home/asufian/Desktop/output_mapii/result_ressnet/amul/8_w_10_s_f\", test_loader, M3, criterion)\n"
   ]
  },
  {
   "cell_type": "code",
   "execution_count": null,
   "metadata": {},
   "outputs": [],
   "source": []
  },
  {
   "cell_type": "code",
   "execution_count": 64,
   "metadata": {},
   "outputs": [],
   "source": [
    "###############################################   12 way 1 shot"
   ]
  },
  {
   "cell_type": "code",
   "execution_count": null,
   "metadata": {},
   "outputs": [],
   "source": []
  },
  {
   "cell_type": "code",
   "execution_count": null,
   "metadata": {},
   "outputs": [],
   "source": []
  },
  {
   "cell_type": "code",
   "execution_count": 65,
   "metadata": {},
   "outputs": [],
   "source": [
    "# clss_20=\n",
    "# clss_1_shot_20_w=\n",
    "# clss_5_shot_20_w=\n",
    "# clss_10_shot_20_w="
   ]
  },
  {
   "cell_type": "code",
   "execution_count": 66,
   "metadata": {},
   "outputs": [],
   "source": [
    "clss_support_imagesss_10_shot=[[[21, 14, 23, 29, 67, 54, 10, 91, 61, 52], [40, 71, 6, 67, 65, 37, 0, 74, 11, 83], [89, 58, 33, 13, 23, 88, 77, 62, 18, 34], [6, 24, 74, 14, 37, 71, 72, 75, 91, 38], [10, 35, 15, 91, 71, 74, 86, 12, 80, 23], [93, 24, 81, 78, 83, 49, 15, 85, 10, 25], [32, 73, 51, 14, 42, 87, 74, 77, 70, 61], [36, 0, 34, 82, 39, 31, 1, 52, 27, 50], [89, 55, 56, 32, 80, 58, 53, 76, 63, 2], [22, 14, 80, 1, 6, 69, 50, 49, 72, 10], [37, 9, 46, 70, 12, 84, 23, 25, 75, 36], [7, 81, 29, 40, 46, 8, 37, 57, 52, 2]], [[66, 39, 90, 45, 52, 93, 58, 20, 12, 95], [63, 61, 91, 49, 5, 53, 56, 15, 57, 62], [93, 72, 86, 79, 27, 18, 8, 23, 22, 54], [67, 3, 58, 84, 72, 30, 1, 32, 94, 43], [15, 86, 95, 33, 54, 94, 28, 12, 93, 40], [94, 91, 48, 21, 86, 35, 76, 66, 32, 70], [46, 24, 71, 61, 64, 88, 63, 39, 70, 44], [34, 48, 62, 63, 64, 82, 57, 15, 47, 65], [58, 60, 72, 49, 52, 73, 71, 79, 33, 44], [39, 64, 28, 15, 20, 78, 50, 38, 59, 86], [26, 78, 67, 34, 92, 40, 48, 90, 53, 8], [39, 42, 64, 40, 32, 46, 95, 7, 85, 44]], [[64, 80, 7, 65, 40, 5, 13, 49, 58, 19], [71, 66, 67, 84, 64, 19, 5, 82, 33, 4], [38, 82, 13, 91, 14, 34, 67, 37, 58, 85], [26, 64, 89, 84, 95, 41, 66, 2, 77, 8], [17, 83, 77, 37, 39, 25, 86, 92, 79, 22], [52, 2, 60, 37, 73, 17, 89, 8, 4, 64], [71, 9, 59, 87, 49, 31, 4, 79, 22, 0], [21, 6, 79, 86, 74, 34, 19, 82, 62, 33], [45, 36, 26, 57, 22, 93, 3, 27, 2, 89], [4, 71, 51, 25, 84, 24, 10, 5, 85, 27], [29, 61, 79, 82, 18, 40, 70, 26, 32, 68], [56, 63, 64, 66, 70, 45, 87, 48, 88, 18]], [[64, 80, 50, 62, 0, 8, 58, 34, 91, 52], [39, 8, 57, 52, 44, 91, 80, 69, 60, 81], [36, 27, 19, 54, 11, 95, 71, 80, 9, 51], [63, 70, 2, 59, 10, 89, 43, 37, 27, 21], [26, 50, 86, 12, 47, 30, 52, 32, 7, 67], [17, 29, 94, 6, 50, 28, 43, 25, 56, 70], [31, 39, 56, 32, 43, 76, 71, 19, 49, 27], [2, 3, 64, 92, 57, 46, 6, 67, 78, 10], [29, 84, 78, 36, 59, 14, 41, 42, 0, 90], [63, 2, 13, 39, 16, 1, 14, 31, 77, 44], [9, 14, 6, 60, 95, 61, 19, 40, 20, 39], [7, 3, 68, 59, 11, 5, 61, 21, 1, 14]], [[48, 20, 92, 33, 18, 91, 35, 52, 41, 86], [59, 8, 20, 88, 73, 72, 94, 11, 28, 66], [62, 28, 50, 93, 79, 95, 88, 10, 14, 80], [38, 94, 71, 34, 27, 18, 64, 79, 15, 11], [74, 94, 13, 10, 12, 24, 70, 48, 41, 50], [7, 10, 83, 95, 54, 71, 13, 40, 4, 60], [0, 47, 66, 61, 65, 60, 24, 43, 83, 63], [65, 51, 45, 63, 75, 10, 83, 42, 27, 58], [70, 11, 61, 8, 0, 6, 25, 31, 24, 62], [72, 68, 43, 4, 88, 22, 92, 41, 27, 91], [56, 92, 14, 34, 9, 21, 68, 76, 49, 4], [68, 49, 17, 32, 5, 90, 26, 13, 60, 69]], [[55, 74, 21, 10, 8, 88, 31, 53, 92, 59], [40, 63, 76, 34, 13, 31, 43, 48, 66, 18], [74, 3, 8, 34, 60, 47, 78, 50, 27, 77], [29, 20, 16, 53, 52, 77, 14, 47, 2, 94], [45, 88, 59, 54, 77, 55, 90, 84, 32, 65], [6, 87, 81, 36, 95, 88, 73, 21, 57, 67], [58, 43, 30, 94, 15, 49, 62, 53, 31, 87], [78, 6, 85, 70, 33, 77, 24, 89, 29, 1], [41, 69, 86, 23, 17, 43, 94, 32, 56, 8], [95, 80, 52, 35, 43, 22, 29, 67, 82, 63], [41, 73, 27, 28, 78, 19, 23, 69, 13, 68], [2, 12, 80, 42, 86, 28, 14, 70, 39, 91]], [[76, 3, 44, 35, 67, 32, 63, 27, 26, 68], [75, 63, 0, 71, 23, 45, 36, 81, 69, 72], [44, 19, 88, 73, 83, 90, 33, 45, 93, 11], [3, 27, 4, 48, 74, 50, 78, 80, 18, 95], [35, 78, 45, 70, 43, 65, 0, 11, 28, 37], [10, 8, 60, 84, 12, 36, 88, 41, 31, 46], [26, 54, 82, 20, 41, 51, 48, 92, 31, 49], [39, 82, 95, 38, 12, 15, 63, 83, 21, 90], [61, 48, 54, 83, 46, 23, 44, 22, 38, 32], [27, 92, 58, 35, 76, 8, 89, 23, 83, 91], [84, 7, 5, 83, 18, 3, 76, 21, 44, 20], [70, 59, 37, 4, 56, 80, 84, 76, 50, 38]], [[3, 7, 56, 39, 64, 92, 12, 21, 55, 20], [34, 81, 92, 86, 30, 93, 82, 29, 57, 63], [52, 36, 19, 14, 10, 1, 25, 17, 29, 34], [14, 62, 69, 59, 3, 28, 36, 79, 67, 7], [89, 60, 16, 44, 86, 56, 39, 12, 20, 64], [45, 73, 50, 80, 60, 41, 93, 86, 24, 49], [89, 70, 24, 16, 26, 23, 35, 12, 41, 72], [45, 0, 34, 59, 51, 6, 12, 66, 25, 35], [7, 44, 73, 38, 78, 89, 11, 87, 4, 80], [0, 33, 63, 12, 56, 23, 60, 21, 47, 14], [37, 66, 42, 26, 7, 63, 52, 50, 13, 19], [10, 49, 85, 47, 78, 27, 3, 48, 53, 15]], [[36, 69, 29, 48, 68, 42, 18, 49, 78, 50], [1, 92, 9, 75, 87, 88, 25, 50, 32, 39], [72, 2, 17, 41, 15, 16, 26, 0, 14, 51], [29, 90, 48, 92, 79, 40, 52, 88, 35, 7], [73, 6, 79, 14, 29, 33, 91, 76, 10, 36], [56, 64, 85, 67, 9, 31, 93, 60, 58, 5], [27, 23, 88, 28, 26, 92, 1, 84, 70, 21], [26, 48, 40, 54, 95, 83, 60, 62, 33, 44], [37, 24, 26, 25, 69, 58, 80, 18, 78, 71], [25, 68, 88, 1, 87, 53, 36, 35, 45, 30], [32, 78, 30, 9, 80, 62, 77, 28, 13, 89], [63, 1, 26, 30, 3, 64, 67, 70, 29, 76]], [[65, 53, 94, 51, 89, 32, 26, 38, 62, 61], [95, 84, 72, 74, 79, 30, 47, 17, 15, 64], [90, 67, 6, 14, 81, 34, 50, 26, 86, 17], [70, 59, 21, 3, 77, 62, 63, 68, 34, 90], [3, 84, 46, 4, 5, 2, 12, 89, 74, 45], [92, 74, 95, 54, 60, 86, 83, 43, 59, 78], [2, 36, 29, 67, 22, 94, 78, 16, 30, 74], [63, 53, 89, 23, 86, 35, 57, 49, 66, 21], [14, 54, 48, 58, 76, 25, 63, 30, 24, 78], [52, 32, 1, 95, 54, 57, 16, 3, 89, 14], [11, 67, 66, 33, 2, 72, 10, 4, 79, 5], [71, 1, 42, 75, 60, 84, 16, 88, 4, 19]], [[32, 70, 12, 11, 93, 36, 68, 69, 23, 78], [44, 83, 87, 53, 94, 31, 66, 95, 65, 55], [32, 46, 89, 41, 62, 81, 52, 92, 1, 47], [25, 7, 24, 85, 81, 93, 58, 72, 34, 67], [64, 74, 12, 41, 11, 52, 48, 26, 93, 34], [33, 58, 64, 56, 38, 37, 61, 14, 3, 50], [22, 93, 23, 70, 64, 63, 5, 40, 33, 9], [86, 21, 93, 1, 26, 32, 18, 81, 52, 10], [63, 89, 24, 45, 1, 51, 36, 6, 95, 57], [83, 13, 40, 31, 92, 88, 82, 51, 95, 52], [86, 62, 33, 31, 72, 18, 74, 12, 0, 68], [11, 20, 70, 34, 64, 25, 30, 9, 46, 18]], [[43, 76, 1, 61, 59, 74, 49, 91, 87, 94], [73, 26, 81, 83, 47, 74, 15, 45, 12, 16], [30, 34, 26, 47, 28, 94, 57, 4, 35, 68], [89, 13, 40, 58, 73, 12, 72, 0, 85, 94], [17, 2, 89, 75, 41, 95, 59, 53, 84, 86], [81, 57, 20, 72, 6, 14, 85, 64, 41, 37], [49, 30, 6, 48, 58, 31, 5, 20, 67, 85], [51, 74, 16, 14, 34, 84, 79, 75, 77, 30], [23, 51, 33, 83, 79, 81, 53, 61, 49, 84], [6, 66, 51, 95, 4, 59, 85, 71, 69, 2], [40, 4, 26, 87, 56, 17, 71, 57, 13, 85], [57, 41, 15, 67, 83, 87, 44, 93, 12, 30]], [[4, 21, 66, 88, 71, 57, 18, 16, 73, 41], [69, 60, 38, 32, 92, 53, 54, 47, 2, 27], [40, 17, 59, 39, 74, 18, 38, 23, 95, 2], [21, 29, 76, 74, 9, 68, 32, 35, 69, 51], [70, 60, 13, 49, 94, 14, 24, 8, 73, 67], [86, 32, 54, 13, 58, 87, 27, 92, 24, 83], [21, 41, 24, 56, 88, 27, 30, 11, 71, 67], [15, 12, 86, 91, 82, 38, 58, 76, 2, 33], [45, 81, 95, 38, 43, 79, 27, 61, 64, 87], [66, 1, 90, 77, 85, 15, 50, 53, 87, 21], [92, 39, 7, 50, 89, 36, 81, 68, 52, 23], [5, 87, 49, 55, 57, 66, 18, 37, 79, 50]], [[22, 32, 91, 72, 81, 69, 8, 34, 15, 20], [89, 31, 91, 27, 40, 90, 72, 19, 4, 9], [5, 60, 51, 34, 8, 56, 88, 52, 78, 69], [86, 5, 9, 50, 18, 45, 93, 28, 89, 30], [26, 35, 19, 90, 58, 10, 79, 52, 92, 45], [17, 91, 77, 33, 5, 40, 64, 89, 24, 60], [93, 77, 36, 60, 13, 74, 75, 71, 45, 14], [48, 42, 78, 58, 29, 36, 65, 74, 4, 85], [33, 81, 90, 38, 88, 66, 34, 49, 26, 93], [30, 12, 36, 7, 15, 6, 0, 13, 25, 43], [8, 86, 52, 10, 32, 4, 69, 6, 79, 65], [37, 2, 41, 15, 45, 36, 76, 32, 3, 22]], [[50, 81, 36, 1, 39, 63, 90, 72, 58, 77], [0, 30, 38, 83, 13, 14, 59, 90, 23, 22], [84, 60, 45, 23, 0, 48, 32, 18, 24, 29], [92, 19, 29, 89, 25, 75, 53, 24, 45, 66], [90, 92, 53, 85, 0, 23, 70, 88, 51, 39], [75, 14, 70, 24, 10, 2, 66, 28, 18, 68], [67, 52, 46, 45, 60, 34, 59, 91, 21, 77], [29, 2, 94, 65, 75, 87, 33, 25, 55, 6], [60, 34, 75, 74, 18, 20, 31, 10, 22, 83], [18, 77, 61, 24, 53, 60, 54, 28, 39, 21], [55, 87, 43, 12, 83, 57, 10, 23, 90, 93], [33, 32, 13, 52, 16, 54, 84, 91, 81, 38]]]\n",
    "\n",
    "\n",
    "\n",
    "clss_support_imagesss_5_shot=[[[21, 14, 23, 29, 67], [40, 71, 6, 67, 65], [89, 58, 33, 13, 23], [6, 24, 74, 14, 37], [10, 35, 15, 91, 71], [93, 24, 81, 78, 83], [32, 73, 51, 14, 42], [36, 0, 34, 82, 39], [89, 55, 56, 32, 80], [22, 14, 80, 1, 6], [37, 9, 46, 70, 12], [7, 81, 29, 40, 46]], [[66, 39, 90, 45, 52], [63, 61, 91, 49, 5], [93, 72, 86, 79, 27], [67, 3, 58, 84, 72], [15, 86, 95, 33, 54], [94, 91, 48, 21, 86], [46, 24, 71, 61, 64], [34, 48, 62, 63, 64], [58, 60, 72, 49, 52], [39, 64, 28, 15, 20], [26, 78, 67, 34, 92], [39, 42, 64, 40, 32]], [[64, 80, 7, 65, 40], [71, 66, 67, 84, 64], [38, 82, 13, 91, 14], [26, 64, 89, 84, 95], [17, 83, 77, 37, 39], [52, 2, 60, 37, 73], [71, 9, 59, 87, 49], [21, 6, 79, 86, 74], [45, 36, 26, 57, 22], [4, 71, 51, 25, 84], [29, 61, 79, 82, 18], [56, 63, 64, 66, 70]], [[64, 80, 50, 62, 0], [39, 8, 57, 52, 44], [36, 27, 19, 54, 11], [63, 70, 2, 59, 10], [26, 50, 86, 12, 47], [17, 29, 94, 6, 50], [31, 39, 56, 32, 43], [2, 3, 64, 92, 57], [29, 84, 78, 36, 59], [63, 2, 13, 39, 16], [9, 14, 6, 60, 95], [7, 3, 68, 59, 11]], [[48, 20, 92, 33, 18], [59, 8, 20, 88, 73], [62, 28, 50, 93, 79], [38, 94, 71, 34, 27], [74, 94, 13, 10, 12], [7, 10, 83, 95, 54], [0, 47, 66, 61, 65], [65, 51, 45, 63, 75], [70, 11, 61, 8, 0], [72, 68, 43, 4, 88], [56, 92, 14, 34, 9], [68, 49, 17, 32, 5]], [[55, 74, 21, 10, 8], [40, 63, 76, 34, 13], [74, 3, 8, 34, 60], [29, 20, 16, 53, 52], [45, 88, 59, 54, 77], [6, 87, 81, 36, 95], [58, 43, 30, 94, 15], [78, 6, 85, 70, 33], [41, 69, 86, 23, 17], [95, 80, 52, 35, 43], [41, 73, 27, 28, 78], [2, 12, 80, 42, 86]], [[76, 3, 44, 35, 67], [75, 63, 0, 71, 23], [44, 19, 88, 73, 83], [3, 27, 4, 48, 74], [35, 78, 45, 70, 43], [10, 8, 60, 84, 12], [26, 54, 82, 20, 41], [39, 82, 95, 38, 12], [61, 48, 54, 83, 46], [27, 92, 58, 35, 76], [84, 7, 5, 83, 18], [70, 59, 37, 4, 56]], [[3, 7, 56, 39, 64], [34, 81, 92, 86, 30], [52, 36, 19, 14, 10], [14, 62, 69, 59, 3], [89, 60, 16, 44, 86], [45, 73, 50, 80, 60], [89, 70, 24, 16, 26], [45, 0, 34, 59, 51], [7, 44, 73, 38, 78], [0, 33, 63, 12, 56], [37, 66, 42, 26, 7], [10, 49, 85, 47, 78]], [[36, 69, 29, 48, 68], [1, 92, 9, 75, 87], [72, 2, 17, 41, 15], [29, 90, 48, 92, 79], [73, 6, 79, 14, 29], [56, 64, 85, 67, 9], [27, 23, 88, 28, 26], [26, 48, 40, 54, 95], [37, 24, 26, 25, 69], [25, 68, 88, 1, 87], [32, 78, 30, 9, 80], [63, 1, 26, 30, 3]], [[65, 53, 94, 51, 89], [95, 84, 72, 74, 79], [90, 67, 6, 14, 81], [70, 59, 21, 3, 77], [3, 84, 46, 4, 5], [92, 74, 95, 54, 60], [2, 36, 29, 67, 22], [63, 53, 89, 23, 86], [14, 54, 48, 58, 76], [52, 32, 1, 95, 54], [11, 67, 66, 33, 2], [71, 1, 42, 75, 60]], [[32, 70, 12, 11, 93], [44, 83, 87, 53, 94], [32, 46, 89, 41, 62], [25, 7, 24, 85, 81], [64, 74, 12, 41, 11], [33, 58, 64, 56, 38], [22, 93, 23, 70, 64], [86, 21, 93, 1, 26], [63, 89, 24, 45, 1], [83, 13, 40, 31, 92], [86, 62, 33, 31, 72], [11, 20, 70, 34, 64]], [[43, 76, 1, 61, 59], [73, 26, 81, 83, 47], [30, 34, 26, 47, 28], [89, 13, 40, 58, 73], [17, 2, 89, 75, 41], [81, 57, 20, 72, 6], [49, 30, 6, 48, 58], [51, 74, 16, 14, 34], [23, 51, 33, 83, 79], [6, 66, 51, 95, 4], [40, 4, 26, 87, 56], [57, 41, 15, 67, 83]], [[4, 21, 66, 88, 71], [69, 60, 38, 32, 92], [40, 17, 59, 39, 74], [21, 29, 76, 74, 9], [70, 60, 13, 49, 94], [86, 32, 54, 13, 58], [21, 41, 24, 56, 88], [15, 12, 86, 91, 82], [45, 81, 95, 38, 43], [66, 1, 90, 77, 85], [92, 39, 7, 50, 89], [5, 87, 49, 55, 57]], [[22, 32, 91, 72, 81], [89, 31, 91, 27, 40], [5, 60, 51, 34, 8], [86, 5, 9, 50, 18], [26, 35, 19, 90, 58], [17, 91, 77, 33, 5], [93, 77, 36, 60, 13], [48, 42, 78, 58, 29], [33, 81, 90, 38, 88], [30, 12, 36, 7, 15], [8, 86, 52, 10, 32], [37, 2, 41, 15, 45]], [[50, 81, 36, 1, 39], [0, 30, 38, 83, 13], [84, 60, 45, 23, 0], [92, 19, 29, 89, 25], [90, 92, 53, 85, 0], [75, 14, 70, 24, 10], [67, 52, 46, 45, 60], [29, 2, 94, 65, 75], [60, 34, 75, 74, 18], [18, 77, 61, 24, 53], [55, 87, 43, 12, 83], [33, 32, 13, 52, 16]]]\n",
    "\n",
    "\n",
    "clss_12=[\n",
    "   ['MAPI Mayeek_GOK', 'MAPI Mayeek_BHAM', 'MAPI Mayeek_JIL', 'MAPI Mayeek_UUN', 'MAPI Mayeek_BAA', 'MAPI Mayeek_FAM', 'MAPI Mayeek_DHOU', 'MAPI Mayeek_KOK', 'MAPI Mayeek_LAI', 'MAPI Mayeek_DIL', 'MAPI Mayeek_SAM', 'MAPI Mayeek_ATIYA'],\n",
    "   ['MAPI Mayeek_JIL', 'MAPI Mayeek_EEE', 'MAPI Mayeek_GHOU', 'MAPI Mayeek_MIT', 'MAPI Mayeek_ATIYA', 'MAPI Mayeek_BAA', 'MAPI Mayeek_HUK', 'MAPI Mayeek_THOU', 'MAPI Mayeek_DHOU', 'MAPI Mayeek_UUN', 'MAPI Mayeek_PAA', 'MAPI Mayeek_JHAM'],\n",
    "     ['MAPI Mayeek_PAA', 'MAPI Mayeek_KOK', 'MAPI Mayeek_BAA', 'MAPI Mayeek_DIL', 'MAPI Mayeek_CHIN', 'MAPI Mayeek_NGOU', 'MAPI Mayeek_NAA', 'MAPI Mayeek_RAAI', 'MAPI Mayeek_WAI', 'MAPI Mayeek_UUN', 'MAPI Mayeek_JHAM', 'MAPI Mayeek_LAI'],\n",
    "   ['MAPI Mayeek_KHOU', 'MAPI Mayeek_FAM', 'MAPI Mayeek_SAM', 'MAPI Mayeek_JIL', 'MAPI Mayeek_EEE', 'MAPI Mayeek_LAI', 'MAPI Mayeek_HUK', 'MAPI Mayeek_NGOU', 'MAPI Mayeek_DHOU', 'MAPI Mayeek_GOK', 'MAPI Mayeek_TIL', 'MAPI Mayeek_KOK'],\n",
    "    ['MAPI Mayeek_CHIN', 'MAPI Mayeek_YANG', 'MAPI Mayeek_KOK', 'MAPI Mayeek_PAA', 'MAPI Mayeek_NAA', 'MAPI Mayeek_FAM', 'MAPI Mayeek_RAAI', 'MAPI Mayeek_THOU', 'MAPI Mayeek_EEE', 'MAPI Mayeek_TIL', 'MAPI Mayeek_DHOU', 'MAPI Mayeek_WAI'],\n",
    "    ['MAPI Mayeek_NAA', 'MAPI Mayeek_EEE', 'MAPI Mayeek_KOK', 'MAPI Mayeek_BAA', 'MAPI Mayeek_WAI', 'MAPI Mayeek_BHAM', 'MAPI Mayeek_JHAM', 'MAPI Mayeek_PAA', 'MAPI Mayeek_MIT', 'MAPI Mayeek_THOU', 'MAPI Mayeek_DHOU', 'MAPI Mayeek_NGOU'],\n",
    "   ['MAPI Mayeek_NGOU', 'MAPI Mayeek_LAI', 'MAPI Mayeek_BHAM', 'MAPI Mayeek_JIL', 'MAPI Mayeek_SAM', 'MAPI Mayeek_JHAM', 'MAPI Mayeek_EEE', 'MAPI Mayeek_ATIYA', 'MAPI Mayeek_RAAI', 'MAPI Mayeek_MIT', 'MAPI Mayeek_KOK', 'MAPI Mayeek_FAM'],\n",
    "    ['MAPI Mayeek_SAM', 'MAPI Mayeek_LAI', 'MAPI Mayeek_CHIN', 'MAPI Mayeek_THOU', 'MAPI Mayeek_PAA', 'MAPI Mayeek_KOK', 'MAPI Mayeek_BHAM', 'MAPI Mayeek_NAA', 'MAPI Mayeek_GHOU', 'MAPI Mayeek_MIT', 'MAPI Mayeek_HUK', 'MAPI Mayeek_JHAM'],\n",
    "   ['MAPI Mayeek_TIL', 'MAPI Mayeek_WAI', 'MAPI Mayeek_JHAM', 'MAPI Mayeek_DHOU', 'MAPI Mayeek_HUK', 'MAPI Mayeek_DIL', 'MAPI Mayeek_BHAM', 'MAPI Mayeek_FAM', 'MAPI Mayeek_LAI', 'MAPI Mayeek_NGOU', 'MAPI Mayeek_GHOU', 'MAPI Mayeek_GOK'],\n",
    "    ['MAPI Mayeek_BAA', 'MAPI Mayeek_GOK', 'MAPI Mayeek_JHAM', 'MAPI Mayeek_DHOU', 'MAPI Mayeek_LAI', 'MAPI Mayeek_BHAM', 'MAPI Mayeek_TIL', 'MAPI Mayeek_THOU', 'MAPI Mayeek_KOK', 'MAPI Mayeek_FAM', 'MAPI Mayeek_RAAI', 'MAPI Mayeek_SAM'],\n",
    "   ['MAPI Mayeek_ATIYA', 'MAPI Mayeek_UUN', 'MAPI Mayeek_PAA', 'MAPI Mayeek_NGOU', 'MAPI Mayeek_GHOU', 'MAPI Mayeek_NAA', 'MAPI Mayeek_FAM', 'MAPI Mayeek_LAI', 'MAPI Mayeek_KOK', 'MAPI Mayeek_GOK', 'MAPI Mayeek_DHOU', 'MAPI Mayeek_SAM'],\n",
    "    ['MAPI Mayeek_BHAM', 'MAPI Mayeek_NGOU', 'MAPI Mayeek_BAA', 'MAPI Mayeek_EEE', 'MAPI Mayeek_CHIN', 'MAPI Mayeek_LAI', 'MAPI Mayeek_FAM', 'MAPI Mayeek_NAA', 'MAPI Mayeek_GOK', 'MAPI Mayeek_THOU', 'MAPI Mayeek_SAM', 'MAPI Mayeek_ATIYA'],\n",
    "    ['MAPI Mayeek_BHAM', 'MAPI Mayeek_LAI', 'MAPI Mayeek_PAA', 'MAPI Mayeek_NAA', 'MAPI Mayeek_DHOU', 'MAPI Mayeek_SAM', 'MAPI Mayeek_DIL', 'MAPI Mayeek_CHIN', 'MAPI Mayeek_JHAM', 'MAPI Mayeek_NGOU', 'MAPI Mayeek_EEE', 'MAPI Mayeek_GOK'],\n",
    "   ['MAPI Mayeek_FAM', 'MAPI Mayeek_BHAM', 'MAPI Mayeek_UUN', 'MAPI Mayeek_WAI', 'MAPI Mayeek_PAA', 'MAPI Mayeek_GHOU', 'MAPI Mayeek_KOK', 'MAPI Mayeek_DHOU', 'MAPI Mayeek_GOK', 'MAPI Mayeek_EEE', 'MAPI Mayeek_YANG', 'MAPI Mayeek_JHAM'],\n",
    "    ['MAPI Mayeek_PAA', 'MAPI Mayeek_BAA', 'MAPI Mayeek_SAM', 'MAPI Mayeek_HUK', 'MAPI Mayeek_NGOU', 'MAPI Mayeek_FAM', 'MAPI Mayeek_LAI', 'MAPI Mayeek_GHOU', 'MAPI Mayeek_DHOU', 'MAPI Mayeek_GOK', 'MAPI Mayeek_NAA', 'MAPI Mayeek_EEE'],\n",
    "   ]\n",
    "clss_support_imagesss_1_shot=[\n",
    " [[21], [40], [89], [6], [10], [93], [32], [36], [89], [22], [37], [7]],\n",
    " [[66], [63], [93], [67], [15], [94], [46], [34], [58], [39], [26], [39]],\n",
    " [[64], [71], [38], [26], [17], [52], [71], [21], [45], [4], [29], [56]],\n",
    " [[64], [39], [36], [63], [26], [17], [31], [2], [29], [63], [9], [7]],\n",
    " [[48], [59], [62], [38], [74], [7], [0], [65], [70], [72], [56], [68]],\n",
    " [[55], [40], [74], [29], [45], [6], [58], [78], [41], [95], [41], [2]],\n",
    " [[76], [75], [44], [3], [35], [10], [26], [39], [61], [27], [84], [70]],\n",
    " [[3], [34], [52], [14], [89], [45], [89], [45], [7], [0], [37], [10]],\n",
    " [[36], [1], [72], [29], [73], [56], [27], [26], [37], [25], [32], [63]],\n",
    " [[65], [95], [90], [70], [3], [92], [2], [63], [14], [52], [11], [71]],\n",
    " [[32], [44], [32], [25], [64], [33], [22], [86], [63], [83], [86], [11]],\n",
    "  [[43], [73], [30], [89], [17], [81], [49], [51], [23], [6], [40], [57]],\n",
    " [[4], [69], [40], [21], [70], [86], [21], [15], [45], [66], [92], [5]],\n",
    " [[22], [89], [5], [86], [26], [17], [93], [48], [33], [30], [8], [37]],\n",
    " [[50], [0], [84], [92], [90], [75], [67], [29], [60], [18], [55], [33]]\n",
    "]\n",
    "\n",
    "\n",
    "\n",
    "\n",
    "\n",
    "\n",
    "\n",
    "\n",
    "\n"
   ]
  },
  {
   "cell_type": "code",
   "execution_count": 67,
   "metadata": {},
   "outputs": [
    {
     "name": "stderr",
     "output_type": "stream",
     "text": [
      "/home/asufian/.local/share/pipx/venvs/notebook/lib/python3.12/site-packages/torchvision/models/_utils.py:208: UserWarning: The parameter 'pretrained' is deprecated since 0.13 and may be removed in the future, please use 'weights' instead.\n",
      "  warnings.warn(\n",
      "/home/asufian/.local/share/pipx/venvs/notebook/lib/python3.12/site-packages/torchvision/models/_utils.py:223: UserWarning: Arguments other than a weight enum or `None` for 'weights' are deprecated since 0.13 and may be removed in the future. The current behavior is equivalent to passing `weights=None`.\n",
      "  warnings.warn(msg)\n"
     ]
    }
   ],
   "source": [
    "device = torch.device(\"cuda\" if torch.cuda.is_available() else \"cpu\")\n",
    "\n",
    "\n",
    "\n",
    "!rm model_mu_path.pt\n",
    "!rm model_own_path.pt\n",
    "\n",
    "convolutional_network_with_dropout =  ResNet18WithDropout(pretrained=False, dr=0.0)\n",
    "convolutional_network_with_dropout.fc = nn.Flatten()\n",
    "\n",
    "model_own = PrototypicalNetworks_dynamic_query(convolutional_network_with_dropout).to(device)\n",
    "model_own.load_state_dict(torch.load('/home/asufian/Desktop/output_olchiki/code/modelr_res18_35.pth',map_location=torch.device('cpu')))\n",
    "\n",
    "\n",
    "convolutional_network_with_dropout =  ResNet18WithDropout(pretrained=False, dr=0.0)\n",
    "convolutional_network_with_dropout.fc = nn.Flatten()\n",
    "\n",
    "model_own_1_shot = PrototypicalNetworks_dynamic_query(convolutional_network_with_dropout).to(device)\n",
    "model_own_1_shot.load_state_dict(torch.load('/home/asufian/Desktop/output_olchiki/code/mapi_sce/ressecondary/model_1/model_B_mapi_1-shot_res.pth',map_location=torch.device('cpu')))\n",
    "\n",
    "torch.save(model_own_1_shot.state_dict(), 'model_mu_path.pt')\n",
    "torch.save(model_own.state_dict(), 'model_own_path.pt')\n"
   ]
  },
  {
   "cell_type": "code",
   "execution_count": 68,
   "metadata": {},
   "outputs": [],
   "source": [
    "\n",
    "def evaluate2(fname,data_loader, model, criterion=nn.CrossEntropyLoss()):\n",
    "    total_predictions = 0\n",
    "    correct_predictions = 0\n",
    "    total_loss = 0.0\n",
    "    accuracy = 0\n",
    "    datta = \"\"\n",
    "    model.eval()\n",
    "    tlv_cls=0\n",
    "    ttla=0\n",
    "    ttlal=[]\n",
    "    ttlac=0\n",
    "    precision=[]\n",
    "    recall=[]\n",
    "    \n",
    "    with torch.no_grad():\n",
    "        for episode in range(len(clss_12)):\n",
    "            support_set, query_set = data_loader.__getitem__(clss_12[tlv_cls] , clss_support_imagesss_1_shot[tlv_cls])\n",
    "\n",
    "           \n",
    "            clssa=str(clss_12[tlv_cls])\n",
    "            clss=str(clssa).replace(',',' ').replace('\\'',' ').replace('\\'',' ')\n",
    "            msg=str(clss_support_imagesss_1_shot[tlv_cls])\n",
    "            str(clss_12[tlv_cls])\n",
    "\n",
    "            tlv_cls+=1\n",
    "            # print(len(support_set),len(query_set))\n",
    "            support_set = [(torch.stack(images).to(device), label[0]) for images, label in support_set]\n",
    "            query_set = [(torch.stack(images).to(device), label) for images, label in query_set]\n",
    "\n",
    "            support_images, support_labels = zip(*support_set)\n",
    "\n",
    "            query_images, query_labels = zip(*query_set)\n",
    "\n",
    "            classification_scores = model(support_images, support_labels, query_images)\n",
    "            cortt = 0\n",
    "            totl = 0\n",
    "            confusion_mat=None\n",
    "            all_predicted_labels = []\n",
    "            all_actual_labels = []\n",
    "            # print(len(classification_scores),len(query_labels))\n",
    "            for ei in range(len(classification_scores)):\n",
    "                classification_scores_each_class = classification_scores[ei]\n",
    "                # print(classification_scores_each_class)\n",
    "                predicted_labels_eachclas = torch.argmax(classification_scores_each_class, dim=1)\n",
    "                pp = predicted_labels_eachclas.tolist()\n",
    "                act = query_labels[ei]\n",
    "                all_predicted_labels.extend(pp)\n",
    "                all_actual_labels.extend(act)\n",
    "                for iiii in range(len(pp)):\n",
    "                    if pp[iiii] == act[iiii]:\n",
    "                        cortt = cortt + 1\n",
    "                totl = totl + len(pp)\n",
    "                # print(len(act))\n",
    "            accuracy = cortt / totl\n",
    "            ttla+=1\n",
    "            ttlac+=accuracy\n",
    "            ttlal.append(accuracy)\n",
    "            # print(cortt , totl,\"Validation Accuracy:              \", cortt / totl)\n",
    "            confusion_mat = confusion_matrix(all_actual_labels, all_predicted_labels)\n",
    "            # print(\"Confusion Matrix:\")\n",
    "            # print(confusion_mat)\n",
    "\n",
    "            # fname='./own35_mapi_5_way_1_shot'\n",
    "\n",
    "            precision_overall, recall_overall, f1ss= calculate_metrics_get_per(msg,confusion_mat,acciuracy=cortt / totl,cls=clss,flnm=fname)\n",
    "            precision.append(precision_overall)\n",
    "            recall.append(recall_overall)\n",
    "    print(f\"---Accu-----pre----rec---------> {np.mean(ttlal):.4f} ± {np.std(ttlal, ddof=1):.4f}  \"\n",
    "      f\"{np.mean(precision):.4f} ± {np.std(precision, ddof=1):.4f}  \"\n",
    "      f\"{np.mean(recall):.4f} ± {np.std(recall, ddof=1):.4f}\")\n",
    "\n",
    "    # print(\"---Accu-----pre----rec---------->\",np.mean(ttlal),'±',np.std(ttlal, ddof=1), np.mean(precision),'±',np.std(precision, ddof=1),np.mean(precision),'±',np.std(precision, ddof=1),)\n",
    "# %%%%%%\n",
    "\n",
    "def evaluate3(fname,data_loader, model, criterion=nn.CrossEntropyLoss()):\n",
    "    total_predictions = 0\n",
    "    correct_predictions = 0\n",
    "    total_loss = 0.0\n",
    "    accuracy = 0\n",
    "    datta = \"\"\n",
    "    model.eval()\n",
    "    tlv_cls=0\n",
    "    ttla=0\n",
    "    ttlac=0\n",
    "    with torch.no_grad():\n",
    "        for episode in range(len(clss_12)):\n",
    "            support_set, query_set = data_loader.__getitem__(clss_12[tlv_cls] , clss_support_imagesss_1_shot[tlv_cls])\n",
    "\n",
    "            \n",
    "            clssa=str(clss_12[tlv_cls])\n",
    "            clss=str(clssa).replace(',',' ').replace('\\'',' ').replace('\\'',' ')\n",
    "            msg=str(clss_support_imagesss_1_shot[tlv_cls])\n",
    "            str(clss_12[tlv_cls])\n",
    "\n",
    "            tlv_cls+=1\n",
    "            # print(len(support_set),len(query_set))\n",
    "            support_set = [(torch.stack(images).to(device), label[0]) for images, label in support_set]\n",
    "            query_set = [(torch.stack(images).to(device), label) for images, label in query_set]\n",
    "\n",
    "            support_images, support_labels = zip(*support_set)\n",
    "\n",
    "            query_images, query_labels = zip(*query_set)\n",
    "\n",
    "            classification_scores = model(support_images, support_labels, query_images)\n",
    "            cortt = 0\n",
    "            totl = 0\n",
    "            confusion_mat=None\n",
    "            all_predicted_labels = []\n",
    "            all_actual_labels = []\n",
    "            # print(len(classification_scores),len(query_labels))\n",
    "            for ei in range(len(classification_scores)):\n",
    "                classification_scores_each_class = classification_scores[ei]\n",
    "                # print(classification_scores_each_class)\n",
    "                predicted_labels_eachclas = torch.argmax(classification_scores_each_class, dim=1)\n",
    "                pp = predicted_labels_eachclas.tolist()\n",
    "                act = query_labels[ei]\n",
    "                all_predicted_labels.extend(pp)\n",
    "                all_actual_labels.extend(act)\n",
    "                for iiii in range(len(pp)):\n",
    "                    if pp[iiii] == act[iiii]:\n",
    "                        cortt = cortt + 1\n",
    "                totl = totl + len(pp)\n",
    "                # print(len(act))\n",
    "            accuracy = cortt / totl\n",
    "            ttla+=1\n",
    "            ttlac+=accuracy\n",
    "            # print(cortt , totl,\"Validation Accuracy:              \", cortt / totl)\n",
    "            # confusion_mat = confusion_matrix(all_actual_labels, all_predicted_labels)\n",
    "            # print(\"Confusion Matrix:\")\n",
    "            # print(confusion_mat)\n",
    "\n",
    "            # fname='./own35_mapi_5_way_1_shot'\n",
    "\n",
    "            # calculate_metrics_get_per(msg,confusion_mat,acciuracy=cortt / totl,cls=clss,flnm=fname)\n",
    "\n",
    "    print(\"---------------------->\",ttlac/ttla)\n",
    "    return ttlac/ttla"
   ]
  },
  {
   "cell_type": "code",
   "execution_count": 69,
   "metadata": {
    "scrolled": true
   },
   "outputs": [
    {
     "name": "stdout",
     "output_type": "stream",
     "text": [
      "Testing b_a_r = 0.7965, c_a_r = 0.1834, f_a_r = 0.7797\n"
     ]
    },
    {
     "name": "stderr",
     "output_type": "stream",
     "text": [
      "/home/asufian/.local/share/pipx/venvs/notebook/lib/python3.12/site-packages/torchvision/models/_utils.py:208: UserWarning: The parameter 'pretrained' is deprecated since 0.13 and may be removed in the future, please use 'weights' instead.\n",
      "  warnings.warn(\n",
      "/home/asufian/.local/share/pipx/venvs/notebook/lib/python3.12/site-packages/torchvision/models/_utils.py:223: UserWarning: Arguments other than a weight enum or `None` for 'weights' are deprecated since 0.13 and may be removed in the future. The current behavior is equivalent to passing `weights=None`.\n",
      "  warnings.warn(msg)\n"
     ]
    },
    {
     "name": "stdout",
     "output_type": "stream",
     "text": [
      "----------------------> 0.39421052631578946\n",
      "Evaluated Accuracy: 0.3942\n",
      "Testing b_a_r = 0.5969, c_a_r = 0.4458, f_a_r = 0.1000\n",
      "----------------------> 0.21918128654970762\n",
      "Evaluated Accuracy: 0.2192\n",
      "Testing b_a_r = 0.4592, c_a_r = 0.3337, f_a_r = 0.1429\n",
      "----------------------> 0.25228070175438594\n",
      "Evaluated Accuracy: 0.2523\n",
      "Testing b_a_r = 0.6509, c_a_r = 0.0564, f_a_r = 0.7220\n",
      "----------------------> 0.45099415204678367\n",
      "Evaluated Accuracy: 0.4510\n",
      "Testing b_a_r = 0.9386, c_a_r = 0.0008, f_a_r = 0.9922\n",
      "----------------------> 0.40923976608187135\n",
      "Evaluated Accuracy: 0.4092\n",
      "Testing b_a_r = 0.0311, c_a_r = 0.0000, f_a_r = 0.5378\n"
     ]
    },
    {
     "name": "stderr",
     "output_type": "stream",
     "text": [
      "/home/asufian/.local/share/pipx/venvs/notebook/lib/python3.12/site-packages/torchvision/models/_utils.py:208: UserWarning: The parameter 'pretrained' is deprecated since 0.13 and may be removed in the future, please use 'weights' instead.\n",
      "  warnings.warn(\n",
      "/home/asufian/.local/share/pipx/venvs/notebook/lib/python3.12/site-packages/torchvision/models/_utils.py:223: UserWarning: Arguments other than a weight enum or `None` for 'weights' are deprecated since 0.13 and may be removed in the future. The current behavior is equivalent to passing `weights=None`.\n",
      "  warnings.warn(msg)\n"
     ]
    },
    {
     "name": "stdout",
     "output_type": "stream",
     "text": [
      "----------------------> 0.4547368421052631\n",
      "Evaluated Accuracy: 0.4547\n",
      "Testing b_a_r = 0.2287, c_a_r = 1.0000, f_a_r = 1.0000\n"
     ]
    },
    {
     "name": "stderr",
     "output_type": "stream",
     "text": [
      "/home/asufian/.local/share/pipx/venvs/notebook/lib/python3.12/site-packages/torchvision/models/_utils.py:208: UserWarning: The parameter 'pretrained' is deprecated since 0.13 and may be removed in the future, please use 'weights' instead.\n",
      "  warnings.warn(\n",
      "/home/asufian/.local/share/pipx/venvs/notebook/lib/python3.12/site-packages/torchvision/models/_utils.py:223: UserWarning: Arguments other than a weight enum or `None` for 'weights' are deprecated since 0.13 and may be removed in the future. The current behavior is equivalent to passing `weights=None`.\n",
      "  warnings.warn(msg)\n"
     ]
    },
    {
     "name": "stdout",
     "output_type": "stream",
     "text": [
      "----------------------> 0.10853801169590643\n",
      "Evaluated Accuracy: 0.1085\n",
      "Testing b_a_r = 1.0000, c_a_r = 0.0000, f_a_r = 0.6865\n"
     ]
    },
    {
     "name": "stderr",
     "output_type": "stream",
     "text": [
      "/home/asufian/.local/share/pipx/venvs/notebook/lib/python3.12/site-packages/torchvision/models/_utils.py:208: UserWarning: The parameter 'pretrained' is deprecated since 0.13 and may be removed in the future, please use 'weights' instead.\n",
      "  warnings.warn(\n",
      "/home/asufian/.local/share/pipx/venvs/notebook/lib/python3.12/site-packages/torchvision/models/_utils.py:223: UserWarning: Arguments other than a weight enum or `None` for 'weights' are deprecated since 0.13 and may be removed in the future. The current behavior is equivalent to passing `weights=None`.\n",
      "  warnings.warn(msg)\n"
     ]
    },
    {
     "name": "stdout",
     "output_type": "stream",
     "text": [
      "----------------------> 0.453859649122807\n",
      "Evaluated Accuracy: 0.4539\n",
      "Testing b_a_r = 1.0000, c_a_r = 0.0000, f_a_r = 0.0000\n"
     ]
    },
    {
     "name": "stderr",
     "output_type": "stream",
     "text": [
      "/home/asufian/.local/share/pipx/venvs/notebook/lib/python3.12/site-packages/torchvision/models/_utils.py:208: UserWarning: The parameter 'pretrained' is deprecated since 0.13 and may be removed in the future, please use 'weights' instead.\n",
      "  warnings.warn(\n",
      "/home/asufian/.local/share/pipx/venvs/notebook/lib/python3.12/site-packages/torchvision/models/_utils.py:223: UserWarning: Arguments other than a weight enum or `None` for 'weights' are deprecated since 0.13 and may be removed in the future. The current behavior is equivalent to passing `weights=None`.\n",
      "  warnings.warn(msg)\n"
     ]
    },
    {
     "name": "stdout",
     "output_type": "stream",
     "text": [
      "----------------------> 0.44070175438596493\n",
      "Evaluated Accuracy: 0.4407\n",
      "Testing b_a_r = 0.8306, c_a_r = 1.0000, f_a_r = 0.0000\n"
     ]
    },
    {
     "name": "stderr",
     "output_type": "stream",
     "text": [
      "/home/asufian/.local/share/pipx/venvs/notebook/lib/python3.12/site-packages/torchvision/models/_utils.py:208: UserWarning: The parameter 'pretrained' is deprecated since 0.13 and may be removed in the future, please use 'weights' instead.\n",
      "  warnings.warn(\n",
      "/home/asufian/.local/share/pipx/venvs/notebook/lib/python3.12/site-packages/torchvision/models/_utils.py:223: UserWarning: Arguments other than a weight enum or `None` for 'weights' are deprecated since 0.13 and may be removed in the future. The current behavior is equivalent to passing `weights=None`.\n",
      "  warnings.warn(msg)\n"
     ]
    },
    {
     "name": "stdout",
     "output_type": "stream",
     "text": [
      "----------------------> 0.10976608187134504\n",
      "Evaluated Accuracy: 0.1098\n",
      "Testing b_a_r = 0.0000, c_a_r = 0.0725, f_a_r = 0.0000\n"
     ]
    },
    {
     "name": "stderr",
     "output_type": "stream",
     "text": [
      "/home/asufian/.local/share/pipx/venvs/notebook/lib/python3.12/site-packages/torchvision/models/_utils.py:208: UserWarning: The parameter 'pretrained' is deprecated since 0.13 and may be removed in the future, please use 'weights' instead.\n",
      "  warnings.warn(\n",
      "/home/asufian/.local/share/pipx/venvs/notebook/lib/python3.12/site-packages/torchvision/models/_utils.py:223: UserWarning: Arguments other than a weight enum or `None` for 'weights' are deprecated since 0.13 and may be removed in the future. The current behavior is equivalent to passing `weights=None`.\n",
      "  warnings.warn(msg)\n"
     ]
    },
    {
     "name": "stdout",
     "output_type": "stream",
     "text": [
      "----------------------> 0.43251461988304096\n",
      "Evaluated Accuracy: 0.4325\n",
      "Testing b_a_r = 0.0121, c_a_r = 0.0689, f_a_r = 0.9289\n"
     ]
    },
    {
     "name": "stderr",
     "output_type": "stream",
     "text": [
      "/home/asufian/.local/share/pipx/venvs/notebook/lib/python3.12/site-packages/torchvision/models/_utils.py:208: UserWarning: The parameter 'pretrained' is deprecated since 0.13 and may be removed in the future, please use 'weights' instead.\n",
      "  warnings.warn(\n",
      "/home/asufian/.local/share/pipx/venvs/notebook/lib/python3.12/site-packages/torchvision/models/_utils.py:223: UserWarning: Arguments other than a weight enum or `None` for 'weights' are deprecated since 0.13 and may be removed in the future. The current behavior is equivalent to passing `weights=None`.\n",
      "  warnings.warn(msg)\n"
     ]
    },
    {
     "name": "stdout",
     "output_type": "stream",
     "text": [
      "----------------------> 0.41350877192982455\n",
      "Evaluated Accuracy: 0.4135\n",
      "Testing b_a_r = 1.0000, c_a_r = 0.0422, f_a_r = 0.4297\n"
     ]
    },
    {
     "name": "stderr",
     "output_type": "stream",
     "text": [
      "/home/asufian/.local/share/pipx/venvs/notebook/lib/python3.12/site-packages/torchvision/models/_utils.py:208: UserWarning: The parameter 'pretrained' is deprecated since 0.13 and may be removed in the future, please use 'weights' instead.\n",
      "  warnings.warn(\n",
      "/home/asufian/.local/share/pipx/venvs/notebook/lib/python3.12/site-packages/torchvision/models/_utils.py:223: UserWarning: Arguments other than a weight enum or `None` for 'weights' are deprecated since 0.13 and may be removed in the future. The current behavior is equivalent to passing `weights=None`.\n",
      "  warnings.warn(msg)\n"
     ]
    },
    {
     "name": "stdout",
     "output_type": "stream",
     "text": [
      "----------------------> 0.45052631578947366\n",
      "Evaluated Accuracy: 0.4505\n",
      "Testing b_a_r = 0.9250, c_a_r = 0.5358, f_a_r = 1.0000\n"
     ]
    },
    {
     "name": "stderr",
     "output_type": "stream",
     "text": [
      "/home/asufian/.local/share/pipx/venvs/notebook/lib/python3.12/site-packages/torchvision/models/_utils.py:208: UserWarning: The parameter 'pretrained' is deprecated since 0.13 and may be removed in the future, please use 'weights' instead.\n",
      "  warnings.warn(\n",
      "/home/asufian/.local/share/pipx/venvs/notebook/lib/python3.12/site-packages/torchvision/models/_utils.py:223: UserWarning: Arguments other than a weight enum or `None` for 'weights' are deprecated since 0.13 and may be removed in the future. The current behavior is equivalent to passing `weights=None`.\n",
      "  warnings.warn(msg)\n"
     ]
    },
    {
     "name": "stdout",
     "output_type": "stream",
     "text": [
      "----------------------> 0.23280701754385966\n",
      "Evaluated Accuracy: 0.2328\n",
      "Testing b_a_r = 0.0655, c_a_r = 0.0000, f_a_r = 0.2200\n"
     ]
    },
    {
     "name": "stderr",
     "output_type": "stream",
     "text": [
      "/home/asufian/.local/share/pipx/venvs/notebook/lib/python3.12/site-packages/torchvision/models/_utils.py:208: UserWarning: The parameter 'pretrained' is deprecated since 0.13 and may be removed in the future, please use 'weights' instead.\n",
      "  warnings.warn(\n",
      "/home/asufian/.local/share/pipx/venvs/notebook/lib/python3.12/site-packages/torchvision/models/_utils.py:223: UserWarning: Arguments other than a weight enum or `None` for 'weights' are deprecated since 0.13 and may be removed in the future. The current behavior is equivalent to passing `weights=None`.\n",
      "  warnings.warn(msg)\n"
     ]
    },
    {
     "name": "stdout",
     "output_type": "stream",
     "text": [
      "----------------------> 0.43824561403508777\n",
      "Evaluated Accuracy: 0.4382\n",
      "Testing b_a_r = 0.1142, c_a_r = 0.0831, f_a_r = 0.5475\n"
     ]
    },
    {
     "name": "stderr",
     "output_type": "stream",
     "text": [
      "/home/asufian/.local/share/pipx/venvs/notebook/lib/python3.12/site-packages/torchvision/models/_utils.py:208: UserWarning: The parameter 'pretrained' is deprecated since 0.13 and may be removed in the future, please use 'weights' instead.\n",
      "  warnings.warn(\n",
      "/home/asufian/.local/share/pipx/venvs/notebook/lib/python3.12/site-packages/torchvision/models/_utils.py:223: UserWarning: Arguments other than a weight enum or `None` for 'weights' are deprecated since 0.13 and may be removed in the future. The current behavior is equivalent to passing `weights=None`.\n",
      "  warnings.warn(msg)\n"
     ]
    },
    {
     "name": "stdout",
     "output_type": "stream",
     "text": [
      "----------------------> 0.44760233918128656\n",
      "Evaluated Accuracy: 0.4476\n",
      "Testing b_a_r = 0.6185, c_a_r = 0.0361, f_a_r = 0.6056\n"
     ]
    },
    {
     "name": "stderr",
     "output_type": "stream",
     "text": [
      "/home/asufian/.local/share/pipx/venvs/notebook/lib/python3.12/site-packages/torchvision/models/_utils.py:208: UserWarning: The parameter 'pretrained' is deprecated since 0.13 and may be removed in the future, please use 'weights' instead.\n",
      "  warnings.warn(\n",
      "/home/asufian/.local/share/pipx/venvs/notebook/lib/python3.12/site-packages/torchvision/models/_utils.py:223: UserWarning: Arguments other than a weight enum or `None` for 'weights' are deprecated since 0.13 and may be removed in the future. The current behavior is equivalent to passing `weights=None`.\n",
      "  warnings.warn(msg)\n"
     ]
    },
    {
     "name": "stdout",
     "output_type": "stream",
     "text": [
      "----------------------> 0.45766081871345027\n",
      "Evaluated Accuracy: 0.4577\n",
      "Testing b_a_r = 0.7125, c_a_r = 0.7413, f_a_r = 0.0005\n"
     ]
    },
    {
     "name": "stderr",
     "output_type": "stream",
     "text": [
      "/home/asufian/.local/share/pipx/venvs/notebook/lib/python3.12/site-packages/torchvision/models/_utils.py:208: UserWarning: The parameter 'pretrained' is deprecated since 0.13 and may be removed in the future, please use 'weights' instead.\n",
      "  warnings.warn(\n",
      "/home/asufian/.local/share/pipx/venvs/notebook/lib/python3.12/site-packages/torchvision/models/_utils.py:223: UserWarning: Arguments other than a weight enum or `None` for 'weights' are deprecated since 0.13 and may be removed in the future. The current behavior is equivalent to passing `weights=None`.\n",
      "  warnings.warn(msg)\n"
     ]
    },
    {
     "name": "stdout",
     "output_type": "stream",
     "text": [
      "----------------------> 0.1916374269005848\n",
      "Evaluated Accuracy: 0.1916\n",
      "Testing b_a_r = 0.5319, c_a_r = 0.3137, f_a_r = 0.9968\n"
     ]
    },
    {
     "name": "stderr",
     "output_type": "stream",
     "text": [
      "/home/asufian/.local/share/pipx/venvs/notebook/lib/python3.12/site-packages/torchvision/models/_utils.py:208: UserWarning: The parameter 'pretrained' is deprecated since 0.13 and may be removed in the future, please use 'weights' instead.\n",
      "  warnings.warn(\n",
      "/home/asufian/.local/share/pipx/venvs/notebook/lib/python3.12/site-packages/torchvision/models/_utils.py:223: UserWarning: Arguments other than a weight enum or `None` for 'weights' are deprecated since 0.13 and may be removed in the future. The current behavior is equivalent to passing `weights=None`.\n",
      "  warnings.warn(msg)\n"
     ]
    },
    {
     "name": "stdout",
     "output_type": "stream",
     "text": [
      "----------------------> 0.2426900584795322\n",
      "Evaluated Accuracy: 0.2427\n",
      "Testing b_a_r = 0.6139, c_a_r = 0.7555, f_a_r = 0.9972\n"
     ]
    },
    {
     "name": "stderr",
     "output_type": "stream",
     "text": [
      "/home/asufian/.local/share/pipx/venvs/notebook/lib/python3.12/site-packages/torchvision/models/_utils.py:208: UserWarning: The parameter 'pretrained' is deprecated since 0.13 and may be removed in the future, please use 'weights' instead.\n",
      "  warnings.warn(\n",
      "/home/asufian/.local/share/pipx/venvs/notebook/lib/python3.12/site-packages/torchvision/models/_utils.py:223: UserWarning: Arguments other than a weight enum or `None` for 'weights' are deprecated since 0.13 and may be removed in the future. The current behavior is equivalent to passing `weights=None`.\n",
      "  warnings.warn(msg)\n"
     ]
    },
    {
     "name": "stdout",
     "output_type": "stream",
     "text": [
      "----------------------> 0.1561988304093567\n",
      "Evaluated Accuracy: 0.1562\n",
      "Testing b_a_r = 0.1496, c_a_r = 0.0004, f_a_r = 0.0633\n"
     ]
    },
    {
     "name": "stderr",
     "output_type": "stream",
     "text": [
      "/home/asufian/.local/share/pipx/venvs/notebook/lib/python3.12/site-packages/torchvision/models/_utils.py:208: UserWarning: The parameter 'pretrained' is deprecated since 0.13 and may be removed in the future, please use 'weights' instead.\n",
      "  warnings.warn(\n",
      "/home/asufian/.local/share/pipx/venvs/notebook/lib/python3.12/site-packages/torchvision/models/_utils.py:223: UserWarning: Arguments other than a weight enum or `None` for 'weights' are deprecated since 0.13 and may be removed in the future. The current behavior is equivalent to passing `weights=None`.\n",
      "  warnings.warn(msg)\n"
     ]
    },
    {
     "name": "stdout",
     "output_type": "stream",
     "text": [
      "----------------------> 0.4371345029239766\n",
      "Evaluated Accuracy: 0.4371\n",
      "Testing b_a_r = 0.9833, c_a_r = 0.0868, f_a_r = 0.0208\n"
     ]
    },
    {
     "name": "stderr",
     "output_type": "stream",
     "text": [
      "/home/asufian/.local/share/pipx/venvs/notebook/lib/python3.12/site-packages/torchvision/models/_utils.py:208: UserWarning: The parameter 'pretrained' is deprecated since 0.13 and may be removed in the future, please use 'weights' instead.\n",
      "  warnings.warn(\n",
      "/home/asufian/.local/share/pipx/venvs/notebook/lib/python3.12/site-packages/torchvision/models/_utils.py:223: UserWarning: Arguments other than a weight enum or `None` for 'weights' are deprecated since 0.13 and may be removed in the future. The current behavior is equivalent to passing `weights=None`.\n",
      "  warnings.warn(msg)\n"
     ]
    },
    {
     "name": "stdout",
     "output_type": "stream",
     "text": [
      "----------------------> 0.4301754385964912\n",
      "Evaluated Accuracy: 0.4302\n",
      "Testing b_a_r = 0.9731, c_a_r = 0.0002, f_a_r = 0.5907\n"
     ]
    },
    {
     "name": "stderr",
     "output_type": "stream",
     "text": [
      "/home/asufian/.local/share/pipx/venvs/notebook/lib/python3.12/site-packages/torchvision/models/_utils.py:208: UserWarning: The parameter 'pretrained' is deprecated since 0.13 and may be removed in the future, please use 'weights' instead.\n",
      "  warnings.warn(\n",
      "/home/asufian/.local/share/pipx/venvs/notebook/lib/python3.12/site-packages/torchvision/models/_utils.py:223: UserWarning: Arguments other than a weight enum or `None` for 'weights' are deprecated since 0.13 and may be removed in the future. The current behavior is equivalent to passing `weights=None`.\n",
      "  warnings.warn(msg)\n"
     ]
    },
    {
     "name": "stdout",
     "output_type": "stream",
     "text": [
      "----------------------> 0.45748538011695905\n",
      "Evaluated Accuracy: 0.4575\n",
      "Testing b_a_r = 0.6131, c_a_r = 0.1618, f_a_r = 0.3920\n"
     ]
    },
    {
     "name": "stderr",
     "output_type": "stream",
     "text": [
      "/home/asufian/.local/share/pipx/venvs/notebook/lib/python3.12/site-packages/torchvision/models/_utils.py:208: UserWarning: The parameter 'pretrained' is deprecated since 0.13 and may be removed in the future, please use 'weights' instead.\n",
      "  warnings.warn(\n",
      "/home/asufian/.local/share/pipx/venvs/notebook/lib/python3.12/site-packages/torchvision/models/_utils.py:223: UserWarning: Arguments other than a weight enum or `None` for 'weights' are deprecated since 0.13 and may be removed in the future. The current behavior is equivalent to passing `weights=None`.\n",
      "  warnings.warn(msg)\n"
     ]
    },
    {
     "name": "stdout",
     "output_type": "stream",
     "text": [
      "----------------------> 0.40146198830409363\n",
      "Evaluated Accuracy: 0.4015\n",
      "Testing b_a_r = 0.9981, c_a_r = 0.6193, f_a_r = 0.4876\n"
     ]
    },
    {
     "name": "stderr",
     "output_type": "stream",
     "text": [
      "/home/asufian/.local/share/pipx/venvs/notebook/lib/python3.12/site-packages/torchvision/models/_utils.py:208: UserWarning: The parameter 'pretrained' is deprecated since 0.13 and may be removed in the future, please use 'weights' instead.\n",
      "  warnings.warn(\n",
      "/home/asufian/.local/share/pipx/venvs/notebook/lib/python3.12/site-packages/torchvision/models/_utils.py:223: UserWarning: Arguments other than a weight enum or `None` for 'weights' are deprecated since 0.13 and may be removed in the future. The current behavior is equivalent to passing `weights=None`.\n",
      "  warnings.warn(msg)\n"
     ]
    },
    {
     "name": "stdout",
     "output_type": "stream",
     "text": [
      "----------------------> 0.23497076023391816\n",
      "Evaluated Accuracy: 0.2350\n",
      "Testing b_a_r = 0.3784, c_a_r = 0.1765, f_a_r = 0.0017\n"
     ]
    },
    {
     "name": "stderr",
     "output_type": "stream",
     "text": [
      "/home/asufian/.local/share/pipx/venvs/notebook/lib/python3.12/site-packages/torchvision/models/_utils.py:208: UserWarning: The parameter 'pretrained' is deprecated since 0.13 and may be removed in the future, please use 'weights' instead.\n",
      "  warnings.warn(\n",
      "/home/asufian/.local/share/pipx/venvs/notebook/lib/python3.12/site-packages/torchvision/models/_utils.py:223: UserWarning: Arguments other than a weight enum or `None` for 'weights' are deprecated since 0.13 and may be removed in the future. The current behavior is equivalent to passing `weights=None`.\n",
      "  warnings.warn(msg)\n"
     ]
    },
    {
     "name": "stdout",
     "output_type": "stream",
     "text": [
      "----------------------> 0.3761988304093567\n",
      "Evaluated Accuracy: 0.3762\n",
      "Testing b_a_r = 0.8623, c_a_r = 0.8642, f_a_r = 0.4550\n"
     ]
    },
    {
     "name": "stderr",
     "output_type": "stream",
     "text": [
      "/home/asufian/.local/share/pipx/venvs/notebook/lib/python3.12/site-packages/torchvision/models/_utils.py:208: UserWarning: The parameter 'pretrained' is deprecated since 0.13 and may be removed in the future, please use 'weights' instead.\n",
      "  warnings.warn(\n",
      "/home/asufian/.local/share/pipx/venvs/notebook/lib/python3.12/site-packages/torchvision/models/_utils.py:223: UserWarning: Arguments other than a weight enum or `None` for 'weights' are deprecated since 0.13 and may be removed in the future. The current behavior is equivalent to passing `weights=None`.\n",
      "  warnings.warn(msg)\n"
     ]
    },
    {
     "name": "stdout",
     "output_type": "stream",
     "text": [
      "----------------------> 0.13403508771929826\n",
      "Evaluated Accuracy: 0.1340\n",
      "Testing b_a_r = 0.9172, c_a_r = 0.4251, f_a_r = 0.6014\n"
     ]
    },
    {
     "name": "stderr",
     "output_type": "stream",
     "text": [
      "/home/asufian/.local/share/pipx/venvs/notebook/lib/python3.12/site-packages/torchvision/models/_utils.py:208: UserWarning: The parameter 'pretrained' is deprecated since 0.13 and may be removed in the future, please use 'weights' instead.\n",
      "  warnings.warn(\n",
      "/home/asufian/.local/share/pipx/venvs/notebook/lib/python3.12/site-packages/torchvision/models/_utils.py:223: UserWarning: Arguments other than a weight enum or `None` for 'weights' are deprecated since 0.13 and may be removed in the future. The current behavior is equivalent to passing `weights=None`.\n",
      "  warnings.warn(msg)\n"
     ]
    },
    {
     "name": "stdout",
     "output_type": "stream",
     "text": [
      "----------------------> 0.21994152046783627\n",
      "Evaluated Accuracy: 0.2199\n",
      "Testing b_a_r = 0.8892, c_a_r = 0.1062, f_a_r = 0.7132\n"
     ]
    },
    {
     "name": "stderr",
     "output_type": "stream",
     "text": [
      "/home/asufian/.local/share/pipx/venvs/notebook/lib/python3.12/site-packages/torchvision/models/_utils.py:208: UserWarning: The parameter 'pretrained' is deprecated since 0.13 and may be removed in the future, please use 'weights' instead.\n",
      "  warnings.warn(\n",
      "/home/asufian/.local/share/pipx/venvs/notebook/lib/python3.12/site-packages/torchvision/models/_utils.py:223: UserWarning: Arguments other than a weight enum or `None` for 'weights' are deprecated since 0.13 and may be removed in the future. The current behavior is equivalent to passing `weights=None`.\n",
      "  warnings.warn(msg)\n"
     ]
    },
    {
     "name": "stdout",
     "output_type": "stream",
     "text": [
      "----------------------> 0.44269005847953213\n",
      "Evaluated Accuracy: 0.4427\n",
      "Testing b_a_r = 0.1213, c_a_r = 0.0791, f_a_r = 0.2338\n"
     ]
    },
    {
     "name": "stderr",
     "output_type": "stream",
     "text": [
      "/home/asufian/.local/share/pipx/venvs/notebook/lib/python3.12/site-packages/torchvision/models/_utils.py:208: UserWarning: The parameter 'pretrained' is deprecated since 0.13 and may be removed in the future, please use 'weights' instead.\n",
      "  warnings.warn(\n",
      "/home/asufian/.local/share/pipx/venvs/notebook/lib/python3.12/site-packages/torchvision/models/_utils.py:223: UserWarning: Arguments other than a weight enum or `None` for 'weights' are deprecated since 0.13 and may be removed in the future. The current behavior is equivalent to passing `weights=None`.\n",
      "  warnings.warn(msg)\n"
     ]
    },
    {
     "name": "stdout",
     "output_type": "stream",
     "text": [
      "----------------------> 0.43362573099415197\n",
      "Evaluated Accuracy: 0.4336\n",
      "Testing b_a_r = 0.9530, c_a_r = 0.1640, f_a_r = 0.9984\n"
     ]
    },
    {
     "name": "stderr",
     "output_type": "stream",
     "text": [
      "/home/asufian/.local/share/pipx/venvs/notebook/lib/python3.12/site-packages/torchvision/models/_utils.py:208: UserWarning: The parameter 'pretrained' is deprecated since 0.13 and may be removed in the future, please use 'weights' instead.\n",
      "  warnings.warn(\n",
      "/home/asufian/.local/share/pipx/venvs/notebook/lib/python3.12/site-packages/torchvision/models/_utils.py:223: UserWarning: Arguments other than a weight enum or `None` for 'weights' are deprecated since 0.13 and may be removed in the future. The current behavior is equivalent to passing `weights=None`.\n",
      "  warnings.warn(msg)\n"
     ]
    },
    {
     "name": "stdout",
     "output_type": "stream",
     "text": [
      "----------------------> 0.386140350877193\n",
      "Evaluated Accuracy: 0.3861\n",
      "Testing b_a_r = 0.5067, c_a_r = 0.5918, f_a_r = 0.0042\n"
     ]
    },
    {
     "name": "stderr",
     "output_type": "stream",
     "text": [
      "/home/asufian/.local/share/pipx/venvs/notebook/lib/python3.12/site-packages/torchvision/models/_utils.py:208: UserWarning: The parameter 'pretrained' is deprecated since 0.13 and may be removed in the future, please use 'weights' instead.\n",
      "  warnings.warn(\n",
      "/home/asufian/.local/share/pipx/venvs/notebook/lib/python3.12/site-packages/torchvision/models/_utils.py:223: UserWarning: Arguments other than a weight enum or `None` for 'weights' are deprecated since 0.13 and may be removed in the future. The current behavior is equivalent to passing `weights=None`.\n",
      "  warnings.warn(msg)\n"
     ]
    },
    {
     "name": "stdout",
     "output_type": "stream",
     "text": [
      "----------------------> 0.25695906432748544\n",
      "Evaluated Accuracy: 0.2570\n",
      "Testing b_a_r = 0.9192, c_a_r = 0.0356, f_a_r = 0.0530\n"
     ]
    },
    {
     "name": "stderr",
     "output_type": "stream",
     "text": [
      "/home/asufian/.local/share/pipx/venvs/notebook/lib/python3.12/site-packages/torchvision/models/_utils.py:208: UserWarning: The parameter 'pretrained' is deprecated since 0.13 and may be removed in the future, please use 'weights' instead.\n",
      "  warnings.warn(\n",
      "/home/asufian/.local/share/pipx/venvs/notebook/lib/python3.12/site-packages/torchvision/models/_utils.py:223: UserWarning: Arguments other than a weight enum or `None` for 'weights' are deprecated since 0.13 and may be removed in the future. The current behavior is equivalent to passing `weights=None`.\n",
      "  warnings.warn(msg)\n"
     ]
    },
    {
     "name": "stdout",
     "output_type": "stream",
     "text": [
      "----------------------> 0.44157894736842107\n",
      "Evaluated Accuracy: 0.4416\n",
      "Testing b_a_r = 0.8416, c_a_r = 0.0009, f_a_r = 0.4622\n"
     ]
    },
    {
     "name": "stderr",
     "output_type": "stream",
     "text": [
      "/home/asufian/.local/share/pipx/venvs/notebook/lib/python3.12/site-packages/torchvision/models/_utils.py:208: UserWarning: The parameter 'pretrained' is deprecated since 0.13 and may be removed in the future, please use 'weights' instead.\n",
      "  warnings.warn(\n",
      "/home/asufian/.local/share/pipx/venvs/notebook/lib/python3.12/site-packages/torchvision/models/_utils.py:223: UserWarning: Arguments other than a weight enum or `None` for 'weights' are deprecated since 0.13 and may be removed in the future. The current behavior is equivalent to passing `weights=None`.\n",
      "  warnings.warn(msg)\n"
     ]
    },
    {
     "name": "stdout",
     "output_type": "stream",
     "text": [
      "----------------------> 0.4536842105263158\n",
      "Evaluated Accuracy: 0.4537\n",
      "Testing b_a_r = 0.0319, c_a_r = 0.0204, f_a_r = 0.6819\n"
     ]
    },
    {
     "name": "stderr",
     "output_type": "stream",
     "text": [
      "/home/asufian/.local/share/pipx/venvs/notebook/lib/python3.12/site-packages/torchvision/models/_utils.py:208: UserWarning: The parameter 'pretrained' is deprecated since 0.13 and may be removed in the future, please use 'weights' instead.\n",
      "  warnings.warn(\n",
      "/home/asufian/.local/share/pipx/venvs/notebook/lib/python3.12/site-packages/torchvision/models/_utils.py:223: UserWarning: Arguments other than a weight enum or `None` for 'weights' are deprecated since 0.13 and may be removed in the future. The current behavior is equivalent to passing `weights=None`.\n",
      "  warnings.warn(msg)\n"
     ]
    },
    {
     "name": "stdout",
     "output_type": "stream",
     "text": [
      "----------------------> 0.453859649122807\n",
      "Evaluated Accuracy: 0.4539\n",
      "Testing b_a_r = 0.8886, c_a_r = 0.2565, f_a_r = 0.4904\n"
     ]
    },
    {
     "name": "stderr",
     "output_type": "stream",
     "text": [
      "/home/asufian/.local/share/pipx/venvs/notebook/lib/python3.12/site-packages/torchvision/models/_utils.py:208: UserWarning: The parameter 'pretrained' is deprecated since 0.13 and may be removed in the future, please use 'weights' instead.\n",
      "  warnings.warn(\n",
      "/home/asufian/.local/share/pipx/venvs/notebook/lib/python3.12/site-packages/torchvision/models/_utils.py:223: UserWarning: Arguments other than a weight enum or `None` for 'weights' are deprecated since 0.13 and may be removed in the future. The current behavior is equivalent to passing `weights=None`.\n",
      "  warnings.warn(msg)\n"
     ]
    },
    {
     "name": "stdout",
     "output_type": "stream",
     "text": [
      "----------------------> 0.33456140350877195\n",
      "Evaluated Accuracy: 0.3346\n",
      "Testing b_a_r = 0.4409, c_a_r = 0.9999, f_a_r = 0.4896\n"
     ]
    },
    {
     "name": "stderr",
     "output_type": "stream",
     "text": [
      "/home/asufian/.local/share/pipx/venvs/notebook/lib/python3.12/site-packages/torchvision/models/_utils.py:208: UserWarning: The parameter 'pretrained' is deprecated since 0.13 and may be removed in the future, please use 'weights' instead.\n",
      "  warnings.warn(\n",
      "/home/asufian/.local/share/pipx/venvs/notebook/lib/python3.12/site-packages/torchvision/models/_utils.py:223: UserWarning: Arguments other than a weight enum or `None` for 'weights' are deprecated since 0.13 and may be removed in the future. The current behavior is equivalent to passing `weights=None`.\n",
      "  warnings.warn(msg)\n"
     ]
    },
    {
     "name": "stdout",
     "output_type": "stream",
     "text": [
      "----------------------> 0.10888888888888888\n",
      "Evaluated Accuracy: 0.1089\n",
      "Testing b_a_r = 0.9509, c_a_r = 0.0977, f_a_r = 0.4202\n"
     ]
    },
    {
     "name": "stderr",
     "output_type": "stream",
     "text": [
      "/home/asufian/.local/share/pipx/venvs/notebook/lib/python3.12/site-packages/torchvision/models/_utils.py:208: UserWarning: The parameter 'pretrained' is deprecated since 0.13 and may be removed in the future, please use 'weights' instead.\n",
      "  warnings.warn(\n",
      "/home/asufian/.local/share/pipx/venvs/notebook/lib/python3.12/site-packages/torchvision/models/_utils.py:223: UserWarning: Arguments other than a weight enum or `None` for 'weights' are deprecated since 0.13 and may be removed in the future. The current behavior is equivalent to passing `weights=None`.\n",
      "  warnings.warn(msg)\n"
     ]
    },
    {
     "name": "stdout",
     "output_type": "stream",
     "text": [
      "----------------------> 0.4360818713450293\n",
      "Evaluated Accuracy: 0.4361\n",
      "Testing b_a_r = 0.2664, c_a_r = 0.6360, f_a_r = 0.9933\n"
     ]
    },
    {
     "name": "stderr",
     "output_type": "stream",
     "text": [
      "/home/asufian/.local/share/pipx/venvs/notebook/lib/python3.12/site-packages/torchvision/models/_utils.py:208: UserWarning: The parameter 'pretrained' is deprecated since 0.13 and may be removed in the future, please use 'weights' instead.\n",
      "  warnings.warn(\n",
      "/home/asufian/.local/share/pipx/venvs/notebook/lib/python3.12/site-packages/torchvision/models/_utils.py:223: UserWarning: Arguments other than a weight enum or `None` for 'weights' are deprecated since 0.13 and may be removed in the future. The current behavior is equivalent to passing `weights=None`.\n",
      "  warnings.warn(msg)\n"
     ]
    },
    {
     "name": "stdout",
     "output_type": "stream",
     "text": [
      "----------------------> 0.20502923976608184\n",
      "Evaluated Accuracy: 0.2050\n",
      "Testing b_a_r = 0.9303, c_a_r = 0.0176, f_a_r = 0.5820\n"
     ]
    },
    {
     "name": "stderr",
     "output_type": "stream",
     "text": [
      "/home/asufian/.local/share/pipx/venvs/notebook/lib/python3.12/site-packages/torchvision/models/_utils.py:208: UserWarning: The parameter 'pretrained' is deprecated since 0.13 and may be removed in the future, please use 'weights' instead.\n",
      "  warnings.warn(\n",
      "/home/asufian/.local/share/pipx/venvs/notebook/lib/python3.12/site-packages/torchvision/models/_utils.py:223: UserWarning: Arguments other than a weight enum or `None` for 'weights' are deprecated since 0.13 and may be removed in the future. The current behavior is equivalent to passing `weights=None`.\n",
      "  warnings.warn(msg)\n"
     ]
    },
    {
     "name": "stdout",
     "output_type": "stream",
     "text": [
      "----------------------> 0.45947368421052637\n",
      "Evaluated Accuracy: 0.4595\n",
      "Testing b_a_r = 0.2177, c_a_r = 0.8743, f_a_r = 0.0017\n"
     ]
    },
    {
     "name": "stderr",
     "output_type": "stream",
     "text": [
      "/home/asufian/.local/share/pipx/venvs/notebook/lib/python3.12/site-packages/torchvision/models/_utils.py:208: UserWarning: The parameter 'pretrained' is deprecated since 0.13 and may be removed in the future, please use 'weights' instead.\n",
      "  warnings.warn(\n",
      "/home/asufian/.local/share/pipx/venvs/notebook/lib/python3.12/site-packages/torchvision/models/_utils.py:223: UserWarning: Arguments other than a weight enum or `None` for 'weights' are deprecated since 0.13 and may be removed in the future. The current behavior is equivalent to passing `weights=None`.\n",
      "  warnings.warn(msg)\n"
     ]
    },
    {
     "name": "stdout",
     "output_type": "stream",
     "text": [
      "----------------------> 0.1339766081871345\n",
      "Evaluated Accuracy: 0.1340\n",
      "Testing b_a_r = 0.6609, c_a_r = 0.8845, f_a_r = 0.9963\n"
     ]
    },
    {
     "name": "stderr",
     "output_type": "stream",
     "text": [
      "/home/asufian/.local/share/pipx/venvs/notebook/lib/python3.12/site-packages/torchvision/models/_utils.py:208: UserWarning: The parameter 'pretrained' is deprecated since 0.13 and may be removed in the future, please use 'weights' instead.\n",
      "  warnings.warn(\n",
      "/home/asufian/.local/share/pipx/venvs/notebook/lib/python3.12/site-packages/torchvision/models/_utils.py:223: UserWarning: Arguments other than a weight enum or `None` for 'weights' are deprecated since 0.13 and may be removed in the future. The current behavior is equivalent to passing `weights=None`.\n",
      "  warnings.warn(msg)\n"
     ]
    },
    {
     "name": "stdout",
     "output_type": "stream",
     "text": [
      "----------------------> 0.12520467836257312\n",
      "Evaluated Accuracy: 0.1252\n",
      "Testing b_a_r = 0.8963, c_a_r = 0.0173, f_a_r = 0.8103\n"
     ]
    },
    {
     "name": "stderr",
     "output_type": "stream",
     "text": [
      "/home/asufian/.local/share/pipx/venvs/notebook/lib/python3.12/site-packages/torchvision/models/_utils.py:208: UserWarning: The parameter 'pretrained' is deprecated since 0.13 and may be removed in the future, please use 'weights' instead.\n",
      "  warnings.warn(\n",
      "/home/asufian/.local/share/pipx/venvs/notebook/lib/python3.12/site-packages/torchvision/models/_utils.py:223: UserWarning: Arguments other than a weight enum or `None` for 'weights' are deprecated since 0.13 and may be removed in the future. The current behavior is equivalent to passing `weights=None`.\n",
      "  warnings.warn(msg)\n"
     ]
    },
    {
     "name": "stdout",
     "output_type": "stream",
     "text": [
      "----------------------> 0.43497076023391806\n",
      "Evaluated Accuracy: 0.4350\n",
      "Testing b_a_r = 0.9974, c_a_r = 0.0417, f_a_r = 0.5816\n"
     ]
    },
    {
     "name": "stderr",
     "output_type": "stream",
     "text": [
      "/home/asufian/.local/share/pipx/venvs/notebook/lib/python3.12/site-packages/torchvision/models/_utils.py:208: UserWarning: The parameter 'pretrained' is deprecated since 0.13 and may be removed in the future, please use 'weights' instead.\n",
      "  warnings.warn(\n",
      "/home/asufian/.local/share/pipx/venvs/notebook/lib/python3.12/site-packages/torchvision/models/_utils.py:223: UserWarning: Arguments other than a weight enum or `None` for 'weights' are deprecated since 0.13 and may be removed in the future. The current behavior is equivalent to passing `weights=None`.\n",
      "  warnings.warn(msg)\n"
     ]
    },
    {
     "name": "stdout",
     "output_type": "stream",
     "text": [
      "----------------------> 0.45888888888888885\n",
      "Evaluated Accuracy: 0.4589\n",
      "Testing b_a_r = 0.9780, c_a_r = 0.1388, f_a_r = 0.6101\n"
     ]
    },
    {
     "name": "stderr",
     "output_type": "stream",
     "text": [
      "/home/asufian/.local/share/pipx/venvs/notebook/lib/python3.12/site-packages/torchvision/models/_utils.py:208: UserWarning: The parameter 'pretrained' is deprecated since 0.13 and may be removed in the future, please use 'weights' instead.\n",
      "  warnings.warn(\n",
      "/home/asufian/.local/share/pipx/venvs/notebook/lib/python3.12/site-packages/torchvision/models/_utils.py:223: UserWarning: Arguments other than a weight enum or `None` for 'weights' are deprecated since 0.13 and may be removed in the future. The current behavior is equivalent to passing `weights=None`.\n",
      "  warnings.warn(msg)\n"
     ]
    },
    {
     "name": "stdout",
     "output_type": "stream",
     "text": [
      "----------------------> 0.4315204678362573\n",
      "Evaluated Accuracy: 0.4315\n",
      "Testing b_a_r = 0.9828, c_a_r = 0.0414, f_a_r = 0.2885\n"
     ]
    },
    {
     "name": "stderr",
     "output_type": "stream",
     "text": [
      "/home/asufian/.local/share/pipx/venvs/notebook/lib/python3.12/site-packages/torchvision/models/_utils.py:208: UserWarning: The parameter 'pretrained' is deprecated since 0.13 and may be removed in the future, please use 'weights' instead.\n",
      "  warnings.warn(\n",
      "/home/asufian/.local/share/pipx/venvs/notebook/lib/python3.12/site-packages/torchvision/models/_utils.py:223: UserWarning: Arguments other than a weight enum or `None` for 'weights' are deprecated since 0.13 and may be removed in the future. The current behavior is equivalent to passing `weights=None`.\n",
      "  warnings.warn(msg)\n"
     ]
    },
    {
     "name": "stdout",
     "output_type": "stream",
     "text": [
      "----------------------> 0.44391812865497066\n",
      "Evaluated Accuracy: 0.4439\n",
      "Testing b_a_r = 0.9971, c_a_r = 0.0689, f_a_r = 0.6235\n"
     ]
    },
    {
     "name": "stderr",
     "output_type": "stream",
     "text": [
      "/home/asufian/.local/share/pipx/venvs/notebook/lib/python3.12/site-packages/torchvision/models/_utils.py:208: UserWarning: The parameter 'pretrained' is deprecated since 0.13 and may be removed in the future, please use 'weights' instead.\n",
      "  warnings.warn(\n",
      "/home/asufian/.local/share/pipx/venvs/notebook/lib/python3.12/site-packages/torchvision/models/_utils.py:223: UserWarning: Arguments other than a weight enum or `None` for 'weights' are deprecated since 0.13 and may be removed in the future. The current behavior is equivalent to passing `weights=None`.\n",
      "  warnings.warn(msg)\n"
     ]
    },
    {
     "name": "stdout",
     "output_type": "stream",
     "text": [
      "----------------------> 0.4543274853801169\n",
      "Evaluated Accuracy: 0.4543\n",
      "Testing b_a_r = 0.9205, c_a_r = 0.0030, f_a_r = 0.3712\n"
     ]
    },
    {
     "name": "stderr",
     "output_type": "stream",
     "text": [
      "/home/asufian/.local/share/pipx/venvs/notebook/lib/python3.12/site-packages/torchvision/models/_utils.py:208: UserWarning: The parameter 'pretrained' is deprecated since 0.13 and may be removed in the future, please use 'weights' instead.\n",
      "  warnings.warn(\n",
      "/home/asufian/.local/share/pipx/venvs/notebook/lib/python3.12/site-packages/torchvision/models/_utils.py:223: UserWarning: Arguments other than a weight enum or `None` for 'weights' are deprecated since 0.13 and may be removed in the future. The current behavior is equivalent to passing `weights=None`.\n",
      "  warnings.warn(msg)\n"
     ]
    },
    {
     "name": "stdout",
     "output_type": "stream",
     "text": [
      "----------------------> 0.44766081871345026\n",
      "Evaluated Accuracy: 0.4477\n",
      "Testing b_a_r = 0.9261, c_a_r = 0.1445, f_a_r = 0.1831\n"
     ]
    },
    {
     "name": "stderr",
     "output_type": "stream",
     "text": [
      "/home/asufian/.local/share/pipx/venvs/notebook/lib/python3.12/site-packages/torchvision/models/_utils.py:208: UserWarning: The parameter 'pretrained' is deprecated since 0.13 and may be removed in the future, please use 'weights' instead.\n",
      "  warnings.warn(\n",
      "/home/asufian/.local/share/pipx/venvs/notebook/lib/python3.12/site-packages/torchvision/models/_utils.py:223: UserWarning: Arguments other than a weight enum or `None` for 'weights' are deprecated since 0.13 and may be removed in the future. The current behavior is equivalent to passing `weights=None`.\n",
      "  warnings.warn(msg)\n"
     ]
    },
    {
     "name": "stdout",
     "output_type": "stream",
     "text": [
      "----------------------> 0.40649122807017546\n",
      "Evaluated Accuracy: 0.4065\n",
      "Testing b_a_r = 0.0675, c_a_r = 0.7259, f_a_r = 0.6179\n"
     ]
    },
    {
     "name": "stderr",
     "output_type": "stream",
     "text": [
      "/home/asufian/.local/share/pipx/venvs/notebook/lib/python3.12/site-packages/torchvision/models/_utils.py:208: UserWarning: The parameter 'pretrained' is deprecated since 0.13 and may be removed in the future, please use 'weights' instead.\n",
      "  warnings.warn(\n",
      "/home/asufian/.local/share/pipx/venvs/notebook/lib/python3.12/site-packages/torchvision/models/_utils.py:223: UserWarning: Arguments other than a weight enum or `None` for 'weights' are deprecated since 0.13 and may be removed in the future. The current behavior is equivalent to passing `weights=None`.\n",
      "  warnings.warn(msg)\n"
     ]
    },
    {
     "name": "stdout",
     "output_type": "stream",
     "text": [
      "----------------------> 0.16929824561403503\n",
      "Evaluated Accuracy: 0.1693\n",
      "\n",
      "✅ Optimal Values:\n",
      "   - b_a_r: 0.9303\n",
      "   - c_a_r: 0.0176\n",
      "   - f_a_r: 0.5820\n",
      "📈 Highest Accuracy Achieved: 0.4595\n"
     ]
    }
   ],
   "source": [
    "import numpy as np\n",
    "import torch\n",
    "import matplotlib.pyplot as plt\n",
    "from skopt import gp_minimize\n",
    "from skopt.space import Real\n",
    "from skopt.utils import use_named_args\n",
    "from skopt.plots import plot_convergence\n",
    "\n",
    "# Device setup\n",
    "device = torch.device(\"cuda\" if torch.cuda.is_available() else \"cpu\")\n",
    "\n",
    "\n",
    "# Define the search space for b_a_r, c_a_r, and f_a_r\n",
    "search_space = [\n",
    "    Real(0.0, 1.0, name=\"b_a_r\"),\n",
    "    Real(0.0, 1.0, name=\"c_a_r\"),\n",
    "    Real(0.0, 1.0, name=\"f_a_r\")\n",
    "]\n",
    "\n",
    "# Define the objective function for Bayesian Optimization\n",
    "@use_named_args(search_space)\n",
    "def objective(b_a_r, c_a_r, f_a_r):\n",
    "    \"\"\"\n",
    "    Objective function to optimize the adaptation ratios.\n",
    "    It applies adaptation, evaluates the model, and returns the negative accuracy.\n",
    "    \"\"\"\n",
    "    accuracy = get_model_accuracy(b_a_r, c_a_r, f_a_r)\n",
    "    print(f\"Evaluated Accuracy: {accuracy:.4f}\")  # Debugging Output\n",
    "    \n",
    "    return -accuracy  # We minimize, so return negative accuracy\n",
    "\n",
    "# Perform Bayesian Optimization with additional settings\n",
    "search_iteration=50\n",
    "res = gp_minimize(\n",
    "    func=objective,\n",
    "    dimensions=search_space,\n",
    "    n_calls=search_iteration,               # Number of evaluations\n",
    "    n_initial_points=5,       # Initial random explorations before GP starts\n",
    "    acq_func=\"EI\",            # Acquisition function: Expected Improvement\n",
    "    random_state=42,          # Ensure reproducibility\n",
    "    n_jobs=-1,                # Parallel execution for faster optimization\n",
    ")\n",
    "\n",
    "# Extract optimal results\n",
    "optimal_b_a_r, optimal_c_a_r, optimal_f_a_r = res.x\n",
    "best_accuracy = -res.fun\n",
    "\n",
    "print(f\"\\n✅ Optimal Values:\")\n",
    "print(f\"   - b_a_r: {optimal_b_a_r:.4f}\")\n",
    "print(f\"   - c_a_r: {optimal_c_a_r:.4f}\")\n",
    "print(f\"   - f_a_r: {optimal_f_a_r:.4f}\")\n",
    "print(f\"📈 Highest Accuracy Achieved: {best_accuracy:.4f}\")\n",
    "\n",
    "\n"
   ]
  },
  {
   "cell_type": "code",
   "execution_count": 70,
   "metadata": {},
   "outputs": [
    {
     "data": {
      "text/plain": [
       "5"
      ]
     },
     "execution_count": 70,
     "metadata": {},
     "output_type": "execute_result"
    }
   ],
   "source": [
    "2+3"
   ]
  },
  {
   "cell_type": "code",
   "execution_count": 71,
   "metadata": {},
   "outputs": [
    {
     "name": "stderr",
     "output_type": "stream",
     "text": [
      "/home/asufian/.local/share/pipx/venvs/notebook/lib/python3.12/site-packages/torchvision/models/_utils.py:208: UserWarning: The parameter 'pretrained' is deprecated since 0.13 and may be removed in the future, please use 'weights' instead.\n",
      "  warnings.warn(\n",
      "/home/asufian/.local/share/pipx/venvs/notebook/lib/python3.12/site-packages/torchvision/models/_utils.py:223: UserWarning: Arguments other than a weight enum or `None` for 'weights' are deprecated since 0.13 and may be removed in the future. The current behavior is equivalent to passing `weights=None`.\n",
      "  warnings.warn(msg)\n"
     ]
    },
    {
     "name": "stdout",
     "output_type": "stream",
     "text": [
      "---Accu-----pre----rec---------> 0.4365 ± 0.0519  0.4690 ± 0.0405  0.4365 ± 0.0519\n"
     ]
    },
    {
     "name": "stderr",
     "output_type": "stream",
     "text": [
      "/home/asufian/.local/share/pipx/venvs/notebook/lib/python3.12/site-packages/torchvision/models/_utils.py:208: UserWarning: The parameter 'pretrained' is deprecated since 0.13 and may be removed in the future, please use 'weights' instead.\n",
      "  warnings.warn(\n",
      "/home/asufian/.local/share/pipx/venvs/notebook/lib/python3.12/site-packages/torchvision/models/_utils.py:223: UserWarning: Arguments other than a weight enum or `None` for 'weights' are deprecated since 0.13 and may be removed in the future. The current behavior is equivalent to passing `weights=None`.\n",
      "  warnings.warn(msg)\n"
     ]
    },
    {
     "name": "stdout",
     "output_type": "stream",
     "text": [
      "---Accu-----pre----rec---------> 0.3792 ± 0.0572  0.4317 ± 0.0817  0.3792 ± 0.0572\n",
      "---Accu-----pre----rec---------> 0.4595 ± 0.0541  0.4978 ± 0.0523  0.4595 ± 0.0541\n"
     ]
    }
   ],
   "source": [
    "convolutional_network_with_dropout =  ResNet18WithDropout(pretrained=False, dr=0.0)\n",
    "convolutional_network_with_dropout.fc = nn.Flatten()\n",
    "\n",
    "xyz = convolutional_network_with_dropout\n",
    "M3 = PrototypicalNetworks_dynamic_query(xyz).to(device)\n",
    "M3.load_state_dict(torch.load('model_own_path.pt'))\n",
    "evaluate2('/home/asufian/Desktop/output_mapii/result_ressnet/base/12_w_1_s_f_20', test_loader, M3, criterion)\n",
    "# Load Model M2\n",
    "convolutional_network_with_dropout =  ResNet18WithDropout(pretrained=False, dr=0.0)\n",
    "convolutional_network_with_dropout.fc = nn.Flatten()\n",
    "\n",
    "xyz2 = convolutional_network_with_dropout\n",
    "M2 = PrototypicalNetworks_dynamic_query(xyz2).to(device)\n",
    "M2.load_state_dict(torch.load('model_mu_path.pt'))\n",
    "evaluate2(\"/home/asufian/Desktop/output_mapii/result_ressnet/secondary/12_w_1_s_f_20\", test_loader, M2, criterion)\n",
    "# Update Model M3's weights using a weighted combination of Model M3 and Model M2\n",
    "update_model_weights2(M3, M2, conv_ratio= optimal_c_a_r , fc_ratio=optimal_f_a_r , bias_ratio=optimal_b_a_r)\n",
    "\n",
    "# Assuming you have the evaluate2 function defined\n",
    "# Evaluate the updated model (M3) using evaluate2 function with some arguments\n",
    "evaluate2(\"/home/asufian/Desktop/output_mapii/result_ressnet/amul/12_w_1_s_f_20\", test_loader, M3, criterion)\n"
   ]
  },
  {
   "cell_type": "code",
   "execution_count": null,
   "metadata": {},
   "outputs": [],
   "source": []
  },
  {
   "cell_type": "code",
   "execution_count": null,
   "metadata": {},
   "outputs": [],
   "source": []
  },
  {
   "cell_type": "code",
   "execution_count": 72,
   "metadata": {},
   "outputs": [
    {
     "name": "stderr",
     "output_type": "stream",
     "text": [
      "/home/asufian/.local/share/pipx/venvs/notebook/lib/python3.12/site-packages/torchvision/models/_utils.py:208: UserWarning: The parameter 'pretrained' is deprecated since 0.13 and may be removed in the future, please use 'weights' instead.\n",
      "  warnings.warn(\n",
      "/home/asufian/.local/share/pipx/venvs/notebook/lib/python3.12/site-packages/torchvision/models/_utils.py:223: UserWarning: Arguments other than a weight enum or `None` for 'weights' are deprecated since 0.13 and may be removed in the future. The current behavior is equivalent to passing `weights=None`.\n",
      "  warnings.warn(msg)\n"
     ]
    }
   ],
   "source": [
    "device = torch.device(\"cuda\" if torch.cuda.is_available() else \"cpu\")\n",
    "\n",
    "\n",
    "\n",
    "!rm model_mu_path.pt\n",
    "!rm model_own_path.pt\n",
    "\n",
    "convolutional_network_with_dropout =  ResNet18WithDropout(pretrained=False, dr=0.0)\n",
    "convolutional_network_with_dropout.fc = nn.Flatten()\n",
    "\n",
    "model_own = PrototypicalNetworks_dynamic_query(convolutional_network_with_dropout).to(device)\n",
    "model_own.load_state_dict(torch.load('/home/asufian/Desktop/output_olchiki/code/modelr_res18_35.pth',map_location=torch.device('cpu')))\n",
    "\n",
    "\n",
    "convolutional_network_with_dropout =  ResNet18WithDropout(pretrained=False, dr=0.0)\n",
    "convolutional_network_with_dropout.fc = nn.Flatten()\n",
    "\n",
    "model_own_1_shot = PrototypicalNetworks_dynamic_query(convolutional_network_with_dropout).to(device)\n",
    "model_own_1_shot.load_state_dict(torch.load('/home/asufian/Desktop/output_olchiki/code/mapi_sce/ressecondary/model_5/model_B_mapi_5-shot_res.pth',map_location=torch.device('cpu')))\n",
    "\n",
    "torch.save(model_own_1_shot.state_dict(), 'model_mu_path.pt')\n",
    "torch.save(model_own.state_dict(), 'model_own_path.pt')"
   ]
  },
  {
   "cell_type": "code",
   "execution_count": 73,
   "metadata": {},
   "outputs": [],
   "source": [
    "\n",
    "def evaluate2(fname,data_loader, model, criterion=nn.CrossEntropyLoss()):\n",
    "    total_predictions = 0\n",
    "    correct_predictions = 0\n",
    "    total_loss = 0.0\n",
    "    accuracy = 0\n",
    "    datta = \"\"\n",
    "    model.eval()\n",
    "    tlv_cls=0\n",
    "    ttla=0\n",
    "    ttlal=[]\n",
    "    ttlac=0\n",
    "    precision=[]\n",
    "    recall=[]\n",
    "    \n",
    "    with torch.no_grad():\n",
    "        for episode in range(len(clss_12)):\n",
    "            support_set, query_set = data_loader.__getitem__(clss_12[tlv_cls] , clss_support_imagesss_5_shot[tlv_cls])\n",
    "\n",
    "           \n",
    "            clssa=str(clss_12[tlv_cls])\n",
    "            clss=str(clssa).replace(',',' ').replace('\\'',' ').replace('\\'',' ')\n",
    "            msg=str(clss_support_imagesss_5_shot[tlv_cls])\n",
    "            str(clss_12[tlv_cls])\n",
    "\n",
    "            tlv_cls+=1\n",
    "            # print(len(support_set),len(query_set))\n",
    "            support_set = [(torch.stack(images).to(device), label[0]) for images, label in support_set]\n",
    "            query_set = [(torch.stack(images).to(device), label) for images, label in query_set]\n",
    "\n",
    "            support_images, support_labels = zip(*support_set)\n",
    "\n",
    "            query_images, query_labels = zip(*query_set)\n",
    "\n",
    "            classification_scores = model(support_images, support_labels, query_images)\n",
    "            cortt = 0\n",
    "            totl = 0\n",
    "            confusion_mat=None\n",
    "            all_predicted_labels = []\n",
    "            all_actual_labels = []\n",
    "            # print(len(classification_scores),len(query_labels))\n",
    "            for ei in range(len(classification_scores)):\n",
    "                classification_scores_each_class = classification_scores[ei]\n",
    "                # print(classification_scores_each_class)\n",
    "                predicted_labels_eachclas = torch.argmax(classification_scores_each_class, dim=1)\n",
    "                pp = predicted_labels_eachclas.tolist()\n",
    "                act = query_labels[ei]\n",
    "                all_predicted_labels.extend(pp)\n",
    "                all_actual_labels.extend(act)\n",
    "                for iiii in range(len(pp)):\n",
    "                    if pp[iiii] == act[iiii]:\n",
    "                        cortt = cortt + 1\n",
    "                totl = totl + len(pp)\n",
    "                # print(len(act))\n",
    "            accuracy = cortt / totl\n",
    "            ttla+=1\n",
    "            ttlac+=accuracy\n",
    "            ttlal.append(accuracy)\n",
    "            # print(cortt , totl,\"Validation Accuracy:              \", cortt / totl)\n",
    "            confusion_mat = confusion_matrix(all_actual_labels, all_predicted_labels)\n",
    "            # print(\"Confusion Matrix:\")\n",
    "            # print(confusion_mat)\n",
    "\n",
    "            # fname='./own35_mapi_5_way_1_shot'\n",
    "\n",
    "            precision_overall, recall_overall, f1ss= calculate_metrics_get_per(msg,confusion_mat,acciuracy=cortt / totl,cls=clss,flnm=fname)\n",
    "            precision.append(precision_overall)\n",
    "            recall.append(recall_overall)\n",
    "    print(f\"---Accu-----pre----rec---------> {np.mean(ttlal):.4f} ± {np.std(ttlal, ddof=1):.4f}  \"\n",
    "      f\"{np.mean(precision):.4f} ± {np.std(precision, ddof=1):.4f}  \"\n",
    "      f\"{np.mean(recall):.4f} ± {np.std(recall, ddof=1):.4f}\")\n",
    "\n",
    "    # print(\"---Accu-----pre----rec---------->\",np.mean(ttlal),'±',np.std(ttlal, ddof=1), np.mean(precision),'±',np.std(precision, ddof=1),np.mean(precision),'±',np.std(precision, ddof=1),)\n",
    "# %%%%%%\n",
    "\n",
    "def evaluate3(fname,data_loader, model, criterion=nn.CrossEntropyLoss()):\n",
    "    total_predictions = 0\n",
    "    correct_predictions = 0\n",
    "    total_loss = 0.0\n",
    "    accuracy = 0\n",
    "    datta = \"\"\n",
    "    model.eval()\n",
    "    tlv_cls=0\n",
    "    ttla=0\n",
    "    ttlac=0\n",
    "    with torch.no_grad():\n",
    "        for episode in range(len(clss_12)):\n",
    "            support_set, query_set = data_loader.__getitem__(clss_12[tlv_cls] , clss_support_imagesss_5_shot[tlv_cls])\n",
    "\n",
    "            \n",
    "            clssa=str(clss_12[tlv_cls])\n",
    "            clss=str(clssa).replace(',',' ').replace('\\'',' ').replace('\\'',' ')\n",
    "            msg=str(clss_support_imagesss_5_shot[tlv_cls])\n",
    "            str(clss_12[tlv_cls])\n",
    "\n",
    "            tlv_cls+=1\n",
    "            # print(len(support_set),len(query_set))\n",
    "            support_set = [(torch.stack(images).to(device), label[0]) for images, label in support_set]\n",
    "            query_set = [(torch.stack(images).to(device), label) for images, label in query_set]\n",
    "\n",
    "            support_images, support_labels = zip(*support_set)\n",
    "\n",
    "            query_images, query_labels = zip(*query_set)\n",
    "\n",
    "            classification_scores = model(support_images, support_labels, query_images)\n",
    "            cortt = 0\n",
    "            totl = 0\n",
    "            confusion_mat=None\n",
    "            all_predicted_labels = []\n",
    "            all_actual_labels = []\n",
    "            # print(len(classification_scores),len(query_labels))\n",
    "            for ei in range(len(classification_scores)):\n",
    "                classification_scores_each_class = classification_scores[ei]\n",
    "                # print(classification_scores_each_class)\n",
    "                predicted_labels_eachclas = torch.argmax(classification_scores_each_class, dim=1)\n",
    "                pp = predicted_labels_eachclas.tolist()\n",
    "                act = query_labels[ei]\n",
    "                all_predicted_labels.extend(pp)\n",
    "                all_actual_labels.extend(act)\n",
    "                for iiii in range(len(pp)):\n",
    "                    if pp[iiii] == act[iiii]:\n",
    "                        cortt = cortt + 1\n",
    "                totl = totl + len(pp)\n",
    "                # print(len(act))\n",
    "            accuracy = cortt / totl\n",
    "            ttla+=1\n",
    "            ttlac+=accuracy\n",
    "            # print(cortt , totl,\"Validation Accuracy:              \", cortt / totl)\n",
    "            # confusion_mat = confusion_matrix(all_actual_labels, all_predicted_labels)\n",
    "            # print(\"Confusion Matrix:\")\n",
    "            # print(confusion_mat)\n",
    "\n",
    "            # fname='./own35_mapi_5_way_1_shot'\n",
    "\n",
    "            # calculate_metrics_get_per(msg,confusion_mat,acciuracy=cortt / totl,cls=clss,flnm=fname)\n",
    "\n",
    "    print(\"---------------------->\",ttlac/ttla)\n",
    "    return ttlac/ttla"
   ]
  },
  {
   "cell_type": "code",
   "execution_count": 74,
   "metadata": {
    "scrolled": true
   },
   "outputs": [
    {
     "name": "stdout",
     "output_type": "stream",
     "text": [
      "Testing b_a_r = 0.7965, c_a_r = 0.1834, f_a_r = 0.7797\n"
     ]
    },
    {
     "name": "stderr",
     "output_type": "stream",
     "text": [
      "/home/asufian/.local/share/pipx/venvs/notebook/lib/python3.12/site-packages/torchvision/models/_utils.py:208: UserWarning: The parameter 'pretrained' is deprecated since 0.13 and may be removed in the future, please use 'weights' instead.\n",
      "  warnings.warn(\n",
      "/home/asufian/.local/share/pipx/venvs/notebook/lib/python3.12/site-packages/torchvision/models/_utils.py:223: UserWarning: Arguments other than a weight enum or `None` for 'weights' are deprecated since 0.13 and may be removed in the future. The current behavior is equivalent to passing `weights=None`.\n",
      "  warnings.warn(msg)\n"
     ]
    },
    {
     "name": "stdout",
     "output_type": "stream",
     "text": [
      "----------------------> 0.46978021978021983\n",
      "Evaluated Accuracy: 0.4698\n",
      "Testing b_a_r = 0.5969, c_a_r = 0.4458, f_a_r = 0.1000\n",
      "----------------------> 0.3518315018315018\n",
      "Evaluated Accuracy: 0.3518\n",
      "Testing b_a_r = 0.4592, c_a_r = 0.3337, f_a_r = 0.1429\n",
      "----------------------> 0.3420024420024419\n",
      "Evaluated Accuracy: 0.3420\n",
      "Testing b_a_r = 0.6509, c_a_r = 0.0564, f_a_r = 0.7220\n",
      "----------------------> 0.6016483516483517\n",
      "Evaluated Accuracy: 0.6016\n",
      "Testing b_a_r = 0.9386, c_a_r = 0.0008, f_a_r = 0.9922\n",
      "----------------------> 0.572039072039072\n",
      "Evaluated Accuracy: 0.5720\n",
      "Testing b_a_r = 0.0250, c_a_r = 1.0000, f_a_r = 0.4630\n"
     ]
    },
    {
     "name": "stderr",
     "output_type": "stream",
     "text": [
      "/home/asufian/.local/share/pipx/venvs/notebook/lib/python3.12/site-packages/torchvision/models/_utils.py:208: UserWarning: The parameter 'pretrained' is deprecated since 0.13 and may be removed in the future, please use 'weights' instead.\n",
      "  warnings.warn(\n",
      "/home/asufian/.local/share/pipx/venvs/notebook/lib/python3.12/site-packages/torchvision/models/_utils.py:223: UserWarning: Arguments other than a weight enum or `None` for 'weights' are deprecated since 0.13 and may be removed in the future. The current behavior is equivalent to passing `weights=None`.\n",
      "  warnings.warn(msg)\n"
     ]
    },
    {
     "name": "stdout",
     "output_type": "stream",
     "text": [
      "----------------------> 0.24633699633699635\n",
      "Evaluated Accuracy: 0.2463\n",
      "Testing b_a_r = 0.9430, c_a_r = 0.6975, f_a_r = 0.9507\n"
     ]
    },
    {
     "name": "stderr",
     "output_type": "stream",
     "text": [
      "/home/asufian/.local/share/pipx/venvs/notebook/lib/python3.12/site-packages/torchvision/models/_utils.py:208: UserWarning: The parameter 'pretrained' is deprecated since 0.13 and may be removed in the future, please use 'weights' instead.\n",
      "  warnings.warn(\n",
      "/home/asufian/.local/share/pipx/venvs/notebook/lib/python3.12/site-packages/torchvision/models/_utils.py:223: UserWarning: Arguments other than a weight enum or `None` for 'weights' are deprecated since 0.13 and may be removed in the future. The current behavior is equivalent to passing `weights=None`.\n",
      "  warnings.warn(msg)\n"
     ]
    },
    {
     "name": "stdout",
     "output_type": "stream",
     "text": [
      "----------------------> 0.27429792429792427\n",
      "Evaluated Accuracy: 0.2743\n",
      "Testing b_a_r = 0.0000, c_a_r = 0.0000, f_a_r = 0.0000\n"
     ]
    },
    {
     "name": "stderr",
     "output_type": "stream",
     "text": [
      "/home/asufian/.local/share/pipx/venvs/notebook/lib/python3.12/site-packages/torchvision/models/_utils.py:208: UserWarning: The parameter 'pretrained' is deprecated since 0.13 and may be removed in the future, please use 'weights' instead.\n",
      "  warnings.warn(\n",
      "/home/asufian/.local/share/pipx/venvs/notebook/lib/python3.12/site-packages/torchvision/models/_utils.py:223: UserWarning: Arguments other than a weight enum or `None` for 'weights' are deprecated since 0.13 and may be removed in the future. The current behavior is equivalent to passing `weights=None`.\n",
      "  warnings.warn(msg)\n"
     ]
    },
    {
     "name": "stdout",
     "output_type": "stream",
     "text": [
      "----------------------> 0.576007326007326\n",
      "Evaluated Accuracy: 0.5760\n",
      "Testing b_a_r = 0.0000, c_a_r = 0.0838, f_a_r = 0.0000\n"
     ]
    },
    {
     "name": "stderr",
     "output_type": "stream",
     "text": [
      "/home/asufian/.local/share/pipx/venvs/notebook/lib/python3.12/site-packages/torchvision/models/_utils.py:208: UserWarning: The parameter 'pretrained' is deprecated since 0.13 and may be removed in the future, please use 'weights' instead.\n",
      "  warnings.warn(\n",
      "/home/asufian/.local/share/pipx/venvs/notebook/lib/python3.12/site-packages/torchvision/models/_utils.py:223: UserWarning: Arguments other than a weight enum or `None` for 'weights' are deprecated since 0.13 and may be removed in the future. The current behavior is equivalent to passing `weights=None`.\n",
      "  warnings.warn(msg)\n"
     ]
    },
    {
     "name": "stdout",
     "output_type": "stream",
     "text": [
      "----------------------> 0.5678876678876678\n",
      "Evaluated Accuracy: 0.5679\n",
      "Testing b_a_r = 0.9724, c_a_r = 0.0458, f_a_r = 0.9447\n"
     ]
    },
    {
     "name": "stderr",
     "output_type": "stream",
     "text": [
      "/home/asufian/.local/share/pipx/venvs/notebook/lib/python3.12/site-packages/torchvision/models/_utils.py:208: UserWarning: The parameter 'pretrained' is deprecated since 0.13 and may be removed in the future, please use 'weights' instead.\n",
      "  warnings.warn(\n",
      "/home/asufian/.local/share/pipx/venvs/notebook/lib/python3.12/site-packages/torchvision/models/_utils.py:223: UserWarning: Arguments other than a weight enum or `None` for 'weights' are deprecated since 0.13 and may be removed in the future. The current behavior is equivalent to passing `weights=None`.\n",
      "  warnings.warn(msg)\n"
     ]
    },
    {
     "name": "stdout",
     "output_type": "stream",
     "text": [
      "----------------------> 0.5642857142857143\n",
      "Evaluated Accuracy: 0.5643\n",
      "Testing b_a_r = 0.1506, c_a_r = 0.0000, f_a_r = 0.9742\n"
     ]
    },
    {
     "name": "stderr",
     "output_type": "stream",
     "text": [
      "/home/asufian/.local/share/pipx/venvs/notebook/lib/python3.12/site-packages/torchvision/models/_utils.py:208: UserWarning: The parameter 'pretrained' is deprecated since 0.13 and may be removed in the future, please use 'weights' instead.\n",
      "  warnings.warn(\n",
      "/home/asufian/.local/share/pipx/venvs/notebook/lib/python3.12/site-packages/torchvision/models/_utils.py:223: UserWarning: Arguments other than a weight enum or `None` for 'weights' are deprecated since 0.13 and may be removed in the future. The current behavior is equivalent to passing `weights=None`.\n",
      "  warnings.warn(msg)\n"
     ]
    },
    {
     "name": "stdout",
     "output_type": "stream",
     "text": [
      "----------------------> 0.5659340659340659\n",
      "Evaluated Accuracy: 0.5659\n",
      "Testing b_a_r = 0.9615, c_a_r = 0.0577, f_a_r = 0.0312\n"
     ]
    },
    {
     "name": "stderr",
     "output_type": "stream",
     "text": [
      "/home/asufian/.local/share/pipx/venvs/notebook/lib/python3.12/site-packages/torchvision/models/_utils.py:208: UserWarning: The parameter 'pretrained' is deprecated since 0.13 and may be removed in the future, please use 'weights' instead.\n",
      "  warnings.warn(\n",
      "/home/asufian/.local/share/pipx/venvs/notebook/lib/python3.12/site-packages/torchvision/models/_utils.py:223: UserWarning: Arguments other than a weight enum or `None` for 'weights' are deprecated since 0.13 and may be removed in the future. The current behavior is equivalent to passing `weights=None`.\n",
      "  warnings.warn(msg)\n"
     ]
    },
    {
     "name": "stdout",
     "output_type": "stream",
     "text": [
      "----------------------> 0.5841269841269842\n",
      "Evaluated Accuracy: 0.5841\n",
      "Testing b_a_r = 0.0494, c_a_r = 0.0589, f_a_r = 0.0320\n"
     ]
    },
    {
     "name": "stderr",
     "output_type": "stream",
     "text": [
      "/home/asufian/.local/share/pipx/venvs/notebook/lib/python3.12/site-packages/torchvision/models/_utils.py:208: UserWarning: The parameter 'pretrained' is deprecated since 0.13 and may be removed in the future, please use 'weights' instead.\n",
      "  warnings.warn(\n",
      "/home/asufian/.local/share/pipx/venvs/notebook/lib/python3.12/site-packages/torchvision/models/_utils.py:223: UserWarning: Arguments other than a weight enum or `None` for 'weights' are deprecated since 0.13 and may be removed in the future. The current behavior is equivalent to passing `weights=None`.\n",
      "  warnings.warn(msg)\n"
     ]
    },
    {
     "name": "stdout",
     "output_type": "stream",
     "text": [
      "----------------------> 0.5790598290598291\n",
      "Evaluated Accuracy: 0.5791\n",
      "Testing b_a_r = 0.9608, c_a_r = 0.0008, f_a_r = 0.0633\n"
     ]
    },
    {
     "name": "stderr",
     "output_type": "stream",
     "text": [
      "/home/asufian/.local/share/pipx/venvs/notebook/lib/python3.12/site-packages/torchvision/models/_utils.py:208: UserWarning: The parameter 'pretrained' is deprecated since 0.13 and may be removed in the future, please use 'weights' instead.\n",
      "  warnings.warn(\n",
      "/home/asufian/.local/share/pipx/venvs/notebook/lib/python3.12/site-packages/torchvision/models/_utils.py:223: UserWarning: Arguments other than a weight enum or `None` for 'weights' are deprecated since 0.13 and may be removed in the future. The current behavior is equivalent to passing `weights=None`.\n",
      "  warnings.warn(msg)\n"
     ]
    },
    {
     "name": "stdout",
     "output_type": "stream",
     "text": [
      "----------------------> 0.5762515262515262\n",
      "Evaluated Accuracy: 0.5763\n",
      "Testing b_a_r = 0.0151, c_a_r = 0.0492, f_a_r = 0.9565\n"
     ]
    },
    {
     "name": "stderr",
     "output_type": "stream",
     "text": [
      "/home/asufian/.local/share/pipx/venvs/notebook/lib/python3.12/site-packages/torchvision/models/_utils.py:208: UserWarning: The parameter 'pretrained' is deprecated since 0.13 and may be removed in the future, please use 'weights' instead.\n",
      "  warnings.warn(\n",
      "/home/asufian/.local/share/pipx/venvs/notebook/lib/python3.12/site-packages/torchvision/models/_utils.py:223: UserWarning: Arguments other than a weight enum or `None` for 'weights' are deprecated since 0.13 and may be removed in the future. The current behavior is equivalent to passing `weights=None`.\n",
      "  warnings.warn(msg)\n"
     ]
    },
    {
     "name": "stdout",
     "output_type": "stream",
     "text": [
      "----------------------> 0.5466422466422466\n",
      "Evaluated Accuracy: 0.5466\n",
      "Testing b_a_r = 1.0000, c_a_r = 0.0145, f_a_r = 0.6097\n"
     ]
    },
    {
     "name": "stderr",
     "output_type": "stream",
     "text": [
      "/home/asufian/.local/share/pipx/venvs/notebook/lib/python3.12/site-packages/torchvision/models/_utils.py:208: UserWarning: The parameter 'pretrained' is deprecated since 0.13 and may be removed in the future, please use 'weights' instead.\n",
      "  warnings.warn(\n",
      "/home/asufian/.local/share/pipx/venvs/notebook/lib/python3.12/site-packages/torchvision/models/_utils.py:223: UserWarning: Arguments other than a weight enum or `None` for 'weights' are deprecated since 0.13 and may be removed in the future. The current behavior is equivalent to passing `weights=None`.\n",
      "  warnings.warn(msg)\n"
     ]
    },
    {
     "name": "stdout",
     "output_type": "stream",
     "text": [
      "----------------------> 0.6092185592185593\n",
      "Evaluated Accuracy: 0.6092\n",
      "Testing b_a_r = 1.0000, c_a_r = 0.0627, f_a_r = 0.4964\n"
     ]
    },
    {
     "name": "stderr",
     "output_type": "stream",
     "text": [
      "/home/asufian/.local/share/pipx/venvs/notebook/lib/python3.12/site-packages/torchvision/models/_utils.py:208: UserWarning: The parameter 'pretrained' is deprecated since 0.13 and may be removed in the future, please use 'weights' instead.\n",
      "  warnings.warn(\n",
      "/home/asufian/.local/share/pipx/venvs/notebook/lib/python3.12/site-packages/torchvision/models/_utils.py:223: UserWarning: Arguments other than a weight enum or `None` for 'weights' are deprecated since 0.13 and may be removed in the future. The current behavior is equivalent to passing `weights=None`.\n",
      "  warnings.warn(msg)\n"
     ]
    },
    {
     "name": "stdout",
     "output_type": "stream",
     "text": [
      "----------------------> 0.5992063492063492\n",
      "Evaluated Accuracy: 0.5992\n",
      "Testing b_a_r = 0.8168, c_a_r = 0.7339, f_a_r = 0.0000\n"
     ]
    },
    {
     "name": "stderr",
     "output_type": "stream",
     "text": [
      "/home/asufian/.local/share/pipx/venvs/notebook/lib/python3.12/site-packages/torchvision/models/_utils.py:208: UserWarning: The parameter 'pretrained' is deprecated since 0.13 and may be removed in the future, please use 'weights' instead.\n",
      "  warnings.warn(\n",
      "/home/asufian/.local/share/pipx/venvs/notebook/lib/python3.12/site-packages/torchvision/models/_utils.py:223: UserWarning: Arguments other than a weight enum or `None` for 'weights' are deprecated since 0.13 and may be removed in the future. The current behavior is equivalent to passing `weights=None`.\n",
      "  warnings.warn(msg)\n"
     ]
    },
    {
     "name": "stdout",
     "output_type": "stream",
     "text": [
      "----------------------> 0.23253968253968257\n",
      "Evaluated Accuracy: 0.2325\n",
      "Testing b_a_r = 0.9546, c_a_r = 0.4428, f_a_r = 1.0000\n"
     ]
    },
    {
     "name": "stderr",
     "output_type": "stream",
     "text": [
      "/home/asufian/.local/share/pipx/venvs/notebook/lib/python3.12/site-packages/torchvision/models/_utils.py:208: UserWarning: The parameter 'pretrained' is deprecated since 0.13 and may be removed in the future, please use 'weights' instead.\n",
      "  warnings.warn(\n",
      "/home/asufian/.local/share/pipx/venvs/notebook/lib/python3.12/site-packages/torchvision/models/_utils.py:223: UserWarning: Arguments other than a weight enum or `None` for 'weights' are deprecated since 0.13 and may be removed in the future. The current behavior is equivalent to passing `weights=None`.\n",
      "  warnings.warn(msg)\n"
     ]
    },
    {
     "name": "stdout",
     "output_type": "stream",
     "text": [
      "----------------------> 0.35836385836385837\n",
      "Evaluated Accuracy: 0.3584\n",
      "Testing b_a_r = 1.0000, c_a_r = 0.0000, f_a_r = 0.5069\n"
     ]
    },
    {
     "name": "stderr",
     "output_type": "stream",
     "text": [
      "/home/asufian/.local/share/pipx/venvs/notebook/lib/python3.12/site-packages/torchvision/models/_utils.py:208: UserWarning: The parameter 'pretrained' is deprecated since 0.13 and may be removed in the future, please use 'weights' instead.\n",
      "  warnings.warn(\n",
      "/home/asufian/.local/share/pipx/venvs/notebook/lib/python3.12/site-packages/torchvision/models/_utils.py:223: UserWarning: Arguments other than a weight enum or `None` for 'weights' are deprecated since 0.13 and may be removed in the future. The current behavior is equivalent to passing `weights=None`.\n",
      "  warnings.warn(msg)\n"
     ]
    },
    {
     "name": "stdout",
     "output_type": "stream",
     "text": [
      "----------------------> 0.5973137973137973\n",
      "Evaluated Accuracy: 0.5973\n",
      "Testing b_a_r = 1.0000, c_a_r = 0.0000, f_a_r = 0.7393\n"
     ]
    },
    {
     "name": "stderr",
     "output_type": "stream",
     "text": [
      "/home/asufian/.local/share/pipx/venvs/notebook/lib/python3.12/site-packages/torchvision/models/_utils.py:208: UserWarning: The parameter 'pretrained' is deprecated since 0.13 and may be removed in the future, please use 'weights' instead.\n",
      "  warnings.warn(\n",
      "/home/asufian/.local/share/pipx/venvs/notebook/lib/python3.12/site-packages/torchvision/models/_utils.py:223: UserWarning: Arguments other than a weight enum or `None` for 'weights' are deprecated since 0.13 and may be removed in the future. The current behavior is equivalent to passing `weights=None`.\n",
      "  warnings.warn(msg)\n"
     ]
    },
    {
     "name": "stdout",
     "output_type": "stream",
     "text": [
      "----------------------> 0.6095238095238096\n",
      "Evaluated Accuracy: 0.6095\n",
      "Testing b_a_r = 0.0090, c_a_r = 0.9953, f_a_r = 0.9983\n"
     ]
    },
    {
     "name": "stderr",
     "output_type": "stream",
     "text": [
      "/home/asufian/.local/share/pipx/venvs/notebook/lib/python3.12/site-packages/torchvision/models/_utils.py:208: UserWarning: The parameter 'pretrained' is deprecated since 0.13 and may be removed in the future, please use 'weights' instead.\n",
      "  warnings.warn(\n",
      "/home/asufian/.local/share/pipx/venvs/notebook/lib/python3.12/site-packages/torchvision/models/_utils.py:223: UserWarning: Arguments other than a weight enum or `None` for 'weights' are deprecated since 0.13 and may be removed in the future. The current behavior is equivalent to passing `weights=None`.\n",
      "  warnings.warn(msg)\n"
     ]
    },
    {
     "name": "stdout",
     "output_type": "stream",
     "text": [
      "----------------------> 0.25293040293040286\n",
      "Evaluated Accuracy: 0.2529\n",
      "Testing b_a_r = 0.9730, c_a_r = 0.0449, f_a_r = 0.0645\n"
     ]
    },
    {
     "name": "stderr",
     "output_type": "stream",
     "text": [
      "/home/asufian/.local/share/pipx/venvs/notebook/lib/python3.12/site-packages/torchvision/models/_utils.py:208: UserWarning: The parameter 'pretrained' is deprecated since 0.13 and may be removed in the future, please use 'weights' instead.\n",
      "  warnings.warn(\n",
      "/home/asufian/.local/share/pipx/venvs/notebook/lib/python3.12/site-packages/torchvision/models/_utils.py:223: UserWarning: Arguments other than a weight enum or `None` for 'weights' are deprecated since 0.13 and may be removed in the future. The current behavior is equivalent to passing `weights=None`.\n",
      "  warnings.warn(msg)\n"
     ]
    },
    {
     "name": "stdout",
     "output_type": "stream",
     "text": [
      "----------------------> 0.583089133089133\n",
      "Evaluated Accuracy: 0.5831\n",
      "Testing b_a_r = 0.0162, c_a_r = 0.0186, f_a_r = 0.6475\n"
     ]
    },
    {
     "name": "stderr",
     "output_type": "stream",
     "text": [
      "/home/asufian/.local/share/pipx/venvs/notebook/lib/python3.12/site-packages/torchvision/models/_utils.py:208: UserWarning: The parameter 'pretrained' is deprecated since 0.13 and may be removed in the future, please use 'weights' instead.\n",
      "  warnings.warn(\n",
      "/home/asufian/.local/share/pipx/venvs/notebook/lib/python3.12/site-packages/torchvision/models/_utils.py:223: UserWarning: Arguments other than a weight enum or `None` for 'weights' are deprecated since 0.13 and may be removed in the future. The current behavior is equivalent to passing `weights=None`.\n",
      "  warnings.warn(msg)\n"
     ]
    },
    {
     "name": "stdout",
     "output_type": "stream",
     "text": [
      "----------------------> 0.607020757020757\n",
      "Evaluated Accuracy: 0.6070\n",
      "Testing b_a_r = 0.9553, c_a_r = 0.1190, f_a_r = 0.3129\n"
     ]
    },
    {
     "name": "stderr",
     "output_type": "stream",
     "text": [
      "/home/asufian/.local/share/pipx/venvs/notebook/lib/python3.12/site-packages/torchvision/models/_utils.py:208: UserWarning: The parameter 'pretrained' is deprecated since 0.13 and may be removed in the future, please use 'weights' instead.\n",
      "  warnings.warn(\n",
      "/home/asufian/.local/share/pipx/venvs/notebook/lib/python3.12/site-packages/torchvision/models/_utils.py:223: UserWarning: Arguments other than a weight enum or `None` for 'weights' are deprecated since 0.13 and may be removed in the future. The current behavior is equivalent to passing `weights=None`.\n",
      "  warnings.warn(msg)\n"
     ]
    },
    {
     "name": "stdout",
     "output_type": "stream",
     "text": [
      "----------------------> 0.551037851037851\n",
      "Evaluated Accuracy: 0.5510\n",
      "Testing b_a_r = 0.9426, c_a_r = 0.0240, f_a_r = 0.7217\n"
     ]
    },
    {
     "name": "stderr",
     "output_type": "stream",
     "text": [
      "/home/asufian/.local/share/pipx/venvs/notebook/lib/python3.12/site-packages/torchvision/models/_utils.py:208: UserWarning: The parameter 'pretrained' is deprecated since 0.13 and may be removed in the future, please use 'weights' instead.\n",
      "  warnings.warn(\n",
      "/home/asufian/.local/share/pipx/venvs/notebook/lib/python3.12/site-packages/torchvision/models/_utils.py:223: UserWarning: Arguments other than a weight enum or `None` for 'weights' are deprecated since 0.13 and may be removed in the future. The current behavior is equivalent to passing `weights=None`.\n",
      "  warnings.warn(msg)\n"
     ]
    },
    {
     "name": "stdout",
     "output_type": "stream",
     "text": [
      "----------------------> 0.6067765567765568\n",
      "Evaluated Accuracy: 0.6068\n",
      "Testing b_a_r = 0.0109, c_a_r = 0.0291, f_a_r = 0.3865\n"
     ]
    },
    {
     "name": "stderr",
     "output_type": "stream",
     "text": [
      "/home/asufian/.local/share/pipx/venvs/notebook/lib/python3.12/site-packages/torchvision/models/_utils.py:208: UserWarning: The parameter 'pretrained' is deprecated since 0.13 and may be removed in the future, please use 'weights' instead.\n",
      "  warnings.warn(\n",
      "/home/asufian/.local/share/pipx/venvs/notebook/lib/python3.12/site-packages/torchvision/models/_utils.py:223: UserWarning: Arguments other than a weight enum or `None` for 'weights' are deprecated since 0.13 and may be removed in the future. The current behavior is equivalent to passing `weights=None`.\n",
      "  warnings.warn(msg)\n"
     ]
    },
    {
     "name": "stdout",
     "output_type": "stream",
     "text": [
      "----------------------> 0.586080586080586\n",
      "Evaluated Accuracy: 0.5861\n",
      "Testing b_a_r = 0.8445, c_a_r = 0.9969, f_a_r = 0.0047\n"
     ]
    },
    {
     "name": "stderr",
     "output_type": "stream",
     "text": [
      "/home/asufian/.local/share/pipx/venvs/notebook/lib/python3.12/site-packages/torchvision/models/_utils.py:208: UserWarning: The parameter 'pretrained' is deprecated since 0.13 and may be removed in the future, please use 'weights' instead.\n",
      "  warnings.warn(\n",
      "/home/asufian/.local/share/pipx/venvs/notebook/lib/python3.12/site-packages/torchvision/models/_utils.py:223: UserWarning: Arguments other than a weight enum or `None` for 'weights' are deprecated since 0.13 and may be removed in the future. The current behavior is equivalent to passing `weights=None`.\n",
      "  warnings.warn(msg)\n"
     ]
    },
    {
     "name": "stdout",
     "output_type": "stream",
     "text": [
      "----------------------> 0.2032356532356533\n",
      "Evaluated Accuracy: 0.2032\n",
      "Testing b_a_r = 0.1281, c_a_r = 0.5569, f_a_r = 0.5264\n"
     ]
    },
    {
     "name": "stderr",
     "output_type": "stream",
     "text": [
      "/home/asufian/.local/share/pipx/venvs/notebook/lib/python3.12/site-packages/torchvision/models/_utils.py:208: UserWarning: The parameter 'pretrained' is deprecated since 0.13 and may be removed in the future, please use 'weights' instead.\n",
      "  warnings.warn(\n",
      "/home/asufian/.local/share/pipx/venvs/notebook/lib/python3.12/site-packages/torchvision/models/_utils.py:223: UserWarning: Arguments other than a weight enum or `None` for 'weights' are deprecated since 0.13 and may be removed in the future. The current behavior is equivalent to passing `weights=None`.\n",
      "  warnings.warn(msg)\n"
     ]
    },
    {
     "name": "stdout",
     "output_type": "stream",
     "text": [
      "----------------------> 0.2992673992673992\n",
      "Evaluated Accuracy: 0.2993\n",
      "Testing b_a_r = 0.0175, c_a_r = 0.0683, f_a_r = 0.5796\n"
     ]
    },
    {
     "name": "stderr",
     "output_type": "stream",
     "text": [
      "/home/asufian/.local/share/pipx/venvs/notebook/lib/python3.12/site-packages/torchvision/models/_utils.py:208: UserWarning: The parameter 'pretrained' is deprecated since 0.13 and may be removed in the future, please use 'weights' instead.\n",
      "  warnings.warn(\n",
      "/home/asufian/.local/share/pipx/venvs/notebook/lib/python3.12/site-packages/torchvision/models/_utils.py:223: UserWarning: Arguments other than a weight enum or `None` for 'weights' are deprecated since 0.13 and may be removed in the future. The current behavior is equivalent to passing `weights=None`.\n",
      "  warnings.warn(msg)\n"
     ]
    },
    {
     "name": "stdout",
     "output_type": "stream",
     "text": [
      "----------------------> 0.5976190476190476\n",
      "Evaluated Accuracy: 0.5976\n",
      "Testing b_a_r = 0.9937, c_a_r = 0.0357, f_a_r = 0.6109\n"
     ]
    },
    {
     "name": "stderr",
     "output_type": "stream",
     "text": [
      "/home/asufian/.local/share/pipx/venvs/notebook/lib/python3.12/site-packages/torchvision/models/_utils.py:208: UserWarning: The parameter 'pretrained' is deprecated since 0.13 and may be removed in the future, please use 'weights' instead.\n",
      "  warnings.warn(\n",
      "/home/asufian/.local/share/pipx/venvs/notebook/lib/python3.12/site-packages/torchvision/models/_utils.py:223: UserWarning: Arguments other than a weight enum or `None` for 'weights' are deprecated since 0.13 and may be removed in the future. The current behavior is equivalent to passing `weights=None`.\n",
      "  warnings.warn(msg)\n"
     ]
    },
    {
     "name": "stdout",
     "output_type": "stream",
     "text": [
      "----------------------> 0.6054334554334554\n",
      "Evaluated Accuracy: 0.6054\n",
      "Testing b_a_r = 0.9908, c_a_r = 0.0003, f_a_r = 0.7087\n"
     ]
    },
    {
     "name": "stderr",
     "output_type": "stream",
     "text": [
      "/home/asufian/.local/share/pipx/venvs/notebook/lib/python3.12/site-packages/torchvision/models/_utils.py:208: UserWarning: The parameter 'pretrained' is deprecated since 0.13 and may be removed in the future, please use 'weights' instead.\n",
      "  warnings.warn(\n",
      "/home/asufian/.local/share/pipx/venvs/notebook/lib/python3.12/site-packages/torchvision/models/_utils.py:223: UserWarning: Arguments other than a weight enum or `None` for 'weights' are deprecated since 0.13 and may be removed in the future. The current behavior is equivalent to passing `weights=None`.\n",
      "  warnings.warn(msg)\n"
     ]
    },
    {
     "name": "stdout",
     "output_type": "stream",
     "text": [
      "----------------------> 0.6117216117216118\n",
      "Evaluated Accuracy: 0.6117\n",
      "Testing b_a_r = 0.0801, c_a_r = 0.0004, f_a_r = 0.6051\n"
     ]
    },
    {
     "name": "stderr",
     "output_type": "stream",
     "text": [
      "/home/asufian/.local/share/pipx/venvs/notebook/lib/python3.12/site-packages/torchvision/models/_utils.py:208: UserWarning: The parameter 'pretrained' is deprecated since 0.13 and may be removed in the future, please use 'weights' instead.\n",
      "  warnings.warn(\n",
      "/home/asufian/.local/share/pipx/venvs/notebook/lib/python3.12/site-packages/torchvision/models/_utils.py:223: UserWarning: Arguments other than a weight enum or `None` for 'weights' are deprecated since 0.13 and may be removed in the future. The current behavior is equivalent to passing `weights=None`.\n",
      "  warnings.warn(msg)\n"
     ]
    },
    {
     "name": "stdout",
     "output_type": "stream",
     "text": [
      "----------------------> 0.6105006105006106\n",
      "Evaluated Accuracy: 0.6105\n",
      "Testing b_a_r = 0.1069, c_a_r = 0.2957, f_a_r = 0.9966\n"
     ]
    },
    {
     "name": "stderr",
     "output_type": "stream",
     "text": [
      "/home/asufian/.local/share/pipx/venvs/notebook/lib/python3.12/site-packages/torchvision/models/_utils.py:208: UserWarning: The parameter 'pretrained' is deprecated since 0.13 and may be removed in the future, please use 'weights' instead.\n",
      "  warnings.warn(\n",
      "/home/asufian/.local/share/pipx/venvs/notebook/lib/python3.12/site-packages/torchvision/models/_utils.py:223: UserWarning: Arguments other than a weight enum or `None` for 'weights' are deprecated since 0.13 and may be removed in the future. The current behavior is equivalent to passing `weights=None`.\n",
      "  warnings.warn(msg)\n"
     ]
    },
    {
     "name": "stdout",
     "output_type": "stream",
     "text": [
      "----------------------> 0.34926739926739925\n",
      "Evaluated Accuracy: 0.3493\n",
      "Testing b_a_r = 0.6385, c_a_r = 0.1810, f_a_r = 0.0040\n"
     ]
    },
    {
     "name": "stderr",
     "output_type": "stream",
     "text": [
      "/home/asufian/.local/share/pipx/venvs/notebook/lib/python3.12/site-packages/torchvision/models/_utils.py:208: UserWarning: The parameter 'pretrained' is deprecated since 0.13 and may be removed in the future, please use 'weights' instead.\n",
      "  warnings.warn(\n",
      "/home/asufian/.local/share/pipx/venvs/notebook/lib/python3.12/site-packages/torchvision/models/_utils.py:223: UserWarning: Arguments other than a weight enum or `None` for 'weights' are deprecated since 0.13 and may be removed in the future. The current behavior is equivalent to passing `weights=None`.\n",
      "  warnings.warn(msg)\n"
     ]
    },
    {
     "name": "stdout",
     "output_type": "stream",
     "text": [
      "----------------------> 0.44865689865689873\n",
      "Evaluated Accuracy: 0.4487\n",
      "Testing b_a_r = 0.9214, c_a_r = 0.1002, f_a_r = 0.6162\n"
     ]
    },
    {
     "name": "stderr",
     "output_type": "stream",
     "text": [
      "/home/asufian/.local/share/pipx/venvs/notebook/lib/python3.12/site-packages/torchvision/models/_utils.py:208: UserWarning: The parameter 'pretrained' is deprecated since 0.13 and may be removed in the future, please use 'weights' instead.\n",
      "  warnings.warn(\n",
      "/home/asufian/.local/share/pipx/venvs/notebook/lib/python3.12/site-packages/torchvision/models/_utils.py:223: UserWarning: Arguments other than a weight enum or `None` for 'weights' are deprecated since 0.13 and may be removed in the future. The current behavior is equivalent to passing `weights=None`.\n",
      "  warnings.warn(msg)\n"
     ]
    },
    {
     "name": "stdout",
     "output_type": "stream",
     "text": [
      "----------------------> 0.5923076923076923\n",
      "Evaluated Accuracy: 0.5923\n",
      "Testing b_a_r = 0.9753, c_a_r = 0.8454, f_a_r = 0.9903\n"
     ]
    },
    {
     "name": "stderr",
     "output_type": "stream",
     "text": [
      "/home/asufian/.local/share/pipx/venvs/notebook/lib/python3.12/site-packages/torchvision/models/_utils.py:208: UserWarning: The parameter 'pretrained' is deprecated since 0.13 and may be removed in the future, please use 'weights' instead.\n",
      "  warnings.warn(\n",
      "/home/asufian/.local/share/pipx/venvs/notebook/lib/python3.12/site-packages/torchvision/models/_utils.py:223: UserWarning: Arguments other than a weight enum or `None` for 'weights' are deprecated since 0.13 and may be removed in the future. The current behavior is equivalent to passing `weights=None`.\n",
      "  warnings.warn(msg)\n"
     ]
    },
    {
     "name": "stdout",
     "output_type": "stream",
     "text": [
      "----------------------> 0.2634310134310134\n",
      "Evaluated Accuracy: 0.2634\n",
      "Testing b_a_r = 0.4405, c_a_r = 0.5734, f_a_r = 0.0028\n"
     ]
    },
    {
     "name": "stderr",
     "output_type": "stream",
     "text": [
      "/home/asufian/.local/share/pipx/venvs/notebook/lib/python3.12/site-packages/torchvision/models/_utils.py:208: UserWarning: The parameter 'pretrained' is deprecated since 0.13 and may be removed in the future, please use 'weights' instead.\n",
      "  warnings.warn(\n",
      "/home/asufian/.local/share/pipx/venvs/notebook/lib/python3.12/site-packages/torchvision/models/_utils.py:223: UserWarning: Arguments other than a weight enum or `None` for 'weights' are deprecated since 0.13 and may be removed in the future. The current behavior is equivalent to passing `weights=None`.\n",
      "  warnings.warn(msg)\n"
     ]
    },
    {
     "name": "stdout",
     "output_type": "stream",
     "text": [
      "----------------------> 0.26288156288156284\n",
      "Evaluated Accuracy: 0.2629\n",
      "Testing b_a_r = 0.8321, c_a_r = 0.1378, f_a_r = 0.9910\n"
     ]
    },
    {
     "name": "stderr",
     "output_type": "stream",
     "text": [
      "/home/asufian/.local/share/pipx/venvs/notebook/lib/python3.12/site-packages/torchvision/models/_utils.py:208: UserWarning: The parameter 'pretrained' is deprecated since 0.13 and may be removed in the future, please use 'weights' instead.\n",
      "  warnings.warn(\n",
      "/home/asufian/.local/share/pipx/venvs/notebook/lib/python3.12/site-packages/torchvision/models/_utils.py:223: UserWarning: Arguments other than a weight enum or `None` for 'weights' are deprecated since 0.13 and may be removed in the future. The current behavior is equivalent to passing `weights=None`.\n",
      "  warnings.warn(msg)\n"
     ]
    },
    {
     "name": "stdout",
     "output_type": "stream",
     "text": [
      "----------------------> 0.503113553113553\n",
      "Evaluated Accuracy: 0.5031\n",
      "Testing b_a_r = 0.9647, c_a_r = 0.3855, f_a_r = 0.5651\n"
     ]
    },
    {
     "name": "stderr",
     "output_type": "stream",
     "text": [
      "/home/asufian/.local/share/pipx/venvs/notebook/lib/python3.12/site-packages/torchvision/models/_utils.py:208: UserWarning: The parameter 'pretrained' is deprecated since 0.13 and may be removed in the future, please use 'weights' instead.\n",
      "  warnings.warn(\n",
      "/home/asufian/.local/share/pipx/venvs/notebook/lib/python3.12/site-packages/torchvision/models/_utils.py:223: UserWarning: Arguments other than a weight enum or `None` for 'weights' are deprecated since 0.13 and may be removed in the future. The current behavior is equivalent to passing `weights=None`.\n",
      "  warnings.warn(msg)\n"
     ]
    },
    {
     "name": "stdout",
     "output_type": "stream",
     "text": [
      "----------------------> 0.4234432234432235\n",
      "Evaluated Accuracy: 0.4234\n",
      "Testing b_a_r = 0.0418, c_a_r = 0.8385, f_a_r = 0.4476\n"
     ]
    },
    {
     "name": "stderr",
     "output_type": "stream",
     "text": [
      "/home/asufian/.local/share/pipx/venvs/notebook/lib/python3.12/site-packages/torchvision/models/_utils.py:208: UserWarning: The parameter 'pretrained' is deprecated since 0.13 and may be removed in the future, please use 'weights' instead.\n",
      "  warnings.warn(\n",
      "/home/asufian/.local/share/pipx/venvs/notebook/lib/python3.12/site-packages/torchvision/models/_utils.py:223: UserWarning: Arguments other than a weight enum or `None` for 'weights' are deprecated since 0.13 and may be removed in the future. The current behavior is equivalent to passing `weights=None`.\n",
      "  warnings.warn(msg)\n"
     ]
    },
    {
     "name": "stdout",
     "output_type": "stream",
     "text": [
      "----------------------> 0.25567765567765566\n",
      "Evaluated Accuracy: 0.2557\n",
      "Testing b_a_r = 0.0105, c_a_r = 0.0008, f_a_r = 0.2332\n"
     ]
    },
    {
     "name": "stderr",
     "output_type": "stream",
     "text": [
      "/home/asufian/.local/share/pipx/venvs/notebook/lib/python3.12/site-packages/torchvision/models/_utils.py:208: UserWarning: The parameter 'pretrained' is deprecated since 0.13 and may be removed in the future, please use 'weights' instead.\n",
      "  warnings.warn(\n",
      "/home/asufian/.local/share/pipx/venvs/notebook/lib/python3.12/site-packages/torchvision/models/_utils.py:223: UserWarning: Arguments other than a weight enum or `None` for 'weights' are deprecated since 0.13 and may be removed in the future. The current behavior is equivalent to passing `weights=None`.\n",
      "  warnings.warn(msg)\n"
     ]
    },
    {
     "name": "stdout",
     "output_type": "stream",
     "text": [
      "----------------------> 0.5785714285714286\n",
      "Evaluated Accuracy: 0.5786\n",
      "Testing b_a_r = 0.0106, c_a_r = 0.0023, f_a_r = 0.7291\n"
     ]
    },
    {
     "name": "stderr",
     "output_type": "stream",
     "text": [
      "/home/asufian/.local/share/pipx/venvs/notebook/lib/python3.12/site-packages/torchvision/models/_utils.py:208: UserWarning: The parameter 'pretrained' is deprecated since 0.13 and may be removed in the future, please use 'weights' instead.\n",
      "  warnings.warn(\n",
      "/home/asufian/.local/share/pipx/venvs/notebook/lib/python3.12/site-packages/torchvision/models/_utils.py:223: UserWarning: Arguments other than a weight enum or `None` for 'weights' are deprecated since 0.13 and may be removed in the future. The current behavior is equivalent to passing `weights=None`.\n",
      "  warnings.warn(msg)\n"
     ]
    },
    {
     "name": "stdout",
     "output_type": "stream",
     "text": [
      "----------------------> 0.6075091575091576\n",
      "Evaluated Accuracy: 0.6075\n",
      "Testing b_a_r = 0.4295, c_a_r = 0.5613, f_a_r = 0.9997\n"
     ]
    },
    {
     "name": "stderr",
     "output_type": "stream",
     "text": [
      "/home/asufian/.local/share/pipx/venvs/notebook/lib/python3.12/site-packages/torchvision/models/_utils.py:208: UserWarning: The parameter 'pretrained' is deprecated since 0.13 and may be removed in the future, please use 'weights' instead.\n",
      "  warnings.warn(\n",
      "/home/asufian/.local/share/pipx/venvs/notebook/lib/python3.12/site-packages/torchvision/models/_utils.py:223: UserWarning: Arguments other than a weight enum or `None` for 'weights' are deprecated since 0.13 and may be removed in the future. The current behavior is equivalent to passing `weights=None`.\n",
      "  warnings.warn(msg)\n"
     ]
    },
    {
     "name": "stdout",
     "output_type": "stream",
     "text": [
      "----------------------> 0.2993284493284493\n",
      "Evaluated Accuracy: 0.2993\n",
      "Testing b_a_r = 0.9239, c_a_r = 0.0711, f_a_r = 0.2667\n"
     ]
    },
    {
     "name": "stderr",
     "output_type": "stream",
     "text": [
      "/home/asufian/.local/share/pipx/venvs/notebook/lib/python3.12/site-packages/torchvision/models/_utils.py:208: UserWarning: The parameter 'pretrained' is deprecated since 0.13 and may be removed in the future, please use 'weights' instead.\n",
      "  warnings.warn(\n",
      "/home/asufian/.local/share/pipx/venvs/notebook/lib/python3.12/site-packages/torchvision/models/_utils.py:223: UserWarning: Arguments other than a weight enum or `None` for 'weights' are deprecated since 0.13 and may be removed in the future. The current behavior is equivalent to passing `weights=None`.\n",
      "  warnings.warn(msg)\n"
     ]
    },
    {
     "name": "stdout",
     "output_type": "stream",
     "text": [
      "----------------------> 0.5832112332112332\n",
      "Evaluated Accuracy: 0.5832\n",
      "Testing b_a_r = 0.9819, c_a_r = 0.0892, f_a_r = 0.7924\n"
     ]
    },
    {
     "name": "stderr",
     "output_type": "stream",
     "text": [
      "/home/asufian/.local/share/pipx/venvs/notebook/lib/python3.12/site-packages/torchvision/models/_utils.py:208: UserWarning: The parameter 'pretrained' is deprecated since 0.13 and may be removed in the future, please use 'weights' instead.\n",
      "  warnings.warn(\n",
      "/home/asufian/.local/share/pipx/venvs/notebook/lib/python3.12/site-packages/torchvision/models/_utils.py:223: UserWarning: Arguments other than a weight enum or `None` for 'weights' are deprecated since 0.13 and may be removed in the future. The current behavior is equivalent to passing `weights=None`.\n",
      "  warnings.warn(msg)\n"
     ]
    },
    {
     "name": "stdout",
     "output_type": "stream",
     "text": [
      "----------------------> 0.5762515262515263\n",
      "Evaluated Accuracy: 0.5763\n",
      "Testing b_a_r = 0.9463, c_a_r = 0.0004, f_a_r = 0.6586\n"
     ]
    },
    {
     "name": "stderr",
     "output_type": "stream",
     "text": [
      "/home/asufian/.local/share/pipx/venvs/notebook/lib/python3.12/site-packages/torchvision/models/_utils.py:208: UserWarning: The parameter 'pretrained' is deprecated since 0.13 and may be removed in the future, please use 'weights' instead.\n",
      "  warnings.warn(\n",
      "/home/asufian/.local/share/pipx/venvs/notebook/lib/python3.12/site-packages/torchvision/models/_utils.py:223: UserWarning: Arguments other than a weight enum or `None` for 'weights' are deprecated since 0.13 and may be removed in the future. The current behavior is equivalent to passing `weights=None`.\n",
      "  warnings.warn(msg)\n"
     ]
    },
    {
     "name": "stdout",
     "output_type": "stream",
     "text": [
      "----------------------> 0.6129426129426129\n",
      "Evaluated Accuracy: 0.6129\n",
      "Testing b_a_r = 0.9401, c_a_r = 0.2371, f_a_r = 0.4316\n"
     ]
    },
    {
     "name": "stderr",
     "output_type": "stream",
     "text": [
      "/home/asufian/.local/share/pipx/venvs/notebook/lib/python3.12/site-packages/torchvision/models/_utils.py:208: UserWarning: The parameter 'pretrained' is deprecated since 0.13 and may be removed in the future, please use 'weights' instead.\n",
      "  warnings.warn(\n",
      "/home/asufian/.local/share/pipx/venvs/notebook/lib/python3.12/site-packages/torchvision/models/_utils.py:223: UserWarning: Arguments other than a weight enum or `None` for 'weights' are deprecated since 0.13 and may be removed in the future. The current behavior is equivalent to passing `weights=None`.\n",
      "  warnings.warn(msg)\n"
     ]
    },
    {
     "name": "stdout",
     "output_type": "stream",
     "text": [
      "----------------------> 0.41623931623931637\n",
      "Evaluated Accuracy: 0.4162\n",
      "Testing b_a_r = 0.0540, c_a_r = 0.8819, f_a_r = 0.0116\n"
     ]
    },
    {
     "name": "stderr",
     "output_type": "stream",
     "text": [
      "/home/asufian/.local/share/pipx/venvs/notebook/lib/python3.12/site-packages/torchvision/models/_utils.py:208: UserWarning: The parameter 'pretrained' is deprecated since 0.13 and may be removed in the future, please use 'weights' instead.\n",
      "  warnings.warn(\n",
      "/home/asufian/.local/share/pipx/venvs/notebook/lib/python3.12/site-packages/torchvision/models/_utils.py:223: UserWarning: Arguments other than a weight enum or `None` for 'weights' are deprecated since 0.13 and may be removed in the future. The current behavior is equivalent to passing `weights=None`.\n",
      "  warnings.warn(msg)\n"
     ]
    },
    {
     "name": "stdout",
     "output_type": "stream",
     "text": [
      "----------------------> 0.2177655677655678\n",
      "Evaluated Accuracy: 0.2178\n",
      "Testing b_a_r = 0.0540, c_a_r = 0.1000, f_a_r = 0.4545\n"
     ]
    },
    {
     "name": "stderr",
     "output_type": "stream",
     "text": [
      "/home/asufian/.local/share/pipx/venvs/notebook/lib/python3.12/site-packages/torchvision/models/_utils.py:208: UserWarning: The parameter 'pretrained' is deprecated since 0.13 and may be removed in the future, please use 'weights' instead.\n",
      "  warnings.warn(\n",
      "/home/asufian/.local/share/pipx/venvs/notebook/lib/python3.12/site-packages/torchvision/models/_utils.py:223: UserWarning: Arguments other than a weight enum or `None` for 'weights' are deprecated since 0.13 and may be removed in the future. The current behavior is equivalent to passing `weights=None`.\n",
      "  warnings.warn(msg)\n"
     ]
    },
    {
     "name": "stdout",
     "output_type": "stream",
     "text": [
      "----------------------> 0.5741758241758241\n",
      "Evaluated Accuracy: 0.5742\n",
      "\n",
      "✅ Optimal Values:\n",
      "   - b_a_r: 0.9463\n",
      "   - c_a_r: 0.0004\n",
      "   - f_a_r: 0.6586\n",
      "📈 Highest Accuracy Achieved: 0.6129\n"
     ]
    }
   ],
   "source": [
    "import numpy as np\n",
    "import torch\n",
    "import matplotlib.pyplot as plt\n",
    "from skopt import gp_minimize\n",
    "from skopt.space import Real\n",
    "from skopt.utils import use_named_args\n",
    "from skopt.plots import plot_convergence\n",
    "\n",
    "# Device setup\n",
    "device = torch.device(\"cuda\" if torch.cuda.is_available() else \"cpu\")\n",
    "\n",
    "\n",
    "# Define the search space for b_a_r, c_a_r, and f_a_r\n",
    "search_space = [\n",
    "    Real(0.0, 1.0, name=\"b_a_r\"),\n",
    "    Real(0.0, 1.0, name=\"c_a_r\"),\n",
    "    Real(0.0, 1.0, name=\"f_a_r\")\n",
    "]\n",
    "\n",
    "# Define the objective function for Bayesian Optimization\n",
    "@use_named_args(search_space)\n",
    "def objective(b_a_r, c_a_r, f_a_r):\n",
    "    \"\"\"\n",
    "    Objective function to optimize the adaptation ratios.\n",
    "    It applies adaptation, evaluates the model, and returns the negative accuracy.\n",
    "    \"\"\"\n",
    "    accuracy = get_model_accuracy(b_a_r, c_a_r, f_a_r)\n",
    "    print(f\"Evaluated Accuracy: {accuracy:.4f}\")  # Debugging Output\n",
    "    \n",
    "    return -accuracy  # We minimize, so return negative accuracy\n",
    "\n",
    "# Perform Bayesian Optimization with additional settings\n",
    "search_iteration=50\n",
    "res = gp_minimize(\n",
    "    func=objective,\n",
    "    dimensions=search_space,\n",
    "    n_calls=search_iteration,               # Number of evaluations\n",
    "    n_initial_points=5,       # Initial random explorations before GP starts\n",
    "    acq_func=\"EI\",            # Acquisition function: Expected Improvement\n",
    "    random_state=42,          # Ensure reproducibility\n",
    "    n_jobs=-1,                # Parallel execution for faster optimization\n",
    ")\n",
    "\n",
    "# Extract optimal results\n",
    "optimal_b_a_r, optimal_c_a_r, optimal_f_a_r = res.x\n",
    "best_accuracy = -res.fun\n",
    "\n",
    "print(f\"\\n✅ Optimal Values:\")\n",
    "print(f\"   - b_a_r: {optimal_b_a_r:.4f}\")\n",
    "print(f\"   - c_a_r: {optimal_c_a_r:.4f}\")\n",
    "print(f\"   - f_a_r: {optimal_f_a_r:.4f}\")\n",
    "print(f\"📈 Highest Accuracy Achieved: {best_accuracy:.4f}\")\n",
    "\n",
    "\n"
   ]
  },
  {
   "cell_type": "code",
   "execution_count": 75,
   "metadata": {},
   "outputs": [
    {
     "name": "stderr",
     "output_type": "stream",
     "text": [
      "/home/asufian/.local/share/pipx/venvs/notebook/lib/python3.12/site-packages/torchvision/models/_utils.py:208: UserWarning: The parameter 'pretrained' is deprecated since 0.13 and may be removed in the future, please use 'weights' instead.\n",
      "  warnings.warn(\n",
      "/home/asufian/.local/share/pipx/venvs/notebook/lib/python3.12/site-packages/torchvision/models/_utils.py:223: UserWarning: Arguments other than a weight enum or `None` for 'weights' are deprecated since 0.13 and may be removed in the future. The current behavior is equivalent to passing `weights=None`.\n",
      "  warnings.warn(msg)\n"
     ]
    },
    {
     "name": "stdout",
     "output_type": "stream",
     "text": [
      "---Accu-----pre----rec---------> 0.5760 ± 0.0509  0.5864 ± 0.0505  0.5760 ± 0.0509\n"
     ]
    },
    {
     "name": "stderr",
     "output_type": "stream",
     "text": [
      "/home/asufian/.local/share/pipx/venvs/notebook/lib/python3.12/site-packages/torchvision/models/_utils.py:208: UserWarning: The parameter 'pretrained' is deprecated since 0.13 and may be removed in the future, please use 'weights' instead.\n",
      "  warnings.warn(\n",
      "/home/asufian/.local/share/pipx/venvs/notebook/lib/python3.12/site-packages/torchvision/models/_utils.py:223: UserWarning: Arguments other than a weight enum or `None` for 'weights' are deprecated since 0.13 and may be removed in the future. The current behavior is equivalent to passing `weights=None`.\n",
      "  warnings.warn(msg)\n"
     ]
    },
    {
     "name": "stdout",
     "output_type": "stream",
     "text": [
      "---Accu-----pre----rec---------> 0.4195 ± 0.0390  0.4205 ± 0.0392  0.4195 ± 0.0390\n",
      "---Accu-----pre----rec---------> 0.6129 ± 0.0528  0.6278 ± 0.0492  0.6129 ± 0.0528\n"
     ]
    }
   ],
   "source": [
    "convolutional_network_with_dropout =  ResNet18WithDropout(pretrained=False, dr=0.0)\n",
    "convolutional_network_with_dropout.fc = nn.Flatten()\n",
    "\n",
    "xyz = convolutional_network_with_dropout\n",
    "M3 = PrototypicalNetworks_dynamic_query(xyz).to(device)\n",
    "M3.load_state_dict(torch.load('model_own_path.pt'))\n",
    "evaluate2('/home/asufian/Desktop/output_mapii/result_ressnet/base/12_w_5_s_f', test_loader, M3, criterion)\n",
    "# Load Model M2\n",
    "convolutional_network_with_dropout =  ResNet18WithDropout(pretrained=False, dr=0.0)\n",
    "convolutional_network_with_dropout.fc = nn.Flatten()\n",
    "\n",
    "xyz2 = convolutional_network_with_dropout\n",
    "M2 = PrototypicalNetworks_dynamic_query(xyz2).to(device)\n",
    "M2.load_state_dict(torch.load('model_mu_path.pt'))\n",
    "evaluate2(\"/home/asufian/Desktop/output_mapii/result_ressnet/secondary/12_w_5_s_f\", test_loader, M2, criterion)\n",
    "# Update Model M3's weights using a weighted combination of Model M3 and Model M2\n",
    "update_model_weights2(M3, M2, conv_ratio= optimal_c_a_r , fc_ratio=optimal_f_a_r , bias_ratio=optimal_b_a_r)\n",
    "\n",
    "# Assuming you have the evaluate2 function defined\n",
    "# Evaluate the updated model (M3) using evaluate2 function with some arguments\n",
    "evaluate2(\"/home/asufian/Desktop/output_mapii/result_ressnet/amul/12_w_5_s_f\", test_loader, M3, criterion)\n"
   ]
  },
  {
   "cell_type": "code",
   "execution_count": null,
   "metadata": {},
   "outputs": [],
   "source": []
  },
  {
   "cell_type": "code",
   "execution_count": 76,
   "metadata": {},
   "outputs": [
    {
     "name": "stderr",
     "output_type": "stream",
     "text": [
      "/home/asufian/.local/share/pipx/venvs/notebook/lib/python3.12/site-packages/torchvision/models/_utils.py:208: UserWarning: The parameter 'pretrained' is deprecated since 0.13 and may be removed in the future, please use 'weights' instead.\n",
      "  warnings.warn(\n",
      "/home/asufian/.local/share/pipx/venvs/notebook/lib/python3.12/site-packages/torchvision/models/_utils.py:223: UserWarning: Arguments other than a weight enum or `None` for 'weights' are deprecated since 0.13 and may be removed in the future. The current behavior is equivalent to passing `weights=None`.\n",
      "  warnings.warn(msg)\n"
     ]
    }
   ],
   "source": [
    "device = torch.device(\"cuda\" if torch.cuda.is_available() else \"cpu\")\n",
    "\n",
    "\n",
    "\n",
    "!rm model_mu_path.pt\n",
    "!rm model_own_path.pt\n",
    "\n",
    "convolutional_network_with_dropout =  ResNet18WithDropout(pretrained=False, dr=0.0)\n",
    "convolutional_network_with_dropout.fc = nn.Flatten()\n",
    "\n",
    "model_own = PrototypicalNetworks_dynamic_query(convolutional_network_with_dropout).to(device)\n",
    "model_own.load_state_dict(torch.load('/home/asufian/Desktop/output_olchiki/code/modelr_res18_35.pth',map_location=torch.device('cpu')))\n",
    "\n",
    "\n",
    "convolutional_network_with_dropout =  ResNet18WithDropout(pretrained=False, dr=0.0)\n",
    "convolutional_network_with_dropout.fc = nn.Flatten()\n",
    "\n",
    "model_own_1_shot = PrototypicalNetworks_dynamic_query(convolutional_network_with_dropout).to(device)\n",
    "model_own_1_shot.load_state_dict(torch.load('/home/asufian/Desktop/output_olchiki/code/mapi_sce/ressecondary/model_10/model_B_mapi_10-shot_res.pth',map_location=torch.device('cpu')))\n",
    "\n",
    "torch.save(model_own_1_shot.state_dict(), 'model_mu_path.pt')\n",
    "torch.save(model_own.state_dict(), 'model_own_path.pt')"
   ]
  },
  {
   "cell_type": "code",
   "execution_count": 77,
   "metadata": {},
   "outputs": [],
   "source": [
    "\n",
    "def evaluate2(fname,data_loader, model, criterion=nn.CrossEntropyLoss()):\n",
    "    total_predictions = 0\n",
    "    correct_predictions = 0\n",
    "    total_loss = 0.0\n",
    "    accuracy = 0\n",
    "    datta = \"\"\n",
    "    model.eval()\n",
    "    tlv_cls=0\n",
    "    ttla=0\n",
    "    ttlal=[]\n",
    "    ttlac=0\n",
    "    precision=[]\n",
    "    recall=[]\n",
    "    \n",
    "    with torch.no_grad():\n",
    "        for episode in range(len(clss_12)):\n",
    "            support_set, query_set = data_loader.__getitem__(clss_12[tlv_cls] , clss_support_imagesss_10_shot[tlv_cls])\n",
    "\n",
    "           \n",
    "            clssa=str(clss_12[tlv_cls])\n",
    "            clss=str(clssa).replace(',',' ').replace('\\'',' ').replace('\\'',' ')\n",
    "            msg=str(clss_support_imagesss_10_shot[tlv_cls])\n",
    "            str(clss_12[tlv_cls])\n",
    "\n",
    "            tlv_cls+=1\n",
    "            # print(len(support_set),len(query_set))\n",
    "            support_set = [(torch.stack(images).to(device), label[0]) for images, label in support_set]\n",
    "            query_set = [(torch.stack(images).to(device), label) for images, label in query_set]\n",
    "\n",
    "            support_images, support_labels = zip(*support_set)\n",
    "\n",
    "            query_images, query_labels = zip(*query_set)\n",
    "\n",
    "            classification_scores = model(support_images, support_labels, query_images)\n",
    "            cortt = 0\n",
    "            totl = 0\n",
    "            confusion_mat=None\n",
    "            all_predicted_labels = []\n",
    "            all_actual_labels = []\n",
    "            # print(len(classification_scores),len(query_labels))\n",
    "            for ei in range(len(classification_scores)):\n",
    "                classification_scores_each_class = classification_scores[ei]\n",
    "                # print(classification_scores_each_class)\n",
    "                predicted_labels_eachclas = torch.argmax(classification_scores_each_class, dim=1)\n",
    "                pp = predicted_labels_eachclas.tolist()\n",
    "                act = query_labels[ei]\n",
    "                all_predicted_labels.extend(pp)\n",
    "                all_actual_labels.extend(act)\n",
    "                for iiii in range(len(pp)):\n",
    "                    if pp[iiii] == act[iiii]:\n",
    "                        cortt = cortt + 1\n",
    "                totl = totl + len(pp)\n",
    "                # print(len(act))\n",
    "            accuracy = cortt / totl\n",
    "            ttla+=1\n",
    "            ttlac+=accuracy\n",
    "            ttlal.append(accuracy)\n",
    "            # print(cortt , totl,\"Validation Accuracy:              \", cortt / totl)\n",
    "            confusion_mat = confusion_matrix(all_actual_labels, all_predicted_labels)\n",
    "            # print(\"Confusion Matrix:\")\n",
    "            # print(confusion_mat)\n",
    "\n",
    "            # fname='./own35_mapi_5_way_1_shot'\n",
    "\n",
    "            precision_overall, recall_overall, f1ss= calculate_metrics_get_per(msg,confusion_mat,acciuracy=cortt / totl,cls=clss,flnm=fname)\n",
    "            precision.append(precision_overall)\n",
    "            recall.append(recall_overall)\n",
    "    print(f\"---Accu-----pre----rec---------> {np.mean(ttlal):.4f} ± {np.std(ttlal, ddof=1):.4f}  \"\n",
    "      f\"{np.mean(precision):.4f} ± {np.std(precision, ddof=1):.4f}  \"\n",
    "      f\"{np.mean(recall):.4f} ± {np.std(recall, ddof=1):.4f}\")\n",
    "\n",
    "    # print(\"---Accu-----pre----rec---------->\",np.mean(ttlal),'±',np.std(ttlal, ddof=1), np.mean(precision),'±',np.std(precision, ddof=1),np.mean(precision),'±',np.std(precision, ddof=1),)\n",
    "# %%%%%%\n",
    "\n",
    "def evaluate3(fname,data_loader, model, criterion=nn.CrossEntropyLoss()):\n",
    "    total_predictions = 0\n",
    "    correct_predictions = 0\n",
    "    total_loss = 0.0\n",
    "    accuracy = 0\n",
    "    datta = \"\"\n",
    "    model.eval()\n",
    "    tlv_cls=0\n",
    "    ttla=0\n",
    "    ttlac=0\n",
    "    with torch.no_grad():\n",
    "        for episode in range(len(clss_12)):\n",
    "            support_set, query_set = data_loader.__getitem__(clss_12[tlv_cls] , clss_support_imagesss_10_shot[tlv_cls])\n",
    "\n",
    "            \n",
    "            clssa=str(clss_12[tlv_cls])\n",
    "            clss=str(clssa).replace(',',' ').replace('\\'',' ').replace('\\'',' ')\n",
    "            msg=str(clss_support_imagesss_10_shot[tlv_cls])\n",
    "            str(clss_12[tlv_cls])\n",
    "\n",
    "            tlv_cls+=1\n",
    "            # print(len(support_set),len(query_set))\n",
    "            support_set = [(torch.stack(images).to(device), label[0]) for images, label in support_set]\n",
    "            query_set = [(torch.stack(images).to(device), label) for images, label in query_set]\n",
    "\n",
    "            support_images, support_labels = zip(*support_set)\n",
    "\n",
    "            query_images, query_labels = zip(*query_set)\n",
    "\n",
    "            classification_scores = model(support_images, support_labels, query_images)\n",
    "            cortt = 0\n",
    "            totl = 0\n",
    "            confusion_mat=None\n",
    "            all_predicted_labels = []\n",
    "            all_actual_labels = []\n",
    "            # print(len(classification_scores),len(query_labels))\n",
    "            for ei in range(len(classification_scores)):\n",
    "                classification_scores_each_class = classification_scores[ei]\n",
    "                # print(classification_scores_each_class)\n",
    "                predicted_labels_eachclas = torch.argmax(classification_scores_each_class, dim=1)\n",
    "                pp = predicted_labels_eachclas.tolist()\n",
    "                act = query_labels[ei]\n",
    "                all_predicted_labels.extend(pp)\n",
    "                all_actual_labels.extend(act)\n",
    "                for iiii in range(len(pp)):\n",
    "                    if pp[iiii] == act[iiii]:\n",
    "                        cortt = cortt + 1\n",
    "                totl = totl + len(pp)\n",
    "                # print(len(act))\n",
    "            accuracy = cortt / totl\n",
    "            ttla+=1\n",
    "            ttlac+=accuracy\n",
    "            # print(cortt , totl,\"Validation Accuracy:              \", cortt / totl)\n",
    "            # confusion_mat = confusion_matrix(all_actual_labels, all_predicted_labels)\n",
    "            # print(\"Confusion Matrix:\")\n",
    "            # print(confusion_mat)\n",
    "\n",
    "            # fname='./own35_mapi_5_way_1_shot'\n",
    "\n",
    "            # calculate_metrics_get_per(msg,confusion_mat,acciuracy=cortt / totl,cls=clss,flnm=fname)\n",
    "\n",
    "    print(\"---------------------->\",ttlac/ttla)\n",
    "    return ttlac/ttla"
   ]
  },
  {
   "cell_type": "code",
   "execution_count": 78,
   "metadata": {
    "scrolled": true
   },
   "outputs": [
    {
     "name": "stdout",
     "output_type": "stream",
     "text": [
      "Testing b_a_r = 0.7965, c_a_r = 0.1834, f_a_r = 0.7797\n"
     ]
    },
    {
     "name": "stderr",
     "output_type": "stream",
     "text": [
      "/home/asufian/.local/share/pipx/venvs/notebook/lib/python3.12/site-packages/torchvision/models/_utils.py:208: UserWarning: The parameter 'pretrained' is deprecated since 0.13 and may be removed in the future, please use 'weights' instead.\n",
      "  warnings.warn(\n",
      "/home/asufian/.local/share/pipx/venvs/notebook/lib/python3.12/site-packages/torchvision/models/_utils.py:223: UserWarning: Arguments other than a weight enum or `None` for 'weights' are deprecated since 0.13 and may be removed in the future. The current behavior is equivalent to passing `weights=None`.\n",
      "  warnings.warn(msg)\n"
     ]
    },
    {
     "name": "stdout",
     "output_type": "stream",
     "text": [
      "----------------------> 0.5271317829457365\n",
      "Evaluated Accuracy: 0.5271\n",
      "Testing b_a_r = 0.5969, c_a_r = 0.4458, f_a_r = 0.1000\n",
      "----------------------> 0.20484496124031004\n",
      "Evaluated Accuracy: 0.2048\n",
      "Testing b_a_r = 0.4592, c_a_r = 0.3337, f_a_r = 0.1429\n",
      "----------------------> 0.2718346253229974\n",
      "Evaluated Accuracy: 0.2718\n",
      "Testing b_a_r = 0.6509, c_a_r = 0.0564, f_a_r = 0.7220\n",
      "----------------------> 0.6260335917312662\n",
      "Evaluated Accuracy: 0.6260\n",
      "Testing b_a_r = 0.9386, c_a_r = 0.0008, f_a_r = 0.9922\n",
      "----------------------> 0.5808139534883722\n",
      "Evaluated Accuracy: 0.5808\n",
      "Testing b_a_r = 0.0250, c_a_r = 1.0000, f_a_r = 0.4630\n"
     ]
    },
    {
     "name": "stderr",
     "output_type": "stream",
     "text": [
      "/home/asufian/.local/share/pipx/venvs/notebook/lib/python3.12/site-packages/torchvision/models/_utils.py:208: UserWarning: The parameter 'pretrained' is deprecated since 0.13 and may be removed in the future, please use 'weights' instead.\n",
      "  warnings.warn(\n",
      "/home/asufian/.local/share/pipx/venvs/notebook/lib/python3.12/site-packages/torchvision/models/_utils.py:223: UserWarning: Arguments other than a weight enum or `None` for 'weights' are deprecated since 0.13 and may be removed in the future. The current behavior is equivalent to passing `weights=None`.\n",
      "  warnings.warn(msg)\n"
     ]
    },
    {
     "name": "stdout",
     "output_type": "stream",
     "text": [
      "----------------------> 0.15729974160206722\n",
      "Evaluated Accuracy: 0.1573\n",
      "Testing b_a_r = 0.0000, c_a_r = 0.0000, f_a_r = 0.6549\n"
     ]
    },
    {
     "name": "stderr",
     "output_type": "stream",
     "text": [
      "/home/asufian/.local/share/pipx/venvs/notebook/lib/python3.12/site-packages/torchvision/models/_utils.py:208: UserWarning: The parameter 'pretrained' is deprecated since 0.13 and may be removed in the future, please use 'weights' instead.\n",
      "  warnings.warn(\n",
      "/home/asufian/.local/share/pipx/venvs/notebook/lib/python3.12/site-packages/torchvision/models/_utils.py:223: UserWarning: Arguments other than a weight enum or `None` for 'weights' are deprecated since 0.13 and may be removed in the future. The current behavior is equivalent to passing `weights=None`.\n",
      "  warnings.warn(msg)\n"
     ]
    },
    {
     "name": "stdout",
     "output_type": "stream",
     "text": [
      "----------------------> 0.6393410852713178\n",
      "Evaluated Accuracy: 0.6393\n",
      "Testing b_a_r = 1.0000, c_a_r = 0.0000, f_a_r = 0.7532\n"
     ]
    },
    {
     "name": "stderr",
     "output_type": "stream",
     "text": [
      "/home/asufian/.local/share/pipx/venvs/notebook/lib/python3.12/site-packages/torchvision/models/_utils.py:208: UserWarning: The parameter 'pretrained' is deprecated since 0.13 and may be removed in the future, please use 'weights' instead.\n",
      "  warnings.warn(\n",
      "/home/asufian/.local/share/pipx/venvs/notebook/lib/python3.12/site-packages/torchvision/models/_utils.py:223: UserWarning: Arguments other than a weight enum or `None` for 'weights' are deprecated since 0.13 and may be removed in the future. The current behavior is equivalent to passing `weights=None`.\n",
      "  warnings.warn(msg)\n"
     ]
    },
    {
     "name": "stdout",
     "output_type": "stream",
     "text": [
      "----------------------> 0.6220284237726098\n",
      "Evaluated Accuracy: 0.6220\n",
      "Testing b_a_r = 0.0000, c_a_r = 0.0000, f_a_r = 0.0000\n"
     ]
    },
    {
     "name": "stderr",
     "output_type": "stream",
     "text": [
      "/home/asufian/.local/share/pipx/venvs/notebook/lib/python3.12/site-packages/torchvision/models/_utils.py:208: UserWarning: The parameter 'pretrained' is deprecated since 0.13 and may be removed in the future, please use 'weights' instead.\n",
      "  warnings.warn(\n",
      "/home/asufian/.local/share/pipx/venvs/notebook/lib/python3.12/site-packages/torchvision/models/_utils.py:223: UserWarning: Arguments other than a weight enum or `None` for 'weights' are deprecated since 0.13 and may be removed in the future. The current behavior is equivalent to passing `weights=None`.\n",
      "  warnings.warn(msg)\n"
     ]
    },
    {
     "name": "stdout",
     "output_type": "stream",
     "text": [
      "----------------------> 0.6106589147286823\n",
      "Evaluated Accuracy: 0.6107\n",
      "Testing b_a_r = 0.0000, c_a_r = 0.0000, f_a_r = 0.4056\n"
     ]
    },
    {
     "name": "stderr",
     "output_type": "stream",
     "text": [
      "/home/asufian/.local/share/pipx/venvs/notebook/lib/python3.12/site-packages/torchvision/models/_utils.py:208: UserWarning: The parameter 'pretrained' is deprecated since 0.13 and may be removed in the future, please use 'weights' instead.\n",
      "  warnings.warn(\n",
      "/home/asufian/.local/share/pipx/venvs/notebook/lib/python3.12/site-packages/torchvision/models/_utils.py:223: UserWarning: Arguments other than a weight enum or `None` for 'weights' are deprecated since 0.13 and may be removed in the future. The current behavior is equivalent to passing `weights=None`.\n",
      "  warnings.warn(msg)\n"
     ]
    },
    {
     "name": "stdout",
     "output_type": "stream",
     "text": [
      "----------------------> 0.6268087855297159\n",
      "Evaluated Accuracy: 0.6268\n",
      "Testing b_a_r = 0.0611, c_a_r = 0.0548, f_a_r = 0.4558\n"
     ]
    },
    {
     "name": "stderr",
     "output_type": "stream",
     "text": [
      "/home/asufian/.local/share/pipx/venvs/notebook/lib/python3.12/site-packages/torchvision/models/_utils.py:208: UserWarning: The parameter 'pretrained' is deprecated since 0.13 and may be removed in the future, please use 'weights' instead.\n",
      "  warnings.warn(\n",
      "/home/asufian/.local/share/pipx/venvs/notebook/lib/python3.12/site-packages/torchvision/models/_utils.py:223: UserWarning: Arguments other than a weight enum or `None` for 'weights' are deprecated since 0.13 and may be removed in the future. The current behavior is equivalent to passing `weights=None`.\n",
      "  warnings.warn(msg)\n"
     ]
    },
    {
     "name": "stdout",
     "output_type": "stream",
     "text": [
      "----------------------> 0.6344961240310077\n",
      "Evaluated Accuracy: 0.6345\n",
      "Testing b_a_r = 0.1539, c_a_r = 0.6651, f_a_r = 1.0000\n"
     ]
    },
    {
     "name": "stderr",
     "output_type": "stream",
     "text": [
      "/home/asufian/.local/share/pipx/venvs/notebook/lib/python3.12/site-packages/torchvision/models/_utils.py:208: UserWarning: The parameter 'pretrained' is deprecated since 0.13 and may be removed in the future, please use 'weights' instead.\n",
      "  warnings.warn(\n",
      "/home/asufian/.local/share/pipx/venvs/notebook/lib/python3.12/site-packages/torchvision/models/_utils.py:223: UserWarning: Arguments other than a weight enum or `None` for 'weights' are deprecated since 0.13 and may be removed in the future. The current behavior is equivalent to passing `weights=None`.\n",
      "  warnings.warn(msg)\n"
     ]
    },
    {
     "name": "stdout",
     "output_type": "stream",
     "text": [
      "----------------------> 0.15574935400516798\n",
      "Evaluated Accuracy: 0.1557\n",
      "Testing b_a_r = 1.0000, c_a_r = 0.0282, f_a_r = 0.4693\n"
     ]
    },
    {
     "name": "stderr",
     "output_type": "stream",
     "text": [
      "/home/asufian/.local/share/pipx/venvs/notebook/lib/python3.12/site-packages/torchvision/models/_utils.py:208: UserWarning: The parameter 'pretrained' is deprecated since 0.13 and may be removed in the future, please use 'weights' instead.\n",
      "  warnings.warn(\n",
      "/home/asufian/.local/share/pipx/venvs/notebook/lib/python3.12/site-packages/torchvision/models/_utils.py:223: UserWarning: Arguments other than a weight enum or `None` for 'weights' are deprecated since 0.13 and may be removed in the future. The current behavior is equivalent to passing `weights=None`.\n",
      "  warnings.warn(msg)\n"
     ]
    },
    {
     "name": "stdout",
     "output_type": "stream",
     "text": [
      "----------------------> 0.6349483204134369\n",
      "Evaluated Accuracy: 0.6349\n",
      "Testing b_a_r = 0.1569, c_a_r = 0.0824, f_a_r = 0.0000\n"
     ]
    },
    {
     "name": "stderr",
     "output_type": "stream",
     "text": [
      "/home/asufian/.local/share/pipx/venvs/notebook/lib/python3.12/site-packages/torchvision/models/_utils.py:208: UserWarning: The parameter 'pretrained' is deprecated since 0.13 and may be removed in the future, please use 'weights' instead.\n",
      "  warnings.warn(\n",
      "/home/asufian/.local/share/pipx/venvs/notebook/lib/python3.12/site-packages/torchvision/models/_utils.py:223: UserWarning: Arguments other than a weight enum or `None` for 'weights' are deprecated since 0.13 and may be removed in the future. The current behavior is equivalent to passing `weights=None`.\n",
      "  warnings.warn(msg)\n"
     ]
    },
    {
     "name": "stdout",
     "output_type": "stream",
     "text": [
      "----------------------> 0.6124031007751937\n",
      "Evaluated Accuracy: 0.6124\n",
      "Testing b_a_r = 0.2035, c_a_r = 0.0970, f_a_r = 0.4011\n"
     ]
    },
    {
     "name": "stderr",
     "output_type": "stream",
     "text": [
      "/home/asufian/.local/share/pipx/venvs/notebook/lib/python3.12/site-packages/torchvision/models/_utils.py:208: UserWarning: The parameter 'pretrained' is deprecated since 0.13 and may be removed in the future, please use 'weights' instead.\n",
      "  warnings.warn(\n",
      "/home/asufian/.local/share/pipx/venvs/notebook/lib/python3.12/site-packages/torchvision/models/_utils.py:223: UserWarning: Arguments other than a weight enum or `None` for 'weights' are deprecated since 0.13 and may be removed in the future. The current behavior is equivalent to passing `weights=None`.\n",
      "  warnings.warn(msg)\n"
     ]
    },
    {
     "name": "stdout",
     "output_type": "stream",
     "text": [
      "----------------------> 0.6263565891472866\n",
      "Evaluated Accuracy: 0.6264\n",
      "Testing b_a_r = 0.0076, c_a_r = 0.0525, f_a_r = 0.2878\n"
     ]
    },
    {
     "name": "stderr",
     "output_type": "stream",
     "text": [
      "/home/asufian/.local/share/pipx/venvs/notebook/lib/python3.12/site-packages/torchvision/models/_utils.py:208: UserWarning: The parameter 'pretrained' is deprecated since 0.13 and may be removed in the future, please use 'weights' instead.\n",
      "  warnings.warn(\n",
      "/home/asufian/.local/share/pipx/venvs/notebook/lib/python3.12/site-packages/torchvision/models/_utils.py:223: UserWarning: Arguments other than a weight enum or `None` for 'weights' are deprecated since 0.13 and may be removed in the future. The current behavior is equivalent to passing `weights=None`.\n",
      "  warnings.warn(msg)\n"
     ]
    },
    {
     "name": "stdout",
     "output_type": "stream",
     "text": [
      "----------------------> 0.6208010335917314\n",
      "Evaluated Accuracy: 0.6208\n",
      "Testing b_a_r = 0.3956, c_a_r = 0.7753, f_a_r = 0.0057\n"
     ]
    },
    {
     "name": "stderr",
     "output_type": "stream",
     "text": [
      "/home/asufian/.local/share/pipx/venvs/notebook/lib/python3.12/site-packages/torchvision/models/_utils.py:208: UserWarning: The parameter 'pretrained' is deprecated since 0.13 and may be removed in the future, please use 'weights' instead.\n",
      "  warnings.warn(\n",
      "/home/asufian/.local/share/pipx/venvs/notebook/lib/python3.12/site-packages/torchvision/models/_utils.py:223: UserWarning: Arguments other than a weight enum or `None` for 'weights' are deprecated since 0.13 and may be removed in the future. The current behavior is equivalent to passing `weights=None`.\n",
      "  warnings.warn(msg)\n"
     ]
    },
    {
     "name": "stdout",
     "output_type": "stream",
     "text": [
      "----------------------> 0.16149870801033595\n",
      "Evaluated Accuracy: 0.1615\n",
      "Testing b_a_r = 1.0000, c_a_r = 0.0401, f_a_r = 0.0000\n"
     ]
    },
    {
     "name": "stderr",
     "output_type": "stream",
     "text": [
      "/home/asufian/.local/share/pipx/venvs/notebook/lib/python3.12/site-packages/torchvision/models/_utils.py:208: UserWarning: The parameter 'pretrained' is deprecated since 0.13 and may be removed in the future, please use 'weights' instead.\n",
      "  warnings.warn(\n",
      "/home/asufian/.local/share/pipx/venvs/notebook/lib/python3.12/site-packages/torchvision/models/_utils.py:223: UserWarning: Arguments other than a weight enum or `None` for 'weights' are deprecated since 0.13 and may be removed in the future. The current behavior is equivalent to passing `weights=None`.\n",
      "  warnings.warn(msg)\n"
     ]
    },
    {
     "name": "stdout",
     "output_type": "stream",
     "text": [
      "----------------------> 0.6147932816537468\n",
      "Evaluated Accuracy: 0.6148\n",
      "Testing b_a_r = 0.1751, c_a_r = 0.0388, f_a_r = 0.5893\n"
     ]
    },
    {
     "name": "stderr",
     "output_type": "stream",
     "text": [
      "/home/asufian/.local/share/pipx/venvs/notebook/lib/python3.12/site-packages/torchvision/models/_utils.py:208: UserWarning: The parameter 'pretrained' is deprecated since 0.13 and may be removed in the future, please use 'weights' instead.\n",
      "  warnings.warn(\n",
      "/home/asufian/.local/share/pipx/venvs/notebook/lib/python3.12/site-packages/torchvision/models/_utils.py:223: UserWarning: Arguments other than a weight enum or `None` for 'weights' are deprecated since 0.13 and may be removed in the future. The current behavior is equivalent to passing `weights=None`.\n",
      "  warnings.warn(msg)\n"
     ]
    },
    {
     "name": "stdout",
     "output_type": "stream",
     "text": [
      "----------------------> 0.6434754521963825\n",
      "Evaluated Accuracy: 0.6435\n",
      "Testing b_a_r = 0.1492, c_a_r = 0.3714, f_a_r = 0.9969\n"
     ]
    },
    {
     "name": "stderr",
     "output_type": "stream",
     "text": [
      "/home/asufian/.local/share/pipx/venvs/notebook/lib/python3.12/site-packages/torchvision/models/_utils.py:208: UserWarning: The parameter 'pretrained' is deprecated since 0.13 and may be removed in the future, please use 'weights' instead.\n",
      "  warnings.warn(\n",
      "/home/asufian/.local/share/pipx/venvs/notebook/lib/python3.12/site-packages/torchvision/models/_utils.py:223: UserWarning: Arguments other than a weight enum or `None` for 'weights' are deprecated since 0.13 and may be removed in the future. The current behavior is equivalent to passing `weights=None`.\n",
      "  warnings.warn(msg)\n"
     ]
    },
    {
     "name": "stdout",
     "output_type": "stream",
     "text": [
      "----------------------> 0.24257105943152454\n",
      "Evaluated Accuracy: 0.2426\n",
      "Testing b_a_r = 0.6375, c_a_r = 0.9990, f_a_r = 0.9989\n"
     ]
    },
    {
     "name": "stderr",
     "output_type": "stream",
     "text": [
      "/home/asufian/.local/share/pipx/venvs/notebook/lib/python3.12/site-packages/torchvision/models/_utils.py:208: UserWarning: The parameter 'pretrained' is deprecated since 0.13 and may be removed in the future, please use 'weights' instead.\n",
      "  warnings.warn(\n",
      "/home/asufian/.local/share/pipx/venvs/notebook/lib/python3.12/site-packages/torchvision/models/_utils.py:223: UserWarning: Arguments other than a weight enum or `None` for 'weights' are deprecated since 0.13 and may be removed in the future. The current behavior is equivalent to passing `weights=None`.\n",
      "  warnings.warn(msg)\n"
     ]
    },
    {
     "name": "stdout",
     "output_type": "stream",
     "text": [
      "----------------------> 0.15717054263565894\n",
      "Evaluated Accuracy: 0.1572\n",
      "Testing b_a_r = 0.6264, c_a_r = 0.1068, f_a_r = 0.9985\n"
     ]
    },
    {
     "name": "stderr",
     "output_type": "stream",
     "text": [
      "/home/asufian/.local/share/pipx/venvs/notebook/lib/python3.12/site-packages/torchvision/models/_utils.py:208: UserWarning: The parameter 'pretrained' is deprecated since 0.13 and may be removed in the future, please use 'weights' instead.\n",
      "  warnings.warn(\n",
      "/home/asufian/.local/share/pipx/venvs/notebook/lib/python3.12/site-packages/torchvision/models/_utils.py:223: UserWarning: Arguments other than a weight enum or `None` for 'weights' are deprecated since 0.13 and may be removed in the future. The current behavior is equivalent to passing `weights=None`.\n",
      "  warnings.warn(msg)\n"
     ]
    },
    {
     "name": "stdout",
     "output_type": "stream",
     "text": [
      "----------------------> 0.572545219638243\n",
      "Evaluated Accuracy: 0.5725\n",
      "Testing b_a_r = 0.0081, c_a_r = 0.0970, f_a_r = 0.6010\n"
     ]
    },
    {
     "name": "stderr",
     "output_type": "stream",
     "text": [
      "/home/asufian/.local/share/pipx/venvs/notebook/lib/python3.12/site-packages/torchvision/models/_utils.py:208: UserWarning: The parameter 'pretrained' is deprecated since 0.13 and may be removed in the future, please use 'weights' instead.\n",
      "  warnings.warn(\n",
      "/home/asufian/.local/share/pipx/venvs/notebook/lib/python3.12/site-packages/torchvision/models/_utils.py:223: UserWarning: Arguments other than a weight enum or `None` for 'weights' are deprecated since 0.13 and may be removed in the future. The current behavior is equivalent to passing `weights=None`.\n",
      "  warnings.warn(msg)\n"
     ]
    },
    {
     "name": "stdout",
     "output_type": "stream",
     "text": [
      "----------------------> 0.6374677002583979\n",
      "Evaluated Accuracy: 0.6375\n",
      "Testing b_a_r = 0.0102, c_a_r = 0.0544, f_a_r = 0.5954\n"
     ]
    },
    {
     "name": "stderr",
     "output_type": "stream",
     "text": [
      "/home/asufian/.local/share/pipx/venvs/notebook/lib/python3.12/site-packages/torchvision/models/_utils.py:208: UserWarning: The parameter 'pretrained' is deprecated since 0.13 and may be removed in the future, please use 'weights' instead.\n",
      "  warnings.warn(\n",
      "/home/asufian/.local/share/pipx/venvs/notebook/lib/python3.12/site-packages/torchvision/models/_utils.py:223: UserWarning: Arguments other than a weight enum or `None` for 'weights' are deprecated since 0.13 and may be removed in the future. The current behavior is equivalent to passing `weights=None`.\n",
      "  warnings.warn(msg)\n"
     ]
    },
    {
     "name": "stdout",
     "output_type": "stream",
     "text": [
      "----------------------> 0.6441860465116277\n",
      "Evaluated Accuracy: 0.6442\n",
      "Testing b_a_r = 0.7342, c_a_r = 0.9968, f_a_r = 0.0033\n"
     ]
    },
    {
     "name": "stderr",
     "output_type": "stream",
     "text": [
      "/home/asufian/.local/share/pipx/venvs/notebook/lib/python3.12/site-packages/torchvision/models/_utils.py:208: UserWarning: The parameter 'pretrained' is deprecated since 0.13 and may be removed in the future, please use 'weights' instead.\n",
      "  warnings.warn(\n",
      "/home/asufian/.local/share/pipx/venvs/notebook/lib/python3.12/site-packages/torchvision/models/_utils.py:223: UserWarning: Arguments other than a weight enum or `None` for 'weights' are deprecated since 0.13 and may be removed in the future. The current behavior is equivalent to passing `weights=None`.\n",
      "  warnings.warn(msg)\n"
     ]
    },
    {
     "name": "stdout",
     "output_type": "stream",
     "text": [
      "----------------------> 0.14709302325581397\n",
      "Evaluated Accuracy: 0.1471\n",
      "Testing b_a_r = 0.0464, c_a_r = 0.0427, f_a_r = 0.8073\n"
     ]
    },
    {
     "name": "stderr",
     "output_type": "stream",
     "text": [
      "/home/asufian/.local/share/pipx/venvs/notebook/lib/python3.12/site-packages/torchvision/models/_utils.py:208: UserWarning: The parameter 'pretrained' is deprecated since 0.13 and may be removed in the future, please use 'weights' instead.\n",
      "  warnings.warn(\n",
      "/home/asufian/.local/share/pipx/venvs/notebook/lib/python3.12/site-packages/torchvision/models/_utils.py:223: UserWarning: Arguments other than a weight enum or `None` for 'weights' are deprecated since 0.13 and may be removed in the future. The current behavior is equivalent to passing `weights=None`.\n",
      "  warnings.warn(msg)\n"
     ]
    },
    {
     "name": "stdout",
     "output_type": "stream",
     "text": [
      "----------------------> 0.60671834625323\n",
      "Evaluated Accuracy: 0.6067\n",
      "Testing b_a_r = 0.5813, c_a_r = 0.1657, f_a_r = 0.0042\n"
     ]
    },
    {
     "name": "stderr",
     "output_type": "stream",
     "text": [
      "/home/asufian/.local/share/pipx/venvs/notebook/lib/python3.12/site-packages/torchvision/models/_utils.py:208: UserWarning: The parameter 'pretrained' is deprecated since 0.13 and may be removed in the future, please use 'weights' instead.\n",
      "  warnings.warn(\n",
      "/home/asufian/.local/share/pipx/venvs/notebook/lib/python3.12/site-packages/torchvision/models/_utils.py:223: UserWarning: Arguments other than a weight enum or `None` for 'weights' are deprecated since 0.13 and may be removed in the future. The current behavior is equivalent to passing `weights=None`.\n",
      "  warnings.warn(msg)\n"
     ]
    },
    {
     "name": "stdout",
     "output_type": "stream",
     "text": [
      "----------------------> 0.5501291989664082\n",
      "Evaluated Accuracy: 0.5501\n",
      "Testing b_a_r = 0.9808, c_a_r = 0.0668, f_a_r = 0.5532\n"
     ]
    },
    {
     "name": "stderr",
     "output_type": "stream",
     "text": [
      "/home/asufian/.local/share/pipx/venvs/notebook/lib/python3.12/site-packages/torchvision/models/_utils.py:208: UserWarning: The parameter 'pretrained' is deprecated since 0.13 and may be removed in the future, please use 'weights' instead.\n",
      "  warnings.warn(\n",
      "/home/asufian/.local/share/pipx/venvs/notebook/lib/python3.12/site-packages/torchvision/models/_utils.py:223: UserWarning: Arguments other than a weight enum or `None` for 'weights' are deprecated since 0.13 and may be removed in the future. The current behavior is equivalent to passing `weights=None`.\n",
      "  warnings.warn(msg)\n"
     ]
    },
    {
     "name": "stdout",
     "output_type": "stream",
     "text": [
      "----------------------> 0.6386950904392763\n",
      "Evaluated Accuracy: 0.6387\n",
      "Testing b_a_r = 0.5852, c_a_r = 0.0002, f_a_r = 0.5439\n"
     ]
    },
    {
     "name": "stderr",
     "output_type": "stream",
     "text": [
      "/home/asufian/.local/share/pipx/venvs/notebook/lib/python3.12/site-packages/torchvision/models/_utils.py:208: UserWarning: The parameter 'pretrained' is deprecated since 0.13 and may be removed in the future, please use 'weights' instead.\n",
      "  warnings.warn(\n",
      "/home/asufian/.local/share/pipx/venvs/notebook/lib/python3.12/site-packages/torchvision/models/_utils.py:223: UserWarning: Arguments other than a weight enum or `None` for 'weights' are deprecated since 0.13 and may be removed in the future. The current behavior is equivalent to passing `weights=None`.\n",
      "  warnings.warn(msg)\n"
     ]
    },
    {
     "name": "stdout",
     "output_type": "stream",
     "text": [
      "----------------------> 0.6400516795865633\n",
      "Evaluated Accuracy: 0.6401\n",
      "Testing b_a_r = 0.0112, c_a_r = 0.1669, f_a_r = 0.4095\n"
     ]
    },
    {
     "name": "stderr",
     "output_type": "stream",
     "text": [
      "/home/asufian/.local/share/pipx/venvs/notebook/lib/python3.12/site-packages/torchvision/models/_utils.py:208: UserWarning: The parameter 'pretrained' is deprecated since 0.13 and may be removed in the future, please use 'weights' instead.\n",
      "  warnings.warn(\n",
      "/home/asufian/.local/share/pipx/venvs/notebook/lib/python3.12/site-packages/torchvision/models/_utils.py:223: UserWarning: Arguments other than a weight enum or `None` for 'weights' are deprecated since 0.13 and may be removed in the future. The current behavior is equivalent to passing `weights=None`.\n",
      "  warnings.warn(msg)\n"
     ]
    },
    {
     "name": "stdout",
     "output_type": "stream",
     "text": [
      "----------------------> 0.5753875968992248\n",
      "Evaluated Accuracy: 0.5754\n",
      "Testing b_a_r = 0.0862, c_a_r = 0.1126, f_a_r = 0.1815\n"
     ]
    },
    {
     "name": "stderr",
     "output_type": "stream",
     "text": [
      "/home/asufian/.local/share/pipx/venvs/notebook/lib/python3.12/site-packages/torchvision/models/_utils.py:208: UserWarning: The parameter 'pretrained' is deprecated since 0.13 and may be removed in the future, please use 'weights' instead.\n",
      "  warnings.warn(\n",
      "/home/asufian/.local/share/pipx/venvs/notebook/lib/python3.12/site-packages/torchvision/models/_utils.py:223: UserWarning: Arguments other than a weight enum or `None` for 'weights' are deprecated since 0.13 and may be removed in the future. The current behavior is equivalent to passing `weights=None`.\n",
      "  warnings.warn(msg)\n"
     ]
    },
    {
     "name": "stdout",
     "output_type": "stream",
     "text": [
      "----------------------> 0.6062661498708011\n",
      "Evaluated Accuracy: 0.6063\n",
      "Testing b_a_r = 0.3891, c_a_r = 0.0008, f_a_r = 0.1844\n"
     ]
    },
    {
     "name": "stderr",
     "output_type": "stream",
     "text": [
      "/home/asufian/.local/share/pipx/venvs/notebook/lib/python3.12/site-packages/torchvision/models/_utils.py:208: UserWarning: The parameter 'pretrained' is deprecated since 0.13 and may be removed in the future, please use 'weights' instead.\n",
      "  warnings.warn(\n",
      "/home/asufian/.local/share/pipx/venvs/notebook/lib/python3.12/site-packages/torchvision/models/_utils.py:223: UserWarning: Arguments other than a weight enum or `None` for 'weights' are deprecated since 0.13 and may be removed in the future. The current behavior is equivalent to passing `weights=None`.\n",
      "  warnings.warn(msg)\n"
     ]
    },
    {
     "name": "stdout",
     "output_type": "stream",
     "text": [
      "----------------------> 0.6129198966408268\n",
      "Evaluated Accuracy: 0.6129\n",
      "Testing b_a_r = 0.0654, c_a_r = 0.6101, f_a_r = 0.4416\n"
     ]
    },
    {
     "name": "stderr",
     "output_type": "stream",
     "text": [
      "/home/asufian/.local/share/pipx/venvs/notebook/lib/python3.12/site-packages/torchvision/models/_utils.py:208: UserWarning: The parameter 'pretrained' is deprecated since 0.13 and may be removed in the future, please use 'weights' instead.\n",
      "  warnings.warn(\n",
      "/home/asufian/.local/share/pipx/venvs/notebook/lib/python3.12/site-packages/torchvision/models/_utils.py:223: UserWarning: Arguments other than a weight enum or `None` for 'weights' are deprecated since 0.13 and may be removed in the future. The current behavior is equivalent to passing `weights=None`.\n",
      "  warnings.warn(msg)\n"
     ]
    },
    {
     "name": "stdout",
     "output_type": "stream",
     "text": [
      "----------------------> 0.16188630490956074\n",
      "Evaluated Accuracy: 0.1619\n",
      "Testing b_a_r = 0.6681, c_a_r = 0.8311, f_a_r = 0.7533\n"
     ]
    },
    {
     "name": "stderr",
     "output_type": "stream",
     "text": [
      "/home/asufian/.local/share/pipx/venvs/notebook/lib/python3.12/site-packages/torchvision/models/_utils.py:208: UserWarning: The parameter 'pretrained' is deprecated since 0.13 and may be removed in the future, please use 'weights' instead.\n",
      "  warnings.warn(\n",
      "/home/asufian/.local/share/pipx/venvs/notebook/lib/python3.12/site-packages/torchvision/models/_utils.py:223: UserWarning: Arguments other than a weight enum or `None` for 'weights' are deprecated since 0.13 and may be removed in the future. The current behavior is equivalent to passing `weights=None`.\n",
      "  warnings.warn(msg)\n"
     ]
    },
    {
     "name": "stdout",
     "output_type": "stream",
     "text": [
      "----------------------> 0.15904392764857883\n",
      "Evaluated Accuracy: 0.1590\n",
      "Testing b_a_r = 0.0378, c_a_r = 0.1030, f_a_r = 0.7432\n"
     ]
    },
    {
     "name": "stderr",
     "output_type": "stream",
     "text": [
      "/home/asufian/.local/share/pipx/venvs/notebook/lib/python3.12/site-packages/torchvision/models/_utils.py:208: UserWarning: The parameter 'pretrained' is deprecated since 0.13 and may be removed in the future, please use 'weights' instead.\n",
      "  warnings.warn(\n",
      "/home/asufian/.local/share/pipx/venvs/notebook/lib/python3.12/site-packages/torchvision/models/_utils.py:223: UserWarning: Arguments other than a weight enum or `None` for 'weights' are deprecated since 0.13 and may be removed in the future. The current behavior is equivalent to passing `weights=None`.\n",
      "  warnings.warn(msg)\n"
     ]
    },
    {
     "name": "stdout",
     "output_type": "stream",
     "text": [
      "----------------------> 0.6190568475452197\n",
      "Evaluated Accuracy: 0.6191\n",
      "Testing b_a_r = 0.0872, c_a_r = 0.6104, f_a_r = 0.0081\n"
     ]
    },
    {
     "name": "stderr",
     "output_type": "stream",
     "text": [
      "/home/asufian/.local/share/pipx/venvs/notebook/lib/python3.12/site-packages/torchvision/models/_utils.py:208: UserWarning: The parameter 'pretrained' is deprecated since 0.13 and may be removed in the future, please use 'weights' instead.\n",
      "  warnings.warn(\n",
      "/home/asufian/.local/share/pipx/venvs/notebook/lib/python3.12/site-packages/torchvision/models/_utils.py:223: UserWarning: Arguments other than a weight enum or `None` for 'weights' are deprecated since 0.13 and may be removed in the future. The current behavior is equivalent to passing `weights=None`.\n",
      "  warnings.warn(msg)\n"
     ]
    },
    {
     "name": "stdout",
     "output_type": "stream",
     "text": [
      "----------------------> 0.17609819121447026\n",
      "Evaluated Accuracy: 0.1761\n",
      "Testing b_a_r = 0.9992, c_a_r = 0.0240, f_a_r = 0.6151\n"
     ]
    },
    {
     "name": "stderr",
     "output_type": "stream",
     "text": [
      "/home/asufian/.local/share/pipx/venvs/notebook/lib/python3.12/site-packages/torchvision/models/_utils.py:208: UserWarning: The parameter 'pretrained' is deprecated since 0.13 and may be removed in the future, please use 'weights' instead.\n",
      "  warnings.warn(\n",
      "/home/asufian/.local/share/pipx/venvs/notebook/lib/python3.12/site-packages/torchvision/models/_utils.py:223: UserWarning: Arguments other than a weight enum or `None` for 'weights' are deprecated since 0.13 and may be removed in the future. The current behavior is equivalent to passing `weights=None`.\n",
      "  warnings.warn(msg)\n"
     ]
    },
    {
     "name": "stdout",
     "output_type": "stream",
     "text": [
      "----------------------> 0.6439922480620156\n",
      "Evaluated Accuracy: 0.6440\n",
      "Testing b_a_r = 0.9784, c_a_r = 0.1189, f_a_r = 0.5725\n"
     ]
    },
    {
     "name": "stderr",
     "output_type": "stream",
     "text": [
      "/home/asufian/.local/share/pipx/venvs/notebook/lib/python3.12/site-packages/torchvision/models/_utils.py:208: UserWarning: The parameter 'pretrained' is deprecated since 0.13 and may be removed in the future, please use 'weights' instead.\n",
      "  warnings.warn(\n",
      "/home/asufian/.local/share/pipx/venvs/notebook/lib/python3.12/site-packages/torchvision/models/_utils.py:223: UserWarning: Arguments other than a weight enum or `None` for 'weights' are deprecated since 0.13 and may be removed in the future. The current behavior is equivalent to passing `weights=None`.\n",
      "  warnings.warn(msg)\n"
     ]
    },
    {
     "name": "stdout",
     "output_type": "stream",
     "text": [
      "----------------------> 0.625581395348837\n",
      "Evaluated Accuracy: 0.6256\n",
      "Testing b_a_r = 0.0115, c_a_r = 0.0168, f_a_r = 0.5925\n"
     ]
    },
    {
     "name": "stderr",
     "output_type": "stream",
     "text": [
      "/home/asufian/.local/share/pipx/venvs/notebook/lib/python3.12/site-packages/torchvision/models/_utils.py:208: UserWarning: The parameter 'pretrained' is deprecated since 0.13 and may be removed in the future, please use 'weights' instead.\n",
      "  warnings.warn(\n",
      "/home/asufian/.local/share/pipx/venvs/notebook/lib/python3.12/site-packages/torchvision/models/_utils.py:223: UserWarning: Arguments other than a weight enum or `None` for 'weights' are deprecated since 0.13 and may be removed in the future. The current behavior is equivalent to passing `weights=None`.\n",
      "  warnings.warn(msg)\n"
     ]
    },
    {
     "name": "stdout",
     "output_type": "stream",
     "text": [
      "----------------------> 0.6443152454780362\n",
      "Evaluated Accuracy: 0.6443\n",
      "Testing b_a_r = 0.2099, c_a_r = 0.2001, f_a_r = 0.9962\n"
     ]
    },
    {
     "name": "stderr",
     "output_type": "stream",
     "text": [
      "/home/asufian/.local/share/pipx/venvs/notebook/lib/python3.12/site-packages/torchvision/models/_utils.py:208: UserWarning: The parameter 'pretrained' is deprecated since 0.13 and may be removed in the future, please use 'weights' instead.\n",
      "  warnings.warn(\n",
      "/home/asufian/.local/share/pipx/venvs/notebook/lib/python3.12/site-packages/torchvision/models/_utils.py:223: UserWarning: Arguments other than a weight enum or `None` for 'weights' are deprecated since 0.13 and may be removed in the future. The current behavior is equivalent to passing `weights=None`.\n",
      "  warnings.warn(msg)\n"
     ]
    },
    {
     "name": "stdout",
     "output_type": "stream",
     "text": [
      "----------------------> 0.484560723514212\n",
      "Evaluated Accuracy: 0.4846\n",
      "Testing b_a_r = 0.1020, c_a_r = 0.5163, f_a_r = 0.9966\n"
     ]
    },
    {
     "name": "stderr",
     "output_type": "stream",
     "text": [
      "/home/asufian/.local/share/pipx/venvs/notebook/lib/python3.12/site-packages/torchvision/models/_utils.py:208: UserWarning: The parameter 'pretrained' is deprecated since 0.13 and may be removed in the future, please use 'weights' instead.\n",
      "  warnings.warn(\n",
      "/home/asufian/.local/share/pipx/venvs/notebook/lib/python3.12/site-packages/torchvision/models/_utils.py:223: UserWarning: Arguments other than a weight enum or `None` for 'weights' are deprecated since 0.13 and may be removed in the future. The current behavior is equivalent to passing `weights=None`.\n",
      "  warnings.warn(msg)\n"
     ]
    },
    {
     "name": "stdout",
     "output_type": "stream",
     "text": [
      "----------------------> 0.166795865633075\n",
      "Evaluated Accuracy: 0.1668\n",
      "Testing b_a_r = 0.1892, c_a_r = 0.0527, f_a_r = 0.1323\n"
     ]
    },
    {
     "name": "stderr",
     "output_type": "stream",
     "text": [
      "/home/asufian/.local/share/pipx/venvs/notebook/lib/python3.12/site-packages/torchvision/models/_utils.py:208: UserWarning: The parameter 'pretrained' is deprecated since 0.13 and may be removed in the future, please use 'weights' instead.\n",
      "  warnings.warn(\n",
      "/home/asufian/.local/share/pipx/venvs/notebook/lib/python3.12/site-packages/torchvision/models/_utils.py:223: UserWarning: Arguments other than a weight enum or `None` for 'weights' are deprecated since 0.13 and may be removed in the future. The current behavior is equivalent to passing `weights=None`.\n",
      "  warnings.warn(msg)\n"
     ]
    },
    {
     "name": "stdout",
     "output_type": "stream",
     "text": [
      "----------------------> 0.6162790697674418\n",
      "Evaluated Accuracy: 0.6163\n",
      "Testing b_a_r = 0.0038, c_a_r = 0.3817, f_a_r = 0.5534\n"
     ]
    },
    {
     "name": "stderr",
     "output_type": "stream",
     "text": [
      "/home/asufian/.local/share/pipx/venvs/notebook/lib/python3.12/site-packages/torchvision/models/_utils.py:208: UserWarning: The parameter 'pretrained' is deprecated since 0.13 and may be removed in the future, please use 'weights' instead.\n",
      "  warnings.warn(\n",
      "/home/asufian/.local/share/pipx/venvs/notebook/lib/python3.12/site-packages/torchvision/models/_utils.py:223: UserWarning: Arguments other than a weight enum or `None` for 'weights' are deprecated since 0.13 and may be removed in the future. The current behavior is equivalent to passing `weights=None`.\n",
      "  warnings.warn(msg)\n"
     ]
    },
    {
     "name": "stdout",
     "output_type": "stream",
     "text": [
      "----------------------> 0.2361111111111111\n",
      "Evaluated Accuracy: 0.2361\n",
      "Testing b_a_r = 0.0073, c_a_r = 0.0357, f_a_r = 0.5389\n"
     ]
    },
    {
     "name": "stderr",
     "output_type": "stream",
     "text": [
      "/home/asufian/.local/share/pipx/venvs/notebook/lib/python3.12/site-packages/torchvision/models/_utils.py:208: UserWarning: The parameter 'pretrained' is deprecated since 0.13 and may be removed in the future, please use 'weights' instead.\n",
      "  warnings.warn(\n",
      "/home/asufian/.local/share/pipx/venvs/notebook/lib/python3.12/site-packages/torchvision/models/_utils.py:223: UserWarning: Arguments other than a weight enum or `None` for 'weights' are deprecated since 0.13 and may be removed in the future. The current behavior is equivalent to passing `weights=None`.\n",
      "  warnings.warn(msg)\n"
     ]
    },
    {
     "name": "stdout",
     "output_type": "stream",
     "text": [
      "----------------------> 0.6419250645994833\n",
      "Evaluated Accuracy: 0.6419\n",
      "Testing b_a_r = 0.8834, c_a_r = 0.0757, f_a_r = 0.6257\n"
     ]
    },
    {
     "name": "stderr",
     "output_type": "stream",
     "text": [
      "/home/asufian/.local/share/pipx/venvs/notebook/lib/python3.12/site-packages/torchvision/models/_utils.py:208: UserWarning: The parameter 'pretrained' is deprecated since 0.13 and may be removed in the future, please use 'weights' instead.\n",
      "  warnings.warn(\n",
      "/home/asufian/.local/share/pipx/venvs/notebook/lib/python3.12/site-packages/torchvision/models/_utils.py:223: UserWarning: Arguments other than a weight enum or `None` for 'weights' are deprecated since 0.13 and may be removed in the future. The current behavior is equivalent to passing `weights=None`.\n",
      "  warnings.warn(msg)\n"
     ]
    },
    {
     "name": "stdout",
     "output_type": "stream",
     "text": [
      "----------------------> 0.6386304909560725\n",
      "Evaluated Accuracy: 0.6386\n",
      "Testing b_a_r = 0.9956, c_a_r = 0.0008, f_a_r = 0.5586\n"
     ]
    },
    {
     "name": "stderr",
     "output_type": "stream",
     "text": [
      "/home/asufian/.local/share/pipx/venvs/notebook/lib/python3.12/site-packages/torchvision/models/_utils.py:208: UserWarning: The parameter 'pretrained' is deprecated since 0.13 and may be removed in the future, please use 'weights' instead.\n",
      "  warnings.warn(\n",
      "/home/asufian/.local/share/pipx/venvs/notebook/lib/python3.12/site-packages/torchvision/models/_utils.py:223: UserWarning: Arguments other than a weight enum or `None` for 'weights' are deprecated since 0.13 and may be removed in the future. The current behavior is equivalent to passing `weights=None`.\n",
      "  warnings.warn(msg)\n"
     ]
    },
    {
     "name": "stdout",
     "output_type": "stream",
     "text": [
      "----------------------> 0.6427002583979327\n",
      "Evaluated Accuracy: 0.6427\n",
      "Testing b_a_r = 0.0396, c_a_r = 0.0803, f_a_r = 0.5135\n"
     ]
    },
    {
     "name": "stderr",
     "output_type": "stream",
     "text": [
      "/home/asufian/.local/share/pipx/venvs/notebook/lib/python3.12/site-packages/torchvision/models/_utils.py:208: UserWarning: The parameter 'pretrained' is deprecated since 0.13 and may be removed in the future, please use 'weights' instead.\n",
      "  warnings.warn(\n",
      "/home/asufian/.local/share/pipx/venvs/notebook/lib/python3.12/site-packages/torchvision/models/_utils.py:223: UserWarning: Arguments other than a weight enum or `None` for 'weights' are deprecated since 0.13 and may be removed in the future. The current behavior is equivalent to passing `weights=None`.\n",
      "  warnings.warn(msg)\n"
     ]
    },
    {
     "name": "stdout",
     "output_type": "stream",
     "text": [
      "----------------------> 0.6381136950904392\n",
      "Evaluated Accuracy: 0.6381\n",
      "Testing b_a_r = 0.9632, c_a_r = 0.0288, f_a_r = 0.6375\n"
     ]
    },
    {
     "name": "stderr",
     "output_type": "stream",
     "text": [
      "/home/asufian/.local/share/pipx/venvs/notebook/lib/python3.12/site-packages/torchvision/models/_utils.py:208: UserWarning: The parameter 'pretrained' is deprecated since 0.13 and may be removed in the future, please use 'weights' instead.\n",
      "  warnings.warn(\n",
      "/home/asufian/.local/share/pipx/venvs/notebook/lib/python3.12/site-packages/torchvision/models/_utils.py:223: UserWarning: Arguments other than a weight enum or `None` for 'weights' are deprecated since 0.13 and may be removed in the future. The current behavior is equivalent to passing `weights=None`.\n",
      "  warnings.warn(msg)\n"
     ]
    },
    {
     "name": "stdout",
     "output_type": "stream",
     "text": [
      "----------------------> 0.640891472868217\n",
      "Evaluated Accuracy: 0.6409\n",
      "Testing b_a_r = 0.9988, c_a_r = 0.0020, f_a_r = 0.6173\n"
     ]
    },
    {
     "name": "stderr",
     "output_type": "stream",
     "text": [
      "/home/asufian/.local/share/pipx/venvs/notebook/lib/python3.12/site-packages/torchvision/models/_utils.py:208: UserWarning: The parameter 'pretrained' is deprecated since 0.13 and may be removed in the future, please use 'weights' instead.\n",
      "  warnings.warn(\n",
      "/home/asufian/.local/share/pipx/venvs/notebook/lib/python3.12/site-packages/torchvision/models/_utils.py:223: UserWarning: Arguments other than a weight enum or `None` for 'weights' are deprecated since 0.13 and may be removed in the future. The current behavior is equivalent to passing `weights=None`.\n",
      "  warnings.warn(msg)\n"
     ]
    },
    {
     "name": "stdout",
     "output_type": "stream",
     "text": [
      "----------------------> 0.6443798449612402\n",
      "Evaluated Accuracy: 0.6444\n",
      "Testing b_a_r = 0.9844, c_a_r = 0.0778, f_a_r = 0.2008\n"
     ]
    },
    {
     "name": "stderr",
     "output_type": "stream",
     "text": [
      "/home/asufian/.local/share/pipx/venvs/notebook/lib/python3.12/site-packages/torchvision/models/_utils.py:208: UserWarning: The parameter 'pretrained' is deprecated since 0.13 and may be removed in the future, please use 'weights' instead.\n",
      "  warnings.warn(\n",
      "/home/asufian/.local/share/pipx/venvs/notebook/lib/python3.12/site-packages/torchvision/models/_utils.py:223: UserWarning: Arguments other than a weight enum or `None` for 'weights' are deprecated since 0.13 and may be removed in the future. The current behavior is equivalent to passing `weights=None`.\n",
      "  warnings.warn(msg)\n"
     ]
    },
    {
     "name": "stdout",
     "output_type": "stream",
     "text": [
      "----------------------> 0.6161498708010336\n",
      "Evaluated Accuracy: 0.6161\n",
      "\n",
      "✅ Optimal Values:\n",
      "   - b_a_r: 0.9988\n",
      "   - c_a_r: 0.0020\n",
      "   - f_a_r: 0.6173\n",
      "📈 Highest Accuracy Achieved: 0.6444\n"
     ]
    }
   ],
   "source": [
    "import numpy as np\n",
    "import torch\n",
    "import matplotlib.pyplot as plt\n",
    "from skopt import gp_minimize\n",
    "from skopt.space import Real\n",
    "from skopt.utils import use_named_args\n",
    "from skopt.plots import plot_convergence\n",
    "\n",
    "# Device setup\n",
    "device = torch.device(\"cuda\" if torch.cuda.is_available() else \"cpu\")\n",
    "\n",
    "\n",
    "# Define the search space for b_a_r, c_a_r, and f_a_r\n",
    "search_space = [\n",
    "    Real(0.0, 1.0, name=\"b_a_r\"),\n",
    "    Real(0.0, 1.0, name=\"c_a_r\"),\n",
    "    Real(0.0, 1.0, name=\"f_a_r\")\n",
    "]\n",
    "\n",
    "# Define the objective function for Bayesian Optimization\n",
    "@use_named_args(search_space)\n",
    "def objective(b_a_r, c_a_r, f_a_r):\n",
    "    \"\"\"\n",
    "    Objective function to optimize the adaptation ratios.\n",
    "    It applies adaptation, evaluates the model, and returns the negative accuracy.\n",
    "    \"\"\"\n",
    "    accuracy = get_model_accuracy(b_a_r, c_a_r, f_a_r)\n",
    "    print(f\"Evaluated Accuracy: {accuracy:.4f}\")  # Debugging Output\n",
    "    \n",
    "    return -accuracy  # We minimize, so return negative accuracy\n",
    "\n",
    "# Perform Bayesian Optimization with additional settings\n",
    "search_iteration=50\n",
    "res = gp_minimize(\n",
    "    func=objective,\n",
    "    dimensions=search_space,\n",
    "    n_calls=search_iteration,               # Number of evaluations\n",
    "    n_initial_points=5,       # Initial random explorations before GP starts\n",
    "    acq_func=\"EI\",            # Acquisition function: Expected Improvement\n",
    "    random_state=42,          # Ensure reproducibility\n",
    "    n_jobs=-1,                # Parallel execution for faster optimization\n",
    ")\n",
    "\n",
    "# Extract optimal results\n",
    "optimal_b_a_r, optimal_c_a_r, optimal_f_a_r = res.x\n",
    "best_accuracy = -res.fun\n",
    "\n",
    "print(f\"\\n✅ Optimal Values:\")\n",
    "print(f\"   - b_a_r: {optimal_b_a_r:.4f}\")\n",
    "print(f\"   - c_a_r: {optimal_c_a_r:.4f}\")\n",
    "print(f\"   - f_a_r: {optimal_f_a_r:.4f}\")\n",
    "print(f\"📈 Highest Accuracy Achieved: {best_accuracy:.4f}\")\n",
    "\n",
    "\n"
   ]
  },
  {
   "cell_type": "code",
   "execution_count": 79,
   "metadata": {},
   "outputs": [
    {
     "name": "stderr",
     "output_type": "stream",
     "text": [
      "/home/asufian/.local/share/pipx/venvs/notebook/lib/python3.12/site-packages/torchvision/models/_utils.py:208: UserWarning: The parameter 'pretrained' is deprecated since 0.13 and may be removed in the future, please use 'weights' instead.\n",
      "  warnings.warn(\n",
      "/home/asufian/.local/share/pipx/venvs/notebook/lib/python3.12/site-packages/torchvision/models/_utils.py:223: UserWarning: Arguments other than a weight enum or `None` for 'weights' are deprecated since 0.13 and may be removed in the future. The current behavior is equivalent to passing `weights=None`.\n",
      "  warnings.warn(msg)\n"
     ]
    },
    {
     "name": "stdout",
     "output_type": "stream",
     "text": [
      "---Accu-----pre----rec---------> 0.6107 ± 0.0480  0.6174 ± 0.0490  0.6107 ± 0.0480\n"
     ]
    },
    {
     "name": "stderr",
     "output_type": "stream",
     "text": [
      "/home/asufian/.local/share/pipx/venvs/notebook/lib/python3.12/site-packages/torchvision/models/_utils.py:208: UserWarning: The parameter 'pretrained' is deprecated since 0.13 and may be removed in the future, please use 'weights' instead.\n",
      "  warnings.warn(\n",
      "/home/asufian/.local/share/pipx/venvs/notebook/lib/python3.12/site-packages/torchvision/models/_utils.py:223: UserWarning: Arguments other than a weight enum or `None` for 'weights' are deprecated since 0.13 and may be removed in the future. The current behavior is equivalent to passing `weights=None`.\n",
      "  warnings.warn(msg)\n"
     ]
    },
    {
     "name": "stdout",
     "output_type": "stream",
     "text": [
      "---Accu-----pre----rec---------> 0.3665 ± 0.0401  0.3719 ± 0.0368  0.3665 ± 0.0401\n",
      "---Accu-----pre----rec---------> 0.6444 ± 0.0512  0.6542 ± 0.0516  0.6444 ± 0.0512\n"
     ]
    }
   ],
   "source": [
    "convolutional_network_with_dropout =  ResNet18WithDropout(pretrained=False, dr=0.0)\n",
    "convolutional_network_with_dropout.fc = nn.Flatten()\n",
    "\n",
    "xyz = convolutional_network_with_dropout\n",
    "M3 = PrototypicalNetworks_dynamic_query(xyz).to(device)\n",
    "M3.load_state_dict(torch.load('model_own_path.pt'))\n",
    "evaluate2('/home/asufian/Desktop/output_mapii/result_ressnet/base/12_w_10_s_f', test_loader, M3, criterion)\n",
    "# Load Model M2\n",
    "convolutional_network_with_dropout =  ResNet18WithDropout(pretrained=False, dr=0.0)\n",
    "convolutional_network_with_dropout.fc = nn.Flatten()\n",
    "\n",
    "xyz2 = convolutional_network_with_dropout\n",
    "M2 = PrototypicalNetworks_dynamic_query(xyz2).to(device)\n",
    "M2.load_state_dict(torch.load('model_mu_path.pt'))\n",
    "evaluate2(\"/home/asufian/Desktop/output_mapii/result_ressnet/secondary/12_w_10_s_f\", test_loader, M2, criterion)\n",
    "# Update Model M3's weights using a weighted combination of Model M3 and Model M2\n",
    "update_model_weights2(M3, M2, conv_ratio= optimal_c_a_r , fc_ratio=optimal_f_a_r , bias_ratio=optimal_b_a_r)\n",
    "\n",
    "# Assuming you have the evaluate2 function defined\n",
    "# Evaluate the updated model (M3) using evaluate2 function with some arguments\n",
    "evaluate2(\"/home/asufian/Desktop/output_mapii/result_ressnet/amul/12_w_10_s_f\", test_loader, M3, criterion)\n"
   ]
  },
  {
   "cell_type": "code",
   "execution_count": null,
   "metadata": {},
   "outputs": [],
   "source": []
  },
  {
   "cell_type": "code",
   "execution_count": null,
   "metadata": {},
   "outputs": [],
   "source": []
  },
  {
   "cell_type": "code",
   "execution_count": null,
   "metadata": {},
   "outputs": [],
   "source": []
  },
  {
   "cell_type": "code",
   "execution_count": null,
   "metadata": {},
   "outputs": [],
   "source": []
  }
 ],
 "metadata": {
  "kernelspec": {
   "display_name": "Python 3",
   "language": "python",
   "name": "python3"
  },
  "language_info": {
   "codemirror_mode": {
    "name": "ipython",
    "version": 3
   },
   "file_extension": ".py",
   "mimetype": "text/x-python",
   "name": "python",
   "nbconvert_exporter": "python",
   "pygments_lexer": "ipython3",
   "version": "3.8.10"
  }
 },
 "nbformat": 4,
 "nbformat_minor": 5
}
