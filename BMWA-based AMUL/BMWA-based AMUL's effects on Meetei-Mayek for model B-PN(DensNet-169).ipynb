{
 "cells": [
  {
   "cell_type": "code",
   "execution_count": 289,
   "metadata": {},
   "outputs": [],
   "source": [
    "import torch\n",
    "import torch.nn as nn\n",
    "# !pip install easyfsl\n",
    "import torch\n",
    "from torch import nn, optim\n",
    "from torch.utils.data import DataLoader\n",
    "from torchvision import transforms\n",
    "from torchvision.datasets import Omniglot\n",
    "from torchvision.models import resnet18\n",
    "from tqdm import tqdm\n",
    "\n",
    "from easyfsl.samplers import TaskSampler\n",
    "from easyfsl.utils import plot_images, sliding_average\n",
    "\n",
    "class PrototypicalNetworks_dynamic_query(nn.Module):\n",
    "    def __init__(self, backbone: nn.Module):\n",
    "        super(PrototypicalNetworks_dynamic_query, self).__init__()\n",
    "        self.backbone = backbone\n",
    "\n",
    "    def forward(\n",
    "        self,\n",
    "        support_images,\n",
    "        support_labels,\n",
    "        query_images: torch.Tensor,\n",
    "    ) -> torch.Tensor:\n",
    "        \"\"\"\n",
    "        Predict query labels using labeled support images.\n",
    "        \"\"\"\n",
    "        num_classes=len(list(support_labels))\n",
    "        prototypes = []\n",
    "        for class_label in range(num_classes):\n",
    "            # print(type(support_images[class_label]),torch.cat(support_images[class_label].shape)\n",
    "            support_images_eachclass=(support_images[class_label])\n",
    "            # print(\"kk\", support_images_eachclass.shape)\n",
    "            class_features = self.backbone(support_images_eachclass.to(device))  # Select features for the current class\n",
    "            class_prototype = class_features.mean(dim=0)  # Compute the mean along the batch dimension\n",
    "            prototypes.append(class_prototype)\n",
    "        prototypes = torch.stack(prototypes)\n",
    "\n",
    "\n",
    "        distances=[]\n",
    "        for each_query_class in query_images:\n",
    "\n",
    "          query_features = self.backbone(each_query_class)\n",
    "\n",
    "          # Compute the distance between query features and prototypes\n",
    "          distance = torch.cdist(query_features, prototypes)\n",
    "          distances.append(-distance)\n",
    "\n",
    "        # print(distances.shape)\n",
    "\n",
    "        return distances\n"
   ]
  },
  {
   "cell_type": "code",
   "execution_count": 290,
   "metadata": {},
   "outputs": [
    {
     "name": "stdout",
     "output_type": "stream",
     "text": [
      "'MAPI Mayeek'\n"
     ]
    }
   ],
   "source": [
    "!ls '/home/asufian/Desktop/output_olchiki/code/MAPI Mayee'"
   ]
  },
  {
   "cell_type": "code",
   "execution_count": 291,
   "metadata": {},
   "outputs": [],
   "source": [
    "root_path = '/home/asufian/Desktop/output_olchiki/code/MAPI Mayee'"
   ]
  },
  {
   "cell_type": "code",
   "execution_count": 292,
   "metadata": {},
   "outputs": [],
   "source": [
    "import os\n",
    "import random\n",
    "from collections import defaultdict\n",
    "from PIL import Image, ImageOps\n",
    "import torch\n",
    "from torch.utils.data import Dataset, DataLoader\n",
    "from torchvision import transforms\n",
    "\n",
    "class PrototypicalOmniglotDataset(Dataset):\n",
    "    def __init__(self, root, num_classes=1623, n_shot=5, n_query=10, transform=None):\n",
    "        self.root = root\n",
    "        self.num_classes = num_classes\n",
    "        self.n_shot = n_shot\n",
    "        self.n_query = n_query\n",
    "        self.transform = transform\n",
    "        self.samples_by_label = defaultdict(list)\n",
    "        self.all_imgs = {}\n",
    "        self.classes = []\n",
    "\n",
    "        # Common image file extensions\n",
    "        image_extensions = ['.jpg', '.jpeg', '.png', '.bmp', '.gif', '.tiff', '.webp']\n",
    "\n",
    "        # Organize data into classes and image paths\n",
    "        for alphabet in os.listdir(self.root):\n",
    "            alphabet_path = os.path.join(self.root, alphabet)\n",
    "            if not os.path.isdir(alphabet_path):\n",
    "                continue\n",
    "\n",
    "            for char_class in os.listdir(alphabet_path):\n",
    "                char_class_path = os.path.join(alphabet_path, char_class)\n",
    "\n",
    "                # Skip if the entry is not a directory\n",
    "                if not os.path.isdir(char_class_path):\n",
    "                    continue\n",
    "\n",
    "                all_images = []\n",
    "                for img_name in sorted(os.listdir(char_class_path)):\n",
    "                    img_path = os.path.join(char_class_path, img_name)\n",
    "\n",
    "                    # Check if it's a file with a recognized image extension\n",
    "                    if os.path.isfile(img_path) and any(img_name.lower().endswith(ext) for ext in image_extensions):\n",
    "                        all_images.append(img_path)\n",
    "\n",
    "                if all_images:\n",
    "                    char_class_name = f\"{alphabet}_{char_class}\"\n",
    "                    self.samples_by_label[char_class_name] = list(range(len(all_images)))\n",
    "                    self.all_imgs[char_class_name] = all_images\n",
    "                    self.classes.append(char_class_name)\n",
    "                    # print(char_class_name)\n",
    "\n",
    "    # def transform_image(self, raw_img):\n",
    "    #     img = ImageOps.invert(raw_img)\n",
    "    #     if self.transform is not None:\n",
    "    #         img = self.transform(img)\n",
    "    #     return img\n",
    "    def transform_image(self, raw_img):\n",
    "        img = raw_img#ImageOps.invert(raw_img)\n",
    "        if self.transform is not None:\n",
    "            # print(self.transform)\n",
    "            img = self.transform(img)\n",
    "        # print(img.shape)\n",
    "        return img\n",
    "\n",
    "    def __getitem__(self, selected_classes,selected_supports):#\n",
    "        # selected_classes = random.sample(self.classes, self.num_classes)\n",
    "        class_indices = [self.samples_by_label[each_cls] for each_cls in selected_classes]\n",
    "        # print(\"selected_classes: \",selected_classes)\n",
    "        support_set = []\n",
    "        query_set = []\n",
    "        label_id = 0\n",
    "        qs=[]\n",
    "        ko=0\n",
    "        ghj=[]\n",
    "        for idx_set in class_indices:\n",
    "            # Creating support set\n",
    "            selected_support =selected_supports[ko]# random.sample(idx_set, self.n_shot)\n",
    "            ko=ko+1\n",
    "            ghj.append(selected_support)\n",
    "            # print(\"selected_support images: \", ghj)\n",
    "            support_images = [self.transform_image(Image.open(self.all_imgs[selected_classes[label_id]][each]).convert('L')) for each in selected_support]\n",
    "\n",
    "            # Creating query set\n",
    "            selected_query = [item for item in idx_set if item not in selected_support]\n",
    "            query_images = [self.transform_image(Image.open(self.all_imgs[selected_classes[label_id]][each]).convert('L')) for each in selected_query]\n",
    "            support_set.append((support_images, [label_id for _ in range(self.n_shot)]))\n",
    "            # print(\"aaaaaaaaaa\",label_id)\n",
    "            query_set.append((query_images,  [label_id for _ in range(len(selected_query))]))\n",
    "\n",
    "            label_id += 1\n",
    "            # qs= [item for item in a for _ in range(self.n_query)]\n",
    "        return support_set, query_set\n",
    "\n",
    "    def __len__(self):\n",
    "        return 10\n",
    "\n",
    "# Set up the transformations\n",
    "transform = transforms.Compose([\n",
    "    transforms.Grayscale(num_output_channels=1),  # Convert to grayscale\n",
    "    transforms.ToTensor(),\n",
    "])\n",
    "\n",
    "# Set up the SiameseOmniglotDataset\n",
    "# Training == evaluation\n",
    "# root_path = './assamese'\n",
    "num_classes = 5  # Set the desired number of classes per episode\n",
    "n_shot = 5\n",
    "n_query = 10\n",
    "\n",
    "PrototypicalOmniglotDatasetLoader = PrototypicalOmniglotDataset(root=root_path, num_classes=num_classes, n_shot=n_shot, n_query=n_query, transform=transform)\n"
   ]
  },
  {
   "cell_type": "code",
   "execution_count": 293,
   "metadata": {},
   "outputs": [],
   "source": [
    "import torch\n",
    "import torch.nn as nn\n",
    "\n",
    "class PrototypicalNetworks_dynamic_query(nn.Module):\n",
    "    def __init__(self, backbone: nn.Module):\n",
    "        super(PrototypicalNetworks_dynamic_query, self).__init__()\n",
    "        self.backbone = backbone\n",
    "\n",
    "    def forward(\n",
    "        self,\n",
    "        support_images,\n",
    "        support_labels,\n",
    "        query_images: torch.Tensor,\n",
    "    ) -> torch.Tensor:\n",
    "        \"\"\"\n",
    "        Predict query labels using labeled support images.\n",
    "        \"\"\"\n",
    "        num_classes=len(list(support_labels))\n",
    "        prototypes = []\n",
    "        for class_label in range(num_classes):\n",
    "            # print(type(support_images[class_label]),torch.cat(support_images[class_label].shape)\n",
    "            support_images_eachclass=(support_images[class_label])\n",
    "            # print(\"kk\", support_images_eachclass.shape)\n",
    "            class_features = self.backbone(support_images_eachclass.to(device))  # Select features for the current class\n",
    "            class_prototype = class_features.mean(dim=0)  # Compute the mean along the batch dimension\n",
    "            prototypes.append(class_prototype)\n",
    "        prototypes = torch.stack(prototypes)\n",
    "\n",
    "\n",
    "        distances=[]\n",
    "        for each_query_class in query_images:\n",
    "\n",
    "          query_features = self.backbone(each_query_class)\n",
    "\n",
    "          # Compute the distance between query features and prototypes\n",
    "          distance = torch.cdist(query_features, prototypes)\n",
    "          distances.append(-distance)\n",
    "\n",
    "        # print(distances.shape)\n",
    "\n",
    "        return distances\n"
   ]
  },
  {
   "cell_type": "code",
   "execution_count": 294,
   "metadata": {},
   "outputs": [],
   "source": [
    "class PrototypicalNetworks33(nn.Module):\n",
    "    def __init__(self, backbone: nn.Module):\n",
    "        super(PrototypicalNetworks33, self).__init__()\n",
    "        self.backbone = backbone\n",
    "\n",
    "    def forward(\n",
    "        self,\n",
    "        support_images,\n",
    "        support_labels,\n",
    "        query_images: torch.Tensor,\n",
    "    ) -> torch.Tensor:\n",
    "        num_classes = len(support_labels)\n",
    "        prototypes = []\n",
    "        for class_label in range(num_classes):\n",
    "            support_images_eachclass = support_images[class_label]\n",
    "            class_features = torch.stack([self.backbone(each.unsqueeze(0)) for each in support_images_eachclass])\n",
    "            prototype_bymean = class_features.mean(dim=0)\n",
    "            # print(prototype_bymean.shape)\n",
    "            prototypes.append(prototype_bymean)\n",
    "\n",
    "        query_features = torch.stack([self.backbone(each.unsqueeze(0)) for each in query_images])\n",
    "        # print(query_features.shape,query_features[0].shape,torch.stack(prototypes).shape,torch.stack(prototypes)[0].shape)\n",
    "        # distances = -torch.cdist(query_features, torch.stack(prototypes))\n",
    "        distances = []  # Initialize list to store distances\n",
    "        prototypes=torch.stack(prototypes)\n",
    "        for each_query_feature in query_features:\n",
    "            d = torch.cdist(prototypes, each_query_feature)  # Compute distances\n",
    "            distances.append(d.squeeze())  # Remove singleton dimension and store\n",
    "            # print(d.shape)  # Output: [5, 1], shape of each distance matrix\n",
    "\n",
    "        distances = torch.stack(distances)\n",
    "\n",
    "        return -distances\n"
   ]
  },
  {
   "cell_type": "code",
   "execution_count": 295,
   "metadata": {},
   "outputs": [],
   "source": []
  },
  {
   "cell_type": "code",
   "execution_count": 296,
   "metadata": {},
   "outputs": [],
   "source": [
    "import pandas as pd\n",
    "import os\n",
    "import csv\n",
    "def save_in_csv(cls,flnm,conf_matrix, acciuracy,precision_overall, recall_overall, f_betas):\n",
    "  with open(flnm, 'w', newline='') as csvfile:\n",
    "      writer = csv.writer(csvfile)\n",
    "      headers=['Accuracy', 'Precision', 'Recall']\n",
    "      beta=-5\n",
    "      values=[]\n",
    "      values.append(acciuracy)\n",
    "      values.append(precision_overall)\n",
    "      values.append(recall_overall)\n",
    "      for each in f_betas:\n",
    "              headers.append('F-betas (' +str(beta)+' )')\n",
    "              beta=beta+1\n",
    "              values.append(each)\n",
    "\n",
    "    # Write confusion matrix\n",
    "      writer.writerow(['used Class:'])\n",
    "      writer.writerows([cls])\n",
    "      writer.writerow([])\n",
    "      writer.writerow([])\n",
    "      writer.writerow(['Confusion Matrix'])\n",
    "      writer.writerows(conf_matrix)\n",
    "      writer.writerow([])\n",
    "      writer.writerow([])  # Add an empty row for separation\n",
    "\n",
    "      # Write metrics\n",
    "\n",
    "      writer.writerow(headers)\n",
    "      writer.writerow(values)\n",
    "\n",
    "\n",
    "  # print(\"Metrics have been written to 'metrics.csv' file.\")\n",
    "def save_in_text_file(msg,cls, flnm, conf_matrix, accuracy, precision_overall, recall_overall, f_betas):\n",
    "    with open(flnm, 'a') as textfile:\n",
    "        textfile.write(str(\"\\n\\n\\n                                 \"+msg))\n",
    "        textfile.write(\"\\n\\n\\n\")\n",
    "        textfile.write(\"used Class:\\n\")\n",
    "        textfile.write(str(cls) + \"\\n\\n\")\n",
    "\n",
    "        textfile.write(\"Confusion Matrix:\\n\")\n",
    "        for row in conf_matrix:\n",
    "            textfile.write(' '.join([str(elem) for elem in row]) + \"\\n\")\n",
    "        textfile.write(\"\\n\")\n",
    "\n",
    "        textfile.write(\"Metrics:\\n\")\n",
    "        textfile.write(\"Accuracy: {}\\n\".format(accuracy))\n",
    "        textfile.write(\"Precision: {}\\n\".format(precision_overall))\n",
    "        textfile.write(\"Recall: {}\\n\".format(recall_overall))\n",
    "\n",
    "        beta = -5\n",
    "        for f_beta in f_betas:\n",
    "            textfile.write(\"F-betas ({}): {}\\n\".format(beta, f_beta))\n",
    "            beta += 1\n",
    "\n",
    "    # print(\"Metrics have been written to '{}' file.\".format(flnm))\n",
    "\n",
    "def save_in_excel_final(msg, cls, flnm, conf_matrix, accuracy, precision_overall, recall_overall):\n",
    "    data = {\n",
    "        \"Used Class\": [cls],\n",
    "        \"Used support images idx\": [msg],\n",
    "        \"Confusion Matrix\": [conf_matrix],\n",
    "        \"Accuracy\": [accuracy],\n",
    "        \"Precision\": [precision_overall],\n",
    "        \"Recall\": [recall_overall]\n",
    "    }\n",
    "    # for i, f_beta in enumerate(f_betas):\n",
    "    #     data[f\"F-beta ({i - 5})\"] = [f_beta]\n",
    "\n",
    "    df_new = pd.DataFrame(data)\n",
    "    df_new = df_new.transpose()  # Transpose the DataFrame\n",
    "\n",
    "    if os.path.exists(flnm):\n",
    "        df_existing = pd.read_excel(flnm, index_col=0)  # Read existing file\n",
    "        df_combined = pd.concat([df_existing, df_new], axis=1)  # Concatenate along columns\n",
    "        df_combined.to_excel(flnm)  # Write to Excel\n",
    "    else:\n",
    "        df_new.to_excel(flnm)  # Write new DataFrame to Excel\n",
    "\n",
    "    # print(\"Metrics have been written to '{}' file.\".format(flnm))\n"
   ]
  },
  {
   "cell_type": "code",
   "execution_count": 297,
   "metadata": {},
   "outputs": [],
   "source": [
    "import torch\n",
    "import torch.nn as nn\n",
    "import torchvision.models as models\n",
    "import torch\n",
    "import torch.nn as nn\n",
    "import torch.hub\n",
    "\n",
    "# Define a modified version of DenseNet169 with dropout after each convolutional layer\n",
    "class DenseNet169WithDropout(nn.Module):\n",
    "    def __init__(self,modell, pretrained=False, dr=0.4):\n",
    "        super(DenseNet169WithDropout, self).__init__()\n",
    "        self.densenet169 = torch.hub.load('pytorch/vision:v0.10.0', modell, pretrained=pretrained)\n",
    "        self.dropout = nn.Dropout(p=dr)  # Dropout with probability 0.5\n",
    "\n",
    "        # Modify each dense block to include dropout after each convolutional layer\n",
    "        for name, module in self.densenet169.features.named_children():\n",
    "            if isinstance(module, nn.Sequential):\n",
    "                for sub_name, sub_module in module.named_children():\n",
    "                    if isinstance(sub_module, nn.Conv2d):\n",
    "                        setattr(module, sub_name, nn.Sequential(sub_module, self.dropout))\n",
    "\n",
    "    def forward(self, x):\n",
    "        return self.densenet169(x)\n",
    "\n",
    "# Instantiate the modified DenseNet169 model with dropout\n",
    "# convolutional_network_with_dropout = DenseNet169WithDropout(modell='resnet18',pretrained=False,dr=0.4)\n",
    "\n",
    "# Example usage:\n",
    "# output = convolutional_network_with_dropout(input_tensor)\n",
    "\n",
    "class ResNet18WithDropout(nn.Module):\n",
    "    def __init__(self, pretrained=False, dr=0.4):\n",
    "        super(ResNet18WithDropout, self).__init__()\n",
    "        self.resnet18 = models.resnet18(pretrained=pretrained)\n",
    "        self.dropout = nn.Dropout(p=dr)\n",
    "\n",
    "        # Modify each residual block to include dropout after each convolutional layer\n",
    "        for name, module in self.resnet18.named_children():\n",
    "            if isinstance(module, nn.Sequential):\n",
    "                for sub_name, sub_module in module.named_children():\n",
    "                    if isinstance(sub_module, nn.Conv2d):\n",
    "                        setattr(module, sub_name, nn.Sequential(sub_module, self.dropout))\n",
    "\n",
    "    def forward(self, x):\n",
    "        return self.resnet18(x)\n",
    "\n",
    "# Instantiate the modified ResNet18 model with dropout\n",
    "# convolutional_network_with_dropout = ResNet18WithDropout(pretrained=False, dr=0.4)\n"
   ]
  },
  {
   "cell_type": "code",
   "execution_count": 449,
   "metadata": {},
   "outputs": [],
   "source": [
    "\n",
    "\n",
    "clss_5=[\n",
    "     ['MAPI Mayeek_GHOU', 'MAPI Mayeek_JIL', 'MAPI Mayeek_SAM', 'MAPI Mayeek_KOK', 'MAPI Mayeek_MIT'],\n",
    "      ['MAPI Mayeek_KOK', 'MAPI Mayeek_DIL', 'MAPI Mayeek_PAA', 'MAPI Mayeek_ATIYA', 'MAPI Mayeek_MIT'],\n",
    "     ['MAPI Mayeek_DHOU', 'MAPI Mayeek_KOK', 'MAPI Mayeek_RAAI', 'MAPI Mayeek_TIL', 'MAPI Mayeek_GHOU'],\n",
    "      ['MAPI Mayeek_FAM', 'MAPI Mayeek_JHAM', 'MAPI Mayeek_LAI', 'MAPI Mayeek_PAA', 'MAPI Mayeek_KOK'],\n",
    "     ['MAPI Mayeek_KOK', 'MAPI Mayeek_GHOU', 'MAPI Mayeek_DHOU', 'MAPI Mayeek_MIT', 'MAPI Mayeek_WAI'],\n",
    "['MAPI Mayeek_KOK', 'MAPI Mayeek_GHOU', 'MAPI Mayeek_DHOU', 'MAPI Mayeek_MIT', 'MAPI Mayeek_WAI'],\n",
    "     ['MAPI Mayeek_NAA', 'MAPI Mayeek_DHOU', 'MAPI Mayeek_BAA', 'MAPI Mayeek_LAI', 'MAPI Mayeek_RAAI'],\n",
    "     ['MAPI Mayeek_RAAI', 'MAPI Mayeek_FAM', 'MAPI Mayeek_GOK', 'MAPI Mayeek_DHOU', 'MAPI Mayeek_SAM'],\n",
    "     ['MAPI Mayeek_EEE', 'MAPI Mayeek_KOK', 'MAPI Mayeek_JHAM', 'MAPI Mayeek_BHAM', 'MAPI Mayeek_WAI'],\n",
    "     ['MAPI Mayeek_DHOU', 'MAPI Mayeek_RAAI', 'MAPI Mayeek_NGOU', 'MAPI Mayeek_UUN', 'MAPI Mayeek_LAI'],\n",
    "     ['MAPI Mayeek_HUK', 'MAPI Mayeek_FAM', 'MAPI Mayeek_BHAM', 'MAPI Mayeek_THOU', 'MAPI Mayeek_SAM'],\n",
    "     ['MAPI Mayeek_MIT', 'MAPI Mayeek_LAI', 'MAPI Mayeek_DIL', 'MAPI Mayeek_ATIYA', 'MAPI Mayeek_BHAM'],\n",
    "     ['MAPI Mayeek_NGOU', 'MAPI Mayeek_FAM', 'MAPI Mayeek_ATIYA', 'MAPI Mayeek_MIT', 'MAPI Mayeek_JHAM'],\n",
    "     ['MAPI Mayeek_GOK', 'MAPI Mayeek_ATIYA', 'MAPI Mayeek_LAI', 'MAPI Mayeek_NGOU', 'MAPI Mayeek_KHOU'],\n",
    "['MAPI Mayeek_HUK', 'MAPI Mayeek_DIL', 'MAPI Mayeek_KOK', 'MAPI Mayeek_PAA', 'MAPI Mayeek_LAI']\n",
    "\n",
    "     ]\n",
    "\n",
    "clss_support_imagesss_1_shot=[[[3], [56], [93], [62], [23]],\n",
    "             [[34], [18], [31], [40], [39]],\n",
    "             [[54], [61], [9], [50], [93]],\n",
    "             [[85], [9], [35], [6], [36]],\n",
    "             [[93], [87], [60], [26], [35]],\n",
    "             [[2], [39], [84], [38], [30]],\n",
    "             [[6], [12], [43], [65], [66]],\n",
    "             [[6], [66], [6], [13], [89]],\n",
    "             [[50], [70], [13], [61], [7]],\n",
    "             [[54], [58], [26], [75], [51]],\n",
    "             [[14], [27], [92], [76], [27]],\n",
    "             [[47], [34], [84], [45], [82]],\n",
    "             [[63], [69], [25], [80], [61]],\n",
    "             [[13], [41], [57], [13], [46]],\n",
    "             [[58], [92], [48], [92], [35]]\n",
    "]\n",
    "\n",
    "clss_support_imagesss_5_shot=[[[3, 21, 2, 72, 87], [56, 22, 58, 3, 24], [93, 76, 48, 81, 68], [62, 82, 2, 87, 69], [23, 73, 83, 92, 55]], [[34, 22, 25, 30, 74], [18, 70, 45, 20, 46], [31, 83, 42, 49, 14], [40, 87, 93, 12, 92], [39, 20, 70, 74, 84]], [[54, 11, 2, 80, 8], [61, 72, 52, 17, 95], [9, 2, 37, 15, 26], [50, 48, 2, 79, 63], [93, 48, 0, 24, 89]], [[85, 19, 68, 55, 56], [9, 42, 35, 93, 43], [35, 29, 91, 2, 68], [6, 56, 30, 50, 25], [36, 42, 19, 21, 41]], [[93, 9, 38, 61, 68], [87, 33, 27, 36, 53], [60, 21, 53, 49, 17], [26, 2, 11, 62, 4], [35, 78, 30, 79, 84]], [[2, 70, 12, 56, 5], [39, 59, 30, 45, 95], [84, 86, 14, 66, 54], [38, 54, 9, 46, 34], [30, 72, 47, 6, 26]], [[6, 1, 61, 70, 8], [12, 33, 77, 55, 51], [43, 56, 94, 74, 45], [65, 27, 13, 11, 6], [66, 93, 36, 68, 27]], [[6, 3, 81, 24, 20], [66, 73, 68, 55, 76], [6, 14, 55, 3, 38], [13, 86, 45, 89, 18], [89, 65, 74, 8, 42]], [[50, 91, 0, 7, 51], [70, 50, 17, 33, 64], [13, 32, 8, 38, 72], [61, 43, 74, 86, 95], [7, 34, 70, 20, 36]], [[54, 61, 75, 15, 50], [58, 7, 51, 93, 56], [26, 89, 91, 57, 24], [75, 49, 33, 88, 50], [51, 92, 53, 54, 52]], [[14, 80, 78, 27, 3], [27, 69, 59, 63, 93], [92, 60, 56, 86, 64], [76, 30, 64, 49, 12], [27, 30, 35, 64, 56]], [[47, 94, 69, 51, 5], [34, 28, 59, 14, 67], [84, 34, 23, 5, 16], [45, 0, 57, 88, 76], [82, 78, 30, 12, 49]], [[63, 89, 62, 51, 88], [69, 75, 83, 49, 45], [25, 71, 45, 26, 72], [80, 92, 22, 41, 62], [61, 25, 40, 14, 94]], [[13, 82, 90, 45, 14], [41, 60, 79, 40, 67], [57, 94, 27, 77, 5], [13, 24, 54, 1, 94], [46, 62, 69, 2, 85]], [[58, 5, 69, 35, 30], [92, 88, 79, 58, 31], [48, 43, 78, 9, 15], [92, 87, 34, 6, 75], [35, 16, 4, 21, 46]]]\n",
    "\n",
    "clss_support_imagesss_10_shot=[[[3, 21, 2, 72, 87, 60, 81, 24, 28, 0], [56, 22, 58, 3, 24, 6, 89, 25, 59, 39], [93, 76, 48, 81, 68, 39, 40, 17, 58, 89], [62, 82, 2, 87, 69, 65, 4, 35, 9, 59], [23, 73, 83, 92, 55, 14, 82, 38, 6, 70]], [[34, 22, 25, 30, 74, 12, 26, 79, 63, 78], [18, 70, 45, 20, 46, 77, 23, 35, 29, 22], [31, 83, 42, 49, 14, 74, 32, 41, 72, 55], [40, 87, 93, 12, 92, 32, 73, 16, 44, 83], [39, 20, 70, 74, 84, 73, 87, 88, 66, 54]], [[54, 11, 2, 80, 8, 93, 75, 35, 86, 50], [61, 72, 52, 17, 95, 26, 46, 64, 88, 40], [9, 2, 37, 15, 26, 59, 32, 24, 83, 51], [50, 48, 2, 79, 63, 42, 64, 81, 72, 58], [93, 48, 0, 24, 89, 74, 42, 88, 71, 35]], [[85, 19, 68, 55, 56, 14, 93, 49, 90, 9], [9, 42, 35, 93, 43, 89, 4, 92, 84, 33], [35, 29, 91, 2, 68, 51, 52, 39, 59, 85], [6, 56, 30, 50, 25, 38, 85, 84, 93, 47], [36, 42, 19, 21, 41, 72, 62, 86, 25, 18]], [[93, 9, 38, 61, 68, 22, 48, 77, 45, 76], [87, 33, 27, 36, 53, 77, 90, 93, 39, 9], [60, 21, 53, 49, 17, 41, 36, 81, 63, 7], [26, 2, 11, 62, 4, 3, 66, 82, 7, 0], [35, 78, 30, 79, 84, 67, 65, 19, 66, 41]], [[2, 70, 12, 56, 5, 1, 76, 53, 69, 73], [39, 59, 30, 45, 95, 60, 85, 62, 70, 67], [84, 86, 14, 66, 54, 24, 63, 52, 93, 49], [38, 54, 9, 46, 34, 84, 8, 35, 7, 55], [30, 72, 47, 6, 26, 48, 13, 67, 19, 52]], [[6, 1, 61, 70, 8, 79, 46, 62, 85, 95], [12, 33, 77, 55, 51, 0, 19, 42, 85, 69], [43, 56, 94, 74, 45, 95, 29, 6, 0, 4], [65, 27, 13, 11, 6, 53, 16, 5, 4, 47], [66, 93, 36, 68, 27, 86, 60, 70, 58, 57]], [[6, 3, 81, 24, 20, 59, 32, 73, 91, 22], [66, 73, 68, 55, 76, 41, 91, 88, 59, 74], [6, 14, 55, 3, 38, 19, 85, 34, 62, 10], [13, 86, 45, 89, 18, 22, 59, 11, 73, 72], [89, 65, 74, 8, 42, 85, 48, 29, 50, 13]], [[50, 91, 0, 7, 51, 19, 11, 78, 59, 13], [70, 50, 17, 33, 64, 92, 94, 84, 54, 81], [13, 32, 8, 38, 72, 51, 66, 85, 62, 74], [61, 43, 74, 86, 95, 80, 32, 59, 50, 77], [7, 34, 70, 20, 36, 30, 67, 9, 94, 43]], [[54, 61, 75, 15, 50, 24, 37, 84, 27, 52], [58, 7, 51, 93, 56, 38, 35, 82, 46, 50], [26, 89, 91, 57, 24, 7, 86, 12, 3, 44], [75, 49, 33, 88, 50, 82, 8, 12, 81, 56], [51, 92, 53, 54, 52, 26, 27, 74, 22, 72]], [[14, 80, 78, 27, 3, 1, 6, 32, 81, 2], [27, 69, 59, 63, 93, 3, 5, 44, 19, 94], [92, 60, 56, 86, 64, 47, 48, 24, 79, 38], [76, 30, 64, 49, 12, 15, 14, 1, 28, 21], [27, 30, 35, 64, 56, 92, 53, 0, 60, 41]], [[47, 94, 69, 51, 5, 93, 22, 78, 73, 36], [34, 28, 59, 14, 67, 48, 74, 6, 46, 10], [84, 34, 23, 5, 16, 40, 28, 92, 20, 12], [45, 0, 57, 88, 76, 69, 17, 23, 77, 61], [82, 78, 30, 12, 49, 10, 79, 2, 50, 19]], [[63, 89, 62, 51, 88, 28, 34, 64, 16, 78], [69, 75, 83, 49, 45, 19, 23, 72, 3, 0], [25, 71, 45, 26, 72, 43, 27, 41, 81, 94], [80, 92, 22, 41, 62, 87, 5, 33, 12, 49], [61, 25, 40, 14, 94, 85, 46, 67, 87, 30]], [[13, 82, 90, 45, 14, 31, 46, 18, 92, 40], [41, 60, 79, 40, 67, 92, 64, 86, 72, 13], [57, 94, 27, 77, 5, 89, 6, 12, 52, 30], [13, 24, 54, 1, 94, 40, 64, 35, 6, 51], [46, 62, 69, 2, 85, 34, 0, 28, 11, 1]], [[58, 5, 69, 35, 30, 28, 4, 22, 21, 25], [92, 88, 79, 58, 31, 25, 15, 34, 9, 38], [48, 43, 78, 9, 15, 73, 91, 65, 52, 13], [92, 87, 34, 6, 75, 44, 83, 55, 47, 29], [35, 16, 4, 21, 46, 56, 14, 59, 43, 19]]]\n"
   ]
  },
  {
   "cell_type": "code",
   "execution_count": 391,
   "metadata": {},
   "outputs": [
    {
     "name": "stdout",
     "output_type": "stream",
     "text": [
      "'ammmul on olchiki table4.ipynb'\n",
      "'Amul_mapi traning dens169-Copy1.ipynb'\n",
      "'Amul_mapi traning dens169.ipynb'\n",
      "'Amul_mapi traning resnet.ipynb'\n",
      "'Amul_olchiki traning dens169.ipynb'\n",
      "'Amul_olchiki traning lwcnn.ipynb'\n",
      "'Amul_olchiki traning resnet18.ipynb'\n",
      "'Applying_AMWL(BMWA)_on_dnsnet_(with_Bise_ratio)_on_Test_Dataset_1_Assemese_Script_(1) (1).ipynb'\n",
      "'Applying_AMWL(BMWA)_on_LWCNN_(with Bise ratio)_on_Test_Dataset_1_Assemese_Script.ipynb'\n",
      " asamese\n",
      " asamese_sce\n",
      "'assameseAshish (1).zip'\n",
      "'MAPI Mayee'\n",
      "'MAPI Mayeek.zip'\n",
      " mapi_sce\n",
      " modelrdnet_169_55.pth\n",
      "'modelr_res18_35 (1).pth'\n",
      " olchiki\n",
      "'olchiki table1-Copy1.ipynb'\n",
      "'olchiki table1.ipynb'\n",
      " own_80.pth\n",
      " own_ass_5_way_1_shot.txt\n",
      " own_ass_5_way_1_shot.xlsx\n",
      "'Result_generatoow_nmodl_assamses_(1)(1)_(2).ipynb'\n",
      "'Testing on Test Dataset:1(Assamese Script) (15 case)_ (for B-PN(resnet18&densNet169) and LWCNN-PN _togather.ipynb-Copy1.ipynb'\n",
      "'Testing on Test Dataset:1(Assamese Script) (15 case)_ (for B-PN(resnet18&densNet169) and LWCNN-PN _togather.ipynb.ipynb'\n",
      "'Testing_on_Test_Dataset_2(Meetei-Mayek_Script)_(15_case)__(for_B_PN(resnet18&densNet169)_and_LWCNN_PN__togather_ipynb.ipynb'\n",
      " Untitled\n",
      " Untitled1.ipynb\n"
     ]
    }
   ],
   "source": [
    "!ls /home/asufian/Desktop/output_olchiki/code/"
   ]
  },
  {
   "cell_type": "code",
   "execution_count": 392,
   "metadata": {},
   "outputs": [
    {
     "name": "stderr",
     "output_type": "stream",
     "text": [
      "Using cache found in /home/asufian/.cache/torch/hub/pytorch_vision_v0.10.0\n",
      "Using cache found in /home/asufian/.cache/torch/hub/pytorch_vision_v0.10.0\n"
     ]
    }
   ],
   "source": [
    "device = torch.device(\"cuda\" if torch.cuda.is_available() else \"cpu\")\n",
    "\n",
    "!rm 'model_own_path.pt'\n",
    "!rm 'model_mu_path.pt'\n",
    "\n",
    "convolutional_network_with_dropout =  DenseNet169WithDropout(modell='densenet169',pretrained=False,dr=0.0)\n",
    "convolutional_network_with_dropout.fc = nn.Flatten()\n",
    "\n",
    "model_own = PrototypicalNetworks_dynamic_query(convolutional_network_with_dropout).to(device)\n",
    "model_own.load_state_dict(torch.load('/home/asufian/Desktop/output_olchiki/code/modelrdnet.pth',map_location=torch.device('cpu')))\n",
    "\n",
    "convolutional_network_with_dropout =  DenseNet169WithDropout(modell='densenet169',pretrained=False,dr=0.0)\n",
    "convolutional_network_with_dropout.fc = nn.Flatten()\n",
    "\n",
    "model_own_1_shot = PrototypicalNetworks_dynamic_query(convolutional_network_with_dropout).to(device)\n",
    "model_own_1_shot.load_state_dict(torch.load('/home/asufian/Desktop/output_olchiki/code/mapi_sce/Denssecondary/model_1/model_B_mapi_1-shot_dens.pth',map_location=torch.device('cpu')))\n",
    "torch.save(model_own_1_shot.state_dict(), 'model_mu_path.pt')\n",
    "torch.save(model_own.state_dict(), 'model_own_path.pt')"
   ]
  },
  {
   "cell_type": "code",
   "execution_count": 393,
   "metadata": {},
   "outputs": [],
   "source": [
    "# !ls '/home/asufian/Desktop/output_olchiki'"
   ]
  },
  {
   "cell_type": "code",
   "execution_count": 394,
   "metadata": {},
   "outputs": [],
   "source": [
    "criterion = nn.CrossEntropyLoss()"
   ]
  },
  {
   "cell_type": "code",
   "execution_count": 395,
   "metadata": {},
   "outputs": [
    {
     "data": {
      "text/plain": [
       "'/home/asufian/Desktop/output_olchiki/code/MAPI Mayee'"
      ]
     },
     "execution_count": 395,
     "metadata": {},
     "output_type": "execute_result"
    }
   ],
   "source": [
    "root_path"
   ]
  },
  {
   "cell_type": "code",
   "execution_count": 396,
   "metadata": {},
   "outputs": [
    {
     "name": "stdout",
     "output_type": "stream",
     "text": [
      "Generated random values - num_classes: 5, n_shot: 1, n_query: 14\n"
     ]
    }
   ],
   "source": [
    "import torch\n",
    "import torchvision.transforms as transforms\n",
    "from torch.utils.data import DataLoader\n",
    "from sklearn.metrics import confusion_matrix\n",
    "import numpy as np\n",
    "import numpy as np\n",
    "import pandas as pd\n",
    "# root_path = '/content/assamese'\n",
    "num_classes = 5\n",
    "n_shot = 1\n",
    "n_query = 14\n",
    "device = torch.device(\"cuda\" if torch.cuda.is_available() else \"cpu\")\n",
    "transformt_ugh = transforms.Compose([\n",
    "    transforms.Resize((64, 64)),\n",
    "    # transforms.RandomResizedCrop(64),  # Randomly crop the image and resize to 224x224\n",
    "    # transforms.RandomHorizontalFlip(),  # Randomly flip the image horizontally\n",
    "    # transforms.ColorJitter(brightness=0.4, contrast=0.4, saturation=0.4, hue=0.1),  # Randomly adjust brightness, contrast, saturation, and hue\n",
    "    # transforms.RandomAffine(degrees=0, translate=(0, 0), scale=(0.9, 1.1), shear=0),  # Random zoom (scaling)\n",
    "    transforms.Grayscale(num_output_channels=3),\n",
    "    transforms.ToTensor(),  # Convert PIL Image to PyTorch Tensor\n",
    "    transforms.Normalize([0.485, 0.456, 0.406], [0.229, 0.224, 0.225])  # Normalize the image with ImageNet statistics\n",
    "])\n",
    "\n",
    "print(f\"Generated random values - num_classes: {num_classes}, n_shot: {n_shot}, n_query: {n_query}\")\n",
    "\n",
    "test_loader = PrototypicalOmniglotDataset(root=root_path, num_classes=num_classes, n_shot=n_shot, n_query=20, transform=transformt_ugh)\n",
    "\n",
    "def evaluate2(fname,data_loader, model, criterion=nn.CrossEntropyLoss()):\n",
    "    total_predictions = 0\n",
    "    correct_predictions = 0\n",
    "    total_loss = 0.0\n",
    "    accuracy = 0\n",
    "    datta = \"\"\n",
    "    model.eval()\n",
    "    tlv_cls=0\n",
    "    ttla=0\n",
    "    ttlac=0\n",
    "    precision=0\n",
    "    recall=0\n",
    "    \n",
    "    with torch.no_grad():\n",
    "        for episode in range(len(clss_5)):\n",
    "            support_set, query_set = data_loader.__getitem__(clss_5[tlv_cls] , clss_support_imagesss_1_shot[tlv_cls])\n",
    "\n",
    "            # msg=\"\\n\\n       Way: \"+str(len(clss_5[tlv_cls]))+\"  Shot: \"+str(len(clss_support_imagesss_1_shot[tlv_cls][0]))    +\" \\n\\n\"\n",
    "            # msg=str(clss_5[tlv_cls])\n",
    "            clssa=str(clss_5[tlv_cls])\n",
    "            clss=str(clssa).replace(',',' ').replace('\\'',' ').replace('\\'',' ')\n",
    "            msg=str(clss_support_imagesss_1_shot[tlv_cls])\n",
    "            str(clss_5[tlv_cls])\n",
    "\n",
    "            tlv_cls+=1\n",
    "            # print(len(support_set),len(query_set))\n",
    "            support_set = [(torch.stack(images).to(device), label[0]) for images, label in support_set]\n",
    "            query_set = [(torch.stack(images).to(device), label) for images, label in query_set]\n",
    "\n",
    "            support_images, support_labels = zip(*support_set)\n",
    "\n",
    "            query_images, query_labels = zip(*query_set)\n",
    "\n",
    "            classification_scores = model(support_images, support_labels, query_images)\n",
    "            cortt = 0\n",
    "            totl = 0\n",
    "            confusion_mat=None\n",
    "            all_predicted_labels = []\n",
    "            all_actual_labels = []\n",
    "            # print(len(classification_scores),len(query_labels))\n",
    "            for ei in range(len(classification_scores)):\n",
    "                classification_scores_each_class = classification_scores[ei]\n",
    "                # print(classification_scores_each_class)\n",
    "                predicted_labels_eachclas = torch.argmax(classification_scores_each_class, dim=1)\n",
    "                pp = predicted_labels_eachclas.tolist()\n",
    "                act = query_labels[ei]\n",
    "                all_predicted_labels.extend(pp)\n",
    "                all_actual_labels.extend(act)\n",
    "                for iiii in range(len(pp)):\n",
    "                    if pp[iiii] == act[iiii]:\n",
    "                        cortt = cortt + 1\n",
    "                totl = totl + len(pp)\n",
    "                # print(len(act))\n",
    "            accuracy = cortt / totl\n",
    "            ttla+=1\n",
    "            ttlac+=accuracy\n",
    "            # print(cortt , totl,\"Validation Accuracy:              \", cortt / totl)\n",
    "            confusion_mat = confusion_matrix(all_actual_labels, all_predicted_labels)\n",
    "            # print(\"Confusion Matrix:\")\n",
    "            # print(confusion_mat)\n",
    "\n",
    "            # fname='./own35_mapi_5_way_1_shot'\n",
    "\n",
    "            precision_overall, recall_overall, f1ss= calculate_metrics_get_per(msg,confusion_mat,acciuracy=cortt / totl,cls=clss,flnm=fname)\n",
    "            precision=precision+precision_overall\n",
    "            recall=recall+recall_overall\n",
    "    print(\"---------------------->\",ttlac/ttla,precision/ttla ,recall/ttla)\n",
    "# %%%%%%%%%%%%%%%%%%%\n",
    "\n",
    "\n",
    "pp='/home/asufian/Desktop/output_olchikifaltu'\n",
    "\n",
    "\n",
    "\n",
    "\n"
   ]
  },
  {
   "cell_type": "code",
   "execution_count": 397,
   "metadata": {},
   "outputs": [],
   "source": [
    "import numpy as np\n",
    "\n",
    "conf_matrix = np.array([[100, 0, 0, 0, 0],\n",
    "                        [0, 100, 0, 0, 0],\n",
    "                        [0, 0, 100, 0, 0],\n",
    "                        [0, 0, 0, 100, 0],\n",
    "                        [0, 0, 0, 0, 100]])\n",
    "\n",
    "def calculate_metrics_get_per(msg, conf_matrix,acciuracy, cls, flnm):\n",
    "    if conf_matrix.size == 0:\n",
    "        raise ValueError(\"Confusion matrix is empty!\")\n",
    "\n",
    "    metrics = []\n",
    "    for i in range(conf_matrix.shape[0]):\n",
    "        tp = conf_matrix[i, i]\n",
    "        fp = np.sum(conf_matrix[:, i]) - tp\n",
    "        fn = np.sum(conf_matrix[i, :]) - tp\n",
    "\n",
    "        precision = tp / (tp + fp) if (tp + fp) > 0 else 0\n",
    "        recall = tp / (tp + fn) if (tp + fn) > 0 else 0\n",
    "        f1 = 2 * (precision * recall) / (precision + recall) if (precision + recall) > 0 else 0\n",
    "\n",
    "        metrics.append((precision, recall, f1))\n",
    "\n",
    "    # Compute overall scores\n",
    "    precision_overall = np.mean([m[0] for m in metrics])\n",
    "    recall_overall = np.mean([m[1] for m in metrics])\n",
    "    f1_overall = np.mean([m[2] for m in metrics])\n",
    "\n",
    "    # Compute overall accuracy\n",
    "    total_samples = np.sum(conf_matrix)\n",
    "    correct_predictions = np.sum(np.diag(conf_matrix))\n",
    "    accuracy_overall = correct_predictions / total_samples if total_samples > 0 else 0\n",
    "    # print(accuracy_overall)\n",
    "\n",
    "    # Save results (Assuming these functions exist)\n",
    "    save_in_excel_final(msg, cls, flnm + \".xlsx\", conf_matrix, accuracy_overall, precision_overall, recall_overall)\n",
    "    # save_in_text_file(msg, cls, flnm + \".txt\", conf_matrix, accuracy_overall, precision_overall, recall_overall, f_betas)\n",
    "\n",
    "    return precision_overall, recall_overall, f1_overall\n",
    "\n",
    "\n",
    "# precision, recall, f_beta = calculate_metrics(conf_matrix)\n",
    "# print(f'Overall Metrics for beta={beta}:')\n",
    "# print(f'Overall Precision: {precision:.4f}')\n",
    "# print(f'Overall Recall: {recall:.4f}')\n",
    "# print(f'Overall F-beta ({f_beta}): ')\n",
    "# print()\n"
   ]
  },
  {
   "cell_type": "code",
   "execution_count": null,
   "metadata": {},
   "outputs": [],
   "source": [
    "\n"
   ]
  },
  {
   "cell_type": "code",
   "execution_count": 398,
   "metadata": {},
   "outputs": [],
   "source": [
    "\n",
    "\n",
    "def evaluate2(fname,data_loader, model, criterion=nn.CrossEntropyLoss()):\n",
    "    total_predictions = 0\n",
    "    correct_predictions = 0\n",
    "    total_loss = 0.0\n",
    "    accuracy = 0\n",
    "    datta = \"\"\n",
    "    model.eval()\n",
    "    tlv_cls=0\n",
    "    ttla=0\n",
    "    ttlal=[]\n",
    "    ttlac=0\n",
    "    precision=[]\n",
    "    recall=[]\n",
    "    \n",
    "    with torch.no_grad():\n",
    "        for episode in range(len(clss_5)):\n",
    "            support_set, query_set = data_loader.__getitem__(clss_5[tlv_cls] , clss_support_imagesss_1_shot[tlv_cls])\n",
    "\n",
    "           \n",
    "            clssa=str(clss_5[tlv_cls])\n",
    "            clss=str(clssa).replace(',',' ').replace('\\'',' ').replace('\\'',' ')\n",
    "            msg=str(clss_support_imagesss_1_shot[tlv_cls])\n",
    "            str(clss_5[tlv_cls])\n",
    "\n",
    "            tlv_cls+=1\n",
    "            # print(len(support_set),len(query_set))\n",
    "            support_set = [(torch.stack(images).to(device), label[0]) for images, label in support_set]\n",
    "            query_set = [(torch.stack(images).to(device), label) for images, label in query_set]\n",
    "\n",
    "            support_images, support_labels = zip(*support_set)\n",
    "\n",
    "            query_images, query_labels = zip(*query_set)\n",
    "\n",
    "            classification_scores = model(support_images, support_labels, query_images)\n",
    "            cortt = 0\n",
    "            totl = 0\n",
    "            confusion_mat=None\n",
    "            all_predicted_labels = []\n",
    "            all_actual_labels = []\n",
    "            # print(len(classification_scores),len(query_labels))\n",
    "            for ei in range(len(classification_scores)):\n",
    "                classification_scores_each_class = classification_scores[ei]\n",
    "                # print(classification_scores_each_class)\n",
    "                predicted_labels_eachclas = torch.argmax(classification_scores_each_class, dim=1)\n",
    "                pp = predicted_labels_eachclas.tolist()\n",
    "                act = query_labels[ei]\n",
    "                all_predicted_labels.extend(pp)\n",
    "                all_actual_labels.extend(act)\n",
    "                for iiii in range(len(pp)):\n",
    "                    if pp[iiii] == act[iiii]:\n",
    "                        cortt = cortt + 1\n",
    "                totl = totl + len(pp)\n",
    "                # print(len(act))\n",
    "            accuracy = cortt / totl\n",
    "            ttla+=1\n",
    "            ttlac+=accuracy\n",
    "            ttlal.append(accuracy)\n",
    "            # print(cortt , totl,\"Validation Accuracy:              \", cortt / totl)\n",
    "            confusion_mat = confusion_matrix(all_actual_labels, all_predicted_labels)\n",
    "            # print(\"Confusion Matrix:\")\n",
    "            # print(confusion_mat)\n",
    "\n",
    "            # fname='./own35_mapi_5_way_1_shot'\n",
    "\n",
    "            precision_overall, recall_overall, f1ss= calculate_metrics_get_per(msg,confusion_mat,acciuracy=cortt / totl,cls=clss,flnm=fname)\n",
    "            precision.append(precision_overall)\n",
    "            recall.append(recall_overall)\n",
    "    print(f\"---Accu-----pre----rec---------> {np.mean(ttlal):.4f} ± {np.std(ttlal, ddof=1):.4f}  \"\n",
    "      f\"{np.mean(precision):.4f} ± {np.std(precision, ddof=1):.4f}  \"\n",
    "      f\"{np.mean(recall):.4f} ± {np.std(recall, ddof=1):.4f}\")\n",
    "\n",
    "    # print(\"---Accu-----pre----rec---------->\",np.mean(ttlal),'±',np.std(ttlal, ddof=1), np.mean(precision),'±',np.std(precision, ddof=1),np.mean(precision),'±',np.std(precision, ddof=1),)\n",
    "# %%%%%%\n",
    "\n",
    "def evaluate3(fname,data_loader, model, criterion=nn.CrossEntropyLoss()):\n",
    "    total_predictions = 0\n",
    "    correct_predictions = 0\n",
    "    total_loss = 0.0\n",
    "    accuracy = 0\n",
    "    datta = \"\"\n",
    "    model.eval()\n",
    "    tlv_cls=0\n",
    "    ttla=0\n",
    "    ttlac=0\n",
    "    with torch.no_grad():\n",
    "        for episode in range(len(clss_5)):\n",
    "            support_set, query_set = data_loader.__getitem__(clss_5[tlv_cls] , clss_support_imagesss_1_shot[tlv_cls])\n",
    "\n",
    "            \n",
    "            clssa=str(clss_5[tlv_cls])\n",
    "            clss=str(clssa).replace(',',' ').replace('\\'',' ').replace('\\'',' ')\n",
    "            msg=str(clss_support_imagesss_1_shot[tlv_cls])\n",
    "            str(clss_5[tlv_cls])\n",
    "\n",
    "            tlv_cls+=1\n",
    "            # print(len(support_set),len(query_set))\n",
    "            support_set = [(torch.stack(images).to(device), label[0]) for images, label in support_set]\n",
    "            query_set = [(torch.stack(images).to(device), label) for images, label in query_set]\n",
    "\n",
    "            support_images, support_labels = zip(*support_set)\n",
    "\n",
    "            query_images, query_labels = zip(*query_set)\n",
    "\n",
    "            classification_scores = model(support_images, support_labels, query_images)\n",
    "            cortt = 0\n",
    "            totl = 0\n",
    "            confusion_mat=None\n",
    "            all_predicted_labels = []\n",
    "            all_actual_labels = []\n",
    "            # print(len(classification_scores),len(query_labels))\n",
    "            for ei in range(len(classification_scores)):\n",
    "                classification_scores_each_class = classification_scores[ei]\n",
    "                # print(classification_scores_each_class)\n",
    "                predicted_labels_eachclas = torch.argmax(classification_scores_each_class, dim=1)\n",
    "                pp = predicted_labels_eachclas.tolist()\n",
    "                act = query_labels[ei]\n",
    "                all_predicted_labels.extend(pp)\n",
    "                all_actual_labels.extend(act)\n",
    "                for iiii in range(len(pp)):\n",
    "                    if pp[iiii] == act[iiii]:\n",
    "                        cortt = cortt + 1\n",
    "                totl = totl + len(pp)\n",
    "                # print(len(act))\n",
    "            accuracy = cortt / totl\n",
    "            ttla+=1\n",
    "            ttlac+=accuracy\n",
    "            # print(cortt , totl,\"Validation Accuracy:              \", cortt / totl)\n",
    "            # confusion_mat = confusion_matrix(all_actual_labels, all_predicted_labels)\n",
    "            # print(\"Confusion Matrix:\")\n",
    "            # print(confusion_mat)\n",
    "\n",
    "            # fname='./own35_mapi_5_way_1_shot'\n",
    "\n",
    "            # calculate_metrics_get_per(msg,confusion_mat,acciuracy=cortt / totl,cls=clss,flnm=fname)\n",
    "\n",
    "    print(\"---------------------->\",ttlac/ttla)\n",
    "    return ttlac/ttla"
   ]
  },
  {
   "cell_type": "code",
   "execution_count": 399,
   "metadata": {},
   "outputs": [],
   "source": [
    "def update_model_weights2(model_a, model_b, conv_ratio=0.8, fc_ratio=0.8, bias_ratio=0.8):\n",
    "    \"\"\"Updates model_a's weights using a weighted combination of model_a and model_b.\"\"\"\n",
    "    for name, param in model_a.named_parameters():\n",
    "        if name in model_b.state_dict():\n",
    "            weight_b = model_b.state_dict()[name]\n",
    "            \n",
    "            if 'weight' in name:\n",
    "                # Separate conditions for convolutional and fully connected layers\n",
    "                if 'conv' in name:  # Convolutional layer weights\n",
    "                    # print('conv')\n",
    "                    param.data = conv_ratio * weight_b + (1 - conv_ratio) * param.data\n",
    "                elif 'fc' in name or 'linear' in name:  # Fully connected layer weights\n",
    "                    # print('fc')\n",
    "                    param.data = fc_ratio * weight_b + (1 - fc_ratio) * param.data\n",
    "            \n",
    "            elif 'bias' in name:\n",
    "                param.data = bias_ratio * weight_b + (1 - bias_ratio) * param.data"
   ]
  },
  {
   "cell_type": "code",
   "execution_count": 400,
   "metadata": {},
   "outputs": [],
   "source": [
    "import numpy as np\n",
    "import torch\n",
    "import matplotlib.pyplot as plt\n",
    "from skopt import gp_minimize\n",
    "from skopt.space import Real\n",
    "from skopt.utils import use_named_args\n",
    "from skopt.plots import plot_convergence\n",
    "\n",
    "# Device setup\n",
    "device = torch.device(\"cuda\" if torch.cuda.is_available() else \"cpu\")\n",
    "\n",
    "# Function to get model accuracy\n",
    "def get_model_accuracy(b_a_r, c_a_r, f_a_r):\n",
    "    try:\n",
    "        print(f\"Testing b_a_r = {b_a_r:.4f}, c_a_r = {c_a_r:.4f}, f_a_r = {f_a_r:.4f}\")  # Debugging Output\n",
    "        convolutional_network_with_dropout =  DenseNet169WithDropout(modell='densenet169',pretrained=False,dr=0.0)\n",
    "        convolutional_network_with_dropout.fc = nn.Flatten()\n",
    "\n",
    "        xyz = convolutional_network_with_dropout\n",
    "        M3 = PrototypicalNetworks_dynamic_query(xyz).to(device)\n",
    "        M3.load_state_dict(torch.load('model_own_path.pt'))\n",
    "\n",
    "        # Load Model M2 (Reference)\n",
    "        convolutional_network_with_dropout =  DenseNet169WithDropout(modell='densenet169',pretrained=False,dr=0.0)\n",
    "        convolutional_network_with_dropout.fc = nn.Flatten()\n",
    "\n",
    "        xyz2 = convolutional_network_with_dropout\n",
    "        M2 = PrototypicalNetworks_dynamic_query(xyz2).to(device)\n",
    "        M2.load_state_dict(torch.load('model_mu_path.pt'))\n",
    "\n",
    "        # Apply bias adaptation to M3 using M2\n",
    "        update_model_weights2(M3, M2, conv_ratio=c_a_r, fc_ratio=f_a_r, bias_ratio=b_a_r)\n",
    "        \n",
    "        # Evaluate accuracy\n",
    "        accuracy = evaluate3(pp+'/_mapi_5-wau-1-shot_matchine_unlearning_own', test_loader, M3, criterion)\n",
    "        \n",
    "        if accuracy is None:\n",
    "            raise ValueError(\"Accuracy computation failed. Returning worst case.\")\n",
    "\n",
    "        return accuracy  # Ensure accuracy is valid\n",
    "    except Exception as e:\n",
    "        print(f\"Error encountered: {e}. Assigning worst-case accuracy of 0.\")\n",
    "        return 0.0  # Assign lowest accuracy to prevent optimization failures\n"
   ]
  },
  {
   "cell_type": "code",
   "execution_count": 401,
   "metadata": {},
   "outputs": [
    {
     "data": {
      "text/plain": [
       "'/home/asufian/Desktop/output_olchikifaltu'"
      ]
     },
     "execution_count": 401,
     "metadata": {},
     "output_type": "execute_result"
    }
   ],
   "source": [
    "pp"
   ]
  },
  {
   "cell_type": "code",
   "execution_count": 402,
   "metadata": {},
   "outputs": [],
   "source": [
    "criterion = nn.CrossEntropyLoss()\n"
   ]
  },
  {
   "cell_type": "code",
   "execution_count": 403,
   "metadata": {
    "scrolled": true
   },
   "outputs": [
    {
     "name": "stdout",
     "output_type": "stream",
     "text": [
      "Testing b_a_r = 0.5931, c_a_r = -0.6331, f_a_r = 0.5594\n"
     ]
    },
    {
     "name": "stderr",
     "output_type": "stream",
     "text": [
      "Using cache found in /home/asufian/.cache/torch/hub/pytorch_vision_v0.10.0\n",
      "/home/asufian/.local/share/pipx/venvs/notebook/lib/python3.12/site-packages/torchvision/models/_utils.py:208: UserWarning: The parameter 'pretrained' is deprecated since 0.13 and may be removed in the future, please use 'weights' instead.\n",
      "  warnings.warn(\n",
      "/home/asufian/.local/share/pipx/venvs/notebook/lib/python3.12/site-packages/torchvision/models/_utils.py:223: UserWarning: Arguments other than a weight enum or `None` for 'weights' are deprecated since 0.13 and may be removed in the future. The current behavior is equivalent to passing `weights=None`.\n",
      "  warnings.warn(msg)\n",
      "Using cache found in /home/asufian/.cache/torch/hub/pytorch_vision_v0.10.0\n"
     ]
    },
    {
     "name": "stdout",
     "output_type": "stream",
     "text": [
      "----------------------> 0.20996491228070177\n",
      "Evaluated Accuracy: 0.2100\n",
      "Testing b_a_r = 0.1937, c_a_r = -0.1083, f_a_r = -0.8001\n"
     ]
    },
    {
     "name": "stderr",
     "output_type": "stream",
     "text": [
      "Using cache found in /home/asufian/.cache/torch/hub/pytorch_vision_v0.10.0\n",
      "Using cache found in /home/asufian/.cache/torch/hub/pytorch_vision_v0.10.0\n"
     ]
    },
    {
     "name": "stdout",
     "output_type": "stream",
     "text": [
      "----------------------> 0.5569122807017544\n",
      "Evaluated Accuracy: 0.5569\n",
      "Testing b_a_r = -0.0815, c_a_r = -0.3326, f_a_r = -0.7143\n"
     ]
    },
    {
     "name": "stderr",
     "output_type": "stream",
     "text": [
      "Using cache found in /home/asufian/.cache/torch/hub/pytorch_vision_v0.10.0\n",
      "Using cache found in /home/asufian/.cache/torch/hub/pytorch_vision_v0.10.0\n"
     ]
    },
    {
     "name": "stdout",
     "output_type": "stream",
     "text": [
      "----------------------> 0.24603508771929833\n",
      "Evaluated Accuracy: 0.2460\n",
      "Testing b_a_r = 0.3018, c_a_r = -0.8872, f_a_r = 0.4440\n"
     ]
    },
    {
     "name": "stderr",
     "output_type": "stream",
     "text": [
      "Using cache found in /home/asufian/.cache/torch/hub/pytorch_vision_v0.10.0\n",
      "Using cache found in /home/asufian/.cache/torch/hub/pytorch_vision_v0.10.0\n"
     ]
    },
    {
     "name": "stdout",
     "output_type": "stream",
     "text": [
      "----------------------> 0.20421052631578948\n",
      "Evaluated Accuracy: 0.2042\n",
      "Testing b_a_r = 0.8771, c_a_r = -0.9984, f_a_r = 0.9844\n"
     ]
    },
    {
     "name": "stderr",
     "output_type": "stream",
     "text": [
      "Using cache found in /home/asufian/.cache/torch/hub/pytorch_vision_v0.10.0\n",
      "Using cache found in /home/asufian/.cache/torch/hub/pytorch_vision_v0.10.0\n"
     ]
    },
    {
     "name": "stdout",
     "output_type": "stream",
     "text": [
      "----------------------> 0.20673684210526316\n",
      "Evaluated Accuracy: 0.2067\n",
      "Testing b_a_r = 0.2891, c_a_r = -0.0214, f_a_r = -0.4651\n"
     ]
    },
    {
     "name": "stderr",
     "output_type": "stream",
     "text": [
      "Using cache found in /home/asufian/.cache/torch/hub/pytorch_vision_v0.10.0\n",
      "/home/asufian/.local/share/pipx/venvs/notebook/lib/python3.12/site-packages/torchvision/models/_utils.py:208: UserWarning: The parameter 'pretrained' is deprecated since 0.13 and may be removed in the future, please use 'weights' instead.\n",
      "  warnings.warn(\n",
      "/home/asufian/.local/share/pipx/venvs/notebook/lib/python3.12/site-packages/torchvision/models/_utils.py:223: UserWarning: Arguments other than a weight enum or `None` for 'weights' are deprecated since 0.13 and may be removed in the future. The current behavior is equivalent to passing `weights=None`.\n",
      "  warnings.warn(msg)\n",
      "Using cache found in /home/asufian/.cache/torch/hub/pytorch_vision_v0.10.0\n"
     ]
    },
    {
     "name": "stdout",
     "output_type": "stream",
     "text": [
      "----------------------> 0.6108070175438597\n",
      "Evaluated Accuracy: 0.6108\n",
      "Testing b_a_r = -0.0740, c_a_r = 0.2043, f_a_r = -0.9611\n"
     ]
    },
    {
     "name": "stderr",
     "output_type": "stream",
     "text": [
      "Using cache found in /home/asufian/.cache/torch/hub/pytorch_vision_v0.10.0\n",
      "/home/asufian/.local/share/pipx/venvs/notebook/lib/python3.12/site-packages/torchvision/models/_utils.py:208: UserWarning: The parameter 'pretrained' is deprecated since 0.13 and may be removed in the future, please use 'weights' instead.\n",
      "  warnings.warn(\n",
      "/home/asufian/.local/share/pipx/venvs/notebook/lib/python3.12/site-packages/torchvision/models/_utils.py:223: UserWarning: Arguments other than a weight enum or `None` for 'weights' are deprecated since 0.13 and may be removed in the future. The current behavior is equivalent to passing `weights=None`.\n",
      "  warnings.warn(msg)\n",
      "Using cache found in /home/asufian/.cache/torch/hub/pytorch_vision_v0.10.0\n"
     ]
    },
    {
     "name": "stdout",
     "output_type": "stream",
     "text": [
      "----------------------> 0.527859649122807\n",
      "Evaluated Accuracy: 0.5279\n",
      "Testing b_a_r = 0.9998, c_a_r = 0.9364, f_a_r = 0.9750\n"
     ]
    },
    {
     "name": "stderr",
     "output_type": "stream",
     "text": [
      "Using cache found in /home/asufian/.cache/torch/hub/pytorch_vision_v0.10.0\n",
      "/home/asufian/.local/share/pipx/venvs/notebook/lib/python3.12/site-packages/torchvision/models/_utils.py:208: UserWarning: The parameter 'pretrained' is deprecated since 0.13 and may be removed in the future, please use 'weights' instead.\n",
      "  warnings.warn(\n",
      "/home/asufian/.local/share/pipx/venvs/notebook/lib/python3.12/site-packages/torchvision/models/_utils.py:223: UserWarning: Arguments other than a weight enum or `None` for 'weights' are deprecated since 0.13 and may be removed in the future. The current behavior is equivalent to passing `weights=None`.\n",
      "  warnings.warn(msg)\n",
      "Using cache found in /home/asufian/.cache/torch/hub/pytorch_vision_v0.10.0\n"
     ]
    },
    {
     "name": "stdout",
     "output_type": "stream",
     "text": [
      "----------------------> 0.2983859649122807\n",
      "Evaluated Accuracy: 0.2984\n",
      "Testing b_a_r = -0.8531, c_a_r = 0.0495, f_a_r = 0.5458\n"
     ]
    },
    {
     "name": "stderr",
     "output_type": "stream",
     "text": [
      "Using cache found in /home/asufian/.cache/torch/hub/pytorch_vision_v0.10.0\n",
      "/home/asufian/.local/share/pipx/venvs/notebook/lib/python3.12/site-packages/torchvision/models/_utils.py:208: UserWarning: The parameter 'pretrained' is deprecated since 0.13 and may be removed in the future, please use 'weights' instead.\n",
      "  warnings.warn(\n",
      "/home/asufian/.local/share/pipx/venvs/notebook/lib/python3.12/site-packages/torchvision/models/_utils.py:223: UserWarning: Arguments other than a weight enum or `None` for 'weights' are deprecated since 0.13 and may be removed in the future. The current behavior is equivalent to passing `weights=None`.\n",
      "  warnings.warn(msg)\n",
      "Using cache found in /home/asufian/.cache/torch/hub/pytorch_vision_v0.10.0\n"
     ]
    },
    {
     "name": "stdout",
     "output_type": "stream",
     "text": [
      "----------------------> 0.5964912280701754\n",
      "Evaluated Accuracy: 0.5965\n",
      "Testing b_a_r = -0.4106, c_a_r = 0.5142, f_a_r = 0.8513\n"
     ]
    },
    {
     "name": "stderr",
     "output_type": "stream",
     "text": [
      "Using cache found in /home/asufian/.cache/torch/hub/pytorch_vision_v0.10.0\n",
      "/home/asufian/.local/share/pipx/venvs/notebook/lib/python3.12/site-packages/torchvision/models/_utils.py:208: UserWarning: The parameter 'pretrained' is deprecated since 0.13 and may be removed in the future, please use 'weights' instead.\n",
      "  warnings.warn(\n",
      "/home/asufian/.local/share/pipx/venvs/notebook/lib/python3.12/site-packages/torchvision/models/_utils.py:223: UserWarning: Arguments other than a weight enum or `None` for 'weights' are deprecated since 0.13 and may be removed in the future. The current behavior is equivalent to passing `weights=None`.\n",
      "  warnings.warn(msg)\n",
      "Using cache found in /home/asufian/.cache/torch/hub/pytorch_vision_v0.10.0\n"
     ]
    },
    {
     "name": "stdout",
     "output_type": "stream",
     "text": [
      "----------------------> 0.3338947368421053\n",
      "Evaluated Accuracy: 0.3339\n",
      "Testing b_a_r = 0.9637, c_a_r = -0.0199, f_a_r = 1.0000\n"
     ]
    },
    {
     "name": "stderr",
     "output_type": "stream",
     "text": [
      "Using cache found in /home/asufian/.cache/torch/hub/pytorch_vision_v0.10.0\n",
      "/home/asufian/.local/share/pipx/venvs/notebook/lib/python3.12/site-packages/torchvision/models/_utils.py:208: UserWarning: The parameter 'pretrained' is deprecated since 0.13 and may be removed in the future, please use 'weights' instead.\n",
      "  warnings.warn(\n",
      "/home/asufian/.local/share/pipx/venvs/notebook/lib/python3.12/site-packages/torchvision/models/_utils.py:223: UserWarning: Arguments other than a weight enum or `None` for 'weights' are deprecated since 0.13 and may be removed in the future. The current behavior is equivalent to passing `weights=None`.\n",
      "  warnings.warn(msg)\n",
      "Using cache found in /home/asufian/.cache/torch/hub/pytorch_vision_v0.10.0\n"
     ]
    },
    {
     "name": "stdout",
     "output_type": "stream",
     "text": [
      "----------------------> 0.6072982456140352\n",
      "Evaluated Accuracy: 0.6073\n",
      "Testing b_a_r = 0.7775, c_a_r = 0.0142, f_a_r = -0.8228\n"
     ]
    },
    {
     "name": "stderr",
     "output_type": "stream",
     "text": [
      "Using cache found in /home/asufian/.cache/torch/hub/pytorch_vision_v0.10.0\n",
      "/home/asufian/.local/share/pipx/venvs/notebook/lib/python3.12/site-packages/torchvision/models/_utils.py:208: UserWarning: The parameter 'pretrained' is deprecated since 0.13 and may be removed in the future, please use 'weights' instead.\n",
      "  warnings.warn(\n",
      "/home/asufian/.local/share/pipx/venvs/notebook/lib/python3.12/site-packages/torchvision/models/_utils.py:223: UserWarning: Arguments other than a weight enum or `None` for 'weights' are deprecated since 0.13 and may be removed in the future. The current behavior is equivalent to passing `weights=None`.\n",
      "  warnings.warn(msg)\n",
      "Using cache found in /home/asufian/.cache/torch/hub/pytorch_vision_v0.10.0\n"
     ]
    },
    {
     "name": "stdout",
     "output_type": "stream",
     "text": [
      "----------------------> 0.6033684210526317\n",
      "Evaluated Accuracy: 0.6034\n",
      "Testing b_a_r = -1.0000, c_a_r = -0.0134, f_a_r = 1.0000\n"
     ]
    },
    {
     "name": "stderr",
     "output_type": "stream",
     "text": [
      "Using cache found in /home/asufian/.cache/torch/hub/pytorch_vision_v0.10.0\n",
      "/home/asufian/.local/share/pipx/venvs/notebook/lib/python3.12/site-packages/torchvision/models/_utils.py:208: UserWarning: The parameter 'pretrained' is deprecated since 0.13 and may be removed in the future, please use 'weights' instead.\n",
      "  warnings.warn(\n",
      "/home/asufian/.local/share/pipx/venvs/notebook/lib/python3.12/site-packages/torchvision/models/_utils.py:223: UserWarning: Arguments other than a weight enum or `None` for 'weights' are deprecated since 0.13 and may be removed in the future. The current behavior is equivalent to passing `weights=None`.\n",
      "  warnings.warn(msg)\n",
      "Using cache found in /home/asufian/.cache/torch/hub/pytorch_vision_v0.10.0\n"
     ]
    },
    {
     "name": "stdout",
     "output_type": "stream",
     "text": [
      "----------------------> 0.615719298245614\n",
      "Evaluated Accuracy: 0.6157\n",
      "Testing b_a_r = -0.9309, c_a_r = 0.7317, f_a_r = -0.5472\n"
     ]
    },
    {
     "name": "stderr",
     "output_type": "stream",
     "text": [
      "Using cache found in /home/asufian/.cache/torch/hub/pytorch_vision_v0.10.0\n",
      "/home/asufian/.local/share/pipx/venvs/notebook/lib/python3.12/site-packages/torchvision/models/_utils.py:208: UserWarning: The parameter 'pretrained' is deprecated since 0.13 and may be removed in the future, please use 'weights' instead.\n",
      "  warnings.warn(\n",
      "/home/asufian/.local/share/pipx/venvs/notebook/lib/python3.12/site-packages/torchvision/models/_utils.py:223: UserWarning: Arguments other than a weight enum or `None` for 'weights' are deprecated since 0.13 and may be removed in the future. The current behavior is equivalent to passing `weights=None`.\n",
      "  warnings.warn(msg)\n",
      "Using cache found in /home/asufian/.cache/torch/hub/pytorch_vision_v0.10.0\n"
     ]
    },
    {
     "name": "stdout",
     "output_type": "stream",
     "text": [
      "----------------------> 0.28364912280701754\n",
      "Evaluated Accuracy: 0.2836\n",
      "Testing b_a_r = -0.9411, c_a_r = 0.3278, f_a_r = -0.9723\n"
     ]
    },
    {
     "name": "stderr",
     "output_type": "stream",
     "text": [
      "Using cache found in /home/asufian/.cache/torch/hub/pytorch_vision_v0.10.0\n",
      "/home/asufian/.local/share/pipx/venvs/notebook/lib/python3.12/site-packages/torchvision/models/_utils.py:208: UserWarning: The parameter 'pretrained' is deprecated since 0.13 and may be removed in the future, please use 'weights' instead.\n",
      "  warnings.warn(\n",
      "/home/asufian/.local/share/pipx/venvs/notebook/lib/python3.12/site-packages/torchvision/models/_utils.py:223: UserWarning: Arguments other than a weight enum or `None` for 'weights' are deprecated since 0.13 and may be removed in the future. The current behavior is equivalent to passing `weights=None`.\n",
      "  warnings.warn(msg)\n",
      "Using cache found in /home/asufian/.cache/torch/hub/pytorch_vision_v0.10.0\n"
     ]
    },
    {
     "name": "stdout",
     "output_type": "stream",
     "text": [
      "----------------------> 0.45459649122807017\n",
      "Evaluated Accuracy: 0.4546\n",
      "Testing b_a_r = -0.9731, c_a_r = -0.0486, f_a_r = 0.9645\n"
     ]
    },
    {
     "name": "stderr",
     "output_type": "stream",
     "text": [
      "Using cache found in /home/asufian/.cache/torch/hub/pytorch_vision_v0.10.0\n",
      "/home/asufian/.local/share/pipx/venvs/notebook/lib/python3.12/site-packages/torchvision/models/_utils.py:208: UserWarning: The parameter 'pretrained' is deprecated since 0.13 and may be removed in the future, please use 'weights' instead.\n",
      "  warnings.warn(\n",
      "/home/asufian/.local/share/pipx/venvs/notebook/lib/python3.12/site-packages/torchvision/models/_utils.py:223: UserWarning: Arguments other than a weight enum or `None` for 'weights' are deprecated since 0.13 and may be removed in the future. The current behavior is equivalent to passing `weights=None`.\n",
      "  warnings.warn(msg)\n",
      "Using cache found in /home/asufian/.cache/torch/hub/pytorch_vision_v0.10.0\n"
     ]
    },
    {
     "name": "stdout",
     "output_type": "stream",
     "text": [
      "----------------------> 0.616\n",
      "Evaluated Accuracy: 0.6160\n",
      "Testing b_a_r = 0.9630, c_a_r = 0.1115, f_a_r = -0.1689\n"
     ]
    },
    {
     "name": "stderr",
     "output_type": "stream",
     "text": [
      "Using cache found in /home/asufian/.cache/torch/hub/pytorch_vision_v0.10.0\n",
      "/home/asufian/.local/share/pipx/venvs/notebook/lib/python3.12/site-packages/torchvision/models/_utils.py:208: UserWarning: The parameter 'pretrained' is deprecated since 0.13 and may be removed in the future, please use 'weights' instead.\n",
      "  warnings.warn(\n",
      "/home/asufian/.local/share/pipx/venvs/notebook/lib/python3.12/site-packages/torchvision/models/_utils.py:223: UserWarning: Arguments other than a weight enum or `None` for 'weights' are deprecated since 0.13 and may be removed in the future. The current behavior is equivalent to passing `weights=None`.\n",
      "  warnings.warn(msg)\n",
      "Using cache found in /home/asufian/.cache/torch/hub/pytorch_vision_v0.10.0\n"
     ]
    },
    {
     "name": "stdout",
     "output_type": "stream",
     "text": [
      "----------------------> 0.5647719298245614\n",
      "Evaluated Accuracy: 0.5648\n",
      "Testing b_a_r = -0.9521, c_a_r = -0.0416, f_a_r = -0.8541\n"
     ]
    },
    {
     "name": "stderr",
     "output_type": "stream",
     "text": [
      "Using cache found in /home/asufian/.cache/torch/hub/pytorch_vision_v0.10.0\n",
      "/home/asufian/.local/share/pipx/venvs/notebook/lib/python3.12/site-packages/torchvision/models/_utils.py:208: UserWarning: The parameter 'pretrained' is deprecated since 0.13 and may be removed in the future, please use 'weights' instead.\n",
      "  warnings.warn(\n",
      "/home/asufian/.local/share/pipx/venvs/notebook/lib/python3.12/site-packages/torchvision/models/_utils.py:223: UserWarning: Arguments other than a weight enum or `None` for 'weights' are deprecated since 0.13 and may be removed in the future. The current behavior is equivalent to passing `weights=None`.\n",
      "  warnings.warn(msg)\n",
      "Using cache found in /home/asufian/.cache/torch/hub/pytorch_vision_v0.10.0\n"
     ]
    },
    {
     "name": "stdout",
     "output_type": "stream",
     "text": [
      "----------------------> 0.6169824561403509\n",
      "Evaluated Accuracy: 0.6170\n",
      "Testing b_a_r = -0.7107, c_a_r = 0.9993, f_a_r = 0.9273\n"
     ]
    },
    {
     "name": "stderr",
     "output_type": "stream",
     "text": [
      "Using cache found in /home/asufian/.cache/torch/hub/pytorch_vision_v0.10.0\n",
      "/home/asufian/.local/share/pipx/venvs/notebook/lib/python3.12/site-packages/torchvision/models/_utils.py:208: UserWarning: The parameter 'pretrained' is deprecated since 0.13 and may be removed in the future, please use 'weights' instead.\n",
      "  warnings.warn(\n",
      "/home/asufian/.local/share/pipx/venvs/notebook/lib/python3.12/site-packages/torchvision/models/_utils.py:223: UserWarning: Arguments other than a weight enum or `None` for 'weights' are deprecated since 0.13 and may be removed in the future. The current behavior is equivalent to passing `weights=None`.\n",
      "  warnings.warn(msg)\n",
      "Using cache found in /home/asufian/.cache/torch/hub/pytorch_vision_v0.10.0\n"
     ]
    },
    {
     "name": "stdout",
     "output_type": "stream",
     "text": [
      "----------------------> 0.31368421052631584\n",
      "Evaluated Accuracy: 0.3137\n",
      "Testing b_a_r = -0.9716, c_a_r = -0.4895, f_a_r = -0.0839\n"
     ]
    },
    {
     "name": "stderr",
     "output_type": "stream",
     "text": [
      "Using cache found in /home/asufian/.cache/torch/hub/pytorch_vision_v0.10.0\n",
      "/home/asufian/.local/share/pipx/venvs/notebook/lib/python3.12/site-packages/torchvision/models/_utils.py:208: UserWarning: The parameter 'pretrained' is deprecated since 0.13 and may be removed in the future, please use 'weights' instead.\n",
      "  warnings.warn(\n",
      "/home/asufian/.local/share/pipx/venvs/notebook/lib/python3.12/site-packages/torchvision/models/_utils.py:223: UserWarning: Arguments other than a weight enum or `None` for 'weights' are deprecated since 0.13 and may be removed in the future. The current behavior is equivalent to passing `weights=None`.\n",
      "  warnings.warn(msg)\n",
      "Using cache found in /home/asufian/.cache/torch/hub/pytorch_vision_v0.10.0\n"
     ]
    },
    {
     "name": "stdout",
     "output_type": "stream",
     "text": [
      "----------------------> 0.21375438596491228\n",
      "Evaluated Accuracy: 0.2138\n",
      "Testing b_a_r = -0.9574, c_a_r = 0.1348, f_a_r = -0.9475\n"
     ]
    },
    {
     "name": "stderr",
     "output_type": "stream",
     "text": [
      "Using cache found in /home/asufian/.cache/torch/hub/pytorch_vision_v0.10.0\n",
      "/home/asufian/.local/share/pipx/venvs/notebook/lib/python3.12/site-packages/torchvision/models/_utils.py:208: UserWarning: The parameter 'pretrained' is deprecated since 0.13 and may be removed in the future, please use 'weights' instead.\n",
      "  warnings.warn(\n",
      "/home/asufian/.local/share/pipx/venvs/notebook/lib/python3.12/site-packages/torchvision/models/_utils.py:223: UserWarning: Arguments other than a weight enum or `None` for 'weights' are deprecated since 0.13 and may be removed in the future. The current behavior is equivalent to passing `weights=None`.\n",
      "  warnings.warn(msg)\n",
      "Using cache found in /home/asufian/.cache/torch/hub/pytorch_vision_v0.10.0\n"
     ]
    },
    {
     "name": "stdout",
     "output_type": "stream",
     "text": [
      "----------------------> 0.5587368421052632\n",
      "Evaluated Accuracy: 0.5587\n",
      "Testing b_a_r = 0.9793, c_a_r = -0.0590, f_a_r = -0.7423\n"
     ]
    },
    {
     "name": "stderr",
     "output_type": "stream",
     "text": [
      "Using cache found in /home/asufian/.cache/torch/hub/pytorch_vision_v0.10.0\n",
      "/home/asufian/.local/share/pipx/venvs/notebook/lib/python3.12/site-packages/torchvision/models/_utils.py:208: UserWarning: The parameter 'pretrained' is deprecated since 0.13 and may be removed in the future, please use 'weights' instead.\n",
      "  warnings.warn(\n",
      "/home/asufian/.local/share/pipx/venvs/notebook/lib/python3.12/site-packages/torchvision/models/_utils.py:223: UserWarning: Arguments other than a weight enum or `None` for 'weights' are deprecated since 0.13 and may be removed in the future. The current behavior is equivalent to passing `weights=None`.\n",
      "  warnings.warn(msg)\n",
      "Using cache found in /home/asufian/.cache/torch/hub/pytorch_vision_v0.10.0\n"
     ]
    },
    {
     "name": "stdout",
     "output_type": "stream",
     "text": [
      "----------------------> 0.6103859649122807\n",
      "Evaluated Accuracy: 0.6104\n",
      "Testing b_a_r = -0.9489, c_a_r = -0.0320, f_a_r = -0.8443\n"
     ]
    },
    {
     "name": "stderr",
     "output_type": "stream",
     "text": [
      "Using cache found in /home/asufian/.cache/torch/hub/pytorch_vision_v0.10.0\n",
      "/home/asufian/.local/share/pipx/venvs/notebook/lib/python3.12/site-packages/torchvision/models/_utils.py:208: UserWarning: The parameter 'pretrained' is deprecated since 0.13 and may be removed in the future, please use 'weights' instead.\n",
      "  warnings.warn(\n",
      "/home/asufian/.local/share/pipx/venvs/notebook/lib/python3.12/site-packages/torchvision/models/_utils.py:223: UserWarning: Arguments other than a weight enum or `None` for 'weights' are deprecated since 0.13 and may be removed in the future. The current behavior is equivalent to passing `weights=None`.\n",
      "  warnings.warn(msg)\n",
      "Using cache found in /home/asufian/.cache/torch/hub/pytorch_vision_v0.10.0\n"
     ]
    },
    {
     "name": "stdout",
     "output_type": "stream",
     "text": [
      "----------------------> 0.6154385964912282\n",
      "Evaluated Accuracy: 0.6154\n",
      "Testing b_a_r = -0.9444, c_a_r = -0.0444, f_a_r = 0.7712\n"
     ]
    },
    {
     "name": "stderr",
     "output_type": "stream",
     "text": [
      "Using cache found in /home/asufian/.cache/torch/hub/pytorch_vision_v0.10.0\n",
      "/home/asufian/.local/share/pipx/venvs/notebook/lib/python3.12/site-packages/torchvision/models/_utils.py:208: UserWarning: The parameter 'pretrained' is deprecated since 0.13 and may be removed in the future, please use 'weights' instead.\n",
      "  warnings.warn(\n",
      "/home/asufian/.local/share/pipx/venvs/notebook/lib/python3.12/site-packages/torchvision/models/_utils.py:223: UserWarning: Arguments other than a weight enum or `None` for 'weights' are deprecated since 0.13 and may be removed in the future. The current behavior is equivalent to passing `weights=None`.\n",
      "  warnings.warn(msg)\n",
      "Using cache found in /home/asufian/.cache/torch/hub/pytorch_vision_v0.10.0\n"
     ]
    },
    {
     "name": "stdout",
     "output_type": "stream",
     "text": [
      "----------------------> 0.6176842105263158\n",
      "Evaluated Accuracy: 0.6177\n",
      "Testing b_a_r = -0.9081, c_a_r = -0.0577, f_a_r = 0.9544\n"
     ]
    },
    {
     "name": "stderr",
     "output_type": "stream",
     "text": [
      "Using cache found in /home/asufian/.cache/torch/hub/pytorch_vision_v0.10.0\n",
      "/home/asufian/.local/share/pipx/venvs/notebook/lib/python3.12/site-packages/torchvision/models/_utils.py:208: UserWarning: The parameter 'pretrained' is deprecated since 0.13 and may be removed in the future, please use 'weights' instead.\n",
      "  warnings.warn(\n",
      "/home/asufian/.local/share/pipx/venvs/notebook/lib/python3.12/site-packages/torchvision/models/_utils.py:223: UserWarning: Arguments other than a weight enum or `None` for 'weights' are deprecated since 0.13 and may be removed in the future. The current behavior is equivalent to passing `weights=None`.\n",
      "  warnings.warn(msg)\n",
      "Using cache found in /home/asufian/.cache/torch/hub/pytorch_vision_v0.10.0\n"
     ]
    },
    {
     "name": "stdout",
     "output_type": "stream",
     "text": [
      "----------------------> 0.6151578947368421\n",
      "Evaluated Accuracy: 0.6152\n",
      "Testing b_a_r = 0.9606, c_a_r = 0.4186, f_a_r = 0.9138\n"
     ]
    },
    {
     "name": "stderr",
     "output_type": "stream",
     "text": [
      "Using cache found in /home/asufian/.cache/torch/hub/pytorch_vision_v0.10.0\n",
      "/home/asufian/.local/share/pipx/venvs/notebook/lib/python3.12/site-packages/torchvision/models/_utils.py:208: UserWarning: The parameter 'pretrained' is deprecated since 0.13 and may be removed in the future, please use 'weights' instead.\n",
      "  warnings.warn(\n",
      "/home/asufian/.local/share/pipx/venvs/notebook/lib/python3.12/site-packages/torchvision/models/_utils.py:223: UserWarning: Arguments other than a weight enum or `None` for 'weights' are deprecated since 0.13 and may be removed in the future. The current behavior is equivalent to passing `weights=None`.\n",
      "  warnings.warn(msg)\n",
      "Using cache found in /home/asufian/.cache/torch/hub/pytorch_vision_v0.10.0\n"
     ]
    },
    {
     "name": "stdout",
     "output_type": "stream",
     "text": [
      "----------------------> 0.3897543859649123\n",
      "Evaluated Accuracy: 0.3898\n",
      "Testing b_a_r = -0.9815, c_a_r = -0.0086, f_a_r = -0.9838\n"
     ]
    },
    {
     "name": "stderr",
     "output_type": "stream",
     "text": [
      "Using cache found in /home/asufian/.cache/torch/hub/pytorch_vision_v0.10.0\n",
      "/home/asufian/.local/share/pipx/venvs/notebook/lib/python3.12/site-packages/torchvision/models/_utils.py:208: UserWarning: The parameter 'pretrained' is deprecated since 0.13 and may be removed in the future, please use 'weights' instead.\n",
      "  warnings.warn(\n",
      "/home/asufian/.local/share/pipx/venvs/notebook/lib/python3.12/site-packages/torchvision/models/_utils.py:223: UserWarning: Arguments other than a weight enum or `None` for 'weights' are deprecated since 0.13 and may be removed in the future. The current behavior is equivalent to passing `weights=None`.\n",
      "  warnings.warn(msg)\n",
      "Using cache found in /home/asufian/.cache/torch/hub/pytorch_vision_v0.10.0\n"
     ]
    },
    {
     "name": "stdout",
     "output_type": "stream",
     "text": [
      "----------------------> 0.6148771929824561\n",
      "Evaluated Accuracy: 0.6149\n",
      "Testing b_a_r = -0.8521, c_a_r = -0.2061, f_a_r = 0.5780\n"
     ]
    },
    {
     "name": "stderr",
     "output_type": "stream",
     "text": [
      "Using cache found in /home/asufian/.cache/torch/hub/pytorch_vision_v0.10.0\n",
      "/home/asufian/.local/share/pipx/venvs/notebook/lib/python3.12/site-packages/torchvision/models/_utils.py:208: UserWarning: The parameter 'pretrained' is deprecated since 0.13 and may be removed in the future, please use 'weights' instead.\n",
      "  warnings.warn(\n",
      "/home/asufian/.local/share/pipx/venvs/notebook/lib/python3.12/site-packages/torchvision/models/_utils.py:223: UserWarning: Arguments other than a weight enum or `None` for 'weights' are deprecated since 0.13 and may be removed in the future. The current behavior is equivalent to passing `weights=None`.\n",
      "  warnings.warn(msg)\n",
      "Using cache found in /home/asufian/.cache/torch/hub/pytorch_vision_v0.10.0\n"
     ]
    },
    {
     "name": "stdout",
     "output_type": "stream",
     "text": [
      "----------------------> 0.41768421052631577\n",
      "Evaluated Accuracy: 0.4177\n",
      "Testing b_a_r = -0.9997, c_a_r = -0.0358, f_a_r = -0.9590\n"
     ]
    },
    {
     "name": "stderr",
     "output_type": "stream",
     "text": [
      "Using cache found in /home/asufian/.cache/torch/hub/pytorch_vision_v0.10.0\n",
      "/home/asufian/.local/share/pipx/venvs/notebook/lib/python3.12/site-packages/torchvision/models/_utils.py:208: UserWarning: The parameter 'pretrained' is deprecated since 0.13 and may be removed in the future, please use 'weights' instead.\n",
      "  warnings.warn(\n",
      "/home/asufian/.local/share/pipx/venvs/notebook/lib/python3.12/site-packages/torchvision/models/_utils.py:223: UserWarning: Arguments other than a weight enum or `None` for 'weights' are deprecated since 0.13 and may be removed in the future. The current behavior is equivalent to passing `weights=None`.\n",
      "  warnings.warn(msg)\n",
      "Using cache found in /home/asufian/.cache/torch/hub/pytorch_vision_v0.10.0\n"
     ]
    },
    {
     "name": "stdout",
     "output_type": "stream",
     "text": [
      "----------------------> 0.6150175438596492\n",
      "Evaluated Accuracy: 0.6150\n",
      "Testing b_a_r = -0.9562, c_a_r = -0.0001, f_a_r = 0.8950\n"
     ]
    },
    {
     "name": "stderr",
     "output_type": "stream",
     "text": [
      "Using cache found in /home/asufian/.cache/torch/hub/pytorch_vision_v0.10.0\n",
      "/home/asufian/.local/share/pipx/venvs/notebook/lib/python3.12/site-packages/torchvision/models/_utils.py:208: UserWarning: The parameter 'pretrained' is deprecated since 0.13 and may be removed in the future, please use 'weights' instead.\n",
      "  warnings.warn(\n",
      "/home/asufian/.local/share/pipx/venvs/notebook/lib/python3.12/site-packages/torchvision/models/_utils.py:223: UserWarning: Arguments other than a weight enum or `None` for 'weights' are deprecated since 0.13 and may be removed in the future. The current behavior is equivalent to passing `weights=None`.\n",
      "  warnings.warn(msg)\n",
      "Using cache found in /home/asufian/.cache/torch/hub/pytorch_vision_v0.10.0\n"
     ]
    },
    {
     "name": "stdout",
     "output_type": "stream",
     "text": [
      "----------------------> 0.6127719298245614\n",
      "Evaluated Accuracy: 0.6128\n",
      "Testing b_a_r = -0.9253, c_a_r = -0.7593, f_a_r = 0.6687\n"
     ]
    },
    {
     "name": "stderr",
     "output_type": "stream",
     "text": [
      "Using cache found in /home/asufian/.cache/torch/hub/pytorch_vision_v0.10.0\n",
      "/home/asufian/.local/share/pipx/venvs/notebook/lib/python3.12/site-packages/torchvision/models/_utils.py:208: UserWarning: The parameter 'pretrained' is deprecated since 0.13 and may be removed in the future, please use 'weights' instead.\n",
      "  warnings.warn(\n",
      "/home/asufian/.local/share/pipx/venvs/notebook/lib/python3.12/site-packages/torchvision/models/_utils.py:223: UserWarning: Arguments other than a weight enum or `None` for 'weights' are deprecated since 0.13 and may be removed in the future. The current behavior is equivalent to passing `weights=None`.\n",
      "  warnings.warn(msg)\n",
      "Using cache found in /home/asufian/.cache/torch/hub/pytorch_vision_v0.10.0\n"
     ]
    },
    {
     "name": "stdout",
     "output_type": "stream",
     "text": [
      "----------------------> 0.20687719298245616\n",
      "Evaluated Accuracy: 0.2069\n",
      "Testing b_a_r = 0.9549, c_a_r = 0.6286, f_a_r = -0.4828\n"
     ]
    },
    {
     "name": "stderr",
     "output_type": "stream",
     "text": [
      "Using cache found in /home/asufian/.cache/torch/hub/pytorch_vision_v0.10.0\n",
      "/home/asufian/.local/share/pipx/venvs/notebook/lib/python3.12/site-packages/torchvision/models/_utils.py:208: UserWarning: The parameter 'pretrained' is deprecated since 0.13 and may be removed in the future, please use 'weights' instead.\n",
      "  warnings.warn(\n",
      "/home/asufian/.local/share/pipx/venvs/notebook/lib/python3.12/site-packages/torchvision/models/_utils.py:223: UserWarning: Arguments other than a weight enum or `None` for 'weights' are deprecated since 0.13 and may be removed in the future. The current behavior is equivalent to passing `weights=None`.\n",
      "  warnings.warn(msg)\n",
      "Using cache found in /home/asufian/.cache/torch/hub/pytorch_vision_v0.10.0\n"
     ]
    },
    {
     "name": "stdout",
     "output_type": "stream",
     "text": [
      "----------------------> 0.29726315789473684\n",
      "Evaluated Accuracy: 0.2973\n",
      "Testing b_a_r = 0.9194, c_a_r = -0.0383, f_a_r = 0.9560\n"
     ]
    },
    {
     "name": "stderr",
     "output_type": "stream",
     "text": [
      "Using cache found in /home/asufian/.cache/torch/hub/pytorch_vision_v0.10.0\n",
      "/home/asufian/.local/share/pipx/venvs/notebook/lib/python3.12/site-packages/torchvision/models/_utils.py:208: UserWarning: The parameter 'pretrained' is deprecated since 0.13 and may be removed in the future, please use 'weights' instead.\n",
      "  warnings.warn(\n",
      "/home/asufian/.local/share/pipx/venvs/notebook/lib/python3.12/site-packages/torchvision/models/_utils.py:223: UserWarning: Arguments other than a weight enum or `None` for 'weights' are deprecated since 0.13 and may be removed in the future. The current behavior is equivalent to passing `weights=None`.\n",
      "  warnings.warn(msg)\n",
      "Using cache found in /home/asufian/.cache/torch/hub/pytorch_vision_v0.10.0\n"
     ]
    },
    {
     "name": "stdout",
     "output_type": "stream",
     "text": [
      "----------------------> 0.6087017543859649\n",
      "Evaluated Accuracy: 0.6087\n",
      "Testing b_a_r = -0.9971, c_a_r = -0.0188, f_a_r = -0.8844\n"
     ]
    },
    {
     "name": "stderr",
     "output_type": "stream",
     "text": [
      "Using cache found in /home/asufian/.cache/torch/hub/pytorch_vision_v0.10.0\n",
      "/home/asufian/.local/share/pipx/venvs/notebook/lib/python3.12/site-packages/torchvision/models/_utils.py:208: UserWarning: The parameter 'pretrained' is deprecated since 0.13 and may be removed in the future, please use 'weights' instead.\n",
      "  warnings.warn(\n",
      "/home/asufian/.local/share/pipx/venvs/notebook/lib/python3.12/site-packages/torchvision/models/_utils.py:223: UserWarning: Arguments other than a weight enum or `None` for 'weights' are deprecated since 0.13 and may be removed in the future. The current behavior is equivalent to passing `weights=None`.\n",
      "  warnings.warn(msg)\n",
      "Using cache found in /home/asufian/.cache/torch/hub/pytorch_vision_v0.10.0\n"
     ]
    },
    {
     "name": "stdout",
     "output_type": "stream",
     "text": [
      "----------------------> 0.6147368421052632\n",
      "Evaluated Accuracy: 0.6147\n",
      "Testing b_a_r = -0.9598, c_a_r = -0.0672, f_a_r = -0.8224\n"
     ]
    },
    {
     "name": "stderr",
     "output_type": "stream",
     "text": [
      "Using cache found in /home/asufian/.cache/torch/hub/pytorch_vision_v0.10.0\n",
      "/home/asufian/.local/share/pipx/venvs/notebook/lib/python3.12/site-packages/torchvision/models/_utils.py:208: UserWarning: The parameter 'pretrained' is deprecated since 0.13 and may be removed in the future, please use 'weights' instead.\n",
      "  warnings.warn(\n",
      "/home/asufian/.local/share/pipx/venvs/notebook/lib/python3.12/site-packages/torchvision/models/_utils.py:223: UserWarning: Arguments other than a weight enum or `None` for 'weights' are deprecated since 0.13 and may be removed in the future. The current behavior is equivalent to passing `weights=None`.\n",
      "  warnings.warn(msg)\n",
      "Using cache found in /home/asufian/.cache/torch/hub/pytorch_vision_v0.10.0\n"
     ]
    },
    {
     "name": "stdout",
     "output_type": "stream",
     "text": [
      "----------------------> 0.6141754385964914\n",
      "Evaluated Accuracy: 0.6142\n",
      "Testing b_a_r = -0.9633, c_a_r = 0.8320, f_a_r = 0.9832\n"
     ]
    },
    {
     "name": "stderr",
     "output_type": "stream",
     "text": [
      "Using cache found in /home/asufian/.cache/torch/hub/pytorch_vision_v0.10.0\n",
      "/home/asufian/.local/share/pipx/venvs/notebook/lib/python3.12/site-packages/torchvision/models/_utils.py:208: UserWarning: The parameter 'pretrained' is deprecated since 0.13 and may be removed in the future, please use 'weights' instead.\n",
      "  warnings.warn(\n",
      "/home/asufian/.local/share/pipx/venvs/notebook/lib/python3.12/site-packages/torchvision/models/_utils.py:223: UserWarning: Arguments other than a weight enum or `None` for 'weights' are deprecated since 0.13 and may be removed in the future. The current behavior is equivalent to passing `weights=None`.\n",
      "  warnings.warn(msg)\n",
      "Using cache found in /home/asufian/.cache/torch/hub/pytorch_vision_v0.10.0\n"
     ]
    },
    {
     "name": "stdout",
     "output_type": "stream",
     "text": [
      "----------------------> 0.2811228070175439\n",
      "Evaluated Accuracy: 0.2811\n",
      "Testing b_a_r = 0.9536, c_a_r = 0.2604, f_a_r = 0.6820\n"
     ]
    },
    {
     "name": "stderr",
     "output_type": "stream",
     "text": [
      "Using cache found in /home/asufian/.cache/torch/hub/pytorch_vision_v0.10.0\n",
      "/home/asufian/.local/share/pipx/venvs/notebook/lib/python3.12/site-packages/torchvision/models/_utils.py:208: UserWarning: The parameter 'pretrained' is deprecated since 0.13 and may be removed in the future, please use 'weights' instead.\n",
      "  warnings.warn(\n",
      "/home/asufian/.local/share/pipx/venvs/notebook/lib/python3.12/site-packages/torchvision/models/_utils.py:223: UserWarning: Arguments other than a weight enum or `None` for 'weights' are deprecated since 0.13 and may be removed in the future. The current behavior is equivalent to passing `weights=None`.\n",
      "  warnings.warn(msg)\n",
      "Using cache found in /home/asufian/.cache/torch/hub/pytorch_vision_v0.10.0\n"
     ]
    },
    {
     "name": "stdout",
     "output_type": "stream",
     "text": [
      "----------------------> 0.48659649122807014\n",
      "Evaluated Accuracy: 0.4866\n",
      "Testing b_a_r = -0.9229, c_a_r = 0.0783, f_a_r = -0.8472\n"
     ]
    },
    {
     "name": "stderr",
     "output_type": "stream",
     "text": [
      "Using cache found in /home/asufian/.cache/torch/hub/pytorch_vision_v0.10.0\n",
      "/home/asufian/.local/share/pipx/venvs/notebook/lib/python3.12/site-packages/torchvision/models/_utils.py:208: UserWarning: The parameter 'pretrained' is deprecated since 0.13 and may be removed in the future, please use 'weights' instead.\n",
      "  warnings.warn(\n",
      "/home/asufian/.local/share/pipx/venvs/notebook/lib/python3.12/site-packages/torchvision/models/_utils.py:223: UserWarning: Arguments other than a weight enum or `None` for 'weights' are deprecated since 0.13 and may be removed in the future. The current behavior is equivalent to passing `weights=None`.\n",
      "  warnings.warn(msg)\n",
      "Using cache found in /home/asufian/.cache/torch/hub/pytorch_vision_v0.10.0\n"
     ]
    },
    {
     "name": "stdout",
     "output_type": "stream",
     "text": [
      "----------------------> 0.5831578947368422\n",
      "Evaluated Accuracy: 0.5832\n",
      "Testing b_a_r = -0.9834, c_a_r = 0.0235, f_a_r = -0.7445\n"
     ]
    },
    {
     "name": "stderr",
     "output_type": "stream",
     "text": [
      "Using cache found in /home/asufian/.cache/torch/hub/pytorch_vision_v0.10.0\n",
      "/home/asufian/.local/share/pipx/venvs/notebook/lib/python3.12/site-packages/torchvision/models/_utils.py:208: UserWarning: The parameter 'pretrained' is deprecated since 0.13 and may be removed in the future, please use 'weights' instead.\n",
      "  warnings.warn(\n",
      "/home/asufian/.local/share/pipx/venvs/notebook/lib/python3.12/site-packages/torchvision/models/_utils.py:223: UserWarning: Arguments other than a weight enum or `None` for 'weights' are deprecated since 0.13 and may be removed in the future. The current behavior is equivalent to passing `weights=None`.\n",
      "  warnings.warn(msg)\n",
      "Using cache found in /home/asufian/.cache/torch/hub/pytorch_vision_v0.10.0\n"
     ]
    },
    {
     "name": "stdout",
     "output_type": "stream",
     "text": [
      "----------------------> 0.6050526315789474\n",
      "Evaluated Accuracy: 0.6051\n",
      "Testing b_a_r = -0.9371, c_a_r = -0.0706, f_a_r = 0.5267\n"
     ]
    },
    {
     "name": "stderr",
     "output_type": "stream",
     "text": [
      "Using cache found in /home/asufian/.cache/torch/hub/pytorch_vision_v0.10.0\n",
      "/home/asufian/.local/share/pipx/venvs/notebook/lib/python3.12/site-packages/torchvision/models/_utils.py:208: UserWarning: The parameter 'pretrained' is deprecated since 0.13 and may be removed in the future, please use 'weights' instead.\n",
      "  warnings.warn(\n",
      "/home/asufian/.local/share/pipx/venvs/notebook/lib/python3.12/site-packages/torchvision/models/_utils.py:223: UserWarning: Arguments other than a weight enum or `None` for 'weights' are deprecated since 0.13 and may be removed in the future. The current behavior is equivalent to passing `weights=None`.\n",
      "  warnings.warn(msg)\n",
      "Using cache found in /home/asufian/.cache/torch/hub/pytorch_vision_v0.10.0\n"
     ]
    },
    {
     "name": "stdout",
     "output_type": "stream",
     "text": [
      "----------------------> 0.6134736842105262\n",
      "Evaluated Accuracy: 0.6135\n",
      "Testing b_a_r = 0.9566, c_a_r = 0.1659, f_a_r = 0.9376\n"
     ]
    },
    {
     "name": "stderr",
     "output_type": "stream",
     "text": [
      "Using cache found in /home/asufian/.cache/torch/hub/pytorch_vision_v0.10.0\n",
      "/home/asufian/.local/share/pipx/venvs/notebook/lib/python3.12/site-packages/torchvision/models/_utils.py:208: UserWarning: The parameter 'pretrained' is deprecated since 0.13 and may be removed in the future, please use 'weights' instead.\n",
      "  warnings.warn(\n",
      "/home/asufian/.local/share/pipx/venvs/notebook/lib/python3.12/site-packages/torchvision/models/_utils.py:223: UserWarning: Arguments other than a weight enum or `None` for 'weights' are deprecated since 0.13 and may be removed in the future. The current behavior is equivalent to passing `weights=None`.\n",
      "  warnings.warn(msg)\n",
      "Using cache found in /home/asufian/.cache/torch/hub/pytorch_vision_v0.10.0\n"
     ]
    },
    {
     "name": "stdout",
     "output_type": "stream",
     "text": [
      "----------------------> 0.5382456140350876\n",
      "Evaluated Accuracy: 0.5382\n",
      "Testing b_a_r = -0.9561, c_a_r = -0.0520, f_a_r = -0.7283\n"
     ]
    },
    {
     "name": "stderr",
     "output_type": "stream",
     "text": [
      "Using cache found in /home/asufian/.cache/torch/hub/pytorch_vision_v0.10.0\n",
      "/home/asufian/.local/share/pipx/venvs/notebook/lib/python3.12/site-packages/torchvision/models/_utils.py:208: UserWarning: The parameter 'pretrained' is deprecated since 0.13 and may be removed in the future, please use 'weights' instead.\n",
      "  warnings.warn(\n",
      "/home/asufian/.local/share/pipx/venvs/notebook/lib/python3.12/site-packages/torchvision/models/_utils.py:223: UserWarning: Arguments other than a weight enum or `None` for 'weights' are deprecated since 0.13 and may be removed in the future. The current behavior is equivalent to passing `weights=None`.\n",
      "  warnings.warn(msg)\n",
      "Using cache found in /home/asufian/.cache/torch/hub/pytorch_vision_v0.10.0\n"
     ]
    },
    {
     "name": "stdout",
     "output_type": "stream",
     "text": [
      "----------------------> 0.616280701754386\n",
      "Evaluated Accuracy: 0.6163\n",
      "Testing b_a_r = 0.9623, c_a_r = -0.0769, f_a_r = 0.5992\n"
     ]
    },
    {
     "name": "stderr",
     "output_type": "stream",
     "text": [
      "Using cache found in /home/asufian/.cache/torch/hub/pytorch_vision_v0.10.0\n",
      "/home/asufian/.local/share/pipx/venvs/notebook/lib/python3.12/site-packages/torchvision/models/_utils.py:208: UserWarning: The parameter 'pretrained' is deprecated since 0.13 and may be removed in the future, please use 'weights' instead.\n",
      "  warnings.warn(\n",
      "/home/asufian/.local/share/pipx/venvs/notebook/lib/python3.12/site-packages/torchvision/models/_utils.py:223: UserWarning: Arguments other than a weight enum or `None` for 'weights' are deprecated since 0.13 and may be removed in the future. The current behavior is equivalent to passing `weights=None`.\n",
      "  warnings.warn(msg)\n",
      "Using cache found in /home/asufian/.cache/torch/hub/pytorch_vision_v0.10.0\n"
     ]
    },
    {
     "name": "stdout",
     "output_type": "stream",
     "text": [
      "----------------------> 0.6022456140350877\n",
      "Evaluated Accuracy: 0.6022\n",
      "Testing b_a_r = 0.9231, c_a_r = -0.4151, f_a_r = 0.7713\n"
     ]
    },
    {
     "name": "stderr",
     "output_type": "stream",
     "text": [
      "Using cache found in /home/asufian/.cache/torch/hub/pytorch_vision_v0.10.0\n",
      "/home/asufian/.local/share/pipx/venvs/notebook/lib/python3.12/site-packages/torchvision/models/_utils.py:208: UserWarning: The parameter 'pretrained' is deprecated since 0.13 and may be removed in the future, please use 'weights' instead.\n",
      "  warnings.warn(\n",
      "/home/asufian/.local/share/pipx/venvs/notebook/lib/python3.12/site-packages/torchvision/models/_utils.py:223: UserWarning: Arguments other than a weight enum or `None` for 'weights' are deprecated since 0.13 and may be removed in the future. The current behavior is equivalent to passing `weights=None`.\n",
      "  warnings.warn(msg)\n",
      "Using cache found in /home/asufian/.cache/torch/hub/pytorch_vision_v0.10.0\n"
     ]
    },
    {
     "name": "stdout",
     "output_type": "stream",
     "text": [
      "----------------------> 0.22161403508771932\n",
      "Evaluated Accuracy: 0.2216\n",
      "Testing b_a_r = -0.9928, c_a_r = -0.0274, f_a_r = 0.9609\n"
     ]
    },
    {
     "name": "stderr",
     "output_type": "stream",
     "text": [
      "Using cache found in /home/asufian/.cache/torch/hub/pytorch_vision_v0.10.0\n",
      "/home/asufian/.local/share/pipx/venvs/notebook/lib/python3.12/site-packages/torchvision/models/_utils.py:208: UserWarning: The parameter 'pretrained' is deprecated since 0.13 and may be removed in the future, please use 'weights' instead.\n",
      "  warnings.warn(\n",
      "/home/asufian/.local/share/pipx/venvs/notebook/lib/python3.12/site-packages/torchvision/models/_utils.py:223: UserWarning: Arguments other than a weight enum or `None` for 'weights' are deprecated since 0.13 and may be removed in the future. The current behavior is equivalent to passing `weights=None`.\n",
      "  warnings.warn(msg)\n",
      "Using cache found in /home/asufian/.cache/torch/hub/pytorch_vision_v0.10.0\n"
     ]
    },
    {
     "name": "stdout",
     "output_type": "stream",
     "text": [
      "----------------------> 0.6138947368421053\n",
      "Evaluated Accuracy: 0.6139\n",
      "Testing b_a_r = -0.9200, c_a_r = 0.0070, f_a_r = 0.9639\n"
     ]
    },
    {
     "name": "stderr",
     "output_type": "stream",
     "text": [
      "Using cache found in /home/asufian/.cache/torch/hub/pytorch_vision_v0.10.0\n",
      "/home/asufian/.local/share/pipx/venvs/notebook/lib/python3.12/site-packages/torchvision/models/_utils.py:208: UserWarning: The parameter 'pretrained' is deprecated since 0.13 and may be removed in the future, please use 'weights' instead.\n",
      "  warnings.warn(\n",
      "/home/asufian/.local/share/pipx/venvs/notebook/lib/python3.12/site-packages/torchvision/models/_utils.py:223: UserWarning: Arguments other than a weight enum or `None` for 'weights' are deprecated since 0.13 and may be removed in the future. The current behavior is equivalent to passing `weights=None`.\n",
      "  warnings.warn(msg)\n",
      "Using cache found in /home/asufian/.cache/torch/hub/pytorch_vision_v0.10.0\n"
     ]
    },
    {
     "name": "stdout",
     "output_type": "stream",
     "text": [
      "----------------------> 0.6099649122807018\n",
      "Evaluated Accuracy: 0.6100\n",
      "Testing b_a_r = 0.9607, c_a_r = -0.1545, f_a_r = 0.5920\n"
     ]
    },
    {
     "name": "stderr",
     "output_type": "stream",
     "text": [
      "Using cache found in /home/asufian/.cache/torch/hub/pytorch_vision_v0.10.0\n",
      "/home/asufian/.local/share/pipx/venvs/notebook/lib/python3.12/site-packages/torchvision/models/_utils.py:208: UserWarning: The parameter 'pretrained' is deprecated since 0.13 and may be removed in the future, please use 'weights' instead.\n",
      "  warnings.warn(\n",
      "/home/asufian/.local/share/pipx/venvs/notebook/lib/python3.12/site-packages/torchvision/models/_utils.py:223: UserWarning: Arguments other than a weight enum or `None` for 'weights' are deprecated since 0.13 and may be removed in the future. The current behavior is equivalent to passing `weights=None`.\n",
      "  warnings.warn(msg)\n",
      "Using cache found in /home/asufian/.cache/torch/hub/pytorch_vision_v0.10.0\n"
     ]
    },
    {
     "name": "stdout",
     "output_type": "stream",
     "text": [
      "----------------------> 0.48996491228070177\n",
      "Evaluated Accuracy: 0.4900\n",
      "Testing b_a_r = 0.8812, c_a_r = 0.0514, f_a_r = -0.9249\n"
     ]
    },
    {
     "name": "stderr",
     "output_type": "stream",
     "text": [
      "Using cache found in /home/asufian/.cache/torch/hub/pytorch_vision_v0.10.0\n",
      "/home/asufian/.local/share/pipx/venvs/notebook/lib/python3.12/site-packages/torchvision/models/_utils.py:208: UserWarning: The parameter 'pretrained' is deprecated since 0.13 and may be removed in the future, please use 'weights' instead.\n",
      "  warnings.warn(\n",
      "/home/asufian/.local/share/pipx/venvs/notebook/lib/python3.12/site-packages/torchvision/models/_utils.py:223: UserWarning: Arguments other than a weight enum or `None` for 'weights' are deprecated since 0.13 and may be removed in the future. The current behavior is equivalent to passing `weights=None`.\n",
      "  warnings.warn(msg)\n",
      "Using cache found in /home/asufian/.cache/torch/hub/pytorch_vision_v0.10.0\n"
     ]
    },
    {
     "name": "stdout",
     "output_type": "stream",
     "text": [
      "----------------------> 0.5941052631578947\n",
      "Evaluated Accuracy: 0.5941\n",
      "Testing b_a_r = 0.9796, c_a_r = -0.5616, f_a_r = 0.3768\n"
     ]
    },
    {
     "name": "stderr",
     "output_type": "stream",
     "text": [
      "Using cache found in /home/asufian/.cache/torch/hub/pytorch_vision_v0.10.0\n",
      "/home/asufian/.local/share/pipx/venvs/notebook/lib/python3.12/site-packages/torchvision/models/_utils.py:208: UserWarning: The parameter 'pretrained' is deprecated since 0.13 and may be removed in the future, please use 'weights' instead.\n",
      "  warnings.warn(\n",
      "/home/asufian/.local/share/pipx/venvs/notebook/lib/python3.12/site-packages/torchvision/models/_utils.py:223: UserWarning: Arguments other than a weight enum or `None` for 'weights' are deprecated since 0.13 and may be removed in the future. The current behavior is equivalent to passing `weights=None`.\n",
      "  warnings.warn(msg)\n",
      "Using cache found in /home/asufian/.cache/torch/hub/pytorch_vision_v0.10.0\n"
     ]
    },
    {
     "name": "stdout",
     "output_type": "stream",
     "text": [
      "----------------------> 0.21221052631578946\n",
      "Evaluated Accuracy: 0.2122\n",
      "Testing b_a_r = -0.9534, c_a_r = -0.0617, f_a_r = 0.9453\n"
     ]
    },
    {
     "name": "stderr",
     "output_type": "stream",
     "text": [
      "Using cache found in /home/asufian/.cache/torch/hub/pytorch_vision_v0.10.0\n",
      "/home/asufian/.local/share/pipx/venvs/notebook/lib/python3.12/site-packages/torchvision/models/_utils.py:208: UserWarning: The parameter 'pretrained' is deprecated since 0.13 and may be removed in the future, please use 'weights' instead.\n",
      "  warnings.warn(\n",
      "/home/asufian/.local/share/pipx/venvs/notebook/lib/python3.12/site-packages/torchvision/models/_utils.py:223: UserWarning: Arguments other than a weight enum or `None` for 'weights' are deprecated since 0.13 and may be removed in the future. The current behavior is equivalent to passing `weights=None`.\n",
      "  warnings.warn(msg)\n",
      "Using cache found in /home/asufian/.cache/torch/hub/pytorch_vision_v0.10.0\n"
     ]
    },
    {
     "name": "stdout",
     "output_type": "stream",
     "text": [
      "----------------------> 0.6141754385964914\n",
      "Evaluated Accuracy: 0.6142\n",
      "Testing b_a_r = -0.9946, c_a_r = -0.0488, f_a_r = -0.9513\n"
     ]
    },
    {
     "name": "stderr",
     "output_type": "stream",
     "text": [
      "Using cache found in /home/asufian/.cache/torch/hub/pytorch_vision_v0.10.0\n",
      "/home/asufian/.local/share/pipx/venvs/notebook/lib/python3.12/site-packages/torchvision/models/_utils.py:208: UserWarning: The parameter 'pretrained' is deprecated since 0.13 and may be removed in the future, please use 'weights' instead.\n",
      "  warnings.warn(\n",
      "/home/asufian/.local/share/pipx/venvs/notebook/lib/python3.12/site-packages/torchvision/models/_utils.py:223: UserWarning: Arguments other than a weight enum or `None` for 'weights' are deprecated since 0.13 and may be removed in the future. The current behavior is equivalent to passing `weights=None`.\n",
      "  warnings.warn(msg)\n",
      "Using cache found in /home/asufian/.cache/torch/hub/pytorch_vision_v0.10.0\n"
     ]
    },
    {
     "name": "stdout",
     "output_type": "stream",
     "text": [
      "----------------------> 0.615719298245614\n",
      "Evaluated Accuracy: 0.6157\n",
      "Testing b_a_r = -0.9148, c_a_r = -0.0782, f_a_r = -0.9194\n"
     ]
    },
    {
     "name": "stderr",
     "output_type": "stream",
     "text": [
      "Using cache found in /home/asufian/.cache/torch/hub/pytorch_vision_v0.10.0\n",
      "/home/asufian/.local/share/pipx/venvs/notebook/lib/python3.12/site-packages/torchvision/models/_utils.py:208: UserWarning: The parameter 'pretrained' is deprecated since 0.13 and may be removed in the future, please use 'weights' instead.\n",
      "  warnings.warn(\n",
      "/home/asufian/.local/share/pipx/venvs/notebook/lib/python3.12/site-packages/torchvision/models/_utils.py:223: UserWarning: Arguments other than a weight enum or `None` for 'weights' are deprecated since 0.13 and may be removed in the future. The current behavior is equivalent to passing `weights=None`.\n",
      "  warnings.warn(msg)\n",
      "Using cache found in /home/asufian/.cache/torch/hub/pytorch_vision_v0.10.0\n"
     ]
    },
    {
     "name": "stdout",
     "output_type": "stream",
     "text": [
      "----------------------> 0.6095438596491227\n",
      "Evaluated Accuracy: 0.6095\n",
      "Testing b_a_r = 0.9912, c_a_r = -0.0034, f_a_r = -0.8806\n"
     ]
    },
    {
     "name": "stderr",
     "output_type": "stream",
     "text": [
      "Using cache found in /home/asufian/.cache/torch/hub/pytorch_vision_v0.10.0\n",
      "/home/asufian/.local/share/pipx/venvs/notebook/lib/python3.12/site-packages/torchvision/models/_utils.py:208: UserWarning: The parameter 'pretrained' is deprecated since 0.13 and may be removed in the future, please use 'weights' instead.\n",
      "  warnings.warn(\n",
      "/home/asufian/.local/share/pipx/venvs/notebook/lib/python3.12/site-packages/torchvision/models/_utils.py:223: UserWarning: Arguments other than a weight enum or `None` for 'weights' are deprecated since 0.13 and may be removed in the future. The current behavior is equivalent to passing `weights=None`.\n",
      "  warnings.warn(msg)\n",
      "Using cache found in /home/asufian/.cache/torch/hub/pytorch_vision_v0.10.0\n"
     ]
    },
    {
     "name": "stdout",
     "output_type": "stream",
     "text": [
      "----------------------> 0.6050526315789474\n",
      "Evaluated Accuracy: 0.6051\n",
      "Testing b_a_r = 0.9790, c_a_r = -0.0590, f_a_r = -0.9182\n"
     ]
    },
    {
     "name": "stderr",
     "output_type": "stream",
     "text": [
      "Using cache found in /home/asufian/.cache/torch/hub/pytorch_vision_v0.10.0\n",
      "/home/asufian/.local/share/pipx/venvs/notebook/lib/python3.12/site-packages/torchvision/models/_utils.py:208: UserWarning: The parameter 'pretrained' is deprecated since 0.13 and may be removed in the future, please use 'weights' instead.\n",
      "  warnings.warn(\n",
      "/home/asufian/.local/share/pipx/venvs/notebook/lib/python3.12/site-packages/torchvision/models/_utils.py:223: UserWarning: Arguments other than a weight enum or `None` for 'weights' are deprecated since 0.13 and may be removed in the future. The current behavior is equivalent to passing `weights=None`.\n",
      "  warnings.warn(msg)\n",
      "Using cache found in /home/asufian/.cache/torch/hub/pytorch_vision_v0.10.0\n"
     ]
    },
    {
     "name": "stdout",
     "output_type": "stream",
     "text": [
      "----------------------> 0.6103859649122807\n",
      "Evaluated Accuracy: 0.6104\n",
      "Testing b_a_r = 0.9934, c_a_r = 0.0270, f_a_r = 0.7698\n"
     ]
    },
    {
     "name": "stderr",
     "output_type": "stream",
     "text": [
      "Using cache found in /home/asufian/.cache/torch/hub/pytorch_vision_v0.10.0\n",
      "/home/asufian/.local/share/pipx/venvs/notebook/lib/python3.12/site-packages/torchvision/models/_utils.py:208: UserWarning: The parameter 'pretrained' is deprecated since 0.13 and may be removed in the future, please use 'weights' instead.\n",
      "  warnings.warn(\n",
      "/home/asufian/.local/share/pipx/venvs/notebook/lib/python3.12/site-packages/torchvision/models/_utils.py:223: UserWarning: Arguments other than a weight enum or `None` for 'weights' are deprecated since 0.13 and may be removed in the future. The current behavior is equivalent to passing `weights=None`.\n",
      "  warnings.warn(msg)\n",
      "Using cache found in /home/asufian/.cache/torch/hub/pytorch_vision_v0.10.0\n"
     ]
    },
    {
     "name": "stdout",
     "output_type": "stream",
     "text": [
      "----------------------> 0.5991578947368422\n",
      "Evaluated Accuracy: 0.5992\n",
      "Testing b_a_r = 0.9941, c_a_r = -0.2652, f_a_r = 0.5840\n"
     ]
    },
    {
     "name": "stderr",
     "output_type": "stream",
     "text": [
      "Using cache found in /home/asufian/.cache/torch/hub/pytorch_vision_v0.10.0\n",
      "/home/asufian/.local/share/pipx/venvs/notebook/lib/python3.12/site-packages/torchvision/models/_utils.py:208: UserWarning: The parameter 'pretrained' is deprecated since 0.13 and may be removed in the future, please use 'weights' instead.\n",
      "  warnings.warn(\n",
      "/home/asufian/.local/share/pipx/venvs/notebook/lib/python3.12/site-packages/torchvision/models/_utils.py:223: UserWarning: Arguments other than a weight enum or `None` for 'weights' are deprecated since 0.13 and may be removed in the future. The current behavior is equivalent to passing `weights=None`.\n",
      "  warnings.warn(msg)\n",
      "Using cache found in /home/asufian/.cache/torch/hub/pytorch_vision_v0.10.0\n"
     ]
    },
    {
     "name": "stdout",
     "output_type": "stream",
     "text": [
      "----------------------> 0.3324912280701755\n",
      "Evaluated Accuracy: 0.3325\n",
      "Testing b_a_r = 0.9534, c_a_r = 0.3646, f_a_r = 0.6784\n"
     ]
    },
    {
     "name": "stderr",
     "output_type": "stream",
     "text": [
      "Using cache found in /home/asufian/.cache/torch/hub/pytorch_vision_v0.10.0\n",
      "/home/asufian/.local/share/pipx/venvs/notebook/lib/python3.12/site-packages/torchvision/models/_utils.py:208: UserWarning: The parameter 'pretrained' is deprecated since 0.13 and may be removed in the future, please use 'weights' instead.\n",
      "  warnings.warn(\n",
      "/home/asufian/.local/share/pipx/venvs/notebook/lib/python3.12/site-packages/torchvision/models/_utils.py:223: UserWarning: Arguments other than a weight enum or `None` for 'weights' are deprecated since 0.13 and may be removed in the future. The current behavior is equivalent to passing `weights=None`.\n",
      "  warnings.warn(msg)\n",
      "Using cache found in /home/asufian/.cache/torch/hub/pytorch_vision_v0.10.0\n"
     ]
    },
    {
     "name": "stdout",
     "output_type": "stream",
     "text": [
      "----------------------> 0.4266666666666667\n",
      "Evaluated Accuracy: 0.4267\n",
      "Testing b_a_r = -0.9501, c_a_r = -0.0650, f_a_r = -0.7556\n"
     ]
    },
    {
     "name": "stderr",
     "output_type": "stream",
     "text": [
      "Using cache found in /home/asufian/.cache/torch/hub/pytorch_vision_v0.10.0\n",
      "/home/asufian/.local/share/pipx/venvs/notebook/lib/python3.12/site-packages/torchvision/models/_utils.py:208: UserWarning: The parameter 'pretrained' is deprecated since 0.13 and may be removed in the future, please use 'weights' instead.\n",
      "  warnings.warn(\n",
      "/home/asufian/.local/share/pipx/venvs/notebook/lib/python3.12/site-packages/torchvision/models/_utils.py:223: UserWarning: Arguments other than a weight enum or `None` for 'weights' are deprecated since 0.13 and may be removed in the future. The current behavior is equivalent to passing `weights=None`.\n",
      "  warnings.warn(msg)\n",
      "Using cache found in /home/asufian/.cache/torch/hub/pytorch_vision_v0.10.0\n"
     ]
    },
    {
     "name": "stdout",
     "output_type": "stream",
     "text": [
      "----------------------> 0.6130526315789474\n",
      "Evaluated Accuracy: 0.6131\n",
      "Testing b_a_r = -0.9870, c_a_r = -0.0404, f_a_r = -0.9702\n"
     ]
    },
    {
     "name": "stderr",
     "output_type": "stream",
     "text": [
      "Using cache found in /home/asufian/.cache/torch/hub/pytorch_vision_v0.10.0\n",
      "/home/asufian/.local/share/pipx/venvs/notebook/lib/python3.12/site-packages/torchvision/models/_utils.py:208: UserWarning: The parameter 'pretrained' is deprecated since 0.13 and may be removed in the future, please use 'weights' instead.\n",
      "  warnings.warn(\n",
      "/home/asufian/.local/share/pipx/venvs/notebook/lib/python3.12/site-packages/torchvision/models/_utils.py:223: UserWarning: Arguments other than a weight enum or `None` for 'weights' are deprecated since 0.13 and may be removed in the future. The current behavior is equivalent to passing `weights=None`.\n",
      "  warnings.warn(msg)\n",
      "Using cache found in /home/asufian/.cache/torch/hub/pytorch_vision_v0.10.0\n"
     ]
    },
    {
     "name": "stdout",
     "output_type": "stream",
     "text": [
      "----------------------> 0.6169824561403511\n",
      "Evaluated Accuracy: 0.6170\n",
      "Testing b_a_r = -0.9144, c_a_r = -0.0055, f_a_r = -0.9083\n"
     ]
    },
    {
     "name": "stderr",
     "output_type": "stream",
     "text": [
      "Using cache found in /home/asufian/.cache/torch/hub/pytorch_vision_v0.10.0\n",
      "/home/asufian/.local/share/pipx/venvs/notebook/lib/python3.12/site-packages/torchvision/models/_utils.py:208: UserWarning: The parameter 'pretrained' is deprecated since 0.13 and may be removed in the future, please use 'weights' instead.\n",
      "  warnings.warn(\n",
      "/home/asufian/.local/share/pipx/venvs/notebook/lib/python3.12/site-packages/torchvision/models/_utils.py:223: UserWarning: Arguments other than a weight enum or `None` for 'weights' are deprecated since 0.13 and may be removed in the future. The current behavior is equivalent to passing `weights=None`.\n",
      "  warnings.warn(msg)\n",
      "Using cache found in /home/asufian/.cache/torch/hub/pytorch_vision_v0.10.0\n"
     ]
    },
    {
     "name": "stdout",
     "output_type": "stream",
     "text": [
      "----------------------> 0.614456140350877\n",
      "Evaluated Accuracy: 0.6145\n",
      "Testing b_a_r = -0.9480, c_a_r = -0.0538, f_a_r = 0.9515\n"
     ]
    },
    {
     "name": "stderr",
     "output_type": "stream",
     "text": [
      "Using cache found in /home/asufian/.cache/torch/hub/pytorch_vision_v0.10.0\n",
      "/home/asufian/.local/share/pipx/venvs/notebook/lib/python3.12/site-packages/torchvision/models/_utils.py:208: UserWarning: The parameter 'pretrained' is deprecated since 0.13 and may be removed in the future, please use 'weights' instead.\n",
      "  warnings.warn(\n",
      "/home/asufian/.local/share/pipx/venvs/notebook/lib/python3.12/site-packages/torchvision/models/_utils.py:223: UserWarning: Arguments other than a weight enum or `None` for 'weights' are deprecated since 0.13 and may be removed in the future. The current behavior is equivalent to passing `weights=None`.\n",
      "  warnings.warn(msg)\n",
      "Using cache found in /home/asufian/.cache/torch/hub/pytorch_vision_v0.10.0\n"
     ]
    },
    {
     "name": "stdout",
     "output_type": "stream",
     "text": [
      "----------------------> 0.6151578947368421\n",
      "Evaluated Accuracy: 0.6152\n",
      "Testing b_a_r = -0.9432, c_a_r = 0.0346, f_a_r = -0.9163\n"
     ]
    },
    {
     "name": "stderr",
     "output_type": "stream",
     "text": [
      "Using cache found in /home/asufian/.cache/torch/hub/pytorch_vision_v0.10.0\n",
      "/home/asufian/.local/share/pipx/venvs/notebook/lib/python3.12/site-packages/torchvision/models/_utils.py:208: UserWarning: The parameter 'pretrained' is deprecated since 0.13 and may be removed in the future, please use 'weights' instead.\n",
      "  warnings.warn(\n",
      "/home/asufian/.local/share/pipx/venvs/notebook/lib/python3.12/site-packages/torchvision/models/_utils.py:223: UserWarning: Arguments other than a weight enum or `None` for 'weights' are deprecated since 0.13 and may be removed in the future. The current behavior is equivalent to passing `weights=None`.\n",
      "  warnings.warn(msg)\n",
      "Using cache found in /home/asufian/.cache/torch/hub/pytorch_vision_v0.10.0\n"
     ]
    },
    {
     "name": "stdout",
     "output_type": "stream",
     "text": [
      "----------------------> 0.6023859649122806\n",
      "Evaluated Accuracy: 0.6024\n",
      "Testing b_a_r = -0.9426, c_a_r = 0.5720, f_a_r = -0.3891\n"
     ]
    },
    {
     "name": "stderr",
     "output_type": "stream",
     "text": [
      "Using cache found in /home/asufian/.cache/torch/hub/pytorch_vision_v0.10.0\n",
      "/home/asufian/.local/share/pipx/venvs/notebook/lib/python3.12/site-packages/torchvision/models/_utils.py:208: UserWarning: The parameter 'pretrained' is deprecated since 0.13 and may be removed in the future, please use 'weights' instead.\n",
      "  warnings.warn(\n",
      "/home/asufian/.local/share/pipx/venvs/notebook/lib/python3.12/site-packages/torchvision/models/_utils.py:223: UserWarning: Arguments other than a weight enum or `None` for 'weights' are deprecated since 0.13 and may be removed in the future. The current behavior is equivalent to passing `weights=None`.\n",
      "  warnings.warn(msg)\n",
      "Using cache found in /home/asufian/.cache/torch/hub/pytorch_vision_v0.10.0\n"
     ]
    },
    {
     "name": "stdout",
     "output_type": "stream",
     "text": [
      "----------------------> 0.3167719298245614\n",
      "Evaluated Accuracy: 0.3168\n",
      "Testing b_a_r = -0.9539, c_a_r = -0.0247, f_a_r = 0.8504\n"
     ]
    },
    {
     "name": "stderr",
     "output_type": "stream",
     "text": [
      "Using cache found in /home/asufian/.cache/torch/hub/pytorch_vision_v0.10.0\n",
      "/home/asufian/.local/share/pipx/venvs/notebook/lib/python3.12/site-packages/torchvision/models/_utils.py:208: UserWarning: The parameter 'pretrained' is deprecated since 0.13 and may be removed in the future, please use 'weights' instead.\n",
      "  warnings.warn(\n",
      "/home/asufian/.local/share/pipx/venvs/notebook/lib/python3.12/site-packages/torchvision/models/_utils.py:223: UserWarning: Arguments other than a weight enum or `None` for 'weights' are deprecated since 0.13 and may be removed in the future. The current behavior is equivalent to passing `weights=None`.\n",
      "  warnings.warn(msg)\n",
      "Using cache found in /home/asufian/.cache/torch/hub/pytorch_vision_v0.10.0\n"
     ]
    },
    {
     "name": "stdout",
     "output_type": "stream",
     "text": [
      "----------------------> 0.6131929824561404\n",
      "Evaluated Accuracy: 0.6132\n",
      "Testing b_a_r = -0.9817, c_a_r = -0.0618, f_a_r = -0.8976\n"
     ]
    },
    {
     "name": "stderr",
     "output_type": "stream",
     "text": [
      "Using cache found in /home/asufian/.cache/torch/hub/pytorch_vision_v0.10.0\n",
      "/home/asufian/.local/share/pipx/venvs/notebook/lib/python3.12/site-packages/torchvision/models/_utils.py:208: UserWarning: The parameter 'pretrained' is deprecated since 0.13 and may be removed in the future, please use 'weights' instead.\n",
      "  warnings.warn(\n",
      "/home/asufian/.local/share/pipx/venvs/notebook/lib/python3.12/site-packages/torchvision/models/_utils.py:223: UserWarning: Arguments other than a weight enum or `None` for 'weights' are deprecated since 0.13 and may be removed in the future. The current behavior is equivalent to passing `weights=None`.\n",
      "  warnings.warn(msg)\n",
      "Using cache found in /home/asufian/.cache/torch/hub/pytorch_vision_v0.10.0\n"
     ]
    },
    {
     "name": "stdout",
     "output_type": "stream",
     "text": [
      "----------------------> 0.6143157894736843\n",
      "Evaluated Accuracy: 0.6143\n",
      "Testing b_a_r = 0.9820, c_a_r = -0.0418, f_a_r = -0.8679\n"
     ]
    },
    {
     "name": "stderr",
     "output_type": "stream",
     "text": [
      "Using cache found in /home/asufian/.cache/torch/hub/pytorch_vision_v0.10.0\n",
      "/home/asufian/.local/share/pipx/venvs/notebook/lib/python3.12/site-packages/torchvision/models/_utils.py:208: UserWarning: The parameter 'pretrained' is deprecated since 0.13 and may be removed in the future, please use 'weights' instead.\n",
      "  warnings.warn(\n",
      "/home/asufian/.local/share/pipx/venvs/notebook/lib/python3.12/site-packages/torchvision/models/_utils.py:223: UserWarning: Arguments other than a weight enum or `None` for 'weights' are deprecated since 0.13 and may be removed in the future. The current behavior is equivalent to passing `weights=None`.\n",
      "  warnings.warn(msg)\n",
      "Using cache found in /home/asufian/.cache/torch/hub/pytorch_vision_v0.10.0\n"
     ]
    },
    {
     "name": "stdout",
     "output_type": "stream",
     "text": [
      "----------------------> 0.608842105263158\n",
      "Evaluated Accuracy: 0.6088\n",
      "Testing b_a_r = -0.9886, c_a_r = 0.0055, f_a_r = -0.9491\n"
     ]
    },
    {
     "name": "stderr",
     "output_type": "stream",
     "text": [
      "Using cache found in /home/asufian/.cache/torch/hub/pytorch_vision_v0.10.0\n",
      "/home/asufian/.local/share/pipx/venvs/notebook/lib/python3.12/site-packages/torchvision/models/_utils.py:208: UserWarning: The parameter 'pretrained' is deprecated since 0.13 and may be removed in the future, please use 'weights' instead.\n",
      "  warnings.warn(\n",
      "/home/asufian/.local/share/pipx/venvs/notebook/lib/python3.12/site-packages/torchvision/models/_utils.py:223: UserWarning: Arguments other than a weight enum or `None` for 'weights' are deprecated since 0.13 and may be removed in the future. The current behavior is equivalent to passing `weights=None`.\n",
      "  warnings.warn(msg)\n",
      "Using cache found in /home/asufian/.cache/torch/hub/pytorch_vision_v0.10.0\n"
     ]
    },
    {
     "name": "stdout",
     "output_type": "stream",
     "text": [
      "----------------------> 0.6096842105263158\n",
      "Evaluated Accuracy: 0.6097\n",
      "Testing b_a_r = 0.9951, c_a_r = -0.8189, f_a_r = -0.8089\n"
     ]
    },
    {
     "name": "stderr",
     "output_type": "stream",
     "text": [
      "Using cache found in /home/asufian/.cache/torch/hub/pytorch_vision_v0.10.0\n",
      "/home/asufian/.local/share/pipx/venvs/notebook/lib/python3.12/site-packages/torchvision/models/_utils.py:208: UserWarning: The parameter 'pretrained' is deprecated since 0.13 and may be removed in the future, please use 'weights' instead.\n",
      "  warnings.warn(\n",
      "/home/asufian/.local/share/pipx/venvs/notebook/lib/python3.12/site-packages/torchvision/models/_utils.py:223: UserWarning: Arguments other than a weight enum or `None` for 'weights' are deprecated since 0.13 and may be removed in the future. The current behavior is equivalent to passing `weights=None`.\n",
      "  warnings.warn(msg)\n",
      "Using cache found in /home/asufian/.cache/torch/hub/pytorch_vision_v0.10.0\n"
     ]
    },
    {
     "name": "stdout",
     "output_type": "stream",
     "text": [
      "----------------------> 0.2060350877192982\n",
      "Evaluated Accuracy: 0.2060\n",
      "Testing b_a_r = -0.9369, c_a_r = -0.0837, f_a_r = 0.9997\n"
     ]
    },
    {
     "name": "stderr",
     "output_type": "stream",
     "text": [
      "Using cache found in /home/asufian/.cache/torch/hub/pytorch_vision_v0.10.0\n",
      "/home/asufian/.local/share/pipx/venvs/notebook/lib/python3.12/site-packages/torchvision/models/_utils.py:208: UserWarning: The parameter 'pretrained' is deprecated since 0.13 and may be removed in the future, please use 'weights' instead.\n",
      "  warnings.warn(\n",
      "/home/asufian/.local/share/pipx/venvs/notebook/lib/python3.12/site-packages/torchvision/models/_utils.py:223: UserWarning: Arguments other than a weight enum or `None` for 'weights' are deprecated since 0.13 and may be removed in the future. The current behavior is equivalent to passing `weights=None`.\n",
      "  warnings.warn(msg)\n",
      "Using cache found in /home/asufian/.cache/torch/hub/pytorch_vision_v0.10.0\n"
     ]
    },
    {
     "name": "stdout",
     "output_type": "stream",
     "text": [
      "----------------------> 0.6033684210526314\n",
      "Evaluated Accuracy: 0.6034\n",
      "Testing b_a_r = -0.9635, c_a_r = -0.0394, f_a_r = 0.9136\n"
     ]
    },
    {
     "name": "stderr",
     "output_type": "stream",
     "text": [
      "Using cache found in /home/asufian/.cache/torch/hub/pytorch_vision_v0.10.0\n",
      "/home/asufian/.local/share/pipx/venvs/notebook/lib/python3.12/site-packages/torchvision/models/_utils.py:208: UserWarning: The parameter 'pretrained' is deprecated since 0.13 and may be removed in the future, please use 'weights' instead.\n",
      "  warnings.warn(\n",
      "/home/asufian/.local/share/pipx/venvs/notebook/lib/python3.12/site-packages/torchvision/models/_utils.py:223: UserWarning: Arguments other than a weight enum or `None` for 'weights' are deprecated since 0.13 and may be removed in the future. The current behavior is equivalent to passing `weights=None`.\n",
      "  warnings.warn(msg)\n",
      "Using cache found in /home/asufian/.cache/torch/hub/pytorch_vision_v0.10.0\n"
     ]
    },
    {
     "name": "stdout",
     "output_type": "stream",
     "text": [
      "----------------------> 0.6165614035087721\n",
      "Evaluated Accuracy: 0.6166\n",
      "Testing b_a_r = -0.9795, c_a_r = -0.0083, f_a_r = 0.9534\n"
     ]
    },
    {
     "name": "stderr",
     "output_type": "stream",
     "text": [
      "Using cache found in /home/asufian/.cache/torch/hub/pytorch_vision_v0.10.0\n",
      "/home/asufian/.local/share/pipx/venvs/notebook/lib/python3.12/site-packages/torchvision/models/_utils.py:208: UserWarning: The parameter 'pretrained' is deprecated since 0.13 and may be removed in the future, please use 'weights' instead.\n",
      "  warnings.warn(\n",
      "/home/asufian/.local/share/pipx/venvs/notebook/lib/python3.12/site-packages/torchvision/models/_utils.py:223: UserWarning: Arguments other than a weight enum or `None` for 'weights' are deprecated since 0.13 and may be removed in the future. The current behavior is equivalent to passing `weights=None`.\n",
      "  warnings.warn(msg)\n",
      "Using cache found in /home/asufian/.cache/torch/hub/pytorch_vision_v0.10.0\n"
     ]
    },
    {
     "name": "stdout",
     "output_type": "stream",
     "text": [
      "----------------------> 0.6145964912280701\n",
      "Evaluated Accuracy: 0.6146\n",
      "Testing b_a_r = 0.9717, c_a_r = -0.0691, f_a_r = 0.9432\n"
     ]
    },
    {
     "name": "stderr",
     "output_type": "stream",
     "text": [
      "Using cache found in /home/asufian/.cache/torch/hub/pytorch_vision_v0.10.0\n",
      "/home/asufian/.local/share/pipx/venvs/notebook/lib/python3.12/site-packages/torchvision/models/_utils.py:208: UserWarning: The parameter 'pretrained' is deprecated since 0.13 and may be removed in the future, please use 'weights' instead.\n",
      "  warnings.warn(\n",
      "/home/asufian/.local/share/pipx/venvs/notebook/lib/python3.12/site-packages/torchvision/models/_utils.py:223: UserWarning: Arguments other than a weight enum or `None` for 'weights' are deprecated since 0.13 and may be removed in the future. The current behavior is equivalent to passing `weights=None`.\n",
      "  warnings.warn(msg)\n",
      "Using cache found in /home/asufian/.cache/torch/hub/pytorch_vision_v0.10.0\n"
     ]
    },
    {
     "name": "stdout",
     "output_type": "stream",
     "text": [
      "----------------------> 0.6085614035087719\n",
      "Evaluated Accuracy: 0.6086\n",
      "Testing b_a_r = -0.9996, c_a_r = -0.0534, f_a_r = 0.9962\n"
     ]
    },
    {
     "name": "stderr",
     "output_type": "stream",
     "text": [
      "Using cache found in /home/asufian/.cache/torch/hub/pytorch_vision_v0.10.0\n",
      "/home/asufian/.local/share/pipx/venvs/notebook/lib/python3.12/site-packages/torchvision/models/_utils.py:208: UserWarning: The parameter 'pretrained' is deprecated since 0.13 and may be removed in the future, please use 'weights' instead.\n",
      "  warnings.warn(\n",
      "/home/asufian/.local/share/pipx/venvs/notebook/lib/python3.12/site-packages/torchvision/models/_utils.py:223: UserWarning: Arguments other than a weight enum or `None` for 'weights' are deprecated since 0.13 and may be removed in the future. The current behavior is equivalent to passing `weights=None`.\n",
      "  warnings.warn(msg)\n",
      "Using cache found in /home/asufian/.cache/torch/hub/pytorch_vision_v0.10.0\n"
     ]
    },
    {
     "name": "stdout",
     "output_type": "stream",
     "text": [
      "----------------------> 0.615438596491228\n",
      "Evaluated Accuracy: 0.6154\n",
      "Testing b_a_r = -0.9410, c_a_r = 0.2310, f_a_r = 0.8991\n"
     ]
    },
    {
     "name": "stderr",
     "output_type": "stream",
     "text": [
      "Using cache found in /home/asufian/.cache/torch/hub/pytorch_vision_v0.10.0\n",
      "/home/asufian/.local/share/pipx/venvs/notebook/lib/python3.12/site-packages/torchvision/models/_utils.py:208: UserWarning: The parameter 'pretrained' is deprecated since 0.13 and may be removed in the future, please use 'weights' instead.\n",
      "  warnings.warn(\n",
      "/home/asufian/.local/share/pipx/venvs/notebook/lib/python3.12/site-packages/torchvision/models/_utils.py:223: UserWarning: Arguments other than a weight enum or `None` for 'weights' are deprecated since 0.13 and may be removed in the future. The current behavior is equivalent to passing `weights=None`.\n",
      "  warnings.warn(msg)\n",
      "Using cache found in /home/asufian/.cache/torch/hub/pytorch_vision_v0.10.0\n"
     ]
    },
    {
     "name": "stdout",
     "output_type": "stream",
     "text": [
      "----------------------> 0.512982456140351\n",
      "Evaluated Accuracy: 0.5130\n",
      "Testing b_a_r = -0.9131, c_a_r = -0.0256, f_a_r = -0.9142\n"
     ]
    },
    {
     "name": "stderr",
     "output_type": "stream",
     "text": [
      "Using cache found in /home/asufian/.cache/torch/hub/pytorch_vision_v0.10.0\n",
      "/home/asufian/.local/share/pipx/venvs/notebook/lib/python3.12/site-packages/torchvision/models/_utils.py:208: UserWarning: The parameter 'pretrained' is deprecated since 0.13 and may be removed in the future, please use 'weights' instead.\n",
      "  warnings.warn(\n",
      "/home/asufian/.local/share/pipx/venvs/notebook/lib/python3.12/site-packages/torchvision/models/_utils.py:223: UserWarning: Arguments other than a weight enum or `None` for 'weights' are deprecated since 0.13 and may be removed in the future. The current behavior is equivalent to passing `weights=None`.\n",
      "  warnings.warn(msg)\n",
      "Using cache found in /home/asufian/.cache/torch/hub/pytorch_vision_v0.10.0\n"
     ]
    },
    {
     "name": "stdout",
     "output_type": "stream",
     "text": [
      "----------------------> 0.6130526315789474\n",
      "Evaluated Accuracy: 0.6131\n",
      "Testing b_a_r = -0.9944, c_a_r = -0.0571, f_a_r = 0.9020\n"
     ]
    },
    {
     "name": "stderr",
     "output_type": "stream",
     "text": [
      "Using cache found in /home/asufian/.cache/torch/hub/pytorch_vision_v0.10.0\n",
      "/home/asufian/.local/share/pipx/venvs/notebook/lib/python3.12/site-packages/torchvision/models/_utils.py:208: UserWarning: The parameter 'pretrained' is deprecated since 0.13 and may be removed in the future, please use 'weights' instead.\n",
      "  warnings.warn(\n",
      "/home/asufian/.local/share/pipx/venvs/notebook/lib/python3.12/site-packages/torchvision/models/_utils.py:223: UserWarning: Arguments other than a weight enum or `None` for 'weights' are deprecated since 0.13 and may be removed in the future. The current behavior is equivalent to passing `weights=None`.\n",
      "  warnings.warn(msg)\n",
      "Using cache found in /home/asufian/.cache/torch/hub/pytorch_vision_v0.10.0\n"
     ]
    },
    {
     "name": "stdout",
     "output_type": "stream",
     "text": [
      "----------------------> 0.6151578947368421\n",
      "Evaluated Accuracy: 0.6152\n",
      "Testing b_a_r = 0.8316, c_a_r = 0.0702, f_a_r = 0.9680\n"
     ]
    },
    {
     "name": "stderr",
     "output_type": "stream",
     "text": [
      "Using cache found in /home/asufian/.cache/torch/hub/pytorch_vision_v0.10.0\n",
      "/home/asufian/.local/share/pipx/venvs/notebook/lib/python3.12/site-packages/torchvision/models/_utils.py:208: UserWarning: The parameter 'pretrained' is deprecated since 0.13 and may be removed in the future, please use 'weights' instead.\n",
      "  warnings.warn(\n",
      "/home/asufian/.local/share/pipx/venvs/notebook/lib/python3.12/site-packages/torchvision/models/_utils.py:223: UserWarning: Arguments other than a weight enum or `None` for 'weights' are deprecated since 0.13 and may be removed in the future. The current behavior is equivalent to passing `weights=None`.\n",
      "  warnings.warn(msg)\n",
      "Using cache found in /home/asufian/.cache/torch/hub/pytorch_vision_v0.10.0\n"
     ]
    },
    {
     "name": "stdout",
     "output_type": "stream",
     "text": [
      "----------------------> 0.5854035087719299\n",
      "Evaluated Accuracy: 0.5854\n",
      "Testing b_a_r = -0.9981, c_a_r = 0.1052, f_a_r = 0.9526\n"
     ]
    },
    {
     "name": "stderr",
     "output_type": "stream",
     "text": [
      "Using cache found in /home/asufian/.cache/torch/hub/pytorch_vision_v0.10.0\n",
      "/home/asufian/.local/share/pipx/venvs/notebook/lib/python3.12/site-packages/torchvision/models/_utils.py:208: UserWarning: The parameter 'pretrained' is deprecated since 0.13 and may be removed in the future, please use 'weights' instead.\n",
      "  warnings.warn(\n",
      "/home/asufian/.local/share/pipx/venvs/notebook/lib/python3.12/site-packages/torchvision/models/_utils.py:223: UserWarning: Arguments other than a weight enum or `None` for 'weights' are deprecated since 0.13 and may be removed in the future. The current behavior is equivalent to passing `weights=None`.\n",
      "  warnings.warn(msg)\n",
      "Using cache found in /home/asufian/.cache/torch/hub/pytorch_vision_v0.10.0\n"
     ]
    },
    {
     "name": "stdout",
     "output_type": "stream",
     "text": [
      "----------------------> 0.5719298245614034\n",
      "Evaluated Accuracy: 0.5719\n",
      "Testing b_a_r = 0.9771, c_a_r = 0.7810, f_a_r = 0.0108\n"
     ]
    },
    {
     "name": "stderr",
     "output_type": "stream",
     "text": [
      "Using cache found in /home/asufian/.cache/torch/hub/pytorch_vision_v0.10.0\n",
      "/home/asufian/.local/share/pipx/venvs/notebook/lib/python3.12/site-packages/torchvision/models/_utils.py:208: UserWarning: The parameter 'pretrained' is deprecated since 0.13 and may be removed in the future, please use 'weights' instead.\n",
      "  warnings.warn(\n",
      "/home/asufian/.local/share/pipx/venvs/notebook/lib/python3.12/site-packages/torchvision/models/_utils.py:223: UserWarning: Arguments other than a weight enum or `None` for 'weights' are deprecated since 0.13 and may be removed in the future. The current behavior is equivalent to passing `weights=None`.\n",
      "  warnings.warn(msg)\n",
      "Using cache found in /home/asufian/.cache/torch/hub/pytorch_vision_v0.10.0\n"
     ]
    },
    {
     "name": "stdout",
     "output_type": "stream",
     "text": [
      "----------------------> 0.27466666666666667\n",
      "Evaluated Accuracy: 0.2747\n",
      "Testing b_a_r = -0.9853, c_a_r = 0.0115, f_a_r = 0.8900\n"
     ]
    },
    {
     "name": "stderr",
     "output_type": "stream",
     "text": [
      "Using cache found in /home/asufian/.cache/torch/hub/pytorch_vision_v0.10.0\n",
      "/home/asufian/.local/share/pipx/venvs/notebook/lib/python3.12/site-packages/torchvision/models/_utils.py:208: UserWarning: The parameter 'pretrained' is deprecated since 0.13 and may be removed in the future, please use 'weights' instead.\n",
      "  warnings.warn(\n",
      "/home/asufian/.local/share/pipx/venvs/notebook/lib/python3.12/site-packages/torchvision/models/_utils.py:223: UserWarning: Arguments other than a weight enum or `None` for 'weights' are deprecated since 0.13 and may be removed in the future. The current behavior is equivalent to passing `weights=None`.\n",
      "  warnings.warn(msg)\n",
      "Using cache found in /home/asufian/.cache/torch/hub/pytorch_vision_v0.10.0\n"
     ]
    },
    {
     "name": "stdout",
     "output_type": "stream",
     "text": [
      "----------------------> 0.608280701754386\n",
      "Evaluated Accuracy: 0.6083\n",
      "\n",
      "✅ Optimal Values:\n",
      "   - b_a_r: -0.9444\n",
      "   - c_a_r: -0.0444\n",
      "   - f_a_r: 0.7712\n",
      "📈 Highest Accuracy Achieved: 0.6177\n"
     ]
    }
   ],
   "source": [
    "\n",
    "# Define the search space for b_a_r, c_a_r, and f_a_r\n",
    "search_space = [\n",
    "    Real(-1, 1.0000, name=\"b_a_r\"),\n",
    "    Real(-1, 1.0000, name=\"c_a_r\"),\n",
    "    Real(-1, 1.0000, name=\"f_a_r\")\n",
    "]\n",
    "\n",
    "# Define the objective function for Bayesian Optimization\n",
    "@use_named_args(search_space)\n",
    "def objective(b_a_r, c_a_r, f_a_r):\n",
    "    \"\"\"\n",
    "    Objective function to optimize the adaptation ratios.\n",
    "    It applies adaptation, evaluates the model, and returns the negative accuracy.\n",
    "    \"\"\"\n",
    "    accuracy = get_model_accuracy(b_a_r, c_a_r, f_a_r)\n",
    "    print(f\"Evaluated Accuracy: {accuracy:.4f}\")  # Debugging Output\n",
    "    \n",
    "    return -accuracy  # We minimize, so return negative accuracy\n",
    "\n",
    "# Perform Bayesian Optimization with additional settings\n",
    "search_iteration=80\n",
    "res = gp_minimize(\n",
    "    func=objective,\n",
    "    dimensions=search_space,\n",
    "    n_calls=search_iteration,               # Number of evaluations\n",
    "    n_initial_points=5,       # Initial random explorations before GP starts\n",
    "    acq_func=\"EI\",            # Acquisition function: Expected Improvement\n",
    "    random_state=42,          # Ensure reproducibility\n",
    "    n_jobs=-1,                # Parallel execution for faster optimization\n",
    ")\n",
    "\n",
    "# Extract optimal results\n",
    "optimal_b_a_r, optimal_c_a_r, optimal_f_a_r = res.x\n",
    "best_accuracy = -res.fun\n",
    "\n",
    "print(f\"\\n✅ Optimal Values:\")\n",
    "print(f\"   - b_a_r: {optimal_b_a_r:.4f}\")\n",
    "print(f\"   - c_a_r: {optimal_c_a_r:.4f}\")\n",
    "print(f\"   - f_a_r: {optimal_f_a_r:.4f}\")\n",
    "print(f\"📈 Highest Accuracy Achieved: {best_accuracy:.4f}\")\n",
    "\n",
    "\n"
   ]
  },
  {
   "cell_type": "code",
   "execution_count": null,
   "metadata": {
    "scrolled": true
   },
   "outputs": [],
   "source": []
  },
  {
   "cell_type": "code",
   "execution_count": null,
   "metadata": {},
   "outputs": [],
   "source": []
  },
  {
   "cell_type": "code",
   "execution_count": 404,
   "metadata": {
    "scrolled": true
   },
   "outputs": [
    {
     "name": "stderr",
     "output_type": "stream",
     "text": [
      "Using cache found in /home/asufian/.cache/torch/hub/pytorch_vision_v0.10.0\n",
      "/home/asufian/.local/share/pipx/venvs/notebook/lib/python3.12/site-packages/torchvision/models/_utils.py:208: UserWarning: The parameter 'pretrained' is deprecated since 0.13 and may be removed in the future, please use 'weights' instead.\n",
      "  warnings.warn(\n",
      "/home/asufian/.local/share/pipx/venvs/notebook/lib/python3.12/site-packages/torchvision/models/_utils.py:223: UserWarning: Arguments other than a weight enum or `None` for 'weights' are deprecated since 0.13 and may be removed in the future. The current behavior is equivalent to passing `weights=None`.\n",
      "  warnings.warn(msg)\n"
     ]
    },
    {
     "name": "stdout",
     "output_type": "stream",
     "text": [
      "---Accu-----pre----rec---------> 0.6114 ± 0.1115  0.6387 ± 0.1106  0.6114 ± 0.1115\n"
     ]
    },
    {
     "name": "stderr",
     "output_type": "stream",
     "text": [
      "Using cache found in /home/asufian/.cache/torch/hub/pytorch_vision_v0.10.0\n",
      "/home/asufian/.local/share/pipx/venvs/notebook/lib/python3.12/site-packages/torchvision/models/_utils.py:208: UserWarning: The parameter 'pretrained' is deprecated since 0.13 and may be removed in the future, please use 'weights' instead.\n",
      "  warnings.warn(\n",
      "/home/asufian/.local/share/pipx/venvs/notebook/lib/python3.12/site-packages/torchvision/models/_utils.py:223: UserWarning: Arguments other than a weight enum or `None` for 'weights' are deprecated since 0.13 and may be removed in the future. The current behavior is equivalent to passing `weights=None`.\n",
      "  warnings.warn(msg)\n"
     ]
    },
    {
     "name": "stdout",
     "output_type": "stream",
     "text": [
      "---Accu-----pre----rec---------> 0.5169 ± 0.0811  0.5663 ± 0.0660  0.5169 ± 0.0811\n",
      "---Accu-----pre----rec---------> 0.6149 ± 0.1150  0.6414 ± 0.1148  0.6149 ± 0.1150\n"
     ]
    }
   ],
   "source": [
    "convolutional_network_with_dropout =  DenseNet169WithDropout(modell='densenet169',pretrained=False,dr=0.0)\n",
    "convolutional_network_with_dropout.fc = nn.Flatten()\n",
    "\n",
    "xyz = convolutional_network_with_dropout\n",
    "M3 = PrototypicalNetworks_dynamic_query(xyz).to(device)\n",
    "M3.load_state_dict(torch.load('model_own_path.pt'))\n",
    "evaluate2('/home/asufian/Desktop/output_mapii/result_densnet/base/5_w_1_s_f_20', test_loader, M3, criterion)\n",
    "# Load Model M2\n",
    "convolutional_network_with_dropout =  DenseNet169WithDropout(modell='densenet169',pretrained=False,dr=0.0)\n",
    "convolutional_network_with_dropout.fc = nn.Flatten()\n",
    "\n",
    "xyz2 = convolutional_network_with_dropout\n",
    "M2 = PrototypicalNetworks_dynamic_query(xyz2).to(device)\n",
    "M2.load_state_dict(torch.load('model_mu_path.pt'))\n",
    "evaluate2(\"/home/asufian/Desktop/output_mapii/result_densnet/secondary/5_w_1_s_f\", test_loader, M2, criterion)\n",
    "# Update Model M3's weights using a weighted combination of Model M3 and Model M2\n",
    "update_model_weights2(M3, M2, conv_ratio= -0.0088 , fc_ratio=-0.9687 , bias_ratio=-0.9673)\n",
    "\n",
    "# Assuming you have the evaluate2 function defined\n",
    "# Evaluate the updated model (M3) using evaluate2 function with some arguments\n",
    "evaluate2(\"/home/asufian/Desktop/output_mapii/result_densnet/amul/5_w_1_s_f\", test_loader, M3, criterion)\n",
    "\n",
    "\n",
    "# Assuming you have the evaluate2 function defined\n",
    "# Evaluate the updated model (M3) using evaluate2 function with some arguments\n",
    "# evaluate3(pp+'/_mapi_5-wau-1-shot_matchine_unlearning_own', test_loader, M3, criterion)"
   ]
  },
  {
   "cell_type": "code",
   "execution_count": 284,
   "metadata": {},
   "outputs": [
    {
     "name": "stdout",
     "output_type": "stream",
     "text": [
      "mkdir: cannot create directory ‘/home/asufian/Desktop/output_mapii/result_densnet/amul’: File exists\n"
     ]
    }
   ],
   "source": [
    "!mkdir /home/asufian/Desktop/output_mapii/result_densnet/amul"
   ]
  },
  {
   "cell_type": "code",
   "execution_count": 21,
   "metadata": {},
   "outputs": [
    {
     "name": "stdout",
     "output_type": "stream",
     "text": [
      "model_B_olchiki_1-shot_20.pth  model_B_olchiki_1-shot_80.pth\n",
      "model_B_olchiki_1-shot_30.pth  model_B_olchiki_1-shot_90.pth\n",
      "model_B_olchiki_1-shot_50.pth\n"
     ]
    }
   ],
   "source": [
    "!ls /home/asufian/Desktop/output_olchiki/code/mapi/model_5/model_B_mapi_1-shot_30.pth"
   ]
  },
  {
   "cell_type": "code",
   "execution_count": null,
   "metadata": {},
   "outputs": [],
   "source": [
    "########################  5   way    5  shot    #########################"
   ]
  },
  {
   "cell_type": "code",
   "execution_count": 23,
   "metadata": {},
   "outputs": [],
   "source": [
    "\n"
   ]
  },
  {
   "cell_type": "code",
   "execution_count": 450,
   "metadata": {},
   "outputs": [
    {
     "name": "stderr",
     "output_type": "stream",
     "text": [
      "Using cache found in /home/asufian/.cache/torch/hub/pytorch_vision_v0.10.0\n",
      "/home/asufian/.local/share/pipx/venvs/notebook/lib/python3.12/site-packages/torchvision/models/_utils.py:208: UserWarning: The parameter 'pretrained' is deprecated since 0.13 and may be removed in the future, please use 'weights' instead.\n",
      "  warnings.warn(\n",
      "/home/asufian/.local/share/pipx/venvs/notebook/lib/python3.12/site-packages/torchvision/models/_utils.py:223: UserWarning: Arguments other than a weight enum or `None` for 'weights' are deprecated since 0.13 and may be removed in the future. The current behavior is equivalent to passing `weights=None`.\n",
      "  warnings.warn(msg)\n",
      "Using cache found in /home/asufian/.cache/torch/hub/pytorch_vision_v0.10.0\n"
     ]
    }
   ],
   "source": [
    "device = torch.device(\"cuda\" if torch.cuda.is_available() else \"cpu\")\n",
    "\n",
    "\n",
    "\n",
    "!rm model_mu_path.pt\n",
    "!rm model_own_path.pt\n",
    "\n",
    "convolutional_network_with_dropout =  DenseNet169WithDropout(modell='densenet169',pretrained=False,dr=0.0)\n",
    "convolutional_network_with_dropout.fc = nn.Flatten()\n",
    "\n",
    "model_own = PrototypicalNetworks_dynamic_query(convolutional_network_with_dropout).to(device)\n",
    "model_own.load_state_dict(torch.load('/home/asufian/Desktop/output_olchiki/code/modelrdnet.pth',map_location=torch.device('cpu')))\n",
    "\n",
    "\n",
    "convolutional_network_with_dropout =  DenseNet169WithDropout(modell='densenet169',pretrained=False,dr=0.0)\n",
    "convolutional_network_with_dropout.fc = nn.Flatten()\n",
    "\n",
    "model_own_1_shot = PrototypicalNetworks_dynamic_query(convolutional_network_with_dropout).to(device)\n",
    "model_own_1_shot.load_state_dict(torch.load('/home/asufian/Desktop/output_olchiki/code/mapi_sce/Denssecondary/model_5/model_B_mapi_5-shot_dens.pth',map_location=torch.device('cpu')))\n",
    "torch.save(model_own_1_shot.state_dict(), 'model_mu_path.pt')\n",
    "torch.save(model_own.state_dict(), 'model_own_path.pt')"
   ]
  },
  {
   "cell_type": "code",
   "execution_count": 451,
   "metadata": {},
   "outputs": [],
   "source": [
    "\n",
    "\n",
    "def evaluate2(fname,data_loader, model, criterion=nn.CrossEntropyLoss()):\n",
    "    total_predictions = 0\n",
    "    correct_predictions = 0\n",
    "    total_loss = 0.0\n",
    "    accuracy = 0\n",
    "    datta = \"\"\n",
    "    model.eval()\n",
    "    tlv_cls=0\n",
    "    ttla=0\n",
    "    ttlal=[]\n",
    "    ttlac=0\n",
    "    precision=[]\n",
    "    recall=[]\n",
    "    \n",
    "    with torch.no_grad():\n",
    "        for episode in range(len(clss_5)):\n",
    "            support_set, query_set = data_loader.__getitem__(clss_5[tlv_cls] , clss_support_imagesss_5_shot[tlv_cls])\n",
    "\n",
    "           \n",
    "            clssa=str(clss_5[tlv_cls])\n",
    "            clss=str(clssa).replace(',',' ').replace('\\'',' ').replace('\\'',' ')\n",
    "            msg=str(clss_support_imagesss_5_shot[tlv_cls])\n",
    "            str(clss_5[tlv_cls])\n",
    "\n",
    "            tlv_cls+=1\n",
    "            # print(len(support_set),len(query_set))\n",
    "            support_set = [(torch.stack(images).to(device), label[0]) for images, label in support_set]\n",
    "            query_set = [(torch.stack(images).to(device), label) for images, label in query_set]\n",
    "\n",
    "            support_images, support_labels = zip(*support_set)\n",
    "\n",
    "            query_images, query_labels = zip(*query_set)\n",
    "\n",
    "            classification_scores = model(support_images, support_labels, query_images)\n",
    "            cortt = 0\n",
    "            totl = 0\n",
    "            confusion_mat=None\n",
    "            all_predicted_labels = []\n",
    "            all_actual_labels = []\n",
    "            # print(len(classification_scores),len(query_labels))\n",
    "            for ei in range(len(classification_scores)):\n",
    "                classification_scores_each_class = classification_scores[ei]\n",
    "                # print(classification_scores_each_class)\n",
    "                predicted_labels_eachclas = torch.argmax(classification_scores_each_class, dim=1)\n",
    "                pp = predicted_labels_eachclas.tolist()\n",
    "                act = query_labels[ei]\n",
    "                all_predicted_labels.extend(pp)\n",
    "                all_actual_labels.extend(act)\n",
    "                for iiii in range(len(pp)):\n",
    "                    if pp[iiii] == act[iiii]:\n",
    "                        cortt = cortt + 1\n",
    "                totl = totl + len(pp)\n",
    "                # print(len(act))\n",
    "            accuracy = cortt / totl\n",
    "            ttla+=1\n",
    "            ttlac+=accuracy\n",
    "            ttlal.append(accuracy)\n",
    "            # print(cortt , totl,\"Validation Accuracy:              \", cortt / totl)\n",
    "            confusion_mat = confusion_matrix(all_actual_labels, all_predicted_labels)\n",
    "            # print(\"Confusion Matrix:\")\n",
    "            # print(confusion_mat)\n",
    "\n",
    "            # fname='./own35_mapi_5_way_1_shot'\n",
    "\n",
    "            precision_overall, recall_overall, f1ss= calculate_metrics_get_per(msg,confusion_mat,acciuracy=cortt / totl,cls=clss,flnm=fname)\n",
    "            precision.append(precision_overall)\n",
    "            recall.append(recall_overall)\n",
    "    print(f\"---Accu-----pre----rec---------> {np.mean(ttlal):.4f} ± {np.std(ttlal, ddof=1):.4f}  \"\n",
    "      f\"{np.mean(precision):.4f} ± {np.std(precision, ddof=1):.4f}  \"\n",
    "      f\"{np.mean(recall):.4f} ± {np.std(recall, ddof=1):.4f}\")\n",
    "\n",
    "    # print(\"---Accu-----pre----rec---------->\",np.mean(ttlal),'±',np.std(ttlal, ddof=1), np.mean(precision),'±',np.std(precision, ddof=1),np.mean(precision),'±',np.std(precision, ddof=1),)\n",
    "# %%%%%%\n",
    "\n",
    "def evaluate3(fname,data_loader, model, criterion=nn.CrossEntropyLoss()):\n",
    "    total_predictions = 0\n",
    "    correct_predictions = 0\n",
    "    total_loss = 0.0\n",
    "    accuracy = 0\n",
    "    datta = \"\"\n",
    "    model.eval()\n",
    "    tlv_cls=0\n",
    "    ttla=0\n",
    "    ttlac=0\n",
    "    with torch.no_grad():\n",
    "        for episode in range(len(clss_5)):\n",
    "            support_set, query_set = data_loader.__getitem__(clss_5[tlv_cls] , clss_support_imagesss_5_shot[tlv_cls])\n",
    "\n",
    "            \n",
    "            clssa=str(clss_5[tlv_cls])\n",
    "            clss=str(clssa).replace(',',' ').replace('\\'',' ').replace('\\'',' ')\n",
    "            msg=str(clss_support_imagesss_5_shot[tlv_cls])\n",
    "            str(clss_5[tlv_cls])\n",
    "\n",
    "            tlv_cls+=1\n",
    "            # print(len(support_set),len(query_set))\n",
    "            support_set = [(torch.stack(images).to(device), label[0]) for images, label in support_set]\n",
    "            query_set = [(torch.stack(images).to(device), label) for images, label in query_set]\n",
    "\n",
    "            support_images, support_labels = zip(*support_set)\n",
    "\n",
    "            query_images, query_labels = zip(*query_set)\n",
    "\n",
    "            classification_scores = model(support_images, support_labels, query_images)\n",
    "            cortt = 0\n",
    "            totl = 0\n",
    "            confusion_mat=None\n",
    "            all_predicted_labels = []\n",
    "            all_actual_labels = []\n",
    "            # print(len(classification_scores),len(query_labels))\n",
    "            for ei in range(len(classification_scores)):\n",
    "                classification_scores_each_class = classification_scores[ei]\n",
    "                # print(classification_scores_each_class)\n",
    "                predicted_labels_eachclas = torch.argmax(classification_scores_each_class, dim=1)\n",
    "                pp = predicted_labels_eachclas.tolist()\n",
    "                act = query_labels[ei]\n",
    "                all_predicted_labels.extend(pp)\n",
    "                all_actual_labels.extend(act)\n",
    "                for iiii in range(len(pp)):\n",
    "                    if pp[iiii] == act[iiii]:\n",
    "                        cortt = cortt + 1\n",
    "                totl = totl + len(pp)\n",
    "                # print(len(act))\n",
    "            accuracy = cortt / totl\n",
    "            ttla+=1\n",
    "            ttlac+=accuracy\n",
    "            # print(cortt , totl,\"Validation Accuracy:              \", cortt / totl)\n",
    "            # confusion_mat = confusion_matrix(all_actual_labels, all_predicted_labels)\n",
    "            # print(\"Confusion Matrix:\")\n",
    "            # print(confusion_mat)\n",
    "\n",
    "            # fname='./own35_mapi_5_way_1_shot'\n",
    "\n",
    "            # calculate_metrics_get_per(msg,confusion_mat,acciuracy=cortt / totl,cls=clss,flnm=fname)\n",
    "\n",
    "    print(\"---------------------->\",ttlac/ttla)\n",
    "    return ttlac/ttla"
   ]
  },
  {
   "cell_type": "code",
   "execution_count": null,
   "metadata": {
    "scrolled": true
   },
   "outputs": [
    {
     "name": "stdout",
     "output_type": "stream",
     "text": [
      "Testing b_a_r = 0.7965, c_a_r = 0.1834, f_a_r = 0.7797\n"
     ]
    },
    {
     "name": "stderr",
     "output_type": "stream",
     "text": [
      "Using cache found in /home/asufian/.cache/torch/hub/pytorch_vision_v0.10.0\n",
      "/home/asufian/.local/share/pipx/venvs/notebook/lib/python3.12/site-packages/torchvision/models/_utils.py:208: UserWarning: The parameter 'pretrained' is deprecated since 0.13 and may be removed in the future, please use 'weights' instead.\n",
      "  warnings.warn(\n",
      "/home/asufian/.local/share/pipx/venvs/notebook/lib/python3.12/site-packages/torchvision/models/_utils.py:223: UserWarning: Arguments other than a weight enum or `None` for 'weights' are deprecated since 0.13 and may be removed in the future. The current behavior is equivalent to passing `weights=None`.\n",
      "  warnings.warn(msg)\n",
      "Using cache found in /home/asufian/.cache/torch/hub/pytorch_vision_v0.10.0\n"
     ]
    },
    {
     "name": "stdout",
     "output_type": "stream",
     "text": [
      "----------------------> 0.6568498168498168\n",
      "Evaluated Accuracy: 0.6568\n",
      "Testing b_a_r = 0.5969, c_a_r = 0.4458, f_a_r = 0.1000\n"
     ]
    },
    {
     "name": "stderr",
     "output_type": "stream",
     "text": [
      "Using cache found in /home/asufian/.cache/torch/hub/pytorch_vision_v0.10.0\n",
      "Using cache found in /home/asufian/.cache/torch/hub/pytorch_vision_v0.10.0\n"
     ]
    },
    {
     "name": "stdout",
     "output_type": "stream",
     "text": [
      "----------------------> 0.3772893772893772\n",
      "Evaluated Accuracy: 0.3773\n",
      "Testing b_a_r = 0.4592, c_a_r = 0.3337, f_a_r = 0.1429\n"
     ]
    },
    {
     "name": "stderr",
     "output_type": "stream",
     "text": [
      "Using cache found in /home/asufian/.cache/torch/hub/pytorch_vision_v0.10.0\n",
      "Using cache found in /home/asufian/.cache/torch/hub/pytorch_vision_v0.10.0\n"
     ]
    },
    {
     "name": "stdout",
     "output_type": "stream",
     "text": [
      "----------------------> 0.48380952380952386\n",
      "Evaluated Accuracy: 0.4838\n",
      "Testing b_a_r = 0.6509, c_a_r = 0.0564, f_a_r = 0.7220\n"
     ]
    },
    {
     "name": "stderr",
     "output_type": "stream",
     "text": [
      "Using cache found in /home/asufian/.cache/torch/hub/pytorch_vision_v0.10.0\n",
      "Using cache found in /home/asufian/.cache/torch/hub/pytorch_vision_v0.10.0\n"
     ]
    },
    {
     "name": "stdout",
     "output_type": "stream",
     "text": [
      "----------------------> 0.7189743589743588\n",
      "Evaluated Accuracy: 0.7190\n",
      "Testing b_a_r = 0.9386, c_a_r = 0.0008, f_a_r = 0.9922\n"
     ]
    },
    {
     "name": "stderr",
     "output_type": "stream",
     "text": [
      "Using cache found in /home/asufian/.cache/torch/hub/pytorch_vision_v0.10.0\n",
      "Using cache found in /home/asufian/.cache/torch/hub/pytorch_vision_v0.10.0\n"
     ]
    },
    {
     "name": "stdout",
     "output_type": "stream",
     "text": [
      "----------------------> 0.7284981684981683\n",
      "Evaluated Accuracy: 0.7285\n",
      "Testing b_a_r = 0.9389, c_a_r = 1.0000, f_a_r = 0.4745\n"
     ]
    },
    {
     "name": "stderr",
     "output_type": "stream",
     "text": [
      "Using cache found in /home/asufian/.cache/torch/hub/pytorch_vision_v0.10.0\n",
      "/home/asufian/.local/share/pipx/venvs/notebook/lib/python3.12/site-packages/torchvision/models/_utils.py:208: UserWarning: The parameter 'pretrained' is deprecated since 0.13 and may be removed in the future, please use 'weights' instead.\n",
      "  warnings.warn(\n",
      "/home/asufian/.local/share/pipx/venvs/notebook/lib/python3.12/site-packages/torchvision/models/_utils.py:223: UserWarning: Arguments other than a weight enum or `None` for 'weights' are deprecated since 0.13 and may be removed in the future. The current behavior is equivalent to passing `weights=None`.\n",
      "  warnings.warn(msg)\n",
      "Using cache found in /home/asufian/.cache/torch/hub/pytorch_vision_v0.10.0\n"
     ]
    },
    {
     "name": "stdout",
     "output_type": "stream",
     "text": [
      "----------------------> 0.4021978021978022\n",
      "Evaluated Accuracy: 0.4022\n",
      "Testing b_a_r = 0.0000, c_a_r = 0.0000, f_a_r = 0.0000\n"
     ]
    },
    {
     "name": "stderr",
     "output_type": "stream",
     "text": [
      "Using cache found in /home/asufian/.cache/torch/hub/pytorch_vision_v0.10.0\n",
      "/home/asufian/.local/share/pipx/venvs/notebook/lib/python3.12/site-packages/torchvision/models/_utils.py:208: UserWarning: The parameter 'pretrained' is deprecated since 0.13 and may be removed in the future, please use 'weights' instead.\n",
      "  warnings.warn(\n",
      "/home/asufian/.local/share/pipx/venvs/notebook/lib/python3.12/site-packages/torchvision/models/_utils.py:223: UserWarning: Arguments other than a weight enum or `None` for 'weights' are deprecated since 0.13 and may be removed in the future. The current behavior is equivalent to passing `weights=None`.\n",
      "  warnings.warn(msg)\n",
      "Using cache found in /home/asufian/.cache/torch/hub/pytorch_vision_v0.10.0\n"
     ]
    },
    {
     "name": "stdout",
     "output_type": "stream",
     "text": [
      "----------------------> 0.7318681318681316\n",
      "Evaluated Accuracy: 0.7319\n",
      "Testing b_a_r = 0.0333, c_a_r = 0.7704, f_a_r = 0.1580\n"
     ]
    },
    {
     "name": "stderr",
     "output_type": "stream",
     "text": [
      "Using cache found in /home/asufian/.cache/torch/hub/pytorch_vision_v0.10.0\n",
      "/home/asufian/.local/share/pipx/venvs/notebook/lib/python3.12/site-packages/torchvision/models/_utils.py:208: UserWarning: The parameter 'pretrained' is deprecated since 0.13 and may be removed in the future, please use 'weights' instead.\n",
      "  warnings.warn(\n",
      "/home/asufian/.local/share/pipx/venvs/notebook/lib/python3.12/site-packages/torchvision/models/_utils.py:223: UserWarning: Arguments other than a weight enum or `None` for 'weights' are deprecated since 0.13 and may be removed in the future. The current behavior is equivalent to passing `weights=None`.\n",
      "  warnings.warn(msg)\n",
      "Using cache found in /home/asufian/.cache/torch/hub/pytorch_vision_v0.10.0\n"
     ]
    },
    {
     "name": "stdout",
     "output_type": "stream",
     "text": [
      "----------------------> 0.3643956043956045\n",
      "Evaluated Accuracy: 0.3644\n",
      "Testing b_a_r = 0.9908, c_a_r = 0.0084, f_a_r = 0.0386\n"
     ]
    },
    {
     "name": "stderr",
     "output_type": "stream",
     "text": [
      "Using cache found in /home/asufian/.cache/torch/hub/pytorch_vision_v0.10.0\n",
      "/home/asufian/.local/share/pipx/venvs/notebook/lib/python3.12/site-packages/torchvision/models/_utils.py:208: UserWarning: The parameter 'pretrained' is deprecated since 0.13 and may be removed in the future, please use 'weights' instead.\n",
      "  warnings.warn(\n",
      "/home/asufian/.local/share/pipx/venvs/notebook/lib/python3.12/site-packages/torchvision/models/_utils.py:223: UserWarning: Arguments other than a weight enum or `None` for 'weights' are deprecated since 0.13 and may be removed in the future. The current behavior is equivalent to passing `weights=None`.\n",
      "  warnings.warn(msg)\n",
      "Using cache found in /home/asufian/.cache/torch/hub/pytorch_vision_v0.10.0\n"
     ]
    },
    {
     "name": "stdout",
     "output_type": "stream",
     "text": [
      "----------------------> 0.7264468864468863\n",
      "Evaluated Accuracy: 0.7264\n",
      "Testing b_a_r = 0.0016, c_a_r = 0.0191, f_a_r = 0.9392\n"
     ]
    },
    {
     "name": "stderr",
     "output_type": "stream",
     "text": [
      "Using cache found in /home/asufian/.cache/torch/hub/pytorch_vision_v0.10.0\n",
      "/home/asufian/.local/share/pipx/venvs/notebook/lib/python3.12/site-packages/torchvision/models/_utils.py:208: UserWarning: The parameter 'pretrained' is deprecated since 0.13 and may be removed in the future, please use 'weights' instead.\n",
      "  warnings.warn(\n",
      "/home/asufian/.local/share/pipx/venvs/notebook/lib/python3.12/site-packages/torchvision/models/_utils.py:223: UserWarning: Arguments other than a weight enum or `None` for 'weights' are deprecated since 0.13 and may be removed in the future. The current behavior is equivalent to passing `weights=None`.\n",
      "  warnings.warn(msg)\n",
      "Using cache found in /home/asufian/.cache/torch/hub/pytorch_vision_v0.10.0\n"
     ]
    },
    {
     "name": "stdout",
     "output_type": "stream",
     "text": [
      "----------------------> 0.7287912087912086\n",
      "Evaluated Accuracy: 0.7288\n",
      "Testing b_a_r = 0.0254, c_a_r = 0.1093, f_a_r = 0.1854\n"
     ]
    },
    {
     "name": "stderr",
     "output_type": "stream",
     "text": [
      "Using cache found in /home/asufian/.cache/torch/hub/pytorch_vision_v0.10.0\n",
      "/home/asufian/.local/share/pipx/venvs/notebook/lib/python3.12/site-packages/torchvision/models/_utils.py:208: UserWarning: The parameter 'pretrained' is deprecated since 0.13 and may be removed in the future, please use 'weights' instead.\n",
      "  warnings.warn(\n",
      "/home/asufian/.local/share/pipx/venvs/notebook/lib/python3.12/site-packages/torchvision/models/_utils.py:223: UserWarning: Arguments other than a weight enum or `None` for 'weights' are deprecated since 0.13 and may be removed in the future. The current behavior is equivalent to passing `weights=None`.\n",
      "  warnings.warn(msg)\n",
      "Using cache found in /home/asufian/.cache/torch/hub/pytorch_vision_v0.10.0\n"
     ]
    },
    {
     "name": "stdout",
     "output_type": "stream",
     "text": [
      "----------------------> 0.6989010989010987\n",
      "Evaluated Accuracy: 0.6989\n",
      "Testing b_a_r = 0.9677, c_a_r = 0.1041, f_a_r = 0.9621\n"
     ]
    },
    {
     "name": "stderr",
     "output_type": "stream",
     "text": [
      "Using cache found in /home/asufian/.cache/torch/hub/pytorch_vision_v0.10.0\n",
      "/home/asufian/.local/share/pipx/venvs/notebook/lib/python3.12/site-packages/torchvision/models/_utils.py:208: UserWarning: The parameter 'pretrained' is deprecated since 0.13 and may be removed in the future, please use 'weights' instead.\n",
      "  warnings.warn(\n",
      "/home/asufian/.local/share/pipx/venvs/notebook/lib/python3.12/site-packages/torchvision/models/_utils.py:223: UserWarning: Arguments other than a weight enum or `None` for 'weights' are deprecated since 0.13 and may be removed in the future. The current behavior is equivalent to passing `weights=None`.\n",
      "  warnings.warn(msg)\n",
      "Using cache found in /home/asufian/.cache/torch/hub/pytorch_vision_v0.10.0\n"
     ]
    },
    {
     "name": "stdout",
     "output_type": "stream",
     "text": [
      "----------------------> 0.6997802197802196\n",
      "Evaluated Accuracy: 0.6998\n",
      "Testing b_a_r = 0.0160, c_a_r = 0.0034, f_a_r = 0.9738\n"
     ]
    },
    {
     "name": "stderr",
     "output_type": "stream",
     "text": [
      "Using cache found in /home/asufian/.cache/torch/hub/pytorch_vision_v0.10.0\n",
      "/home/asufian/.local/share/pipx/venvs/notebook/lib/python3.12/site-packages/torchvision/models/_utils.py:208: UserWarning: The parameter 'pretrained' is deprecated since 0.13 and may be removed in the future, please use 'weights' instead.\n",
      "  warnings.warn(\n",
      "/home/asufian/.local/share/pipx/venvs/notebook/lib/python3.12/site-packages/torchvision/models/_utils.py:223: UserWarning: Arguments other than a weight enum or `None` for 'weights' are deprecated since 0.13 and may be removed in the future. The current behavior is equivalent to passing `weights=None`.\n",
      "  warnings.warn(msg)\n",
      "Using cache found in /home/asufian/.cache/torch/hub/pytorch_vision_v0.10.0\n"
     ]
    },
    {
     "name": "stdout",
     "output_type": "stream",
     "text": [
      "----------------------> 0.7305494505494503\n",
      "Evaluated Accuracy: 0.7305\n",
      "Testing b_a_r = 0.9124, c_a_r = 0.6260, f_a_r = 0.9884\n"
     ]
    },
    {
     "name": "stderr",
     "output_type": "stream",
     "text": [
      "Using cache found in /home/asufian/.cache/torch/hub/pytorch_vision_v0.10.0\n",
      "/home/asufian/.local/share/pipx/venvs/notebook/lib/python3.12/site-packages/torchvision/models/_utils.py:208: UserWarning: The parameter 'pretrained' is deprecated since 0.13 and may be removed in the future, please use 'weights' instead.\n",
      "  warnings.warn(\n",
      "/home/asufian/.local/share/pipx/venvs/notebook/lib/python3.12/site-packages/torchvision/models/_utils.py:223: UserWarning: Arguments other than a weight enum or `None` for 'weights' are deprecated since 0.13 and may be removed in the future. The current behavior is equivalent to passing `weights=None`.\n",
      "  warnings.warn(msg)\n",
      "Using cache found in /home/asufian/.cache/torch/hub/pytorch_vision_v0.10.0\n"
     ]
    },
    {
     "name": "stdout",
     "output_type": "stream",
     "text": [
      "----------------------> 0.32512820512820517\n",
      "Evaluated Accuracy: 0.3251\n",
      "Testing b_a_r = 0.0254, c_a_r = 0.0236, f_a_r = 0.0828\n"
     ]
    },
    {
     "name": "stderr",
     "output_type": "stream",
     "text": [
      "Using cache found in /home/asufian/.cache/torch/hub/pytorch_vision_v0.10.0\n",
      "/home/asufian/.local/share/pipx/venvs/notebook/lib/python3.12/site-packages/torchvision/models/_utils.py:208: UserWarning: The parameter 'pretrained' is deprecated since 0.13 and may be removed in the future, please use 'weights' instead.\n",
      "  warnings.warn(\n",
      "/home/asufian/.local/share/pipx/venvs/notebook/lib/python3.12/site-packages/torchvision/models/_utils.py:223: UserWarning: Arguments other than a weight enum or `None` for 'weights' are deprecated since 0.13 and may be removed in the future. The current behavior is equivalent to passing `weights=None`.\n",
      "  warnings.warn(msg)\n",
      "Using cache found in /home/asufian/.cache/torch/hub/pytorch_vision_v0.10.0\n"
     ]
    },
    {
     "name": "stdout",
     "output_type": "stream",
     "text": [
      "----------------------> 0.728058608058608\n",
      "Evaluated Accuracy: 0.7281\n",
      "Testing b_a_r = 0.9948, c_a_r = 0.8973, f_a_r = 0.9236\n"
     ]
    },
    {
     "name": "stderr",
     "output_type": "stream",
     "text": [
      "Using cache found in /home/asufian/.cache/torch/hub/pytorch_vision_v0.10.0\n",
      "/home/asufian/.local/share/pipx/venvs/notebook/lib/python3.12/site-packages/torchvision/models/_utils.py:208: UserWarning: The parameter 'pretrained' is deprecated since 0.13 and may be removed in the future, please use 'weights' instead.\n",
      "  warnings.warn(\n",
      "/home/asufian/.local/share/pipx/venvs/notebook/lib/python3.12/site-packages/torchvision/models/_utils.py:223: UserWarning: Arguments other than a weight enum or `None` for 'weights' are deprecated since 0.13 and may be removed in the future. The current behavior is equivalent to passing `weights=None`.\n",
      "  warnings.warn(msg)\n",
      "Using cache found in /home/asufian/.cache/torch/hub/pytorch_vision_v0.10.0\n"
     ]
    },
    {
     "name": "stdout",
     "output_type": "stream",
     "text": [
      "----------------------> 0.3898901098901099\n",
      "Evaluated Accuracy: 0.3899\n",
      "Testing b_a_r = 0.9814, c_a_r = 0.0002, f_a_r = 0.0428\n"
     ]
    },
    {
     "name": "stderr",
     "output_type": "stream",
     "text": [
      "Using cache found in /home/asufian/.cache/torch/hub/pytorch_vision_v0.10.0\n",
      "/home/asufian/.local/share/pipx/venvs/notebook/lib/python3.12/site-packages/torchvision/models/_utils.py:208: UserWarning: The parameter 'pretrained' is deprecated since 0.13 and may be removed in the future, please use 'weights' instead.\n",
      "  warnings.warn(\n",
      "/home/asufian/.local/share/pipx/venvs/notebook/lib/python3.12/site-packages/torchvision/models/_utils.py:223: UserWarning: Arguments other than a weight enum or `None` for 'weights' are deprecated since 0.13 and may be removed in the future. The current behavior is equivalent to passing `weights=None`.\n",
      "  warnings.warn(msg)\n",
      "Using cache found in /home/asufian/.cache/torch/hub/pytorch_vision_v0.10.0\n"
     ]
    },
    {
     "name": "stdout",
     "output_type": "stream",
     "text": [
      "----------------------> 0.7279120879120877\n",
      "Evaluated Accuracy: 0.7279\n",
      "Testing b_a_r = 0.0123, c_a_r = 0.0001, f_a_r = 0.2148\n"
     ]
    },
    {
     "name": "stderr",
     "output_type": "stream",
     "text": [
      "Using cache found in /home/asufian/.cache/torch/hub/pytorch_vision_v0.10.0\n",
      "/home/asufian/.local/share/pipx/venvs/notebook/lib/python3.12/site-packages/torchvision/models/_utils.py:208: UserWarning: The parameter 'pretrained' is deprecated since 0.13 and may be removed in the future, please use 'weights' instead.\n",
      "  warnings.warn(\n",
      "/home/asufian/.local/share/pipx/venvs/notebook/lib/python3.12/site-packages/torchvision/models/_utils.py:223: UserWarning: Arguments other than a weight enum or `None` for 'weights' are deprecated since 0.13 and may be removed in the future. The current behavior is equivalent to passing `weights=None`.\n",
      "  warnings.warn(msg)\n",
      "Using cache found in /home/asufian/.cache/torch/hub/pytorch_vision_v0.10.0\n"
     ]
    },
    {
     "name": "stdout",
     "output_type": "stream",
     "text": [
      "----------------------> 0.7318681318681316\n",
      "Evaluated Accuracy: 0.7319\n",
      "Testing b_a_r = 0.9630, c_a_r = 0.0268, f_a_r = 0.0407\n"
     ]
    },
    {
     "name": "stderr",
     "output_type": "stream",
     "text": [
      "Using cache found in /home/asufian/.cache/torch/hub/pytorch_vision_v0.10.0\n",
      "/home/asufian/.local/share/pipx/venvs/notebook/lib/python3.12/site-packages/torchvision/models/_utils.py:208: UserWarning: The parameter 'pretrained' is deprecated since 0.13 and may be removed in the future, please use 'weights' instead.\n",
      "  warnings.warn(\n",
      "/home/asufian/.local/share/pipx/venvs/notebook/lib/python3.12/site-packages/torchvision/models/_utils.py:223: UserWarning: Arguments other than a weight enum or `None` for 'weights' are deprecated since 0.13 and may be removed in the future. The current behavior is equivalent to passing `weights=None`.\n",
      "  warnings.warn(msg)\n",
      "Using cache found in /home/asufian/.cache/torch/hub/pytorch_vision_v0.10.0\n"
     ]
    },
    {
     "name": "stdout",
     "output_type": "stream",
     "text": [
      "----------------------> 0.7257142857142855\n",
      "Evaluated Accuracy: 0.7257\n",
      "Testing b_a_r = 0.0206, c_a_r = 0.0007, f_a_r = 0.0121\n"
     ]
    },
    {
     "name": "stderr",
     "output_type": "stream",
     "text": [
      "Using cache found in /home/asufian/.cache/torch/hub/pytorch_vision_v0.10.0\n",
      "/home/asufian/.local/share/pipx/venvs/notebook/lib/python3.12/site-packages/torchvision/models/_utils.py:208: UserWarning: The parameter 'pretrained' is deprecated since 0.13 and may be removed in the future, please use 'weights' instead.\n",
      "  warnings.warn(\n",
      "/home/asufian/.local/share/pipx/venvs/notebook/lib/python3.12/site-packages/torchvision/models/_utils.py:223: UserWarning: Arguments other than a weight enum or `None` for 'weights' are deprecated since 0.13 and may be removed in the future. The current behavior is equivalent to passing `weights=None`.\n",
      "  warnings.warn(msg)\n",
      "Using cache found in /home/asufian/.cache/torch/hub/pytorch_vision_v0.10.0\n"
     ]
    },
    {
     "name": "stdout",
     "output_type": "stream",
     "text": [
      "----------------------> 0.7318681318681316\n",
      "Evaluated Accuracy: 0.7319\n",
      "Testing b_a_r = 0.0018, c_a_r = 0.0330, f_a_r = 0.9756\n"
     ]
    },
    {
     "name": "stderr",
     "output_type": "stream",
     "text": [
      "Using cache found in /home/asufian/.cache/torch/hub/pytorch_vision_v0.10.0\n",
      "/home/asufian/.local/share/pipx/venvs/notebook/lib/python3.12/site-packages/torchvision/models/_utils.py:208: UserWarning: The parameter 'pretrained' is deprecated since 0.13 and may be removed in the future, please use 'weights' instead.\n",
      "  warnings.warn(\n",
      "/home/asufian/.local/share/pipx/venvs/notebook/lib/python3.12/site-packages/torchvision/models/_utils.py:223: UserWarning: Arguments other than a weight enum or `None` for 'weights' are deprecated since 0.13 and may be removed in the future. The current behavior is equivalent to passing `weights=None`.\n",
      "  warnings.warn(msg)\n",
      "Using cache found in /home/asufian/.cache/torch/hub/pytorch_vision_v0.10.0\n"
     ]
    },
    {
     "name": "stdout",
     "output_type": "stream",
     "text": [
      "----------------------> 0.726153846153846\n",
      "Evaluated Accuracy: 0.7262\n",
      "Testing b_a_r = 0.0071, c_a_r = 0.0539, f_a_r = 0.0552\n"
     ]
    },
    {
     "name": "stderr",
     "output_type": "stream",
     "text": [
      "Using cache found in /home/asufian/.cache/torch/hub/pytorch_vision_v0.10.0\n",
      "/home/asufian/.local/share/pipx/venvs/notebook/lib/python3.12/site-packages/torchvision/models/_utils.py:208: UserWarning: The parameter 'pretrained' is deprecated since 0.13 and may be removed in the future, please use 'weights' instead.\n",
      "  warnings.warn(\n",
      "/home/asufian/.local/share/pipx/venvs/notebook/lib/python3.12/site-packages/torchvision/models/_utils.py:223: UserWarning: Arguments other than a weight enum or `None` for 'weights' are deprecated since 0.13 and may be removed in the future. The current behavior is equivalent to passing `weights=None`.\n",
      "  warnings.warn(msg)\n",
      "Using cache found in /home/asufian/.cache/torch/hub/pytorch_vision_v0.10.0\n"
     ]
    },
    {
     "name": "stdout",
     "output_type": "stream",
     "text": [
      "----------------------> 0.7208791208791206\n",
      "Evaluated Accuracy: 0.7209\n",
      "Testing b_a_r = 0.0257, c_a_r = 0.2429, f_a_r = 0.8767\n"
     ]
    },
    {
     "name": "stderr",
     "output_type": "stream",
     "text": [
      "Using cache found in /home/asufian/.cache/torch/hub/pytorch_vision_v0.10.0\n",
      "/home/asufian/.local/share/pipx/venvs/notebook/lib/python3.12/site-packages/torchvision/models/_utils.py:208: UserWarning: The parameter 'pretrained' is deprecated since 0.13 and may be removed in the future, please use 'weights' instead.\n",
      "  warnings.warn(\n",
      "/home/asufian/.local/share/pipx/venvs/notebook/lib/python3.12/site-packages/torchvision/models/_utils.py:223: UserWarning: Arguments other than a weight enum or `None` for 'weights' are deprecated since 0.13 and may be removed in the future. The current behavior is equivalent to passing `weights=None`.\n",
      "  warnings.warn(msg)\n",
      "Using cache found in /home/asufian/.cache/torch/hub/pytorch_vision_v0.10.0\n"
     ]
    },
    {
     "name": "stdout",
     "output_type": "stream",
     "text": [
      "----------------------> 0.6033699633699634\n",
      "Evaluated Accuracy: 0.6034\n",
      "Testing b_a_r = 0.0898, c_a_r = 0.0004, f_a_r = 0.9595\n"
     ]
    },
    {
     "name": "stderr",
     "output_type": "stream",
     "text": [
      "Using cache found in /home/asufian/.cache/torch/hub/pytorch_vision_v0.10.0\n",
      "/home/asufian/.local/share/pipx/venvs/notebook/lib/python3.12/site-packages/torchvision/models/_utils.py:208: UserWarning: The parameter 'pretrained' is deprecated since 0.13 and may be removed in the future, please use 'weights' instead.\n",
      "  warnings.warn(\n",
      "/home/asufian/.local/share/pipx/venvs/notebook/lib/python3.12/site-packages/torchvision/models/_utils.py:223: UserWarning: Arguments other than a weight enum or `None` for 'weights' are deprecated since 0.13 and may be removed in the future. The current behavior is equivalent to passing `weights=None`.\n",
      "  warnings.warn(msg)\n",
      "Using cache found in /home/asufian/.cache/torch/hub/pytorch_vision_v0.10.0\n"
     ]
    },
    {
     "name": "stdout",
     "output_type": "stream",
     "text": [
      "----------------------> 0.7317216117216115\n",
      "Evaluated Accuracy: 0.7317\n",
      "Testing b_a_r = 0.5492, c_a_r = 0.3636, f_a_r = 0.1470\n"
     ]
    },
    {
     "name": "stderr",
     "output_type": "stream",
     "text": [
      "Using cache found in /home/asufian/.cache/torch/hub/pytorch_vision_v0.10.0\n",
      "/home/asufian/.local/share/pipx/venvs/notebook/lib/python3.12/site-packages/torchvision/models/_utils.py:208: UserWarning: The parameter 'pretrained' is deprecated since 0.13 and may be removed in the future, please use 'weights' instead.\n",
      "  warnings.warn(\n",
      "/home/asufian/.local/share/pipx/venvs/notebook/lib/python3.12/site-packages/torchvision/models/_utils.py:223: UserWarning: Arguments other than a weight enum or `None` for 'weights' are deprecated since 0.13 and may be removed in the future. The current behavior is equivalent to passing `weights=None`.\n",
      "  warnings.warn(msg)\n",
      "Using cache found in /home/asufian/.cache/torch/hub/pytorch_vision_v0.10.0\n"
     ]
    },
    {
     "name": "stdout",
     "output_type": "stream",
     "text": [
      "----------------------> 0.452014652014652\n",
      "Evaluated Accuracy: 0.4520\n",
      "Testing b_a_r = 0.0193, c_a_r = 0.0011, f_a_r = 0.9841\n"
     ]
    },
    {
     "name": "stderr",
     "output_type": "stream",
     "text": [
      "Using cache found in /home/asufian/.cache/torch/hub/pytorch_vision_v0.10.0\n",
      "/home/asufian/.local/share/pipx/venvs/notebook/lib/python3.12/site-packages/torchvision/models/_utils.py:208: UserWarning: The parameter 'pretrained' is deprecated since 0.13 and may be removed in the future, please use 'weights' instead.\n",
      "  warnings.warn(\n",
      "/home/asufian/.local/share/pipx/venvs/notebook/lib/python3.12/site-packages/torchvision/models/_utils.py:223: UserWarning: Arguments other than a weight enum or `None` for 'weights' are deprecated since 0.13 and may be removed in the future. The current behavior is equivalent to passing `weights=None`.\n",
      "  warnings.warn(msg)\n",
      "Using cache found in /home/asufian/.cache/torch/hub/pytorch_vision_v0.10.0\n"
     ]
    },
    {
     "name": "stdout",
     "output_type": "stream",
     "text": [
      "----------------------> 0.731282051282051\n",
      "Evaluated Accuracy: 0.7313\n",
      "Testing b_a_r = 0.3660, c_a_r = 0.9677, f_a_r = 0.4138\n"
     ]
    },
    {
     "name": "stderr",
     "output_type": "stream",
     "text": [
      "Using cache found in /home/asufian/.cache/torch/hub/pytorch_vision_v0.10.0\n",
      "/home/asufian/.local/share/pipx/venvs/notebook/lib/python3.12/site-packages/torchvision/models/_utils.py:208: UserWarning: The parameter 'pretrained' is deprecated since 0.13 and may be removed in the future, please use 'weights' instead.\n",
      "  warnings.warn(\n",
      "/home/asufian/.local/share/pipx/venvs/notebook/lib/python3.12/site-packages/torchvision/models/_utils.py:223: UserWarning: Arguments other than a weight enum or `None` for 'weights' are deprecated since 0.13 and may be removed in the future. The current behavior is equivalent to passing `weights=None`.\n",
      "  warnings.warn(msg)\n",
      "Using cache found in /home/asufian/.cache/torch/hub/pytorch_vision_v0.10.0\n"
     ]
    },
    {
     "name": "stdout",
     "output_type": "stream",
     "text": [
      "----------------------> 0.41435897435897445\n",
      "Evaluated Accuracy: 0.4144\n",
      "Testing b_a_r = 0.0109, c_a_r = 0.1494, f_a_r = 0.9997\n"
     ]
    },
    {
     "name": "stderr",
     "output_type": "stream",
     "text": [
      "Using cache found in /home/asufian/.cache/torch/hub/pytorch_vision_v0.10.0\n",
      "/home/asufian/.local/share/pipx/venvs/notebook/lib/python3.12/site-packages/torchvision/models/_utils.py:208: UserWarning: The parameter 'pretrained' is deprecated since 0.13 and may be removed in the future, please use 'weights' instead.\n",
      "  warnings.warn(\n",
      "/home/asufian/.local/share/pipx/venvs/notebook/lib/python3.12/site-packages/torchvision/models/_utils.py:223: UserWarning: Arguments other than a weight enum or `None` for 'weights' are deprecated since 0.13 and may be removed in the future. The current behavior is equivalent to passing `weights=None`.\n",
      "  warnings.warn(msg)\n",
      "Using cache found in /home/asufian/.cache/torch/hub/pytorch_vision_v0.10.0\n"
     ]
    },
    {
     "name": "stdout",
     "output_type": "stream",
     "text": [
      "----------------------> 0.6792673992673992\n",
      "Evaluated Accuracy: 0.6793\n",
      "Testing b_a_r = 0.4490, c_a_r = 0.0115, f_a_r = 0.0398\n"
     ]
    },
    {
     "name": "stderr",
     "output_type": "stream",
     "text": [
      "Using cache found in /home/asufian/.cache/torch/hub/pytorch_vision_v0.10.0\n",
      "/home/asufian/.local/share/pipx/venvs/notebook/lib/python3.12/site-packages/torchvision/models/_utils.py:208: UserWarning: The parameter 'pretrained' is deprecated since 0.13 and may be removed in the future, please use 'weights' instead.\n",
      "  warnings.warn(\n",
      "/home/asufian/.local/share/pipx/venvs/notebook/lib/python3.12/site-packages/torchvision/models/_utils.py:223: UserWarning: Arguments other than a weight enum or `None` for 'weights' are deprecated since 0.13 and may be removed in the future. The current behavior is equivalent to passing `weights=None`.\n",
      "  warnings.warn(msg)\n",
      "Using cache found in /home/asufian/.cache/torch/hub/pytorch_vision_v0.10.0\n"
     ]
    },
    {
     "name": "stdout",
     "output_type": "stream",
     "text": [
      "----------------------> 0.7264468864468863\n",
      "Evaluated Accuracy: 0.7264\n",
      "Testing b_a_r = 0.9566, c_a_r = 0.0007, f_a_r = 0.9871\n"
     ]
    },
    {
     "name": "stderr",
     "output_type": "stream",
     "text": [
      "Using cache found in /home/asufian/.cache/torch/hub/pytorch_vision_v0.10.0\n",
      "/home/asufian/.local/share/pipx/venvs/notebook/lib/python3.12/site-packages/torchvision/models/_utils.py:208: UserWarning: The parameter 'pretrained' is deprecated since 0.13 and may be removed in the future, please use 'weights' instead.\n",
      "  warnings.warn(\n",
      "/home/asufian/.local/share/pipx/venvs/notebook/lib/python3.12/site-packages/torchvision/models/_utils.py:223: UserWarning: Arguments other than a weight enum or `None` for 'weights' are deprecated since 0.13 and may be removed in the future. The current behavior is equivalent to passing `weights=None`.\n",
      "  warnings.warn(msg)\n",
      "Using cache found in /home/asufian/.cache/torch/hub/pytorch_vision_v0.10.0\n"
     ]
    },
    {
     "name": "stdout",
     "output_type": "stream",
     "text": [
      "----------------------> 0.7280586080586079\n",
      "Evaluated Accuracy: 0.7281\n",
      "Testing b_a_r = 0.9874, c_a_r = 0.0328, f_a_r = 0.9989\n"
     ]
    },
    {
     "name": "stderr",
     "output_type": "stream",
     "text": [
      "Using cache found in /home/asufian/.cache/torch/hub/pytorch_vision_v0.10.0\n",
      "/home/asufian/.local/share/pipx/venvs/notebook/lib/python3.12/site-packages/torchvision/models/_utils.py:208: UserWarning: The parameter 'pretrained' is deprecated since 0.13 and may be removed in the future, please use 'weights' instead.\n",
      "  warnings.warn(\n",
      "/home/asufian/.local/share/pipx/venvs/notebook/lib/python3.12/site-packages/torchvision/models/_utils.py:223: UserWarning: Arguments other than a weight enum or `None` for 'weights' are deprecated since 0.13 and may be removed in the future. The current behavior is equivalent to passing `weights=None`.\n",
      "  warnings.warn(msg)\n",
      "Using cache found in /home/asufian/.cache/torch/hub/pytorch_vision_v0.10.0\n"
     ]
    },
    {
     "name": "stdout",
     "output_type": "stream",
     "text": [
      "----------------------> 0.725128205128205\n",
      "Evaluated Accuracy: 0.7251\n",
      "Testing b_a_r = 0.0080, c_a_r = 0.5770, f_a_r = 0.3763\n"
     ]
    },
    {
     "name": "stderr",
     "output_type": "stream",
     "text": [
      "Using cache found in /home/asufian/.cache/torch/hub/pytorch_vision_v0.10.0\n",
      "/home/asufian/.local/share/pipx/venvs/notebook/lib/python3.12/site-packages/torchvision/models/_utils.py:208: UserWarning: The parameter 'pretrained' is deprecated since 0.13 and may be removed in the future, please use 'weights' instead.\n",
      "  warnings.warn(\n",
      "/home/asufian/.local/share/pipx/venvs/notebook/lib/python3.12/site-packages/torchvision/models/_utils.py:223: UserWarning: Arguments other than a weight enum or `None` for 'weights' are deprecated since 0.13 and may be removed in the future. The current behavior is equivalent to passing `weights=None`.\n",
      "  warnings.warn(msg)\n",
      "Using cache found in /home/asufian/.cache/torch/hub/pytorch_vision_v0.10.0\n"
     ]
    },
    {
     "name": "stdout",
     "output_type": "stream",
     "text": [
      "----------------------> 0.3312820512820513\n",
      "Evaluated Accuracy: 0.3313\n",
      "Testing b_a_r = 0.3670, c_a_r = 0.0010, f_a_r = 0.9755\n"
     ]
    },
    {
     "name": "stderr",
     "output_type": "stream",
     "text": [
      "Using cache found in /home/asufian/.cache/torch/hub/pytorch_vision_v0.10.0\n",
      "/home/asufian/.local/share/pipx/venvs/notebook/lib/python3.12/site-packages/torchvision/models/_utils.py:208: UserWarning: The parameter 'pretrained' is deprecated since 0.13 and may be removed in the future, please use 'weights' instead.\n",
      "  warnings.warn(\n",
      "/home/asufian/.local/share/pipx/venvs/notebook/lib/python3.12/site-packages/torchvision/models/_utils.py:223: UserWarning: Arguments other than a weight enum or `None` for 'weights' are deprecated since 0.13 and may be removed in the future. The current behavior is equivalent to passing `weights=None`.\n",
      "  warnings.warn(msg)\n",
      "Using cache found in /home/asufian/.cache/torch/hub/pytorch_vision_v0.10.0\n"
     ]
    },
    {
     "name": "stdout",
     "output_type": "stream",
     "text": [
      "----------------------> 0.7299633699633697\n",
      "Evaluated Accuracy: 0.7300\n",
      "Testing b_a_r = 0.0239, c_a_r = 0.0733, f_a_r = 0.9761\n"
     ]
    },
    {
     "name": "stderr",
     "output_type": "stream",
     "text": [
      "Using cache found in /home/asufian/.cache/torch/hub/pytorch_vision_v0.10.0\n",
      "/home/asufian/.local/share/pipx/venvs/notebook/lib/python3.12/site-packages/torchvision/models/_utils.py:208: UserWarning: The parameter 'pretrained' is deprecated since 0.13 and may be removed in the future, please use 'weights' instead.\n",
      "  warnings.warn(\n",
      "/home/asufian/.local/share/pipx/venvs/notebook/lib/python3.12/site-packages/torchvision/models/_utils.py:223: UserWarning: Arguments other than a weight enum or `None` for 'weights' are deprecated since 0.13 and may be removed in the future. The current behavior is equivalent to passing `weights=None`.\n",
      "  warnings.warn(msg)\n",
      "Using cache found in /home/asufian/.cache/torch/hub/pytorch_vision_v0.10.0\n"
     ]
    },
    {
     "name": "stdout",
     "output_type": "stream",
     "text": [
      "----------------------> 0.7160439560439559\n",
      "Evaluated Accuracy: 0.7160\n",
      "Testing b_a_r = 0.9958, c_a_r = 0.0603, f_a_r = 0.0810\n"
     ]
    },
    {
     "name": "stderr",
     "output_type": "stream",
     "text": [
      "Using cache found in /home/asufian/.cache/torch/hub/pytorch_vision_v0.10.0\n",
      "/home/asufian/.local/share/pipx/venvs/notebook/lib/python3.12/site-packages/torchvision/models/_utils.py:208: UserWarning: The parameter 'pretrained' is deprecated since 0.13 and may be removed in the future, please use 'weights' instead.\n",
      "  warnings.warn(\n",
      "/home/asufian/.local/share/pipx/venvs/notebook/lib/python3.12/site-packages/torchvision/models/_utils.py:223: UserWarning: Arguments other than a weight enum or `None` for 'weights' are deprecated since 0.13 and may be removed in the future. The current behavior is equivalent to passing `weights=None`.\n",
      "  warnings.warn(msg)\n",
      "Using cache found in /home/asufian/.cache/torch/hub/pytorch_vision_v0.10.0\n"
     ]
    },
    {
     "name": "stdout",
     "output_type": "stream",
     "text": [
      "----------------------> 0.7179487179487177\n",
      "Evaluated Accuracy: 0.7179\n",
      "Testing b_a_r = 0.9889, c_a_r = 0.2599, f_a_r = 0.9371\n"
     ]
    },
    {
     "name": "stderr",
     "output_type": "stream",
     "text": [
      "Using cache found in /home/asufian/.cache/torch/hub/pytorch_vision_v0.10.0\n",
      "/home/asufian/.local/share/pipx/venvs/notebook/lib/python3.12/site-packages/torchvision/models/_utils.py:208: UserWarning: The parameter 'pretrained' is deprecated since 0.13 and may be removed in the future, please use 'weights' instead.\n",
      "  warnings.warn(\n",
      "/home/asufian/.local/share/pipx/venvs/notebook/lib/python3.12/site-packages/torchvision/models/_utils.py:223: UserWarning: Arguments other than a weight enum or `None` for 'weights' are deprecated since 0.13 and may be removed in the future. The current behavior is equivalent to passing `weights=None`.\n",
      "  warnings.warn(msg)\n",
      "Using cache found in /home/asufian/.cache/torch/hub/pytorch_vision_v0.10.0\n"
     ]
    },
    {
     "name": "stdout",
     "output_type": "stream",
     "text": [
      "----------------------> 0.5821245421245421\n",
      "Evaluated Accuracy: 0.5821\n",
      "Testing b_a_r = 0.3920, c_a_r = 0.0002, f_a_r = 0.2987\n"
     ]
    },
    {
     "name": "stderr",
     "output_type": "stream",
     "text": [
      "Using cache found in /home/asufian/.cache/torch/hub/pytorch_vision_v0.10.0\n",
      "/home/asufian/.local/share/pipx/venvs/notebook/lib/python3.12/site-packages/torchvision/models/_utils.py:208: UserWarning: The parameter 'pretrained' is deprecated since 0.13 and may be removed in the future, please use 'weights' instead.\n",
      "  warnings.warn(\n",
      "/home/asufian/.local/share/pipx/venvs/notebook/lib/python3.12/site-packages/torchvision/models/_utils.py:223: UserWarning: Arguments other than a weight enum or `None` for 'weights' are deprecated since 0.13 and may be removed in the future. The current behavior is equivalent to passing `weights=None`.\n",
      "  warnings.warn(msg)\n",
      "Using cache found in /home/asufian/.cache/torch/hub/pytorch_vision_v0.10.0\n"
     ]
    },
    {
     "name": "stdout",
     "output_type": "stream",
     "text": [
      "----------------------> 0.7304029304029301\n",
      "Evaluated Accuracy: 0.7304\n",
      "Testing b_a_r = 0.0083, c_a_r = 0.0016, f_a_r = 0.1354\n"
     ]
    },
    {
     "name": "stderr",
     "output_type": "stream",
     "text": [
      "Using cache found in /home/asufian/.cache/torch/hub/pytorch_vision_v0.10.0\n",
      "/home/asufian/.local/share/pipx/venvs/notebook/lib/python3.12/site-packages/torchvision/models/_utils.py:208: UserWarning: The parameter 'pretrained' is deprecated since 0.13 and may be removed in the future, please use 'weights' instead.\n",
      "  warnings.warn(\n",
      "/home/asufian/.local/share/pipx/venvs/notebook/lib/python3.12/site-packages/torchvision/models/_utils.py:223: UserWarning: Arguments other than a weight enum or `None` for 'weights' are deprecated since 0.13 and may be removed in the future. The current behavior is equivalent to passing `weights=None`.\n",
      "  warnings.warn(msg)\n",
      "Using cache found in /home/asufian/.cache/torch/hub/pytorch_vision_v0.10.0\n"
     ]
    },
    {
     "name": "stdout",
     "output_type": "stream",
     "text": [
      "----------------------> 0.7314285714285712\n",
      "Evaluated Accuracy: 0.7314\n",
      "Testing b_a_r = 0.8633, c_a_r = 0.3292, f_a_r = 0.3234\n"
     ]
    },
    {
     "name": "stderr",
     "output_type": "stream",
     "text": [
      "Using cache found in /home/asufian/.cache/torch/hub/pytorch_vision_v0.10.0\n",
      "/home/asufian/.local/share/pipx/venvs/notebook/lib/python3.12/site-packages/torchvision/models/_utils.py:208: UserWarning: The parameter 'pretrained' is deprecated since 0.13 and may be removed in the future, please use 'weights' instead.\n",
      "  warnings.warn(\n",
      "/home/asufian/.local/share/pipx/venvs/notebook/lib/python3.12/site-packages/torchvision/models/_utils.py:223: UserWarning: Arguments other than a weight enum or `None` for 'weights' are deprecated since 0.13 and may be removed in the future. The current behavior is equivalent to passing `weights=None`.\n",
      "  warnings.warn(msg)\n",
      "Using cache found in /home/asufian/.cache/torch/hub/pytorch_vision_v0.10.0\n"
     ]
    },
    {
     "name": "stdout",
     "output_type": "stream",
     "text": [
      "----------------------> 0.48893772893772897\n",
      "Evaluated Accuracy: 0.4889\n",
      "Testing b_a_r = 0.9782, c_a_r = 0.0002, f_a_r = 0.8527\n"
     ]
    },
    {
     "name": "stderr",
     "output_type": "stream",
     "text": [
      "Using cache found in /home/asufian/.cache/torch/hub/pytorch_vision_v0.10.0\n",
      "/home/asufian/.local/share/pipx/venvs/notebook/lib/python3.12/site-packages/torchvision/models/_utils.py:208: UserWarning: The parameter 'pretrained' is deprecated since 0.13 and may be removed in the future, please use 'weights' instead.\n",
      "  warnings.warn(\n",
      "/home/asufian/.local/share/pipx/venvs/notebook/lib/python3.12/site-packages/torchvision/models/_utils.py:223: UserWarning: Arguments other than a weight enum or `None` for 'weights' are deprecated since 0.13 and may be removed in the future. The current behavior is equivalent to passing `weights=None`.\n",
      "  warnings.warn(msg)\n",
      "Using cache found in /home/asufian/.cache/torch/hub/pytorch_vision_v0.10.0\n"
     ]
    },
    {
     "name": "stdout",
     "output_type": "stream",
     "text": [
      "----------------------> 0.7279120879120877\n",
      "Evaluated Accuracy: 0.7279\n",
      "Testing b_a_r = 0.6022, c_a_r = 0.6160, f_a_r = 0.2481\n"
     ]
    },
    {
     "name": "stderr",
     "output_type": "stream",
     "text": [
      "Using cache found in /home/asufian/.cache/torch/hub/pytorch_vision_v0.10.0\n",
      "/home/asufian/.local/share/pipx/venvs/notebook/lib/python3.12/site-packages/torchvision/models/_utils.py:208: UserWarning: The parameter 'pretrained' is deprecated since 0.13 and may be removed in the future, please use 'weights' instead.\n",
      "  warnings.warn(\n",
      "/home/asufian/.local/share/pipx/venvs/notebook/lib/python3.12/site-packages/torchvision/models/_utils.py:223: UserWarning: Arguments other than a weight enum or `None` for 'weights' are deprecated since 0.13 and may be removed in the future. The current behavior is equivalent to passing `weights=None`.\n",
      "  warnings.warn(msg)\n",
      "Using cache found in /home/asufian/.cache/torch/hub/pytorch_vision_v0.10.0\n"
     ]
    },
    {
     "name": "stdout",
     "output_type": "stream",
     "text": [
      "----------------------> 0.3267399267399267\n",
      "Evaluated Accuracy: 0.3267\n",
      "Testing b_a_r = 0.2529, c_a_r = 0.4138, f_a_r = 0.9356\n"
     ]
    },
    {
     "name": "stderr",
     "output_type": "stream",
     "text": [
      "Using cache found in /home/asufian/.cache/torch/hub/pytorch_vision_v0.10.0\n",
      "/home/asufian/.local/share/pipx/venvs/notebook/lib/python3.12/site-packages/torchvision/models/_utils.py:208: UserWarning: The parameter 'pretrained' is deprecated since 0.13 and may be removed in the future, please use 'weights' instead.\n",
      "  warnings.warn(\n",
      "/home/asufian/.local/share/pipx/venvs/notebook/lib/python3.12/site-packages/torchvision/models/_utils.py:223: UserWarning: Arguments other than a weight enum or `None` for 'weights' are deprecated since 0.13 and may be removed in the future. The current behavior is equivalent to passing `weights=None`.\n",
      "  warnings.warn(msg)\n",
      "Using cache found in /home/asufian/.cache/torch/hub/pytorch_vision_v0.10.0\n"
     ]
    },
    {
     "name": "stdout",
     "output_type": "stream",
     "text": [
      "----------------------> 0.4077655677655677\n",
      "Evaluated Accuracy: 0.4078\n",
      "Testing b_a_r = 0.3047, c_a_r = 0.4144, f_a_r = 0.0875\n"
     ]
    },
    {
     "name": "stderr",
     "output_type": "stream",
     "text": [
      "Using cache found in /home/asufian/.cache/torch/hub/pytorch_vision_v0.10.0\n",
      "/home/asufian/.local/share/pipx/venvs/notebook/lib/python3.12/site-packages/torchvision/models/_utils.py:208: UserWarning: The parameter 'pretrained' is deprecated since 0.13 and may be removed in the future, please use 'weights' instead.\n",
      "  warnings.warn(\n",
      "/home/asufian/.local/share/pipx/venvs/notebook/lib/python3.12/site-packages/torchvision/models/_utils.py:223: UserWarning: Arguments other than a weight enum or `None` for 'weights' are deprecated since 0.13 and may be removed in the future. The current behavior is equivalent to passing `weights=None`.\n",
      "  warnings.warn(msg)\n",
      "Using cache found in /home/asufian/.cache/torch/hub/pytorch_vision_v0.10.0\n"
     ]
    },
    {
     "name": "stdout",
     "output_type": "stream",
     "text": [
      "----------------------> 0.407032967032967\n",
      "Evaluated Accuracy: 0.4070\n",
      "Testing b_a_r = 0.7070, c_a_r = 0.1117, f_a_r = 0.5296\n"
     ]
    },
    {
     "name": "stderr",
     "output_type": "stream",
     "text": [
      "Using cache found in /home/asufian/.cache/torch/hub/pytorch_vision_v0.10.0\n",
      "/home/asufian/.local/share/pipx/venvs/notebook/lib/python3.12/site-packages/torchvision/models/_utils.py:208: UserWarning: The parameter 'pretrained' is deprecated since 0.13 and may be removed in the future, please use 'weights' instead.\n",
      "  warnings.warn(\n",
      "/home/asufian/.local/share/pipx/venvs/notebook/lib/python3.12/site-packages/torchvision/models/_utils.py:223: UserWarning: Arguments other than a weight enum or `None` for 'weights' are deprecated since 0.13 and may be removed in the future. The current behavior is equivalent to passing `weights=None`.\n",
      "  warnings.warn(msg)\n",
      "Using cache found in /home/asufian/.cache/torch/hub/pytorch_vision_v0.10.0\n"
     ]
    },
    {
     "name": "stdout",
     "output_type": "stream",
     "text": [
      "----------------------> 0.6964102564102563\n",
      "Evaluated Accuracy: 0.6964\n",
      "Testing b_a_r = 0.3494, c_a_r = 0.0886, f_a_r = 0.4621\n"
     ]
    },
    {
     "name": "stderr",
     "output_type": "stream",
     "text": [
      "Using cache found in /home/asufian/.cache/torch/hub/pytorch_vision_v0.10.0\n",
      "/home/asufian/.local/share/pipx/venvs/notebook/lib/python3.12/site-packages/torchvision/models/_utils.py:208: UserWarning: The parameter 'pretrained' is deprecated since 0.13 and may be removed in the future, please use 'weights' instead.\n",
      "  warnings.warn(\n",
      "/home/asufian/.local/share/pipx/venvs/notebook/lib/python3.12/site-packages/torchvision/models/_utils.py:223: UserWarning: Arguments other than a weight enum or `None` for 'weights' are deprecated since 0.13 and may be removed in the future. The current behavior is equivalent to passing `weights=None`.\n",
      "  warnings.warn(msg)\n",
      "Using cache found in /home/asufian/.cache/torch/hub/pytorch_vision_v0.10.0\n"
     ]
    },
    {
     "name": "stdout",
     "output_type": "stream",
     "text": [
      "----------------------> 0.7100366300366299\n",
      "Evaluated Accuracy: 0.7100\n",
      "Testing b_a_r = 0.8970, c_a_r = 0.6209, f_a_r = 0.2377\n"
     ]
    },
    {
     "name": "stderr",
     "output_type": "stream",
     "text": [
      "Using cache found in /home/asufian/.cache/torch/hub/pytorch_vision_v0.10.0\n",
      "/home/asufian/.local/share/pipx/venvs/notebook/lib/python3.12/site-packages/torchvision/models/_utils.py:208: UserWarning: The parameter 'pretrained' is deprecated since 0.13 and may be removed in the future, please use 'weights' instead.\n",
      "  warnings.warn(\n",
      "/home/asufian/.local/share/pipx/venvs/notebook/lib/python3.12/site-packages/torchvision/models/_utils.py:223: UserWarning: Arguments other than a weight enum or `None` for 'weights' are deprecated since 0.13 and may be removed in the future. The current behavior is equivalent to passing `weights=None`.\n",
      "  warnings.warn(msg)\n",
      "Using cache found in /home/asufian/.cache/torch/hub/pytorch_vision_v0.10.0\n"
     ]
    },
    {
     "name": "stdout",
     "output_type": "stream",
     "text": [
      "----------------------> 0.32732600732600736\n",
      "Evaluated Accuracy: 0.3273\n",
      "Testing b_a_r = 0.0917, c_a_r = 0.0129, f_a_r = 0.9408\n"
     ]
    },
    {
     "name": "stderr",
     "output_type": "stream",
     "text": [
      "Using cache found in /home/asufian/.cache/torch/hub/pytorch_vision_v0.10.0\n",
      "/home/asufian/.local/share/pipx/venvs/notebook/lib/python3.12/site-packages/torchvision/models/_utils.py:208: UserWarning: The parameter 'pretrained' is deprecated since 0.13 and may be removed in the future, please use 'weights' instead.\n",
      "  warnings.warn(\n",
      "/home/asufian/.local/share/pipx/venvs/notebook/lib/python3.12/site-packages/torchvision/models/_utils.py:223: UserWarning: Arguments other than a weight enum or `None` for 'weights' are deprecated since 0.13 and may be removed in the future. The current behavior is equivalent to passing `weights=None`.\n",
      "  warnings.warn(msg)\n",
      "Using cache found in /home/asufian/.cache/torch/hub/pytorch_vision_v0.10.0\n"
     ]
    },
    {
     "name": "stdout",
     "output_type": "stream",
     "text": [
      "----------------------> 0.727179487179487\n",
      "Evaluated Accuracy: 0.7272\n",
      "Testing b_a_r = 0.0363, c_a_r = 0.0419, f_a_r = 0.0951\n"
     ]
    },
    {
     "name": "stderr",
     "output_type": "stream",
     "text": [
      "Using cache found in /home/asufian/.cache/torch/hub/pytorch_vision_v0.10.0\n",
      "/home/asufian/.local/share/pipx/venvs/notebook/lib/python3.12/site-packages/torchvision/models/_utils.py:208: UserWarning: The parameter 'pretrained' is deprecated since 0.13 and may be removed in the future, please use 'weights' instead.\n",
      "  warnings.warn(\n",
      "/home/asufian/.local/share/pipx/venvs/notebook/lib/python3.12/site-packages/torchvision/models/_utils.py:223: UserWarning: Arguments other than a weight enum or `None` for 'weights' are deprecated since 0.13 and may be removed in the future. The current behavior is equivalent to passing `weights=None`.\n",
      "  warnings.warn(msg)\n",
      "Using cache found in /home/asufian/.cache/torch/hub/pytorch_vision_v0.10.0\n"
     ]
    }
   ],
   "source": [
    "import numpy as np\n",
    "import torch\n",
    "import matplotlib.pyplot as plt\n",
    "from skopt import gp_minimize\n",
    "from skopt.space import Real\n",
    "from skopt.utils import use_named_args\n",
    "from skopt.plots import plot_convergence\n",
    "\n",
    "# Device setup\n",
    "device = torch.device(\"cuda\" if torch.cuda.is_available() else \"cpu\")\n",
    "\n",
    "\n",
    "# Define the search space for b_a_r, c_a_r, and f_a_r\n",
    "search_space = [\n",
    "    Real(0.0, 1.0, name=\"b_a_r\"),\n",
    "    Real(0.0, 1.0, name=\"c_a_r\"),\n",
    "    Real(0.0, 1.0, name=\"f_a_r\")\n",
    "]\n",
    "\n",
    "# Define the objective function for Bayesian Optimization\n",
    "@use_named_args(search_space)\n",
    "def objective(b_a_r, c_a_r, f_a_r):\n",
    "    \"\"\"\n",
    "    Objective function to optimize the adaptation ratios.\n",
    "    It applies adaptation, evaluates the model, and returns the negative accuracy.\n",
    "    \"\"\"\n",
    "    accuracy = get_model_accuracy(b_a_r, c_a_r, f_a_r)\n",
    "    print(f\"Evaluated Accuracy: {accuracy:.4f}\")  # Debugging Output\n",
    "    \n",
    "    return -accuracy  # We minimize, so return negative accuracy\n",
    "\n",
    "# Perform Bayesian Optimization with additional settings\n",
    "search_iteration=50\n",
    "res = gp_minimize(\n",
    "    func=objective,\n",
    "    dimensions=search_space,\n",
    "    n_calls=search_iteration,               # Number of evaluations\n",
    "    n_initial_points=5,       # Initial random explorations before GP starts\n",
    "    acq_func=\"EI\",            # Acquisition function: Expected Improvement\n",
    "    random_state=42,          # Ensure reproducibility\n",
    "    n_jobs=-1,                # Parallel execution for faster optimization\n",
    ")\n",
    "\n",
    "# Extract optimal results\n",
    "optimal_b_a_r, optimal_c_a_r, optimal_f_a_r = res.x\n",
    "best_accuracy = -res.fun\n",
    "\n",
    "print(f\"\\n✅ Optimal Values:\")\n",
    "print(f\"   - b_a_r: {optimal_b_a_r:.4f}\")\n",
    "print(f\"   - c_a_r: {optimal_c_a_r:.4f}\")\n",
    "print(f\"   - f_a_r: {optimal_f_a_r:.4f}\")\n",
    "print(f\"📈 Highest Accuracy Achieved: {best_accuracy:.4f}\")\n",
    "\n",
    "\n"
   ]
  },
  {
   "cell_type": "code",
   "execution_count": null,
   "metadata": {},
   "outputs": [],
   "source": [
    "# b_a_r: \n",
    "#    - c_a_r: \n",
    "#    - f_a_r: \n",
    "\n",
    "#  pt=20"
   ]
  },
  {
   "cell_type": "code",
   "execution_count": null,
   "metadata": {},
   "outputs": [],
   "source": [
    "\n",
    "convolutional_network_with_dropout =  DenseNet169WithDropout(modell='densenet169',pretrained=False,dr=0.0)\n",
    "convolutional_network_with_dropout.fc = nn.Flatten()\n",
    "\n",
    "xyz = convolutional_network_with_dropout\n",
    "M3 = PrototypicalNetworks_dynamic_query(xyz).to(device)\n",
    "M3.load_state_dict(torch.load('model_own_path.pt'))\n",
    "evaluate2('/home/asufian/Desktop/output_mapii/result_densnet/base/5_w_5_s_f', test_loader, M3, criterion)\n",
    "# Load Model M2\n",
    "convolutional_network_with_dropout =  DenseNet169WithDropout(modell='densenet169',pretrained=False,dr=0.0)\n",
    "convolutional_network_with_dropout.fc = nn.Flatten()\n",
    "\n",
    "xyz2 = convolutional_network_with_dropout\n",
    "M2 = PrototypicalNetworks_dynamic_query(xyz2).to(device)\n",
    "M2.load_state_dict(torch.load('model_mu_path.pt'))\n",
    "evaluate2(\"/home/asufian/Desktop/output_mapii/result_densnet/secondary/5_w_5_s_f\", test_loader, M2, criterion)\n",
    "# Update Model M3's weights using a weighted combination of Model M3 and Model M2\n",
    "update_model_weights2(M3, M2, conv_ratio= optimal_c_a_r , fc_ratio=optimal_f_a_r , bias_ratio=optimal_b_a_r)\n",
    "\n",
    "# Assuming you have the evaluate2 function defined\n",
    "# Evaluate the updated model (M3) using evaluate2 function with some arguments\n",
    "evaluate2(\"/home/asufian/Desktop/output_mapii/result_densnet/amul/5_w_5_s_f\", test_loader, M3, criterion)\n",
    "\n",
    "\n",
    "\n",
    "\n",
    "# Assuming you have the evaluate2 function defined\n",
    "# Evaluate the updated model (M3) using evaluate2 function with some arguments\n",
    "# evaluate3(pp+'/_mapi_5-wau-1-shot_matchine_unlearning_own', test_loader, M3, criterion)"
   ]
  },
  {
   "cell_type": "code",
   "execution_count": 66,
   "metadata": {},
   "outputs": [
    {
     "name": "stdout",
     "output_type": "stream",
     "text": [
      "ls: cannot access '/home/asufian/Desktop/output_olchiki/code/mapi/model_10': No such file or directory\n"
     ]
    }
   ],
   "source": [
    "!ls /home/asufian/Desktop/output_olchiki/code/mapi/model_10"
   ]
  },
  {
   "cell_type": "code",
   "execution_count": 84,
   "metadata": {},
   "outputs": [
    {
     "name": "stderr",
     "output_type": "stream",
     "text": [
      "Using cache found in /home/asufian/.cache/torch/hub/pytorch_vision_v0.10.0\n",
      "/home/asufian/.local/share/pipx/venvs/notebook/lib/python3.12/site-packages/torchvision/models/_utils.py:208: UserWarning: The parameter 'pretrained' is deprecated since 0.13 and may be removed in the future, please use 'weights' instead.\n",
      "  warnings.warn(\n",
      "/home/asufian/.local/share/pipx/venvs/notebook/lib/python3.12/site-packages/torchvision/models/_utils.py:223: UserWarning: Arguments other than a weight enum or `None` for 'weights' are deprecated since 0.13 and may be removed in the future. The current behavior is equivalent to passing `weights=None`.\n",
      "  warnings.warn(msg)\n",
      "Using cache found in /home/asufian/.cache/torch/hub/pytorch_vision_v0.10.0\n"
     ]
    }
   ],
   "source": [
    "device = torch.device(\"cuda\" if torch.cuda.is_available() else \"cpu\")\n",
    "\n",
    "\n",
    "\n",
    "!rm model_mu_path.pt\n",
    "!rm model_own_path.pt\n",
    "\n",
    "convolutional_network_with_dropout =  DenseNet169WithDropout(modell='densenet169',pretrained=False,dr=0.0)\n",
    "convolutional_network_with_dropout.fc = nn.Flatten()\n",
    "\n",
    "model_own = PrototypicalNetworks_dynamic_query(convolutional_network_with_dropout).to(device)\n",
    "model_own.load_state_dict(torch.load('/home/asufian/Desktop/output_olchiki/code/modelrdnet.pth',map_location=torch.device('cpu')))\n",
    "\n",
    "\n",
    "convolutional_network_with_dropout =  DenseNet169WithDropout(modell='densenet169',pretrained=False,dr=0.0)\n",
    "convolutional_network_with_dropout.fc = nn.Flatten()\n",
    "\n",
    "model_own_1_shot = PrototypicalNetworks_dynamic_query(convolutional_network_with_dropout).to(device)\n",
    "model_own_1_shot.load_state_dict(torch.load('/home/asufian/Desktop/output_olchiki/code/mapi_sce/Denssecondary/model_10/model_B_mapi_10-shot_dens.pth',map_location=torch.device('cpu')))\n",
    "\n",
    "\n",
    "torch.save(model_own_1_shot.state_dict(), 'model_mu_path.pt')\n",
    "torch.save(model_own.state_dict(), 'model_own_path.pt')"
   ]
  },
  {
   "cell_type": "code",
   "execution_count": null,
   "metadata": {},
   "outputs": [],
   "source": []
  },
  {
   "cell_type": "code",
   "execution_count": 85,
   "metadata": {},
   "outputs": [],
   "source": [
    "\n",
    "\n",
    "def evaluate2(fname,data_loader, model, criterion=nn.CrossEntropyLoss()):\n",
    "    total_predictions = 0\n",
    "    correct_predictions = 0\n",
    "    total_loss = 0.0\n",
    "    accuracy = 0\n",
    "    datta = \"\"\n",
    "    model.eval()\n",
    "    tlv_cls=0\n",
    "    ttla=0\n",
    "    ttlal=[]\n",
    "    ttlac=0\n",
    "    precision=[]\n",
    "    recall=[]\n",
    "    \n",
    "    with torch.no_grad():\n",
    "        for episode in range(len(clss_5)):\n",
    "            support_set, query_set = data_loader.__getitem__(clss_5[tlv_cls] , clss_support_imagesss_10_shot[tlv_cls])\n",
    "\n",
    "           \n",
    "            clssa=str(clss_5[tlv_cls])\n",
    "            clss=str(clssa).replace(',',' ').replace('\\'',' ').replace('\\'',' ')\n",
    "            msg=str(clss_support_imagesss_10_shot[tlv_cls])\n",
    "            str(clss_5[tlv_cls])\n",
    "\n",
    "            tlv_cls+=1\n",
    "            # print(len(support_set),len(query_set))\n",
    "            support_set = [(torch.stack(images).to(device), label[0]) for images, label in support_set]\n",
    "            query_set = [(torch.stack(images).to(device), label) for images, label in query_set]\n",
    "\n",
    "            support_images, support_labels = zip(*support_set)\n",
    "\n",
    "            query_images, query_labels = zip(*query_set)\n",
    "\n",
    "            classification_scores = model(support_images, support_labels, query_images)\n",
    "            cortt = 0\n",
    "            totl = 0\n",
    "            confusion_mat=None\n",
    "            all_predicted_labels = []\n",
    "            all_actual_labels = []\n",
    "            # print(len(classification_scores),len(query_labels))\n",
    "            for ei in range(len(classification_scores)):\n",
    "                classification_scores_each_class = classification_scores[ei]\n",
    "                # print(classification_scores_each_class)\n",
    "                predicted_labels_eachclas = torch.argmax(classification_scores_each_class, dim=1)\n",
    "                pp = predicted_labels_eachclas.tolist()\n",
    "                act = query_labels[ei]\n",
    "                all_predicted_labels.extend(pp)\n",
    "                all_actual_labels.extend(act)\n",
    "                for iiii in range(len(pp)):\n",
    "                    if pp[iiii] == act[iiii]:\n",
    "                        cortt = cortt + 1\n",
    "                totl = totl + len(pp)\n",
    "                # print(len(act))\n",
    "            accuracy = cortt / totl\n",
    "            ttla+=1\n",
    "            ttlac+=accuracy\n",
    "            ttlal.append(accuracy)\n",
    "            # print(cortt , totl,\"Validation Accuracy:              \", cortt / totl)\n",
    "            confusion_mat = confusion_matrix(all_actual_labels, all_predicted_labels)\n",
    "            # print(\"Confusion Matrix:\")\n",
    "            # print(confusion_mat)\n",
    "\n",
    "            # fname='./own35_mapi_5_way_1_shot'\n",
    "\n",
    "            precision_overall, recall_overall, f1ss= calculate_metrics_get_per(msg,confusion_mat,acciuracy=cortt / totl,cls=clss,flnm=fname)\n",
    "            precision.append(precision_overall)\n",
    "            recall.append(recall_overall)\n",
    "    print(f\"---Accu-----pre----rec---------> {np.mean(ttlal):.4f} ± {np.std(ttlal, ddof=1):.4f}  \"\n",
    "      f\"{np.mean(precision):.4f} ± {np.std(precision, ddof=1):.4f}  \"\n",
    "      f\"{np.mean(recall):.4f} ± {np.std(recall, ddof=1):.4f}\")\n",
    "\n",
    "    # print(\"---Accu-----pre----rec---------->\",np.mean(ttlal),'±',np.std(ttlal, ddof=1), np.mean(precision),'±',np.std(precision, ddof=1),np.mean(precision),'±',np.std(precision, ddof=1),)\n",
    "# %%%%%%\n",
    "\n",
    "def evaluate3(fname,data_loader, model, criterion=nn.CrossEntropyLoss()):\n",
    "    total_predictions = 0\n",
    "    correct_predictions = 0\n",
    "    total_loss = 0.0\n",
    "    accuracy = 0\n",
    "    datta = \"\"\n",
    "    model.eval()\n",
    "    tlv_cls=0\n",
    "    ttla=0\n",
    "    ttlac=0\n",
    "    with torch.no_grad():\n",
    "        for episode in range(len(clss_5)):\n",
    "            support_set, query_set = data_loader.__getitem__(clss_5[tlv_cls] , clss_support_imagesss_10_shot[tlv_cls])\n",
    "\n",
    "            \n",
    "            clssa=str(clss_5[tlv_cls])\n",
    "            clss=str(clssa).replace(',',' ').replace('\\'',' ').replace('\\'',' ')\n",
    "            msg=str(clss_support_imagesss_10_shot[tlv_cls])\n",
    "            str(clss_5[tlv_cls])\n",
    "\n",
    "            tlv_cls+=1\n",
    "            # print(len(support_set),len(query_set))\n",
    "            support_set = [(torch.stack(images).to(device), label[0]) for images, label in support_set]\n",
    "            query_set = [(torch.stack(images).to(device), label) for images, label in query_set]\n",
    "\n",
    "            support_images, support_labels = zip(*support_set)\n",
    "\n",
    "            query_images, query_labels = zip(*query_set)\n",
    "\n",
    "            classification_scores = model(support_images, support_labels, query_images)\n",
    "            cortt = 0\n",
    "            totl = 0\n",
    "            confusion_mat=None\n",
    "            all_predicted_labels = []\n",
    "            all_actual_labels = []\n",
    "            # print(len(classification_scores),len(query_labels))\n",
    "            for ei in range(len(classification_scores)):\n",
    "                classification_scores_each_class = classification_scores[ei]\n",
    "                # print(classification_scores_each_class)\n",
    "                predicted_labels_eachclas = torch.argmax(classification_scores_each_class, dim=1)\n",
    "                pp = predicted_labels_eachclas.tolist()\n",
    "                act = query_labels[ei]\n",
    "                all_predicted_labels.extend(pp)\n",
    "                all_actual_labels.extend(act)\n",
    "                for iiii in range(len(pp)):\n",
    "                    if pp[iiii] == act[iiii]:\n",
    "                        cortt = cortt + 1\n",
    "                totl = totl + len(pp)\n",
    "                # print(len(act))\n",
    "            accuracy = cortt / totl\n",
    "            ttla+=1\n",
    "            ttlac+=accuracy\n",
    "            # print(cortt , totl,\"Validation Accuracy:              \", cortt / totl)\n",
    "            # confusion_mat = confusion_matrix(all_actual_labels, all_predicted_labels)\n",
    "            # print(\"Confusion Matrix:\")\n",
    "            # print(confusion_mat)\n",
    "\n",
    "            # fname='./own35_mapi_5_way_1_shot'\n",
    "\n",
    "            # calculate_metrics_get_per(msg,confusion_mat,acciuracy=cortt / totl,cls=clss,flnm=fname)\n",
    "\n",
    "    print(\"---------------------->\",ttlac/ttla)\n",
    "    return ttlac/ttla"
   ]
  },
  {
   "cell_type": "code",
   "execution_count": null,
   "metadata": {},
   "outputs": [],
   "source": []
  },
  {
   "cell_type": "code",
   "execution_count": 86,
   "metadata": {
    "scrolled": true
   },
   "outputs": [
    {
     "name": "stdout",
     "output_type": "stream",
     "text": [
      "Testing b_a_r = 0.7965, c_a_r = 0.1834, f_a_r = 0.7797\n"
     ]
    },
    {
     "name": "stderr",
     "output_type": "stream",
     "text": [
      "Using cache found in /home/asufian/.cache/torch/hub/pytorch_vision_v0.10.0\n",
      "/home/asufian/.local/share/pipx/venvs/notebook/lib/python3.12/site-packages/torchvision/models/_utils.py:208: UserWarning: The parameter 'pretrained' is deprecated since 0.13 and may be removed in the future, please use 'weights' instead.\n",
      "  warnings.warn(\n",
      "/home/asufian/.local/share/pipx/venvs/notebook/lib/python3.12/site-packages/torchvision/models/_utils.py:223: UserWarning: Arguments other than a weight enum or `None` for 'weights' are deprecated since 0.13 and may be removed in the future. The current behavior is equivalent to passing `weights=None`.\n",
      "  warnings.warn(msg)\n",
      "Using cache found in /home/asufian/.cache/torch/hub/pytorch_vision_v0.10.0\n"
     ]
    },
    {
     "name": "stdout",
     "output_type": "stream",
     "text": [
      "----------------------> 0.7158139534883721\n",
      "Evaluated Accuracy: 0.7158\n",
      "Testing b_a_r = 0.5969, c_a_r = 0.4458, f_a_r = 0.1000\n"
     ]
    },
    {
     "name": "stderr",
     "output_type": "stream",
     "text": [
      "Using cache found in /home/asufian/.cache/torch/hub/pytorch_vision_v0.10.0\n",
      "Using cache found in /home/asufian/.cache/torch/hub/pytorch_vision_v0.10.0\n"
     ]
    },
    {
     "name": "stdout",
     "output_type": "stream",
     "text": [
      "----------------------> 0.386046511627907\n",
      "Evaluated Accuracy: 0.3860\n",
      "Testing b_a_r = 0.4592, c_a_r = 0.3337, f_a_r = 0.1429\n"
     ]
    },
    {
     "name": "stderr",
     "output_type": "stream",
     "text": [
      "Using cache found in /home/asufian/.cache/torch/hub/pytorch_vision_v0.10.0\n",
      "Using cache found in /home/asufian/.cache/torch/hub/pytorch_vision_v0.10.0\n"
     ]
    },
    {
     "name": "stdout",
     "output_type": "stream",
     "text": [
      "----------------------> 0.5201550387596899\n",
      "Evaluated Accuracy: 0.5202\n",
      "Testing b_a_r = 0.6509, c_a_r = 0.0564, f_a_r = 0.7220\n"
     ]
    },
    {
     "name": "stderr",
     "output_type": "stream",
     "text": [
      "Using cache found in /home/asufian/.cache/torch/hub/pytorch_vision_v0.10.0\n",
      "Using cache found in /home/asufian/.cache/torch/hub/pytorch_vision_v0.10.0\n"
     ]
    },
    {
     "name": "stdout",
     "output_type": "stream",
     "text": [
      "----------------------> 0.7553488372093025\n",
      "Evaluated Accuracy: 0.7553\n",
      "Testing b_a_r = 0.9386, c_a_r = 0.0008, f_a_r = 0.9922\n"
     ]
    },
    {
     "name": "stderr",
     "output_type": "stream",
     "text": [
      "Using cache found in /home/asufian/.cache/torch/hub/pytorch_vision_v0.10.0\n",
      "Using cache found in /home/asufian/.cache/torch/hub/pytorch_vision_v0.10.0\n"
     ]
    },
    {
     "name": "stdout",
     "output_type": "stream",
     "text": [
      "----------------------> 0.7458914728682171\n",
      "Evaluated Accuracy: 0.7459\n",
      "Testing b_a_r = 0.5365, c_a_r = 1.0000, f_a_r = 0.6493\n"
     ]
    },
    {
     "name": "stderr",
     "output_type": "stream",
     "text": [
      "Using cache found in /home/asufian/.cache/torch/hub/pytorch_vision_v0.10.0\n",
      "/home/asufian/.local/share/pipx/venvs/notebook/lib/python3.12/site-packages/torchvision/models/_utils.py:208: UserWarning: The parameter 'pretrained' is deprecated since 0.13 and may be removed in the future, please use 'weights' instead.\n",
      "  warnings.warn(\n",
      "/home/asufian/.local/share/pipx/venvs/notebook/lib/python3.12/site-packages/torchvision/models/_utils.py:223: UserWarning: Arguments other than a weight enum or `None` for 'weights' are deprecated since 0.13 and may be removed in the future. The current behavior is equivalent to passing `weights=None`.\n",
      "  warnings.warn(msg)\n",
      "Using cache found in /home/asufian/.cache/torch/hub/pytorch_vision_v0.10.0\n"
     ]
    },
    {
     "name": "stdout",
     "output_type": "stream",
     "text": [
      "----------------------> 0.394108527131783\n",
      "Evaluated Accuracy: 0.3941\n",
      "Testing b_a_r = 0.0000, c_a_r = 0.1009, f_a_r = 0.0000\n"
     ]
    },
    {
     "name": "stderr",
     "output_type": "stream",
     "text": [
      "Using cache found in /home/asufian/.cache/torch/hub/pytorch_vision_v0.10.0\n",
      "/home/asufian/.local/share/pipx/venvs/notebook/lib/python3.12/site-packages/torchvision/models/_utils.py:208: UserWarning: The parameter 'pretrained' is deprecated since 0.13 and may be removed in the future, please use 'weights' instead.\n",
      "  warnings.warn(\n",
      "/home/asufian/.local/share/pipx/venvs/notebook/lib/python3.12/site-packages/torchvision/models/_utils.py:223: UserWarning: Arguments other than a weight enum or `None` for 'weights' are deprecated since 0.13 and may be removed in the future. The current behavior is equivalent to passing `weights=None`.\n",
      "  warnings.warn(msg)\n",
      "Using cache found in /home/asufian/.cache/torch/hub/pytorch_vision_v0.10.0\n"
     ]
    },
    {
     "name": "stdout",
     "output_type": "stream",
     "text": [
      "----------------------> 0.7640310077519381\n",
      "Evaluated Accuracy: 0.7640\n",
      "Testing b_a_r = 0.9889, c_a_r = 0.0901, f_a_r = 0.9445\n"
     ]
    },
    {
     "name": "stderr",
     "output_type": "stream",
     "text": [
      "Using cache found in /home/asufian/.cache/torch/hub/pytorch_vision_v0.10.0\n",
      "/home/asufian/.local/share/pipx/venvs/notebook/lib/python3.12/site-packages/torchvision/models/_utils.py:208: UserWarning: The parameter 'pretrained' is deprecated since 0.13 and may be removed in the future, please use 'weights' instead.\n",
      "  warnings.warn(\n",
      "/home/asufian/.local/share/pipx/venvs/notebook/lib/python3.12/site-packages/torchvision/models/_utils.py:223: UserWarning: Arguments other than a weight enum or `None` for 'weights' are deprecated since 0.13 and may be removed in the future. The current behavior is equivalent to passing `weights=None`.\n",
      "  warnings.warn(msg)\n",
      "Using cache found in /home/asufian/.cache/torch/hub/pytorch_vision_v0.10.0\n"
     ]
    },
    {
     "name": "stdout",
     "output_type": "stream",
     "text": [
      "----------------------> 0.7610852713178295\n",
      "Evaluated Accuracy: 0.7611\n",
      "Testing b_a_r = 0.0293, c_a_r = 0.7611, f_a_r = 0.1916\n"
     ]
    },
    {
     "name": "stderr",
     "output_type": "stream",
     "text": [
      "Using cache found in /home/asufian/.cache/torch/hub/pytorch_vision_v0.10.0\n",
      "/home/asufian/.local/share/pipx/venvs/notebook/lib/python3.12/site-packages/torchvision/models/_utils.py:208: UserWarning: The parameter 'pretrained' is deprecated since 0.13 and may be removed in the future, please use 'weights' instead.\n",
      "  warnings.warn(\n",
      "/home/asufian/.local/share/pipx/venvs/notebook/lib/python3.12/site-packages/torchvision/models/_utils.py:223: UserWarning: Arguments other than a weight enum or `None` for 'weights' are deprecated since 0.13 and may be removed in the future. The current behavior is equivalent to passing `weights=None`.\n",
      "  warnings.warn(msg)\n",
      "Using cache found in /home/asufian/.cache/torch/hub/pytorch_vision_v0.10.0\n"
     ]
    },
    {
     "name": "stdout",
     "output_type": "stream",
     "text": [
      "----------------------> 0.37333333333333335\n",
      "Evaluated Accuracy: 0.3733\n",
      "Testing b_a_r = 0.0687, c_a_r = 0.1194, f_a_r = 0.9854\n"
     ]
    },
    {
     "name": "stderr",
     "output_type": "stream",
     "text": [
      "Using cache found in /home/asufian/.cache/torch/hub/pytorch_vision_v0.10.0\n",
      "/home/asufian/.local/share/pipx/venvs/notebook/lib/python3.12/site-packages/torchvision/models/_utils.py:208: UserWarning: The parameter 'pretrained' is deprecated since 0.13 and may be removed in the future, please use 'weights' instead.\n",
      "  warnings.warn(\n",
      "/home/asufian/.local/share/pipx/venvs/notebook/lib/python3.12/site-packages/torchvision/models/_utils.py:223: UserWarning: Arguments other than a weight enum or `None` for 'weights' are deprecated since 0.13 and may be removed in the future. The current behavior is equivalent to passing `weights=None`.\n",
      "  warnings.warn(msg)\n",
      "Using cache found in /home/asufian/.cache/torch/hub/pytorch_vision_v0.10.0\n"
     ]
    },
    {
     "name": "stdout",
     "output_type": "stream",
     "text": [
      "----------------------> 0.7665116279069767\n",
      "Evaluated Accuracy: 0.7665\n",
      "Testing b_a_r = 0.9865, c_a_r = 0.1116, f_a_r = 0.0957\n"
     ]
    },
    {
     "name": "stderr",
     "output_type": "stream",
     "text": [
      "Using cache found in /home/asufian/.cache/torch/hub/pytorch_vision_v0.10.0\n",
      "/home/asufian/.local/share/pipx/venvs/notebook/lib/python3.12/site-packages/torchvision/models/_utils.py:208: UserWarning: The parameter 'pretrained' is deprecated since 0.13 and may be removed in the future, please use 'weights' instead.\n",
      "  warnings.warn(\n",
      "/home/asufian/.local/share/pipx/venvs/notebook/lib/python3.12/site-packages/torchvision/models/_utils.py:223: UserWarning: Arguments other than a weight enum or `None` for 'weights' are deprecated since 0.13 and may be removed in the future. The current behavior is equivalent to passing `weights=None`.\n",
      "  warnings.warn(msg)\n",
      "Using cache found in /home/asufian/.cache/torch/hub/pytorch_vision_v0.10.0\n"
     ]
    },
    {
     "name": "stdout",
     "output_type": "stream",
     "text": [
      "----------------------> 0.7680620155038759\n",
      "Evaluated Accuracy: 0.7681\n",
      "Testing b_a_r = 0.9716, c_a_r = 0.1253, f_a_r = 0.1624\n"
     ]
    },
    {
     "name": "stderr",
     "output_type": "stream",
     "text": [
      "Using cache found in /home/asufian/.cache/torch/hub/pytorch_vision_v0.10.0\n",
      "/home/asufian/.local/share/pipx/venvs/notebook/lib/python3.12/site-packages/torchvision/models/_utils.py:208: UserWarning: The parameter 'pretrained' is deprecated since 0.13 and may be removed in the future, please use 'weights' instead.\n",
      "  warnings.warn(\n",
      "/home/asufian/.local/share/pipx/venvs/notebook/lib/python3.12/site-packages/torchvision/models/_utils.py:223: UserWarning: Arguments other than a weight enum or `None` for 'weights' are deprecated since 0.13 and may be removed in the future. The current behavior is equivalent to passing `weights=None`.\n",
      "  warnings.warn(msg)\n",
      "Using cache found in /home/asufian/.cache/torch/hub/pytorch_vision_v0.10.0\n"
     ]
    },
    {
     "name": "stdout",
     "output_type": "stream",
     "text": [
      "----------------------> 0.7629457364341086\n",
      "Evaluated Accuracy: 0.7629\n",
      "Testing b_a_r = 0.0052, c_a_r = 0.1320, f_a_r = 0.9049\n"
     ]
    },
    {
     "name": "stderr",
     "output_type": "stream",
     "text": [
      "Using cache found in /home/asufian/.cache/torch/hub/pytorch_vision_v0.10.0\n",
      "/home/asufian/.local/share/pipx/venvs/notebook/lib/python3.12/site-packages/torchvision/models/_utils.py:208: UserWarning: The parameter 'pretrained' is deprecated since 0.13 and may be removed in the future, please use 'weights' instead.\n",
      "  warnings.warn(\n",
      "/home/asufian/.local/share/pipx/venvs/notebook/lib/python3.12/site-packages/torchvision/models/_utils.py:223: UserWarning: Arguments other than a weight enum or `None` for 'weights' are deprecated since 0.13 and may be removed in the future. The current behavior is equivalent to passing `weights=None`.\n",
      "  warnings.warn(msg)\n",
      "Using cache found in /home/asufian/.cache/torch/hub/pytorch_vision_v0.10.0\n"
     ]
    },
    {
     "name": "stdout",
     "output_type": "stream",
     "text": [
      "----------------------> 0.7640310077519381\n",
      "Evaluated Accuracy: 0.7640\n",
      "Testing b_a_r = 0.9355, c_a_r = 0.6177, f_a_r = 0.9579\n"
     ]
    },
    {
     "name": "stderr",
     "output_type": "stream",
     "text": [
      "Using cache found in /home/asufian/.cache/torch/hub/pytorch_vision_v0.10.0\n",
      "/home/asufian/.local/share/pipx/venvs/notebook/lib/python3.12/site-packages/torchvision/models/_utils.py:208: UserWarning: The parameter 'pretrained' is deprecated since 0.13 and may be removed in the future, please use 'weights' instead.\n",
      "  warnings.warn(\n",
      "/home/asufian/.local/share/pipx/venvs/notebook/lib/python3.12/site-packages/torchvision/models/_utils.py:223: UserWarning: Arguments other than a weight enum or `None` for 'weights' are deprecated since 0.13 and may be removed in the future. The current behavior is equivalent to passing `weights=None`.\n",
      "  warnings.warn(msg)\n",
      "Using cache found in /home/asufian/.cache/torch/hub/pytorch_vision_v0.10.0\n"
     ]
    },
    {
     "name": "stdout",
     "output_type": "stream",
     "text": [
      "----------------------> 0.32589147286821707\n",
      "Evaluated Accuracy: 0.3259\n",
      "Testing b_a_r = 0.0114, c_a_r = 0.1005, f_a_r = 0.0315\n"
     ]
    },
    {
     "name": "stderr",
     "output_type": "stream",
     "text": [
      "Using cache found in /home/asufian/.cache/torch/hub/pytorch_vision_v0.10.0\n",
      "/home/asufian/.local/share/pipx/venvs/notebook/lib/python3.12/site-packages/torchvision/models/_utils.py:208: UserWarning: The parameter 'pretrained' is deprecated since 0.13 and may be removed in the future, please use 'weights' instead.\n",
      "  warnings.warn(\n",
      "/home/asufian/.local/share/pipx/venvs/notebook/lib/python3.12/site-packages/torchvision/models/_utils.py:223: UserWarning: Arguments other than a weight enum or `None` for 'weights' are deprecated since 0.13 and may be removed in the future. The current behavior is equivalent to passing `weights=None`.\n",
      "  warnings.warn(msg)\n",
      "Using cache found in /home/asufian/.cache/torch/hub/pytorch_vision_v0.10.0\n"
     ]
    },
    {
     "name": "stdout",
     "output_type": "stream",
     "text": [
      "----------------------> 0.764031007751938\n",
      "Evaluated Accuracy: 0.7640\n",
      "Testing b_a_r = 0.9515, c_a_r = 0.1147, f_a_r = 0.9894\n"
     ]
    },
    {
     "name": "stderr",
     "output_type": "stream",
     "text": [
      "Using cache found in /home/asufian/.cache/torch/hub/pytorch_vision_v0.10.0\n",
      "/home/asufian/.local/share/pipx/venvs/notebook/lib/python3.12/site-packages/torchvision/models/_utils.py:208: UserWarning: The parameter 'pretrained' is deprecated since 0.13 and may be removed in the future, please use 'weights' instead.\n",
      "  warnings.warn(\n",
      "/home/asufian/.local/share/pipx/venvs/notebook/lib/python3.12/site-packages/torchvision/models/_utils.py:223: UserWarning: Arguments other than a weight enum or `None` for 'weights' are deprecated since 0.13 and may be removed in the future. The current behavior is equivalent to passing `weights=None`.\n",
      "  warnings.warn(msg)\n",
      "Using cache found in /home/asufian/.cache/torch/hub/pytorch_vision_v0.10.0\n"
     ]
    },
    {
     "name": "stdout",
     "output_type": "stream",
     "text": [
      "----------------------> 0.7674418604651164\n",
      "Evaluated Accuracy: 0.7674\n",
      "Testing b_a_r = 0.0478, c_a_r = 0.0281, f_a_r = 0.0569\n"
     ]
    },
    {
     "name": "stderr",
     "output_type": "stream",
     "text": [
      "Using cache found in /home/asufian/.cache/torch/hub/pytorch_vision_v0.10.0\n",
      "/home/asufian/.local/share/pipx/venvs/notebook/lib/python3.12/site-packages/torchvision/models/_utils.py:208: UserWarning: The parameter 'pretrained' is deprecated since 0.13 and may be removed in the future, please use 'weights' instead.\n",
      "  warnings.warn(\n",
      "/home/asufian/.local/share/pipx/venvs/notebook/lib/python3.12/site-packages/torchvision/models/_utils.py:223: UserWarning: Arguments other than a weight enum or `None` for 'weights' are deprecated since 0.13 and may be removed in the future. The current behavior is equivalent to passing `weights=None`.\n",
      "  warnings.warn(msg)\n",
      "Using cache found in /home/asufian/.cache/torch/hub/pytorch_vision_v0.10.0\n"
     ]
    },
    {
     "name": "stdout",
     "output_type": "stream",
     "text": [
      "----------------------> 0.7519379844961239\n",
      "Evaluated Accuracy: 0.7519\n",
      "Testing b_a_r = 0.9546, c_a_r = 0.8906, f_a_r = 0.8590\n"
     ]
    },
    {
     "name": "stderr",
     "output_type": "stream",
     "text": [
      "Using cache found in /home/asufian/.cache/torch/hub/pytorch_vision_v0.10.0\n",
      "/home/asufian/.local/share/pipx/venvs/notebook/lib/python3.12/site-packages/torchvision/models/_utils.py:208: UserWarning: The parameter 'pretrained' is deprecated since 0.13 and may be removed in the future, please use 'weights' instead.\n",
      "  warnings.warn(\n",
      "/home/asufian/.local/share/pipx/venvs/notebook/lib/python3.12/site-packages/torchvision/models/_utils.py:223: UserWarning: Arguments other than a weight enum or `None` for 'weights' are deprecated since 0.13 and may be removed in the future. The current behavior is equivalent to passing `weights=None`.\n",
      "  warnings.warn(msg)\n",
      "Using cache found in /home/asufian/.cache/torch/hub/pytorch_vision_v0.10.0\n"
     ]
    },
    {
     "name": "stdout",
     "output_type": "stream",
     "text": [
      "----------------------> 0.39085271317829456\n",
      "Evaluated Accuracy: 0.3909\n",
      "Testing b_a_r = 0.9316, c_a_r = 0.1378, f_a_r = 0.0015\n"
     ]
    },
    {
     "name": "stderr",
     "output_type": "stream",
     "text": [
      "Using cache found in /home/asufian/.cache/torch/hub/pytorch_vision_v0.10.0\n",
      "/home/asufian/.local/share/pipx/venvs/notebook/lib/python3.12/site-packages/torchvision/models/_utils.py:208: UserWarning: The parameter 'pretrained' is deprecated since 0.13 and may be removed in the future, please use 'weights' instead.\n",
      "  warnings.warn(\n",
      "/home/asufian/.local/share/pipx/venvs/notebook/lib/python3.12/site-packages/torchvision/models/_utils.py:223: UserWarning: Arguments other than a weight enum or `None` for 'weights' are deprecated since 0.13 and may be removed in the future. The current behavior is equivalent to passing `weights=None`.\n",
      "  warnings.warn(msg)\n",
      "Using cache found in /home/asufian/.cache/torch/hub/pytorch_vision_v0.10.0\n"
     ]
    },
    {
     "name": "stdout",
     "output_type": "stream",
     "text": [
      "----------------------> 0.7626356589147287\n",
      "Evaluated Accuracy: 0.7626\n",
      "Testing b_a_r = 0.0187, c_a_r = 0.1088, f_a_r = 0.9723\n"
     ]
    },
    {
     "name": "stderr",
     "output_type": "stream",
     "text": [
      "Using cache found in /home/asufian/.cache/torch/hub/pytorch_vision_v0.10.0\n",
      "/home/asufian/.local/share/pipx/venvs/notebook/lib/python3.12/site-packages/torchvision/models/_utils.py:208: UserWarning: The parameter 'pretrained' is deprecated since 0.13 and may be removed in the future, please use 'weights' instead.\n",
      "  warnings.warn(\n",
      "/home/asufian/.local/share/pipx/venvs/notebook/lib/python3.12/site-packages/torchvision/models/_utils.py:223: UserWarning: Arguments other than a weight enum or `None` for 'weights' are deprecated since 0.13 and may be removed in the future. The current behavior is equivalent to passing `weights=None`.\n",
      "  warnings.warn(msg)\n",
      "Using cache found in /home/asufian/.cache/torch/hub/pytorch_vision_v0.10.0\n"
     ]
    },
    {
     "name": "stdout",
     "output_type": "stream",
     "text": [
      "----------------------> 0.7674418604651163\n",
      "Evaluated Accuracy: 0.7674\n",
      "Testing b_a_r = 0.9995, c_a_r = 0.1146, f_a_r = 0.9039\n"
     ]
    },
    {
     "name": "stderr",
     "output_type": "stream",
     "text": [
      "Using cache found in /home/asufian/.cache/torch/hub/pytorch_vision_v0.10.0\n",
      "/home/asufian/.local/share/pipx/venvs/notebook/lib/python3.12/site-packages/torchvision/models/_utils.py:208: UserWarning: The parameter 'pretrained' is deprecated since 0.13 and may be removed in the future, please use 'weights' instead.\n",
      "  warnings.warn(\n",
      "/home/asufian/.local/share/pipx/venvs/notebook/lib/python3.12/site-packages/torchvision/models/_utils.py:223: UserWarning: Arguments other than a weight enum or `None` for 'weights' are deprecated since 0.13 and may be removed in the future. The current behavior is equivalent to passing `weights=None`.\n",
      "  warnings.warn(msg)\n",
      "Using cache found in /home/asufian/.cache/torch/hub/pytorch_vision_v0.10.0\n"
     ]
    },
    {
     "name": "stdout",
     "output_type": "stream",
     "text": [
      "----------------------> 0.7669767441860468\n",
      "Evaluated Accuracy: 0.7670\n",
      "Testing b_a_r = 0.0163, c_a_r = 0.0759, f_a_r = 0.9593\n"
     ]
    },
    {
     "name": "stderr",
     "output_type": "stream",
     "text": [
      "Using cache found in /home/asufian/.cache/torch/hub/pytorch_vision_v0.10.0\n",
      "/home/asufian/.local/share/pipx/venvs/notebook/lib/python3.12/site-packages/torchvision/models/_utils.py:208: UserWarning: The parameter 'pretrained' is deprecated since 0.13 and may be removed in the future, please use 'weights' instead.\n",
      "  warnings.warn(\n",
      "/home/asufian/.local/share/pipx/venvs/notebook/lib/python3.12/site-packages/torchvision/models/_utils.py:223: UserWarning: Arguments other than a weight enum or `None` for 'weights' are deprecated since 0.13 and may be removed in the future. The current behavior is equivalent to passing `weights=None`.\n",
      "  warnings.warn(msg)\n",
      "Using cache found in /home/asufian/.cache/torch/hub/pytorch_vision_v0.10.0\n"
     ]
    },
    {
     "name": "stdout",
     "output_type": "stream",
     "text": [
      "----------------------> 0.7601550387596899\n",
      "Evaluated Accuracy: 0.7602\n",
      "Testing b_a_r = 0.0038, c_a_r = 0.1264, f_a_r = 0.0857\n"
     ]
    },
    {
     "name": "stderr",
     "output_type": "stream",
     "text": [
      "Using cache found in /home/asufian/.cache/torch/hub/pytorch_vision_v0.10.0\n",
      "/home/asufian/.local/share/pipx/venvs/notebook/lib/python3.12/site-packages/torchvision/models/_utils.py:208: UserWarning: The parameter 'pretrained' is deprecated since 0.13 and may be removed in the future, please use 'weights' instead.\n",
      "  warnings.warn(\n",
      "/home/asufian/.local/share/pipx/venvs/notebook/lib/python3.12/site-packages/torchvision/models/_utils.py:223: UserWarning: Arguments other than a weight enum or `None` for 'weights' are deprecated since 0.13 and may be removed in the future. The current behavior is equivalent to passing `weights=None`.\n",
      "  warnings.warn(msg)\n",
      "Using cache found in /home/asufian/.cache/torch/hub/pytorch_vision_v0.10.0\n"
     ]
    },
    {
     "name": "stdout",
     "output_type": "stream",
     "text": [
      "----------------------> 0.766046511627907\n",
      "Evaluated Accuracy: 0.7660\n",
      "Testing b_a_r = 0.9875, c_a_r = 0.0955, f_a_r = 0.0192\n"
     ]
    },
    {
     "name": "stderr",
     "output_type": "stream",
     "text": [
      "Using cache found in /home/asufian/.cache/torch/hub/pytorch_vision_v0.10.0\n",
      "/home/asufian/.local/share/pipx/venvs/notebook/lib/python3.12/site-packages/torchvision/models/_utils.py:208: UserWarning: The parameter 'pretrained' is deprecated since 0.13 and may be removed in the future, please use 'weights' instead.\n",
      "  warnings.warn(\n",
      "/home/asufian/.local/share/pipx/venvs/notebook/lib/python3.12/site-packages/torchvision/models/_utils.py:223: UserWarning: Arguments other than a weight enum or `None` for 'weights' are deprecated since 0.13 and may be removed in the future. The current behavior is equivalent to passing `weights=None`.\n",
      "  warnings.warn(msg)\n",
      "Using cache found in /home/asufian/.cache/torch/hub/pytorch_vision_v0.10.0\n"
     ]
    },
    {
     "name": "stdout",
     "output_type": "stream",
     "text": [
      "----------------------> 0.7635658914728682\n",
      "Evaluated Accuracy: 0.7636\n",
      "Testing b_a_r = 0.0135, c_a_r = 0.2465, f_a_r = 0.0731\n"
     ]
    },
    {
     "name": "stderr",
     "output_type": "stream",
     "text": [
      "Using cache found in /home/asufian/.cache/torch/hub/pytorch_vision_v0.10.0\n",
      "/home/asufian/.local/share/pipx/venvs/notebook/lib/python3.12/site-packages/torchvision/models/_utils.py:208: UserWarning: The parameter 'pretrained' is deprecated since 0.13 and may be removed in the future, please use 'weights' instead.\n",
      "  warnings.warn(\n",
      "/home/asufian/.local/share/pipx/venvs/notebook/lib/python3.12/site-packages/torchvision/models/_utils.py:223: UserWarning: Arguments other than a weight enum or `None` for 'weights' are deprecated since 0.13 and may be removed in the future. The current behavior is equivalent to passing `weights=None`.\n",
      "  warnings.warn(msg)\n",
      "Using cache found in /home/asufian/.cache/torch/hub/pytorch_vision_v0.10.0\n"
     ]
    },
    {
     "name": "stdout",
     "output_type": "stream",
     "text": [
      "----------------------> 0.6010852713178295\n",
      "Evaluated Accuracy: 0.6011\n",
      "Testing b_a_r = 0.0465, c_a_r = 0.1453, f_a_r = 0.8856\n"
     ]
    },
    {
     "name": "stderr",
     "output_type": "stream",
     "text": [
      "Using cache found in /home/asufian/.cache/torch/hub/pytorch_vision_v0.10.0\n",
      "/home/asufian/.local/share/pipx/venvs/notebook/lib/python3.12/site-packages/torchvision/models/_utils.py:208: UserWarning: The parameter 'pretrained' is deprecated since 0.13 and may be removed in the future, please use 'weights' instead.\n",
      "  warnings.warn(\n",
      "/home/asufian/.local/share/pipx/venvs/notebook/lib/python3.12/site-packages/torchvision/models/_utils.py:223: UserWarning: Arguments other than a weight enum or `None` for 'weights' are deprecated since 0.13 and may be removed in the future. The current behavior is equivalent to passing `weights=None`.\n",
      "  warnings.warn(msg)\n",
      "Using cache found in /home/asufian/.cache/torch/hub/pytorch_vision_v0.10.0\n"
     ]
    },
    {
     "name": "stdout",
     "output_type": "stream",
     "text": [
      "----------------------> 0.7634108527131782\n",
      "Evaluated Accuracy: 0.7634\n",
      "Testing b_a_r = 0.9619, c_a_r = 0.0349, f_a_r = 0.9874\n"
     ]
    },
    {
     "name": "stderr",
     "output_type": "stream",
     "text": [
      "Using cache found in /home/asufian/.cache/torch/hub/pytorch_vision_v0.10.0\n",
      "/home/asufian/.local/share/pipx/venvs/notebook/lib/python3.12/site-packages/torchvision/models/_utils.py:208: UserWarning: The parameter 'pretrained' is deprecated since 0.13 and may be removed in the future, please use 'weights' instead.\n",
      "  warnings.warn(\n",
      "/home/asufian/.local/share/pipx/venvs/notebook/lib/python3.12/site-packages/torchvision/models/_utils.py:223: UserWarning: Arguments other than a weight enum or `None` for 'weights' are deprecated since 0.13 and may be removed in the future. The current behavior is equivalent to passing `weights=None`.\n",
      "  warnings.warn(msg)\n",
      "Using cache found in /home/asufian/.cache/torch/hub/pytorch_vision_v0.10.0\n"
     ]
    },
    {
     "name": "stdout",
     "output_type": "stream",
     "text": [
      "----------------------> 0.7491472868217054\n",
      "Evaluated Accuracy: 0.7491\n",
      "Testing b_a_r = 0.0347, c_a_r = 0.1159, f_a_r = 0.9949\n"
     ]
    },
    {
     "name": "stderr",
     "output_type": "stream",
     "text": [
      "Using cache found in /home/asufian/.cache/torch/hub/pytorch_vision_v0.10.0\n",
      "/home/asufian/.local/share/pipx/venvs/notebook/lib/python3.12/site-packages/torchvision/models/_utils.py:208: UserWarning: The parameter 'pretrained' is deprecated since 0.13 and may be removed in the future, please use 'weights' instead.\n",
      "  warnings.warn(\n",
      "/home/asufian/.local/share/pipx/venvs/notebook/lib/python3.12/site-packages/torchvision/models/_utils.py:223: UserWarning: Arguments other than a weight enum or `None` for 'weights' are deprecated since 0.13 and may be removed in the future. The current behavior is equivalent to passing `weights=None`.\n",
      "  warnings.warn(msg)\n",
      "Using cache found in /home/asufian/.cache/torch/hub/pytorch_vision_v0.10.0\n"
     ]
    },
    {
     "name": "stdout",
     "output_type": "stream",
     "text": [
      "----------------------> 0.7671317829457365\n",
      "Evaluated Accuracy: 0.7671\n",
      "Testing b_a_r = 0.9716, c_a_r = 0.1320, f_a_r = 0.9713\n"
     ]
    },
    {
     "name": "stderr",
     "output_type": "stream",
     "text": [
      "Using cache found in /home/asufian/.cache/torch/hub/pytorch_vision_v0.10.0\n",
      "/home/asufian/.local/share/pipx/venvs/notebook/lib/python3.12/site-packages/torchvision/models/_utils.py:208: UserWarning: The parameter 'pretrained' is deprecated since 0.13 and may be removed in the future, please use 'weights' instead.\n",
      "  warnings.warn(\n",
      "/home/asufian/.local/share/pipx/venvs/notebook/lib/python3.12/site-packages/torchvision/models/_utils.py:223: UserWarning: Arguments other than a weight enum or `None` for 'weights' are deprecated since 0.13 and may be removed in the future. The current behavior is equivalent to passing `weights=None`.\n",
      "  warnings.warn(msg)\n",
      "Using cache found in /home/asufian/.cache/torch/hub/pytorch_vision_v0.10.0\n"
     ]
    },
    {
     "name": "stdout",
     "output_type": "stream",
     "text": [
      "----------------------> 0.7641860465116281\n",
      "Evaluated Accuracy: 0.7642\n",
      "Testing b_a_r = 0.0157, c_a_r = 0.1146, f_a_r = 0.0143\n"
     ]
    },
    {
     "name": "stderr",
     "output_type": "stream",
     "text": [
      "Using cache found in /home/asufian/.cache/torch/hub/pytorch_vision_v0.10.0\n",
      "/home/asufian/.local/share/pipx/venvs/notebook/lib/python3.12/site-packages/torchvision/models/_utils.py:208: UserWarning: The parameter 'pretrained' is deprecated since 0.13 and may be removed in the future, please use 'weights' instead.\n",
      "  warnings.warn(\n",
      "/home/asufian/.local/share/pipx/venvs/notebook/lib/python3.12/site-packages/torchvision/models/_utils.py:223: UserWarning: Arguments other than a weight enum or `None` for 'weights' are deprecated since 0.13 and may be removed in the future. The current behavior is equivalent to passing `weights=None`.\n",
      "  warnings.warn(msg)\n",
      "Using cache found in /home/asufian/.cache/torch/hub/pytorch_vision_v0.10.0\n"
     ]
    },
    {
     "name": "stdout",
     "output_type": "stream",
     "text": [
      "----------------------> 0.7665116279069767\n",
      "Evaluated Accuracy: 0.7665\n",
      "Testing b_a_r = 0.9594, c_a_r = 0.0769, f_a_r = 0.0146\n"
     ]
    },
    {
     "name": "stderr",
     "output_type": "stream",
     "text": [
      "Using cache found in /home/asufian/.cache/torch/hub/pytorch_vision_v0.10.0\n",
      "/home/asufian/.local/share/pipx/venvs/notebook/lib/python3.12/site-packages/torchvision/models/_utils.py:208: UserWarning: The parameter 'pretrained' is deprecated since 0.13 and may be removed in the future, please use 'weights' instead.\n",
      "  warnings.warn(\n",
      "/home/asufian/.local/share/pipx/venvs/notebook/lib/python3.12/site-packages/torchvision/models/_utils.py:223: UserWarning: Arguments other than a weight enum or `None` for 'weights' are deprecated since 0.13 and may be removed in the future. The current behavior is equivalent to passing `weights=None`.\n",
      "  warnings.warn(msg)\n",
      "Using cache found in /home/asufian/.cache/torch/hub/pytorch_vision_v0.10.0\n"
     ]
    },
    {
     "name": "stdout",
     "output_type": "stream",
     "text": [
      "----------------------> 0.7573643410852713\n",
      "Evaluated Accuracy: 0.7574\n",
      "Testing b_a_r = 0.1123, c_a_r = 0.0006, f_a_r = 0.0103\n"
     ]
    },
    {
     "name": "stderr",
     "output_type": "stream",
     "text": [
      "Using cache found in /home/asufian/.cache/torch/hub/pytorch_vision_v0.10.0\n",
      "/home/asufian/.local/share/pipx/venvs/notebook/lib/python3.12/site-packages/torchvision/models/_utils.py:208: UserWarning: The parameter 'pretrained' is deprecated since 0.13 and may be removed in the future, please use 'weights' instead.\n",
      "  warnings.warn(\n",
      "/home/asufian/.local/share/pipx/venvs/notebook/lib/python3.12/site-packages/torchvision/models/_utils.py:223: UserWarning: Arguments other than a weight enum or `None` for 'weights' are deprecated since 0.13 and may be removed in the future. The current behavior is equivalent to passing `weights=None`.\n",
      "  warnings.warn(msg)\n",
      "Using cache found in /home/asufian/.cache/torch/hub/pytorch_vision_v0.10.0\n"
     ]
    },
    {
     "name": "stdout",
     "output_type": "stream",
     "text": [
      "----------------------> 0.7502325581395349\n",
      "Evaluated Accuracy: 0.7502\n",
      "Testing b_a_r = 0.0147, c_a_r = 0.1512, f_a_r = 0.2420\n"
     ]
    },
    {
     "name": "stderr",
     "output_type": "stream",
     "text": [
      "Using cache found in /home/asufian/.cache/torch/hub/pytorch_vision_v0.10.0\n",
      "/home/asufian/.local/share/pipx/venvs/notebook/lib/python3.12/site-packages/torchvision/models/_utils.py:208: UserWarning: The parameter 'pretrained' is deprecated since 0.13 and may be removed in the future, please use 'weights' instead.\n",
      "  warnings.warn(\n",
      "/home/asufian/.local/share/pipx/venvs/notebook/lib/python3.12/site-packages/torchvision/models/_utils.py:223: UserWarning: Arguments other than a weight enum or `None` for 'weights' are deprecated since 0.13 and may be removed in the future. The current behavior is equivalent to passing `weights=None`.\n",
      "  warnings.warn(msg)\n",
      "Using cache found in /home/asufian/.cache/torch/hub/pytorch_vision_v0.10.0\n"
     ]
    },
    {
     "name": "stdout",
     "output_type": "stream",
     "text": [
      "----------------------> 0.7596899224806203\n",
      "Evaluated Accuracy: 0.7597\n",
      "Testing b_a_r = 0.0228, c_a_r = 0.5312, f_a_r = 0.0150\n"
     ]
    },
    {
     "name": "stderr",
     "output_type": "stream",
     "text": [
      "Using cache found in /home/asufian/.cache/torch/hub/pytorch_vision_v0.10.0\n",
      "/home/asufian/.local/share/pipx/venvs/notebook/lib/python3.12/site-packages/torchvision/models/_utils.py:208: UserWarning: The parameter 'pretrained' is deprecated since 0.13 and may be removed in the future, please use 'weights' instead.\n",
      "  warnings.warn(\n",
      "/home/asufian/.local/share/pipx/venvs/notebook/lib/python3.12/site-packages/torchvision/models/_utils.py:223: UserWarning: Arguments other than a weight enum or `None` for 'weights' are deprecated since 0.13 and may be removed in the future. The current behavior is equivalent to passing `weights=None`.\n",
      "  warnings.warn(msg)\n",
      "Using cache found in /home/asufian/.cache/torch/hub/pytorch_vision_v0.10.0\n"
     ]
    },
    {
     "name": "stdout",
     "output_type": "stream",
     "text": [
      "----------------------> 0.3075968992248062\n",
      "Evaluated Accuracy: 0.3076\n",
      "Testing b_a_r = 0.0587, c_a_r = 0.1277, f_a_r = 0.0115\n"
     ]
    },
    {
     "name": "stderr",
     "output_type": "stream",
     "text": [
      "Using cache found in /home/asufian/.cache/torch/hub/pytorch_vision_v0.10.0\n",
      "/home/asufian/.local/share/pipx/venvs/notebook/lib/python3.12/site-packages/torchvision/models/_utils.py:208: UserWarning: The parameter 'pretrained' is deprecated since 0.13 and may be removed in the future, please use 'weights' instead.\n",
      "  warnings.warn(\n",
      "/home/asufian/.local/share/pipx/venvs/notebook/lib/python3.12/site-packages/torchvision/models/_utils.py:223: UserWarning: Arguments other than a weight enum or `None` for 'weights' are deprecated since 0.13 and may be removed in the future. The current behavior is equivalent to passing `weights=None`.\n",
      "  warnings.warn(msg)\n",
      "Using cache found in /home/asufian/.cache/torch/hub/pytorch_vision_v0.10.0\n"
     ]
    },
    {
     "name": "stdout",
     "output_type": "stream",
     "text": [
      "----------------------> 0.766046511627907\n",
      "Evaluated Accuracy: 0.7660\n",
      "Testing b_a_r = 0.0997, c_a_r = 0.0996, f_a_r = 0.9860\n"
     ]
    },
    {
     "name": "stderr",
     "output_type": "stream",
     "text": [
      "Using cache found in /home/asufian/.cache/torch/hub/pytorch_vision_v0.10.0\n",
      "/home/asufian/.local/share/pipx/venvs/notebook/lib/python3.12/site-packages/torchvision/models/_utils.py:208: UserWarning: The parameter 'pretrained' is deprecated since 0.13 and may be removed in the future, please use 'weights' instead.\n",
      "  warnings.warn(\n",
      "/home/asufian/.local/share/pipx/venvs/notebook/lib/python3.12/site-packages/torchvision/models/_utils.py:223: UserWarning: Arguments other than a weight enum or `None` for 'weights' are deprecated since 0.13 and may be removed in the future. The current behavior is equivalent to passing `weights=None`.\n",
      "  warnings.warn(msg)\n",
      "Using cache found in /home/asufian/.cache/torch/hub/pytorch_vision_v0.10.0\n"
     ]
    },
    {
     "name": "stdout",
     "output_type": "stream",
     "text": [
      "----------------------> 0.7632558139534883\n",
      "Evaluated Accuracy: 0.7633\n",
      "Testing b_a_r = 0.9408, c_a_r = 0.1367, f_a_r = 0.9719\n"
     ]
    },
    {
     "name": "stderr",
     "output_type": "stream",
     "text": [
      "Using cache found in /home/asufian/.cache/torch/hub/pytorch_vision_v0.10.0\n",
      "/home/asufian/.local/share/pipx/venvs/notebook/lib/python3.12/site-packages/torchvision/models/_utils.py:208: UserWarning: The parameter 'pretrained' is deprecated since 0.13 and may be removed in the future, please use 'weights' instead.\n",
      "  warnings.warn(\n",
      "/home/asufian/.local/share/pipx/venvs/notebook/lib/python3.12/site-packages/torchvision/models/_utils.py:223: UserWarning: Arguments other than a weight enum or `None` for 'weights' are deprecated since 0.13 and may be removed in the future. The current behavior is equivalent to passing `weights=None`.\n",
      "  warnings.warn(msg)\n",
      "Using cache found in /home/asufian/.cache/torch/hub/pytorch_vision_v0.10.0\n"
     ]
    },
    {
     "name": "stdout",
     "output_type": "stream",
     "text": [
      "----------------------> 0.7634108527131782\n",
      "Evaluated Accuracy: 0.7634\n",
      "Testing b_a_r = 0.0170, c_a_r = 0.0140, f_a_r = 0.9647\n"
     ]
    },
    {
     "name": "stderr",
     "output_type": "stream",
     "text": [
      "Using cache found in /home/asufian/.cache/torch/hub/pytorch_vision_v0.10.0\n",
      "/home/asufian/.local/share/pipx/venvs/notebook/lib/python3.12/site-packages/torchvision/models/_utils.py:208: UserWarning: The parameter 'pretrained' is deprecated since 0.13 and may be removed in the future, please use 'weights' instead.\n",
      "  warnings.warn(\n",
      "/home/asufian/.local/share/pipx/venvs/notebook/lib/python3.12/site-packages/torchvision/models/_utils.py:223: UserWarning: Arguments other than a weight enum or `None` for 'weights' are deprecated since 0.13 and may be removed in the future. The current behavior is equivalent to passing `weights=None`.\n",
      "  warnings.warn(msg)\n",
      "Using cache found in /home/asufian/.cache/torch/hub/pytorch_vision_v0.10.0\n"
     ]
    },
    {
     "name": "stdout",
     "output_type": "stream",
     "text": [
      "----------------------> 0.7505426356589148\n",
      "Evaluated Accuracy: 0.7505\n",
      "Testing b_a_r = 0.0005, c_a_r = 0.0605, f_a_r = 0.9784\n"
     ]
    },
    {
     "name": "stderr",
     "output_type": "stream",
     "text": [
      "Using cache found in /home/asufian/.cache/torch/hub/pytorch_vision_v0.10.0\n",
      "/home/asufian/.local/share/pipx/venvs/notebook/lib/python3.12/site-packages/torchvision/models/_utils.py:208: UserWarning: The parameter 'pretrained' is deprecated since 0.13 and may be removed in the future, please use 'weights' instead.\n",
      "  warnings.warn(\n",
      "/home/asufian/.local/share/pipx/venvs/notebook/lib/python3.12/site-packages/torchvision/models/_utils.py:223: UserWarning: Arguments other than a weight enum or `None` for 'weights' are deprecated since 0.13 and may be removed in the future. The current behavior is equivalent to passing `weights=None`.\n",
      "  warnings.warn(msg)\n",
      "Using cache found in /home/asufian/.cache/torch/hub/pytorch_vision_v0.10.0\n"
     ]
    },
    {
     "name": "stdout",
     "output_type": "stream",
     "text": [
      "----------------------> 0.7573643410852714\n",
      "Evaluated Accuracy: 0.7574\n",
      "Testing b_a_r = 0.9832, c_a_r = 0.1533, f_a_r = 0.9871\n"
     ]
    },
    {
     "name": "stderr",
     "output_type": "stream",
     "text": [
      "Using cache found in /home/asufian/.cache/torch/hub/pytorch_vision_v0.10.0\n",
      "/home/asufian/.local/share/pipx/venvs/notebook/lib/python3.12/site-packages/torchvision/models/_utils.py:208: UserWarning: The parameter 'pretrained' is deprecated since 0.13 and may be removed in the future, please use 'weights' instead.\n",
      "  warnings.warn(\n",
      "/home/asufian/.local/share/pipx/venvs/notebook/lib/python3.12/site-packages/torchvision/models/_utils.py:223: UserWarning: Arguments other than a weight enum or `None` for 'weights' are deprecated since 0.13 and may be removed in the future. The current behavior is equivalent to passing `weights=None`.\n",
      "  warnings.warn(msg)\n",
      "Using cache found in /home/asufian/.cache/torch/hub/pytorch_vision_v0.10.0\n"
     ]
    },
    {
     "name": "stdout",
     "output_type": "stream",
     "text": [
      "----------------------> 0.7513178294573645\n",
      "Evaluated Accuracy: 0.7513\n",
      "Testing b_a_r = 0.9740, c_a_r = 0.0191, f_a_r = 0.0873\n"
     ]
    },
    {
     "name": "stderr",
     "output_type": "stream",
     "text": [
      "Using cache found in /home/asufian/.cache/torch/hub/pytorch_vision_v0.10.0\n",
      "/home/asufian/.local/share/pipx/venvs/notebook/lib/python3.12/site-packages/torchvision/models/_utils.py:208: UserWarning: The parameter 'pretrained' is deprecated since 0.13 and may be removed in the future, please use 'weights' instead.\n",
      "  warnings.warn(\n",
      "/home/asufian/.local/share/pipx/venvs/notebook/lib/python3.12/site-packages/torchvision/models/_utils.py:223: UserWarning: Arguments other than a weight enum or `None` for 'weights' are deprecated since 0.13 and may be removed in the future. The current behavior is equivalent to passing `weights=None`.\n",
      "  warnings.warn(msg)\n",
      "Using cache found in /home/asufian/.cache/torch/hub/pytorch_vision_v0.10.0\n"
     ]
    },
    {
     "name": "stdout",
     "output_type": "stream",
     "text": [
      "----------------------> 0.7489922480620154\n",
      "Evaluated Accuracy: 0.7490\n",
      "Testing b_a_r = 0.9962, c_a_r = 0.1107, f_a_r = 0.9503\n"
     ]
    },
    {
     "name": "stderr",
     "output_type": "stream",
     "text": [
      "Using cache found in /home/asufian/.cache/torch/hub/pytorch_vision_v0.10.0\n",
      "/home/asufian/.local/share/pipx/venvs/notebook/lib/python3.12/site-packages/torchvision/models/_utils.py:208: UserWarning: The parameter 'pretrained' is deprecated since 0.13 and may be removed in the future, please use 'weights' instead.\n",
      "  warnings.warn(\n",
      "/home/asufian/.local/share/pipx/venvs/notebook/lib/python3.12/site-packages/torchvision/models/_utils.py:223: UserWarning: Arguments other than a weight enum or `None` for 'weights' are deprecated since 0.13 and may be removed in the future. The current behavior is equivalent to passing `weights=None`.\n",
      "  warnings.warn(msg)\n",
      "Using cache found in /home/asufian/.cache/torch/hub/pytorch_vision_v0.10.0\n"
     ]
    },
    {
     "name": "stdout",
     "output_type": "stream",
     "text": [
      "----------------------> 0.7679069767441861\n",
      "Evaluated Accuracy: 0.7679\n",
      "Testing b_a_r = 0.0199, c_a_r = 0.1695, f_a_r = 0.9764\n"
     ]
    },
    {
     "name": "stderr",
     "output_type": "stream",
     "text": [
      "Using cache found in /home/asufian/.cache/torch/hub/pytorch_vision_v0.10.0\n",
      "/home/asufian/.local/share/pipx/venvs/notebook/lib/python3.12/site-packages/torchvision/models/_utils.py:208: UserWarning: The parameter 'pretrained' is deprecated since 0.13 and may be removed in the future, please use 'weights' instead.\n",
      "  warnings.warn(\n",
      "/home/asufian/.local/share/pipx/venvs/notebook/lib/python3.12/site-packages/torchvision/models/_utils.py:223: UserWarning: Arguments other than a weight enum or `None` for 'weights' are deprecated since 0.13 and may be removed in the future. The current behavior is equivalent to passing `weights=None`.\n",
      "  warnings.warn(msg)\n",
      "Using cache found in /home/asufian/.cache/torch/hub/pytorch_vision_v0.10.0\n"
     ]
    },
    {
     "name": "stdout",
     "output_type": "stream",
     "text": [
      "----------------------> 0.7387596899224805\n",
      "Evaluated Accuracy: 0.7388\n",
      "Testing b_a_r = 0.0380, c_a_r = 0.1312, f_a_r = 0.9762\n"
     ]
    },
    {
     "name": "stderr",
     "output_type": "stream",
     "text": [
      "Using cache found in /home/asufian/.cache/torch/hub/pytorch_vision_v0.10.0\n",
      "/home/asufian/.local/share/pipx/venvs/notebook/lib/python3.12/site-packages/torchvision/models/_utils.py:208: UserWarning: The parameter 'pretrained' is deprecated since 0.13 and may be removed in the future, please use 'weights' instead.\n",
      "  warnings.warn(\n",
      "/home/asufian/.local/share/pipx/venvs/notebook/lib/python3.12/site-packages/torchvision/models/_utils.py:223: UserWarning: Arguments other than a weight enum or `None` for 'weights' are deprecated since 0.13 and may be removed in the future. The current behavior is equivalent to passing `weights=None`.\n",
      "  warnings.warn(msg)\n",
      "Using cache found in /home/asufian/.cache/torch/hub/pytorch_vision_v0.10.0\n"
     ]
    },
    {
     "name": "stdout",
     "output_type": "stream",
     "text": [
      "----------------------> 0.7638759689922483\n",
      "Evaluated Accuracy: 0.7639\n",
      "Testing b_a_r = 0.0673, c_a_r = 0.1208, f_a_r = 0.0232\n"
     ]
    },
    {
     "name": "stderr",
     "output_type": "stream",
     "text": [
      "Using cache found in /home/asufian/.cache/torch/hub/pytorch_vision_v0.10.0\n",
      "/home/asufian/.local/share/pipx/venvs/notebook/lib/python3.12/site-packages/torchvision/models/_utils.py:208: UserWarning: The parameter 'pretrained' is deprecated since 0.13 and may be removed in the future, please use 'weights' instead.\n",
      "  warnings.warn(\n",
      "/home/asufian/.local/share/pipx/venvs/notebook/lib/python3.12/site-packages/torchvision/models/_utils.py:223: UserWarning: Arguments other than a weight enum or `None` for 'weights' are deprecated since 0.13 and may be removed in the future. The current behavior is equivalent to passing `weights=None`.\n",
      "  warnings.warn(msg)\n",
      "Using cache found in /home/asufian/.cache/torch/hub/pytorch_vision_v0.10.0\n"
     ]
    },
    {
     "name": "stdout",
     "output_type": "stream",
     "text": [
      "----------------------> 0.7671317829457364\n",
      "Evaluated Accuracy: 0.7671\n",
      "Testing b_a_r = 0.0074, c_a_r = 0.0849, f_a_r = 0.0628\n"
     ]
    },
    {
     "name": "stderr",
     "output_type": "stream",
     "text": [
      "Using cache found in /home/asufian/.cache/torch/hub/pytorch_vision_v0.10.0\n",
      "/home/asufian/.local/share/pipx/venvs/notebook/lib/python3.12/site-packages/torchvision/models/_utils.py:208: UserWarning: The parameter 'pretrained' is deprecated since 0.13 and may be removed in the future, please use 'weights' instead.\n",
      "  warnings.warn(\n",
      "/home/asufian/.local/share/pipx/venvs/notebook/lib/python3.12/site-packages/torchvision/models/_utils.py:223: UserWarning: Arguments other than a weight enum or `None` for 'weights' are deprecated since 0.13 and may be removed in the future. The current behavior is equivalent to passing `weights=None`.\n",
      "  warnings.warn(msg)\n",
      "Using cache found in /home/asufian/.cache/torch/hub/pytorch_vision_v0.10.0\n"
     ]
    },
    {
     "name": "stdout",
     "output_type": "stream",
     "text": [
      "----------------------> 0.7624806201550387\n",
      "Evaluated Accuracy: 0.7625\n",
      "Testing b_a_r = 0.9599, c_a_r = 0.1148, f_a_r = 0.1177\n"
     ]
    },
    {
     "name": "stderr",
     "output_type": "stream",
     "text": [
      "Using cache found in /home/asufian/.cache/torch/hub/pytorch_vision_v0.10.0\n",
      "/home/asufian/.local/share/pipx/venvs/notebook/lib/python3.12/site-packages/torchvision/models/_utils.py:208: UserWarning: The parameter 'pretrained' is deprecated since 0.13 and may be removed in the future, please use 'weights' instead.\n",
      "  warnings.warn(\n",
      "/home/asufian/.local/share/pipx/venvs/notebook/lib/python3.12/site-packages/torchvision/models/_utils.py:223: UserWarning: Arguments other than a weight enum or `None` for 'weights' are deprecated since 0.13 and may be removed in the future. The current behavior is equivalent to passing `weights=None`.\n",
      "  warnings.warn(msg)\n",
      "Using cache found in /home/asufian/.cache/torch/hub/pytorch_vision_v0.10.0\n"
     ]
    },
    {
     "name": "stdout",
     "output_type": "stream",
     "text": [
      "----------------------> 0.7674418604651164\n",
      "Evaluated Accuracy: 0.7674\n",
      "Testing b_a_r = 0.9988, c_a_r = 0.1035, f_a_r = 0.9360\n"
     ]
    },
    {
     "name": "stderr",
     "output_type": "stream",
     "text": [
      "Using cache found in /home/asufian/.cache/torch/hub/pytorch_vision_v0.10.0\n",
      "/home/asufian/.local/share/pipx/venvs/notebook/lib/python3.12/site-packages/torchvision/models/_utils.py:208: UserWarning: The parameter 'pretrained' is deprecated since 0.13 and may be removed in the future, please use 'weights' instead.\n",
      "  warnings.warn(\n",
      "/home/asufian/.local/share/pipx/venvs/notebook/lib/python3.12/site-packages/torchvision/models/_utils.py:223: UserWarning: Arguments other than a weight enum or `None` for 'weights' are deprecated since 0.13 and may be removed in the future. The current behavior is equivalent to passing `weights=None`.\n",
      "  warnings.warn(msg)\n",
      "Using cache found in /home/asufian/.cache/torch/hub/pytorch_vision_v0.10.0\n"
     ]
    },
    {
     "name": "stdout",
     "output_type": "stream",
     "text": [
      "----------------------> 0.7669767441860466\n",
      "Evaluated Accuracy: 0.7670\n",
      "Testing b_a_r = 0.0192, c_a_r = 0.0443, f_a_r = 0.0204\n"
     ]
    },
    {
     "name": "stderr",
     "output_type": "stream",
     "text": [
      "Using cache found in /home/asufian/.cache/torch/hub/pytorch_vision_v0.10.0\n",
      "/home/asufian/.local/share/pipx/venvs/notebook/lib/python3.12/site-packages/torchvision/models/_utils.py:208: UserWarning: The parameter 'pretrained' is deprecated since 0.13 and may be removed in the future, please use 'weights' instead.\n",
      "  warnings.warn(\n",
      "/home/asufian/.local/share/pipx/venvs/notebook/lib/python3.12/site-packages/torchvision/models/_utils.py:223: UserWarning: Arguments other than a weight enum or `None` for 'weights' are deprecated since 0.13 and may be removed in the future. The current behavior is equivalent to passing `weights=None`.\n",
      "  warnings.warn(msg)\n",
      "Using cache found in /home/asufian/.cache/torch/hub/pytorch_vision_v0.10.0\n"
     ]
    },
    {
     "name": "stdout",
     "output_type": "stream",
     "text": [
      "----------------------> 0.753953488372093\n",
      "Evaluated Accuracy: 0.7540\n",
      "Testing b_a_r = 0.9982, c_a_r = 0.1197, f_a_r = 0.0980\n"
     ]
    },
    {
     "name": "stderr",
     "output_type": "stream",
     "text": [
      "Using cache found in /home/asufian/.cache/torch/hub/pytorch_vision_v0.10.0\n",
      "/home/asufian/.local/share/pipx/venvs/notebook/lib/python3.12/site-packages/torchvision/models/_utils.py:208: UserWarning: The parameter 'pretrained' is deprecated since 0.13 and may be removed in the future, please use 'weights' instead.\n",
      "  warnings.warn(\n",
      "/home/asufian/.local/share/pipx/venvs/notebook/lib/python3.12/site-packages/torchvision/models/_utils.py:223: UserWarning: Arguments other than a weight enum or `None` for 'weights' are deprecated since 0.13 and may be removed in the future. The current behavior is equivalent to passing `weights=None`.\n",
      "  warnings.warn(msg)\n",
      "Using cache found in /home/asufian/.cache/torch/hub/pytorch_vision_v0.10.0\n"
     ]
    },
    {
     "name": "stdout",
     "output_type": "stream",
     "text": [
      "----------------------> 0.7651162790697674\n",
      "Evaluated Accuracy: 0.7651\n",
      "\n",
      "✅ Optimal Values:\n",
      "   - b_a_r: 0.9865\n",
      "   - c_a_r: 0.1116\n",
      "   - f_a_r: 0.0957\n",
      "📈 Highest Accuracy Achieved: 0.7681\n"
     ]
    }
   ],
   "source": [
    "import numpy as np\n",
    "import torch\n",
    "import matplotlib.pyplot as plt\n",
    "from skopt import gp_minimize\n",
    "from skopt.space import Real\n",
    "from skopt.utils import use_named_args\n",
    "from skopt.plots import plot_convergence\n",
    "\n",
    "# Device setup\n",
    "device = torch.device(\"cuda\" if torch.cuda.is_available() else \"cpu\")\n",
    "\n",
    "\n",
    "# Define the search space for b_a_r, c_a_r, and f_a_r\n",
    "search_space = [\n",
    "    Real(0.0, 1.0, name=\"b_a_r\"),\n",
    "    Real(0.0, 1.0, name=\"c_a_r\"),\n",
    "    Real(0.0, 1.0, name=\"f_a_r\")\n",
    "]\n",
    "\n",
    "# Define the objective function for Bayesian Optimization\n",
    "@use_named_args(search_space)\n",
    "def objective(b_a_r, c_a_r, f_a_r):\n",
    "    \"\"\"\n",
    "    Objective function to optimize the adaptation ratios.\n",
    "    It applies adaptation, evaluates the model, and returns the negative accuracy.\n",
    "    \"\"\"\n",
    "    accuracy = get_model_accuracy(b_a_r, c_a_r, f_a_r)\n",
    "    print(f\"Evaluated Accuracy: {accuracy:.4f}\")  # Debugging Output\n",
    "    \n",
    "    return -accuracy  # We minimize, so return negative accuracy\n",
    "\n",
    "# Perform Bayesian Optimization with additional settings\n",
    "search_iteration=50\n",
    "res = gp_minimize(\n",
    "    func=objective,\n",
    "    dimensions=search_space,\n",
    "    n_calls=search_iteration,               # Number of evaluations\n",
    "    n_initial_points=5,       # Initial random explorations before GP starts\n",
    "    acq_func=\"EI\",            # Acquisition function: Expected Improvement\n",
    "    random_state=42,          # Ensure reproducibility\n",
    "    n_jobs=-1,                # Parallel execution for faster optimization\n",
    ")\n",
    "\n",
    "# Extract optimal results\n",
    "optimal_b_a_r, optimal_c_a_r, optimal_f_a_r = res.x\n",
    "best_accuracy = -res.fun\n",
    "\n",
    "print(f\"\\n✅ Optimal Values:\")\n",
    "print(f\"   - b_a_r: {optimal_b_a_r:.4f}\")\n",
    "print(f\"   - c_a_r: {optimal_c_a_r:.4f}\")\n",
    "print(f\"   - f_a_r: {optimal_f_a_r:.4f}\")\n",
    "print(f\"📈 Highest Accuracy Achieved: {best_accuracy:.4f}\")\n",
    "\n",
    "\n"
   ]
  },
  {
   "cell_type": "code",
   "execution_count": 87,
   "metadata": {},
   "outputs": [
    {
     "name": "stderr",
     "output_type": "stream",
     "text": [
      "Using cache found in /home/asufian/.cache/torch/hub/pytorch_vision_v0.10.0\n",
      "/home/asufian/.local/share/pipx/venvs/notebook/lib/python3.12/site-packages/torchvision/models/_utils.py:208: UserWarning: The parameter 'pretrained' is deprecated since 0.13 and may be removed in the future, please use 'weights' instead.\n",
      "  warnings.warn(\n",
      "/home/asufian/.local/share/pipx/venvs/notebook/lib/python3.12/site-packages/torchvision/models/_utils.py:223: UserWarning: Arguments other than a weight enum or `None` for 'weights' are deprecated since 0.13 and may be removed in the future. The current behavior is equivalent to passing `weights=None`.\n",
      "  warnings.warn(msg)\n"
     ]
    },
    {
     "name": "stdout",
     "output_type": "stream",
     "text": [
      "---Accu-----pre----rec---------> 0.7498 ± 0.0645  0.7585 ± 0.0624  0.7498 ± 0.0645\n"
     ]
    },
    {
     "name": "stderr",
     "output_type": "stream",
     "text": [
      "Using cache found in /home/asufian/.cache/torch/hub/pytorch_vision_v0.10.0\n",
      "/home/asufian/.local/share/pipx/venvs/notebook/lib/python3.12/site-packages/torchvision/models/_utils.py:208: UserWarning: The parameter 'pretrained' is deprecated since 0.13 and may be removed in the future, please use 'weights' instead.\n",
      "  warnings.warn(\n",
      "/home/asufian/.local/share/pipx/venvs/notebook/lib/python3.12/site-packages/torchvision/models/_utils.py:223: UserWarning: Arguments other than a weight enum or `None` for 'weights' are deprecated since 0.13 and may be removed in the future. The current behavior is equivalent to passing `weights=None`.\n",
      "  warnings.warn(msg)\n"
     ]
    },
    {
     "name": "stdout",
     "output_type": "stream",
     "text": [
      "---Accu-----pre----rec---------> 0.6375 ± 0.0725  0.6446 ± 0.0709  0.6375 ± 0.0725\n",
      "---Accu-----pre----rec---------> 0.7681 ± 0.0561  0.7738 ± 0.0553  0.7681 ± 0.0561\n"
     ]
    }
   ],
   "source": [
    "convolutional_network_with_dropout =  DenseNet169WithDropout(modell='densenet169',pretrained=False,dr=0.0)\n",
    "convolutional_network_with_dropout.fc = nn.Flatten()\n",
    "\n",
    "xyz = convolutional_network_with_dropout\n",
    "M3 = PrototypicalNetworks_dynamic_query(xyz).to(device)\n",
    "M3.load_state_dict(torch.load('model_own_path.pt'))\n",
    "evaluate2('/home/asufian/Desktop/output_mapii/result_densnet/base/5_w_10_s_ff', test_loader, M3, criterion)\n",
    "# Load Model M2\n",
    "convolutional_network_with_dropout =  DenseNet169WithDropout(modell='densenet169',pretrained=False,dr=0.0)\n",
    "convolutional_network_with_dropout.fc = nn.Flatten()\n",
    "\n",
    "xyz2 = convolutional_network_with_dropout\n",
    "M2 = PrototypicalNetworks_dynamic_query(xyz2).to(device)\n",
    "M2.load_state_dict(torch.load('model_mu_path.pt'))\n",
    "evaluate2(\"/home/asufian/Desktop/output_mapii/result_densnet/secondary/5_w_10_s_ff\", test_loader, M2, criterion)\n",
    "# Update Model M3's weights using a weighted combination of Model M3 and Model M2\n",
    "update_model_weights2(M3, M2, conv_ratio= optimal_c_a_r , fc_ratio=optimal_f_a_r , bias_ratio=optimal_b_a_r)\n",
    "\n",
    "# Assuming you have the evaluate2 function defined\n",
    "# Evaluate the updated model (M3) using evaluate2 function with some arguments\n",
    "evaluate2(\"/home/asufian/Desktop/output_mapii/result_densnet/amul/5_w_5_10_ff\", test_loader, M3, criterion)\n",
    "\n",
    "# Assuming you have the evaluate2 function defined\n",
    "# Evaluate the updated model (M3) using evaluate2 function with some arguments\n",
    "# evaluate3(pp+'/_mapi_5-wau-1-shot_matchine_unlearning_own', test_loader, M3, criterion)"
   ]
  },
  {
   "cell_type": "code",
   "execution_count": 88,
   "metadata": {},
   "outputs": [
    {
     "name": "stdout",
     "output_type": "stream",
     "text": [
      "ls: cannot access '/home/asufian/Desktop/output_olchikilol': No such file or directory\n"
     ]
    }
   ],
   "source": [
    "ls /home/asufian/Desktop/output_olchikilol"
   ]
  },
  {
   "cell_type": "code",
   "execution_count": null,
   "metadata": {},
   "outputs": [],
   "source": []
  },
  {
   "cell_type": "code",
   "execution_count": null,
   "metadata": {},
   "outputs": [],
   "source": []
  },
  {
   "cell_type": "code",
   "execution_count": 443,
   "metadata": {},
   "outputs": [],
   "source": [
    "clss_8=[\n",
    "    ['MAPI Mayeek_FAM', 'MAPI Mayeek_JHAM', 'MAPI Mayeek_LAI', 'MAPI Mayeek_HUK', 'MAPI Mayeek_KOK', 'MAPI Mayeek_NGOU', 'MAPI Mayeek_THOU', 'MAPI Mayeek_JIL'],\n",
    "     ['MAPI Mayeek_SAM', 'MAPI Mayeek_HUK', 'MAPI Mayeek_KHOU', 'MAPI Mayeek_NAA', 'MAPI Mayeek_DHOU', 'MAPI Mayeek_THOU', 'MAPI Mayeek_PAA', 'MAPI Mayeek_JHAM'],\n",
    "    ['MAPI Mayeek_JHAM', 'MAPI Mayeek_NAA', 'MAPI Mayeek_GOK', 'MAPI Mayeek_DHOU', 'MAPI Mayeek_NGOU', 'MAPI Mayeek_KHOU', 'MAPI Mayeek_RAAI', 'MAPI Mayeek_DIL'],\n",
    "    ['MAPI Mayeek_CHIN', 'MAPI Mayeek_UUN', 'MAPI Mayeek_YANG', 'MAPI Mayeek_KOK', 'MAPI Mayeek_MIT', 'MAPI Mayeek_LAI', 'MAPI Mayeek_JHAM', 'MAPI Mayeek_NAA'],\n",
    "    ['MAPI Mayeek_DHOU', 'MAPI Mayeek_PAA', 'MAPI Mayeek_MIT', 'MAPI Mayeek_BHAM', 'MAPI Mayeek_EEE', 'MAPI Mayeek_LAI', 'MAPI Mayeek_UUN', 'MAPI Mayeek_SAM'],\n",
    "    ['MAPI Mayeek_NAA', 'MAPI Mayeek_UUN', 'MAPI Mayeek_FAM', 'MAPI Mayeek_BHAM', 'MAPI Mayeek_BAA', 'MAPI Mayeek_KOK', 'MAPI Mayeek_RAAI', 'MAPI Mayeek_LAI'],\n",
    "    ['MAPI Mayeek_CHIN', 'MAPI Mayeek_KOK', 'MAPI Mayeek_HUK', 'MAPI Mayeek_PAA', 'MAPI Mayeek_JHAM', 'MAPI Mayeek_BHAM', 'MAPI Mayeek_LAI', 'MAPI Mayeek_FAM'],\n",
    "    ['MAPI Mayeek_NGOU', 'MAPI Mayeek_JHAM', 'MAPI Mayeek_DIL', 'MAPI Mayeek_KHOU', 'MAPI Mayeek_SAM', 'MAPI Mayeek_UUN', 'MAPI Mayeek_PAA', 'MAPI Mayeek_KOK'],\n",
    "    ['MAPI Mayeek_GOK', 'MAPI Mayeek_SAM', 'MAPI Mayeek_BHAM', 'MAPI Mayeek_CHIN', 'MAPI Mayeek_GHOU', 'MAPI Mayeek_NAA', 'MAPI Mayeek_HUK', 'MAPI Mayeek_THOU'],\n",
    "    ['MAPI Mayeek_BHAM', 'MAPI Mayeek_SAM', 'MAPI Mayeek_PAA', 'MAPI Mayeek_UUN', 'MAPI Mayeek_FAM', 'MAPI Mayeek_DHOU', 'MAPI Mayeek_JHAM', 'MAPI Mayeek_RAAI'],\n",
    "     ['MAPI Mayeek_UUN', 'MAPI Mayeek_FAM', 'MAPI Mayeek_JIL', 'MAPI Mayeek_TIL', 'MAPI Mayeek_BHAM', 'MAPI Mayeek_MIT', 'MAPI Mayeek_GOK', 'MAPI Mayeek_JHAM'],\n",
    "    ['MAPI Mayeek_KOK', 'MAPI Mayeek_NGOU', 'MAPI Mayeek_JHAM', 'MAPI Mayeek_UUN', 'MAPI Mayeek_GHOU', 'MAPI Mayeek_MIT', 'MAPI Mayeek_YANG', 'MAPI Mayeek_LAI'],\n",
    "    ['MAPI Mayeek_FAM', 'MAPI Mayeek_BHAM', 'MAPI Mayeek_NGOU', 'MAPI Mayeek_LAI', 'MAPI Mayeek_KOK', 'MAPI Mayeek_CHIN', 'MAPI Mayeek_WAI', 'MAPI Mayeek_GOK'],\n",
    "    ['MAPI Mayeek_UUN', 'MAPI Mayeek_YANG', 'MAPI Mayeek_FAM', 'MAPI Mayeek_NAA', 'MAPI Mayeek_KOK', 'MAPI Mayeek_JHAM', 'MAPI Mayeek_HUK', 'MAPI Mayeek_WAI'],\n",
    "    ['MAPI Mayeek_JIL', 'MAPI Mayeek_CHIN', 'MAPI Mayeek_TIL', 'MAPI Mayeek_LAI', 'MAPI Mayeek_PAA', 'MAPI Mayeek_DHOU', 'MAPI Mayeek_MIT', 'MAPI Mayeek_YANG'],\n",
    " ]\n",
    "\n",
    "clss_support_imagesss_10_shot=[[[32, 30, 44, 38, 25, 67, 9, 24, 47, 41], [82, 83, 48, 43, 90, 45, 62, 87, 5, 25], [7, 95, 9, 14, 63, 82, 64, 93, 61, 55], [72, 82, 69, 26, 6, 9, 39, 19, 30, 13], [25, 67, 41, 47, 95, 38, 76, 58, 87, 90], [44, 57, 84, 72, 58, 64, 93, 31, 4, 73], [7, 68, 51, 47, 63, 36, 4, 50, 94, 37], [67, 17, 31, 62, 12, 34, 81, 15, 29, 71]], [[50, 94, 95, 27, 35, 80, 62, 55, 82, 88], [74, 33, 78, 25, 11, 79, 52, 17, 12, 15], [33, 56, 67, 11, 31, 74, 88, 3, 24, 78], [71, 37, 27, 11, 65, 74, 3, 86, 80, 78], [67, 29, 87, 60, 71, 43, 40, 74, 61, 37], [16, 83, 67, 4, 50, 72, 77, 89, 69, 15], [20, 87, 71, 53, 90, 41, 63, 18, 44, 1], [14, 77, 74, 42, 27, 68, 35, 93, 81, 15]], [[30, 48, 0, 84, 3, 13, 36, 86, 38, 2], [93, 69, 13, 90, 78, 74, 20, 73, 33, 65], [6, 20, 80, 56, 33, 48, 75, 47, 18, 72], [20, 50, 8, 76, 15, 24, 80, 73, 95, 52], [54, 46, 37, 77, 38, 43, 27, 25, 3, 33], [50, 72, 23, 28, 85, 56, 17, 14, 70, 34], [8, 45, 72, 36, 93, 89, 40, 84, 54, 17], [71, 91, 30, 49, 66, 35, 84, 5, 63, 48]], [[4, 73, 59, 63, 39, 94, 24, 22, 64, 51], [14, 19, 31, 63, 9, 77, 43, 80, 33, 11], [40, 94, 59, 17, 57, 47, 49, 21, 85, 12], [29, 56, 59, 71, 78, 32, 34, 66, 83, 60], [19, 0, 83, 93, 15, 51, 26, 16, 35, 55], [51, 19, 38, 46, 5, 65, 80, 44, 71, 25], [40, 32, 95, 4, 81, 46, 24, 27, 68, 47], [47, 28, 38, 60, 59, 19, 18, 77, 89, 0]], [[53, 40, 2, 54, 68, 81, 23, 86, 94, 83], [23, 49, 47, 43, 7, 84, 62, 86, 6, 35], [12, 35, 13, 79, 86, 75, 58, 32, 88, 31], [2, 42, 85, 0, 7, 27, 93, 73, 25, 18], [78, 72, 46, 12, 1, 70, 18, 62, 14, 39], [9, 88, 77, 7, 84, 52, 32, 94, 53, 42], [56, 89, 26, 69, 17, 59, 34, 91, 58, 11], [73, 11, 22, 27, 48, 69, 92, 7, 26, 13]], [[62, 40, 87, 85, 93, 37, 52, 84, 30, 76], [55, 83, 60, 17, 19, 73, 36, 13, 77, 80], [76, 79, 90, 65, 60, 56, 73, 95, 47, 67], [65, 91, 34, 14, 10, 64, 93, 73, 2, 60], [44, 45, 50, 35, 13, 30, 6, 71, 7, 95], [82, 44, 14, 77, 19, 50, 10, 28, 29, 58], [18, 90, 85, 7, 16, 50, 6, 59, 93, 75], [74, 76, 91, 47, 63, 88, 8, 14, 64, 95]], [[19, 26, 77, 36, 52, 84, 8, 70, 90, 37], [23, 34, 84, 62, 4, 2, 68, 77, 1, 40], [75, 31, 91, 54, 51, 72, 73, 23, 3, 70], [58, 69, 74, 50, 0, 52, 75, 51, 94, 60], [45, 70, 35, 93, 4, 43, 67, 17, 1, 86], [67, 53, 77, 95, 1, 28, 33, 47, 38, 78], [7, 66, 33, 67, 85, 59, 5, 93, 41, 29], [19, 17, 57, 70, 5, 75, 28, 47, 32, 31]], [[66, 32, 35, 20, 34, 42, 65, 33, 38, 29], [49, 52, 60, 28, 16, 89, 7, 67, 94, 21], [73, 25, 19, 9, 30, 81, 7, 21, 14, 82], [50, 80, 95, 71, 1, 49, 90, 28, 57, 52], [20, 60, 10, 47, 5, 44, 46, 21, 83, 17], [45, 73, 41, 89, 90, 50, 10, 91, 81, 64], [81, 6, 71, 14, 8, 33, 25, 55, 27, 72], [73, 57, 22, 65, 88, 68, 0, 23, 46, 42]], [[17, 23, 52, 46, 37, 48, 3, 72, 36, 61], [14, 62, 46, 37, 52, 33, 9, 42, 20, 65], [7, 54, 0, 42, 14, 57, 25, 10, 65, 23], [23, 81, 61, 86, 58, 52, 90, 15, 35, 64], [19, 52, 74, 93, 11, 3, 84, 14, 92, 27], [45, 56, 26, 15, 0, 11, 75, 51, 14, 24], [49, 47, 53, 66, 11, 5, 64, 59, 77, 50], [49, 52, 21, 37, 35, 50, 23, 15, 77, 63]], [[52, 44, 70, 14, 4, 48, 76, 63, 1, 11], [45, 21, 82, 19, 93, 75, 73, 4, 43, 91], [19, 68, 60, 84, 21, 79, 44, 65, 20, 1], [73, 49, 67, 71, 14, 40, 3, 87, 9, 8], [81, 20, 77, 15, 47, 60, 71, 5, 92, 7], [83, 87, 44, 73, 85, 60, 56, 28, 3, 33], [11, 25, 67, 93, 27, 76, 70, 61, 15, 72], [36, 49, 80, 35, 21, 22, 32, 12, 69, 71]], [[89, 16, 7, 23, 52, 38, 8, 47, 42, 18], [36, 64, 9, 79, 38, 26, 94, 66, 58, 12], [6, 40, 78, 44, 29, 43, 28, 34, 60, 24], [62, 84, 32, 7, 11, 94, 39, 91, 3, 12], [16, 63, 55, 32, 70, 87, 18, 85, 4, 86], [7, 81, 91, 44, 93, 73, 18, 38, 53, 12], [44, 60, 32, 50, 0, 46, 74, 35, 79, 83], [83, 82, 88, 23, 19, 33, 72, 41, 45, 13]], [[44, 58, 75, 52, 74, 21, 16, 23, 47, 6], [78, 77, 14, 82, 46, 40, 61, 24, 42, 81], [45, 58, 27, 60, 80, 23, 63, 34, 52, 92], [71, 16, 79, 60, 62, 11, 53, 9, 40, 31], [40, 12, 25, 26, 31, 42, 78, 1, 9, 89], [23, 51, 15, 24, 56, 39, 0, 35, 67, 4], [19, 1, 86, 59, 31, 74, 47, 20, 4, 5], [83, 53, 25, 3, 1, 81, 41, 63, 13, 88]], [[33, 75, 39, 29, 74, 58, 43, 82, 26, 73], [45, 54, 10, 75, 43, 56, 7, 68, 63, 2], [26, 65, 64, 22, 68, 80, 27, 48, 77, 9], [26, 32, 34, 46, 80, 69, 54, 31, 42, 76], [1, 41, 78, 3, 31, 88, 45, 79, 80, 49], [19, 35, 81, 51, 93, 28, 48, 63, 80, 30], [86, 36, 43, 63, 1, 60, 33, 74, 81, 57], [42, 49, 24, 46, 90, 66, 45, 87, 59, 55]], [[4, 67, 64, 24, 56, 73, 55, 43, 54, 92], [30, 2, 73, 4, 1, 34, 9, 11, 95, 29], [5, 10, 88, 42, 86, 67, 80, 25, 53, 38], [59, 66, 52, 77, 73, 35, 89, 26, 45, 72], [56, 83, 24, 73, 28, 61, 50, 93, 64, 13], [82, 73, 11, 45, 31, 41, 80, 58, 1, 5], [17, 91, 25, 2, 42, 56, 8, 40, 15, 33], [57, 84, 95, 4, 64, 83, 26, 66, 15, 30]], [[84, 66, 88, 58, 71, 15, 45, 50, 38, 44], [17, 29, 20, 91, 79, 32, 44, 66, 70, 6], [12, 16, 26, 65, 51, 67, 48, 79, 29, 95], [78, 88, 55, 27, 84, 79, 24, 54, 70, 76], [61, 81, 6, 51, 64, 40, 18, 69, 83, 16], [17, 35, 51, 42, 55, 86, 36, 24, 50, 46], [23, 73, 12, 33, 89, 26, 63, 59, 44, 65], [34, 24, 22, 64, 27, 88, 46, 70, 44, 30]]]\n",
    "\n",
    "clss_support_imagesss_5_shot=[[[32, 30, 44, 38, 25], [82, 83, 48, 43, 90], [7, 95, 9, 14, 63], [72, 82, 69, 26, 6], [25, 67, 41, 47, 95], [44, 57, 84, 72, 58], [7, 68, 51, 47, 63], [67, 17, 31, 62, 12]], [[50, 94, 95, 27, 35], [74, 33, 78, 25, 11], [33, 56, 67, 11, 31], [71, 37, 27, 11, 65], [67, 29, 87, 60, 71], [16, 83, 67, 4, 50], [20, 87, 71, 53, 90], [14, 77, 74, 42, 27]], [[30, 48, 0, 84, 3], [93, 69, 13, 90, 78], [6, 20, 80, 56, 33], [20, 50, 8, 76, 15], [54, 46, 37, 77, 38], [50, 72, 23, 28, 85], [8, 45, 72, 36, 93], [71, 91, 30, 49, 66]], [[4, 73, 59, 63, 39], [14, 19, 31, 63, 9], [40, 94, 59, 17, 57], [29, 56, 59, 71, 78], [19, 0, 83, 93, 15], [51, 19, 38, 46, 5], [40, 32, 95, 4, 81], [47, 28, 38, 60, 59]], [[53, 40, 2, 54, 68], [23, 49, 47, 43, 7], [12, 35, 13, 79, 86], [2, 42, 85, 0, 7], [78, 72, 46, 12, 1], [9, 88, 77, 7, 84], [56, 89, 26, 69, 17], [73, 11, 22, 27, 48]], [[62, 40, 87, 85, 93], [55, 83, 60, 17, 19], [76, 79, 90, 65, 60], [65, 91, 34, 14, 10], [44, 45, 50, 35, 13], [82, 44, 14, 77, 19], [18, 90, 85, 7, 16], [74, 76, 91, 47, 63]], [[19, 26, 77, 36, 52], [23, 34, 84, 62, 4], [75, 31, 91, 54, 51], [58, 69, 74, 50, 0], [45, 70, 35, 93, 4], [67, 53, 77, 95, 1], [7, 66, 33, 67, 85], [19, 17, 57, 70, 5]], [[66, 32, 35, 20, 34], [49, 52, 60, 28, 16], [73, 25, 19, 9, 30], [50, 80, 95, 71, 1], [20, 60, 10, 47, 5], [45, 73, 41, 89, 90], [81, 6, 71, 14, 8], [73, 57, 22, 65, 88]], [[17, 23, 52, 46, 37], [14, 62, 46, 37, 52], [7, 54, 0, 42, 14], [23, 81, 61, 86, 58], [19, 52, 74, 93, 11], [45, 56, 26, 15, 0], [49, 47, 53, 66, 11], [49, 52, 21, 37, 35]], [[52, 44, 70, 14, 4], [45, 21, 82, 19, 93], [19, 68, 60, 84, 21], [73, 49, 67, 71, 14], [81, 20, 77, 15, 47], [83, 87, 44, 73, 85], [11, 25, 67, 93, 27], [36, 49, 80, 35, 21]], [[89, 16, 7, 23, 52], [36, 64, 9, 79, 38], [6, 40, 78, 44, 29], [62, 84, 32, 7, 11], [16, 63, 55, 32, 70], [7, 81, 91, 44, 93], [44, 60, 32, 50, 0], [83, 82, 88, 23, 19]], [[44, 58, 75, 52, 74], [78, 77, 14, 82, 46], [45, 58, 27, 60, 80], [71, 16, 79, 60, 62], [40, 12, 25, 26, 31], [23, 51, 15, 24, 56], [19, 1, 86, 59, 31], [83, 53, 25, 3, 1]], [[33, 75, 39, 29, 74], [45, 54, 10, 75, 43], [26, 65, 64, 22, 68], [26, 32, 34, 46, 80], [1, 41, 78, 3, 31], [19, 35, 81, 51, 93], [86, 36, 43, 63, 1], [42, 49, 24, 46, 90]], [[4, 67, 64, 24, 56], [30, 2, 73, 4, 1], [5, 10, 88, 42, 86], [59, 66, 52, 77, 73], [56, 83, 24, 73, 28], [82, 73, 11, 45, 31], [17, 91, 25, 2, 42], [57, 84, 95, 4, 64]], [[84, 66, 88, 58, 71], [17, 29, 20, 91, 79], [12, 16, 26, 65, 51], [78, 88, 55, 27, 84], [61, 81, 6, 51, 64], [17, 35, 51, 42, 55], [23, 73, 12, 33, 89], [34, 24, 22, 64, 27]]]\n",
    "\n",
    "\n",
    "clss_support_imagesss_1_shot=[\n",
    "    [[32], [82], [7], [72], [25], [44], [7], [67]],\n",
    "    [[50], [74], [33], [71], [67], [16], [20], [14]],\n",
    "    [[30], [93], [6], [20], [54], [50], [8], [71]],\n",
    "     [[4], [14], [40], [29], [19], [51], [40], [47]],\n",
    "    [[53], [23], [12], [2], [78], [9], [56], [73]],\n",
    "    [[62], [55], [76], [65], [44], [82], [18], [74]],\n",
    "    [[19], [23], [75], [58], [45], [67], [7], [19]],\n",
    "     [[66], [49], [73], [50], [20], [45], [81], [73]],\n",
    "    [[17], [14], [7], [23], [19], [45], [49], [49]],\n",
    "    [[52], [45], [19], [73], [81], [83], [11], [36]],\n",
    "    [[89], [36], [6], [62], [16], [7], [44], [83]],\n",
    "    [[44], [78], [45], [71], [40], [23], [19], [83]],\n",
    "    [[33], [45], [26], [26], [1], [19], [86], [42]],\n",
    "    [[4], [30], [5], [59], [56], [82], [17], [57]],\n",
    "    [[84], [17], [12], [78], [61], [17], [23], [34]]\n",
    "\n",
    "]\n",
    "\n"
   ]
  },
  {
   "cell_type": "code",
   "execution_count": null,
   "metadata": {},
   "outputs": [],
   "source": []
  },
  {
   "cell_type": "code",
   "execution_count": null,
   "metadata": {},
   "outputs": [],
   "source": []
  },
  {
   "cell_type": "code",
   "execution_count": 356,
   "metadata": {},
   "outputs": [
    {
     "name": "stderr",
     "output_type": "stream",
     "text": [
      "Using cache found in /home/asufian/.cache/torch/hub/pytorch_vision_v0.10.0\n",
      "/home/asufian/.local/share/pipx/venvs/notebook/lib/python3.12/site-packages/torchvision/models/_utils.py:208: UserWarning: The parameter 'pretrained' is deprecated since 0.13 and may be removed in the future, please use 'weights' instead.\n",
      "  warnings.warn(\n",
      "/home/asufian/.local/share/pipx/venvs/notebook/lib/python3.12/site-packages/torchvision/models/_utils.py:223: UserWarning: Arguments other than a weight enum or `None` for 'weights' are deprecated since 0.13 and may be removed in the future. The current behavior is equivalent to passing `weights=None`.\n",
      "  warnings.warn(msg)\n",
      "Using cache found in /home/asufian/.cache/torch/hub/pytorch_vision_v0.10.0\n"
     ]
    }
   ],
   "source": [
    "device = torch.device(\"cuda\" if torch.cuda.is_available() else \"cpu\")\n",
    "\n",
    "\n",
    "\n",
    "!rm model_mu_path.pt\n",
    "!rm model_own_path.pt\n",
    "\n",
    "convolutional_network_with_dropout =  DenseNet169WithDropout(modell='densenet169',pretrained=False,dr=0.0)\n",
    "convolutional_network_with_dropout.fc = nn.Flatten()\n",
    "\n",
    "model_own = PrototypicalNetworks_dynamic_query(convolutional_network_with_dropout).to(device)\n",
    "model_own.load_state_dict(torch.load('/home/asufian/Desktop/output_olchiki/code/modelrdnet.pth',map_location=torch.device('cpu')))\n",
    "\n",
    "\n",
    "convolutional_network_with_dropout =  DenseNet169WithDropout(modell='densenet169',pretrained=False,dr=0.0)\n",
    "convolutional_network_with_dropout.fc = nn.Flatten()\n",
    "\n",
    "model_own_1_shot = PrototypicalNetworks_dynamic_query(convolutional_network_with_dropout).to(device)\n",
    "model_own_1_shot.load_state_dict(torch.load('/home/asufian/Desktop/output_olchiki/code/mapi_sce/Denssecondary/model_1/model_B_mapi_1-shot_dens.pth',map_location=torch.device('cpu')))\n",
    "\n",
    "torch.save(model_own_1_shot.state_dict(), 'model_mu_path.pt')\n",
    "torch.save(model_own.state_dict(), 'model_own_path.pt')"
   ]
  },
  {
   "cell_type": "code",
   "execution_count": 357,
   "metadata": {},
   "outputs": [],
   "source": [
    "\n",
    "\n",
    "def evaluate2(fname,data_loader, model, criterion=nn.CrossEntropyLoss()):\n",
    "    total_predictions = 0\n",
    "    correct_predictions = 0\n",
    "    total_loss = 0.0\n",
    "    accuracy = 0\n",
    "    datta = \"\"\n",
    "    model.eval()\n",
    "    tlv_cls=0\n",
    "    ttla=0\n",
    "    ttlal=[]\n",
    "    ttlac=0\n",
    "    precision=[]\n",
    "    recall=[]\n",
    "    \n",
    "    with torch.no_grad():\n",
    "        for episode in range(len(clss_8)):\n",
    "            support_set, query_set = data_loader.__getitem__(clss_8[tlv_cls] , clss_support_imagesss_1_shot[tlv_cls])\n",
    "\n",
    "           \n",
    "            clssa=str(clss_8[tlv_cls])\n",
    "            clss=str(clssa).replace(',',' ').replace('\\'',' ').replace('\\'',' ')\n",
    "            msg=str(clss_support_imagesss_1_shot[tlv_cls])\n",
    "            str(clss_8[tlv_cls])\n",
    "\n",
    "            tlv_cls+=1\n",
    "            # print(len(support_set),len(query_set))\n",
    "            support_set = [(torch.stack(images).to(device), label[0]) for images, label in support_set]\n",
    "            query_set = [(torch.stack(images).to(device), label) for images, label in query_set]\n",
    "\n",
    "            support_images, support_labels = zip(*support_set)\n",
    "\n",
    "            query_images, query_labels = zip(*query_set)\n",
    "\n",
    "            classification_scores = model(support_images, support_labels, query_images)\n",
    "            cortt = 0\n",
    "            totl = 0\n",
    "            confusion_mat=None\n",
    "            all_predicted_labels = []\n",
    "            all_actual_labels = []\n",
    "            # print(len(classification_scores),len(query_labels))\n",
    "            for ei in range(len(classification_scores)):\n",
    "                classification_scores_each_class = classification_scores[ei]\n",
    "                # print(classification_scores_each_class)\n",
    "                predicted_labels_eachclas = torch.argmax(classification_scores_each_class, dim=1)\n",
    "                pp = predicted_labels_eachclas.tolist()\n",
    "                act = query_labels[ei]\n",
    "                all_predicted_labels.extend(pp)\n",
    "                all_actual_labels.extend(act)\n",
    "                for iiii in range(len(pp)):\n",
    "                    if pp[iiii] == act[iiii]:\n",
    "                        cortt = cortt + 1\n",
    "                totl = totl + len(pp)\n",
    "                # print(len(act))\n",
    "            accuracy = cortt / totl\n",
    "            ttla+=1\n",
    "            ttlac+=accuracy\n",
    "            ttlal.append(accuracy)\n",
    "            # print(cortt , totl,\"Validation Accuracy:              \", cortt / totl)\n",
    "            confusion_mat = confusion_matrix(all_actual_labels, all_predicted_labels)\n",
    "            # print(\"Confusion Matrix:\")\n",
    "            # print(confusion_mat)\n",
    "\n",
    "            # fname='./own35_mapi_5_way_1_shot'\n",
    "\n",
    "            precision_overall, recall_overall, f1ss= calculate_metrics_get_per(msg,confusion_mat,acciuracy=cortt / totl,cls=clss,flnm=fname)\n",
    "            precision.append(precision_overall)\n",
    "            recall.append(recall_overall)\n",
    "    print(f\"---Accu-----pre----rec---------> {np.mean(ttlal):.4f} ± {np.std(ttlal, ddof=1):.4f}  \"\n",
    "      f\"{np.mean(precision):.4f} ± {np.std(precision, ddof=1):.4f}  \"\n",
    "      f\"{np.mean(recall):.4f} ± {np.std(recall, ddof=1):.4f}\")\n",
    "\n",
    "    # print(\"---Accu-----pre----rec---------->\",np.mean(ttlal),'±',np.std(ttlal, ddof=1), np.mean(precision),'±',np.std(precision, ddof=1),np.mean(precision),'±',np.std(precision, ddof=1),)\n",
    "# %%%%%%\n",
    "\n",
    "def evaluate3(fname,data_loader, model, criterion=nn.CrossEntropyLoss()):\n",
    "    total_predictions = 0\n",
    "    correct_predictions = 0\n",
    "    total_loss = 0.0\n",
    "    accuracy = 0\n",
    "    datta = \"\"\n",
    "    model.eval()\n",
    "    tlv_cls=0\n",
    "    ttla=0\n",
    "    ttlac=0\n",
    "    with torch.no_grad():\n",
    "        for episode in range(len(clss_8)):\n",
    "            support_set, query_set = data_loader.__getitem__(clss_8[tlv_cls] , clss_support_imagesss_1_shot[tlv_cls])\n",
    "\n",
    "            \n",
    "            clssa=str(clss_8[tlv_cls])\n",
    "            clss=str(clssa).replace(',',' ').replace('\\'',' ').replace('\\'',' ')\n",
    "            msg=str(clss_support_imagesss_1_shot[tlv_cls])\n",
    "            str(clss_8[tlv_cls])\n",
    "\n",
    "            tlv_cls+=1\n",
    "            # print(len(support_set),len(query_set))\n",
    "            support_set = [(torch.stack(images).to(device), label[0]) for images, label in support_set]\n",
    "            query_set = [(torch.stack(images).to(device), label) for images, label in query_set]\n",
    "\n",
    "            support_images, support_labels = zip(*support_set)\n",
    "\n",
    "            query_images, query_labels = zip(*query_set)\n",
    "\n",
    "            classification_scores = model(support_images, support_labels, query_images)\n",
    "            cortt = 0\n",
    "            totl = 0\n",
    "            confusion_mat=None\n",
    "            all_predicted_labels = []\n",
    "            all_actual_labels = []\n",
    "            # print(len(classification_scores),len(query_labels))\n",
    "            for ei in range(len(classification_scores)):\n",
    "                classification_scores_each_class = classification_scores[ei]\n",
    "                # print(classification_scores_each_class)\n",
    "                predicted_labels_eachclas = torch.argmax(classification_scores_each_class, dim=1)\n",
    "                pp = predicted_labels_eachclas.tolist()\n",
    "                act = query_labels[ei]\n",
    "                all_predicted_labels.extend(pp)\n",
    "                all_actual_labels.extend(act)\n",
    "                for iiii in range(len(pp)):\n",
    "                    if pp[iiii] == act[iiii]:\n",
    "                        cortt = cortt + 1\n",
    "                totl = totl + len(pp)\n",
    "                # print(len(act))\n",
    "            accuracy = cortt / totl\n",
    "            ttla+=1\n",
    "            ttlac+=accuracy\n",
    "            # print(cortt , totl,\"Validation Accuracy:              \", cortt / totl)\n",
    "            # confusion_mat = confusion_matrix(all_actual_labels, all_predicted_labels)\n",
    "            # print(\"Confusion Matrix:\")\n",
    "            # print(confusion_mat)\n",
    "\n",
    "            # fname='./own35_mapi_5_way_1_shot'\n",
    "\n",
    "            # calculate_metrics_get_per(msg,confusion_mat,acciuracy=cortt / totl,cls=clss,flnm=fname)\n",
    "\n",
    "    print(\"---------------------->\",ttlac/ttla)\n",
    "    return ttlac/ttla"
   ]
  },
  {
   "cell_type": "code",
   "execution_count": 358,
   "metadata": {
    "scrolled": true
   },
   "outputs": [
    {
     "name": "stdout",
     "output_type": "stream",
     "text": [
      "Testing b_a_r = 0.7965, c_a_r = 0.1834, f_a_r = 0.7797\n"
     ]
    },
    {
     "name": "stderr",
     "output_type": "stream",
     "text": [
      "Using cache found in /home/asufian/.cache/torch/hub/pytorch_vision_v0.10.0\n",
      "/home/asufian/.local/share/pipx/venvs/notebook/lib/python3.12/site-packages/torchvision/models/_utils.py:208: UserWarning: The parameter 'pretrained' is deprecated since 0.13 and may be removed in the future, please use 'weights' instead.\n",
      "  warnings.warn(\n",
      "/home/asufian/.local/share/pipx/venvs/notebook/lib/python3.12/site-packages/torchvision/models/_utils.py:223: UserWarning: Arguments other than a weight enum or `None` for 'weights' are deprecated since 0.13 and may be removed in the future. The current behavior is equivalent to passing `weights=None`.\n",
      "  warnings.warn(msg)\n",
      "Using cache found in /home/asufian/.cache/torch/hub/pytorch_vision_v0.10.0\n"
     ]
    },
    {
     "name": "stdout",
     "output_type": "stream",
     "text": [
      "----------------------> 0.44868421052631574\n",
      "Evaluated Accuracy: 0.4487\n",
      "Testing b_a_r = 0.5969, c_a_r = 0.4458, f_a_r = 0.1000\n"
     ]
    },
    {
     "name": "stderr",
     "output_type": "stream",
     "text": [
      "Using cache found in /home/asufian/.cache/torch/hub/pytorch_vision_v0.10.0\n",
      "Using cache found in /home/asufian/.cache/torch/hub/pytorch_vision_v0.10.0\n"
     ]
    },
    {
     "name": "stdout",
     "output_type": "stream",
     "text": [
      "----------------------> 0.25622807017543864\n",
      "Evaluated Accuracy: 0.2562\n",
      "Testing b_a_r = 0.4592, c_a_r = 0.3337, f_a_r = 0.1429\n"
     ]
    },
    {
     "name": "stderr",
     "output_type": "stream",
     "text": [
      "Using cache found in /home/asufian/.cache/torch/hub/pytorch_vision_v0.10.0\n",
      "Using cache found in /home/asufian/.cache/torch/hub/pytorch_vision_v0.10.0\n"
     ]
    },
    {
     "name": "stdout",
     "output_type": "stream",
     "text": [
      "----------------------> 0.33666666666666667\n",
      "Evaluated Accuracy: 0.3367\n",
      "Testing b_a_r = 0.6509, c_a_r = 0.0564, f_a_r = 0.7220\n"
     ]
    },
    {
     "name": "stderr",
     "output_type": "stream",
     "text": [
      "Using cache found in /home/asufian/.cache/torch/hub/pytorch_vision_v0.10.0\n",
      "Using cache found in /home/asufian/.cache/torch/hub/pytorch_vision_v0.10.0\n"
     ]
    },
    {
     "name": "stdout",
     "output_type": "stream",
     "text": [
      "----------------------> 0.48210526315789476\n",
      "Evaluated Accuracy: 0.4821\n",
      "Testing b_a_r = 0.9386, c_a_r = 0.0008, f_a_r = 0.9922\n"
     ]
    },
    {
     "name": "stderr",
     "output_type": "stream",
     "text": [
      "Using cache found in /home/asufian/.cache/torch/hub/pytorch_vision_v0.10.0\n",
      "Using cache found in /home/asufian/.cache/torch/hub/pytorch_vision_v0.10.0\n"
     ]
    },
    {
     "name": "stdout",
     "output_type": "stream",
     "text": [
      "----------------------> 0.4786842105263159\n",
      "Evaluated Accuracy: 0.4787\n",
      "Testing b_a_r = 0.0250, c_a_r = 1.0000, f_a_r = 0.4630\n"
     ]
    },
    {
     "name": "stderr",
     "output_type": "stream",
     "text": [
      "Using cache found in /home/asufian/.cache/torch/hub/pytorch_vision_v0.10.0\n",
      "/home/asufian/.local/share/pipx/venvs/notebook/lib/python3.12/site-packages/torchvision/models/_utils.py:208: UserWarning: The parameter 'pretrained' is deprecated since 0.13 and may be removed in the future, please use 'weights' instead.\n",
      "  warnings.warn(\n",
      "/home/asufian/.local/share/pipx/venvs/notebook/lib/python3.12/site-packages/torchvision/models/_utils.py:223: UserWarning: Arguments other than a weight enum or `None` for 'weights' are deprecated since 0.13 and may be removed in the future. The current behavior is equivalent to passing `weights=None`.\n",
      "  warnings.warn(msg)\n",
      "Using cache found in /home/asufian/.cache/torch/hub/pytorch_vision_v0.10.0\n"
     ]
    },
    {
     "name": "stdout",
     "output_type": "stream",
     "text": [
      "----------------------> 0.23605263157894738\n",
      "Evaluated Accuracy: 0.2361\n",
      "Testing b_a_r = 0.0329, c_a_r = 0.0298, f_a_r = 0.0373\n"
     ]
    },
    {
     "name": "stderr",
     "output_type": "stream",
     "text": [
      "Using cache found in /home/asufian/.cache/torch/hub/pytorch_vision_v0.10.0\n",
      "/home/asufian/.local/share/pipx/venvs/notebook/lib/python3.12/site-packages/torchvision/models/_utils.py:208: UserWarning: The parameter 'pretrained' is deprecated since 0.13 and may be removed in the future, please use 'weights' instead.\n",
      "  warnings.warn(\n",
      "/home/asufian/.local/share/pipx/venvs/notebook/lib/python3.12/site-packages/torchvision/models/_utils.py:223: UserWarning: Arguments other than a weight enum or `None` for 'weights' are deprecated since 0.13 and may be removed in the future. The current behavior is equivalent to passing `weights=None`.\n",
      "  warnings.warn(msg)\n",
      "Using cache found in /home/asufian/.cache/torch/hub/pytorch_vision_v0.10.0\n"
     ]
    },
    {
     "name": "stdout",
     "output_type": "stream",
     "text": [
      "----------------------> 0.48710526315789476\n",
      "Evaluated Accuracy: 0.4871\n",
      "Testing b_a_r = 0.0091, c_a_r = 0.1029, f_a_r = 0.9627\n"
     ]
    },
    {
     "name": "stderr",
     "output_type": "stream",
     "text": [
      "Using cache found in /home/asufian/.cache/torch/hub/pytorch_vision_v0.10.0\n",
      "/home/asufian/.local/share/pipx/venvs/notebook/lib/python3.12/site-packages/torchvision/models/_utils.py:208: UserWarning: The parameter 'pretrained' is deprecated since 0.13 and may be removed in the future, please use 'weights' instead.\n",
      "  warnings.warn(\n",
      "/home/asufian/.local/share/pipx/venvs/notebook/lib/python3.12/site-packages/torchvision/models/_utils.py:223: UserWarning: Arguments other than a weight enum or `None` for 'weights' are deprecated since 0.13 and may be removed in the future. The current behavior is equivalent to passing `weights=None`.\n",
      "  warnings.warn(msg)\n",
      "Using cache found in /home/asufian/.cache/torch/hub/pytorch_vision_v0.10.0\n"
     ]
    },
    {
     "name": "stdout",
     "output_type": "stream",
     "text": [
      "----------------------> 0.47710526315789475\n",
      "Evaluated Accuracy: 0.4771\n",
      "Testing b_a_r = 0.9687, c_a_r = 0.0937, f_a_r = 0.0396\n"
     ]
    },
    {
     "name": "stderr",
     "output_type": "stream",
     "text": [
      "Using cache found in /home/asufian/.cache/torch/hub/pytorch_vision_v0.10.0\n",
      "/home/asufian/.local/share/pipx/venvs/notebook/lib/python3.12/site-packages/torchvision/models/_utils.py:208: UserWarning: The parameter 'pretrained' is deprecated since 0.13 and may be removed in the future, please use 'weights' instead.\n",
      "  warnings.warn(\n",
      "/home/asufian/.local/share/pipx/venvs/notebook/lib/python3.12/site-packages/torchvision/models/_utils.py:223: UserWarning: Arguments other than a weight enum or `None` for 'weights' are deprecated since 0.13 and may be removed in the future. The current behavior is equivalent to passing `weights=None`.\n",
      "  warnings.warn(msg)\n",
      "Using cache found in /home/asufian/.cache/torch/hub/pytorch_vision_v0.10.0\n"
     ]
    },
    {
     "name": "stdout",
     "output_type": "stream",
     "text": [
      "----------------------> 0.47543859649122805\n",
      "Evaluated Accuracy: 0.4754\n",
      "Testing b_a_r = 0.9821, c_a_r = 0.7589, f_a_r = 0.2612\n"
     ]
    },
    {
     "name": "stderr",
     "output_type": "stream",
     "text": [
      "Using cache found in /home/asufian/.cache/torch/hub/pytorch_vision_v0.10.0\n",
      "/home/asufian/.local/share/pipx/venvs/notebook/lib/python3.12/site-packages/torchvision/models/_utils.py:208: UserWarning: The parameter 'pretrained' is deprecated since 0.13 and may be removed in the future, please use 'weights' instead.\n",
      "  warnings.warn(\n",
      "/home/asufian/.local/share/pipx/venvs/notebook/lib/python3.12/site-packages/torchvision/models/_utils.py:223: UserWarning: Arguments other than a weight enum or `None` for 'weights' are deprecated since 0.13 and may be removed in the future. The current behavior is equivalent to passing `weights=None`.\n",
      "  warnings.warn(msg)\n",
      "Using cache found in /home/asufian/.cache/torch/hub/pytorch_vision_v0.10.0\n"
     ]
    },
    {
     "name": "stdout",
     "output_type": "stream",
     "text": [
      "----------------------> 0.19675438596491224\n",
      "Evaluated Accuracy: 0.1968\n",
      "Testing b_a_r = 0.0286, c_a_r = 0.0014, f_a_r = 0.7303\n"
     ]
    },
    {
     "name": "stderr",
     "output_type": "stream",
     "text": [
      "Using cache found in /home/asufian/.cache/torch/hub/pytorch_vision_v0.10.0\n",
      "/home/asufian/.local/share/pipx/venvs/notebook/lib/python3.12/site-packages/torchvision/models/_utils.py:208: UserWarning: The parameter 'pretrained' is deprecated since 0.13 and may be removed in the future, please use 'weights' instead.\n",
      "  warnings.warn(\n",
      "/home/asufian/.local/share/pipx/venvs/notebook/lib/python3.12/site-packages/torchvision/models/_utils.py:223: UserWarning: Arguments other than a weight enum or `None` for 'weights' are deprecated since 0.13 and may be removed in the future. The current behavior is equivalent to passing `weights=None`.\n",
      "  warnings.warn(msg)\n",
      "Using cache found in /home/asufian/.cache/torch/hub/pytorch_vision_v0.10.0\n"
     ]
    },
    {
     "name": "stdout",
     "output_type": "stream",
     "text": [
      "----------------------> 0.48482456140350877\n",
      "Evaluated Accuracy: 0.4848\n",
      "Testing b_a_r = 0.0805, c_a_r = 0.0220, f_a_r = 0.9888\n"
     ]
    },
    {
     "name": "stderr",
     "output_type": "stream",
     "text": [
      "Using cache found in /home/asufian/.cache/torch/hub/pytorch_vision_v0.10.0\n",
      "/home/asufian/.local/share/pipx/venvs/notebook/lib/python3.12/site-packages/torchvision/models/_utils.py:208: UserWarning: The parameter 'pretrained' is deprecated since 0.13 and may be removed in the future, please use 'weights' instead.\n",
      "  warnings.warn(\n",
      "/home/asufian/.local/share/pipx/venvs/notebook/lib/python3.12/site-packages/torchvision/models/_utils.py:223: UserWarning: Arguments other than a weight enum or `None` for 'weights' are deprecated since 0.13 and may be removed in the future. The current behavior is equivalent to passing `weights=None`.\n",
      "  warnings.warn(msg)\n",
      "Using cache found in /home/asufian/.cache/torch/hub/pytorch_vision_v0.10.0\n"
     ]
    },
    {
     "name": "stdout",
     "output_type": "stream",
     "text": [
      "----------------------> 0.4866666666666667\n",
      "Evaluated Accuracy: 0.4867\n",
      "Testing b_a_r = 0.0118, c_a_r = 0.6094, f_a_r = 0.8509\n"
     ]
    },
    {
     "name": "stderr",
     "output_type": "stream",
     "text": [
      "Using cache found in /home/asufian/.cache/torch/hub/pytorch_vision_v0.10.0\n",
      "/home/asufian/.local/share/pipx/venvs/notebook/lib/python3.12/site-packages/torchvision/models/_utils.py:208: UserWarning: The parameter 'pretrained' is deprecated since 0.13 and may be removed in the future, please use 'weights' instead.\n",
      "  warnings.warn(\n",
      "/home/asufian/.local/share/pipx/venvs/notebook/lib/python3.12/site-packages/torchvision/models/_utils.py:223: UserWarning: Arguments other than a weight enum or `None` for 'weights' are deprecated since 0.13 and may be removed in the future. The current behavior is equivalent to passing `weights=None`.\n",
      "  warnings.warn(msg)\n",
      "Using cache found in /home/asufian/.cache/torch/hub/pytorch_vision_v0.10.0\n"
     ]
    },
    {
     "name": "stdout",
     "output_type": "stream",
     "text": [
      "----------------------> 0.20491228070175438\n",
      "Evaluated Accuracy: 0.2049\n",
      "Testing b_a_r = 0.0171, c_a_r = 0.0637, f_a_r = 0.0006\n"
     ]
    },
    {
     "name": "stderr",
     "output_type": "stream",
     "text": [
      "Using cache found in /home/asufian/.cache/torch/hub/pytorch_vision_v0.10.0\n",
      "/home/asufian/.local/share/pipx/venvs/notebook/lib/python3.12/site-packages/torchvision/models/_utils.py:208: UserWarning: The parameter 'pretrained' is deprecated since 0.13 and may be removed in the future, please use 'weights' instead.\n",
      "  warnings.warn(\n",
      "/home/asufian/.local/share/pipx/venvs/notebook/lib/python3.12/site-packages/torchvision/models/_utils.py:223: UserWarning: Arguments other than a weight enum or `None` for 'weights' are deprecated since 0.13 and may be removed in the future. The current behavior is equivalent to passing `weights=None`.\n",
      "  warnings.warn(msg)\n",
      "Using cache found in /home/asufian/.cache/torch/hub/pytorch_vision_v0.10.0\n"
     ]
    },
    {
     "name": "stdout",
     "output_type": "stream",
     "text": [
      "----------------------> 0.484298245614035\n",
      "Evaluated Accuracy: 0.4843\n",
      "Testing b_a_r = 0.0411, c_a_r = 0.1467, f_a_r = 0.0548\n"
     ]
    },
    {
     "name": "stderr",
     "output_type": "stream",
     "text": [
      "Using cache found in /home/asufian/.cache/torch/hub/pytorch_vision_v0.10.0\n",
      "/home/asufian/.local/share/pipx/venvs/notebook/lib/python3.12/site-packages/torchvision/models/_utils.py:208: UserWarning: The parameter 'pretrained' is deprecated since 0.13 and may be removed in the future, please use 'weights' instead.\n",
      "  warnings.warn(\n",
      "/home/asufian/.local/share/pipx/venvs/notebook/lib/python3.12/site-packages/torchvision/models/_utils.py:223: UserWarning: Arguments other than a weight enum or `None` for 'weights' are deprecated since 0.13 and may be removed in the future. The current behavior is equivalent to passing `weights=None`.\n",
      "  warnings.warn(msg)\n",
      "Using cache found in /home/asufian/.cache/torch/hub/pytorch_vision_v0.10.0\n"
     ]
    },
    {
     "name": "stdout",
     "output_type": "stream",
     "text": [
      "----------------------> 0.4657894736842105\n",
      "Evaluated Accuracy: 0.4658\n",
      "Testing b_a_r = 0.0052, c_a_r = 0.8885, f_a_r = 0.8569\n"
     ]
    },
    {
     "name": "stderr",
     "output_type": "stream",
     "text": [
      "Using cache found in /home/asufian/.cache/torch/hub/pytorch_vision_v0.10.0\n",
      "/home/asufian/.local/share/pipx/venvs/notebook/lib/python3.12/site-packages/torchvision/models/_utils.py:208: UserWarning: The parameter 'pretrained' is deprecated since 0.13 and may be removed in the future, please use 'weights' instead.\n",
      "  warnings.warn(\n",
      "/home/asufian/.local/share/pipx/venvs/notebook/lib/python3.12/site-packages/torchvision/models/_utils.py:223: UserWarning: Arguments other than a weight enum or `None` for 'weights' are deprecated since 0.13 and may be removed in the future. The current behavior is equivalent to passing `weights=None`.\n",
      "  warnings.warn(msg)\n",
      "Using cache found in /home/asufian/.cache/torch/hub/pytorch_vision_v0.10.0\n"
     ]
    },
    {
     "name": "stdout",
     "output_type": "stream",
     "text": [
      "----------------------> 0.21570175438596487\n",
      "Evaluated Accuracy: 0.2157\n",
      "Testing b_a_r = 0.0937, c_a_r = 0.0033, f_a_r = 0.0455\n"
     ]
    },
    {
     "name": "stderr",
     "output_type": "stream",
     "text": [
      "Using cache found in /home/asufian/.cache/torch/hub/pytorch_vision_v0.10.0\n",
      "/home/asufian/.local/share/pipx/venvs/notebook/lib/python3.12/site-packages/torchvision/models/_utils.py:208: UserWarning: The parameter 'pretrained' is deprecated since 0.13 and may be removed in the future, please use 'weights' instead.\n",
      "  warnings.warn(\n",
      "/home/asufian/.local/share/pipx/venvs/notebook/lib/python3.12/site-packages/torchvision/models/_utils.py:223: UserWarning: Arguments other than a weight enum or `None` for 'weights' are deprecated since 0.13 and may be removed in the future. The current behavior is equivalent to passing `weights=None`.\n",
      "  warnings.warn(msg)\n",
      "Using cache found in /home/asufian/.cache/torch/hub/pytorch_vision_v0.10.0\n"
     ]
    },
    {
     "name": "stdout",
     "output_type": "stream",
     "text": [
      "----------------------> 0.484561403508772\n",
      "Evaluated Accuracy: 0.4846\n",
      "Testing b_a_r = 0.0132, c_a_r = 0.2284, f_a_r = 0.0370\n"
     ]
    },
    {
     "name": "stderr",
     "output_type": "stream",
     "text": [
      "Using cache found in /home/asufian/.cache/torch/hub/pytorch_vision_v0.10.0\n",
      "/home/asufian/.local/share/pipx/venvs/notebook/lib/python3.12/site-packages/torchvision/models/_utils.py:208: UserWarning: The parameter 'pretrained' is deprecated since 0.13 and may be removed in the future, please use 'weights' instead.\n",
      "  warnings.warn(\n",
      "/home/asufian/.local/share/pipx/venvs/notebook/lib/python3.12/site-packages/torchvision/models/_utils.py:223: UserWarning: Arguments other than a weight enum or `None` for 'weights' are deprecated since 0.13 and may be removed in the future. The current behavior is equivalent to passing `weights=None`.\n",
      "  warnings.warn(msg)\n",
      "Using cache found in /home/asufian/.cache/torch/hub/pytorch_vision_v0.10.0\n"
     ]
    },
    {
     "name": "stdout",
     "output_type": "stream",
     "text": [
      "----------------------> 0.42298245614035085\n",
      "Evaluated Accuracy: 0.4230\n",
      "Testing b_a_r = 0.9630, c_a_r = 0.0268, f_a_r = 0.0407\n"
     ]
    },
    {
     "name": "stderr",
     "output_type": "stream",
     "text": [
      "Using cache found in /home/asufian/.cache/torch/hub/pytorch_vision_v0.10.0\n",
      "/home/asufian/.local/share/pipx/venvs/notebook/lib/python3.12/site-packages/torchvision/models/_utils.py:208: UserWarning: The parameter 'pretrained' is deprecated since 0.13 and may be removed in the future, please use 'weights' instead.\n",
      "  warnings.warn(\n",
      "/home/asufian/.local/share/pipx/venvs/notebook/lib/python3.12/site-packages/torchvision/models/_utils.py:223: UserWarning: Arguments other than a weight enum or `None` for 'weights' are deprecated since 0.13 and may be removed in the future. The current behavior is equivalent to passing `weights=None`.\n",
      "  warnings.warn(msg)\n",
      "Using cache found in /home/asufian/.cache/torch/hub/pytorch_vision_v0.10.0\n"
     ]
    },
    {
     "name": "stdout",
     "output_type": "stream",
     "text": [
      "----------------------> 0.48280701754385963\n",
      "Evaluated Accuracy: 0.4828\n",
      "Testing b_a_r = 0.0821, c_a_r = 0.0287, f_a_r = 0.9318\n"
     ]
    },
    {
     "name": "stderr",
     "output_type": "stream",
     "text": [
      "Using cache found in /home/asufian/.cache/torch/hub/pytorch_vision_v0.10.0\n",
      "/home/asufian/.local/share/pipx/venvs/notebook/lib/python3.12/site-packages/torchvision/models/_utils.py:208: UserWarning: The parameter 'pretrained' is deprecated since 0.13 and may be removed in the future, please use 'weights' instead.\n",
      "  warnings.warn(\n",
      "/home/asufian/.local/share/pipx/venvs/notebook/lib/python3.12/site-packages/torchvision/models/_utils.py:223: UserWarning: Arguments other than a weight enum or `None` for 'weights' are deprecated since 0.13 and may be removed in the future. The current behavior is equivalent to passing `weights=None`.\n",
      "  warnings.warn(msg)\n",
      "Using cache found in /home/asufian/.cache/torch/hub/pytorch_vision_v0.10.0\n"
     ]
    },
    {
     "name": "stdout",
     "output_type": "stream",
     "text": [
      "----------------------> 0.48666666666666664\n",
      "Evaluated Accuracy: 0.4867\n",
      "Testing b_a_r = 0.7053, c_a_r = 0.0554, f_a_r = 0.2143\n"
     ]
    },
    {
     "name": "stderr",
     "output_type": "stream",
     "text": [
      "Using cache found in /home/asufian/.cache/torch/hub/pytorch_vision_v0.10.0\n",
      "/home/asufian/.local/share/pipx/venvs/notebook/lib/python3.12/site-packages/torchvision/models/_utils.py:208: UserWarning: The parameter 'pretrained' is deprecated since 0.13 and may be removed in the future, please use 'weights' instead.\n",
      "  warnings.warn(\n",
      "/home/asufian/.local/share/pipx/venvs/notebook/lib/python3.12/site-packages/torchvision/models/_utils.py:223: UserWarning: Arguments other than a weight enum or `None` for 'weights' are deprecated since 0.13 and may be removed in the future. The current behavior is equivalent to passing `weights=None`.\n",
      "  warnings.warn(msg)\n",
      "Using cache found in /home/asufian/.cache/torch/hub/pytorch_vision_v0.10.0\n"
     ]
    },
    {
     "name": "stdout",
     "output_type": "stream",
     "text": [
      "----------------------> 0.4818421052631579\n",
      "Evaluated Accuracy: 0.4818\n",
      "Testing b_a_r = 0.3831, c_a_r = 0.5126, f_a_r = 0.0011\n"
     ]
    },
    {
     "name": "stderr",
     "output_type": "stream",
     "text": [
      "Using cache found in /home/asufian/.cache/torch/hub/pytorch_vision_v0.10.0\n",
      "/home/asufian/.local/share/pipx/venvs/notebook/lib/python3.12/site-packages/torchvision/models/_utils.py:208: UserWarning: The parameter 'pretrained' is deprecated since 0.13 and may be removed in the future, please use 'weights' instead.\n",
      "  warnings.warn(\n",
      "/home/asufian/.local/share/pipx/venvs/notebook/lib/python3.12/site-packages/torchvision/models/_utils.py:223: UserWarning: Arguments other than a weight enum or `None` for 'weights' are deprecated since 0.13 and may be removed in the future. The current behavior is equivalent to passing `weights=None`.\n",
      "  warnings.warn(msg)\n",
      "Using cache found in /home/asufian/.cache/torch/hub/pytorch_vision_v0.10.0\n"
     ]
    },
    {
     "name": "stdout",
     "output_type": "stream",
     "text": [
      "----------------------> 0.22543859649122802\n",
      "Evaluated Accuracy: 0.2254\n",
      "Testing b_a_r = 0.0214, c_a_r = 0.3302, f_a_r = 0.5339\n"
     ]
    },
    {
     "name": "stderr",
     "output_type": "stream",
     "text": [
      "Using cache found in /home/asufian/.cache/torch/hub/pytorch_vision_v0.10.0\n",
      "/home/asufian/.local/share/pipx/venvs/notebook/lib/python3.12/site-packages/torchvision/models/_utils.py:208: UserWarning: The parameter 'pretrained' is deprecated since 0.13 and may be removed in the future, please use 'weights' instead.\n",
      "  warnings.warn(\n",
      "/home/asufian/.local/share/pipx/venvs/notebook/lib/python3.12/site-packages/torchvision/models/_utils.py:223: UserWarning: Arguments other than a weight enum or `None` for 'weights' are deprecated since 0.13 and may be removed in the future. The current behavior is equivalent to passing `weights=None`.\n",
      "  warnings.warn(msg)\n",
      "Using cache found in /home/asufian/.cache/torch/hub/pytorch_vision_v0.10.0\n"
     ]
    },
    {
     "name": "stdout",
     "output_type": "stream",
     "text": [
      "----------------------> 0.34\n",
      "Evaluated Accuracy: 0.3400\n",
      "Testing b_a_r = 0.2324, c_a_r = 0.4024, f_a_r = 0.2861\n"
     ]
    },
    {
     "name": "stderr",
     "output_type": "stream",
     "text": [
      "Using cache found in /home/asufian/.cache/torch/hub/pytorch_vision_v0.10.0\n",
      "/home/asufian/.local/share/pipx/venvs/notebook/lib/python3.12/site-packages/torchvision/models/_utils.py:208: UserWarning: The parameter 'pretrained' is deprecated since 0.13 and may be removed in the future, please use 'weights' instead.\n",
      "  warnings.warn(\n",
      "/home/asufian/.local/share/pipx/venvs/notebook/lib/python3.12/site-packages/torchvision/models/_utils.py:223: UserWarning: Arguments other than a weight enum or `None` for 'weights' are deprecated since 0.13 and may be removed in the future. The current behavior is equivalent to passing `weights=None`.\n",
      "  warnings.warn(msg)\n",
      "Using cache found in /home/asufian/.cache/torch/hub/pytorch_vision_v0.10.0\n"
     ]
    },
    {
     "name": "stdout",
     "output_type": "stream",
     "text": [
      "----------------------> 0.2840350877192982\n",
      "Evaluated Accuracy: 0.2840\n",
      "Testing b_a_r = 0.5492, c_a_r = 0.3636, f_a_r = 0.1470\n"
     ]
    },
    {
     "name": "stderr",
     "output_type": "stream",
     "text": [
      "Using cache found in /home/asufian/.cache/torch/hub/pytorch_vision_v0.10.0\n",
      "/home/asufian/.local/share/pipx/venvs/notebook/lib/python3.12/site-packages/torchvision/models/_utils.py:208: UserWarning: The parameter 'pretrained' is deprecated since 0.13 and may be removed in the future, please use 'weights' instead.\n",
      "  warnings.warn(\n",
      "/home/asufian/.local/share/pipx/venvs/notebook/lib/python3.12/site-packages/torchvision/models/_utils.py:223: UserWarning: Arguments other than a weight enum or `None` for 'weights' are deprecated since 0.13 and may be removed in the future. The current behavior is equivalent to passing `weights=None`.\n",
      "  warnings.warn(msg)\n",
      "Using cache found in /home/asufian/.cache/torch/hub/pytorch_vision_v0.10.0\n"
     ]
    },
    {
     "name": "stdout",
     "output_type": "stream",
     "text": [
      "----------------------> 0.31149122807017543\n",
      "Evaluated Accuracy: 0.3115\n",
      "Testing b_a_r = 0.3514, c_a_r = 0.0803, f_a_r = 0.1774\n"
     ]
    },
    {
     "name": "stderr",
     "output_type": "stream",
     "text": [
      "Using cache found in /home/asufian/.cache/torch/hub/pytorch_vision_v0.10.0\n",
      "/home/asufian/.local/share/pipx/venvs/notebook/lib/python3.12/site-packages/torchvision/models/_utils.py:208: UserWarning: The parameter 'pretrained' is deprecated since 0.13 and may be removed in the future, please use 'weights' instead.\n",
      "  warnings.warn(\n",
      "/home/asufian/.local/share/pipx/venvs/notebook/lib/python3.12/site-packages/torchvision/models/_utils.py:223: UserWarning: Arguments other than a weight enum or `None` for 'weights' are deprecated since 0.13 and may be removed in the future. The current behavior is equivalent to passing `weights=None`.\n",
      "  warnings.warn(msg)\n",
      "Using cache found in /home/asufian/.cache/torch/hub/pytorch_vision_v0.10.0\n"
     ]
    },
    {
     "name": "stdout",
     "output_type": "stream",
     "text": [
      "----------------------> 0.4792105263157894\n",
      "Evaluated Accuracy: 0.4792\n",
      "Testing b_a_r = 0.0039, c_a_r = 0.0500, f_a_r = 0.9842\n"
     ]
    },
    {
     "name": "stderr",
     "output_type": "stream",
     "text": [
      "Using cache found in /home/asufian/.cache/torch/hub/pytorch_vision_v0.10.0\n",
      "/home/asufian/.local/share/pipx/venvs/notebook/lib/python3.12/site-packages/torchvision/models/_utils.py:208: UserWarning: The parameter 'pretrained' is deprecated since 0.13 and may be removed in the future, please use 'weights' instead.\n",
      "  warnings.warn(\n",
      "/home/asufian/.local/share/pipx/venvs/notebook/lib/python3.12/site-packages/torchvision/models/_utils.py:223: UserWarning: Arguments other than a weight enum or `None` for 'weights' are deprecated since 0.13 and may be removed in the future. The current behavior is equivalent to passing `weights=None`.\n",
      "  warnings.warn(msg)\n",
      "Using cache found in /home/asufian/.cache/torch/hub/pytorch_vision_v0.10.0\n"
     ]
    },
    {
     "name": "stdout",
     "output_type": "stream",
     "text": [
      "----------------------> 0.4852631578947368\n",
      "Evaluated Accuracy: 0.4853\n",
      "Testing b_a_r = 0.0557, c_a_r = 0.0003, f_a_r = 0.1687\n"
     ]
    },
    {
     "name": "stderr",
     "output_type": "stream",
     "text": [
      "Using cache found in /home/asufian/.cache/torch/hub/pytorch_vision_v0.10.0\n",
      "/home/asufian/.local/share/pipx/venvs/notebook/lib/python3.12/site-packages/torchvision/models/_utils.py:208: UserWarning: The parameter 'pretrained' is deprecated since 0.13 and may be removed in the future, please use 'weights' instead.\n",
      "  warnings.warn(\n",
      "/home/asufian/.local/share/pipx/venvs/notebook/lib/python3.12/site-packages/torchvision/models/_utils.py:223: UserWarning: Arguments other than a weight enum or `None` for 'weights' are deprecated since 0.13 and may be removed in the future. The current behavior is equivalent to passing `weights=None`.\n",
      "  warnings.warn(msg)\n",
      "Using cache found in /home/asufian/.cache/torch/hub/pytorch_vision_v0.10.0\n"
     ]
    },
    {
     "name": "stdout",
     "output_type": "stream",
     "text": [
      "----------------------> 0.48517543859649126\n",
      "Evaluated Accuracy: 0.4852\n",
      "Testing b_a_r = 0.0358, c_a_r = 0.0273, f_a_r = 0.0378\n"
     ]
    },
    {
     "name": "stderr",
     "output_type": "stream",
     "text": [
      "Using cache found in /home/asufian/.cache/torch/hub/pytorch_vision_v0.10.0\n",
      "/home/asufian/.local/share/pipx/venvs/notebook/lib/python3.12/site-packages/torchvision/models/_utils.py:208: UserWarning: The parameter 'pretrained' is deprecated since 0.13 and may be removed in the future, please use 'weights' instead.\n",
      "  warnings.warn(\n",
      "/home/asufian/.local/share/pipx/venvs/notebook/lib/python3.12/site-packages/torchvision/models/_utils.py:223: UserWarning: Arguments other than a weight enum or `None` for 'weights' are deprecated since 0.13 and may be removed in the future. The current behavior is equivalent to passing `weights=None`.\n",
      "  warnings.warn(msg)\n",
      "Using cache found in /home/asufian/.cache/torch/hub/pytorch_vision_v0.10.0\n"
     ]
    },
    {
     "name": "stdout",
     "output_type": "stream",
     "text": [
      "----------------------> 0.4768421052631578\n",
      "Evaluated Accuracy: 0.4768\n",
      "Testing b_a_r = 0.9489, c_a_r = 0.0278, f_a_r = 0.9846\n"
     ]
    },
    {
     "name": "stderr",
     "output_type": "stream",
     "text": [
      "Using cache found in /home/asufian/.cache/torch/hub/pytorch_vision_v0.10.0\n",
      "/home/asufian/.local/share/pipx/venvs/notebook/lib/python3.12/site-packages/torchvision/models/_utils.py:208: UserWarning: The parameter 'pretrained' is deprecated since 0.13 and may be removed in the future, please use 'weights' instead.\n",
      "  warnings.warn(\n",
      "/home/asufian/.local/share/pipx/venvs/notebook/lib/python3.12/site-packages/torchvision/models/_utils.py:223: UserWarning: Arguments other than a weight enum or `None` for 'weights' are deprecated since 0.13 and may be removed in the future. The current behavior is equivalent to passing `weights=None`.\n",
      "  warnings.warn(msg)\n",
      "Using cache found in /home/asufian/.cache/torch/hub/pytorch_vision_v0.10.0\n"
     ]
    },
    {
     "name": "stdout",
     "output_type": "stream",
     "text": [
      "----------------------> 0.48333333333333334\n",
      "Evaluated Accuracy: 0.4833\n",
      "Testing b_a_r = 0.0057, c_a_r = 0.0576, f_a_r = 0.9786\n"
     ]
    },
    {
     "name": "stderr",
     "output_type": "stream",
     "text": [
      "Using cache found in /home/asufian/.cache/torch/hub/pytorch_vision_v0.10.0\n",
      "/home/asufian/.local/share/pipx/venvs/notebook/lib/python3.12/site-packages/torchvision/models/_utils.py:208: UserWarning: The parameter 'pretrained' is deprecated since 0.13 and may be removed in the future, please use 'weights' instead.\n",
      "  warnings.warn(\n",
      "/home/asufian/.local/share/pipx/venvs/notebook/lib/python3.12/site-packages/torchvision/models/_utils.py:223: UserWarning: Arguments other than a weight enum or `None` for 'weights' are deprecated since 0.13 and may be removed in the future. The current behavior is equivalent to passing `weights=None`.\n",
      "  warnings.warn(msg)\n",
      "Using cache found in /home/asufian/.cache/torch/hub/pytorch_vision_v0.10.0\n"
     ]
    },
    {
     "name": "stdout",
     "output_type": "stream",
     "text": [
      "----------------------> 0.4845614035087719\n",
      "Evaluated Accuracy: 0.4846\n",
      "Testing b_a_r = 0.4350, c_a_r = 0.8334, f_a_r = 0.1376\n"
     ]
    },
    {
     "name": "stderr",
     "output_type": "stream",
     "text": [
      "Using cache found in /home/asufian/.cache/torch/hub/pytorch_vision_v0.10.0\n",
      "/home/asufian/.local/share/pipx/venvs/notebook/lib/python3.12/site-packages/torchvision/models/_utils.py:208: UserWarning: The parameter 'pretrained' is deprecated since 0.13 and may be removed in the future, please use 'weights' instead.\n",
      "  warnings.warn(\n",
      "/home/asufian/.local/share/pipx/venvs/notebook/lib/python3.12/site-packages/torchvision/models/_utils.py:223: UserWarning: Arguments other than a weight enum or `None` for 'weights' are deprecated since 0.13 and may be removed in the future. The current behavior is equivalent to passing `weights=None`.\n",
      "  warnings.warn(msg)\n",
      "Using cache found in /home/asufian/.cache/torch/hub/pytorch_vision_v0.10.0\n"
     ]
    },
    {
     "name": "stdout",
     "output_type": "stream",
     "text": [
      "----------------------> 0.2025438596491228\n",
      "Evaluated Accuracy: 0.2025\n",
      "Testing b_a_r = 0.4559, c_a_r = 0.0270, f_a_r = 0.0256\n"
     ]
    },
    {
     "name": "stderr",
     "output_type": "stream",
     "text": [
      "Using cache found in /home/asufian/.cache/torch/hub/pytorch_vision_v0.10.0\n",
      "/home/asufian/.local/share/pipx/venvs/notebook/lib/python3.12/site-packages/torchvision/models/_utils.py:208: UserWarning: The parameter 'pretrained' is deprecated since 0.13 and may be removed in the future, please use 'weights' instead.\n",
      "  warnings.warn(\n",
      "/home/asufian/.local/share/pipx/venvs/notebook/lib/python3.12/site-packages/torchvision/models/_utils.py:223: UserWarning: Arguments other than a weight enum or `None` for 'weights' are deprecated since 0.13 and may be removed in the future. The current behavior is equivalent to passing `weights=None`.\n",
      "  warnings.warn(msg)\n",
      "Using cache found in /home/asufian/.cache/torch/hub/pytorch_vision_v0.10.0\n"
     ]
    },
    {
     "name": "stdout",
     "output_type": "stream",
     "text": [
      "----------------------> 0.48561403508771933\n",
      "Evaluated Accuracy: 0.4856\n",
      "Testing b_a_r = 0.3598, c_a_r = 0.0745, f_a_r = 0.1038\n"
     ]
    },
    {
     "name": "stderr",
     "output_type": "stream",
     "text": [
      "Using cache found in /home/asufian/.cache/torch/hub/pytorch_vision_v0.10.0\n",
      "/home/asufian/.local/share/pipx/venvs/notebook/lib/python3.12/site-packages/torchvision/models/_utils.py:208: UserWarning: The parameter 'pretrained' is deprecated since 0.13 and may be removed in the future, please use 'weights' instead.\n",
      "  warnings.warn(\n",
      "/home/asufian/.local/share/pipx/venvs/notebook/lib/python3.12/site-packages/torchvision/models/_utils.py:223: UserWarning: Arguments other than a weight enum or `None` for 'weights' are deprecated since 0.13 and may be removed in the future. The current behavior is equivalent to passing `weights=None`.\n",
      "  warnings.warn(msg)\n",
      "Using cache found in /home/asufian/.cache/torch/hub/pytorch_vision_v0.10.0\n"
     ]
    },
    {
     "name": "stdout",
     "output_type": "stream",
     "text": [
      "----------------------> 0.48166666666666674\n",
      "Evaluated Accuracy: 0.4817\n",
      "\n",
      "✅ Optimal Values:\n",
      "   - b_a_r: 0.0329\n",
      "   - c_a_r: 0.0298\n",
      "   - f_a_r: 0.0373\n",
      "📈 Highest Accuracy Achieved: 0.4871\n"
     ]
    }
   ],
   "source": [
    "import numpy as np\n",
    "import torch\n",
    "import matplotlib.pyplot as plt\n",
    "from skopt import gp_minimize\n",
    "from skopt.space import Real\n",
    "from skopt.utils import use_named_args\n",
    "from skopt.plots import plot_convergence\n",
    "\n",
    "# Device setup\n",
    "device = torch.device(\"cuda\" if torch.cuda.is_available() else \"cpu\")\n",
    "\n",
    "\n",
    "# Define the search space for b_a_r, c_a_r, and f_a_r\n",
    "search_space = [\n",
    "    Real(0.0, 1.0, name=\"b_a_r\"),\n",
    "    Real(0.0, 1.0, name=\"c_a_r\"),\n",
    "    Real(0.0, 1.0, name=\"f_a_r\")\n",
    "]\n",
    "\n",
    "# Define the objective function for Bayesian Optimization\n",
    "@use_named_args(search_space)\n",
    "def objective(b_a_r, c_a_r, f_a_r):\n",
    "    \"\"\"\n",
    "    Objective function to optimize the adaptation ratios.\n",
    "    It applies adaptation, evaluates the model, and returns the negative accuracy.\n",
    "    \"\"\"\n",
    "    accuracy = get_model_accuracy(b_a_r, c_a_r, f_a_r)\n",
    "    print(f\"Evaluated Accuracy: {accuracy:.4f}\")  # Debugging Output\n",
    "    \n",
    "    return -accuracy  # We minimize, so return negative accuracy\n",
    "\n",
    "# Perform Bayesian Optimization with additional settings\n",
    "search_iteration=50\n",
    "res = gp_minimize(\n",
    "    func=objective,\n",
    "    dimensions=search_space,\n",
    "    n_calls=search_iteration,               # Number of evaluations\n",
    "    n_initial_points=5,       # Initial random explorations before GP starts\n",
    "    acq_func=\"EI\",            # Acquisition function: Expected Improvement\n",
    "    random_state=42,          # Ensure reproducibility\n",
    "    n_jobs=-1,                # Parallel execution for faster optimization\n",
    ")\n",
    "\n",
    "# Extract optimal results\n",
    "optimal_b_a_r, optimal_c_a_r, optimal_f_a_r = res.x\n",
    "best_accuracy = -res.fun\n",
    "\n",
    "print(f\"\\n✅ Optimal Values:\")\n",
    "print(f\"   - b_a_r: {optimal_b_a_r:.4f}\")\n",
    "print(f\"   - c_a_r: {optimal_c_a_r:.4f}\")\n",
    "print(f\"   - f_a_r: {optimal_f_a_r:.4f}\")\n",
    "print(f\"📈 Highest Accuracy Achieved: {best_accuracy:.4f}\")\n",
    "\n",
    "\n"
   ]
  },
  {
   "cell_type": "code",
   "execution_count": null,
   "metadata": {},
   "outputs": [],
   "source": []
  },
  {
   "cell_type": "code",
   "execution_count": 360,
   "metadata": {},
   "outputs": [
    {
     "name": "stderr",
     "output_type": "stream",
     "text": [
      "Using cache found in /home/asufian/.cache/torch/hub/pytorch_vision_v0.10.0\n",
      "/home/asufian/.local/share/pipx/venvs/notebook/lib/python3.12/site-packages/torchvision/models/_utils.py:208: UserWarning: The parameter 'pretrained' is deprecated since 0.13 and may be removed in the future, please use 'weights' instead.\n",
      "  warnings.warn(\n",
      "/home/asufian/.local/share/pipx/venvs/notebook/lib/python3.12/site-packages/torchvision/models/_utils.py:223: UserWarning: Arguments other than a weight enum or `None` for 'weights' are deprecated since 0.13 and may be removed in the future. The current behavior is equivalent to passing `weights=None`.\n",
      "  warnings.warn(msg)\n"
     ]
    },
    {
     "name": "stdout",
     "output_type": "stream",
     "text": [
      "---Accu-----pre----rec---------> 0.4854 ± 0.0475  0.5154 ± 0.0489  0.4854 ± 0.0475\n"
     ]
    },
    {
     "name": "stderr",
     "output_type": "stream",
     "text": [
      "Using cache found in /home/asufian/.cache/torch/hub/pytorch_vision_v0.10.0\n",
      "/home/asufian/.local/share/pipx/venvs/notebook/lib/python3.12/site-packages/torchvision/models/_utils.py:208: UserWarning: The parameter 'pretrained' is deprecated since 0.13 and may be removed in the future, please use 'weights' instead.\n",
      "  warnings.warn(\n",
      "/home/asufian/.local/share/pipx/venvs/notebook/lib/python3.12/site-packages/torchvision/models/_utils.py:223: UserWarning: Arguments other than a weight enum or `None` for 'weights' are deprecated since 0.13 and may be removed in the future. The current behavior is equivalent to passing `weights=None`.\n",
      "  warnings.warn(msg)\n"
     ]
    },
    {
     "name": "stdout",
     "output_type": "stream",
     "text": [
      "---Accu-----pre----rec---------> 0.3607 ± 0.0488  0.3991 ± 0.0597  0.3607 ± 0.0488\n",
      "---Accu-----pre----rec---------> 0.4871 ± 0.0452  0.5183 ± 0.0475  0.4871 ± 0.0452\n"
     ]
    }
   ],
   "source": [
    "convolutional_network_with_dropout =  DenseNet169WithDropout(modell='densenet169',pretrained=False,dr=0.0)\n",
    "convolutional_network_with_dropout.fc = nn.Flatten()\n",
    "\n",
    "xyz = convolutional_network_with_dropout\n",
    "M3 = PrototypicalNetworks_dynamic_query(xyz).to(device)\n",
    "M3.load_state_dict(torch.load('model_own_path.pt'))\n",
    "evaluate2('/home/asufian/Desktop/output_mapii/result_densnet/base/8_w_1_s_f', test_loader, M3, criterion)\n",
    "# Load Model M2\n",
    "convolutional_network_with_dropout =  DenseNet169WithDropout(modell='densenet169',pretrained=False,dr=0.0)\n",
    "convolutional_network_with_dropout.fc = nn.Flatten()\n",
    "\n",
    "xyz2 = convolutional_network_with_dropout\n",
    "M2 = PrototypicalNetworks_dynamic_query(xyz2).to(device)\n",
    "M2.load_state_dict(torch.load('model_mu_path.pt'))\n",
    "evaluate2(\"/home/asufian/Desktop/output_mapii/result_densnet/secondary/8_w_1_s_f\", test_loader, M2, criterion)\n",
    "# Update Model M3's weights using a weighted combination of Model M3 and Model M2\n",
    "update_model_weights2(M3, M2, conv_ratio= optimal_c_a_r , fc_ratio=optimal_f_a_r , bias_ratio=optimal_b_a_r)\n",
    "\n",
    "# Assuming you have the evaluate2 function defined\n",
    "# Evaluate the updated model (M3) using evaluate2 function with some arguments\n",
    "evaluate2(\"/home/asufian/Desktop/output_mapii/result_densnet/amul/8_w_1_s_f\", test_loader, M3, criterion)\n"
   ]
  },
  {
   "cell_type": "code",
   "execution_count": null,
   "metadata": {},
   "outputs": [],
   "source": []
  },
  {
   "cell_type": "code",
   "execution_count": null,
   "metadata": {},
   "outputs": [],
   "source": []
  },
  {
   "cell_type": "code",
   "execution_count": 444,
   "metadata": {},
   "outputs": [
    {
     "name": "stderr",
     "output_type": "stream",
     "text": [
      "Using cache found in /home/asufian/.cache/torch/hub/pytorch_vision_v0.10.0\n",
      "/home/asufian/.local/share/pipx/venvs/notebook/lib/python3.12/site-packages/torchvision/models/_utils.py:208: UserWarning: The parameter 'pretrained' is deprecated since 0.13 and may be removed in the future, please use 'weights' instead.\n",
      "  warnings.warn(\n",
      "/home/asufian/.local/share/pipx/venvs/notebook/lib/python3.12/site-packages/torchvision/models/_utils.py:223: UserWarning: Arguments other than a weight enum or `None` for 'weights' are deprecated since 0.13 and may be removed in the future. The current behavior is equivalent to passing `weights=None`.\n",
      "  warnings.warn(msg)\n",
      "Using cache found in /home/asufian/.cache/torch/hub/pytorch_vision_v0.10.0\n"
     ]
    }
   ],
   "source": [
    "device = torch.device(\"cuda\" if torch.cuda.is_available() else \"cpu\")\n",
    "\n",
    "\n",
    "\n",
    "!rm model_mu_path.pt\n",
    "!rm model_own_path.pt\n",
    "\n",
    "convolutional_network_with_dropout =  DenseNet169WithDropout(modell='densenet169',pretrained=False,dr=0.0)\n",
    "convolutional_network_with_dropout.fc = nn.Flatten()\n",
    "\n",
    "model_own = PrototypicalNetworks_dynamic_query(convolutional_network_with_dropout).to(device)\n",
    "model_own.load_state_dict(torch.load('/home/asufian/Desktop/output_olchiki/code/modelrdnet.pth',map_location=torch.device('cpu')))\n",
    "\n",
    "\n",
    "convolutional_network_with_dropout =  DenseNet169WithDropout(modell='densenet169',pretrained=False,dr=0.0)\n",
    "convolutional_network_with_dropout.fc = nn.Flatten()\n",
    "\n",
    "model_own_1_shot = PrototypicalNetworks_dynamic_query(convolutional_network_with_dropout).to(device)\n",
    "model_own_1_shot.load_state_dict(torch.load('/home/asufian/Desktop/output_olchiki/code/mapi_sce/Denssecondary/model_5/model_B_mapi_5-shot_dens.pth',map_location=torch.device('cpu')))\n",
    "\n",
    "torch.save(model_own_1_shot.state_dict(), 'model_mu_path.pt')\n",
    "torch.save(model_own.state_dict(), 'model_own_path.pt')"
   ]
  },
  {
   "cell_type": "code",
   "execution_count": 445,
   "metadata": {},
   "outputs": [],
   "source": [
    "def evaluate2(fname,data_loader, model, criterion=nn.CrossEntropyLoss()):\n",
    "    total_predictions = 0\n",
    "    correct_predictions = 0\n",
    "    total_loss = 0.0\n",
    "    accuracy = 0\n",
    "    datta = \"\"\n",
    "    model.eval()\n",
    "    tlv_cls=0\n",
    "    ttla=0\n",
    "    ttlal=[]\n",
    "    ttlac=0\n",
    "    precision=[]\n",
    "    recall=[]\n",
    "    \n",
    "    with torch.no_grad():\n",
    "        for episode in range(len(clss_8)):\n",
    "            support_set, query_set = data_loader.__getitem__(clss_8[tlv_cls] , clss_support_imagesss_5_shot[tlv_cls])\n",
    "\n",
    "           \n",
    "            clssa=str(clss_8[tlv_cls])\n",
    "            clss=str(clssa).replace(',',' ').replace('\\'',' ').replace('\\'',' ')\n",
    "            msg=str(clss_support_imagesss_5_shot[tlv_cls])\n",
    "            str(clss_8[tlv_cls])\n",
    "\n",
    "            tlv_cls+=1\n",
    "            # print(len(support_set),len(query_set))\n",
    "            support_set = [(torch.stack(images).to(device), label[0]) for images, label in support_set]\n",
    "            query_set = [(torch.stack(images).to(device), label) for images, label in query_set]\n",
    "\n",
    "            support_images, support_labels = zip(*support_set)\n",
    "\n",
    "            query_images, query_labels = zip(*query_set)\n",
    "\n",
    "            classification_scores = model(support_images, support_labels, query_images)\n",
    "            cortt = 0\n",
    "            totl = 0\n",
    "            confusion_mat=None\n",
    "            all_predicted_labels = []\n",
    "            all_actual_labels = []\n",
    "            # print(len(classification_scores),len(query_labels))\n",
    "            for ei in range(len(classification_scores)):\n",
    "                classification_scores_each_class = classification_scores[ei]\n",
    "                # print(classification_scores_each_class)\n",
    "                predicted_labels_eachclas = torch.argmax(classification_scores_each_class, dim=1)\n",
    "                pp = predicted_labels_eachclas.tolist()\n",
    "                act = query_labels[ei]\n",
    "                all_predicted_labels.extend(pp)\n",
    "                all_actual_labels.extend(act)\n",
    "                for iiii in range(len(pp)):\n",
    "                    if pp[iiii] == act[iiii]:\n",
    "                        cortt = cortt + 1\n",
    "                totl = totl + len(pp)\n",
    "                # print(len(act))\n",
    "            accuracy = cortt / totl\n",
    "            ttla+=1\n",
    "            ttlac+=accuracy\n",
    "            ttlal.append(accuracy)\n",
    "            # print(cortt , totl,\"Validation Accuracy:              \", cortt / totl)\n",
    "            confusion_mat = confusion_matrix(all_actual_labels, all_predicted_labels)\n",
    "            # print(\"Confusion Matrix:\")\n",
    "            # print(confusion_mat)\n",
    "\n",
    "            # fname='./own35_mapi_5_way_1_shot'\n",
    "\n",
    "            precision_overall, recall_overall, f1ss= calculate_metrics_get_per(msg,confusion_mat,acciuracy=cortt / totl,cls=clss,flnm=fname)\n",
    "            precision.append(precision_overall)\n",
    "            recall.append(recall_overall)\n",
    "    print(f\"---Accu-----pre----rec---------> {np.mean(ttlal):.4f} ± {np.std(ttlal, ddof=1):.4f}  \"\n",
    "      f\"{np.mean(precision):.4f} ± {np.std(precision, ddof=1):.4f}  \"\n",
    "      f\"{np.mean(recall):.4f} ± {np.std(recall, ddof=1):.4f}\")\n",
    "\n",
    "    # print(\"---Accu-----pre----rec---------->\",np.mean(ttlal),'±',np.std(ttlal, ddof=1), np.mean(precision),'±',np.std(precision, ddof=1),np.mean(precision),'±',np.std(precision, ddof=1),)\n",
    "# %%%%%%\n",
    "\n",
    "def evaluate3(fname,data_loader, model, criterion=nn.CrossEntropyLoss()):\n",
    "    total_predictions = 0\n",
    "    correct_predictions = 0\n",
    "    total_loss = 0.0\n",
    "    accuracy = 0\n",
    "    datta = \"\"\n",
    "    model.eval()\n",
    "    tlv_cls=0\n",
    "    ttla=0\n",
    "    ttlac=0\n",
    "    with torch.no_grad():\n",
    "        for episode in range(len(clss_8)):\n",
    "            support_set, query_set = data_loader.__getitem__(clss_8[tlv_cls] , clss_support_imagesss_5_shot[tlv_cls])\n",
    "\n",
    "            \n",
    "            clssa=str(clss_8[tlv_cls])\n",
    "            clss=str(clssa).replace(',',' ').replace('\\'',' ').replace('\\'',' ')\n",
    "            msg=str(clss_support_imagesss_5_shot[tlv_cls])\n",
    "            str(clss_8[tlv_cls])\n",
    "\n",
    "            tlv_cls+=1\n",
    "            # print(len(support_set),len(query_set))\n",
    "            support_set = [(torch.stack(images).to(device), label[0]) for images, label in support_set]\n",
    "            query_set = [(torch.stack(images).to(device), label) for images, label in query_set]\n",
    "\n",
    "            support_images, support_labels = zip(*support_set)\n",
    "\n",
    "            query_images, query_labels = zip(*query_set)\n",
    "\n",
    "            classification_scores = model(support_images, support_labels, query_images)\n",
    "            cortt = 0\n",
    "            totl = 0\n",
    "            confusion_mat=None\n",
    "            all_predicted_labels = []\n",
    "            all_actual_labels = []\n",
    "            # print(len(classification_scores),len(query_labels))\n",
    "            for ei in range(len(classification_scores)):\n",
    "                classification_scores_each_class = classification_scores[ei]\n",
    "                # print(classification_scores_each_class)\n",
    "                predicted_labels_eachclas = torch.argmax(classification_scores_each_class, dim=1)\n",
    "                pp = predicted_labels_eachclas.tolist()\n",
    "                act = query_labels[ei]\n",
    "                all_predicted_labels.extend(pp)\n",
    "                all_actual_labels.extend(act)\n",
    "                for iiii in range(len(pp)):\n",
    "                    if pp[iiii] == act[iiii]:\n",
    "                        cortt = cortt + 1\n",
    "                totl = totl + len(pp)\n",
    "                # print(len(act))\n",
    "            accuracy = cortt / totl\n",
    "            ttla+=1\n",
    "            ttlac+=accuracy\n",
    "            # print(cortt , totl,\"Validation Accuracy:              \", cortt / totl)\n",
    "            # confusion_mat = confusion_matrix(all_actual_labels, all_predicted_labels)\n",
    "            # print(\"Confusion Matrix:\")\n",
    "            # print(confusion_mat)\n",
    "\n",
    "            # fname='./own35_mapi_5_way_1_shot'\n",
    "\n",
    "            # calculate_metrics_get_per(msg,confusion_mat,acciuracy=cortt / totl,cls=clss,flnm=fname)\n",
    "\n",
    "    print(\"---------------------->\",ttlac/ttla)\n",
    "    return ttlac/ttla"
   ]
  },
  {
   "cell_type": "code",
   "execution_count": 446,
   "metadata": {
    "scrolled": true
   },
   "outputs": [
    {
     "name": "stdout",
     "output_type": "stream",
     "text": [
      "Testing b_a_r = 0.7965, c_a_r = 0.1834, f_a_r = 0.7797\n"
     ]
    },
    {
     "name": "stderr",
     "output_type": "stream",
     "text": [
      "Using cache found in /home/asufian/.cache/torch/hub/pytorch_vision_v0.10.0\n",
      "/home/asufian/.local/share/pipx/venvs/notebook/lib/python3.12/site-packages/torchvision/models/_utils.py:208: UserWarning: The parameter 'pretrained' is deprecated since 0.13 and may be removed in the future, please use 'weights' instead.\n",
      "  warnings.warn(\n",
      "/home/asufian/.local/share/pipx/venvs/notebook/lib/python3.12/site-packages/torchvision/models/_utils.py:223: UserWarning: Arguments other than a weight enum or `None` for 'weights' are deprecated since 0.13 and may be removed in the future. The current behavior is equivalent to passing `weights=None`.\n",
      "  warnings.warn(msg)\n",
      "Using cache found in /home/asufian/.cache/torch/hub/pytorch_vision_v0.10.0\n"
     ]
    },
    {
     "name": "stdout",
     "output_type": "stream",
     "text": [
      "----------------------> 0.5392857142857143\n",
      "Evaluated Accuracy: 0.5393\n",
      "Testing b_a_r = 0.5969, c_a_r = 0.4458, f_a_r = 0.1000\n"
     ]
    },
    {
     "name": "stderr",
     "output_type": "stream",
     "text": [
      "Using cache found in /home/asufian/.cache/torch/hub/pytorch_vision_v0.10.0\n",
      "Using cache found in /home/asufian/.cache/torch/hub/pytorch_vision_v0.10.0\n"
     ]
    },
    {
     "name": "stdout",
     "output_type": "stream",
     "text": [
      "----------------------> 0.2888278388278388\n",
      "Evaluated Accuracy: 0.2888\n",
      "Testing b_a_r = 0.4592, c_a_r = 0.3337, f_a_r = 0.1429\n"
     ]
    },
    {
     "name": "stderr",
     "output_type": "stream",
     "text": [
      "Using cache found in /home/asufian/.cache/torch/hub/pytorch_vision_v0.10.0\n",
      "Using cache found in /home/asufian/.cache/torch/hub/pytorch_vision_v0.10.0\n"
     ]
    },
    {
     "name": "stdout",
     "output_type": "stream",
     "text": [
      "----------------------> 0.38122710622710626\n",
      "Evaluated Accuracy: 0.3812\n",
      "Testing b_a_r = 0.6509, c_a_r = 0.0564, f_a_r = 0.7220\n"
     ]
    },
    {
     "name": "stderr",
     "output_type": "stream",
     "text": [
      "Using cache found in /home/asufian/.cache/torch/hub/pytorch_vision_v0.10.0\n",
      "Using cache found in /home/asufian/.cache/torch/hub/pytorch_vision_v0.10.0\n"
     ]
    },
    {
     "name": "stdout",
     "output_type": "stream",
     "text": [
      "----------------------> 0.5884615384615385\n",
      "Evaluated Accuracy: 0.5885\n",
      "Testing b_a_r = 0.9386, c_a_r = 0.0008, f_a_r = 0.9922\n"
     ]
    },
    {
     "name": "stderr",
     "output_type": "stream",
     "text": [
      "Using cache found in /home/asufian/.cache/torch/hub/pytorch_vision_v0.10.0\n",
      "Using cache found in /home/asufian/.cache/torch/hub/pytorch_vision_v0.10.0\n"
     ]
    },
    {
     "name": "stdout",
     "output_type": "stream",
     "text": [
      "----------------------> 0.5921245421245421\n",
      "Evaluated Accuracy: 0.5921\n",
      "Testing b_a_r = 0.9389, c_a_r = 1.0000, f_a_r = 0.4745\n"
     ]
    },
    {
     "name": "stderr",
     "output_type": "stream",
     "text": [
      "Using cache found in /home/asufian/.cache/torch/hub/pytorch_vision_v0.10.0\n",
      "/home/asufian/.local/share/pipx/venvs/notebook/lib/python3.12/site-packages/torchvision/models/_utils.py:208: UserWarning: The parameter 'pretrained' is deprecated since 0.13 and may be removed in the future, please use 'weights' instead.\n",
      "  warnings.warn(\n",
      "/home/asufian/.local/share/pipx/venvs/notebook/lib/python3.12/site-packages/torchvision/models/_utils.py:223: UserWarning: Arguments other than a weight enum or `None` for 'weights' are deprecated since 0.13 and may be removed in the future. The current behavior is equivalent to passing `weights=None`.\n",
      "  warnings.warn(msg)\n",
      "Using cache found in /home/asufian/.cache/torch/hub/pytorch_vision_v0.10.0\n"
     ]
    },
    {
     "name": "stdout",
     "output_type": "stream",
     "text": [
      "----------------------> 0.2913003663003663\n",
      "Evaluated Accuracy: 0.2913\n",
      "Testing b_a_r = 0.0000, c_a_r = 0.0000, f_a_r = 0.0000\n"
     ]
    },
    {
     "name": "stderr",
     "output_type": "stream",
     "text": [
      "Using cache found in /home/asufian/.cache/torch/hub/pytorch_vision_v0.10.0\n",
      "/home/asufian/.local/share/pipx/venvs/notebook/lib/python3.12/site-packages/torchvision/models/_utils.py:208: UserWarning: The parameter 'pretrained' is deprecated since 0.13 and may be removed in the future, please use 'weights' instead.\n",
      "  warnings.warn(\n",
      "/home/asufian/.local/share/pipx/venvs/notebook/lib/python3.12/site-packages/torchvision/models/_utils.py:223: UserWarning: Arguments other than a weight enum or `None` for 'weights' are deprecated since 0.13 and may be removed in the future. The current behavior is equivalent to passing `weights=None`.\n",
      "  warnings.warn(msg)\n",
      "Using cache found in /home/asufian/.cache/torch/hub/pytorch_vision_v0.10.0\n"
     ]
    },
    {
     "name": "stdout",
     "output_type": "stream",
     "text": [
      "----------------------> 0.5945970695970696\n",
      "Evaluated Accuracy: 0.5946\n",
      "Testing b_a_r = 0.0042, c_a_r = 0.7617, f_a_r = 0.2483\n"
     ]
    },
    {
     "name": "stderr",
     "output_type": "stream",
     "text": [
      "Using cache found in /home/asufian/.cache/torch/hub/pytorch_vision_v0.10.0\n",
      "/home/asufian/.local/share/pipx/venvs/notebook/lib/python3.12/site-packages/torchvision/models/_utils.py:208: UserWarning: The parameter 'pretrained' is deprecated since 0.13 and may be removed in the future, please use 'weights' instead.\n",
      "  warnings.warn(\n",
      "/home/asufian/.local/share/pipx/venvs/notebook/lib/python3.12/site-packages/torchvision/models/_utils.py:223: UserWarning: Arguments other than a weight enum or `None` for 'weights' are deprecated since 0.13 and may be removed in the future. The current behavior is equivalent to passing `weights=None`.\n",
      "  warnings.warn(msg)\n",
      "Using cache found in /home/asufian/.cache/torch/hub/pytorch_vision_v0.10.0\n"
     ]
    },
    {
     "name": "stdout",
     "output_type": "stream",
     "text": [
      "----------------------> 0.25998168498168495\n",
      "Evaluated Accuracy: 0.2600\n",
      "Testing b_a_r = 0.0202, c_a_r = 0.0238, f_a_r = 0.9456\n"
     ]
    },
    {
     "name": "stderr",
     "output_type": "stream",
     "text": [
      "Using cache found in /home/asufian/.cache/torch/hub/pytorch_vision_v0.10.0\n",
      "/home/asufian/.local/share/pipx/venvs/notebook/lib/python3.12/site-packages/torchvision/models/_utils.py:208: UserWarning: The parameter 'pretrained' is deprecated since 0.13 and may be removed in the future, please use 'weights' instead.\n",
      "  warnings.warn(\n",
      "/home/asufian/.local/share/pipx/venvs/notebook/lib/python3.12/site-packages/torchvision/models/_utils.py:223: UserWarning: Arguments other than a weight enum or `None` for 'weights' are deprecated since 0.13 and may be removed in the future. The current behavior is equivalent to passing `weights=None`.\n",
      "  warnings.warn(msg)\n",
      "Using cache found in /home/asufian/.cache/torch/hub/pytorch_vision_v0.10.0\n"
     ]
    },
    {
     "name": "stdout",
     "output_type": "stream",
     "text": [
      "----------------------> 0.5923992673992674\n",
      "Evaluated Accuracy: 0.5924\n",
      "Testing b_a_r = 0.9659, c_a_r = 0.0242, f_a_r = 0.0245\n"
     ]
    },
    {
     "name": "stderr",
     "output_type": "stream",
     "text": [
      "Using cache found in /home/asufian/.cache/torch/hub/pytorch_vision_v0.10.0\n",
      "/home/asufian/.local/share/pipx/venvs/notebook/lib/python3.12/site-packages/torchvision/models/_utils.py:208: UserWarning: The parameter 'pretrained' is deprecated since 0.13 and may be removed in the future, please use 'weights' instead.\n",
      "  warnings.warn(\n",
      "/home/asufian/.local/share/pipx/venvs/notebook/lib/python3.12/site-packages/torchvision/models/_utils.py:223: UserWarning: Arguments other than a weight enum or `None` for 'weights' are deprecated since 0.13 and may be removed in the future. The current behavior is equivalent to passing `weights=None`.\n",
      "  warnings.warn(msg)\n",
      "Using cache found in /home/asufian/.cache/torch/hub/pytorch_vision_v0.10.0\n"
     ]
    },
    {
     "name": "stdout",
     "output_type": "stream",
     "text": [
      "----------------------> 0.5916666666666667\n",
      "Evaluated Accuracy: 0.5917\n",
      "Testing b_a_r = 0.0904, c_a_r = 0.0995, f_a_r = 0.0077\n"
     ]
    },
    {
     "name": "stderr",
     "output_type": "stream",
     "text": [
      "Using cache found in /home/asufian/.cache/torch/hub/pytorch_vision_v0.10.0\n",
      "/home/asufian/.local/share/pipx/venvs/notebook/lib/python3.12/site-packages/torchvision/models/_utils.py:208: UserWarning: The parameter 'pretrained' is deprecated since 0.13 and may be removed in the future, please use 'weights' instead.\n",
      "  warnings.warn(\n",
      "/home/asufian/.local/share/pipx/venvs/notebook/lib/python3.12/site-packages/torchvision/models/_utils.py:223: UserWarning: Arguments other than a weight enum or `None` for 'weights' are deprecated since 0.13 and may be removed in the future. The current behavior is equivalent to passing `weights=None`.\n",
      "  warnings.warn(msg)\n",
      "Using cache found in /home/asufian/.cache/torch/hub/pytorch_vision_v0.10.0\n"
     ]
    },
    {
     "name": "stdout",
     "output_type": "stream",
     "text": [
      "----------------------> 0.5787545787545788\n",
      "Evaluated Accuracy: 0.5788\n",
      "Testing b_a_r = 0.9504, c_a_r = 0.6137, f_a_r = 0.9291\n"
     ]
    },
    {
     "name": "stderr",
     "output_type": "stream",
     "text": [
      "Using cache found in /home/asufian/.cache/torch/hub/pytorch_vision_v0.10.0\n",
      "/home/asufian/.local/share/pipx/venvs/notebook/lib/python3.12/site-packages/torchvision/models/_utils.py:208: UserWarning: The parameter 'pretrained' is deprecated since 0.13 and may be removed in the future, please use 'weights' instead.\n",
      "  warnings.warn(\n",
      "/home/asufian/.local/share/pipx/venvs/notebook/lib/python3.12/site-packages/torchvision/models/_utils.py:223: UserWarning: Arguments other than a weight enum or `None` for 'weights' are deprecated since 0.13 and may be removed in the future. The current behavior is equivalent to passing `weights=None`.\n",
      "  warnings.warn(msg)\n",
      "Using cache found in /home/asufian/.cache/torch/hub/pytorch_vision_v0.10.0\n"
     ]
    },
    {
     "name": "stdout",
     "output_type": "stream",
     "text": [
      "----------------------> 0.23177655677655679\n",
      "Evaluated Accuracy: 0.2318\n",
      "Testing b_a_r = 0.0160, c_a_r = 0.0034, f_a_r = 0.9738\n"
     ]
    },
    {
     "name": "stderr",
     "output_type": "stream",
     "text": [
      "Using cache found in /home/asufian/.cache/torch/hub/pytorch_vision_v0.10.0\n",
      "/home/asufian/.local/share/pipx/venvs/notebook/lib/python3.12/site-packages/torchvision/models/_utils.py:208: UserWarning: The parameter 'pretrained' is deprecated since 0.13 and may be removed in the future, please use 'weights' instead.\n",
      "  warnings.warn(\n",
      "/home/asufian/.local/share/pipx/venvs/notebook/lib/python3.12/site-packages/torchvision/models/_utils.py:223: UserWarning: Arguments other than a weight enum or `None` for 'weights' are deprecated since 0.13 and may be removed in the future. The current behavior is equivalent to passing `weights=None`.\n",
      "  warnings.warn(msg)\n",
      "Using cache found in /home/asufian/.cache/torch/hub/pytorch_vision_v0.10.0\n"
     ]
    },
    {
     "name": "stdout",
     "output_type": "stream",
     "text": [
      "----------------------> 0.5940476190476189\n",
      "Evaluated Accuracy: 0.5940\n",
      "Testing b_a_r = 0.0043, c_a_r = 0.0399, f_a_r = 0.0206\n"
     ]
    },
    {
     "name": "stderr",
     "output_type": "stream",
     "text": [
      "Using cache found in /home/asufian/.cache/torch/hub/pytorch_vision_v0.10.0\n",
      "/home/asufian/.local/share/pipx/venvs/notebook/lib/python3.12/site-packages/torchvision/models/_utils.py:208: UserWarning: The parameter 'pretrained' is deprecated since 0.13 and may be removed in the future, please use 'weights' instead.\n",
      "  warnings.warn(\n",
      "/home/asufian/.local/share/pipx/venvs/notebook/lib/python3.12/site-packages/torchvision/models/_utils.py:223: UserWarning: Arguments other than a weight enum or `None` for 'weights' are deprecated since 0.13 and may be removed in the future. The current behavior is equivalent to passing `weights=None`.\n",
      "  warnings.warn(msg)\n",
      "Using cache found in /home/asufian/.cache/torch/hub/pytorch_vision_v0.10.0\n"
     ]
    },
    {
     "name": "stdout",
     "output_type": "stream",
     "text": [
      "----------------------> 0.591117216117216\n",
      "Evaluated Accuracy: 0.5911\n",
      "Testing b_a_r = 0.9520, c_a_r = 0.8952, f_a_r = 0.8044\n"
     ]
    },
    {
     "name": "stderr",
     "output_type": "stream",
     "text": [
      "Using cache found in /home/asufian/.cache/torch/hub/pytorch_vision_v0.10.0\n",
      "/home/asufian/.local/share/pipx/venvs/notebook/lib/python3.12/site-packages/torchvision/models/_utils.py:208: UserWarning: The parameter 'pretrained' is deprecated since 0.13 and may be removed in the future, please use 'weights' instead.\n",
      "  warnings.warn(\n",
      "/home/asufian/.local/share/pipx/venvs/notebook/lib/python3.12/site-packages/torchvision/models/_utils.py:223: UserWarning: Arguments other than a weight enum or `None` for 'weights' are deprecated since 0.13 and may be removed in the future. The current behavior is equivalent to passing `weights=None`.\n",
      "  warnings.warn(msg)\n",
      "Using cache found in /home/asufian/.cache/torch/hub/pytorch_vision_v0.10.0\n"
     ]
    },
    {
     "name": "stdout",
     "output_type": "stream",
     "text": [
      "----------------------> 0.28168498168498163\n",
      "Evaluated Accuracy: 0.2817\n",
      "Testing b_a_r = 0.9349, c_a_r = 0.1240, f_a_r = 0.9909\n"
     ]
    },
    {
     "name": "stderr",
     "output_type": "stream",
     "text": [
      "Using cache found in /home/asufian/.cache/torch/hub/pytorch_vision_v0.10.0\n",
      "/home/asufian/.local/share/pipx/venvs/notebook/lib/python3.12/site-packages/torchvision/models/_utils.py:208: UserWarning: The parameter 'pretrained' is deprecated since 0.13 and may be removed in the future, please use 'weights' instead.\n",
      "  warnings.warn(\n",
      "/home/asufian/.local/share/pipx/venvs/notebook/lib/python3.12/site-packages/torchvision/models/_utils.py:223: UserWarning: Arguments other than a weight enum or `None` for 'weights' are deprecated since 0.13 and may be removed in the future. The current behavior is equivalent to passing `weights=None`.\n",
      "  warnings.warn(msg)\n",
      "Using cache found in /home/asufian/.cache/torch/hub/pytorch_vision_v0.10.0\n"
     ]
    },
    {
     "name": "stdout",
     "output_type": "stream",
     "text": [
      "----------------------> 0.5712454212454212\n",
      "Evaluated Accuracy: 0.5712\n",
      "Testing b_a_r = 0.9814, c_a_r = 0.0002, f_a_r = 0.0428\n"
     ]
    },
    {
     "name": "stderr",
     "output_type": "stream",
     "text": [
      "Using cache found in /home/asufian/.cache/torch/hub/pytorch_vision_v0.10.0\n",
      "/home/asufian/.local/share/pipx/venvs/notebook/lib/python3.12/site-packages/torchvision/models/_utils.py:208: UserWarning: The parameter 'pretrained' is deprecated since 0.13 and may be removed in the future, please use 'weights' instead.\n",
      "  warnings.warn(\n",
      "/home/asufian/.local/share/pipx/venvs/notebook/lib/python3.12/site-packages/torchvision/models/_utils.py:223: UserWarning: Arguments other than a weight enum or `None` for 'weights' are deprecated since 0.13 and may be removed in the future. The current behavior is equivalent to passing `weights=None`.\n",
      "  warnings.warn(msg)\n",
      "Using cache found in /home/asufian/.cache/torch/hub/pytorch_vision_v0.10.0\n"
     ]
    },
    {
     "name": "stdout",
     "output_type": "stream",
     "text": [
      "----------------------> 0.5913919413919414\n",
      "Evaluated Accuracy: 0.5914\n",
      "Testing b_a_r = 0.9958, c_a_r = 0.0707, f_a_r = 0.0259\n"
     ]
    },
    {
     "name": "stderr",
     "output_type": "stream",
     "text": [
      "Using cache found in /home/asufian/.cache/torch/hub/pytorch_vision_v0.10.0\n",
      "/home/asufian/.local/share/pipx/venvs/notebook/lib/python3.12/site-packages/torchvision/models/_utils.py:208: UserWarning: The parameter 'pretrained' is deprecated since 0.13 and may be removed in the future, please use 'weights' instead.\n",
      "  warnings.warn(\n",
      "/home/asufian/.local/share/pipx/venvs/notebook/lib/python3.12/site-packages/torchvision/models/_utils.py:223: UserWarning: Arguments other than a weight enum or `None` for 'weights' are deprecated since 0.13 and may be removed in the future. The current behavior is equivalent to passing `weights=None`.\n",
      "  warnings.warn(msg)\n",
      "Using cache found in /home/asufian/.cache/torch/hub/pytorch_vision_v0.10.0\n"
     ]
    },
    {
     "name": "stdout",
     "output_type": "stream",
     "text": [
      "----------------------> 0.5850732600732601\n",
      "Evaluated Accuracy: 0.5851\n",
      "Testing b_a_r = 0.0403, c_a_r = 0.0746, f_a_r = 0.9928\n"
     ]
    },
    {
     "name": "stderr",
     "output_type": "stream",
     "text": [
      "Using cache found in /home/asufian/.cache/torch/hub/pytorch_vision_v0.10.0\n",
      "/home/asufian/.local/share/pipx/venvs/notebook/lib/python3.12/site-packages/torchvision/models/_utils.py:208: UserWarning: The parameter 'pretrained' is deprecated since 0.13 and may be removed in the future, please use 'weights' instead.\n",
      "  warnings.warn(\n",
      "/home/asufian/.local/share/pipx/venvs/notebook/lib/python3.12/site-packages/torchvision/models/_utils.py:223: UserWarning: Arguments other than a weight enum or `None` for 'weights' are deprecated since 0.13 and may be removed in the future. The current behavior is equivalent to passing `weights=None`.\n",
      "  warnings.warn(msg)\n",
      "Using cache found in /home/asufian/.cache/torch/hub/pytorch_vision_v0.10.0\n"
     ]
    },
    {
     "name": "stdout",
     "output_type": "stream",
     "text": [
      "----------------------> 0.5864468864468864\n",
      "Evaluated Accuracy: 0.5864\n",
      "Testing b_a_r = 0.0206, c_a_r = 0.0007, f_a_r = 0.0121\n"
     ]
    },
    {
     "name": "stderr",
     "output_type": "stream",
     "text": [
      "Using cache found in /home/asufian/.cache/torch/hub/pytorch_vision_v0.10.0\n",
      "/home/asufian/.local/share/pipx/venvs/notebook/lib/python3.12/site-packages/torchvision/models/_utils.py:208: UserWarning: The parameter 'pretrained' is deprecated since 0.13 and may be removed in the future, please use 'weights' instead.\n",
      "  warnings.warn(\n",
      "/home/asufian/.local/share/pipx/venvs/notebook/lib/python3.12/site-packages/torchvision/models/_utils.py:223: UserWarning: Arguments other than a weight enum or `None` for 'weights' are deprecated since 0.13 and may be removed in the future. The current behavior is equivalent to passing `weights=None`.\n",
      "  warnings.warn(msg)\n",
      "Using cache found in /home/asufian/.cache/torch/hub/pytorch_vision_v0.10.0\n"
     ]
    },
    {
     "name": "stdout",
     "output_type": "stream",
     "text": [
      "----------------------> 0.5943223443223443\n",
      "Evaluated Accuracy: 0.5943\n",
      "Testing b_a_r = 0.9308, c_a_r = 0.0008, f_a_r = 0.9416\n"
     ]
    },
    {
     "name": "stderr",
     "output_type": "stream",
     "text": [
      "Using cache found in /home/asufian/.cache/torch/hub/pytorch_vision_v0.10.0\n",
      "/home/asufian/.local/share/pipx/venvs/notebook/lib/python3.12/site-packages/torchvision/models/_utils.py:208: UserWarning: The parameter 'pretrained' is deprecated since 0.13 and may be removed in the future, please use 'weights' instead.\n",
      "  warnings.warn(\n",
      "/home/asufian/.local/share/pipx/venvs/notebook/lib/python3.12/site-packages/torchvision/models/_utils.py:223: UserWarning: Arguments other than a weight enum or `None` for 'weights' are deprecated since 0.13 and may be removed in the future. The current behavior is equivalent to passing `weights=None`.\n",
      "  warnings.warn(msg)\n",
      "Using cache found in /home/asufian/.cache/torch/hub/pytorch_vision_v0.10.0\n"
     ]
    },
    {
     "name": "stdout",
     "output_type": "stream",
     "text": [
      "----------------------> 0.5923076923076923\n",
      "Evaluated Accuracy: 0.5923\n",
      "Testing b_a_r = 0.9743, c_a_r = 0.0244, f_a_r = 0.9926\n"
     ]
    },
    {
     "name": "stderr",
     "output_type": "stream",
     "text": [
      "Using cache found in /home/asufian/.cache/torch/hub/pytorch_vision_v0.10.0\n",
      "/home/asufian/.local/share/pipx/venvs/notebook/lib/python3.12/site-packages/torchvision/models/_utils.py:208: UserWarning: The parameter 'pretrained' is deprecated since 0.13 and may be removed in the future, please use 'weights' instead.\n",
      "  warnings.warn(\n",
      "/home/asufian/.local/share/pipx/venvs/notebook/lib/python3.12/site-packages/torchvision/models/_utils.py:223: UserWarning: Arguments other than a weight enum or `None` for 'weights' are deprecated since 0.13 and may be removed in the future. The current behavior is equivalent to passing `weights=None`.\n",
      "  warnings.warn(msg)\n",
      "Using cache found in /home/asufian/.cache/torch/hub/pytorch_vision_v0.10.0\n"
     ]
    },
    {
     "name": "stdout",
     "output_type": "stream",
     "text": [
      "----------------------> 0.5917582417582419\n",
      "Evaluated Accuracy: 0.5918\n",
      "Testing b_a_r = 0.0215, c_a_r = 0.0194, f_a_r = 0.9461\n"
     ]
    },
    {
     "name": "stderr",
     "output_type": "stream",
     "text": [
      "Using cache found in /home/asufian/.cache/torch/hub/pytorch_vision_v0.10.0\n",
      "/home/asufian/.local/share/pipx/venvs/notebook/lib/python3.12/site-packages/torchvision/models/_utils.py:208: UserWarning: The parameter 'pretrained' is deprecated since 0.13 and may be removed in the future, please use 'weights' instead.\n",
      "  warnings.warn(\n",
      "/home/asufian/.local/share/pipx/venvs/notebook/lib/python3.12/site-packages/torchvision/models/_utils.py:223: UserWarning: Arguments other than a weight enum or `None` for 'weights' are deprecated since 0.13 and may be removed in the future. The current behavior is equivalent to passing `weights=None`.\n",
      "  warnings.warn(msg)\n",
      "Using cache found in /home/asufian/.cache/torch/hub/pytorch_vision_v0.10.0\n"
     ]
    },
    {
     "name": "stdout",
     "output_type": "stream",
     "text": [
      "----------------------> 0.5933150183150183\n",
      "Evaluated Accuracy: 0.5933\n",
      "Testing b_a_r = 0.0898, c_a_r = 0.0004, f_a_r = 0.9595\n"
     ]
    },
    {
     "name": "stderr",
     "output_type": "stream",
     "text": [
      "Using cache found in /home/asufian/.cache/torch/hub/pytorch_vision_v0.10.0\n",
      "/home/asufian/.local/share/pipx/venvs/notebook/lib/python3.12/site-packages/torchvision/models/_utils.py:208: UserWarning: The parameter 'pretrained' is deprecated since 0.13 and may be removed in the future, please use 'weights' instead.\n",
      "  warnings.warn(\n",
      "/home/asufian/.local/share/pipx/venvs/notebook/lib/python3.12/site-packages/torchvision/models/_utils.py:223: UserWarning: Arguments other than a weight enum or `None` for 'weights' are deprecated since 0.13 and may be removed in the future. The current behavior is equivalent to passing `weights=None`.\n",
      "  warnings.warn(msg)\n",
      "Using cache found in /home/asufian/.cache/torch/hub/pytorch_vision_v0.10.0\n"
     ]
    },
    {
     "name": "stdout",
     "output_type": "stream",
     "text": [
      "----------------------> 0.5941391941391941\n",
      "Evaluated Accuracy: 0.5941\n",
      "Testing b_a_r = 0.5492, c_a_r = 0.3636, f_a_r = 0.1470\n"
     ]
    },
    {
     "name": "stderr",
     "output_type": "stream",
     "text": [
      "Using cache found in /home/asufian/.cache/torch/hub/pytorch_vision_v0.10.0\n",
      "/home/asufian/.local/share/pipx/venvs/notebook/lib/python3.12/site-packages/torchvision/models/_utils.py:208: UserWarning: The parameter 'pretrained' is deprecated since 0.13 and may be removed in the future, please use 'weights' instead.\n",
      "  warnings.warn(\n",
      "/home/asufian/.local/share/pipx/venvs/notebook/lib/python3.12/site-packages/torchvision/models/_utils.py:223: UserWarning: Arguments other than a weight enum or `None` for 'weights' are deprecated since 0.13 and may be removed in the future. The current behavior is equivalent to passing `weights=None`.\n",
      "  warnings.warn(msg)\n",
      "Using cache found in /home/asufian/.cache/torch/hub/pytorch_vision_v0.10.0\n"
     ]
    },
    {
     "name": "stdout",
     "output_type": "stream",
     "text": [
      "----------------------> 0.3517399267399267\n",
      "Evaluated Accuracy: 0.3517\n",
      "Testing b_a_r = 0.3514, c_a_r = 0.0803, f_a_r = 0.1774\n"
     ]
    },
    {
     "name": "stderr",
     "output_type": "stream",
     "text": [
      "Using cache found in /home/asufian/.cache/torch/hub/pytorch_vision_v0.10.0\n",
      "/home/asufian/.local/share/pipx/venvs/notebook/lib/python3.12/site-packages/torchvision/models/_utils.py:208: UserWarning: The parameter 'pretrained' is deprecated since 0.13 and may be removed in the future, please use 'weights' instead.\n",
      "  warnings.warn(\n",
      "/home/asufian/.local/share/pipx/venvs/notebook/lib/python3.12/site-packages/torchvision/models/_utils.py:223: UserWarning: Arguments other than a weight enum or `None` for 'weights' are deprecated since 0.13 and may be removed in the future. The current behavior is equivalent to passing `weights=None`.\n",
      "  warnings.warn(msg)\n",
      "Using cache found in /home/asufian/.cache/torch/hub/pytorch_vision_v0.10.0\n"
     ]
    },
    {
     "name": "stdout",
     "output_type": "stream",
     "text": [
      "----------------------> 0.5836080586080586\n",
      "Evaluated Accuracy: 0.5836\n",
      "Testing b_a_r = 0.3660, c_a_r = 0.9677, f_a_r = 0.4138\n"
     ]
    },
    {
     "name": "stderr",
     "output_type": "stream",
     "text": [
      "Using cache found in /home/asufian/.cache/torch/hub/pytorch_vision_v0.10.0\n",
      "/home/asufian/.local/share/pipx/venvs/notebook/lib/python3.12/site-packages/torchvision/models/_utils.py:208: UserWarning: The parameter 'pretrained' is deprecated since 0.13 and may be removed in the future, please use 'weights' instead.\n",
      "  warnings.warn(\n",
      "/home/asufian/.local/share/pipx/venvs/notebook/lib/python3.12/site-packages/torchvision/models/_utils.py:223: UserWarning: Arguments other than a weight enum or `None` for 'weights' are deprecated since 0.13 and may be removed in the future. The current behavior is equivalent to passing `weights=None`.\n",
      "  warnings.warn(msg)\n",
      "Using cache found in /home/asufian/.cache/torch/hub/pytorch_vision_v0.10.0\n"
     ]
    },
    {
     "name": "stdout",
     "output_type": "stream",
     "text": [
      "----------------------> 0.3010989010989011\n",
      "Evaluated Accuracy: 0.3011\n",
      "Testing b_a_r = 0.0109, c_a_r = 0.1494, f_a_r = 0.9997\n"
     ]
    },
    {
     "name": "stderr",
     "output_type": "stream",
     "text": [
      "Using cache found in /home/asufian/.cache/torch/hub/pytorch_vision_v0.10.0\n",
      "/home/asufian/.local/share/pipx/venvs/notebook/lib/python3.12/site-packages/torchvision/models/_utils.py:208: UserWarning: The parameter 'pretrained' is deprecated since 0.13 and may be removed in the future, please use 'weights' instead.\n",
      "  warnings.warn(\n",
      "/home/asufian/.local/share/pipx/venvs/notebook/lib/python3.12/site-packages/torchvision/models/_utils.py:223: UserWarning: Arguments other than a weight enum or `None` for 'weights' are deprecated since 0.13 and may be removed in the future. The current behavior is equivalent to passing `weights=None`.\n",
      "  warnings.warn(msg)\n",
      "Using cache found in /home/asufian/.cache/torch/hub/pytorch_vision_v0.10.0\n"
     ]
    },
    {
     "name": "stdout",
     "output_type": "stream",
     "text": [
      "----------------------> 0.5597985347985348\n",
      "Evaluated Accuracy: 0.5598\n",
      "Testing b_a_r = 0.0761, c_a_r = 0.0015, f_a_r = 0.9661\n"
     ]
    },
    {
     "name": "stderr",
     "output_type": "stream",
     "text": [
      "Using cache found in /home/asufian/.cache/torch/hub/pytorch_vision_v0.10.0\n",
      "/home/asufian/.local/share/pipx/venvs/notebook/lib/python3.12/site-packages/torchvision/models/_utils.py:208: UserWarning: The parameter 'pretrained' is deprecated since 0.13 and may be removed in the future, please use 'weights' instead.\n",
      "  warnings.warn(\n",
      "/home/asufian/.local/share/pipx/venvs/notebook/lib/python3.12/site-packages/torchvision/models/_utils.py:223: UserWarning: Arguments other than a weight enum or `None` for 'weights' are deprecated since 0.13 and may be removed in the future. The current behavior is equivalent to passing `weights=None`.\n",
      "  warnings.warn(msg)\n",
      "Using cache found in /home/asufian/.cache/torch/hub/pytorch_vision_v0.10.0\n"
     ]
    },
    {
     "name": "stdout",
     "output_type": "stream",
     "text": [
      "----------------------> 0.5943223443223443\n",
      "Evaluated Accuracy: 0.5943\n",
      "Testing b_a_r = 0.6973, c_a_r = 0.0021, f_a_r = 0.4851\n"
     ]
    },
    {
     "name": "stderr",
     "output_type": "stream",
     "text": [
      "Using cache found in /home/asufian/.cache/torch/hub/pytorch_vision_v0.10.0\n",
      "/home/asufian/.local/share/pipx/venvs/notebook/lib/python3.12/site-packages/torchvision/models/_utils.py:208: UserWarning: The parameter 'pretrained' is deprecated since 0.13 and may be removed in the future, please use 'weights' instead.\n",
      "  warnings.warn(\n",
      "/home/asufian/.local/share/pipx/venvs/notebook/lib/python3.12/site-packages/torchvision/models/_utils.py:223: UserWarning: Arguments other than a weight enum or `None` for 'weights' are deprecated since 0.13 and may be removed in the future. The current behavior is equivalent to passing `weights=None`.\n",
      "  warnings.warn(msg)\n",
      "Using cache found in /home/asufian/.cache/torch/hub/pytorch_vision_v0.10.0\n"
     ]
    },
    {
     "name": "stdout",
     "output_type": "stream",
     "text": [
      "----------------------> 0.5928571428571429\n",
      "Evaluated Accuracy: 0.5929\n",
      "Testing b_a_r = 0.5934, c_a_r = 0.9124, f_a_r = 0.4169\n"
     ]
    },
    {
     "name": "stderr",
     "output_type": "stream",
     "text": [
      "Using cache found in /home/asufian/.cache/torch/hub/pytorch_vision_v0.10.0\n",
      "/home/asufian/.local/share/pipx/venvs/notebook/lib/python3.12/site-packages/torchvision/models/_utils.py:208: UserWarning: The parameter 'pretrained' is deprecated since 0.13 and may be removed in the future, please use 'weights' instead.\n",
      "  warnings.warn(\n",
      "/home/asufian/.local/share/pipx/venvs/notebook/lib/python3.12/site-packages/torchvision/models/_utils.py:223: UserWarning: Arguments other than a weight enum or `None` for 'weights' are deprecated since 0.13 and may be removed in the future. The current behavior is equivalent to passing `weights=None`.\n",
      "  warnings.warn(msg)\n",
      "Using cache found in /home/asufian/.cache/torch/hub/pytorch_vision_v0.10.0\n"
     ]
    },
    {
     "name": "stdout",
     "output_type": "stream",
     "text": [
      "----------------------> 0.28928571428571426\n",
      "Evaluated Accuracy: 0.2893\n",
      "Testing b_a_r = 0.8819, c_a_r = 0.8355, f_a_r = 0.4599\n"
     ]
    },
    {
     "name": "stderr",
     "output_type": "stream",
     "text": [
      "Using cache found in /home/asufian/.cache/torch/hub/pytorch_vision_v0.10.0\n",
      "/home/asufian/.local/share/pipx/venvs/notebook/lib/python3.12/site-packages/torchvision/models/_utils.py:208: UserWarning: The parameter 'pretrained' is deprecated since 0.13 and may be removed in the future, please use 'weights' instead.\n",
      "  warnings.warn(\n",
      "/home/asufian/.local/share/pipx/venvs/notebook/lib/python3.12/site-packages/torchvision/models/_utils.py:223: UserWarning: Arguments other than a weight enum or `None` for 'weights' are deprecated since 0.13 and may be removed in the future. The current behavior is equivalent to passing `weights=None`.\n",
      "  warnings.warn(msg)\n",
      "Using cache found in /home/asufian/.cache/torch/hub/pytorch_vision_v0.10.0\n"
     ]
    },
    {
     "name": "stdout",
     "output_type": "stream",
     "text": [
      "----------------------> 0.2695970695970696\n",
      "Evaluated Accuracy: 0.2696\n",
      "Testing b_a_r = 0.6987, c_a_r = 0.6937, f_a_r = 0.5780\n"
     ]
    },
    {
     "name": "stderr",
     "output_type": "stream",
     "text": [
      "Using cache found in /home/asufian/.cache/torch/hub/pytorch_vision_v0.10.0\n",
      "/home/asufian/.local/share/pipx/venvs/notebook/lib/python3.12/site-packages/torchvision/models/_utils.py:208: UserWarning: The parameter 'pretrained' is deprecated since 0.13 and may be removed in the future, please use 'weights' instead.\n",
      "  warnings.warn(\n",
      "/home/asufian/.local/share/pipx/venvs/notebook/lib/python3.12/site-packages/torchvision/models/_utils.py:223: UserWarning: Arguments other than a weight enum or `None` for 'weights' are deprecated since 0.13 and may be removed in the future. The current behavior is equivalent to passing `weights=None`.\n",
      "  warnings.warn(msg)\n",
      "Using cache found in /home/asufian/.cache/torch/hub/pytorch_vision_v0.10.0\n"
     ]
    },
    {
     "name": "stdout",
     "output_type": "stream",
     "text": [
      "----------------------> 0.24624542124542123\n",
      "Evaluated Accuracy: 0.2462\n",
      "Testing b_a_r = 0.5495, c_a_r = 0.3453, f_a_r = 0.2680\n"
     ]
    },
    {
     "name": "stderr",
     "output_type": "stream",
     "text": [
      "Using cache found in /home/asufian/.cache/torch/hub/pytorch_vision_v0.10.0\n",
      "/home/asufian/.local/share/pipx/venvs/notebook/lib/python3.12/site-packages/torchvision/models/_utils.py:208: UserWarning: The parameter 'pretrained' is deprecated since 0.13 and may be removed in the future, please use 'weights' instead.\n",
      "  warnings.warn(\n",
      "/home/asufian/.local/share/pipx/venvs/notebook/lib/python3.12/site-packages/torchvision/models/_utils.py:223: UserWarning: Arguments other than a weight enum or `None` for 'weights' are deprecated since 0.13 and may be removed in the future. The current behavior is equivalent to passing `weights=None`.\n",
      "  warnings.warn(msg)\n",
      "Using cache found in /home/asufian/.cache/torch/hub/pytorch_vision_v0.10.0\n"
     ]
    },
    {
     "name": "stdout",
     "output_type": "stream",
     "text": [
      "----------------------> 0.36978021978021985\n",
      "Evaluated Accuracy: 0.3698\n",
      "Testing b_a_r = 0.2139, c_a_r = 0.9556, f_a_r = 0.7926\n"
     ]
    },
    {
     "name": "stderr",
     "output_type": "stream",
     "text": [
      "Using cache found in /home/asufian/.cache/torch/hub/pytorch_vision_v0.10.0\n",
      "/home/asufian/.local/share/pipx/venvs/notebook/lib/python3.12/site-packages/torchvision/models/_utils.py:208: UserWarning: The parameter 'pretrained' is deprecated since 0.13 and may be removed in the future, please use 'weights' instead.\n",
      "  warnings.warn(\n",
      "/home/asufian/.local/share/pipx/venvs/notebook/lib/python3.12/site-packages/torchvision/models/_utils.py:223: UserWarning: Arguments other than a weight enum or `None` for 'weights' are deprecated since 0.13 and may be removed in the future. The current behavior is equivalent to passing `weights=None`.\n",
      "  warnings.warn(msg)\n",
      "Using cache found in /home/asufian/.cache/torch/hub/pytorch_vision_v0.10.0\n"
     ]
    },
    {
     "name": "stdout",
     "output_type": "stream",
     "text": [
      "----------------------> 0.29633699633699634\n",
      "Evaluated Accuracy: 0.2963\n",
      "Testing b_a_r = 0.9891, c_a_r = 0.1497, f_a_r = 0.0023\n"
     ]
    },
    {
     "name": "stderr",
     "output_type": "stream",
     "text": [
      "Using cache found in /home/asufian/.cache/torch/hub/pytorch_vision_v0.10.0\n",
      "/home/asufian/.local/share/pipx/venvs/notebook/lib/python3.12/site-packages/torchvision/models/_utils.py:208: UserWarning: The parameter 'pretrained' is deprecated since 0.13 and may be removed in the future, please use 'weights' instead.\n",
      "  warnings.warn(\n",
      "/home/asufian/.local/share/pipx/venvs/notebook/lib/python3.12/site-packages/torchvision/models/_utils.py:223: UserWarning: Arguments other than a weight enum or `None` for 'weights' are deprecated since 0.13 and may be removed in the future. The current behavior is equivalent to passing `weights=None`.\n",
      "  warnings.warn(msg)\n",
      "Using cache found in /home/asufian/.cache/torch/hub/pytorch_vision_v0.10.0\n"
     ]
    },
    {
     "name": "stdout",
     "output_type": "stream",
     "text": [
      "----------------------> 0.5601648351648351\n",
      "Evaluated Accuracy: 0.5602\n",
      "Testing b_a_r = 0.0009, c_a_r = 0.0187, f_a_r = 0.0606\n"
     ]
    },
    {
     "name": "stderr",
     "output_type": "stream",
     "text": [
      "Using cache found in /home/asufian/.cache/torch/hub/pytorch_vision_v0.10.0\n",
      "/home/asufian/.local/share/pipx/venvs/notebook/lib/python3.12/site-packages/torchvision/models/_utils.py:208: UserWarning: The parameter 'pretrained' is deprecated since 0.13 and may be removed in the future, please use 'weights' instead.\n",
      "  warnings.warn(\n",
      "/home/asufian/.local/share/pipx/venvs/notebook/lib/python3.12/site-packages/torchvision/models/_utils.py:223: UserWarning: Arguments other than a weight enum or `None` for 'weights' are deprecated since 0.13 and may be removed in the future. The current behavior is equivalent to passing `weights=None`.\n",
      "  warnings.warn(msg)\n",
      "Using cache found in /home/asufian/.cache/torch/hub/pytorch_vision_v0.10.0\n"
     ]
    },
    {
     "name": "stdout",
     "output_type": "stream",
     "text": [
      "----------------------> 0.593956043956044\n",
      "Evaluated Accuracy: 0.5940\n",
      "Testing b_a_r = 0.0133, c_a_r = 0.2290, f_a_r = 0.0242\n"
     ]
    },
    {
     "name": "stderr",
     "output_type": "stream",
     "text": [
      "Using cache found in /home/asufian/.cache/torch/hub/pytorch_vision_v0.10.0\n",
      "/home/asufian/.local/share/pipx/venvs/notebook/lib/python3.12/site-packages/torchvision/models/_utils.py:208: UserWarning: The parameter 'pretrained' is deprecated since 0.13 and may be removed in the future, please use 'weights' instead.\n",
      "  warnings.warn(\n",
      "/home/asufian/.local/share/pipx/venvs/notebook/lib/python3.12/site-packages/torchvision/models/_utils.py:223: UserWarning: Arguments other than a weight enum or `None` for 'weights' are deprecated since 0.13 and may be removed in the future. The current behavior is equivalent to passing `weights=None`.\n",
      "  warnings.warn(msg)\n",
      "Using cache found in /home/asufian/.cache/torch/hub/pytorch_vision_v0.10.0\n"
     ]
    },
    {
     "name": "stdout",
     "output_type": "stream",
     "text": [
      "----------------------> 0.5022893772893773\n",
      "Evaluated Accuracy: 0.5023\n",
      "Testing b_a_r = 0.8633, c_a_r = 0.3292, f_a_r = 0.3234\n"
     ]
    },
    {
     "name": "stderr",
     "output_type": "stream",
     "text": [
      "Using cache found in /home/asufian/.cache/torch/hub/pytorch_vision_v0.10.0\n",
      "/home/asufian/.local/share/pipx/venvs/notebook/lib/python3.12/site-packages/torchvision/models/_utils.py:208: UserWarning: The parameter 'pretrained' is deprecated since 0.13 and may be removed in the future, please use 'weights' instead.\n",
      "  warnings.warn(\n",
      "/home/asufian/.local/share/pipx/venvs/notebook/lib/python3.12/site-packages/torchvision/models/_utils.py:223: UserWarning: Arguments other than a weight enum or `None` for 'weights' are deprecated since 0.13 and may be removed in the future. The current behavior is equivalent to passing `weights=None`.\n",
      "  warnings.warn(msg)\n",
      "Using cache found in /home/asufian/.cache/torch/hub/pytorch_vision_v0.10.0\n"
     ]
    },
    {
     "name": "stdout",
     "output_type": "stream",
     "text": [
      "----------------------> 0.38516483516483524\n",
      "Evaluated Accuracy: 0.3852\n",
      "Testing b_a_r = 0.9744, c_a_r = 0.6754, f_a_r = 0.2546\n"
     ]
    },
    {
     "name": "stderr",
     "output_type": "stream",
     "text": [
      "Using cache found in /home/asufian/.cache/torch/hub/pytorch_vision_v0.10.0\n",
      "/home/asufian/.local/share/pipx/venvs/notebook/lib/python3.12/site-packages/torchvision/models/_utils.py:208: UserWarning: The parameter 'pretrained' is deprecated since 0.13 and may be removed in the future, please use 'weights' instead.\n",
      "  warnings.warn(\n",
      "/home/asufian/.local/share/pipx/venvs/notebook/lib/python3.12/site-packages/torchvision/models/_utils.py:223: UserWarning: Arguments other than a weight enum or `None` for 'weights' are deprecated since 0.13 and may be removed in the future. The current behavior is equivalent to passing `weights=None`.\n",
      "  warnings.warn(msg)\n",
      "Using cache found in /home/asufian/.cache/torch/hub/pytorch_vision_v0.10.0\n"
     ]
    },
    {
     "name": "stdout",
     "output_type": "stream",
     "text": [
      "----------------------> 0.240018315018315\n",
      "Evaluated Accuracy: 0.2400\n",
      "Testing b_a_r = 0.0043, c_a_r = 0.0494, f_a_r = 0.9724\n"
     ]
    },
    {
     "name": "stderr",
     "output_type": "stream",
     "text": [
      "Using cache found in /home/asufian/.cache/torch/hub/pytorch_vision_v0.10.0\n",
      "/home/asufian/.local/share/pipx/venvs/notebook/lib/python3.12/site-packages/torchvision/models/_utils.py:208: UserWarning: The parameter 'pretrained' is deprecated since 0.13 and may be removed in the future, please use 'weights' instead.\n",
      "  warnings.warn(\n",
      "/home/asufian/.local/share/pipx/venvs/notebook/lib/python3.12/site-packages/torchvision/models/_utils.py:223: UserWarning: Arguments other than a weight enum or `None` for 'weights' are deprecated since 0.13 and may be removed in the future. The current behavior is equivalent to passing `weights=None`.\n",
      "  warnings.warn(msg)\n",
      "Using cache found in /home/asufian/.cache/torch/hub/pytorch_vision_v0.10.0\n"
     ]
    },
    {
     "name": "stdout",
     "output_type": "stream",
     "text": [
      "----------------------> 0.5918498168498169\n",
      "Evaluated Accuracy: 0.5918\n",
      "Testing b_a_r = 0.0022, c_a_r = 0.0402, f_a_r = 0.0099\n"
     ]
    },
    {
     "name": "stderr",
     "output_type": "stream",
     "text": [
      "Using cache found in /home/asufian/.cache/torch/hub/pytorch_vision_v0.10.0\n",
      "/home/asufian/.local/share/pipx/venvs/notebook/lib/python3.12/site-packages/torchvision/models/_utils.py:208: UserWarning: The parameter 'pretrained' is deprecated since 0.13 and may be removed in the future, please use 'weights' instead.\n",
      "  warnings.warn(\n",
      "/home/asufian/.local/share/pipx/venvs/notebook/lib/python3.12/site-packages/torchvision/models/_utils.py:223: UserWarning: Arguments other than a weight enum or `None` for 'weights' are deprecated since 0.13 and may be removed in the future. The current behavior is equivalent to passing `weights=None`.\n",
      "  warnings.warn(msg)\n",
      "Using cache found in /home/asufian/.cache/torch/hub/pytorch_vision_v0.10.0\n"
     ]
    },
    {
     "name": "stdout",
     "output_type": "stream",
     "text": [
      "----------------------> 0.591025641025641\n",
      "Evaluated Accuracy: 0.5910\n",
      "Testing b_a_r = 0.3047, c_a_r = 0.4144, f_a_r = 0.0875\n"
     ]
    },
    {
     "name": "stderr",
     "output_type": "stream",
     "text": [
      "Using cache found in /home/asufian/.cache/torch/hub/pytorch_vision_v0.10.0\n",
      "/home/asufian/.local/share/pipx/venvs/notebook/lib/python3.12/site-packages/torchvision/models/_utils.py:208: UserWarning: The parameter 'pretrained' is deprecated since 0.13 and may be removed in the future, please use 'weights' instead.\n",
      "  warnings.warn(\n",
      "/home/asufian/.local/share/pipx/venvs/notebook/lib/python3.12/site-packages/torchvision/models/_utils.py:223: UserWarning: Arguments other than a weight enum or `None` for 'weights' are deprecated since 0.13 and may be removed in the future. The current behavior is equivalent to passing `weights=None`.\n",
      "  warnings.warn(msg)\n",
      "Using cache found in /home/asufian/.cache/torch/hub/pytorch_vision_v0.10.0\n"
     ]
    },
    {
     "name": "stdout",
     "output_type": "stream",
     "text": [
      "----------------------> 0.30558608058608056\n",
      "Evaluated Accuracy: 0.3056\n",
      "Testing b_a_r = 0.9738, c_a_r = 0.0412, f_a_r = 0.9393\n"
     ]
    },
    {
     "name": "stderr",
     "output_type": "stream",
     "text": [
      "Using cache found in /home/asufian/.cache/torch/hub/pytorch_vision_v0.10.0\n",
      "/home/asufian/.local/share/pipx/venvs/notebook/lib/python3.12/site-packages/torchvision/models/_utils.py:208: UserWarning: The parameter 'pretrained' is deprecated since 0.13 and may be removed in the future, please use 'weights' instead.\n",
      "  warnings.warn(\n",
      "/home/asufian/.local/share/pipx/venvs/notebook/lib/python3.12/site-packages/torchvision/models/_utils.py:223: UserWarning: Arguments other than a weight enum or `None` for 'weights' are deprecated since 0.13 and may be removed in the future. The current behavior is equivalent to passing `weights=None`.\n",
      "  warnings.warn(msg)\n",
      "Using cache found in /home/asufian/.cache/torch/hub/pytorch_vision_v0.10.0\n"
     ]
    },
    {
     "name": "stdout",
     "output_type": "stream",
     "text": [
      "----------------------> 0.5898351648351648\n",
      "Evaluated Accuracy: 0.5898\n",
      "Testing b_a_r = 0.0036, c_a_r = 0.0138, f_a_r = 0.0762\n"
     ]
    },
    {
     "name": "stderr",
     "output_type": "stream",
     "text": [
      "Using cache found in /home/asufian/.cache/torch/hub/pytorch_vision_v0.10.0\n",
      "/home/asufian/.local/share/pipx/venvs/notebook/lib/python3.12/site-packages/torchvision/models/_utils.py:208: UserWarning: The parameter 'pretrained' is deprecated since 0.13 and may be removed in the future, please use 'weights' instead.\n",
      "  warnings.warn(\n",
      "/home/asufian/.local/share/pipx/venvs/notebook/lib/python3.12/site-packages/torchvision/models/_utils.py:223: UserWarning: Arguments other than a weight enum or `None` for 'weights' are deprecated since 0.13 and may be removed in the future. The current behavior is equivalent to passing `weights=None`.\n",
      "  warnings.warn(msg)\n",
      "Using cache found in /home/asufian/.cache/torch/hub/pytorch_vision_v0.10.0\n"
     ]
    },
    {
     "name": "stdout",
     "output_type": "stream",
     "text": [
      "----------------------> 0.5941391941391941\n",
      "Evaluated Accuracy: 0.5941\n",
      "Testing b_a_r = 0.8970, c_a_r = 0.6209, f_a_r = 0.2377\n"
     ]
    },
    {
     "name": "stderr",
     "output_type": "stream",
     "text": [
      "Using cache found in /home/asufian/.cache/torch/hub/pytorch_vision_v0.10.0\n",
      "/home/asufian/.local/share/pipx/venvs/notebook/lib/python3.12/site-packages/torchvision/models/_utils.py:208: UserWarning: The parameter 'pretrained' is deprecated since 0.13 and may be removed in the future, please use 'weights' instead.\n",
      "  warnings.warn(\n",
      "/home/asufian/.local/share/pipx/venvs/notebook/lib/python3.12/site-packages/torchvision/models/_utils.py:223: UserWarning: Arguments other than a weight enum or `None` for 'weights' are deprecated since 0.13 and may be removed in the future. The current behavior is equivalent to passing `weights=None`.\n",
      "  warnings.warn(msg)\n",
      "Using cache found in /home/asufian/.cache/torch/hub/pytorch_vision_v0.10.0\n"
     ]
    },
    {
     "name": "stdout",
     "output_type": "stream",
     "text": [
      "----------------------> 0.2323260073260073\n",
      "Evaluated Accuracy: 0.2323\n",
      "Testing b_a_r = 0.2266, c_a_r = 0.9932, f_a_r = 0.4226\n"
     ]
    },
    {
     "name": "stderr",
     "output_type": "stream",
     "text": [
      "Using cache found in /home/asufian/.cache/torch/hub/pytorch_vision_v0.10.0\n",
      "/home/asufian/.local/share/pipx/venvs/notebook/lib/python3.12/site-packages/torchvision/models/_utils.py:208: UserWarning: The parameter 'pretrained' is deprecated since 0.13 and may be removed in the future, please use 'weights' instead.\n",
      "  warnings.warn(\n",
      "/home/asufian/.local/share/pipx/venvs/notebook/lib/python3.12/site-packages/torchvision/models/_utils.py:223: UserWarning: Arguments other than a weight enum or `None` for 'weights' are deprecated since 0.13 and may be removed in the future. The current behavior is equivalent to passing `weights=None`.\n",
      "  warnings.warn(msg)\n",
      "Using cache found in /home/asufian/.cache/torch/hub/pytorch_vision_v0.10.0\n"
     ]
    },
    {
     "name": "stdout",
     "output_type": "stream",
     "text": [
      "----------------------> 0.29871794871794866\n",
      "Evaluated Accuracy: 0.2987\n",
      "Testing b_a_r = 0.4350, c_a_r = 0.8334, f_a_r = 0.1376\n"
     ]
    },
    {
     "name": "stderr",
     "output_type": "stream",
     "text": [
      "Using cache found in /home/asufian/.cache/torch/hub/pytorch_vision_v0.10.0\n",
      "/home/asufian/.local/share/pipx/venvs/notebook/lib/python3.12/site-packages/torchvision/models/_utils.py:208: UserWarning: The parameter 'pretrained' is deprecated since 0.13 and may be removed in the future, please use 'weights' instead.\n",
      "  warnings.warn(\n",
      "/home/asufian/.local/share/pipx/venvs/notebook/lib/python3.12/site-packages/torchvision/models/_utils.py:223: UserWarning: Arguments other than a weight enum or `None` for 'weights' are deprecated since 0.13 and may be removed in the future. The current behavior is equivalent to passing `weights=None`.\n",
      "  warnings.warn(msg)\n",
      "Using cache found in /home/asufian/.cache/torch/hub/pytorch_vision_v0.10.0\n"
     ]
    },
    {
     "name": "stdout",
     "output_type": "stream",
     "text": [
      "----------------------> 0.2756410256410256\n",
      "Evaluated Accuracy: 0.2756\n",
      "Testing b_a_r = 0.9902, c_a_r = 0.0869, f_a_r = 0.9800\n"
     ]
    },
    {
     "name": "stderr",
     "output_type": "stream",
     "text": [
      "Using cache found in /home/asufian/.cache/torch/hub/pytorch_vision_v0.10.0\n",
      "/home/asufian/.local/share/pipx/venvs/notebook/lib/python3.12/site-packages/torchvision/models/_utils.py:208: UserWarning: The parameter 'pretrained' is deprecated since 0.13 and may be removed in the future, please use 'weights' instead.\n",
      "  warnings.warn(\n",
      "/home/asufian/.local/share/pipx/venvs/notebook/lib/python3.12/site-packages/torchvision/models/_utils.py:223: UserWarning: Arguments other than a weight enum or `None` for 'weights' are deprecated since 0.13 and may be removed in the future. The current behavior is equivalent to passing `weights=None`.\n",
      "  warnings.warn(msg)\n",
      "Using cache found in /home/asufian/.cache/torch/hub/pytorch_vision_v0.10.0\n"
     ]
    },
    {
     "name": "stdout",
     "output_type": "stream",
     "text": [
      "----------------------> 0.5810439560439561\n",
      "Evaluated Accuracy: 0.5810\n",
      "Testing b_a_r = 0.0440, c_a_r = 0.0006, f_a_r = 0.0998\n"
     ]
    },
    {
     "name": "stderr",
     "output_type": "stream",
     "text": [
      "Using cache found in /home/asufian/.cache/torch/hub/pytorch_vision_v0.10.0\n",
      "/home/asufian/.local/share/pipx/venvs/notebook/lib/python3.12/site-packages/torchvision/models/_utils.py:208: UserWarning: The parameter 'pretrained' is deprecated since 0.13 and may be removed in the future, please use 'weights' instead.\n",
      "  warnings.warn(\n",
      "/home/asufian/.local/share/pipx/venvs/notebook/lib/python3.12/site-packages/torchvision/models/_utils.py:223: UserWarning: Arguments other than a weight enum or `None` for 'weights' are deprecated since 0.13 and may be removed in the future. The current behavior is equivalent to passing `weights=None`.\n",
      "  warnings.warn(msg)\n",
      "Using cache found in /home/asufian/.cache/torch/hub/pytorch_vision_v0.10.0\n"
     ]
    },
    {
     "name": "stdout",
     "output_type": "stream",
     "text": [
      "----------------------> 0.5941391941391941\n",
      "Evaluated Accuracy: 0.5941\n",
      "\n",
      "✅ Optimal Values:\n",
      "   - b_a_r: 0.0000\n",
      "   - c_a_r: 0.0000\n",
      "   - f_a_r: 0.0000\n",
      "📈 Highest Accuracy Achieved: 0.5946\n"
     ]
    }
   ],
   "source": [
    "import numpy as np\n",
    "import torch\n",
    "import matplotlib.pyplot as plt\n",
    "from skopt import gp_minimize\n",
    "from skopt.space import Real\n",
    "from skopt.utils import use_named_args\n",
    "from skopt.plots import plot_convergence\n",
    "\n",
    "# Device setup\n",
    "device = torch.device(\"cuda\" if torch.cuda.is_available() else \"cpu\")\n",
    "\n",
    "\n",
    "# Define the search space for b_a_r, c_a_r, and f_a_r\n",
    "search_space = [\n",
    "    Real(0.0, 1.0, name=\"b_a_r\"),\n",
    "    Real(0.0, 1.0, name=\"c_a_r\"),\n",
    "    Real(0.0, 1.0, name=\"f_a_r\")\n",
    "]\n",
    "\n",
    "# Define the objective function for Bayesian Optimization\n",
    "@use_named_args(search_space)\n",
    "def objective(b_a_r, c_a_r, f_a_r):\n",
    "    \"\"\"\n",
    "    Objective function to optimize the adaptation ratios.\n",
    "    It applies adaptation, evaluates the model, and returns the negative accuracy.\n",
    "    \"\"\"\n",
    "    accuracy = get_model_accuracy(b_a_r, c_a_r, f_a_r)\n",
    "    print(f\"Evaluated Accuracy: {accuracy:.4f}\")  # Debugging Output\n",
    "    \n",
    "    return -accuracy  # We minimize, so return negative accuracy\n",
    "\n",
    "# Perform Bayesian Optimization with additional settings\n",
    "search_iteration=50\n",
    "res = gp_minimize(\n",
    "    func=objective,\n",
    "    dimensions=search_space,\n",
    "    n_calls=search_iteration,               # Number of evaluations\n",
    "    n_initial_points=5,       # Initial random explorations before GP starts\n",
    "    acq_func=\"EI\",            # Acquisition function: Expected Improvement\n",
    "    random_state=42,          # Ensure reproducibility\n",
    "    n_jobs=-1,                # Parallel execution for faster optimization\n",
    ")\n",
    "\n",
    "# Extract optimal results\n",
    "optimal_b_a_r, optimal_c_a_r, optimal_f_a_r = res.x\n",
    "best_accuracy = -res.fun\n",
    "\n",
    "print(f\"\\n✅ Optimal Values:\")\n",
    "print(f\"   - b_a_r: {optimal_b_a_r:.4f}\")\n",
    "print(f\"   - c_a_r: {optimal_c_a_r:.4f}\")\n",
    "print(f\"   - f_a_r: {optimal_f_a_r:.4f}\")\n",
    "print(f\"📈 Highest Accuracy Achieved: {best_accuracy:.4f}\")\n",
    "\n",
    "\n"
   ]
  },
  {
   "cell_type": "code",
   "execution_count": null,
   "metadata": {},
   "outputs": [],
   "source": []
  },
  {
   "cell_type": "code",
   "execution_count": 447,
   "metadata": {},
   "outputs": [
    {
     "name": "stderr",
     "output_type": "stream",
     "text": [
      "Using cache found in /home/asufian/.cache/torch/hub/pytorch_vision_v0.10.0\n",
      "/home/asufian/.local/share/pipx/venvs/notebook/lib/python3.12/site-packages/torchvision/models/_utils.py:208: UserWarning: The parameter 'pretrained' is deprecated since 0.13 and may be removed in the future, please use 'weights' instead.\n",
      "  warnings.warn(\n",
      "/home/asufian/.local/share/pipx/venvs/notebook/lib/python3.12/site-packages/torchvision/models/_utils.py:223: UserWarning: Arguments other than a weight enum or `None` for 'weights' are deprecated since 0.13 and may be removed in the future. The current behavior is equivalent to passing `weights=None`.\n",
      "  warnings.warn(msg)\n"
     ]
    },
    {
     "name": "stdout",
     "output_type": "stream",
     "text": [
      "---Accu-----pre----rec---------> 0.5946 ± 0.0447  0.6063 ± 0.0525  0.5946 ± 0.0447\n"
     ]
    },
    {
     "name": "stderr",
     "output_type": "stream",
     "text": [
      "Using cache found in /home/asufian/.cache/torch/hub/pytorch_vision_v0.10.0\n",
      "/home/asufian/.local/share/pipx/venvs/notebook/lib/python3.12/site-packages/torchvision/models/_utils.py:208: UserWarning: The parameter 'pretrained' is deprecated since 0.13 and may be removed in the future, please use 'weights' instead.\n",
      "  warnings.warn(\n",
      "/home/asufian/.local/share/pipx/venvs/notebook/lib/python3.12/site-packages/torchvision/models/_utils.py:223: UserWarning: Arguments other than a weight enum or `None` for 'weights' are deprecated since 0.13 and may be removed in the future. The current behavior is equivalent to passing `weights=None`.\n",
      "  warnings.warn(msg)\n"
     ]
    },
    {
     "name": "stdout",
     "output_type": "stream",
     "text": [
      "---Accu-----pre----rec---------> 0.5039 ± 0.0622  0.5150 ± 0.0657  0.5039 ± 0.0622\n",
      "---Accu-----pre----rec---------> 0.5946 ± 0.0447  0.6063 ± 0.0525  0.5946 ± 0.0447\n"
     ]
    }
   ],
   "source": [
    "convolutional_network_with_dropout =  DenseNet169WithDropout(modell='densenet169',pretrained=False,dr=0.0)\n",
    "convolutional_network_with_dropout.fc = nn.Flatten()\n",
    "\n",
    "xyz = convolutional_network_with_dropout\n",
    "M3 = PrototypicalNetworks_dynamic_query(xyz).to(device)\n",
    "M3.load_state_dict(torch.load('model_own_path.pt'))\n",
    "evaluate2('/home/asufian/Desktop/output_mapii/result_densnet/base/8_w_5_s_f', test_loader, M3, criterion)\n",
    "# Load Model M2\n",
    "convolutional_network_with_dropout =  DenseNet169WithDropout(modell='densenet169',pretrained=False,dr=0.0)\n",
    "convolutional_network_with_dropout.fc = nn.Flatten()\n",
    "\n",
    "xyz2 = convolutional_network_with_dropout\n",
    "M2 = PrototypicalNetworks_dynamic_query(xyz2).to(device)\n",
    "M2.load_state_dict(torch.load('model_mu_path.pt'))\n",
    "evaluate2(\"/home/asufian/Desktop/output_mapii/result_densnet/secondary/8_w_5_s_f\", test_loader, M2, criterion)\n",
    "# Update Model M3's weights using a weighted combination of Model M3 and Model M2\n",
    "update_model_weights2(M3, M2, conv_ratio= optimal_c_a_r , fc_ratio=optimal_f_a_r , bias_ratio=optimal_b_a_r)\n",
    "\n",
    "# Assuming you have the evaluate2 function defined\n",
    "# Evaluate the updated model (M3) using evaluate2 function with some arguments\n",
    "evaluate2(\"/home/asufian/Desktop/output_mapii/result_densnet/amul/8_w_5_s_f\", test_loader, M3, criterion)\n"
   ]
  },
  {
   "cell_type": "code",
   "execution_count": null,
   "metadata": {},
   "outputs": [],
   "source": []
  },
  {
   "cell_type": "code",
   "execution_count": 99,
   "metadata": {},
   "outputs": [
    {
     "name": "stderr",
     "output_type": "stream",
     "text": [
      "Using cache found in /home/asufian/.cache/torch/hub/pytorch_vision_v0.10.0\n",
      "/home/asufian/.local/share/pipx/venvs/notebook/lib/python3.12/site-packages/torchvision/models/_utils.py:208: UserWarning: The parameter 'pretrained' is deprecated since 0.13 and may be removed in the future, please use 'weights' instead.\n",
      "  warnings.warn(\n",
      "/home/asufian/.local/share/pipx/venvs/notebook/lib/python3.12/site-packages/torchvision/models/_utils.py:223: UserWarning: Arguments other than a weight enum or `None` for 'weights' are deprecated since 0.13 and may be removed in the future. The current behavior is equivalent to passing `weights=None`.\n",
      "  warnings.warn(msg)\n",
      "Using cache found in /home/asufian/.cache/torch/hub/pytorch_vision_v0.10.0\n"
     ]
    }
   ],
   "source": [
    "device = torch.device(\"cuda\" if torch.cuda.is_available() else \"cpu\")\n",
    "\n",
    "\n",
    "\n",
    "!rm model_mu_path.pt\n",
    "!rm model_own_path.pt\n",
    "\n",
    "convolutional_network_with_dropout =  DenseNet169WithDropout(modell='densenet169',pretrained=False,dr=0.0)\n",
    "convolutional_network_with_dropout.fc = nn.Flatten()\n",
    "\n",
    "model_own = PrototypicalNetworks_dynamic_query(convolutional_network_with_dropout).to(device)\n",
    "model_own.load_state_dict(torch.load('/home/asufian/Desktop/output_olchiki/code/modelrdnet.pth',map_location=torch.device('cpu')))\n",
    "\n",
    "\n",
    "convolutional_network_with_dropout =  DenseNet169WithDropout(modell='densenet169',pretrained=False,dr=0.0)\n",
    "convolutional_network_with_dropout.fc = nn.Flatten()\n",
    "\n",
    "model_own_1_shot = PrototypicalNetworks_dynamic_query(convolutional_network_with_dropout).to(device)\n",
    "model_own_1_shot.load_state_dict(torch.load('/home/asufian/Desktop/output_olchiki/code/mapi_sce/Denssecondary/model_10/model_B_mapi_10-shot_dens.pth',map_location=torch.device('cpu')))\n",
    "\n",
    "\n",
    "torch.save(model_own_1_shot.state_dict(), 'model_mu_path.pt')\n",
    "torch.save(model_own.state_dict(), 'model_own_path.pt')"
   ]
  },
  {
   "cell_type": "code",
   "execution_count": 100,
   "metadata": {},
   "outputs": [],
   "source": [
    "def evaluate2(fname,data_loader, model, criterion=nn.CrossEntropyLoss()):\n",
    "    total_predictions = 0\n",
    "    correct_predictions = 0\n",
    "    total_loss = 0.0\n",
    "    accuracy = 0\n",
    "    datta = \"\"\n",
    "    model.eval()\n",
    "    tlv_cls=0\n",
    "    ttla=0\n",
    "    ttlal=[]\n",
    "    ttlac=0\n",
    "    precision=[]\n",
    "    recall=[]\n",
    "    \n",
    "    with torch.no_grad():\n",
    "        for episode in range(len(clss_8)):\n",
    "            support_set, query_set = data_loader.__getitem__(clss_8[tlv_cls] , clss_support_imagesss_10_shot[tlv_cls])\n",
    "\n",
    "           \n",
    "            clssa=str(clss_8[tlv_cls])\n",
    "            clss=str(clssa).replace(',',' ').replace('\\'',' ').replace('\\'',' ')\n",
    "            msg=str(clss_support_imagesss_10_shot[tlv_cls])\n",
    "            str(clss_8[tlv_cls])\n",
    "\n",
    "            tlv_cls+=1\n",
    "            # print(len(support_set),len(query_set))\n",
    "            support_set = [(torch.stack(images).to(device), label[0]) for images, label in support_set]\n",
    "            query_set = [(torch.stack(images).to(device), label) for images, label in query_set]\n",
    "\n",
    "            support_images, support_labels = zip(*support_set)\n",
    "\n",
    "            query_images, query_labels = zip(*query_set)\n",
    "\n",
    "            classification_scores = model(support_images, support_labels, query_images)\n",
    "            cortt = 0\n",
    "            totl = 0\n",
    "            confusion_mat=None\n",
    "            all_predicted_labels = []\n",
    "            all_actual_labels = []\n",
    "            # print(len(classification_scores),len(query_labels))\n",
    "            for ei in range(len(classification_scores)):\n",
    "                classification_scores_each_class = classification_scores[ei]\n",
    "                # print(classification_scores_each_class)\n",
    "                predicted_labels_eachclas = torch.argmax(classification_scores_each_class, dim=1)\n",
    "                pp = predicted_labels_eachclas.tolist()\n",
    "                act = query_labels[ei]\n",
    "                all_predicted_labels.extend(pp)\n",
    "                all_actual_labels.extend(act)\n",
    "                for iiii in range(len(pp)):\n",
    "                    if pp[iiii] == act[iiii]:\n",
    "                        cortt = cortt + 1\n",
    "                totl = totl + len(pp)\n",
    "                # print(len(act))\n",
    "            accuracy = cortt / totl\n",
    "            ttla+=1\n",
    "            ttlac+=accuracy\n",
    "            ttlal.append(accuracy)\n",
    "            # print(cortt , totl,\"Validation Accuracy:              \", cortt / totl)\n",
    "            confusion_mat = confusion_matrix(all_actual_labels, all_predicted_labels)\n",
    "            # print(\"Confusion Matrix:\")\n",
    "            # print(confusion_mat)\n",
    "\n",
    "            # fname='./own35_mapi_5_way_1_shot'\n",
    "\n",
    "            precision_overall, recall_overall, f1ss= calculate_metrics_get_per(msg,confusion_mat,acciuracy=cortt / totl,cls=clss,flnm=fname)\n",
    "            precision.append(precision_overall)\n",
    "            recall.append(recall_overall)\n",
    "    print(f\"---Accu-----pre----rec---------> {np.mean(ttlal):.4f} ± {np.std(ttlal, ddof=1):.4f}  \"\n",
    "      f\"{np.mean(precision):.4f} ± {np.std(precision, ddof=1):.4f}  \"\n",
    "      f\"{np.mean(recall):.4f} ± {np.std(recall, ddof=1):.4f}\")\n",
    "\n",
    "    # print(\"---Accu-----pre----rec---------->\",np.mean(ttlal),'±',np.std(ttlal, ddof=1), np.mean(precision),'±',np.std(precision, ddof=1),np.mean(precision),'±',np.std(precision, ddof=1),)\n",
    "# %%%%%%\n",
    "\n",
    "def evaluate3(fname,data_loader, model, criterion=nn.CrossEntropyLoss()):\n",
    "    total_predictions = 0\n",
    "    correct_predictions = 0\n",
    "    total_loss = 0.0\n",
    "    accuracy = 0\n",
    "    datta = \"\"\n",
    "    model.eval()\n",
    "    tlv_cls=0\n",
    "    ttla=0\n",
    "    ttlac=0\n",
    "    with torch.no_grad():\n",
    "        for episode in range(len(clss_8)):\n",
    "            support_set, query_set = data_loader.__getitem__(clss_8[tlv_cls] , clss_support_imagesss_10_shot[tlv_cls])\n",
    "\n",
    "            \n",
    "            clssa=str(clss_8[tlv_cls])\n",
    "            clss=str(clssa).replace(',',' ').replace('\\'',' ').replace('\\'',' ')\n",
    "            msg=str(clss_support_imagesss_10_shot[tlv_cls])\n",
    "            str(clss_8[tlv_cls])\n",
    "\n",
    "            tlv_cls+=1\n",
    "            # print(len(support_set),len(query_set))\n",
    "            support_set = [(torch.stack(images).to(device), label[0]) for images, label in support_set]\n",
    "            query_set = [(torch.stack(images).to(device), label) for images, label in query_set]\n",
    "\n",
    "            support_images, support_labels = zip(*support_set)\n",
    "\n",
    "            query_images, query_labels = zip(*query_set)\n",
    "\n",
    "            classification_scores = model(support_images, support_labels, query_images)\n",
    "            cortt = 0\n",
    "            totl = 0\n",
    "            confusion_mat=None\n",
    "            all_predicted_labels = []\n",
    "            all_actual_labels = []\n",
    "            # print(len(classification_scores),len(query_labels))\n",
    "            for ei in range(len(classification_scores)):\n",
    "                classification_scores_each_class = classification_scores[ei]\n",
    "                # print(classification_scores_each_class)\n",
    "                predicted_labels_eachclas = torch.argmax(classification_scores_each_class, dim=1)\n",
    "                pp = predicted_labels_eachclas.tolist()\n",
    "                act = query_labels[ei]\n",
    "                all_predicted_labels.extend(pp)\n",
    "                all_actual_labels.extend(act)\n",
    "                for iiii in range(len(pp)):\n",
    "                    if pp[iiii] == act[iiii]:\n",
    "                        cortt = cortt + 1\n",
    "                totl = totl + len(pp)\n",
    "                # print(len(act))\n",
    "            accuracy = cortt / totl\n",
    "            ttla+=1\n",
    "            ttlac+=accuracy\n",
    "            # print(cortt , totl,\"Validation Accuracy:              \", cortt / totl)\n",
    "            # confusion_mat = confusion_matrix(all_actual_labels, all_predicted_labels)\n",
    "            # print(\"Confusion Matrix:\")\n",
    "            # print(confusion_mat)\n",
    "\n",
    "            # fname='./own35_mapi_5_way_1_shot'\n",
    "\n",
    "            # calculate_metrics_get_per(msg,confusion_mat,acciuracy=cortt / totl,cls=clss,flnm=fname)\n",
    "\n",
    "    print(\"---------------------->\",ttlac/ttla)\n",
    "    return ttlac/ttla"
   ]
  },
  {
   "cell_type": "code",
   "execution_count": 101,
   "metadata": {
    "scrolled": true
   },
   "outputs": [
    {
     "name": "stdout",
     "output_type": "stream",
     "text": [
      "Testing b_a_r = 0.7965, c_a_r = 0.1834, f_a_r = 0.7797\n"
     ]
    },
    {
     "name": "stderr",
     "output_type": "stream",
     "text": [
      "Using cache found in /home/asufian/.cache/torch/hub/pytorch_vision_v0.10.0\n",
      "/home/asufian/.local/share/pipx/venvs/notebook/lib/python3.12/site-packages/torchvision/models/_utils.py:208: UserWarning: The parameter 'pretrained' is deprecated since 0.13 and may be removed in the future, please use 'weights' instead.\n",
      "  warnings.warn(\n",
      "/home/asufian/.local/share/pipx/venvs/notebook/lib/python3.12/site-packages/torchvision/models/_utils.py:223: UserWarning: Arguments other than a weight enum or `None` for 'weights' are deprecated since 0.13 and may be removed in the future. The current behavior is equivalent to passing `weights=None`.\n",
      "  warnings.warn(msg)\n",
      "Using cache found in /home/asufian/.cache/torch/hub/pytorch_vision_v0.10.0\n"
     ]
    },
    {
     "name": "stdout",
     "output_type": "stream",
     "text": [
      "----------------------> 0.5929263565891474\n",
      "Evaluated Accuracy: 0.5929\n",
      "Testing b_a_r = 0.5969, c_a_r = 0.4458, f_a_r = 0.1000\n"
     ]
    },
    {
     "name": "stderr",
     "output_type": "stream",
     "text": [
      "Using cache found in /home/asufian/.cache/torch/hub/pytorch_vision_v0.10.0\n",
      "Using cache found in /home/asufian/.cache/torch/hub/pytorch_vision_v0.10.0\n"
     ]
    },
    {
     "name": "stdout",
     "output_type": "stream",
     "text": [
      "----------------------> 0.2684108527131783\n",
      "Evaluated Accuracy: 0.2684\n",
      "Testing b_a_r = 0.4592, c_a_r = 0.3337, f_a_r = 0.1429\n"
     ]
    },
    {
     "name": "stderr",
     "output_type": "stream",
     "text": [
      "Using cache found in /home/asufian/.cache/torch/hub/pytorch_vision_v0.10.0\n",
      "Using cache found in /home/asufian/.cache/torch/hub/pytorch_vision_v0.10.0\n"
     ]
    },
    {
     "name": "stdout",
     "output_type": "stream",
     "text": [
      "----------------------> 0.3883720930232558\n",
      "Evaluated Accuracy: 0.3884\n",
      "Testing b_a_r = 0.6509, c_a_r = 0.0564, f_a_r = 0.7220\n"
     ]
    },
    {
     "name": "stderr",
     "output_type": "stream",
     "text": [
      "Using cache found in /home/asufian/.cache/torch/hub/pytorch_vision_v0.10.0\n",
      "Using cache found in /home/asufian/.cache/torch/hub/pytorch_vision_v0.10.0\n"
     ]
    },
    {
     "name": "stdout",
     "output_type": "stream",
     "text": [
      "----------------------> 0.6218992248062015\n",
      "Evaluated Accuracy: 0.6219\n",
      "Testing b_a_r = 0.9386, c_a_r = 0.0008, f_a_r = 0.9922\n"
     ]
    },
    {
     "name": "stderr",
     "output_type": "stream",
     "text": [
      "Using cache found in /home/asufian/.cache/torch/hub/pytorch_vision_v0.10.0\n",
      "Using cache found in /home/asufian/.cache/torch/hub/pytorch_vision_v0.10.0\n"
     ]
    },
    {
     "name": "stdout",
     "output_type": "stream",
     "text": [
      "----------------------> 0.6132751937984495\n",
      "Evaluated Accuracy: 0.6133\n",
      "Testing b_a_r = 0.9389, c_a_r = 1.0000, f_a_r = 0.4745\n"
     ]
    },
    {
     "name": "stderr",
     "output_type": "stream",
     "text": [
      "Using cache found in /home/asufian/.cache/torch/hub/pytorch_vision_v0.10.0\n",
      "/home/asufian/.local/share/pipx/venvs/notebook/lib/python3.12/site-packages/torchvision/models/_utils.py:208: UserWarning: The parameter 'pretrained' is deprecated since 0.13 and may be removed in the future, please use 'weights' instead.\n",
      "  warnings.warn(\n",
      "/home/asufian/.local/share/pipx/venvs/notebook/lib/python3.12/site-packages/torchvision/models/_utils.py:223: UserWarning: Arguments other than a weight enum or `None` for 'weights' are deprecated since 0.13 and may be removed in the future. The current behavior is equivalent to passing `weights=None`.\n",
      "  warnings.warn(msg)\n",
      "Using cache found in /home/asufian/.cache/torch/hub/pytorch_vision_v0.10.0\n"
     ]
    },
    {
     "name": "stdout",
     "output_type": "stream",
     "text": [
      "----------------------> 0.2515503875968992\n",
      "Evaluated Accuracy: 0.2516\n",
      "Testing b_a_r = 0.0000, c_a_r = 0.0955, f_a_r = 1.0000\n"
     ]
    },
    {
     "name": "stderr",
     "output_type": "stream",
     "text": [
      "Using cache found in /home/asufian/.cache/torch/hub/pytorch_vision_v0.10.0\n",
      "/home/asufian/.local/share/pipx/venvs/notebook/lib/python3.12/site-packages/torchvision/models/_utils.py:208: UserWarning: The parameter 'pretrained' is deprecated since 0.13 and may be removed in the future, please use 'weights' instead.\n",
      "  warnings.warn(\n",
      "/home/asufian/.local/share/pipx/venvs/notebook/lib/python3.12/site-packages/torchvision/models/_utils.py:223: UserWarning: Arguments other than a weight enum or `None` for 'weights' are deprecated since 0.13 and may be removed in the future. The current behavior is equivalent to passing `weights=None`.\n",
      "  warnings.warn(msg)\n",
      "Using cache found in /home/asufian/.cache/torch/hub/pytorch_vision_v0.10.0\n"
     ]
    },
    {
     "name": "stdout",
     "output_type": "stream",
     "text": [
      "----------------------> 0.6331395348837209\n",
      "Evaluated Accuracy: 0.6331\n",
      "Testing b_a_r = 0.0000, c_a_r = 0.1163, f_a_r = 0.0000\n"
     ]
    },
    {
     "name": "stderr",
     "output_type": "stream",
     "text": [
      "Using cache found in /home/asufian/.cache/torch/hub/pytorch_vision_v0.10.0\n",
      "/home/asufian/.local/share/pipx/venvs/notebook/lib/python3.12/site-packages/torchvision/models/_utils.py:208: UserWarning: The parameter 'pretrained' is deprecated since 0.13 and may be removed in the future, please use 'weights' instead.\n",
      "  warnings.warn(\n",
      "/home/asufian/.local/share/pipx/venvs/notebook/lib/python3.12/site-packages/torchvision/models/_utils.py:223: UserWarning: Arguments other than a weight enum or `None` for 'weights' are deprecated since 0.13 and may be removed in the future. The current behavior is equivalent to passing `weights=None`.\n",
      "  warnings.warn(msg)\n",
      "Using cache found in /home/asufian/.cache/torch/hub/pytorch_vision_v0.10.0\n"
     ]
    },
    {
     "name": "stdout",
     "output_type": "stream",
     "text": [
      "----------------------> 0.6345930232558139\n",
      "Evaluated Accuracy: 0.6346\n",
      "Testing b_a_r = 1.0000, c_a_r = 0.1125, f_a_r = 0.9957\n"
     ]
    },
    {
     "name": "stderr",
     "output_type": "stream",
     "text": [
      "Using cache found in /home/asufian/.cache/torch/hub/pytorch_vision_v0.10.0\n",
      "/home/asufian/.local/share/pipx/venvs/notebook/lib/python3.12/site-packages/torchvision/models/_utils.py:208: UserWarning: The parameter 'pretrained' is deprecated since 0.13 and may be removed in the future, please use 'weights' instead.\n",
      "  warnings.warn(\n",
      "/home/asufian/.local/share/pipx/venvs/notebook/lib/python3.12/site-packages/torchvision/models/_utils.py:223: UserWarning: Arguments other than a weight enum or `None` for 'weights' are deprecated since 0.13 and may be removed in the future. The current behavior is equivalent to passing `weights=None`.\n",
      "  warnings.warn(msg)\n",
      "Using cache found in /home/asufian/.cache/torch/hub/pytorch_vision_v0.10.0\n"
     ]
    },
    {
     "name": "stdout",
     "output_type": "stream",
     "text": [
      "----------------------> 0.6304263565891473\n",
      "Evaluated Accuracy: 0.6304\n",
      "Testing b_a_r = 0.0158, c_a_r = 0.7523, f_a_r = 0.2325\n"
     ]
    },
    {
     "name": "stderr",
     "output_type": "stream",
     "text": [
      "Using cache found in /home/asufian/.cache/torch/hub/pytorch_vision_v0.10.0\n",
      "/home/asufian/.local/share/pipx/venvs/notebook/lib/python3.12/site-packages/torchvision/models/_utils.py:208: UserWarning: The parameter 'pretrained' is deprecated since 0.13 and may be removed in the future, please use 'weights' instead.\n",
      "  warnings.warn(\n",
      "/home/asufian/.local/share/pipx/venvs/notebook/lib/python3.12/site-packages/torchvision/models/_utils.py:223: UserWarning: Arguments other than a weight enum or `None` for 'weights' are deprecated since 0.13 and may be removed in the future. The current behavior is equivalent to passing `weights=None`.\n",
      "  warnings.warn(msg)\n",
      "Using cache found in /home/asufian/.cache/torch/hub/pytorch_vision_v0.10.0\n"
     ]
    },
    {
     "name": "stdout",
     "output_type": "stream",
     "text": [
      "----------------------> 0.25329457364341085\n",
      "Evaluated Accuracy: 0.2533\n",
      "Testing b_a_r = 0.8626, c_a_r = 0.0917, f_a_r = 0.0078\n"
     ]
    },
    {
     "name": "stderr",
     "output_type": "stream",
     "text": [
      "Using cache found in /home/asufian/.cache/torch/hub/pytorch_vision_v0.10.0\n",
      "/home/asufian/.local/share/pipx/venvs/notebook/lib/python3.12/site-packages/torchvision/models/_utils.py:208: UserWarning: The parameter 'pretrained' is deprecated since 0.13 and may be removed in the future, please use 'weights' instead.\n",
      "  warnings.warn(\n",
      "/home/asufian/.local/share/pipx/venvs/notebook/lib/python3.12/site-packages/torchvision/models/_utils.py:223: UserWarning: Arguments other than a weight enum or `None` for 'weights' are deprecated since 0.13 and may be removed in the future. The current behavior is equivalent to passing `weights=None`.\n",
      "  warnings.warn(msg)\n",
      "Using cache found in /home/asufian/.cache/torch/hub/pytorch_vision_v0.10.0\n"
     ]
    },
    {
     "name": "stdout",
     "output_type": "stream",
     "text": [
      "----------------------> 0.6302325581395347\n",
      "Evaluated Accuracy: 0.6302\n",
      "Testing b_a_r = 0.9963, c_a_r = 0.6108, f_a_r = 0.9604\n"
     ]
    },
    {
     "name": "stderr",
     "output_type": "stream",
     "text": [
      "Using cache found in /home/asufian/.cache/torch/hub/pytorch_vision_v0.10.0\n",
      "/home/asufian/.local/share/pipx/venvs/notebook/lib/python3.12/site-packages/torchvision/models/_utils.py:208: UserWarning: The parameter 'pretrained' is deprecated since 0.13 and may be removed in the future, please use 'weights' instead.\n",
      "  warnings.warn(\n",
      "/home/asufian/.local/share/pipx/venvs/notebook/lib/python3.12/site-packages/torchvision/models/_utils.py:223: UserWarning: Arguments other than a weight enum or `None` for 'weights' are deprecated since 0.13 and may be removed in the future. The current behavior is equivalent to passing `weights=None`.\n",
      "  warnings.warn(msg)\n",
      "Using cache found in /home/asufian/.cache/torch/hub/pytorch_vision_v0.10.0\n"
     ]
    },
    {
     "name": "stdout",
     "output_type": "stream",
     "text": [
      "----------------------> 0.2243217054263566\n",
      "Evaluated Accuracy: 0.2243\n",
      "Testing b_a_r = 0.0316, c_a_r = 0.0053, f_a_r = 0.0565\n"
     ]
    },
    {
     "name": "stderr",
     "output_type": "stream",
     "text": [
      "Using cache found in /home/asufian/.cache/torch/hub/pytorch_vision_v0.10.0\n",
      "/home/asufian/.local/share/pipx/venvs/notebook/lib/python3.12/site-packages/torchvision/models/_utils.py:208: UserWarning: The parameter 'pretrained' is deprecated since 0.13 and may be removed in the future, please use 'weights' instead.\n",
      "  warnings.warn(\n",
      "/home/asufian/.local/share/pipx/venvs/notebook/lib/python3.12/site-packages/torchvision/models/_utils.py:223: UserWarning: Arguments other than a weight enum or `None` for 'weights' are deprecated since 0.13 and may be removed in the future. The current behavior is equivalent to passing `weights=None`.\n",
      "  warnings.warn(msg)\n",
      "Using cache found in /home/asufian/.cache/torch/hub/pytorch_vision_v0.10.0\n"
     ]
    },
    {
     "name": "stdout",
     "output_type": "stream",
     "text": [
      "----------------------> 0.6204457364341087\n",
      "Evaluated Accuracy: 0.6204\n",
      "Testing b_a_r = 0.0130, c_a_r = 0.1383, f_a_r = 0.9787\n"
     ]
    },
    {
     "name": "stderr",
     "output_type": "stream",
     "text": [
      "Using cache found in /home/asufian/.cache/torch/hub/pytorch_vision_v0.10.0\n",
      "/home/asufian/.local/share/pipx/venvs/notebook/lib/python3.12/site-packages/torchvision/models/_utils.py:208: UserWarning: The parameter 'pretrained' is deprecated since 0.13 and may be removed in the future, please use 'weights' instead.\n",
      "  warnings.warn(\n",
      "/home/asufian/.local/share/pipx/venvs/notebook/lib/python3.12/site-packages/torchvision/models/_utils.py:223: UserWarning: Arguments other than a weight enum or `None` for 'weights' are deprecated since 0.13 and may be removed in the future. The current behavior is equivalent to passing `weights=None`.\n",
      "  warnings.warn(msg)\n",
      "Using cache found in /home/asufian/.cache/torch/hub/pytorch_vision_v0.10.0\n"
     ]
    },
    {
     "name": "stdout",
     "output_type": "stream",
     "text": [
      "----------------------> 0.6343023255813953\n",
      "Evaluated Accuracy: 0.6343\n",
      "Testing b_a_r = 0.0609, c_a_r = 0.1161, f_a_r = 0.0739\n"
     ]
    },
    {
     "name": "stderr",
     "output_type": "stream",
     "text": [
      "Using cache found in /home/asufian/.cache/torch/hub/pytorch_vision_v0.10.0\n",
      "/home/asufian/.local/share/pipx/venvs/notebook/lib/python3.12/site-packages/torchvision/models/_utils.py:208: UserWarning: The parameter 'pretrained' is deprecated since 0.13 and may be removed in the future, please use 'weights' instead.\n",
      "  warnings.warn(\n",
      "/home/asufian/.local/share/pipx/venvs/notebook/lib/python3.12/site-packages/torchvision/models/_utils.py:223: UserWarning: Arguments other than a weight enum or `None` for 'weights' are deprecated since 0.13 and may be removed in the future. The current behavior is equivalent to passing `weights=None`.\n",
      "  warnings.warn(msg)\n",
      "Using cache found in /home/asufian/.cache/torch/hub/pytorch_vision_v0.10.0\n"
     ]
    },
    {
     "name": "stdout",
     "output_type": "stream",
     "text": [
      "----------------------> 0.634205426356589\n",
      "Evaluated Accuracy: 0.6342\n",
      "Testing b_a_r = 0.9227, c_a_r = 0.1288, f_a_r = 0.0160\n"
     ]
    },
    {
     "name": "stderr",
     "output_type": "stream",
     "text": [
      "Using cache found in /home/asufian/.cache/torch/hub/pytorch_vision_v0.10.0\n",
      "/home/asufian/.local/share/pipx/venvs/notebook/lib/python3.12/site-packages/torchvision/models/_utils.py:208: UserWarning: The parameter 'pretrained' is deprecated since 0.13 and may be removed in the future, please use 'weights' instead.\n",
      "  warnings.warn(\n",
      "/home/asufian/.local/share/pipx/venvs/notebook/lib/python3.12/site-packages/torchvision/models/_utils.py:223: UserWarning: Arguments other than a weight enum or `None` for 'weights' are deprecated since 0.13 and may be removed in the future. The current behavior is equivalent to passing `weights=None`.\n",
      "  warnings.warn(msg)\n",
      "Using cache found in /home/asufian/.cache/torch/hub/pytorch_vision_v0.10.0\n"
     ]
    },
    {
     "name": "stdout",
     "output_type": "stream",
     "text": [
      "----------------------> 0.632170542635659\n",
      "Evaluated Accuracy: 0.6322\n",
      "Testing b_a_r = 0.0088, c_a_r = 0.1272, f_a_r = 0.0414\n"
     ]
    },
    {
     "name": "stderr",
     "output_type": "stream",
     "text": [
      "Using cache found in /home/asufian/.cache/torch/hub/pytorch_vision_v0.10.0\n",
      "/home/asufian/.local/share/pipx/venvs/notebook/lib/python3.12/site-packages/torchvision/models/_utils.py:208: UserWarning: The parameter 'pretrained' is deprecated since 0.13 and may be removed in the future, please use 'weights' instead.\n",
      "  warnings.warn(\n",
      "/home/asufian/.local/share/pipx/venvs/notebook/lib/python3.12/site-packages/torchvision/models/_utils.py:223: UserWarning: Arguments other than a weight enum or `None` for 'weights' are deprecated since 0.13 and may be removed in the future. The current behavior is equivalent to passing `weights=None`.\n",
      "  warnings.warn(msg)\n",
      "Using cache found in /home/asufian/.cache/torch/hub/pytorch_vision_v0.10.0\n"
     ]
    },
    {
     "name": "stdout",
     "output_type": "stream",
     "text": [
      "----------------------> 0.6348837209302326\n",
      "Evaluated Accuracy: 0.6349\n",
      "Testing b_a_r = 0.9057, c_a_r = 0.8813, f_a_r = 0.8672\n"
     ]
    },
    {
     "name": "stderr",
     "output_type": "stream",
     "text": [
      "Using cache found in /home/asufian/.cache/torch/hub/pytorch_vision_v0.10.0\n",
      "/home/asufian/.local/share/pipx/venvs/notebook/lib/python3.12/site-packages/torchvision/models/_utils.py:208: UserWarning: The parameter 'pretrained' is deprecated since 0.13 and may be removed in the future, please use 'weights' instead.\n",
      "  warnings.warn(\n",
      "/home/asufian/.local/share/pipx/venvs/notebook/lib/python3.12/site-packages/torchvision/models/_utils.py:223: UserWarning: Arguments other than a weight enum or `None` for 'weights' are deprecated since 0.13 and may be removed in the future. The current behavior is equivalent to passing `weights=None`.\n",
      "  warnings.warn(msg)\n",
      "Using cache found in /home/asufian/.cache/torch/hub/pytorch_vision_v0.10.0\n"
     ]
    },
    {
     "name": "stdout",
     "output_type": "stream",
     "text": [
      "----------------------> 0.2547480620155038\n",
      "Evaluated Accuracy: 0.2547\n",
      "Testing b_a_r = 0.0082, c_a_r = 0.2442, f_a_r = 0.1677\n"
     ]
    },
    {
     "name": "stderr",
     "output_type": "stream",
     "text": [
      "Using cache found in /home/asufian/.cache/torch/hub/pytorch_vision_v0.10.0\n",
      "/home/asufian/.local/share/pipx/venvs/notebook/lib/python3.12/site-packages/torchvision/models/_utils.py:208: UserWarning: The parameter 'pretrained' is deprecated since 0.13 and may be removed in the future, please use 'weights' instead.\n",
      "  warnings.warn(\n",
      "/home/asufian/.local/share/pipx/venvs/notebook/lib/python3.12/site-packages/torchvision/models/_utils.py:223: UserWarning: Arguments other than a weight enum or `None` for 'weights' are deprecated since 0.13 and may be removed in the future. The current behavior is equivalent to passing `weights=None`.\n",
      "  warnings.warn(msg)\n",
      "Using cache found in /home/asufian/.cache/torch/hub/pytorch_vision_v0.10.0\n"
     ]
    },
    {
     "name": "stdout",
     "output_type": "stream",
     "text": [
      "----------------------> 0.48527131782945737\n",
      "Evaluated Accuracy: 0.4853\n",
      "Testing b_a_r = 0.9811, c_a_r = 0.0278, f_a_r = 0.1315\n"
     ]
    },
    {
     "name": "stderr",
     "output_type": "stream",
     "text": [
      "Using cache found in /home/asufian/.cache/torch/hub/pytorch_vision_v0.10.0\n",
      "/home/asufian/.local/share/pipx/venvs/notebook/lib/python3.12/site-packages/torchvision/models/_utils.py:208: UserWarning: The parameter 'pretrained' is deprecated since 0.13 and may be removed in the future, please use 'weights' instead.\n",
      "  warnings.warn(\n",
      "/home/asufian/.local/share/pipx/venvs/notebook/lib/python3.12/site-packages/torchvision/models/_utils.py:223: UserWarning: Arguments other than a weight enum or `None` for 'weights' are deprecated since 0.13 and may be removed in the future. The current behavior is equivalent to passing `weights=None`.\n",
      "  warnings.warn(msg)\n",
      "Using cache found in /home/asufian/.cache/torch/hub/pytorch_vision_v0.10.0\n"
     ]
    },
    {
     "name": "stdout",
     "output_type": "stream",
     "text": [
      "----------------------> 0.6178294573643411\n",
      "Evaluated Accuracy: 0.6178\n",
      "Testing b_a_r = 0.0006, c_a_r = 0.1485, f_a_r = 0.1095\n"
     ]
    },
    {
     "name": "stderr",
     "output_type": "stream",
     "text": [
      "Using cache found in /home/asufian/.cache/torch/hub/pytorch_vision_v0.10.0\n",
      "/home/asufian/.local/share/pipx/venvs/notebook/lib/python3.12/site-packages/torchvision/models/_utils.py:208: UserWarning: The parameter 'pretrained' is deprecated since 0.13 and may be removed in the future, please use 'weights' instead.\n",
      "  warnings.warn(\n",
      "/home/asufian/.local/share/pipx/venvs/notebook/lib/python3.12/site-packages/torchvision/models/_utils.py:223: UserWarning: Arguments other than a weight enum or `None` for 'weights' are deprecated since 0.13 and may be removed in the future. The current behavior is equivalent to passing `weights=None`.\n",
      "  warnings.warn(msg)\n",
      "Using cache found in /home/asufian/.cache/torch/hub/pytorch_vision_v0.10.0\n"
     ]
    },
    {
     "name": "stdout",
     "output_type": "stream",
     "text": [
      "----------------------> 0.6310077519379846\n",
      "Evaluated Accuracy: 0.6310\n",
      "Testing b_a_r = 0.1346, c_a_r = 0.0259, f_a_r = 0.9651\n"
     ]
    },
    {
     "name": "stderr",
     "output_type": "stream",
     "text": [
      "Using cache found in /home/asufian/.cache/torch/hub/pytorch_vision_v0.10.0\n",
      "/home/asufian/.local/share/pipx/venvs/notebook/lib/python3.12/site-packages/torchvision/models/_utils.py:208: UserWarning: The parameter 'pretrained' is deprecated since 0.13 and may be removed in the future, please use 'weights' instead.\n",
      "  warnings.warn(\n",
      "/home/asufian/.local/share/pipx/venvs/notebook/lib/python3.12/site-packages/torchvision/models/_utils.py:223: UserWarning: Arguments other than a weight enum or `None` for 'weights' are deprecated since 0.13 and may be removed in the future. The current behavior is equivalent to passing `weights=None`.\n",
      "  warnings.warn(msg)\n",
      "Using cache found in /home/asufian/.cache/torch/hub/pytorch_vision_v0.10.0\n"
     ]
    },
    {
     "name": "stdout",
     "output_type": "stream",
     "text": [
      "----------------------> 0.6217054263565892\n",
      "Evaluated Accuracy: 0.6217\n",
      "Testing b_a_r = 0.0526, c_a_r = 0.0741, f_a_r = 0.0658\n"
     ]
    },
    {
     "name": "stderr",
     "output_type": "stream",
     "text": [
      "Using cache found in /home/asufian/.cache/torch/hub/pytorch_vision_v0.10.0\n",
      "/home/asufian/.local/share/pipx/venvs/notebook/lib/python3.12/site-packages/torchvision/models/_utils.py:208: UserWarning: The parameter 'pretrained' is deprecated since 0.13 and may be removed in the future, please use 'weights' instead.\n",
      "  warnings.warn(\n",
      "/home/asufian/.local/share/pipx/venvs/notebook/lib/python3.12/site-packages/torchvision/models/_utils.py:223: UserWarning: Arguments other than a weight enum or `None` for 'weights' are deprecated since 0.13 and may be removed in the future. The current behavior is equivalent to passing `weights=None`.\n",
      "  warnings.warn(msg)\n",
      "Using cache found in /home/asufian/.cache/torch/hub/pytorch_vision_v0.10.0\n"
     ]
    },
    {
     "name": "stdout",
     "output_type": "stream",
     "text": [
      "----------------------> 0.6267441860465117\n",
      "Evaluated Accuracy: 0.6267\n",
      "Testing b_a_r = 0.9795, c_a_r = 0.1442, f_a_r = 0.8336\n"
     ]
    },
    {
     "name": "stderr",
     "output_type": "stream",
     "text": [
      "Using cache found in /home/asufian/.cache/torch/hub/pytorch_vision_v0.10.0\n",
      "/home/asufian/.local/share/pipx/venvs/notebook/lib/python3.12/site-packages/torchvision/models/_utils.py:208: UserWarning: The parameter 'pretrained' is deprecated since 0.13 and may be removed in the future, please use 'weights' instead.\n",
      "  warnings.warn(\n",
      "/home/asufian/.local/share/pipx/venvs/notebook/lib/python3.12/site-packages/torchvision/models/_utils.py:223: UserWarning: Arguments other than a weight enum or `None` for 'weights' are deprecated since 0.13 and may be removed in the future. The current behavior is equivalent to passing `weights=None`.\n",
      "  warnings.warn(msg)\n",
      "Using cache found in /home/asufian/.cache/torch/hub/pytorch_vision_v0.10.0\n"
     ]
    },
    {
     "name": "stdout",
     "output_type": "stream",
     "text": [
      "----------------------> 0.626453488372093\n",
      "Evaluated Accuracy: 0.6265\n",
      "Testing b_a_r = 0.0114, c_a_r = 0.1182, f_a_r = 0.9230\n"
     ]
    },
    {
     "name": "stderr",
     "output_type": "stream",
     "text": [
      "Using cache found in /home/asufian/.cache/torch/hub/pytorch_vision_v0.10.0\n",
      "/home/asufian/.local/share/pipx/venvs/notebook/lib/python3.12/site-packages/torchvision/models/_utils.py:208: UserWarning: The parameter 'pretrained' is deprecated since 0.13 and may be removed in the future, please use 'weights' instead.\n",
      "  warnings.warn(\n",
      "/home/asufian/.local/share/pipx/venvs/notebook/lib/python3.12/site-packages/torchvision/models/_utils.py:223: UserWarning: Arguments other than a weight enum or `None` for 'weights' are deprecated since 0.13 and may be removed in the future. The current behavior is equivalent to passing `weights=None`.\n",
      "  warnings.warn(msg)\n",
      "Using cache found in /home/asufian/.cache/torch/hub/pytorch_vision_v0.10.0\n"
     ]
    },
    {
     "name": "stdout",
     "output_type": "stream",
     "text": [
      "----------------------> 0.6351744186046511\n",
      "Evaluated Accuracy: 0.6352\n",
      "Testing b_a_r = 0.0138, c_a_r = 0.1578, f_a_r = 0.9597\n"
     ]
    },
    {
     "name": "stderr",
     "output_type": "stream",
     "text": [
      "Using cache found in /home/asufian/.cache/torch/hub/pytorch_vision_v0.10.0\n",
      "/home/asufian/.local/share/pipx/venvs/notebook/lib/python3.12/site-packages/torchvision/models/_utils.py:208: UserWarning: The parameter 'pretrained' is deprecated since 0.13 and may be removed in the future, please use 'weights' instead.\n",
      "  warnings.warn(\n",
      "/home/asufian/.local/share/pipx/venvs/notebook/lib/python3.12/site-packages/torchvision/models/_utils.py:223: UserWarning: Arguments other than a weight enum or `None` for 'weights' are deprecated since 0.13 and may be removed in the future. The current behavior is equivalent to passing `weights=None`.\n",
      "  warnings.warn(msg)\n",
      "Using cache found in /home/asufian/.cache/torch/hub/pytorch_vision_v0.10.0\n"
     ]
    },
    {
     "name": "stdout",
     "output_type": "stream",
     "text": [
      "----------------------> 0.6233527131782947\n",
      "Evaluated Accuracy: 0.6234\n",
      "Testing b_a_r = 0.0585, c_a_r = 0.1283, f_a_r = 0.9470\n"
     ]
    },
    {
     "name": "stderr",
     "output_type": "stream",
     "text": [
      "Using cache found in /home/asufian/.cache/torch/hub/pytorch_vision_v0.10.0\n",
      "/home/asufian/.local/share/pipx/venvs/notebook/lib/python3.12/site-packages/torchvision/models/_utils.py:208: UserWarning: The parameter 'pretrained' is deprecated since 0.13 and may be removed in the future, please use 'weights' instead.\n",
      "  warnings.warn(\n",
      "/home/asufian/.local/share/pipx/venvs/notebook/lib/python3.12/site-packages/torchvision/models/_utils.py:223: UserWarning: Arguments other than a weight enum or `None` for 'weights' are deprecated since 0.13 and may be removed in the future. The current behavior is equivalent to passing `weights=None`.\n",
      "  warnings.warn(msg)\n",
      "Using cache found in /home/asufian/.cache/torch/hub/pytorch_vision_v0.10.0\n"
     ]
    },
    {
     "name": "stdout",
     "output_type": "stream",
     "text": [
      "----------------------> 0.6342054263565892\n",
      "Evaluated Accuracy: 0.6342\n",
      "Testing b_a_r = 0.0729, c_a_r = 0.1022, f_a_r = 0.1244\n"
     ]
    },
    {
     "name": "stderr",
     "output_type": "stream",
     "text": [
      "Using cache found in /home/asufian/.cache/torch/hub/pytorch_vision_v0.10.0\n",
      "/home/asufian/.local/share/pipx/venvs/notebook/lib/python3.12/site-packages/torchvision/models/_utils.py:208: UserWarning: The parameter 'pretrained' is deprecated since 0.13 and may be removed in the future, please use 'weights' instead.\n",
      "  warnings.warn(\n",
      "/home/asufian/.local/share/pipx/venvs/notebook/lib/python3.12/site-packages/torchvision/models/_utils.py:223: UserWarning: Arguments other than a weight enum or `None` for 'weights' are deprecated since 0.13 and may be removed in the future. The current behavior is equivalent to passing `weights=None`.\n",
      "  warnings.warn(msg)\n",
      "Using cache found in /home/asufian/.cache/torch/hub/pytorch_vision_v0.10.0\n"
     ]
    },
    {
     "name": "stdout",
     "output_type": "stream",
     "text": [
      "----------------------> 0.6320736434108526\n",
      "Evaluated Accuracy: 0.6321\n",
      "Testing b_a_r = 0.0051, c_a_r = 0.1309, f_a_r = 0.9783\n"
     ]
    },
    {
     "name": "stderr",
     "output_type": "stream",
     "text": [
      "Using cache found in /home/asufian/.cache/torch/hub/pytorch_vision_v0.10.0\n",
      "/home/asufian/.local/share/pipx/venvs/notebook/lib/python3.12/site-packages/torchvision/models/_utils.py:208: UserWarning: The parameter 'pretrained' is deprecated since 0.13 and may be removed in the future, please use 'weights' instead.\n",
      "  warnings.warn(\n",
      "/home/asufian/.local/share/pipx/venvs/notebook/lib/python3.12/site-packages/torchvision/models/_utils.py:223: UserWarning: Arguments other than a weight enum or `None` for 'weights' are deprecated since 0.13 and may be removed in the future. The current behavior is equivalent to passing `weights=None`.\n",
      "  warnings.warn(msg)\n",
      "Using cache found in /home/asufian/.cache/torch/hub/pytorch_vision_v0.10.0\n"
     ]
    },
    {
     "name": "stdout",
     "output_type": "stream",
     "text": [
      "----------------------> 0.6334302325581397\n",
      "Evaluated Accuracy: 0.6334\n",
      "Testing b_a_r = 0.0407, c_a_r = 0.0864, f_a_r = 0.9709\n"
     ]
    },
    {
     "name": "stderr",
     "output_type": "stream",
     "text": [
      "Using cache found in /home/asufian/.cache/torch/hub/pytorch_vision_v0.10.0\n",
      "/home/asufian/.local/share/pipx/venvs/notebook/lib/python3.12/site-packages/torchvision/models/_utils.py:208: UserWarning: The parameter 'pretrained' is deprecated since 0.13 and may be removed in the future, please use 'weights' instead.\n",
      "  warnings.warn(\n",
      "/home/asufian/.local/share/pipx/venvs/notebook/lib/python3.12/site-packages/torchvision/models/_utils.py:223: UserWarning: Arguments other than a weight enum or `None` for 'weights' are deprecated since 0.13 and may be removed in the future. The current behavior is equivalent to passing `weights=None`.\n",
      "  warnings.warn(msg)\n",
      "Using cache found in /home/asufian/.cache/torch/hub/pytorch_vision_v0.10.0\n"
     ]
    },
    {
     "name": "stdout",
     "output_type": "stream",
     "text": [
      "----------------------> 0.6309108527131784\n",
      "Evaluated Accuracy: 0.6309\n",
      "Testing b_a_r = 0.0288, c_a_r = 0.0506, f_a_r = 0.0414\n"
     ]
    },
    {
     "name": "stderr",
     "output_type": "stream",
     "text": [
      "Using cache found in /home/asufian/.cache/torch/hub/pytorch_vision_v0.10.0\n",
      "/home/asufian/.local/share/pipx/venvs/notebook/lib/python3.12/site-packages/torchvision/models/_utils.py:208: UserWarning: The parameter 'pretrained' is deprecated since 0.13 and may be removed in the future, please use 'weights' instead.\n",
      "  warnings.warn(\n",
      "/home/asufian/.local/share/pipx/venvs/notebook/lib/python3.12/site-packages/torchvision/models/_utils.py:223: UserWarning: Arguments other than a weight enum or `None` for 'weights' are deprecated since 0.13 and may be removed in the future. The current behavior is equivalent to passing `weights=None`.\n",
      "  warnings.warn(msg)\n",
      "Using cache found in /home/asufian/.cache/torch/hub/pytorch_vision_v0.10.0\n"
     ]
    },
    {
     "name": "stdout",
     "output_type": "stream",
     "text": [
      "----------------------> 0.6262596899224806\n",
      "Evaluated Accuracy: 0.6263\n",
      "Testing b_a_r = 0.0186, c_a_r = 0.1330, f_a_r = 0.0066\n"
     ]
    },
    {
     "name": "stderr",
     "output_type": "stream",
     "text": [
      "Using cache found in /home/asufian/.cache/torch/hub/pytorch_vision_v0.10.0\n",
      "/home/asufian/.local/share/pipx/venvs/notebook/lib/python3.12/site-packages/torchvision/models/_utils.py:208: UserWarning: The parameter 'pretrained' is deprecated since 0.13 and may be removed in the future, please use 'weights' instead.\n",
      "  warnings.warn(\n",
      "/home/asufian/.local/share/pipx/venvs/notebook/lib/python3.12/site-packages/torchvision/models/_utils.py:223: UserWarning: Arguments other than a weight enum or `None` for 'weights' are deprecated since 0.13 and may be removed in the future. The current behavior is equivalent to passing `weights=None`.\n",
      "  warnings.warn(msg)\n",
      "Using cache found in /home/asufian/.cache/torch/hub/pytorch_vision_v0.10.0\n"
     ]
    },
    {
     "name": "stdout",
     "output_type": "stream",
     "text": [
      "----------------------> 0.6347868217054263\n",
      "Evaluated Accuracy: 0.6348\n",
      "Testing b_a_r = 0.9628, c_a_r = 0.1370, f_a_r = 0.0074\n"
     ]
    },
    {
     "name": "stderr",
     "output_type": "stream",
     "text": [
      "Using cache found in /home/asufian/.cache/torch/hub/pytorch_vision_v0.10.0\n",
      "/home/asufian/.local/share/pipx/venvs/notebook/lib/python3.12/site-packages/torchvision/models/_utils.py:208: UserWarning: The parameter 'pretrained' is deprecated since 0.13 and may be removed in the future, please use 'weights' instead.\n",
      "  warnings.warn(\n",
      "/home/asufian/.local/share/pipx/venvs/notebook/lib/python3.12/site-packages/torchvision/models/_utils.py:223: UserWarning: Arguments other than a weight enum or `None` for 'weights' are deprecated since 0.13 and may be removed in the future. The current behavior is equivalent to passing `weights=None`.\n",
      "  warnings.warn(msg)\n",
      "Using cache found in /home/asufian/.cache/torch/hub/pytorch_vision_v0.10.0\n"
     ]
    },
    {
     "name": "stdout",
     "output_type": "stream",
     "text": [
      "----------------------> 0.6305232558139535\n",
      "Evaluated Accuracy: 0.6305\n",
      "Testing b_a_r = 0.0379, c_a_r = 0.1007, f_a_r = 0.0196\n"
     ]
    },
    {
     "name": "stderr",
     "output_type": "stream",
     "text": [
      "Using cache found in /home/asufian/.cache/torch/hub/pytorch_vision_v0.10.0\n",
      "/home/asufian/.local/share/pipx/venvs/notebook/lib/python3.12/site-packages/torchvision/models/_utils.py:208: UserWarning: The parameter 'pretrained' is deprecated since 0.13 and may be removed in the future, please use 'weights' instead.\n",
      "  warnings.warn(\n",
      "/home/asufian/.local/share/pipx/venvs/notebook/lib/python3.12/site-packages/torchvision/models/_utils.py:223: UserWarning: Arguments other than a weight enum or `None` for 'weights' are deprecated since 0.13 and may be removed in the future. The current behavior is equivalent to passing `weights=None`.\n",
      "  warnings.warn(msg)\n",
      "Using cache found in /home/asufian/.cache/torch/hub/pytorch_vision_v0.10.0\n"
     ]
    },
    {
     "name": "stdout",
     "output_type": "stream",
     "text": [
      "----------------------> 0.6328488372093023\n",
      "Evaluated Accuracy: 0.6328\n",
      "Testing b_a_r = 0.0045, c_a_r = 0.5297, f_a_r = 0.2718\n"
     ]
    },
    {
     "name": "stderr",
     "output_type": "stream",
     "text": [
      "Using cache found in /home/asufian/.cache/torch/hub/pytorch_vision_v0.10.0\n",
      "/home/asufian/.local/share/pipx/venvs/notebook/lib/python3.12/site-packages/torchvision/models/_utils.py:208: UserWarning: The parameter 'pretrained' is deprecated since 0.13 and may be removed in the future, please use 'weights' instead.\n",
      "  warnings.warn(\n",
      "/home/asufian/.local/share/pipx/venvs/notebook/lib/python3.12/site-packages/torchvision/models/_utils.py:223: UserWarning: Arguments other than a weight enum or `None` for 'weights' are deprecated since 0.13 and may be removed in the future. The current behavior is equivalent to passing `weights=None`.\n",
      "  warnings.warn(msg)\n",
      "Using cache found in /home/asufian/.cache/torch/hub/pytorch_vision_v0.10.0\n"
     ]
    },
    {
     "name": "stdout",
     "output_type": "stream",
     "text": [
      "----------------------> 0.20959302325581394\n",
      "Evaluated Accuracy: 0.2096\n",
      "Testing b_a_r = 0.9733, c_a_r = 0.1166, f_a_r = 0.9977\n"
     ]
    },
    {
     "name": "stderr",
     "output_type": "stream",
     "text": [
      "Using cache found in /home/asufian/.cache/torch/hub/pytorch_vision_v0.10.0\n",
      "/home/asufian/.local/share/pipx/venvs/notebook/lib/python3.12/site-packages/torchvision/models/_utils.py:208: UserWarning: The parameter 'pretrained' is deprecated since 0.13 and may be removed in the future, please use 'weights' instead.\n",
      "  warnings.warn(\n",
      "/home/asufian/.local/share/pipx/venvs/notebook/lib/python3.12/site-packages/torchvision/models/_utils.py:223: UserWarning: Arguments other than a weight enum or `None` for 'weights' are deprecated since 0.13 and may be removed in the future. The current behavior is equivalent to passing `weights=None`.\n",
      "  warnings.warn(msg)\n",
      "Using cache found in /home/asufian/.cache/torch/hub/pytorch_vision_v0.10.0\n"
     ]
    },
    {
     "name": "stdout",
     "output_type": "stream",
     "text": [
      "----------------------> 0.6294573643410853\n",
      "Evaluated Accuracy: 0.6295\n",
      "Testing b_a_r = 0.0440, c_a_r = 0.1366, f_a_r = 0.0124\n"
     ]
    },
    {
     "name": "stderr",
     "output_type": "stream",
     "text": [
      "Using cache found in /home/asufian/.cache/torch/hub/pytorch_vision_v0.10.0\n",
      "/home/asufian/.local/share/pipx/venvs/notebook/lib/python3.12/site-packages/torchvision/models/_utils.py:208: UserWarning: The parameter 'pretrained' is deprecated since 0.13 and may be removed in the future, please use 'weights' instead.\n",
      "  warnings.warn(\n",
      "/home/asufian/.local/share/pipx/venvs/notebook/lib/python3.12/site-packages/torchvision/models/_utils.py:223: UserWarning: Arguments other than a weight enum or `None` for 'weights' are deprecated since 0.13 and may be removed in the future. The current behavior is equivalent to passing `weights=None`.\n",
      "  warnings.warn(msg)\n",
      "Using cache found in /home/asufian/.cache/torch/hub/pytorch_vision_v0.10.0\n"
     ]
    },
    {
     "name": "stdout",
     "output_type": "stream",
     "text": [
      "----------------------> 0.6344961240310079\n",
      "Evaluated Accuracy: 0.6345\n",
      "Testing b_a_r = 0.9884, c_a_r = 0.0749, f_a_r = 0.8646\n"
     ]
    },
    {
     "name": "stderr",
     "output_type": "stream",
     "text": [
      "Using cache found in /home/asufian/.cache/torch/hub/pytorch_vision_v0.10.0\n",
      "/home/asufian/.local/share/pipx/venvs/notebook/lib/python3.12/site-packages/torchvision/models/_utils.py:208: UserWarning: The parameter 'pretrained' is deprecated since 0.13 and may be removed in the future, please use 'weights' instead.\n",
      "  warnings.warn(\n",
      "/home/asufian/.local/share/pipx/venvs/notebook/lib/python3.12/site-packages/torchvision/models/_utils.py:223: UserWarning: Arguments other than a weight enum or `None` for 'weights' are deprecated since 0.13 and may be removed in the future. The current behavior is equivalent to passing `weights=None`.\n",
      "  warnings.warn(msg)\n",
      "Using cache found in /home/asufian/.cache/torch/hub/pytorch_vision_v0.10.0\n"
     ]
    },
    {
     "name": "stdout",
     "output_type": "stream",
     "text": [
      "----------------------> 0.6234496124031008\n",
      "Evaluated Accuracy: 0.6234\n",
      "Testing b_a_r = 0.8930, c_a_r = 0.1506, f_a_r = 0.0097\n"
     ]
    },
    {
     "name": "stderr",
     "output_type": "stream",
     "text": [
      "Using cache found in /home/asufian/.cache/torch/hub/pytorch_vision_v0.10.0\n",
      "/home/asufian/.local/share/pipx/venvs/notebook/lib/python3.12/site-packages/torchvision/models/_utils.py:208: UserWarning: The parameter 'pretrained' is deprecated since 0.13 and may be removed in the future, please use 'weights' instead.\n",
      "  warnings.warn(\n",
      "/home/asufian/.local/share/pipx/venvs/notebook/lib/python3.12/site-packages/torchvision/models/_utils.py:223: UserWarning: Arguments other than a weight enum or `None` for 'weights' are deprecated since 0.13 and may be removed in the future. The current behavior is equivalent to passing `weights=None`.\n",
      "  warnings.warn(msg)\n",
      "Using cache found in /home/asufian/.cache/torch/hub/pytorch_vision_v0.10.0\n"
     ]
    },
    {
     "name": "stdout",
     "output_type": "stream",
     "text": [
      "----------------------> 0.624031007751938\n",
      "Evaluated Accuracy: 0.6240\n",
      "Testing b_a_r = 0.0117, c_a_r = 0.1258, f_a_r = 0.9533\n"
     ]
    },
    {
     "name": "stderr",
     "output_type": "stream",
     "text": [
      "Using cache found in /home/asufian/.cache/torch/hub/pytorch_vision_v0.10.0\n",
      "/home/asufian/.local/share/pipx/venvs/notebook/lib/python3.12/site-packages/torchvision/models/_utils.py:208: UserWarning: The parameter 'pretrained' is deprecated since 0.13 and may be removed in the future, please use 'weights' instead.\n",
      "  warnings.warn(\n",
      "/home/asufian/.local/share/pipx/venvs/notebook/lib/python3.12/site-packages/torchvision/models/_utils.py:223: UserWarning: Arguments other than a weight enum or `None` for 'weights' are deprecated since 0.13 and may be removed in the future. The current behavior is equivalent to passing `weights=None`.\n",
      "  warnings.warn(msg)\n",
      "Using cache found in /home/asufian/.cache/torch/hub/pytorch_vision_v0.10.0\n"
     ]
    },
    {
     "name": "stdout",
     "output_type": "stream",
     "text": [
      "----------------------> 0.6360465116279068\n",
      "Evaluated Accuracy: 0.6360\n",
      "Testing b_a_r = 0.0043, c_a_r = 0.0494, f_a_r = 0.9724\n"
     ]
    },
    {
     "name": "stderr",
     "output_type": "stream",
     "text": [
      "Using cache found in /home/asufian/.cache/torch/hub/pytorch_vision_v0.10.0\n",
      "/home/asufian/.local/share/pipx/venvs/notebook/lib/python3.12/site-packages/torchvision/models/_utils.py:208: UserWarning: The parameter 'pretrained' is deprecated since 0.13 and may be removed in the future, please use 'weights' instead.\n",
      "  warnings.warn(\n",
      "/home/asufian/.local/share/pipx/venvs/notebook/lib/python3.12/site-packages/torchvision/models/_utils.py:223: UserWarning: Arguments other than a weight enum or `None` for 'weights' are deprecated since 0.13 and may be removed in the future. The current behavior is equivalent to passing `weights=None`.\n",
      "  warnings.warn(msg)\n",
      "Using cache found in /home/asufian/.cache/torch/hub/pytorch_vision_v0.10.0\n"
     ]
    },
    {
     "name": "stdout",
     "output_type": "stream",
     "text": [
      "----------------------> 0.6261627906976746\n",
      "Evaluated Accuracy: 0.6262\n",
      "Testing b_a_r = 0.1139, c_a_r = 0.0000, f_a_r = 0.0670\n"
     ]
    },
    {
     "name": "stderr",
     "output_type": "stream",
     "text": [
      "Using cache found in /home/asufian/.cache/torch/hub/pytorch_vision_v0.10.0\n",
      "/home/asufian/.local/share/pipx/venvs/notebook/lib/python3.12/site-packages/torchvision/models/_utils.py:208: UserWarning: The parameter 'pretrained' is deprecated since 0.13 and may be removed in the future, please use 'weights' instead.\n",
      "  warnings.warn(\n",
      "/home/asufian/.local/share/pipx/venvs/notebook/lib/python3.12/site-packages/torchvision/models/_utils.py:223: UserWarning: Arguments other than a weight enum or `None` for 'weights' are deprecated since 0.13 and may be removed in the future. The current behavior is equivalent to passing `weights=None`.\n",
      "  warnings.warn(msg)\n",
      "Using cache found in /home/asufian/.cache/torch/hub/pytorch_vision_v0.10.0\n"
     ]
    },
    {
     "name": "stdout",
     "output_type": "stream",
     "text": [
      "----------------------> 0.6190891472868217\n",
      "Evaluated Accuracy: 0.6191\n",
      "Testing b_a_r = 0.0089, c_a_r = 0.1106, f_a_r = 0.9659\n"
     ]
    },
    {
     "name": "stderr",
     "output_type": "stream",
     "text": [
      "Using cache found in /home/asufian/.cache/torch/hub/pytorch_vision_v0.10.0\n",
      "/home/asufian/.local/share/pipx/venvs/notebook/lib/python3.12/site-packages/torchvision/models/_utils.py:208: UserWarning: The parameter 'pretrained' is deprecated since 0.13 and may be removed in the future, please use 'weights' instead.\n",
      "  warnings.warn(\n",
      "/home/asufian/.local/share/pipx/venvs/notebook/lib/python3.12/site-packages/torchvision/models/_utils.py:223: UserWarning: Arguments other than a weight enum or `None` for 'weights' are deprecated since 0.13 and may be removed in the future. The current behavior is equivalent to passing `weights=None`.\n",
      "  warnings.warn(msg)\n",
      "Using cache found in /home/asufian/.cache/torch/hub/pytorch_vision_v0.10.0\n"
     ]
    },
    {
     "name": "stdout",
     "output_type": "stream",
     "text": [
      "----------------------> 0.6358527131782945\n",
      "Evaluated Accuracy: 0.6359\n",
      "Testing b_a_r = 0.0004, c_a_r = 0.1098, f_a_r = 0.0175\n"
     ]
    },
    {
     "name": "stderr",
     "output_type": "stream",
     "text": [
      "Using cache found in /home/asufian/.cache/torch/hub/pytorch_vision_v0.10.0\n",
      "/home/asufian/.local/share/pipx/venvs/notebook/lib/python3.12/site-packages/torchvision/models/_utils.py:208: UserWarning: The parameter 'pretrained' is deprecated since 0.13 and may be removed in the future, please use 'weights' instead.\n",
      "  warnings.warn(\n",
      "/home/asufian/.local/share/pipx/venvs/notebook/lib/python3.12/site-packages/torchvision/models/_utils.py:223: UserWarning: Arguments other than a weight enum or `None` for 'weights' are deprecated since 0.13 and may be removed in the future. The current behavior is equivalent to passing `weights=None`.\n",
      "  warnings.warn(msg)\n",
      "Using cache found in /home/asufian/.cache/torch/hub/pytorch_vision_v0.10.0\n"
     ]
    },
    {
     "name": "stdout",
     "output_type": "stream",
     "text": [
      "----------------------> 0.6355620155038759\n",
      "Evaluated Accuracy: 0.6356\n",
      "Testing b_a_r = 0.0287, c_a_r = 0.0125, f_a_r = 0.9423\n"
     ]
    },
    {
     "name": "stderr",
     "output_type": "stream",
     "text": [
      "Using cache found in /home/asufian/.cache/torch/hub/pytorch_vision_v0.10.0\n",
      "/home/asufian/.local/share/pipx/venvs/notebook/lib/python3.12/site-packages/torchvision/models/_utils.py:208: UserWarning: The parameter 'pretrained' is deprecated since 0.13 and may be removed in the future, please use 'weights' instead.\n",
      "  warnings.warn(\n",
      "/home/asufian/.local/share/pipx/venvs/notebook/lib/python3.12/site-packages/torchvision/models/_utils.py:223: UserWarning: Arguments other than a weight enum or `None` for 'weights' are deprecated since 0.13 and may be removed in the future. The current behavior is equivalent to passing `weights=None`.\n",
      "  warnings.warn(msg)\n",
      "Using cache found in /home/asufian/.cache/torch/hub/pytorch_vision_v0.10.0\n"
     ]
    },
    {
     "name": "stdout",
     "output_type": "stream",
     "text": [
      "----------------------> 0.6217054263565892\n",
      "Evaluated Accuracy: 0.6217\n",
      "Testing b_a_r = 0.0175, c_a_r = 0.0916, f_a_r = 0.0025\n"
     ]
    },
    {
     "name": "stderr",
     "output_type": "stream",
     "text": [
      "Using cache found in /home/asufian/.cache/torch/hub/pytorch_vision_v0.10.0\n",
      "/home/asufian/.local/share/pipx/venvs/notebook/lib/python3.12/site-packages/torchvision/models/_utils.py:208: UserWarning: The parameter 'pretrained' is deprecated since 0.13 and may be removed in the future, please use 'weights' instead.\n",
      "  warnings.warn(\n",
      "/home/asufian/.local/share/pipx/venvs/notebook/lib/python3.12/site-packages/torchvision/models/_utils.py:223: UserWarning: Arguments other than a weight enum or `None` for 'weights' are deprecated since 0.13 and may be removed in the future. The current behavior is equivalent to passing `weights=None`.\n",
      "  warnings.warn(msg)\n",
      "Using cache found in /home/asufian/.cache/torch/hub/pytorch_vision_v0.10.0\n"
     ]
    },
    {
     "name": "stdout",
     "output_type": "stream",
     "text": [
      "----------------------> 0.6330426356589148\n",
      "Evaluated Accuracy: 0.6330\n",
      "Testing b_a_r = 0.0057, c_a_r = 0.1273, f_a_r = 0.0034\n"
     ]
    },
    {
     "name": "stderr",
     "output_type": "stream",
     "text": [
      "Using cache found in /home/asufian/.cache/torch/hub/pytorch_vision_v0.10.0\n",
      "/home/asufian/.local/share/pipx/venvs/notebook/lib/python3.12/site-packages/torchvision/models/_utils.py:208: UserWarning: The parameter 'pretrained' is deprecated since 0.13 and may be removed in the future, please use 'weights' instead.\n",
      "  warnings.warn(\n",
      "/home/asufian/.local/share/pipx/venvs/notebook/lib/python3.12/site-packages/torchvision/models/_utils.py:223: UserWarning: Arguments other than a weight enum or `None` for 'weights' are deprecated since 0.13 and may be removed in the future. The current behavior is equivalent to passing `weights=None`.\n",
      "  warnings.warn(msg)\n",
      "Using cache found in /home/asufian/.cache/torch/hub/pytorch_vision_v0.10.0\n"
     ]
    },
    {
     "name": "stdout",
     "output_type": "stream",
     "text": [
      "----------------------> 0.6346899224806202\n",
      "Evaluated Accuracy: 0.6347\n",
      "Testing b_a_r = 0.9726, c_a_r = 0.1091, f_a_r = 0.0266\n"
     ]
    },
    {
     "name": "stderr",
     "output_type": "stream",
     "text": [
      "Using cache found in /home/asufian/.cache/torch/hub/pytorch_vision_v0.10.0\n",
      "/home/asufian/.local/share/pipx/venvs/notebook/lib/python3.12/site-packages/torchvision/models/_utils.py:208: UserWarning: The parameter 'pretrained' is deprecated since 0.13 and may be removed in the future, please use 'weights' instead.\n",
      "  warnings.warn(\n",
      "/home/asufian/.local/share/pipx/venvs/notebook/lib/python3.12/site-packages/torchvision/models/_utils.py:223: UserWarning: Arguments other than a weight enum or `None` for 'weights' are deprecated since 0.13 and may be removed in the future. The current behavior is equivalent to passing `weights=None`.\n",
      "  warnings.warn(msg)\n",
      "Using cache found in /home/asufian/.cache/torch/hub/pytorch_vision_v0.10.0\n"
     ]
    },
    {
     "name": "stdout",
     "output_type": "stream",
     "text": [
      "----------------------> 0.6314922480620154\n",
      "Evaluated Accuracy: 0.6315\n",
      "Testing b_a_r = 0.0087, c_a_r = 0.1010, f_a_r = 0.9311\n"
     ]
    },
    {
     "name": "stderr",
     "output_type": "stream",
     "text": [
      "Using cache found in /home/asufian/.cache/torch/hub/pytorch_vision_v0.10.0\n",
      "/home/asufian/.local/share/pipx/venvs/notebook/lib/python3.12/site-packages/torchvision/models/_utils.py:208: UserWarning: The parameter 'pretrained' is deprecated since 0.13 and may be removed in the future, please use 'weights' instead.\n",
      "  warnings.warn(\n",
      "/home/asufian/.local/share/pipx/venvs/notebook/lib/python3.12/site-packages/torchvision/models/_utils.py:223: UserWarning: Arguments other than a weight enum or `None` for 'weights' are deprecated since 0.13 and may be removed in the future. The current behavior is equivalent to passing `weights=None`.\n",
      "  warnings.warn(msg)\n",
      "Using cache found in /home/asufian/.cache/torch/hub/pytorch_vision_v0.10.0\n"
     ]
    },
    {
     "name": "stdout",
     "output_type": "stream",
     "text": [
      "----------------------> 0.6328488372093024\n",
      "Evaluated Accuracy: 0.6328\n",
      "Testing b_a_r = 0.0096, c_a_r = 0.1605, f_a_r = 0.0100\n"
     ]
    },
    {
     "name": "stderr",
     "output_type": "stream",
     "text": [
      "Using cache found in /home/asufian/.cache/torch/hub/pytorch_vision_v0.10.0\n",
      "/home/asufian/.local/share/pipx/venvs/notebook/lib/python3.12/site-packages/torchvision/models/_utils.py:208: UserWarning: The parameter 'pretrained' is deprecated since 0.13 and may be removed in the future, please use 'weights' instead.\n",
      "  warnings.warn(\n",
      "/home/asufian/.local/share/pipx/venvs/notebook/lib/python3.12/site-packages/torchvision/models/_utils.py:223: UserWarning: Arguments other than a weight enum or `None` for 'weights' are deprecated since 0.13 and may be removed in the future. The current behavior is equivalent to passing `weights=None`.\n",
      "  warnings.warn(msg)\n",
      "Using cache found in /home/asufian/.cache/torch/hub/pytorch_vision_v0.10.0\n"
     ]
    },
    {
     "name": "stdout",
     "output_type": "stream",
     "text": [
      "----------------------> 0.6218992248062015\n",
      "Evaluated Accuracy: 0.6219\n",
      "Testing b_a_r = 0.0187, c_a_r = 0.9467, f_a_r = 0.0015\n"
     ]
    },
    {
     "name": "stderr",
     "output_type": "stream",
     "text": [
      "Using cache found in /home/asufian/.cache/torch/hub/pytorch_vision_v0.10.0\n",
      "/home/asufian/.local/share/pipx/venvs/notebook/lib/python3.12/site-packages/torchvision/models/_utils.py:208: UserWarning: The parameter 'pretrained' is deprecated since 0.13 and may be removed in the future, please use 'weights' instead.\n",
      "  warnings.warn(\n",
      "/home/asufian/.local/share/pipx/venvs/notebook/lib/python3.12/site-packages/torchvision/models/_utils.py:223: UserWarning: Arguments other than a weight enum or `None` for 'weights' are deprecated since 0.13 and may be removed in the future. The current behavior is equivalent to passing `weights=None`.\n",
      "  warnings.warn(msg)\n",
      "Using cache found in /home/asufian/.cache/torch/hub/pytorch_vision_v0.10.0\n"
     ]
    },
    {
     "name": "stdout",
     "output_type": "stream",
     "text": [
      "----------------------> 0.24854651162790695\n",
      "Evaluated Accuracy: 0.2485\n",
      "Testing b_a_r = 0.0091, c_a_r = 0.1392, f_a_r = 0.9960\n"
     ]
    },
    {
     "name": "stderr",
     "output_type": "stream",
     "text": [
      "Using cache found in /home/asufian/.cache/torch/hub/pytorch_vision_v0.10.0\n",
      "/home/asufian/.local/share/pipx/venvs/notebook/lib/python3.12/site-packages/torchvision/models/_utils.py:208: UserWarning: The parameter 'pretrained' is deprecated since 0.13 and may be removed in the future, please use 'weights' instead.\n",
      "  warnings.warn(\n",
      "/home/asufian/.local/share/pipx/venvs/notebook/lib/python3.12/site-packages/torchvision/models/_utils.py:223: UserWarning: Arguments other than a weight enum or `None` for 'weights' are deprecated since 0.13 and may be removed in the future. The current behavior is equivalent to passing `weights=None`.\n",
      "  warnings.warn(msg)\n",
      "Using cache found in /home/asufian/.cache/torch/hub/pytorch_vision_v0.10.0\n"
     ]
    },
    {
     "name": "stdout",
     "output_type": "stream",
     "text": [
      "----------------------> 0.6345930232558139\n",
      "Evaluated Accuracy: 0.6346\n",
      "Testing b_a_r = 0.0300, c_a_r = 0.0693, f_a_r = 0.0383\n"
     ]
    },
    {
     "name": "stderr",
     "output_type": "stream",
     "text": [
      "Using cache found in /home/asufian/.cache/torch/hub/pytorch_vision_v0.10.0\n",
      "/home/asufian/.local/share/pipx/venvs/notebook/lib/python3.12/site-packages/torchvision/models/_utils.py:208: UserWarning: The parameter 'pretrained' is deprecated since 0.13 and may be removed in the future, please use 'weights' instead.\n",
      "  warnings.warn(\n",
      "/home/asufian/.local/share/pipx/venvs/notebook/lib/python3.12/site-packages/torchvision/models/_utils.py:223: UserWarning: Arguments other than a weight enum or `None` for 'weights' are deprecated since 0.13 and may be removed in the future. The current behavior is equivalent to passing `weights=None`.\n",
      "  warnings.warn(msg)\n",
      "Using cache found in /home/asufian/.cache/torch/hub/pytorch_vision_v0.10.0\n"
     ]
    },
    {
     "name": "stdout",
     "output_type": "stream",
     "text": [
      "----------------------> 0.6262596899224807\n",
      "Evaluated Accuracy: 0.6263\n",
      "Testing b_a_r = 0.0049, c_a_r = 0.6854, f_a_r = 0.6305\n"
     ]
    },
    {
     "name": "stderr",
     "output_type": "stream",
     "text": [
      "Using cache found in /home/asufian/.cache/torch/hub/pytorch_vision_v0.10.0\n",
      "/home/asufian/.local/share/pipx/venvs/notebook/lib/python3.12/site-packages/torchvision/models/_utils.py:208: UserWarning: The parameter 'pretrained' is deprecated since 0.13 and may be removed in the future, please use 'weights' instead.\n",
      "  warnings.warn(\n",
      "/home/asufian/.local/share/pipx/venvs/notebook/lib/python3.12/site-packages/torchvision/models/_utils.py:223: UserWarning: Arguments other than a weight enum or `None` for 'weights' are deprecated since 0.13 and may be removed in the future. The current behavior is equivalent to passing `weights=None`.\n",
      "  warnings.warn(msg)\n",
      "Using cache found in /home/asufian/.cache/torch/hub/pytorch_vision_v0.10.0\n"
     ]
    },
    {
     "name": "stdout",
     "output_type": "stream",
     "text": [
      "----------------------> 0.24370155038759697\n",
      "Evaluated Accuracy: 0.2437\n",
      "Testing b_a_r = 0.0236, c_a_r = 0.1224, f_a_r = 0.0043\n"
     ]
    },
    {
     "name": "stderr",
     "output_type": "stream",
     "text": [
      "Using cache found in /home/asufian/.cache/torch/hub/pytorch_vision_v0.10.0\n",
      "/home/asufian/.local/share/pipx/venvs/notebook/lib/python3.12/site-packages/torchvision/models/_utils.py:208: UserWarning: The parameter 'pretrained' is deprecated since 0.13 and may be removed in the future, please use 'weights' instead.\n",
      "  warnings.warn(\n",
      "/home/asufian/.local/share/pipx/venvs/notebook/lib/python3.12/site-packages/torchvision/models/_utils.py:223: UserWarning: Arguments other than a weight enum or `None` for 'weights' are deprecated since 0.13 and may be removed in the future. The current behavior is equivalent to passing `weights=None`.\n",
      "  warnings.warn(msg)\n",
      "Using cache found in /home/asufian/.cache/torch/hub/pytorch_vision_v0.10.0\n"
     ]
    },
    {
     "name": "stdout",
     "output_type": "stream",
     "text": [
      "----------------------> 0.6346899224806201\n",
      "Evaluated Accuracy: 0.6347\n",
      "Testing b_a_r = 0.0134, c_a_r = 0.0283, f_a_r = 0.0487\n"
     ]
    },
    {
     "name": "stderr",
     "output_type": "stream",
     "text": [
      "Using cache found in /home/asufian/.cache/torch/hub/pytorch_vision_v0.10.0\n",
      "/home/asufian/.local/share/pipx/venvs/notebook/lib/python3.12/site-packages/torchvision/models/_utils.py:208: UserWarning: The parameter 'pretrained' is deprecated since 0.13 and may be removed in the future, please use 'weights' instead.\n",
      "  warnings.warn(\n",
      "/home/asufian/.local/share/pipx/venvs/notebook/lib/python3.12/site-packages/torchvision/models/_utils.py:223: UserWarning: Arguments other than a weight enum or `None` for 'weights' are deprecated since 0.13 and may be removed in the future. The current behavior is equivalent to passing `weights=None`.\n",
      "  warnings.warn(msg)\n",
      "Using cache found in /home/asufian/.cache/torch/hub/pytorch_vision_v0.10.0\n"
     ]
    },
    {
     "name": "stdout",
     "output_type": "stream",
     "text": [
      "----------------------> 0.6224806201550389\n",
      "Evaluated Accuracy: 0.6225\n",
      "Testing b_a_r = 0.0091, c_a_r = 0.1201, f_a_r = 0.9912\n"
     ]
    },
    {
     "name": "stderr",
     "output_type": "stream",
     "text": [
      "Using cache found in /home/asufian/.cache/torch/hub/pytorch_vision_v0.10.0\n",
      "/home/asufian/.local/share/pipx/venvs/notebook/lib/python3.12/site-packages/torchvision/models/_utils.py:208: UserWarning: The parameter 'pretrained' is deprecated since 0.13 and may be removed in the future, please use 'weights' instead.\n",
      "  warnings.warn(\n",
      "/home/asufian/.local/share/pipx/venvs/notebook/lib/python3.12/site-packages/torchvision/models/_utils.py:223: UserWarning: Arguments other than a weight enum or `None` for 'weights' are deprecated since 0.13 and may be removed in the future. The current behavior is equivalent to passing `weights=None`.\n",
      "  warnings.warn(msg)\n",
      "Using cache found in /home/asufian/.cache/torch/hub/pytorch_vision_v0.10.0\n"
     ]
    },
    {
     "name": "stdout",
     "output_type": "stream",
     "text": [
      "----------------------> 0.6346899224806201\n",
      "Evaluated Accuracy: 0.6347\n",
      "Testing b_a_r = 0.0002, c_a_r = 0.0760, f_a_r = 0.9944\n"
     ]
    },
    {
     "name": "stderr",
     "output_type": "stream",
     "text": [
      "Using cache found in /home/asufian/.cache/torch/hub/pytorch_vision_v0.10.0\n",
      "/home/asufian/.local/share/pipx/venvs/notebook/lib/python3.12/site-packages/torchvision/models/_utils.py:208: UserWarning: The parameter 'pretrained' is deprecated since 0.13 and may be removed in the future, please use 'weights' instead.\n",
      "  warnings.warn(\n",
      "/home/asufian/.local/share/pipx/venvs/notebook/lib/python3.12/site-packages/torchvision/models/_utils.py:223: UserWarning: Arguments other than a weight enum or `None` for 'weights' are deprecated since 0.13 and may be removed in the future. The current behavior is equivalent to passing `weights=None`.\n",
      "  warnings.warn(msg)\n",
      "Using cache found in /home/asufian/.cache/torch/hub/pytorch_vision_v0.10.0\n"
     ]
    },
    {
     "name": "stdout",
     "output_type": "stream",
     "text": [
      "----------------------> 0.6271317829457365\n",
      "Evaluated Accuracy: 0.6271\n",
      "Testing b_a_r = 0.9659, c_a_r = 0.1286, f_a_r = 0.9805\n"
     ]
    },
    {
     "name": "stderr",
     "output_type": "stream",
     "text": [
      "Using cache found in /home/asufian/.cache/torch/hub/pytorch_vision_v0.10.0\n",
      "/home/asufian/.local/share/pipx/venvs/notebook/lib/python3.12/site-packages/torchvision/models/_utils.py:208: UserWarning: The parameter 'pretrained' is deprecated since 0.13 and may be removed in the future, please use 'weights' instead.\n",
      "  warnings.warn(\n",
      "/home/asufian/.local/share/pipx/venvs/notebook/lib/python3.12/site-packages/torchvision/models/_utils.py:223: UserWarning: Arguments other than a weight enum or `None` for 'weights' are deprecated since 0.13 and may be removed in the future. The current behavior is equivalent to passing `weights=None`.\n",
      "  warnings.warn(msg)\n",
      "Using cache found in /home/asufian/.cache/torch/hub/pytorch_vision_v0.10.0\n"
     ]
    },
    {
     "name": "stdout",
     "output_type": "stream",
     "text": [
      "----------------------> 0.6323643410852712\n",
      "Evaluated Accuracy: 0.6324\n",
      "Testing b_a_r = 0.9496, c_a_r = 0.0939, f_a_r = 0.0559\n"
     ]
    },
    {
     "name": "stderr",
     "output_type": "stream",
     "text": [
      "Using cache found in /home/asufian/.cache/torch/hub/pytorch_vision_v0.10.0\n",
      "/home/asufian/.local/share/pipx/venvs/notebook/lib/python3.12/site-packages/torchvision/models/_utils.py:208: UserWarning: The parameter 'pretrained' is deprecated since 0.13 and may be removed in the future, please use 'weights' instead.\n",
      "  warnings.warn(\n",
      "/home/asufian/.local/share/pipx/venvs/notebook/lib/python3.12/site-packages/torchvision/models/_utils.py:223: UserWarning: Arguments other than a weight enum or `None` for 'weights' are deprecated since 0.13 and may be removed in the future. The current behavior is equivalent to passing `weights=None`.\n",
      "  warnings.warn(msg)\n",
      "Using cache found in /home/asufian/.cache/torch/hub/pytorch_vision_v0.10.0\n"
     ]
    },
    {
     "name": "stdout",
     "output_type": "stream",
     "text": [
      "----------------------> 0.6290697674418605\n",
      "Evaluated Accuracy: 0.6291\n",
      "Testing b_a_r = 0.9949, c_a_r = 0.0194, f_a_r = 0.0082\n"
     ]
    },
    {
     "name": "stderr",
     "output_type": "stream",
     "text": [
      "Using cache found in /home/asufian/.cache/torch/hub/pytorch_vision_v0.10.0\n",
      "/home/asufian/.local/share/pipx/venvs/notebook/lib/python3.12/site-packages/torchvision/models/_utils.py:208: UserWarning: The parameter 'pretrained' is deprecated since 0.13 and may be removed in the future, please use 'weights' instead.\n",
      "  warnings.warn(\n",
      "/home/asufian/.local/share/pipx/venvs/notebook/lib/python3.12/site-packages/torchvision/models/_utils.py:223: UserWarning: Arguments other than a weight enum or `None` for 'weights' are deprecated since 0.13 and may be removed in the future. The current behavior is equivalent to passing `weights=None`.\n",
      "  warnings.warn(msg)\n",
      "Using cache found in /home/asufian/.cache/torch/hub/pytorch_vision_v0.10.0\n"
     ]
    },
    {
     "name": "stdout",
     "output_type": "stream",
     "text": [
      "----------------------> 0.6162790697674418\n",
      "Evaluated Accuracy: 0.6163\n",
      "Testing b_a_r = 0.9870, c_a_r = 0.1419, f_a_r = 0.9936\n"
     ]
    },
    {
     "name": "stderr",
     "output_type": "stream",
     "text": [
      "Using cache found in /home/asufian/.cache/torch/hub/pytorch_vision_v0.10.0\n",
      "/home/asufian/.local/share/pipx/venvs/notebook/lib/python3.12/site-packages/torchvision/models/_utils.py:208: UserWarning: The parameter 'pretrained' is deprecated since 0.13 and may be removed in the future, please use 'weights' instead.\n",
      "  warnings.warn(\n",
      "/home/asufian/.local/share/pipx/venvs/notebook/lib/python3.12/site-packages/torchvision/models/_utils.py:223: UserWarning: Arguments other than a weight enum or `None` for 'weights' are deprecated since 0.13 and may be removed in the future. The current behavior is equivalent to passing `weights=None`.\n",
      "  warnings.warn(msg)\n",
      "Using cache found in /home/asufian/.cache/torch/hub/pytorch_vision_v0.10.0\n"
     ]
    },
    {
     "name": "stdout",
     "output_type": "stream",
     "text": [
      "----------------------> 0.6277131782945736\n",
      "Evaluated Accuracy: 0.6277\n",
      "Testing b_a_r = 0.0242, c_a_r = 0.1140, f_a_r = 0.9980\n"
     ]
    },
    {
     "name": "stderr",
     "output_type": "stream",
     "text": [
      "Using cache found in /home/asufian/.cache/torch/hub/pytorch_vision_v0.10.0\n",
      "/home/asufian/.local/share/pipx/venvs/notebook/lib/python3.12/site-packages/torchvision/models/_utils.py:208: UserWarning: The parameter 'pretrained' is deprecated since 0.13 and may be removed in the future, please use 'weights' instead.\n",
      "  warnings.warn(\n",
      "/home/asufian/.local/share/pipx/venvs/notebook/lib/python3.12/site-packages/torchvision/models/_utils.py:223: UserWarning: Arguments other than a weight enum or `None` for 'weights' are deprecated since 0.13 and may be removed in the future. The current behavior is equivalent to passing `weights=None`.\n",
      "  warnings.warn(msg)\n",
      "Using cache found in /home/asufian/.cache/torch/hub/pytorch_vision_v0.10.0\n"
     ]
    },
    {
     "name": "stdout",
     "output_type": "stream",
     "text": [
      "----------------------> 0.6360465116279069\n",
      "Evaluated Accuracy: 0.6360\n",
      "Testing b_a_r = 0.0422, c_a_r = 0.1355, f_a_r = 0.0234\n"
     ]
    },
    {
     "name": "stderr",
     "output_type": "stream",
     "text": [
      "Using cache found in /home/asufian/.cache/torch/hub/pytorch_vision_v0.10.0\n",
      "/home/asufian/.local/share/pipx/venvs/notebook/lib/python3.12/site-packages/torchvision/models/_utils.py:208: UserWarning: The parameter 'pretrained' is deprecated since 0.13 and may be removed in the future, please use 'weights' instead.\n",
      "  warnings.warn(\n",
      "/home/asufian/.local/share/pipx/venvs/notebook/lib/python3.12/site-packages/torchvision/models/_utils.py:223: UserWarning: Arguments other than a weight enum or `None` for 'weights' are deprecated since 0.13 and may be removed in the future. The current behavior is equivalent to passing `weights=None`.\n",
      "  warnings.warn(msg)\n",
      "Using cache found in /home/asufian/.cache/torch/hub/pytorch_vision_v0.10.0\n"
     ]
    },
    {
     "name": "stdout",
     "output_type": "stream",
     "text": [
      "----------------------> 0.6343023255813953\n",
      "Evaluated Accuracy: 0.6343\n",
      "Testing b_a_r = 0.0291, c_a_r = 0.1047, f_a_r = 0.9708\n"
     ]
    },
    {
     "name": "stderr",
     "output_type": "stream",
     "text": [
      "Using cache found in /home/asufian/.cache/torch/hub/pytorch_vision_v0.10.0\n",
      "/home/asufian/.local/share/pipx/venvs/notebook/lib/python3.12/site-packages/torchvision/models/_utils.py:208: UserWarning: The parameter 'pretrained' is deprecated since 0.13 and may be removed in the future, please use 'weights' instead.\n",
      "  warnings.warn(\n",
      "/home/asufian/.local/share/pipx/venvs/notebook/lib/python3.12/site-packages/torchvision/models/_utils.py:223: UserWarning: Arguments other than a weight enum or `None` for 'weights' are deprecated since 0.13 and may be removed in the future. The current behavior is equivalent to passing `weights=None`.\n",
      "  warnings.warn(msg)\n",
      "Using cache found in /home/asufian/.cache/torch/hub/pytorch_vision_v0.10.0\n"
     ]
    },
    {
     "name": "stdout",
     "output_type": "stream",
     "text": [
      "----------------------> 0.6331395348837209\n",
      "Evaluated Accuracy: 0.6331\n",
      "Testing b_a_r = 0.0251, c_a_r = 0.0002, f_a_r = 0.9450\n"
     ]
    },
    {
     "name": "stderr",
     "output_type": "stream",
     "text": [
      "Using cache found in /home/asufian/.cache/torch/hub/pytorch_vision_v0.10.0\n",
      "/home/asufian/.local/share/pipx/venvs/notebook/lib/python3.12/site-packages/torchvision/models/_utils.py:208: UserWarning: The parameter 'pretrained' is deprecated since 0.13 and may be removed in the future, please use 'weights' instead.\n",
      "  warnings.warn(\n",
      "/home/asufian/.local/share/pipx/venvs/notebook/lib/python3.12/site-packages/torchvision/models/_utils.py:223: UserWarning: Arguments other than a weight enum or `None` for 'weights' are deprecated since 0.13 and may be removed in the future. The current behavior is equivalent to passing `weights=None`.\n",
      "  warnings.warn(msg)\n",
      "Using cache found in /home/asufian/.cache/torch/hub/pytorch_vision_v0.10.0\n"
     ]
    },
    {
     "name": "stdout",
     "output_type": "stream",
     "text": [
      "----------------------> 0.6189922480620155\n",
      "Evaluated Accuracy: 0.6190\n",
      "Testing b_a_r = 0.0191, c_a_r = 0.1226, f_a_r = 0.0109\n"
     ]
    },
    {
     "name": "stderr",
     "output_type": "stream",
     "text": [
      "Using cache found in /home/asufian/.cache/torch/hub/pytorch_vision_v0.10.0\n",
      "/home/asufian/.local/share/pipx/venvs/notebook/lib/python3.12/site-packages/torchvision/models/_utils.py:208: UserWarning: The parameter 'pretrained' is deprecated since 0.13 and may be removed in the future, please use 'weights' instead.\n",
      "  warnings.warn(\n",
      "/home/asufian/.local/share/pipx/venvs/notebook/lib/python3.12/site-packages/torchvision/models/_utils.py:223: UserWarning: Arguments other than a weight enum or `None` for 'weights' are deprecated since 0.13 and may be removed in the future. The current behavior is equivalent to passing `weights=None`.\n",
      "  warnings.warn(msg)\n",
      "Using cache found in /home/asufian/.cache/torch/hub/pytorch_vision_v0.10.0\n"
     ]
    },
    {
     "name": "stdout",
     "output_type": "stream",
     "text": [
      "----------------------> 0.6343992248062016\n",
      "Evaluated Accuracy: 0.6344\n",
      "Testing b_a_r = 0.0376, c_a_r = 0.1455, f_a_r = 0.9366\n"
     ]
    },
    {
     "name": "stderr",
     "output_type": "stream",
     "text": [
      "Using cache found in /home/asufian/.cache/torch/hub/pytorch_vision_v0.10.0\n",
      "/home/asufian/.local/share/pipx/venvs/notebook/lib/python3.12/site-packages/torchvision/models/_utils.py:208: UserWarning: The parameter 'pretrained' is deprecated since 0.13 and may be removed in the future, please use 'weights' instead.\n",
      "  warnings.warn(\n",
      "/home/asufian/.local/share/pipx/venvs/notebook/lib/python3.12/site-packages/torchvision/models/_utils.py:223: UserWarning: Arguments other than a weight enum or `None` for 'weights' are deprecated since 0.13 and may be removed in the future. The current behavior is equivalent to passing `weights=None`.\n",
      "  warnings.warn(msg)\n",
      "Using cache found in /home/asufian/.cache/torch/hub/pytorch_vision_v0.10.0\n"
     ]
    },
    {
     "name": "stdout",
     "output_type": "stream",
     "text": [
      "----------------------> 0.6316860465116279\n",
      "Evaluated Accuracy: 0.6317\n",
      "Testing b_a_r = 0.9469, c_a_r = 0.0966, f_a_r = 0.9626\n"
     ]
    },
    {
     "name": "stderr",
     "output_type": "stream",
     "text": [
      "Using cache found in /home/asufian/.cache/torch/hub/pytorch_vision_v0.10.0\n",
      "/home/asufian/.local/share/pipx/venvs/notebook/lib/python3.12/site-packages/torchvision/models/_utils.py:208: UserWarning: The parameter 'pretrained' is deprecated since 0.13 and may be removed in the future, please use 'weights' instead.\n",
      "  warnings.warn(\n",
      "/home/asufian/.local/share/pipx/venvs/notebook/lib/python3.12/site-packages/torchvision/models/_utils.py:223: UserWarning: Arguments other than a weight enum or `None` for 'weights' are deprecated since 0.13 and may be removed in the future. The current behavior is equivalent to passing `weights=None`.\n",
      "  warnings.warn(msg)\n",
      "Using cache found in /home/asufian/.cache/torch/hub/pytorch_vision_v0.10.0\n"
     ]
    },
    {
     "name": "stdout",
     "output_type": "stream",
     "text": [
      "----------------------> 0.6287790697674419\n",
      "Evaluated Accuracy: 0.6288\n",
      "Testing b_a_r = 0.9851, c_a_r = 0.0417, f_a_r = 0.9790\n"
     ]
    },
    {
     "name": "stderr",
     "output_type": "stream",
     "text": [
      "Using cache found in /home/asufian/.cache/torch/hub/pytorch_vision_v0.10.0\n",
      "/home/asufian/.local/share/pipx/venvs/notebook/lib/python3.12/site-packages/torchvision/models/_utils.py:208: UserWarning: The parameter 'pretrained' is deprecated since 0.13 and may be removed in the future, please use 'weights' instead.\n",
      "  warnings.warn(\n",
      "/home/asufian/.local/share/pipx/venvs/notebook/lib/python3.12/site-packages/torchvision/models/_utils.py:223: UserWarning: Arguments other than a weight enum or `None` for 'weights' are deprecated since 0.13 and may be removed in the future. The current behavior is equivalent to passing `weights=None`.\n",
      "  warnings.warn(msg)\n",
      "Using cache found in /home/asufian/.cache/torch/hub/pytorch_vision_v0.10.0\n"
     ]
    },
    {
     "name": "stdout",
     "output_type": "stream",
     "text": [
      "----------------------> 0.6190891472868215\n",
      "Evaluated Accuracy: 0.6191\n",
      "Testing b_a_r = 0.0510, c_a_r = 0.3851, f_a_r = 0.9676\n"
     ]
    },
    {
     "name": "stderr",
     "output_type": "stream",
     "text": [
      "Using cache found in /home/asufian/.cache/torch/hub/pytorch_vision_v0.10.0\n",
      "/home/asufian/.local/share/pipx/venvs/notebook/lib/python3.12/site-packages/torchvision/models/_utils.py:208: UserWarning: The parameter 'pretrained' is deprecated since 0.13 and may be removed in the future, please use 'weights' instead.\n",
      "  warnings.warn(\n",
      "/home/asufian/.local/share/pipx/venvs/notebook/lib/python3.12/site-packages/torchvision/models/_utils.py:223: UserWarning: Arguments other than a weight enum or `None` for 'weights' are deprecated since 0.13 and may be removed in the future. The current behavior is equivalent to passing `weights=None`.\n",
      "  warnings.warn(msg)\n",
      "Using cache found in /home/asufian/.cache/torch/hub/pytorch_vision_v0.10.0\n"
     ]
    },
    {
     "name": "stdout",
     "output_type": "stream",
     "text": [
      "----------------------> 0.3601744186046512\n",
      "Evaluated Accuracy: 0.3602\n",
      "Testing b_a_r = 0.0036, c_a_r = 0.8170, f_a_r = 0.1278\n"
     ]
    },
    {
     "name": "stderr",
     "output_type": "stream",
     "text": [
      "Using cache found in /home/asufian/.cache/torch/hub/pytorch_vision_v0.10.0\n",
      "/home/asufian/.local/share/pipx/venvs/notebook/lib/python3.12/site-packages/torchvision/models/_utils.py:208: UserWarning: The parameter 'pretrained' is deprecated since 0.13 and may be removed in the future, please use 'weights' instead.\n",
      "  warnings.warn(\n",
      "/home/asufian/.local/share/pipx/venvs/notebook/lib/python3.12/site-packages/torchvision/models/_utils.py:223: UserWarning: Arguments other than a weight enum or `None` for 'weights' are deprecated since 0.13 and may be removed in the future. The current behavior is equivalent to passing `weights=None`.\n",
      "  warnings.warn(msg)\n",
      "Using cache found in /home/asufian/.cache/torch/hub/pytorch_vision_v0.10.0\n"
     ]
    },
    {
     "name": "stdout",
     "output_type": "stream",
     "text": [
      "----------------------> 0.2554263565891473\n",
      "Evaluated Accuracy: 0.2554\n",
      "Testing b_a_r = 0.0358, c_a_r = 0.1952, f_a_r = 0.0722\n"
     ]
    },
    {
     "name": "stderr",
     "output_type": "stream",
     "text": [
      "Using cache found in /home/asufian/.cache/torch/hub/pytorch_vision_v0.10.0\n",
      "/home/asufian/.local/share/pipx/venvs/notebook/lib/python3.12/site-packages/torchvision/models/_utils.py:208: UserWarning: The parameter 'pretrained' is deprecated since 0.13 and may be removed in the future, please use 'weights' instead.\n",
      "  warnings.warn(\n",
      "/home/asufian/.local/share/pipx/venvs/notebook/lib/python3.12/site-packages/torchvision/models/_utils.py:223: UserWarning: Arguments other than a weight enum or `None` for 'weights' are deprecated since 0.13 and may be removed in the future. The current behavior is equivalent to passing `weights=None`.\n",
      "  warnings.warn(msg)\n",
      "Using cache found in /home/asufian/.cache/torch/hub/pytorch_vision_v0.10.0\n"
     ]
    },
    {
     "name": "stdout",
     "output_type": "stream",
     "text": [
      "----------------------> 0.5765503875968994\n",
      "Evaluated Accuracy: 0.5766\n",
      "Testing b_a_r = 0.9391, c_a_r = 0.1229, f_a_r = 0.0031\n"
     ]
    },
    {
     "name": "stderr",
     "output_type": "stream",
     "text": [
      "Using cache found in /home/asufian/.cache/torch/hub/pytorch_vision_v0.10.0\n",
      "/home/asufian/.local/share/pipx/venvs/notebook/lib/python3.12/site-packages/torchvision/models/_utils.py:208: UserWarning: The parameter 'pretrained' is deprecated since 0.13 and may be removed in the future, please use 'weights' instead.\n",
      "  warnings.warn(\n",
      "/home/asufian/.local/share/pipx/venvs/notebook/lib/python3.12/site-packages/torchvision/models/_utils.py:223: UserWarning: Arguments other than a weight enum or `None` for 'weights' are deprecated since 0.13 and may be removed in the future. The current behavior is equivalent to passing `weights=None`.\n",
      "  warnings.warn(msg)\n",
      "Using cache found in /home/asufian/.cache/torch/hub/pytorch_vision_v0.10.0\n"
     ]
    },
    {
     "name": "stdout",
     "output_type": "stream",
     "text": [
      "----------------------> 0.6320736434108526\n",
      "Evaluated Accuracy: 0.6321\n",
      "Testing b_a_r = 0.7971, c_a_r = 0.5553, f_a_r = 0.8763\n"
     ]
    },
    {
     "name": "stderr",
     "output_type": "stream",
     "text": [
      "Using cache found in /home/asufian/.cache/torch/hub/pytorch_vision_v0.10.0\n",
      "/home/asufian/.local/share/pipx/venvs/notebook/lib/python3.12/site-packages/torchvision/models/_utils.py:208: UserWarning: The parameter 'pretrained' is deprecated since 0.13 and may be removed in the future, please use 'weights' instead.\n",
      "  warnings.warn(\n",
      "/home/asufian/.local/share/pipx/venvs/notebook/lib/python3.12/site-packages/torchvision/models/_utils.py:223: UserWarning: Arguments other than a weight enum or `None` for 'weights' are deprecated since 0.13 and may be removed in the future. The current behavior is equivalent to passing `weights=None`.\n",
      "  warnings.warn(msg)\n",
      "Using cache found in /home/asufian/.cache/torch/hub/pytorch_vision_v0.10.0\n"
     ]
    },
    {
     "name": "stdout",
     "output_type": "stream",
     "text": [
      "----------------------> 0.2116279069767442\n",
      "Evaluated Accuracy: 0.2116\n",
      "Testing b_a_r = 0.0037, c_a_r = 0.1157, f_a_r = 0.0026\n"
     ]
    },
    {
     "name": "stderr",
     "output_type": "stream",
     "text": [
      "Using cache found in /home/asufian/.cache/torch/hub/pytorch_vision_v0.10.0\n",
      "/home/asufian/.local/share/pipx/venvs/notebook/lib/python3.12/site-packages/torchvision/models/_utils.py:208: UserWarning: The parameter 'pretrained' is deprecated since 0.13 and may be removed in the future, please use 'weights' instead.\n",
      "  warnings.warn(\n",
      "/home/asufian/.local/share/pipx/venvs/notebook/lib/python3.12/site-packages/torchvision/models/_utils.py:223: UserWarning: Arguments other than a weight enum or `None` for 'weights' are deprecated since 0.13 and may be removed in the future. The current behavior is equivalent to passing `weights=None`.\n",
      "  warnings.warn(msg)\n",
      "Using cache found in /home/asufian/.cache/torch/hub/pytorch_vision_v0.10.0\n"
     ]
    },
    {
     "name": "stdout",
     "output_type": "stream",
     "text": [
      "----------------------> 0.6346899224806202\n",
      "Evaluated Accuracy: 0.6347\n",
      "Testing b_a_r = 0.2591, c_a_r = 0.8671, f_a_r = 0.0987\n"
     ]
    },
    {
     "name": "stderr",
     "output_type": "stream",
     "text": [
      "Using cache found in /home/asufian/.cache/torch/hub/pytorch_vision_v0.10.0\n",
      "/home/asufian/.local/share/pipx/venvs/notebook/lib/python3.12/site-packages/torchvision/models/_utils.py:208: UserWarning: The parameter 'pretrained' is deprecated since 0.13 and may be removed in the future, please use 'weights' instead.\n",
      "  warnings.warn(\n",
      "/home/asufian/.local/share/pipx/venvs/notebook/lib/python3.12/site-packages/torchvision/models/_utils.py:223: UserWarning: Arguments other than a weight enum or `None` for 'weights' are deprecated since 0.13 and may be removed in the future. The current behavior is equivalent to passing `weights=None`.\n",
      "  warnings.warn(msg)\n",
      "Using cache found in /home/asufian/.cache/torch/hub/pytorch_vision_v0.10.0\n"
     ]
    },
    {
     "name": "stdout",
     "output_type": "stream",
     "text": [
      "----------------------> 0.2546511627906977\n",
      "Evaluated Accuracy: 0.2547\n",
      "Testing b_a_r = 0.9575, c_a_r = 0.3058, f_a_r = 0.3289\n"
     ]
    },
    {
     "name": "stderr",
     "output_type": "stream",
     "text": [
      "Using cache found in /home/asufian/.cache/torch/hub/pytorch_vision_v0.10.0\n",
      "/home/asufian/.local/share/pipx/venvs/notebook/lib/python3.12/site-packages/torchvision/models/_utils.py:208: UserWarning: The parameter 'pretrained' is deprecated since 0.13 and may be removed in the future, please use 'weights' instead.\n",
      "  warnings.warn(\n",
      "/home/asufian/.local/share/pipx/venvs/notebook/lib/python3.12/site-packages/torchvision/models/_utils.py:223: UserWarning: Arguments other than a weight enum or `None` for 'weights' are deprecated since 0.13 and may be removed in the future. The current behavior is equivalent to passing `weights=None`.\n",
      "  warnings.warn(msg)\n",
      "Using cache found in /home/asufian/.cache/torch/hub/pytorch_vision_v0.10.0\n"
     ]
    },
    {
     "name": "stdout",
     "output_type": "stream",
     "text": [
      "----------------------> 0.39699612403100776\n",
      "Evaluated Accuracy: 0.3970\n",
      "Testing b_a_r = 0.6331, c_a_r = 0.4078, f_a_r = 0.2183\n"
     ]
    },
    {
     "name": "stderr",
     "output_type": "stream",
     "text": [
      "Using cache found in /home/asufian/.cache/torch/hub/pytorch_vision_v0.10.0\n",
      "/home/asufian/.local/share/pipx/venvs/notebook/lib/python3.12/site-packages/torchvision/models/_utils.py:208: UserWarning: The parameter 'pretrained' is deprecated since 0.13 and may be removed in the future, please use 'weights' instead.\n",
      "  warnings.warn(\n",
      "/home/asufian/.local/share/pipx/venvs/notebook/lib/python3.12/site-packages/torchvision/models/_utils.py:223: UserWarning: Arguments other than a weight enum or `None` for 'weights' are deprecated since 0.13 and may be removed in the future. The current behavior is equivalent to passing `weights=None`.\n",
      "  warnings.warn(msg)\n",
      "Using cache found in /home/asufian/.cache/torch/hub/pytorch_vision_v0.10.0\n"
     ]
    },
    {
     "name": "stdout",
     "output_type": "stream",
     "text": [
      "----------------------> 0.3373062015503876\n",
      "Evaluated Accuracy: 0.3373\n",
      "Testing b_a_r = 0.0282, c_a_r = 0.0418, f_a_r = 0.0048\n"
     ]
    },
    {
     "name": "stderr",
     "output_type": "stream",
     "text": [
      "Using cache found in /home/asufian/.cache/torch/hub/pytorch_vision_v0.10.0\n",
      "/home/asufian/.local/share/pipx/venvs/notebook/lib/python3.12/site-packages/torchvision/models/_utils.py:208: UserWarning: The parameter 'pretrained' is deprecated since 0.13 and may be removed in the future, please use 'weights' instead.\n",
      "  warnings.warn(\n",
      "/home/asufian/.local/share/pipx/venvs/notebook/lib/python3.12/site-packages/torchvision/models/_utils.py:223: UserWarning: Arguments other than a weight enum or `None` for 'weights' are deprecated since 0.13 and may be removed in the future. The current behavior is equivalent to passing `weights=None`.\n",
      "  warnings.warn(msg)\n",
      "Using cache found in /home/asufian/.cache/torch/hub/pytorch_vision_v0.10.0\n"
     ]
    },
    {
     "name": "stdout",
     "output_type": "stream",
     "text": [
      "----------------------> 0.6245155038759691\n",
      "Evaluated Accuracy: 0.6245\n",
      "\n",
      "✅ Optimal Values:\n",
      "   - b_a_r: 0.0242\n",
      "   - c_a_r: 0.1140\n",
      "   - f_a_r: 0.9980\n",
      "📈 Highest Accuracy Achieved: 0.6360\n"
     ]
    }
   ],
   "source": [
    "import numpy as np\n",
    "import torch\n",
    "import matplotlib.pyplot as plt\n",
    "from skopt import gp_minimize\n",
    "from skopt.space import Real\n",
    "from skopt.utils import use_named_args\n",
    "from skopt.plots import plot_convergence\n",
    "\n",
    "# Device setup\n",
    "device = torch.device(\"cuda\" if torch.cuda.is_available() else \"cpu\")\n",
    "\n",
    "\n",
    "# Define the search space for b_a_r, c_a_r, and f_a_r\n",
    "search_space = [\n",
    "    Real(0.0, 1.0, name=\"b_a_r\"),\n",
    "    Real(0.0, 1.0, name=\"c_a_r\"),\n",
    "    Real(0.0, 1.0, name=\"f_a_r\")\n",
    "]\n",
    "\n",
    "# Define the objective function for Bayesian Optimization\n",
    "@use_named_args(search_space)\n",
    "def objective(b_a_r, c_a_r, f_a_r):\n",
    "    \"\"\"\n",
    "    Objective function to optimize the adaptation ratios.\n",
    "    It applies adaptation, evaluates the model, and returns the negative accuracy.\n",
    "    \"\"\"\n",
    "    accuracy = get_model_accuracy(b_a_r, c_a_r, f_a_r)\n",
    "    print(f\"Evaluated Accuracy: {accuracy:.4f}\")  # Debugging Output\n",
    "    \n",
    "    return -accuracy  # We minimize, so return negative accuracy\n",
    "\n",
    "# Perform Bayesian Optimization with additional settings\n",
    "search_iteration=80\n",
    "res = gp_minimize(\n",
    "    func=objective,\n",
    "    dimensions=search_space,\n",
    "    n_calls=search_iteration,               # Number of evaluations\n",
    "    n_initial_points=5,       # Initial random explorations before GP starts\n",
    "    acq_func=\"EI\",            # Acquisition function: Expected Improvement\n",
    "    random_state=42,          # Ensure reproducibility\n",
    "    n_jobs=-1,                # Parallel execution for faster optimization\n",
    ")\n",
    "\n",
    "# Extract optimal results\n",
    "optimal_b_a_r, optimal_c_a_r, optimal_f_a_r = res.x\n",
    "best_accuracy = -res.fun\n",
    "\n",
    "print(f\"\\n✅ Optimal Values:\")\n",
    "print(f\"   - b_a_r: {optimal_b_a_r:.4f}\")\n",
    "print(f\"   - c_a_r: {optimal_c_a_r:.4f}\")\n",
    "print(f\"   - f_a_r: {optimal_f_a_r:.4f}\")\n",
    "print(f\"📈 Highest Accuracy Achieved: {best_accuracy:.4f}\")\n",
    "\n",
    "\n"
   ]
  },
  {
   "cell_type": "code",
   "execution_count": null,
   "metadata": {},
   "outputs": [],
   "source": []
  },
  {
   "cell_type": "code",
   "execution_count": 102,
   "metadata": {},
   "outputs": [
    {
     "name": "stderr",
     "output_type": "stream",
     "text": [
      "Using cache found in /home/asufian/.cache/torch/hub/pytorch_vision_v0.10.0\n",
      "/home/asufian/.local/share/pipx/venvs/notebook/lib/python3.12/site-packages/torchvision/models/_utils.py:208: UserWarning: The parameter 'pretrained' is deprecated since 0.13 and may be removed in the future, please use 'weights' instead.\n",
      "  warnings.warn(\n",
      "/home/asufian/.local/share/pipx/venvs/notebook/lib/python3.12/site-packages/torchvision/models/_utils.py:223: UserWarning: Arguments other than a weight enum or `None` for 'weights' are deprecated since 0.13 and may be removed in the future. The current behavior is equivalent to passing `weights=None`.\n",
      "  warnings.warn(msg)\n"
     ]
    },
    {
     "name": "stdout",
     "output_type": "stream",
     "text": [
      "---Accu-----pre----rec---------> 0.6192 ± 0.0423  0.6277 ± 0.0464  0.6192 ± 0.0423\n"
     ]
    },
    {
     "name": "stderr",
     "output_type": "stream",
     "text": [
      "Using cache found in /home/asufian/.cache/torch/hub/pytorch_vision_v0.10.0\n",
      "/home/asufian/.local/share/pipx/venvs/notebook/lib/python3.12/site-packages/torchvision/models/_utils.py:208: UserWarning: The parameter 'pretrained' is deprecated since 0.13 and may be removed in the future, please use 'weights' instead.\n",
      "  warnings.warn(\n",
      "/home/asufian/.local/share/pipx/venvs/notebook/lib/python3.12/site-packages/torchvision/models/_utils.py:223: UserWarning: Arguments other than a weight enum or `None` for 'weights' are deprecated since 0.13 and may be removed in the future. The current behavior is equivalent to passing `weights=None`.\n",
      "  warnings.warn(msg)\n"
     ]
    },
    {
     "name": "stdout",
     "output_type": "stream",
     "text": [
      "---Accu-----pre----rec---------> 0.5266 ± 0.0447  0.5296 ± 0.0486  0.5266 ± 0.0447\n",
      "---Accu-----pre----rec---------> 0.6360 ± 0.0360  0.6469 ± 0.0369  0.6360 ± 0.0360\n"
     ]
    }
   ],
   "source": [
    "convolutional_network_with_dropout =  DenseNet169WithDropout(modell='densenet169',pretrained=False,dr=0.0)\n",
    "convolutional_network_with_dropout.fc = nn.Flatten()\n",
    "\n",
    "xyz = convolutional_network_with_dropout\n",
    "M3 = PrototypicalNetworks_dynamic_query(xyz).to(device)\n",
    "M3.load_state_dict(torch.load('model_own_path.pt'))\n",
    "evaluate2('/home/asufian/Desktop/output_mapii/result_densnet/base/8_w_10_s_f', test_loader, M3, criterion)\n",
    "# Load Model M2\n",
    "convolutional_network_with_dropout =  DenseNet169WithDropout(modell='densenet169',pretrained=False,dr=0.0)\n",
    "convolutional_network_with_dropout.fc = nn.Flatten()\n",
    "\n",
    "xyz2 = convolutional_network_with_dropout\n",
    "M2 = PrototypicalNetworks_dynamic_query(xyz2).to(device)\n",
    "M2.load_state_dict(torch.load('model_mu_path.pt'))\n",
    "evaluate2(\"/home/asufian/Desktop/output_mapii/result_densnet/secondary/8_w_10_s_f\", test_loader, M2, criterion)\n",
    "# Update Model M3's weights using a weighted combination of Model M3 and Model M2\n",
    "update_model_weights2(M3, M2, conv_ratio= optimal_c_a_r , fc_ratio=optimal_f_a_r , bias_ratio=optimal_b_a_r)\n",
    "\n",
    "# Assuming you have the evaluate2 function defined\n",
    "# Evaluate the updated model (M3) using evaluate2 function with some arguments\n",
    "evaluate2(\"/home/asufian/Desktop/output_mapii/result_densnet/amul/8_w_10_s_f\", test_loader, M3, criterion)\n"
   ]
  },
  {
   "cell_type": "code",
   "execution_count": null,
   "metadata": {},
   "outputs": [],
   "source": []
  },
  {
   "cell_type": "code",
   "execution_count": 103,
   "metadata": {},
   "outputs": [],
   "source": [
    "###############################################   12 way 1 shot"
   ]
  },
  {
   "cell_type": "code",
   "execution_count": null,
   "metadata": {},
   "outputs": [],
   "source": []
  },
  {
   "cell_type": "code",
   "execution_count": null,
   "metadata": {},
   "outputs": [],
   "source": []
  },
  {
   "cell_type": "code",
   "execution_count": 104,
   "metadata": {},
   "outputs": [],
   "source": [
    "# clss_20=\n",
    "# clss_1_shot_20_w=\n",
    "# clss_5_shot_20_w=\n",
    "# clss_10_shot_20_w="
   ]
  },
  {
   "cell_type": "code",
   "execution_count": 405,
   "metadata": {},
   "outputs": [],
   "source": [
    "clss_support_imagesss_10_shot=[[[21, 14, 23, 29, 67, 54, 10, 91, 61, 52], [40, 71, 6, 67, 65, 37, 0, 74, 11, 83], [89, 58, 33, 13, 23, 88, 77, 62, 18, 34], [6, 24, 74, 14, 37, 71, 72, 75, 91, 38], [10, 35, 15, 91, 71, 74, 86, 12, 80, 23], [93, 24, 81, 78, 83, 49, 15, 85, 10, 25], [32, 73, 51, 14, 42, 87, 74, 77, 70, 61], [36, 0, 34, 82, 39, 31, 1, 52, 27, 50], [89, 55, 56, 32, 80, 58, 53, 76, 63, 2], [22, 14, 80, 1, 6, 69, 50, 49, 72, 10], [37, 9, 46, 70, 12, 84, 23, 25, 75, 36], [7, 81, 29, 40, 46, 8, 37, 57, 52, 2]], [[66, 39, 90, 45, 52, 93, 58, 20, 12, 95], [63, 61, 91, 49, 5, 53, 56, 15, 57, 62], [93, 72, 86, 79, 27, 18, 8, 23, 22, 54], [67, 3, 58, 84, 72, 30, 1, 32, 94, 43], [15, 86, 95, 33, 54, 94, 28, 12, 93, 40], [94, 91, 48, 21, 86, 35, 76, 66, 32, 70], [46, 24, 71, 61, 64, 88, 63, 39, 70, 44], [34, 48, 62, 63, 64, 82, 57, 15, 47, 65], [58, 60, 72, 49, 52, 73, 71, 79, 33, 44], [39, 64, 28, 15, 20, 78, 50, 38, 59, 86], [26, 78, 67, 34, 92, 40, 48, 90, 53, 8], [39, 42, 64, 40, 32, 46, 95, 7, 85, 44]], [[64, 80, 7, 65, 40, 5, 13, 49, 58, 19], [71, 66, 67, 84, 64, 19, 5, 82, 33, 4], [38, 82, 13, 91, 14, 34, 67, 37, 58, 85], [26, 64, 89, 84, 95, 41, 66, 2, 77, 8], [17, 83, 77, 37, 39, 25, 86, 92, 79, 22], [52, 2, 60, 37, 73, 17, 89, 8, 4, 64], [71, 9, 59, 87, 49, 31, 4, 79, 22, 0], [21, 6, 79, 86, 74, 34, 19, 82, 62, 33], [45, 36, 26, 57, 22, 93, 3, 27, 2, 89], [4, 71, 51, 25, 84, 24, 10, 5, 85, 27], [29, 61, 79, 82, 18, 40, 70, 26, 32, 68], [56, 63, 64, 66, 70, 45, 87, 48, 88, 18]], [[64, 80, 50, 62, 0, 8, 58, 34, 91, 52], [39, 8, 57, 52, 44, 91, 80, 69, 60, 81], [36, 27, 19, 54, 11, 95, 71, 80, 9, 51], [63, 70, 2, 59, 10, 89, 43, 37, 27, 21], [26, 50, 86, 12, 47, 30, 52, 32, 7, 67], [17, 29, 94, 6, 50, 28, 43, 25, 56, 70], [31, 39, 56, 32, 43, 76, 71, 19, 49, 27], [2, 3, 64, 92, 57, 46, 6, 67, 78, 10], [29, 84, 78, 36, 59, 14, 41, 42, 0, 90], [63, 2, 13, 39, 16, 1, 14, 31, 77, 44], [9, 14, 6, 60, 95, 61, 19, 40, 20, 39], [7, 3, 68, 59, 11, 5, 61, 21, 1, 14]], [[48, 20, 92, 33, 18, 91, 35, 52, 41, 86], [59, 8, 20, 88, 73, 72, 94, 11, 28, 66], [62, 28, 50, 93, 79, 95, 88, 10, 14, 80], [38, 94, 71, 34, 27, 18, 64, 79, 15, 11], [74, 94, 13, 10, 12, 24, 70, 48, 41, 50], [7, 10, 83, 95, 54, 71, 13, 40, 4, 60], [0, 47, 66, 61, 65, 60, 24, 43, 83, 63], [65, 51, 45, 63, 75, 10, 83, 42, 27, 58], [70, 11, 61, 8, 0, 6, 25, 31, 24, 62], [72, 68, 43, 4, 88, 22, 92, 41, 27, 91], [56, 92, 14, 34, 9, 21, 68, 76, 49, 4], [68, 49, 17, 32, 5, 90, 26, 13, 60, 69]], [[55, 74, 21, 10, 8, 88, 31, 53, 92, 59], [40, 63, 76, 34, 13, 31, 43, 48, 66, 18], [74, 3, 8, 34, 60, 47, 78, 50, 27, 77], [29, 20, 16, 53, 52, 77, 14, 47, 2, 94], [45, 88, 59, 54, 77, 55, 90, 84, 32, 65], [6, 87, 81, 36, 95, 88, 73, 21, 57, 67], [58, 43, 30, 94, 15, 49, 62, 53, 31, 87], [78, 6, 85, 70, 33, 77, 24, 89, 29, 1], [41, 69, 86, 23, 17, 43, 94, 32, 56, 8], [95, 80, 52, 35, 43, 22, 29, 67, 82, 63], [41, 73, 27, 28, 78, 19, 23, 69, 13, 68], [2, 12, 80, 42, 86, 28, 14, 70, 39, 91]], [[76, 3, 44, 35, 67, 32, 63, 27, 26, 68], [75, 63, 0, 71, 23, 45, 36, 81, 69, 72], [44, 19, 88, 73, 83, 90, 33, 45, 93, 11], [3, 27, 4, 48, 74, 50, 78, 80, 18, 95], [35, 78, 45, 70, 43, 65, 0, 11, 28, 37], [10, 8, 60, 84, 12, 36, 88, 41, 31, 46], [26, 54, 82, 20, 41, 51, 48, 92, 31, 49], [39, 82, 95, 38, 12, 15, 63, 83, 21, 90], [61, 48, 54, 83, 46, 23, 44, 22, 38, 32], [27, 92, 58, 35, 76, 8, 89, 23, 83, 91], [84, 7, 5, 83, 18, 3, 76, 21, 44, 20], [70, 59, 37, 4, 56, 80, 84, 76, 50, 38]], [[3, 7, 56, 39, 64, 92, 12, 21, 55, 20], [34, 81, 92, 86, 30, 93, 82, 29, 57, 63], [52, 36, 19, 14, 10, 1, 25, 17, 29, 34], [14, 62, 69, 59, 3, 28, 36, 79, 67, 7], [89, 60, 16, 44, 86, 56, 39, 12, 20, 64], [45, 73, 50, 80, 60, 41, 93, 86, 24, 49], [89, 70, 24, 16, 26, 23, 35, 12, 41, 72], [45, 0, 34, 59, 51, 6, 12, 66, 25, 35], [7, 44, 73, 38, 78, 89, 11, 87, 4, 80], [0, 33, 63, 12, 56, 23, 60, 21, 47, 14], [37, 66, 42, 26, 7, 63, 52, 50, 13, 19], [10, 49, 85, 47, 78, 27, 3, 48, 53, 15]], [[36, 69, 29, 48, 68, 42, 18, 49, 78, 50], [1, 92, 9, 75, 87, 88, 25, 50, 32, 39], [72, 2, 17, 41, 15, 16, 26, 0, 14, 51], [29, 90, 48, 92, 79, 40, 52, 88, 35, 7], [73, 6, 79, 14, 29, 33, 91, 76, 10, 36], [56, 64, 85, 67, 9, 31, 93, 60, 58, 5], [27, 23, 88, 28, 26, 92, 1, 84, 70, 21], [26, 48, 40, 54, 95, 83, 60, 62, 33, 44], [37, 24, 26, 25, 69, 58, 80, 18, 78, 71], [25, 68, 88, 1, 87, 53, 36, 35, 45, 30], [32, 78, 30, 9, 80, 62, 77, 28, 13, 89], [63, 1, 26, 30, 3, 64, 67, 70, 29, 76]], [[65, 53, 94, 51, 89, 32, 26, 38, 62, 61], [95, 84, 72, 74, 79, 30, 47, 17, 15, 64], [90, 67, 6, 14, 81, 34, 50, 26, 86, 17], [70, 59, 21, 3, 77, 62, 63, 68, 34, 90], [3, 84, 46, 4, 5, 2, 12, 89, 74, 45], [92, 74, 95, 54, 60, 86, 83, 43, 59, 78], [2, 36, 29, 67, 22, 94, 78, 16, 30, 74], [63, 53, 89, 23, 86, 35, 57, 49, 66, 21], [14, 54, 48, 58, 76, 25, 63, 30, 24, 78], [52, 32, 1, 95, 54, 57, 16, 3, 89, 14], [11, 67, 66, 33, 2, 72, 10, 4, 79, 5], [71, 1, 42, 75, 60, 84, 16, 88, 4, 19]], [[32, 70, 12, 11, 93, 36, 68, 69, 23, 78], [44, 83, 87, 53, 94, 31, 66, 95, 65, 55], [32, 46, 89, 41, 62, 81, 52, 92, 1, 47], [25, 7, 24, 85, 81, 93, 58, 72, 34, 67], [64, 74, 12, 41, 11, 52, 48, 26, 93, 34], [33, 58, 64, 56, 38, 37, 61, 14, 3, 50], [22, 93, 23, 70, 64, 63, 5, 40, 33, 9], [86, 21, 93, 1, 26, 32, 18, 81, 52, 10], [63, 89, 24, 45, 1, 51, 36, 6, 95, 57], [83, 13, 40, 31, 92, 88, 82, 51, 95, 52], [86, 62, 33, 31, 72, 18, 74, 12, 0, 68], [11, 20, 70, 34, 64, 25, 30, 9, 46, 18]], [[43, 76, 1, 61, 59, 74, 49, 91, 87, 94], [73, 26, 81, 83, 47, 74, 15, 45, 12, 16], [30, 34, 26, 47, 28, 94, 57, 4, 35, 68], [89, 13, 40, 58, 73, 12, 72, 0, 85, 94], [17, 2, 89, 75, 41, 95, 59, 53, 84, 86], [81, 57, 20, 72, 6, 14, 85, 64, 41, 37], [49, 30, 6, 48, 58, 31, 5, 20, 67, 85], [51, 74, 16, 14, 34, 84, 79, 75, 77, 30], [23, 51, 33, 83, 79, 81, 53, 61, 49, 84], [6, 66, 51, 95, 4, 59, 85, 71, 69, 2], [40, 4, 26, 87, 56, 17, 71, 57, 13, 85], [57, 41, 15, 67, 83, 87, 44, 93, 12, 30]], [[4, 21, 66, 88, 71, 57, 18, 16, 73, 41], [69, 60, 38, 32, 92, 53, 54, 47, 2, 27], [40, 17, 59, 39, 74, 18, 38, 23, 95, 2], [21, 29, 76, 74, 9, 68, 32, 35, 69, 51], [70, 60, 13, 49, 94, 14, 24, 8, 73, 67], [86, 32, 54, 13, 58, 87, 27, 92, 24, 83], [21, 41, 24, 56, 88, 27, 30, 11, 71, 67], [15, 12, 86, 91, 82, 38, 58, 76, 2, 33], [45, 81, 95, 38, 43, 79, 27, 61, 64, 87], [66, 1, 90, 77, 85, 15, 50, 53, 87, 21], [92, 39, 7, 50, 89, 36, 81, 68, 52, 23], [5, 87, 49, 55, 57, 66, 18, 37, 79, 50]], [[22, 32, 91, 72, 81, 69, 8, 34, 15, 20], [89, 31, 91, 27, 40, 90, 72, 19, 4, 9], [5, 60, 51, 34, 8, 56, 88, 52, 78, 69], [86, 5, 9, 50, 18, 45, 93, 28, 89, 30], [26, 35, 19, 90, 58, 10, 79, 52, 92, 45], [17, 91, 77, 33, 5, 40, 64, 89, 24, 60], [93, 77, 36, 60, 13, 74, 75, 71, 45, 14], [48, 42, 78, 58, 29, 36, 65, 74, 4, 85], [33, 81, 90, 38, 88, 66, 34, 49, 26, 93], [30, 12, 36, 7, 15, 6, 0, 13, 25, 43], [8, 86, 52, 10, 32, 4, 69, 6, 79, 65], [37, 2, 41, 15, 45, 36, 76, 32, 3, 22]], [[50, 81, 36, 1, 39, 63, 90, 72, 58, 77], [0, 30, 38, 83, 13, 14, 59, 90, 23, 22], [84, 60, 45, 23, 0, 48, 32, 18, 24, 29], [92, 19, 29, 89, 25, 75, 53, 24, 45, 66], [90, 92, 53, 85, 0, 23, 70, 88, 51, 39], [75, 14, 70, 24, 10, 2, 66, 28, 18, 68], [67, 52, 46, 45, 60, 34, 59, 91, 21, 77], [29, 2, 94, 65, 75, 87, 33, 25, 55, 6], [60, 34, 75, 74, 18, 20, 31, 10, 22, 83], [18, 77, 61, 24, 53, 60, 54, 28, 39, 21], [55, 87, 43, 12, 83, 57, 10, 23, 90, 93], [33, 32, 13, 52, 16, 54, 84, 91, 81, 38]]]\n",
    "\n",
    "\n",
    "\n",
    "clss_support_imagesss_5_shot=[[[21, 14, 23, 29, 67], [40, 71, 6, 67, 65], [89, 58, 33, 13, 23], [6, 24, 74, 14, 37], [10, 35, 15, 91, 71], [93, 24, 81, 78, 83], [32, 73, 51, 14, 42], [36, 0, 34, 82, 39], [89, 55, 56, 32, 80], [22, 14, 80, 1, 6], [37, 9, 46, 70, 12], [7, 81, 29, 40, 46]], [[66, 39, 90, 45, 52], [63, 61, 91, 49, 5], [93, 72, 86, 79, 27], [67, 3, 58, 84, 72], [15, 86, 95, 33, 54], [94, 91, 48, 21, 86], [46, 24, 71, 61, 64], [34, 48, 62, 63, 64], [58, 60, 72, 49, 52], [39, 64, 28, 15, 20], [26, 78, 67, 34, 92], [39, 42, 64, 40, 32]], [[64, 80, 7, 65, 40], [71, 66, 67, 84, 64], [38, 82, 13, 91, 14], [26, 64, 89, 84, 95], [17, 83, 77, 37, 39], [52, 2, 60, 37, 73], [71, 9, 59, 87, 49], [21, 6, 79, 86, 74], [45, 36, 26, 57, 22], [4, 71, 51, 25, 84], [29, 61, 79, 82, 18], [56, 63, 64, 66, 70]], [[64, 80, 50, 62, 0], [39, 8, 57, 52, 44], [36, 27, 19, 54, 11], [63, 70, 2, 59, 10], [26, 50, 86, 12, 47], [17, 29, 94, 6, 50], [31, 39, 56, 32, 43], [2, 3, 64, 92, 57], [29, 84, 78, 36, 59], [63, 2, 13, 39, 16], [9, 14, 6, 60, 95], [7, 3, 68, 59, 11]], [[48, 20, 92, 33, 18], [59, 8, 20, 88, 73], [62, 28, 50, 93, 79], [38, 94, 71, 34, 27], [74, 94, 13, 10, 12], [7, 10, 83, 95, 54], [0, 47, 66, 61, 65], [65, 51, 45, 63, 75], [70, 11, 61, 8, 0], [72, 68, 43, 4, 88], [56, 92, 14, 34, 9], [68, 49, 17, 32, 5]], [[55, 74, 21, 10, 8], [40, 63, 76, 34, 13], [74, 3, 8, 34, 60], [29, 20, 16, 53, 52], [45, 88, 59, 54, 77], [6, 87, 81, 36, 95], [58, 43, 30, 94, 15], [78, 6, 85, 70, 33], [41, 69, 86, 23, 17], [95, 80, 52, 35, 43], [41, 73, 27, 28, 78], [2, 12, 80, 42, 86]], [[76, 3, 44, 35, 67], [75, 63, 0, 71, 23], [44, 19, 88, 73, 83], [3, 27, 4, 48, 74], [35, 78, 45, 70, 43], [10, 8, 60, 84, 12], [26, 54, 82, 20, 41], [39, 82, 95, 38, 12], [61, 48, 54, 83, 46], [27, 92, 58, 35, 76], [84, 7, 5, 83, 18], [70, 59, 37, 4, 56]], [[3, 7, 56, 39, 64], [34, 81, 92, 86, 30], [52, 36, 19, 14, 10], [14, 62, 69, 59, 3], [89, 60, 16, 44, 86], [45, 73, 50, 80, 60], [89, 70, 24, 16, 26], [45, 0, 34, 59, 51], [7, 44, 73, 38, 78], [0, 33, 63, 12, 56], [37, 66, 42, 26, 7], [10, 49, 85, 47, 78]], [[36, 69, 29, 48, 68], [1, 92, 9, 75, 87], [72, 2, 17, 41, 15], [29, 90, 48, 92, 79], [73, 6, 79, 14, 29], [56, 64, 85, 67, 9], [27, 23, 88, 28, 26], [26, 48, 40, 54, 95], [37, 24, 26, 25, 69], [25, 68, 88, 1, 87], [32, 78, 30, 9, 80], [63, 1, 26, 30, 3]], [[65, 53, 94, 51, 89], [95, 84, 72, 74, 79], [90, 67, 6, 14, 81], [70, 59, 21, 3, 77], [3, 84, 46, 4, 5], [92, 74, 95, 54, 60], [2, 36, 29, 67, 22], [63, 53, 89, 23, 86], [14, 54, 48, 58, 76], [52, 32, 1, 95, 54], [11, 67, 66, 33, 2], [71, 1, 42, 75, 60]], [[32, 70, 12, 11, 93], [44, 83, 87, 53, 94], [32, 46, 89, 41, 62], [25, 7, 24, 85, 81], [64, 74, 12, 41, 11], [33, 58, 64, 56, 38], [22, 93, 23, 70, 64], [86, 21, 93, 1, 26], [63, 89, 24, 45, 1], [83, 13, 40, 31, 92], [86, 62, 33, 31, 72], [11, 20, 70, 34, 64]], [[43, 76, 1, 61, 59], [73, 26, 81, 83, 47], [30, 34, 26, 47, 28], [89, 13, 40, 58, 73], [17, 2, 89, 75, 41], [81, 57, 20, 72, 6], [49, 30, 6, 48, 58], [51, 74, 16, 14, 34], [23, 51, 33, 83, 79], [6, 66, 51, 95, 4], [40, 4, 26, 87, 56], [57, 41, 15, 67, 83]], [[4, 21, 66, 88, 71], [69, 60, 38, 32, 92], [40, 17, 59, 39, 74], [21, 29, 76, 74, 9], [70, 60, 13, 49, 94], [86, 32, 54, 13, 58], [21, 41, 24, 56, 88], [15, 12, 86, 91, 82], [45, 81, 95, 38, 43], [66, 1, 90, 77, 85], [92, 39, 7, 50, 89], [5, 87, 49, 55, 57]], [[22, 32, 91, 72, 81], [89, 31, 91, 27, 40], [5, 60, 51, 34, 8], [86, 5, 9, 50, 18], [26, 35, 19, 90, 58], [17, 91, 77, 33, 5], [93, 77, 36, 60, 13], [48, 42, 78, 58, 29], [33, 81, 90, 38, 88], [30, 12, 36, 7, 15], [8, 86, 52, 10, 32], [37, 2, 41, 15, 45]], [[50, 81, 36, 1, 39], [0, 30, 38, 83, 13], [84, 60, 45, 23, 0], [92, 19, 29, 89, 25], [90, 92, 53, 85, 0], [75, 14, 70, 24, 10], [67, 52, 46, 45, 60], [29, 2, 94, 65, 75], [60, 34, 75, 74, 18], [18, 77, 61, 24, 53], [55, 87, 43, 12, 83], [33, 32, 13, 52, 16]]]\n",
    "\n",
    "\n",
    "clss_12=[\n",
    "   ['MAPI Mayeek_GOK', 'MAPI Mayeek_BHAM', 'MAPI Mayeek_JIL', 'MAPI Mayeek_UUN', 'MAPI Mayeek_BAA', 'MAPI Mayeek_FAM', 'MAPI Mayeek_DHOU', 'MAPI Mayeek_KOK', 'MAPI Mayeek_LAI', 'MAPI Mayeek_DIL', 'MAPI Mayeek_SAM', 'MAPI Mayeek_ATIYA'],\n",
    "   ['MAPI Mayeek_JIL', 'MAPI Mayeek_EEE', 'MAPI Mayeek_GHOU', 'MAPI Mayeek_MIT', 'MAPI Mayeek_ATIYA', 'MAPI Mayeek_BAA', 'MAPI Mayeek_HUK', 'MAPI Mayeek_THOU', 'MAPI Mayeek_DHOU', 'MAPI Mayeek_UUN', 'MAPI Mayeek_PAA', 'MAPI Mayeek_JHAM'],\n",
    "     ['MAPI Mayeek_PAA', 'MAPI Mayeek_KOK', 'MAPI Mayeek_BAA', 'MAPI Mayeek_DIL', 'MAPI Mayeek_CHIN', 'MAPI Mayeek_NGOU', 'MAPI Mayeek_NAA', 'MAPI Mayeek_RAAI', 'MAPI Mayeek_WAI', 'MAPI Mayeek_UUN', 'MAPI Mayeek_JHAM', 'MAPI Mayeek_LAI'],\n",
    "   ['MAPI Mayeek_KHOU', 'MAPI Mayeek_FAM', 'MAPI Mayeek_SAM', 'MAPI Mayeek_JIL', 'MAPI Mayeek_EEE', 'MAPI Mayeek_LAI', 'MAPI Mayeek_HUK', 'MAPI Mayeek_NGOU', 'MAPI Mayeek_DHOU', 'MAPI Mayeek_GOK', 'MAPI Mayeek_TIL', 'MAPI Mayeek_KOK'],\n",
    "    ['MAPI Mayeek_CHIN', 'MAPI Mayeek_YANG', 'MAPI Mayeek_KOK', 'MAPI Mayeek_PAA', 'MAPI Mayeek_NAA', 'MAPI Mayeek_FAM', 'MAPI Mayeek_RAAI', 'MAPI Mayeek_THOU', 'MAPI Mayeek_EEE', 'MAPI Mayeek_TIL', 'MAPI Mayeek_DHOU', 'MAPI Mayeek_WAI'],\n",
    "    ['MAPI Mayeek_NAA', 'MAPI Mayeek_EEE', 'MAPI Mayeek_KOK', 'MAPI Mayeek_BAA', 'MAPI Mayeek_WAI', 'MAPI Mayeek_BHAM', 'MAPI Mayeek_JHAM', 'MAPI Mayeek_PAA', 'MAPI Mayeek_MIT', 'MAPI Mayeek_THOU', 'MAPI Mayeek_DHOU', 'MAPI Mayeek_NGOU'],\n",
    "   ['MAPI Mayeek_NGOU', 'MAPI Mayeek_LAI', 'MAPI Mayeek_BHAM', 'MAPI Mayeek_JIL', 'MAPI Mayeek_SAM', 'MAPI Mayeek_JHAM', 'MAPI Mayeek_EEE', 'MAPI Mayeek_ATIYA', 'MAPI Mayeek_RAAI', 'MAPI Mayeek_MIT', 'MAPI Mayeek_KOK', 'MAPI Mayeek_FAM'],\n",
    "    ['MAPI Mayeek_SAM', 'MAPI Mayeek_LAI', 'MAPI Mayeek_CHIN', 'MAPI Mayeek_THOU', 'MAPI Mayeek_PAA', 'MAPI Mayeek_KOK', 'MAPI Mayeek_BHAM', 'MAPI Mayeek_NAA', 'MAPI Mayeek_GHOU', 'MAPI Mayeek_MIT', 'MAPI Mayeek_HUK', 'MAPI Mayeek_JHAM'],\n",
    "   ['MAPI Mayeek_TIL', 'MAPI Mayeek_WAI', 'MAPI Mayeek_JHAM', 'MAPI Mayeek_DHOU', 'MAPI Mayeek_HUK', 'MAPI Mayeek_DIL', 'MAPI Mayeek_BHAM', 'MAPI Mayeek_FAM', 'MAPI Mayeek_LAI', 'MAPI Mayeek_NGOU', 'MAPI Mayeek_GHOU', 'MAPI Mayeek_GOK'],\n",
    "    ['MAPI Mayeek_BAA', 'MAPI Mayeek_GOK', 'MAPI Mayeek_JHAM', 'MAPI Mayeek_DHOU', 'MAPI Mayeek_LAI', 'MAPI Mayeek_BHAM', 'MAPI Mayeek_TIL', 'MAPI Mayeek_THOU', 'MAPI Mayeek_KOK', 'MAPI Mayeek_FAM', 'MAPI Mayeek_RAAI', 'MAPI Mayeek_SAM'],\n",
    "   ['MAPI Mayeek_ATIYA', 'MAPI Mayeek_UUN', 'MAPI Mayeek_PAA', 'MAPI Mayeek_NGOU', 'MAPI Mayeek_GHOU', 'MAPI Mayeek_NAA', 'MAPI Mayeek_FAM', 'MAPI Mayeek_LAI', 'MAPI Mayeek_KOK', 'MAPI Mayeek_GOK', 'MAPI Mayeek_DHOU', 'MAPI Mayeek_SAM'],\n",
    "    ['MAPI Mayeek_BHAM', 'MAPI Mayeek_NGOU', 'MAPI Mayeek_BAA', 'MAPI Mayeek_EEE', 'MAPI Mayeek_CHIN', 'MAPI Mayeek_LAI', 'MAPI Mayeek_FAM', 'MAPI Mayeek_NAA', 'MAPI Mayeek_GOK', 'MAPI Mayeek_THOU', 'MAPI Mayeek_SAM', 'MAPI Mayeek_ATIYA'],\n",
    "    ['MAPI Mayeek_BHAM', 'MAPI Mayeek_LAI', 'MAPI Mayeek_PAA', 'MAPI Mayeek_NAA', 'MAPI Mayeek_DHOU', 'MAPI Mayeek_SAM', 'MAPI Mayeek_DIL', 'MAPI Mayeek_CHIN', 'MAPI Mayeek_JHAM', 'MAPI Mayeek_NGOU', 'MAPI Mayeek_EEE', 'MAPI Mayeek_GOK'],\n",
    "   ['MAPI Mayeek_FAM', 'MAPI Mayeek_BHAM', 'MAPI Mayeek_UUN', 'MAPI Mayeek_WAI', 'MAPI Mayeek_PAA', 'MAPI Mayeek_GHOU', 'MAPI Mayeek_KOK', 'MAPI Mayeek_DHOU', 'MAPI Mayeek_GOK', 'MAPI Mayeek_EEE', 'MAPI Mayeek_YANG', 'MAPI Mayeek_JHAM'],\n",
    "    ['MAPI Mayeek_PAA', 'MAPI Mayeek_BAA', 'MAPI Mayeek_SAM', 'MAPI Mayeek_HUK', 'MAPI Mayeek_NGOU', 'MAPI Mayeek_FAM', 'MAPI Mayeek_LAI', 'MAPI Mayeek_GHOU', 'MAPI Mayeek_DHOU', 'MAPI Mayeek_GOK', 'MAPI Mayeek_NAA', 'MAPI Mayeek_EEE'],\n",
    "   ]\n",
    "clss_support_imagesss_1_shot=[\n",
    " [[21], [40], [89], [6], [10], [93], [32], [36], [89], [22], [37], [7]],\n",
    " [[66], [63], [93], [67], [15], [94], [46], [34], [58], [39], [26], [39]],\n",
    " [[64], [71], [38], [26], [17], [52], [71], [21], [45], [4], [29], [56]],\n",
    " [[64], [39], [36], [63], [26], [17], [31], [2], [29], [63], [9], [7]],\n",
    " [[48], [59], [62], [38], [74], [7], [0], [65], [70], [72], [56], [68]],\n",
    " [[55], [40], [74], [29], [45], [6], [58], [78], [41], [95], [41], [2]],\n",
    " [[76], [75], [44], [3], [35], [10], [26], [39], [61], [27], [84], [70]],\n",
    " [[3], [34], [52], [14], [89], [45], [89], [45], [7], [0], [37], [10]],\n",
    " [[36], [1], [72], [29], [73], [56], [27], [26], [37], [25], [32], [63]],\n",
    " [[65], [95], [90], [70], [3], [92], [2], [63], [14], [52], [11], [71]],\n",
    " [[32], [44], [32], [25], [64], [33], [22], [86], [63], [83], [86], [11]],\n",
    "  [[43], [73], [30], [89], [17], [81], [49], [51], [23], [6], [40], [57]],\n",
    " [[4], [69], [40], [21], [70], [86], [21], [15], [45], [66], [92], [5]],\n",
    " [[22], [89], [5], [86], [26], [17], [93], [48], [33], [30], [8], [37]],\n",
    " [[50], [0], [84], [92], [90], [75], [67], [29], [60], [18], [55], [33]]\n",
    "]\n",
    "\n",
    "\n",
    "\n",
    "\n",
    "\n",
    "\n",
    "\n",
    "\n",
    "\n"
   ]
  },
  {
   "cell_type": "code",
   "execution_count": 438,
   "metadata": {},
   "outputs": [
    {
     "name": "stdout",
     "output_type": "stream",
     "text": [
      "rm: cannot remove 'model_mu_path.pt': No such file or directory\n",
      "rm: cannot remove 'model_own_path.pt': No such file or directory\n"
     ]
    },
    {
     "name": "stderr",
     "output_type": "stream",
     "text": [
      "Using cache found in /home/asufian/.cache/torch/hub/pytorch_vision_v0.10.0\n",
      "/home/asufian/.local/share/pipx/venvs/notebook/lib/python3.12/site-packages/torchvision/models/_utils.py:208: UserWarning: The parameter 'pretrained' is deprecated since 0.13 and may be removed in the future, please use 'weights' instead.\n",
      "  warnings.warn(\n",
      "/home/asufian/.local/share/pipx/venvs/notebook/lib/python3.12/site-packages/torchvision/models/_utils.py:223: UserWarning: Arguments other than a weight enum or `None` for 'weights' are deprecated since 0.13 and may be removed in the future. The current behavior is equivalent to passing `weights=None`.\n",
      "  warnings.warn(msg)\n",
      "Using cache found in /home/asufian/.cache/torch/hub/pytorch_vision_v0.10.0\n"
     ]
    }
   ],
   "source": [
    "device = torch.device(\"cuda\" if torch.cuda.is_available() else \"cpu\")\n",
    "\n",
    "\n",
    "\n",
    "!rm model_mu_path.pt\n",
    "!rm model_own_path.pt\n",
    "\n",
    "convolutional_network_with_dropout =  DenseNet169WithDropout(modell='densenet169',pretrained=False,dr=0.0)\n",
    "convolutional_network_with_dropout.fc = nn.Flatten()\n",
    "\n",
    "model_own = PrototypicalNetworks_dynamic_query(convolutional_network_with_dropout).to(device)\n",
    "model_own.load_state_dict(torch.load('/home/asufian/Desktop/output_olchiki/code/modelrdnet.pth',map_location=torch.device('cpu')))\n",
    "\n",
    "\n",
    "convolutional_network_with_dropout =  DenseNet169WithDropout(modell='densenet169',pretrained=False,dr=0.0)\n",
    "convolutional_network_with_dropout.fc = nn.Flatten()\n",
    "\n",
    "model_own_1_shot = PrototypicalNetworks_dynamic_query(convolutional_network_with_dropout).to(device)\n",
    "model_own_1_shot.load_state_dict(torch.load('/home/asufian/Desktop/output_olchiki/code/mapi_sce/Denssecondary/model_1/model_B_mapi_1-shot_dens.pth',map_location=torch.device('cpu')))\n",
    "\n",
    "\n",
    "torch.save(model_own_1_shot.state_dict(), 'model_mu_path.pt')\n",
    "torch.save(model_own.state_dict(), 'model_own_path.pt')\n"
   ]
  },
  {
   "cell_type": "code",
   "execution_count": 439,
   "metadata": {},
   "outputs": [],
   "source": [
    "\n",
    "def evaluate2(fname,data_loader, model, criterion=nn.CrossEntropyLoss()):\n",
    "    total_predictions = 0\n",
    "    correct_predictions = 0\n",
    "    total_loss = 0.0\n",
    "    accuracy = 0\n",
    "    datta = \"\"\n",
    "    model.eval()\n",
    "    tlv_cls=0\n",
    "    ttla=0\n",
    "    ttlal=[]\n",
    "    ttlac=0\n",
    "    precision=[]\n",
    "    recall=[]\n",
    "    \n",
    "    with torch.no_grad():\n",
    "        for episode in range(len(clss_12)):\n",
    "            support_set, query_set = data_loader.__getitem__(clss_12[tlv_cls] , clss_support_imagesss_1_shot[tlv_cls])\n",
    "\n",
    "           \n",
    "            clssa=str(clss_12[tlv_cls])\n",
    "            clss=str(clssa).replace(',',' ').replace('\\'',' ').replace('\\'',' ')\n",
    "            msg=str(clss_support_imagesss_1_shot[tlv_cls])\n",
    "            str(clss_12[tlv_cls])\n",
    "\n",
    "            tlv_cls+=1\n",
    "            # print(len(support_set),len(query_set))\n",
    "            support_set = [(torch.stack(images).to(device), label[0]) for images, label in support_set]\n",
    "            query_set = [(torch.stack(images).to(device), label) for images, label in query_set]\n",
    "\n",
    "            support_images, support_labels = zip(*support_set)\n",
    "\n",
    "            query_images, query_labels = zip(*query_set)\n",
    "\n",
    "            classification_scores = model(support_images, support_labels, query_images)\n",
    "            cortt = 0\n",
    "            totl = 0\n",
    "            confusion_mat=None\n",
    "            all_predicted_labels = []\n",
    "            all_actual_labels = []\n",
    "            # print(len(classification_scores),len(query_labels))\n",
    "            for ei in range(len(classification_scores)):\n",
    "                classification_scores_each_class = classification_scores[ei]\n",
    "                # print(classification_scores_each_class)\n",
    "                predicted_labels_eachclas = torch.argmax(classification_scores_each_class, dim=1)\n",
    "                pp = predicted_labels_eachclas.tolist()\n",
    "                act = query_labels[ei]\n",
    "                all_predicted_labels.extend(pp)\n",
    "                all_actual_labels.extend(act)\n",
    "                for iiii in range(len(pp)):\n",
    "                    if pp[iiii] == act[iiii]:\n",
    "                        cortt = cortt + 1\n",
    "                totl = totl + len(pp)\n",
    "                # print(len(act))\n",
    "            accuracy = cortt / totl\n",
    "            ttla+=1\n",
    "            ttlac+=accuracy\n",
    "            ttlal.append(accuracy)\n",
    "            # print(cortt , totl,\"Validation Accuracy:              \", cortt / totl)\n",
    "            confusion_mat = confusion_matrix(all_actual_labels, all_predicted_labels)\n",
    "            # print(\"Confusion Matrix:\")\n",
    "            # print(confusion_mat)\n",
    "\n",
    "            # fname='./own35_mapi_5_way_1_shot'\n",
    "\n",
    "            precision_overall, recall_overall, f1ss= calculate_metrics_get_per(msg,confusion_mat,acciuracy=cortt / totl,cls=clss,flnm=fname)\n",
    "            precision.append(precision_overall)\n",
    "            recall.append(recall_overall)\n",
    "    print(f\"---Accu-----pre----rec---------> {np.mean(ttlal):.4f} ± {np.std(ttlal, ddof=1):.4f}  \"\n",
    "      f\"{np.mean(precision):.4f} ± {np.std(precision, ddof=1):.4f}  \"\n",
    "      f\"{np.mean(recall):.4f} ± {np.std(recall, ddof=1):.4f}\")\n",
    "\n",
    "    # print(\"---Accu-----pre----rec---------->\",np.mean(ttlal),'±',np.std(ttlal, ddof=1), np.mean(precision),'±',np.std(precision, ddof=1),np.mean(precision),'±',np.std(precision, ddof=1),)\n",
    "# %%%%%%\n",
    "\n",
    "def evaluate3(fname,data_loader, model, criterion=nn.CrossEntropyLoss()):\n",
    "    total_predictions = 0\n",
    "    correct_predictions = 0\n",
    "    total_loss = 0.0\n",
    "    accuracy = 0\n",
    "    datta = \"\"\n",
    "    model.eval()\n",
    "    tlv_cls=0\n",
    "    ttla=0\n",
    "    ttlac=0\n",
    "    with torch.no_grad():\n",
    "        for episode in range(len(clss_12)):\n",
    "            support_set, query_set = data_loader.__getitem__(clss_12[tlv_cls] , clss_support_imagesss_1_shot[tlv_cls])\n",
    "\n",
    "            \n",
    "            clssa=str(clss_12[tlv_cls])\n",
    "            clss=str(clssa).replace(',',' ').replace('\\'',' ').replace('\\'',' ')\n",
    "            msg=str(clss_support_imagesss_1_shot[tlv_cls])\n",
    "            str(clss_12[tlv_cls])\n",
    "\n",
    "            tlv_cls+=1\n",
    "            # print(len(support_set),len(query_set))\n",
    "            support_set = [(torch.stack(images).to(device), label[0]) for images, label in support_set]\n",
    "            query_set = [(torch.stack(images).to(device), label) for images, label in query_set]\n",
    "\n",
    "            support_images, support_labels = zip(*support_set)\n",
    "\n",
    "            query_images, query_labels = zip(*query_set)\n",
    "\n",
    "            classification_scores = model(support_images, support_labels, query_images)\n",
    "            cortt = 0\n",
    "            totl = 0\n",
    "            confusion_mat=None\n",
    "            all_predicted_labels = []\n",
    "            all_actual_labels = []\n",
    "            # print(len(classification_scores),len(query_labels))\n",
    "            for ei in range(len(classification_scores)):\n",
    "                classification_scores_each_class = classification_scores[ei]\n",
    "                # print(classification_scores_each_class)\n",
    "                predicted_labels_eachclas = torch.argmax(classification_scores_each_class, dim=1)\n",
    "                pp = predicted_labels_eachclas.tolist()\n",
    "                act = query_labels[ei]\n",
    "                all_predicted_labels.extend(pp)\n",
    "                all_actual_labels.extend(act)\n",
    "                for iiii in range(len(pp)):\n",
    "                    if pp[iiii] == act[iiii]:\n",
    "                        cortt = cortt + 1\n",
    "                totl = totl + len(pp)\n",
    "                # print(len(act))\n",
    "            accuracy = cortt / totl\n",
    "            ttla+=1\n",
    "            ttlac+=accuracy\n",
    "            # print(cortt , totl,\"Validation Accuracy:              \", cortt / totl)\n",
    "            # confusion_mat = confusion_matrix(all_actual_labels, all_predicted_labels)\n",
    "            # print(\"Confusion Matrix:\")\n",
    "            # print(confusion_mat)\n",
    "\n",
    "            # fname='./own35_mapi_5_way_1_shot'\n",
    "\n",
    "            # calculate_metrics_get_per(msg,confusion_mat,acciuracy=cortt / totl,cls=clss,flnm=fname)\n",
    "\n",
    "    print(\"---------------------->\",ttlac/ttla)\n",
    "    return ttlac/ttla"
   ]
  },
  {
   "cell_type": "code",
   "execution_count": 436,
   "metadata": {},
   "outputs": [
    {
     "data": {
      "text/plain": [
       "5"
      ]
     },
     "execution_count": 436,
     "metadata": {},
     "output_type": "execute_result"
    }
   ],
   "source": [
    "2+3"
   ]
  },
  {
   "cell_type": "code",
   "execution_count": 440,
   "metadata": {
    "scrolled": true
   },
   "outputs": [
    {
     "name": "stdout",
     "output_type": "stream",
     "text": [
      "Testing b_a_r = 0.1292, c_a_r = 0.0744, f_a_r = 0.6099\n"
     ]
    },
    {
     "name": "stderr",
     "output_type": "stream",
     "text": [
      "Using cache found in /home/asufian/.cache/torch/hub/pytorch_vision_v0.10.0\n",
      "/home/asufian/.local/share/pipx/venvs/notebook/lib/python3.12/site-packages/torchvision/models/_utils.py:208: UserWarning: The parameter 'pretrained' is deprecated since 0.13 and may be removed in the future, please use 'weights' instead.\n",
      "  warnings.warn(\n",
      "/home/asufian/.local/share/pipx/venvs/notebook/lib/python3.12/site-packages/torchvision/models/_utils.py:223: UserWarning: Arguments other than a weight enum or `None` for 'weights' are deprecated since 0.13 and may be removed in the future. The current behavior is equivalent to passing `weights=None`.\n",
      "  warnings.warn(msg)\n",
      "Using cache found in /home/asufian/.cache/torch/hub/pytorch_vision_v0.10.0\n"
     ]
    },
    {
     "name": "stdout",
     "output_type": "stream",
     "text": [
      "----------------------> 0.3592397660818713\n",
      "Evaluated Accuracy: 0.3592\n",
      "Testing b_a_r = 0.0214, c_a_r = 0.1522, f_a_r = 0.9547\n"
     ]
    },
    {
     "name": "stderr",
     "output_type": "stream",
     "text": [
      "Using cache found in /home/asufian/.cache/torch/hub/pytorch_vision_v0.10.0\n",
      "Using cache found in /home/asufian/.cache/torch/hub/pytorch_vision_v0.10.0\n"
     ]
    },
    {
     "name": "stdout",
     "output_type": "stream",
     "text": [
      "----------------------> 0.3323976608187134\n",
      "Evaluated Accuracy: 0.3324\n",
      "Testing b_a_r = 0.8047, c_a_r = 0.2442, f_a_r = 0.3252\n"
     ]
    },
    {
     "name": "stderr",
     "output_type": "stream",
     "text": [
      "Using cache found in /home/asufian/.cache/torch/hub/pytorch_vision_v0.10.0\n",
      "Using cache found in /home/asufian/.cache/torch/hub/pytorch_vision_v0.10.0\n"
     ]
    },
    {
     "name": "stdout",
     "output_type": "stream",
     "text": [
      "----------------------> 0.2934502923976608\n",
      "Evaluated Accuracy: 0.2935\n",
      "Testing b_a_r = 0.4393, c_a_r = 0.1348, f_a_r = 0.5947\n"
     ]
    },
    {
     "name": "stderr",
     "output_type": "stream",
     "text": [
      "Using cache found in /home/asufian/.cache/torch/hub/pytorch_vision_v0.10.0\n",
      "Using cache found in /home/asufian/.cache/torch/hub/pytorch_vision_v0.10.0\n"
     ]
    },
    {
     "name": "stdout",
     "output_type": "stream",
     "text": [
      "----------------------> 0.3374853801169591\n",
      "Evaluated Accuracy: 0.3375\n",
      "Testing b_a_r = 0.9782, c_a_r = 0.0886, f_a_r = 0.2939\n"
     ]
    },
    {
     "name": "stderr",
     "output_type": "stream",
     "text": [
      "Using cache found in /home/asufian/.cache/torch/hub/pytorch_vision_v0.10.0\n",
      "Using cache found in /home/asufian/.cache/torch/hub/pytorch_vision_v0.10.0\n"
     ]
    },
    {
     "name": "stdout",
     "output_type": "stream",
     "text": [
      "----------------------> 0.35578947368421054\n",
      "Evaluated Accuracy: 0.3558\n",
      "Testing b_a_r = 0.0280, c_a_r = 1.0000, f_a_r = 0.9459\n"
     ]
    },
    {
     "name": "stderr",
     "output_type": "stream",
     "text": [
      "Using cache found in /home/asufian/.cache/torch/hub/pytorch_vision_v0.10.0\n",
      "/home/asufian/.local/share/pipx/venvs/notebook/lib/python3.12/site-packages/torchvision/models/_utils.py:208: UserWarning: The parameter 'pretrained' is deprecated since 0.13 and may be removed in the future, please use 'weights' instead.\n",
      "  warnings.warn(\n",
      "/home/asufian/.local/share/pipx/venvs/notebook/lib/python3.12/site-packages/torchvision/models/_utils.py:223: UserWarning: Arguments other than a weight enum or `None` for 'weights' are deprecated since 0.13 and may be removed in the future. The current behavior is equivalent to passing `weights=None`.\n",
      "  warnings.warn(msg)\n",
      "Using cache found in /home/asufian/.cache/torch/hub/pytorch_vision_v0.10.0\n"
     ]
    },
    {
     "name": "stdout",
     "output_type": "stream",
     "text": [
      "----------------------> 0.18309941520467835\n",
      "Evaluated Accuracy: 0.1831\n",
      "Testing b_a_r = 1.0000, c_a_r = 0.0000, f_a_r = 1.0000\n"
     ]
    },
    {
     "name": "stderr",
     "output_type": "stream",
     "text": [
      "Using cache found in /home/asufian/.cache/torch/hub/pytorch_vision_v0.10.0\n",
      "/home/asufian/.local/share/pipx/venvs/notebook/lib/python3.12/site-packages/torchvision/models/_utils.py:208: UserWarning: The parameter 'pretrained' is deprecated since 0.13 and may be removed in the future, please use 'weights' instead.\n",
      "  warnings.warn(\n",
      "/home/asufian/.local/share/pipx/venvs/notebook/lib/python3.12/site-packages/torchvision/models/_utils.py:223: UserWarning: Arguments other than a weight enum or `None` for 'weights' are deprecated since 0.13 and may be removed in the future. The current behavior is equivalent to passing `weights=None`.\n",
      "  warnings.warn(msg)\n",
      "Using cache found in /home/asufian/.cache/torch/hub/pytorch_vision_v0.10.0\n"
     ]
    },
    {
     "name": "stdout",
     "output_type": "stream",
     "text": [
      "----------------------> 0.3716374269005848\n",
      "Evaluated Accuracy: 0.3716\n",
      "Testing b_a_r = 0.0138, c_a_r = 0.6350, f_a_r = 0.9139\n"
     ]
    },
    {
     "name": "stderr",
     "output_type": "stream",
     "text": [
      "Using cache found in /home/asufian/.cache/torch/hub/pytorch_vision_v0.10.0\n",
      "/home/asufian/.local/share/pipx/venvs/notebook/lib/python3.12/site-packages/torchvision/models/_utils.py:208: UserWarning: The parameter 'pretrained' is deprecated since 0.13 and may be removed in the future, please use 'weights' instead.\n",
      "  warnings.warn(\n",
      "/home/asufian/.local/share/pipx/venvs/notebook/lib/python3.12/site-packages/torchvision/models/_utils.py:223: UserWarning: Arguments other than a weight enum or `None` for 'weights' are deprecated since 0.13 and may be removed in the future. The current behavior is equivalent to passing `weights=None`.\n",
      "  warnings.warn(msg)\n",
      "Using cache found in /home/asufian/.cache/torch/hub/pytorch_vision_v0.10.0\n"
     ]
    },
    {
     "name": "stdout",
     "output_type": "stream",
     "text": [
      "----------------------> 0.13748538011695907\n",
      "Evaluated Accuracy: 0.1375\n",
      "Testing b_a_r = 0.0919, c_a_r = 0.0030, f_a_r = 0.0054\n"
     ]
    },
    {
     "name": "stderr",
     "output_type": "stream",
     "text": [
      "Using cache found in /home/asufian/.cache/torch/hub/pytorch_vision_v0.10.0\n",
      "/home/asufian/.local/share/pipx/venvs/notebook/lib/python3.12/site-packages/torchvision/models/_utils.py:208: UserWarning: The parameter 'pretrained' is deprecated since 0.13 and may be removed in the future, please use 'weights' instead.\n",
      "  warnings.warn(\n",
      "/home/asufian/.local/share/pipx/venvs/notebook/lib/python3.12/site-packages/torchvision/models/_utils.py:223: UserWarning: Arguments other than a weight enum or `None` for 'weights' are deprecated since 0.13 and may be removed in the future. The current behavior is equivalent to passing `weights=None`.\n",
      "  warnings.warn(msg)\n",
      "Using cache found in /home/asufian/.cache/torch/hub/pytorch_vision_v0.10.0\n"
     ]
    },
    {
     "name": "stdout",
     "output_type": "stream",
     "text": [
      "----------------------> 0.3722222222222222\n",
      "Evaluated Accuracy: 0.3722\n",
      "Testing b_a_r = 0.0107, c_a_r = 0.0027, f_a_r = 0.8236\n"
     ]
    },
    {
     "name": "stderr",
     "output_type": "stream",
     "text": [
      "Using cache found in /home/asufian/.cache/torch/hub/pytorch_vision_v0.10.0\n",
      "/home/asufian/.local/share/pipx/venvs/notebook/lib/python3.12/site-packages/torchvision/models/_utils.py:208: UserWarning: The parameter 'pretrained' is deprecated since 0.13 and may be removed in the future, please use 'weights' instead.\n",
      "  warnings.warn(\n",
      "/home/asufian/.local/share/pipx/venvs/notebook/lib/python3.12/site-packages/torchvision/models/_utils.py:223: UserWarning: Arguments other than a weight enum or `None` for 'weights' are deprecated since 0.13 and may be removed in the future. The current behavior is equivalent to passing `weights=None`.\n",
      "  warnings.warn(msg)\n",
      "Using cache found in /home/asufian/.cache/torch/hub/pytorch_vision_v0.10.0\n"
     ]
    },
    {
     "name": "stdout",
     "output_type": "stream",
     "text": [
      "----------------------> 0.37251461988304085\n",
      "Evaluated Accuracy: 0.3725\n",
      "Testing b_a_r = 0.9643, c_a_r = 0.0091, f_a_r = 0.0266\n"
     ]
    },
    {
     "name": "stderr",
     "output_type": "stream",
     "text": [
      "Using cache found in /home/asufian/.cache/torch/hub/pytorch_vision_v0.10.0\n",
      "/home/asufian/.local/share/pipx/venvs/notebook/lib/python3.12/site-packages/torchvision/models/_utils.py:208: UserWarning: The parameter 'pretrained' is deprecated since 0.13 and may be removed in the future, please use 'weights' instead.\n",
      "  warnings.warn(\n",
      "/home/asufian/.local/share/pipx/venvs/notebook/lib/python3.12/site-packages/torchvision/models/_utils.py:223: UserWarning: Arguments other than a weight enum or `None` for 'weights' are deprecated since 0.13 and may be removed in the future. The current behavior is equivalent to passing `weights=None`.\n",
      "  warnings.warn(msg)\n",
      "Using cache found in /home/asufian/.cache/torch/hub/pytorch_vision_v0.10.0\n"
     ]
    },
    {
     "name": "stdout",
     "output_type": "stream",
     "text": [
      "----------------------> 0.3698245614035087\n",
      "Evaluated Accuracy: 0.3698\n",
      "Testing b_a_r = 0.1174, c_a_r = 0.4253, f_a_r = 0.9732\n"
     ]
    },
    {
     "name": "stderr",
     "output_type": "stream",
     "text": [
      "Using cache found in /home/asufian/.cache/torch/hub/pytorch_vision_v0.10.0\n",
      "/home/asufian/.local/share/pipx/venvs/notebook/lib/python3.12/site-packages/torchvision/models/_utils.py:208: UserWarning: The parameter 'pretrained' is deprecated since 0.13 and may be removed in the future, please use 'weights' instead.\n",
      "  warnings.warn(\n",
      "/home/asufian/.local/share/pipx/venvs/notebook/lib/python3.12/site-packages/torchvision/models/_utils.py:223: UserWarning: Arguments other than a weight enum or `None` for 'weights' are deprecated since 0.13 and may be removed in the future. The current behavior is equivalent to passing `weights=None`.\n",
      "  warnings.warn(msg)\n",
      "Using cache found in /home/asufian/.cache/torch/hub/pytorch_vision_v0.10.0\n"
     ]
    },
    {
     "name": "stdout",
     "output_type": "stream",
     "text": [
      "----------------------> 0.18994152046783622\n",
      "Evaluated Accuracy: 0.1899\n",
      "Testing b_a_r = 0.8129, c_a_r = 0.8432, f_a_r = 0.1283\n"
     ]
    },
    {
     "name": "stderr",
     "output_type": "stream",
     "text": [
      "Using cache found in /home/asufian/.cache/torch/hub/pytorch_vision_v0.10.0\n",
      "/home/asufian/.local/share/pipx/venvs/notebook/lib/python3.12/site-packages/torchvision/models/_utils.py:208: UserWarning: The parameter 'pretrained' is deprecated since 0.13 and may be removed in the future, please use 'weights' instead.\n",
      "  warnings.warn(\n",
      "/home/asufian/.local/share/pipx/venvs/notebook/lib/python3.12/site-packages/torchvision/models/_utils.py:223: UserWarning: Arguments other than a weight enum or `None` for 'weights' are deprecated since 0.13 and may be removed in the future. The current behavior is equivalent to passing `weights=None`.\n",
      "  warnings.warn(msg)\n",
      "Using cache found in /home/asufian/.cache/torch/hub/pytorch_vision_v0.10.0\n"
     ]
    },
    {
     "name": "stdout",
     "output_type": "stream",
     "text": [
      "----------------------> 0.15046783625730992\n",
      "Evaluated Accuracy: 0.1505\n",
      "Testing b_a_r = 0.0242, c_a_r = 0.0001, f_a_r = 0.0498\n"
     ]
    },
    {
     "name": "stderr",
     "output_type": "stream",
     "text": [
      "Using cache found in /home/asufian/.cache/torch/hub/pytorch_vision_v0.10.0\n",
      "/home/asufian/.local/share/pipx/venvs/notebook/lib/python3.12/site-packages/torchvision/models/_utils.py:208: UserWarning: The parameter 'pretrained' is deprecated since 0.13 and may be removed in the future, please use 'weights' instead.\n",
      "  warnings.warn(\n",
      "/home/asufian/.local/share/pipx/venvs/notebook/lib/python3.12/site-packages/torchvision/models/_utils.py:223: UserWarning: Arguments other than a weight enum or `None` for 'weights' are deprecated since 0.13 and may be removed in the future. The current behavior is equivalent to passing `weights=None`.\n",
      "  warnings.warn(msg)\n",
      "Using cache found in /home/asufian/.cache/torch/hub/pytorch_vision_v0.10.0\n"
     ]
    },
    {
     "name": "stdout",
     "output_type": "stream",
     "text": [
      "----------------------> 0.3728070175438597\n",
      "Evaluated Accuracy: 0.3728\n",
      "Testing b_a_r = 0.0195, c_a_r = 0.0342, f_a_r = 0.9040\n"
     ]
    },
    {
     "name": "stderr",
     "output_type": "stream",
     "text": [
      "Using cache found in /home/asufian/.cache/torch/hub/pytorch_vision_v0.10.0\n",
      "/home/asufian/.local/share/pipx/venvs/notebook/lib/python3.12/site-packages/torchvision/models/_utils.py:208: UserWarning: The parameter 'pretrained' is deprecated since 0.13 and may be removed in the future, please use 'weights' instead.\n",
      "  warnings.warn(\n",
      "/home/asufian/.local/share/pipx/venvs/notebook/lib/python3.12/site-packages/torchvision/models/_utils.py:223: UserWarning: Arguments other than a weight enum or `None` for 'weights' are deprecated since 0.13 and may be removed in the future. The current behavior is equivalent to passing `weights=None`.\n",
      "  warnings.warn(msg)\n",
      "Using cache found in /home/asufian/.cache/torch/hub/pytorch_vision_v0.10.0\n"
     ]
    },
    {
     "name": "stdout",
     "output_type": "stream",
     "text": [
      "----------------------> 0.3645614035087719\n",
      "Evaluated Accuracy: 0.3646\n",
      "Testing b_a_r = 0.9845, c_a_r = 0.0015, f_a_r = 0.0843\n"
     ]
    },
    {
     "name": "stderr",
     "output_type": "stream",
     "text": [
      "Using cache found in /home/asufian/.cache/torch/hub/pytorch_vision_v0.10.0\n",
      "/home/asufian/.local/share/pipx/venvs/notebook/lib/python3.12/site-packages/torchvision/models/_utils.py:208: UserWarning: The parameter 'pretrained' is deprecated since 0.13 and may be removed in the future, please use 'weights' instead.\n",
      "  warnings.warn(\n",
      "/home/asufian/.local/share/pipx/venvs/notebook/lib/python3.12/site-packages/torchvision/models/_utils.py:223: UserWarning: Arguments other than a weight enum or `None` for 'weights' are deprecated since 0.13 and may be removed in the future. The current behavior is equivalent to passing `weights=None`.\n",
      "  warnings.warn(msg)\n",
      "Using cache found in /home/asufian/.cache/torch/hub/pytorch_vision_v0.10.0\n"
     ]
    },
    {
     "name": "stdout",
     "output_type": "stream",
     "text": [
      "----------------------> 0.37111111111111117\n",
      "Evaluated Accuracy: 0.3711\n",
      "Testing b_a_r = 0.7958, c_a_r = 0.0005, f_a_r = 0.9195\n"
     ]
    },
    {
     "name": "stderr",
     "output_type": "stream",
     "text": [
      "Using cache found in /home/asufian/.cache/torch/hub/pytorch_vision_v0.10.0\n",
      "/home/asufian/.local/share/pipx/venvs/notebook/lib/python3.12/site-packages/torchvision/models/_utils.py:208: UserWarning: The parameter 'pretrained' is deprecated since 0.13 and may be removed in the future, please use 'weights' instead.\n",
      "  warnings.warn(\n",
      "/home/asufian/.local/share/pipx/venvs/notebook/lib/python3.12/site-packages/torchvision/models/_utils.py:223: UserWarning: Arguments other than a weight enum or `None` for 'weights' are deprecated since 0.13 and may be removed in the future. The current behavior is equivalent to passing `weights=None`.\n",
      "  warnings.warn(msg)\n",
      "Using cache found in /home/asufian/.cache/torch/hub/pytorch_vision_v0.10.0\n"
     ]
    },
    {
     "name": "stdout",
     "output_type": "stream",
     "text": [
      "----------------------> 0.3719883040935672\n",
      "Evaluated Accuracy: 0.3720\n",
      "Testing b_a_r = 0.0424, c_a_r = 0.3293, f_a_r = 0.9614\n"
     ]
    },
    {
     "name": "stderr",
     "output_type": "stream",
     "text": [
      "Using cache found in /home/asufian/.cache/torch/hub/pytorch_vision_v0.10.0\n",
      "/home/asufian/.local/share/pipx/venvs/notebook/lib/python3.12/site-packages/torchvision/models/_utils.py:208: UserWarning: The parameter 'pretrained' is deprecated since 0.13 and may be removed in the future, please use 'weights' instead.\n",
      "  warnings.warn(\n",
      "/home/asufian/.local/share/pipx/venvs/notebook/lib/python3.12/site-packages/torchvision/models/_utils.py:223: UserWarning: Arguments other than a weight enum or `None` for 'weights' are deprecated since 0.13 and may be removed in the future. The current behavior is equivalent to passing `weights=None`.\n",
      "  warnings.warn(msg)\n",
      "Using cache found in /home/asufian/.cache/torch/hub/pytorch_vision_v0.10.0\n"
     ]
    },
    {
     "name": "stdout",
     "output_type": "stream",
     "text": [
      "----------------------> 0.24257309941520466\n",
      "Evaluated Accuracy: 0.2426\n",
      "Testing b_a_r = 0.7841, c_a_r = 0.0004, f_a_r = 0.9883\n"
     ]
    },
    {
     "name": "stderr",
     "output_type": "stream",
     "text": [
      "Using cache found in /home/asufian/.cache/torch/hub/pytorch_vision_v0.10.0\n",
      "/home/asufian/.local/share/pipx/venvs/notebook/lib/python3.12/site-packages/torchvision/models/_utils.py:208: UserWarning: The parameter 'pretrained' is deprecated since 0.13 and may be removed in the future, please use 'weights' instead.\n",
      "  warnings.warn(\n",
      "/home/asufian/.local/share/pipx/venvs/notebook/lib/python3.12/site-packages/torchvision/models/_utils.py:223: UserWarning: Arguments other than a weight enum or `None` for 'weights' are deprecated since 0.13 and may be removed in the future. The current behavior is equivalent to passing `weights=None`.\n",
      "  warnings.warn(msg)\n",
      "Using cache found in /home/asufian/.cache/torch/hub/pytorch_vision_v0.10.0\n"
     ]
    },
    {
     "name": "stdout",
     "output_type": "stream",
     "text": [
      "----------------------> 0.37198830409356726\n",
      "Evaluated Accuracy: 0.3720\n",
      "Testing b_a_r = 0.9067, c_a_r = 0.7397, f_a_r = 0.9411\n"
     ]
    },
    {
     "name": "stderr",
     "output_type": "stream",
     "text": [
      "Using cache found in /home/asufian/.cache/torch/hub/pytorch_vision_v0.10.0\n",
      "/home/asufian/.local/share/pipx/venvs/notebook/lib/python3.12/site-packages/torchvision/models/_utils.py:208: UserWarning: The parameter 'pretrained' is deprecated since 0.13 and may be removed in the future, please use 'weights' instead.\n",
      "  warnings.warn(\n",
      "/home/asufian/.local/share/pipx/venvs/notebook/lib/python3.12/site-packages/torchvision/models/_utils.py:223: UserWarning: Arguments other than a weight enum or `None` for 'weights' are deprecated since 0.13 and may be removed in the future. The current behavior is equivalent to passing `weights=None`.\n",
      "  warnings.warn(msg)\n",
      "Using cache found in /home/asufian/.cache/torch/hub/pytorch_vision_v0.10.0\n"
     ]
    },
    {
     "name": "stdout",
     "output_type": "stream",
     "text": [
      "----------------------> 0.13970760233918128\n",
      "Evaluated Accuracy: 0.1397\n",
      "Testing b_a_r = 0.1735, c_a_r = 0.0014, f_a_r = 0.0404\n"
     ]
    },
    {
     "name": "stderr",
     "output_type": "stream",
     "text": [
      "Using cache found in /home/asufian/.cache/torch/hub/pytorch_vision_v0.10.0\n",
      "/home/asufian/.local/share/pipx/venvs/notebook/lib/python3.12/site-packages/torchvision/models/_utils.py:208: UserWarning: The parameter 'pretrained' is deprecated since 0.13 and may be removed in the future, please use 'weights' instead.\n",
      "  warnings.warn(\n",
      "/home/asufian/.local/share/pipx/venvs/notebook/lib/python3.12/site-packages/torchvision/models/_utils.py:223: UserWarning: Arguments other than a weight enum or `None` for 'weights' are deprecated since 0.13 and may be removed in the future. The current behavior is equivalent to passing `weights=None`.\n",
      "  warnings.warn(msg)\n",
      "Using cache found in /home/asufian/.cache/torch/hub/pytorch_vision_v0.10.0\n"
     ]
    },
    {
     "name": "stdout",
     "output_type": "stream",
     "text": [
      "----------------------> 0.3723976608187135\n",
      "Evaluated Accuracy: 0.3724\n",
      "Testing b_a_r = 0.8698, c_a_r = 0.5265, f_a_r = 0.0524\n"
     ]
    },
    {
     "name": "stderr",
     "output_type": "stream",
     "text": [
      "Using cache found in /home/asufian/.cache/torch/hub/pytorch_vision_v0.10.0\n",
      "/home/asufian/.local/share/pipx/venvs/notebook/lib/python3.12/site-packages/torchvision/models/_utils.py:208: UserWarning: The parameter 'pretrained' is deprecated since 0.13 and may be removed in the future, please use 'weights' instead.\n",
      "  warnings.warn(\n",
      "/home/asufian/.local/share/pipx/venvs/notebook/lib/python3.12/site-packages/torchvision/models/_utils.py:223: UserWarning: Arguments other than a weight enum or `None` for 'weights' are deprecated since 0.13 and may be removed in the future. The current behavior is equivalent to passing `weights=None`.\n",
      "  warnings.warn(msg)\n",
      "Using cache found in /home/asufian/.cache/torch/hub/pytorch_vision_v0.10.0\n"
     ]
    },
    {
     "name": "stdout",
     "output_type": "stream",
     "text": [
      "----------------------> 0.15526315789473685\n",
      "Evaluated Accuracy: 0.1553\n",
      "Testing b_a_r = 0.0160, c_a_r = 0.0003, f_a_r = 0.8514\n"
     ]
    },
    {
     "name": "stderr",
     "output_type": "stream",
     "text": [
      "Using cache found in /home/asufian/.cache/torch/hub/pytorch_vision_v0.10.0\n",
      "/home/asufian/.local/share/pipx/venvs/notebook/lib/python3.12/site-packages/torchvision/models/_utils.py:208: UserWarning: The parameter 'pretrained' is deprecated since 0.13 and may be removed in the future, please use 'weights' instead.\n",
      "  warnings.warn(\n",
      "/home/asufian/.local/share/pipx/venvs/notebook/lib/python3.12/site-packages/torchvision/models/_utils.py:223: UserWarning: Arguments other than a weight enum or `None` for 'weights' are deprecated since 0.13 and may be removed in the future. The current behavior is equivalent to passing `weights=None`.\n",
      "  warnings.warn(msg)\n",
      "Using cache found in /home/asufian/.cache/torch/hub/pytorch_vision_v0.10.0\n"
     ]
    },
    {
     "name": "stdout",
     "output_type": "stream",
     "text": [
      "----------------------> 0.3727485380116959\n",
      "Evaluated Accuracy: 0.3727\n",
      "Testing b_a_r = 0.9492, c_a_r = 0.9307, f_a_r = 0.9249\n"
     ]
    },
    {
     "name": "stderr",
     "output_type": "stream",
     "text": [
      "Using cache found in /home/asufian/.cache/torch/hub/pytorch_vision_v0.10.0\n",
      "/home/asufian/.local/share/pipx/venvs/notebook/lib/python3.12/site-packages/torchvision/models/_utils.py:208: UserWarning: The parameter 'pretrained' is deprecated since 0.13 and may be removed in the future, please use 'weights' instead.\n",
      "  warnings.warn(\n",
      "/home/asufian/.local/share/pipx/venvs/notebook/lib/python3.12/site-packages/torchvision/models/_utils.py:223: UserWarning: Arguments other than a weight enum or `None` for 'weights' are deprecated since 0.13 and may be removed in the future. The current behavior is equivalent to passing `weights=None`.\n",
      "  warnings.warn(msg)\n",
      "Using cache found in /home/asufian/.cache/torch/hub/pytorch_vision_v0.10.0\n"
     ]
    },
    {
     "name": "stdout",
     "output_type": "stream",
     "text": [
      "----------------------> 0.17192982456140352\n",
      "Evaluated Accuracy: 0.1719\n",
      "Testing b_a_r = 0.9648, c_a_r = 0.0512, f_a_r = 0.0181\n"
     ]
    },
    {
     "name": "stderr",
     "output_type": "stream",
     "text": [
      "Using cache found in /home/asufian/.cache/torch/hub/pytorch_vision_v0.10.0\n",
      "/home/asufian/.local/share/pipx/venvs/notebook/lib/python3.12/site-packages/torchvision/models/_utils.py:208: UserWarning: The parameter 'pretrained' is deprecated since 0.13 and may be removed in the future, please use 'weights' instead.\n",
      "  warnings.warn(\n",
      "/home/asufian/.local/share/pipx/venvs/notebook/lib/python3.12/site-packages/torchvision/models/_utils.py:223: UserWarning: Arguments other than a weight enum or `None` for 'weights' are deprecated since 0.13 and may be removed in the future. The current behavior is equivalent to passing `weights=None`.\n",
      "  warnings.warn(msg)\n",
      "Using cache found in /home/asufian/.cache/torch/hub/pytorch_vision_v0.10.0\n"
     ]
    },
    {
     "name": "stdout",
     "output_type": "stream",
     "text": [
      "----------------------> 0.36046783625731\n",
      "Evaluated Accuracy: 0.3605\n",
      "Testing b_a_r = 0.8664, c_a_r = 0.2004, f_a_r = 0.0131\n"
     ]
    },
    {
     "name": "stderr",
     "output_type": "stream",
     "text": [
      "Using cache found in /home/asufian/.cache/torch/hub/pytorch_vision_v0.10.0\n",
      "/home/asufian/.local/share/pipx/venvs/notebook/lib/python3.12/site-packages/torchvision/models/_utils.py:208: UserWarning: The parameter 'pretrained' is deprecated since 0.13 and may be removed in the future, please use 'weights' instead.\n",
      "  warnings.warn(\n",
      "/home/asufian/.local/share/pipx/venvs/notebook/lib/python3.12/site-packages/torchvision/models/_utils.py:223: UserWarning: Arguments other than a weight enum or `None` for 'weights' are deprecated since 0.13 and may be removed in the future. The current behavior is equivalent to passing `weights=None`.\n",
      "  warnings.warn(msg)\n",
      "Using cache found in /home/asufian/.cache/torch/hub/pytorch_vision_v0.10.0\n"
     ]
    },
    {
     "name": "stdout",
     "output_type": "stream",
     "text": [
      "----------------------> 0.3161988304093567\n",
      "Evaluated Accuracy: 0.3162\n",
      "Testing b_a_r = 0.4360, c_a_r = 0.0610, f_a_r = 0.9962\n"
     ]
    },
    {
     "name": "stderr",
     "output_type": "stream",
     "text": [
      "Using cache found in /home/asufian/.cache/torch/hub/pytorch_vision_v0.10.0\n",
      "/home/asufian/.local/share/pipx/venvs/notebook/lib/python3.12/site-packages/torchvision/models/_utils.py:208: UserWarning: The parameter 'pretrained' is deprecated since 0.13 and may be removed in the future, please use 'weights' instead.\n",
      "  warnings.warn(\n",
      "/home/asufian/.local/share/pipx/venvs/notebook/lib/python3.12/site-packages/torchvision/models/_utils.py:223: UserWarning: Arguments other than a weight enum or `None` for 'weights' are deprecated since 0.13 and may be removed in the future. The current behavior is equivalent to passing `weights=None`.\n",
      "  warnings.warn(msg)\n",
      "Using cache found in /home/asufian/.cache/torch/hub/pytorch_vision_v0.10.0\n"
     ]
    },
    {
     "name": "stdout",
     "output_type": "stream",
     "text": [
      "----------------------> 0.36\n",
      "Evaluated Accuracy: 0.3600\n",
      "Testing b_a_r = 0.2441, c_a_r = 0.4962, f_a_r = 0.0492\n"
     ]
    },
    {
     "name": "stderr",
     "output_type": "stream",
     "text": [
      "Using cache found in /home/asufian/.cache/torch/hub/pytorch_vision_v0.10.0\n",
      "/home/asufian/.local/share/pipx/venvs/notebook/lib/python3.12/site-packages/torchvision/models/_utils.py:208: UserWarning: The parameter 'pretrained' is deprecated since 0.13 and may be removed in the future, please use 'weights' instead.\n",
      "  warnings.warn(\n",
      "/home/asufian/.local/share/pipx/venvs/notebook/lib/python3.12/site-packages/torchvision/models/_utils.py:223: UserWarning: Arguments other than a weight enum or `None` for 'weights' are deprecated since 0.13 and may be removed in the future. The current behavior is equivalent to passing `weights=None`.\n",
      "  warnings.warn(msg)\n",
      "Using cache found in /home/asufian/.cache/torch/hub/pytorch_vision_v0.10.0\n"
     ]
    },
    {
     "name": "stdout",
     "output_type": "stream",
     "text": [
      "----------------------> 0.16538011695906435\n",
      "Evaluated Accuracy: 0.1654\n",
      "Testing b_a_r = 0.2289, c_a_r = 0.0283, f_a_r = 0.7060\n"
     ]
    },
    {
     "name": "stderr",
     "output_type": "stream",
     "text": [
      "Using cache found in /home/asufian/.cache/torch/hub/pytorch_vision_v0.10.0\n",
      "/home/asufian/.local/share/pipx/venvs/notebook/lib/python3.12/site-packages/torchvision/models/_utils.py:208: UserWarning: The parameter 'pretrained' is deprecated since 0.13 and may be removed in the future, please use 'weights' instead.\n",
      "  warnings.warn(\n",
      "/home/asufian/.local/share/pipx/venvs/notebook/lib/python3.12/site-packages/torchvision/models/_utils.py:223: UserWarning: Arguments other than a weight enum or `None` for 'weights' are deprecated since 0.13 and may be removed in the future. The current behavior is equivalent to passing `weights=None`.\n",
      "  warnings.warn(msg)\n",
      "Using cache found in /home/asufian/.cache/torch/hub/pytorch_vision_v0.10.0\n"
     ]
    },
    {
     "name": "stdout",
     "output_type": "stream",
     "text": [
      "----------------------> 0.365906432748538\n",
      "Evaluated Accuracy: 0.3659\n",
      "Testing b_a_r = 0.6657, c_a_r = 0.4448, f_a_r = 0.3356\n"
     ]
    },
    {
     "name": "stderr",
     "output_type": "stream",
     "text": [
      "Using cache found in /home/asufian/.cache/torch/hub/pytorch_vision_v0.10.0\n",
      "/home/asufian/.local/share/pipx/venvs/notebook/lib/python3.12/site-packages/torchvision/models/_utils.py:208: UserWarning: The parameter 'pretrained' is deprecated since 0.13 and may be removed in the future, please use 'weights' instead.\n",
      "  warnings.warn(\n",
      "/home/asufian/.local/share/pipx/venvs/notebook/lib/python3.12/site-packages/torchvision/models/_utils.py:223: UserWarning: Arguments other than a weight enum or `None` for 'weights' are deprecated since 0.13 and may be removed in the future. The current behavior is equivalent to passing `weights=None`.\n",
      "  warnings.warn(msg)\n",
      "Using cache found in /home/asufian/.cache/torch/hub/pytorch_vision_v0.10.0\n"
     ]
    },
    {
     "name": "stdout",
     "output_type": "stream",
     "text": [
      "----------------------> 0.17976608187134502\n",
      "Evaluated Accuracy: 0.1798\n",
      "Testing b_a_r = 0.0649, c_a_r = 0.6907, f_a_r = 0.0794\n"
     ]
    },
    {
     "name": "stderr",
     "output_type": "stream",
     "text": [
      "Using cache found in /home/asufian/.cache/torch/hub/pytorch_vision_v0.10.0\n",
      "/home/asufian/.local/share/pipx/venvs/notebook/lib/python3.12/site-packages/torchvision/models/_utils.py:208: UserWarning: The parameter 'pretrained' is deprecated since 0.13 and may be removed in the future, please use 'weights' instead.\n",
      "  warnings.warn(\n",
      "/home/asufian/.local/share/pipx/venvs/notebook/lib/python3.12/site-packages/torchvision/models/_utils.py:223: UserWarning: Arguments other than a weight enum or `None` for 'weights' are deprecated since 0.13 and may be removed in the future. The current behavior is equivalent to passing `weights=None`.\n",
      "  warnings.warn(msg)\n",
      "Using cache found in /home/asufian/.cache/torch/hub/pytorch_vision_v0.10.0\n"
     ]
    },
    {
     "name": "stdout",
     "output_type": "stream",
     "text": [
      "----------------------> 0.13555555555555554\n",
      "Evaluated Accuracy: 0.1356\n",
      "Testing b_a_r = 0.0389, c_a_r = 0.7936, f_a_r = 0.0277\n"
     ]
    },
    {
     "name": "stderr",
     "output_type": "stream",
     "text": [
      "Using cache found in /home/asufian/.cache/torch/hub/pytorch_vision_v0.10.0\n",
      "/home/asufian/.local/share/pipx/venvs/notebook/lib/python3.12/site-packages/torchvision/models/_utils.py:208: UserWarning: The parameter 'pretrained' is deprecated since 0.13 and may be removed in the future, please use 'weights' instead.\n",
      "  warnings.warn(\n",
      "/home/asufian/.local/share/pipx/venvs/notebook/lib/python3.12/site-packages/torchvision/models/_utils.py:223: UserWarning: Arguments other than a weight enum or `None` for 'weights' are deprecated since 0.13 and may be removed in the future. The current behavior is equivalent to passing `weights=None`.\n",
      "  warnings.warn(msg)\n",
      "Using cache found in /home/asufian/.cache/torch/hub/pytorch_vision_v0.10.0\n"
     ]
    },
    {
     "name": "stdout",
     "output_type": "stream",
     "text": [
      "----------------------> 0.14812865497076022\n",
      "Evaluated Accuracy: 0.1481\n",
      "Testing b_a_r = 0.4814, c_a_r = 0.3708, f_a_r = 0.3427\n"
     ]
    },
    {
     "name": "stderr",
     "output_type": "stream",
     "text": [
      "Using cache found in /home/asufian/.cache/torch/hub/pytorch_vision_v0.10.0\n",
      "/home/asufian/.local/share/pipx/venvs/notebook/lib/python3.12/site-packages/torchvision/models/_utils.py:208: UserWarning: The parameter 'pretrained' is deprecated since 0.13 and may be removed in the future, please use 'weights' instead.\n",
      "  warnings.warn(\n",
      "/home/asufian/.local/share/pipx/venvs/notebook/lib/python3.12/site-packages/torchvision/models/_utils.py:223: UserWarning: Arguments other than a weight enum or `None` for 'weights' are deprecated since 0.13 and may be removed in the future. The current behavior is equivalent to passing `weights=None`.\n",
      "  warnings.warn(msg)\n",
      "Using cache found in /home/asufian/.cache/torch/hub/pytorch_vision_v0.10.0\n"
     ]
    },
    {
     "name": "stdout",
     "output_type": "stream",
     "text": [
      "----------------------> 0.22029239766081873\n",
      "Evaluated Accuracy: 0.2203\n",
      "Testing b_a_r = 0.5896, c_a_r = 0.8526, f_a_r = 0.1523\n"
     ]
    },
    {
     "name": "stderr",
     "output_type": "stream",
     "text": [
      "Using cache found in /home/asufian/.cache/torch/hub/pytorch_vision_v0.10.0\n",
      "/home/asufian/.local/share/pipx/venvs/notebook/lib/python3.12/site-packages/torchvision/models/_utils.py:208: UserWarning: The parameter 'pretrained' is deprecated since 0.13 and may be removed in the future, please use 'weights' instead.\n",
      "  warnings.warn(\n",
      "/home/asufian/.local/share/pipx/venvs/notebook/lib/python3.12/site-packages/torchvision/models/_utils.py:223: UserWarning: Arguments other than a weight enum or `None` for 'weights' are deprecated since 0.13 and may be removed in the future. The current behavior is equivalent to passing `weights=None`.\n",
      "  warnings.warn(msg)\n",
      "Using cache found in /home/asufian/.cache/torch/hub/pytorch_vision_v0.10.0\n"
     ]
    },
    {
     "name": "stdout",
     "output_type": "stream",
     "text": [
      "----------------------> 0.15368421052631576\n",
      "Evaluated Accuracy: 0.1537\n",
      "Testing b_a_r = 0.0086, c_a_r = 0.1098, f_a_r = 0.1061\n"
     ]
    },
    {
     "name": "stderr",
     "output_type": "stream",
     "text": [
      "Using cache found in /home/asufian/.cache/torch/hub/pytorch_vision_v0.10.0\n",
      "/home/asufian/.local/share/pipx/venvs/notebook/lib/python3.12/site-packages/torchvision/models/_utils.py:208: UserWarning: The parameter 'pretrained' is deprecated since 0.13 and may be removed in the future, please use 'weights' instead.\n",
      "  warnings.warn(\n",
      "/home/asufian/.local/share/pipx/venvs/notebook/lib/python3.12/site-packages/torchvision/models/_utils.py:223: UserWarning: Arguments other than a weight enum or `None` for 'weights' are deprecated since 0.13 and may be removed in the future. The current behavior is equivalent to passing `weights=None`.\n",
      "  warnings.warn(msg)\n",
      "Using cache found in /home/asufian/.cache/torch/hub/pytorch_vision_v0.10.0\n"
     ]
    },
    {
     "name": "stdout",
     "output_type": "stream",
     "text": [
      "----------------------> 0.34976608187134495\n",
      "Evaluated Accuracy: 0.3498\n",
      "Testing b_a_r = 0.7705, c_a_r = 0.4166, f_a_r = 0.8895\n"
     ]
    },
    {
     "name": "stderr",
     "output_type": "stream",
     "text": [
      "Using cache found in /home/asufian/.cache/torch/hub/pytorch_vision_v0.10.0\n",
      "/home/asufian/.local/share/pipx/venvs/notebook/lib/python3.12/site-packages/torchvision/models/_utils.py:208: UserWarning: The parameter 'pretrained' is deprecated since 0.13 and may be removed in the future, please use 'weights' instead.\n",
      "  warnings.warn(\n",
      "/home/asufian/.local/share/pipx/venvs/notebook/lib/python3.12/site-packages/torchvision/models/_utils.py:223: UserWarning: Arguments other than a weight enum or `None` for 'weights' are deprecated since 0.13 and may be removed in the future. The current behavior is equivalent to passing `weights=None`.\n",
      "  warnings.warn(msg)\n",
      "Using cache found in /home/asufian/.cache/torch/hub/pytorch_vision_v0.10.0\n"
     ]
    },
    {
     "name": "stdout",
     "output_type": "stream",
     "text": [
      "----------------------> 0.19368421052631582\n",
      "Evaluated Accuracy: 0.1937\n",
      "Testing b_a_r = 0.7195, c_a_r = 0.6549, f_a_r = 0.0047\n"
     ]
    },
    {
     "name": "stderr",
     "output_type": "stream",
     "text": [
      "Using cache found in /home/asufian/.cache/torch/hub/pytorch_vision_v0.10.0\n",
      "/home/asufian/.local/share/pipx/venvs/notebook/lib/python3.12/site-packages/torchvision/models/_utils.py:208: UserWarning: The parameter 'pretrained' is deprecated since 0.13 and may be removed in the future, please use 'weights' instead.\n",
      "  warnings.warn(\n",
      "/home/asufian/.local/share/pipx/venvs/notebook/lib/python3.12/site-packages/torchvision/models/_utils.py:223: UserWarning: Arguments other than a weight enum or `None` for 'weights' are deprecated since 0.13 and may be removed in the future. The current behavior is equivalent to passing `weights=None`.\n",
      "  warnings.warn(msg)\n",
      "Using cache found in /home/asufian/.cache/torch/hub/pytorch_vision_v0.10.0\n"
     ]
    },
    {
     "name": "stdout",
     "output_type": "stream",
     "text": [
      "----------------------> 0.13257309941520468\n",
      "Evaluated Accuracy: 0.1326\n",
      "Testing b_a_r = 0.4984, c_a_r = 0.6757, f_a_r = 0.4416\n"
     ]
    },
    {
     "name": "stderr",
     "output_type": "stream",
     "text": [
      "Using cache found in /home/asufian/.cache/torch/hub/pytorch_vision_v0.10.0\n",
      "/home/asufian/.local/share/pipx/venvs/notebook/lib/python3.12/site-packages/torchvision/models/_utils.py:208: UserWarning: The parameter 'pretrained' is deprecated since 0.13 and may be removed in the future, please use 'weights' instead.\n",
      "  warnings.warn(\n",
      "/home/asufian/.local/share/pipx/venvs/notebook/lib/python3.12/site-packages/torchvision/models/_utils.py:223: UserWarning: Arguments other than a weight enum or `None` for 'weights' are deprecated since 0.13 and may be removed in the future. The current behavior is equivalent to passing `weights=None`.\n",
      "  warnings.warn(msg)\n",
      "Using cache found in /home/asufian/.cache/torch/hub/pytorch_vision_v0.10.0\n"
     ]
    },
    {
     "name": "stdout",
     "output_type": "stream",
     "text": [
      "----------------------> 0.13210526315789475\n",
      "Evaluated Accuracy: 0.1321\n",
      "Testing b_a_r = 0.6832, c_a_r = 0.3112, f_a_r = 0.3726\n"
     ]
    },
    {
     "name": "stderr",
     "output_type": "stream",
     "text": [
      "Using cache found in /home/asufian/.cache/torch/hub/pytorch_vision_v0.10.0\n",
      "/home/asufian/.local/share/pipx/venvs/notebook/lib/python3.12/site-packages/torchvision/models/_utils.py:208: UserWarning: The parameter 'pretrained' is deprecated since 0.13 and may be removed in the future, please use 'weights' instead.\n",
      "  warnings.warn(\n",
      "/home/asufian/.local/share/pipx/venvs/notebook/lib/python3.12/site-packages/torchvision/models/_utils.py:223: UserWarning: Arguments other than a weight enum or `None` for 'weights' are deprecated since 0.13 and may be removed in the future. The current behavior is equivalent to passing `weights=None`.\n",
      "  warnings.warn(msg)\n",
      "Using cache found in /home/asufian/.cache/torch/hub/pytorch_vision_v0.10.0\n"
     ]
    },
    {
     "name": "stdout",
     "output_type": "stream",
     "text": [
      "----------------------> 0.253859649122807\n",
      "Evaluated Accuracy: 0.2539\n",
      "Testing b_a_r = 0.1386, c_a_r = 0.4381, f_a_r = 0.7053\n"
     ]
    },
    {
     "name": "stderr",
     "output_type": "stream",
     "text": [
      "Using cache found in /home/asufian/.cache/torch/hub/pytorch_vision_v0.10.0\n",
      "/home/asufian/.local/share/pipx/venvs/notebook/lib/python3.12/site-packages/torchvision/models/_utils.py:208: UserWarning: The parameter 'pretrained' is deprecated since 0.13 and may be removed in the future, please use 'weights' instead.\n",
      "  warnings.warn(\n",
      "/home/asufian/.local/share/pipx/venvs/notebook/lib/python3.12/site-packages/torchvision/models/_utils.py:223: UserWarning: Arguments other than a weight enum or `None` for 'weights' are deprecated since 0.13 and may be removed in the future. The current behavior is equivalent to passing `weights=None`.\n",
      "  warnings.warn(msg)\n",
      "Using cache found in /home/asufian/.cache/torch/hub/pytorch_vision_v0.10.0\n"
     ]
    },
    {
     "name": "stdout",
     "output_type": "stream",
     "text": [
      "----------------------> 0.1837426900584795\n",
      "Evaluated Accuracy: 0.1837\n",
      "Testing b_a_r = 0.6428, c_a_r = 0.2760, f_a_r = 0.2388\n"
     ]
    },
    {
     "name": "stderr",
     "output_type": "stream",
     "text": [
      "Using cache found in /home/asufian/.cache/torch/hub/pytorch_vision_v0.10.0\n",
      "/home/asufian/.local/share/pipx/venvs/notebook/lib/python3.12/site-packages/torchvision/models/_utils.py:208: UserWarning: The parameter 'pretrained' is deprecated since 0.13 and may be removed in the future, please use 'weights' instead.\n",
      "  warnings.warn(\n",
      "/home/asufian/.local/share/pipx/venvs/notebook/lib/python3.12/site-packages/torchvision/models/_utils.py:223: UserWarning: Arguments other than a weight enum or `None` for 'weights' are deprecated since 0.13 and may be removed in the future. The current behavior is equivalent to passing `weights=None`.\n",
      "  warnings.warn(msg)\n",
      "Using cache found in /home/asufian/.cache/torch/hub/pytorch_vision_v0.10.0\n"
     ]
    },
    {
     "name": "stdout",
     "output_type": "stream",
     "text": [
      "----------------------> 0.2750877192982457\n",
      "Evaluated Accuracy: 0.2751\n",
      "Testing b_a_r = 0.3251, c_a_r = 0.9778, f_a_r = 0.4230\n"
     ]
    },
    {
     "name": "stderr",
     "output_type": "stream",
     "text": [
      "Using cache found in /home/asufian/.cache/torch/hub/pytorch_vision_v0.10.0\n",
      "/home/asufian/.local/share/pipx/venvs/notebook/lib/python3.12/site-packages/torchvision/models/_utils.py:208: UserWarning: The parameter 'pretrained' is deprecated since 0.13 and may be removed in the future, please use 'weights' instead.\n",
      "  warnings.warn(\n",
      "/home/asufian/.local/share/pipx/venvs/notebook/lib/python3.12/site-packages/torchvision/models/_utils.py:223: UserWarning: Arguments other than a weight enum or `None` for 'weights' are deprecated since 0.13 and may be removed in the future. The current behavior is equivalent to passing `weights=None`.\n",
      "  warnings.warn(msg)\n",
      "Using cache found in /home/asufian/.cache/torch/hub/pytorch_vision_v0.10.0\n"
     ]
    },
    {
     "name": "stdout",
     "output_type": "stream",
     "text": [
      "----------------------> 0.1808187134502924\n",
      "Evaluated Accuracy: 0.1808\n",
      "Testing b_a_r = 0.8869, c_a_r = 0.3241, f_a_r = 0.1217\n"
     ]
    },
    {
     "name": "stderr",
     "output_type": "stream",
     "text": [
      "Using cache found in /home/asufian/.cache/torch/hub/pytorch_vision_v0.10.0\n",
      "/home/asufian/.local/share/pipx/venvs/notebook/lib/python3.12/site-packages/torchvision/models/_utils.py:208: UserWarning: The parameter 'pretrained' is deprecated since 0.13 and may be removed in the future, please use 'weights' instead.\n",
      "  warnings.warn(\n",
      "/home/asufian/.local/share/pipx/venvs/notebook/lib/python3.12/site-packages/torchvision/models/_utils.py:223: UserWarning: Arguments other than a weight enum or `None` for 'weights' are deprecated since 0.13 and may be removed in the future. The current behavior is equivalent to passing `weights=None`.\n",
      "  warnings.warn(msg)\n",
      "Using cache found in /home/asufian/.cache/torch/hub/pytorch_vision_v0.10.0\n"
     ]
    },
    {
     "name": "stdout",
     "output_type": "stream",
     "text": [
      "----------------------> 0.24549707602339177\n",
      "Evaluated Accuracy: 0.2455\n",
      "Testing b_a_r = 0.7590, c_a_r = 0.5305, f_a_r = 0.5293\n"
     ]
    },
    {
     "name": "stderr",
     "output_type": "stream",
     "text": [
      "Using cache found in /home/asufian/.cache/torch/hub/pytorch_vision_v0.10.0\n",
      "/home/asufian/.local/share/pipx/venvs/notebook/lib/python3.12/site-packages/torchvision/models/_utils.py:208: UserWarning: The parameter 'pretrained' is deprecated since 0.13 and may be removed in the future, please use 'weights' instead.\n",
      "  warnings.warn(\n",
      "/home/asufian/.local/share/pipx/venvs/notebook/lib/python3.12/site-packages/torchvision/models/_utils.py:223: UserWarning: Arguments other than a weight enum or `None` for 'weights' are deprecated since 0.13 and may be removed in the future. The current behavior is equivalent to passing `weights=None`.\n",
      "  warnings.warn(msg)\n",
      "Using cache found in /home/asufian/.cache/torch/hub/pytorch_vision_v0.10.0\n"
     ]
    },
    {
     "name": "stdout",
     "output_type": "stream",
     "text": [
      "----------------------> 0.15397660818713452\n",
      "Evaluated Accuracy: 0.1540\n",
      "Testing b_a_r = 0.9487, c_a_r = 0.5401, f_a_r = 0.5035\n"
     ]
    },
    {
     "name": "stderr",
     "output_type": "stream",
     "text": [
      "Using cache found in /home/asufian/.cache/torch/hub/pytorch_vision_v0.10.0\n",
      "/home/asufian/.local/share/pipx/venvs/notebook/lib/python3.12/site-packages/torchvision/models/_utils.py:208: UserWarning: The parameter 'pretrained' is deprecated since 0.13 and may be removed in the future, please use 'weights' instead.\n",
      "  warnings.warn(\n",
      "/home/asufian/.local/share/pipx/venvs/notebook/lib/python3.12/site-packages/torchvision/models/_utils.py:223: UserWarning: Arguments other than a weight enum or `None` for 'weights' are deprecated since 0.13 and may be removed in the future. The current behavior is equivalent to passing `weights=None`.\n",
      "  warnings.warn(msg)\n",
      "Using cache found in /home/asufian/.cache/torch/hub/pytorch_vision_v0.10.0\n"
     ]
    },
    {
     "name": "stdout",
     "output_type": "stream",
     "text": [
      "----------------------> 0.15327485380116956\n",
      "Evaluated Accuracy: 0.1533\n",
      "Testing b_a_r = 0.9797, c_a_r = 0.7146, f_a_r = 0.8420\n"
     ]
    },
    {
     "name": "stderr",
     "output_type": "stream",
     "text": [
      "Using cache found in /home/asufian/.cache/torch/hub/pytorch_vision_v0.10.0\n",
      "/home/asufian/.local/share/pipx/venvs/notebook/lib/python3.12/site-packages/torchvision/models/_utils.py:208: UserWarning: The parameter 'pretrained' is deprecated since 0.13 and may be removed in the future, please use 'weights' instead.\n",
      "  warnings.warn(\n",
      "/home/asufian/.local/share/pipx/venvs/notebook/lib/python3.12/site-packages/torchvision/models/_utils.py:223: UserWarning: Arguments other than a weight enum or `None` for 'weights' are deprecated since 0.13 and may be removed in the future. The current behavior is equivalent to passing `weights=None`.\n",
      "  warnings.warn(msg)\n",
      "Using cache found in /home/asufian/.cache/torch/hub/pytorch_vision_v0.10.0\n"
     ]
    },
    {
     "name": "stdout",
     "output_type": "stream",
     "text": [
      "----------------------> 0.1339766081871345\n",
      "Evaluated Accuracy: 0.1340\n",
      "Testing b_a_r = 0.8061, c_a_r = 0.8537, f_a_r = 0.8574\n"
     ]
    },
    {
     "name": "stderr",
     "output_type": "stream",
     "text": [
      "Using cache found in /home/asufian/.cache/torch/hub/pytorch_vision_v0.10.0\n",
      "/home/asufian/.local/share/pipx/venvs/notebook/lib/python3.12/site-packages/torchvision/models/_utils.py:208: UserWarning: The parameter 'pretrained' is deprecated since 0.13 and may be removed in the future, please use 'weights' instead.\n",
      "  warnings.warn(\n",
      "/home/asufian/.local/share/pipx/venvs/notebook/lib/python3.12/site-packages/torchvision/models/_utils.py:223: UserWarning: Arguments other than a weight enum or `None` for 'weights' are deprecated since 0.13 and may be removed in the future. The current behavior is equivalent to passing `weights=None`.\n",
      "  warnings.warn(msg)\n",
      "Using cache found in /home/asufian/.cache/torch/hub/pytorch_vision_v0.10.0\n"
     ]
    },
    {
     "name": "stdout",
     "output_type": "stream",
     "text": [
      "----------------------> 0.15070175438596492\n",
      "Evaluated Accuracy: 0.1507\n",
      "Testing b_a_r = 0.7211, c_a_r = 0.9247, f_a_r = 0.3935\n"
     ]
    },
    {
     "name": "stderr",
     "output_type": "stream",
     "text": [
      "Using cache found in /home/asufian/.cache/torch/hub/pytorch_vision_v0.10.0\n",
      "/home/asufian/.local/share/pipx/venvs/notebook/lib/python3.12/site-packages/torchvision/models/_utils.py:208: UserWarning: The parameter 'pretrained' is deprecated since 0.13 and may be removed in the future, please use 'weights' instead.\n",
      "  warnings.warn(\n",
      "/home/asufian/.local/share/pipx/venvs/notebook/lib/python3.12/site-packages/torchvision/models/_utils.py:223: UserWarning: Arguments other than a weight enum or `None` for 'weights' are deprecated since 0.13 and may be removed in the future. The current behavior is equivalent to passing `weights=None`.\n",
      "  warnings.warn(msg)\n",
      "Using cache found in /home/asufian/.cache/torch/hub/pytorch_vision_v0.10.0\n"
     ]
    },
    {
     "name": "stdout",
     "output_type": "stream",
     "text": [
      "----------------------> 0.16625730994152044\n",
      "Evaluated Accuracy: 0.1663\n",
      "Testing b_a_r = 0.0846, c_a_r = 0.0021, f_a_r = 0.9868\n"
     ]
    },
    {
     "name": "stderr",
     "output_type": "stream",
     "text": [
      "Using cache found in /home/asufian/.cache/torch/hub/pytorch_vision_v0.10.0\n",
      "/home/asufian/.local/share/pipx/venvs/notebook/lib/python3.12/site-packages/torchvision/models/_utils.py:208: UserWarning: The parameter 'pretrained' is deprecated since 0.13 and may be removed in the future, please use 'weights' instead.\n",
      "  warnings.warn(\n",
      "/home/asufian/.local/share/pipx/venvs/notebook/lib/python3.12/site-packages/torchvision/models/_utils.py:223: UserWarning: Arguments other than a weight enum or `None` for 'weights' are deprecated since 0.13 and may be removed in the future. The current behavior is equivalent to passing `weights=None`.\n",
      "  warnings.warn(msg)\n",
      "Using cache found in /home/asufian/.cache/torch/hub/pytorch_vision_v0.10.0\n"
     ]
    },
    {
     "name": "stdout",
     "output_type": "stream",
     "text": [
      "----------------------> 0.3722222222222222\n",
      "Evaluated Accuracy: 0.3722\n",
      "Testing b_a_r = 0.0009, c_a_r = 0.0021, f_a_r = 0.0927\n"
     ]
    },
    {
     "name": "stderr",
     "output_type": "stream",
     "text": [
      "Using cache found in /home/asufian/.cache/torch/hub/pytorch_vision_v0.10.0\n",
      "/home/asufian/.local/share/pipx/venvs/notebook/lib/python3.12/site-packages/torchvision/models/_utils.py:208: UserWarning: The parameter 'pretrained' is deprecated since 0.13 and may be removed in the future, please use 'weights' instead.\n",
      "  warnings.warn(\n",
      "/home/asufian/.local/share/pipx/venvs/notebook/lib/python3.12/site-packages/torchvision/models/_utils.py:223: UserWarning: Arguments other than a weight enum or `None` for 'weights' are deprecated since 0.13 and may be removed in the future. The current behavior is equivalent to passing `weights=None`.\n",
      "  warnings.warn(msg)\n",
      "Using cache found in /home/asufian/.cache/torch/hub/pytorch_vision_v0.10.0\n"
     ]
    },
    {
     "name": "stdout",
     "output_type": "stream",
     "text": [
      "----------------------> 0.3726315789473684\n",
      "Evaluated Accuracy: 0.3726\n",
      "\n",
      "✅ Optimal Values:\n",
      "   - b_a_r: 0.0242\n",
      "   - c_a_r: 0.0001\n",
      "   - f_a_r: 0.0498\n",
      "📈 Highest Accuracy Achieved: 0.3728\n"
     ]
    }
   ],
   "source": [
    "import numpy as np\n",
    "import torch\n",
    "import matplotlib.pyplot as plt\n",
    "from skopt import gp_minimize\n",
    "from skopt.space import Real\n",
    "from skopt.utils import use_named_args\n",
    "from skopt.plots import plot_convergence\n",
    "\n",
    "# Device setup\n",
    "device = torch.device(\"cuda\" if torch.cuda.is_available() else \"cpu\")\n",
    "\n",
    "\n",
    "# Define the search space for b_a_r, c_a_r, and f_a_r\n",
    "search_space = [\n",
    "    Real(0.0, 1.0, name=\"b_a_r\"),\n",
    "    Real(0.0, 1.0, name=\"c_a_r\"),\n",
    "    Real(0.0, 1.0, name=\"f_a_r\")\n",
    "]\n",
    "\n",
    "# Define the objective function for Bayesian Optimization\n",
    "@use_named_args(search_space)\n",
    "def objective(b_a_r, c_a_r, f_a_r):\n",
    "    \"\"\"\n",
    "    Objective function to optimize the adaptation ratios.\n",
    "    It applies adaptation, evaluates the model, and returns the negative accuracy.\n",
    "    \"\"\"\n",
    "    accuracy = get_model_accuracy(b_a_r, c_a_r, f_a_r)\n",
    "    print(f\"Evaluated Accuracy: {accuracy:.4f}\")  # Debugging Output\n",
    "    \n",
    "    return -accuracy  # We minimize, so return negative accuracy\n",
    "\n",
    "# Perform Bayesian Optimization with additional settings\n",
    "search_iteration=50\n",
    "res = gp_minimize(\n",
    "    func=objective,\n",
    "    dimensions=search_space,\n",
    "    n_calls=search_iteration,               # Number of evaluations\n",
    "    n_initial_points=5,       # Initial random explorations before GP starts\n",
    "    acq_func=\"EI\",            # Acquisition function: Expected Improvement\n",
    "    random_state=50,          # Ensure reproducibility\n",
    "    n_jobs=-1,                # Parallel execution for faster optimization\n",
    ")\n",
    "\n",
    "# Extract optimal results\n",
    "optimal_b_a_r, optimal_c_a_r, optimal_f_a_r = res.x\n",
    "best_accuracy = -res.fun\n",
    "\n",
    "print(f\"\\n✅ Optimal Values:\")\n",
    "print(f\"   - b_a_r: {optimal_b_a_r:.4f}\")\n",
    "print(f\"   - c_a_r: {optimal_c_a_r:.4f}\")\n",
    "print(f\"   - f_a_r: {optimal_f_a_r:.4f}\")\n",
    "print(f\"📈 Highest Accuracy Achieved: {best_accuracy:.4f}\")\n",
    "\n",
    "\n"
   ]
  },
  {
   "cell_type": "code",
   "execution_count": 442,
   "metadata": {},
   "outputs": [
    {
     "name": "stderr",
     "output_type": "stream",
     "text": [
      "Using cache found in /home/asufian/.cache/torch/hub/pytorch_vision_v0.10.0\n",
      "/home/asufian/.local/share/pipx/venvs/notebook/lib/python3.12/site-packages/torchvision/models/_utils.py:208: UserWarning: The parameter 'pretrained' is deprecated since 0.13 and may be removed in the future, please use 'weights' instead.\n",
      "  warnings.warn(\n",
      "/home/asufian/.local/share/pipx/venvs/notebook/lib/python3.12/site-packages/torchvision/models/_utils.py:223: UserWarning: Arguments other than a weight enum or `None` for 'weights' are deprecated since 0.13 and may be removed in the future. The current behavior is equivalent to passing `weights=None`.\n",
      "  warnings.warn(msg)\n"
     ]
    },
    {
     "name": "stdout",
     "output_type": "stream",
     "text": [
      "---Accu-----pre----rec---------> 0.3730 ± 0.0610  0.4269 ± 0.0657  0.3730 ± 0.0610\n"
     ]
    },
    {
     "name": "stderr",
     "output_type": "stream",
     "text": [
      "Using cache found in /home/asufian/.cache/torch/hub/pytorch_vision_v0.10.0\n",
      "/home/asufian/.local/share/pipx/venvs/notebook/lib/python3.12/site-packages/torchvision/models/_utils.py:208: UserWarning: The parameter 'pretrained' is deprecated since 0.13 and may be removed in the future, please use 'weights' instead.\n",
      "  warnings.warn(\n",
      "/home/asufian/.local/share/pipx/venvs/notebook/lib/python3.12/site-packages/torchvision/models/_utils.py:223: UserWarning: Arguments other than a weight enum or `None` for 'weights' are deprecated since 0.13 and may be removed in the future. The current behavior is equivalent to passing `weights=None`.\n",
      "  warnings.warn(msg)\n"
     ]
    },
    {
     "name": "stdout",
     "output_type": "stream",
     "text": [
      "---Accu-----pre----rec---------> 0.3679 ± 0.0553  0.4222 ± 0.0582  0.3679 ± 0.0553\n",
      "---Accu-----pre----rec---------> 0.3728 ± 0.0610  0.4266 ± 0.0656  0.3728 ± 0.0610\n"
     ]
    }
   ],
   "source": [
    "convolutional_network_with_dropout =  DenseNet169WithDropout(modell='densenet169',pretrained=False,dr=0.0)\n",
    "convolutional_network_with_dropout.fc = nn.Flatten()\n",
    "\n",
    "xyz = convolutional_network_with_dropout\n",
    "M3 = PrototypicalNetworks_dynamic_query(xyz).to(device)\n",
    "M3.load_state_dict(torch.load('model_own_path.pt'))\n",
    "evaluate2('/home/asufian/Desktop/output_mapii/result_densnet/base/12_w_1_s_f_20', test_loader, M3, criterion)\n",
    "# Load Model M2\n",
    "convolutional_network_with_dropout =  DenseNet169WithDropout(modell='densenet169',pretrained=False,dr=0.0)\n",
    "convolutional_network_with_dropout.fc = nn.Flatten()\n",
    "\n",
    "xyz2 = convolutional_network_with_dropout\n",
    "M2 = PrototypicalNetworks_dynamic_query(xyz2).to(device)\n",
    "M2.load_state_dict(torch.load('model_mu_path.pt'))\n",
    "evaluate2(\"/home/asufian/Desktop/output_mapii/result_densnet/secondary/12_w_1_s_f_20\", test_loader, M2, criterion)\n",
    "# Update Model M3's weights using a weighted combination of Model M3 and Model M2\n",
    "update_model_weights2(M3, M2, conv_ratio= optimal_c_a_r , fc_ratio=optimal_f_a_r , bias_ratio=optimal_b_a_r)\n",
    "\n",
    "# Assuming you have the evaluate2 function defined\n",
    "# Evaluate the updated model (M3) using evaluate2 function with some arguments\n",
    "evaluate2(\"/home/asufian/Desktop/output_mapii/result_densnet/amul/12_w_1_s_f_20\", test_loader, M3, criterion)\n"
   ]
  },
  {
   "cell_type": "code",
   "execution_count": null,
   "metadata": {},
   "outputs": [],
   "source": []
  },
  {
   "cell_type": "code",
   "execution_count": null,
   "metadata": {},
   "outputs": [],
   "source": []
  },
  {
   "cell_type": "code",
   "execution_count": 419,
   "metadata": {},
   "outputs": [
    {
     "name": "stdout",
     "output_type": "stream",
     "text": [
      "rm: cannot remove 'model_mu_path.pt': No such file or directory\n",
      "rm: cannot remove 'model_own_path.pt': No such file or directory\n"
     ]
    },
    {
     "name": "stderr",
     "output_type": "stream",
     "text": [
      "Using cache found in /home/asufian/.cache/torch/hub/pytorch_vision_v0.10.0\n",
      "Using cache found in /home/asufian/.cache/torch/hub/pytorch_vision_v0.10.0\n"
     ]
    }
   ],
   "source": [
    "device = torch.device(\"cuda\" if torch.cuda.is_available() else \"cpu\")\n",
    "\n",
    "\n",
    "\n",
    "!rm model_mu_path.pt\n",
    "!rm model_own_path.pt\n",
    "\n",
    "convolutional_network_with_dropout =  DenseNet169WithDropout(modell='densenet169',pretrained=False,dr=0.0)\n",
    "convolutional_network_with_dropout.fc = nn.Flatten()\n",
    "\n",
    "model_own = PrototypicalNetworks_dynamic_query(convolutional_network_with_dropout).to(device)\n",
    "model_own.load_state_dict(torch.load('/home/asufian/Desktop/output_olchiki/code/modelrdnet.pth',map_location=torch.device('cpu')))\n",
    "\n",
    "\n",
    "convolutional_network_with_dropout =  DenseNet169WithDropout(modell='densenet169',pretrained=False,dr=0.0)\n",
    "convolutional_network_with_dropout.fc = nn.Flatten()\n",
    "\n",
    "model_own_1_shot = PrototypicalNetworks_dynamic_query(convolutional_network_with_dropout).to(device)\n",
    "model_own_1_shot.load_state_dict(torch.load('/home/asufian/Desktop/output_olchiki/code/mapi_sce/Denssecondary/model_5/model_B_mapi_5-shot_dens.pth',map_location=torch.device('cpu')))\n",
    "\n",
    "\n",
    "torch.save(model_own_1_shot.state_dict(), 'model_mu_path.pt')\n",
    "torch.save(model_own.state_dict(), 'model_own_path.pt')"
   ]
  },
  {
   "cell_type": "code",
   "execution_count": 420,
   "metadata": {},
   "outputs": [],
   "source": [
    "\n",
    "def evaluate2(fname,data_loader, model, criterion=nn.CrossEntropyLoss()):\n",
    "    total_predictions = 0\n",
    "    correct_predictions = 0\n",
    "    total_loss = 0.0\n",
    "    accuracy = 0\n",
    "    datta = \"\"\n",
    "    model.eval()\n",
    "    tlv_cls=0\n",
    "    ttla=0\n",
    "    ttlal=[]\n",
    "    ttlac=0\n",
    "    precision=[]\n",
    "    recall=[]\n",
    "    \n",
    "    with torch.no_grad():\n",
    "        for episode in range(len(clss_12)):\n",
    "            support_set, query_set = data_loader.__getitem__(clss_12[tlv_cls] , clss_support_imagesss_5_shot[tlv_cls])\n",
    "\n",
    "           \n",
    "            clssa=str(clss_12[tlv_cls])\n",
    "            clss=str(clssa).replace(',',' ').replace('\\'',' ').replace('\\'',' ')\n",
    "            msg=str(clss_support_imagesss_5_shot[tlv_cls])\n",
    "            str(clss_12[tlv_cls])\n",
    "\n",
    "            tlv_cls+=1\n",
    "            # print(len(support_set),len(query_set))\n",
    "            support_set = [(torch.stack(images).to(device), label[0]) for images, label in support_set]\n",
    "            query_set = [(torch.stack(images).to(device), label) for images, label in query_set]\n",
    "\n",
    "            support_images, support_labels = zip(*support_set)\n",
    "\n",
    "            query_images, query_labels = zip(*query_set)\n",
    "\n",
    "            classification_scores = model(support_images, support_labels, query_images)\n",
    "            cortt = 0\n",
    "            totl = 0\n",
    "            confusion_mat=None\n",
    "            all_predicted_labels = []\n",
    "            all_actual_labels = []\n",
    "            # print(len(classification_scores),len(query_labels))\n",
    "            for ei in range(len(classification_scores)):\n",
    "                classification_scores_each_class = classification_scores[ei]\n",
    "                # print(classification_scores_each_class)\n",
    "                predicted_labels_eachclas = torch.argmax(classification_scores_each_class, dim=1)\n",
    "                pp = predicted_labels_eachclas.tolist()\n",
    "                act = query_labels[ei]\n",
    "                all_predicted_labels.extend(pp)\n",
    "                all_actual_labels.extend(act)\n",
    "                for iiii in range(len(pp)):\n",
    "                    if pp[iiii] == act[iiii]:\n",
    "                        cortt = cortt + 1\n",
    "                totl = totl + len(pp)\n",
    "                # print(len(act))\n",
    "            accuracy = cortt / totl\n",
    "            ttla+=1\n",
    "            ttlac+=accuracy\n",
    "            ttlal.append(accuracy)\n",
    "            # print(cortt , totl,\"Validation Accuracy:              \", cortt / totl)\n",
    "            confusion_mat = confusion_matrix(all_actual_labels, all_predicted_labels)\n",
    "            # print(\"Confusion Matrix:\")\n",
    "            # print(confusion_mat)\n",
    "\n",
    "            # fname='./own35_mapi_5_way_1_shot'\n",
    "\n",
    "            precision_overall, recall_overall, f1ss= calculate_metrics_get_per(msg,confusion_mat,acciuracy=cortt / totl,cls=clss,flnm=fname)\n",
    "            precision.append(precision_overall)\n",
    "            recall.append(recall_overall)\n",
    "    print(f\"---Accu-----pre----rec---------> {np.mean(ttlal):.4f} ± {np.std(ttlal, ddof=1):.4f}  \"\n",
    "      f\"{np.mean(precision):.4f} ± {np.std(precision, ddof=1):.4f}  \"\n",
    "      f\"{np.mean(recall):.4f} ± {np.std(recall, ddof=1):.4f}\")\n",
    "\n",
    "    # print(\"---Accu-----pre----rec---------->\",np.mean(ttlal),'±',np.std(ttlal, ddof=1), np.mean(precision),'±',np.std(precision, ddof=1),np.mean(precision),'±',np.std(precision, ddof=1),)\n",
    "# %%%%%%\n",
    "\n",
    "def evaluate3(fname,data_loader, model, criterion=nn.CrossEntropyLoss()):\n",
    "    total_predictions = 0\n",
    "    correct_predictions = 0\n",
    "    total_loss = 0.0\n",
    "    accuracy = 0\n",
    "    datta = \"\"\n",
    "    model.eval()\n",
    "    tlv_cls=0\n",
    "    ttla=0\n",
    "    ttlac=0\n",
    "    with torch.no_grad():\n",
    "        for episode in range(len(clss_12)):\n",
    "            support_set, query_set = data_loader.__getitem__(clss_12[tlv_cls] , clss_support_imagesss_5_shot[tlv_cls])\n",
    "\n",
    "            \n",
    "            clssa=str(clss_12[tlv_cls])\n",
    "            clss=str(clssa).replace(',',' ').replace('\\'',' ').replace('\\'',' ')\n",
    "            msg=str(clss_support_imagesss_5_shot[tlv_cls])\n",
    "            str(clss_12[tlv_cls])\n",
    "\n",
    "            tlv_cls+=1\n",
    "            # print(len(support_set),len(query_set))\n",
    "            support_set = [(torch.stack(images).to(device), label[0]) for images, label in support_set]\n",
    "            query_set = [(torch.stack(images).to(device), label) for images, label in query_set]\n",
    "\n",
    "            support_images, support_labels = zip(*support_set)\n",
    "\n",
    "            query_images, query_labels = zip(*query_set)\n",
    "\n",
    "            classification_scores = model(support_images, support_labels, query_images)\n",
    "            cortt = 0\n",
    "            totl = 0\n",
    "            confusion_mat=None\n",
    "            all_predicted_labels = []\n",
    "            all_actual_labels = []\n",
    "            # print(len(classification_scores),len(query_labels))\n",
    "            for ei in range(len(classification_scores)):\n",
    "                classification_scores_each_class = classification_scores[ei]\n",
    "                # print(classification_scores_each_class)\n",
    "                predicted_labels_eachclas = torch.argmax(classification_scores_each_class, dim=1)\n",
    "                pp = predicted_labels_eachclas.tolist()\n",
    "                act = query_labels[ei]\n",
    "                all_predicted_labels.extend(pp)\n",
    "                all_actual_labels.extend(act)\n",
    "                for iiii in range(len(pp)):\n",
    "                    if pp[iiii] == act[iiii]:\n",
    "                        cortt = cortt + 1\n",
    "                totl = totl + len(pp)\n",
    "                # print(len(act))\n",
    "            accuracy = cortt / totl\n",
    "            ttla+=1\n",
    "            ttlac+=accuracy\n",
    "            # print(cortt , totl,\"Validation Accuracy:              \", cortt / totl)\n",
    "            # confusion_mat = confusion_matrix(all_actual_labels, all_predicted_labels)\n",
    "            # print(\"Confusion Matrix:\")\n",
    "            # print(confusion_mat)\n",
    "\n",
    "            # fname='./own35_mapi_5_way_1_shot'\n",
    "\n",
    "            # calculate_metrics_get_per(msg,confusion_mat,acciuracy=cortt / totl,cls=clss,flnm=fname)\n",
    "\n",
    "    print(\"---------------------->\",ttlac/ttla)\n",
    "    return ttlac/ttla"
   ]
  },
  {
   "cell_type": "code",
   "execution_count": 423,
   "metadata": {
    "scrolled": true
   },
   "outputs": [
    {
     "name": "stdout",
     "output_type": "stream",
     "text": [
      "Testing b_a_r = 0.7965, c_a_r = 0.1834, f_a_r = 0.7797\n"
     ]
    },
    {
     "name": "stderr",
     "output_type": "stream",
     "text": [
      "Using cache found in /home/asufian/.cache/torch/hub/pytorch_vision_v0.10.0\n",
      "/home/asufian/.local/share/pipx/venvs/notebook/lib/python3.12/site-packages/torchvision/models/_utils.py:208: UserWarning: The parameter 'pretrained' is deprecated since 0.13 and may be removed in the future, please use 'weights' instead.\n",
      "  warnings.warn(\n",
      "/home/asufian/.local/share/pipx/venvs/notebook/lib/python3.12/site-packages/torchvision/models/_utils.py:223: UserWarning: Arguments other than a weight enum or `None` for 'weights' are deprecated since 0.13 and may be removed in the future. The current behavior is equivalent to passing `weights=None`.\n",
      "  warnings.warn(msg)\n",
      "Using cache found in /home/asufian/.cache/torch/hub/pytorch_vision_v0.10.0\n"
     ]
    },
    {
     "name": "stdout",
     "output_type": "stream",
     "text": [
      "----------------------> 0.4427350427350428\n",
      "Evaluated Accuracy: 0.4427\n",
      "Testing b_a_r = 0.5969, c_a_r = 0.4458, f_a_r = 0.1000\n"
     ]
    },
    {
     "name": "stderr",
     "output_type": "stream",
     "text": [
      "Using cache found in /home/asufian/.cache/torch/hub/pytorch_vision_v0.10.0\n",
      "Using cache found in /home/asufian/.cache/torch/hub/pytorch_vision_v0.10.0\n"
     ]
    },
    {
     "name": "stdout",
     "output_type": "stream",
     "text": [
      "----------------------> 0.2240537240537241\n",
      "Evaluated Accuracy: 0.2241\n",
      "Testing b_a_r = 0.4592, c_a_r = 0.3337, f_a_r = 0.1429\n"
     ]
    },
    {
     "name": "stderr",
     "output_type": "stream",
     "text": [
      "Using cache found in /home/asufian/.cache/torch/hub/pytorch_vision_v0.10.0\n",
      "Using cache found in /home/asufian/.cache/torch/hub/pytorch_vision_v0.10.0\n"
     ]
    },
    {
     "name": "stdout",
     "output_type": "stream",
     "text": [
      "----------------------> 0.30836385836385827\n",
      "Evaluated Accuracy: 0.3084\n",
      "Testing b_a_r = 0.6509, c_a_r = 0.0564, f_a_r = 0.7220\n"
     ]
    },
    {
     "name": "stderr",
     "output_type": "stream",
     "text": [
      "Using cache found in /home/asufian/.cache/torch/hub/pytorch_vision_v0.10.0\n",
      "Using cache found in /home/asufian/.cache/torch/hub/pytorch_vision_v0.10.0\n"
     ]
    },
    {
     "name": "stdout",
     "output_type": "stream",
     "text": [
      "----------------------> 0.49358974358974356\n",
      "Evaluated Accuracy: 0.4936\n",
      "Testing b_a_r = 0.9386, c_a_r = 0.0008, f_a_r = 0.9922\n"
     ]
    },
    {
     "name": "stderr",
     "output_type": "stream",
     "text": [
      "Using cache found in /home/asufian/.cache/torch/hub/pytorch_vision_v0.10.0\n",
      "Using cache found in /home/asufian/.cache/torch/hub/pytorch_vision_v0.10.0\n"
     ]
    },
    {
     "name": "stdout",
     "output_type": "stream",
     "text": [
      "----------------------> 0.4957875457875458\n",
      "Evaluated Accuracy: 0.4958\n",
      "Testing b_a_r = 0.0250, c_a_r = 1.0000, f_a_r = 0.4630\n"
     ]
    },
    {
     "name": "stderr",
     "output_type": "stream",
     "text": [
      "Using cache found in /home/asufian/.cache/torch/hub/pytorch_vision_v0.10.0\n",
      "/home/asufian/.local/share/pipx/venvs/notebook/lib/python3.12/site-packages/torchvision/models/_utils.py:208: UserWarning: The parameter 'pretrained' is deprecated since 0.13 and may be removed in the future, please use 'weights' instead.\n",
      "  warnings.warn(\n",
      "/home/asufian/.local/share/pipx/venvs/notebook/lib/python3.12/site-packages/torchvision/models/_utils.py:223: UserWarning: Arguments other than a weight enum or `None` for 'weights' are deprecated since 0.13 and may be removed in the future. The current behavior is equivalent to passing `weights=None`.\n",
      "  warnings.warn(msg)\n",
      "Using cache found in /home/asufian/.cache/torch/hub/pytorch_vision_v0.10.0\n"
     ]
    },
    {
     "name": "stdout",
     "output_type": "stream",
     "text": [
      "----------------------> 0.25396825396825395\n",
      "Evaluated Accuracy: 0.2540\n",
      "Testing b_a_r = 0.0184, c_a_r = 0.0026, f_a_r = 0.1041\n"
     ]
    },
    {
     "name": "stderr",
     "output_type": "stream",
     "text": [
      "Using cache found in /home/asufian/.cache/torch/hub/pytorch_vision_v0.10.0\n",
      "/home/asufian/.local/share/pipx/venvs/notebook/lib/python3.12/site-packages/torchvision/models/_utils.py:208: UserWarning: The parameter 'pretrained' is deprecated since 0.13 and may be removed in the future, please use 'weights' instead.\n",
      "  warnings.warn(\n",
      "/home/asufian/.local/share/pipx/venvs/notebook/lib/python3.12/site-packages/torchvision/models/_utils.py:223: UserWarning: Arguments other than a weight enum or `None` for 'weights' are deprecated since 0.13 and may be removed in the future. The current behavior is equivalent to passing `weights=None`.\n",
      "  warnings.warn(msg)\n",
      "Using cache found in /home/asufian/.cache/torch/hub/pytorch_vision_v0.10.0\n"
     ]
    },
    {
     "name": "stdout",
     "output_type": "stream",
     "text": [
      "----------------------> 0.497008547008547\n",
      "Evaluated Accuracy: 0.4970\n",
      "Testing b_a_r = 0.0140, c_a_r = 0.7750, f_a_r = 0.9566\n"
     ]
    },
    {
     "name": "stderr",
     "output_type": "stream",
     "text": [
      "Using cache found in /home/asufian/.cache/torch/hub/pytorch_vision_v0.10.0\n",
      "/home/asufian/.local/share/pipx/venvs/notebook/lib/python3.12/site-packages/torchvision/models/_utils.py:208: UserWarning: The parameter 'pretrained' is deprecated since 0.13 and may be removed in the future, please use 'weights' instead.\n",
      "  warnings.warn(\n",
      "/home/asufian/.local/share/pipx/venvs/notebook/lib/python3.12/site-packages/torchvision/models/_utils.py:223: UserWarning: Arguments other than a weight enum or `None` for 'weights' are deprecated since 0.13 and may be removed in the future. The current behavior is equivalent to passing `weights=None`.\n",
      "  warnings.warn(msg)\n",
      "Using cache found in /home/asufian/.cache/torch/hub/pytorch_vision_v0.10.0\n"
     ]
    },
    {
     "name": "stdout",
     "output_type": "stream",
     "text": [
      "----------------------> 0.21691086691086695\n",
      "Evaluated Accuracy: 0.2169\n",
      "Testing b_a_r = 0.9073, c_a_r = 0.0222, f_a_r = 0.0787\n"
     ]
    },
    {
     "name": "stderr",
     "output_type": "stream",
     "text": [
      "Using cache found in /home/asufian/.cache/torch/hub/pytorch_vision_v0.10.0\n",
      "/home/asufian/.local/share/pipx/venvs/notebook/lib/python3.12/site-packages/torchvision/models/_utils.py:208: UserWarning: The parameter 'pretrained' is deprecated since 0.13 and may be removed in the future, please use 'weights' instead.\n",
      "  warnings.warn(\n",
      "/home/asufian/.local/share/pipx/venvs/notebook/lib/python3.12/site-packages/torchvision/models/_utils.py:223: UserWarning: Arguments other than a weight enum or `None` for 'weights' are deprecated since 0.13 and may be removed in the future. The current behavior is equivalent to passing `weights=None`.\n",
      "  warnings.warn(msg)\n",
      "Using cache found in /home/asufian/.cache/torch/hub/pytorch_vision_v0.10.0\n"
     ]
    },
    {
     "name": "stdout",
     "output_type": "stream",
     "text": [
      "----------------------> 0.49487179487179483\n",
      "Evaluated Accuracy: 0.4949\n",
      "Testing b_a_r = 0.0016, c_a_r = 0.0191, f_a_r = 0.9392\n"
     ]
    },
    {
     "name": "stderr",
     "output_type": "stream",
     "text": [
      "Using cache found in /home/asufian/.cache/torch/hub/pytorch_vision_v0.10.0\n",
      "/home/asufian/.local/share/pipx/venvs/notebook/lib/python3.12/site-packages/torchvision/models/_utils.py:208: UserWarning: The parameter 'pretrained' is deprecated since 0.13 and may be removed in the future, please use 'weights' instead.\n",
      "  warnings.warn(\n",
      "/home/asufian/.local/share/pipx/venvs/notebook/lib/python3.12/site-packages/torchvision/models/_utils.py:223: UserWarning: Arguments other than a weight enum or `None` for 'weights' are deprecated since 0.13 and may be removed in the future. The current behavior is equivalent to passing `weights=None`.\n",
      "  warnings.warn(msg)\n",
      "Using cache found in /home/asufian/.cache/torch/hub/pytorch_vision_v0.10.0\n"
     ]
    },
    {
     "name": "stdout",
     "output_type": "stream",
     "text": [
      "----------------------> 0.49774114774114775\n",
      "Evaluated Accuracy: 0.4977\n",
      "Testing b_a_r = 0.0904, c_a_r = 0.0995, f_a_r = 0.0077\n"
     ]
    },
    {
     "name": "stderr",
     "output_type": "stream",
     "text": [
      "Using cache found in /home/asufian/.cache/torch/hub/pytorch_vision_v0.10.0\n",
      "/home/asufian/.local/share/pipx/venvs/notebook/lib/python3.12/site-packages/torchvision/models/_utils.py:208: UserWarning: The parameter 'pretrained' is deprecated since 0.13 and may be removed in the future, please use 'weights' instead.\n",
      "  warnings.warn(\n",
      "/home/asufian/.local/share/pipx/venvs/notebook/lib/python3.12/site-packages/torchvision/models/_utils.py:223: UserWarning: Arguments other than a weight enum or `None` for 'weights' are deprecated since 0.13 and may be removed in the future. The current behavior is equivalent to passing `weights=None`.\n",
      "  warnings.warn(msg)\n",
      "Using cache found in /home/asufian/.cache/torch/hub/pytorch_vision_v0.10.0\n"
     ]
    },
    {
     "name": "stdout",
     "output_type": "stream",
     "text": [
      "----------------------> 0.4866300366300366\n",
      "Evaluated Accuracy: 0.4866\n",
      "Testing b_a_r = 0.0628, c_a_r = 0.6269, f_a_r = 0.1436\n"
     ]
    },
    {
     "name": "stderr",
     "output_type": "stream",
     "text": [
      "Using cache found in /home/asufian/.cache/torch/hub/pytorch_vision_v0.10.0\n",
      "/home/asufian/.local/share/pipx/venvs/notebook/lib/python3.12/site-packages/torchvision/models/_utils.py:208: UserWarning: The parameter 'pretrained' is deprecated since 0.13 and may be removed in the future, please use 'weights' instead.\n",
      "  warnings.warn(\n",
      "/home/asufian/.local/share/pipx/venvs/notebook/lib/python3.12/site-packages/torchvision/models/_utils.py:223: UserWarning: Arguments other than a weight enum or `None` for 'weights' are deprecated since 0.13 and may be removed in the future. The current behavior is equivalent to passing `weights=None`.\n",
      "  warnings.warn(msg)\n",
      "Using cache found in /home/asufian/.cache/torch/hub/pytorch_vision_v0.10.0\n"
     ]
    },
    {
     "name": "stdout",
     "output_type": "stream",
     "text": [
      "----------------------> 0.18144078144078138\n",
      "Evaluated Accuracy: 0.1814\n",
      "Testing b_a_r = 0.9525, c_a_r = 0.0957, f_a_r = 0.9818\n"
     ]
    },
    {
     "name": "stderr",
     "output_type": "stream",
     "text": [
      "Using cache found in /home/asufian/.cache/torch/hub/pytorch_vision_v0.10.0\n",
      "/home/asufian/.local/share/pipx/venvs/notebook/lib/python3.12/site-packages/torchvision/models/_utils.py:208: UserWarning: The parameter 'pretrained' is deprecated since 0.13 and may be removed in the future, please use 'weights' instead.\n",
      "  warnings.warn(\n",
      "/home/asufian/.local/share/pipx/venvs/notebook/lib/python3.12/site-packages/torchvision/models/_utils.py:223: UserWarning: Arguments other than a weight enum or `None` for 'weights' are deprecated since 0.13 and may be removed in the future. The current behavior is equivalent to passing `weights=None`.\n",
      "  warnings.warn(msg)\n",
      "Using cache found in /home/asufian/.cache/torch/hub/pytorch_vision_v0.10.0\n"
     ]
    },
    {
     "name": "stdout",
     "output_type": "stream",
     "text": [
      "----------------------> 0.48724053724053723\n",
      "Evaluated Accuracy: 0.4872\n",
      "Testing b_a_r = 0.0085, c_a_r = 0.0315, f_a_r = 0.9281\n"
     ]
    },
    {
     "name": "stderr",
     "output_type": "stream",
     "text": [
      "Using cache found in /home/asufian/.cache/torch/hub/pytorch_vision_v0.10.0\n",
      "/home/asufian/.local/share/pipx/venvs/notebook/lib/python3.12/site-packages/torchvision/models/_utils.py:208: UserWarning: The parameter 'pretrained' is deprecated since 0.13 and may be removed in the future, please use 'weights' instead.\n",
      "  warnings.warn(\n",
      "/home/asufian/.local/share/pipx/venvs/notebook/lib/python3.12/site-packages/torchvision/models/_utils.py:223: UserWarning: Arguments other than a weight enum or `None` for 'weights' are deprecated since 0.13 and may be removed in the future. The current behavior is equivalent to passing `weights=None`.\n",
      "  warnings.warn(msg)\n",
      "Using cache found in /home/asufian/.cache/torch/hub/pytorch_vision_v0.10.0\n"
     ]
    },
    {
     "name": "stdout",
     "output_type": "stream",
     "text": [
      "----------------------> 0.4978632478632478\n",
      "Evaluated Accuracy: 0.4979\n",
      "Testing b_a_r = 0.0034, c_a_r = 0.0012, f_a_r = 0.8826\n"
     ]
    },
    {
     "name": "stderr",
     "output_type": "stream",
     "text": [
      "Using cache found in /home/asufian/.cache/torch/hub/pytorch_vision_v0.10.0\n",
      "/home/asufian/.local/share/pipx/venvs/notebook/lib/python3.12/site-packages/torchvision/models/_utils.py:208: UserWarning: The parameter 'pretrained' is deprecated since 0.13 and may be removed in the future, please use 'weights' instead.\n",
      "  warnings.warn(\n",
      "/home/asufian/.local/share/pipx/venvs/notebook/lib/python3.12/site-packages/torchvision/models/_utils.py:223: UserWarning: Arguments other than a weight enum or `None` for 'weights' are deprecated since 0.13 and may be removed in the future. The current behavior is equivalent to passing `weights=None`.\n",
      "  warnings.warn(msg)\n",
      "Using cache found in /home/asufian/.cache/torch/hub/pytorch_vision_v0.10.0\n"
     ]
    },
    {
     "name": "stdout",
     "output_type": "stream",
     "text": [
      "----------------------> 0.4972527472527472\n",
      "Evaluated Accuracy: 0.4973\n",
      "Testing b_a_r = 0.0061, c_a_r = 0.0586, f_a_r = 0.9668\n"
     ]
    },
    {
     "name": "stderr",
     "output_type": "stream",
     "text": [
      "Using cache found in /home/asufian/.cache/torch/hub/pytorch_vision_v0.10.0\n",
      "/home/asufian/.local/share/pipx/venvs/notebook/lib/python3.12/site-packages/torchvision/models/_utils.py:208: UserWarning: The parameter 'pretrained' is deprecated since 0.13 and may be removed in the future, please use 'weights' instead.\n",
      "  warnings.warn(\n",
      "/home/asufian/.local/share/pipx/venvs/notebook/lib/python3.12/site-packages/torchvision/models/_utils.py:223: UserWarning: Arguments other than a weight enum or `None` for 'weights' are deprecated since 0.13 and may be removed in the future. The current behavior is equivalent to passing `weights=None`.\n",
      "  warnings.warn(msg)\n",
      "Using cache found in /home/asufian/.cache/torch/hub/pytorch_vision_v0.10.0\n"
     ]
    },
    {
     "name": "stdout",
     "output_type": "stream",
     "text": [
      "----------------------> 0.4942612942612942\n",
      "Evaluated Accuracy: 0.4943\n",
      "Testing b_a_r = 0.9814, c_a_r = 0.0002, f_a_r = 0.0428\n"
     ]
    },
    {
     "name": "stderr",
     "output_type": "stream",
     "text": [
      "Using cache found in /home/asufian/.cache/torch/hub/pytorch_vision_v0.10.0\n",
      "/home/asufian/.local/share/pipx/venvs/notebook/lib/python3.12/site-packages/torchvision/models/_utils.py:208: UserWarning: The parameter 'pretrained' is deprecated since 0.13 and may be removed in the future, please use 'weights' instead.\n",
      "  warnings.warn(\n",
      "/home/asufian/.local/share/pipx/venvs/notebook/lib/python3.12/site-packages/torchvision/models/_utils.py:223: UserWarning: Arguments other than a weight enum or `None` for 'weights' are deprecated since 0.13 and may be removed in the future. The current behavior is equivalent to passing `weights=None`.\n",
      "  warnings.warn(msg)\n",
      "Using cache found in /home/asufian/.cache/torch/hub/pytorch_vision_v0.10.0\n"
     ]
    },
    {
     "name": "stdout",
     "output_type": "stream",
     "text": [
      "----------------------> 0.49603174603174605\n",
      "Evaluated Accuracy: 0.4960\n",
      "Testing b_a_r = 0.0712, c_a_r = 0.0339, f_a_r = 0.0266\n"
     ]
    },
    {
     "name": "stderr",
     "output_type": "stream",
     "text": [
      "Using cache found in /home/asufian/.cache/torch/hub/pytorch_vision_v0.10.0\n",
      "/home/asufian/.local/share/pipx/venvs/notebook/lib/python3.12/site-packages/torchvision/models/_utils.py:208: UserWarning: The parameter 'pretrained' is deprecated since 0.13 and may be removed in the future, please use 'weights' instead.\n",
      "  warnings.warn(\n",
      "/home/asufian/.local/share/pipx/venvs/notebook/lib/python3.12/site-packages/torchvision/models/_utils.py:223: UserWarning: Arguments other than a weight enum or `None` for 'weights' are deprecated since 0.13 and may be removed in the future. The current behavior is equivalent to passing `weights=None`.\n",
      "  warnings.warn(msg)\n",
      "Using cache found in /home/asufian/.cache/torch/hub/pytorch_vision_v0.10.0\n"
     ]
    },
    {
     "name": "stdout",
     "output_type": "stream",
     "text": [
      "----------------------> 0.49768009768009763\n",
      "Evaluated Accuracy: 0.4977\n",
      "Testing b_a_r = 0.9661, c_a_r = 0.0276, f_a_r = 0.9969\n"
     ]
    },
    {
     "name": "stderr",
     "output_type": "stream",
     "text": [
      "Using cache found in /home/asufian/.cache/torch/hub/pytorch_vision_v0.10.0\n",
      "/home/asufian/.local/share/pipx/venvs/notebook/lib/python3.12/site-packages/torchvision/models/_utils.py:208: UserWarning: The parameter 'pretrained' is deprecated since 0.13 and may be removed in the future, please use 'weights' instead.\n",
      "  warnings.warn(\n",
      "/home/asufian/.local/share/pipx/venvs/notebook/lib/python3.12/site-packages/torchvision/models/_utils.py:223: UserWarning: Arguments other than a weight enum or `None` for 'weights' are deprecated since 0.13 and may be removed in the future. The current behavior is equivalent to passing `weights=None`.\n",
      "  warnings.warn(msg)\n",
      "Using cache found in /home/asufian/.cache/torch/hub/pytorch_vision_v0.10.0\n"
     ]
    },
    {
     "name": "stdout",
     "output_type": "stream",
     "text": [
      "----------------------> 0.49499389499389496\n",
      "Evaluated Accuracy: 0.4950\n",
      "Testing b_a_r = 0.0206, c_a_r = 0.0007, f_a_r = 0.0121\n"
     ]
    },
    {
     "name": "stderr",
     "output_type": "stream",
     "text": [
      "Using cache found in /home/asufian/.cache/torch/hub/pytorch_vision_v0.10.0\n",
      "/home/asufian/.local/share/pipx/venvs/notebook/lib/python3.12/site-packages/torchvision/models/_utils.py:208: UserWarning: The parameter 'pretrained' is deprecated since 0.13 and may be removed in the future, please use 'weights' instead.\n",
      "  warnings.warn(\n",
      "/home/asufian/.local/share/pipx/venvs/notebook/lib/python3.12/site-packages/torchvision/models/_utils.py:223: UserWarning: Arguments other than a weight enum or `None` for 'weights' are deprecated since 0.13 and may be removed in the future. The current behavior is equivalent to passing `weights=None`.\n",
      "  warnings.warn(msg)\n",
      "Using cache found in /home/asufian/.cache/torch/hub/pytorch_vision_v0.10.0\n"
     ]
    },
    {
     "name": "stdout",
     "output_type": "stream",
     "text": [
      "----------------------> 0.4976190476190476\n",
      "Evaluated Accuracy: 0.4976\n",
      "Testing b_a_r = 0.9731, c_a_r = 0.0468, f_a_r = 0.0128\n"
     ]
    },
    {
     "name": "stderr",
     "output_type": "stream",
     "text": [
      "Using cache found in /home/asufian/.cache/torch/hub/pytorch_vision_v0.10.0\n",
      "/home/asufian/.local/share/pipx/venvs/notebook/lib/python3.12/site-packages/torchvision/models/_utils.py:208: UserWarning: The parameter 'pretrained' is deprecated since 0.13 and may be removed in the future, please use 'weights' instead.\n",
      "  warnings.warn(\n",
      "/home/asufian/.local/share/pipx/venvs/notebook/lib/python3.12/site-packages/torchvision/models/_utils.py:223: UserWarning: Arguments other than a weight enum or `None` for 'weights' are deprecated since 0.13 and may be removed in the future. The current behavior is equivalent to passing `weights=None`.\n",
      "  warnings.warn(msg)\n",
      "Using cache found in /home/asufian/.cache/torch/hub/pytorch_vision_v0.10.0\n"
     ]
    },
    {
     "name": "stdout",
     "output_type": "stream",
     "text": [
      "----------------------> 0.49438339438339435\n",
      "Evaluated Accuracy: 0.4944\n",
      "Testing b_a_r = 0.0214, c_a_r = 0.0379, f_a_r = 0.0051\n"
     ]
    },
    {
     "name": "stderr",
     "output_type": "stream",
     "text": [
      "Using cache found in /home/asufian/.cache/torch/hub/pytorch_vision_v0.10.0\n",
      "/home/asufian/.local/share/pipx/venvs/notebook/lib/python3.12/site-packages/torchvision/models/_utils.py:208: UserWarning: The parameter 'pretrained' is deprecated since 0.13 and may be removed in the future, please use 'weights' instead.\n",
      "  warnings.warn(\n",
      "/home/asufian/.local/share/pipx/venvs/notebook/lib/python3.12/site-packages/torchvision/models/_utils.py:223: UserWarning: Arguments other than a weight enum or `None` for 'weights' are deprecated since 0.13 and may be removed in the future. The current behavior is equivalent to passing `weights=None`.\n",
      "  warnings.warn(msg)\n",
      "Using cache found in /home/asufian/.cache/torch/hub/pytorch_vision_v0.10.0\n"
     ]
    },
    {
     "name": "stdout",
     "output_type": "stream",
     "text": [
      "----------------------> 0.49798534798534794\n",
      "Evaluated Accuracy: 0.4980\n",
      "Testing b_a_r = 0.0420, c_a_r = 0.0020, f_a_r = 0.0516\n"
     ]
    },
    {
     "name": "stderr",
     "output_type": "stream",
     "text": [
      "Using cache found in /home/asufian/.cache/torch/hub/pytorch_vision_v0.10.0\n",
      "/home/asufian/.local/share/pipx/venvs/notebook/lib/python3.12/site-packages/torchvision/models/_utils.py:208: UserWarning: The parameter 'pretrained' is deprecated since 0.13 and may be removed in the future, please use 'weights' instead.\n",
      "  warnings.warn(\n",
      "/home/asufian/.local/share/pipx/venvs/notebook/lib/python3.12/site-packages/torchvision/models/_utils.py:223: UserWarning: Arguments other than a weight enum or `None` for 'weights' are deprecated since 0.13 and may be removed in the future. The current behavior is equivalent to passing `weights=None`.\n",
      "  warnings.warn(msg)\n",
      "Using cache found in /home/asufian/.cache/torch/hub/pytorch_vision_v0.10.0\n"
     ]
    },
    {
     "name": "stdout",
     "output_type": "stream",
     "text": [
      "----------------------> 0.4971306471306471\n",
      "Evaluated Accuracy: 0.4971\n",
      "Testing b_a_r = 0.0898, c_a_r = 0.0004, f_a_r = 0.9595\n"
     ]
    },
    {
     "name": "stderr",
     "output_type": "stream",
     "text": [
      "Using cache found in /home/asufian/.cache/torch/hub/pytorch_vision_v0.10.0\n",
      "/home/asufian/.local/share/pipx/venvs/notebook/lib/python3.12/site-packages/torchvision/models/_utils.py:208: UserWarning: The parameter 'pretrained' is deprecated since 0.13 and may be removed in the future, please use 'weights' instead.\n",
      "  warnings.warn(\n",
      "/home/asufian/.local/share/pipx/venvs/notebook/lib/python3.12/site-packages/torchvision/models/_utils.py:223: UserWarning: Arguments other than a weight enum or `None` for 'weights' are deprecated since 0.13 and may be removed in the future. The current behavior is equivalent to passing `weights=None`.\n",
      "  warnings.warn(msg)\n",
      "Using cache found in /home/asufian/.cache/torch/hub/pytorch_vision_v0.10.0\n"
     ]
    },
    {
     "name": "stdout",
     "output_type": "stream",
     "text": [
      "----------------------> 0.4974969474969475\n",
      "Evaluated Accuracy: 0.4975\n",
      "Testing b_a_r = 0.9170, c_a_r = 0.8979, f_a_r = 0.1079\n"
     ]
    },
    {
     "name": "stderr",
     "output_type": "stream",
     "text": [
      "Using cache found in /home/asufian/.cache/torch/hub/pytorch_vision_v0.10.0\n",
      "/home/asufian/.local/share/pipx/venvs/notebook/lib/python3.12/site-packages/torchvision/models/_utils.py:208: UserWarning: The parameter 'pretrained' is deprecated since 0.13 and may be removed in the future, please use 'weights' instead.\n",
      "  warnings.warn(\n",
      "/home/asufian/.local/share/pipx/venvs/notebook/lib/python3.12/site-packages/torchvision/models/_utils.py:223: UserWarning: Arguments other than a weight enum or `None` for 'weights' are deprecated since 0.13 and may be removed in the future. The current behavior is equivalent to passing `weights=None`.\n",
      "  warnings.warn(msg)\n",
      "Using cache found in /home/asufian/.cache/torch/hub/pytorch_vision_v0.10.0\n"
     ]
    },
    {
     "name": "stdout",
     "output_type": "stream",
     "text": [
      "----------------------> 0.2282051282051282\n",
      "Evaluated Accuracy: 0.2282\n",
      "Testing b_a_r = 0.0044, c_a_r = 0.1237, f_a_r = 0.9222\n"
     ]
    },
    {
     "name": "stderr",
     "output_type": "stream",
     "text": [
      "Using cache found in /home/asufian/.cache/torch/hub/pytorch_vision_v0.10.0\n",
      "/home/asufian/.local/share/pipx/venvs/notebook/lib/python3.12/site-packages/torchvision/models/_utils.py:208: UserWarning: The parameter 'pretrained' is deprecated since 0.13 and may be removed in the future, please use 'weights' instead.\n",
      "  warnings.warn(\n",
      "/home/asufian/.local/share/pipx/venvs/notebook/lib/python3.12/site-packages/torchvision/models/_utils.py:223: UserWarning: Arguments other than a weight enum or `None` for 'weights' are deprecated since 0.13 and may be removed in the future. The current behavior is equivalent to passing `weights=None`.\n",
      "  warnings.warn(msg)\n",
      "Using cache found in /home/asufian/.cache/torch/hub/pytorch_vision_v0.10.0\n"
     ]
    },
    {
     "name": "stdout",
     "output_type": "stream",
     "text": [
      "----------------------> 0.47533577533577537\n",
      "Evaluated Accuracy: 0.4753\n",
      "Testing b_a_r = 0.0108, c_a_r = 0.2210, f_a_r = 0.0271\n"
     ]
    },
    {
     "name": "stderr",
     "output_type": "stream",
     "text": [
      "Using cache found in /home/asufian/.cache/torch/hub/pytorch_vision_v0.10.0\n",
      "/home/asufian/.local/share/pipx/venvs/notebook/lib/python3.12/site-packages/torchvision/models/_utils.py:208: UserWarning: The parameter 'pretrained' is deprecated since 0.13 and may be removed in the future, please use 'weights' instead.\n",
      "  warnings.warn(\n",
      "/home/asufian/.local/share/pipx/venvs/notebook/lib/python3.12/site-packages/torchvision/models/_utils.py:223: UserWarning: Arguments other than a weight enum or `None` for 'weights' are deprecated since 0.13 and may be removed in the future. The current behavior is equivalent to passing `weights=None`.\n",
      "  warnings.warn(msg)\n",
      "Using cache found in /home/asufian/.cache/torch/hub/pytorch_vision_v0.10.0\n"
     ]
    },
    {
     "name": "stdout",
     "output_type": "stream",
     "text": [
      "----------------------> 0.4172161172161173\n",
      "Evaluated Accuracy: 0.4172\n",
      "Testing b_a_r = 0.0248, c_a_r = 0.0713, f_a_r = 0.0030\n"
     ]
    },
    {
     "name": "stderr",
     "output_type": "stream",
     "text": [
      "Using cache found in /home/asufian/.cache/torch/hub/pytorch_vision_v0.10.0\n",
      "/home/asufian/.local/share/pipx/venvs/notebook/lib/python3.12/site-packages/torchvision/models/_utils.py:208: UserWarning: The parameter 'pretrained' is deprecated since 0.13 and may be removed in the future, please use 'weights' instead.\n",
      "  warnings.warn(\n",
      "/home/asufian/.local/share/pipx/venvs/notebook/lib/python3.12/site-packages/torchvision/models/_utils.py:223: UserWarning: Arguments other than a weight enum or `None` for 'weights' are deprecated since 0.13 and may be removed in the future. The current behavior is equivalent to passing `weights=None`.\n",
      "  warnings.warn(msg)\n",
      "Using cache found in /home/asufian/.cache/torch/hub/pytorch_vision_v0.10.0\n"
     ]
    },
    {
     "name": "stdout",
     "output_type": "stream",
     "text": [
      "----------------------> 0.49316239316239313\n",
      "Evaluated Accuracy: 0.4932\n",
      "Testing b_a_r = 0.9980, c_a_r = 0.7187, f_a_r = 0.6593\n"
     ]
    },
    {
     "name": "stderr",
     "output_type": "stream",
     "text": [
      "Using cache found in /home/asufian/.cache/torch/hub/pytorch_vision_v0.10.0\n",
      "/home/asufian/.local/share/pipx/venvs/notebook/lib/python3.12/site-packages/torchvision/models/_utils.py:208: UserWarning: The parameter 'pretrained' is deprecated since 0.13 and may be removed in the future, please use 'weights' instead.\n",
      "  warnings.warn(\n",
      "/home/asufian/.local/share/pipx/venvs/notebook/lib/python3.12/site-packages/torchvision/models/_utils.py:223: UserWarning: Arguments other than a weight enum or `None` for 'weights' are deprecated since 0.13 and may be removed in the future. The current behavior is equivalent to passing `weights=None`.\n",
      "  warnings.warn(msg)\n",
      "Using cache found in /home/asufian/.cache/torch/hub/pytorch_vision_v0.10.0\n"
     ]
    },
    {
     "name": "stdout",
     "output_type": "stream",
     "text": [
      "----------------------> 0.20128205128205132\n",
      "Evaluated Accuracy: 0.2013\n",
      "Testing b_a_r = 0.9566, c_a_r = 0.0007, f_a_r = 0.9871\n"
     ]
    },
    {
     "name": "stderr",
     "output_type": "stream",
     "text": [
      "Using cache found in /home/asufian/.cache/torch/hub/pytorch_vision_v0.10.0\n",
      "/home/asufian/.local/share/pipx/venvs/notebook/lib/python3.12/site-packages/torchvision/models/_utils.py:208: UserWarning: The parameter 'pretrained' is deprecated since 0.13 and may be removed in the future, please use 'weights' instead.\n",
      "  warnings.warn(\n",
      "/home/asufian/.local/share/pipx/venvs/notebook/lib/python3.12/site-packages/torchvision/models/_utils.py:223: UserWarning: Arguments other than a weight enum or `None` for 'weights' are deprecated since 0.13 and may be removed in the future. The current behavior is equivalent to passing `weights=None`.\n",
      "  warnings.warn(msg)\n",
      "Using cache found in /home/asufian/.cache/torch/hub/pytorch_vision_v0.10.0\n"
     ]
    },
    {
     "name": "stdout",
     "output_type": "stream",
     "text": [
      "----------------------> 0.4957875457875458\n",
      "Evaluated Accuracy: 0.4958\n",
      "Testing b_a_r = 0.9973, c_a_r = 0.2510, f_a_r = 0.9565\n"
     ]
    },
    {
     "name": "stderr",
     "output_type": "stream",
     "text": [
      "Using cache found in /home/asufian/.cache/torch/hub/pytorch_vision_v0.10.0\n",
      "/home/asufian/.local/share/pipx/venvs/notebook/lib/python3.12/site-packages/torchvision/models/_utils.py:208: UserWarning: The parameter 'pretrained' is deprecated since 0.13 and may be removed in the future, please use 'weights' instead.\n",
      "  warnings.warn(\n",
      "/home/asufian/.local/share/pipx/venvs/notebook/lib/python3.12/site-packages/torchvision/models/_utils.py:223: UserWarning: Arguments other than a weight enum or `None` for 'weights' are deprecated since 0.13 and may be removed in the future. The current behavior is equivalent to passing `weights=None`.\n",
      "  warnings.warn(msg)\n",
      "Using cache found in /home/asufian/.cache/torch/hub/pytorch_vision_v0.10.0\n"
     ]
    },
    {
     "name": "stdout",
     "output_type": "stream",
     "text": [
      "----------------------> 0.3904151404151404\n",
      "Evaluated Accuracy: 0.3904\n",
      "Testing b_a_r = 0.0280, c_a_r = 0.0211, f_a_r = 0.0045\n"
     ]
    },
    {
     "name": "stderr",
     "output_type": "stream",
     "text": [
      "Using cache found in /home/asufian/.cache/torch/hub/pytorch_vision_v0.10.0\n",
      "/home/asufian/.local/share/pipx/venvs/notebook/lib/python3.12/site-packages/torchvision/models/_utils.py:208: UserWarning: The parameter 'pretrained' is deprecated since 0.13 and may be removed in the future, please use 'weights' instead.\n",
      "  warnings.warn(\n",
      "/home/asufian/.local/share/pipx/venvs/notebook/lib/python3.12/site-packages/torchvision/models/_utils.py:223: UserWarning: Arguments other than a weight enum or `None` for 'weights' are deprecated since 0.13 and may be removed in the future. The current behavior is equivalent to passing `weights=None`.\n",
      "  warnings.warn(msg)\n",
      "Using cache found in /home/asufian/.cache/torch/hub/pytorch_vision_v0.10.0\n"
     ]
    },
    {
     "name": "stdout",
     "output_type": "stream",
     "text": [
      "----------------------> 0.49725274725274726\n",
      "Evaluated Accuracy: 0.4973\n",
      "Testing b_a_r = 0.9992, c_a_r = 0.1258, f_a_r = 0.1291\n"
     ]
    },
    {
     "name": "stderr",
     "output_type": "stream",
     "text": [
      "Using cache found in /home/asufian/.cache/torch/hub/pytorch_vision_v0.10.0\n",
      "/home/asufian/.local/share/pipx/venvs/notebook/lib/python3.12/site-packages/torchvision/models/_utils.py:208: UserWarning: The parameter 'pretrained' is deprecated since 0.13 and may be removed in the future, please use 'weights' instead.\n",
      "  warnings.warn(\n",
      "/home/asufian/.local/share/pipx/venvs/notebook/lib/python3.12/site-packages/torchvision/models/_utils.py:223: UserWarning: Arguments other than a weight enum or `None` for 'weights' are deprecated since 0.13 and may be removed in the future. The current behavior is equivalent to passing `weights=None`.\n",
      "  warnings.warn(msg)\n",
      "Using cache found in /home/asufian/.cache/torch/hub/pytorch_vision_v0.10.0\n"
     ]
    },
    {
     "name": "stdout",
     "output_type": "stream",
     "text": [
      "----------------------> 0.47301587301587306\n",
      "Evaluated Accuracy: 0.4730\n",
      "Testing b_a_r = 0.0248, c_a_r = 0.0179, f_a_r = 0.9978\n"
     ]
    },
    {
     "name": "stderr",
     "output_type": "stream",
     "text": [
      "Using cache found in /home/asufian/.cache/torch/hub/pytorch_vision_v0.10.0\n",
      "/home/asufian/.local/share/pipx/venvs/notebook/lib/python3.12/site-packages/torchvision/models/_utils.py:208: UserWarning: The parameter 'pretrained' is deprecated since 0.13 and may be removed in the future, please use 'weights' instead.\n",
      "  warnings.warn(\n",
      "/home/asufian/.local/share/pipx/venvs/notebook/lib/python3.12/site-packages/torchvision/models/_utils.py:223: UserWarning: Arguments other than a weight enum or `None` for 'weights' are deprecated since 0.13 and may be removed in the future. The current behavior is equivalent to passing `weights=None`.\n",
      "  warnings.warn(msg)\n",
      "Using cache found in /home/asufian/.cache/torch/hub/pytorch_vision_v0.10.0\n"
     ]
    },
    {
     "name": "stdout",
     "output_type": "stream",
     "text": [
      "----------------------> 0.4974969474969475\n",
      "Evaluated Accuracy: 0.4975\n",
      "Testing b_a_r = 0.0271, c_a_r = 0.0621, f_a_r = 0.9467\n"
     ]
    },
    {
     "name": "stderr",
     "output_type": "stream",
     "text": [
      "Using cache found in /home/asufian/.cache/torch/hub/pytorch_vision_v0.10.0\n",
      "/home/asufian/.local/share/pipx/venvs/notebook/lib/python3.12/site-packages/torchvision/models/_utils.py:208: UserWarning: The parameter 'pretrained' is deprecated since 0.13 and may be removed in the future, please use 'weights' instead.\n",
      "  warnings.warn(\n",
      "/home/asufian/.local/share/pipx/venvs/notebook/lib/python3.12/site-packages/torchvision/models/_utils.py:223: UserWarning: Arguments other than a weight enum or `None` for 'weights' are deprecated since 0.13 and may be removed in the future. The current behavior is equivalent to passing `weights=None`.\n",
      "  warnings.warn(msg)\n",
      "Using cache found in /home/asufian/.cache/torch/hub/pytorch_vision_v0.10.0\n"
     ]
    },
    {
     "name": "stdout",
     "output_type": "stream",
     "text": [
      "----------------------> 0.4938339438339438\n",
      "Evaluated Accuracy: 0.4938\n",
      "Testing b_a_r = 0.9800, c_a_r = 0.0129, f_a_r = 0.0108\n"
     ]
    },
    {
     "name": "stderr",
     "output_type": "stream",
     "text": [
      "Using cache found in /home/asufian/.cache/torch/hub/pytorch_vision_v0.10.0\n",
      "/home/asufian/.local/share/pipx/venvs/notebook/lib/python3.12/site-packages/torchvision/models/_utils.py:208: UserWarning: The parameter 'pretrained' is deprecated since 0.13 and may be removed in the future, please use 'weights' instead.\n",
      "  warnings.warn(\n",
      "/home/asufian/.local/share/pipx/venvs/notebook/lib/python3.12/site-packages/torchvision/models/_utils.py:223: UserWarning: Arguments other than a weight enum or `None` for 'weights' are deprecated since 0.13 and may be removed in the future. The current behavior is equivalent to passing `weights=None`.\n",
      "  warnings.warn(msg)\n",
      "Using cache found in /home/asufian/.cache/torch/hub/pytorch_vision_v0.10.0\n"
     ]
    },
    {
     "name": "stdout",
     "output_type": "stream",
     "text": [
      "----------------------> 0.49487179487179483\n",
      "Evaluated Accuracy: 0.4949\n",
      "Testing b_a_r = 0.9925, c_a_r = 0.5303, f_a_r = 0.8053\n"
     ]
    },
    {
     "name": "stderr",
     "output_type": "stream",
     "text": [
      "Using cache found in /home/asufian/.cache/torch/hub/pytorch_vision_v0.10.0\n",
      "/home/asufian/.local/share/pipx/venvs/notebook/lib/python3.12/site-packages/torchvision/models/_utils.py:208: UserWarning: The parameter 'pretrained' is deprecated since 0.13 and may be removed in the future, please use 'weights' instead.\n",
      "  warnings.warn(\n",
      "/home/asufian/.local/share/pipx/venvs/notebook/lib/python3.12/site-packages/torchvision/models/_utils.py:223: UserWarning: Arguments other than a weight enum or `None` for 'weights' are deprecated since 0.13 and may be removed in the future. The current behavior is equivalent to passing `weights=None`.\n",
      "  warnings.warn(msg)\n",
      "Using cache found in /home/asufian/.cache/torch/hub/pytorch_vision_v0.10.0\n"
     ]
    },
    {
     "name": "stdout",
     "output_type": "stream",
     "text": [
      "----------------------> 0.19017094017094013\n",
      "Evaluated Accuracy: 0.1902\n",
      "Testing b_a_r = 0.0881, c_a_r = 0.0004, f_a_r = 0.9059\n"
     ]
    },
    {
     "name": "stderr",
     "output_type": "stream",
     "text": [
      "Using cache found in /home/asufian/.cache/torch/hub/pytorch_vision_v0.10.0\n",
      "/home/asufian/.local/share/pipx/venvs/notebook/lib/python3.12/site-packages/torchvision/models/_utils.py:208: UserWarning: The parameter 'pretrained' is deprecated since 0.13 and may be removed in the future, please use 'weights' instead.\n",
      "  warnings.warn(\n",
      "/home/asufian/.local/share/pipx/venvs/notebook/lib/python3.12/site-packages/torchvision/models/_utils.py:223: UserWarning: Arguments other than a weight enum or `None` for 'weights' are deprecated since 0.13 and may be removed in the future. The current behavior is equivalent to passing `weights=None`.\n",
      "  warnings.warn(msg)\n",
      "Using cache found in /home/asufian/.cache/torch/hub/pytorch_vision_v0.10.0\n"
     ]
    },
    {
     "name": "stdout",
     "output_type": "stream",
     "text": [
      "----------------------> 0.4974969474969475\n",
      "Evaluated Accuracy: 0.4975\n",
      "Testing b_a_r = 0.9928, c_a_r = 0.0680, f_a_r = 0.0261\n"
     ]
    },
    {
     "name": "stderr",
     "output_type": "stream",
     "text": [
      "Using cache found in /home/asufian/.cache/torch/hub/pytorch_vision_v0.10.0\n",
      "/home/asufian/.local/share/pipx/venvs/notebook/lib/python3.12/site-packages/torchvision/models/_utils.py:208: UserWarning: The parameter 'pretrained' is deprecated since 0.13 and may be removed in the future, please use 'weights' instead.\n",
      "  warnings.warn(\n",
      "/home/asufian/.local/share/pipx/venvs/notebook/lib/python3.12/site-packages/torchvision/models/_utils.py:223: UserWarning: Arguments other than a weight enum or `None` for 'weights' are deprecated since 0.13 and may be removed in the future. The current behavior is equivalent to passing `weights=None`.\n",
      "  warnings.warn(msg)\n",
      "Using cache found in /home/asufian/.cache/torch/hub/pytorch_vision_v0.10.0\n"
     ]
    },
    {
     "name": "stdout",
     "output_type": "stream",
     "text": [
      "----------------------> 0.49169719169719167\n",
      "Evaluated Accuracy: 0.4917\n",
      "Testing b_a_r = 0.1056, c_a_r = 0.1572, f_a_r = 0.0611\n"
     ]
    },
    {
     "name": "stderr",
     "output_type": "stream",
     "text": [
      "Using cache found in /home/asufian/.cache/torch/hub/pytorch_vision_v0.10.0\n",
      "/home/asufian/.local/share/pipx/venvs/notebook/lib/python3.12/site-packages/torchvision/models/_utils.py:208: UserWarning: The parameter 'pretrained' is deprecated since 0.13 and may be removed in the future, please use 'weights' instead.\n",
      "  warnings.warn(\n",
      "/home/asufian/.local/share/pipx/venvs/notebook/lib/python3.12/site-packages/torchvision/models/_utils.py:223: UserWarning: Arguments other than a weight enum or `None` for 'weights' are deprecated since 0.13 and may be removed in the future. The current behavior is equivalent to passing `weights=None`.\n",
      "  warnings.warn(msg)\n",
      "Using cache found in /home/asufian/.cache/torch/hub/pytorch_vision_v0.10.0\n"
     ]
    },
    {
     "name": "stdout",
     "output_type": "stream",
     "text": [
      "----------------------> 0.4584859584859585\n",
      "Evaluated Accuracy: 0.4585\n",
      "Testing b_a_r = 0.6022, c_a_r = 0.6160, f_a_r = 0.2481\n"
     ]
    },
    {
     "name": "stderr",
     "output_type": "stream",
     "text": [
      "Using cache found in /home/asufian/.cache/torch/hub/pytorch_vision_v0.10.0\n",
      "/home/asufian/.local/share/pipx/venvs/notebook/lib/python3.12/site-packages/torchvision/models/_utils.py:208: UserWarning: The parameter 'pretrained' is deprecated since 0.13 and may be removed in the future, please use 'weights' instead.\n",
      "  warnings.warn(\n",
      "/home/asufian/.local/share/pipx/venvs/notebook/lib/python3.12/site-packages/torchvision/models/_utils.py:223: UserWarning: Arguments other than a weight enum or `None` for 'weights' are deprecated since 0.13 and may be removed in the future. The current behavior is equivalent to passing `weights=None`.\n",
      "  warnings.warn(msg)\n",
      "Using cache found in /home/asufian/.cache/torch/hub/pytorch_vision_v0.10.0\n"
     ]
    },
    {
     "name": "stdout",
     "output_type": "stream",
     "text": [
      "----------------------> 0.1805250305250305\n",
      "Evaluated Accuracy: 0.1805\n",
      "Testing b_a_r = 0.2529, c_a_r = 0.4138, f_a_r = 0.9356\n"
     ]
    },
    {
     "name": "stderr",
     "output_type": "stream",
     "text": [
      "Using cache found in /home/asufian/.cache/torch/hub/pytorch_vision_v0.10.0\n",
      "/home/asufian/.local/share/pipx/venvs/notebook/lib/python3.12/site-packages/torchvision/models/_utils.py:208: UserWarning: The parameter 'pretrained' is deprecated since 0.13 and may be removed in the future, please use 'weights' instead.\n",
      "  warnings.warn(\n",
      "/home/asufian/.local/share/pipx/venvs/notebook/lib/python3.12/site-packages/torchvision/models/_utils.py:223: UserWarning: Arguments other than a weight enum or `None` for 'weights' are deprecated since 0.13 and may be removed in the future. The current behavior is equivalent to passing `weights=None`.\n",
      "  warnings.warn(msg)\n",
      "Using cache found in /home/asufian/.cache/torch/hub/pytorch_vision_v0.10.0\n"
     ]
    },
    {
     "name": "stdout",
     "output_type": "stream",
     "text": [
      "----------------------> 0.24597069597069599\n",
      "Evaluated Accuracy: 0.2460\n",
      "Testing b_a_r = 0.3047, c_a_r = 0.4144, f_a_r = 0.0875\n"
     ]
    },
    {
     "name": "stderr",
     "output_type": "stream",
     "text": [
      "Using cache found in /home/asufian/.cache/torch/hub/pytorch_vision_v0.10.0\n",
      "/home/asufian/.local/share/pipx/venvs/notebook/lib/python3.12/site-packages/torchvision/models/_utils.py:208: UserWarning: The parameter 'pretrained' is deprecated since 0.13 and may be removed in the future, please use 'weights' instead.\n",
      "  warnings.warn(\n",
      "/home/asufian/.local/share/pipx/venvs/notebook/lib/python3.12/site-packages/torchvision/models/_utils.py:223: UserWarning: Arguments other than a weight enum or `None` for 'weights' are deprecated since 0.13 and may be removed in the future. The current behavior is equivalent to passing `weights=None`.\n",
      "  warnings.warn(msg)\n",
      "Using cache found in /home/asufian/.cache/torch/hub/pytorch_vision_v0.10.0\n"
     ]
    },
    {
     "name": "stdout",
     "output_type": "stream",
     "text": [
      "----------------------> 0.24536019536019535\n",
      "Evaluated Accuracy: 0.2454\n",
      "Testing b_a_r = 0.7070, c_a_r = 0.1117, f_a_r = 0.5296\n"
     ]
    },
    {
     "name": "stderr",
     "output_type": "stream",
     "text": [
      "Using cache found in /home/asufian/.cache/torch/hub/pytorch_vision_v0.10.0\n",
      "/home/asufian/.local/share/pipx/venvs/notebook/lib/python3.12/site-packages/torchvision/models/_utils.py:208: UserWarning: The parameter 'pretrained' is deprecated since 0.13 and may be removed in the future, please use 'weights' instead.\n",
      "  warnings.warn(\n",
      "/home/asufian/.local/share/pipx/venvs/notebook/lib/python3.12/site-packages/torchvision/models/_utils.py:223: UserWarning: Arguments other than a weight enum or `None` for 'weights' are deprecated since 0.13 and may be removed in the future. The current behavior is equivalent to passing `weights=None`.\n",
      "  warnings.warn(msg)\n",
      "Using cache found in /home/asufian/.cache/torch/hub/pytorch_vision_v0.10.0\n"
     ]
    },
    {
     "name": "stdout",
     "output_type": "stream",
     "text": [
      "----------------------> 0.4807692307692308\n",
      "Evaluated Accuracy: 0.4808\n",
      "Testing b_a_r = 0.3494, c_a_r = 0.0886, f_a_r = 0.4621\n"
     ]
    },
    {
     "name": "stderr",
     "output_type": "stream",
     "text": [
      "Using cache found in /home/asufian/.cache/torch/hub/pytorch_vision_v0.10.0\n",
      "/home/asufian/.local/share/pipx/venvs/notebook/lib/python3.12/site-packages/torchvision/models/_utils.py:208: UserWarning: The parameter 'pretrained' is deprecated since 0.13 and may be removed in the future, please use 'weights' instead.\n",
      "  warnings.warn(\n",
      "/home/asufian/.local/share/pipx/venvs/notebook/lib/python3.12/site-packages/torchvision/models/_utils.py:223: UserWarning: Arguments other than a weight enum or `None` for 'weights' are deprecated since 0.13 and may be removed in the future. The current behavior is equivalent to passing `weights=None`.\n",
      "  warnings.warn(msg)\n",
      "Using cache found in /home/asufian/.cache/torch/hub/pytorch_vision_v0.10.0\n"
     ]
    },
    {
     "name": "stdout",
     "output_type": "stream",
     "text": [
      "----------------------> 0.48968253968253966\n",
      "Evaluated Accuracy: 0.4897\n",
      "Testing b_a_r = 0.8970, c_a_r = 0.6209, f_a_r = 0.2377\n"
     ]
    },
    {
     "name": "stderr",
     "output_type": "stream",
     "text": [
      "Using cache found in /home/asufian/.cache/torch/hub/pytorch_vision_v0.10.0\n",
      "/home/asufian/.local/share/pipx/venvs/notebook/lib/python3.12/site-packages/torchvision/models/_utils.py:208: UserWarning: The parameter 'pretrained' is deprecated since 0.13 and may be removed in the future, please use 'weights' instead.\n",
      "  warnings.warn(\n",
      "/home/asufian/.local/share/pipx/venvs/notebook/lib/python3.12/site-packages/torchvision/models/_utils.py:223: UserWarning: Arguments other than a weight enum or `None` for 'weights' are deprecated since 0.13 and may be removed in the future. The current behavior is equivalent to passing `weights=None`.\n",
      "  warnings.warn(msg)\n",
      "Using cache found in /home/asufian/.cache/torch/hub/pytorch_vision_v0.10.0\n"
     ]
    },
    {
     "name": "stdout",
     "output_type": "stream",
     "text": [
      "----------------------> 0.18076923076923074\n",
      "Evaluated Accuracy: 0.1808\n",
      "Testing b_a_r = 0.2266, c_a_r = 0.9932, f_a_r = 0.4226\n"
     ]
    },
    {
     "name": "stderr",
     "output_type": "stream",
     "text": [
      "Using cache found in /home/asufian/.cache/torch/hub/pytorch_vision_v0.10.0\n",
      "/home/asufian/.local/share/pipx/venvs/notebook/lib/python3.12/site-packages/torchvision/models/_utils.py:208: UserWarning: The parameter 'pretrained' is deprecated since 0.13 and may be removed in the future, please use 'weights' instead.\n",
      "  warnings.warn(\n",
      "/home/asufian/.local/share/pipx/venvs/notebook/lib/python3.12/site-packages/torchvision/models/_utils.py:223: UserWarning: Arguments other than a weight enum or `None` for 'weights' are deprecated since 0.13 and may be removed in the future. The current behavior is equivalent to passing `weights=None`.\n",
      "  warnings.warn(msg)\n",
      "Using cache found in /home/asufian/.cache/torch/hub/pytorch_vision_v0.10.0\n"
     ]
    },
    {
     "name": "stdout",
     "output_type": "stream",
     "text": [
      "----------------------> 0.25213675213675213\n",
      "Evaluated Accuracy: 0.2521\n",
      "Testing b_a_r = 0.4350, c_a_r = 0.8334, f_a_r = 0.1376\n"
     ]
    },
    {
     "name": "stderr",
     "output_type": "stream",
     "text": [
      "Using cache found in /home/asufian/.cache/torch/hub/pytorch_vision_v0.10.0\n",
      "/home/asufian/.local/share/pipx/venvs/notebook/lib/python3.12/site-packages/torchvision/models/_utils.py:208: UserWarning: The parameter 'pretrained' is deprecated since 0.13 and may be removed in the future, please use 'weights' instead.\n",
      "  warnings.warn(\n",
      "/home/asufian/.local/share/pipx/venvs/notebook/lib/python3.12/site-packages/torchvision/models/_utils.py:223: UserWarning: Arguments other than a weight enum or `None` for 'weights' are deprecated since 0.13 and may be removed in the future. The current behavior is equivalent to passing `weights=None`.\n",
      "  warnings.warn(msg)\n",
      "Using cache found in /home/asufian/.cache/torch/hub/pytorch_vision_v0.10.0\n"
     ]
    },
    {
     "name": "stdout",
     "output_type": "stream",
     "text": [
      "----------------------> 0.21984126984126987\n",
      "Evaluated Accuracy: 0.2198\n",
      "Testing b_a_r = 0.8852, c_a_r = 0.6298, f_a_r = 0.7670\n"
     ]
    },
    {
     "name": "stderr",
     "output_type": "stream",
     "text": [
      "Using cache found in /home/asufian/.cache/torch/hub/pytorch_vision_v0.10.0\n",
      "/home/asufian/.local/share/pipx/venvs/notebook/lib/python3.12/site-packages/torchvision/models/_utils.py:208: UserWarning: The parameter 'pretrained' is deprecated since 0.13 and may be removed in the future, please use 'weights' instead.\n",
      "  warnings.warn(\n",
      "/home/asufian/.local/share/pipx/venvs/notebook/lib/python3.12/site-packages/torchvision/models/_utils.py:223: UserWarning: Arguments other than a weight enum or `None` for 'weights' are deprecated since 0.13 and may be removed in the future. The current behavior is equivalent to passing `weights=None`.\n",
      "  warnings.warn(msg)\n",
      "Using cache found in /home/asufian/.cache/torch/hub/pytorch_vision_v0.10.0\n"
     ]
    },
    {
     "name": "stdout",
     "output_type": "stream",
     "text": [
      "----------------------> 0.18095238095238095\n",
      "Evaluated Accuracy: 0.1810\n",
      "Testing b_a_r = 0.3598, c_a_r = 0.0745, f_a_r = 0.1038\n"
     ]
    },
    {
     "name": "stderr",
     "output_type": "stream",
     "text": [
      "Using cache found in /home/asufian/.cache/torch/hub/pytorch_vision_v0.10.0\n",
      "/home/asufian/.local/share/pipx/venvs/notebook/lib/python3.12/site-packages/torchvision/models/_utils.py:208: UserWarning: The parameter 'pretrained' is deprecated since 0.13 and may be removed in the future, please use 'weights' instead.\n",
      "  warnings.warn(\n",
      "/home/asufian/.local/share/pipx/venvs/notebook/lib/python3.12/site-packages/torchvision/models/_utils.py:223: UserWarning: Arguments other than a weight enum or `None` for 'weights' are deprecated since 0.13 and may be removed in the future. The current behavior is equivalent to passing `weights=None`.\n",
      "  warnings.warn(msg)\n",
      "Using cache found in /home/asufian/.cache/torch/hub/pytorch_vision_v0.10.0\n"
     ]
    },
    {
     "name": "stdout",
     "output_type": "stream",
     "text": [
      "----------------------> 0.4919413919413919\n",
      "Evaluated Accuracy: 0.4919\n",
      "\n",
      "✅ Optimal Values:\n",
      "   - b_a_r: 0.0214\n",
      "   - c_a_r: 0.0379\n",
      "   - f_a_r: 0.0051\n",
      "📈 Highest Accuracy Achieved: 0.4980\n"
     ]
    }
   ],
   "source": [
    "import numpy as np\n",
    "import torch\n",
    "import matplotlib.pyplot as plt\n",
    "from skopt import gp_minimize\n",
    "from skopt.space import Real\n",
    "from skopt.utils import use_named_args\n",
    "from skopt.plots import plot_convergence\n",
    "\n",
    "# Device setup\n",
    "device = torch.device(\"cuda\" if torch.cuda.is_available() else \"cpu\")\n",
    "\n",
    "\n",
    "# Define the search space for b_a_r, c_a_r, and f_a_r\n",
    "search_space = [\n",
    "    Real(0.0, 1.0, name=\"b_a_r\"),\n",
    "    Real(0.0, 1.0, name=\"c_a_r\"),\n",
    "    Real(0.0, 1.0, name=\"f_a_r\")\n",
    "]\n",
    "\n",
    "# Define the objective function for Bayesian Optimization\n",
    "@use_named_args(search_space)\n",
    "def objective(b_a_r, c_a_r, f_a_r):\n",
    "    \"\"\"\n",
    "    Objective function to optimize the adaptation ratios.\n",
    "    It applies adaptation, evaluates the model, and returns the negative accuracy.\n",
    "    \"\"\"\n",
    "    accuracy = get_model_accuracy(b_a_r, c_a_r, f_a_r)\n",
    "    print(f\"Evaluated Accuracy: {accuracy:.4f}\")  # Debugging Output\n",
    "    \n",
    "    return -accuracy  # We minimize, so return negative accuracy\n",
    "\n",
    "# Perform Bayesian Optimization with additional settings\n",
    "search_iteration=50\n",
    "res = gp_minimize(\n",
    "    func=objective,\n",
    "    dimensions=search_space,\n",
    "    n_calls=search_iteration,               # Number of evaluations\n",
    "    n_initial_points=5,       # Initial random explorations before GP starts\n",
    "    acq_func=\"EI\",            # Acquisition function: Expected Improvement\n",
    "    random_state=42,          # Ensure reproducibility\n",
    "    n_jobs=-1,                # Parallel execution for faster optimization\n",
    ")\n",
    "\n",
    "# Extract optimal results\n",
    "optimal_b_a_r, optimal_c_a_r, optimal_f_a_r = res.x\n",
    "best_accuracy = -res.fun\n",
    "\n",
    "print(f\"\\n✅ Optimal Values:\")\n",
    "print(f\"   - b_a_r: {optimal_b_a_r:.4f}\")\n",
    "print(f\"   - c_a_r: {optimal_c_a_r:.4f}\")\n",
    "print(f\"   - f_a_r: {optimal_f_a_r:.4f}\")\n",
    "print(f\"📈 Highest Accuracy Achieved: {best_accuracy:.4f}\")\n",
    "\n",
    "\n"
   ]
  },
  {
   "cell_type": "code",
   "execution_count": 424,
   "metadata": {},
   "outputs": [
    {
     "name": "stderr",
     "output_type": "stream",
     "text": [
      "Using cache found in /home/asufian/.cache/torch/hub/pytorch_vision_v0.10.0\n",
      "/home/asufian/.local/share/pipx/venvs/notebook/lib/python3.12/site-packages/torchvision/models/_utils.py:208: UserWarning: The parameter 'pretrained' is deprecated since 0.13 and may be removed in the future, please use 'weights' instead.\n",
      "  warnings.warn(\n",
      "/home/asufian/.local/share/pipx/venvs/notebook/lib/python3.12/site-packages/torchvision/models/_utils.py:223: UserWarning: Arguments other than a weight enum or `None` for 'weights' are deprecated since 0.13 and may be removed in the future. The current behavior is equivalent to passing `weights=None`.\n",
      "  warnings.warn(msg)\n"
     ]
    },
    {
     "name": "stdout",
     "output_type": "stream",
     "text": [
      "---Accu-----pre----rec---------> 0.4977 ± 0.0540  0.5114 ± 0.0610  0.4977 ± 0.0540\n"
     ]
    },
    {
     "name": "stderr",
     "output_type": "stream",
     "text": [
      "Using cache found in /home/asufian/.cache/torch/hub/pytorch_vision_v0.10.0\n",
      "/home/asufian/.local/share/pipx/venvs/notebook/lib/python3.12/site-packages/torchvision/models/_utils.py:208: UserWarning: The parameter 'pretrained' is deprecated since 0.13 and may be removed in the future, please use 'weights' instead.\n",
      "  warnings.warn(\n",
      "/home/asufian/.local/share/pipx/venvs/notebook/lib/python3.12/site-packages/torchvision/models/_utils.py:223: UserWarning: Arguments other than a weight enum or `None` for 'weights' are deprecated since 0.13 and may be removed in the future. The current behavior is equivalent to passing `weights=None`.\n",
      "  warnings.warn(msg)\n"
     ]
    },
    {
     "name": "stdout",
     "output_type": "stream",
     "text": [
      "---Accu-----pre----rec---------> 0.4363 ± 0.0525  0.4407 ± 0.0542  0.4363 ± 0.0525\n",
      "---Accu-----pre----rec---------> 0.4980 ± 0.0547  0.5131 ± 0.0619  0.4980 ± 0.0547\n"
     ]
    }
   ],
   "source": [
    "convolutional_network_with_dropout =  DenseNet169WithDropout(modell='densenet169',pretrained=False,dr=0.0)\n",
    "convolutional_network_with_dropout.fc = nn.Flatten()\n",
    "\n",
    "xyz = convolutional_network_with_dropout\n",
    "M3 = PrototypicalNetworks_dynamic_query(xyz).to(device)\n",
    "M3.load_state_dict(torch.load('model_own_path.pt'))\n",
    "evaluate2('/home/asufian/Desktop/output_mapii/result_densnet/base/12_w_5_s_f', test_loader, M3, criterion)\n",
    "# Load Model M2\n",
    "convolutional_network_with_dropout =  DenseNet169WithDropout(modell='densenet169',pretrained=False,dr=0.0)\n",
    "convolutional_network_with_dropout.fc = nn.Flatten()\n",
    "\n",
    "xyz2 = convolutional_network_with_dropout\n",
    "M2 = PrototypicalNetworks_dynamic_query(xyz2).to(device)\n",
    "M2.load_state_dict(torch.load('model_mu_path.pt'))\n",
    "evaluate2(\"/home/asufian/Desktop/output_mapii/result_densnet/secondary/12_w_5_s_f\", test_loader, M2, criterion)\n",
    "# Update Model M3's weights using a weighted combination of Model M3 and Model M2\n",
    "update_model_weights2(M3, M2, conv_ratio= optimal_c_a_r , fc_ratio=optimal_f_a_r , bias_ratio=optimal_b_a_r)\n",
    "\n",
    "# Assuming you have the evaluate2 function defined\n",
    "# Evaluate the updated model (M3) using evaluate2 function with some arguments\n",
    "evaluate2(\"/home/asufian/Desktop/output_mapii/result_densnet/amul/12_w_5_s_f\", test_loader, M3, criterion)\n"
   ]
  },
  {
   "cell_type": "code",
   "execution_count": null,
   "metadata": {},
   "outputs": [],
   "source": []
  },
  {
   "cell_type": "code",
   "execution_count": 115,
   "metadata": {},
   "outputs": [
    {
     "name": "stderr",
     "output_type": "stream",
     "text": [
      "Using cache found in /home/asufian/.cache/torch/hub/pytorch_vision_v0.10.0\n",
      "/home/asufian/.local/share/pipx/venvs/notebook/lib/python3.12/site-packages/torchvision/models/_utils.py:208: UserWarning: The parameter 'pretrained' is deprecated since 0.13 and may be removed in the future, please use 'weights' instead.\n",
      "  warnings.warn(\n",
      "/home/asufian/.local/share/pipx/venvs/notebook/lib/python3.12/site-packages/torchvision/models/_utils.py:223: UserWarning: Arguments other than a weight enum or `None` for 'weights' are deprecated since 0.13 and may be removed in the future. The current behavior is equivalent to passing `weights=None`.\n",
      "  warnings.warn(msg)\n",
      "Using cache found in /home/asufian/.cache/torch/hub/pytorch_vision_v0.10.0\n"
     ]
    }
   ],
   "source": [
    "device = torch.device(\"cuda\" if torch.cuda.is_available() else \"cpu\")\n",
    "\n",
    "\n",
    "\n",
    "!rm model_mu_path.pt\n",
    "!rm model_own_path.pt\n",
    "\n",
    "convolutional_network_with_dropout =  DenseNet169WithDropout(modell='densenet169',pretrained=False,dr=0.0)\n",
    "convolutional_network_with_dropout.fc = nn.Flatten()\n",
    "\n",
    "model_own = PrototypicalNetworks_dynamic_query(convolutional_network_with_dropout).to(device)\n",
    "model_own.load_state_dict(torch.load('/home/asufian/Desktop/output_olchiki/code/modelrdnet.pth',map_location=torch.device('cpu')))\n",
    "\n",
    "\n",
    "convolutional_network_with_dropout =  DenseNet169WithDropout(modell='densenet169',pretrained=False,dr=0.0)\n",
    "convolutional_network_with_dropout.fc = nn.Flatten()\n",
    "\n",
    "model_own_1_shot = PrototypicalNetworks_dynamic_query(convolutional_network_with_dropout).to(device)\n",
    "model_own_1_shot.load_state_dict(torch.load('/home/asufian/Desktop/output_olchiki/code/mapi_sce/Denssecondary/model_10/model_B_mapi_10-shot_dens.pth',map_location=torch.device('cpu')))\n",
    "\n",
    "\n",
    "\n",
    "torch.save(model_own_1_shot.state_dict(), 'model_mu_path.pt')\n",
    "torch.save(model_own.state_dict(), 'model_own_path.pt')"
   ]
  },
  {
   "cell_type": "code",
   "execution_count": 116,
   "metadata": {},
   "outputs": [],
   "source": [
    "\n",
    "def evaluate2(fname,data_loader, model, criterion=nn.CrossEntropyLoss()):\n",
    "    total_predictions = 0\n",
    "    correct_predictions = 0\n",
    "    total_loss = 0.0\n",
    "    accuracy = 0\n",
    "    datta = \"\"\n",
    "    model.eval()\n",
    "    tlv_cls=0\n",
    "    ttla=0\n",
    "    ttlal=[]\n",
    "    ttlac=0\n",
    "    precision=[]\n",
    "    recall=[]\n",
    "    \n",
    "    with torch.no_grad():\n",
    "        for episode in range(len(clss_12)):\n",
    "            support_set, query_set = data_loader.__getitem__(clss_12[tlv_cls] , clss_support_imagesss_10_shot[tlv_cls])\n",
    "\n",
    "           \n",
    "            clssa=str(clss_12[tlv_cls])\n",
    "            clss=str(clssa).replace(',',' ').replace('\\'',' ').replace('\\'',' ')\n",
    "            msg=str(clss_support_imagesss_10_shot[tlv_cls])\n",
    "            str(clss_12[tlv_cls])\n",
    "\n",
    "            tlv_cls+=1\n",
    "            # print(len(support_set),len(query_set))\n",
    "            support_set = [(torch.stack(images).to(device), label[0]) for images, label in support_set]\n",
    "            query_set = [(torch.stack(images).to(device), label) for images, label in query_set]\n",
    "\n",
    "            support_images, support_labels = zip(*support_set)\n",
    "\n",
    "            query_images, query_labels = zip(*query_set)\n",
    "\n",
    "            classification_scores = model(support_images, support_labels, query_images)\n",
    "            cortt = 0\n",
    "            totl = 0\n",
    "            confusion_mat=None\n",
    "            all_predicted_labels = []\n",
    "            all_actual_labels = []\n",
    "            # print(len(classification_scores),len(query_labels))\n",
    "            for ei in range(len(classification_scores)):\n",
    "                classification_scores_each_class = classification_scores[ei]\n",
    "                # print(classification_scores_each_class)\n",
    "                predicted_labels_eachclas = torch.argmax(classification_scores_each_class, dim=1)\n",
    "                pp = predicted_labels_eachclas.tolist()\n",
    "                act = query_labels[ei]\n",
    "                all_predicted_labels.extend(pp)\n",
    "                all_actual_labels.extend(act)\n",
    "                for iiii in range(len(pp)):\n",
    "                    if pp[iiii] == act[iiii]:\n",
    "                        cortt = cortt + 1\n",
    "                totl = totl + len(pp)\n",
    "                # print(len(act))\n",
    "            accuracy = cortt / totl\n",
    "            ttla+=1\n",
    "            ttlac+=accuracy\n",
    "            ttlal.append(accuracy)\n",
    "            # print(cortt , totl,\"Validation Accuracy:              \", cortt / totl)\n",
    "            confusion_mat = confusion_matrix(all_actual_labels, all_predicted_labels)\n",
    "            # print(\"Confusion Matrix:\")\n",
    "            # print(confusion_mat)\n",
    "\n",
    "            # fname='./own35_mapi_5_way_1_shot'\n",
    "\n",
    "            precision_overall, recall_overall, f1ss= calculate_metrics_get_per(msg,confusion_mat,acciuracy=cortt / totl,cls=clss,flnm=fname)\n",
    "            precision.append(precision_overall)\n",
    "            recall.append(recall_overall)\n",
    "    print(f\"---Accu-----pre----rec---------> {np.mean(ttlal):.4f} ± {np.std(ttlal, ddof=1):.4f}  \"\n",
    "      f\"{np.mean(precision):.4f} ± {np.std(precision, ddof=1):.4f}  \"\n",
    "      f\"{np.mean(recall):.4f} ± {np.std(recall, ddof=1):.4f}\")\n",
    "\n",
    "    # print(\"---Accu-----pre----rec---------->\",np.mean(ttlal),'±',np.std(ttlal, ddof=1), np.mean(precision),'±',np.std(precision, ddof=1),np.mean(precision),'±',np.std(precision, ddof=1),)\n",
    "# %%%%%%\n",
    "\n",
    "def evaluate3(fname,data_loader, model, criterion=nn.CrossEntropyLoss()):\n",
    "    total_predictions = 0\n",
    "    correct_predictions = 0\n",
    "    total_loss = 0.0\n",
    "    accuracy = 0\n",
    "    datta = \"\"\n",
    "    model.eval()\n",
    "    tlv_cls=0\n",
    "    ttla=0\n",
    "    ttlac=0\n",
    "    with torch.no_grad():\n",
    "        for episode in range(len(clss_12)):\n",
    "            support_set, query_set = data_loader.__getitem__(clss_12[tlv_cls] , clss_support_imagesss_10_shot[tlv_cls])\n",
    "\n",
    "            \n",
    "            clssa=str(clss_12[tlv_cls])\n",
    "            clss=str(clssa).replace(',',' ').replace('\\'',' ').replace('\\'',' ')\n",
    "            msg=str(clss_support_imagesss_10_shot[tlv_cls])\n",
    "            str(clss_12[tlv_cls])\n",
    "\n",
    "            tlv_cls+=1\n",
    "            # print(len(support_set),len(query_set))\n",
    "            support_set = [(torch.stack(images).to(device), label[0]) for images, label in support_set]\n",
    "            query_set = [(torch.stack(images).to(device), label) for images, label in query_set]\n",
    "\n",
    "            support_images, support_labels = zip(*support_set)\n",
    "\n",
    "            query_images, query_labels = zip(*query_set)\n",
    "\n",
    "            classification_scores = model(support_images, support_labels, query_images)\n",
    "            cortt = 0\n",
    "            totl = 0\n",
    "            confusion_mat=None\n",
    "            all_predicted_labels = []\n",
    "            all_actual_labels = []\n",
    "            # print(len(classification_scores),len(query_labels))\n",
    "            for ei in range(len(classification_scores)):\n",
    "                classification_scores_each_class = classification_scores[ei]\n",
    "                # print(classification_scores_each_class)\n",
    "                predicted_labels_eachclas = torch.argmax(classification_scores_each_class, dim=1)\n",
    "                pp = predicted_labels_eachclas.tolist()\n",
    "                act = query_labels[ei]\n",
    "                all_predicted_labels.extend(pp)\n",
    "                all_actual_labels.extend(act)\n",
    "                for iiii in range(len(pp)):\n",
    "                    if pp[iiii] == act[iiii]:\n",
    "                        cortt = cortt + 1\n",
    "                totl = totl + len(pp)\n",
    "                # print(len(act))\n",
    "            accuracy = cortt / totl\n",
    "            ttla+=1\n",
    "            ttlac+=accuracy\n",
    "            # print(cortt , totl,\"Validation Accuracy:              \", cortt / totl)\n",
    "            # confusion_mat = confusion_matrix(all_actual_labels, all_predicted_labels)\n",
    "            # print(\"Confusion Matrix:\")\n",
    "            # print(confusion_mat)\n",
    "\n",
    "            # fname='./own35_mapi_5_way_1_shot'\n",
    "\n",
    "            # calculate_metrics_get_per(msg,confusion_mat,acciuracy=cortt / totl,cls=clss,flnm=fname)\n",
    "\n",
    "    print(\"---------------------->\",ttlac/ttla)\n",
    "    return ttlac/ttla"
   ]
  },
  {
   "cell_type": "code",
   "execution_count": 117,
   "metadata": {
    "scrolled": true
   },
   "outputs": [
    {
     "name": "stdout",
     "output_type": "stream",
     "text": [
      "Testing b_a_r = 0.7965, c_a_r = 0.1834, f_a_r = 0.7797\n"
     ]
    },
    {
     "name": "stderr",
     "output_type": "stream",
     "text": [
      "Using cache found in /home/asufian/.cache/torch/hub/pytorch_vision_v0.10.0\n",
      "/home/asufian/.local/share/pipx/venvs/notebook/lib/python3.12/site-packages/torchvision/models/_utils.py:208: UserWarning: The parameter 'pretrained' is deprecated since 0.13 and may be removed in the future, please use 'weights' instead.\n",
      "  warnings.warn(\n",
      "/home/asufian/.local/share/pipx/venvs/notebook/lib/python3.12/site-packages/torchvision/models/_utils.py:223: UserWarning: Arguments other than a weight enum or `None` for 'weights' are deprecated since 0.13 and may be removed in the future. The current behavior is equivalent to passing `weights=None`.\n",
      "  warnings.warn(msg)\n",
      "Using cache found in /home/asufian/.cache/torch/hub/pytorch_vision_v0.10.0\n"
     ]
    },
    {
     "name": "stdout",
     "output_type": "stream",
     "text": [
      "----------------------> 0.4945090439276486\n",
      "Evaluated Accuracy: 0.4945\n",
      "Testing b_a_r = 0.5969, c_a_r = 0.4458, f_a_r = 0.1000\n"
     ]
    },
    {
     "name": "stderr",
     "output_type": "stream",
     "text": [
      "Using cache found in /home/asufian/.cache/torch/hub/pytorch_vision_v0.10.0\n",
      "Using cache found in /home/asufian/.cache/torch/hub/pytorch_vision_v0.10.0\n"
     ]
    },
    {
     "name": "stdout",
     "output_type": "stream",
     "text": [
      "----------------------> 0.21427648578811367\n",
      "Evaluated Accuracy: 0.2143\n",
      "Testing b_a_r = 0.4592, c_a_r = 0.3337, f_a_r = 0.1429\n"
     ]
    },
    {
     "name": "stderr",
     "output_type": "stream",
     "text": [
      "Using cache found in /home/asufian/.cache/torch/hub/pytorch_vision_v0.10.0\n",
      "Using cache found in /home/asufian/.cache/torch/hub/pytorch_vision_v0.10.0\n"
     ]
    },
    {
     "name": "stdout",
     "output_type": "stream",
     "text": [
      "----------------------> 0.2964470284237726\n",
      "Evaluated Accuracy: 0.2964\n",
      "Testing b_a_r = 0.6509, c_a_r = 0.0564, f_a_r = 0.7220\n"
     ]
    },
    {
     "name": "stderr",
     "output_type": "stream",
     "text": [
      "Using cache found in /home/asufian/.cache/torch/hub/pytorch_vision_v0.10.0\n",
      "Using cache found in /home/asufian/.cache/torch/hub/pytorch_vision_v0.10.0\n"
     ]
    },
    {
     "name": "stdout",
     "output_type": "stream",
     "text": [
      "----------------------> 0.5272609819121448\n",
      "Evaluated Accuracy: 0.5273\n",
      "Testing b_a_r = 0.9386, c_a_r = 0.0008, f_a_r = 0.9922\n"
     ]
    },
    {
     "name": "stderr",
     "output_type": "stream",
     "text": [
      "Using cache found in /home/asufian/.cache/torch/hub/pytorch_vision_v0.10.0\n",
      "Using cache found in /home/asufian/.cache/torch/hub/pytorch_vision_v0.10.0\n"
     ]
    },
    {
     "name": "stdout",
     "output_type": "stream",
     "text": [
      "----------------------> 0.5213178294573643\n",
      "Evaluated Accuracy: 0.5213\n",
      "Testing b_a_r = 0.8374, c_a_r = 1.0000, f_a_r = 1.0000\n"
     ]
    },
    {
     "name": "stderr",
     "output_type": "stream",
     "text": [
      "Using cache found in /home/asufian/.cache/torch/hub/pytorch_vision_v0.10.0\n",
      "/home/asufian/.local/share/pipx/venvs/notebook/lib/python3.12/site-packages/torchvision/models/_utils.py:208: UserWarning: The parameter 'pretrained' is deprecated since 0.13 and may be removed in the future, please use 'weights' instead.\n",
      "  warnings.warn(\n",
      "/home/asufian/.local/share/pipx/venvs/notebook/lib/python3.12/site-packages/torchvision/models/_utils.py:223: UserWarning: Arguments other than a weight enum or `None` for 'weights' are deprecated since 0.13 and may be removed in the future. The current behavior is equivalent to passing `weights=None`.\n",
      "  warnings.warn(msg)\n",
      "Using cache found in /home/asufian/.cache/torch/hub/pytorch_vision_v0.10.0\n"
     ]
    },
    {
     "name": "stdout",
     "output_type": "stream",
     "text": [
      "----------------------> 0.17965116279069768\n",
      "Evaluated Accuracy: 0.1797\n",
      "Testing b_a_r = 0.8254, c_a_r = 0.0000, f_a_r = 0.0000\n"
     ]
    },
    {
     "name": "stderr",
     "output_type": "stream",
     "text": [
      "Using cache found in /home/asufian/.cache/torch/hub/pytorch_vision_v0.10.0\n",
      "/home/asufian/.local/share/pipx/venvs/notebook/lib/python3.12/site-packages/torchvision/models/_utils.py:208: UserWarning: The parameter 'pretrained' is deprecated since 0.13 and may be removed in the future, please use 'weights' instead.\n",
      "  warnings.warn(\n",
      "/home/asufian/.local/share/pipx/venvs/notebook/lib/python3.12/site-packages/torchvision/models/_utils.py:223: UserWarning: Arguments other than a weight enum or `None` for 'weights' are deprecated since 0.13 and may be removed in the future. The current behavior is equivalent to passing `weights=None`.\n",
      "  warnings.warn(msg)\n",
      "Using cache found in /home/asufian/.cache/torch/hub/pytorch_vision_v0.10.0\n"
     ]
    },
    {
     "name": "stdout",
     "output_type": "stream",
     "text": [
      "----------------------> 0.5209948320413438\n",
      "Evaluated Accuracy: 0.5210\n",
      "Testing b_a_r = 0.0000, c_a_r = 0.1097, f_a_r = 1.0000\n"
     ]
    },
    {
     "name": "stderr",
     "output_type": "stream",
     "text": [
      "Using cache found in /home/asufian/.cache/torch/hub/pytorch_vision_v0.10.0\n",
      "/home/asufian/.local/share/pipx/venvs/notebook/lib/python3.12/site-packages/torchvision/models/_utils.py:208: UserWarning: The parameter 'pretrained' is deprecated since 0.13 and may be removed in the future, please use 'weights' instead.\n",
      "  warnings.warn(\n",
      "/home/asufian/.local/share/pipx/venvs/notebook/lib/python3.12/site-packages/torchvision/models/_utils.py:223: UserWarning: Arguments other than a weight enum or `None` for 'weights' are deprecated since 0.13 and may be removed in the future. The current behavior is equivalent to passing `weights=None`.\n",
      "  warnings.warn(msg)\n",
      "Using cache found in /home/asufian/.cache/torch/hub/pytorch_vision_v0.10.0\n"
     ]
    },
    {
     "name": "stdout",
     "output_type": "stream",
     "text": [
      "----------------------> 0.5381782945736435\n",
      "Evaluated Accuracy: 0.5382\n",
      "Testing b_a_r = 0.1022, c_a_r = 0.7359, f_a_r = 0.3661\n"
     ]
    },
    {
     "name": "stderr",
     "output_type": "stream",
     "text": [
      "Using cache found in /home/asufian/.cache/torch/hub/pytorch_vision_v0.10.0\n",
      "/home/asufian/.local/share/pipx/venvs/notebook/lib/python3.12/site-packages/torchvision/models/_utils.py:208: UserWarning: The parameter 'pretrained' is deprecated since 0.13 and may be removed in the future, please use 'weights' instead.\n",
      "  warnings.warn(\n",
      "/home/asufian/.local/share/pipx/venvs/notebook/lib/python3.12/site-packages/torchvision/models/_utils.py:223: UserWarning: Arguments other than a weight enum or `None` for 'weights' are deprecated since 0.13 and may be removed in the future. The current behavior is equivalent to passing `weights=None`.\n",
      "  warnings.warn(msg)\n",
      "Using cache found in /home/asufian/.cache/torch/hub/pytorch_vision_v0.10.0\n"
     ]
    },
    {
     "name": "stdout",
     "output_type": "stream",
     "text": [
      "----------------------> 0.18850129198966406\n",
      "Evaluated Accuracy: 0.1885\n",
      "Testing b_a_r = 0.9227, c_a_r = 0.1195, f_a_r = 0.0290\n"
     ]
    },
    {
     "name": "stderr",
     "output_type": "stream",
     "text": [
      "Using cache found in /home/asufian/.cache/torch/hub/pytorch_vision_v0.10.0\n",
      "/home/asufian/.local/share/pipx/venvs/notebook/lib/python3.12/site-packages/torchvision/models/_utils.py:208: UserWarning: The parameter 'pretrained' is deprecated since 0.13 and may be removed in the future, please use 'weights' instead.\n",
      "  warnings.warn(\n",
      "/home/asufian/.local/share/pipx/venvs/notebook/lib/python3.12/site-packages/torchvision/models/_utils.py:223: UserWarning: Arguments other than a weight enum or `None` for 'weights' are deprecated since 0.13 and may be removed in the future. The current behavior is equivalent to passing `weights=None`.\n",
      "  warnings.warn(msg)\n",
      "Using cache found in /home/asufian/.cache/torch/hub/pytorch_vision_v0.10.0\n"
     ]
    },
    {
     "name": "stdout",
     "output_type": "stream",
     "text": [
      "----------------------> 0.5391472868217054\n",
      "Evaluated Accuracy: 0.5391\n",
      "Testing b_a_r = 0.9939, c_a_r = 0.0961, f_a_r = 0.1870\n"
     ]
    },
    {
     "name": "stderr",
     "output_type": "stream",
     "text": [
      "Using cache found in /home/asufian/.cache/torch/hub/pytorch_vision_v0.10.0\n",
      "/home/asufian/.local/share/pipx/venvs/notebook/lib/python3.12/site-packages/torchvision/models/_utils.py:208: UserWarning: The parameter 'pretrained' is deprecated since 0.13 and may be removed in the future, please use 'weights' instead.\n",
      "  warnings.warn(\n",
      "/home/asufian/.local/share/pipx/venvs/notebook/lib/python3.12/site-packages/torchvision/models/_utils.py:223: UserWarning: Arguments other than a weight enum or `None` for 'weights' are deprecated since 0.13 and may be removed in the future. The current behavior is equivalent to passing `weights=None`.\n",
      "  warnings.warn(msg)\n",
      "Using cache found in /home/asufian/.cache/torch/hub/pytorch_vision_v0.10.0\n"
     ]
    },
    {
     "name": "stdout",
     "output_type": "stream",
     "text": [
      "----------------------> 0.5352713178294574\n",
      "Evaluated Accuracy: 0.5353\n",
      "Testing b_a_r = 0.8189, c_a_r = 0.5993, f_a_r = 0.8760\n"
     ]
    },
    {
     "name": "stderr",
     "output_type": "stream",
     "text": [
      "Using cache found in /home/asufian/.cache/torch/hub/pytorch_vision_v0.10.0\n",
      "/home/asufian/.local/share/pipx/venvs/notebook/lib/python3.12/site-packages/torchvision/models/_utils.py:208: UserWarning: The parameter 'pretrained' is deprecated since 0.13 and may be removed in the future, please use 'weights' instead.\n",
      "  warnings.warn(\n",
      "/home/asufian/.local/share/pipx/venvs/notebook/lib/python3.12/site-packages/torchvision/models/_utils.py:223: UserWarning: Arguments other than a weight enum or `None` for 'weights' are deprecated since 0.13 and may be removed in the future. The current behavior is equivalent to passing `weights=None`.\n",
      "  warnings.warn(msg)\n",
      "Using cache found in /home/asufian/.cache/torch/hub/pytorch_vision_v0.10.0\n"
     ]
    },
    {
     "name": "stdout",
     "output_type": "stream",
     "text": [
      "----------------------> 0.1713824289405685\n",
      "Evaluated Accuracy: 0.1714\n",
      "Testing b_a_r = 0.9999, c_a_r = 0.1394, f_a_r = 0.9771\n"
     ]
    },
    {
     "name": "stderr",
     "output_type": "stream",
     "text": [
      "Using cache found in /home/asufian/.cache/torch/hub/pytorch_vision_v0.10.0\n",
      "/home/asufian/.local/share/pipx/venvs/notebook/lib/python3.12/site-packages/torchvision/models/_utils.py:208: UserWarning: The parameter 'pretrained' is deprecated since 0.13 and may be removed in the future, please use 'weights' instead.\n",
      "  warnings.warn(\n",
      "/home/asufian/.local/share/pipx/venvs/notebook/lib/python3.12/site-packages/torchvision/models/_utils.py:223: UserWarning: Arguments other than a weight enum or `None` for 'weights' are deprecated since 0.13 and may be removed in the future. The current behavior is equivalent to passing `weights=None`.\n",
      "  warnings.warn(msg)\n",
      "Using cache found in /home/asufian/.cache/torch/hub/pytorch_vision_v0.10.0\n"
     ]
    },
    {
     "name": "stdout",
     "output_type": "stream",
     "text": [
      "----------------------> 0.5335271317829456\n",
      "Evaluated Accuracy: 0.5335\n",
      "Testing b_a_r = 0.7620, c_a_r = 0.8741, f_a_r = 0.0289\n"
     ]
    },
    {
     "name": "stderr",
     "output_type": "stream",
     "text": [
      "Using cache found in /home/asufian/.cache/torch/hub/pytorch_vision_v0.10.0\n",
      "/home/asufian/.local/share/pipx/venvs/notebook/lib/python3.12/site-packages/torchvision/models/_utils.py:208: UserWarning: The parameter 'pretrained' is deprecated since 0.13 and may be removed in the future, please use 'weights' instead.\n",
      "  warnings.warn(\n",
      "/home/asufian/.local/share/pipx/venvs/notebook/lib/python3.12/site-packages/torchvision/models/_utils.py:223: UserWarning: Arguments other than a weight enum or `None` for 'weights' are deprecated since 0.13 and may be removed in the future. The current behavior is equivalent to passing `weights=None`.\n",
      "  warnings.warn(msg)\n",
      "Using cache found in /home/asufian/.cache/torch/hub/pytorch_vision_v0.10.0\n"
     ]
    },
    {
     "name": "stdout",
     "output_type": "stream",
     "text": [
      "----------------------> 0.19573643410852712\n",
      "Evaluated Accuracy: 0.1957\n",
      "Testing b_a_r = 0.1047, c_a_r = 0.1321, f_a_r = 0.0489\n"
     ]
    },
    {
     "name": "stderr",
     "output_type": "stream",
     "text": [
      "Using cache found in /home/asufian/.cache/torch/hub/pytorch_vision_v0.10.0\n",
      "/home/asufian/.local/share/pipx/venvs/notebook/lib/python3.12/site-packages/torchvision/models/_utils.py:208: UserWarning: The parameter 'pretrained' is deprecated since 0.13 and may be removed in the future, please use 'weights' instead.\n",
      "  warnings.warn(\n",
      "/home/asufian/.local/share/pipx/venvs/notebook/lib/python3.12/site-packages/torchvision/models/_utils.py:223: UserWarning: Arguments other than a weight enum or `None` for 'weights' are deprecated since 0.13 and may be removed in the future. The current behavior is equivalent to passing `weights=None`.\n",
      "  warnings.warn(msg)\n",
      "Using cache found in /home/asufian/.cache/torch/hub/pytorch_vision_v0.10.0\n"
     ]
    },
    {
     "name": "stdout",
     "output_type": "stream",
     "text": [
      "----------------------> 0.5409560723514212\n",
      "Evaluated Accuracy: 0.5410\n",
      "Testing b_a_r = 0.0259, c_a_r = 0.0249, f_a_r = 0.0294\n"
     ]
    },
    {
     "name": "stderr",
     "output_type": "stream",
     "text": [
      "Using cache found in /home/asufian/.cache/torch/hub/pytorch_vision_v0.10.0\n",
      "/home/asufian/.local/share/pipx/venvs/notebook/lib/python3.12/site-packages/torchvision/models/_utils.py:208: UserWarning: The parameter 'pretrained' is deprecated since 0.13 and may be removed in the future, please use 'weights' instead.\n",
      "  warnings.warn(\n",
      "/home/asufian/.local/share/pipx/venvs/notebook/lib/python3.12/site-packages/torchvision/models/_utils.py:223: UserWarning: Arguments other than a weight enum or `None` for 'weights' are deprecated since 0.13 and may be removed in the future. The current behavior is equivalent to passing `weights=None`.\n",
      "  warnings.warn(msg)\n",
      "Using cache found in /home/asufian/.cache/torch/hub/pytorch_vision_v0.10.0\n"
     ]
    },
    {
     "name": "stdout",
     "output_type": "stream",
     "text": [
      "----------------------> 0.5264857881136951\n",
      "Evaluated Accuracy: 0.5265\n",
      "Testing b_a_r = 0.0754, c_a_r = 0.0832, f_a_r = 0.1030\n"
     ]
    },
    {
     "name": "stderr",
     "output_type": "stream",
     "text": [
      "Using cache found in /home/asufian/.cache/torch/hub/pytorch_vision_v0.10.0\n",
      "/home/asufian/.local/share/pipx/venvs/notebook/lib/python3.12/site-packages/torchvision/models/_utils.py:208: UserWarning: The parameter 'pretrained' is deprecated since 0.13 and may be removed in the future, please use 'weights' instead.\n",
      "  warnings.warn(\n",
      "/home/asufian/.local/share/pipx/venvs/notebook/lib/python3.12/site-packages/torchvision/models/_utils.py:223: UserWarning: Arguments other than a weight enum or `None` for 'weights' are deprecated since 0.13 and may be removed in the future. The current behavior is equivalent to passing `weights=None`.\n",
      "  warnings.warn(msg)\n",
      "Using cache found in /home/asufian/.cache/torch/hub/pytorch_vision_v0.10.0\n"
     ]
    },
    {
     "name": "stdout",
     "output_type": "stream",
     "text": [
      "----------------------> 0.5340439276485788\n",
      "Evaluated Accuracy: 0.5340\n",
      "Testing b_a_r = 0.1362, c_a_r = 0.2449, f_a_r = 0.1479\n"
     ]
    },
    {
     "name": "stderr",
     "output_type": "stream",
     "text": [
      "Using cache found in /home/asufian/.cache/torch/hub/pytorch_vision_v0.10.0\n",
      "/home/asufian/.local/share/pipx/venvs/notebook/lib/python3.12/site-packages/torchvision/models/_utils.py:208: UserWarning: The parameter 'pretrained' is deprecated since 0.13 and may be removed in the future, please use 'weights' instead.\n",
      "  warnings.warn(\n",
      "/home/asufian/.local/share/pipx/venvs/notebook/lib/python3.12/site-packages/torchvision/models/_utils.py:223: UserWarning: Arguments other than a weight enum or `None` for 'weights' are deprecated since 0.13 and may be removed in the future. The current behavior is equivalent to passing `weights=None`.\n",
      "  warnings.warn(msg)\n",
      "Using cache found in /home/asufian/.cache/torch/hub/pytorch_vision_v0.10.0\n"
     ]
    },
    {
     "name": "stdout",
     "output_type": "stream",
     "text": [
      "----------------------> 0.3826227390180879\n",
      "Evaluated Accuracy: 0.3826\n",
      "Testing b_a_r = 0.0146, c_a_r = 0.1469, f_a_r = 0.0737\n"
     ]
    },
    {
     "name": "stderr",
     "output_type": "stream",
     "text": [
      "Using cache found in /home/asufian/.cache/torch/hub/pytorch_vision_v0.10.0\n",
      "/home/asufian/.local/share/pipx/venvs/notebook/lib/python3.12/site-packages/torchvision/models/_utils.py:208: UserWarning: The parameter 'pretrained' is deprecated since 0.13 and may be removed in the future, please use 'weights' instead.\n",
      "  warnings.warn(\n",
      "/home/asufian/.local/share/pipx/venvs/notebook/lib/python3.12/site-packages/torchvision/models/_utils.py:223: UserWarning: Arguments other than a weight enum or `None` for 'weights' are deprecated since 0.13 and may be removed in the future. The current behavior is equivalent to passing `weights=None`.\n",
      "  warnings.warn(msg)\n",
      "Using cache found in /home/asufian/.cache/torch/hub/pytorch_vision_v0.10.0\n"
     ]
    },
    {
     "name": "stdout",
     "output_type": "stream",
     "text": [
      "----------------------> 0.532687338501292\n",
      "Evaluated Accuracy: 0.5327\n",
      "Testing b_a_r = 0.0223, c_a_r = 0.1154, f_a_r = 0.0001\n"
     ]
    },
    {
     "name": "stderr",
     "output_type": "stream",
     "text": [
      "Using cache found in /home/asufian/.cache/torch/hub/pytorch_vision_v0.10.0\n",
      "/home/asufian/.local/share/pipx/venvs/notebook/lib/python3.12/site-packages/torchvision/models/_utils.py:208: UserWarning: The parameter 'pretrained' is deprecated since 0.13 and may be removed in the future, please use 'weights' instead.\n",
      "  warnings.warn(\n",
      "/home/asufian/.local/share/pipx/venvs/notebook/lib/python3.12/site-packages/torchvision/models/_utils.py:223: UserWarning: Arguments other than a weight enum or `None` for 'weights' are deprecated since 0.13 and may be removed in the future. The current behavior is equivalent to passing `weights=None`.\n",
      "  warnings.warn(msg)\n",
      "Using cache found in /home/asufian/.cache/torch/hub/pytorch_vision_v0.10.0\n"
     ]
    },
    {
     "name": "stdout",
     "output_type": "stream",
     "text": [
      "----------------------> 0.5405684754521964\n",
      "Evaluated Accuracy: 0.5406\n",
      "Testing b_a_r = 0.0177, c_a_r = 0.1267, f_a_r = 0.9148\n"
     ]
    },
    {
     "name": "stderr",
     "output_type": "stream",
     "text": [
      "Using cache found in /home/asufian/.cache/torch/hub/pytorch_vision_v0.10.0\n",
      "/home/asufian/.local/share/pipx/venvs/notebook/lib/python3.12/site-packages/torchvision/models/_utils.py:208: UserWarning: The parameter 'pretrained' is deprecated since 0.13 and may be removed in the future, please use 'weights' instead.\n",
      "  warnings.warn(\n",
      "/home/asufian/.local/share/pipx/venvs/notebook/lib/python3.12/site-packages/torchvision/models/_utils.py:223: UserWarning: Arguments other than a weight enum or `None` for 'weights' are deprecated since 0.13 and may be removed in the future. The current behavior is equivalent to passing `weights=None`.\n",
      "  warnings.warn(msg)\n",
      "Using cache found in /home/asufian/.cache/torch/hub/pytorch_vision_v0.10.0\n"
     ]
    },
    {
     "name": "stdout",
     "output_type": "stream",
     "text": [
      "----------------------> 0.5416020671834626\n",
      "Evaluated Accuracy: 0.5416\n",
      "Testing b_a_r = 0.9879, c_a_r = 0.1264, f_a_r = 0.0027\n"
     ]
    },
    {
     "name": "stderr",
     "output_type": "stream",
     "text": [
      "Using cache found in /home/asufian/.cache/torch/hub/pytorch_vision_v0.10.0\n",
      "/home/asufian/.local/share/pipx/venvs/notebook/lib/python3.12/site-packages/torchvision/models/_utils.py:208: UserWarning: The parameter 'pretrained' is deprecated since 0.13 and may be removed in the future, please use 'weights' instead.\n",
      "  warnings.warn(\n",
      "/home/asufian/.local/share/pipx/venvs/notebook/lib/python3.12/site-packages/torchvision/models/_utils.py:223: UserWarning: Arguments other than a weight enum or `None` for 'weights' are deprecated since 0.13 and may be removed in the future. The current behavior is equivalent to passing `weights=None`.\n",
      "  warnings.warn(msg)\n",
      "Using cache found in /home/asufian/.cache/torch/hub/pytorch_vision_v0.10.0\n"
     ]
    },
    {
     "name": "stdout",
     "output_type": "stream",
     "text": [
      "----------------------> 0.5404392764857882\n",
      "Evaluated Accuracy: 0.5404\n",
      "Testing b_a_r = 0.9981, c_a_r = 0.1091, f_a_r = 0.9821\n"
     ]
    },
    {
     "name": "stderr",
     "output_type": "stream",
     "text": [
      "Using cache found in /home/asufian/.cache/torch/hub/pytorch_vision_v0.10.0\n",
      "/home/asufian/.local/share/pipx/venvs/notebook/lib/python3.12/site-packages/torchvision/models/_utils.py:208: UserWarning: The parameter 'pretrained' is deprecated since 0.13 and may be removed in the future, please use 'weights' instead.\n",
      "  warnings.warn(\n",
      "/home/asufian/.local/share/pipx/venvs/notebook/lib/python3.12/site-packages/torchvision/models/_utils.py:223: UserWarning: Arguments other than a weight enum or `None` for 'weights' are deprecated since 0.13 and may be removed in the future. The current behavior is equivalent to passing `weights=None`.\n",
      "  warnings.warn(msg)\n",
      "Using cache found in /home/asufian/.cache/torch/hub/pytorch_vision_v0.10.0\n"
     ]
    },
    {
     "name": "stdout",
     "output_type": "stream",
     "text": [
      "----------------------> 0.5390826873385013\n",
      "Evaluated Accuracy: 0.5391\n",
      "Testing b_a_r = 0.0045, c_a_r = 0.1249, f_a_r = 0.9863\n"
     ]
    },
    {
     "name": "stderr",
     "output_type": "stream",
     "text": [
      "Using cache found in /home/asufian/.cache/torch/hub/pytorch_vision_v0.10.0\n",
      "/home/asufian/.local/share/pipx/venvs/notebook/lib/python3.12/site-packages/torchvision/models/_utils.py:208: UserWarning: The parameter 'pretrained' is deprecated since 0.13 and may be removed in the future, please use 'weights' instead.\n",
      "  warnings.warn(\n",
      "/home/asufian/.local/share/pipx/venvs/notebook/lib/python3.12/site-packages/torchvision/models/_utils.py:223: UserWarning: Arguments other than a weight enum or `None` for 'weights' are deprecated since 0.13 and may be removed in the future. The current behavior is equivalent to passing `weights=None`.\n",
      "  warnings.warn(msg)\n",
      "Using cache found in /home/asufian/.cache/torch/hub/pytorch_vision_v0.10.0\n"
     ]
    },
    {
     "name": "stdout",
     "output_type": "stream",
     "text": [
      "----------------------> 0.541343669250646\n",
      "Evaluated Accuracy: 0.5413\n",
      "Testing b_a_r = 0.0050, c_a_r = 0.1160, f_a_r = 0.0286\n"
     ]
    },
    {
     "name": "stderr",
     "output_type": "stream",
     "text": [
      "Using cache found in /home/asufian/.cache/torch/hub/pytorch_vision_v0.10.0\n",
      "/home/asufian/.local/share/pipx/venvs/notebook/lib/python3.12/site-packages/torchvision/models/_utils.py:208: UserWarning: The parameter 'pretrained' is deprecated since 0.13 and may be removed in the future, please use 'weights' instead.\n",
      "  warnings.warn(\n",
      "/home/asufian/.local/share/pipx/venvs/notebook/lib/python3.12/site-packages/torchvision/models/_utils.py:223: UserWarning: Arguments other than a weight enum or `None` for 'weights' are deprecated since 0.13 and may be removed in the future. The current behavior is equivalent to passing `weights=None`.\n",
      "  warnings.warn(msg)\n",
      "Using cache found in /home/asufian/.cache/torch/hub/pytorch_vision_v0.10.0\n"
     ]
    },
    {
     "name": "stdout",
     "output_type": "stream",
     "text": [
      "----------------------> 0.5406976744186046\n",
      "Evaluated Accuracy: 0.5407\n",
      "Testing b_a_r = 0.0326, c_a_r = 0.0981, f_a_r = 0.9665\n"
     ]
    },
    {
     "name": "stderr",
     "output_type": "stream",
     "text": [
      "Using cache found in /home/asufian/.cache/torch/hub/pytorch_vision_v0.10.0\n",
      "/home/asufian/.local/share/pipx/venvs/notebook/lib/python3.12/site-packages/torchvision/models/_utils.py:208: UserWarning: The parameter 'pretrained' is deprecated since 0.13 and may be removed in the future, please use 'weights' instead.\n",
      "  warnings.warn(\n",
      "/home/asufian/.local/share/pipx/venvs/notebook/lib/python3.12/site-packages/torchvision/models/_utils.py:223: UserWarning: Arguments other than a weight enum or `None` for 'weights' are deprecated since 0.13 and may be removed in the future. The current behavior is equivalent to passing `weights=None`.\n",
      "  warnings.warn(msg)\n",
      "Using cache found in /home/asufian/.cache/torch/hub/pytorch_vision_v0.10.0\n"
     ]
    },
    {
     "name": "stdout",
     "output_type": "stream",
     "text": [
      "----------------------> 0.5349483204134367\n",
      "Evaluated Accuracy: 0.5349\n",
      "Testing b_a_r = 0.9619, c_a_r = 0.0349, f_a_r = 0.9874\n"
     ]
    },
    {
     "name": "stderr",
     "output_type": "stream",
     "text": [
      "Using cache found in /home/asufian/.cache/torch/hub/pytorch_vision_v0.10.0\n",
      "/home/asufian/.local/share/pipx/venvs/notebook/lib/python3.12/site-packages/torchvision/models/_utils.py:208: UserWarning: The parameter 'pretrained' is deprecated since 0.13 and may be removed in the future, please use 'weights' instead.\n",
      "  warnings.warn(\n",
      "/home/asufian/.local/share/pipx/venvs/notebook/lib/python3.12/site-packages/torchvision/models/_utils.py:223: UserWarning: Arguments other than a weight enum or `None` for 'weights' are deprecated since 0.13 and may be removed in the future. The current behavior is equivalent to passing `weights=None`.\n",
      "  warnings.warn(msg)\n",
      "Using cache found in /home/asufian/.cache/torch/hub/pytorch_vision_v0.10.0\n"
     ]
    },
    {
     "name": "stdout",
     "output_type": "stream",
     "text": [
      "----------------------> 0.5233850129198967\n",
      "Evaluated Accuracy: 0.5234\n",
      "Testing b_a_r = 0.9352, c_a_r = 0.1217, f_a_r = 0.0049\n"
     ]
    },
    {
     "name": "stderr",
     "output_type": "stream",
     "text": [
      "Using cache found in /home/asufian/.cache/torch/hub/pytorch_vision_v0.10.0\n",
      "/home/asufian/.local/share/pipx/venvs/notebook/lib/python3.12/site-packages/torchvision/models/_utils.py:208: UserWarning: The parameter 'pretrained' is deprecated since 0.13 and may be removed in the future, please use 'weights' instead.\n",
      "  warnings.warn(\n",
      "/home/asufian/.local/share/pipx/venvs/notebook/lib/python3.12/site-packages/torchvision/models/_utils.py:223: UserWarning: Arguments other than a weight enum or `None` for 'weights' are deprecated since 0.13 and may be removed in the future. The current behavior is equivalent to passing `weights=None`.\n",
      "  warnings.warn(msg)\n",
      "Using cache found in /home/asufian/.cache/torch/hub/pytorch_vision_v0.10.0\n"
     ]
    },
    {
     "name": "stdout",
     "output_type": "stream",
     "text": [
      "----------------------> 0.5401808785529716\n",
      "Evaluated Accuracy: 0.5402\n",
      "Testing b_a_r = 0.0051, c_a_r = 0.1309, f_a_r = 0.9783\n"
     ]
    },
    {
     "name": "stderr",
     "output_type": "stream",
     "text": [
      "Using cache found in /home/asufian/.cache/torch/hub/pytorch_vision_v0.10.0\n",
      "/home/asufian/.local/share/pipx/venvs/notebook/lib/python3.12/site-packages/torchvision/models/_utils.py:208: UserWarning: The parameter 'pretrained' is deprecated since 0.13 and may be removed in the future, please use 'weights' instead.\n",
      "  warnings.warn(\n",
      "/home/asufian/.local/share/pipx/venvs/notebook/lib/python3.12/site-packages/torchvision/models/_utils.py:223: UserWarning: Arguments other than a weight enum or `None` for 'weights' are deprecated since 0.13 and may be removed in the future. The current behavior is equivalent to passing `weights=None`.\n",
      "  warnings.warn(msg)\n",
      "Using cache found in /home/asufian/.cache/torch/hub/pytorch_vision_v0.10.0\n"
     ]
    },
    {
     "name": "stdout",
     "output_type": "stream",
     "text": [
      "----------------------> 0.5407622739018089\n",
      "Evaluated Accuracy: 0.5408\n",
      "Testing b_a_r = 0.0157, c_a_r = 0.1146, f_a_r = 0.0143\n"
     ]
    },
    {
     "name": "stderr",
     "output_type": "stream",
     "text": [
      "Using cache found in /home/asufian/.cache/torch/hub/pytorch_vision_v0.10.0\n",
      "/home/asufian/.local/share/pipx/venvs/notebook/lib/python3.12/site-packages/torchvision/models/_utils.py:208: UserWarning: The parameter 'pretrained' is deprecated since 0.13 and may be removed in the future, please use 'weights' instead.\n",
      "  warnings.warn(\n",
      "/home/asufian/.local/share/pipx/venvs/notebook/lib/python3.12/site-packages/torchvision/models/_utils.py:223: UserWarning: Arguments other than a weight enum or `None` for 'weights' are deprecated since 0.13 and may be removed in the future. The current behavior is equivalent to passing `weights=None`.\n",
      "  warnings.warn(msg)\n",
      "Using cache found in /home/asufian/.cache/torch/hub/pytorch_vision_v0.10.0\n"
     ]
    },
    {
     "name": "stdout",
     "output_type": "stream",
     "text": [
      "----------------------> 0.540374677002584\n",
      "Evaluated Accuracy: 0.5404\n",
      "Testing b_a_r = 0.0140, c_a_r = 0.0733, f_a_r = 0.9263\n"
     ]
    },
    {
     "name": "stderr",
     "output_type": "stream",
     "text": [
      "Using cache found in /home/asufian/.cache/torch/hub/pytorch_vision_v0.10.0\n",
      "/home/asufian/.local/share/pipx/venvs/notebook/lib/python3.12/site-packages/torchvision/models/_utils.py:208: UserWarning: The parameter 'pretrained' is deprecated since 0.13 and may be removed in the future, please use 'weights' instead.\n",
      "  warnings.warn(\n",
      "/home/asufian/.local/share/pipx/venvs/notebook/lib/python3.12/site-packages/torchvision/models/_utils.py:223: UserWarning: Arguments other than a weight enum or `None` for 'weights' are deprecated since 0.13 and may be removed in the future. The current behavior is equivalent to passing `weights=None`.\n",
      "  warnings.warn(msg)\n",
      "Using cache found in /home/asufian/.cache/torch/hub/pytorch_vision_v0.10.0\n"
     ]
    },
    {
     "name": "stdout",
     "output_type": "stream",
     "text": [
      "----------------------> 0.5330103359173127\n",
      "Evaluated Accuracy: 0.5330\n",
      "Testing b_a_r = 0.0334, c_a_r = 0.5223, f_a_r = 0.1467\n"
     ]
    },
    {
     "name": "stderr",
     "output_type": "stream",
     "text": [
      "Using cache found in /home/asufian/.cache/torch/hub/pytorch_vision_v0.10.0\n",
      "/home/asufian/.local/share/pipx/venvs/notebook/lib/python3.12/site-packages/torchvision/models/_utils.py:208: UserWarning: The parameter 'pretrained' is deprecated since 0.13 and may be removed in the future, please use 'weights' instead.\n",
      "  warnings.warn(\n",
      "/home/asufian/.local/share/pipx/venvs/notebook/lib/python3.12/site-packages/torchvision/models/_utils.py:223: UserWarning: Arguments other than a weight enum or `None` for 'weights' are deprecated since 0.13 and may be removed in the future. The current behavior is equivalent to passing `weights=None`.\n",
      "  warnings.warn(msg)\n",
      "Using cache found in /home/asufian/.cache/torch/hub/pytorch_vision_v0.10.0\n"
     ]
    },
    {
     "name": "stdout",
     "output_type": "stream",
     "text": [
      "----------------------> 0.1596899224806202\n",
      "Evaluated Accuracy: 0.1597\n",
      "Testing b_a_r = 0.9973, c_a_r = 0.1224, f_a_r = 0.9163\n"
     ]
    },
    {
     "name": "stderr",
     "output_type": "stream",
     "text": [
      "Using cache found in /home/asufian/.cache/torch/hub/pytorch_vision_v0.10.0\n",
      "/home/asufian/.local/share/pipx/venvs/notebook/lib/python3.12/site-packages/torchvision/models/_utils.py:208: UserWarning: The parameter 'pretrained' is deprecated since 0.13 and may be removed in the future, please use 'weights' instead.\n",
      "  warnings.warn(\n",
      "/home/asufian/.local/share/pipx/venvs/notebook/lib/python3.12/site-packages/torchvision/models/_utils.py:223: UserWarning: Arguments other than a weight enum or `None` for 'weights' are deprecated since 0.13 and may be removed in the future. The current behavior is equivalent to passing `weights=None`.\n",
      "  warnings.warn(msg)\n",
      "Using cache found in /home/asufian/.cache/torch/hub/pytorch_vision_v0.10.0\n"
     ]
    },
    {
     "name": "stdout",
     "output_type": "stream",
     "text": [
      "----------------------> 0.5401162790697674\n",
      "Evaluated Accuracy: 0.5401\n",
      "Testing b_a_r = 0.0324, c_a_r = 0.0018, f_a_r = 0.6526\n"
     ]
    },
    {
     "name": "stderr",
     "output_type": "stream",
     "text": [
      "Using cache found in /home/asufian/.cache/torch/hub/pytorch_vision_v0.10.0\n",
      "/home/asufian/.local/share/pipx/venvs/notebook/lib/python3.12/site-packages/torchvision/models/_utils.py:208: UserWarning: The parameter 'pretrained' is deprecated since 0.13 and may be removed in the future, please use 'weights' instead.\n",
      "  warnings.warn(\n",
      "/home/asufian/.local/share/pipx/venvs/notebook/lib/python3.12/site-packages/torchvision/models/_utils.py:223: UserWarning: Arguments other than a weight enum or `None` for 'weights' are deprecated since 0.13 and may be removed in the future. The current behavior is equivalent to passing `weights=None`.\n",
      "  warnings.warn(msg)\n",
      "Using cache found in /home/asufian/.cache/torch/hub/pytorch_vision_v0.10.0\n"
     ]
    },
    {
     "name": "stdout",
     "output_type": "stream",
     "text": [
      "----------------------> 0.5236434108527132\n",
      "Evaluated Accuracy: 0.5236\n",
      "Testing b_a_r = 0.6634, c_a_r = 0.8061, f_a_r = 0.9892\n"
     ]
    },
    {
     "name": "stderr",
     "output_type": "stream",
     "text": [
      "Using cache found in /home/asufian/.cache/torch/hub/pytorch_vision_v0.10.0\n",
      "/home/asufian/.local/share/pipx/venvs/notebook/lib/python3.12/site-packages/torchvision/models/_utils.py:208: UserWarning: The parameter 'pretrained' is deprecated since 0.13 and may be removed in the future, please use 'weights' instead.\n",
      "  warnings.warn(\n",
      "/home/asufian/.local/share/pipx/venvs/notebook/lib/python3.12/site-packages/torchvision/models/_utils.py:223: UserWarning: Arguments other than a weight enum or `None` for 'weights' are deprecated since 0.13 and may be removed in the future. The current behavior is equivalent to passing `weights=None`.\n",
      "  warnings.warn(msg)\n",
      "Using cache found in /home/asufian/.cache/torch/hub/pytorch_vision_v0.10.0\n"
     ]
    },
    {
     "name": "stdout",
     "output_type": "stream",
     "text": [
      "----------------------> 0.19651162790697674\n",
      "Evaluated Accuracy: 0.1965\n",
      "Testing b_a_r = 0.9891, c_a_r = 0.1497, f_a_r = 0.0023\n"
     ]
    },
    {
     "name": "stderr",
     "output_type": "stream",
     "text": [
      "Using cache found in /home/asufian/.cache/torch/hub/pytorch_vision_v0.10.0\n",
      "/home/asufian/.local/share/pipx/venvs/notebook/lib/python3.12/site-packages/torchvision/models/_utils.py:208: UserWarning: The parameter 'pretrained' is deprecated since 0.13 and may be removed in the future, please use 'weights' instead.\n",
      "  warnings.warn(\n",
      "/home/asufian/.local/share/pipx/venvs/notebook/lib/python3.12/site-packages/torchvision/models/_utils.py:223: UserWarning: Arguments other than a weight enum or `None` for 'weights' are deprecated since 0.13 and may be removed in the future. The current behavior is equivalent to passing `weights=None`.\n",
      "  warnings.warn(msg)\n",
      "Using cache found in /home/asufian/.cache/torch/hub/pytorch_vision_v0.10.0\n"
     ]
    },
    {
     "name": "stdout",
     "output_type": "stream",
     "text": [
      "----------------------> 0.5269379844961241\n",
      "Evaluated Accuracy: 0.5269\n",
      "Testing b_a_r = 0.0281, c_a_r = 0.9419, f_a_r = 0.9351\n"
     ]
    },
    {
     "name": "stderr",
     "output_type": "stream",
     "text": [
      "Using cache found in /home/asufian/.cache/torch/hub/pytorch_vision_v0.10.0\n",
      "/home/asufian/.local/share/pipx/venvs/notebook/lib/python3.12/site-packages/torchvision/models/_utils.py:208: UserWarning: The parameter 'pretrained' is deprecated since 0.13 and may be removed in the future, please use 'weights' instead.\n",
      "  warnings.warn(\n",
      "/home/asufian/.local/share/pipx/venvs/notebook/lib/python3.12/site-packages/torchvision/models/_utils.py:223: UserWarning: Arguments other than a weight enum or `None` for 'weights' are deprecated since 0.13 and may be removed in the future. The current behavior is equivalent to passing `weights=None`.\n",
      "  warnings.warn(msg)\n",
      "Using cache found in /home/asufian/.cache/torch/hub/pytorch_vision_v0.10.0\n"
     ]
    },
    {
     "name": "stdout",
     "output_type": "stream",
     "text": [
      "----------------------> 0.18275193798449607\n",
      "Evaluated Accuracy: 0.1828\n",
      "Testing b_a_r = 0.9884, c_a_r = 0.0749, f_a_r = 0.8646\n"
     ]
    },
    {
     "name": "stderr",
     "output_type": "stream",
     "text": [
      "Using cache found in /home/asufian/.cache/torch/hub/pytorch_vision_v0.10.0\n",
      "/home/asufian/.local/share/pipx/venvs/notebook/lib/python3.12/site-packages/torchvision/models/_utils.py:208: UserWarning: The parameter 'pretrained' is deprecated since 0.13 and may be removed in the future, please use 'weights' instead.\n",
      "  warnings.warn(\n",
      "/home/asufian/.local/share/pipx/venvs/notebook/lib/python3.12/site-packages/torchvision/models/_utils.py:223: UserWarning: Arguments other than a weight enum or `None` for 'weights' are deprecated since 0.13 and may be removed in the future. The current behavior is equivalent to passing `weights=None`.\n",
      "  warnings.warn(msg)\n",
      "Using cache found in /home/asufian/.cache/torch/hub/pytorch_vision_v0.10.0\n"
     ]
    },
    {
     "name": "stdout",
     "output_type": "stream",
     "text": [
      "----------------------> 0.5291343669250647\n",
      "Evaluated Accuracy: 0.5291\n",
      "Testing b_a_r = 0.0113, c_a_r = 0.1791, f_a_r = 0.8566\n"
     ]
    },
    {
     "name": "stderr",
     "output_type": "stream",
     "text": [
      "Using cache found in /home/asufian/.cache/torch/hub/pytorch_vision_v0.10.0\n",
      "/home/asufian/.local/share/pipx/venvs/notebook/lib/python3.12/site-packages/torchvision/models/_utils.py:208: UserWarning: The parameter 'pretrained' is deprecated since 0.13 and may be removed in the future, please use 'weights' instead.\n",
      "  warnings.warn(\n",
      "/home/asufian/.local/share/pipx/venvs/notebook/lib/python3.12/site-packages/torchvision/models/_utils.py:223: UserWarning: Arguments other than a weight enum or `None` for 'weights' are deprecated since 0.13 and may be removed in the future. The current behavior is equivalent to passing `weights=None`.\n",
      "  warnings.warn(msg)\n",
      "Using cache found in /home/asufian/.cache/torch/hub/pytorch_vision_v0.10.0\n"
     ]
    },
    {
     "name": "stdout",
     "output_type": "stream",
     "text": [
      "----------------------> 0.5041989664082688\n",
      "Evaluated Accuracy: 0.5042\n",
      "Testing b_a_r = 0.9996, c_a_r = 0.6686, f_a_r = 0.9853\n"
     ]
    },
    {
     "name": "stderr",
     "output_type": "stream",
     "text": [
      "Using cache found in /home/asufian/.cache/torch/hub/pytorch_vision_v0.10.0\n",
      "/home/asufian/.local/share/pipx/venvs/notebook/lib/python3.12/site-packages/torchvision/models/_utils.py:208: UserWarning: The parameter 'pretrained' is deprecated since 0.13 and may be removed in the future, please use 'weights' instead.\n",
      "  warnings.warn(\n",
      "/home/asufian/.local/share/pipx/venvs/notebook/lib/python3.12/site-packages/torchvision/models/_utils.py:223: UserWarning: Arguments other than a weight enum or `None` for 'weights' are deprecated since 0.13 and may be removed in the future. The current behavior is equivalent to passing `weights=None`.\n",
      "  warnings.warn(msg)\n",
      "Using cache found in /home/asufian/.cache/torch/hub/pytorch_vision_v0.10.0\n"
     ]
    },
    {
     "name": "stdout",
     "output_type": "stream",
     "text": [
      "----------------------> 0.1806201550387597\n",
      "Evaluated Accuracy: 0.1806\n",
      "Testing b_a_r = 0.0043, c_a_r = 0.0494, f_a_r = 0.9724\n"
     ]
    },
    {
     "name": "stderr",
     "output_type": "stream",
     "text": [
      "Using cache found in /home/asufian/.cache/torch/hub/pytorch_vision_v0.10.0\n",
      "/home/asufian/.local/share/pipx/venvs/notebook/lib/python3.12/site-packages/torchvision/models/_utils.py:208: UserWarning: The parameter 'pretrained' is deprecated since 0.13 and may be removed in the future, please use 'weights' instead.\n",
      "  warnings.warn(\n",
      "/home/asufian/.local/share/pipx/venvs/notebook/lib/python3.12/site-packages/torchvision/models/_utils.py:223: UserWarning: Arguments other than a weight enum or `None` for 'weights' are deprecated since 0.13 and may be removed in the future. The current behavior is equivalent to passing `weights=None`.\n",
      "  warnings.warn(msg)\n",
      "Using cache found in /home/asufian/.cache/torch/hub/pytorch_vision_v0.10.0\n"
     ]
    },
    {
     "name": "stdout",
     "output_type": "stream",
     "text": [
      "----------------------> 0.5299741602067184\n",
      "Evaluated Accuracy: 0.5300\n",
      "Testing b_a_r = 0.0225, c_a_r = 0.3872, f_a_r = 0.9089\n"
     ]
    },
    {
     "name": "stderr",
     "output_type": "stream",
     "text": [
      "Using cache found in /home/asufian/.cache/torch/hub/pytorch_vision_v0.10.0\n",
      "/home/asufian/.local/share/pipx/venvs/notebook/lib/python3.12/site-packages/torchvision/models/_utils.py:208: UserWarning: The parameter 'pretrained' is deprecated since 0.13 and may be removed in the future, please use 'weights' instead.\n",
      "  warnings.warn(\n",
      "/home/asufian/.local/share/pipx/venvs/notebook/lib/python3.12/site-packages/torchvision/models/_utils.py:223: UserWarning: Arguments other than a weight enum or `None` for 'weights' are deprecated since 0.13 and may be removed in the future. The current behavior is equivalent to passing `weights=None`.\n",
      "  warnings.warn(msg)\n",
      "Using cache found in /home/asufian/.cache/torch/hub/pytorch_vision_v0.10.0\n"
     ]
    },
    {
     "name": "stdout",
     "output_type": "stream",
     "text": [
      "----------------------> 0.27332041343669256\n",
      "Evaluated Accuracy: 0.2733\n",
      "Testing b_a_r = 0.9875, c_a_r = 0.0177, f_a_r = 0.0694\n"
     ]
    },
    {
     "name": "stderr",
     "output_type": "stream",
     "text": [
      "Using cache found in /home/asufian/.cache/torch/hub/pytorch_vision_v0.10.0\n",
      "/home/asufian/.local/share/pipx/venvs/notebook/lib/python3.12/site-packages/torchvision/models/_utils.py:208: UserWarning: The parameter 'pretrained' is deprecated since 0.13 and may be removed in the future, please use 'weights' instead.\n",
      "  warnings.warn(\n",
      "/home/asufian/.local/share/pipx/venvs/notebook/lib/python3.12/site-packages/torchvision/models/_utils.py:223: UserWarning: Arguments other than a weight enum or `None` for 'weights' are deprecated since 0.13 and may be removed in the future. The current behavior is equivalent to passing `weights=None`.\n",
      "  warnings.warn(msg)\n",
      "Using cache found in /home/asufian/.cache/torch/hub/pytorch_vision_v0.10.0\n"
     ]
    },
    {
     "name": "stdout",
     "output_type": "stream",
     "text": [
      "----------------------> 0.5224160206718345\n",
      "Evaluated Accuracy: 0.5224\n",
      "Testing b_a_r = 0.9754, c_a_r = 0.2821, f_a_r = 0.9807\n"
     ]
    },
    {
     "name": "stderr",
     "output_type": "stream",
     "text": [
      "Using cache found in /home/asufian/.cache/torch/hub/pytorch_vision_v0.10.0\n",
      "/home/asufian/.local/share/pipx/venvs/notebook/lib/python3.12/site-packages/torchvision/models/_utils.py:208: UserWarning: The parameter 'pretrained' is deprecated since 0.13 and may be removed in the future, please use 'weights' instead.\n",
      "  warnings.warn(\n",
      "/home/asufian/.local/share/pipx/venvs/notebook/lib/python3.12/site-packages/torchvision/models/_utils.py:223: UserWarning: Arguments other than a weight enum or `None` for 'weights' are deprecated since 0.13 and may be removed in the future. The current behavior is equivalent to passing `weights=None`.\n",
      "  warnings.warn(msg)\n",
      "Using cache found in /home/asufian/.cache/torch/hub/pytorch_vision_v0.10.0\n"
     ]
    },
    {
     "name": "stdout",
     "output_type": "stream",
     "text": [
      "----------------------> 0.32506459948320415\n",
      "Evaluated Accuracy: 0.3251\n",
      "Testing b_a_r = 0.0034, c_a_r = 0.0609, f_a_r = 0.0108\n"
     ]
    },
    {
     "name": "stderr",
     "output_type": "stream",
     "text": [
      "Using cache found in /home/asufian/.cache/torch/hub/pytorch_vision_v0.10.0\n",
      "/home/asufian/.local/share/pipx/venvs/notebook/lib/python3.12/site-packages/torchvision/models/_utils.py:208: UserWarning: The parameter 'pretrained' is deprecated since 0.13 and may be removed in the future, please use 'weights' instead.\n",
      "  warnings.warn(\n",
      "/home/asufian/.local/share/pipx/venvs/notebook/lib/python3.12/site-packages/torchvision/models/_utils.py:223: UserWarning: Arguments other than a weight enum or `None` for 'weights' are deprecated since 0.13 and may be removed in the future. The current behavior is equivalent to passing `weights=None`.\n",
      "  warnings.warn(msg)\n",
      "Using cache found in /home/asufian/.cache/torch/hub/pytorch_vision_v0.10.0\n"
     ]
    },
    {
     "name": "stdout",
     "output_type": "stream",
     "text": [
      "----------------------> 0.530813953488372\n",
      "Evaluated Accuracy: 0.5308\n",
      "Testing b_a_r = 0.0468, c_a_r = 0.1489, f_a_r = 0.9825\n"
     ]
    },
    {
     "name": "stderr",
     "output_type": "stream",
     "text": [
      "Using cache found in /home/asufian/.cache/torch/hub/pytorch_vision_v0.10.0\n",
      "/home/asufian/.local/share/pipx/venvs/notebook/lib/python3.12/site-packages/torchvision/models/_utils.py:208: UserWarning: The parameter 'pretrained' is deprecated since 0.13 and may be removed in the future, please use 'weights' instead.\n",
      "  warnings.warn(\n",
      "/home/asufian/.local/share/pipx/venvs/notebook/lib/python3.12/site-packages/torchvision/models/_utils.py:223: UserWarning: Arguments other than a weight enum or `None` for 'weights' are deprecated since 0.13 and may be removed in the future. The current behavior is equivalent to passing `weights=None`.\n",
      "  warnings.warn(msg)\n",
      "Using cache found in /home/asufian/.cache/torch/hub/pytorch_vision_v0.10.0\n"
     ]
    },
    {
     "name": "stdout",
     "output_type": "stream",
     "text": [
      "----------------------> 0.5308139534883721\n",
      "Evaluated Accuracy: 0.5308\n",
      "Testing b_a_r = 0.0022, c_a_r = 0.1291, f_a_r = 0.0298\n"
     ]
    },
    {
     "name": "stderr",
     "output_type": "stream",
     "text": [
      "Using cache found in /home/asufian/.cache/torch/hub/pytorch_vision_v0.10.0\n",
      "/home/asufian/.local/share/pipx/venvs/notebook/lib/python3.12/site-packages/torchvision/models/_utils.py:208: UserWarning: The parameter 'pretrained' is deprecated since 0.13 and may be removed in the future, please use 'weights' instead.\n",
      "  warnings.warn(\n",
      "/home/asufian/.local/share/pipx/venvs/notebook/lib/python3.12/site-packages/torchvision/models/_utils.py:223: UserWarning: Arguments other than a weight enum or `None` for 'weights' are deprecated since 0.13 and may be removed in the future. The current behavior is equivalent to passing `weights=None`.\n",
      "  warnings.warn(msg)\n",
      "Using cache found in /home/asufian/.cache/torch/hub/pytorch_vision_v0.10.0\n"
     ]
    },
    {
     "name": "stdout",
     "output_type": "stream",
     "text": [
      "----------------------> 0.5423126614987079\n",
      "Evaluated Accuracy: 0.5423\n",
      "Testing b_a_r = 0.9892, c_a_r = 0.2146, f_a_r = 0.8073\n"
     ]
    },
    {
     "name": "stderr",
     "output_type": "stream",
     "text": [
      "Using cache found in /home/asufian/.cache/torch/hub/pytorch_vision_v0.10.0\n",
      "/home/asufian/.local/share/pipx/venvs/notebook/lib/python3.12/site-packages/torchvision/models/_utils.py:208: UserWarning: The parameter 'pretrained' is deprecated since 0.13 and may be removed in the future, please use 'weights' instead.\n",
      "  warnings.warn(\n",
      "/home/asufian/.local/share/pipx/venvs/notebook/lib/python3.12/site-packages/torchvision/models/_utils.py:223: UserWarning: Arguments other than a weight enum or `None` for 'weights' are deprecated since 0.13 and may be removed in the future. The current behavior is equivalent to passing `weights=None`.\n",
      "  warnings.warn(msg)\n",
      "Using cache found in /home/asufian/.cache/torch/hub/pytorch_vision_v0.10.0\n"
     ]
    },
    {
     "name": "stdout",
     "output_type": "stream",
     "text": [
      "----------------------> 0.44211886304909565\n",
      "Evaluated Accuracy: 0.4421\n",
      "Testing b_a_r = 0.9920, c_a_r = 0.1072, f_a_r = 0.0891\n"
     ]
    },
    {
     "name": "stderr",
     "output_type": "stream",
     "text": [
      "Using cache found in /home/asufian/.cache/torch/hub/pytorch_vision_v0.10.0\n",
      "/home/asufian/.local/share/pipx/venvs/notebook/lib/python3.12/site-packages/torchvision/models/_utils.py:208: UserWarning: The parameter 'pretrained' is deprecated since 0.13 and may be removed in the future, please use 'weights' instead.\n",
      "  warnings.warn(\n",
      "/home/asufian/.local/share/pipx/venvs/notebook/lib/python3.12/site-packages/torchvision/models/_utils.py:223: UserWarning: Arguments other than a weight enum or `None` for 'weights' are deprecated since 0.13 and may be removed in the future. The current behavior is equivalent to passing `weights=None`.\n",
      "  warnings.warn(msg)\n",
      "Using cache found in /home/asufian/.cache/torch/hub/pytorch_vision_v0.10.0\n"
     ]
    },
    {
     "name": "stdout",
     "output_type": "stream",
     "text": [
      "----------------------> 0.5370801033591731\n",
      "Evaluated Accuracy: 0.5371\n",
      "Testing b_a_r = 0.0202, c_a_r = 0.0126, f_a_r = 0.9423\n"
     ]
    },
    {
     "name": "stderr",
     "output_type": "stream",
     "text": [
      "Using cache found in /home/asufian/.cache/torch/hub/pytorch_vision_v0.10.0\n",
      "/home/asufian/.local/share/pipx/venvs/notebook/lib/python3.12/site-packages/torchvision/models/_utils.py:208: UserWarning: The parameter 'pretrained' is deprecated since 0.13 and may be removed in the future, please use 'weights' instead.\n",
      "  warnings.warn(\n",
      "/home/asufian/.local/share/pipx/venvs/notebook/lib/python3.12/site-packages/torchvision/models/_utils.py:223: UserWarning: Arguments other than a weight enum or `None` for 'weights' are deprecated since 0.13 and may be removed in the future. The current behavior is equivalent to passing `weights=None`.\n",
      "  warnings.warn(msg)\n",
      "Using cache found in /home/asufian/.cache/torch/hub/pytorch_vision_v0.10.0\n"
     ]
    },
    {
     "name": "stdout",
     "output_type": "stream",
     "text": [
      "----------------------> 0.5249354005167959\n",
      "Evaluated Accuracy: 0.5249\n",
      "\n",
      "✅ Optimal Values:\n",
      "   - b_a_r: 0.0022\n",
      "   - c_a_r: 0.1291\n",
      "   - f_a_r: 0.0298\n",
      "📈 Highest Accuracy Achieved: 0.5423\n"
     ]
    }
   ],
   "source": [
    "import numpy as np\n",
    "import torch\n",
    "import matplotlib.pyplot as plt\n",
    "from skopt import gp_minimize\n",
    "from skopt.space import Real\n",
    "from skopt.utils import use_named_args\n",
    "from skopt.plots import plot_convergence\n",
    "\n",
    "# Device setup\n",
    "device = torch.device(\"cuda\" if torch.cuda.is_available() else \"cpu\")\n",
    "\n",
    "\n",
    "# Define the search space for b_a_r, c_a_r, and f_a_r\n",
    "search_space = [\n",
    "    Real(0.0, 1.0, name=\"b_a_r\"),\n",
    "    Real(0.0, 1.0, name=\"c_a_r\"),\n",
    "    Real(0.0, 1.0, name=\"f_a_r\")\n",
    "]\n",
    "\n",
    "# Define the objective function for Bayesian Optimization\n",
    "@use_named_args(search_space)\n",
    "def objective(b_a_r, c_a_r, f_a_r):\n",
    "    \"\"\"\n",
    "    Objective function to optimize the adaptation ratios.\n",
    "    It applies adaptation, evaluates the model, and returns the negative accuracy.\n",
    "    \"\"\"\n",
    "    accuracy = get_model_accuracy(b_a_r, c_a_r, f_a_r)\n",
    "    print(f\"Evaluated Accuracy: {accuracy:.4f}\")  # Debugging Output\n",
    "    \n",
    "    return -accuracy  # We minimize, so return negative accuracy\n",
    "\n",
    "# Perform Bayesian Optimization with additional settings\n",
    "search_iteration=50\n",
    "res = gp_minimize(\n",
    "    func=objective,\n",
    "    dimensions=search_space,\n",
    "    n_calls=search_iteration,               # Number of evaluations\n",
    "    n_initial_points=5,       # Initial random explorations before GP starts\n",
    "    acq_func=\"EI\",            # Acquisition function: Expected Improvement\n",
    "    random_state=42,          # Ensure reproducibility\n",
    "    n_jobs=-1,                # Parallel execution for faster optimization\n",
    ")\n",
    "\n",
    "# Extract optimal results\n",
    "optimal_b_a_r, optimal_c_a_r, optimal_f_a_r = res.x\n",
    "best_accuracy = -res.fun\n",
    "\n",
    "print(f\"\\n✅ Optimal Values:\")\n",
    "print(f\"   - b_a_r: {optimal_b_a_r:.4f}\")\n",
    "print(f\"   - c_a_r: {optimal_c_a_r:.4f}\")\n",
    "print(f\"   - f_a_r: {optimal_f_a_r:.4f}\")\n",
    "print(f\"📈 Highest Accuracy Achieved: {best_accuracy:.4f}\")\n",
    "\n",
    "\n"
   ]
  },
  {
   "cell_type": "code",
   "execution_count": 118,
   "metadata": {},
   "outputs": [
    {
     "name": "stderr",
     "output_type": "stream",
     "text": [
      "Using cache found in /home/asufian/.cache/torch/hub/pytorch_vision_v0.10.0\n",
      "/home/asufian/.local/share/pipx/venvs/notebook/lib/python3.12/site-packages/torchvision/models/_utils.py:208: UserWarning: The parameter 'pretrained' is deprecated since 0.13 and may be removed in the future, please use 'weights' instead.\n",
      "  warnings.warn(\n",
      "/home/asufian/.local/share/pipx/venvs/notebook/lib/python3.12/site-packages/torchvision/models/_utils.py:223: UserWarning: Arguments other than a weight enum or `None` for 'weights' are deprecated since 0.13 and may be removed in the future. The current behavior is equivalent to passing `weights=None`.\n",
      "  warnings.warn(msg)\n"
     ]
    },
    {
     "name": "stdout",
     "output_type": "stream",
     "text": [
      "---Accu-----pre----rec---------> 0.5237 ± 0.0494  0.5307 ± 0.0552  0.5237 ± 0.0494\n"
     ]
    },
    {
     "name": "stderr",
     "output_type": "stream",
     "text": [
      "Using cache found in /home/asufian/.cache/torch/hub/pytorch_vision_v0.10.0\n",
      "/home/asufian/.local/share/pipx/venvs/notebook/lib/python3.12/site-packages/torchvision/models/_utils.py:208: UserWarning: The parameter 'pretrained' is deprecated since 0.13 and may be removed in the future, please use 'weights' instead.\n",
      "  warnings.warn(\n",
      "/home/asufian/.local/share/pipx/venvs/notebook/lib/python3.12/site-packages/torchvision/models/_utils.py:223: UserWarning: Arguments other than a weight enum or `None` for 'weights' are deprecated since 0.13 and may be removed in the future. The current behavior is equivalent to passing `weights=None`.\n",
      "  warnings.warn(msg)\n"
     ]
    },
    {
     "name": "stdout",
     "output_type": "stream",
     "text": [
      "---Accu-----pre----rec---------> 0.4271 ± 0.0479  0.4360 ± 0.0520  0.4271 ± 0.0479\n",
      "---Accu-----pre----rec---------> 0.5423 ± 0.0490  0.5485 ± 0.0539  0.5423 ± 0.0490\n"
     ]
    }
   ],
   "source": [
    "convolutional_network_with_dropout =  DenseNet169WithDropout(modell='densenet169',pretrained=False,dr=0.0)\n",
    "convolutional_network_with_dropout.fc = nn.Flatten()\n",
    "\n",
    "xyz = convolutional_network_with_dropout\n",
    "M3 = PrototypicalNetworks_dynamic_query(xyz).to(device)\n",
    "M3.load_state_dict(torch.load('model_own_path.pt'))\n",
    "evaluate2('/home/asufian/Desktop/output_mapii/result_densnet/base/12_w_10_s_f', test_loader, M3, criterion)\n",
    "# Load Model M2\n",
    "convolutional_network_with_dropout =  DenseNet169WithDropout(modell='densenet169',pretrained=False,dr=0.0)\n",
    "convolutional_network_with_dropout.fc = nn.Flatten()\n",
    "\n",
    "xyz2 = convolutional_network_with_dropout\n",
    "M2 = PrototypicalNetworks_dynamic_query(xyz2).to(device)\n",
    "M2.load_state_dict(torch.load('model_mu_path.pt'))\n",
    "evaluate2(\"/home/asufian/Desktop/output_mapii/result_densnet/secondary/12_w_10_s_f\", test_loader, M2, criterion)\n",
    "# Update Model M3's weights using a weighted combination of Model M3 and Model M2\n",
    "update_model_weights2(M3, M2, conv_ratio= optimal_c_a_r , fc_ratio=optimal_f_a_r , bias_ratio=optimal_b_a_r)\n",
    "\n",
    "# Assuming you have the evaluate2 function defined\n",
    "# Evaluate the updated model (M3) using evaluate2 function with some arguments\n",
    "evaluate2(\"/home/asufian/Desktop/output_mapii/result_densnet/amul/12_w_10_s_f\", test_loader, M3, criterion)\n"
   ]
  },
  {
   "cell_type": "code",
   "execution_count": null,
   "metadata": {},
   "outputs": [],
   "source": []
  },
  {
   "cell_type": "code",
   "execution_count": null,
   "metadata": {},
   "outputs": [],
   "source": []
  },
  {
   "cell_type": "code",
   "execution_count": null,
   "metadata": {},
   "outputs": [],
   "source": []
  },
  {
   "cell_type": "code",
   "execution_count": null,
   "metadata": {},
   "outputs": [],
   "source": []
  }
 ],
 "metadata": {
  "kernelspec": {
   "display_name": "Python 3",
   "language": "python",
   "name": "python3"
  },
  "language_info": {
   "codemirror_mode": {
    "name": "ipython",
    "version": 3
   },
   "file_extension": ".py",
   "mimetype": "text/x-python",
   "name": "python",
   "nbconvert_exporter": "python",
   "pygments_lexer": "ipython3",
   "version": "3.8.10"
  }
 },
 "nbformat": 4,
 "nbformat_minor": 5
}
