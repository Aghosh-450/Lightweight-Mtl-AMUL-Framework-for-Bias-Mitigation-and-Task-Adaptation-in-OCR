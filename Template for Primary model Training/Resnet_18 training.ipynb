{
  "cells": [
    {
      "cell_type": "code",
      "execution_count": null,
      "metadata": {
        "colab": {
          "base_uri": "https://localhost:8080/"
        },
        "id": "9zr1J5UzqF4g",
        "outputId": "01426099-4f91-4cd5-8a55-c2874a914352"
      },
      "outputs": [
        {
          "output_type": "stream",
          "name": "stdout",
          "text": [
            "Mounted at /content/drive\n"
          ]
        }
      ],
      "source": [
        "from google.colab import drive\n",
        "drive.mount('/content/drive')"
      ]
    },
    {
      "cell_type": "code",
      "execution_count": null,
      "metadata": {
        "colab": {
          "base_uri": "https://localhost:8080/"
        },
        "id": "xf4jZztLqYyi",
        "outputId": "c154a24b-34af-42ac-ccf2-fb2da31217f6"
      },
      "outputs": [
        {
          "output_type": "stream",
          "name": "stdout",
          "text": [
            "Files extracted to: ./\n"
          ]
        }
      ],
      "source": [
        "import zipfile\n",
        "\n",
        "zip_file_path = '/content/drive/MyDrive/Apu__Ashis_Protptype/OMNIGLOT FinalM.zip'\n",
        "extract_dir = './'\n",
        "\n",
        "with zipfile.ZipFile(zip_file_path, 'r') as zip_ref:\n",
        "    # Extract all the contents to the target directory\n",
        "    zip_ref.extractall(extract_dir)\n",
        "\n",
        "print(f\"Files extracted to: {extract_dir}\")\n"
      ]
    },
    {
      "cell_type": "code",
      "execution_count": null,
      "metadata": {
        "colab": {
          "base_uri": "https://localhost:8080/"
        },
        "id": "6VPCGOe7qfXt",
        "outputId": "5a4a90e3-4789-4806-adc6-c50fcbb6e058"
      },
      "outputs": [
        {
          "output_type": "stream",
          "name": "stdout",
          "text": [
            "Collecting easyfsl\n",
            "  Downloading easyfsl-1.5.0-py3-none-any.whl (72 kB)\n",
            "\u001b[?25l     \u001b[90m━━━━━━━━━━━━━━━━━━━━━━━━━━━━━━━━━━━━━━━━\u001b[0m \u001b[32m0.0/72.8 kB\u001b[0m \u001b[31m?\u001b[0m eta \u001b[36m-:--:--\u001b[0m\r\u001b[2K     \u001b[90m━━━━━━━━━━━━━━━━━━━━━━━━━━━━━━━━━━━━━━━━\u001b[0m \u001b[32m72.8/72.8 kB\u001b[0m \u001b[31m3.1 MB/s\u001b[0m eta \u001b[36m0:00:00\u001b[0m\n",
            "\u001b[?25hRequirement already satisfied: matplotlib>=3.0.0 in /usr/local/lib/python3.10/dist-packages (from easyfsl) (3.7.1)\n",
            "Requirement already satisfied: pandas>=1.5.0 in /usr/local/lib/python3.10/dist-packages (from easyfsl) (1.5.3)\n",
            "Requirement already satisfied: torch>=1.5.0 in /usr/local/lib/python3.10/dist-packages (from easyfsl) (2.1.0+cu121)\n",
            "Requirement already satisfied: torchvision>=0.7.0 in /usr/local/lib/python3.10/dist-packages (from easyfsl) (0.16.0+cu121)\n",
            "Requirement already satisfied: tqdm>=4.1.0 in /usr/local/lib/python3.10/dist-packages (from easyfsl) (4.66.2)\n",
            "Requirement already satisfied: contourpy>=1.0.1 in /usr/local/lib/python3.10/dist-packages (from matplotlib>=3.0.0->easyfsl) (1.2.0)\n",
            "Requirement already satisfied: cycler>=0.10 in /usr/local/lib/python3.10/dist-packages (from matplotlib>=3.0.0->easyfsl) (0.12.1)\n",
            "Requirement already satisfied: fonttools>=4.22.0 in /usr/local/lib/python3.10/dist-packages (from matplotlib>=3.0.0->easyfsl) (4.49.0)\n",
            "Requirement already satisfied: kiwisolver>=1.0.1 in /usr/local/lib/python3.10/dist-packages (from matplotlib>=3.0.0->easyfsl) (1.4.5)\n",
            "Requirement already satisfied: numpy>=1.20 in /usr/local/lib/python3.10/dist-packages (from matplotlib>=3.0.0->easyfsl) (1.25.2)\n",
            "Requirement already satisfied: packaging>=20.0 in /usr/local/lib/python3.10/dist-packages (from matplotlib>=3.0.0->easyfsl) (23.2)\n",
            "Requirement already satisfied: pillow>=6.2.0 in /usr/local/lib/python3.10/dist-packages (from matplotlib>=3.0.0->easyfsl) (9.4.0)\n",
            "Requirement already satisfied: pyparsing>=2.3.1 in /usr/local/lib/python3.10/dist-packages (from matplotlib>=3.0.0->easyfsl) (3.1.2)\n",
            "Requirement already satisfied: python-dateutil>=2.7 in /usr/local/lib/python3.10/dist-packages (from matplotlib>=3.0.0->easyfsl) (2.8.2)\n",
            "Requirement already satisfied: pytz>=2020.1 in /usr/local/lib/python3.10/dist-packages (from pandas>=1.5.0->easyfsl) (2023.4)\n",
            "Requirement already satisfied: filelock in /usr/local/lib/python3.10/dist-packages (from torch>=1.5.0->easyfsl) (3.13.1)\n",
            "Requirement already satisfied: typing-extensions in /usr/local/lib/python3.10/dist-packages (from torch>=1.5.0->easyfsl) (4.10.0)\n",
            "Requirement already satisfied: sympy in /usr/local/lib/python3.10/dist-packages (from torch>=1.5.0->easyfsl) (1.12)\n",
            "Requirement already satisfied: networkx in /usr/local/lib/python3.10/dist-packages (from torch>=1.5.0->easyfsl) (3.2.1)\n",
            "Requirement already satisfied: jinja2 in /usr/local/lib/python3.10/dist-packages (from torch>=1.5.0->easyfsl) (3.1.3)\n",
            "Requirement already satisfied: fsspec in /usr/local/lib/python3.10/dist-packages (from torch>=1.5.0->easyfsl) (2023.6.0)\n",
            "Requirement already satisfied: triton==2.1.0 in /usr/local/lib/python3.10/dist-packages (from torch>=1.5.0->easyfsl) (2.1.0)\n",
            "Requirement already satisfied: requests in /usr/local/lib/python3.10/dist-packages (from torchvision>=0.7.0->easyfsl) (2.31.0)\n",
            "Requirement already satisfied: six>=1.5 in /usr/local/lib/python3.10/dist-packages (from python-dateutil>=2.7->matplotlib>=3.0.0->easyfsl) (1.16.0)\n",
            "Requirement already satisfied: MarkupSafe>=2.0 in /usr/local/lib/python3.10/dist-packages (from jinja2->torch>=1.5.0->easyfsl) (2.1.5)\n",
            "Requirement already satisfied: charset-normalizer<4,>=2 in /usr/local/lib/python3.10/dist-packages (from requests->torchvision>=0.7.0->easyfsl) (3.3.2)\n",
            "Requirement already satisfied: idna<4,>=2.5 in /usr/local/lib/python3.10/dist-packages (from requests->torchvision>=0.7.0->easyfsl) (3.6)\n",
            "Requirement already satisfied: urllib3<3,>=1.21.1 in /usr/local/lib/python3.10/dist-packages (from requests->torchvision>=0.7.0->easyfsl) (2.0.7)\n",
            "Requirement already satisfied: certifi>=2017.4.17 in /usr/local/lib/python3.10/dist-packages (from requests->torchvision>=0.7.0->easyfsl) (2024.2.2)\n",
            "Requirement already satisfied: mpmath>=0.19 in /usr/local/lib/python3.10/dist-packages (from sympy->torch>=1.5.0->easyfsl) (1.3.0)\n",
            "Installing collected packages: easyfsl\n",
            "Successfully installed easyfsl-1.5.0\n"
          ]
        }
      ],
      "source": [
        "!pip install easyfsl\n",
        "import torch\n",
        "from torch import nn, optim\n",
        "from torch.utils.data import DataLoader\n",
        "from torchvision import transforms\n",
        "from torchvision.datasets import Omniglot\n",
        "from torchvision.models import resnet18\n",
        "from tqdm import tqdm\n",
        "\n",
        "from easyfsl.samplers import TaskSampler\n",
        "from easyfsl.utils import plot_images, sliding_average\n"
      ]
    },
    {
      "cell_type": "code",
      "execution_count": null,
      "metadata": {
        "id": "F2-AxLj7ql4a"
      },
      "outputs": [],
      "source": [
        "import os\n",
        "import random\n",
        "from collections import defaultdict\n",
        "from PIL import Image, ImageOps\n",
        "import torch\n",
        "from torch.utils.data import Dataset, DataLoader\n",
        "from torchvision import transforms\n",
        "\n",
        "class PrototypicalOmniglotDataset(Dataset):\n",
        "    def __init__(self, root, num_classes=1623, n_shot=5, n_query=10, transform=None):\n",
        "        self.root = root\n",
        "        self.num_classes = num_classes\n",
        "        self.n_shot = n_shot\n",
        "        self.n_query = n_query\n",
        "        self.transform = transform\n",
        "        self.samples_by_label = defaultdict(list)\n",
        "        self.all_imgs = {}\n",
        "        self.classes = []\n",
        "\n",
        "        # Common image file extensions\n",
        "        image_extensions = ['.jpg', '.jpeg', '.png', '.bmp', '.gif', '.tiff', '.webp']\n",
        "\n",
        "        # Organize data into classes and image paths\n",
        "        for alphabet in os.listdir(self.root):\n",
        "            alphabet_path = os.path.join(self.root, alphabet)\n",
        "            if not os.path.isdir(alphabet_path):\n",
        "                continue\n",
        "\n",
        "            for char_class in os.listdir(alphabet_path):\n",
        "                char_class_path = os.path.join(alphabet_path, char_class)\n",
        "\n",
        "                # Skip if the entry is not a directory\n",
        "                if not os.path.isdir(char_class_path):\n",
        "                    continue\n",
        "\n",
        "                all_images = []\n",
        "                for img_name in os.listdir(char_class_path):\n",
        "                    img_path = os.path.join(char_class_path, img_name)\n",
        "\n",
        "                    # Check if it's a file with a recognized image extension\n",
        "                    if os.path.isfile(img_path) and any(img_name.lower().endswith(ext) for ext in image_extensions):\n",
        "                        all_images.append(img_path)\n",
        "\n",
        "                if all_images:\n",
        "                    char_class_name = f\"{alphabet}_{char_class}\"\n",
        "                    self.samples_by_label[char_class_name] = list(range(len(all_images)))\n",
        "                    self.all_imgs[char_class_name] = all_images\n",
        "                    self.classes.append(char_class_name)\n",
        "\n",
        "    def transform_image(self, raw_img):\n",
        "        img = ImageOps.invert(raw_img)\n",
        "        if self.transform is not None:\n",
        "            img = self.transform(img)\n",
        "        return img\n",
        "\n",
        "    def __getitem__(self, index):\n",
        "        selected_classes = random.sample(self.classes, self.num_classes)\n",
        "        class_indices = [self.samples_by_label[each_cls] for each_cls in selected_classes]\n",
        "\n",
        "        support_set = []\n",
        "        query_set = []\n",
        "        label_id = 0\n",
        "        qs=[]\n",
        "        for idx_set in class_indices:\n",
        "            # Creating support set\n",
        "            selected_support = random.sample(idx_set, self.n_shot)\n",
        "            support_images = [self.transform_image(Image.open(self.all_imgs[selected_classes[label_id]][each]).convert('L')) for each in selected_support]\n",
        "\n",
        "            # Creating query set\n",
        "            selected_query = random.sample(idx_set, self.n_query)\n",
        "            query_images = [self.transform_image(Image.open(self.all_imgs[selected_classes[label_id]][each]).convert('L')) for each in selected_query]\n",
        "            support_set.append((support_images, [label_id for _ in range(self.n_shot)]))\n",
        "            # print(\"aaaaaaaaaa\",label_id)\n",
        "            query_set.append((query_images,  [label_id for _ in range(self.n_query)]))\n",
        "\n",
        "            label_id += 1\n",
        "            # qs= [item for item in a for _ in range(self.n_query)]\n",
        "        return support_set, query_set\n",
        "\n",
        "    def __len__(self):\n",
        "        return 10\n",
        "\n",
        "# Set up the transformations\n",
        "transform = transforms.Compose([\n",
        "    transforms.Grayscale(num_output_channels=1),  # Convert to grayscale\n",
        "    transforms.ToTensor(),\n",
        "])\n",
        "\n",
        "# Set up the SiameseOmniglotDataset\n",
        "# Training == evaluation\n",
        "root_path = '/content/OMNIGLOT/Train'\n",
        "num_classes = 5  # Set the desired number of classes per episode\n",
        "n_shot = 5\n",
        "n_query = 10\n",
        "\n",
        "PrototypicalOmniglotDatasetLoader = PrototypicalOmniglotDataset(root=root_path, num_classes=num_classes, n_shot=n_shot, n_query=n_query, transform=transform)\n"
      ]
    },
    {
      "cell_type": "code",
      "execution_count": null,
      "metadata": {
        "colab": {
          "base_uri": "https://localhost:8080/",
          "height": 891
        },
        "id": "VZ4Nt6viqqgq",
        "outputId": "f8179332-e5af-4410-a3dc-d3b85eac6ee1"
      },
      "outputs": [
        {
          "output_type": "display_data",
          "data": {
            "text/plain": [
              "<Figure size 640x480 with 6 Axes>"
            ],
            "image/png": "[encoded data removed]"
          },
          "metadata": {}
        },
        {
          "output_type": "display_data",
          "data": {
            "text/plain": [
              "<Figure size 640x480 with 9 Axes>"
            ],
            "image/png": "[encoded data removed]"
          },
          "metadata": {}
        }
      ],
      "source": [
        "\n",
        "transform = transforms.Compose([\n",
        "    transforms.Resize((28, 28)),\n",
        "    transforms.Grayscale(num_output_channels=3),  # Convert to 3-channel grayscale\n",
        "    transforms.ToTensor(),\n",
        "])\n",
        "\n",
        "\n",
        "# Set up the PrototypicalOmniglotDatasetLoader\n",
        "root_path ='/content/OMNIGLOT/Test'# '/path/to/omniglot_dataset'\n",
        "num_classes = 3\n",
        "n_shot = 2\n",
        "n_query = 3\n",
        "\n",
        "dataset = PrototypicalOmniglotDataset(root=root_path, num_classes=num_classes, n_shot=n_shot, n_query=n_query, transform=transform)\n",
        "dataloader = DataLoader(dataset, batch_size=1, shuffle=False)\n",
        "import matplotlib.pyplot as plt\n",
        "import numpy as np\n",
        "\n",
        "# Assuming you have a PrototypicalNetwork model\n",
        "# model = PrototypicalNetwork(num_classes=num_classes).to(device)\n",
        "\n",
        "# Set the model to evaluation mode\n",
        "# model.eval()\n",
        "\n",
        "# Choose an episode to visualize\n",
        "episode_index = 10  # Change this to the desired episode index\n",
        "\n",
        "# Get support set and query set for the chosen episode\n",
        "support_set, query_set = dataset[episode_index]\n",
        "\n",
        "# Visualize support set\n",
        "for i, (support_images, lbl) in enumerate(support_set):\n",
        "    for j, img in enumerate(support_images):\n",
        "        plt.subplot(len(support_set), len(support_images), i * len(support_images) + j + 1)\n",
        "        plt.imshow(img[0], cmap='gray')  # Assuming the image is grayscale\n",
        "        plt.axis('off')\n",
        "        plt.title(f'Support {i + 1}-{j + 1}{lbl[j]}')\n",
        "\n",
        "plt.suptitle('Support Set')\n",
        "plt.show()\n",
        "\n",
        "# Visualize query set\n",
        "for i, (query_images, ll) in enumerate(query_set):\n",
        "    for j, img in enumerate(query_images):\n",
        "        plt.subplot(len(query_set), len(query_images), i * len(query_images) + j + 1)\n",
        "        plt.imshow(img[0], cmap='gray')  # Assuming the image is grayscale\n",
        "        plt.axis('off')\n",
        "        plt.title(f'Query {i + 1}-{ll[j]}')\n",
        "\n",
        "plt.suptitle('Query Set')\n",
        "plt.show()\n"
      ]
    },
    {
      "cell_type": "code",
      "execution_count": null,
      "metadata": {
        "id": "g4quRhFNqwit"
      },
      "outputs": [],
      "source": [
        "import torch\n",
        "import torch.nn as nn\n",
        "\n",
        "class PrototypicalNetworks3(nn.Module):\n",
        "    def __init__(self, backbone: nn.Module):\n",
        "        super(PrototypicalNetworks3, self).__init__()\n",
        "        self.backbone = backbone\n",
        "\n",
        "    def forward(\n",
        "        self,\n",
        "        support_images,\n",
        "        support_labels,\n",
        "        query_images: torch.Tensor,\n",
        "    ) -> torch.Tensor:\n",
        "        \"\"\"\n",
        "        Predict query labels using labeled support images.\n",
        "        \"\"\"\n",
        "        num_classes=len(list(support_labels))\n",
        "        prototypes = []\n",
        "        for class_label in range(num_classes):\n",
        "            # print(type(support_images[class_label]),torch.cat(support_images[class_label].shape)\n",
        "            support_images_eachclass=(support_images[class_label])\n",
        "            class_features = self.backbone(support_images_eachclass.to(device))  # Select features for the current class\n",
        "            class_prototype = class_features.mean(dim=0)  # Compute the mean along the batch dimension\n",
        "            prototypes.append(class_prototype)\n",
        "        prototypes = torch.stack(prototypes)\n",
        "\n",
        "\n",
        "\n",
        "        query_features = self.backbone(query_images)\n",
        "\n",
        "        # Compute the distance between query features and prototypes\n",
        "        distances = torch.cdist(query_features, prototypes)\n",
        "\n",
        "        return -distances\n"
      ]
    },
    {
      "cell_type": "code",
      "execution_count": null,
      "metadata": {
        "id": "WBnabCxSrt3Q"
      },
      "outputs": [],
      "source": []
    },
    {
      "cell_type": "code",
      "execution_count": null,
      "metadata": {
        "id": "WhzosBX4rwas"
      },
      "outputs": [],
      "source": []
    },
    {
      "cell_type": "code",
      "execution_count": null,
      "metadata": {
        "id": "r84MtrJNr5Jo"
      },
      "outputs": [],
      "source": []
    },
    {
      "cell_type": "code",
      "execution_count": null,
      "metadata": {
        "colab": {
          "base_uri": "https://localhost:8080/"
        },
        "id": "P50umr6HuoQ-",
        "outputId": "810b29cc-6971-425c-dde6-a4739bdacbd3"
      },
      "outputs": [
        {
          "output_type": "stream",
          "name": "stderr",
          "text": [
            "/usr/local/lib/python3.10/dist-packages/torchvision/models/_utils.py:208: UserWarning: The parameter 'pretrained' is deprecated since 0.13 and may be removed in the future, please use 'weights' instead.\n",
            "  warnings.warn(\n",
            "/usr/local/lib/python3.10/dist-packages/torchvision/models/_utils.py:223: UserWarning: Arguments other than a weight enum or `None` for 'weights' are deprecated since 0.13 and may be removed in the future. The current behavior is equivalent to passing `weights=None`.\n",
            "  warnings.warn(msg)\n"
          ]
        }
      ],
      "source": [
        "import torch\n",
        "import torch.nn as nn\n",
        "import torchvision.models as models\n",
        "\n",
        "class ResNet18WithDropout(nn.Module):\n",
        "    def __init__(self, pretrained=False, dr=0.4):\n",
        "        super(ResNet18WithDropout, self).__init__()\n",
        "        self.resnet18 = models.resnet18(pretrained=pretrained)\n",
        "        self.dropout = nn.Dropout(p=dr)\n",
        "\n",
        "        # Modify each residual block to include dropout after each convolutional layer\n",
        "        for name, module in self.resnet18.named_children():\n",
        "            if isinstance(module, nn.Sequential):\n",
        "                for sub_name, sub_module in module.named_children():\n",
        "                    if isinstance(sub_module, nn.Conv2d):\n",
        "                        setattr(module, sub_name, nn.Sequential(sub_module, self.dropout))\n",
        "\n",
        "    def forward(self, x):\n",
        "        return self.resnet18(x)\n",
        "\n",
        "# Instantiate the modified ResNet18 model with dropout\n",
        "convolutional_network_with_dropout = ResNet18WithDropout(pretrained=False, dr=0.4)\n"
      ]
    },
    {
      "cell_type": "code",
      "execution_count": null,
      "metadata": {
        "id": "DUd0nbF9ru2H"
      },
      "outputs": [],
      "source": [
        "def update_lr(optimizer):\n",
        "    for param_group in optimizer.param_groups:\n",
        "        param_group['lr'] /= 2.0\n"
      ]
    },
    {
      "cell_type": "code",
      "execution_count": null,
      "metadata": {
        "id": "V0dtlq8MsR_Z"
      },
      "outputs": [],
      "source": [
        "import torch\n",
        "import torch.nn as nn\n",
        "import torch.optim as optim\n",
        "from torch.utils.data import DataLoader\n",
        "from torchvision import transforms\n",
        "from collections import defaultdict\n",
        "from PIL import Image, ImageOps\n",
        "import os\n",
        "import random\n",
        "\n",
        "\n",
        "transform = transforms.Compose([\n",
        "    transforms.Resize(72),\n",
        "    transforms.RandomResizedCrop(64),  # Randomly crop the image and resize to 224x224\n",
        "    # transforms.RandomHorizontalFlip(),  # Randomly flip the image horizontally\n",
        "    transforms.ColorJitter(brightness=0.4, contrast=0.4, saturation=0.4, hue=0.1),  # Randomly adjust brightness, contrast, saturation, and hue\n",
        "    transforms.RandomAffine(degrees=0, translate=(0, 0), scale=(0.9, 1.1), shear=0),  # Random zoom (scaling)\n",
        "    transforms.Grayscale(num_output_channels=3),\n",
        "    transforms.ToTensor(),  # Convert PIL Image to PyTorch Tensor\n",
        "    transforms.Normalize([0.485, 0.456, 0.406], [0.229, 0.224, 0.225])  # Normalize the image with ImageNet statistics\n",
        "])\n",
        "#background == Training\n",
        "\n",
        "root_path = '/content/OMNIGLOT/Train'\n",
        "num_classes = 5\n",
        "n_shot = 10\n",
        "n_query = 10\n",
        "# generate_random_params_trainloader()\n",
        "print(f\"Generated random values - num_classes: {num_classes}, n_shot: {n_shot}, n_query: {n_query}\")\n",
        "\n",
        "dataset = PrototypicalOmniglotDataset(root=root_path, num_classes=num_classes, n_shot=n_shot, n_query=n_query, transform=transform)\n",
        "\n",
        "device = torch.device(\"cuda\" if torch.cuda.is_available() else \"cpu\")\n",
        "\n",
        "convolutional_network_with_dropout =ResNet18WithDropout(pretrained=False, dr=0.4)\n",
        "\n",
        "convolutional_network_with_dropout.fc = nn.Flatten()\n",
        "model = PrototypicalNetworks3(convolutional_network_with_dropout).to(device)  # Assuming you have PrototypicalNetworks defined\n",
        "\n",
        "total_params = sum(p.numel() for p in model.parameters() if p.requires_grad)\n",
        "print(\"Total parameters:\", total_params)\n",
        "\n",
        "\n",
        "criterion = nn.CrossEntropyLoss()\n",
        "optimizer = optim.Adam(model.parameters(), lr=0.004)\n",
        "episode_losses = []\n",
        "\n",
        "for episode in range(50):\n",
        "\n",
        "    support_set, query_set = dataset[episode]\n",
        "\n",
        "    # Convert data to tensors and move to device\n",
        "    support_set = [(torch.stack(images).to(device), label[0]) for images, label in support_set]\n",
        "    query_set = [(torch.stack(images).to(device), label) for images, label in query_set]\n",
        "\n",
        "    # Forward pass\n",
        "    support_images, support_labels = zip(*support_set)\n",
        "    query_images, query_labels = zip(*query_set)\n",
        "    # print(len(support_images),len(support_labels),type(support_images[0]),support_labels,)\n",
        "\n",
        "    # support_images = torch.cat(support_images)\n",
        "    # support_labels = torch.tensor(support_labels).to(device)\n",
        "    query_images = torch.cat(query_images)\n",
        "    query_labels = torch.tensor(query_labels).to(device)\n",
        "    query_labels = query_labels.view(-1)\n",
        "    tskloss = 0\n",
        "    ta=\"\"\n",
        "    # print(query_labels)\n",
        "    for i in range(40):\n",
        "      model.train()\n",
        "\n",
        "      classification_scores = model(support_images, support_labels, query_images)\n",
        "      # print(classification_scores.shape)\n",
        "\n",
        "\n",
        "      loss = criterion(classification_scores, query_labels)\n",
        "      loss.backward()\n",
        "      optimizer.step()\n",
        "      optimizer.zero_grad()\n",
        "\n",
        "      tskloss+=loss.item()\n",
        "      if(i==0 or i==30):\n",
        "        predicted_labels = torch.argmax(classification_scores, dim=1)\n",
        "        pp=predicted_labels.tolist()\n",
        "        act=query_labels.tolist()\n",
        "        cortt=0\n",
        "        for iii in range(len(pp)):\n",
        "          if pp[iii] == act[iii]:\n",
        "              cortt = cortt + 1\n",
        "        print(\"Traning accuracy: \",cortt/len(pp))\n",
        "        ta=\"Training Accuracy: ,\"+str(cortt/len(pp))\n",
        "      print(\"    --->>>   episode\",episode,\"mini_epoch:\",i,\"  train loss: \",loss.item())\n",
        "\n",
        "# Calculate the total number of matching values\n",
        "# total_matching_values = sum(matching_counts)\n",
        "\n",
        "    episode_losses.append(tskloss)\n",
        "    num_classes = random.choice([5,10,15,20])  # Random number of classes (e.g., between 3 and 10)\n",
        "    n_shot = random.randint(1, 15)       # Random number of support examples per class (e.g., between 5 and 15)\n",
        "    n_query = 20-n_shot\n",
        "    dataset = PrototypicalOmniglotDataset(root=root_path, num_classes=num_classes, n_shot=n_shot, n_query=n_query, transform=transform)\n",
        "    print(f\"Generated  Tasks - num_classes: {num_classes}, n_shot: {n_shot}, n_query: {n_query}\")\n",
        "\n",
        "    if episode%5==0:\n",
        "      torch.save(model.state_dict(), folderr+'/modelrdnet_169____'+str(episode)+'.pth')\n",
        ""
      ]
    },
    {
      "cell_type": "code",
      "execution_count": null,
      "metadata": {
        "id": "MGCCe0GFsaCE"
      },
      "outputs": [],
      "source": []
    }
  ],
  "metadata": {
    "colab": {
      "provenance": [],
      "gpuType": "V100"
    },
    "kernelspec": {
      "display_name": "Python 3",
      "name": "python3"
    },
    "language_info": {
      "name": "python"
    },
    "accelerator": "GPU"
  },
  "nbformat": 4,
  "nbformat_minor": 0
}